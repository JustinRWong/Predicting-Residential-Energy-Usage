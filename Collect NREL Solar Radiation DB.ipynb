{
  "cells": [
    {
      "cell_type": "code",
      "metadata": {
        "cell_id": "00000-2d99bcc3-130e-4406-a3a6-e10183de24a5",
        "deepnote_cell_type": "code"
      },
      "source": "import requests\nimport geopandas as gpd\nfrom urllib.parse import urlencode\nimport numpy as np\nimport pandas as pd\nimport time\nimport json",
      "outputs": [],
      "execution_count": null
    },
    {
      "cell_type": "markdown",
      "source": "## Reading API keys for NREL API calls",
      "metadata": {
        "cell_id": "00001-e23888af-02a6-43da-8389-87e9c6d14efa",
        "deepnote_cell_type": "markdown"
      }
    },
    {
      "cell_type": "code",
      "metadata": {
        "cell_id": "00002-5057e4fe-fc1b-43ca-a527-42b939a3cb8a",
        "deepnote_cell_type": "code"
      },
      "source": "with open('config/secrets.json', 'r') as f:\n    json_txt = json.load(f)\n    secrets_dict = dict(json_txt)\n# NREL_BERK_API_KEY\n# NREL_PERSONAL_API_KEY\nprint(secrets_dict.keys())",
      "outputs": [
        {
          "name": "stdout",
          "output_type": "stream",
          "text": "dict_keys(['NREL_BERK_API_KEY', 'NREL_PERSONAL_API_KEY'])\n"
        }
      ],
      "execution_count": null
    },
    {
      "cell_type": "markdown",
      "source": "# NREL Solar Irradiance Data\n\nAPI: https://nsrdb.nrel.gov/data-sets/api-instructions.html\nGlossary:  https://www.nrel.gov/grid/solar-resource/solar-glossary.html#d",
      "metadata": {
        "cell_id": "00003-7268c2e0-c1c2-4bd8-80e0-3a5259d73dc8",
        "deepnote_cell_type": "markdown"
      }
    },
    {
      "cell_type": "code",
      "metadata": {
        "cell_id": "00004-322b0379-100f-4b31-9811-6f6822a5fc80",
        "deepnote_cell_type": "code"
      },
      "source": "!ls cleaned_data/",
      "outputs": [
        {
          "name": "stdout",
          "output_type": "stream",
          "text": "\u001b[34mall-pge-with-nrel\u001b[m\u001b[m\r\nall-pge-with-nrel.csv\r\nfull-pge-monthly-consumption_2013-2020_with-zipcodes-and-cities.cpg\r\nfull-pge-monthly-consumption_2013-2020_with-zipcodes-and-cities.dbf\r\nfull-pge-monthly-consumption_2013-2020_with-zipcodes-and-cities.prj\r\nfull-pge-monthly-consumption_2013-2020_with-zipcodes-and-cities.shp\r\nfull-pge-monthly-consumption_2013-2020_with-zipcodes-and-cities.shx\r\n\u001b[34mfull-pge-with-nrel\u001b[m\u001b[m\r\nnrel_full.csv\r\nnrel_sample.csv\r\npge-monthly-consumption_2013-2020.csv\r\npge-monthly-elec-by-zip_2013-2020.csv\r\npge-monthly-full-cleaned-by-zip_2013-2020.csv\r\npge-monthly-gas-by-zip_2013-2020.csv\r\n"
        }
      ],
      "execution_count": null
    },
    {
      "cell_type": "code",
      "metadata": {
        "cell_id": "00005-e1203f8b-f67b-4c75-961d-8602dafb61bd",
        "deepnote_cell_type": "code"
      },
      "source": "pge_monthly_cleaned_fn = 'cleaned_data/full-pge-monthly-consumption_2013-2020_with-zipcodes-and-cities.shp'\npge_monthly = gpd.read_file(pge_monthly_cleaned_fn)",
      "outputs": [],
      "execution_count": null
    },
    {
      "cell_type": "code",
      "metadata": {
        "cell_id": "00006-806c58a5-e781-4d96-994f-e25ea629481b",
        "deepnote_cell_type": "code"
      },
      "source": "pge_monthly.head()",
      "outputs": [
        {
          "data": {
            "text/html": "<div>\n<style scoped>\n    .dataframe tbody tr th:only-of-type {\n        vertical-align: middle;\n    }\n\n    .dataframe tbody tr th {\n        vertical-align: top;\n    }\n\n    .dataframe thead th {\n        text-align: right;\n    }\n</style>\n<table border=\"1\" class=\"dataframe\">\n  <thead>\n    <tr style=\"text-align: right;\">\n      <th></th>\n      <th>zip</th>\n      <th>city</th>\n      <th>state</th>\n      <th>latitude</th>\n      <th>longitude</th>\n      <th>timezone</th>\n      <th>dst</th>\n      <th>ZIPCODE</th>\n      <th>DATE</th>\n      <th>MONTH</th>\n      <th>...</th>\n      <th>TOTALCUSTO</th>\n      <th>TOTALKWH</th>\n      <th>AVERAGEKWH</th>\n      <th>TOTALTHERM</th>\n      <th>AVERAGETHE</th>\n      <th>Calculated</th>\n      <th>Calculat_1</th>\n      <th>AVGKWH Dif</th>\n      <th>AVGTHERMS</th>\n      <th>geometry</th>\n    </tr>\n  </thead>\n  <tbody>\n    <tr>\n      <th>0</th>\n      <td>95717</td>\n      <td>Gold Run</td>\n      <td>CA</td>\n      <td>39.177026</td>\n      <td>-120.8451</td>\n      <td>-8</td>\n      <td>1</td>\n      <td>95717</td>\n      <td>2013-01-01</td>\n      <td>1</td>\n      <td>...</td>\n      <td>0</td>\n      <td>0</td>\n      <td>0</td>\n      <td>0</td>\n      <td>0</td>\n      <td>0.00</td>\n      <td>0.0</td>\n      <td>0.00</td>\n      <td>0.0</td>\n      <td>POINT (-120.84510 39.17703)</td>\n    </tr>\n    <tr>\n      <th>1</th>\n      <td>95717</td>\n      <td>Gold Run</td>\n      <td>CA</td>\n      <td>39.177026</td>\n      <td>-120.8451</td>\n      <td>-8</td>\n      <td>1</td>\n      <td>95717</td>\n      <td>2013-02-01</td>\n      <td>2</td>\n      <td>...</td>\n      <td>0</td>\n      <td>0</td>\n      <td>0</td>\n      <td>0</td>\n      <td>0</td>\n      <td>0.00</td>\n      <td>0.0</td>\n      <td>0.00</td>\n      <td>0.0</td>\n      <td>POINT (-120.84510 39.17703)</td>\n    </tr>\n    <tr>\n      <th>2</th>\n      <td>95717</td>\n      <td>Gold Run</td>\n      <td>CA</td>\n      <td>39.177026</td>\n      <td>-120.8451</td>\n      <td>-8</td>\n      <td>1</td>\n      <td>95717</td>\n      <td>2013-03-01</td>\n      <td>3</td>\n      <td>...</td>\n      <td>0</td>\n      <td>0</td>\n      <td>0</td>\n      <td>0</td>\n      <td>0</td>\n      <td>0.00</td>\n      <td>0.0</td>\n      <td>0.00</td>\n      <td>0.0</td>\n      <td>POINT (-120.84510 39.17703)</td>\n    </tr>\n    <tr>\n      <th>3</th>\n      <td>95717</td>\n      <td>Gold Run</td>\n      <td>CA</td>\n      <td>39.177026</td>\n      <td>-120.8451</td>\n      <td>-8</td>\n      <td>1</td>\n      <td>95717</td>\n      <td>2013-04-01</td>\n      <td>4</td>\n      <td>...</td>\n      <td>0</td>\n      <td>0</td>\n      <td>0</td>\n      <td>0</td>\n      <td>0</td>\n      <td>0.00</td>\n      <td>0.0</td>\n      <td>0.00</td>\n      <td>0.0</td>\n      <td>POINT (-120.84510 39.17703)</td>\n    </tr>\n    <tr>\n      <th>4</th>\n      <td>95717</td>\n      <td>Gold Run</td>\n      <td>CA</td>\n      <td>39.177026</td>\n      <td>-120.8451</td>\n      <td>-8</td>\n      <td>1</td>\n      <td>95717</td>\n      <td>2013-05-01</td>\n      <td>5</td>\n      <td>...</td>\n      <td>100</td>\n      <td>47657</td>\n      <td>477</td>\n      <td>0</td>\n      <td>0</td>\n      <td>476.57</td>\n      <td>0.0</td>\n      <td>-0.43</td>\n      <td>0.0</td>\n      <td>POINT (-120.84510 39.17703)</td>\n    </tr>\n  </tbody>\n</table>\n<p>5 rows × 24 columns</p>\n</div>",
            "text/plain": "     zip      city state   latitude  longitude timezone dst  ZIPCODE  \\\n0  95717  Gold Run    CA  39.177026  -120.8451       -8   1    95717   \n1  95717  Gold Run    CA  39.177026  -120.8451       -8   1    95717   \n2  95717  Gold Run    CA  39.177026  -120.8451       -8   1    95717   \n3  95717  Gold Run    CA  39.177026  -120.8451       -8   1    95717   \n4  95717  Gold Run    CA  39.177026  -120.8451       -8   1    95717   \n\n         DATE  MONTH  ...  TOTALCUSTO  TOTALKWH AVERAGEKWH TOTALTHERM  \\\n0  2013-01-01      1  ...           0         0          0          0   \n1  2013-02-01      2  ...           0         0          0          0   \n2  2013-03-01      3  ...           0         0          0          0   \n3  2013-04-01      4  ...           0         0          0          0   \n4  2013-05-01      5  ...         100     47657        477          0   \n\n   AVERAGETHE  Calculated  Calculat_1  AVGKWH Dif  AVGTHERMS  \\\n0           0        0.00         0.0        0.00        0.0   \n1           0        0.00         0.0        0.00        0.0   \n2           0        0.00         0.0        0.00        0.0   \n3           0        0.00         0.0        0.00        0.0   \n4           0      476.57         0.0       -0.43        0.0   \n\n                      geometry  \n0  POINT (-120.84510 39.17703)  \n1  POINT (-120.84510 39.17703)  \n2  POINT (-120.84510 39.17703)  \n3  POINT (-120.84510 39.17703)  \n4  POINT (-120.84510 39.17703)  \n\n[5 rows x 24 columns]"
          },
          "execution_count": 5,
          "metadata": {},
          "output_type": "execute_result"
        }
      ],
      "execution_count": null
    },
    {
      "cell_type": "code",
      "metadata": {
        "cell_id": "00007-e21773cd-2e88-4987-b7ac-83d7fac955e6",
        "deepnote_cell_type": "code"
      },
      "source": "len(pge_monthly['zip'].unique())",
      "outputs": [
        {
          "data": {
            "text/plain": "935"
          },
          "execution_count": 6,
          "metadata": {},
          "output_type": "execute_result"
        }
      ],
      "execution_count": null
    },
    {
      "cell_type": "markdown",
      "source": "## Sample Use case for nrel api\n",
      "metadata": {
        "cell_id": "00008-02b7c7dd-eb74-407f-b599-7dfd380b7d0d",
        "deepnote_cell_type": "markdown"
      }
    },
    {
      "cell_type": "code",
      "metadata": {
        "cell_id": "00009-f16cba79-ae19-4d18-8855-d9672e6c230c",
        "deepnote_cell_type": "code"
      },
      "source": "# Declare all variables as strings. Spaces must be replaced with '+', i.e., change 'John Smith' to 'John+Smith'.\n# Define the lat, long of the location and the year\nlat, lon, year = 33.2164, -97.1292, 2010\n# You must request an NSRDB api key from the link above\napi_key = secrets_dict['NREL_BERK_API_KEY']\n# Set the attributes to extract (e.g., dhi, ghi, etc.), separated by commas.\nattributes = 'ghi,dhi,dni,wind_speed,air_temperature,solar_zenith_angle'\n# Choose year of data\nyear = '2019'\n# Set leap year to true or false. True will return leap day data if present, false will not.\nleap_year = 'false'\n# Set time interval in minutes, i.e., '30' is half hour intervals. Valid intervals are 30 & 60.\ninterval = '30'\n# Specify Coordinated Universal Time (UTC), 'true' will use UTC, 'false' will use the local time zone of the data.\n# NOTE: In order to use the NSRDB data in SAM, you must specify UTC as 'false'. SAM requires the data to be in the\n# local time zone.\nutc = 'false'\n# Your full name, use '+' instead of spaces.\nyour_name = 'Justin Wong'\n# Your reason for using the NSRDB.\nreason_for_use = 'Educational'\n# Your affiliation\nyour_affiliation = 'UC Berkeley'\n# Your email address\nyour_email = 'justinryanwong@berkeley.edu'\n# Please join our mailing list so we can keep you up-to-date on new developments.\nmailing_list = 'true'\n\n# Declare url string\nurl = 'https://developer.nrel.gov/api/solar/nsrdb_psm3_download.csv?wkt=POINT({lon}%20{lat})&names={year}&leap_day={leap}&interval={interval}&utc={utc}&full_name={name}&email={email}&affiliation={affiliation}&mailing_list={mailing_list}&reason={reason}&api_key={api}&attributes={attr}'.format(year=year, lat=lat, lon=lon, leap=leap_year, interval=interval, utc=utc, name=your_name, email=your_email, mailing_list=mailing_list, affiliation=your_affiliation, reason=reason_for_use, api=api_key, attr=attributes)\n# Return just the first 2 lines to get metadata:\ninfo = pd.read_csv(url, nrows=1)\n# See metadata for specified properties, e.g., timezone and elevation\ntimezone, elevation = info['Local Time Zone'], info['Elevation']",
      "outputs": [],
      "execution_count": null
    },
    {
      "cell_type": "code",
      "metadata": {
        "cell_id": "00010-1950c55f-7a24-4e7a-aeb0-eb23f0236e6c",
        "deepnote_cell_type": "code"
      },
      "source": "# Declare all variables as strings. Spaces must be replaced with '+', i.e., change 'John Smith' to 'John+Smith'.\n# Define the lat, long of the location and the year\nlat, lon, year = 37.516687, -122.29026, 2010\n# 37.516687\t-122.29026\n# You must request an NSRDB api key from the link above\napi_key = secrets_dict['NREL_BERK_API_KEY']\n# Set the attributes to extract (e.g., dhi, ghi, etc.), separated by commas.\nattributes = 'ghi,dhi,dni,wind_speed,air_temperature,solar_zenith_angle'\n# Choose year of data\nyear = '2019'\n# Set leap year to true or false. True will return leap day data if present, false will not.\nleap_year = 'false'\n# Set time interval in minutes, i.e., '30' is half hour intervals. Valid intervals are 30 & 60.\ninterval = '30'\n# Specify Coordinated Universal Time (UTC), 'true' will use UTC, 'false' will use the local time zone of the data.\n# NOTE: In order to use the NSRDB data in SAM, you must specify UTC as 'false'. SAM requires the data to be in the\n# local time zone.\nutc = 'false'\n# Your full name, use '+' instead of spaces.\nyour_name = 'Justin Wong'\n# Your reason for using the NSRDB.\nreason_for_use = 'Educational'\n# Your affiliation\nyour_affiliation = 'UC Berkeley'\n# Your email address\nyour_email = 'justinryanwong@berkeley.edu'\n# Please join our mailing list so we can keep you up-to-date on new developments.\nmailing_list = 'true'\n\n# Declare url string\nurl = 'https://developer.nrel.gov/api/solar/nsrdb_psm3_download.csv?wkt=POINT({lon}%20{lat})&names={year}&leap_day={leap}&interval={interval}&utc={utc}&full_name={name}&email={email}&affiliation={affiliation}&mailing_list={mailing_list}&reason={reason}&api_key={api}&attributes={attr}'.format(year=year, lat=lat, lon=lon, leap=leap_year, interval=interval, utc=utc, name=your_name, email=your_email, mailing_list=mailing_list, affiliation=your_affiliation, reason=reason_for_use, api=api_key, attr=attributes)\n# Return just the first 2 lines to get metadata:\ninfo = pd.read_csv(url, nrows=1)\n# See metadata for specified properties, e.g., timezone and elevation\ntimezone, elevation = info['Local Time Zone'], info['Elevation']\n\nsf_data = pd.read_csv(url, skiprows=2)",
      "outputs": [],
      "execution_count": null
    },
    {
      "cell_type": "code",
      "metadata": {
        "cell_id": "00011-47756aac-b290-4b74-b82e-4813c1616a60",
        "deepnote_cell_type": "code"
      },
      "source": "info",
      "outputs": [
        {
          "data": {
            "text/html": "<div>\n<style scoped>\n    .dataframe tbody tr th:only-of-type {\n        vertical-align: middle;\n    }\n\n    .dataframe tbody tr th {\n        vertical-align: top;\n    }\n\n    .dataframe thead th {\n        text-align: right;\n    }\n</style>\n<table border=\"1\" class=\"dataframe\">\n  <thead>\n    <tr style=\"text-align: right;\">\n      <th></th>\n      <th>Source</th>\n      <th>Location ID</th>\n      <th>City</th>\n      <th>State</th>\n      <th>Country</th>\n      <th>Latitude</th>\n      <th>Longitude</th>\n      <th>Time Zone</th>\n      <th>Elevation</th>\n      <th>Local Time Zone</th>\n      <th>...</th>\n      <th>Cloud Type 11</th>\n      <th>Cloud Type 12</th>\n      <th>Fill Flag 0</th>\n      <th>Fill Flag 1</th>\n      <th>Fill Flag 2</th>\n      <th>Fill Flag 3</th>\n      <th>Fill Flag 4</th>\n      <th>Fill Flag 5</th>\n      <th>Surface Albedo Units</th>\n      <th>Version</th>\n    </tr>\n  </thead>\n  <tbody>\n    <tr>\n      <th>0</th>\n      <td>NSRDB</td>\n      <td>119754</td>\n      <td>-</td>\n      <td>-</td>\n      <td>-</td>\n      <td>37.53</td>\n      <td>-122.3</td>\n      <td>-8</td>\n      <td>31</td>\n      <td>-8</td>\n      <td>...</td>\n      <td>Dust</td>\n      <td>Smoke</td>\n      <td>NaN</td>\n      <td>Missing Image</td>\n      <td>Low Irradiance</td>\n      <td>Exceeds Clearsky</td>\n      <td>Missing CLoud Properties</td>\n      <td>Rayleigh Violation</td>\n      <td>NaN</td>\n      <td>3.1.1</td>\n    </tr>\n  </tbody>\n</table>\n<p>1 rows × 46 columns</p>\n</div>",
            "text/plain": "  Source  Location ID City State Country  Latitude  Longitude  Time Zone  \\\n0  NSRDB       119754    -     -       -     37.53     -122.3         -8   \n\n   Elevation  Local Time Zone  ... Cloud Type 11 Cloud Type 12 Fill Flag 0  \\\n0         31               -8  ...          Dust         Smoke         NaN   \n\n     Fill Flag 1     Fill Flag 2       Fill Flag 3               Fill Flag 4  \\\n0  Missing Image  Low Irradiance  Exceeds Clearsky  Missing CLoud Properties   \n\n          Fill Flag 5 Surface Albedo Units Version  \n0  Rayleigh Violation                  NaN   3.1.1  \n\n[1 rows x 46 columns]"
          },
          "execution_count": 347,
          "metadata": {},
          "output_type": "execute_result"
        }
      ],
      "execution_count": null
    },
    {
      "cell_type": "code",
      "metadata": {
        "cell_id": "00012-4c037261-7bb0-4046-932e-0ecea9b4eda3",
        "deepnote_cell_type": "code"
      },
      "source": "sf_data.iloc[8612] ## checking if it's reasonable for sf to be 17.7 degrees C in mid summer at 10 am",
      "outputs": [
        {
          "data": {
            "text/plain": "Year                  2019.00\nMonth                    6.00\nDay                     29.00\nHour                    10.00\nMinute                   0.00\nGHI                    796.00\nDHI                    197.00\nDNI                    705.00\nWind Speed               4.70\nTemperature             17.70\nSolar Zenith Angle      31.75\nName: 8612, dtype: float64"
          },
          "execution_count": 348,
          "metadata": {},
          "output_type": "execute_result"
        }
      ],
      "execution_count": null
    },
    {
      "cell_type": "code",
      "metadata": {
        "cell_id": "00013-b6178768-bc32-4ed7-92c1-d7056c171f5e",
        "deepnote_cell_type": "code"
      },
      "source": "sf_data.groupby(by='Month').agg('mean').reset_index()",
      "outputs": [
        {
          "data": {
            "text/html": "<div>\n<style scoped>\n    .dataframe tbody tr th:only-of-type {\n        vertical-align: middle;\n    }\n\n    .dataframe tbody tr th {\n        vertical-align: top;\n    }\n\n    .dataframe thead th {\n        text-align: right;\n    }\n</style>\n<table border=\"1\" class=\"dataframe\">\n  <thead>\n    <tr style=\"text-align: right;\">\n      <th></th>\n      <th>Month</th>\n      <th>Year</th>\n      <th>Day</th>\n      <th>Hour</th>\n      <th>Minute</th>\n      <th>GHI</th>\n      <th>DHI</th>\n      <th>DNI</th>\n      <th>Wind Speed</th>\n      <th>Temperature</th>\n      <th>Solar Zenith Angle</th>\n    </tr>\n  </thead>\n  <tbody>\n    <tr>\n      <th>0</th>\n      <td>1</td>\n      <td>2019.0</td>\n      <td>16.0</td>\n      <td>11.5</td>\n      <td>15.0</td>\n      <td>89.897177</td>\n      <td>35.293683</td>\n      <td>136.165995</td>\n      <td>3.639449</td>\n      <td>12.498992</td>\n      <td>105.511613</td>\n    </tr>\n    <tr>\n      <th>1</th>\n      <td>2</td>\n      <td>2019.0</td>\n      <td>14.5</td>\n      <td>11.5</td>\n      <td>15.0</td>\n      <td>113.465030</td>\n      <td>45.420387</td>\n      <td>140.109375</td>\n      <td>5.285565</td>\n      <td>10.586979</td>\n      <td>99.610670</td>\n    </tr>\n    <tr>\n      <th>2</th>\n      <td>3</td>\n      <td>2019.0</td>\n      <td>16.0</td>\n      <td>11.5</td>\n      <td>15.0</td>\n      <td>181.806452</td>\n      <td>62.893145</td>\n      <td>208.875000</td>\n      <td>3.507056</td>\n      <td>12.449866</td>\n      <td>91.220208</td>\n    </tr>\n    <tr>\n      <th>3</th>\n      <td>4</td>\n      <td>2019.0</td>\n      <td>15.5</td>\n      <td>11.5</td>\n      <td>15.0</td>\n      <td>252.890278</td>\n      <td>74.800694</td>\n      <td>268.840278</td>\n      <td>3.434583</td>\n      <td>13.956667</td>\n      <td>82.370493</td>\n    </tr>\n    <tr>\n      <th>4</th>\n      <td>5</td>\n      <td>2019.0</td>\n      <td>16.0</td>\n      <td>11.5</td>\n      <td>15.0</td>\n      <td>270.545027</td>\n      <td>82.442876</td>\n      <td>266.405242</td>\n      <td>3.928293</td>\n      <td>13.713374</td>\n      <td>75.622923</td>\n    </tr>\n    <tr>\n      <th>5</th>\n      <td>6</td>\n      <td>2019.0</td>\n      <td>15.5</td>\n      <td>11.5</td>\n      <td>15.0</td>\n      <td>345.111111</td>\n      <td>66.438889</td>\n      <td>402.542361</td>\n      <td>3.424375</td>\n      <td>16.575972</td>\n      <td>72.617910</td>\n    </tr>\n    <tr>\n      <th>6</th>\n      <td>7</td>\n      <td>2019.0</td>\n      <td>16.0</td>\n      <td>11.5</td>\n      <td>15.0</td>\n      <td>337.567204</td>\n      <td>56.494624</td>\n      <td>411.922043</td>\n      <td>4.040524</td>\n      <td>16.674395</td>\n      <td>74.076116</td>\n    </tr>\n    <tr>\n      <th>7</th>\n      <td>8</td>\n      <td>2019.0</td>\n      <td>16.0</td>\n      <td>11.5</td>\n      <td>15.0</td>\n      <td>306.302419</td>\n      <td>51.508737</td>\n      <td>384.617608</td>\n      <td>3.299664</td>\n      <td>18.539382</td>\n      <td>79.694550</td>\n    </tr>\n    <tr>\n      <th>8</th>\n      <td>9</td>\n      <td>2019.0</td>\n      <td>15.5</td>\n      <td>11.5</td>\n      <td>15.0</td>\n      <td>252.547917</td>\n      <td>45.181250</td>\n      <td>351.600000</td>\n      <td>3.560903</td>\n      <td>18.757778</td>\n      <td>87.925583</td>\n    </tr>\n    <tr>\n      <th>9</th>\n      <td>10</td>\n      <td>2019.0</td>\n      <td>16.0</td>\n      <td>11.5</td>\n      <td>15.0</td>\n      <td>197.836694</td>\n      <td>36.193548</td>\n      <td>323.405242</td>\n      <td>2.814382</td>\n      <td>16.548992</td>\n      <td>96.797103</td>\n    </tr>\n    <tr>\n      <th>10</th>\n      <td>11</td>\n      <td>2019.0</td>\n      <td>15.5</td>\n      <td>11.5</td>\n      <td>15.0</td>\n      <td>123.413194</td>\n      <td>32.836111</td>\n      <td>220.126389</td>\n      <td>2.581597</td>\n      <td>13.837917</td>\n      <td>103.958938</td>\n    </tr>\n    <tr>\n      <th>11</th>\n      <td>12</td>\n      <td>2019.0</td>\n      <td>16.0</td>\n      <td>11.5</td>\n      <td>15.0</td>\n      <td>75.489919</td>\n      <td>34.116263</td>\n      <td>113.743952</td>\n      <td>3.713844</td>\n      <td>12.298656</td>\n      <td>107.247917</td>\n    </tr>\n  </tbody>\n</table>\n</div>",
            "text/plain": "    Month    Year   Day  Hour  Minute         GHI        DHI         DNI  \\\n0       1  2019.0  16.0  11.5    15.0   89.897177  35.293683  136.165995   \n1       2  2019.0  14.5  11.5    15.0  113.465030  45.420387  140.109375   \n2       3  2019.0  16.0  11.5    15.0  181.806452  62.893145  208.875000   \n3       4  2019.0  15.5  11.5    15.0  252.890278  74.800694  268.840278   \n4       5  2019.0  16.0  11.5    15.0  270.545027  82.442876  266.405242   \n5       6  2019.0  15.5  11.5    15.0  345.111111  66.438889  402.542361   \n6       7  2019.0  16.0  11.5    15.0  337.567204  56.494624  411.922043   \n7       8  2019.0  16.0  11.5    15.0  306.302419  51.508737  384.617608   \n8       9  2019.0  15.5  11.5    15.0  252.547917  45.181250  351.600000   \n9      10  2019.0  16.0  11.5    15.0  197.836694  36.193548  323.405242   \n10     11  2019.0  15.5  11.5    15.0  123.413194  32.836111  220.126389   \n11     12  2019.0  16.0  11.5    15.0   75.489919  34.116263  113.743952   \n\n    Wind Speed  Temperature  Solar Zenith Angle  \n0     3.639449    12.498992          105.511613  \n1     5.285565    10.586979           99.610670  \n2     3.507056    12.449866           91.220208  \n3     3.434583    13.956667           82.370493  \n4     3.928293    13.713374           75.622923  \n5     3.424375    16.575972           72.617910  \n6     4.040524    16.674395           74.076116  \n7     3.299664    18.539382           79.694550  \n8     3.560903    18.757778           87.925583  \n9     2.814382    16.548992           96.797103  \n10    2.581597    13.837917          103.958938  \n11    3.713844    12.298656          107.247917  "
          },
          "execution_count": 349,
          "metadata": {},
          "output_type": "execute_result"
        }
      ],
      "execution_count": null
    },
    {
      "cell_type": "code",
      "metadata": {
        "cell_id": "00014-bd2edc74-aaa2-4752-91c3-5cd1c91eafdf",
        "deepnote_cell_type": "code"
      },
      "source": "len(sf_data.groupby(by='Month').agg('mean').reset_index())",
      "outputs": [
        {
          "data": {
            "text/plain": "12"
          },
          "execution_count": 350,
          "metadata": {},
          "output_type": "execute_result"
        }
      ],
      "execution_count": null
    },
    {
      "cell_type": "markdown",
      "source": "### Setting up function to call NREL api",
      "metadata": {
        "cell_id": "00015-661450c8-3eca-43f2-86e9-6f53e6ac5a5f",
        "deepnote_cell_type": "markdown"
      }
    },
    {
      "cell_type": "code",
      "metadata": {
        "cell_id": "00016-d4331189-3497-4ff1-937d-eb123f9550e0",
        "deepnote_cell_type": "code"
      },
      "source": "params_dict = {\n#     lat, lon, year = 33.2164, -97.1292, 2010\n#     year = '2010'\n    \"api_key\": secrets_dict['NREL_BERK_API_KEY'],\n    \"attributes\": 'ghi,dhi,dni,wind_speed,air_temperature,solar_zenith_angle',\n    \"leap_year\": 'false',\n    \"interval\": '60',\n    \"utc\": 'false',\n    \"your_name\": 'Justin Wong',\n    \"reason_for_use\": 'Educational',\n    \"your_affiliation\": 'UC Berkeley',\n    \"your_email\": 'justinryanwong\\@berkeley.edu',\n    \"mailing_list\": 'false'\n}\n\ndef construct_nrel_url(long, lati, year):\n    params_dict = {\n        \"api_key\": secrets_dict['NREL_PERSONAL_API_KEY'],\n        \"attributes\": 'ghi,dhi,dni,wind_speed,air_temperature,solar_zenith_angle',\n        \"leap_year\": 'false',\n        \"interval\": '60',\n        \"utc\": 'false',\n        \"your_name\": 'Justin Wong',\n        \"reason_for_use\": 'Educational',\n        \"your_affiliation\": 'UC Berkeley',\n        \"mailing_list\": 'false'\n    }\n    params_dict['names'] = int(year) ## api only accepts integers\n    params_query_string = urlencode(params_dict)\n    return 'https://developer.nrel.gov/api/solar/nsrdb_psm3_download.csv?' +\"wkt=POINT({lon}%20{lat})\".format(lon=long, lat=lati) + \"&\"+ params_query_string + \"&email=justin.wong26@gmail.com\"#\"&email=justinryanwong@berkeley.edu\"",
      "outputs": [],
      "execution_count": null
    },
    {
      "cell_type": "code",
      "metadata": {
        "cell_id": "00017-01c62170-b110-4f4a-911a-cda48e9ab27e",
        "deepnote_cell_type": "code"
      },
      "source": "sf_lat = 37.7749\nsf_long= -122.4194\nyear = 2019\nconstruct_nrel_url(sf_long, sf_lat, year)",
      "outputs": [
        {
          "data": {
            "text/plain": "'https://developer.nrel.gov/api/solar/nsrdb_psm3_download.csv?wkt=POINT(-122.4194%2037.7749)&api_key=Gq5beHrpNxNpWGy0MsWUPUaEthAAcR6jHiCle9a9&attributes=ghi%2Cdhi%2Cdni%2Cwind_speed%2Cair_temperature%2Csolar_zenith_angle&leap_year=false&interval=60&utc=false&your_name=Justin+Wong&reason_for_use=Educational&your_affiliation=UC+Berkeley&mailing_list=false&names=2019&email=justin.wong26@gmail.com'"
          },
          "execution_count": 352,
          "metadata": {},
          "output_type": "execute_result"
        }
      ],
      "execution_count": null
    },
    {
      "cell_type": "markdown",
      "source": "## Extracting parameters for NREL database queries from the PG&E dataset\n\nUsing the NREL dataset requires a (longitude, latitude) pair and a year. NREL gives back 30 or 60 minute intervals for the entire year(i.e. every 30 minutes for every day of the year) with attributes that you specify",
      "metadata": {
        "cell_id": "00018-cc117406-8de8-42e2-b455-c9e6ce054412",
        "deepnote_cell_type": "markdown"
      }
    },
    {
      "cell_type": "code",
      "metadata": {
        "cell_id": "00019-deacb82b-fade-4846-a75c-cc72d87126da",
        "deepnote_cell_type": "code"
      },
      "source": "info.columns",
      "outputs": [
        {
          "data": {
            "text/plain": "Index(['Source', 'Location ID', 'City', 'State', 'Country', 'Latitude',\n       'Longitude', 'Time Zone', 'Elevation', 'Local Time Zone',\n       'Clearsky DHI Units', 'Clearsky DNI Units', 'Clearsky GHI Units',\n       'Dew Point Units', 'DHI Units', 'DNI Units', 'GHI Units',\n       'Solar Zenith Angle Units', 'Temperature Units', 'Pressure Units',\n       'Relative Humidity Units', 'Precipitable Water Units',\n       'Wind Direction Units', 'Wind Speed', 'Cloud Type -15', 'Cloud Type 0',\n       'Cloud Type 1', 'Cloud Type 2', 'Cloud Type 3', 'Cloud Type 4',\n       'Cloud Type 5', 'Cloud Type 6', 'Cloud Type 7', 'Cloud Type 8',\n       'Cloud Type 9', 'Cloud Type 10', 'Cloud Type 11', 'Cloud Type 12',\n       'Fill Flag 0', 'Fill Flag 1', 'Fill Flag 2', 'Fill Flag 3',\n       'Fill Flag 4', 'Fill Flag 5', 'Surface Albedo Units', 'Version'],\n      dtype='object')"
          },
          "execution_count": 353,
          "metadata": {},
          "output_type": "execute_result"
        }
      ],
      "execution_count": null
    },
    {
      "cell_type": "code",
      "metadata": {
        "cell_id": "00020-cd98abf7-6466-4763-82dd-69860eec2310",
        "deepnote_cell_type": "code"
      },
      "source": "nrel_param_columns = ['zip', 'latitude', 'longitude', 'YEAR']\n\nfor c in nrel_param_columns:\n    pge_monthly[c] = pd.to_numeric(pge_monthly[c])\n\nunique_zip_and_year = pge_monthly[nrel_param_columns].groupby(['zip', 'YEAR']).agg('mean').reset_index()",
      "outputs": [],
      "execution_count": null
    },
    {
      "cell_type": "code",
      "metadata": {
        "cell_id": "00021-e887f68e-733f-4a6c-abc1-dcb7142376bf",
        "deepnote_cell_type": "code"
      },
      "source": "zipcode_params_for_nrel = unique_zip_and_year[unique_zip_and_year['YEAR'] != 2020].reset_index(drop=True)\nzipcode_params_for_nrel.head()",
      "outputs": [
        {
          "data": {
            "text/html": "<div>\n<style scoped>\n    .dataframe tbody tr th:only-of-type {\n        vertical-align: middle;\n    }\n\n    .dataframe tbody tr th {\n        vertical-align: top;\n    }\n\n    .dataframe thead th {\n        text-align: right;\n    }\n</style>\n<table border=\"1\" class=\"dataframe\">\n  <thead>\n    <tr style=\"text-align: right;\">\n      <th></th>\n      <th>zip</th>\n      <th>YEAR</th>\n      <th>latitude</th>\n      <th>longitude</th>\n    </tr>\n  </thead>\n  <tbody>\n    <tr>\n      <th>0</th>\n      <td>92304</td>\n      <td>2013</td>\n      <td>34.548138</td>\n      <td>-115.65796</td>\n    </tr>\n    <tr>\n      <th>1</th>\n      <td>92304</td>\n      <td>2014</td>\n      <td>34.548138</td>\n      <td>-115.65796</td>\n    </tr>\n    <tr>\n      <th>2</th>\n      <td>92304</td>\n      <td>2015</td>\n      <td>34.548138</td>\n      <td>-115.65796</td>\n    </tr>\n    <tr>\n      <th>3</th>\n      <td>92304</td>\n      <td>2016</td>\n      <td>34.548138</td>\n      <td>-115.65796</td>\n    </tr>\n    <tr>\n      <th>4</th>\n      <td>92304</td>\n      <td>2017</td>\n      <td>34.548138</td>\n      <td>-115.65796</td>\n    </tr>\n  </tbody>\n</table>\n</div>",
            "text/plain": "     zip  YEAR   latitude  longitude\n0  92304  2013  34.548138 -115.65796\n1  92304  2014  34.548138 -115.65796\n2  92304  2015  34.548138 -115.65796\n3  92304  2016  34.548138 -115.65796\n4  92304  2017  34.548138 -115.65796"
          },
          "execution_count": 8,
          "metadata": {},
          "output_type": "execute_result"
        }
      ],
      "execution_count": null
    },
    {
      "cell_type": "code",
      "metadata": {
        "cell_id": "00022-605f7474-2723-4819-8496-96835a2ad62f",
        "deepnote_cell_type": "code"
      },
      "source": "zipcode_params_for_nrel",
      "outputs": [
        {
          "data": {
            "text/html": "<div>\n<style scoped>\n    .dataframe tbody tr th:only-of-type {\n        vertical-align: middle;\n    }\n\n    .dataframe tbody tr th {\n        vertical-align: top;\n    }\n\n    .dataframe thead th {\n        text-align: right;\n    }\n</style>\n<table border=\"1\" class=\"dataframe\">\n  <thead>\n    <tr style=\"text-align: right;\">\n      <th></th>\n      <th>zip</th>\n      <th>YEAR</th>\n      <th>latitude</th>\n      <th>longitude</th>\n    </tr>\n  </thead>\n  <tbody>\n    <tr>\n      <th>0</th>\n      <td>92304</td>\n      <td>2013</td>\n      <td>34.548138</td>\n      <td>-115.65796</td>\n    </tr>\n    <tr>\n      <th>1</th>\n      <td>92304</td>\n      <td>2014</td>\n      <td>34.548138</td>\n      <td>-115.65796</td>\n    </tr>\n    <tr>\n      <th>2</th>\n      <td>92304</td>\n      <td>2015</td>\n      <td>34.548138</td>\n      <td>-115.65796</td>\n    </tr>\n    <tr>\n      <th>3</th>\n      <td>92304</td>\n      <td>2016</td>\n      <td>34.548138</td>\n      <td>-115.65796</td>\n    </tr>\n    <tr>\n      <th>4</th>\n      <td>92304</td>\n      <td>2017</td>\n      <td>34.548138</td>\n      <td>-115.65796</td>\n    </tr>\n    <tr>\n      <th>...</th>\n      <td>...</td>\n      <td>...</td>\n      <td>...</td>\n      <td>...</td>\n    </tr>\n    <tr>\n      <th>6469</th>\n      <td>96161</td>\n      <td>2015</td>\n      <td>39.339574</td>\n      <td>-120.22805</td>\n    </tr>\n    <tr>\n      <th>6470</th>\n      <td>96161</td>\n      <td>2016</td>\n      <td>39.339574</td>\n      <td>-120.22805</td>\n    </tr>\n    <tr>\n      <th>6471</th>\n      <td>96161</td>\n      <td>2017</td>\n      <td>39.339574</td>\n      <td>-120.22805</td>\n    </tr>\n    <tr>\n      <th>6472</th>\n      <td>96161</td>\n      <td>2018</td>\n      <td>39.339574</td>\n      <td>-120.22805</td>\n    </tr>\n    <tr>\n      <th>6473</th>\n      <td>96162</td>\n      <td>2019</td>\n      <td>39.265990</td>\n      <td>-120.64145</td>\n    </tr>\n  </tbody>\n</table>\n<p>6474 rows × 4 columns</p>\n</div>",
            "text/plain": "        zip  YEAR   latitude  longitude\n0     92304  2013  34.548138 -115.65796\n1     92304  2014  34.548138 -115.65796\n2     92304  2015  34.548138 -115.65796\n3     92304  2016  34.548138 -115.65796\n4     92304  2017  34.548138 -115.65796\n...     ...   ...        ...        ...\n6469  96161  2015  39.339574 -120.22805\n6470  96161  2016  39.339574 -120.22805\n6471  96161  2017  39.339574 -120.22805\n6472  96161  2018  39.339574 -120.22805\n6473  96162  2019  39.265990 -120.64145\n\n[6474 rows x 4 columns]"
          },
          "execution_count": 11,
          "metadata": {},
          "output_type": "execute_result"
        }
      ],
      "execution_count": null
    },
    {
      "cell_type": "markdown",
      "source": "## Calling the NREL API for construct a dataframe that aggregates monthly average measurements\n\nThere are 6474 unique zipcodes and year pairs in our PG&E dataset. We want to find the matching NREL solar radiation measurements for each of these 6474 zipcodes-year pairs, so that we can have monthly measurements.\n\nThere are rate limits defined based on their documentation: https://developer.nrel.gov/docs/solar/nsrdb/guide/",
      "metadata": {
        "cell_id": "00023-c59fbf47-8fe7-4d6f-812d-61fe417edcdb",
        "deepnote_cell_type": "markdown"
      }
    },
    {
      "cell_type": "code",
      "metadata": {
        "cell_id": "00024-984661b6-c813-4aa8-8bed-9450e29e0e24",
        "deepnote_cell_type": "code"
      },
      "source": "import urllib",
      "outputs": [],
      "execution_count": null
    },
    {
      "cell_type": "code",
      "metadata": {
        "scrolled": true,
        "cell_id": "00025-6c78f3bc-e7ae-4cb1-94d8-81ca4e33c833",
        "deepnote_cell_type": "code"
      },
      "source": "prog=0\nstart = time.time()\n## The following block should take at least 6473 seconds, or 107 minutes\nwhile prog != 6473:\n    try:\n        for df_index, df_row in zipcode_params_for_nrel[prog:].iterrows():\n            prog = df_index\n            ## pull out contents of the row. \n            ## These columns are the same as the dataframe `zipcode_params_for_nrel` in cells above\n            zipcode = df_row['zip']\n            year = int(df_row['YEAR']) ## api only accepts integers\n            lati = df_row['latitude']\n            long = df_row['longitude']\n\n            ## create nrel api url call\n            print(\"{c} - Searching {z} in {y}: ({long}, {lat})\".format(z=zipcode, y=year, lat=lati, long=long, c=df_index))\n            nrel_url = construct_nrel_url(long, lati, year)\n            print(\"\\t> Getting: \", nrel_url[:100], \"...\")\n\n            ## create a dataframe using nrel api, as shown in https://nsrdb.nrel.gov/data-sets/api-instructions.html\n            ## drop the unnecessary columns. We average each month, so day, hour, and minute are unnecessary\n            unnecessary_cols = [\"Day\",\"Hour\",\"Minute\"]\n            nrel_data = pd.read_csv(nrel_url, skiprows=2).drop(unnecessary_cols, axis=1)\n\n            ## group by month to aggregate\n            nrel_by_month = nrel_data.groupby(by='Month').agg('mean').reset_index()\n\n            ## Create description columns so we can map back the measurements to the pg&e data\n            nrel_by_month['zipcode'] = np.repeat(zipcode, len(nrel_by_month))\n            nrel_by_month['latitude'] = np.repeat(lati, len(nrel_by_month))\n            nrel_by_month['longitude'] = np.repeat(long, len(nrel_by_month))\n            time.sleep(1) ## sleep for 1 second for nrel rate limit\n            if df_index==0:\n                nrel_by_month.to_csv('data/nrel/limited3.csv', mode='w')\n            else:\n                nrel_by_month.to_csv('data/nrel/limited3.csv', mode='a')\n            constructing_df = pd.concat([constructing_df, nrel_by_month])\n\n    except (urllib.error.HTTPError, Exception) as exception:\n        ## catch http errors in case of 404, 429(these were thrown by the NREL api due to rate limits)\n        print(exception)\n        prog = prog\n        continue\nend = time.time()\n\nprint('Completed {n} nrel api calls in {s} seconds'.format(n=len(zipcode_params_for_nrel), s=end-start))",
      "outputs": [
        {
          "name": "stdout",
          "output_type": "stream",
          "text": "3524 - Searching 95248.0 in 2014: (-120.485154, 38.32562600000001)\n\t> Getting:  https://developer.nrel.gov/api/solar/nsrdb_psm3_download.csv?wkt=POINT(-120.485154%2038.325626000000 ...\n3525 - Searching 95248.0 in 2015: (-120.48515399999998, 38.325626)\n\t> Getting:  https://developer.nrel.gov/api/solar/nsrdb_psm3_download.csv?wkt=POINT(-120.48515399999998%2038.3256 ...\n3526 - Searching 95248.0 in 2016: (-120.485154, 38.32562600000001)\n\t> Getting:  https://developer.nrel.gov/api/solar/nsrdb_psm3_download.csv?wkt=POINT(-120.485154%2038.325626000000 ...\n3527 - Searching 95248.0 in 2017: (-120.48515399999998, 38.325626)\n\t> Getting:  https://developer.nrel.gov/api/solar/nsrdb_psm3_download.csv?wkt=POINT(-120.48515399999998%2038.3256 ...\n3528 - Searching 95248.0 in 2018: (-120.48515399999998, 38.325626)\n\t> Getting:  https://developer.nrel.gov/api/solar/nsrdb_psm3_download.csv?wkt=POINT(-120.48515399999998%2038.3256 ...\n3529 - Searching 95248.0 in 2019: (-120.48515399999998, 38.325626)\n\t> Getting:  https://developer.nrel.gov/api/solar/nsrdb_psm3_download.csv?wkt=POINT(-120.48515399999998%2038.3256 ...\n"
        },
        {
          "ename": "KeyboardInterrupt",
          "evalue": "",
          "output_type": "error",
          "traceback": [
            "\u001b[0;31m---------------------------------------------------------------------------\u001b[0m",
            "\u001b[0;31mKeyboardInterrupt\u001b[0m                         Traceback (most recent call last)",
            "\u001b[0;32m<ipython-input-355-7cf46f4b7617>\u001b[0m in \u001b[0;36m<module>\u001b[0;34m\u001b[0m\n\u001b[1;32m     20\u001b[0m             \u001b[0;31m## drop the unnecessary columns. We average each month, so day, hour, and minute are unnecessary\u001b[0m\u001b[0;34m\u001b[0m\u001b[0;34m\u001b[0m\u001b[0;34m\u001b[0m\u001b[0m\n\u001b[1;32m     21\u001b[0m             \u001b[0munnecessary_cols\u001b[0m \u001b[0;34m=\u001b[0m \u001b[0;34m[\u001b[0m\u001b[0;34m\"Day\"\u001b[0m\u001b[0;34m,\u001b[0m\u001b[0;34m\"Hour\"\u001b[0m\u001b[0;34m,\u001b[0m\u001b[0;34m\"Minute\"\u001b[0m\u001b[0;34m]\u001b[0m\u001b[0;34m\u001b[0m\u001b[0;34m\u001b[0m\u001b[0m\n\u001b[0;32m---> 22\u001b[0;31m             \u001b[0mnrel_data\u001b[0m \u001b[0;34m=\u001b[0m \u001b[0mpd\u001b[0m\u001b[0;34m.\u001b[0m\u001b[0mread_csv\u001b[0m\u001b[0;34m(\u001b[0m\u001b[0mnrel_url\u001b[0m\u001b[0;34m,\u001b[0m \u001b[0mskiprows\u001b[0m\u001b[0;34m=\u001b[0m\u001b[0;36m2\u001b[0m\u001b[0;34m)\u001b[0m\u001b[0;34m.\u001b[0m\u001b[0mdrop\u001b[0m\u001b[0;34m(\u001b[0m\u001b[0munnecessary_cols\u001b[0m\u001b[0;34m,\u001b[0m \u001b[0maxis\u001b[0m\u001b[0;34m=\u001b[0m\u001b[0;36m1\u001b[0m\u001b[0;34m)\u001b[0m\u001b[0;34m\u001b[0m\u001b[0;34m\u001b[0m\u001b[0m\n\u001b[0m\u001b[1;32m     23\u001b[0m \u001b[0;34m\u001b[0m\u001b[0m\n\u001b[1;32m     24\u001b[0m             \u001b[0;31m## group by month to aggregate\u001b[0m\u001b[0;34m\u001b[0m\u001b[0;34m\u001b[0m\u001b[0;34m\u001b[0m\u001b[0m\n",
            "\u001b[0;32m/Library/Python/anaconda3/lib/python3.7/site-packages/pandas/io/parsers.py\u001b[0m in \u001b[0;36mread_csv\u001b[0;34m(filepath_or_buffer, sep, delimiter, header, names, index_col, usecols, squeeze, prefix, mangle_dupe_cols, dtype, engine, converters, true_values, false_values, skipinitialspace, skiprows, skipfooter, nrows, na_values, keep_default_na, na_filter, verbose, skip_blank_lines, parse_dates, infer_datetime_format, keep_date_col, date_parser, dayfirst, cache_dates, iterator, chunksize, compression, thousands, decimal, lineterminator, quotechar, quoting, doublequote, escapechar, comment, encoding, dialect, error_bad_lines, warn_bad_lines, delim_whitespace, low_memory, memory_map, float_precision)\u001b[0m\n\u001b[1;32m    686\u001b[0m     )\n\u001b[1;32m    687\u001b[0m \u001b[0;34m\u001b[0m\u001b[0m\n\u001b[0;32m--> 688\u001b[0;31m     \u001b[0;32mreturn\u001b[0m \u001b[0m_read\u001b[0m\u001b[0;34m(\u001b[0m\u001b[0mfilepath_or_buffer\u001b[0m\u001b[0;34m,\u001b[0m \u001b[0mkwds\u001b[0m\u001b[0;34m)\u001b[0m\u001b[0;34m\u001b[0m\u001b[0;34m\u001b[0m\u001b[0m\n\u001b[0m\u001b[1;32m    689\u001b[0m \u001b[0;34m\u001b[0m\u001b[0m\n\u001b[1;32m    690\u001b[0m \u001b[0;34m\u001b[0m\u001b[0m\n",
            "\u001b[0;32m/Library/Python/anaconda3/lib/python3.7/site-packages/pandas/io/parsers.py\u001b[0m in \u001b[0;36m_read\u001b[0;34m(filepath_or_buffer, kwds)\u001b[0m\n\u001b[1;32m    435\u001b[0m     \u001b[0;31m# See https://github.com/python/mypy/issues/1297\u001b[0m\u001b[0;34m\u001b[0m\u001b[0;34m\u001b[0m\u001b[0;34m\u001b[0m\u001b[0m\n\u001b[1;32m    436\u001b[0m     fp_or_buf, _, compression, should_close = get_filepath_or_buffer(\n\u001b[0;32m--> 437\u001b[0;31m         \u001b[0mfilepath_or_buffer\u001b[0m\u001b[0;34m,\u001b[0m \u001b[0mencoding\u001b[0m\u001b[0;34m,\u001b[0m \u001b[0mcompression\u001b[0m\u001b[0;34m\u001b[0m\u001b[0;34m\u001b[0m\u001b[0m\n\u001b[0m\u001b[1;32m    438\u001b[0m     )\n\u001b[1;32m    439\u001b[0m     \u001b[0mkwds\u001b[0m\u001b[0;34m[\u001b[0m\u001b[0;34m\"compression\"\u001b[0m\u001b[0;34m]\u001b[0m \u001b[0;34m=\u001b[0m \u001b[0mcompression\u001b[0m\u001b[0;34m\u001b[0m\u001b[0;34m\u001b[0m\u001b[0m\n",
            "\u001b[0;32m/Library/Python/anaconda3/lib/python3.7/site-packages/pandas/io/common.py\u001b[0m in \u001b[0;36mget_filepath_or_buffer\u001b[0;34m(filepath_or_buffer, encoding, compression, mode, storage_options)\u001b[0m\n\u001b[1;32m    181\u001b[0m     \u001b[0;32mif\u001b[0m \u001b[0misinstance\u001b[0m\u001b[0;34m(\u001b[0m\u001b[0mfilepath_or_buffer\u001b[0m\u001b[0;34m,\u001b[0m \u001b[0mstr\u001b[0m\u001b[0;34m)\u001b[0m \u001b[0;32mand\u001b[0m \u001b[0mis_url\u001b[0m\u001b[0;34m(\u001b[0m\u001b[0mfilepath_or_buffer\u001b[0m\u001b[0;34m)\u001b[0m\u001b[0;34m:\u001b[0m\u001b[0;34m\u001b[0m\u001b[0;34m\u001b[0m\u001b[0m\n\u001b[1;32m    182\u001b[0m         \u001b[0;31m# TODO: fsspec can also handle HTTP via requests, but leaving this unchanged\u001b[0m\u001b[0;34m\u001b[0m\u001b[0;34m\u001b[0m\u001b[0;34m\u001b[0m\u001b[0m\n\u001b[0;32m--> 183\u001b[0;31m         \u001b[0mreq\u001b[0m \u001b[0;34m=\u001b[0m \u001b[0murlopen\u001b[0m\u001b[0;34m(\u001b[0m\u001b[0mfilepath_or_buffer\u001b[0m\u001b[0;34m)\u001b[0m\u001b[0;34m\u001b[0m\u001b[0;34m\u001b[0m\u001b[0m\n\u001b[0m\u001b[1;32m    184\u001b[0m         \u001b[0mcontent_encoding\u001b[0m \u001b[0;34m=\u001b[0m \u001b[0mreq\u001b[0m\u001b[0;34m.\u001b[0m\u001b[0mheaders\u001b[0m\u001b[0;34m.\u001b[0m\u001b[0mget\u001b[0m\u001b[0;34m(\u001b[0m\u001b[0;34m\"Content-Encoding\"\u001b[0m\u001b[0;34m,\u001b[0m \u001b[0;32mNone\u001b[0m\u001b[0;34m)\u001b[0m\u001b[0;34m\u001b[0m\u001b[0;34m\u001b[0m\u001b[0m\n\u001b[1;32m    185\u001b[0m         \u001b[0;32mif\u001b[0m \u001b[0mcontent_encoding\u001b[0m \u001b[0;34m==\u001b[0m \u001b[0;34m\"gzip\"\u001b[0m\u001b[0;34m:\u001b[0m\u001b[0;34m\u001b[0m\u001b[0;34m\u001b[0m\u001b[0m\n",
            "\u001b[0;32m/Library/Python/anaconda3/lib/python3.7/site-packages/pandas/io/common.py\u001b[0m in \u001b[0;36murlopen\u001b[0;34m(*args, **kwargs)\u001b[0m\n\u001b[1;32m    135\u001b[0m     \u001b[0;32mimport\u001b[0m \u001b[0murllib\u001b[0m\u001b[0;34m.\u001b[0m\u001b[0mrequest\u001b[0m\u001b[0;34m\u001b[0m\u001b[0;34m\u001b[0m\u001b[0m\n\u001b[1;32m    136\u001b[0m \u001b[0;34m\u001b[0m\u001b[0m\n\u001b[0;32m--> 137\u001b[0;31m     \u001b[0;32mreturn\u001b[0m \u001b[0murllib\u001b[0m\u001b[0;34m.\u001b[0m\u001b[0mrequest\u001b[0m\u001b[0;34m.\u001b[0m\u001b[0murlopen\u001b[0m\u001b[0;34m(\u001b[0m\u001b[0;34m*\u001b[0m\u001b[0margs\u001b[0m\u001b[0;34m,\u001b[0m \u001b[0;34m**\u001b[0m\u001b[0mkwargs\u001b[0m\u001b[0;34m)\u001b[0m\u001b[0;34m\u001b[0m\u001b[0;34m\u001b[0m\u001b[0m\n\u001b[0m\u001b[1;32m    138\u001b[0m \u001b[0;34m\u001b[0m\u001b[0m\n\u001b[1;32m    139\u001b[0m \u001b[0;34m\u001b[0m\u001b[0m\n",
            "\u001b[0;32m/Library/Python/anaconda3/lib/python3.7/urllib/request.py\u001b[0m in \u001b[0;36murlopen\u001b[0;34m(url, data, timeout, cafile, capath, cadefault, context)\u001b[0m\n\u001b[1;32m    220\u001b[0m     \u001b[0;32melse\u001b[0m\u001b[0;34m:\u001b[0m\u001b[0;34m\u001b[0m\u001b[0;34m\u001b[0m\u001b[0m\n\u001b[1;32m    221\u001b[0m         \u001b[0mopener\u001b[0m \u001b[0;34m=\u001b[0m \u001b[0m_opener\u001b[0m\u001b[0;34m\u001b[0m\u001b[0;34m\u001b[0m\u001b[0m\n\u001b[0;32m--> 222\u001b[0;31m     \u001b[0;32mreturn\u001b[0m \u001b[0mopener\u001b[0m\u001b[0;34m.\u001b[0m\u001b[0mopen\u001b[0m\u001b[0;34m(\u001b[0m\u001b[0murl\u001b[0m\u001b[0;34m,\u001b[0m \u001b[0mdata\u001b[0m\u001b[0;34m,\u001b[0m \u001b[0mtimeout\u001b[0m\u001b[0;34m)\u001b[0m\u001b[0;34m\u001b[0m\u001b[0;34m\u001b[0m\u001b[0m\n\u001b[0m\u001b[1;32m    223\u001b[0m \u001b[0;34m\u001b[0m\u001b[0m\n\u001b[1;32m    224\u001b[0m \u001b[0;32mdef\u001b[0m \u001b[0minstall_opener\u001b[0m\u001b[0;34m(\u001b[0m\u001b[0mopener\u001b[0m\u001b[0;34m)\u001b[0m\u001b[0;34m:\u001b[0m\u001b[0;34m\u001b[0m\u001b[0;34m\u001b[0m\u001b[0m\n",
            "\u001b[0;32m/Library/Python/anaconda3/lib/python3.7/urllib/request.py\u001b[0m in \u001b[0;36mopen\u001b[0;34m(self, fullurl, data, timeout)\u001b[0m\n\u001b[1;32m    523\u001b[0m             \u001b[0mreq\u001b[0m \u001b[0;34m=\u001b[0m \u001b[0mmeth\u001b[0m\u001b[0;34m(\u001b[0m\u001b[0mreq\u001b[0m\u001b[0;34m)\u001b[0m\u001b[0;34m\u001b[0m\u001b[0;34m\u001b[0m\u001b[0m\n\u001b[1;32m    524\u001b[0m \u001b[0;34m\u001b[0m\u001b[0m\n\u001b[0;32m--> 525\u001b[0;31m         \u001b[0mresponse\u001b[0m \u001b[0;34m=\u001b[0m \u001b[0mself\u001b[0m\u001b[0;34m.\u001b[0m\u001b[0m_open\u001b[0m\u001b[0;34m(\u001b[0m\u001b[0mreq\u001b[0m\u001b[0;34m,\u001b[0m \u001b[0mdata\u001b[0m\u001b[0;34m)\u001b[0m\u001b[0;34m\u001b[0m\u001b[0;34m\u001b[0m\u001b[0m\n\u001b[0m\u001b[1;32m    526\u001b[0m \u001b[0;34m\u001b[0m\u001b[0m\n\u001b[1;32m    527\u001b[0m         \u001b[0;31m# post-process response\u001b[0m\u001b[0;34m\u001b[0m\u001b[0;34m\u001b[0m\u001b[0;34m\u001b[0m\u001b[0m\n",
            "\u001b[0;32m/Library/Python/anaconda3/lib/python3.7/urllib/request.py\u001b[0m in \u001b[0;36m_open\u001b[0;34m(self, req, data)\u001b[0m\n\u001b[1;32m    541\u001b[0m         \u001b[0mprotocol\u001b[0m \u001b[0;34m=\u001b[0m \u001b[0mreq\u001b[0m\u001b[0;34m.\u001b[0m\u001b[0mtype\u001b[0m\u001b[0;34m\u001b[0m\u001b[0;34m\u001b[0m\u001b[0m\n\u001b[1;32m    542\u001b[0m         result = self._call_chain(self.handle_open, protocol, protocol +\n\u001b[0;32m--> 543\u001b[0;31m                                   '_open', req)\n\u001b[0m\u001b[1;32m    544\u001b[0m         \u001b[0;32mif\u001b[0m \u001b[0mresult\u001b[0m\u001b[0;34m:\u001b[0m\u001b[0;34m\u001b[0m\u001b[0;34m\u001b[0m\u001b[0m\n\u001b[1;32m    545\u001b[0m             \u001b[0;32mreturn\u001b[0m \u001b[0mresult\u001b[0m\u001b[0;34m\u001b[0m\u001b[0;34m\u001b[0m\u001b[0m\n",
            "\u001b[0;32m/Library/Python/anaconda3/lib/python3.7/urllib/request.py\u001b[0m in \u001b[0;36m_call_chain\u001b[0;34m(self, chain, kind, meth_name, *args)\u001b[0m\n\u001b[1;32m    501\u001b[0m         \u001b[0;32mfor\u001b[0m \u001b[0mhandler\u001b[0m \u001b[0;32min\u001b[0m \u001b[0mhandlers\u001b[0m\u001b[0;34m:\u001b[0m\u001b[0;34m\u001b[0m\u001b[0;34m\u001b[0m\u001b[0m\n\u001b[1;32m    502\u001b[0m             \u001b[0mfunc\u001b[0m \u001b[0;34m=\u001b[0m \u001b[0mgetattr\u001b[0m\u001b[0;34m(\u001b[0m\u001b[0mhandler\u001b[0m\u001b[0;34m,\u001b[0m \u001b[0mmeth_name\u001b[0m\u001b[0;34m)\u001b[0m\u001b[0;34m\u001b[0m\u001b[0;34m\u001b[0m\u001b[0m\n\u001b[0;32m--> 503\u001b[0;31m             \u001b[0mresult\u001b[0m \u001b[0;34m=\u001b[0m \u001b[0mfunc\u001b[0m\u001b[0;34m(\u001b[0m\u001b[0;34m*\u001b[0m\u001b[0margs\u001b[0m\u001b[0;34m)\u001b[0m\u001b[0;34m\u001b[0m\u001b[0;34m\u001b[0m\u001b[0m\n\u001b[0m\u001b[1;32m    504\u001b[0m             \u001b[0;32mif\u001b[0m \u001b[0mresult\u001b[0m \u001b[0;32mis\u001b[0m \u001b[0;32mnot\u001b[0m \u001b[0;32mNone\u001b[0m\u001b[0;34m:\u001b[0m\u001b[0;34m\u001b[0m\u001b[0;34m\u001b[0m\u001b[0m\n\u001b[1;32m    505\u001b[0m                 \u001b[0;32mreturn\u001b[0m \u001b[0mresult\u001b[0m\u001b[0;34m\u001b[0m\u001b[0;34m\u001b[0m\u001b[0m\n",
            "\u001b[0;32m/Library/Python/anaconda3/lib/python3.7/urllib/request.py\u001b[0m in \u001b[0;36mhttps_open\u001b[0;34m(self, req)\u001b[0m\n\u001b[1;32m   1358\u001b[0m         \u001b[0;32mdef\u001b[0m \u001b[0mhttps_open\u001b[0m\u001b[0;34m(\u001b[0m\u001b[0mself\u001b[0m\u001b[0;34m,\u001b[0m \u001b[0mreq\u001b[0m\u001b[0;34m)\u001b[0m\u001b[0;34m:\u001b[0m\u001b[0;34m\u001b[0m\u001b[0;34m\u001b[0m\u001b[0m\n\u001b[1;32m   1359\u001b[0m             return self.do_open(http.client.HTTPSConnection, req,\n\u001b[0;32m-> 1360\u001b[0;31m                 context=self._context, check_hostname=self._check_hostname)\n\u001b[0m\u001b[1;32m   1361\u001b[0m \u001b[0;34m\u001b[0m\u001b[0m\n\u001b[1;32m   1362\u001b[0m         \u001b[0mhttps_request\u001b[0m \u001b[0;34m=\u001b[0m \u001b[0mAbstractHTTPHandler\u001b[0m\u001b[0;34m.\u001b[0m\u001b[0mdo_request_\u001b[0m\u001b[0;34m\u001b[0m\u001b[0;34m\u001b[0m\u001b[0m\n",
            "\u001b[0;32m/Library/Python/anaconda3/lib/python3.7/urllib/request.py\u001b[0m in \u001b[0;36mdo_open\u001b[0;34m(self, http_class, req, **http_conn_args)\u001b[0m\n\u001b[1;32m   1318\u001b[0m             \u001b[0;32mexcept\u001b[0m \u001b[0mOSError\u001b[0m \u001b[0;32mas\u001b[0m \u001b[0merr\u001b[0m\u001b[0;34m:\u001b[0m \u001b[0;31m# timeout error\u001b[0m\u001b[0;34m\u001b[0m\u001b[0;34m\u001b[0m\u001b[0m\n\u001b[1;32m   1319\u001b[0m                 \u001b[0;32mraise\u001b[0m \u001b[0mURLError\u001b[0m\u001b[0;34m(\u001b[0m\u001b[0merr\u001b[0m\u001b[0;34m)\u001b[0m\u001b[0;34m\u001b[0m\u001b[0;34m\u001b[0m\u001b[0m\n\u001b[0;32m-> 1320\u001b[0;31m             \u001b[0mr\u001b[0m \u001b[0;34m=\u001b[0m \u001b[0mh\u001b[0m\u001b[0;34m.\u001b[0m\u001b[0mgetresponse\u001b[0m\u001b[0;34m(\u001b[0m\u001b[0;34m)\u001b[0m\u001b[0;34m\u001b[0m\u001b[0;34m\u001b[0m\u001b[0m\n\u001b[0m\u001b[1;32m   1321\u001b[0m         \u001b[0;32mexcept\u001b[0m\u001b[0;34m:\u001b[0m\u001b[0;34m\u001b[0m\u001b[0;34m\u001b[0m\u001b[0m\n\u001b[1;32m   1322\u001b[0m             \u001b[0mh\u001b[0m\u001b[0;34m.\u001b[0m\u001b[0mclose\u001b[0m\u001b[0;34m(\u001b[0m\u001b[0;34m)\u001b[0m\u001b[0;34m\u001b[0m\u001b[0;34m\u001b[0m\u001b[0m\n",
            "\u001b[0;32m/Library/Python/anaconda3/lib/python3.7/http/client.py\u001b[0m in \u001b[0;36mgetresponse\u001b[0;34m(self)\u001b[0m\n\u001b[1;32m   1319\u001b[0m         \u001b[0;32mtry\u001b[0m\u001b[0;34m:\u001b[0m\u001b[0;34m\u001b[0m\u001b[0;34m\u001b[0m\u001b[0m\n\u001b[1;32m   1320\u001b[0m             \u001b[0;32mtry\u001b[0m\u001b[0;34m:\u001b[0m\u001b[0;34m\u001b[0m\u001b[0;34m\u001b[0m\u001b[0m\n\u001b[0;32m-> 1321\u001b[0;31m                 \u001b[0mresponse\u001b[0m\u001b[0;34m.\u001b[0m\u001b[0mbegin\u001b[0m\u001b[0;34m(\u001b[0m\u001b[0;34m)\u001b[0m\u001b[0;34m\u001b[0m\u001b[0;34m\u001b[0m\u001b[0m\n\u001b[0m\u001b[1;32m   1322\u001b[0m             \u001b[0;32mexcept\u001b[0m \u001b[0mConnectionError\u001b[0m\u001b[0;34m:\u001b[0m\u001b[0;34m\u001b[0m\u001b[0;34m\u001b[0m\u001b[0m\n\u001b[1;32m   1323\u001b[0m                 \u001b[0mself\u001b[0m\u001b[0;34m.\u001b[0m\u001b[0mclose\u001b[0m\u001b[0;34m(\u001b[0m\u001b[0;34m)\u001b[0m\u001b[0;34m\u001b[0m\u001b[0;34m\u001b[0m\u001b[0m\n",
            "\u001b[0;32m/Library/Python/anaconda3/lib/python3.7/http/client.py\u001b[0m in \u001b[0;36mbegin\u001b[0;34m(self)\u001b[0m\n\u001b[1;32m    294\u001b[0m         \u001b[0;31m# read until we get a non-100 response\u001b[0m\u001b[0;34m\u001b[0m\u001b[0;34m\u001b[0m\u001b[0;34m\u001b[0m\u001b[0m\n\u001b[1;32m    295\u001b[0m         \u001b[0;32mwhile\u001b[0m \u001b[0;32mTrue\u001b[0m\u001b[0;34m:\u001b[0m\u001b[0;34m\u001b[0m\u001b[0;34m\u001b[0m\u001b[0m\n\u001b[0;32m--> 296\u001b[0;31m             \u001b[0mversion\u001b[0m\u001b[0;34m,\u001b[0m \u001b[0mstatus\u001b[0m\u001b[0;34m,\u001b[0m \u001b[0mreason\u001b[0m \u001b[0;34m=\u001b[0m \u001b[0mself\u001b[0m\u001b[0;34m.\u001b[0m\u001b[0m_read_status\u001b[0m\u001b[0;34m(\u001b[0m\u001b[0;34m)\u001b[0m\u001b[0;34m\u001b[0m\u001b[0;34m\u001b[0m\u001b[0m\n\u001b[0m\u001b[1;32m    297\u001b[0m             \u001b[0;32mif\u001b[0m \u001b[0mstatus\u001b[0m \u001b[0;34m!=\u001b[0m \u001b[0mCONTINUE\u001b[0m\u001b[0;34m:\u001b[0m\u001b[0;34m\u001b[0m\u001b[0;34m\u001b[0m\u001b[0m\n\u001b[1;32m    298\u001b[0m                 \u001b[0;32mbreak\u001b[0m\u001b[0;34m\u001b[0m\u001b[0;34m\u001b[0m\u001b[0m\n",
            "\u001b[0;32m/Library/Python/anaconda3/lib/python3.7/http/client.py\u001b[0m in \u001b[0;36m_read_status\u001b[0;34m(self)\u001b[0m\n\u001b[1;32m    255\u001b[0m \u001b[0;34m\u001b[0m\u001b[0m\n\u001b[1;32m    256\u001b[0m     \u001b[0;32mdef\u001b[0m \u001b[0m_read_status\u001b[0m\u001b[0;34m(\u001b[0m\u001b[0mself\u001b[0m\u001b[0;34m)\u001b[0m\u001b[0;34m:\u001b[0m\u001b[0;34m\u001b[0m\u001b[0;34m\u001b[0m\u001b[0m\n\u001b[0;32m--> 257\u001b[0;31m         \u001b[0mline\u001b[0m \u001b[0;34m=\u001b[0m \u001b[0mstr\u001b[0m\u001b[0;34m(\u001b[0m\u001b[0mself\u001b[0m\u001b[0;34m.\u001b[0m\u001b[0mfp\u001b[0m\u001b[0;34m.\u001b[0m\u001b[0mreadline\u001b[0m\u001b[0;34m(\u001b[0m\u001b[0m_MAXLINE\u001b[0m \u001b[0;34m+\u001b[0m \u001b[0;36m1\u001b[0m\u001b[0;34m)\u001b[0m\u001b[0;34m,\u001b[0m \u001b[0;34m\"iso-8859-1\"\u001b[0m\u001b[0;34m)\u001b[0m\u001b[0;34m\u001b[0m\u001b[0;34m\u001b[0m\u001b[0m\n\u001b[0m\u001b[1;32m    258\u001b[0m         \u001b[0;32mif\u001b[0m \u001b[0mlen\u001b[0m\u001b[0;34m(\u001b[0m\u001b[0mline\u001b[0m\u001b[0;34m)\u001b[0m \u001b[0;34m>\u001b[0m \u001b[0m_MAXLINE\u001b[0m\u001b[0;34m:\u001b[0m\u001b[0;34m\u001b[0m\u001b[0;34m\u001b[0m\u001b[0m\n\u001b[1;32m    259\u001b[0m             \u001b[0;32mraise\u001b[0m \u001b[0mLineTooLong\u001b[0m\u001b[0;34m(\u001b[0m\u001b[0;34m\"status line\"\u001b[0m\u001b[0;34m)\u001b[0m\u001b[0;34m\u001b[0m\u001b[0;34m\u001b[0m\u001b[0m\n",
            "\u001b[0;32m/Library/Python/anaconda3/lib/python3.7/socket.py\u001b[0m in \u001b[0;36mreadinto\u001b[0;34m(self, b)\u001b[0m\n\u001b[1;32m    587\u001b[0m         \u001b[0;32mwhile\u001b[0m \u001b[0;32mTrue\u001b[0m\u001b[0;34m:\u001b[0m\u001b[0;34m\u001b[0m\u001b[0;34m\u001b[0m\u001b[0m\n\u001b[1;32m    588\u001b[0m             \u001b[0;32mtry\u001b[0m\u001b[0;34m:\u001b[0m\u001b[0;34m\u001b[0m\u001b[0;34m\u001b[0m\u001b[0m\n\u001b[0;32m--> 589\u001b[0;31m                 \u001b[0;32mreturn\u001b[0m \u001b[0mself\u001b[0m\u001b[0;34m.\u001b[0m\u001b[0m_sock\u001b[0m\u001b[0;34m.\u001b[0m\u001b[0mrecv_into\u001b[0m\u001b[0;34m(\u001b[0m\u001b[0mb\u001b[0m\u001b[0;34m)\u001b[0m\u001b[0;34m\u001b[0m\u001b[0;34m\u001b[0m\u001b[0m\n\u001b[0m\u001b[1;32m    590\u001b[0m             \u001b[0;32mexcept\u001b[0m \u001b[0mtimeout\u001b[0m\u001b[0;34m:\u001b[0m\u001b[0;34m\u001b[0m\u001b[0;34m\u001b[0m\u001b[0m\n\u001b[1;32m    591\u001b[0m                 \u001b[0mself\u001b[0m\u001b[0;34m.\u001b[0m\u001b[0m_timeout_occurred\u001b[0m \u001b[0;34m=\u001b[0m \u001b[0;32mTrue\u001b[0m\u001b[0;34m\u001b[0m\u001b[0;34m\u001b[0m\u001b[0m\n",
            "\u001b[0;32m/Library/Python/anaconda3/lib/python3.7/ssl.py\u001b[0m in \u001b[0;36mrecv_into\u001b[0;34m(self, buffer, nbytes, flags)\u001b[0m\n\u001b[1;32m   1050\u001b[0m                   \u001b[0;34m\"non-zero flags not allowed in calls to recv_into() on %s\"\u001b[0m \u001b[0;34m%\u001b[0m\u001b[0;34m\u001b[0m\u001b[0;34m\u001b[0m\u001b[0m\n\u001b[1;32m   1051\u001b[0m                   self.__class__)\n\u001b[0;32m-> 1052\u001b[0;31m             \u001b[0;32mreturn\u001b[0m \u001b[0mself\u001b[0m\u001b[0;34m.\u001b[0m\u001b[0mread\u001b[0m\u001b[0;34m(\u001b[0m\u001b[0mnbytes\u001b[0m\u001b[0;34m,\u001b[0m \u001b[0mbuffer\u001b[0m\u001b[0;34m)\u001b[0m\u001b[0;34m\u001b[0m\u001b[0;34m\u001b[0m\u001b[0m\n\u001b[0m\u001b[1;32m   1053\u001b[0m         \u001b[0;32melse\u001b[0m\u001b[0;34m:\u001b[0m\u001b[0;34m\u001b[0m\u001b[0;34m\u001b[0m\u001b[0m\n\u001b[1;32m   1054\u001b[0m             \u001b[0;32mreturn\u001b[0m \u001b[0msuper\u001b[0m\u001b[0;34m(\u001b[0m\u001b[0;34m)\u001b[0m\u001b[0;34m.\u001b[0m\u001b[0mrecv_into\u001b[0m\u001b[0;34m(\u001b[0m\u001b[0mbuffer\u001b[0m\u001b[0;34m,\u001b[0m \u001b[0mnbytes\u001b[0m\u001b[0;34m,\u001b[0m \u001b[0mflags\u001b[0m\u001b[0;34m)\u001b[0m\u001b[0;34m\u001b[0m\u001b[0;34m\u001b[0m\u001b[0m\n",
            "\u001b[0;32m/Library/Python/anaconda3/lib/python3.7/ssl.py\u001b[0m in \u001b[0;36mread\u001b[0;34m(self, len, buffer)\u001b[0m\n\u001b[1;32m    909\u001b[0m         \u001b[0;32mtry\u001b[0m\u001b[0;34m:\u001b[0m\u001b[0;34m\u001b[0m\u001b[0;34m\u001b[0m\u001b[0m\n\u001b[1;32m    910\u001b[0m             \u001b[0;32mif\u001b[0m \u001b[0mbuffer\u001b[0m \u001b[0;32mis\u001b[0m \u001b[0;32mnot\u001b[0m \u001b[0;32mNone\u001b[0m\u001b[0;34m:\u001b[0m\u001b[0;34m\u001b[0m\u001b[0;34m\u001b[0m\u001b[0m\n\u001b[0;32m--> 911\u001b[0;31m                 \u001b[0;32mreturn\u001b[0m \u001b[0mself\u001b[0m\u001b[0;34m.\u001b[0m\u001b[0m_sslobj\u001b[0m\u001b[0;34m.\u001b[0m\u001b[0mread\u001b[0m\u001b[0;34m(\u001b[0m\u001b[0mlen\u001b[0m\u001b[0;34m,\u001b[0m \u001b[0mbuffer\u001b[0m\u001b[0;34m)\u001b[0m\u001b[0;34m\u001b[0m\u001b[0;34m\u001b[0m\u001b[0m\n\u001b[0m\u001b[1;32m    912\u001b[0m             \u001b[0;32melse\u001b[0m\u001b[0;34m:\u001b[0m\u001b[0;34m\u001b[0m\u001b[0;34m\u001b[0m\u001b[0m\n\u001b[1;32m    913\u001b[0m                 \u001b[0;32mreturn\u001b[0m \u001b[0mself\u001b[0m\u001b[0;34m.\u001b[0m\u001b[0m_sslobj\u001b[0m\u001b[0;34m.\u001b[0m\u001b[0mread\u001b[0m\u001b[0;34m(\u001b[0m\u001b[0mlen\u001b[0m\u001b[0;34m)\u001b[0m\u001b[0;34m\u001b[0m\u001b[0;34m\u001b[0m\u001b[0m\n",
            "\u001b[0;31mKeyboardInterrupt\u001b[0m: "
          ]
        }
      ],
      "execution_count": null
    },
    {
      "cell_type": "code",
      "metadata": {
        "cell_id": "00026-ff6295e1-f6a6-4852-8c6e-4a823d855612",
        "deepnote_cell_type": "code"
      },
      "source": "## store the full nrel as a plain csv \nconstructing_df.to_csv('cleaned_data/nrel_full.csv')",
      "outputs": [],
      "execution_count": null
    },
    {
      "cell_type": "code",
      "metadata": {
        "cell_id": "00027-c5866c5b-e174-4149-9de8-a24faf4d8c64",
        "deepnote_cell_type": "code"
      },
      "source": "constructing_df.head()",
      "outputs": [
        {
          "data": {
            "text/html": "<div>\n<style scoped>\n    .dataframe tbody tr th:only-of-type {\n        vertical-align: middle;\n    }\n\n    .dataframe tbody tr th {\n        vertical-align: top;\n    }\n\n    .dataframe thead th {\n        text-align: right;\n    }\n</style>\n<table border=\"1\" class=\"dataframe\">\n  <thead>\n    <tr style=\"text-align: right;\">\n      <th></th>\n      <th>Month</th>\n      <th>Year</th>\n      <th>GHI</th>\n      <th>DHI</th>\n      <th>DNI</th>\n      <th>Wind Speed</th>\n      <th>Temperature</th>\n      <th>Solar Zenith Angle</th>\n      <th>zipcode</th>\n      <th>latitude</th>\n      <th>longitude</th>\n    </tr>\n  </thead>\n  <tbody>\n    <tr>\n      <th>0</th>\n      <td>1</td>\n      <td>2013.0</td>\n      <td>118.551075</td>\n      <td>30.461022</td>\n      <td>220.584677</td>\n      <td>3.564247</td>\n      <td>9.044355</td>\n      <td>105.478320</td>\n      <td>94002</td>\n      <td>37.516687</td>\n      <td>-122.29026</td>\n    </tr>\n    <tr>\n      <th>1</th>\n      <td>2</td>\n      <td>2013.0</td>\n      <td>166.961310</td>\n      <td>39.181548</td>\n      <td>269.005952</td>\n      <td>3.429167</td>\n      <td>9.815476</td>\n      <td>99.517798</td>\n      <td>94002</td>\n      <td>37.516687</td>\n      <td>-122.29026</td>\n    </tr>\n    <tr>\n      <th>2</th>\n      <td>3</td>\n      <td>2013.0</td>\n      <td>195.715054</td>\n      <td>71.255376</td>\n      <td>216.329301</td>\n      <td>3.340323</td>\n      <td>11.181452</td>\n      <td>91.103266</td>\n      <td>94002</td>\n      <td>37.516687</td>\n      <td>-122.29026</td>\n    </tr>\n    <tr>\n      <th>3</th>\n      <td>4</td>\n      <td>2013.0</td>\n      <td>284.418056</td>\n      <td>64.431944</td>\n      <td>334.995833</td>\n      <td>3.858194</td>\n      <td>12.713889</td>\n      <td>82.265542</td>\n      <td>94002</td>\n      <td>37.516687</td>\n      <td>-122.29026</td>\n    </tr>\n    <tr>\n      <th>4</th>\n      <td>5</td>\n      <td>2013.0</td>\n      <td>311.571237</td>\n      <td>71.837366</td>\n      <td>346.986559</td>\n      <td>4.352151</td>\n      <td>13.991935</td>\n      <td>75.565403</td>\n      <td>94002</td>\n      <td>37.516687</td>\n      <td>-122.29026</td>\n    </tr>\n  </tbody>\n</table>\n</div>",
            "text/plain": "   Month    Year         GHI        DHI         DNI  Wind Speed  Temperature  \\\n0      1  2013.0  118.551075  30.461022  220.584677    3.564247     9.044355   \n1      2  2013.0  166.961310  39.181548  269.005952    3.429167     9.815476   \n2      3  2013.0  195.715054  71.255376  216.329301    3.340323    11.181452   \n3      4  2013.0  284.418056  64.431944  334.995833    3.858194    12.713889   \n4      5  2013.0  311.571237  71.837366  346.986559    4.352151    13.991935   \n\n   Solar Zenith Angle zipcode   latitude  longitude  \n0          105.478320   94002  37.516687 -122.29026  \n1           99.517798   94002  37.516687 -122.29026  \n2           91.103266   94002  37.516687 -122.29026  \n3           82.265542   94002  37.516687 -122.29026  \n4           75.565403   94002  37.516687 -122.29026  "
          },
          "execution_count": 175,
          "metadata": {},
          "output_type": "execute_result"
        }
      ],
      "execution_count": null
    },
    {
      "cell_type": "markdown",
      "source": "## Merging NREL Solar Radiation with PG&E Energy Consumption\n\n1. Read the CSVs from the NREL data and drop duplicate\n2. Add zipcodes to NREL data\n3. Merge 2013-2019 data. NREL does not currently have 2020 data available yet",
      "metadata": {
        "cell_id": "00028-445928cf-ecc0-431a-b5d4-2da5331f04be",
        "deepnote_cell_type": "markdown"
      }
    },
    {
      "cell_type": "code",
      "metadata": {
        "cell_id": "00029-be380e25-127c-4f7f-8b20-43b2ca653960",
        "deepnote_cell_type": "code"
      },
      "source": "one = pd.read_csv('data/nrel/limited.csv')\ntwo = pd.read_csv('data/nrel/limited2.csv')\nthree = pd.read_csv('data/nrel/limited3.csv')",
      "outputs": [],
      "execution_count": null
    },
    {
      "cell_type": "code",
      "metadata": {
        "cell_id": "00030-20b5886c-d181-4af7-bc0f-ce065fd2c52f",
        "deepnote_cell_type": "code"
      },
      "source": "combined = pd.concat([one, two, three])",
      "outputs": [],
      "execution_count": null
    },
    {
      "cell_type": "code",
      "metadata": {
        "cell_id": "00031-722c86a7-e0bf-427e-981c-d072aad29204",
        "deepnote_cell_type": "code"
      },
      "source": "all_nrel_monthly_in_all_zips = combined.drop(['Unnamed: 0'], axis=1).reset_index(drop=True).drop_duplicates().reset_index(drop=True)\nall_nrel_monthly_in_all_zips",
      "outputs": [
        {
          "data": {
            "text/html": "<div>\n<style scoped>\n    .dataframe tbody tr th:only-of-type {\n        vertical-align: middle;\n    }\n\n    .dataframe tbody tr th {\n        vertical-align: top;\n    }\n\n    .dataframe thead th {\n        text-align: right;\n    }\n</style>\n<table border=\"1\" class=\"dataframe\">\n  <thead>\n    <tr style=\"text-align: right;\">\n      <th></th>\n      <th>Month</th>\n      <th>Year</th>\n      <th>GHI</th>\n      <th>DHI</th>\n      <th>DNI</th>\n      <th>Wind Speed</th>\n      <th>Temperature</th>\n      <th>Solar Zenith Angle</th>\n      <th>zipcode</th>\n      <th>latitude</th>\n      <th>longitude</th>\n    </tr>\n  </thead>\n  <tbody>\n    <tr>\n      <th>0</th>\n      <td>1</td>\n      <td>2013.0</td>\n      <td>144.2258064516129</td>\n      <td>33.39650537634409</td>\n      <td>267.46639784946234</td>\n      <td>2.4864247311827956</td>\n      <td>8.838709677419354</td>\n      <td>104.79604838709689</td>\n      <td>92304.0</td>\n      <td>34.548138</td>\n      <td>-115.65796</td>\n    </tr>\n    <tr>\n      <th>1</th>\n      <td>2</td>\n      <td>2013.0</td>\n      <td>194.01636904761904</td>\n      <td>38.56845238095238</td>\n      <td>311.51934523809524</td>\n      <td>2.3967261904761905</td>\n      <td>11.654761904761905</td>\n      <td>99.1219494047619</td>\n      <td>92304.0</td>\n      <td>34.548138</td>\n      <td>-115.65796</td>\n    </tr>\n    <tr>\n      <th>2</th>\n      <td>3</td>\n      <td>2013.0</td>\n      <td>249.04435483870967</td>\n      <td>54.84543010752688</td>\n      <td>327.06317204301075</td>\n      <td>2.4489247311827977</td>\n      <td>18.990591397849464</td>\n      <td>91.0582526881719</td>\n      <td>92304.0</td>\n      <td>34.548138</td>\n      <td>-115.65796</td>\n    </tr>\n    <tr>\n      <th>3</th>\n      <td>4</td>\n      <td>2013.0</td>\n      <td>311.96805555555557</td>\n      <td>62.230555555555554</td>\n      <td>379.10833333333335</td>\n      <td>2.8834722222222267</td>\n      <td>21.9625</td>\n      <td>82.58176388888893</td>\n      <td>92304.0</td>\n      <td>34.548138</td>\n      <td>-115.65796</td>\n    </tr>\n    <tr>\n      <th>4</th>\n      <td>5</td>\n      <td>2013.0</td>\n      <td>341.9166666666667</td>\n      <td>64.85215053763442</td>\n      <td>399.4287634408602</td>\n      <td>2.8856182795698895</td>\n      <td>25.81451612903226</td>\n      <td>76.18926075268821</td>\n      <td>92304.0</td>\n      <td>34.548138</td>\n      <td>-115.65796</td>\n    </tr>\n    <tr>\n      <th>...</th>\n      <td>...</td>\n      <td>...</td>\n      <td>...</td>\n      <td>...</td>\n      <td>...</td>\n      <td>...</td>\n      <td>...</td>\n      <td>...</td>\n      <td>...</td>\n      <td>...</td>\n      <td>...</td>\n    </tr>\n    <tr>\n      <th>77684</th>\n      <td>8</td>\n      <td>2019.0</td>\n      <td>315.7258064516129</td>\n      <td>48.71370967741935</td>\n      <td>424.63978494623655</td>\n      <td>0.5072580645161294</td>\n      <td>21.40295698924733</td>\n      <td>79.46888440860221</td>\n      <td>96162.0</td>\n      <td>39.26599</td>\n      <td>-120.64145</td>\n    </tr>\n    <tr>\n      <th>77685</th>\n      <td>9</td>\n      <td>2019.0</td>\n      <td>231.10972222222222</td>\n      <td>48.11805555555556</td>\n      <td>325.1138888888889</td>\n      <td>0.40486111111111167</td>\n      <td>15.121388888888884</td>\n      <td>87.89591666666671</td>\n      <td>96162.0</td>\n      <td>39.26599</td>\n      <td>-120.64145</td>\n    </tr>\n    <tr>\n      <th>77686</th>\n      <td>10</td>\n      <td>2019.0</td>\n      <td>196.40725806451613</td>\n      <td>33.19086021505376</td>\n      <td>338.1720430107527</td>\n      <td>0.44784946236559137</td>\n      <td>9.530376344086022</td>\n      <td>96.95063172043011</td>\n      <td>96162.0</td>\n      <td>39.26599</td>\n      <td>-120.64145</td>\n    </tr>\n    <tr>\n      <th>77687</th>\n      <td>11</td>\n      <td>2019.0</td>\n      <td>125.52222222222223</td>\n      <td>31.509722222222223</td>\n      <td>239.2277777777778</td>\n      <td>0.41291666666666615</td>\n      <td>7.215972222222224</td>\n      <td>104.28987500000002</td>\n      <td>96162.0</td>\n      <td>39.26599</td>\n      <td>-120.64145</td>\n    </tr>\n    <tr>\n      <th>77688</th>\n      <td>12</td>\n      <td>2019.0</td>\n      <td>79.95967741935483</td>\n      <td>31.010752688172044</td>\n      <td>143.81317204301075</td>\n      <td>0.2830645161290315</td>\n      <td>1.2594086021505382</td>\n      <td>107.65579301075262</td>\n      <td>96162.0</td>\n      <td>39.26599</td>\n      <td>-120.64145</td>\n    </tr>\n  </tbody>\n</table>\n<p>77689 rows × 11 columns</p>\n</div>",
            "text/plain": "      Month    Year                 GHI                 DHI  \\\n0         1  2013.0   144.2258064516129   33.39650537634409   \n1         2  2013.0  194.01636904761904   38.56845238095238   \n2         3  2013.0  249.04435483870967   54.84543010752688   \n3         4  2013.0  311.96805555555557  62.230555555555554   \n4         5  2013.0   341.9166666666667   64.85215053763442   \n...     ...     ...                 ...                 ...   \n77684     8  2019.0   315.7258064516129   48.71370967741935   \n77685     9  2019.0  231.10972222222222   48.11805555555556   \n77686    10  2019.0  196.40725806451613   33.19086021505376   \n77687    11  2019.0  125.52222222222223  31.509722222222223   \n77688    12  2019.0   79.95967741935483  31.010752688172044   \n\n                      DNI           Wind Speed         Temperature  \\\n0      267.46639784946234   2.4864247311827956   8.838709677419354   \n1      311.51934523809524   2.3967261904761905  11.654761904761905   \n2      327.06317204301075   2.4489247311827977  18.990591397849464   \n3      379.10833333333335   2.8834722222222267             21.9625   \n4       399.4287634408602   2.8856182795698895   25.81451612903226   \n...                   ...                  ...                 ...   \n77684  424.63978494623655   0.5072580645161294   21.40295698924733   \n77685   325.1138888888889  0.40486111111111167  15.121388888888884   \n77686   338.1720430107527  0.44784946236559137   9.530376344086022   \n77687   239.2277777777778  0.41291666666666615   7.215972222222224   \n77688  143.81317204301075   0.2830645161290315  1.2594086021505382   \n\n       Solar Zenith Angle  zipcode   latitude   longitude  \n0      104.79604838709689  92304.0  34.548138  -115.65796  \n1        99.1219494047619  92304.0  34.548138  -115.65796  \n2        91.0582526881719  92304.0  34.548138  -115.65796  \n3       82.58176388888893  92304.0  34.548138  -115.65796  \n4       76.18926075268821  92304.0  34.548138  -115.65796  \n...                   ...      ...        ...         ...  \n77684   79.46888440860221  96162.0   39.26599  -120.64145  \n77685   87.89591666666671  96162.0   39.26599  -120.64145  \n77686   96.95063172043011  96162.0   39.26599  -120.64145  \n77687  104.28987500000002  96162.0   39.26599  -120.64145  \n77688  107.65579301075262  96162.0   39.26599  -120.64145  \n\n[77689 rows x 11 columns]"
          },
          "execution_count": 126,
          "metadata": {},
          "output_type": "execute_result"
        }
      ],
      "execution_count": null
    },
    {
      "cell_type": "code",
      "metadata": {
        "cell_id": "00032-a13d85c6-5bcc-44b4-a9a4-822e3e1436ba",
        "deepnote_cell_type": "code"
      },
      "source": "all_nrel_monthly_in_all_zips['Month'].value_counts()\n",
      "outputs": [
        {
          "data": {
            "text/plain": "1        6474\n9        6474\n4        6474\n10       6474\n8        6474\n5        6474\n12       6474\n6        6474\n2        6474\n7        6474\n3        6474\n11       6474\nMonth       1\nName: Month, dtype: int64"
          },
          "execution_count": 131,
          "metadata": {},
          "output_type": "execute_result"
        }
      ],
      "execution_count": null
    },
    {
      "cell_type": "code",
      "metadata": {
        "cell_id": "00033-862decfd-4b15-4533-ae06-775b83e22478",
        "deepnote_cell_type": "code"
      },
      "source": "all_nrel_monthly_in_all_zips[all_nrel_monthly_in_all_zips['Month']=='Month']",
      "outputs": [
        {
          "data": {
            "text/html": "<div>\n<style scoped>\n    .dataframe tbody tr th:only-of-type {\n        vertical-align: middle;\n    }\n\n    .dataframe tbody tr th {\n        vertical-align: top;\n    }\n\n    .dataframe thead th {\n        text-align: right;\n    }\n</style>\n<table border=\"1\" class=\"dataframe\">\n  <thead>\n    <tr style=\"text-align: right;\">\n      <th></th>\n      <th>Month</th>\n      <th>Year</th>\n      <th>GHI</th>\n      <th>DHI</th>\n      <th>DNI</th>\n      <th>Wind Speed</th>\n      <th>Temperature</th>\n      <th>Solar Zenith Angle</th>\n      <th>zipcode</th>\n      <th>latitude</th>\n      <th>longitude</th>\n    </tr>\n  </thead>\n  <tbody>\n    <tr>\n      <th>12</th>\n      <td>Month</td>\n      <td>Year</td>\n      <td>GHI</td>\n      <td>DHI</td>\n      <td>DNI</td>\n      <td>Wind Speed</td>\n      <td>Temperature</td>\n      <td>Solar Zenith Angle</td>\n      <td>zipcode</td>\n      <td>latitude</td>\n      <td>longitude</td>\n    </tr>\n  </tbody>\n</table>\n</div>",
            "text/plain": "    Month  Year  GHI  DHI  DNI  Wind Speed  Temperature  Solar Zenith Angle  \\\n12  Month  Year  GHI  DHI  DNI  Wind Speed  Temperature  Solar Zenith Angle   \n\n    zipcode  latitude  longitude  \n12  zipcode  latitude  longitude  "
          },
          "execution_count": 130,
          "metadata": {},
          "output_type": "execute_result"
        }
      ],
      "execution_count": null
    },
    {
      "cell_type": "code",
      "metadata": {
        "cell_id": "00034-34e8d162-a3c2-4c95-a268-91fbf1cd26bb",
        "deepnote_cell_type": "code"
      },
      "source": "mod = all_nrel_monthly_in_all_zips.drop(all_nrel_monthly_in_all_zips.loc[all_nrel_monthly_in_all_zips['Month']=='Month'].index).reset_index(drop=True)\nmod['Month'].value_counts()",
      "outputs": [
        {
          "data": {
            "text/plain": "1     6474\n9     6474\n4     6474\n10    6474\n8     6474\n5     6474\n12    6474\n6     6474\n2     6474\n7     6474\n3     6474\n11    6474\nName: Month, dtype: int64"
          },
          "execution_count": 143,
          "metadata": {},
          "output_type": "execute_result"
        }
      ],
      "execution_count": null
    },
    {
      "cell_type": "code",
      "metadata": {
        "cell_id": "00035-eeb183f2-f331-40ae-83a0-a56bfc8d8c7c",
        "deepnote_cell_type": "code"
      },
      "source": "# zipcode_params_for_nrel\nmod['Year'] = mod['Year'].astype(float)\nmod['Year'] = mod['Year'].astype(int)\nmod['Month'] = mod['Month'].astype(int)",
      "outputs": [],
      "execution_count": null
    },
    {
      "cell_type": "code",
      "metadata": {
        "cell_id": "00036-d44f3898-9800-4903-9bbc-6b96cadc97c2",
        "deepnote_cell_type": "code"
      },
      "source": "repeatted_zips = pd.DataFrame(data=np.repeat(zipcode_params_for_nrel.values,12,axis=0),\n                             columns=[s for s in zipcode_params_for_nrel.columns])\nrepeatted_zips",
      "outputs": [
        {
          "data": {
            "text/html": "<div>\n<style scoped>\n    .dataframe tbody tr th:only-of-type {\n        vertical-align: middle;\n    }\n\n    .dataframe tbody tr th {\n        vertical-align: top;\n    }\n\n    .dataframe thead th {\n        text-align: right;\n    }\n</style>\n<table border=\"1\" class=\"dataframe\">\n  <thead>\n    <tr style=\"text-align: right;\">\n      <th></th>\n      <th>zip</th>\n      <th>YEAR</th>\n      <th>latitude</th>\n      <th>longitude</th>\n    </tr>\n  </thead>\n  <tbody>\n    <tr>\n      <th>0</th>\n      <td>92304.0</td>\n      <td>2013.0</td>\n      <td>34.548138</td>\n      <td>-115.65796</td>\n    </tr>\n    <tr>\n      <th>1</th>\n      <td>92304.0</td>\n      <td>2013.0</td>\n      <td>34.548138</td>\n      <td>-115.65796</td>\n    </tr>\n    <tr>\n      <th>2</th>\n      <td>92304.0</td>\n      <td>2013.0</td>\n      <td>34.548138</td>\n      <td>-115.65796</td>\n    </tr>\n    <tr>\n      <th>3</th>\n      <td>92304.0</td>\n      <td>2013.0</td>\n      <td>34.548138</td>\n      <td>-115.65796</td>\n    </tr>\n    <tr>\n      <th>4</th>\n      <td>92304.0</td>\n      <td>2013.0</td>\n      <td>34.548138</td>\n      <td>-115.65796</td>\n    </tr>\n    <tr>\n      <th>...</th>\n      <td>...</td>\n      <td>...</td>\n      <td>...</td>\n      <td>...</td>\n    </tr>\n    <tr>\n      <th>77683</th>\n      <td>96162.0</td>\n      <td>2019.0</td>\n      <td>39.265990</td>\n      <td>-120.64145</td>\n    </tr>\n    <tr>\n      <th>77684</th>\n      <td>96162.0</td>\n      <td>2019.0</td>\n      <td>39.265990</td>\n      <td>-120.64145</td>\n    </tr>\n    <tr>\n      <th>77685</th>\n      <td>96162.0</td>\n      <td>2019.0</td>\n      <td>39.265990</td>\n      <td>-120.64145</td>\n    </tr>\n    <tr>\n      <th>77686</th>\n      <td>96162.0</td>\n      <td>2019.0</td>\n      <td>39.265990</td>\n      <td>-120.64145</td>\n    </tr>\n    <tr>\n      <th>77687</th>\n      <td>96162.0</td>\n      <td>2019.0</td>\n      <td>39.265990</td>\n      <td>-120.64145</td>\n    </tr>\n  </tbody>\n</table>\n<p>77688 rows × 4 columns</p>\n</div>",
            "text/plain": "           zip    YEAR   latitude  longitude\n0      92304.0  2013.0  34.548138 -115.65796\n1      92304.0  2013.0  34.548138 -115.65796\n2      92304.0  2013.0  34.548138 -115.65796\n3      92304.0  2013.0  34.548138 -115.65796\n4      92304.0  2013.0  34.548138 -115.65796\n...        ...     ...        ...        ...\n77683  96162.0  2019.0  39.265990 -120.64145\n77684  96162.0  2019.0  39.265990 -120.64145\n77685  96162.0  2019.0  39.265990 -120.64145\n77686  96162.0  2019.0  39.265990 -120.64145\n77687  96162.0  2019.0  39.265990 -120.64145\n\n[77688 rows x 4 columns]"
          },
          "execution_count": 146,
          "metadata": {},
          "output_type": "execute_result"
        }
      ],
      "execution_count": null
    },
    {
      "cell_type": "code",
      "metadata": {
        "cell_id": "00037-40f644db-34b3-432c-ae0f-712f259ca99e",
        "deepnote_cell_type": "code"
      },
      "source": "mod.insert(0, 'zip', repeatted_zips['zip'].astype(int))\n",
      "outputs": [],
      "execution_count": null
    },
    {
      "cell_type": "code",
      "metadata": {
        "cell_id": "00038-12efd3a1-1139-43b6-93aa-dda562eaa42e",
        "deepnote_cell_type": "code"
      },
      "source": "len(mod['zip'].unique())",
      "outputs": [
        {
          "data": {
            "text/plain": "932"
          },
          "execution_count": 242,
          "metadata": {},
          "output_type": "execute_result"
        }
      ],
      "execution_count": null
    },
    {
      "cell_type": "code",
      "metadata": {
        "cell_id": "00039-02feba12-9e0f-41fd-9e6a-9ce884df44cb",
        "deepnote_cell_type": "code"
      },
      "source": "## inner will yield 2013-2019, since there are no 2020 measurements from nrel\npge_with_nrel = pd.merge(left=pge_monthly[pge_monthly['YEAR']!= 2020], right=mod, left_on=['zip', 'MONTH', 'YEAR'], right_on=['zip','Month', 'Year'], how='left')",
      "outputs": [],
      "execution_count": null
    },
    {
      "cell_type": "code",
      "metadata": {
        "cell_id": "00040-2ee894f2-9291-4f23-b557-07ede2d0a9aa",
        "deepnote_cell_type": "code"
      },
      "source": "# display(pge_monthly[['zip', 'MONTH', 'YEAR']].head())\n# display(mod.head())\n# type(pge_monthly['YEAR'][0]), type(mod['Year'][0])\n# len(pge_with_nrel['zip'].unique())\n# m = 0\n# mi = []\n# for p in pge_monthly['zip'].unique():\n#     if p in mod['zip'].unique():\n#         print(p)\n#     else:\n#         m+=1\n#         mi.append(p)\n# print('missing:', m)\n# print(mi)\n# len(pge_with_nrel[pge_with_nrel['Year'].notna()]['zip'].unique())\n# pge_with_nrel[pge_with_nrel['Year'].isna()][['zip','MONTH', 'YEAR']]\n# len(pge_with_nrel['zip'].unique())\n# k = pge_with_nrel[pge_with_nrel['GHI'].isna()]#.groupby('zip').agg('count')\n# type(pge_monthly['ZIPCODE'][0]), type(pge_monthly['zip'][0]), type(mod['zip'][0])\npge_with_nrel",
      "outputs": [
        {
          "data": {
            "text/html": "<div>\n<style scoped>\n    .dataframe tbody tr th:only-of-type {\n        vertical-align: middle;\n    }\n\n    .dataframe tbody tr th {\n        vertical-align: top;\n    }\n\n    .dataframe thead th {\n        text-align: right;\n    }\n</style>\n<table border=\"1\" class=\"dataframe\">\n  <thead>\n    <tr style=\"text-align: right;\">\n      <th></th>\n      <th>zip</th>\n      <th>city</th>\n      <th>state</th>\n      <th>latitude_x</th>\n      <th>longitude_x</th>\n      <th>timezone</th>\n      <th>dst</th>\n      <th>ZIPCODE</th>\n      <th>DATE</th>\n      <th>MONTH</th>\n      <th>...</th>\n      <th>Year</th>\n      <th>GHI</th>\n      <th>DHI</th>\n      <th>DNI</th>\n      <th>Wind Speed</th>\n      <th>Temperature</th>\n      <th>Solar Zenith Angle</th>\n      <th>zipcode</th>\n      <th>latitude_y</th>\n      <th>longitude_y</th>\n    </tr>\n  </thead>\n  <tbody>\n    <tr>\n      <th>0</th>\n      <td>95717</td>\n      <td>Gold Run</td>\n      <td>CA</td>\n      <td>39.177026</td>\n      <td>-120.8451</td>\n      <td>-8</td>\n      <td>1</td>\n      <td>95717</td>\n      <td>2013-01-01</td>\n      <td>1</td>\n      <td>...</td>\n      <td>2013</td>\n      <td>107.88575268817205</td>\n      <td>29.571236559139784</td>\n      <td>211.56182795698925</td>\n      <td>0.3540322580645159</td>\n      <td>2.3481182795698925</td>\n      <td>105.82493279569903</td>\n      <td>95717.0</td>\n      <td>39.177026</td>\n      <td>-120.8451</td>\n    </tr>\n    <tr>\n      <th>1</th>\n      <td>95717</td>\n      <td>Gold Run</td>\n      <td>CA</td>\n      <td>39.177026</td>\n      <td>-120.8451</td>\n      <td>-8</td>\n      <td>1</td>\n      <td>95717</td>\n      <td>2013-02-01</td>\n      <td>2</td>\n      <td>...</td>\n      <td>2013</td>\n      <td>158.59375</td>\n      <td>36.48511904761905</td>\n      <td>269.0595238095238</td>\n      <td>0.40148809523809587</td>\n      <td>4.525297619047619</td>\n      <td>99.71912202380952</td>\n      <td>95717.0</td>\n      <td>39.177026</td>\n      <td>-120.8451</td>\n    </tr>\n    <tr>\n      <th>2</th>\n      <td>95717</td>\n      <td>Gold Run</td>\n      <td>CA</td>\n      <td>39.177026</td>\n      <td>-120.8451</td>\n      <td>-8</td>\n      <td>1</td>\n      <td>95717</td>\n      <td>2013-03-01</td>\n      <td>3</td>\n      <td>...</td>\n      <td>2013</td>\n      <td>183.19892473118279</td>\n      <td>68.31989247311827</td>\n      <td>206.93548387096774</td>\n      <td>0.3981182795698933</td>\n      <td>8.529569892473118</td>\n      <td>91.12526881720433</td>\n      <td>95717.0</td>\n      <td>39.177026</td>\n      <td>-120.8451</td>\n    </tr>\n    <tr>\n      <th>3</th>\n      <td>95717</td>\n      <td>Gold Run</td>\n      <td>CA</td>\n      <td>39.177026</td>\n      <td>-120.8451</td>\n      <td>-8</td>\n      <td>1</td>\n      <td>95717</td>\n      <td>2013-04-01</td>\n      <td>4</td>\n      <td>...</td>\n      <td>2013</td>\n      <td>269.525</td>\n      <td>66.2375</td>\n      <td>318.2472222222222</td>\n      <td>0.40958333333333385</td>\n      <td>11.322222222222223</td>\n      <td>82.1030138888889</td>\n      <td>95717.0</td>\n      <td>39.177026</td>\n      <td>-120.8451</td>\n    </tr>\n    <tr>\n      <th>4</th>\n      <td>95717</td>\n      <td>Gold Run</td>\n      <td>CA</td>\n      <td>39.177026</td>\n      <td>-120.8451</td>\n      <td>-8</td>\n      <td>1</td>\n      <td>95717</td>\n      <td>2013-05-01</td>\n      <td>5</td>\n      <td>...</td>\n      <td>2013</td>\n      <td>299.9287634408602</td>\n      <td>71.88306451612904</td>\n      <td>342.23118279569894</td>\n      <td>0.4310483870967741</td>\n      <td>14.850806451612904</td>\n      <td>75.24653225806456</td>\n      <td>95717.0</td>\n      <td>39.177026</td>\n      <td>-120.8451</td>\n    </tr>\n    <tr>\n      <th>...</th>\n      <td>...</td>\n      <td>...</td>\n      <td>...</td>\n      <td>...</td>\n      <td>...</td>\n      <td>...</td>\n      <td>...</td>\n      <td>...</td>\n      <td>...</td>\n      <td>...</td>\n      <td>...</td>\n      <td>...</td>\n      <td>...</td>\n      <td>...</td>\n      <td>...</td>\n      <td>...</td>\n      <td>...</td>\n      <td>...</td>\n      <td>...</td>\n      <td>...</td>\n      <td>...</td>\n    </tr>\n    <tr>\n      <th>136963</th>\n      <td>95811</td>\n      <td>Sacramnto</td>\n      <td>CA</td>\n      <td>38.596700</td>\n      <td>-121.4942</td>\n      <td>-8</td>\n      <td>1</td>\n      <td>95811</td>\n      <td>2019-08-01</td>\n      <td>8</td>\n      <td>...</td>\n      <td>2019</td>\n      <td>311.26344086021504</td>\n      <td>51.60349462365591</td>\n      <td>395.27284946236557</td>\n      <td>2.2737903225806466</td>\n      <td>26.286290322580637</td>\n      <td>79.54961021505376</td>\n      <td>95811.0</td>\n      <td>38.5967</td>\n      <td>-121.49420000000002</td>\n    </tr>\n    <tr>\n      <th>136964</th>\n      <td>95811</td>\n      <td>Sacramnto</td>\n      <td>CA</td>\n      <td>38.596700</td>\n      <td>-121.4942</td>\n      <td>-8</td>\n      <td>1</td>\n      <td>95811</td>\n      <td>2019-09-01</td>\n      <td>9</td>\n      <td>...</td>\n      <td>2019</td>\n      <td>244.57083333333333</td>\n      <td>48.915277777777774</td>\n      <td>335.4347222222222</td>\n      <td>2.023055555555555</td>\n      <td>23.207916666666673</td>\n      <td>87.9082916666665</td>\n      <td>95811.0</td>\n      <td>38.5967</td>\n      <td>-121.49420000000002</td>\n    </tr>\n    <tr>\n      <th>136965</th>\n      <td>95811</td>\n      <td>Sacramnto</td>\n      <td>CA</td>\n      <td>38.596700</td>\n      <td>-121.4942</td>\n      <td>-8</td>\n      <td>1</td>\n      <td>95811</td>\n      <td>2019-10-01</td>\n      <td>10</td>\n      <td>...</td>\n      <td>2019</td>\n      <td>193.0188172043011</td>\n      <td>39.31989247311828</td>\n      <td>304.5766129032258</td>\n      <td>1.8063172043010742</td>\n      <td>18.629838709677415</td>\n      <td>96.89096774193553</td>\n      <td>95811.0</td>\n      <td>38.5967</td>\n      <td>-121.49420000000002</td>\n    </tr>\n    <tr>\n      <th>136966</th>\n      <td>95811</td>\n      <td>Sacramnto</td>\n      <td>CA</td>\n      <td>38.596700</td>\n      <td>-121.4942</td>\n      <td>-8</td>\n      <td>1</td>\n      <td>95811</td>\n      <td>2019-11-01</td>\n      <td>11</td>\n      <td>...</td>\n      <td>2019</td>\n      <td>125.96388888888889</td>\n      <td>34.84583333333333</td>\n      <td>219.58333333333334</td>\n      <td>1.545833333333334</td>\n      <td>14.595000000000027</td>\n      <td>104.16968055555537</td>\n      <td>95811.0</td>\n      <td>38.5967</td>\n      <td>-121.49420000000002</td>\n    </tr>\n    <tr>\n      <th>136967</th>\n      <td>95811</td>\n      <td>Sacramnto</td>\n      <td>CA</td>\n      <td>38.596700</td>\n      <td>-121.4942</td>\n      <td>-8</td>\n      <td>1</td>\n      <td>95811</td>\n      <td>2019-12-01</td>\n      <td>12</td>\n      <td>...</td>\n      <td>2019</td>\n      <td>73.79032258064517</td>\n      <td>32.318548387096776</td>\n      <td>113.91532258064517</td>\n      <td>2.115053763440863</td>\n      <td>9.82096774193547</td>\n      <td>107.50063172043019</td>\n      <td>95811.0</td>\n      <td>38.5967</td>\n      <td>-121.49420000000002</td>\n    </tr>\n  </tbody>\n</table>\n<p>136968 rows × 35 columns</p>\n</div>",
            "text/plain": "          zip       city state  latitude_x  longitude_x timezone dst  ZIPCODE  \\\n0       95717   Gold Run    CA   39.177026    -120.8451       -8   1    95717   \n1       95717   Gold Run    CA   39.177026    -120.8451       -8   1    95717   \n2       95717   Gold Run    CA   39.177026    -120.8451       -8   1    95717   \n3       95717   Gold Run    CA   39.177026    -120.8451       -8   1    95717   \n4       95717   Gold Run    CA   39.177026    -120.8451       -8   1    95717   \n...       ...        ...   ...         ...          ...      ...  ..      ...   \n136963  95811  Sacramnto    CA   38.596700    -121.4942       -8   1    95811   \n136964  95811  Sacramnto    CA   38.596700    -121.4942       -8   1    95811   \n136965  95811  Sacramnto    CA   38.596700    -121.4942       -8   1    95811   \n136966  95811  Sacramnto    CA   38.596700    -121.4942       -8   1    95811   \n136967  95811  Sacramnto    CA   38.596700    -121.4942       -8   1    95811   \n\n              DATE  MONTH  ...  Year                 GHI                 DHI  \\\n0       2013-01-01      1  ...  2013  107.88575268817205  29.571236559139784   \n1       2013-02-01      2  ...  2013           158.59375   36.48511904761905   \n2       2013-03-01      3  ...  2013  183.19892473118279   68.31989247311827   \n3       2013-04-01      4  ...  2013             269.525             66.2375   \n4       2013-05-01      5  ...  2013   299.9287634408602   71.88306451612904   \n...            ...    ...  ...   ...                 ...                 ...   \n136963  2019-08-01      8  ...  2019  311.26344086021504   51.60349462365591   \n136964  2019-09-01      9  ...  2019  244.57083333333333  48.915277777777774   \n136965  2019-10-01     10  ...  2019   193.0188172043011   39.31989247311828   \n136966  2019-11-01     11  ...  2019  125.96388888888889   34.84583333333333   \n136967  2019-12-01     12  ...  2019   73.79032258064517  32.318548387096776   \n\n                       DNI           Wind Speed         Temperature  \\\n0       211.56182795698925   0.3540322580645159  2.3481182795698925   \n1        269.0595238095238  0.40148809523809587   4.525297619047619   \n2       206.93548387096774   0.3981182795698933   8.529569892473118   \n3        318.2472222222222  0.40958333333333385  11.322222222222223   \n4       342.23118279569894   0.4310483870967741  14.850806451612904   \n...                    ...                  ...                 ...   \n136963  395.27284946236557   2.2737903225806466  26.286290322580637   \n136964   335.4347222222222    2.023055555555555  23.207916666666673   \n136965   304.5766129032258   1.8063172043010742  18.629838709677415   \n136966  219.58333333333334    1.545833333333334  14.595000000000027   \n136967  113.91532258064517    2.115053763440863    9.82096774193547   \n\n        Solar Zenith Angle  zipcode  latitude_y          longitude_y  \n0       105.82493279569903  95717.0   39.177026            -120.8451  \n1        99.71912202380952  95717.0   39.177026            -120.8451  \n2        91.12526881720433  95717.0   39.177026            -120.8451  \n3         82.1030138888889  95717.0   39.177026            -120.8451  \n4        75.24653225806456  95717.0   39.177026            -120.8451  \n...                    ...      ...         ...                  ...  \n136963   79.54961021505376  95811.0     38.5967  -121.49420000000002  \n136964    87.9082916666665  95811.0     38.5967  -121.49420000000002  \n136965   96.89096774193553  95811.0     38.5967  -121.49420000000002  \n136966  104.16968055555537  95811.0     38.5967  -121.49420000000002  \n136967  107.50063172043019  95811.0     38.5967  -121.49420000000002  \n\n[136968 rows x 35 columns]"
          },
          "execution_count": 319,
          "metadata": {},
          "output_type": "execute_result"
        }
      ],
      "execution_count": null
    },
    {
      "cell_type": "code",
      "metadata": {
        "cell_id": "00041-f64eae19-0b85-40bb-8907-2e32df2cd440",
        "deepnote_cell_type": "code"
      },
      "source": "## storing this for future reference\npge_with_nrel.to_file('cleaned_data/all-pge-with-nrel/pge-energy-consumption-with-nrel-solar_2013-2019_136968x35.shp')",
      "outputs": [],
      "execution_count": null
    },
    {
      "cell_type": "code",
      "metadata": {
        "cell_id": "00042-57d5790b-ef39-46f3-9e4b-13f04f903848",
        "deepnote_cell_type": "code"
      },
      "source": "print('Comparing full pge(2013-2020) and 2013-2019 datasets')\nprint(pge_monthly.shape)\nprint(pge_with_nrel.shape)",
      "outputs": [
        {
          "name": "stdout",
          "output_type": "stream",
          "text": "Comparing full pge(2013-2020) and 2013-2019 datasets\n(154283, 24)\n(136968, 35)\n"
        }
      ],
      "execution_count": null
    },
    {
      "cell_type": "code",
      "metadata": {
        "cell_id": "00043-00c842dc-d061-4518-9892-9d1c38c5a886",
        "deepnote_cell_type": "code"
      },
      "source": "!ls cleaned_data",
      "outputs": [
        {
          "name": "stdout",
          "output_type": "stream",
          "text": "\u001b[34mall-pge-with-nrel\u001b[m\u001b[m\r\nfull-pge-monthly-consumption_2013-2020_with-zipcodes-and-cities.cpg\r\nfull-pge-monthly-consumption_2013-2020_with-zipcodes-and-cities.dbf\r\nfull-pge-monthly-consumption_2013-2020_with-zipcodes-and-cities.prj\r\nfull-pge-monthly-consumption_2013-2020_with-zipcodes-and-cities.shp\r\nfull-pge-monthly-consumption_2013-2020_with-zipcodes-and-cities.shx\r\n\u001b[34mfull-pge-with-nrel\u001b[m\u001b[m\r\nnrel_full.csv\r\nnrel_sample.csv\r\npge-monthly-consumption_2013-2020.csv\r\npge-monthly-elec-by-zip_2013-2020.csv\r\npge-monthly-full-cleaned-by-zip_2013-2020.csv\r\npge-monthly-gas-by-zip_2013-2020.csv\r\n"
        }
      ],
      "execution_count": null
    },
    {
      "cell_type": "code",
      "metadata": {
        "cell_id": "00044-d78848cb-5fbf-48fb-99f3-b2da17adfb2f",
        "deepnote_cell_type": "code"
      },
      "source": "",
      "execution_count": null,
      "outputs": []
    },
    {
      "cell_type": "markdown",
      "source": "<a style='text-decoration:none;line-height:16px;display:flex;color:#5B5B62;padding:10px;justify-content:end;' href='https://deepnote.com?utm_source=created-in-deepnote-cell&projectId=c2f0e727-e6a4-4b2a-b180-a91c3a609ecf' target=\"_blank\">\n<img alt='Created in deepnote.com' style='display:inline;max-height:16px;margin:0px;margin-right:7.5px;' src='data:image/svg+xml;base64,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' > </img>\nCreated in <span style='font-weight:600;margin-left:4px;'>Deepnote</span></a>",
      "metadata": {
        "tags": [],
        "created_in_deepnote_cell": true,
        "deepnote_cell_type": "markdown"
      }
    }
  ],
  "nbformat": 4,
  "nbformat_minor": 2,
  "metadata": {
    "kernelspec": {
      "display_name": "Python 3",
      "language": "python",
      "name": "python3"
    },
    "language_info": {
      "codemirror_mode": {
        "name": "ipython",
        "version": 3
      },
      "file_extension": ".py",
      "mimetype": "text/x-python",
      "name": "python",
      "nbconvert_exporter": "python",
      "pygments_lexer": "ipython3",
      "version": "3.7.3"
    },
    "deepnote_notebook_id": "8fc4b255-03cb-4495-84de-231996cd8481",
    "deepnote": {},
    "deepnote_execution_queue": []
  }
}