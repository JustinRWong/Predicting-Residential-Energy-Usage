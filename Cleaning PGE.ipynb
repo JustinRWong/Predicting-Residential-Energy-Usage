{
  "cells": [
    {
      "cell_type": "code",
      "metadata": {
        "cell_id": "00000-445a1d3d-b3c1-45c3-a395-68d7101ddb1d",
        "deepnote_cell_type": "code"
      },
      "source": "import numpy as np\nimport pandas as pd",
      "outputs": [],
      "execution_count": null
    },
    {
      "cell_type": "code",
      "metadata": {
        "cell_id": "00001-75201d83-34fd-4bf1-a437-8200eb896995",
        "deepnote_cell_type": "code"
      },
      "source": "'''\nfunction that will replace strings in `list_of_replacements` with `substitute` \nin the specified column `col` of the given dataframe `df`.\n\ndf: the pandas dataframe\ncol: the specific column that will contain the balues in list_of_replacements\nsubstitute: the desired string. This should be the standardized string.\nlist_of_replacements: list of alternatives that will be replaced with substitute\n'''\ndef clean_col(_df, col, substitute, list_of_replacements, inplace=True):\n    ## allow in place substitutions or  new copy\n    df = _df\n    if not inplace:\n        df = _df.copy()\n    \n    assert col in df.columns, \"Make sure the column exists in your DataFrame\"\n    assert type(list_of_replacements) == list, \"`list_of_replacements` must be a list\"\n    \n    for replacement in list_of_replacements:\n        df[col] = df[col].replace(replacement, substitute)\n    return df\n\n'''\nPretty prints the unique values in a column `col` for a particular dataframe `df`.\n\nThis will print the exact value between ``. This helps determine if text has leading/trailing spaces\n'''\ndef col_value_counts(df, col):\n    assert col in df.columns, \"Make sure the column exists in your DataFrame\"\n    \n    values_counted = df[col].value_counts()\n    for k, v in values_counted.items():\n#         v = values_counted[c]\n        print('`{k}` : {v}'.format(k=k, v=v))\n    \n    \ndef pretty_print_cols(df):\n    garbo = [print(c) for c in df.columns]",
      "outputs": [],
      "execution_count": null
    },
    {
      "cell_type": "code",
      "metadata": {
        "cell_id": "00002-4a9ba003-ef0f-438a-9b3b-f73e73d3f188",
        "deepnote_cell_type": "code"
      },
      "source": "!ls cleaned_data",
      "outputs": [
        {
          "name": "stdout",
          "output_type": "stream",
          "text": "pge-monthly-consumption_2013-2020.csv\r\npge-monthly-consumption_2013-2020_with-zipcodes-and-cities.cpg\r\npge-monthly-consumption_2013-2020_with-zipcodes-and-cities.dbf\r\npge-monthly-consumption_2013-2020_with-zipcodes-and-cities.prj\r\npge-monthly-consumption_2013-2020_with-zipcodes-and-cities.shp\r\npge-monthly-consumption_2013-2020_with-zipcodes-and-cities.shx\r\npge-monthly-elec-by-zip_2013-2020.csv\r\npge-monthly-gas-by-zip_2013-2020.csv\r\n"
        }
      ],
      "execution_count": null
    },
    {
      "cell_type": "code",
      "metadata": {
        "cell_id": "00003-c111ab7c-6c18-4ae4-a784-803b8666b876",
        "deepnote_cell_type": "code"
      },
      "source": "combinded_pge_fn = \"cleaned_data/pge-monthly-consumption_2013-2020.csv\"\npge_full = pd.read_csv(combinded_pge_fn)\n",
      "outputs": [
        {
          "name": "stderr",
          "output_type": "stream",
          "text": "/Library/Python/anaconda3/lib/python3.7/site-packages/IPython/core/interactiveshell.py:3049: DtypeWarning: Columns (10,11) have mixed types.Specify dtype option on import or set low_memory=False.\n  interactivity=interactivity, compiler=compiler, result=result)\n"
        }
      ],
      "execution_count": null
    },
    {
      "cell_type": "code",
      "metadata": {
        "cell_id": "00004-653b4d70-62b9-4518-92ff-c3f8634b3eea",
        "deepnote_cell_type": "code"
      },
      "source": "print(pge_full.shape)\nprint(pge_full.columns)\npge_full.head()",
      "outputs": [
        {
          "name": "stdout",
          "output_type": "stream",
          "text": "(154283, 13)\nIndex(['Unnamed: 0', 'ZIPCODE', 'MONTH', 'YEAR', 'CUSTOMERCLASS', 'COMBINED',\n       'TOTALCUSTOMERS', 'TOTALKWH', 'AVERAGEKWH', 'TOTALTHM', 'AVERAGETHM',\n       'TOTALTHERMS', 'AVERAGETHERMS'],\n      dtype='object')\n"
        },
        {
          "data": {
            "text/html": "<div>\n<style scoped>\n    .dataframe tbody tr th:only-of-type {\n        vertical-align: middle;\n    }\n\n    .dataframe tbody tr th {\n        vertical-align: top;\n    }\n\n    .dataframe thead th {\n        text-align: right;\n    }\n</style>\n<table border=\"1\" class=\"dataframe\">\n  <thead>\n    <tr style=\"text-align: right;\">\n      <th></th>\n      <th>Unnamed: 0</th>\n      <th>ZIPCODE</th>\n      <th>MONTH</th>\n      <th>YEAR</th>\n      <th>CUSTOMERCLASS</th>\n      <th>COMBINED</th>\n      <th>TOTALCUSTOMERS</th>\n      <th>TOTALKWH</th>\n      <th>AVERAGEKWH</th>\n      <th>TOTALTHM</th>\n      <th>AVERAGETHM</th>\n      <th>TOTALTHERMS</th>\n      <th>AVERAGETHERMS</th>\n    </tr>\n  </thead>\n  <tbody>\n    <tr>\n      <th>0</th>\n      <td>4956</td>\n      <td>93101.0</td>\n      <td>1.0</td>\n      <td>2013.0</td>\n      <td>Elec- Residential</td>\n      <td>Y</td>\n      <td>0</td>\n      <td>0</td>\n      <td>NaN</td>\n      <td>NaN</td>\n      <td>NaN</td>\n      <td>NaN</td>\n      <td>NaN</td>\n    </tr>\n    <tr>\n      <th>1</th>\n      <td>4957</td>\n      <td>93101.0</td>\n      <td>2.0</td>\n      <td>2013.0</td>\n      <td>Elec- Residential</td>\n      <td>Y</td>\n      <td>0</td>\n      <td>0</td>\n      <td>NaN</td>\n      <td>NaN</td>\n      <td>NaN</td>\n      <td>NaN</td>\n      <td>NaN</td>\n    </tr>\n    <tr>\n      <th>2</th>\n      <td>4958</td>\n      <td>93101.0</td>\n      <td>3.0</td>\n      <td>2013.0</td>\n      <td>Elec- Residential</td>\n      <td>Y</td>\n      <td>0</td>\n      <td>0</td>\n      <td>NaN</td>\n      <td>NaN</td>\n      <td>NaN</td>\n      <td>NaN</td>\n      <td>NaN</td>\n    </tr>\n    <tr>\n      <th>3</th>\n      <td>4959</td>\n      <td>93105.0</td>\n      <td>1.0</td>\n      <td>2013.0</td>\n      <td>Elec- Residential</td>\n      <td>Y</td>\n      <td>0</td>\n      <td>0</td>\n      <td>NaN</td>\n      <td>NaN</td>\n      <td>NaN</td>\n      <td>NaN</td>\n      <td>NaN</td>\n    </tr>\n    <tr>\n      <th>4</th>\n      <td>4960</td>\n      <td>93105.0</td>\n      <td>2.0</td>\n      <td>2013.0</td>\n      <td>Elec- Residential</td>\n      <td>Y</td>\n      <td>0</td>\n      <td>0</td>\n      <td>NaN</td>\n      <td>NaN</td>\n      <td>NaN</td>\n      <td>NaN</td>\n      <td>NaN</td>\n    </tr>\n  </tbody>\n</table>\n</div>",
            "text/plain": "   Unnamed: 0  ZIPCODE  MONTH    YEAR      CUSTOMERCLASS COMBINED  \\\n0        4956  93101.0    1.0  2013.0  Elec- Residential        Y   \n1        4957  93101.0    2.0  2013.0  Elec- Residential        Y   \n2        4958  93101.0    3.0  2013.0  Elec- Residential        Y   \n3        4959  93105.0    1.0  2013.0  Elec- Residential        Y   \n4        4960  93105.0    2.0  2013.0  Elec- Residential        Y   \n\n  TOTALCUSTOMERS TOTALKWH AVERAGEKWH TOTALTHM AVERAGETHM TOTALTHERMS  \\\n0              0        0        NaN      NaN        NaN         NaN   \n1              0        0        NaN      NaN        NaN         NaN   \n2              0        0        NaN      NaN        NaN         NaN   \n3              0        0        NaN      NaN        NaN         NaN   \n4              0        0        NaN      NaN        NaN         NaN   \n\n   AVERAGETHERMS  \n0            NaN  \n1            NaN  \n2            NaN  \n3            NaN  \n4            NaN  "
          },
          "execution_count": 5,
          "metadata": {},
          "output_type": "execute_result"
        }
      ],
      "execution_count": null
    },
    {
      "cell_type": "markdown",
      "source": "## Data Types for Zipcode, Month, and Year\n\nWe want want certain columns to be integers",
      "metadata": {
        "cell_id": "00005-136428b7-0fe2-4b61-924e-3e750b92da78",
        "deepnote_cell_type": "markdown"
      }
    },
    {
      "cell_type": "code",
      "metadata": {
        "cell_id": "00006-3f5609e4-bfe3-4bb0-9bc7-ebb4dc652470",
        "deepnote_cell_type": "code"
      },
      "source": "## Specify which columns have certain data types\nconvert_dict = {\n    'ZIPCODE': int,\n    'MONTH': int,\n    'YEAR': int,\n    'TOTALCUSTOMERS': int,\n    'TOTALKWH': int,\n    'AVERAGEKWH': int,\n    'TOTALTHM': int,\n    'AVERAGETHM': int,\n    'TOTALTHERMS': int,\n    'AVERAGETHERMS': int\n    \n}\n## Drop columns we dont want to keep\nbad_index = 'Unnamed: 0'\nif bad_index in pge_full.columns:\n    pge_full = pge_full.drop('Unnamed: 0', axis=1)\n    \n## Get rid of commas for the columns that are supposed to be integers\npge_full.replace(',', '', regex=True, inplace=True)\npge_full.fillna(0, inplace=True)\n\nnumerical_columns = ['TOTALCUSTOMERS', 'TOTALKWH', 'AVERAGEKWH', 'TOTALTHM', 'AVERAGETHM','TOTALTHERMS', 'AVERAGETHERMS']\nfor num_col in numerical_columns:\n    pge_full[num_col] = pge_full[num_col].apply(pd.to_numeric, errors='coerce')\n\npge_full = pge_full.astype(convert_dict)",
      "outputs": [],
      "execution_count": null
    },
    {
      "cell_type": "code",
      "metadata": {
        "cell_id": "00007-52629650-5527-446d-a671-454b47874d86",
        "deepnote_cell_type": "code"
      },
      "source": "print(pge_full.shape)\nprint(pge_full.columns)\npge_full.head()",
      "outputs": [
        {
          "name": "stdout",
          "output_type": "stream",
          "text": "(154283, 12)\nIndex(['ZIPCODE', 'MONTH', 'YEAR', 'CUSTOMERCLASS', 'COMBINED',\n       'TOTALCUSTOMERS', 'TOTALKWH', 'AVERAGEKWH', 'TOTALTHM', 'AVERAGETHM',\n       'TOTALTHERMS', 'AVERAGETHERMS'],\n      dtype='object')\n"
        },
        {
          "data": {
            "text/html": "<div>\n<style scoped>\n    .dataframe tbody tr th:only-of-type {\n        vertical-align: middle;\n    }\n\n    .dataframe tbody tr th {\n        vertical-align: top;\n    }\n\n    .dataframe thead th {\n        text-align: right;\n    }\n</style>\n<table border=\"1\" class=\"dataframe\">\n  <thead>\n    <tr style=\"text-align: right;\">\n      <th></th>\n      <th>ZIPCODE</th>\n      <th>MONTH</th>\n      <th>YEAR</th>\n      <th>CUSTOMERCLASS</th>\n      <th>COMBINED</th>\n      <th>TOTALCUSTOMERS</th>\n      <th>TOTALKWH</th>\n      <th>AVERAGEKWH</th>\n      <th>TOTALTHM</th>\n      <th>AVERAGETHM</th>\n      <th>TOTALTHERMS</th>\n      <th>AVERAGETHERMS</th>\n    </tr>\n  </thead>\n  <tbody>\n    <tr>\n      <th>0</th>\n      <td>93101</td>\n      <td>1</td>\n      <td>2013</td>\n      <td>Elec- Residential</td>\n      <td>Y</td>\n      <td>0</td>\n      <td>0</td>\n      <td>0</td>\n      <td>0</td>\n      <td>0</td>\n      <td>0</td>\n      <td>0</td>\n    </tr>\n    <tr>\n      <th>1</th>\n      <td>93101</td>\n      <td>2</td>\n      <td>2013</td>\n      <td>Elec- Residential</td>\n      <td>Y</td>\n      <td>0</td>\n      <td>0</td>\n      <td>0</td>\n      <td>0</td>\n      <td>0</td>\n      <td>0</td>\n      <td>0</td>\n    </tr>\n    <tr>\n      <th>2</th>\n      <td>93101</td>\n      <td>3</td>\n      <td>2013</td>\n      <td>Elec- Residential</td>\n      <td>Y</td>\n      <td>0</td>\n      <td>0</td>\n      <td>0</td>\n      <td>0</td>\n      <td>0</td>\n      <td>0</td>\n      <td>0</td>\n    </tr>\n    <tr>\n      <th>3</th>\n      <td>93105</td>\n      <td>1</td>\n      <td>2013</td>\n      <td>Elec- Residential</td>\n      <td>Y</td>\n      <td>0</td>\n      <td>0</td>\n      <td>0</td>\n      <td>0</td>\n      <td>0</td>\n      <td>0</td>\n      <td>0</td>\n    </tr>\n    <tr>\n      <th>4</th>\n      <td>93105</td>\n      <td>2</td>\n      <td>2013</td>\n      <td>Elec- Residential</td>\n      <td>Y</td>\n      <td>0</td>\n      <td>0</td>\n      <td>0</td>\n      <td>0</td>\n      <td>0</td>\n      <td>0</td>\n      <td>0</td>\n    </tr>\n  </tbody>\n</table>\n</div>",
            "text/plain": "   ZIPCODE  MONTH  YEAR      CUSTOMERCLASS COMBINED  TOTALCUSTOMERS  TOTALKWH  \\\n0    93101      1  2013  Elec- Residential        Y               0         0   \n1    93101      2  2013  Elec- Residential        Y               0         0   \n2    93101      3  2013  Elec- Residential        Y               0         0   \n3    93105      1  2013  Elec- Residential        Y               0         0   \n4    93105      2  2013  Elec- Residential        Y               0         0   \n\n   AVERAGEKWH  TOTALTHM  AVERAGETHM  TOTALTHERMS  AVERAGETHERMS  \n0           0         0           0            0              0  \n1           0         0           0            0              0  \n2           0         0           0            0              0  \n3           0         0           0            0              0  \n4           0         0           0            0              0  "
          },
          "execution_count": 7,
          "metadata": {},
          "output_type": "execute_result"
        }
      ],
      "execution_count": null
    },
    {
      "cell_type": "markdown",
      "source": "## Consolidating Columns\n\nLooking at `TOTALTHM` and `TOTALTHERMS`, these two columns should be exactly the same, but theyre simply named differently. They both represent gas usage.\n\nThis is the same case for `AVERAGETHM` and `AVERAGETHERMS`.\n\nWe will simply add these columns and drop one of them.",
      "metadata": {
        "cell_id": "00008-363d1372-e1a0-4c1d-bd21-d464c48a7dc3",
        "deepnote_cell_type": "markdown"
      }
    },
    {
      "cell_type": "code",
      "metadata": {
        "cell_id": "00009-cc4642bb-ff79-40d6-a012-292a2ec8666f",
        "deepnote_cell_type": "code"
      },
      "source": "pge_full[(pge_full['ZIPCODE'] == 96090) & (pge_full['YEAR'] == 2013)].sort_values('MONTH')",
      "outputs": [
        {
          "data": {
            "text/html": "<div>\n<style scoped>\n    .dataframe tbody tr th:only-of-type {\n        vertical-align: middle;\n    }\n\n    .dataframe tbody tr th {\n        vertical-align: top;\n    }\n\n    .dataframe thead th {\n        text-align: right;\n    }\n</style>\n<table border=\"1\" class=\"dataframe\">\n  <thead>\n    <tr style=\"text-align: right;\">\n      <th></th>\n      <th>ZIPCODE</th>\n      <th>MONTH</th>\n      <th>YEAR</th>\n      <th>CUSTOMERCLASS</th>\n      <th>COMBINED</th>\n      <th>TOTALCUSTOMERS</th>\n      <th>TOTALKWH</th>\n      <th>AVERAGEKWH</th>\n      <th>TOTALTHM</th>\n      <th>AVERAGETHM</th>\n      <th>TOTALTHERMS</th>\n      <th>AVERAGETHERMS</th>\n    </tr>\n  </thead>\n  <tbody>\n    <tr>\n      <th>2549</th>\n      <td>96090</td>\n      <td>1</td>\n      <td>2013</td>\n      <td>Elec- Residential</td>\n      <td>N</td>\n      <td>185</td>\n      <td>124847</td>\n      <td>675</td>\n      <td>0</td>\n      <td>0</td>\n      <td>0</td>\n      <td>0</td>\n    </tr>\n    <tr>\n      <th>4338</th>\n      <td>96090</td>\n      <td>1</td>\n      <td>2013</td>\n      <td>Gas- Residential</td>\n      <td>N</td>\n      <td>148</td>\n      <td>0</td>\n      <td>0</td>\n      <td>11489</td>\n      <td>78</td>\n      <td>0</td>\n      <td>0</td>\n    </tr>\n    <tr>\n      <th>2550</th>\n      <td>96090</td>\n      <td>2</td>\n      <td>2013</td>\n      <td>Elec- Residential</td>\n      <td>N</td>\n      <td>185</td>\n      <td>97928</td>\n      <td>529</td>\n      <td>0</td>\n      <td>0</td>\n      <td>0</td>\n      <td>0</td>\n    </tr>\n    <tr>\n      <th>4339</th>\n      <td>96090</td>\n      <td>2</td>\n      <td>2013</td>\n      <td>Gas- Residential</td>\n      <td>N</td>\n      <td>148</td>\n      <td>0</td>\n      <td>0</td>\n      <td>7408</td>\n      <td>50</td>\n      <td>0</td>\n      <td>0</td>\n    </tr>\n    <tr>\n      <th>2551</th>\n      <td>96090</td>\n      <td>3</td>\n      <td>2013</td>\n      <td>Elec- Residential</td>\n      <td>N</td>\n      <td>186</td>\n      <td>94196</td>\n      <td>506</td>\n      <td>0</td>\n      <td>0</td>\n      <td>0</td>\n      <td>0</td>\n    </tr>\n    <tr>\n      <th>4340</th>\n      <td>96090</td>\n      <td>3</td>\n      <td>2013</td>\n      <td>Gas- Residential</td>\n      <td>N</td>\n      <td>149</td>\n      <td>0</td>\n      <td>0</td>\n      <td>4617</td>\n      <td>31</td>\n      <td>0</td>\n      <td>0</td>\n    </tr>\n    <tr>\n      <th>6894</th>\n      <td>96090</td>\n      <td>4</td>\n      <td>2013</td>\n      <td>Elec- Residential</td>\n      <td>N</td>\n      <td>186</td>\n      <td>89356</td>\n      <td>480</td>\n      <td>0</td>\n      <td>0</td>\n      <td>0</td>\n      <td>0</td>\n    </tr>\n    <tr>\n      <th>8685</th>\n      <td>96090</td>\n      <td>4</td>\n      <td>2013</td>\n      <td>Gas- Residential</td>\n      <td>N</td>\n      <td>149</td>\n      <td>0</td>\n      <td>0</td>\n      <td>2711</td>\n      <td>18</td>\n      <td>0</td>\n      <td>0</td>\n    </tr>\n    <tr>\n      <th>6895</th>\n      <td>96090</td>\n      <td>5</td>\n      <td>2013</td>\n      <td>Elec- Residential</td>\n      <td>N</td>\n      <td>185</td>\n      <td>107253</td>\n      <td>580</td>\n      <td>0</td>\n      <td>0</td>\n      <td>0</td>\n      <td>0</td>\n    </tr>\n    <tr>\n      <th>8686</th>\n      <td>96090</td>\n      <td>5</td>\n      <td>2013</td>\n      <td>Gas- Residential</td>\n      <td>N</td>\n      <td>149</td>\n      <td>0</td>\n      <td>0</td>\n      <td>1824</td>\n      <td>12</td>\n      <td>0</td>\n      <td>0</td>\n    </tr>\n    <tr>\n      <th>8687</th>\n      <td>96090</td>\n      <td>6</td>\n      <td>2013</td>\n      <td>Gas- Residential</td>\n      <td>N</td>\n      <td>148</td>\n      <td>0</td>\n      <td>0</td>\n      <td>1483</td>\n      <td>10</td>\n      <td>0</td>\n      <td>0</td>\n    </tr>\n    <tr>\n      <th>6896</th>\n      <td>96090</td>\n      <td>6</td>\n      <td>2013</td>\n      <td>Elec- Residential</td>\n      <td>N</td>\n      <td>183</td>\n      <td>143483</td>\n      <td>784</td>\n      <td>0</td>\n      <td>0</td>\n      <td>0</td>\n      <td>0</td>\n    </tr>\n    <tr>\n      <th>11237</th>\n      <td>96090</td>\n      <td>7</td>\n      <td>2013</td>\n      <td>Elec- Residential</td>\n      <td>N</td>\n      <td>185</td>\n      <td>180177</td>\n      <td>974</td>\n      <td>0</td>\n      <td>0</td>\n      <td>0</td>\n      <td>0</td>\n    </tr>\n    <tr>\n      <th>13029</th>\n      <td>96090</td>\n      <td>7</td>\n      <td>2013</td>\n      <td>Gas- Residential</td>\n      <td>N</td>\n      <td>150</td>\n      <td>0</td>\n      <td>0</td>\n      <td>1365</td>\n      <td>9</td>\n      <td>0</td>\n      <td>0</td>\n    </tr>\n    <tr>\n      <th>11238</th>\n      <td>96090</td>\n      <td>8</td>\n      <td>2013</td>\n      <td>Elec- Residential</td>\n      <td>N</td>\n      <td>184</td>\n      <td>143185</td>\n      <td>778</td>\n      <td>0</td>\n      <td>0</td>\n      <td>0</td>\n      <td>0</td>\n    </tr>\n    <tr>\n      <th>13030</th>\n      <td>96090</td>\n      <td>8</td>\n      <td>2013</td>\n      <td>Gas- Residential</td>\n      <td>N</td>\n      <td>148</td>\n      <td>0</td>\n      <td>0</td>\n      <td>1376</td>\n      <td>9</td>\n      <td>0</td>\n      <td>0</td>\n    </tr>\n    <tr>\n      <th>13031</th>\n      <td>96090</td>\n      <td>9</td>\n      <td>2013</td>\n      <td>Gas- Residential</td>\n      <td>N</td>\n      <td>146</td>\n      <td>0</td>\n      <td>0</td>\n      <td>1545</td>\n      <td>11</td>\n      <td>0</td>\n      <td>0</td>\n    </tr>\n    <tr>\n      <th>11239</th>\n      <td>96090</td>\n      <td>9</td>\n      <td>2013</td>\n      <td>Elec- Residential</td>\n      <td>N</td>\n      <td>182</td>\n      <td>108164</td>\n      <td>594</td>\n      <td>0</td>\n      <td>0</td>\n      <td>0</td>\n      <td>0</td>\n    </tr>\n    <tr>\n      <th>15584</th>\n      <td>96090</td>\n      <td>10</td>\n      <td>2013</td>\n      <td>Elec- Residential</td>\n      <td>N</td>\n      <td>180</td>\n      <td>87984</td>\n      <td>489</td>\n      <td>0</td>\n      <td>0</td>\n      <td>0</td>\n      <td>0</td>\n    </tr>\n    <tr>\n      <th>17377</th>\n      <td>96090</td>\n      <td>10</td>\n      <td>2013</td>\n      <td>Gas- Residential</td>\n      <td>N</td>\n      <td>145</td>\n      <td>0</td>\n      <td>0</td>\n      <td>3011</td>\n      <td>21</td>\n      <td>0</td>\n      <td>0</td>\n    </tr>\n    <tr>\n      <th>26923</th>\n      <td>96090</td>\n      <td>10</td>\n      <td>2013</td>\n      <td>Elec- Residential</td>\n      <td>N</td>\n      <td>180</td>\n      <td>87984</td>\n      <td>489</td>\n      <td>0</td>\n      <td>0</td>\n      <td>0</td>\n      <td>0</td>\n    </tr>\n    <tr>\n      <th>36952</th>\n      <td>96090</td>\n      <td>10</td>\n      <td>2013</td>\n      <td>Gas- Residential</td>\n      <td>N</td>\n      <td>145</td>\n      <td>0</td>\n      <td>0</td>\n      <td>0</td>\n      <td>0</td>\n      <td>3011</td>\n      <td>21</td>\n    </tr>\n    <tr>\n      <th>15585</th>\n      <td>96090</td>\n      <td>11</td>\n      <td>2013</td>\n      <td>Elec- Residential</td>\n      <td>N</td>\n      <td>180</td>\n      <td>98259</td>\n      <td>546</td>\n      <td>0</td>\n      <td>0</td>\n      <td>0</td>\n      <td>0</td>\n    </tr>\n    <tr>\n      <th>17378</th>\n      <td>96090</td>\n      <td>11</td>\n      <td>2013</td>\n      <td>Gas- Residential</td>\n      <td>N</td>\n      <td>145</td>\n      <td>0</td>\n      <td>0</td>\n      <td>6149</td>\n      <td>42</td>\n      <td>0</td>\n      <td>0</td>\n    </tr>\n    <tr>\n      <th>27781</th>\n      <td>96090</td>\n      <td>11</td>\n      <td>2013</td>\n      <td>Elec- Residential</td>\n      <td>N</td>\n      <td>180</td>\n      <td>98259</td>\n      <td>546</td>\n      <td>0</td>\n      <td>0</td>\n      <td>0</td>\n      <td>0</td>\n    </tr>\n    <tr>\n      <th>37545</th>\n      <td>96090</td>\n      <td>11</td>\n      <td>2013</td>\n      <td>Gas- Residential</td>\n      <td>N</td>\n      <td>145</td>\n      <td>0</td>\n      <td>0</td>\n      <td>0</td>\n      <td>0</td>\n      <td>6149</td>\n      <td>42</td>\n    </tr>\n    <tr>\n      <th>15586</th>\n      <td>96090</td>\n      <td>12</td>\n      <td>2013</td>\n      <td>Elec- Residential</td>\n      <td>N</td>\n      <td>180</td>\n      <td>127738</td>\n      <td>710</td>\n      <td>0</td>\n      <td>0</td>\n      <td>0</td>\n      <td>0</td>\n    </tr>\n    <tr>\n      <th>17379</th>\n      <td>96090</td>\n      <td>12</td>\n      <td>2013</td>\n      <td>Gas- Residential</td>\n      <td>N</td>\n      <td>144</td>\n      <td>0</td>\n      <td>0</td>\n      <td>11132</td>\n      <td>77</td>\n      <td>0</td>\n      <td>0</td>\n    </tr>\n    <tr>\n      <th>28639</th>\n      <td>96090</td>\n      <td>12</td>\n      <td>2013</td>\n      <td>Elec- Residential</td>\n      <td>N</td>\n      <td>180</td>\n      <td>127738</td>\n      <td>710</td>\n      <td>0</td>\n      <td>0</td>\n      <td>0</td>\n      <td>0</td>\n    </tr>\n    <tr>\n      <th>38137</th>\n      <td>96090</td>\n      <td>12</td>\n      <td>2013</td>\n      <td>Gas- Residential</td>\n      <td>N</td>\n      <td>144</td>\n      <td>0</td>\n      <td>0</td>\n      <td>0</td>\n      <td>0</td>\n      <td>11132</td>\n      <td>77</td>\n    </tr>\n  </tbody>\n</table>\n</div>",
            "text/plain": "       ZIPCODE  MONTH  YEAR      CUSTOMERCLASS COMBINED  TOTALCUSTOMERS  \\\n2549     96090      1  2013  Elec- Residential        N             185   \n4338     96090      1  2013   Gas- Residential        N             148   \n2550     96090      2  2013  Elec- Residential        N             185   \n4339     96090      2  2013   Gas- Residential        N             148   \n2551     96090      3  2013  Elec- Residential        N             186   \n4340     96090      3  2013   Gas- Residential        N             149   \n6894     96090      4  2013  Elec- Residential        N             186   \n8685     96090      4  2013   Gas- Residential        N             149   \n6895     96090      5  2013  Elec- Residential        N             185   \n8686     96090      5  2013   Gas- Residential        N             149   \n8687     96090      6  2013   Gas- Residential        N             148   \n6896     96090      6  2013  Elec- Residential        N             183   \n11237    96090      7  2013  Elec- Residential        N             185   \n13029    96090      7  2013   Gas- Residential        N             150   \n11238    96090      8  2013  Elec- Residential        N             184   \n13030    96090      8  2013   Gas- Residential        N             148   \n13031    96090      9  2013   Gas- Residential        N             146   \n11239    96090      9  2013  Elec- Residential        N             182   \n15584    96090     10  2013  Elec- Residential        N             180   \n17377    96090     10  2013   Gas- Residential        N             145   \n26923    96090     10  2013  Elec- Residential        N             180   \n36952    96090     10  2013   Gas- Residential        N             145   \n15585    96090     11  2013  Elec- Residential        N             180   \n17378    96090     11  2013   Gas- Residential        N             145   \n27781    96090     11  2013  Elec- Residential        N             180   \n37545    96090     11  2013   Gas- Residential        N             145   \n15586    96090     12  2013  Elec- Residential        N             180   \n17379    96090     12  2013   Gas- Residential        N             144   \n28639    96090     12  2013  Elec- Residential        N             180   \n38137    96090     12  2013   Gas- Residential        N             144   \n\n       TOTALKWH  AVERAGEKWH  TOTALTHM  AVERAGETHM  TOTALTHERMS  AVERAGETHERMS  \n2549     124847         675         0           0            0              0  \n4338          0           0     11489          78            0              0  \n2550      97928         529         0           0            0              0  \n4339          0           0      7408          50            0              0  \n2551      94196         506         0           0            0              0  \n4340          0           0      4617          31            0              0  \n6894      89356         480         0           0            0              0  \n8685          0           0      2711          18            0              0  \n6895     107253         580         0           0            0              0  \n8686          0           0      1824          12            0              0  \n8687          0           0      1483          10            0              0  \n6896     143483         784         0           0            0              0  \n11237    180177         974         0           0            0              0  \n13029         0           0      1365           9            0              0  \n11238    143185         778         0           0            0              0  \n13030         0           0      1376           9            0              0  \n13031         0           0      1545          11            0              0  \n11239    108164         594         0           0            0              0  \n15584     87984         489         0           0            0              0  \n17377         0           0      3011          21            0              0  \n26923     87984         489         0           0            0              0  \n36952         0           0         0           0         3011             21  \n15585     98259         546         0           0            0              0  \n17378         0           0      6149          42            0              0  \n27781     98259         546         0           0            0              0  \n37545         0           0         0           0         6149             42  \n15586    127738         710         0           0            0              0  \n17379         0           0     11132          77            0              0  \n28639    127738         710         0           0            0              0  \n38137         0           0         0           0        11132             77  "
          },
          "execution_count": 8,
          "metadata": {},
          "output_type": "execute_result"
        }
      ],
      "execution_count": null
    },
    {
      "cell_type": "code",
      "metadata": {
        "cell_id": "00010-479b3251-1f38-4d6e-a0d2-304f6104c1dc",
        "deepnote_cell_type": "code"
      },
      "source": "pge_full['TOTALTHERMS'] = pge_full['TOTALTHERMS'] + pge_full['TOTALTHM']\npge_full['AVERAGETHERMS'] = pge_full['AVERAGETHERMS'] + pge_full['AVERAGETHM']\n\npge_full = pge_full.drop(['TOTALTHM', 'AVERAGETHM'], axis=1)",
      "outputs": [],
      "execution_count": null
    },
    {
      "cell_type": "code",
      "metadata": {
        "cell_id": "00011-605a67be-a0c8-4810-b009-de521cf6d7cb",
        "deepnote_cell_type": "code"
      },
      "source": "pge_full[(pge_full['ZIPCODE'] == 96090) & (pge_full['YEAR'] == 2013)].sort_values('MONTH')",
      "outputs": [
        {
          "data": {
            "text/html": "<div>\n<style scoped>\n    .dataframe tbody tr th:only-of-type {\n        vertical-align: middle;\n    }\n\n    .dataframe tbody tr th {\n        vertical-align: top;\n    }\n\n    .dataframe thead th {\n        text-align: right;\n    }\n</style>\n<table border=\"1\" class=\"dataframe\">\n  <thead>\n    <tr style=\"text-align: right;\">\n      <th></th>\n      <th>ZIPCODE</th>\n      <th>MONTH</th>\n      <th>YEAR</th>\n      <th>CUSTOMERCLASS</th>\n      <th>COMBINED</th>\n      <th>TOTALCUSTOMERS</th>\n      <th>TOTALKWH</th>\n      <th>AVERAGEKWH</th>\n      <th>TOTALTHERMS</th>\n      <th>AVERAGETHERMS</th>\n    </tr>\n  </thead>\n  <tbody>\n    <tr>\n      <th>2549</th>\n      <td>96090</td>\n      <td>1</td>\n      <td>2013</td>\n      <td>Elec- Residential</td>\n      <td>N</td>\n      <td>185</td>\n      <td>124847</td>\n      <td>675</td>\n      <td>0</td>\n      <td>0</td>\n    </tr>\n    <tr>\n      <th>4338</th>\n      <td>96090</td>\n      <td>1</td>\n      <td>2013</td>\n      <td>Gas- Residential</td>\n      <td>N</td>\n      <td>148</td>\n      <td>0</td>\n      <td>0</td>\n      <td>11489</td>\n      <td>78</td>\n    </tr>\n    <tr>\n      <th>2550</th>\n      <td>96090</td>\n      <td>2</td>\n      <td>2013</td>\n      <td>Elec- Residential</td>\n      <td>N</td>\n      <td>185</td>\n      <td>97928</td>\n      <td>529</td>\n      <td>0</td>\n      <td>0</td>\n    </tr>\n    <tr>\n      <th>4339</th>\n      <td>96090</td>\n      <td>2</td>\n      <td>2013</td>\n      <td>Gas- Residential</td>\n      <td>N</td>\n      <td>148</td>\n      <td>0</td>\n      <td>0</td>\n      <td>7408</td>\n      <td>50</td>\n    </tr>\n    <tr>\n      <th>2551</th>\n      <td>96090</td>\n      <td>3</td>\n      <td>2013</td>\n      <td>Elec- Residential</td>\n      <td>N</td>\n      <td>186</td>\n      <td>94196</td>\n      <td>506</td>\n      <td>0</td>\n      <td>0</td>\n    </tr>\n    <tr>\n      <th>4340</th>\n      <td>96090</td>\n      <td>3</td>\n      <td>2013</td>\n      <td>Gas- Residential</td>\n      <td>N</td>\n      <td>149</td>\n      <td>0</td>\n      <td>0</td>\n      <td>4617</td>\n      <td>31</td>\n    </tr>\n    <tr>\n      <th>6894</th>\n      <td>96090</td>\n      <td>4</td>\n      <td>2013</td>\n      <td>Elec- Residential</td>\n      <td>N</td>\n      <td>186</td>\n      <td>89356</td>\n      <td>480</td>\n      <td>0</td>\n      <td>0</td>\n    </tr>\n    <tr>\n      <th>8685</th>\n      <td>96090</td>\n      <td>4</td>\n      <td>2013</td>\n      <td>Gas- Residential</td>\n      <td>N</td>\n      <td>149</td>\n      <td>0</td>\n      <td>0</td>\n      <td>2711</td>\n      <td>18</td>\n    </tr>\n    <tr>\n      <th>6895</th>\n      <td>96090</td>\n      <td>5</td>\n      <td>2013</td>\n      <td>Elec- Residential</td>\n      <td>N</td>\n      <td>185</td>\n      <td>107253</td>\n      <td>580</td>\n      <td>0</td>\n      <td>0</td>\n    </tr>\n    <tr>\n      <th>8686</th>\n      <td>96090</td>\n      <td>5</td>\n      <td>2013</td>\n      <td>Gas- Residential</td>\n      <td>N</td>\n      <td>149</td>\n      <td>0</td>\n      <td>0</td>\n      <td>1824</td>\n      <td>12</td>\n    </tr>\n    <tr>\n      <th>8687</th>\n      <td>96090</td>\n      <td>6</td>\n      <td>2013</td>\n      <td>Gas- Residential</td>\n      <td>N</td>\n      <td>148</td>\n      <td>0</td>\n      <td>0</td>\n      <td>1483</td>\n      <td>10</td>\n    </tr>\n    <tr>\n      <th>6896</th>\n      <td>96090</td>\n      <td>6</td>\n      <td>2013</td>\n      <td>Elec- Residential</td>\n      <td>N</td>\n      <td>183</td>\n      <td>143483</td>\n      <td>784</td>\n      <td>0</td>\n      <td>0</td>\n    </tr>\n    <tr>\n      <th>11237</th>\n      <td>96090</td>\n      <td>7</td>\n      <td>2013</td>\n      <td>Elec- Residential</td>\n      <td>N</td>\n      <td>185</td>\n      <td>180177</td>\n      <td>974</td>\n      <td>0</td>\n      <td>0</td>\n    </tr>\n    <tr>\n      <th>13029</th>\n      <td>96090</td>\n      <td>7</td>\n      <td>2013</td>\n      <td>Gas- Residential</td>\n      <td>N</td>\n      <td>150</td>\n      <td>0</td>\n      <td>0</td>\n      <td>1365</td>\n      <td>9</td>\n    </tr>\n    <tr>\n      <th>11238</th>\n      <td>96090</td>\n      <td>8</td>\n      <td>2013</td>\n      <td>Elec- Residential</td>\n      <td>N</td>\n      <td>184</td>\n      <td>143185</td>\n      <td>778</td>\n      <td>0</td>\n      <td>0</td>\n    </tr>\n    <tr>\n      <th>13030</th>\n      <td>96090</td>\n      <td>8</td>\n      <td>2013</td>\n      <td>Gas- Residential</td>\n      <td>N</td>\n      <td>148</td>\n      <td>0</td>\n      <td>0</td>\n      <td>1376</td>\n      <td>9</td>\n    </tr>\n    <tr>\n      <th>13031</th>\n      <td>96090</td>\n      <td>9</td>\n      <td>2013</td>\n      <td>Gas- Residential</td>\n      <td>N</td>\n      <td>146</td>\n      <td>0</td>\n      <td>0</td>\n      <td>1545</td>\n      <td>11</td>\n    </tr>\n    <tr>\n      <th>11239</th>\n      <td>96090</td>\n      <td>9</td>\n      <td>2013</td>\n      <td>Elec- Residential</td>\n      <td>N</td>\n      <td>182</td>\n      <td>108164</td>\n      <td>594</td>\n      <td>0</td>\n      <td>0</td>\n    </tr>\n    <tr>\n      <th>15584</th>\n      <td>96090</td>\n      <td>10</td>\n      <td>2013</td>\n      <td>Elec- Residential</td>\n      <td>N</td>\n      <td>180</td>\n      <td>87984</td>\n      <td>489</td>\n      <td>0</td>\n      <td>0</td>\n    </tr>\n    <tr>\n      <th>17377</th>\n      <td>96090</td>\n      <td>10</td>\n      <td>2013</td>\n      <td>Gas- Residential</td>\n      <td>N</td>\n      <td>145</td>\n      <td>0</td>\n      <td>0</td>\n      <td>3011</td>\n      <td>21</td>\n    </tr>\n    <tr>\n      <th>26923</th>\n      <td>96090</td>\n      <td>10</td>\n      <td>2013</td>\n      <td>Elec- Residential</td>\n      <td>N</td>\n      <td>180</td>\n      <td>87984</td>\n      <td>489</td>\n      <td>0</td>\n      <td>0</td>\n    </tr>\n    <tr>\n      <th>36952</th>\n      <td>96090</td>\n      <td>10</td>\n      <td>2013</td>\n      <td>Gas- Residential</td>\n      <td>N</td>\n      <td>145</td>\n      <td>0</td>\n      <td>0</td>\n      <td>3011</td>\n      <td>21</td>\n    </tr>\n    <tr>\n      <th>15585</th>\n      <td>96090</td>\n      <td>11</td>\n      <td>2013</td>\n      <td>Elec- Residential</td>\n      <td>N</td>\n      <td>180</td>\n      <td>98259</td>\n      <td>546</td>\n      <td>0</td>\n      <td>0</td>\n    </tr>\n    <tr>\n      <th>17378</th>\n      <td>96090</td>\n      <td>11</td>\n      <td>2013</td>\n      <td>Gas- Residential</td>\n      <td>N</td>\n      <td>145</td>\n      <td>0</td>\n      <td>0</td>\n      <td>6149</td>\n      <td>42</td>\n    </tr>\n    <tr>\n      <th>27781</th>\n      <td>96090</td>\n      <td>11</td>\n      <td>2013</td>\n      <td>Elec- Residential</td>\n      <td>N</td>\n      <td>180</td>\n      <td>98259</td>\n      <td>546</td>\n      <td>0</td>\n      <td>0</td>\n    </tr>\n    <tr>\n      <th>37545</th>\n      <td>96090</td>\n      <td>11</td>\n      <td>2013</td>\n      <td>Gas- Residential</td>\n      <td>N</td>\n      <td>145</td>\n      <td>0</td>\n      <td>0</td>\n      <td>6149</td>\n      <td>42</td>\n    </tr>\n    <tr>\n      <th>15586</th>\n      <td>96090</td>\n      <td>12</td>\n      <td>2013</td>\n      <td>Elec- Residential</td>\n      <td>N</td>\n      <td>180</td>\n      <td>127738</td>\n      <td>710</td>\n      <td>0</td>\n      <td>0</td>\n    </tr>\n    <tr>\n      <th>17379</th>\n      <td>96090</td>\n      <td>12</td>\n      <td>2013</td>\n      <td>Gas- Residential</td>\n      <td>N</td>\n      <td>144</td>\n      <td>0</td>\n      <td>0</td>\n      <td>11132</td>\n      <td>77</td>\n    </tr>\n    <tr>\n      <th>28639</th>\n      <td>96090</td>\n      <td>12</td>\n      <td>2013</td>\n      <td>Elec- Residential</td>\n      <td>N</td>\n      <td>180</td>\n      <td>127738</td>\n      <td>710</td>\n      <td>0</td>\n      <td>0</td>\n    </tr>\n    <tr>\n      <th>38137</th>\n      <td>96090</td>\n      <td>12</td>\n      <td>2013</td>\n      <td>Gas- Residential</td>\n      <td>N</td>\n      <td>144</td>\n      <td>0</td>\n      <td>0</td>\n      <td>11132</td>\n      <td>77</td>\n    </tr>\n  </tbody>\n</table>\n</div>",
            "text/plain": "       ZIPCODE  MONTH  YEAR      CUSTOMERCLASS COMBINED  TOTALCUSTOMERS  \\\n2549     96090      1  2013  Elec- Residential        N             185   \n4338     96090      1  2013   Gas- Residential        N             148   \n2550     96090      2  2013  Elec- Residential        N             185   \n4339     96090      2  2013   Gas- Residential        N             148   \n2551     96090      3  2013  Elec- Residential        N             186   \n4340     96090      3  2013   Gas- Residential        N             149   \n6894     96090      4  2013  Elec- Residential        N             186   \n8685     96090      4  2013   Gas- Residential        N             149   \n6895     96090      5  2013  Elec- Residential        N             185   \n8686     96090      5  2013   Gas- Residential        N             149   \n8687     96090      6  2013   Gas- Residential        N             148   \n6896     96090      6  2013  Elec- Residential        N             183   \n11237    96090      7  2013  Elec- Residential        N             185   \n13029    96090      7  2013   Gas- Residential        N             150   \n11238    96090      8  2013  Elec- Residential        N             184   \n13030    96090      8  2013   Gas- Residential        N             148   \n13031    96090      9  2013   Gas- Residential        N             146   \n11239    96090      9  2013  Elec- Residential        N             182   \n15584    96090     10  2013  Elec- Residential        N             180   \n17377    96090     10  2013   Gas- Residential        N             145   \n26923    96090     10  2013  Elec- Residential        N             180   \n36952    96090     10  2013   Gas- Residential        N             145   \n15585    96090     11  2013  Elec- Residential        N             180   \n17378    96090     11  2013   Gas- Residential        N             145   \n27781    96090     11  2013  Elec- Residential        N             180   \n37545    96090     11  2013   Gas- Residential        N             145   \n15586    96090     12  2013  Elec- Residential        N             180   \n17379    96090     12  2013   Gas- Residential        N             144   \n28639    96090     12  2013  Elec- Residential        N             180   \n38137    96090     12  2013   Gas- Residential        N             144   \n\n       TOTALKWH  AVERAGEKWH  TOTALTHERMS  AVERAGETHERMS  \n2549     124847         675            0              0  \n4338          0           0        11489             78  \n2550      97928         529            0              0  \n4339          0           0         7408             50  \n2551      94196         506            0              0  \n4340          0           0         4617             31  \n6894      89356         480            0              0  \n8685          0           0         2711             18  \n6895     107253         580            0              0  \n8686          0           0         1824             12  \n8687          0           0         1483             10  \n6896     143483         784            0              0  \n11237    180177         974            0              0  \n13029         0           0         1365              9  \n11238    143185         778            0              0  \n13030         0           0         1376              9  \n13031         0           0         1545             11  \n11239    108164         594            0              0  \n15584     87984         489            0              0  \n17377         0           0         3011             21  \n26923     87984         489            0              0  \n36952         0           0         3011             21  \n15585     98259         546            0              0  \n17378         0           0         6149             42  \n27781     98259         546            0              0  \n37545         0           0         6149             42  \n15586    127738         710            0              0  \n17379         0           0        11132             77  \n28639    127738         710            0              0  \n38137         0           0        11132             77  "
          },
          "execution_count": 10,
          "metadata": {},
          "output_type": "execute_result"
        }
      ],
      "execution_count": null
    },
    {
      "cell_type": "markdown",
      "source": "## Sanity Check Average Columns\n\nWe calculate our own averages for the therms and kwh columns and find the difference from the given columns from PG&E. We then display these sorted by the difference to see if there are any significant differences.",
      "metadata": {
        "cell_id": "00012-e5170cf9-5509-44ce-a486-6d6ee42e145d",
        "deepnote_cell_type": "markdown"
      }
    },
    {
      "cell_type": "code",
      "metadata": {
        "cell_id": "00013-78ee4ef8-a6e9-4f37-adc0-451d04ce659d",
        "deepnote_cell_type": "code"
      },
      "source": "## Create new columns for calculated averages\npge_full['Calculated AVGKWH'] = pge_full['TOTALKWH']/pge_full['TOTALCUSTOMERS']\npge_full['Calculated AVGTHERMS'] = pge_full['TOTALTHERMS']/pge_full['TOTALCUSTOMERS']\n\n## Create new column for difference between calculated avg and pge given avg\npge_full['AVGKWH Diff'] = pge_full['Calculated AVGKWH'] - pge_full['AVERAGEKWH']\npge_full['AVGTHERMS Diff'] = pge_full['Calculated AVGTHERMS'] - pge_full['AVERAGETHERMS']\npge_full = pge_full.fillna(0) ## for 0/0 cases",
      "outputs": [],
      "execution_count": null
    },
    {
      "cell_type": "code",
      "metadata": {
        "cell_id": "00014-1682e152-744f-430d-bf36-ca07e25742b3",
        "deepnote_cell_type": "code"
      },
      "source": "display(pge_full.sort_values(by='AVGKWH Diff', ascending=False))\ndisplay(pge_full.sort_values(by='AVGTHERMS Diff', ascending=False))\n",
      "outputs": [
        {
          "data": {
            "text/html": "<div>\n<style scoped>\n    .dataframe tbody tr th:only-of-type {\n        vertical-align: middle;\n    }\n\n    .dataframe tbody tr th {\n        vertical-align: top;\n    }\n\n    .dataframe thead th {\n        text-align: right;\n    }\n</style>\n<table border=\"1\" class=\"dataframe\">\n  <thead>\n    <tr style=\"text-align: right;\">\n      <th></th>\n      <th>ZIPCODE</th>\n      <th>MONTH</th>\n      <th>YEAR</th>\n      <th>CUSTOMERCLASS</th>\n      <th>COMBINED</th>\n      <th>TOTALCUSTOMERS</th>\n      <th>TOTALKWH</th>\n      <th>AVERAGEKWH</th>\n      <th>TOTALTHERMS</th>\n      <th>AVERAGETHERMS</th>\n      <th>Calculated AVGKWH</th>\n      <th>Calculated AVGTHERMS</th>\n      <th>AVGKWH Diff</th>\n      <th>AVGTHERMS Diff</th>\n    </tr>\n  </thead>\n  <tbody>\n    <tr>\n      <th>62048</th>\n      <td>94957</td>\n      <td>12</td>\n      <td>2015</td>\n      <td>Elec- Residential</td>\n      <td>N</td>\n      <td>750</td>\n      <td>964125</td>\n      <td>1285</td>\n      <td>0</td>\n      <td>0</td>\n      <td>1285.5</td>\n      <td>0.0</td>\n      <td>0.5</td>\n      <td>0.0</td>\n    </tr>\n    <tr>\n      <th>48125</th>\n      <td>94569</td>\n      <td>1</td>\n      <td>2015</td>\n      <td>Elec- Residential</td>\n      <td>N</td>\n      <td>86</td>\n      <td>46655</td>\n      <td>542</td>\n      <td>0</td>\n      <td>0</td>\n      <td>542.5</td>\n      <td>0.0</td>\n      <td>0.5</td>\n      <td>0.0</td>\n    </tr>\n    <tr>\n      <th>33573</th>\n      <td>95558</td>\n      <td>6</td>\n      <td>2014</td>\n      <td>Elec- Residential</td>\n      <td>N</td>\n      <td>134</td>\n      <td>81137</td>\n      <td>605</td>\n      <td>0</td>\n      <td>0</td>\n      <td>605.5</td>\n      <td>0.0</td>\n      <td>0.5</td>\n      <td>0.0</td>\n    </tr>\n    <tr>\n      <th>14515</th>\n      <td>95257</td>\n      <td>12</td>\n      <td>2013</td>\n      <td>Elec- Residential</td>\n      <td>N</td>\n      <td>254</td>\n      <td>179451</td>\n      <td>706</td>\n      <td>0</td>\n      <td>0</td>\n      <td>706.5</td>\n      <td>0.0</td>\n      <td>0.5</td>\n      <td>0.0</td>\n    </tr>\n    <tr>\n      <th>117090</th>\n      <td>95569</td>\n      <td>11</td>\n      <td>2018</td>\n      <td>Elec- Residential</td>\n      <td>N</td>\n      <td>118</td>\n      <td>107321</td>\n      <td>909</td>\n      <td>0</td>\n      <td>0</td>\n      <td>909.5</td>\n      <td>0.0</td>\n      <td>0.5</td>\n      <td>0.0</td>\n    </tr>\n    <tr>\n      <th>...</th>\n      <td>...</td>\n      <td>...</td>\n      <td>...</td>\n      <td>...</td>\n      <td>...</td>\n      <td>...</td>\n      <td>...</td>\n      <td>...</td>\n      <td>...</td>\n      <td>...</td>\n      <td>...</td>\n      <td>...</td>\n      <td>...</td>\n      <td>...</td>\n    </tr>\n    <tr>\n      <th>28462</th>\n      <td>95629</td>\n      <td>12</td>\n      <td>2013</td>\n      <td>Elec- Residential</td>\n      <td>N</td>\n      <td>410</td>\n      <td>356905</td>\n      <td>871</td>\n      <td>0</td>\n      <td>0</td>\n      <td>870.5</td>\n      <td>0.0</td>\n      <td>-0.5</td>\n      <td>0.0</td>\n    </tr>\n    <tr>\n      <th>1892</th>\n      <td>95542</td>\n      <td>1</td>\n      <td>2013</td>\n      <td>Elec- Residential</td>\n      <td>Y</td>\n      <td>732</td>\n      <td>1182546</td>\n      <td>1616</td>\n      <td>0</td>\n      <td>0</td>\n      <td>1615.5</td>\n      <td>0.0</td>\n      <td>-0.5</td>\n      <td>0.0</td>\n    </tr>\n    <tr>\n      <th>13340</th>\n      <td>93623</td>\n      <td>11</td>\n      <td>2013</td>\n      <td>Elec- Residential</td>\n      <td>N</td>\n      <td>194</td>\n      <td>56357</td>\n      <td>291</td>\n      <td>0</td>\n      <td>0</td>\n      <td>290.5</td>\n      <td>0.0</td>\n      <td>-0.5</td>\n      <td>0.0</td>\n    </tr>\n    <tr>\n      <th>112273</th>\n      <td>95310</td>\n      <td>9</td>\n      <td>2018</td>\n      <td>Elec- Residential</td>\n      <td>N</td>\n      <td>696</td>\n      <td>472932</td>\n      <td>680</td>\n      <td>0</td>\n      <td>0</td>\n      <td>679.5</td>\n      <td>0.0</td>\n      <td>-0.5</td>\n      <td>0.0</td>\n    </tr>\n    <tr>\n      <th>15002</th>\n      <td>95601</td>\n      <td>10</td>\n      <td>2013</td>\n      <td>Elec- Residential</td>\n      <td>N</td>\n      <td>146</td>\n      <td>71905</td>\n      <td>493</td>\n      <td>0</td>\n      <td>0</td>\n      <td>492.5</td>\n      <td>0.0</td>\n      <td>-0.5</td>\n      <td>0.0</td>\n    </tr>\n  </tbody>\n</table>\n<p>154283 rows × 14 columns</p>\n</div>",
            "text/plain": "        ZIPCODE  MONTH  YEAR      CUSTOMERCLASS COMBINED  TOTALCUSTOMERS  \\\n62048     94957     12  2015  Elec- Residential        N             750   \n48125     94569      1  2015  Elec- Residential        N              86   \n33573     95558      6  2014  Elec- Residential        N             134   \n14515     95257     12  2013  Elec- Residential        N             254   \n117090    95569     11  2018  Elec- Residential        N             118   \n...         ...    ...   ...                ...      ...             ...   \n28462     95629     12  2013  Elec- Residential        N             410   \n1892      95542      1  2013  Elec- Residential        Y             732   \n13340     93623     11  2013  Elec- Residential        N             194   \n112273    95310      9  2018  Elec- Residential        N             696   \n15002     95601     10  2013  Elec- Residential        N             146   \n\n        TOTALKWH  AVERAGEKWH  TOTALTHERMS  AVERAGETHERMS  Calculated AVGKWH  \\\n62048     964125        1285            0              0             1285.5   \n48125      46655         542            0              0              542.5   \n33573      81137         605            0              0              605.5   \n14515     179451         706            0              0              706.5   \n117090    107321         909            0              0              909.5   \n...          ...         ...          ...            ...                ...   \n28462     356905         871            0              0              870.5   \n1892     1182546        1616            0              0             1615.5   \n13340      56357         291            0              0              290.5   \n112273    472932         680            0              0              679.5   \n15002      71905         493            0              0              492.5   \n\n        Calculated AVGTHERMS  AVGKWH Diff  AVGTHERMS Diff  \n62048                    0.0          0.5             0.0  \n48125                    0.0          0.5             0.0  \n33573                    0.0          0.5             0.0  \n14515                    0.0          0.5             0.0  \n117090                   0.0          0.5             0.0  \n...                      ...          ...             ...  \n28462                    0.0         -0.5             0.0  \n1892                     0.0         -0.5             0.0  \n13340                    0.0         -0.5             0.0  \n112273                   0.0         -0.5             0.0  \n15002                    0.0         -0.5             0.0  \n\n[154283 rows x 14 columns]"
          },
          "metadata": {},
          "output_type": "display_data"
        },
        {
          "data": {
            "text/html": "<div>\n<style scoped>\n    .dataframe tbody tr th:only-of-type {\n        vertical-align: middle;\n    }\n\n    .dataframe tbody tr th {\n        vertical-align: top;\n    }\n\n    .dataframe thead th {\n        text-align: right;\n    }\n</style>\n<table border=\"1\" class=\"dataframe\">\n  <thead>\n    <tr style=\"text-align: right;\">\n      <th></th>\n      <th>ZIPCODE</th>\n      <th>MONTH</th>\n      <th>YEAR</th>\n      <th>CUSTOMERCLASS</th>\n      <th>COMBINED</th>\n      <th>TOTALCUSTOMERS</th>\n      <th>TOTALKWH</th>\n      <th>AVERAGEKWH</th>\n      <th>TOTALTHERMS</th>\n      <th>AVERAGETHERMS</th>\n      <th>Calculated AVGKWH</th>\n      <th>Calculated AVGTHERMS</th>\n      <th>AVGKWH Diff</th>\n      <th>AVGTHERMS Diff</th>\n    </tr>\n  </thead>\n  <tbody>\n    <tr>\n      <th>140477</th>\n      <td>95041</td>\n      <td>3</td>\n      <td>2020</td>\n      <td>Gas- Residential</td>\n      <td>N</td>\n      <td>310</td>\n      <td>0</td>\n      <td>0</td>\n      <td>17515</td>\n      <td>56</td>\n      <td>0.0</td>\n      <td>56.5</td>\n      <td>0.0</td>\n      <td>0.5</td>\n    </tr>\n    <tr>\n      <th>109260</th>\n      <td>93962</td>\n      <td>5</td>\n      <td>2018</td>\n      <td>Gas- Residential</td>\n      <td>N</td>\n      <td>272</td>\n      <td>0</td>\n      <td>0</td>\n      <td>8840</td>\n      <td>32</td>\n      <td>0.0</td>\n      <td>32.5</td>\n      <td>0.0</td>\n      <td>0.5</td>\n    </tr>\n    <tr>\n      <th>135256</th>\n      <td>93450</td>\n      <td>11</td>\n      <td>2019</td>\n      <td>Gas- Residential</td>\n      <td>N</td>\n      <td>122</td>\n      <td>0</td>\n      <td>0</td>\n      <td>4087</td>\n      <td>33</td>\n      <td>0.0</td>\n      <td>33.5</td>\n      <td>0.0</td>\n      <td>0.5</td>\n    </tr>\n    <tr>\n      <th>50783</th>\n      <td>95328</td>\n      <td>1</td>\n      <td>2015</td>\n      <td>Gas- Residential</td>\n      <td>N</td>\n      <td>1112</td>\n      <td>0</td>\n      <td>0</td>\n      <td>66164</td>\n      <td>59</td>\n      <td>0.0</td>\n      <td>59.5</td>\n      <td>0.0</td>\n      <td>0.5</td>\n    </tr>\n    <tr>\n      <th>38764</th>\n      <td>93608</td>\n      <td>2</td>\n      <td>2014</td>\n      <td>Gas- Residential</td>\n      <td>Y</td>\n      <td>102</td>\n      <td>0</td>\n      <td>0</td>\n      <td>4437</td>\n      <td>43</td>\n      <td>0.0</td>\n      <td>43.5</td>\n      <td>0.0</td>\n      <td>0.5</td>\n    </tr>\n    <tr>\n      <th>...</th>\n      <td>...</td>\n      <td>...</td>\n      <td>...</td>\n      <td>...</td>\n      <td>...</td>\n      <td>...</td>\n      <td>...</td>\n      <td>...</td>\n      <td>...</td>\n      <td>...</td>\n      <td>...</td>\n      <td>...</td>\n      <td>...</td>\n      <td>...</td>\n    </tr>\n    <tr>\n      <th>135352</th>\n      <td>93665</td>\n      <td>11</td>\n      <td>2019</td>\n      <td>Gas- Residential</td>\n      <td>N</td>\n      <td>188</td>\n      <td>0</td>\n      <td>0</td>\n      <td>6674</td>\n      <td>36</td>\n      <td>0.0</td>\n      <td>35.5</td>\n      <td>0.0</td>\n      <td>-0.5</td>\n    </tr>\n    <tr>\n      <th>140229</th>\n      <td>94586</td>\n      <td>1</td>\n      <td>2020</td>\n      <td>Gas- Residential</td>\n      <td>N</td>\n      <td>250</td>\n      <td>0</td>\n      <td>0</td>\n      <td>23625</td>\n      <td>95</td>\n      <td>0.0</td>\n      <td>94.5</td>\n      <td>0.0</td>\n      <td>-0.5</td>\n    </tr>\n    <tr>\n      <th>46917</th>\n      <td>94957</td>\n      <td>11</td>\n      <td>2014</td>\n      <td>Gas- Residential</td>\n      <td>N</td>\n      <td>718</td>\n      <td>0</td>\n      <td>0</td>\n      <td>72877</td>\n      <td>102</td>\n      <td>0.0</td>\n      <td>101.5</td>\n      <td>0.0</td>\n      <td>-0.5</td>\n    </tr>\n    <tr>\n      <th>17070</th>\n      <td>95677</td>\n      <td>11</td>\n      <td>2013</td>\n      <td>Gas- Residential</td>\n      <td>N</td>\n      <td>8706</td>\n      <td>0</td>\n      <td>0</td>\n      <td>378711</td>\n      <td>44</td>\n      <td>0.0</td>\n      <td>43.5</td>\n      <td>0.0</td>\n      <td>-0.5</td>\n    </tr>\n    <tr>\n      <th>101354</th>\n      <td>95452</td>\n      <td>11</td>\n      <td>2017</td>\n      <td>Gas- Residential</td>\n      <td>N</td>\n      <td>348</td>\n      <td>0</td>\n      <td>0</td>\n      <td>20358</td>\n      <td>59</td>\n      <td>0.0</td>\n      <td>58.5</td>\n      <td>0.0</td>\n      <td>-0.5</td>\n    </tr>\n  </tbody>\n</table>\n<p>154283 rows × 14 columns</p>\n</div>",
            "text/plain": "        ZIPCODE  MONTH  YEAR     CUSTOMERCLASS COMBINED  TOTALCUSTOMERS  \\\n140477    95041      3  2020  Gas- Residential        N             310   \n109260    93962      5  2018  Gas- Residential        N             272   \n135256    93450     11  2019  Gas- Residential        N             122   \n50783     95328      1  2015  Gas- Residential        N            1112   \n38764     93608      2  2014  Gas- Residential        Y             102   \n...         ...    ...   ...               ...      ...             ...   \n135352    93665     11  2019  Gas- Residential        N             188   \n140229    94586      1  2020  Gas- Residential        N             250   \n46917     94957     11  2014  Gas- Residential        N             718   \n17070     95677     11  2013  Gas- Residential        N            8706   \n101354    95452     11  2017  Gas- Residential        N             348   \n\n        TOTALKWH  AVERAGEKWH  TOTALTHERMS  AVERAGETHERMS  Calculated AVGKWH  \\\n140477         0           0        17515             56                0.0   \n109260         0           0         8840             32                0.0   \n135256         0           0         4087             33                0.0   \n50783          0           0        66164             59                0.0   \n38764          0           0         4437             43                0.0   \n...          ...         ...          ...            ...                ...   \n135352         0           0         6674             36                0.0   \n140229         0           0        23625             95                0.0   \n46917          0           0        72877            102                0.0   \n17070          0           0       378711             44                0.0   \n101354         0           0        20358             59                0.0   \n\n        Calculated AVGTHERMS  AVGKWH Diff  AVGTHERMS Diff  \n140477                  56.5          0.0             0.5  \n109260                  32.5          0.0             0.5  \n135256                  33.5          0.0             0.5  \n50783                   59.5          0.0             0.5  \n38764                   43.5          0.0             0.5  \n...                      ...          ...             ...  \n135352                  35.5          0.0            -0.5  \n140229                  94.5          0.0            -0.5  \n46917                  101.5          0.0            -0.5  \n17070                   43.5          0.0            -0.5  \n101354                  58.5          0.0            -0.5  \n\n[154283 rows x 14 columns]"
          },
          "metadata": {},
          "output_type": "display_data"
        }
      ],
      "execution_count": null
    },
    {
      "cell_type": "markdown",
      "source": "## Creating Datetime column from month and year\n\nThis requires a day so we add the 1 of each month as a new column arbritrarily\n",
      "metadata": {
        "cell_id": "00015-65c50807-a235-4acd-91f7-34005d4f4b15",
        "deepnote_cell_type": "markdown"
      }
    },
    {
      "cell_type": "code",
      "metadata": {
        "cell_id": "00016-bdd1196a-0129-4d2f-818c-21071d5d11d0",
        "deepnote_cell_type": "code"
      },
      "source": "# np.repeat(1, len(pge_full))\n# pge_full = pge_full.drop('DAY', axis=1)\npge_full.insert(3, 'DAY', np.repeat(1, len(pge_full)))",
      "outputs": [],
      "execution_count": null
    },
    {
      "cell_type": "code",
      "metadata": {
        "cell_id": "00017-d24d8bbb-3011-4d73-9918-ecd1e864117a",
        "deepnote_cell_type": "code"
      },
      "source": "pge_full.insert(1, 'DATE', pd.to_datetime(pge_full[['YEAR', 'MONTH', 'DAY']]))",
      "outputs": [],
      "execution_count": null
    },
    {
      "cell_type": "code",
      "metadata": {
        "cell_id": "00018-fad9baf3-fa6d-47de-8187-cecda5fde5f4",
        "deepnote_cell_type": "code"
      },
      "source": "pge_full.head()",
      "outputs": [
        {
          "data": {
            "text/html": "<div>\n<style scoped>\n    .dataframe tbody tr th:only-of-type {\n        vertical-align: middle;\n    }\n\n    .dataframe tbody tr th {\n        vertical-align: top;\n    }\n\n    .dataframe thead th {\n        text-align: right;\n    }\n</style>\n<table border=\"1\" class=\"dataframe\">\n  <thead>\n    <tr style=\"text-align: right;\">\n      <th></th>\n      <th>ZIPCODE</th>\n      <th>DATE</th>\n      <th>MONTH</th>\n      <th>YEAR</th>\n      <th>DAY</th>\n      <th>CUSTOMERCLASS</th>\n      <th>COMBINED</th>\n      <th>TOTALCUSTOMERS</th>\n      <th>TOTALKWH</th>\n      <th>AVERAGEKWH</th>\n      <th>TOTALTHERMS</th>\n      <th>AVERAGETHERMS</th>\n      <th>Calculated AVGKWH</th>\n      <th>Calculated AVGTHERMS</th>\n      <th>AVGKWH Diff</th>\n      <th>AVGTHERMS Diff</th>\n    </tr>\n  </thead>\n  <tbody>\n    <tr>\n      <th>0</th>\n      <td>93101</td>\n      <td>2013-01-01</td>\n      <td>1</td>\n      <td>2013</td>\n      <td>1</td>\n      <td>Elec- Residential</td>\n      <td>Y</td>\n      <td>0</td>\n      <td>0</td>\n      <td>0</td>\n      <td>0</td>\n      <td>0</td>\n      <td>0.0</td>\n      <td>0.0</td>\n      <td>0.0</td>\n      <td>0.0</td>\n    </tr>\n    <tr>\n      <th>1</th>\n      <td>93101</td>\n      <td>2013-02-01</td>\n      <td>2</td>\n      <td>2013</td>\n      <td>1</td>\n      <td>Elec- Residential</td>\n      <td>Y</td>\n      <td>0</td>\n      <td>0</td>\n      <td>0</td>\n      <td>0</td>\n      <td>0</td>\n      <td>0.0</td>\n      <td>0.0</td>\n      <td>0.0</td>\n      <td>0.0</td>\n    </tr>\n    <tr>\n      <th>2</th>\n      <td>93101</td>\n      <td>2013-03-01</td>\n      <td>3</td>\n      <td>2013</td>\n      <td>1</td>\n      <td>Elec- Residential</td>\n      <td>Y</td>\n      <td>0</td>\n      <td>0</td>\n      <td>0</td>\n      <td>0</td>\n      <td>0</td>\n      <td>0.0</td>\n      <td>0.0</td>\n      <td>0.0</td>\n      <td>0.0</td>\n    </tr>\n    <tr>\n      <th>3</th>\n      <td>93105</td>\n      <td>2013-01-01</td>\n      <td>1</td>\n      <td>2013</td>\n      <td>1</td>\n      <td>Elec- Residential</td>\n      <td>Y</td>\n      <td>0</td>\n      <td>0</td>\n      <td>0</td>\n      <td>0</td>\n      <td>0</td>\n      <td>0.0</td>\n      <td>0.0</td>\n      <td>0.0</td>\n      <td>0.0</td>\n    </tr>\n    <tr>\n      <th>4</th>\n      <td>93105</td>\n      <td>2013-02-01</td>\n      <td>2</td>\n      <td>2013</td>\n      <td>1</td>\n      <td>Elec- Residential</td>\n      <td>Y</td>\n      <td>0</td>\n      <td>0</td>\n      <td>0</td>\n      <td>0</td>\n      <td>0</td>\n      <td>0.0</td>\n      <td>0.0</td>\n      <td>0.0</td>\n      <td>0.0</td>\n    </tr>\n  </tbody>\n</table>\n</div>",
            "text/plain": "   ZIPCODE       DATE  MONTH  YEAR  DAY      CUSTOMERCLASS COMBINED  \\\n0    93101 2013-01-01      1  2013    1  Elec- Residential        Y   \n1    93101 2013-02-01      2  2013    1  Elec- Residential        Y   \n2    93101 2013-03-01      3  2013    1  Elec- Residential        Y   \n3    93105 2013-01-01      1  2013    1  Elec- Residential        Y   \n4    93105 2013-02-01      2  2013    1  Elec- Residential        Y   \n\n   TOTALCUSTOMERS  TOTALKWH  AVERAGEKWH  TOTALTHERMS  AVERAGETHERMS  \\\n0               0         0           0            0              0   \n1               0         0           0            0              0   \n2               0         0           0            0              0   \n3               0         0           0            0              0   \n4               0         0           0            0              0   \n\n   Calculated AVGKWH  Calculated AVGTHERMS  AVGKWH Diff  AVGTHERMS Diff  \n0                0.0                   0.0          0.0             0.0  \n1                0.0                   0.0          0.0             0.0  \n2                0.0                   0.0          0.0             0.0  \n3                0.0                   0.0          0.0             0.0  \n4                0.0                   0.0          0.0             0.0  "
          },
          "execution_count": 15,
          "metadata": {},
          "output_type": "execute_result"
        }
      ],
      "execution_count": null
    },
    {
      "cell_type": "markdown",
      "source": "### Separate Electricity and Gas",
      "metadata": {
        "cell_id": "00019-3c70eb25-ab42-4f2c-bbef-4bcc3db1426d",
        "deepnote_cell_type": "markdown"
      }
    },
    {
      "cell_type": "code",
      "metadata": {
        "cell_id": "00020-15ec26bd-47a3-408c-9aea-1d1fd966923c",
        "deepnote_cell_type": "code"
      },
      "source": "pge_full['CUSTOMERCLASS'].unique()",
      "outputs": [
        {
          "data": {
            "text/plain": "array(['Elec- Residential', 'Gas- Residential'], dtype=object)"
          },
          "execution_count": 16,
          "metadata": {},
          "output_type": "execute_result"
        }
      ],
      "execution_count": null
    },
    {
      "cell_type": "code",
      "metadata": {
        "cell_id": "00021-bce80932-7445-4f95-9e7f-c68a9f209411",
        "deepnote_cell_type": "code"
      },
      "source": "pge_full_gas = pge_full[pge_full['CUSTOMERCLASS'] == 'Gas- Residential']\npge_full_elec = pge_full[pge_full['CUSTOMERCLASS'] == 'Elec- Residential']\n",
      "outputs": [],
      "execution_count": null
    },
    {
      "cell_type": "code",
      "metadata": {
        "cell_id": "00022-80651eb8-99e5-4e7c-b3f2-41491693d1cd",
        "deepnote_cell_type": "code"
      },
      "source": "pge_full_gas.to_csv('cleaned_data/pge-monthly-gas-by-zip_2013-2020.csv')\npge_full_elec.to_csv('cleaned_data/pge-monthly-elec-by-zip_2013-2020.csv')",
      "outputs": [],
      "execution_count": null
    },
    {
      "cell_type": "code",
      "metadata": {
        "cell_id": "00023-c3e35c0b-b7f6-49f0-bf03-c047ff9de686",
        "deepnote_cell_type": "code"
      },
      "source": "print(pge_full.shape)\npge_full.to_csv('cleaned_data/pge-monthly-full-cleaned-by-zip_2013-2020.csv')",
      "outputs": [
        {
          "name": "stdout",
          "output_type": "stream",
          "text": "(154283, 16)\n"
        }
      ],
      "execution_count": null
    },
    {
      "cell_type": "code",
      "metadata": {
        "cell_id": "00024-1ddcde16-20c0-4a09-8b5d-fc0608466cb2",
        "deepnote_cell_type": "code"
      },
      "source": "",
      "execution_count": null,
      "outputs": []
    },
    {
      "cell_type": "markdown",
      "source": "<a style='text-decoration:none;line-height:16px;display:flex;color:#5B5B62;padding:10px;justify-content:end;' href='https://deepnote.com?utm_source=created-in-deepnote-cell&projectId=c2f0e727-e6a4-4b2a-b180-a91c3a609ecf' target=\"_blank\">\n<img alt='Created in deepnote.com' style='display:inline;max-height:16px;margin:0px;margin-right:7.5px;' src='data:image/svg+xml;base64,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' > </img>\nCreated in <span style='font-weight:600;margin-left:4px;'>Deepnote</span></a>",
      "metadata": {
        "tags": [],
        "created_in_deepnote_cell": true,
        "deepnote_cell_type": "markdown"
      }
    }
  ],
  "nbformat": 4,
  "nbformat_minor": 2,
  "metadata": {
    "kernelspec": {
      "display_name": "Python 3",
      "language": "python",
      "name": "python3"
    },
    "language_info": {
      "codemirror_mode": {
        "name": "ipython",
        "version": 3
      },
      "file_extension": ".py",
      "mimetype": "text/x-python",
      "name": "python",
      "nbconvert_exporter": "python",
      "pygments_lexer": "ipython3",
      "version": "3.7.3"
    },
    "deepnote_notebook_id": "298e1e7d-ee9e-42dc-9ba6-481d57e15bc5",
    "deepnote": {},
    "deepnote_execution_queue": []
  }
}