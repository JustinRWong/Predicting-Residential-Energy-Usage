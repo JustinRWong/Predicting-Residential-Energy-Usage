{
  "cells": [
    {
      "cell_type": "code",
      "metadata": {
        "deepnote_to_be_reexecuted": false,
        "source_hash": "6953864a",
        "execution_millis": 1564,
        "cell_id": "00000-4c78b001-baaf-41c6-bd17-b59bb5f0c586",
        "execution_start": 1619131320499,
        "deepnote_cell_type": "code"
      },
      "source": "import geopandas as gpd\nimport pandas as pd\nimport numpy as np\nimport matplotlib.pyplot as plt\nimport matplotlib.gridspec as gridspec\nfrom ipywidgets import interact, interactive, fixed, interact_manual\nimport ipywidgets as widgets\nimport seaborn as sns\nfrom sklearn.model_selection import train_test_split\n\nfrom scipy.optimize import leastsq\n\nfrom sklearn.linear_model import LinearRegression, Ridge, Lasso\n\nfrom sklearn.metrics import mean_squared_error\nfrom sklearn import svm\nfrom sklearn.tree import DecisionTreeRegressor\n\nfrom sklearn.preprocessing import StandardScaler\nfrom sklearn.pipeline import Pipeline",
      "execution_count": 2,
      "outputs": []
    },
    {
      "cell_type": "code",
      "metadata": {
        "deepnote_to_be_reexecuted": false,
        "source_hash": "6ec522b",
        "execution_millis": 1,
        "cell_id": "00001-04c8ad4b-910b-4e5a-8564-8881744b114a",
        "execution_start": 1619131322605,
        "deepnote_cell_type": "code"
      },
      "source": "def info(df, head=True):\n    print(\"Type: \", type(df))\n    print(\"Shape: \", df.shape)\n    print(\"Columns: \", df.columns)\n    if head:\n        display(df.head())\n    else:\n        display(df)\n\ndef corr_vis(df, features, meas='AVERAGEKWH_raw'):\n    '''\n    Displays a corrrelation chart for the  specified features in the edf\n    '''\n    ## Create a blank dataframe that calculates all the correlations to TOG\n    vis = pd.DataFrame()\n    vis['feature'] = features\n    vis['spearman'] = [df[f].corr(df[meas], 'spearman') for f in features]\n    #[print(str(features[f]) + \": \" + str(spr['spearman'][f])) for f in range(len(features))]\n    \n    vis = vis.sort_values('spearman')\n    plt.figure(figsize=(6, 0.25*len(features)))\n    ax = sns.barplot(data=vis, y='feature', x='spearman', orient='h')\n    \n    ## Chart design\n    ax.set(xlabel='correlation')\n    ax.set(title='Correlation of all features to {meas}'.format(meas=meas)) \n    return vis",
      "execution_count": 3,
      "outputs": []
    },
    {
      "cell_type": "markdown",
      "source": "# Importing GeoDataFrames\n\nCalifornia Counties and Boundarise sourced from https://data.ca.gov/dataset/ca-geographic-boundaries",
      "metadata": {
        "cell_id": "00002-136b703f-e3d1-4fb6-a8f7-8a4e823f80b7",
        "deepnote_cell_type": "markdown"
      }
    },
    {
      "cell_type": "code",
      "metadata": {
        "tags": [],
        "deepnote_to_be_reexecuted": false,
        "source_hash": "8fd16d92",
        "execution_millis": 4,
        "cell_id": "00003-b61c3fa2-6d96-4f7a-a6e8-5ee73e7b03be",
        "execution_start": 1619131324417,
        "deepnote_cell_type": "code"
      },
      "source": "base = \"/datasets/team-red-residential-energy-consumption/datasets/team-red-residential-energy-consumption/Data/\"",
      "execution_count": 4,
      "outputs": []
    },
    {
      "cell_type": "code",
      "metadata": {
        "deepnote_to_be_reexecuted": false,
        "source_hash": "358e5bfc",
        "execution_millis": 12906,
        "cell_id": "00004-d5f5e061-1d44-4ed4-99f6-4fa4000f1c57",
        "execution_start": 1619131324868,
        "deepnote_cell_type": "code"
      },
      "source": "cleaned_monthly_with_zip_and_citis_fn = base + \"cleaned_data/all-pge-with-nrel/transformed_pge-energy-consumption-with-nrel-solar_2013-2019_136968x35.shp\"\nzip_cities_monthly_pge_gdf = gpd.read_file(cleaned_monthly_with_zip_and_citis_fn)\n",
      "execution_count": 5,
      "outputs": []
    },
    {
      "cell_type": "code",
      "metadata": {
        "deepnote_to_be_reexecuted": false,
        "source_hash": "f56db3a0",
        "execution_millis": 361,
        "cell_id": "00005-557fd398-3eee-4c51-999c-73def98d99d0",
        "execution_start": 1619131340008,
        "deepnote_cell_type": "code"
      },
      "source": "rename_mapper ={\n    'TOTALCUSTO': 'TOTALCUSTO_raw',\n    'TOTALKWH_r': 'TOTALKWH_raw',\n    'AVERAGEKWH': 'AVERAGEKWH_raw',\n    'TOTALTHERM': 'TOTALTHERM_raw',\n    'AVERAGETHE': 'AVERAGETHERM_raw',\n    'Temperatur': 'Temperature_raw', \n    'Solar Zeni': 'Solar_Zenith_Angle_raw',\n    'TOTALCUS_1': 'TOTALCUS_std', \n    'TOTALKWH_s': 'TOTALKWH_std', \n    'AVERAGEK_1': 'AVERAGEKWH_std', \n    'TOTALTHE_1': 'TOTALTHERM_std', \n    'AVERAGET_1': 'AVERAGETHERM_std',\n    'Wind Spe_1': 'Wind_Speed_std', \n    'Temperat_1': 'Temperature_std',\n    'Solar Ze_1': 'Solar_Zenith_Angle_std', \n}\nzip_cities_monthly_pge_gdf = zip_cities_monthly_pge_gdf.rename(rename_mapper, axis=1)\nzip_cities_monthly_pge_gdf['Solar_Zenith_Angle_raw'] = pd.to_numeric(zip_cities_monthly_pge_gdf['Solar_Zenith_Angle_raw'])\nzip_cities_monthly_pge_gdf['Temperature_raw'] = pd.to_numeric(zip_cities_monthly_pge_gdf['Temperature_raw'])",
      "execution_count": 6,
      "outputs": []
    },
    {
      "cell_type": "code",
      "metadata": {
        "deepnote_to_be_reexecuted": false,
        "source_hash": "81e5bf19",
        "execution_millis": 210,
        "cell_id": "00006-fbbf708b-a844-46f2-8dae-f85d1742012c",
        "execution_start": 1619131343582,
        "deepnote_cell_type": "code"
      },
      "source": "info(zip_cities_monthly_pge_gdf)",
      "execution_count": 7,
      "outputs": [
        {
          "name": "stdout",
          "text": "Type:  <class 'geopandas.geodataframe.GeoDataFrame'>\nShape:  (136968, 36)\nColumns:  Index(['zip', 'city', 'state', 'latitude', 'longitude', 'timezone', 'dst',\n       'DATE', 'MONTH', 'YEAR', 'DAY', 'CUSTOMERCL', 'COMBINED',\n       'TOTALCUSTO_raw', 'TOTALKWH_raw', 'AVERAGEKWH_raw', 'TOTALTHERM_raw',\n       'AVERAGETHERM_raw', 'GHI_raw', 'DHI_raw', 'DNI_raw', 'Wind Speed',\n       'Temperature_raw', 'Solar_Zenith_Angle_raw', 'TOTALCUS_std',\n       'TOTALKWH_std', 'AVERAGEKWH_std', 'TOTALTHERM_std', 'AVERAGETHERM_std',\n       'GHI_std', 'DHI_std', 'DNI_std', 'Wind_Speed_std', 'Temperature_std',\n       'Solar_Zenith_Angle_std', 'geometry'],\n      dtype='object')\n",
          "output_type": "stream"
        },
        {
          "data": {
            "application/vnd.deepnote.dataframe.v2+json": {
              "error": "Traceback (most recent call last):\n  File \"/shared-libs/code/variable_explorer.py\", line 143, in dataframe_formatter\n    return { MIME_TYPE: describe_pd_dataframe(df) }\n  File \"/shared-libs/code/variable_explorer_helpers.py\", line 154, in describe_pd_dataframe\n    if (is_type_numeric(column.dtype)):\n  File \"/shared-libs/code/variable_explorer_helpers.py\", line 13, in is_type_numeric\n    return np.issubdtype(dtype, np.number)\n  File \"/shared-libs/python3.7/py/lib/python3.7/site-packages/numpy/core/numerictypes.py\", line 388, in issubdtype\n    arg1 = dtype(arg1).type\nTypeError: Cannot interpret '<geopandas.array.GeometryDtype object at 0x7f922221c1d0>' as a data type\n"
            },
            "text/plain": "     zip      city state   latitude  longitude timezone dst        DATE  \\\n0  95717  Gold Run    CA  39.177026  -120.8451       -8   1  2013-01-01   \n1  95717  Gold Run    CA  39.177026  -120.8451       -8   1  2013-02-01   \n2  95717  Gold Run    CA  39.177026  -120.8451       -8   1  2013-03-01   \n3  95717  Gold Run    CA  39.177026  -120.8451       -8   1  2013-04-01   \n4  95717  Gold Run    CA  39.177026  -120.8451       -8   1  2013-05-01   \n\n   MONTH  YEAR  ...  AVERAGEKWH_std TOTALTHERM_std AVERAGETHERM_std   GHI_std  \\\n0      1  2013  ...       -0.590525       -0.46156        -0.348278 -1.198043   \n1      2  2013  ...       -0.590525       -0.46156        -0.348278 -0.621567   \n2      3  2013  ...       -0.590525       -0.46156        -0.348278 -0.341841   \n3      4  2013  ...       -0.590525       -0.46156        -0.348278  0.639561   \n4      5  2013  ...        0.278279       -0.46156        -0.348278  0.985208   \n\n    DHI_std   DNI_std  Wind_Speed_std  Temperature_std Solar_Zenith_Angle_std  \\\n0 -1.373894 -0.709183       -1.894812        -2.255195               1.283431   \n1 -0.990437 -0.041747       -1.837832        -1.881118               0.787489   \n2  0.775179 -0.762886       -1.841878        -1.193114               0.089457   \n3  0.659686  0.529226       -1.828112        -0.713287              -0.643372   \n4  0.972799  0.807632       -1.802339        -0.107015              -1.200288   \n\n                      geometry  \n0  POINT (-120.84510 39.17703)  \n1  POINT (-120.84510 39.17703)  \n2  POINT (-120.84510 39.17703)  \n3  POINT (-120.84510 39.17703)  \n4  POINT (-120.84510 39.17703)  \n\n[5 rows x 36 columns]",
            "text/html": "<div>\n<style scoped>\n    .dataframe tbody tr th:only-of-type {\n        vertical-align: middle;\n    }\n\n    .dataframe tbody tr th {\n        vertical-align: top;\n    }\n\n    .dataframe thead th {\n        text-align: right;\n    }\n</style>\n<table border=\"1\" class=\"dataframe\">\n  <thead>\n    <tr style=\"text-align: right;\">\n      <th></th>\n      <th>zip</th>\n      <th>city</th>\n      <th>state</th>\n      <th>latitude</th>\n      <th>longitude</th>\n      <th>timezone</th>\n      <th>dst</th>\n      <th>DATE</th>\n      <th>MONTH</th>\n      <th>YEAR</th>\n      <th>...</th>\n      <th>AVERAGEKWH_std</th>\n      <th>TOTALTHERM_std</th>\n      <th>AVERAGETHERM_std</th>\n      <th>GHI_std</th>\n      <th>DHI_std</th>\n      <th>DNI_std</th>\n      <th>Wind_Speed_std</th>\n      <th>Temperature_std</th>\n      <th>Solar_Zenith_Angle_std</th>\n      <th>geometry</th>\n    </tr>\n  </thead>\n  <tbody>\n    <tr>\n      <th>0</th>\n      <td>95717</td>\n      <td>Gold Run</td>\n      <td>CA</td>\n      <td>39.177026</td>\n      <td>-120.8451</td>\n      <td>-8</td>\n      <td>1</td>\n      <td>2013-01-01</td>\n      <td>1</td>\n      <td>2013</td>\n      <td>...</td>\n      <td>-0.590525</td>\n      <td>-0.46156</td>\n      <td>-0.348278</td>\n      <td>-1.198043</td>\n      <td>-1.373894</td>\n      <td>-0.709183</td>\n      <td>-1.894812</td>\n      <td>-2.255195</td>\n      <td>1.283431</td>\n      <td>POINT (-120.84510 39.17703)</td>\n    </tr>\n    <tr>\n      <th>1</th>\n      <td>95717</td>\n      <td>Gold Run</td>\n      <td>CA</td>\n      <td>39.177026</td>\n      <td>-120.8451</td>\n      <td>-8</td>\n      <td>1</td>\n      <td>2013-02-01</td>\n      <td>2</td>\n      <td>2013</td>\n      <td>...</td>\n      <td>-0.590525</td>\n      <td>-0.46156</td>\n      <td>-0.348278</td>\n      <td>-0.621567</td>\n      <td>-0.990437</td>\n      <td>-0.041747</td>\n      <td>-1.837832</td>\n      <td>-1.881118</td>\n      <td>0.787489</td>\n      <td>POINT (-120.84510 39.17703)</td>\n    </tr>\n    <tr>\n      <th>2</th>\n      <td>95717</td>\n      <td>Gold Run</td>\n      <td>CA</td>\n      <td>39.177026</td>\n      <td>-120.8451</td>\n      <td>-8</td>\n      <td>1</td>\n      <td>2013-03-01</td>\n      <td>3</td>\n      <td>2013</td>\n      <td>...</td>\n      <td>-0.590525</td>\n      <td>-0.46156</td>\n      <td>-0.348278</td>\n      <td>-0.341841</td>\n      <td>0.775179</td>\n      <td>-0.762886</td>\n      <td>-1.841878</td>\n      <td>-1.193114</td>\n      <td>0.089457</td>\n      <td>POINT (-120.84510 39.17703)</td>\n    </tr>\n    <tr>\n      <th>3</th>\n      <td>95717</td>\n      <td>Gold Run</td>\n      <td>CA</td>\n      <td>39.177026</td>\n      <td>-120.8451</td>\n      <td>-8</td>\n      <td>1</td>\n      <td>2013-04-01</td>\n      <td>4</td>\n      <td>2013</td>\n      <td>...</td>\n      <td>-0.590525</td>\n      <td>-0.46156</td>\n      <td>-0.348278</td>\n      <td>0.639561</td>\n      <td>0.659686</td>\n      <td>0.529226</td>\n      <td>-1.828112</td>\n      <td>-0.713287</td>\n      <td>-0.643372</td>\n      <td>POINT (-120.84510 39.17703)</td>\n    </tr>\n    <tr>\n      <th>4</th>\n      <td>95717</td>\n      <td>Gold Run</td>\n      <td>CA</td>\n      <td>39.177026</td>\n      <td>-120.8451</td>\n      <td>-8</td>\n      <td>1</td>\n      <td>2013-05-01</td>\n      <td>5</td>\n      <td>2013</td>\n      <td>...</td>\n      <td>0.278279</td>\n      <td>-0.46156</td>\n      <td>-0.348278</td>\n      <td>0.985208</td>\n      <td>0.972799</td>\n      <td>0.807632</td>\n      <td>-1.802339</td>\n      <td>-0.107015</td>\n      <td>-1.200288</td>\n      <td>POINT (-120.84510 39.17703)</td>\n    </tr>\n  </tbody>\n</table>\n<p>5 rows × 36 columns</p>\n</div>"
          },
          "metadata": {},
          "output_type": "display_data"
        }
      ]
    },
    {
      "cell_type": "markdown",
      "source": "### Sanity check geographic plots\n\n#### California should look like California\n\n#### PG&E dataset matches pg&e customers\nPG&E service area reference: https://www.pge.com/mybusiness/customerservice/otherrequests/treetrimming/territory/",
      "metadata": {
        "cell_id": "00007-d94725c7-2cfc-492d-a332-fc27730b4739",
        "deepnote_cell_type": "markdown"
      }
    },
    {
      "cell_type": "markdown",
      "source": "## Overlaying PG&E/NREL in Bay Area Only\n\nBay Area traditionally consists of [9 counties](https://wikitravel.org/en/Bay_Area_(California)).\n\n<img src='https://wikitravel.org/upload/shared//thumb/b/bc/Bayarea_map.png/900px-Bayarea_map.png' style=\"width: 300px;\">\n\n\nWe will define \"Bay Area\" as a box that encloses the following coordinates `(lat, long)`:\n\n- South West corner: `(36.897966, -123.433313)`\n\n- North East corner: `(38.593263, -121.381268)`\n\nWith these coordinates, we'll need to only consider data in the PG&E/NREL dataset that falls within this region.",
      "metadata": {
        "cell_id": "00008-c48dd16c-9bfa-44a7-b18d-8a6b3c400bd9",
        "deepnote_cell_type": "markdown"
      }
    },
    {
      "cell_type": "code",
      "metadata": {
        "deepnote_to_be_reexecuted": false,
        "source_hash": "38424f68",
        "execution_millis": 1,
        "cell_id": "00009-47c85638-d242-4746-80c5-3314cf346a8f",
        "execution_start": 1619131347033,
        "deepnote_cell_type": "code"
      },
      "source": "approximate_bay_area_center_lat = 39.5769252\napproximate_bay_area_center_long = -122.2833322\n\n## for subsetting the ca counties\nbay_area_south_west_lat  = 36.897966    ## vertical\nbay_area_south_west_long = -123.433313 ## horizontal\nbay_area_north_east_lat  = 38.593263    ## vertical --> closer to north pole => higher values\nbay_area_north_east_long = -121.381268 ## horizontal --> west long < east long. west is more negative\n\n## for plotting boundaries\nbay_area_limit_south_west_lat  = 36.897966    ## vertical\nbay_area_limit_south_west_long = -123.75 ## horizontal\nbay_area_limit_north_east_lat  = 38.9    ## vertical --> closer to north pole => higher values\nbay_area_limit_north_east_long = -121.2 ## horizontal --> west long < east long. west is more negative\n",
      "execution_count": 8,
      "outputs": []
    },
    {
      "cell_type": "markdown",
      "source": "### Filtering Bay Area Only Data\n",
      "metadata": {
        "tags": [],
        "cell_id": "00010-e29e03ed-65a3-40de-89dc-06c91d99dbb9",
        "deepnote_cell_type": "markdown"
      }
    },
    {
      "cell_type": "markdown",
      "source": "#### Boxing the CA Counties Data",
      "metadata": {
        "cell_id": "00011-6d21c4dc-b5df-451f-bd0e-0231f51e541b",
        "deepnote_cell_type": "markdown"
      }
    },
    {
      "cell_type": "markdown",
      "source": "#### Boxing the PG&E/NREL Data",
      "metadata": {
        "cell_id": "00012-f07a819b-7751-4948-8168-599bb379e612",
        "deepnote_cell_type": "markdown"
      }
    },
    {
      "cell_type": "code",
      "metadata": {
        "deepnote_to_be_reexecuted": false,
        "source_hash": "70addfcd",
        "execution_millis": 9,
        "cell_id": "00013-74da1740-07db-4181-9ece-eb7e1ae4dcde",
        "execution_start": 1619131350394,
        "deepnote_cell_type": "code"
      },
      "source": "zip_cities_monthly_pge_gdf.columns",
      "execution_count": 9,
      "outputs": [
        {
          "output_type": "execute_result",
          "execution_count": 9,
          "data": {
            "text/plain": "Index(['zip', 'city', 'state', 'latitude', 'longitude', 'timezone', 'dst',\n       'DATE', 'MONTH', 'YEAR', 'DAY', 'CUSTOMERCL', 'COMBINED',\n       'TOTALCUSTO_raw', 'TOTALKWH_raw', 'AVERAGEKWH_raw', 'TOTALTHERM_raw',\n       'AVERAGETHERM_raw', 'GHI_raw', 'DHI_raw', 'DNI_raw', 'Wind Speed',\n       'Temperature_raw', 'Solar_Zenith_Angle_raw', 'TOTALCUS_std',\n       'TOTALKWH_std', 'AVERAGEKWH_std', 'TOTALTHERM_std', 'AVERAGETHERM_std',\n       'GHI_std', 'DHI_std', 'DNI_std', 'Wind_Speed_std', 'Temperature_std',\n       'Solar_Zenith_Angle_std', 'geometry'],\n      dtype='object')"
          },
          "metadata": {}
        }
      ]
    },
    {
      "cell_type": "code",
      "metadata": {
        "deepnote_to_be_reexecuted": false,
        "source_hash": "5707170a",
        "execution_millis": 130,
        "cell_id": "00014-5d691d74-3f36-417f-990c-e50e7cf1f57c",
        "execution_start": 1619131350709,
        "deepnote_cell_type": "code"
      },
      "source": "## subset south west\nbay_area_monthly_pge_nrel = zip_cities_monthly_pge_gdf[ (bay_area_south_west_long <= zip_cities_monthly_pge_gdf['longitude']) & (bay_area_south_west_lat <= zip_cities_monthly_pge_gdf['latitude']) ]\n\n## subst north east\nbay_area_monthly_pge_nrel = bay_area_monthly_pge_nrel[ (bay_area_monthly_pge_nrel['longitude'] <= bay_area_north_east_long) & (bay_area_monthly_pge_nrel['latitude'] <= bay_area_north_east_lat) ]\n",
      "execution_count": 10,
      "outputs": []
    },
    {
      "cell_type": "code",
      "metadata": {
        "deepnote_to_be_reexecuted": false,
        "source_hash": "99ac43bd",
        "execution_millis": 1,
        "cell_id": "00015-7b38f758-8ec9-4b07-b4c1-f0d1a7c0026c",
        "execution_start": 1619131352336,
        "deepnote_cell_type": "code"
      },
      "source": "## Viewing how many measurements are the box\nbay_area_monthly_pge_nrel.shape",
      "execution_count": 11,
      "outputs": [
        {
          "output_type": "execute_result",
          "execution_count": 11,
          "data": {
            "text/plain": "(56683, 36)"
          },
          "metadata": {}
        }
      ]
    },
    {
      "cell_type": "code",
      "metadata": {
        "deepnote_to_be_reexecuted": false,
        "source_hash": "37ce86d0",
        "execution_millis": 49,
        "cell_id": "00016-753705e8-381f-4d9a-b388-20754f753635",
        "execution_start": 1619131353562,
        "deepnote_cell_type": "code"
      },
      "source": "bay_area_monthly_pge_nrel.columns\nraw_cols = [\"MONTH\", 'YEAR', 'zip', 'TOTALCUSTO_raw', 'TOTALKWH_raw', 'AVERAGEKWH_raw', 'TOTALTHERM_raw',\n       'AVERAGETHERM_raw', 'GHI_raw', 'DHI_raw', 'DNI_raw', 'Wind Speed',\n       'Temperature_raw', 'Solar_Zenith_Angle_raw']\nbay_area_monthly_pge_nrel_raw = bay_area_monthly_pge_nrel[raw_cols]\nbay_area_monthly_pge_nrel_raw.head()",
      "execution_count": 12,
      "outputs": [
        {
          "output_type": "execute_result",
          "execution_count": 12,
          "data": {
            "application/vnd.deepnote.dataframe.v2+json": {
              "row_count": 5,
              "column_count": 14,
              "columns": [
                {
                  "name": "MONTH",
                  "dtype": "int64",
                  "stats": {
                    "unique_count": 3,
                    "nan_count": 0,
                    "min": "1",
                    "max": "3",
                    "histogram": [
                      {
                        "bin_start": 1,
                        "bin_end": 1.2,
                        "count": 2
                      },
                      {
                        "bin_start": 1.2,
                        "bin_end": 1.4,
                        "count": 0
                      },
                      {
                        "bin_start": 1.4,
                        "bin_end": 1.6,
                        "count": 0
                      },
                      {
                        "bin_start": 1.6,
                        "bin_end": 1.8,
                        "count": 0
                      },
                      {
                        "bin_start": 1.8,
                        "bin_end": 2,
                        "count": 0
                      },
                      {
                        "bin_start": 2,
                        "bin_end": 2.2,
                        "count": 2
                      },
                      {
                        "bin_start": 2.2,
                        "bin_end": 2.4000000000000004,
                        "count": 0
                      },
                      {
                        "bin_start": 2.4000000000000004,
                        "bin_end": 2.6,
                        "count": 0
                      },
                      {
                        "bin_start": 2.6,
                        "bin_end": 2.8,
                        "count": 0
                      },
                      {
                        "bin_start": 2.8,
                        "bin_end": 3,
                        "count": 1
                      }
                    ]
                  }
                },
                {
                  "name": "YEAR",
                  "dtype": "int64",
                  "stats": {
                    "unique_count": 1,
                    "nan_count": 0,
                    "min": "2013",
                    "max": "2013",
                    "histogram": [
                      {
                        "bin_start": 2012.5,
                        "bin_end": 2012.6,
                        "count": 0
                      },
                      {
                        "bin_start": 2012.6,
                        "bin_end": 2012.7,
                        "count": 0
                      },
                      {
                        "bin_start": 2012.7,
                        "bin_end": 2012.8,
                        "count": 0
                      },
                      {
                        "bin_start": 2012.8,
                        "bin_end": 2012.9,
                        "count": 0
                      },
                      {
                        "bin_start": 2012.9,
                        "bin_end": 2013,
                        "count": 0
                      },
                      {
                        "bin_start": 2013,
                        "bin_end": 2013.1,
                        "count": 5
                      },
                      {
                        "bin_start": 2013.1,
                        "bin_end": 2013.2,
                        "count": 0
                      },
                      {
                        "bin_start": 2013.2,
                        "bin_end": 2013.3,
                        "count": 0
                      },
                      {
                        "bin_start": 2013.3,
                        "bin_end": 2013.4,
                        "count": 0
                      },
                      {
                        "bin_start": 2013.4,
                        "bin_end": 2013.5,
                        "count": 0
                      }
                    ]
                  }
                },
                {
                  "name": "zip",
                  "dtype": "int64",
                  "stats": {
                    "unique_count": 1,
                    "nan_count": 0,
                    "min": "94564",
                    "max": "94564",
                    "histogram": [
                      {
                        "bin_start": 94563.5,
                        "bin_end": 94563.6,
                        "count": 0
                      },
                      {
                        "bin_start": 94563.6,
                        "bin_end": 94563.7,
                        "count": 0
                      },
                      {
                        "bin_start": 94563.7,
                        "bin_end": 94563.8,
                        "count": 0
                      },
                      {
                        "bin_start": 94563.8,
                        "bin_end": 94563.9,
                        "count": 0
                      },
                      {
                        "bin_start": 94563.9,
                        "bin_end": 94564,
                        "count": 0
                      },
                      {
                        "bin_start": 94564,
                        "bin_end": 94564.1,
                        "count": 5
                      },
                      {
                        "bin_start": 94564.1,
                        "bin_end": 94564.2,
                        "count": 0
                      },
                      {
                        "bin_start": 94564.2,
                        "bin_end": 94564.3,
                        "count": 0
                      },
                      {
                        "bin_start": 94564.3,
                        "bin_end": 94564.4,
                        "count": 0
                      },
                      {
                        "bin_start": 94564.4,
                        "bin_end": 94564.5,
                        "count": 0
                      }
                    ]
                  }
                },
                {
                  "name": "TOTALCUSTO_raw",
                  "dtype": "int64",
                  "stats": {
                    "unique_count": 5,
                    "nan_count": 0,
                    "min": "6166",
                    "max": "6727",
                    "histogram": [
                      {
                        "bin_start": 6166,
                        "bin_end": 6222.1,
                        "count": 2
                      },
                      {
                        "bin_start": 6222.1,
                        "bin_end": 6278.2,
                        "count": 0
                      },
                      {
                        "bin_start": 6278.2,
                        "bin_end": 6334.3,
                        "count": 0
                      },
                      {
                        "bin_start": 6334.3,
                        "bin_end": 6390.4,
                        "count": 0
                      },
                      {
                        "bin_start": 6390.4,
                        "bin_end": 6446.5,
                        "count": 0
                      },
                      {
                        "bin_start": 6446.5,
                        "bin_end": 6502.6,
                        "count": 0
                      },
                      {
                        "bin_start": 6502.6,
                        "bin_end": 6558.7,
                        "count": 0
                      },
                      {
                        "bin_start": 6558.7,
                        "bin_end": 6614.8,
                        "count": 0
                      },
                      {
                        "bin_start": 6614.8,
                        "bin_end": 6670.9,
                        "count": 0
                      },
                      {
                        "bin_start": 6670.9,
                        "bin_end": 6727,
                        "count": 3
                      }
                    ]
                  }
                },
                {
                  "name": "TOTALKWH_raw",
                  "dtype": "int64",
                  "stats": {
                    "unique_count": 4,
                    "nan_count": 0,
                    "min": "0",
                    "max": "3787580",
                    "histogram": [
                      {
                        "bin_start": 0,
                        "bin_end": 378758,
                        "count": 2
                      },
                      {
                        "bin_start": 378758,
                        "bin_end": 757516,
                        "count": 0
                      },
                      {
                        "bin_start": 757516,
                        "bin_end": 1136274,
                        "count": 0
                      },
                      {
                        "bin_start": 1136274,
                        "bin_end": 1515032,
                        "count": 0
                      },
                      {
                        "bin_start": 1515032,
                        "bin_end": 1893790,
                        "count": 0
                      },
                      {
                        "bin_start": 1893790,
                        "bin_end": 2272548,
                        "count": 0
                      },
                      {
                        "bin_start": 2272548,
                        "bin_end": 2651306,
                        "count": 0
                      },
                      {
                        "bin_start": 2651306,
                        "bin_end": 3030064,
                        "count": 0
                      },
                      {
                        "bin_start": 3030064,
                        "bin_end": 3408822,
                        "count": 2
                      },
                      {
                        "bin_start": 3408822,
                        "bin_end": 3787580,
                        "count": 1
                      }
                    ]
                  }
                },
                {
                  "name": "AVERAGEKWH_raw",
                  "dtype": "int64",
                  "stats": {
                    "unique_count": 4,
                    "nan_count": 0,
                    "min": "0",
                    "max": "563",
                    "histogram": [
                      {
                        "bin_start": 0,
                        "bin_end": 56.3,
                        "count": 2
                      },
                      {
                        "bin_start": 56.3,
                        "bin_end": 112.6,
                        "count": 0
                      },
                      {
                        "bin_start": 112.6,
                        "bin_end": 168.89999999999998,
                        "count": 0
                      },
                      {
                        "bin_start": 168.89999999999998,
                        "bin_end": 225.2,
                        "count": 0
                      },
                      {
                        "bin_start": 225.2,
                        "bin_end": 281.5,
                        "count": 0
                      },
                      {
                        "bin_start": 281.5,
                        "bin_end": 337.79999999999995,
                        "count": 0
                      },
                      {
                        "bin_start": 337.79999999999995,
                        "bin_end": 394.09999999999997,
                        "count": 0
                      },
                      {
                        "bin_start": 394.09999999999997,
                        "bin_end": 450.4,
                        "count": 0
                      },
                      {
                        "bin_start": 450.4,
                        "bin_end": 506.7,
                        "count": 2
                      },
                      {
                        "bin_start": 506.7,
                        "bin_end": 563,
                        "count": 1
                      }
                    ]
                  }
                },
                {
                  "name": "TOTALTHERM_raw",
                  "dtype": "int64",
                  "stats": {
                    "unique_count": 3,
                    "nan_count": 0,
                    "min": "0",
                    "max": "562494",
                    "histogram": [
                      {
                        "bin_start": 0,
                        "bin_end": 56249.4,
                        "count": 3
                      },
                      {
                        "bin_start": 56249.4,
                        "bin_end": 112498.8,
                        "count": 0
                      },
                      {
                        "bin_start": 112498.8,
                        "bin_end": 168748.2,
                        "count": 0
                      },
                      {
                        "bin_start": 168748.2,
                        "bin_end": 224997.6,
                        "count": 0
                      },
                      {
                        "bin_start": 224997.6,
                        "bin_end": 281247,
                        "count": 0
                      },
                      {
                        "bin_start": 281247,
                        "bin_end": 337496.4,
                        "count": 0
                      },
                      {
                        "bin_start": 337496.4,
                        "bin_end": 393745.8,
                        "count": 1
                      },
                      {
                        "bin_start": 393745.8,
                        "bin_end": 449995.2,
                        "count": 0
                      },
                      {
                        "bin_start": 449995.2,
                        "bin_end": 506244.60000000003,
                        "count": 0
                      },
                      {
                        "bin_start": 506244.60000000003,
                        "bin_end": 562494,
                        "count": 1
                      }
                    ]
                  }
                },
                {
                  "name": "AVERAGETHERM_raw",
                  "dtype": "int64",
                  "stats": {
                    "unique_count": 3,
                    "nan_count": 0,
                    "min": "0",
                    "max": "91",
                    "histogram": [
                      {
                        "bin_start": 0,
                        "bin_end": 9.1,
                        "count": 3
                      },
                      {
                        "bin_start": 9.1,
                        "bin_end": 18.2,
                        "count": 0
                      },
                      {
                        "bin_start": 18.2,
                        "bin_end": 27.299999999999997,
                        "count": 0
                      },
                      {
                        "bin_start": 27.299999999999997,
                        "bin_end": 36.4,
                        "count": 0
                      },
                      {
                        "bin_start": 36.4,
                        "bin_end": 45.5,
                        "count": 0
                      },
                      {
                        "bin_start": 45.5,
                        "bin_end": 54.599999999999994,
                        "count": 0
                      },
                      {
                        "bin_start": 54.599999999999994,
                        "bin_end": 63.699999999999996,
                        "count": 1
                      },
                      {
                        "bin_start": 63.699999999999996,
                        "bin_end": 72.8,
                        "count": 0
                      },
                      {
                        "bin_start": 72.8,
                        "bin_end": 81.89999999999999,
                        "count": 0
                      },
                      {
                        "bin_start": 81.89999999999999,
                        "bin_end": 91,
                        "count": 1
                      }
                    ]
                  }
                },
                {
                  "name": "GHI_raw",
                  "dtype": "object",
                  "stats": {
                    "unique_count": 3,
                    "nan_count": 0,
                    "categories": [
                      {
                        "name": "116.13037634408602",
                        "count": 2
                      },
                      {
                        "name": "162.37946428571428",
                        "count": 2
                      },
                      {
                        "name": "190.54569892473117",
                        "count": 1
                      }
                    ]
                  }
                },
                {
                  "name": "DHI_raw",
                  "dtype": "object",
                  "stats": {
                    "unique_count": 3,
                    "nan_count": 0,
                    "categories": [
                      {
                        "name": "29.18010752688172",
                        "count": 2
                      },
                      {
                        "name": "38.666666666666664",
                        "count": 2
                      },
                      {
                        "name": "70.01209677419355",
                        "count": 1
                      }
                    ]
                  }
                },
                {
                  "name": "DNI_raw",
                  "dtype": "object",
                  "stats": {
                    "unique_count": 3,
                    "nan_count": 0,
                    "categories": [
                      {
                        "name": "222.91935483870967",
                        "count": 2
                      },
                      {
                        "name": "262.79017857142856",
                        "count": 2
                      },
                      {
                        "name": "211.2741935483871",
                        "count": 1
                      }
                    ]
                  }
                },
                {
                  "name": "Wind Speed",
                  "dtype": "object",
                  "stats": {
                    "unique_count": 3,
                    "nan_count": 0,
                    "categories": [
                      {
                        "name": "2.123252688172044",
                        "count": 2
                      },
                      {
                        "name": "2.1078869047619047",
                        "count": 2
                      },
                      {
                        "name": "2.017607526881722",
                        "count": 1
                      }
                    ]
                  }
                },
                {
                  "name": "Temperature_raw",
                  "dtype": "float64",
                  "stats": {
                    "unique_count": 3,
                    "nan_count": 0,
                    "min": "7.276881720430108",
                    "max": "11.189516129032258",
                    "histogram": [
                      {
                        "bin_start": 7.276881720430108,
                        "bin_end": 7.668145161290323,
                        "count": 2
                      },
                      {
                        "bin_start": 7.668145161290323,
                        "bin_end": 8.059408602150539,
                        "count": 0
                      },
                      {
                        "bin_start": 8.059408602150539,
                        "bin_end": 8.450672043010753,
                        "count": 0
                      },
                      {
                        "bin_start": 8.450672043010753,
                        "bin_end": 8.841935483870968,
                        "count": 0
                      },
                      {
                        "bin_start": 8.841935483870968,
                        "bin_end": 9.233198924731184,
                        "count": 2
                      },
                      {
                        "bin_start": 9.233198924731184,
                        "bin_end": 9.624462365591398,
                        "count": 0
                      },
                      {
                        "bin_start": 9.624462365591398,
                        "bin_end": 10.015725806451613,
                        "count": 0
                      },
                      {
                        "bin_start": 10.015725806451613,
                        "bin_end": 10.406989247311827,
                        "count": 0
                      },
                      {
                        "bin_start": 10.406989247311827,
                        "bin_end": 10.798252688172044,
                        "count": 0
                      },
                      {
                        "bin_start": 10.798252688172044,
                        "bin_end": 11.189516129032258,
                        "count": 1
                      }
                    ]
                  }
                },
                {
                  "name": "Solar_Zenith_Angle_raw",
                  "dtype": "float64",
                  "stats": {
                    "unique_count": 3,
                    "nan_count": 0,
                    "min": "91.10997311827974",
                    "max": "105.58174731182795",
                    "histogram": [
                      {
                        "bin_start": 91.10997311827974,
                        "bin_end": 92.55715053763456,
                        "count": 1
                      },
                      {
                        "bin_start": 92.55715053763456,
                        "bin_end": 94.00432795698939,
                        "count": 0
                      },
                      {
                        "bin_start": 94.00432795698939,
                        "bin_end": 95.4515053763442,
                        "count": 0
                      },
                      {
                        "bin_start": 95.4515053763442,
                        "bin_end": 96.89868279569903,
                        "count": 0
                      },
                      {
                        "bin_start": 96.89868279569903,
                        "bin_end": 98.34586021505385,
                        "count": 0
                      },
                      {
                        "bin_start": 98.34586021505385,
                        "bin_end": 99.79303763440868,
                        "count": 2
                      },
                      {
                        "bin_start": 99.79303763440868,
                        "bin_end": 101.24021505376349,
                        "count": 0
                      },
                      {
                        "bin_start": 101.24021505376349,
                        "bin_end": 102.68739247311831,
                        "count": 0
                      },
                      {
                        "bin_start": 102.68739247311831,
                        "bin_end": 104.13456989247314,
                        "count": 0
                      },
                      {
                        "bin_start": 104.13456989247314,
                        "bin_end": 105.58174731182795,
                        "count": 2
                      }
                    ]
                  }
                },
                {
                  "name": "_deepnote_index_column",
                  "dtype": "int64"
                }
              ],
              "rows_top": [
                {
                  "MONTH": 1,
                  "YEAR": 2013,
                  "zip": 94564,
                  "TOTALCUSTO_raw": 6727,
                  "TOTALKWH_raw": 3787580,
                  "AVERAGEKWH_raw": 563,
                  "TOTALTHERM_raw": 0,
                  "AVERAGETHERM_raw": 0,
                  "GHI_raw": "116.13037634408602",
                  "DHI_raw": "29.18010752688172",
                  "DNI_raw": "222.91935483870967",
                  "Wind Speed": "2.123252688172044",
                  "Temperature_raw": 7.276881720430108,
                  "Solar_Zenith_Angle_raw": 105.58174731182795,
                  "_deepnote_index_column": 94
                },
                {
                  "MONTH": 2,
                  "YEAR": 2013,
                  "zip": 94564,
                  "TOTALCUSTO_raw": 6725,
                  "TOTALKWH_raw": 3086143,
                  "AVERAGEKWH_raw": 459,
                  "TOTALTHERM_raw": 0,
                  "AVERAGETHERM_raw": 0,
                  "GHI_raw": "162.37946428571428",
                  "DHI_raw": "38.666666666666664",
                  "DNI_raw": "262.79017857142856",
                  "Wind Speed": "2.1078869047619047",
                  "Temperature_raw": 9.022321428571429,
                  "Solar_Zenith_Angle_raw": 99.57782738095231,
                  "_deepnote_index_column": 95
                },
                {
                  "MONTH": 3,
                  "YEAR": 2013,
                  "zip": 94564,
                  "TOTALCUSTO_raw": 6715,
                  "TOTALKWH_raw": 3091798,
                  "AVERAGEKWH_raw": 460,
                  "TOTALTHERM_raw": 0,
                  "AVERAGETHERM_raw": 0,
                  "GHI_raw": "190.54569892473117",
                  "DHI_raw": "70.01209677419355",
                  "DNI_raw": "211.2741935483871",
                  "Wind Speed": "2.017607526881722",
                  "Temperature_raw": 11.189516129032258,
                  "Solar_Zenith_Angle_raw": 91.10997311827974,
                  "_deepnote_index_column": 96
                },
                {
                  "MONTH": 1,
                  "YEAR": 2013,
                  "zip": 94564,
                  "TOTALCUSTO_raw": 6166,
                  "TOTALKWH_raw": 0,
                  "AVERAGEKWH_raw": 0,
                  "TOTALTHERM_raw": 562494,
                  "AVERAGETHERM_raw": 91,
                  "GHI_raw": "116.13037634408602",
                  "DHI_raw": "29.18010752688172",
                  "DNI_raw": "222.91935483870967",
                  "Wind Speed": "2.123252688172044",
                  "Temperature_raw": 7.276881720430108,
                  "Solar_Zenith_Angle_raw": 105.58174731182795,
                  "_deepnote_index_column": 97
                },
                {
                  "MONTH": 2,
                  "YEAR": 2013,
                  "zip": 94564,
                  "TOTALCUSTO_raw": 6172,
                  "TOTALKWH_raw": 0,
                  "AVERAGEKWH_raw": 0,
                  "TOTALTHERM_raw": 388246,
                  "AVERAGETHERM_raw": 63,
                  "GHI_raw": "162.37946428571428",
                  "DHI_raw": "38.666666666666664",
                  "DNI_raw": "262.79017857142856",
                  "Wind Speed": "2.1078869047619047",
                  "Temperature_raw": 9.022321428571429,
                  "Solar_Zenith_Angle_raw": 99.57782738095231,
                  "_deepnote_index_column": 98
                }
              ],
              "rows_bottom": null
            },
            "text/plain": "    MONTH  YEAR    zip  TOTALCUSTO_raw  TOTALKWH_raw  AVERAGEKWH_raw  \\\n94      1  2013  94564            6727       3787580             563   \n95      2  2013  94564            6725       3086143             459   \n96      3  2013  94564            6715       3091798             460   \n97      1  2013  94564            6166             0               0   \n98      2  2013  94564            6172             0               0   \n\n    TOTALTHERM_raw  AVERAGETHERM_raw             GHI_raw             DHI_raw  \\\n94               0                 0  116.13037634408602   29.18010752688172   \n95               0                 0  162.37946428571428  38.666666666666664   \n96               0                 0  190.54569892473117   70.01209677419355   \n97          562494                91  116.13037634408602   29.18010752688172   \n98          388246                63  162.37946428571428  38.666666666666664   \n\n               DNI_raw          Wind Speed  Temperature_raw  \\\n94  222.91935483870967   2.123252688172044         7.276882   \n95  262.79017857142856  2.1078869047619047         9.022321   \n96   211.2741935483871   2.017607526881722        11.189516   \n97  222.91935483870967   2.123252688172044         7.276882   \n98  262.79017857142856  2.1078869047619047         9.022321   \n\n    Solar_Zenith_Angle_raw  \n94              105.581747  \n95               99.577827  \n96               91.109973  \n97              105.581747  \n98               99.577827  ",
            "text/html": "<div>\n<style scoped>\n    .dataframe tbody tr th:only-of-type {\n        vertical-align: middle;\n    }\n\n    .dataframe tbody tr th {\n        vertical-align: top;\n    }\n\n    .dataframe thead th {\n        text-align: right;\n    }\n</style>\n<table border=\"1\" class=\"dataframe\">\n  <thead>\n    <tr style=\"text-align: right;\">\n      <th></th>\n      <th>MONTH</th>\n      <th>YEAR</th>\n      <th>zip</th>\n      <th>TOTALCUSTO_raw</th>\n      <th>TOTALKWH_raw</th>\n      <th>AVERAGEKWH_raw</th>\n      <th>TOTALTHERM_raw</th>\n      <th>AVERAGETHERM_raw</th>\n      <th>GHI_raw</th>\n      <th>DHI_raw</th>\n      <th>DNI_raw</th>\n      <th>Wind Speed</th>\n      <th>Temperature_raw</th>\n      <th>Solar_Zenith_Angle_raw</th>\n    </tr>\n  </thead>\n  <tbody>\n    <tr>\n      <th>94</th>\n      <td>1</td>\n      <td>2013</td>\n      <td>94564</td>\n      <td>6727</td>\n      <td>3787580</td>\n      <td>563</td>\n      <td>0</td>\n      <td>0</td>\n      <td>116.13037634408602</td>\n      <td>29.18010752688172</td>\n      <td>222.91935483870967</td>\n      <td>2.123252688172044</td>\n      <td>7.276882</td>\n      <td>105.581747</td>\n    </tr>\n    <tr>\n      <th>95</th>\n      <td>2</td>\n      <td>2013</td>\n      <td>94564</td>\n      <td>6725</td>\n      <td>3086143</td>\n      <td>459</td>\n      <td>0</td>\n      <td>0</td>\n      <td>162.37946428571428</td>\n      <td>38.666666666666664</td>\n      <td>262.79017857142856</td>\n      <td>2.1078869047619047</td>\n      <td>9.022321</td>\n      <td>99.577827</td>\n    </tr>\n    <tr>\n      <th>96</th>\n      <td>3</td>\n      <td>2013</td>\n      <td>94564</td>\n      <td>6715</td>\n      <td>3091798</td>\n      <td>460</td>\n      <td>0</td>\n      <td>0</td>\n      <td>190.54569892473117</td>\n      <td>70.01209677419355</td>\n      <td>211.2741935483871</td>\n      <td>2.017607526881722</td>\n      <td>11.189516</td>\n      <td>91.109973</td>\n    </tr>\n    <tr>\n      <th>97</th>\n      <td>1</td>\n      <td>2013</td>\n      <td>94564</td>\n      <td>6166</td>\n      <td>0</td>\n      <td>0</td>\n      <td>562494</td>\n      <td>91</td>\n      <td>116.13037634408602</td>\n      <td>29.18010752688172</td>\n      <td>222.91935483870967</td>\n      <td>2.123252688172044</td>\n      <td>7.276882</td>\n      <td>105.581747</td>\n    </tr>\n    <tr>\n      <th>98</th>\n      <td>2</td>\n      <td>2013</td>\n      <td>94564</td>\n      <td>6172</td>\n      <td>0</td>\n      <td>0</td>\n      <td>388246</td>\n      <td>63</td>\n      <td>162.37946428571428</td>\n      <td>38.666666666666664</td>\n      <td>262.79017857142856</td>\n      <td>2.1078869047619047</td>\n      <td>9.022321</td>\n      <td>99.577827</td>\n    </tr>\n  </tbody>\n</table>\n</div>"
          },
          "metadata": {}
        }
      ]
    },
    {
      "cell_type": "code",
      "metadata": {
        "tags": [],
        "deepnote_to_be_reexecuted": false,
        "source_hash": "bd158485",
        "execution_millis": 3,
        "cell_id": "00017-87742cd9-609f-4f42-ba98-72f5cbfce55e",
        "execution_start": 1619131355793,
        "deepnote_cell_type": "code"
      },
      "source": "measurment_cols = [\"MONTH\",'TOTALCUSTO_raw', 'TOTALKWH_raw', 'AVERAGEKWH_raw', 'TOTALTHERM_raw',\n       'AVERAGETHERM_raw', 'GHI_raw', 'DHI_raw', 'DNI_raw', 'Wind Speed',\n       'Temperature_raw', 'Solar_Zenith_Angle_raw', 'TOTALCUS_std',\n       'TOTALKWH_std', 'AVERAGEKWH_std', 'TOTALTHERM_std', 'AVERAGETHERM_std',\n       'GHI_std', 'DHI_std', 'DNI_std', 'Wind_Speed_std', 'Temperature_std',\n       'Solar_Zenith_Angle_std']",
      "execution_count": 13,
      "outputs": []
    },
    {
      "cell_type": "code",
      "metadata": {
        "deepnote_to_be_reexecuted": false,
        "source_hash": "46a8c5e",
        "execution_millis": 1189,
        "cell_id": "00018-e37bdc32-4109-445a-b80f-4262c4d2c5e0",
        "execution_start": 1618694620100,
        "deepnote_cell_type": "code"
      },
      "source": "corr_vis(bay_area_monthly_pge_nrel, measurment_cols, meas='AVERAGETHERM_std')",
      "execution_count": null,
      "outputs": [
        {
          "output_type": "execute_result",
          "execution_count": 13,
          "data": {
            "application/vnd.deepnote.dataframe.v2+json": {
              "row_count": 23,
              "column_count": 2,
              "columns": [
                {
                  "name": "feature",
                  "dtype": "object",
                  "stats": {
                    "unique_count": 23,
                    "nan_count": 0,
                    "categories": [
                      {
                        "name": "AVERAGEKWH_std",
                        "count": 1
                      },
                      {
                        "name": "AVERAGEKWH_raw",
                        "count": 1
                      },
                      {
                        "name": "21 others",
                        "count": 21
                      }
                    ]
                  }
                },
                {
                  "name": "spearman",
                  "dtype": "float64",
                  "stats": {
                    "unique_count": 18,
                    "nan_count": 0,
                    "min": "-0.7738148146040801",
                    "max": "1.0",
                    "histogram": [
                      {
                        "bin_start": -0.7738148146040801,
                        "bin_end": -0.5964333331436721,
                        "count": 4
                      },
                      {
                        "bin_start": -0.5964333331436721,
                        "bin_end": -0.4190518516832641,
                        "count": 0
                      },
                      {
                        "bin_start": -0.4190518516832641,
                        "bin_end": -0.2416703702228561,
                        "count": 0
                      },
                      {
                        "bin_start": -0.2416703702228561,
                        "bin_end": -0.0642888887624481,
                        "count": 10
                      },
                      {
                        "bin_start": -0.0642888887624481,
                        "bin_end": 0.1130925926979599,
                        "count": 3
                      },
                      {
                        "bin_start": 0.1130925926979599,
                        "bin_end": 0.2904740741583679,
                        "count": 2
                      },
                      {
                        "bin_start": 0.2904740741583679,
                        "bin_end": 0.4678555556187759,
                        "count": 0
                      },
                      {
                        "bin_start": 0.4678555556187759,
                        "bin_end": 0.6452370370791839,
                        "count": 0
                      },
                      {
                        "bin_start": 0.6452370370791839,
                        "bin_end": 0.8226185185395919,
                        "count": 0
                      },
                      {
                        "bin_start": 0.8226185185395919,
                        "bin_end": 1,
                        "count": 4
                      }
                    ]
                  }
                },
                {
                  "name": "_deepnote_index_column",
                  "dtype": "int64"
                }
              ],
              "rows_top": [
                {
                  "feature": "AVERAGEKWH_std",
                  "spearman": -0.7738148146040801,
                  "_deepnote_index_column": 14
                },
                {
                  "feature": "AVERAGEKWH_raw",
                  "spearman": -0.7738148146040801,
                  "_deepnote_index_column": 3
                },
                {
                  "feature": "TOTALKWH_raw",
                  "spearman": -0.7738145932849931,
                  "_deepnote_index_column": 2
                },
                {
                  "feature": "TOTALKWH_std",
                  "spearman": -0.7738145932849931,
                  "_deepnote_index_column": 13
                },
                {
                  "feature": "Temperature_raw",
                  "spearman": -0.18640983062038385,
                  "_deepnote_index_column": 10
                },
                {
                  "feature": "Temperature_std",
                  "spearman": -0.18640981795104547,
                  "_deepnote_index_column": 21
                },
                {
                  "feature": "GHI_std",
                  "spearman": -0.1714515181197754,
                  "_deepnote_index_column": 17
                },
                {
                  "feature": "DNI_std",
                  "spearman": -0.16495781421215802,
                  "_deepnote_index_column": 19
                },
                {
                  "feature": "DNI_raw",
                  "spearman": -0.16234508199214773,
                  "_deepnote_index_column": 8
                },
                {
                  "feature": "DHI_std",
                  "spearman": -0.12862461941749462,
                  "_deepnote_index_column": 18
                },
                {
                  "feature": "DHI_raw",
                  "spearman": -0.12649394017840945,
                  "_deepnote_index_column": 7
                },
                {
                  "feature": "Wind Speed",
                  "spearman": -0.09314959514790608,
                  "_deepnote_index_column": 9
                },
                {
                  "feature": "Wind_Speed_std",
                  "spearman": -0.09314951569687603,
                  "_deepnote_index_column": 20
                },
                {
                  "feature": "GHI_raw",
                  "spearman": -0.07411725145169921,
                  "_deepnote_index_column": 6
                },
                {
                  "feature": "MONTH",
                  "spearman": -0.04200501529433235,
                  "_deepnote_index_column": 0
                },
                {
                  "feature": "TOTALCUS_std",
                  "spearman": 0.059369127401168925,
                  "_deepnote_index_column": 12
                },
                {
                  "feature": "TOTALCUSTO_raw",
                  "spearman": 0.059369127401168925,
                  "_deepnote_index_column": 1
                },
                {
                  "feature": "Solar_Zenith_Angle_std",
                  "spearman": 0.17017962686342772,
                  "_deepnote_index_column": 22
                },
                {
                  "feature": "Solar_Zenith_Angle_raw",
                  "spearman": 0.1701796477008221,
                  "_deepnote_index_column": 11
                },
                {
                  "feature": "TOTALTHERM_std",
                  "spearman": 0.9384897317321567,
                  "_deepnote_index_column": 15
                },
                {
                  "feature": "TOTALTHERM_raw",
                  "spearman": 0.9384897317321567,
                  "_deepnote_index_column": 4
                },
                {
                  "feature": "AVERAGETHERM_raw",
                  "spearman": 1,
                  "_deepnote_index_column": 5
                },
                {
                  "feature": "AVERAGETHERM_std",
                  "spearman": 1,
                  "_deepnote_index_column": 16
                }
              ],
              "rows_bottom": null
            },
            "text/plain": "                   feature  spearman\n14          AVERAGEKWH_std -0.773815\n3           AVERAGEKWH_raw -0.773815\n2             TOTALKWH_raw -0.773815\n13            TOTALKWH_std -0.773815\n10         Temperature_raw -0.186410\n21         Temperature_std -0.186410\n17                 GHI_std -0.171452\n19                 DNI_std -0.164958\n8                  DNI_raw -0.162345\n18                 DHI_std -0.128625\n7                  DHI_raw -0.126494\n9               Wind Speed -0.093150\n20          Wind_Speed_std -0.093150\n6                  GHI_raw -0.074117\n0                    MONTH -0.042005\n12            TOTALCUS_std  0.059369\n1           TOTALCUSTO_raw  0.059369\n22  Solar_Zenith_Angle_std  0.170180\n11  Solar_Zenith_Angle_raw  0.170180\n15          TOTALTHERM_std  0.938490\n4           TOTALTHERM_raw  0.938490\n5         AVERAGETHERM_raw  1.000000\n16        AVERAGETHERM_std  1.000000",
            "text/html": "<div>\n<style scoped>\n    .dataframe tbody tr th:only-of-type {\n        vertical-align: middle;\n    }\n\n    .dataframe tbody tr th {\n        vertical-align: top;\n    }\n\n    .dataframe thead th {\n        text-align: right;\n    }\n</style>\n<table border=\"1\" class=\"dataframe\">\n  <thead>\n    <tr style=\"text-align: right;\">\n      <th></th>\n      <th>feature</th>\n      <th>spearman</th>\n    </tr>\n  </thead>\n  <tbody>\n    <tr>\n      <th>14</th>\n      <td>AVERAGEKWH_std</td>\n      <td>-0.773815</td>\n    </tr>\n    <tr>\n      <th>3</th>\n      <td>AVERAGEKWH_raw</td>\n      <td>-0.773815</td>\n    </tr>\n    <tr>\n      <th>2</th>\n      <td>TOTALKWH_raw</td>\n      <td>-0.773815</td>\n    </tr>\n    <tr>\n      <th>13</th>\n      <td>TOTALKWH_std</td>\n      <td>-0.773815</td>\n    </tr>\n    <tr>\n      <th>10</th>\n      <td>Temperature_raw</td>\n      <td>-0.186410</td>\n    </tr>\n    <tr>\n      <th>21</th>\n      <td>Temperature_std</td>\n      <td>-0.186410</td>\n    </tr>\n    <tr>\n      <th>17</th>\n      <td>GHI_std</td>\n      <td>-0.171452</td>\n    </tr>\n    <tr>\n      <th>19</th>\n      <td>DNI_std</td>\n      <td>-0.164958</td>\n    </tr>\n    <tr>\n      <th>8</th>\n      <td>DNI_raw</td>\n      <td>-0.162345</td>\n    </tr>\n    <tr>\n      <th>18</th>\n      <td>DHI_std</td>\n      <td>-0.128625</td>\n    </tr>\n    <tr>\n      <th>7</th>\n      <td>DHI_raw</td>\n      <td>-0.126494</td>\n    </tr>\n    <tr>\n      <th>9</th>\n      <td>Wind Speed</td>\n      <td>-0.093150</td>\n    </tr>\n    <tr>\n      <th>20</th>\n      <td>Wind_Speed_std</td>\n      <td>-0.093150</td>\n    </tr>\n    <tr>\n      <th>6</th>\n      <td>GHI_raw</td>\n      <td>-0.074117</td>\n    </tr>\n    <tr>\n      <th>0</th>\n      <td>MONTH</td>\n      <td>-0.042005</td>\n    </tr>\n    <tr>\n      <th>12</th>\n      <td>TOTALCUS_std</td>\n      <td>0.059369</td>\n    </tr>\n    <tr>\n      <th>1</th>\n      <td>TOTALCUSTO_raw</td>\n      <td>0.059369</td>\n    </tr>\n    <tr>\n      <th>22</th>\n      <td>Solar_Zenith_Angle_std</td>\n      <td>0.170180</td>\n    </tr>\n    <tr>\n      <th>11</th>\n      <td>Solar_Zenith_Angle_raw</td>\n      <td>0.170180</td>\n    </tr>\n    <tr>\n      <th>15</th>\n      <td>TOTALTHERM_std</td>\n      <td>0.938490</td>\n    </tr>\n    <tr>\n      <th>4</th>\n      <td>TOTALTHERM_raw</td>\n      <td>0.938490</td>\n    </tr>\n    <tr>\n      <th>5</th>\n      <td>AVERAGETHERM_raw</td>\n      <td>1.000000</td>\n    </tr>\n    <tr>\n      <th>16</th>\n      <td>AVERAGETHERM_std</td>\n      <td>1.000000</td>\n    </tr>\n  </tbody>\n</table>\n</div>"
          },
          "metadata": {}
        },
        {
          "data": {
            "text/plain": "<Figure size 432x414 with 1 Axes>",
            "image/png": "[encoded data removed]"
          },
          "metadata": {
            "needs_background": "light"
          },
          "output_type": "display_data"
        }
      ]
    },
    {
      "cell_type": "code",
      "metadata": {
        "tags": [],
        "deepnote_to_be_reexecuted": false,
        "source_hash": "e399bf40",
        "execution_millis": 701,
        "cell_id": "00019-fead3d38-4320-43c1-bf96-e40e477d5979",
        "execution_start": 1619131818233,
        "deepnote_cell_type": "code"
      },
      "source": "X_cols = ['MONTH','YEAR', 'zip', 'GHI_raw', 'DHI_raw', 'DNI_raw', 'Wind Speed', 'Temperature_raw', 'Solar_Zenith_Angle_raw' ]\nbay_area_monthly_elec_pge_nrel = bay_area_monthly_pge_nrel[bay_area_monthly_pge_nrel['TOTALTHERM_raw']==0].drop_duplicates()\n\n## \n\nbay_area_monthly_elec_pge_nrel_clean = bay_area_monthly_elec_pge_nrel[bay_area_monthly_elec_pge_nrel['TOTALKWH_std'] < 10]\nelec_X_train = bay_area_monthly_elec_pge_nrel_clean[X_cols]\n\n## targetted_y can be changed to predict other values,\ntargetted_y = 'AVERAGEKWH_raw'\nelec_Y_train = bay_area_monthly_elec_pge_nrel_clean[targetted_y]\n",
      "execution_count": 43,
      "outputs": []
    },
    {
      "cell_type": "code",
      "metadata": {
        "tags": [],
        "cell_id": "00020-9466679e-783c-43cc-aab1-35374a427c1f",
        "deepnote_to_be_reexecuted": false,
        "source_hash": "4d313479",
        "execution_millis": 13,
        "execution_start": 1619132123893,
        "deepnote_cell_type": "code"
      },
      "source": "pd.DataFrame({\"counts\": bay_area_monthly_elec_pge_nrel_clean['zip'].value_counts()}).value_counts()",
      "execution_count": 54,
      "outputs": [
        {
          "output_type": "execute_result",
          "execution_count": 54,
          "data": {
            "text/plain": "counts\n94        220\n84         21\n85         19\n93         12\n88          6\n87          5\n92          5\n168         4\n165         4\n86          3\n16          2\n178         2\n91          1\n96          1\n112         1\n144         1\n90          1\n89          1\n169         1\n170         1\n172         1\n177         1\ndtype: int64"
          },
          "metadata": {}
        }
      ]
    },
    {
      "cell_type": "code",
      "source": "bay_area_monthly_elec_pge_nrel_clean.shape",
      "metadata": {
        "tags": [],
        "cell_id": "00021-4b400ae4-4845-4506-bf29-8841199a8a0d",
        "deepnote_to_be_reexecuted": false,
        "source_hash": "d3241703",
        "execution_millis": 14,
        "execution_start": 1619131819442,
        "deepnote_cell_type": "code"
      },
      "outputs": [
        {
          "output_type": "execute_result",
          "execution_count": 45,
          "data": {
            "text/plain": "(29886, 36)"
          },
          "metadata": {}
        }
      ],
      "execution_count": 45
    },
    {
      "cell_type": "code",
      "metadata": {
        "tags": [],
        "cell_id": "00021-6ccabfea-1769-4525-8c6b-339a43f267ee",
        "deepnote_to_be_reexecuted": false,
        "source_hash": "d37039bd",
        "execution_millis": 9,
        "execution_start": 1619131819932,
        "deepnote_cell_type": "code"
      },
      "source": "elec_Y_train.shape\n",
      "execution_count": 46,
      "outputs": [
        {
          "output_type": "execute_result",
          "execution_count": 46,
          "data": {
            "text/plain": "(29886,)"
          },
          "metadata": {}
        }
      ]
    },
    {
      "cell_type": "code",
      "source": "elec_Y_train",
      "metadata": {
        "tags": [],
        "cell_id": "00022-fd24f830-513c-433d-a460-a103c1d92066",
        "deepnote_to_be_reexecuted": false,
        "source_hash": "931caf90",
        "execution_millis": 9,
        "execution_start": 1619131820405,
        "deepnote_cell_type": "code"
      },
      "outputs": [
        {
          "output_type": "execute_result",
          "execution_count": 47,
          "data": {
            "text/plain": "94        563\n95        459\n96        460\n100       421\n101       426\n         ... \n136675      0\n136676      0\n136680      0\n136681      0\n136682      0\nName: AVERAGEKWH_raw, Length: 29886, dtype: int64"
          },
          "metadata": {}
        }
      ],
      "execution_count": 47
    },
    {
      "cell_type": "code",
      "metadata": {
        "tags": [],
        "cell_id": "00023-435d1997-0435-4e9e-a010-210eb143cd8e",
        "deepnote_to_be_reexecuted": false,
        "source_hash": "e0cc6683",
        "execution_millis": 0,
        "execution_start": 1618696964283,
        "is_code_hidden": false,
        "deepnote_cell_type": "code"
      },
      "source": "k12 = ({'AVERAGEKWH_raw_k_12' : bay_area_monthly_elec_pge_nrel_clean['AVERAGEKWH_raw'][:30654]})\nk12 = pd.DataFrame(data = k12, index =None)\nk12 = k12.reset_index()\n\nk11 = ({'AVERAGEKWH_raw_k_11' : bay_area_monthly_elec_pge_nrel_clean['AVERAGEKWH_raw'][1:30655]})\nk11 = pd.DataFrame(data =k11, index=None)\nk11 = k11.reset_index()\n\n\nk10= ({ 'AVERAGEKWH_raw_k_10' : bay_area_monthly_elec_pge_nrel_clean['AVERAGEKWH_raw'][2:30656]})\nk10 = pd.DataFrame(data = k10, index =None)\nk10 = k10.reset_index()\n\nk9= ({ 'AVERAGEKWH_raw_k_9' : bay_area_monthly_elec_pge_nrel_clean['AVERAGEKWH_raw'][3:30657]})\nk9 = pd.DataFrame(data = k9, index =None)\nk9 = k9.reset_index()\n\nk8 = ({'AVERAGEKWH_raw_k_8' : bay_area_monthly_elec_pge_nrel_clean['AVERAGEKWH_raw'][4:30658]})\nk8 = pd.DataFrame(data = k8, index =None)\nk8 = k8.reset_index()\n\nk7 = ({'AVERAGEKWH_raw_k_7' : bay_area_monthly_elec_pge_nrel_clean['AVERAGEKWH_raw'][5:30659]})\nk7 = pd.DataFrame(data = k7, index =None)\nk7 = k7.reset_index()\n\nk6 = ({'AVERAGEKWH_raw_k_6' : bay_area_monthly_elec_pge_nrel_clean['AVERAGEKWH_raw'][6:30660] })\nk6 = pd.DataFrame(data = k6, index =None)\nk6 = k6.reset_index()\n\nk5 = ({'AVERAGEKWH_raw_k_5' : bay_area_monthly_elec_pge_nrel_clean['AVERAGEKWH_raw'][7:30661]})\nk5 = pd.DataFrame(data = k5, index =None)\nk5 = k5.reset_index()\n\nk4 = ({'AVERAGEKWH_raw_k_4' : bay_area_monthly_elec_pge_nrel_clean['AVERAGEKWH_raw'][8:30662] })\nk4 = pd.DataFrame(data = k4, index =None)\nk4 = k4.reset_index()\n\nk3 = ({'AVERAGEKWH_raw_k_3' : bay_area_monthly_elec_pge_nrel_clean['AVERAGEKWH_raw'][9:30663] })\nk3 = pd.DataFrame(data = k3, index =None)\nk3 = k3.reset_index()\n\nk2 = ({'AVERAGEKWH_raw_k_2' : bay_area_monthly_elec_pge_nrel_clean['AVERAGEKWH_raw'][10:30664] })\nk2 = pd.DataFrame(data = k2, index =None)\nk2 = k2.reset_index()\n\nk1 = ({'AVERAGEKWH_raw_k_1' : bay_area_monthly_elec_pge_nrel_clean['AVERAGEKWH_raw'][11:30665]})\nk1 = pd.DataFrame(data = k1, index =None)\nk1 = k1.reset_index()\n\nelec_Y_train_2 = elec_Y_train[12:]\n",
      "execution_count": null,
      "outputs": []
    },
    {
      "cell_type": "code",
      "source": "bay_area_monthly_elec_pge_nrel_clean.head()",
      "metadata": {
        "tags": [],
        "cell_id": "00023-926460ff-9965-463c-859c-3a5f945b792b",
        "deepnote_to_be_reexecuted": false,
        "source_hash": "a65ead9b",
        "execution_start": 1619131311838,
        "execution_millis": 280,
        "deepnote_cell_type": "code"
      },
      "outputs": [
        {
          "output_type": "error",
          "ename": "NameError",
          "evalue": "name 'bay_area_monthly_elec_pge_nrel_clean' is not defined",
          "traceback": [
            "\u001b[0;31m---------------------------------------------------------------------------\u001b[0m",
            "\u001b[0;31mNameError\u001b[0m                                 Traceback (most recent call last)",
            "\u001b[0;32m<ipython-input-1-5207dc7e79d7>\u001b[0m in \u001b[0;36m<module>\u001b[0;34m\u001b[0m\n\u001b[0;32m----> 1\u001b[0;31m \u001b[0mbay_area_monthly_elec_pge_nrel_clean\u001b[0m\u001b[0;34m.\u001b[0m\u001b[0mhead\u001b[0m\u001b[0;34m(\u001b[0m\u001b[0;34m)\u001b[0m\u001b[0;34m\u001b[0m\u001b[0;34m\u001b[0m\u001b[0m\n\u001b[0m",
            "\u001b[0;31mNameError\u001b[0m: name 'bay_area_monthly_elec_pge_nrel_clean' is not defined"
          ]
        }
      ],
      "execution_count": 1
    },
    {
      "cell_type": "code",
      "metadata": {
        "tags": [],
        "cell_id": "00024-2bf3741f-2923-4c3c-8d4d-dee7df3d62fc",
        "deepnote_to_be_reexecuted": false,
        "source_hash": "7b4f0558",
        "execution_millis": 4,
        "execution_start": 1618696967053,
        "is_code_hidden": false,
        "deepnote_cell_type": "code"
      },
      "source": "k12['AVERAGEKWH_raw_k_11'] = k11['AVERAGEKWH_raw_k_11']\nk12['AVERAGEKWH_raw_k_10'] = k10['AVERAGEKWH_raw_k_10']\nk12['AVERAGEKWH_raw_k_9'] = k9['AVERAGEKWH_raw_k_9']\nk12['AVERAGEKWH_raw_k_8'] = k8['AVERAGEKWH_raw_k_8']\nk12['AVERAGEKWH_raw_k_7'] = k7['AVERAGEKWH_raw_k_7']\nk12['AVERAGEKWH_raw_k_6'] = k6['AVERAGEKWH_raw_k_6']\nk12['AVERAGEKWH_raw_k_5'] = k5['AVERAGEKWH_raw_k_5']\nk12['AVERAGEKWH_raw_k_4'] = k4['AVERAGEKWH_raw_k_4']\nk12['AVERAGEKWH_raw_k_3'] = k3['AVERAGEKWH_raw_k_3']\nk12['AVERAGEKWH_raw_k_2'] = k2['AVERAGEKWH_raw_k_2']\nk12['AVERAGEKWH_raw_k_1'] = k1['AVERAGEKWH_raw_k_1']\n",
      "execution_count": null,
      "outputs": []
    },
    {
      "cell_type": "code",
      "metadata": {
        "tags": [],
        "cell_id": "00024-e34a1d2c-83db-4b10-9936-e9be74060d9e",
        "deepnote_to_be_reexecuted": false,
        "source_hash": "481a226e",
        "execution_millis": 21,
        "execution_start": 1618696969311,
        "is_code_hidden": false,
        "output_cleared": true,
        "deepnote_cell_type": "code"
      },
      "source": "k12.head()",
      "execution_count": null,
      "outputs": []
    },
    {
      "cell_type": "code",
      "metadata": {
        "tags": [],
        "cell_id": "00025-24330a02-c9a4-45f3-b573-b6389764a592",
        "deepnote_to_be_reexecuted": false,
        "source_hash": "d82bf5b8",
        "execution_millis": 2,
        "execution_start": 1618697360476,
        "deepnote_cell_type": "code"
      },
      "source": "elec_X_train_2=elec_X_train[12:]",
      "execution_count": null,
      "outputs": []
    },
    {
      "cell_type": "code",
      "metadata": {
        "tags": [],
        "cell_id": "00026-c8eabb58-e666-4096-b16e-00200d116300",
        "deepnote_to_be_reexecuted": false,
        "source_hash": "52619459",
        "execution_millis": 15,
        "execution_start": 1618697362010,
        "deepnote_cell_type": "code"
      },
      "source": "elec_X_train_2[30600:]",
      "execution_count": null,
      "outputs": [
        {
          "output_type": "execute_result",
          "execution_count": 170,
          "data": {
            "application/vnd.deepnote.dataframe.v2+json": {
              "row_count": 54,
              "column_count": 9,
              "columns": [
                {
                  "name": "MONTH",
                  "dtype": "int64",
                  "stats": {
                    "unique_count": 12,
                    "nan_count": 0,
                    "min": "1",
                    "max": "12",
                    "histogram": [
                      {
                        "bin_start": 1,
                        "bin_end": 2.1,
                        "count": 8
                      },
                      {
                        "bin_start": 2.1,
                        "bin_end": 3.2,
                        "count": 4
                      },
                      {
                        "bin_start": 3.2,
                        "bin_end": 4.300000000000001,
                        "count": 4
                      },
                      {
                        "bin_start": 4.300000000000001,
                        "bin_end": 5.4,
                        "count": 4
                      },
                      {
                        "bin_start": 5.4,
                        "bin_end": 6.5,
                        "count": 4
                      },
                      {
                        "bin_start": 6.5,
                        "bin_end": 7.6000000000000005,
                        "count": 4
                      },
                      {
                        "bin_start": 7.6000000000000005,
                        "bin_end": 8.700000000000001,
                        "count": 5
                      },
                      {
                        "bin_start": 8.700000000000001,
                        "bin_end": 9.8,
                        "count": 6
                      },
                      {
                        "bin_start": 9.8,
                        "bin_end": 10.9,
                        "count": 5
                      },
                      {
                        "bin_start": 10.9,
                        "bin_end": 12,
                        "count": 10
                      }
                    ]
                  }
                },
                {
                  "name": "YEAR",
                  "dtype": "int64",
                  "stats": {
                    "unique_count": 5,
                    "nan_count": 0,
                    "min": "2015",
                    "max": "2019",
                    "histogram": [
                      {
                        "bin_start": 2015,
                        "bin_end": 2015.4,
                        "count": 5
                      },
                      {
                        "bin_start": 2015.4,
                        "bin_end": 2015.8,
                        "count": 0
                      },
                      {
                        "bin_start": 2015.8,
                        "bin_end": 2016.2,
                        "count": 12
                      },
                      {
                        "bin_start": 2016.2,
                        "bin_end": 2016.6,
                        "count": 0
                      },
                      {
                        "bin_start": 2016.6,
                        "bin_end": 2017,
                        "count": 0
                      },
                      {
                        "bin_start": 2017,
                        "bin_end": 2017.4,
                        "count": 13
                      },
                      {
                        "bin_start": 2017.4,
                        "bin_end": 2017.8,
                        "count": 0
                      },
                      {
                        "bin_start": 2017.8,
                        "bin_end": 2018.2,
                        "count": 12
                      },
                      {
                        "bin_start": 2018.2,
                        "bin_end": 2018.6,
                        "count": 0
                      },
                      {
                        "bin_start": 2018.6,
                        "bin_end": 2019,
                        "count": 12
                      }
                    ]
                  }
                },
                {
                  "name": "zip",
                  "dtype": "int64",
                  "stats": {
                    "unique_count": 1,
                    "nan_count": 0,
                    "min": "95391",
                    "max": "95391",
                    "histogram": [
                      {
                        "bin_start": 95390.5,
                        "bin_end": 95390.6,
                        "count": 0
                      },
                      {
                        "bin_start": 95390.6,
                        "bin_end": 95390.7,
                        "count": 0
                      },
                      {
                        "bin_start": 95390.7,
                        "bin_end": 95390.8,
                        "count": 0
                      },
                      {
                        "bin_start": 95390.8,
                        "bin_end": 95390.9,
                        "count": 0
                      },
                      {
                        "bin_start": 95390.9,
                        "bin_end": 95391,
                        "count": 0
                      },
                      {
                        "bin_start": 95391,
                        "bin_end": 95391.1,
                        "count": 54
                      },
                      {
                        "bin_start": 95391.1,
                        "bin_end": 95391.2,
                        "count": 0
                      },
                      {
                        "bin_start": 95391.2,
                        "bin_end": 95391.3,
                        "count": 0
                      },
                      {
                        "bin_start": 95391.3,
                        "bin_end": 95391.4,
                        "count": 0
                      },
                      {
                        "bin_start": 95391.4,
                        "bin_end": 95391.5,
                        "count": 0
                      }
                    ]
                  }
                },
                {
                  "name": "GHI_raw",
                  "dtype": "object",
                  "stats": {
                    "unique_count": 53,
                    "nan_count": 0,
                    "categories": [
                      {
                        "name": "230.23611111111111",
                        "count": 2
                      },
                      {
                        "name": "300.76747311827955",
                        "count": 1
                      },
                      {
                        "name": "51 others",
                        "count": 51
                      }
                    ]
                  }
                },
                {
                  "name": "DHI_raw",
                  "dtype": "object",
                  "stats": {
                    "unique_count": 53,
                    "nan_count": 0,
                    "categories": [
                      {
                        "name": "72.03888888888889",
                        "count": 2
                      },
                      {
                        "name": "62.73521505376344",
                        "count": 1
                      },
                      {
                        "name": "51 others",
                        "count": 51
                      }
                    ]
                  }
                },
                {
                  "name": "DNI_raw",
                  "dtype": "object",
                  "stats": {
                    "unique_count": 53,
                    "nan_count": 0,
                    "categories": [
                      {
                        "name": "269.1041666666667",
                        "count": 2
                      },
                      {
                        "name": "359.9516129032258",
                        "count": 1
                      },
                      {
                        "name": "51 others",
                        "count": 51
                      }
                    ]
                  }
                },
                {
                  "name": "Wind Speed",
                  "dtype": "object",
                  "stats": {
                    "unique_count": 53,
                    "nan_count": 0,
                    "categories": [
                      {
                        "name": "2.102916666666666",
                        "count": 2
                      },
                      {
                        "name": "2.6944892473118287",
                        "count": 1
                      },
                      {
                        "name": "51 others",
                        "count": 51
                      }
                    ]
                  }
                },
                {
                  "name": "Temperature_raw",
                  "dtype": "float64",
                  "stats": {
                    "unique_count": 53,
                    "nan_count": 0,
                    "min": "7.454301075268817",
                    "max": "24.48158602150537",
                    "histogram": [
                      {
                        "bin_start": 7.454301075268817,
                        "bin_end": 9.157029569892472,
                        "count": 5
                      },
                      {
                        "bin_start": 9.157029569892472,
                        "bin_end": 10.859758064516129,
                        "count": 7
                      },
                      {
                        "bin_start": 10.859758064516129,
                        "bin_end": 12.562486559139785,
                        "count": 6
                      },
                      {
                        "bin_start": 12.562486559139785,
                        "bin_end": 14.26521505376344,
                        "count": 5
                      },
                      {
                        "bin_start": 14.26521505376344,
                        "bin_end": 15.967943548387094,
                        "count": 4
                      },
                      {
                        "bin_start": 15.967943548387094,
                        "bin_end": 17.67067204301075,
                        "count": 4
                      },
                      {
                        "bin_start": 17.67067204301075,
                        "bin_end": 19.373400537634407,
                        "count": 3
                      },
                      {
                        "bin_start": 19.373400537634407,
                        "bin_end": 21.076129032258063,
                        "count": 5
                      },
                      {
                        "bin_start": 21.076129032258063,
                        "bin_end": 22.77885752688172,
                        "count": 9
                      },
                      {
                        "bin_start": 22.77885752688172,
                        "bin_end": 24.48158602150537,
                        "count": 6
                      }
                    ]
                  }
                },
                {
                  "name": "Solar_Zenith_Angle_raw",
                  "dtype": "float64",
                  "stats": {
                    "unique_count": 53,
                    "nan_count": 0,
                    "min": "72.55220833333327",
                    "max": "107.3556586021506",
                    "histogram": [
                      {
                        "bin_start": 72.55220833333327,
                        "bin_end": 76.032553360215,
                        "count": 12
                      },
                      {
                        "bin_start": 76.032553360215,
                        "bin_end": 79.51289838709674,
                        "count": 0
                      },
                      {
                        "bin_start": 79.51289838709674,
                        "bin_end": 82.99324341397846,
                        "count": 9
                      },
                      {
                        "bin_start": 82.99324341397846,
                        "bin_end": 86.4735884408602,
                        "count": 0
                      },
                      {
                        "bin_start": 86.4735884408602,
                        "bin_end": 89.95393346774193,
                        "count": 6
                      },
                      {
                        "bin_start": 89.95393346774193,
                        "bin_end": 93.43427849462367,
                        "count": 4
                      },
                      {
                        "bin_start": 93.43427849462367,
                        "bin_end": 96.9146235215054,
                        "count": 3
                      },
                      {
                        "bin_start": 96.9146235215054,
                        "bin_end": 100.39496854838714,
                        "count": 6
                      },
                      {
                        "bin_start": 100.39496854838714,
                        "bin_end": 103.87531357526886,
                        "count": 0
                      },
                      {
                        "bin_start": 103.87531357526886,
                        "bin_end": 107.3556586021506,
                        "count": 14
                      }
                    ]
                  }
                },
                {
                  "name": "_deepnote_index_column",
                  "dtype": "int64"
                }
              ],
              "rows_top": [
                {
                  "MONTH": 8,
                  "YEAR": 2015,
                  "zip": 95391,
                  "GHI_raw": "300.76747311827955",
                  "DHI_raw": "62.73521505376344",
                  "DNI_raw": "359.9516129032258",
                  "Wind Speed": "2.6944892473118287",
                  "Temperature_raw": 22.975806451612904,
                  "Solar_Zenith_Angle_raw": 79.67716397849453,
                  "_deepnote_index_column": 136577
                },
                {
                  "MONTH": 9,
                  "YEAR": 2015,
                  "zip": 95391,
                  "GHI_raw": "235.67361111111111",
                  "DHI_raw": "58.016666666666666",
                  "DNI_raw": "294.96944444444443",
                  "Wind Speed": "2.1337500000000014",
                  "Temperature_raw": 22.102777777777774,
                  "Solar_Zenith_Angle_raw": 87.93713888888888,
                  "_deepnote_index_column": 136578
                },
                {
                  "MONTH": 10,
                  "YEAR": 2015,
                  "zip": 95391,
                  "GHI_raw": "180.46908602150538",
                  "DHI_raw": "42.29704301075269",
                  "DNI_raw": "270.60483870967744",
                  "Wind Speed": "1.5983870967741944",
                  "Temperature_raw": 19.80779569892473,
                  "Solar_Zenith_Angle_raw": 96.84055107526864,
                  "_deepnote_index_column": 136582
                },
                {
                  "MONTH": 11,
                  "YEAR": 2015,
                  "zip": 95391,
                  "GHI_raw": "125.43055555555556",
                  "DHI_raw": "32.859722222222224",
                  "DNI_raw": "230.17916666666667",
                  "Wind Speed": "1.6159722222222233",
                  "Temperature_raw": 10.547222222222222,
                  "Solar_Zenith_Angle_raw": 104.0318194444445,
                  "_deepnote_index_column": 136583
                },
                {
                  "MONTH": 12,
                  "YEAR": 2015,
                  "zip": 95391,
                  "GHI_raw": "92.125",
                  "DHI_raw": "33.54704301075269",
                  "DNI_raw": "159.76478494623655",
                  "Wind Speed": "1.7221774193548374",
                  "Temperature_raw": 8.080645161290322,
                  "Solar_Zenith_Angle_raw": 107.3337500000001,
                  "_deepnote_index_column": 136584
                },
                {
                  "MONTH": 1,
                  "YEAR": 2016,
                  "zip": 95391,
                  "GHI_raw": "86.52688172043011",
                  "DHI_raw": "42.475806451612904",
                  "DNI_raw": "113.95833333333333",
                  "Wind Speed": "1.8721774193548388",
                  "Temperature_raw": 9.625,
                  "Solar_Zenith_Angle_raw": 105.63036290322584,
                  "_deepnote_index_column": 136588
                },
                {
                  "MONTH": 2,
                  "YEAR": 2016,
                  "zip": 95391,
                  "GHI_raw": "164.20089285714286",
                  "DHI_raw": "42.96577380952381",
                  "DNI_raw": "259.71875",
                  "Wind Speed": "1.5441964285714314",
                  "Temperature_raw": 11.706845238095235,
                  "Solar_Zenith_Angle_raw": 99.7342113095238,
                  "_deepnote_index_column": 136589
                },
                {
                  "MONTH": 3,
                  "YEAR": 2016,
                  "zip": 95391,
                  "GHI_raw": "193.2715053763441",
                  "DHI_raw": "60.93682795698925",
                  "DNI_raw": "227.78091397849462",
                  "Wind Speed": "2.0505376344086006",
                  "Temperature_raw": 12.227150537634408,
                  "Solar_Zenith_Angle_raw": 91.0240591397848,
                  "_deepnote_index_column": 136590
                },
                {
                  "MONTH": 4,
                  "YEAR": 2016,
                  "zip": 95391,
                  "GHI_raw": "264.99444444444447",
                  "DHI_raw": "73.34305555555555",
                  "DNI_raw": "297.1694444444444",
                  "Wind Speed": "2.1158333333333337",
                  "Temperature_raw": 14.519444444444444,
                  "Solar_Zenith_Angle_raw": 82.16837500000007,
                  "_deepnote_index_column": 136594
                },
                {
                  "MONTH": 5,
                  "YEAR": 2016,
                  "zip": 95391,
                  "GHI_raw": "304.41129032258067",
                  "DHI_raw": "74.22983870967742",
                  "DNI_raw": "336.39381720430106",
                  "Wind Speed": "2.411962365591398",
                  "Temperature_raw": 16.958333333333332,
                  "Solar_Zenith_Angle_raw": 75.47252688172041,
                  "_deepnote_index_column": 136595
                },
                {
                  "MONTH": 6,
                  "YEAR": 2016,
                  "zip": 95391,
                  "GHI_raw": "353.2875",
                  "DHI_raw": "63.918055555555554",
                  "DNI_raw": "421.0236111111111",
                  "Wind Speed": "2.848194444444443",
                  "Temperature_raw": 21.02777777777778,
                  "Solar_Zenith_Angle_raw": 72.56355555555558,
                  "_deepnote_index_column": 136596
                },
                {
                  "MONTH": 7,
                  "YEAR": 2016,
                  "zip": 95391,
                  "GHI_raw": "353.1962365591398",
                  "DHI_raw": "51.979838709677416",
                  "DNI_raw": "444.3454301075269",
                  "Wind Speed": "3.042607526881721",
                  "Temperature_raw": 22.47983870967742,
                  "Solar_Zenith_Angle_raw": 74.13388440860221,
                  "_deepnote_index_column": 136600
                },
                {
                  "MONTH": 8,
                  "YEAR": 2016,
                  "zip": 95391,
                  "GHI_raw": "311.5860215053763",
                  "DHI_raw": "59.02150537634409",
                  "DNI_raw": "383.73924731182797",
                  "Wind Speed": "2.783198924731182",
                  "Temperature_raw": 21.626344086021504,
                  "Solar_Zenith_Angle_raw": 79.85725806451619,
                  "_deepnote_index_column": 136601
                },
                {
                  "MONTH": 9,
                  "YEAR": 2016,
                  "zip": 95391,
                  "GHI_raw": "250.94305555555556",
                  "DHI_raw": "54.38055555555555",
                  "DNI_raw": "335.81666666666666",
                  "Wind Speed": "2.278472222222222",
                  "Temperature_raw": 20.904166666666665,
                  "Solar_Zenith_Angle_raw": 88.16029166666667,
                  "_deepnote_index_column": 136602
                },
                {
                  "MONTH": 10,
                  "YEAR": 2016,
                  "zip": 95391,
                  "GHI_raw": "157.68279569892474",
                  "DHI_raw": "46.721774193548384",
                  "DNI_raw": "223.92876344086022",
                  "Wind Speed": "1.9084677419354859",
                  "Temperature_raw": 16.962365591397848,
                  "Solar_Zenith_Angle_raw": 97.0496102150538,
                  "_deepnote_index_column": 136606
                },
                {
                  "MONTH": 11,
                  "YEAR": 2016,
                  "zip": 95391,
                  "GHI_raw": "123.56111111111112",
                  "DHI_raw": "36.025",
                  "DNI_raw": "214.2236111111111",
                  "Wind Speed": "1.311944444444444",
                  "Temperature_raw": 12.930555555555555,
                  "Solar_Zenith_Angle_raw": 104.16829166666663,
                  "_deepnote_index_column": 136607
                },
                {
                  "MONTH": 12,
                  "YEAR": 2016,
                  "zip": 95391,
                  "GHI_raw": "96.52150537634408",
                  "DHI_raw": "30.143817204301076",
                  "DNI_raw": "183.39112903225808",
                  "Wind Speed": "1.7381720430107523",
                  "Temperature_raw": 7.565860215053763,
                  "Solar_Zenith_Angle_raw": 107.3556586021506,
                  "_deepnote_index_column": 136608
                },
                {
                  "MONTH": 1,
                  "YEAR": 2017,
                  "zip": 95391,
                  "GHI_raw": "91.47311827956989",
                  "DHI_raw": "34.77284946236559",
                  "DNI_raw": "142.99193548387098",
                  "Wind Speed": "2.272043010752687",
                  "Temperature_raw": 7.454301075268817,
                  "Solar_Zenith_Angle_raw": 105.52552419354834,
                  "_deepnote_index_column": 136612
                },
                {
                  "MONTH": 2,
                  "YEAR": 2017,
                  "zip": 95391,
                  "GHI_raw": "119.29761904761905",
                  "DHI_raw": "45.705357142857146",
                  "DNI_raw": "152.33928571428572",
                  "Wind Speed": "2.3635416666666687",
                  "Temperature_raw": 10.333333333333334,
                  "Solar_Zenith_Angle_raw": 99.5399702380952,
                  "_deepnote_index_column": 136613
                },
                {
                  "MONTH": 3,
                  "YEAR": 2017,
                  "zip": 95391,
                  "GHI_raw": "203.7540322580645",
                  "DHI_raw": "62.259408602150536",
                  "DNI_raw": "253.54032258064515",
                  "Wind Speed": "1.8357526881720427",
                  "Temperature_raw": 12.12231182795699,
                  "Solar_Zenith_Angle_raw": 91.09725806451608,
                  "_deepnote_index_column": 136614
                },
                {
                  "MONTH": 4,
                  "YEAR": 2017,
                  "zip": 95391,
                  "GHI_raw": "244.43194444444444",
                  "DHI_raw": "79.1875",
                  "DNI_raw": "256.8125",
                  "Wind Speed": "2.086666666666668",
                  "Temperature_raw": 13.093055555555557,
                  "Solar_Zenith_Angle_raw": 82.23277777777774,
                  "_deepnote_index_column": 136618
                },
                {
                  "MONTH": 5,
                  "YEAR": 2017,
                  "zip": 95391,
                  "GHI_raw": "323.39650537634407",
                  "DHI_raw": "75.68817204301075",
                  "DNI_raw": "364.77150537634407",
                  "Wind Speed": "2.4538978494623667",
                  "Temperature_raw": 16.47983870967742,
                  "Solar_Zenith_Angle_raw": 75.51249999999992,
                  "_deepnote_index_column": 136619
                },
                {
                  "MONTH": 6,
                  "YEAR": 2017,
                  "zip": 95391,
                  "GHI_raw": "341.8888888888889",
                  "DHI_raw": "71.13055555555556",
                  "DNI_raw": "392.3236111111111",
                  "Wind Speed": "2.907916666666664",
                  "Temperature_raw": 20.322222222222223,
                  "Solar_Zenith_Angle_raw": 72.56922222222225,
                  "_deepnote_index_column": 136620
                },
                {
                  "MONTH": 7,
                  "YEAR": 2017,
                  "zip": 95391,
                  "GHI_raw": "348.76478494623655",
                  "DHI_raw": "56.2244623655914",
                  "DNI_raw": "432.9005376344086",
                  "Wind Speed": "2.971639784946238",
                  "Temperature_raw": 23.43951612903226,
                  "Solar_Zenith_Angle_raw": 74.10430107526878,
                  "_deepnote_index_column": 136624
                },
                {
                  "MONTH": 8,
                  "YEAR": 2017,
                  "zip": 95391,
                  "GHI_raw": "292.0994623655914",
                  "DHI_raw": "69.59677419354838",
                  "DNI_raw": "335.2809139784946",
                  "Wind Speed": "2.758467741935484",
                  "Temperature_raw": 23.51881720430108,
                  "Solar_Zenith_Angle_raw": 79.80008064516133,
                  "_deepnote_index_column": 136625
                },
                {
                  "MONTH": 9,
                  "YEAR": 2017,
                  "zip": 95391,
                  "GHI_raw": "230.23611111111111",
                  "DHI_raw": "72.03888888888889",
                  "DNI_raw": "269.1041666666667",
                  "Wind Speed": "2.102916666666666",
                  "Temperature_raw": 22.64444444444445,
                  "Solar_Zenith_Angle_raw": 88.08902777777763,
                  "_deepnote_index_column": 136626
                },
                {
                  "MONTH": 9,
                  "YEAR": 2017,
                  "zip": 95391,
                  "GHI_raw": "230.23611111111111",
                  "DHI_raw": "72.03888888888889",
                  "DNI_raw": "269.1041666666667",
                  "Wind Speed": "2.102916666666666",
                  "Temperature_raw": 22.64444444444445,
                  "Solar_Zenith_Angle_raw": 88.08902777777763,
                  "_deepnote_index_column": 136630
                },
                {
                  "MONTH": 10,
                  "YEAR": 2017,
                  "zip": 95391,
                  "GHI_raw": "187.88844086021504",
                  "DHI_raw": "46.016129032258064",
                  "DNI_raw": "280.7795698924731",
                  "Wind Speed": "1.7405913978494623",
                  "Temperature_raw": 18.061827956989248,
                  "Solar_Zenith_Angle_raw": 96.9830913978496,
                  "_deepnote_index_column": 136631
                },
                {
                  "MONTH": 11,
                  "YEAR": 2017,
                  "zip": 95391,
                  "GHI_raw": "103.18888888888888",
                  "DHI_raw": "38.34027777777778",
                  "DNI_raw": "160.2875",
                  "Wind Speed": "1.3313888888888885",
                  "Temperature_raw": 13.188888888888888,
                  "Solar_Zenith_Angle_raw": 104.12486111111106,
                  "_deepnote_index_column": 136632
                },
                {
                  "MONTH": 12,
                  "YEAR": 2017,
                  "zip": 95391,
                  "GHI_raw": "109.9489247311828",
                  "DHI_raw": "30.392473118279568",
                  "DNI_raw": "220.79569892473117",
                  "Wind Speed": "1.2521505376344093",
                  "Temperature_raw": 8.71505376344086,
                  "Solar_Zenith_Angle_raw": 107.34801075268828,
                  "_deepnote_index_column": 136633
                },
                {
                  "MONTH": 1,
                  "YEAR": 2018,
                  "zip": 95391,
                  "GHI_raw": "78.24731182795699",
                  "DHI_raw": "36.60752688172043",
                  "DNI_raw": "104.23655913978494",
                  "Wind Speed": "1.421102150537634",
                  "Temperature_raw": 11.026881720430111,
                  "Solar_Zenith_Angle_raw": 105.53245967741938,
                  "_deepnote_index_column": 136638
                },
                {
                  "MONTH": 2,
                  "YEAR": 2018,
                  "zip": 95391,
                  "GHI_raw": "169.82589285714286",
                  "DHI_raw": "39.32142857142857",
                  "DNI_raw": "279.13690476190476",
                  "Wind Speed": "1.9380952380952412",
                  "Temperature_raw": 10.541369047619044,
                  "Solar_Zenith_Angle_raw": 99.57683035714292,
                  "_deepnote_index_column": 136639
                },
                {
                  "MONTH": 3,
                  "YEAR": 2018,
                  "zip": 95391,
                  "GHI_raw": "179.1034946236559",
                  "DHI_raw": "62.244623655913976",
                  "DNI_raw": "206.1008064516129",
                  "Wind Speed": "1.9114247311827934",
                  "Temperature_raw": 11.8018817204301,
                  "Solar_Zenith_Angle_raw": 91.15202956989243,
                  "_deepnote_index_column": 136640
                },
                {
                  "MONTH": 4,
                  "YEAR": 2018,
                  "zip": 95391,
                  "GHI_raw": "257.11805555555554",
                  "DHI_raw": "71.71111111111111",
                  "DNI_raw": "288.2597222222222",
                  "Wind Speed": "2.282499999999999",
                  "Temperature_raw": 14.219722222222224,
                  "Solar_Zenith_Angle_raw": 82.27109722222218,
                  "_deepnote_index_column": 136644
                },
                {
                  "MONTH": 5,
                  "YEAR": 2018,
                  "zip": 95391,
                  "GHI_raw": "320.66129032258067",
                  "DHI_raw": "72.8991935483871",
                  "DNI_raw": "360.14516129032256",
                  "Wind Speed": "2.984811827956987",
                  "Temperature_raw": 16.944892473118284,
                  "Solar_Zenith_Angle_raw": 75.53840053763433,
                  "_deepnote_index_column": 136645
                },
                {
                  "MONTH": 6,
                  "YEAR": 2018,
                  "zip": 95391,
                  "GHI_raw": "361.3041666666667",
                  "DHI_raw": "59.43055555555556",
                  "DNI_raw": "438.1763888888889",
                  "Wind Speed": "3.284166666666667",
                  "Temperature_raw": 21.101944444444456,
                  "Solar_Zenith_Angle_raw": 72.55220833333327,
                  "_deepnote_index_column": 136646
                },
                {
                  "MONTH": 7,
                  "YEAR": 2018,
                  "zip": 95391,
                  "GHI_raw": "337.78225806451616",
                  "DHI_raw": "67.21236559139786",
                  "DNI_raw": "393.7244623655914",
                  "Wind Speed": "3.353629032258063",
                  "Temperature_raw": 24.48158602150537,
                  "Solar_Zenith_Angle_raw": 74.05393817204298,
                  "_deepnote_index_column": 136650
                },
                {
                  "MONTH": 8,
                  "YEAR": 2018,
                  "zip": 95391,
                  "GHI_raw": "305.4516129032258",
                  "DHI_raw": "73.85215053763442",
                  "DNI_raw": "349.6317204301075",
                  "Wind Speed": "2.9022849462365605",
                  "Temperature_raw": 22.480241935483885,
                  "Solar_Zenith_Angle_raw": 79.71661290322577,
                  "_deepnote_index_column": 136651
                },
                {
                  "MONTH": 9,
                  "YEAR": 2018,
                  "zip": 95391,
                  "GHI_raw": "257.7375",
                  "DHI_raw": "48.87083333333333",
                  "DNI_raw": "349.71944444444443",
                  "Wind Speed": "2.495277777777778",
                  "Temperature_raw": 21.041944444444464,
                  "Solar_Zenith_Angle_raw": 88.00199999999994,
                  "_deepnote_index_column": 136652
                },
                {
                  "MONTH": 10,
                  "YEAR": 2018,
                  "zip": 95391,
                  "GHI_raw": "187.92741935483872",
                  "DHI_raw": "40.935483870967744",
                  "DNI_raw": "292.80645161290323",
                  "Wind Speed": "1.8658602150537653",
                  "Temperature_raw": 18.553225806451614,
                  "Solar_Zenith_Angle_raw": 96.88702956989236,
                  "_deepnote_index_column": 136656
                },
                {
                  "MONTH": 11,
                  "YEAR": 2018,
                  "zip": 95391,
                  "GHI_raw": "117.70416666666667",
                  "DHI_raw": "40.477777777777774",
                  "DNI_raw": "182.67638888888888",
                  "Wind Speed": "1.642638888888887",
                  "Temperature_raw": 14.28611111111112,
                  "Solar_Zenith_Angle_raw": 104.06037499999998,
                  "_deepnote_index_column": 136657
                },
                {
                  "MONTH": 12,
                  "YEAR": 2018,
                  "zip": 95391,
                  "GHI_raw": "85.90591397849462",
                  "DHI_raw": "29.541666666666668",
                  "DNI_raw": "157.23790322580646",
                  "Wind Speed": "1.640860215053763",
                  "Temperature_raw": 9.677016129032255,
                  "Solar_Zenith_Angle_raw": 107.31055107526872,
                  "_deepnote_index_column": 136658
                },
                {
                  "MONTH": 1,
                  "YEAR": 2019,
                  "zip": 95391,
                  "GHI_raw": "92.96774193548387",
                  "DHI_raw": "37.54838709677419",
                  "DNI_raw": "139.2997311827957",
                  "Wind Speed": "1.9508064516129056",
                  "Temperature_raw": 10.818279569892477,
                  "Solar_Zenith_Angle_raw": 105.56650537634404,
                  "_deepnote_index_column": 136662
                },
                {
                  "MONTH": 2,
                  "YEAR": 2019,
                  "zip": 95391,
                  "GHI_raw": "118.57738095238095",
                  "DHI_raw": "46.892857142857146",
                  "DNI_raw": "149.94196428571428",
                  "Wind Speed": "2.713690476190475",
                  "Temperature_raw": 8.246577380952383,
                  "Solar_Zenith_Angle_raw": 99.63794642857135,
                  "_deepnote_index_column": 136663
                },
                {
                  "MONTH": 3,
                  "YEAR": 2019,
                  "zip": 95391,
                  "GHI_raw": "182.49193548387098",
                  "DHI_raw": "65.125",
                  "DNI_raw": "207.8938172043011",
                  "Wind Speed": "1.8556451612903193",
                  "Temperature_raw": 11.700134408602144,
                  "Solar_Zenith_Angle_raw": 91.22321236559137,
                  "_deepnote_index_column": 136664
                },
                {
                  "MONTH": 4,
                  "YEAR": 2019,
                  "zip": 95391,
                  "GHI_raw": "255.10694444444445",
                  "DHI_raw": "74.85833333333333",
                  "DNI_raw": "276.1458333333333",
                  "Wind Speed": "2.1697222222222172",
                  "Temperature_raw": 15.39291666666666,
                  "Solar_Zenith_Angle_raw": 82.3350694444444,
                  "_deepnote_index_column": 136668
                },
                {
                  "MONTH": 5,
                  "YEAR": 2019,
                  "zip": 95391,
                  "GHI_raw": "294.4287634408602",
                  "DHI_raw": "81.01881720430107",
                  "DNI_raw": "310.5873655913978",
                  "Wind Speed": "2.7075268817204297",
                  "Temperature_raw": 15.561827956989235,
                  "Solar_Zenith_Angle_raw": 75.57739247311832,
                  "_deepnote_index_column": 136669
                },
                {
                  "MONTH": 6,
                  "YEAR": 2019,
                  "zip": 95391,
                  "GHI_raw": "351.4138888888889",
                  "DHI_raw": "66.28333333333333",
                  "DNI_raw": "410.4472222222222",
                  "Wind Speed": "2.948472222222225",
                  "Temperature_raw": 21.398194444444464,
                  "Solar_Zenith_Angle_raw": 72.55747222222216,
                  "_deepnote_index_column": 136670
                },
                {
                  "MONTH": 7,
                  "YEAR": 2019,
                  "zip": 95391,
                  "GHI_raw": "348.127688172043",
                  "DHI_raw": "56.70967741935484",
                  "DNI_raw": "427.5833333333333",
                  "Wind Speed": "3.2940860215053798",
                  "Temperature_raw": 22.80174731182798,
                  "Solar_Zenith_Angle_raw": 74.02392473118273,
                  "_deepnote_index_column": 136674
                },
                {
                  "MONTH": 8,
                  "YEAR": 2019,
                  "zip": 95391,
                  "GHI_raw": "312.28225806451616",
                  "DHI_raw": "54.63172043010753",
                  "DNI_raw": "389.9220430107527",
                  "Wind Speed": "3.0030913978494644",
                  "Temperature_raw": 24.378091397849467,
                  "Solar_Zenith_Angle_raw": 79.6596370967742,
                  "_deepnote_index_column": 136675
                },
                {
                  "MONTH": 9,
                  "YEAR": 2019,
                  "zip": 95391,
                  "GHI_raw": "250.71805555555557",
                  "DHI_raw": "49.37916666666667",
                  "DNI_raw": "342.4819444444444",
                  "Wind Speed": "2.5294444444444415",
                  "Temperature_raw": 22.09833333333334,
                  "Solar_Zenith_Angle_raw": 87.9304861111112,
                  "_deepnote_index_column": 136676
                },
                {
                  "MONTH": 10,
                  "YEAR": 2019,
                  "zip": 95391,
                  "GHI_raw": "199.41397849462365",
                  "DHI_raw": "39.899193548387096",
                  "DNI_raw": "314.4139784946237",
                  "Wind Speed": "1.9706989247311848",
                  "Temperature_raw": 18.00577956989247,
                  "Solar_Zenith_Angle_raw": 96.81885752688176,
                  "_deepnote_index_column": 136680
                },
                {
                  "MONTH": 11,
                  "YEAR": 2019,
                  "zip": 95391,
                  "GHI_raw": "128.82222222222222",
                  "DHI_raw": "34.46666666666667",
                  "DNI_raw": "226.15277777777777",
                  "Wind Speed": "1.5990277777777768",
                  "Temperature_raw": 13.94263888888888,
                  "Solar_Zenith_Angle_raw": 104.0162222222222,
                  "_deepnote_index_column": 136681
                },
                {
                  "MONTH": 12,
                  "YEAR": 2019,
                  "zip": 95391,
                  "GHI_raw": "75.23655913978494",
                  "DHI_raw": "32.969086021505376",
                  "DNI_raw": "116.34005376344086",
                  "Wind Speed": "1.9862903225806463",
                  "Temperature_raw": 10.240860215053766,
                  "Solar_Zenith_Angle_raw": 107.30434139784956,
                  "_deepnote_index_column": 136682
                }
              ],
              "rows_bottom": null
            },
            "text/plain": "        MONTH  YEAR    zip             GHI_raw             DHI_raw  \\\n136577      8  2015  95391  300.76747311827955   62.73521505376344   \n136578      9  2015  95391  235.67361111111111  58.016666666666666   \n136582     10  2015  95391  180.46908602150538   42.29704301075269   \n136583     11  2015  95391  125.43055555555556  32.859722222222224   \n136584     12  2015  95391              92.125   33.54704301075269   \n136588      1  2016  95391   86.52688172043011  42.475806451612904   \n136589      2  2016  95391  164.20089285714286   42.96577380952381   \n136590      3  2016  95391   193.2715053763441   60.93682795698925   \n136594      4  2016  95391  264.99444444444447   73.34305555555555   \n136595      5  2016  95391  304.41129032258067   74.22983870967742   \n136596      6  2016  95391            353.2875  63.918055555555554   \n136600      7  2016  95391   353.1962365591398  51.979838709677416   \n136601      8  2016  95391   311.5860215053763   59.02150537634409   \n136602      9  2016  95391  250.94305555555556   54.38055555555555   \n136606     10  2016  95391  157.68279569892474  46.721774193548384   \n136607     11  2016  95391  123.56111111111112              36.025   \n136608     12  2016  95391   96.52150537634408  30.143817204301076   \n136612      1  2017  95391   91.47311827956989   34.77284946236559   \n136613      2  2017  95391  119.29761904761905  45.705357142857146   \n136614      3  2017  95391   203.7540322580645  62.259408602150536   \n136618      4  2017  95391  244.43194444444444             79.1875   \n136619      5  2017  95391  323.39650537634407   75.68817204301075   \n136620      6  2017  95391   341.8888888888889   71.13055555555556   \n136624      7  2017  95391  348.76478494623655    56.2244623655914   \n136625      8  2017  95391   292.0994623655914   69.59677419354838   \n136626      9  2017  95391  230.23611111111111   72.03888888888889   \n136630      9  2017  95391  230.23611111111111   72.03888888888889   \n136631     10  2017  95391  187.88844086021504  46.016129032258064   \n136632     11  2017  95391  103.18888888888888   38.34027777777778   \n136633     12  2017  95391   109.9489247311828  30.392473118279568   \n136638      1  2018  95391   78.24731182795699   36.60752688172043   \n136639      2  2018  95391  169.82589285714286   39.32142857142857   \n136640      3  2018  95391   179.1034946236559  62.244623655913976   \n136644      4  2018  95391  257.11805555555554   71.71111111111111   \n136645      5  2018  95391  320.66129032258067    72.8991935483871   \n136646      6  2018  95391   361.3041666666667   59.43055555555556   \n136650      7  2018  95391  337.78225806451616   67.21236559139786   \n136651      8  2018  95391   305.4516129032258   73.85215053763442   \n136652      9  2018  95391            257.7375   48.87083333333333   \n136656     10  2018  95391  187.92741935483872  40.935483870967744   \n136657     11  2018  95391  117.70416666666667  40.477777777777774   \n136658     12  2018  95391   85.90591397849462  29.541666666666668   \n136662      1  2019  95391   92.96774193548387   37.54838709677419   \n136663      2  2019  95391  118.57738095238095  46.892857142857146   \n136664      3  2019  95391  182.49193548387098              65.125   \n136668      4  2019  95391  255.10694444444445   74.85833333333333   \n136669      5  2019  95391   294.4287634408602   81.01881720430107   \n136670      6  2019  95391   351.4138888888889   66.28333333333333   \n136674      7  2019  95391    348.127688172043   56.70967741935484   \n136675      8  2019  95391  312.28225806451616   54.63172043010753   \n136676      9  2019  95391  250.71805555555557   49.37916666666667   \n136680     10  2019  95391  199.41397849462365  39.899193548387096   \n136681     11  2019  95391  128.82222222222222   34.46666666666667   \n136682     12  2019  95391   75.23655913978494  32.969086021505376   \n\n                   DNI_raw          Wind Speed  Temperature_raw  \\\n136577   359.9516129032258  2.6944892473118287        22.975806   \n136578  294.96944444444443  2.1337500000000014        22.102778   \n136582  270.60483870967744  1.5983870967741944        19.807796   \n136583  230.17916666666667  1.6159722222222233        10.547222   \n136584  159.76478494623655  1.7221774193548374         8.080645   \n136588  113.95833333333333  1.8721774193548388         9.625000   \n136589           259.71875  1.5441964285714314        11.706845   \n136590  227.78091397849462  2.0505376344086006        12.227151   \n136594   297.1694444444444  2.1158333333333337        14.519444   \n136595  336.39381720430106   2.411962365591398        16.958333   \n136596   421.0236111111111   2.848194444444443        21.027778   \n136600   444.3454301075269   3.042607526881721        22.479839   \n136601  383.73924731182797   2.783198924731182        21.626344   \n136602  335.81666666666666   2.278472222222222        20.904167   \n136606  223.92876344086022  1.9084677419354859        16.962366   \n136607   214.2236111111111   1.311944444444444        12.930556   \n136608  183.39112903225808  1.7381720430107523         7.565860   \n136612  142.99193548387098   2.272043010752687         7.454301   \n136613  152.33928571428572  2.3635416666666687        10.333333   \n136614  253.54032258064515  1.8357526881720427        12.122312   \n136618            256.8125   2.086666666666668        13.093056   \n136619  364.77150537634407  2.4538978494623667        16.479839   \n136620   392.3236111111111   2.907916666666664        20.322222   \n136624   432.9005376344086   2.971639784946238        23.439516   \n136625   335.2809139784946   2.758467741935484        23.518817   \n136626   269.1041666666667   2.102916666666666        22.644444   \n136630   269.1041666666667   2.102916666666666        22.644444   \n136631   280.7795698924731  1.7405913978494623        18.061828   \n136632            160.2875  1.3313888888888885        13.188889   \n136633  220.79569892473117  1.2521505376344093         8.715054   \n136638  104.23655913978494   1.421102150537634        11.026882   \n136639  279.13690476190476  1.9380952380952412        10.541369   \n136640   206.1008064516129  1.9114247311827934        11.801882   \n136644   288.2597222222222   2.282499999999999        14.219722   \n136645  360.14516129032256   2.984811827956987        16.944892   \n136646   438.1763888888889   3.284166666666667        21.101944   \n136650   393.7244623655914   3.353629032258063        24.481586   \n136651   349.6317204301075  2.9022849462365605        22.480242   \n136652  349.71944444444443   2.495277777777778        21.041944   \n136656  292.80645161290323  1.8658602150537653        18.553226   \n136657  182.67638888888888   1.642638888888887        14.286111   \n136658  157.23790322580646   1.640860215053763         9.677016   \n136662   139.2997311827957  1.9508064516129056        10.818280   \n136663  149.94196428571428   2.713690476190475         8.246577   \n136664   207.8938172043011  1.8556451612903193        11.700134   \n136668   276.1458333333333  2.1697222222222172        15.392917   \n136669   310.5873655913978  2.7075268817204297        15.561828   \n136670   410.4472222222222   2.948472222222225        21.398194   \n136674   427.5833333333333  3.2940860215053798        22.801747   \n136675   389.9220430107527  3.0030913978494644        24.378091   \n136676   342.4819444444444  2.5294444444444415        22.098333   \n136680   314.4139784946237  1.9706989247311848        18.005780   \n136681  226.15277777777777  1.5990277777777768        13.942639   \n136682  116.34005376344086  1.9862903225806463        10.240860   \n\n        Solar_Zenith_Angle_raw  \n136577               79.677164  \n136578               87.937139  \n136582               96.840551  \n136583              104.031819  \n136584              107.333750  \n136588              105.630363  \n136589               99.734211  \n136590               91.024059  \n136594               82.168375  \n136595               75.472527  \n136596               72.563556  \n136600               74.133884  \n136601               79.857258  \n136602               88.160292  \n136606               97.049610  \n136607              104.168292  \n136608              107.355659  \n136612              105.525524  \n136613               99.539970  \n136614               91.097258  \n136618               82.232778  \n136619               75.512500  \n136620               72.569222  \n136624               74.104301  \n136625               79.800081  \n136626               88.089028  \n136630               88.089028  \n136631               96.983091  \n136632              104.124861  \n136633              107.348011  \n136638              105.532460  \n136639               99.576830  \n136640               91.152030  \n136644               82.271097  \n136645               75.538401  \n136646               72.552208  \n136650               74.053938  \n136651               79.716613  \n136652               88.002000  \n136656               96.887030  \n136657              104.060375  \n136658              107.310551  \n136662              105.566505  \n136663               99.637946  \n136664               91.223212  \n136668               82.335069  \n136669               75.577392  \n136670               72.557472  \n136674               74.023925  \n136675               79.659637  \n136676               87.930486  \n136680               96.818858  \n136681              104.016222  \n136682              107.304341  ",
            "text/html": "<div>\n<style scoped>\n    .dataframe tbody tr th:only-of-type {\n        vertical-align: middle;\n    }\n\n    .dataframe tbody tr th {\n        vertical-align: top;\n    }\n\n    .dataframe thead th {\n        text-align: right;\n    }\n</style>\n<table border=\"1\" class=\"dataframe\">\n  <thead>\n    <tr style=\"text-align: right;\">\n      <th></th>\n      <th>MONTH</th>\n      <th>YEAR</th>\n      <th>zip</th>\n      <th>GHI_raw</th>\n      <th>DHI_raw</th>\n      <th>DNI_raw</th>\n      <th>Wind Speed</th>\n      <th>Temperature_raw</th>\n      <th>Solar_Zenith_Angle_raw</th>\n    </tr>\n  </thead>\n  <tbody>\n    <tr>\n      <th>136577</th>\n      <td>8</td>\n      <td>2015</td>\n      <td>95391</td>\n      <td>300.76747311827955</td>\n      <td>62.73521505376344</td>\n      <td>359.9516129032258</td>\n      <td>2.6944892473118287</td>\n      <td>22.975806</td>\n      <td>79.677164</td>\n    </tr>\n    <tr>\n      <th>136578</th>\n      <td>9</td>\n      <td>2015</td>\n      <td>95391</td>\n      <td>235.67361111111111</td>\n      <td>58.016666666666666</td>\n      <td>294.96944444444443</td>\n      <td>2.1337500000000014</td>\n      <td>22.102778</td>\n      <td>87.937139</td>\n    </tr>\n    <tr>\n      <th>136582</th>\n      <td>10</td>\n      <td>2015</td>\n      <td>95391</td>\n      <td>180.46908602150538</td>\n      <td>42.29704301075269</td>\n      <td>270.60483870967744</td>\n      <td>1.5983870967741944</td>\n      <td>19.807796</td>\n      <td>96.840551</td>\n    </tr>\n    <tr>\n      <th>136583</th>\n      <td>11</td>\n      <td>2015</td>\n      <td>95391</td>\n      <td>125.43055555555556</td>\n      <td>32.859722222222224</td>\n      <td>230.17916666666667</td>\n      <td>1.6159722222222233</td>\n      <td>10.547222</td>\n      <td>104.031819</td>\n    </tr>\n    <tr>\n      <th>136584</th>\n      <td>12</td>\n      <td>2015</td>\n      <td>95391</td>\n      <td>92.125</td>\n      <td>33.54704301075269</td>\n      <td>159.76478494623655</td>\n      <td>1.7221774193548374</td>\n      <td>8.080645</td>\n      <td>107.333750</td>\n    </tr>\n    <tr>\n      <th>136588</th>\n      <td>1</td>\n      <td>2016</td>\n      <td>95391</td>\n      <td>86.52688172043011</td>\n      <td>42.475806451612904</td>\n      <td>113.95833333333333</td>\n      <td>1.8721774193548388</td>\n      <td>9.625000</td>\n      <td>105.630363</td>\n    </tr>\n    <tr>\n      <th>136589</th>\n      <td>2</td>\n      <td>2016</td>\n      <td>95391</td>\n      <td>164.20089285714286</td>\n      <td>42.96577380952381</td>\n      <td>259.71875</td>\n      <td>1.5441964285714314</td>\n      <td>11.706845</td>\n      <td>99.734211</td>\n    </tr>\n    <tr>\n      <th>136590</th>\n      <td>3</td>\n      <td>2016</td>\n      <td>95391</td>\n      <td>193.2715053763441</td>\n      <td>60.93682795698925</td>\n      <td>227.78091397849462</td>\n      <td>2.0505376344086006</td>\n      <td>12.227151</td>\n      <td>91.024059</td>\n    </tr>\n    <tr>\n      <th>136594</th>\n      <td>4</td>\n      <td>2016</td>\n      <td>95391</td>\n      <td>264.99444444444447</td>\n      <td>73.34305555555555</td>\n      <td>297.1694444444444</td>\n      <td>2.1158333333333337</td>\n      <td>14.519444</td>\n      <td>82.168375</td>\n    </tr>\n    <tr>\n      <th>136595</th>\n      <td>5</td>\n      <td>2016</td>\n      <td>95391</td>\n      <td>304.41129032258067</td>\n      <td>74.22983870967742</td>\n      <td>336.39381720430106</td>\n      <td>2.411962365591398</td>\n      <td>16.958333</td>\n      <td>75.472527</td>\n    </tr>\n    <tr>\n      <th>136596</th>\n      <td>6</td>\n      <td>2016</td>\n      <td>95391</td>\n      <td>353.2875</td>\n      <td>63.918055555555554</td>\n      <td>421.0236111111111</td>\n      <td>2.848194444444443</td>\n      <td>21.027778</td>\n      <td>72.563556</td>\n    </tr>\n    <tr>\n      <th>136600</th>\n      <td>7</td>\n      <td>2016</td>\n      <td>95391</td>\n      <td>353.1962365591398</td>\n      <td>51.979838709677416</td>\n      <td>444.3454301075269</td>\n      <td>3.042607526881721</td>\n      <td>22.479839</td>\n      <td>74.133884</td>\n    </tr>\n    <tr>\n      <th>136601</th>\n      <td>8</td>\n      <td>2016</td>\n      <td>95391</td>\n      <td>311.5860215053763</td>\n      <td>59.02150537634409</td>\n      <td>383.73924731182797</td>\n      <td>2.783198924731182</td>\n      <td>21.626344</td>\n      <td>79.857258</td>\n    </tr>\n    <tr>\n      <th>136602</th>\n      <td>9</td>\n      <td>2016</td>\n      <td>95391</td>\n      <td>250.94305555555556</td>\n      <td>54.38055555555555</td>\n      <td>335.81666666666666</td>\n      <td>2.278472222222222</td>\n      <td>20.904167</td>\n      <td>88.160292</td>\n    </tr>\n    <tr>\n      <th>136606</th>\n      <td>10</td>\n      <td>2016</td>\n      <td>95391</td>\n      <td>157.68279569892474</td>\n      <td>46.721774193548384</td>\n      <td>223.92876344086022</td>\n      <td>1.9084677419354859</td>\n      <td>16.962366</td>\n      <td>97.049610</td>\n    </tr>\n    <tr>\n      <th>136607</th>\n      <td>11</td>\n      <td>2016</td>\n      <td>95391</td>\n      <td>123.56111111111112</td>\n      <td>36.025</td>\n      <td>214.2236111111111</td>\n      <td>1.311944444444444</td>\n      <td>12.930556</td>\n      <td>104.168292</td>\n    </tr>\n    <tr>\n      <th>136608</th>\n      <td>12</td>\n      <td>2016</td>\n      <td>95391</td>\n      <td>96.52150537634408</td>\n      <td>30.143817204301076</td>\n      <td>183.39112903225808</td>\n      <td>1.7381720430107523</td>\n      <td>7.565860</td>\n      <td>107.355659</td>\n    </tr>\n    <tr>\n      <th>136612</th>\n      <td>1</td>\n      <td>2017</td>\n      <td>95391</td>\n      <td>91.47311827956989</td>\n      <td>34.77284946236559</td>\n      <td>142.99193548387098</td>\n      <td>2.272043010752687</td>\n      <td>7.454301</td>\n      <td>105.525524</td>\n    </tr>\n    <tr>\n      <th>136613</th>\n      <td>2</td>\n      <td>2017</td>\n      <td>95391</td>\n      <td>119.29761904761905</td>\n      <td>45.705357142857146</td>\n      <td>152.33928571428572</td>\n      <td>2.3635416666666687</td>\n      <td>10.333333</td>\n      <td>99.539970</td>\n    </tr>\n    <tr>\n      <th>136614</th>\n      <td>3</td>\n      <td>2017</td>\n      <td>95391</td>\n      <td>203.7540322580645</td>\n      <td>62.259408602150536</td>\n      <td>253.54032258064515</td>\n      <td>1.8357526881720427</td>\n      <td>12.122312</td>\n      <td>91.097258</td>\n    </tr>\n    <tr>\n      <th>136618</th>\n      <td>4</td>\n      <td>2017</td>\n      <td>95391</td>\n      <td>244.43194444444444</td>\n      <td>79.1875</td>\n      <td>256.8125</td>\n      <td>2.086666666666668</td>\n      <td>13.093056</td>\n      <td>82.232778</td>\n    </tr>\n    <tr>\n      <th>136619</th>\n      <td>5</td>\n      <td>2017</td>\n      <td>95391</td>\n      <td>323.39650537634407</td>\n      <td>75.68817204301075</td>\n      <td>364.77150537634407</td>\n      <td>2.4538978494623667</td>\n      <td>16.479839</td>\n      <td>75.512500</td>\n    </tr>\n    <tr>\n      <th>136620</th>\n      <td>6</td>\n      <td>2017</td>\n      <td>95391</td>\n      <td>341.8888888888889</td>\n      <td>71.13055555555556</td>\n      <td>392.3236111111111</td>\n      <td>2.907916666666664</td>\n      <td>20.322222</td>\n      <td>72.569222</td>\n    </tr>\n    <tr>\n      <th>136624</th>\n      <td>7</td>\n      <td>2017</td>\n      <td>95391</td>\n      <td>348.76478494623655</td>\n      <td>56.2244623655914</td>\n      <td>432.9005376344086</td>\n      <td>2.971639784946238</td>\n      <td>23.439516</td>\n      <td>74.104301</td>\n    </tr>\n    <tr>\n      <th>136625</th>\n      <td>8</td>\n      <td>2017</td>\n      <td>95391</td>\n      <td>292.0994623655914</td>\n      <td>69.59677419354838</td>\n      <td>335.2809139784946</td>\n      <td>2.758467741935484</td>\n      <td>23.518817</td>\n      <td>79.800081</td>\n    </tr>\n    <tr>\n      <th>136626</th>\n      <td>9</td>\n      <td>2017</td>\n      <td>95391</td>\n      <td>230.23611111111111</td>\n      <td>72.03888888888889</td>\n      <td>269.1041666666667</td>\n      <td>2.102916666666666</td>\n      <td>22.644444</td>\n      <td>88.089028</td>\n    </tr>\n    <tr>\n      <th>136630</th>\n      <td>9</td>\n      <td>2017</td>\n      <td>95391</td>\n      <td>230.23611111111111</td>\n      <td>72.03888888888889</td>\n      <td>269.1041666666667</td>\n      <td>2.102916666666666</td>\n      <td>22.644444</td>\n      <td>88.089028</td>\n    </tr>\n    <tr>\n      <th>136631</th>\n      <td>10</td>\n      <td>2017</td>\n      <td>95391</td>\n      <td>187.88844086021504</td>\n      <td>46.016129032258064</td>\n      <td>280.7795698924731</td>\n      <td>1.7405913978494623</td>\n      <td>18.061828</td>\n      <td>96.983091</td>\n    </tr>\n    <tr>\n      <th>136632</th>\n      <td>11</td>\n      <td>2017</td>\n      <td>95391</td>\n      <td>103.18888888888888</td>\n      <td>38.34027777777778</td>\n      <td>160.2875</td>\n      <td>1.3313888888888885</td>\n      <td>13.188889</td>\n      <td>104.124861</td>\n    </tr>\n    <tr>\n      <th>136633</th>\n      <td>12</td>\n      <td>2017</td>\n      <td>95391</td>\n      <td>109.9489247311828</td>\n      <td>30.392473118279568</td>\n      <td>220.79569892473117</td>\n      <td>1.2521505376344093</td>\n      <td>8.715054</td>\n      <td>107.348011</td>\n    </tr>\n    <tr>\n      <th>136638</th>\n      <td>1</td>\n      <td>2018</td>\n      <td>95391</td>\n      <td>78.24731182795699</td>\n      <td>36.60752688172043</td>\n      <td>104.23655913978494</td>\n      <td>1.421102150537634</td>\n      <td>11.026882</td>\n      <td>105.532460</td>\n    </tr>\n    <tr>\n      <th>136639</th>\n      <td>2</td>\n      <td>2018</td>\n      <td>95391</td>\n      <td>169.82589285714286</td>\n      <td>39.32142857142857</td>\n      <td>279.13690476190476</td>\n      <td>1.9380952380952412</td>\n      <td>10.541369</td>\n      <td>99.576830</td>\n    </tr>\n    <tr>\n      <th>136640</th>\n      <td>3</td>\n      <td>2018</td>\n      <td>95391</td>\n      <td>179.1034946236559</td>\n      <td>62.244623655913976</td>\n      <td>206.1008064516129</td>\n      <td>1.9114247311827934</td>\n      <td>11.801882</td>\n      <td>91.152030</td>\n    </tr>\n    <tr>\n      <th>136644</th>\n      <td>4</td>\n      <td>2018</td>\n      <td>95391</td>\n      <td>257.11805555555554</td>\n      <td>71.71111111111111</td>\n      <td>288.2597222222222</td>\n      <td>2.282499999999999</td>\n      <td>14.219722</td>\n      <td>82.271097</td>\n    </tr>\n    <tr>\n      <th>136645</th>\n      <td>5</td>\n      <td>2018</td>\n      <td>95391</td>\n      <td>320.66129032258067</td>\n      <td>72.8991935483871</td>\n      <td>360.14516129032256</td>\n      <td>2.984811827956987</td>\n      <td>16.944892</td>\n      <td>75.538401</td>\n    </tr>\n    <tr>\n      <th>136646</th>\n      <td>6</td>\n      <td>2018</td>\n      <td>95391</td>\n      <td>361.3041666666667</td>\n      <td>59.43055555555556</td>\n      <td>438.1763888888889</td>\n      <td>3.284166666666667</td>\n      <td>21.101944</td>\n      <td>72.552208</td>\n    </tr>\n    <tr>\n      <th>136650</th>\n      <td>7</td>\n      <td>2018</td>\n      <td>95391</td>\n      <td>337.78225806451616</td>\n      <td>67.21236559139786</td>\n      <td>393.7244623655914</td>\n      <td>3.353629032258063</td>\n      <td>24.481586</td>\n      <td>74.053938</td>\n    </tr>\n    <tr>\n      <th>136651</th>\n      <td>8</td>\n      <td>2018</td>\n      <td>95391</td>\n      <td>305.4516129032258</td>\n      <td>73.85215053763442</td>\n      <td>349.6317204301075</td>\n      <td>2.9022849462365605</td>\n      <td>22.480242</td>\n      <td>79.716613</td>\n    </tr>\n    <tr>\n      <th>136652</th>\n      <td>9</td>\n      <td>2018</td>\n      <td>95391</td>\n      <td>257.7375</td>\n      <td>48.87083333333333</td>\n      <td>349.71944444444443</td>\n      <td>2.495277777777778</td>\n      <td>21.041944</td>\n      <td>88.002000</td>\n    </tr>\n    <tr>\n      <th>136656</th>\n      <td>10</td>\n      <td>2018</td>\n      <td>95391</td>\n      <td>187.92741935483872</td>\n      <td>40.935483870967744</td>\n      <td>292.80645161290323</td>\n      <td>1.8658602150537653</td>\n      <td>18.553226</td>\n      <td>96.887030</td>\n    </tr>\n    <tr>\n      <th>136657</th>\n      <td>11</td>\n      <td>2018</td>\n      <td>95391</td>\n      <td>117.70416666666667</td>\n      <td>40.477777777777774</td>\n      <td>182.67638888888888</td>\n      <td>1.642638888888887</td>\n      <td>14.286111</td>\n      <td>104.060375</td>\n    </tr>\n    <tr>\n      <th>136658</th>\n      <td>12</td>\n      <td>2018</td>\n      <td>95391</td>\n      <td>85.90591397849462</td>\n      <td>29.541666666666668</td>\n      <td>157.23790322580646</td>\n      <td>1.640860215053763</td>\n      <td>9.677016</td>\n      <td>107.310551</td>\n    </tr>\n    <tr>\n      <th>136662</th>\n      <td>1</td>\n      <td>2019</td>\n      <td>95391</td>\n      <td>92.96774193548387</td>\n      <td>37.54838709677419</td>\n      <td>139.2997311827957</td>\n      <td>1.9508064516129056</td>\n      <td>10.818280</td>\n      <td>105.566505</td>\n    </tr>\n    <tr>\n      <th>136663</th>\n      <td>2</td>\n      <td>2019</td>\n      <td>95391</td>\n      <td>118.57738095238095</td>\n      <td>46.892857142857146</td>\n      <td>149.94196428571428</td>\n      <td>2.713690476190475</td>\n      <td>8.246577</td>\n      <td>99.637946</td>\n    </tr>\n    <tr>\n      <th>136664</th>\n      <td>3</td>\n      <td>2019</td>\n      <td>95391</td>\n      <td>182.49193548387098</td>\n      <td>65.125</td>\n      <td>207.8938172043011</td>\n      <td>1.8556451612903193</td>\n      <td>11.700134</td>\n      <td>91.223212</td>\n    </tr>\n    <tr>\n      <th>136668</th>\n      <td>4</td>\n      <td>2019</td>\n      <td>95391</td>\n      <td>255.10694444444445</td>\n      <td>74.85833333333333</td>\n      <td>276.1458333333333</td>\n      <td>2.1697222222222172</td>\n      <td>15.392917</td>\n      <td>82.335069</td>\n    </tr>\n    <tr>\n      <th>136669</th>\n      <td>5</td>\n      <td>2019</td>\n      <td>95391</td>\n      <td>294.4287634408602</td>\n      <td>81.01881720430107</td>\n      <td>310.5873655913978</td>\n      <td>2.7075268817204297</td>\n      <td>15.561828</td>\n      <td>75.577392</td>\n    </tr>\n    <tr>\n      <th>136670</th>\n      <td>6</td>\n      <td>2019</td>\n      <td>95391</td>\n      <td>351.4138888888889</td>\n      <td>66.28333333333333</td>\n      <td>410.4472222222222</td>\n      <td>2.948472222222225</td>\n      <td>21.398194</td>\n      <td>72.557472</td>\n    </tr>\n    <tr>\n      <th>136674</th>\n      <td>7</td>\n      <td>2019</td>\n      <td>95391</td>\n      <td>348.127688172043</td>\n      <td>56.70967741935484</td>\n      <td>427.5833333333333</td>\n      <td>3.2940860215053798</td>\n      <td>22.801747</td>\n      <td>74.023925</td>\n    </tr>\n    <tr>\n      <th>136675</th>\n      <td>8</td>\n      <td>2019</td>\n      <td>95391</td>\n      <td>312.28225806451616</td>\n      <td>54.63172043010753</td>\n      <td>389.9220430107527</td>\n      <td>3.0030913978494644</td>\n      <td>24.378091</td>\n      <td>79.659637</td>\n    </tr>\n    <tr>\n      <th>136676</th>\n      <td>9</td>\n      <td>2019</td>\n      <td>95391</td>\n      <td>250.71805555555557</td>\n      <td>49.37916666666667</td>\n      <td>342.4819444444444</td>\n      <td>2.5294444444444415</td>\n      <td>22.098333</td>\n      <td>87.930486</td>\n    </tr>\n    <tr>\n      <th>136680</th>\n      <td>10</td>\n      <td>2019</td>\n      <td>95391</td>\n      <td>199.41397849462365</td>\n      <td>39.899193548387096</td>\n      <td>314.4139784946237</td>\n      <td>1.9706989247311848</td>\n      <td>18.005780</td>\n      <td>96.818858</td>\n    </tr>\n    <tr>\n      <th>136681</th>\n      <td>11</td>\n      <td>2019</td>\n      <td>95391</td>\n      <td>128.82222222222222</td>\n      <td>34.46666666666667</td>\n      <td>226.15277777777777</td>\n      <td>1.5990277777777768</td>\n      <td>13.942639</td>\n      <td>104.016222</td>\n    </tr>\n    <tr>\n      <th>136682</th>\n      <td>12</td>\n      <td>2019</td>\n      <td>95391</td>\n      <td>75.23655913978494</td>\n      <td>32.969086021505376</td>\n      <td>116.34005376344086</td>\n      <td>1.9862903225806463</td>\n      <td>10.240860</td>\n      <td>107.304341</td>\n    </tr>\n  </tbody>\n</table>\n</div>"
          },
          "metadata": {}
        }
      ]
    },
    {
      "cell_type": "code",
      "metadata": {
        "tags": [],
        "cell_id": "00026-6e93bfc9-63a3-4c32-b3da-b12b95588bb8",
        "deepnote_to_be_reexecuted": false,
        "source_hash": "f1dc5fa2",
        "execution_millis": 13,
        "execution_start": 1618697365624,
        "deepnote_cell_type": "code"
      },
      "source": "elec_X_train_2.head()",
      "execution_count": null,
      "outputs": [
        {
          "output_type": "execute_result",
          "execution_count": 171,
          "data": {
            "application/vnd.deepnote.dataframe.v2+json": {
              "row_count": 5,
              "column_count": 9,
              "columns": [
                {
                  "name": "MONTH",
                  "dtype": "int64",
                  "stats": {
                    "unique_count": 5,
                    "nan_count": 0,
                    "min": "1",
                    "max": "5",
                    "histogram": [
                      {
                        "bin_start": 1,
                        "bin_end": 1.4,
                        "count": 1
                      },
                      {
                        "bin_start": 1.4,
                        "bin_end": 1.8,
                        "count": 0
                      },
                      {
                        "bin_start": 1.8,
                        "bin_end": 2.2,
                        "count": 1
                      },
                      {
                        "bin_start": 2.2,
                        "bin_end": 2.6,
                        "count": 0
                      },
                      {
                        "bin_start": 2.6,
                        "bin_end": 3,
                        "count": 0
                      },
                      {
                        "bin_start": 3,
                        "bin_end": 3.4000000000000004,
                        "count": 1
                      },
                      {
                        "bin_start": 3.4000000000000004,
                        "bin_end": 3.8000000000000003,
                        "count": 0
                      },
                      {
                        "bin_start": 3.8000000000000003,
                        "bin_end": 4.2,
                        "count": 1
                      },
                      {
                        "bin_start": 4.2,
                        "bin_end": 4.6,
                        "count": 0
                      },
                      {
                        "bin_start": 4.6,
                        "bin_end": 5,
                        "count": 1
                      }
                    ]
                  }
                },
                {
                  "name": "YEAR",
                  "dtype": "int64",
                  "stats": {
                    "unique_count": 1,
                    "nan_count": 0,
                    "min": "2014",
                    "max": "2014",
                    "histogram": [
                      {
                        "bin_start": 2013.5,
                        "bin_end": 2013.6,
                        "count": 0
                      },
                      {
                        "bin_start": 2013.6,
                        "bin_end": 2013.7,
                        "count": 0
                      },
                      {
                        "bin_start": 2013.7,
                        "bin_end": 2013.8,
                        "count": 0
                      },
                      {
                        "bin_start": 2013.8,
                        "bin_end": 2013.9,
                        "count": 0
                      },
                      {
                        "bin_start": 2013.9,
                        "bin_end": 2014,
                        "count": 0
                      },
                      {
                        "bin_start": 2014,
                        "bin_end": 2014.1,
                        "count": 5
                      },
                      {
                        "bin_start": 2014.1,
                        "bin_end": 2014.2,
                        "count": 0
                      },
                      {
                        "bin_start": 2014.2,
                        "bin_end": 2014.3,
                        "count": 0
                      },
                      {
                        "bin_start": 2014.3,
                        "bin_end": 2014.4,
                        "count": 0
                      },
                      {
                        "bin_start": 2014.4,
                        "bin_end": 2014.5,
                        "count": 0
                      }
                    ]
                  }
                },
                {
                  "name": "zip",
                  "dtype": "int64",
                  "stats": {
                    "unique_count": 1,
                    "nan_count": 0,
                    "min": "94564",
                    "max": "94564",
                    "histogram": [
                      {
                        "bin_start": 94563.5,
                        "bin_end": 94563.6,
                        "count": 0
                      },
                      {
                        "bin_start": 94563.6,
                        "bin_end": 94563.7,
                        "count": 0
                      },
                      {
                        "bin_start": 94563.7,
                        "bin_end": 94563.8,
                        "count": 0
                      },
                      {
                        "bin_start": 94563.8,
                        "bin_end": 94563.9,
                        "count": 0
                      },
                      {
                        "bin_start": 94563.9,
                        "bin_end": 94564,
                        "count": 0
                      },
                      {
                        "bin_start": 94564,
                        "bin_end": 94564.1,
                        "count": 5
                      },
                      {
                        "bin_start": 94564.1,
                        "bin_end": 94564.2,
                        "count": 0
                      },
                      {
                        "bin_start": 94564.2,
                        "bin_end": 94564.3,
                        "count": 0
                      },
                      {
                        "bin_start": 94564.3,
                        "bin_end": 94564.4,
                        "count": 0
                      },
                      {
                        "bin_start": 94564.4,
                        "bin_end": 94564.5,
                        "count": 0
                      }
                    ]
                  }
                },
                {
                  "name": "GHI_raw",
                  "dtype": "object",
                  "stats": {
                    "unique_count": 5,
                    "nan_count": 0,
                    "categories": [
                      {
                        "name": "116.11290322580645",
                        "count": 1
                      },
                      {
                        "name": "125.19047619047619",
                        "count": 1
                      },
                      {
                        "name": "3 others",
                        "count": 3
                      }
                    ]
                  }
                },
                {
                  "name": "DHI_raw",
                  "dtype": "object",
                  "stats": {
                    "unique_count": 5,
                    "nan_count": 0,
                    "categories": [
                      {
                        "name": "31.026881720430108",
                        "count": 1
                      },
                      {
                        "name": "49.552083333333336",
                        "count": 1
                      },
                      {
                        "name": "3 others",
                        "count": 3
                      }
                    ]
                  }
                },
                {
                  "name": "DNI_raw",
                  "dtype": "object",
                  "stats": {
                    "unique_count": 5,
                    "nan_count": 0,
                    "categories": [
                      {
                        "name": "218.20698924731184",
                        "count": 1
                      },
                      {
                        "name": "158.35565476190476",
                        "count": 1
                      },
                      {
                        "name": "3 others",
                        "count": 3
                      }
                    ]
                  }
                },
                {
                  "name": "Wind Speed",
                  "dtype": "object",
                  "stats": {
                    "unique_count": 5,
                    "nan_count": 0,
                    "categories": [
                      {
                        "name": "1.7182795698924735",
                        "count": 1
                      },
                      {
                        "name": "2.0611607142857156",
                        "count": 1
                      },
                      {
                        "name": "3 others",
                        "count": 3
                      }
                    ]
                  }
                },
                {
                  "name": "Temperature_raw",
                  "dtype": "float64",
                  "stats": {
                    "unique_count": 5,
                    "nan_count": 0,
                    "min": "10.813172043010752",
                    "max": "16.032258064516128",
                    "histogram": [
                      {
                        "bin_start": 10.813172043010752,
                        "bin_end": 11.33508064516129,
                        "count": 2
                      },
                      {
                        "bin_start": 11.33508064516129,
                        "bin_end": 11.856989247311827,
                        "count": 0
                      },
                      {
                        "bin_start": 11.856989247311827,
                        "bin_end": 12.378897849462366,
                        "count": 0
                      },
                      {
                        "bin_start": 12.378897849462366,
                        "bin_end": 12.900806451612903,
                        "count": 1
                      },
                      {
                        "bin_start": 12.900806451612903,
                        "bin_end": 13.42271505376344,
                        "count": 0
                      },
                      {
                        "bin_start": 13.42271505376344,
                        "bin_end": 13.944623655913977,
                        "count": 1
                      },
                      {
                        "bin_start": 13.944623655913977,
                        "bin_end": 14.466532258064515,
                        "count": 0
                      },
                      {
                        "bin_start": 14.466532258064515,
                        "bin_end": 14.988440860215054,
                        "count": 0
                      },
                      {
                        "bin_start": 14.988440860215054,
                        "bin_end": 15.510349462365589,
                        "count": 0
                      },
                      {
                        "bin_start": 15.510349462365589,
                        "bin_end": 16.032258064516128,
                        "count": 1
                      }
                    ]
                  }
                },
                {
                  "name": "Solar_Zenith_Angle_raw",
                  "dtype": "float64",
                  "stats": {
                    "unique_count": 5,
                    "nan_count": 0,
                    "min": "75.51069892473109",
                    "max": "105.61565860215028",
                    "histogram": [
                      {
                        "bin_start": 75.51069892473109,
                        "bin_end": 78.521194892473,
                        "count": 1
                      },
                      {
                        "bin_start": 78.521194892473,
                        "bin_end": 81.53169086021492,
                        "count": 0
                      },
                      {
                        "bin_start": 81.53169086021492,
                        "bin_end": 84.54218682795684,
                        "count": 1
                      },
                      {
                        "bin_start": 84.54218682795684,
                        "bin_end": 87.55268279569876,
                        "count": 0
                      },
                      {
                        "bin_start": 87.55268279569876,
                        "bin_end": 90.56317876344067,
                        "count": 0
                      },
                      {
                        "bin_start": 90.56317876344067,
                        "bin_end": 93.57367473118259,
                        "count": 1
                      },
                      {
                        "bin_start": 93.57367473118259,
                        "bin_end": 96.58417069892452,
                        "count": 0
                      },
                      {
                        "bin_start": 96.58417069892452,
                        "bin_end": 99.59466666666644,
                        "count": 0
                      },
                      {
                        "bin_start": 99.59466666666644,
                        "bin_end": 102.60516263440836,
                        "count": 1
                      },
                      {
                        "bin_start": 102.60516263440836,
                        "bin_end": 105.61565860215028,
                        "count": 1
                      }
                    ]
                  }
                },
                {
                  "name": "_deepnote_index_column",
                  "dtype": "int64"
                }
              ],
              "rows_top": [
                {
                  "MONTH": 1,
                  "YEAR": 2014,
                  "zip": 94564,
                  "GHI_raw": "116.11290322580645",
                  "DHI_raw": "31.026881720430108",
                  "DNI_raw": "218.20698924731184",
                  "Wind Speed": "1.7182795698924735",
                  "Temperature_raw": 10.813172043010752,
                  "Solar_Zenith_Angle_raw": 105.61565860215028,
                  "_deepnote_index_column": 118
                },
                {
                  "MONTH": 2,
                  "YEAR": 2014,
                  "zip": 94564,
                  "GHI_raw": "125.19047619047619",
                  "DHI_raw": "49.552083333333336",
                  "DNI_raw": "158.35565476190476",
                  "Wind Speed": "2.0611607142857156",
                  "Temperature_raw": 10.925595238095235,
                  "Solar_Zenith_Angle_raw": 99.64017857142856,
                  "_deepnote_index_column": 119
                },
                {
                  "MONTH": 3,
                  "YEAR": 2014,
                  "zip": 94564,
                  "GHI_raw": "189.59543010752688",
                  "DHI_raw": "59.608870967741936",
                  "DNI_raw": "227.41397849462365",
                  "Wind Speed": "2.112903225806453",
                  "Temperature_raw": 12.83736559139785,
                  "Solar_Zenith_Angle_raw": 91.18322580645167,
                  "_deepnote_index_column": 120
                },
                {
                  "MONTH": 4,
                  "YEAR": 2014,
                  "zip": 94564,
                  "GHI_raw": "265.2611111111111",
                  "DHI_raw": "71.5",
                  "DNI_raw": "294.6666666666667",
                  "Wind Speed": "2.219722222222223",
                  "Temperature_raw": 13.569444444444445,
                  "Solar_Zenith_Angle_raw": 82.28247222222221,
                  "_deepnote_index_column": 124
                },
                {
                  "MONTH": 5,
                  "YEAR": 2014,
                  "zip": 94564,
                  "GHI_raw": "325.43951612903226",
                  "DHI_raw": "74.29032258064517",
                  "DNI_raw": "363.5766129032258",
                  "Wind Speed": "2.526478494623656",
                  "Temperature_raw": 16.032258064516128,
                  "Solar_Zenith_Angle_raw": 75.51069892473109,
                  "_deepnote_index_column": 125
                }
              ],
              "rows_bottom": null
            },
            "text/plain": "     MONTH  YEAR    zip             GHI_raw             DHI_raw  \\\n118      1  2014  94564  116.11290322580645  31.026881720430108   \n119      2  2014  94564  125.19047619047619  49.552083333333336   \n120      3  2014  94564  189.59543010752688  59.608870967741936   \n124      4  2014  94564   265.2611111111111                71.5   \n125      5  2014  94564  325.43951612903226   74.29032258064517   \n\n                DNI_raw          Wind Speed  Temperature_raw  \\\n118  218.20698924731184  1.7182795698924735        10.813172   \n119  158.35565476190476  2.0611607142857156        10.925595   \n120  227.41397849462365   2.112903225806453        12.837366   \n124   294.6666666666667   2.219722222222223        13.569444   \n125   363.5766129032258   2.526478494623656        16.032258   \n\n     Solar_Zenith_Angle_raw  \n118              105.615659  \n119               99.640179  \n120               91.183226  \n124               82.282472  \n125               75.510699  ",
            "text/html": "<div>\n<style scoped>\n    .dataframe tbody tr th:only-of-type {\n        vertical-align: middle;\n    }\n\n    .dataframe tbody tr th {\n        vertical-align: top;\n    }\n\n    .dataframe thead th {\n        text-align: right;\n    }\n</style>\n<table border=\"1\" class=\"dataframe\">\n  <thead>\n    <tr style=\"text-align: right;\">\n      <th></th>\n      <th>MONTH</th>\n      <th>YEAR</th>\n      <th>zip</th>\n      <th>GHI_raw</th>\n      <th>DHI_raw</th>\n      <th>DNI_raw</th>\n      <th>Wind Speed</th>\n      <th>Temperature_raw</th>\n      <th>Solar_Zenith_Angle_raw</th>\n    </tr>\n  </thead>\n  <tbody>\n    <tr>\n      <th>118</th>\n      <td>1</td>\n      <td>2014</td>\n      <td>94564</td>\n      <td>116.11290322580645</td>\n      <td>31.026881720430108</td>\n      <td>218.20698924731184</td>\n      <td>1.7182795698924735</td>\n      <td>10.813172</td>\n      <td>105.615659</td>\n    </tr>\n    <tr>\n      <th>119</th>\n      <td>2</td>\n      <td>2014</td>\n      <td>94564</td>\n      <td>125.19047619047619</td>\n      <td>49.552083333333336</td>\n      <td>158.35565476190476</td>\n      <td>2.0611607142857156</td>\n      <td>10.925595</td>\n      <td>99.640179</td>\n    </tr>\n    <tr>\n      <th>120</th>\n      <td>3</td>\n      <td>2014</td>\n      <td>94564</td>\n      <td>189.59543010752688</td>\n      <td>59.608870967741936</td>\n      <td>227.41397849462365</td>\n      <td>2.112903225806453</td>\n      <td>12.837366</td>\n      <td>91.183226</td>\n    </tr>\n    <tr>\n      <th>124</th>\n      <td>4</td>\n      <td>2014</td>\n      <td>94564</td>\n      <td>265.2611111111111</td>\n      <td>71.5</td>\n      <td>294.6666666666667</td>\n      <td>2.219722222222223</td>\n      <td>13.569444</td>\n      <td>82.282472</td>\n    </tr>\n    <tr>\n      <th>125</th>\n      <td>5</td>\n      <td>2014</td>\n      <td>94564</td>\n      <td>325.43951612903226</td>\n      <td>74.29032258064517</td>\n      <td>363.5766129032258</td>\n      <td>2.526478494623656</td>\n      <td>16.032258</td>\n      <td>75.510699</td>\n    </tr>\n  </tbody>\n</table>\n</div>"
          },
          "metadata": {}
        }
      ]
    },
    {
      "cell_type": "code",
      "metadata": {
        "tags": [],
        "cell_id": "00028-43dbc70d-beda-4cf0-83eb-1d6c91feb708",
        "deepnote_to_be_reexecuted": false,
        "source_hash": "aed27c50",
        "execution_millis": 10,
        "execution_start": 1618697375178,
        "deepnote_cell_type": "code"
      },
      "source": "elec_X_train_2 = elec_X_train_2.reset_index()",
      "execution_count": null,
      "outputs": []
    },
    {
      "cell_type": "code",
      "metadata": {
        "tags": [],
        "cell_id": "00029-da832735-9692-4b1e-b151-acaf5f262edd",
        "deepnote_to_be_reexecuted": false,
        "source_hash": "f1dc5fa2",
        "execution_millis": 31,
        "execution_start": 1618697376467,
        "deepnote_cell_type": "code"
      },
      "source": "elec_X_train_2.head()",
      "execution_count": null,
      "outputs": [
        {
          "output_type": "execute_result",
          "execution_count": 173,
          "data": {
            "application/vnd.deepnote.dataframe.v2+json": {
              "row_count": 5,
              "column_count": 10,
              "columns": [
                {
                  "name": "index",
                  "dtype": "int64",
                  "stats": {
                    "unique_count": 5,
                    "nan_count": 0,
                    "min": "118",
                    "max": "125",
                    "histogram": [
                      {
                        "bin_start": 118,
                        "bin_end": 118.7,
                        "count": 1
                      },
                      {
                        "bin_start": 118.7,
                        "bin_end": 119.4,
                        "count": 1
                      },
                      {
                        "bin_start": 119.4,
                        "bin_end": 120.1,
                        "count": 1
                      },
                      {
                        "bin_start": 120.1,
                        "bin_end": 120.8,
                        "count": 0
                      },
                      {
                        "bin_start": 120.8,
                        "bin_end": 121.5,
                        "count": 0
                      },
                      {
                        "bin_start": 121.5,
                        "bin_end": 122.2,
                        "count": 0
                      },
                      {
                        "bin_start": 122.2,
                        "bin_end": 122.9,
                        "count": 0
                      },
                      {
                        "bin_start": 122.9,
                        "bin_end": 123.6,
                        "count": 0
                      },
                      {
                        "bin_start": 123.6,
                        "bin_end": 124.3,
                        "count": 1
                      },
                      {
                        "bin_start": 124.3,
                        "bin_end": 125,
                        "count": 1
                      }
                    ]
                  }
                },
                {
                  "name": "MONTH",
                  "dtype": "int64",
                  "stats": {
                    "unique_count": 5,
                    "nan_count": 0,
                    "min": "1",
                    "max": "5",
                    "histogram": [
                      {
                        "bin_start": 1,
                        "bin_end": 1.4,
                        "count": 1
                      },
                      {
                        "bin_start": 1.4,
                        "bin_end": 1.8,
                        "count": 0
                      },
                      {
                        "bin_start": 1.8,
                        "bin_end": 2.2,
                        "count": 1
                      },
                      {
                        "bin_start": 2.2,
                        "bin_end": 2.6,
                        "count": 0
                      },
                      {
                        "bin_start": 2.6,
                        "bin_end": 3,
                        "count": 0
                      },
                      {
                        "bin_start": 3,
                        "bin_end": 3.4000000000000004,
                        "count": 1
                      },
                      {
                        "bin_start": 3.4000000000000004,
                        "bin_end": 3.8000000000000003,
                        "count": 0
                      },
                      {
                        "bin_start": 3.8000000000000003,
                        "bin_end": 4.2,
                        "count": 1
                      },
                      {
                        "bin_start": 4.2,
                        "bin_end": 4.6,
                        "count": 0
                      },
                      {
                        "bin_start": 4.6,
                        "bin_end": 5,
                        "count": 1
                      }
                    ]
                  }
                },
                {
                  "name": "YEAR",
                  "dtype": "int64",
                  "stats": {
                    "unique_count": 1,
                    "nan_count": 0,
                    "min": "2014",
                    "max": "2014",
                    "histogram": [
                      {
                        "bin_start": 2013.5,
                        "bin_end": 2013.6,
                        "count": 0
                      },
                      {
                        "bin_start": 2013.6,
                        "bin_end": 2013.7,
                        "count": 0
                      },
                      {
                        "bin_start": 2013.7,
                        "bin_end": 2013.8,
                        "count": 0
                      },
                      {
                        "bin_start": 2013.8,
                        "bin_end": 2013.9,
                        "count": 0
                      },
                      {
                        "bin_start": 2013.9,
                        "bin_end": 2014,
                        "count": 0
                      },
                      {
                        "bin_start": 2014,
                        "bin_end": 2014.1,
                        "count": 5
                      },
                      {
                        "bin_start": 2014.1,
                        "bin_end": 2014.2,
                        "count": 0
                      },
                      {
                        "bin_start": 2014.2,
                        "bin_end": 2014.3,
                        "count": 0
                      },
                      {
                        "bin_start": 2014.3,
                        "bin_end": 2014.4,
                        "count": 0
                      },
                      {
                        "bin_start": 2014.4,
                        "bin_end": 2014.5,
                        "count": 0
                      }
                    ]
                  }
                },
                {
                  "name": "zip",
                  "dtype": "int64",
                  "stats": {
                    "unique_count": 1,
                    "nan_count": 0,
                    "min": "94564",
                    "max": "94564",
                    "histogram": [
                      {
                        "bin_start": 94563.5,
                        "bin_end": 94563.6,
                        "count": 0
                      },
                      {
                        "bin_start": 94563.6,
                        "bin_end": 94563.7,
                        "count": 0
                      },
                      {
                        "bin_start": 94563.7,
                        "bin_end": 94563.8,
                        "count": 0
                      },
                      {
                        "bin_start": 94563.8,
                        "bin_end": 94563.9,
                        "count": 0
                      },
                      {
                        "bin_start": 94563.9,
                        "bin_end": 94564,
                        "count": 0
                      },
                      {
                        "bin_start": 94564,
                        "bin_end": 94564.1,
                        "count": 5
                      },
                      {
                        "bin_start": 94564.1,
                        "bin_end": 94564.2,
                        "count": 0
                      },
                      {
                        "bin_start": 94564.2,
                        "bin_end": 94564.3,
                        "count": 0
                      },
                      {
                        "bin_start": 94564.3,
                        "bin_end": 94564.4,
                        "count": 0
                      },
                      {
                        "bin_start": 94564.4,
                        "bin_end": 94564.5,
                        "count": 0
                      }
                    ]
                  }
                },
                {
                  "name": "GHI_raw",
                  "dtype": "object",
                  "stats": {
                    "unique_count": 5,
                    "nan_count": 0,
                    "categories": [
                      {
                        "name": "116.11290322580645",
                        "count": 1
                      },
                      {
                        "name": "125.19047619047619",
                        "count": 1
                      },
                      {
                        "name": "3 others",
                        "count": 3
                      }
                    ]
                  }
                },
                {
                  "name": "DHI_raw",
                  "dtype": "object",
                  "stats": {
                    "unique_count": 5,
                    "nan_count": 0,
                    "categories": [
                      {
                        "name": "31.026881720430108",
                        "count": 1
                      },
                      {
                        "name": "49.552083333333336",
                        "count": 1
                      },
                      {
                        "name": "3 others",
                        "count": 3
                      }
                    ]
                  }
                },
                {
                  "name": "DNI_raw",
                  "dtype": "object",
                  "stats": {
                    "unique_count": 5,
                    "nan_count": 0,
                    "categories": [
                      {
                        "name": "218.20698924731184",
                        "count": 1
                      },
                      {
                        "name": "158.35565476190476",
                        "count": 1
                      },
                      {
                        "name": "3 others",
                        "count": 3
                      }
                    ]
                  }
                },
                {
                  "name": "Wind Speed",
                  "dtype": "object",
                  "stats": {
                    "unique_count": 5,
                    "nan_count": 0,
                    "categories": [
                      {
                        "name": "1.7182795698924735",
                        "count": 1
                      },
                      {
                        "name": "2.0611607142857156",
                        "count": 1
                      },
                      {
                        "name": "3 others",
                        "count": 3
                      }
                    ]
                  }
                },
                {
                  "name": "Temperature_raw",
                  "dtype": "float64",
                  "stats": {
                    "unique_count": 5,
                    "nan_count": 0,
                    "min": "10.813172043010752",
                    "max": "16.032258064516128",
                    "histogram": [
                      {
                        "bin_start": 10.813172043010752,
                        "bin_end": 11.33508064516129,
                        "count": 2
                      },
                      {
                        "bin_start": 11.33508064516129,
                        "bin_end": 11.856989247311827,
                        "count": 0
                      },
                      {
                        "bin_start": 11.856989247311827,
                        "bin_end": 12.378897849462366,
                        "count": 0
                      },
                      {
                        "bin_start": 12.378897849462366,
                        "bin_end": 12.900806451612903,
                        "count": 1
                      },
                      {
                        "bin_start": 12.900806451612903,
                        "bin_end": 13.42271505376344,
                        "count": 0
                      },
                      {
                        "bin_start": 13.42271505376344,
                        "bin_end": 13.944623655913977,
                        "count": 1
                      },
                      {
                        "bin_start": 13.944623655913977,
                        "bin_end": 14.466532258064515,
                        "count": 0
                      },
                      {
                        "bin_start": 14.466532258064515,
                        "bin_end": 14.988440860215054,
                        "count": 0
                      },
                      {
                        "bin_start": 14.988440860215054,
                        "bin_end": 15.510349462365589,
                        "count": 0
                      },
                      {
                        "bin_start": 15.510349462365589,
                        "bin_end": 16.032258064516128,
                        "count": 1
                      }
                    ]
                  }
                },
                {
                  "name": "Solar_Zenith_Angle_raw",
                  "dtype": "float64",
                  "stats": {
                    "unique_count": 5,
                    "nan_count": 0,
                    "min": "75.51069892473109",
                    "max": "105.61565860215028",
                    "histogram": [
                      {
                        "bin_start": 75.51069892473109,
                        "bin_end": 78.521194892473,
                        "count": 1
                      },
                      {
                        "bin_start": 78.521194892473,
                        "bin_end": 81.53169086021492,
                        "count": 0
                      },
                      {
                        "bin_start": 81.53169086021492,
                        "bin_end": 84.54218682795684,
                        "count": 1
                      },
                      {
                        "bin_start": 84.54218682795684,
                        "bin_end": 87.55268279569876,
                        "count": 0
                      },
                      {
                        "bin_start": 87.55268279569876,
                        "bin_end": 90.56317876344067,
                        "count": 0
                      },
                      {
                        "bin_start": 90.56317876344067,
                        "bin_end": 93.57367473118259,
                        "count": 1
                      },
                      {
                        "bin_start": 93.57367473118259,
                        "bin_end": 96.58417069892452,
                        "count": 0
                      },
                      {
                        "bin_start": 96.58417069892452,
                        "bin_end": 99.59466666666644,
                        "count": 0
                      },
                      {
                        "bin_start": 99.59466666666644,
                        "bin_end": 102.60516263440836,
                        "count": 1
                      },
                      {
                        "bin_start": 102.60516263440836,
                        "bin_end": 105.61565860215028,
                        "count": 1
                      }
                    ]
                  }
                },
                {
                  "name": "_deepnote_index_column",
                  "dtype": "int64"
                }
              ],
              "rows_top": [
                {
                  "index": 118,
                  "MONTH": 1,
                  "YEAR": 2014,
                  "zip": 94564,
                  "GHI_raw": "116.11290322580645",
                  "DHI_raw": "31.026881720430108",
                  "DNI_raw": "218.20698924731184",
                  "Wind Speed": "1.7182795698924735",
                  "Temperature_raw": 10.813172043010752,
                  "Solar_Zenith_Angle_raw": 105.61565860215028,
                  "_deepnote_index_column": 0
                },
                {
                  "index": 119,
                  "MONTH": 2,
                  "YEAR": 2014,
                  "zip": 94564,
                  "GHI_raw": "125.19047619047619",
                  "DHI_raw": "49.552083333333336",
                  "DNI_raw": "158.35565476190476",
                  "Wind Speed": "2.0611607142857156",
                  "Temperature_raw": 10.925595238095235,
                  "Solar_Zenith_Angle_raw": 99.64017857142856,
                  "_deepnote_index_column": 1
                },
                {
                  "index": 120,
                  "MONTH": 3,
                  "YEAR": 2014,
                  "zip": 94564,
                  "GHI_raw": "189.59543010752688",
                  "DHI_raw": "59.608870967741936",
                  "DNI_raw": "227.41397849462365",
                  "Wind Speed": "2.112903225806453",
                  "Temperature_raw": 12.83736559139785,
                  "Solar_Zenith_Angle_raw": 91.18322580645167,
                  "_deepnote_index_column": 2
                },
                {
                  "index": 124,
                  "MONTH": 4,
                  "YEAR": 2014,
                  "zip": 94564,
                  "GHI_raw": "265.2611111111111",
                  "DHI_raw": "71.5",
                  "DNI_raw": "294.6666666666667",
                  "Wind Speed": "2.219722222222223",
                  "Temperature_raw": 13.569444444444445,
                  "Solar_Zenith_Angle_raw": 82.28247222222221,
                  "_deepnote_index_column": 3
                },
                {
                  "index": 125,
                  "MONTH": 5,
                  "YEAR": 2014,
                  "zip": 94564,
                  "GHI_raw": "325.43951612903226",
                  "DHI_raw": "74.29032258064517",
                  "DNI_raw": "363.5766129032258",
                  "Wind Speed": "2.526478494623656",
                  "Temperature_raw": 16.032258064516128,
                  "Solar_Zenith_Angle_raw": 75.51069892473109,
                  "_deepnote_index_column": 4
                }
              ],
              "rows_bottom": null
            },
            "text/plain": "   index  MONTH  YEAR    zip             GHI_raw             DHI_raw  \\\n0    118      1  2014  94564  116.11290322580645  31.026881720430108   \n1    119      2  2014  94564  125.19047619047619  49.552083333333336   \n2    120      3  2014  94564  189.59543010752688  59.608870967741936   \n3    124      4  2014  94564   265.2611111111111                71.5   \n4    125      5  2014  94564  325.43951612903226   74.29032258064517   \n\n              DNI_raw          Wind Speed  Temperature_raw  \\\n0  218.20698924731184  1.7182795698924735        10.813172   \n1  158.35565476190476  2.0611607142857156        10.925595   \n2  227.41397849462365   2.112903225806453        12.837366   \n3   294.6666666666667   2.219722222222223        13.569444   \n4   363.5766129032258   2.526478494623656        16.032258   \n\n   Solar_Zenith_Angle_raw  \n0              105.615659  \n1               99.640179  \n2               91.183226  \n3               82.282472  \n4               75.510699  ",
            "text/html": "<div>\n<style scoped>\n    .dataframe tbody tr th:only-of-type {\n        vertical-align: middle;\n    }\n\n    .dataframe tbody tr th {\n        vertical-align: top;\n    }\n\n    .dataframe thead th {\n        text-align: right;\n    }\n</style>\n<table border=\"1\" class=\"dataframe\">\n  <thead>\n    <tr style=\"text-align: right;\">\n      <th></th>\n      <th>index</th>\n      <th>MONTH</th>\n      <th>YEAR</th>\n      <th>zip</th>\n      <th>GHI_raw</th>\n      <th>DHI_raw</th>\n      <th>DNI_raw</th>\n      <th>Wind Speed</th>\n      <th>Temperature_raw</th>\n      <th>Solar_Zenith_Angle_raw</th>\n    </tr>\n  </thead>\n  <tbody>\n    <tr>\n      <th>0</th>\n      <td>118</td>\n      <td>1</td>\n      <td>2014</td>\n      <td>94564</td>\n      <td>116.11290322580645</td>\n      <td>31.026881720430108</td>\n      <td>218.20698924731184</td>\n      <td>1.7182795698924735</td>\n      <td>10.813172</td>\n      <td>105.615659</td>\n    </tr>\n    <tr>\n      <th>1</th>\n      <td>119</td>\n      <td>2</td>\n      <td>2014</td>\n      <td>94564</td>\n      <td>125.19047619047619</td>\n      <td>49.552083333333336</td>\n      <td>158.35565476190476</td>\n      <td>2.0611607142857156</td>\n      <td>10.925595</td>\n      <td>99.640179</td>\n    </tr>\n    <tr>\n      <th>2</th>\n      <td>120</td>\n      <td>3</td>\n      <td>2014</td>\n      <td>94564</td>\n      <td>189.59543010752688</td>\n      <td>59.608870967741936</td>\n      <td>227.41397849462365</td>\n      <td>2.112903225806453</td>\n      <td>12.837366</td>\n      <td>91.183226</td>\n    </tr>\n    <tr>\n      <th>3</th>\n      <td>124</td>\n      <td>4</td>\n      <td>2014</td>\n      <td>94564</td>\n      <td>265.2611111111111</td>\n      <td>71.5</td>\n      <td>294.6666666666667</td>\n      <td>2.219722222222223</td>\n      <td>13.569444</td>\n      <td>82.282472</td>\n    </tr>\n    <tr>\n      <th>4</th>\n      <td>125</td>\n      <td>5</td>\n      <td>2014</td>\n      <td>94564</td>\n      <td>325.43951612903226</td>\n      <td>74.29032258064517</td>\n      <td>363.5766129032258</td>\n      <td>2.526478494623656</td>\n      <td>16.032258</td>\n      <td>75.510699</td>\n    </tr>\n  </tbody>\n</table>\n</div>"
          },
          "metadata": {}
        }
      ]
    },
    {
      "cell_type": "code",
      "metadata": {
        "tags": [],
        "cell_id": "00030-78b120d0-1928-4e47-81e5-c3f0b7f59b7c",
        "deepnote_to_be_reexecuted": false,
        "source_hash": "f0105ab",
        "execution_millis": 11,
        "execution_start": 1618697379274,
        "deepnote_cell_type": "code"
      },
      "source": "elec_X_train_2['k_12'] = k12['AVERAGEKWH_raw_k_12']\nelec_X_train_2['k_11'] = k12['AVERAGEKWH_raw_k_11']\nelec_X_train_2['k_10'] = k12['AVERAGEKWH_raw_k_10']\nelec_X_train_2['k_9'] = k12['AVERAGEKWH_raw_k_9']\nelec_X_train_2['k_8'] = k12['AVERAGEKWH_raw_k_8']\nelec_X_train_2['k_7'] = k12['AVERAGEKWH_raw_k_7']\nelec_X_train_2['k_6'] = k12['AVERAGEKWH_raw_k_6']\nelec_X_train_2['k_5'] = k12['AVERAGEKWH_raw_k_5']\nelec_X_train_2['k_4'] = k12['AVERAGEKWH_raw_k_4']\nelec_X_train_2['k_3'] = k12['AVERAGEKWH_raw_k_3']\nelec_X_train_2['k_2'] = k12['AVERAGEKWH_raw_k_2']\nelec_X_train_2['k_1'] = k12['AVERAGEKWH_raw_k_1']",
      "execution_count": null,
      "outputs": []
    },
    {
      "cell_type": "code",
      "metadata": {
        "tags": [],
        "cell_id": "00031-34051784-df22-4bfd-a8d5-cca7b8c39c67",
        "deepnote_to_be_reexecuted": false,
        "source_hash": "f1dc5fa2",
        "execution_millis": 54,
        "execution_start": 1618697381172,
        "deepnote_cell_type": "code"
      },
      "source": "elec_X_train_2.head()",
      "execution_count": null,
      "outputs": [
        {
          "output_type": "execute_result",
          "execution_count": 175,
          "data": {
            "application/vnd.deepnote.dataframe.v2+json": {
              "row_count": 5,
              "column_count": 22,
              "columns": [
                {
                  "name": "index",
                  "dtype": "int64",
                  "stats": {
                    "unique_count": 5,
                    "nan_count": 0,
                    "min": "118",
                    "max": "125",
                    "histogram": [
                      {
                        "bin_start": 118,
                        "bin_end": 118.7,
                        "count": 1
                      },
                      {
                        "bin_start": 118.7,
                        "bin_end": 119.4,
                        "count": 1
                      },
                      {
                        "bin_start": 119.4,
                        "bin_end": 120.1,
                        "count": 1
                      },
                      {
                        "bin_start": 120.1,
                        "bin_end": 120.8,
                        "count": 0
                      },
                      {
                        "bin_start": 120.8,
                        "bin_end": 121.5,
                        "count": 0
                      },
                      {
                        "bin_start": 121.5,
                        "bin_end": 122.2,
                        "count": 0
                      },
                      {
                        "bin_start": 122.2,
                        "bin_end": 122.9,
                        "count": 0
                      },
                      {
                        "bin_start": 122.9,
                        "bin_end": 123.6,
                        "count": 0
                      },
                      {
                        "bin_start": 123.6,
                        "bin_end": 124.3,
                        "count": 1
                      },
                      {
                        "bin_start": 124.3,
                        "bin_end": 125,
                        "count": 1
                      }
                    ]
                  }
                },
                {
                  "name": "MONTH",
                  "dtype": "int64",
                  "stats": {
                    "unique_count": 5,
                    "nan_count": 0,
                    "min": "1",
                    "max": "5",
                    "histogram": [
                      {
                        "bin_start": 1,
                        "bin_end": 1.4,
                        "count": 1
                      },
                      {
                        "bin_start": 1.4,
                        "bin_end": 1.8,
                        "count": 0
                      },
                      {
                        "bin_start": 1.8,
                        "bin_end": 2.2,
                        "count": 1
                      },
                      {
                        "bin_start": 2.2,
                        "bin_end": 2.6,
                        "count": 0
                      },
                      {
                        "bin_start": 2.6,
                        "bin_end": 3,
                        "count": 0
                      },
                      {
                        "bin_start": 3,
                        "bin_end": 3.4000000000000004,
                        "count": 1
                      },
                      {
                        "bin_start": 3.4000000000000004,
                        "bin_end": 3.8000000000000003,
                        "count": 0
                      },
                      {
                        "bin_start": 3.8000000000000003,
                        "bin_end": 4.2,
                        "count": 1
                      },
                      {
                        "bin_start": 4.2,
                        "bin_end": 4.6,
                        "count": 0
                      },
                      {
                        "bin_start": 4.6,
                        "bin_end": 5,
                        "count": 1
                      }
                    ]
                  }
                },
                {
                  "name": "YEAR",
                  "dtype": "int64",
                  "stats": {
                    "unique_count": 1,
                    "nan_count": 0,
                    "min": "2014",
                    "max": "2014",
                    "histogram": [
                      {
                        "bin_start": 2013.5,
                        "bin_end": 2013.6,
                        "count": 0
                      },
                      {
                        "bin_start": 2013.6,
                        "bin_end": 2013.7,
                        "count": 0
                      },
                      {
                        "bin_start": 2013.7,
                        "bin_end": 2013.8,
                        "count": 0
                      },
                      {
                        "bin_start": 2013.8,
                        "bin_end": 2013.9,
                        "count": 0
                      },
                      {
                        "bin_start": 2013.9,
                        "bin_end": 2014,
                        "count": 0
                      },
                      {
                        "bin_start": 2014,
                        "bin_end": 2014.1,
                        "count": 5
                      },
                      {
                        "bin_start": 2014.1,
                        "bin_end": 2014.2,
                        "count": 0
                      },
                      {
                        "bin_start": 2014.2,
                        "bin_end": 2014.3,
                        "count": 0
                      },
                      {
                        "bin_start": 2014.3,
                        "bin_end": 2014.4,
                        "count": 0
                      },
                      {
                        "bin_start": 2014.4,
                        "bin_end": 2014.5,
                        "count": 0
                      }
                    ]
                  }
                },
                {
                  "name": "zip",
                  "dtype": "int64",
                  "stats": {
                    "unique_count": 1,
                    "nan_count": 0,
                    "min": "94564",
                    "max": "94564",
                    "histogram": [
                      {
                        "bin_start": 94563.5,
                        "bin_end": 94563.6,
                        "count": 0
                      },
                      {
                        "bin_start": 94563.6,
                        "bin_end": 94563.7,
                        "count": 0
                      },
                      {
                        "bin_start": 94563.7,
                        "bin_end": 94563.8,
                        "count": 0
                      },
                      {
                        "bin_start": 94563.8,
                        "bin_end": 94563.9,
                        "count": 0
                      },
                      {
                        "bin_start": 94563.9,
                        "bin_end": 94564,
                        "count": 0
                      },
                      {
                        "bin_start": 94564,
                        "bin_end": 94564.1,
                        "count": 5
                      },
                      {
                        "bin_start": 94564.1,
                        "bin_end": 94564.2,
                        "count": 0
                      },
                      {
                        "bin_start": 94564.2,
                        "bin_end": 94564.3,
                        "count": 0
                      },
                      {
                        "bin_start": 94564.3,
                        "bin_end": 94564.4,
                        "count": 0
                      },
                      {
                        "bin_start": 94564.4,
                        "bin_end": 94564.5,
                        "count": 0
                      }
                    ]
                  }
                },
                {
                  "name": "GHI_raw",
                  "dtype": "object",
                  "stats": {
                    "unique_count": 5,
                    "nan_count": 0,
                    "categories": [
                      {
                        "name": "116.11290322580645",
                        "count": 1
                      },
                      {
                        "name": "125.19047619047619",
                        "count": 1
                      },
                      {
                        "name": "3 others",
                        "count": 3
                      }
                    ]
                  }
                },
                {
                  "name": "DHI_raw",
                  "dtype": "object",
                  "stats": {
                    "unique_count": 5,
                    "nan_count": 0,
                    "categories": [
                      {
                        "name": "31.026881720430108",
                        "count": 1
                      },
                      {
                        "name": "49.552083333333336",
                        "count": 1
                      },
                      {
                        "name": "3 others",
                        "count": 3
                      }
                    ]
                  }
                },
                {
                  "name": "DNI_raw",
                  "dtype": "object",
                  "stats": {
                    "unique_count": 5,
                    "nan_count": 0,
                    "categories": [
                      {
                        "name": "218.20698924731184",
                        "count": 1
                      },
                      {
                        "name": "158.35565476190476",
                        "count": 1
                      },
                      {
                        "name": "3 others",
                        "count": 3
                      }
                    ]
                  }
                },
                {
                  "name": "Wind Speed",
                  "dtype": "object",
                  "stats": {
                    "unique_count": 5,
                    "nan_count": 0,
                    "categories": [
                      {
                        "name": "1.7182795698924735",
                        "count": 1
                      },
                      {
                        "name": "2.0611607142857156",
                        "count": 1
                      },
                      {
                        "name": "3 others",
                        "count": 3
                      }
                    ]
                  }
                },
                {
                  "name": "Temperature_raw",
                  "dtype": "float64",
                  "stats": {
                    "unique_count": 5,
                    "nan_count": 0,
                    "min": "10.813172043010752",
                    "max": "16.032258064516128",
                    "histogram": [
                      {
                        "bin_start": 10.813172043010752,
                        "bin_end": 11.33508064516129,
                        "count": 2
                      },
                      {
                        "bin_start": 11.33508064516129,
                        "bin_end": 11.856989247311827,
                        "count": 0
                      },
                      {
                        "bin_start": 11.856989247311827,
                        "bin_end": 12.378897849462366,
                        "count": 0
                      },
                      {
                        "bin_start": 12.378897849462366,
                        "bin_end": 12.900806451612903,
                        "count": 1
                      },
                      {
                        "bin_start": 12.900806451612903,
                        "bin_end": 13.42271505376344,
                        "count": 0
                      },
                      {
                        "bin_start": 13.42271505376344,
                        "bin_end": 13.944623655913977,
                        "count": 1
                      },
                      {
                        "bin_start": 13.944623655913977,
                        "bin_end": 14.466532258064515,
                        "count": 0
                      },
                      {
                        "bin_start": 14.466532258064515,
                        "bin_end": 14.988440860215054,
                        "count": 0
                      },
                      {
                        "bin_start": 14.988440860215054,
                        "bin_end": 15.510349462365589,
                        "count": 0
                      },
                      {
                        "bin_start": 15.510349462365589,
                        "bin_end": 16.032258064516128,
                        "count": 1
                      }
                    ]
                  }
                },
                {
                  "name": "Solar_Zenith_Angle_raw",
                  "dtype": "float64",
                  "stats": {
                    "unique_count": 5,
                    "nan_count": 0,
                    "min": "75.51069892473109",
                    "max": "105.61565860215028",
                    "histogram": [
                      {
                        "bin_start": 75.51069892473109,
                        "bin_end": 78.521194892473,
                        "count": 1
                      },
                      {
                        "bin_start": 78.521194892473,
                        "bin_end": 81.53169086021492,
                        "count": 0
                      },
                      {
                        "bin_start": 81.53169086021492,
                        "bin_end": 84.54218682795684,
                        "count": 1
                      },
                      {
                        "bin_start": 84.54218682795684,
                        "bin_end": 87.55268279569876,
                        "count": 0
                      },
                      {
                        "bin_start": 87.55268279569876,
                        "bin_end": 90.56317876344067,
                        "count": 0
                      },
                      {
                        "bin_start": 90.56317876344067,
                        "bin_end": 93.57367473118259,
                        "count": 1
                      },
                      {
                        "bin_start": 93.57367473118259,
                        "bin_end": 96.58417069892452,
                        "count": 0
                      },
                      {
                        "bin_start": 96.58417069892452,
                        "bin_end": 99.59466666666644,
                        "count": 0
                      },
                      {
                        "bin_start": 99.59466666666644,
                        "bin_end": 102.60516263440836,
                        "count": 1
                      },
                      {
                        "bin_start": 102.60516263440836,
                        "bin_end": 105.61565860215028,
                        "count": 1
                      }
                    ]
                  }
                },
                {
                  "name": "k_12",
                  "dtype": "int64",
                  "stats": {
                    "unique_count": 5,
                    "nan_count": 0,
                    "min": "421",
                    "max": "563",
                    "histogram": [
                      {
                        "bin_start": 421,
                        "bin_end": 435.2,
                        "count": 2
                      },
                      {
                        "bin_start": 435.2,
                        "bin_end": 449.4,
                        "count": 0
                      },
                      {
                        "bin_start": 449.4,
                        "bin_end": 463.6,
                        "count": 2
                      },
                      {
                        "bin_start": 463.6,
                        "bin_end": 477.8,
                        "count": 0
                      },
                      {
                        "bin_start": 477.8,
                        "bin_end": 492,
                        "count": 0
                      },
                      {
                        "bin_start": 492,
                        "bin_end": 506.2,
                        "count": 0
                      },
                      {
                        "bin_start": 506.2,
                        "bin_end": 520.4,
                        "count": 0
                      },
                      {
                        "bin_start": 520.4,
                        "bin_end": 534.6,
                        "count": 0
                      },
                      {
                        "bin_start": 534.6,
                        "bin_end": 548.8,
                        "count": 0
                      },
                      {
                        "bin_start": 548.8,
                        "bin_end": 563,
                        "count": 1
                      }
                    ]
                  }
                },
                {
                  "name": "k_11",
                  "dtype": "int64",
                  "stats": {
                    "unique_count": 5,
                    "nan_count": 0,
                    "min": "421",
                    "max": "460",
                    "histogram": [
                      {
                        "bin_start": 421,
                        "bin_end": 424.9,
                        "count": 1
                      },
                      {
                        "bin_start": 424.9,
                        "bin_end": 428.8,
                        "count": 1
                      },
                      {
                        "bin_start": 428.8,
                        "bin_end": 432.7,
                        "count": 0
                      },
                      {
                        "bin_start": 432.7,
                        "bin_end": 436.6,
                        "count": 1
                      },
                      {
                        "bin_start": 436.6,
                        "bin_end": 440.5,
                        "count": 0
                      },
                      {
                        "bin_start": 440.5,
                        "bin_end": 444.4,
                        "count": 0
                      },
                      {
                        "bin_start": 444.4,
                        "bin_end": 448.3,
                        "count": 0
                      },
                      {
                        "bin_start": 448.3,
                        "bin_end": 452.2,
                        "count": 0
                      },
                      {
                        "bin_start": 452.2,
                        "bin_end": 456.1,
                        "count": 0
                      },
                      {
                        "bin_start": 456.1,
                        "bin_end": 460,
                        "count": 2
                      }
                    ]
                  }
                },
                {
                  "name": "k_10",
                  "dtype": "int64",
                  "stats": {
                    "unique_count": 5,
                    "nan_count": 0,
                    "min": "421",
                    "max": "460",
                    "histogram": [
                      {
                        "bin_start": 421,
                        "bin_end": 424.9,
                        "count": 1
                      },
                      {
                        "bin_start": 424.9,
                        "bin_end": 428.8,
                        "count": 1
                      },
                      {
                        "bin_start": 428.8,
                        "bin_end": 432.7,
                        "count": 0
                      },
                      {
                        "bin_start": 432.7,
                        "bin_end": 436.6,
                        "count": 1
                      },
                      {
                        "bin_start": 436.6,
                        "bin_end": 440.5,
                        "count": 1
                      },
                      {
                        "bin_start": 440.5,
                        "bin_end": 444.4,
                        "count": 0
                      },
                      {
                        "bin_start": 444.4,
                        "bin_end": 448.3,
                        "count": 0
                      },
                      {
                        "bin_start": 448.3,
                        "bin_end": 452.2,
                        "count": 0
                      },
                      {
                        "bin_start": 452.2,
                        "bin_end": 456.1,
                        "count": 0
                      },
                      {
                        "bin_start": 456.1,
                        "bin_end": 460,
                        "count": 1
                      }
                    ]
                  }
                },
                {
                  "name": "k_9",
                  "dtype": "int64",
                  "stats": {
                    "unique_count": 5,
                    "nan_count": 0,
                    "min": "421",
                    "max": "439",
                    "histogram": [
                      {
                        "bin_start": 421,
                        "bin_end": 422.8,
                        "count": 1
                      },
                      {
                        "bin_start": 422.8,
                        "bin_end": 424.6,
                        "count": 0
                      },
                      {
                        "bin_start": 424.6,
                        "bin_end": 426.4,
                        "count": 1
                      },
                      {
                        "bin_start": 426.4,
                        "bin_end": 428.2,
                        "count": 0
                      },
                      {
                        "bin_start": 428.2,
                        "bin_end": 430,
                        "count": 0
                      },
                      {
                        "bin_start": 430,
                        "bin_end": 431.8,
                        "count": 0
                      },
                      {
                        "bin_start": 431.8,
                        "bin_end": 433.6,
                        "count": 0
                      },
                      {
                        "bin_start": 433.6,
                        "bin_end": 435.4,
                        "count": 0
                      },
                      {
                        "bin_start": 435.4,
                        "bin_end": 437.2,
                        "count": 2
                      },
                      {
                        "bin_start": 437.2,
                        "bin_end": 439,
                        "count": 1
                      }
                    ]
                  }
                },
                {
                  "name": "k_8",
                  "dtype": "int64",
                  "stats": {
                    "unique_count": 5,
                    "nan_count": 0,
                    "min": "426",
                    "max": "439",
                    "histogram": [
                      {
                        "bin_start": 426,
                        "bin_end": 427.3,
                        "count": 1
                      },
                      {
                        "bin_start": 427.3,
                        "bin_end": 428.6,
                        "count": 1
                      },
                      {
                        "bin_start": 428.6,
                        "bin_end": 429.9,
                        "count": 0
                      },
                      {
                        "bin_start": 429.9,
                        "bin_end": 431.2,
                        "count": 0
                      },
                      {
                        "bin_start": 431.2,
                        "bin_end": 432.5,
                        "count": 0
                      },
                      {
                        "bin_start": 432.5,
                        "bin_end": 433.8,
                        "count": 0
                      },
                      {
                        "bin_start": 433.8,
                        "bin_end": 435.1,
                        "count": 0
                      },
                      {
                        "bin_start": 435.1,
                        "bin_end": 436.4,
                        "count": 1
                      },
                      {
                        "bin_start": 436.4,
                        "bin_end": 437.7,
                        "count": 1
                      },
                      {
                        "bin_start": 437.7,
                        "bin_end": 439,
                        "count": 1
                      }
                    ]
                  }
                },
                {
                  "name": "k_7",
                  "dtype": "int64",
                  "stats": {
                    "unique_count": 5,
                    "nan_count": 0,
                    "min": "428",
                    "max": "439",
                    "histogram": [
                      {
                        "bin_start": 428,
                        "bin_end": 429.1,
                        "count": 1
                      },
                      {
                        "bin_start": 429.1,
                        "bin_end": 430.2,
                        "count": 0
                      },
                      {
                        "bin_start": 430.2,
                        "bin_end": 431.3,
                        "count": 0
                      },
                      {
                        "bin_start": 431.3,
                        "bin_end": 432.4,
                        "count": 1
                      },
                      {
                        "bin_start": 432.4,
                        "bin_end": 433.5,
                        "count": 0
                      },
                      {
                        "bin_start": 433.5,
                        "bin_end": 434.6,
                        "count": 0
                      },
                      {
                        "bin_start": 434.6,
                        "bin_end": 435.7,
                        "count": 0
                      },
                      {
                        "bin_start": 435.7,
                        "bin_end": 436.8,
                        "count": 1
                      },
                      {
                        "bin_start": 436.8,
                        "bin_end": 437.9,
                        "count": 1
                      },
                      {
                        "bin_start": 437.9,
                        "bin_end": 439,
                        "count": 1
                      }
                    ]
                  }
                },
                {
                  "name": "k_6",
                  "dtype": "int64",
                  "stats": {
                    "unique_count": 5,
                    "nan_count": 0,
                    "min": "428",
                    "max": "462",
                    "histogram": [
                      {
                        "bin_start": 428,
                        "bin_end": 431.4,
                        "count": 1
                      },
                      {
                        "bin_start": 431.4,
                        "bin_end": 434.8,
                        "count": 1
                      },
                      {
                        "bin_start": 434.8,
                        "bin_end": 438.2,
                        "count": 1
                      },
                      {
                        "bin_start": 438.2,
                        "bin_end": 441.6,
                        "count": 1
                      },
                      {
                        "bin_start": 441.6,
                        "bin_end": 445,
                        "count": 0
                      },
                      {
                        "bin_start": 445,
                        "bin_end": 448.4,
                        "count": 0
                      },
                      {
                        "bin_start": 448.4,
                        "bin_end": 451.8,
                        "count": 0
                      },
                      {
                        "bin_start": 451.8,
                        "bin_end": 455.2,
                        "count": 0
                      },
                      {
                        "bin_start": 455.2,
                        "bin_end": 458.6,
                        "count": 0
                      },
                      {
                        "bin_start": 458.6,
                        "bin_end": 462,
                        "count": 1
                      }
                    ]
                  }
                },
                {
                  "name": "k_5",
                  "dtype": "int64",
                  "stats": {
                    "unique_count": 5,
                    "nan_count": 0,
                    "min": "428",
                    "max": "572",
                    "histogram": [
                      {
                        "bin_start": 428,
                        "bin_end": 442.4,
                        "count": 3
                      },
                      {
                        "bin_start": 442.4,
                        "bin_end": 456.8,
                        "count": 0
                      },
                      {
                        "bin_start": 456.8,
                        "bin_end": 471.2,
                        "count": 1
                      },
                      {
                        "bin_start": 471.2,
                        "bin_end": 485.6,
                        "count": 0
                      },
                      {
                        "bin_start": 485.6,
                        "bin_end": 500,
                        "count": 0
                      },
                      {
                        "bin_start": 500,
                        "bin_end": 514.4,
                        "count": 0
                      },
                      {
                        "bin_start": 514.4,
                        "bin_end": 528.8,
                        "count": 0
                      },
                      {
                        "bin_start": 528.8,
                        "bin_end": 543.2,
                        "count": 0
                      },
                      {
                        "bin_start": 543.2,
                        "bin_end": 557.6,
                        "count": 0
                      },
                      {
                        "bin_start": 557.6,
                        "bin_end": 572,
                        "count": 1
                      }
                    ]
                  }
                },
                {
                  "name": "k_4",
                  "dtype": "int64",
                  "stats": {
                    "unique_count": 5,
                    "nan_count": 0,
                    "min": "428",
                    "max": "572",
                    "histogram": [
                      {
                        "bin_start": 428,
                        "bin_end": 442.4,
                        "count": 2
                      },
                      {
                        "bin_start": 442.4,
                        "bin_end": 456.8,
                        "count": 0
                      },
                      {
                        "bin_start": 456.8,
                        "bin_end": 471.2,
                        "count": 1
                      },
                      {
                        "bin_start": 471.2,
                        "bin_end": 485.6,
                        "count": 0
                      },
                      {
                        "bin_start": 485.6,
                        "bin_end": 500,
                        "count": 1
                      },
                      {
                        "bin_start": 500,
                        "bin_end": 514.4,
                        "count": 0
                      },
                      {
                        "bin_start": 514.4,
                        "bin_end": 528.8,
                        "count": 0
                      },
                      {
                        "bin_start": 528.8,
                        "bin_end": 543.2,
                        "count": 0
                      },
                      {
                        "bin_start": 543.2,
                        "bin_end": 557.6,
                        "count": 0
                      },
                      {
                        "bin_start": 557.6,
                        "bin_end": 572,
                        "count": 1
                      }
                    ]
                  }
                },
                {
                  "name": "k_3",
                  "dtype": "int64",
                  "stats": {
                    "unique_count": 5,
                    "nan_count": 0,
                    "min": "431",
                    "max": "572",
                    "histogram": [
                      {
                        "bin_start": 431,
                        "bin_end": 445.1,
                        "count": 2
                      },
                      {
                        "bin_start": 445.1,
                        "bin_end": 459.2,
                        "count": 0
                      },
                      {
                        "bin_start": 459.2,
                        "bin_end": 473.3,
                        "count": 1
                      },
                      {
                        "bin_start": 473.3,
                        "bin_end": 487.4,
                        "count": 0
                      },
                      {
                        "bin_start": 487.4,
                        "bin_end": 501.5,
                        "count": 1
                      },
                      {
                        "bin_start": 501.5,
                        "bin_end": 515.6,
                        "count": 0
                      },
                      {
                        "bin_start": 515.6,
                        "bin_end": 529.7,
                        "count": 0
                      },
                      {
                        "bin_start": 529.7,
                        "bin_end": 543.8,
                        "count": 0
                      },
                      {
                        "bin_start": 543.8,
                        "bin_end": 557.9,
                        "count": 0
                      },
                      {
                        "bin_start": 557.9,
                        "bin_end": 572,
                        "count": 1
                      }
                    ]
                  }
                },
                {
                  "name": "k_2",
                  "dtype": "int64",
                  "stats": {
                    "unique_count": 5,
                    "nan_count": 0,
                    "min": "431",
                    "max": "572",
                    "histogram": [
                      {
                        "bin_start": 431,
                        "bin_end": 445.1,
                        "count": 2
                      },
                      {
                        "bin_start": 445.1,
                        "bin_end": 459.2,
                        "count": 0
                      },
                      {
                        "bin_start": 459.2,
                        "bin_end": 473.3,
                        "count": 1
                      },
                      {
                        "bin_start": 473.3,
                        "bin_end": 487.4,
                        "count": 0
                      },
                      {
                        "bin_start": 487.4,
                        "bin_end": 501.5,
                        "count": 1
                      },
                      {
                        "bin_start": 501.5,
                        "bin_end": 515.6,
                        "count": 0
                      },
                      {
                        "bin_start": 515.6,
                        "bin_end": 529.7,
                        "count": 0
                      },
                      {
                        "bin_start": 529.7,
                        "bin_end": 543.8,
                        "count": 0
                      },
                      {
                        "bin_start": 543.8,
                        "bin_end": 557.9,
                        "count": 0
                      },
                      {
                        "bin_start": 557.9,
                        "bin_end": 572,
                        "count": 1
                      }
                    ]
                  }
                },
                {
                  "name": "k_1",
                  "dtype": "int64",
                  "stats": {
                    "unique_count": 5,
                    "nan_count": 0,
                    "min": "407",
                    "max": "572",
                    "histogram": [
                      {
                        "bin_start": 407,
                        "bin_end": 423.5,
                        "count": 1
                      },
                      {
                        "bin_start": 423.5,
                        "bin_end": 440,
                        "count": 2
                      },
                      {
                        "bin_start": 440,
                        "bin_end": 456.5,
                        "count": 0
                      },
                      {
                        "bin_start": 456.5,
                        "bin_end": 473,
                        "count": 0
                      },
                      {
                        "bin_start": 473,
                        "bin_end": 489.5,
                        "count": 0
                      },
                      {
                        "bin_start": 489.5,
                        "bin_end": 506,
                        "count": 1
                      },
                      {
                        "bin_start": 506,
                        "bin_end": 522.5,
                        "count": 0
                      },
                      {
                        "bin_start": 522.5,
                        "bin_end": 539,
                        "count": 0
                      },
                      {
                        "bin_start": 539,
                        "bin_end": 555.5,
                        "count": 0
                      },
                      {
                        "bin_start": 555.5,
                        "bin_end": 572,
                        "count": 1
                      }
                    ]
                  }
                },
                {
                  "name": "_deepnote_index_column",
                  "dtype": "int64"
                }
              ],
              "rows_top": [
                {
                  "index": 118,
                  "MONTH": 1,
                  "YEAR": 2014,
                  "zip": 94564,
                  "GHI_raw": "116.11290322580645",
                  "DHI_raw": "31.026881720430108",
                  "DNI_raw": "218.20698924731184",
                  "Wind Speed": "1.7182795698924735",
                  "Temperature_raw": 10.813172043010752,
                  "Solar_Zenith_Angle_raw": 105.61565860215028,
                  "k_12": 563,
                  "k_11": 459,
                  "k_10": 460,
                  "k_9": 421,
                  "k_8": 426,
                  "k_7": 436,
                  "k_6": 437,
                  "k_5": 439,
                  "k_4": 428,
                  "k_3": 432,
                  "k_2": 462,
                  "k_1": 572,
                  "_deepnote_index_column": 0
                },
                {
                  "index": 119,
                  "MONTH": 2,
                  "YEAR": 2014,
                  "zip": 94564,
                  "GHI_raw": "125.19047619047619",
                  "DHI_raw": "49.552083333333336",
                  "DNI_raw": "158.35565476190476",
                  "Wind Speed": "2.0611607142857156",
                  "Temperature_raw": 10.925595238095235,
                  "Solar_Zenith_Angle_raw": 99.64017857142856,
                  "k_12": 459,
                  "k_11": 460,
                  "k_10": 421,
                  "k_9": 426,
                  "k_8": 436,
                  "k_7": 437,
                  "k_6": 439,
                  "k_5": 428,
                  "k_4": 432,
                  "k_3": 462,
                  "k_2": 572,
                  "k_1": 492,
                  "_deepnote_index_column": 1
                },
                {
                  "index": 120,
                  "MONTH": 3,
                  "YEAR": 2014,
                  "zip": 94564,
                  "GHI_raw": "189.59543010752688",
                  "DHI_raw": "59.608870967741936",
                  "DNI_raw": "227.41397849462365",
                  "Wind Speed": "2.112903225806453",
                  "Temperature_raw": 12.83736559139785,
                  "Solar_Zenith_Angle_raw": 91.18322580645167,
                  "k_12": 460,
                  "k_11": 421,
                  "k_10": 426,
                  "k_9": 436,
                  "k_8": 437,
                  "k_7": 439,
                  "k_6": 428,
                  "k_5": 432,
                  "k_4": 462,
                  "k_3": 572,
                  "k_2": 492,
                  "k_1": 431,
                  "_deepnote_index_column": 2
                },
                {
                  "index": 124,
                  "MONTH": 4,
                  "YEAR": 2014,
                  "zip": 94564,
                  "GHI_raw": "265.2611111111111",
                  "DHI_raw": "71.5",
                  "DNI_raw": "294.6666666666667",
                  "Wind Speed": "2.219722222222223",
                  "Temperature_raw": 13.569444444444445,
                  "Solar_Zenith_Angle_raw": 82.28247222222221,
                  "k_12": 421,
                  "k_11": 426,
                  "k_10": 436,
                  "k_9": 437,
                  "k_8": 439,
                  "k_7": 428,
                  "k_6": 432,
                  "k_5": 462,
                  "k_4": 572,
                  "k_3": 492,
                  "k_2": 431,
                  "k_1": 434,
                  "_deepnote_index_column": 3
                },
                {
                  "index": 125,
                  "MONTH": 5,
                  "YEAR": 2014,
                  "zip": 94564,
                  "GHI_raw": "325.43951612903226",
                  "DHI_raw": "74.29032258064517",
                  "DNI_raw": "363.5766129032258",
                  "Wind Speed": "2.526478494623656",
                  "Temperature_raw": 16.032258064516128,
                  "Solar_Zenith_Angle_raw": 75.51069892473109,
                  "k_12": 426,
                  "k_11": 436,
                  "k_10": 437,
                  "k_9": 439,
                  "k_8": 428,
                  "k_7": 432,
                  "k_6": 462,
                  "k_5": 572,
                  "k_4": 492,
                  "k_3": 431,
                  "k_2": 434,
                  "k_1": 407,
                  "_deepnote_index_column": 4
                }
              ],
              "rows_bottom": null
            },
            "text/plain": "   index  MONTH  YEAR    zip             GHI_raw             DHI_raw  \\\n0    118      1  2014  94564  116.11290322580645  31.026881720430108   \n1    119      2  2014  94564  125.19047619047619  49.552083333333336   \n2    120      3  2014  94564  189.59543010752688  59.608870967741936   \n3    124      4  2014  94564   265.2611111111111                71.5   \n4    125      5  2014  94564  325.43951612903226   74.29032258064517   \n\n              DNI_raw          Wind Speed  Temperature_raw  \\\n0  218.20698924731184  1.7182795698924735        10.813172   \n1  158.35565476190476  2.0611607142857156        10.925595   \n2  227.41397849462365   2.112903225806453        12.837366   \n3   294.6666666666667   2.219722222222223        13.569444   \n4   363.5766129032258   2.526478494623656        16.032258   \n\n   Solar_Zenith_Angle_raw  ...  k_10  k_9  k_8  k_7  k_6  k_5  k_4  k_3  k_2  \\\n0              105.615659  ...   460  421  426  436  437  439  428  432  462   \n1               99.640179  ...   421  426  436  437  439  428  432  462  572   \n2               91.183226  ...   426  436  437  439  428  432  462  572  492   \n3               82.282472  ...   436  437  439  428  432  462  572  492  431   \n4               75.510699  ...   437  439  428  432  462  572  492  431  434   \n\n   k_1  \n0  572  \n1  492  \n2  431  \n3  434  \n4  407  \n\n[5 rows x 22 columns]",
            "text/html": "<div>\n<style scoped>\n    .dataframe tbody tr th:only-of-type {\n        vertical-align: middle;\n    }\n\n    .dataframe tbody tr th {\n        vertical-align: top;\n    }\n\n    .dataframe thead th {\n        text-align: right;\n    }\n</style>\n<table border=\"1\" class=\"dataframe\">\n  <thead>\n    <tr style=\"text-align: right;\">\n      <th></th>\n      <th>index</th>\n      <th>MONTH</th>\n      <th>YEAR</th>\n      <th>zip</th>\n      <th>GHI_raw</th>\n      <th>DHI_raw</th>\n      <th>DNI_raw</th>\n      <th>Wind Speed</th>\n      <th>Temperature_raw</th>\n      <th>Solar_Zenith_Angle_raw</th>\n      <th>...</th>\n      <th>k_10</th>\n      <th>k_9</th>\n      <th>k_8</th>\n      <th>k_7</th>\n      <th>k_6</th>\n      <th>k_5</th>\n      <th>k_4</th>\n      <th>k_3</th>\n      <th>k_2</th>\n      <th>k_1</th>\n    </tr>\n  </thead>\n  <tbody>\n    <tr>\n      <th>0</th>\n      <td>118</td>\n      <td>1</td>\n      <td>2014</td>\n      <td>94564</td>\n      <td>116.11290322580645</td>\n      <td>31.026881720430108</td>\n      <td>218.20698924731184</td>\n      <td>1.7182795698924735</td>\n      <td>10.813172</td>\n      <td>105.615659</td>\n      <td>...</td>\n      <td>460</td>\n      <td>421</td>\n      <td>426</td>\n      <td>436</td>\n      <td>437</td>\n      <td>439</td>\n      <td>428</td>\n      <td>432</td>\n      <td>462</td>\n      <td>572</td>\n    </tr>\n    <tr>\n      <th>1</th>\n      <td>119</td>\n      <td>2</td>\n      <td>2014</td>\n      <td>94564</td>\n      <td>125.19047619047619</td>\n      <td>49.552083333333336</td>\n      <td>158.35565476190476</td>\n      <td>2.0611607142857156</td>\n      <td>10.925595</td>\n      <td>99.640179</td>\n      <td>...</td>\n      <td>421</td>\n      <td>426</td>\n      <td>436</td>\n      <td>437</td>\n      <td>439</td>\n      <td>428</td>\n      <td>432</td>\n      <td>462</td>\n      <td>572</td>\n      <td>492</td>\n    </tr>\n    <tr>\n      <th>2</th>\n      <td>120</td>\n      <td>3</td>\n      <td>2014</td>\n      <td>94564</td>\n      <td>189.59543010752688</td>\n      <td>59.608870967741936</td>\n      <td>227.41397849462365</td>\n      <td>2.112903225806453</td>\n      <td>12.837366</td>\n      <td>91.183226</td>\n      <td>...</td>\n      <td>426</td>\n      <td>436</td>\n      <td>437</td>\n      <td>439</td>\n      <td>428</td>\n      <td>432</td>\n      <td>462</td>\n      <td>572</td>\n      <td>492</td>\n      <td>431</td>\n    </tr>\n    <tr>\n      <th>3</th>\n      <td>124</td>\n      <td>4</td>\n      <td>2014</td>\n      <td>94564</td>\n      <td>265.2611111111111</td>\n      <td>71.5</td>\n      <td>294.6666666666667</td>\n      <td>2.219722222222223</td>\n      <td>13.569444</td>\n      <td>82.282472</td>\n      <td>...</td>\n      <td>436</td>\n      <td>437</td>\n      <td>439</td>\n      <td>428</td>\n      <td>432</td>\n      <td>462</td>\n      <td>572</td>\n      <td>492</td>\n      <td>431</td>\n      <td>434</td>\n    </tr>\n    <tr>\n      <th>4</th>\n      <td>125</td>\n      <td>5</td>\n      <td>2014</td>\n      <td>94564</td>\n      <td>325.43951612903226</td>\n      <td>74.29032258064517</td>\n      <td>363.5766129032258</td>\n      <td>2.526478494623656</td>\n      <td>16.032258</td>\n      <td>75.510699</td>\n      <td>...</td>\n      <td>437</td>\n      <td>439</td>\n      <td>428</td>\n      <td>432</td>\n      <td>462</td>\n      <td>572</td>\n      <td>492</td>\n      <td>431</td>\n      <td>434</td>\n      <td>407</td>\n    </tr>\n  </tbody>\n</table>\n<p>5 rows × 22 columns</p>\n</div>"
          },
          "metadata": {}
        }
      ]
    },
    {
      "cell_type": "code",
      "metadata": {
        "tags": [],
        "cell_id": "00032-3628b01d-27d5-4ca8-a26a-eefd81099046",
        "deepnote_to_be_reexecuted": false,
        "source_hash": "f0e3b5e0",
        "execution_millis": 1,
        "execution_start": 1618697439743,
        "deepnote_cell_type": "code"
      },
      "source": "elec_X_train_2 = elec_X_train_2.set_index('index')",
      "execution_count": null,
      "outputs": []
    },
    {
      "cell_type": "code",
      "metadata": {
        "tags": [],
        "cell_id": "00033-5007c05b-9f50-4b04-b51d-ab018be2c7fd",
        "deepnote_to_be_reexecuted": false,
        "source_hash": "52619459",
        "execution_millis": 106,
        "execution_start": 1618697441959,
        "deepnote_cell_type": "code"
      },
      "source": "elec_X_train_2[30600:]",
      "execution_count": null,
      "outputs": [
        {
          "output_type": "execute_result",
          "execution_count": 183,
          "data": {
            "application/vnd.deepnote.dataframe.v2+json": {
              "row_count": 54,
              "column_count": 21,
              "columns": [
                {
                  "name": "MONTH",
                  "dtype": "int64",
                  "stats": {
                    "unique_count": 12,
                    "nan_count": 0,
                    "min": "1",
                    "max": "12",
                    "histogram": [
                      {
                        "bin_start": 1,
                        "bin_end": 2.1,
                        "count": 8
                      },
                      {
                        "bin_start": 2.1,
                        "bin_end": 3.2,
                        "count": 4
                      },
                      {
                        "bin_start": 3.2,
                        "bin_end": 4.300000000000001,
                        "count": 4
                      },
                      {
                        "bin_start": 4.300000000000001,
                        "bin_end": 5.4,
                        "count": 4
                      },
                      {
                        "bin_start": 5.4,
                        "bin_end": 6.5,
                        "count": 4
                      },
                      {
                        "bin_start": 6.5,
                        "bin_end": 7.6000000000000005,
                        "count": 4
                      },
                      {
                        "bin_start": 7.6000000000000005,
                        "bin_end": 8.700000000000001,
                        "count": 5
                      },
                      {
                        "bin_start": 8.700000000000001,
                        "bin_end": 9.8,
                        "count": 6
                      },
                      {
                        "bin_start": 9.8,
                        "bin_end": 10.9,
                        "count": 5
                      },
                      {
                        "bin_start": 10.9,
                        "bin_end": 12,
                        "count": 10
                      }
                    ]
                  }
                },
                {
                  "name": "YEAR",
                  "dtype": "int64",
                  "stats": {
                    "unique_count": 5,
                    "nan_count": 0,
                    "min": "2015",
                    "max": "2019",
                    "histogram": [
                      {
                        "bin_start": 2015,
                        "bin_end": 2015.4,
                        "count": 5
                      },
                      {
                        "bin_start": 2015.4,
                        "bin_end": 2015.8,
                        "count": 0
                      },
                      {
                        "bin_start": 2015.8,
                        "bin_end": 2016.2,
                        "count": 12
                      },
                      {
                        "bin_start": 2016.2,
                        "bin_end": 2016.6,
                        "count": 0
                      },
                      {
                        "bin_start": 2016.6,
                        "bin_end": 2017,
                        "count": 0
                      },
                      {
                        "bin_start": 2017,
                        "bin_end": 2017.4,
                        "count": 13
                      },
                      {
                        "bin_start": 2017.4,
                        "bin_end": 2017.8,
                        "count": 0
                      },
                      {
                        "bin_start": 2017.8,
                        "bin_end": 2018.2,
                        "count": 12
                      },
                      {
                        "bin_start": 2018.2,
                        "bin_end": 2018.6,
                        "count": 0
                      },
                      {
                        "bin_start": 2018.6,
                        "bin_end": 2019,
                        "count": 12
                      }
                    ]
                  }
                },
                {
                  "name": "zip",
                  "dtype": "int64",
                  "stats": {
                    "unique_count": 1,
                    "nan_count": 0,
                    "min": "95391",
                    "max": "95391",
                    "histogram": [
                      {
                        "bin_start": 95390.5,
                        "bin_end": 95390.6,
                        "count": 0
                      },
                      {
                        "bin_start": 95390.6,
                        "bin_end": 95390.7,
                        "count": 0
                      },
                      {
                        "bin_start": 95390.7,
                        "bin_end": 95390.8,
                        "count": 0
                      },
                      {
                        "bin_start": 95390.8,
                        "bin_end": 95390.9,
                        "count": 0
                      },
                      {
                        "bin_start": 95390.9,
                        "bin_end": 95391,
                        "count": 0
                      },
                      {
                        "bin_start": 95391,
                        "bin_end": 95391.1,
                        "count": 54
                      },
                      {
                        "bin_start": 95391.1,
                        "bin_end": 95391.2,
                        "count": 0
                      },
                      {
                        "bin_start": 95391.2,
                        "bin_end": 95391.3,
                        "count": 0
                      },
                      {
                        "bin_start": 95391.3,
                        "bin_end": 95391.4,
                        "count": 0
                      },
                      {
                        "bin_start": 95391.4,
                        "bin_end": 95391.5,
                        "count": 0
                      }
                    ]
                  }
                },
                {
                  "name": "GHI_raw",
                  "dtype": "object",
                  "stats": {
                    "unique_count": 53,
                    "nan_count": 0,
                    "categories": [
                      {
                        "name": "230.23611111111111",
                        "count": 2
                      },
                      {
                        "name": "300.76747311827955",
                        "count": 1
                      },
                      {
                        "name": "51 others",
                        "count": 51
                      }
                    ]
                  }
                },
                {
                  "name": "DHI_raw",
                  "dtype": "object",
                  "stats": {
                    "unique_count": 53,
                    "nan_count": 0,
                    "categories": [
                      {
                        "name": "72.03888888888889",
                        "count": 2
                      },
                      {
                        "name": "62.73521505376344",
                        "count": 1
                      },
                      {
                        "name": "51 others",
                        "count": 51
                      }
                    ]
                  }
                },
                {
                  "name": "DNI_raw",
                  "dtype": "object",
                  "stats": {
                    "unique_count": 53,
                    "nan_count": 0,
                    "categories": [
                      {
                        "name": "269.1041666666667",
                        "count": 2
                      },
                      {
                        "name": "359.9516129032258",
                        "count": 1
                      },
                      {
                        "name": "51 others",
                        "count": 51
                      }
                    ]
                  }
                },
                {
                  "name": "Wind Speed",
                  "dtype": "object",
                  "stats": {
                    "unique_count": 53,
                    "nan_count": 0,
                    "categories": [
                      {
                        "name": "2.102916666666666",
                        "count": 2
                      },
                      {
                        "name": "2.6944892473118287",
                        "count": 1
                      },
                      {
                        "name": "51 others",
                        "count": 51
                      }
                    ]
                  }
                },
                {
                  "name": "Temperature_raw",
                  "dtype": "float64",
                  "stats": {
                    "unique_count": 53,
                    "nan_count": 0,
                    "min": "7.454301075268817",
                    "max": "24.48158602150537",
                    "histogram": [
                      {
                        "bin_start": 7.454301075268817,
                        "bin_end": 9.157029569892472,
                        "count": 5
                      },
                      {
                        "bin_start": 9.157029569892472,
                        "bin_end": 10.859758064516129,
                        "count": 7
                      },
                      {
                        "bin_start": 10.859758064516129,
                        "bin_end": 12.562486559139785,
                        "count": 6
                      },
                      {
                        "bin_start": 12.562486559139785,
                        "bin_end": 14.26521505376344,
                        "count": 5
                      },
                      {
                        "bin_start": 14.26521505376344,
                        "bin_end": 15.967943548387094,
                        "count": 4
                      },
                      {
                        "bin_start": 15.967943548387094,
                        "bin_end": 17.67067204301075,
                        "count": 4
                      },
                      {
                        "bin_start": 17.67067204301075,
                        "bin_end": 19.373400537634407,
                        "count": 3
                      },
                      {
                        "bin_start": 19.373400537634407,
                        "bin_end": 21.076129032258063,
                        "count": 5
                      },
                      {
                        "bin_start": 21.076129032258063,
                        "bin_end": 22.77885752688172,
                        "count": 9
                      },
                      {
                        "bin_start": 22.77885752688172,
                        "bin_end": 24.48158602150537,
                        "count": 6
                      }
                    ]
                  }
                },
                {
                  "name": "Solar_Zenith_Angle_raw",
                  "dtype": "float64",
                  "stats": {
                    "unique_count": 53,
                    "nan_count": 0,
                    "min": "72.55220833333327",
                    "max": "107.3556586021506",
                    "histogram": [
                      {
                        "bin_start": 72.55220833333327,
                        "bin_end": 76.032553360215,
                        "count": 12
                      },
                      {
                        "bin_start": 76.032553360215,
                        "bin_end": 79.51289838709674,
                        "count": 0
                      },
                      {
                        "bin_start": 79.51289838709674,
                        "bin_end": 82.99324341397846,
                        "count": 9
                      },
                      {
                        "bin_start": 82.99324341397846,
                        "bin_end": 86.4735884408602,
                        "count": 0
                      },
                      {
                        "bin_start": 86.4735884408602,
                        "bin_end": 89.95393346774193,
                        "count": 6
                      },
                      {
                        "bin_start": 89.95393346774193,
                        "bin_end": 93.43427849462367,
                        "count": 4
                      },
                      {
                        "bin_start": 93.43427849462367,
                        "bin_end": 96.9146235215054,
                        "count": 3
                      },
                      {
                        "bin_start": 96.9146235215054,
                        "bin_end": 100.39496854838714,
                        "count": 6
                      },
                      {
                        "bin_start": 100.39496854838714,
                        "bin_end": 103.87531357526886,
                        "count": 0
                      },
                      {
                        "bin_start": 103.87531357526886,
                        "bin_end": 107.3556586021506,
                        "count": 14
                      }
                    ]
                  }
                },
                {
                  "name": "k_12",
                  "dtype": "int64",
                  "stats": {
                    "unique_count": 4,
                    "nan_count": 0,
                    "min": "0",
                    "max": "1424",
                    "histogram": [
                      {
                        "bin_start": 0,
                        "bin_end": 142.4,
                        "count": 51
                      },
                      {
                        "bin_start": 142.4,
                        "bin_end": 284.8,
                        "count": 0
                      },
                      {
                        "bin_start": 284.8,
                        "bin_end": 427.20000000000005,
                        "count": 0
                      },
                      {
                        "bin_start": 427.20000000000005,
                        "bin_end": 569.6,
                        "count": 0
                      },
                      {
                        "bin_start": 569.6,
                        "bin_end": 712,
                        "count": 0
                      },
                      {
                        "bin_start": 712,
                        "bin_end": 854.4000000000001,
                        "count": 0
                      },
                      {
                        "bin_start": 854.4000000000001,
                        "bin_end": 996.8000000000001,
                        "count": 1
                      },
                      {
                        "bin_start": 996.8000000000001,
                        "bin_end": 1139.2,
                        "count": 1
                      },
                      {
                        "bin_start": 1139.2,
                        "bin_end": 1281.6000000000001,
                        "count": 0
                      },
                      {
                        "bin_start": 1281.6000000000001,
                        "bin_end": 1424,
                        "count": 1
                      }
                    ]
                  }
                },
                {
                  "name": "k_11",
                  "dtype": "int64",
                  "stats": {
                    "unique_count": 4,
                    "nan_count": 0,
                    "min": "0",
                    "max": "1424",
                    "histogram": [
                      {
                        "bin_start": 0,
                        "bin_end": 142.4,
                        "count": 51
                      },
                      {
                        "bin_start": 142.4,
                        "bin_end": 284.8,
                        "count": 0
                      },
                      {
                        "bin_start": 284.8,
                        "bin_end": 427.20000000000005,
                        "count": 0
                      },
                      {
                        "bin_start": 427.20000000000005,
                        "bin_end": 569.6,
                        "count": 0
                      },
                      {
                        "bin_start": 569.6,
                        "bin_end": 712,
                        "count": 0
                      },
                      {
                        "bin_start": 712,
                        "bin_end": 854.4000000000001,
                        "count": 0
                      },
                      {
                        "bin_start": 854.4000000000001,
                        "bin_end": 996.8000000000001,
                        "count": 1
                      },
                      {
                        "bin_start": 996.8000000000001,
                        "bin_end": 1139.2,
                        "count": 1
                      },
                      {
                        "bin_start": 1139.2,
                        "bin_end": 1281.6000000000001,
                        "count": 0
                      },
                      {
                        "bin_start": 1281.6000000000001,
                        "bin_end": 1424,
                        "count": 1
                      }
                    ]
                  }
                },
                {
                  "name": "k_10",
                  "dtype": "int64",
                  "stats": {
                    "unique_count": 4,
                    "nan_count": 0,
                    "min": "0",
                    "max": "1424",
                    "histogram": [
                      {
                        "bin_start": 0,
                        "bin_end": 142.4,
                        "count": 51
                      },
                      {
                        "bin_start": 142.4,
                        "bin_end": 284.8,
                        "count": 0
                      },
                      {
                        "bin_start": 284.8,
                        "bin_end": 427.20000000000005,
                        "count": 0
                      },
                      {
                        "bin_start": 427.20000000000005,
                        "bin_end": 569.6,
                        "count": 0
                      },
                      {
                        "bin_start": 569.6,
                        "bin_end": 712,
                        "count": 0
                      },
                      {
                        "bin_start": 712,
                        "bin_end": 854.4000000000001,
                        "count": 0
                      },
                      {
                        "bin_start": 854.4000000000001,
                        "bin_end": 996.8000000000001,
                        "count": 1
                      },
                      {
                        "bin_start": 996.8000000000001,
                        "bin_end": 1139.2,
                        "count": 1
                      },
                      {
                        "bin_start": 1139.2,
                        "bin_end": 1281.6000000000001,
                        "count": 0
                      },
                      {
                        "bin_start": 1281.6000000000001,
                        "bin_end": 1424,
                        "count": 1
                      }
                    ]
                  }
                },
                {
                  "name": "k_9",
                  "dtype": "int64",
                  "stats": {
                    "unique_count": 4,
                    "nan_count": 0,
                    "min": "0",
                    "max": "1424",
                    "histogram": [
                      {
                        "bin_start": 0,
                        "bin_end": 142.4,
                        "count": 51
                      },
                      {
                        "bin_start": 142.4,
                        "bin_end": 284.8,
                        "count": 0
                      },
                      {
                        "bin_start": 284.8,
                        "bin_end": 427.20000000000005,
                        "count": 0
                      },
                      {
                        "bin_start": 427.20000000000005,
                        "bin_end": 569.6,
                        "count": 0
                      },
                      {
                        "bin_start": 569.6,
                        "bin_end": 712,
                        "count": 0
                      },
                      {
                        "bin_start": 712,
                        "bin_end": 854.4000000000001,
                        "count": 0
                      },
                      {
                        "bin_start": 854.4000000000001,
                        "bin_end": 996.8000000000001,
                        "count": 1
                      },
                      {
                        "bin_start": 996.8000000000001,
                        "bin_end": 1139.2,
                        "count": 1
                      },
                      {
                        "bin_start": 1139.2,
                        "bin_end": 1281.6000000000001,
                        "count": 0
                      },
                      {
                        "bin_start": 1281.6000000000001,
                        "bin_end": 1424,
                        "count": 1
                      }
                    ]
                  }
                },
                {
                  "name": "k_8",
                  "dtype": "int64",
                  "stats": {
                    "unique_count": 4,
                    "nan_count": 0,
                    "min": "0",
                    "max": "1424",
                    "histogram": [
                      {
                        "bin_start": 0,
                        "bin_end": 142.4,
                        "count": 51
                      },
                      {
                        "bin_start": 142.4,
                        "bin_end": 284.8,
                        "count": 0
                      },
                      {
                        "bin_start": 284.8,
                        "bin_end": 427.20000000000005,
                        "count": 0
                      },
                      {
                        "bin_start": 427.20000000000005,
                        "bin_end": 569.6,
                        "count": 0
                      },
                      {
                        "bin_start": 569.6,
                        "bin_end": 712,
                        "count": 0
                      },
                      {
                        "bin_start": 712,
                        "bin_end": 854.4000000000001,
                        "count": 0
                      },
                      {
                        "bin_start": 854.4000000000001,
                        "bin_end": 996.8000000000001,
                        "count": 1
                      },
                      {
                        "bin_start": 996.8000000000001,
                        "bin_end": 1139.2,
                        "count": 1
                      },
                      {
                        "bin_start": 1139.2,
                        "bin_end": 1281.6000000000001,
                        "count": 0
                      },
                      {
                        "bin_start": 1281.6000000000001,
                        "bin_end": 1424,
                        "count": 1
                      }
                    ]
                  }
                },
                {
                  "name": "k_7",
                  "dtype": "int64",
                  "stats": {
                    "unique_count": 4,
                    "nan_count": 0,
                    "min": "0",
                    "max": "1424",
                    "histogram": [
                      {
                        "bin_start": 0,
                        "bin_end": 142.4,
                        "count": 51
                      },
                      {
                        "bin_start": 142.4,
                        "bin_end": 284.8,
                        "count": 0
                      },
                      {
                        "bin_start": 284.8,
                        "bin_end": 427.20000000000005,
                        "count": 0
                      },
                      {
                        "bin_start": 427.20000000000005,
                        "bin_end": 569.6,
                        "count": 0
                      },
                      {
                        "bin_start": 569.6,
                        "bin_end": 712,
                        "count": 0
                      },
                      {
                        "bin_start": 712,
                        "bin_end": 854.4000000000001,
                        "count": 0
                      },
                      {
                        "bin_start": 854.4000000000001,
                        "bin_end": 996.8000000000001,
                        "count": 1
                      },
                      {
                        "bin_start": 996.8000000000001,
                        "bin_end": 1139.2,
                        "count": 1
                      },
                      {
                        "bin_start": 1139.2,
                        "bin_end": 1281.6000000000001,
                        "count": 0
                      },
                      {
                        "bin_start": 1281.6000000000001,
                        "bin_end": 1424,
                        "count": 1
                      }
                    ]
                  }
                },
                {
                  "name": "k_6",
                  "dtype": "int64",
                  "stats": {
                    "unique_count": 3,
                    "nan_count": 0,
                    "min": "0",
                    "max": "1068",
                    "histogram": [
                      {
                        "bin_start": 0,
                        "bin_end": 106.8,
                        "count": 52
                      },
                      {
                        "bin_start": 106.8,
                        "bin_end": 213.6,
                        "count": 0
                      },
                      {
                        "bin_start": 213.6,
                        "bin_end": 320.4,
                        "count": 0
                      },
                      {
                        "bin_start": 320.4,
                        "bin_end": 427.2,
                        "count": 0
                      },
                      {
                        "bin_start": 427.2,
                        "bin_end": 534,
                        "count": 0
                      },
                      {
                        "bin_start": 534,
                        "bin_end": 640.8,
                        "count": 0
                      },
                      {
                        "bin_start": 640.8,
                        "bin_end": 747.6,
                        "count": 0
                      },
                      {
                        "bin_start": 747.6,
                        "bin_end": 854.4,
                        "count": 0
                      },
                      {
                        "bin_start": 854.4,
                        "bin_end": 961.1999999999999,
                        "count": 0
                      },
                      {
                        "bin_start": 961.1999999999999,
                        "bin_end": 1068,
                        "count": 2
                      }
                    ]
                  }
                },
                {
                  "name": "k_5",
                  "dtype": "int64",
                  "stats": {
                    "unique_count": 2,
                    "nan_count": 0,
                    "min": "0",
                    "max": "992",
                    "histogram": [
                      {
                        "bin_start": 0,
                        "bin_end": 99.2,
                        "count": 53
                      },
                      {
                        "bin_start": 99.2,
                        "bin_end": 198.4,
                        "count": 0
                      },
                      {
                        "bin_start": 198.4,
                        "bin_end": 297.6,
                        "count": 0
                      },
                      {
                        "bin_start": 297.6,
                        "bin_end": 396.8,
                        "count": 0
                      },
                      {
                        "bin_start": 396.8,
                        "bin_end": 496,
                        "count": 0
                      },
                      {
                        "bin_start": 496,
                        "bin_end": 595.2,
                        "count": 0
                      },
                      {
                        "bin_start": 595.2,
                        "bin_end": 694.4,
                        "count": 0
                      },
                      {
                        "bin_start": 694.4,
                        "bin_end": 793.6,
                        "count": 0
                      },
                      {
                        "bin_start": 793.6,
                        "bin_end": 892.8000000000001,
                        "count": 0
                      },
                      {
                        "bin_start": 892.8000000000001,
                        "bin_end": 992,
                        "count": 1
                      }
                    ]
                  }
                },
                {
                  "name": "k_4",
                  "dtype": "int64",
                  "stats": {
                    "unique_count": 1,
                    "nan_count": 0,
                    "min": "0",
                    "max": "0",
                    "histogram": [
                      {
                        "bin_start": -0.5,
                        "bin_end": -0.4,
                        "count": 0
                      },
                      {
                        "bin_start": -0.4,
                        "bin_end": -0.3,
                        "count": 0
                      },
                      {
                        "bin_start": -0.3,
                        "bin_end": -0.19999999999999996,
                        "count": 0
                      },
                      {
                        "bin_start": -0.19999999999999996,
                        "bin_end": -0.09999999999999998,
                        "count": 0
                      },
                      {
                        "bin_start": -0.09999999999999998,
                        "bin_end": 0,
                        "count": 0
                      },
                      {
                        "bin_start": 0,
                        "bin_end": 0.10000000000000009,
                        "count": 54
                      },
                      {
                        "bin_start": 0.10000000000000009,
                        "bin_end": 0.20000000000000007,
                        "count": 0
                      },
                      {
                        "bin_start": 0.20000000000000007,
                        "bin_end": 0.30000000000000004,
                        "count": 0
                      },
                      {
                        "bin_start": 0.30000000000000004,
                        "bin_end": 0.4,
                        "count": 0
                      },
                      {
                        "bin_start": 0.4,
                        "bin_end": 0.5,
                        "count": 0
                      }
                    ]
                  }
                },
                {
                  "name": "k_3",
                  "dtype": "int64",
                  "stats": {
                    "unique_count": 1,
                    "nan_count": 0,
                    "min": "0",
                    "max": "0",
                    "histogram": [
                      {
                        "bin_start": -0.5,
                        "bin_end": -0.4,
                        "count": 0
                      },
                      {
                        "bin_start": -0.4,
                        "bin_end": -0.3,
                        "count": 0
                      },
                      {
                        "bin_start": -0.3,
                        "bin_end": -0.19999999999999996,
                        "count": 0
                      },
                      {
                        "bin_start": -0.19999999999999996,
                        "bin_end": -0.09999999999999998,
                        "count": 0
                      },
                      {
                        "bin_start": -0.09999999999999998,
                        "bin_end": 0,
                        "count": 0
                      },
                      {
                        "bin_start": 0,
                        "bin_end": 0.10000000000000009,
                        "count": 54
                      },
                      {
                        "bin_start": 0.10000000000000009,
                        "bin_end": 0.20000000000000007,
                        "count": 0
                      },
                      {
                        "bin_start": 0.20000000000000007,
                        "bin_end": 0.30000000000000004,
                        "count": 0
                      },
                      {
                        "bin_start": 0.30000000000000004,
                        "bin_end": 0.4,
                        "count": 0
                      },
                      {
                        "bin_start": 0.4,
                        "bin_end": 0.5,
                        "count": 0
                      }
                    ]
                  }
                },
                {
                  "name": "k_2",
                  "dtype": "int64",
                  "stats": {
                    "unique_count": 1,
                    "nan_count": 0,
                    "min": "0",
                    "max": "0",
                    "histogram": [
                      {
                        "bin_start": -0.5,
                        "bin_end": -0.4,
                        "count": 0
                      },
                      {
                        "bin_start": -0.4,
                        "bin_end": -0.3,
                        "count": 0
                      },
                      {
                        "bin_start": -0.3,
                        "bin_end": -0.19999999999999996,
                        "count": 0
                      },
                      {
                        "bin_start": -0.19999999999999996,
                        "bin_end": -0.09999999999999998,
                        "count": 0
                      },
                      {
                        "bin_start": -0.09999999999999998,
                        "bin_end": 0,
                        "count": 0
                      },
                      {
                        "bin_start": 0,
                        "bin_end": 0.10000000000000009,
                        "count": 54
                      },
                      {
                        "bin_start": 0.10000000000000009,
                        "bin_end": 0.20000000000000007,
                        "count": 0
                      },
                      {
                        "bin_start": 0.20000000000000007,
                        "bin_end": 0.30000000000000004,
                        "count": 0
                      },
                      {
                        "bin_start": 0.30000000000000004,
                        "bin_end": 0.4,
                        "count": 0
                      },
                      {
                        "bin_start": 0.4,
                        "bin_end": 0.5,
                        "count": 0
                      }
                    ]
                  }
                },
                {
                  "name": "k_1",
                  "dtype": "int64",
                  "stats": {
                    "unique_count": 1,
                    "nan_count": 0,
                    "min": "0",
                    "max": "0",
                    "histogram": [
                      {
                        "bin_start": -0.5,
                        "bin_end": -0.4,
                        "count": 0
                      },
                      {
                        "bin_start": -0.4,
                        "bin_end": -0.3,
                        "count": 0
                      },
                      {
                        "bin_start": -0.3,
                        "bin_end": -0.19999999999999996,
                        "count": 0
                      },
                      {
                        "bin_start": -0.19999999999999996,
                        "bin_end": -0.09999999999999998,
                        "count": 0
                      },
                      {
                        "bin_start": -0.09999999999999998,
                        "bin_end": 0,
                        "count": 0
                      },
                      {
                        "bin_start": 0,
                        "bin_end": 0.10000000000000009,
                        "count": 54
                      },
                      {
                        "bin_start": 0.10000000000000009,
                        "bin_end": 0.20000000000000007,
                        "count": 0
                      },
                      {
                        "bin_start": 0.20000000000000007,
                        "bin_end": 0.30000000000000004,
                        "count": 0
                      },
                      {
                        "bin_start": 0.30000000000000004,
                        "bin_end": 0.4,
                        "count": 0
                      },
                      {
                        "bin_start": 0.4,
                        "bin_end": 0.5,
                        "count": 0
                      }
                    ]
                  }
                },
                {
                  "name": "_deepnote_index_column",
                  "dtype": "int64"
                }
              ],
              "rows_top": [
                {
                  "MONTH": 8,
                  "YEAR": 2015,
                  "zip": 95391,
                  "GHI_raw": "300.76747311827955",
                  "DHI_raw": "62.73521505376344",
                  "DNI_raw": "359.9516129032258",
                  "Wind Speed": "2.6944892473118287",
                  "Temperature_raw": 22.975806451612904,
                  "Solar_Zenith_Angle_raw": 79.67716397849453,
                  "k_12": 0,
                  "k_11": 0,
                  "k_10": 0,
                  "k_9": 0,
                  "k_8": 0,
                  "k_7": 1424,
                  "k_6": 1068,
                  "k_5": 992,
                  "k_4": 0,
                  "k_3": 0,
                  "k_2": 0,
                  "k_1": 0,
                  "_deepnote_index_column": 136577
                },
                {
                  "MONTH": 9,
                  "YEAR": 2015,
                  "zip": 95391,
                  "GHI_raw": "235.67361111111111",
                  "DHI_raw": "58.016666666666666",
                  "DNI_raw": "294.96944444444443",
                  "Wind Speed": "2.1337500000000014",
                  "Temperature_raw": 22.102777777777774,
                  "Solar_Zenith_Angle_raw": 87.93713888888888,
                  "k_12": 0,
                  "k_11": 0,
                  "k_10": 0,
                  "k_9": 0,
                  "k_8": 1424,
                  "k_7": 1068,
                  "k_6": 992,
                  "k_5": 0,
                  "k_4": 0,
                  "k_3": 0,
                  "k_2": 0,
                  "k_1": 0,
                  "_deepnote_index_column": 136578
                },
                {
                  "MONTH": 10,
                  "YEAR": 2015,
                  "zip": 95391,
                  "GHI_raw": "180.46908602150538",
                  "DHI_raw": "42.29704301075269",
                  "DNI_raw": "270.60483870967744",
                  "Wind Speed": "1.5983870967741944",
                  "Temperature_raw": 19.80779569892473,
                  "Solar_Zenith_Angle_raw": 96.84055107526864,
                  "k_12": 0,
                  "k_11": 0,
                  "k_10": 0,
                  "k_9": 1424,
                  "k_8": 1068,
                  "k_7": 992,
                  "k_6": 0,
                  "k_5": 0,
                  "k_4": 0,
                  "k_3": 0,
                  "k_2": 0,
                  "k_1": 0,
                  "_deepnote_index_column": 136582
                },
                {
                  "MONTH": 11,
                  "YEAR": 2015,
                  "zip": 95391,
                  "GHI_raw": "125.43055555555556",
                  "DHI_raw": "32.859722222222224",
                  "DNI_raw": "230.17916666666667",
                  "Wind Speed": "1.6159722222222233",
                  "Temperature_raw": 10.547222222222222,
                  "Solar_Zenith_Angle_raw": 104.0318194444445,
                  "k_12": 0,
                  "k_11": 0,
                  "k_10": 1424,
                  "k_9": 1068,
                  "k_8": 992,
                  "k_7": 0,
                  "k_6": 0,
                  "k_5": 0,
                  "k_4": 0,
                  "k_3": 0,
                  "k_2": 0,
                  "k_1": 0,
                  "_deepnote_index_column": 136583
                },
                {
                  "MONTH": 12,
                  "YEAR": 2015,
                  "zip": 95391,
                  "GHI_raw": "92.125",
                  "DHI_raw": "33.54704301075269",
                  "DNI_raw": "159.76478494623655",
                  "Wind Speed": "1.7221774193548374",
                  "Temperature_raw": 8.080645161290322,
                  "Solar_Zenith_Angle_raw": 107.3337500000001,
                  "k_12": 0,
                  "k_11": 1424,
                  "k_10": 1068,
                  "k_9": 992,
                  "k_8": 0,
                  "k_7": 0,
                  "k_6": 0,
                  "k_5": 0,
                  "k_4": 0,
                  "k_3": 0,
                  "k_2": 0,
                  "k_1": 0,
                  "_deepnote_index_column": 136584
                },
                {
                  "MONTH": 1,
                  "YEAR": 2016,
                  "zip": 95391,
                  "GHI_raw": "86.52688172043011",
                  "DHI_raw": "42.475806451612904",
                  "DNI_raw": "113.95833333333333",
                  "Wind Speed": "1.8721774193548388",
                  "Temperature_raw": 9.625,
                  "Solar_Zenith_Angle_raw": 105.63036290322584,
                  "k_12": 1424,
                  "k_11": 1068,
                  "k_10": 992,
                  "k_9": 0,
                  "k_8": 0,
                  "k_7": 0,
                  "k_6": 0,
                  "k_5": 0,
                  "k_4": 0,
                  "k_3": 0,
                  "k_2": 0,
                  "k_1": 0,
                  "_deepnote_index_column": 136588
                },
                {
                  "MONTH": 2,
                  "YEAR": 2016,
                  "zip": 95391,
                  "GHI_raw": "164.20089285714286",
                  "DHI_raw": "42.96577380952381",
                  "DNI_raw": "259.71875",
                  "Wind Speed": "1.5441964285714314",
                  "Temperature_raw": 11.706845238095235,
                  "Solar_Zenith_Angle_raw": 99.7342113095238,
                  "k_12": 1068,
                  "k_11": 992,
                  "k_10": 0,
                  "k_9": 0,
                  "k_8": 0,
                  "k_7": 0,
                  "k_6": 0,
                  "k_5": 0,
                  "k_4": 0,
                  "k_3": 0,
                  "k_2": 0,
                  "k_1": 0,
                  "_deepnote_index_column": 136589
                },
                {
                  "MONTH": 3,
                  "YEAR": 2016,
                  "zip": 95391,
                  "GHI_raw": "193.2715053763441",
                  "DHI_raw": "60.93682795698925",
                  "DNI_raw": "227.78091397849462",
                  "Wind Speed": "2.0505376344086006",
                  "Temperature_raw": 12.227150537634408,
                  "Solar_Zenith_Angle_raw": 91.0240591397848,
                  "k_12": 992,
                  "k_11": 0,
                  "k_10": 0,
                  "k_9": 0,
                  "k_8": 0,
                  "k_7": 0,
                  "k_6": 0,
                  "k_5": 0,
                  "k_4": 0,
                  "k_3": 0,
                  "k_2": 0,
                  "k_1": 0,
                  "_deepnote_index_column": 136590
                },
                {
                  "MONTH": 4,
                  "YEAR": 2016,
                  "zip": 95391,
                  "GHI_raw": "264.99444444444447",
                  "DHI_raw": "73.34305555555555",
                  "DNI_raw": "297.1694444444444",
                  "Wind Speed": "2.1158333333333337",
                  "Temperature_raw": 14.519444444444444,
                  "Solar_Zenith_Angle_raw": 82.16837500000007,
                  "k_12": 0,
                  "k_11": 0,
                  "k_10": 0,
                  "k_9": 0,
                  "k_8": 0,
                  "k_7": 0,
                  "k_6": 0,
                  "k_5": 0,
                  "k_4": 0,
                  "k_3": 0,
                  "k_2": 0,
                  "k_1": 0,
                  "_deepnote_index_column": 136594
                },
                {
                  "MONTH": 5,
                  "YEAR": 2016,
                  "zip": 95391,
                  "GHI_raw": "304.41129032258067",
                  "DHI_raw": "74.22983870967742",
                  "DNI_raw": "336.39381720430106",
                  "Wind Speed": "2.411962365591398",
                  "Temperature_raw": 16.958333333333332,
                  "Solar_Zenith_Angle_raw": 75.47252688172041,
                  "k_12": 0,
                  "k_11": 0,
                  "k_10": 0,
                  "k_9": 0,
                  "k_8": 0,
                  "k_7": 0,
                  "k_6": 0,
                  "k_5": 0,
                  "k_4": 0,
                  "k_3": 0,
                  "k_2": 0,
                  "k_1": 0,
                  "_deepnote_index_column": 136595
                },
                {
                  "MONTH": 6,
                  "YEAR": 2016,
                  "zip": 95391,
                  "GHI_raw": "353.2875",
                  "DHI_raw": "63.918055555555554",
                  "DNI_raw": "421.0236111111111",
                  "Wind Speed": "2.848194444444443",
                  "Temperature_raw": 21.02777777777778,
                  "Solar_Zenith_Angle_raw": 72.56355555555558,
                  "k_12": 0,
                  "k_11": 0,
                  "k_10": 0,
                  "k_9": 0,
                  "k_8": 0,
                  "k_7": 0,
                  "k_6": 0,
                  "k_5": 0,
                  "k_4": 0,
                  "k_3": 0,
                  "k_2": 0,
                  "k_1": 0,
                  "_deepnote_index_column": 136596
                },
                {
                  "MONTH": 7,
                  "YEAR": 2016,
                  "zip": 95391,
                  "GHI_raw": "353.1962365591398",
                  "DHI_raw": "51.979838709677416",
                  "DNI_raw": "444.3454301075269",
                  "Wind Speed": "3.042607526881721",
                  "Temperature_raw": 22.47983870967742,
                  "Solar_Zenith_Angle_raw": 74.13388440860221,
                  "k_12": 0,
                  "k_11": 0,
                  "k_10": 0,
                  "k_9": 0,
                  "k_8": 0,
                  "k_7": 0,
                  "k_6": 0,
                  "k_5": 0,
                  "k_4": 0,
                  "k_3": 0,
                  "k_2": 0,
                  "k_1": 0,
                  "_deepnote_index_column": 136600
                },
                {
                  "MONTH": 8,
                  "YEAR": 2016,
                  "zip": 95391,
                  "GHI_raw": "311.5860215053763",
                  "DHI_raw": "59.02150537634409",
                  "DNI_raw": "383.73924731182797",
                  "Wind Speed": "2.783198924731182",
                  "Temperature_raw": 21.626344086021504,
                  "Solar_Zenith_Angle_raw": 79.85725806451619,
                  "k_12": 0,
                  "k_11": 0,
                  "k_10": 0,
                  "k_9": 0,
                  "k_8": 0,
                  "k_7": 0,
                  "k_6": 0,
                  "k_5": 0,
                  "k_4": 0,
                  "k_3": 0,
                  "k_2": 0,
                  "k_1": 0,
                  "_deepnote_index_column": 136601
                },
                {
                  "MONTH": 9,
                  "YEAR": 2016,
                  "zip": 95391,
                  "GHI_raw": "250.94305555555556",
                  "DHI_raw": "54.38055555555555",
                  "DNI_raw": "335.81666666666666",
                  "Wind Speed": "2.278472222222222",
                  "Temperature_raw": 20.904166666666665,
                  "Solar_Zenith_Angle_raw": 88.16029166666667,
                  "k_12": 0,
                  "k_11": 0,
                  "k_10": 0,
                  "k_9": 0,
                  "k_8": 0,
                  "k_7": 0,
                  "k_6": 0,
                  "k_5": 0,
                  "k_4": 0,
                  "k_3": 0,
                  "k_2": 0,
                  "k_1": 0,
                  "_deepnote_index_column": 136602
                },
                {
                  "MONTH": 10,
                  "YEAR": 2016,
                  "zip": 95391,
                  "GHI_raw": "157.68279569892474",
                  "DHI_raw": "46.721774193548384",
                  "DNI_raw": "223.92876344086022",
                  "Wind Speed": "1.9084677419354859",
                  "Temperature_raw": 16.962365591397848,
                  "Solar_Zenith_Angle_raw": 97.0496102150538,
                  "k_12": 0,
                  "k_11": 0,
                  "k_10": 0,
                  "k_9": 0,
                  "k_8": 0,
                  "k_7": 0,
                  "k_6": 0,
                  "k_5": 0,
                  "k_4": 0,
                  "k_3": 0,
                  "k_2": 0,
                  "k_1": 0,
                  "_deepnote_index_column": 136606
                },
                {
                  "MONTH": 11,
                  "YEAR": 2016,
                  "zip": 95391,
                  "GHI_raw": "123.56111111111112",
                  "DHI_raw": "36.025",
                  "DNI_raw": "214.2236111111111",
                  "Wind Speed": "1.311944444444444",
                  "Temperature_raw": 12.930555555555555,
                  "Solar_Zenith_Angle_raw": 104.16829166666663,
                  "k_12": 0,
                  "k_11": 0,
                  "k_10": 0,
                  "k_9": 0,
                  "k_8": 0,
                  "k_7": 0,
                  "k_6": 0,
                  "k_5": 0,
                  "k_4": 0,
                  "k_3": 0,
                  "k_2": 0,
                  "k_1": 0,
                  "_deepnote_index_column": 136607
                },
                {
                  "MONTH": 12,
                  "YEAR": 2016,
                  "zip": 95391,
                  "GHI_raw": "96.52150537634408",
                  "DHI_raw": "30.143817204301076",
                  "DNI_raw": "183.39112903225808",
                  "Wind Speed": "1.7381720430107523",
                  "Temperature_raw": 7.565860215053763,
                  "Solar_Zenith_Angle_raw": 107.3556586021506,
                  "k_12": 0,
                  "k_11": 0,
                  "k_10": 0,
                  "k_9": 0,
                  "k_8": 0,
                  "k_7": 0,
                  "k_6": 0,
                  "k_5": 0,
                  "k_4": 0,
                  "k_3": 0,
                  "k_2": 0,
                  "k_1": 0,
                  "_deepnote_index_column": 136608
                },
                {
                  "MONTH": 1,
                  "YEAR": 2017,
                  "zip": 95391,
                  "GHI_raw": "91.47311827956989",
                  "DHI_raw": "34.77284946236559",
                  "DNI_raw": "142.99193548387098",
                  "Wind Speed": "2.272043010752687",
                  "Temperature_raw": 7.454301075268817,
                  "Solar_Zenith_Angle_raw": 105.52552419354834,
                  "k_12": 0,
                  "k_11": 0,
                  "k_10": 0,
                  "k_9": 0,
                  "k_8": 0,
                  "k_7": 0,
                  "k_6": 0,
                  "k_5": 0,
                  "k_4": 0,
                  "k_3": 0,
                  "k_2": 0,
                  "k_1": 0,
                  "_deepnote_index_column": 136612
                },
                {
                  "MONTH": 2,
                  "YEAR": 2017,
                  "zip": 95391,
                  "GHI_raw": "119.29761904761905",
                  "DHI_raw": "45.705357142857146",
                  "DNI_raw": "152.33928571428572",
                  "Wind Speed": "2.3635416666666687",
                  "Temperature_raw": 10.333333333333334,
                  "Solar_Zenith_Angle_raw": 99.5399702380952,
                  "k_12": 0,
                  "k_11": 0,
                  "k_10": 0,
                  "k_9": 0,
                  "k_8": 0,
                  "k_7": 0,
                  "k_6": 0,
                  "k_5": 0,
                  "k_4": 0,
                  "k_3": 0,
                  "k_2": 0,
                  "k_1": 0,
                  "_deepnote_index_column": 136613
                },
                {
                  "MONTH": 3,
                  "YEAR": 2017,
                  "zip": 95391,
                  "GHI_raw": "203.7540322580645",
                  "DHI_raw": "62.259408602150536",
                  "DNI_raw": "253.54032258064515",
                  "Wind Speed": "1.8357526881720427",
                  "Temperature_raw": 12.12231182795699,
                  "Solar_Zenith_Angle_raw": 91.09725806451608,
                  "k_12": 0,
                  "k_11": 0,
                  "k_10": 0,
                  "k_9": 0,
                  "k_8": 0,
                  "k_7": 0,
                  "k_6": 0,
                  "k_5": 0,
                  "k_4": 0,
                  "k_3": 0,
                  "k_2": 0,
                  "k_1": 0,
                  "_deepnote_index_column": 136614
                },
                {
                  "MONTH": 4,
                  "YEAR": 2017,
                  "zip": 95391,
                  "GHI_raw": "244.43194444444444",
                  "DHI_raw": "79.1875",
                  "DNI_raw": "256.8125",
                  "Wind Speed": "2.086666666666668",
                  "Temperature_raw": 13.093055555555557,
                  "Solar_Zenith_Angle_raw": 82.23277777777774,
                  "k_12": 0,
                  "k_11": 0,
                  "k_10": 0,
                  "k_9": 0,
                  "k_8": 0,
                  "k_7": 0,
                  "k_6": 0,
                  "k_5": 0,
                  "k_4": 0,
                  "k_3": 0,
                  "k_2": 0,
                  "k_1": 0,
                  "_deepnote_index_column": 136618
                },
                {
                  "MONTH": 5,
                  "YEAR": 2017,
                  "zip": 95391,
                  "GHI_raw": "323.39650537634407",
                  "DHI_raw": "75.68817204301075",
                  "DNI_raw": "364.77150537634407",
                  "Wind Speed": "2.4538978494623667",
                  "Temperature_raw": 16.47983870967742,
                  "Solar_Zenith_Angle_raw": 75.51249999999992,
                  "k_12": 0,
                  "k_11": 0,
                  "k_10": 0,
                  "k_9": 0,
                  "k_8": 0,
                  "k_7": 0,
                  "k_6": 0,
                  "k_5": 0,
                  "k_4": 0,
                  "k_3": 0,
                  "k_2": 0,
                  "k_1": 0,
                  "_deepnote_index_column": 136619
                },
                {
                  "MONTH": 6,
                  "YEAR": 2017,
                  "zip": 95391,
                  "GHI_raw": "341.8888888888889",
                  "DHI_raw": "71.13055555555556",
                  "DNI_raw": "392.3236111111111",
                  "Wind Speed": "2.907916666666664",
                  "Temperature_raw": 20.322222222222223,
                  "Solar_Zenith_Angle_raw": 72.56922222222225,
                  "k_12": 0,
                  "k_11": 0,
                  "k_10": 0,
                  "k_9": 0,
                  "k_8": 0,
                  "k_7": 0,
                  "k_6": 0,
                  "k_5": 0,
                  "k_4": 0,
                  "k_3": 0,
                  "k_2": 0,
                  "k_1": 0,
                  "_deepnote_index_column": 136620
                }
              ],
              "rows_bottom": [
                {
                  "MONTH": 1,
                  "YEAR": 2018,
                  "zip": 95391,
                  "GHI_raw": "78.24731182795699",
                  "DHI_raw": "36.60752688172043",
                  "DNI_raw": "104.23655913978494",
                  "Wind Speed": "1.421102150537634",
                  "Temperature_raw": 11.026881720430111,
                  "Solar_Zenith_Angle_raw": 105.53245967741938,
                  "k_12": 0,
                  "k_11": 0,
                  "k_10": 0,
                  "k_9": 0,
                  "k_8": 0,
                  "k_7": 0,
                  "k_6": 0,
                  "k_5": 0,
                  "k_4": 0,
                  "k_3": 0,
                  "k_2": 0,
                  "k_1": 0,
                  "_deepnote_index_column": 136638
                },
                {
                  "MONTH": 2,
                  "YEAR": 2018,
                  "zip": 95391,
                  "GHI_raw": "169.82589285714286",
                  "DHI_raw": "39.32142857142857",
                  "DNI_raw": "279.13690476190476",
                  "Wind Speed": "1.9380952380952412",
                  "Temperature_raw": 10.541369047619044,
                  "Solar_Zenith_Angle_raw": 99.57683035714292,
                  "k_12": 0,
                  "k_11": 0,
                  "k_10": 0,
                  "k_9": 0,
                  "k_8": 0,
                  "k_7": 0,
                  "k_6": 0,
                  "k_5": 0,
                  "k_4": 0,
                  "k_3": 0,
                  "k_2": 0,
                  "k_1": 0,
                  "_deepnote_index_column": 136639
                },
                {
                  "MONTH": 3,
                  "YEAR": 2018,
                  "zip": 95391,
                  "GHI_raw": "179.1034946236559",
                  "DHI_raw": "62.244623655913976",
                  "DNI_raw": "206.1008064516129",
                  "Wind Speed": "1.9114247311827934",
                  "Temperature_raw": 11.8018817204301,
                  "Solar_Zenith_Angle_raw": 91.15202956989243,
                  "k_12": 0,
                  "k_11": 0,
                  "k_10": 0,
                  "k_9": 0,
                  "k_8": 0,
                  "k_7": 0,
                  "k_6": 0,
                  "k_5": 0,
                  "k_4": 0,
                  "k_3": 0,
                  "k_2": 0,
                  "k_1": 0,
                  "_deepnote_index_column": 136640
                },
                {
                  "MONTH": 4,
                  "YEAR": 2018,
                  "zip": 95391,
                  "GHI_raw": "257.11805555555554",
                  "DHI_raw": "71.71111111111111",
                  "DNI_raw": "288.2597222222222",
                  "Wind Speed": "2.282499999999999",
                  "Temperature_raw": 14.219722222222224,
                  "Solar_Zenith_Angle_raw": 82.27109722222218,
                  "k_12": 0,
                  "k_11": 0,
                  "k_10": 0,
                  "k_9": 0,
                  "k_8": 0,
                  "k_7": 0,
                  "k_6": 0,
                  "k_5": 0,
                  "k_4": 0,
                  "k_3": 0,
                  "k_2": 0,
                  "k_1": 0,
                  "_deepnote_index_column": 136644
                },
                {
                  "MONTH": 5,
                  "YEAR": 2018,
                  "zip": 95391,
                  "GHI_raw": "320.66129032258067",
                  "DHI_raw": "72.8991935483871",
                  "DNI_raw": "360.14516129032256",
                  "Wind Speed": "2.984811827956987",
                  "Temperature_raw": 16.944892473118284,
                  "Solar_Zenith_Angle_raw": 75.53840053763433,
                  "k_12": 0,
                  "k_11": 0,
                  "k_10": 0,
                  "k_9": 0,
                  "k_8": 0,
                  "k_7": 0,
                  "k_6": 0,
                  "k_5": 0,
                  "k_4": 0,
                  "k_3": 0,
                  "k_2": 0,
                  "k_1": 0,
                  "_deepnote_index_column": 136645
                },
                {
                  "MONTH": 6,
                  "YEAR": 2018,
                  "zip": 95391,
                  "GHI_raw": "361.3041666666667",
                  "DHI_raw": "59.43055555555556",
                  "DNI_raw": "438.1763888888889",
                  "Wind Speed": "3.284166666666667",
                  "Temperature_raw": 21.101944444444456,
                  "Solar_Zenith_Angle_raw": 72.55220833333327,
                  "k_12": 0,
                  "k_11": 0,
                  "k_10": 0,
                  "k_9": 0,
                  "k_8": 0,
                  "k_7": 0,
                  "k_6": 0,
                  "k_5": 0,
                  "k_4": 0,
                  "k_3": 0,
                  "k_2": 0,
                  "k_1": 0,
                  "_deepnote_index_column": 136646
                },
                {
                  "MONTH": 7,
                  "YEAR": 2018,
                  "zip": 95391,
                  "GHI_raw": "337.78225806451616",
                  "DHI_raw": "67.21236559139786",
                  "DNI_raw": "393.7244623655914",
                  "Wind Speed": "3.353629032258063",
                  "Temperature_raw": 24.48158602150537,
                  "Solar_Zenith_Angle_raw": 74.05393817204298,
                  "k_12": 0,
                  "k_11": 0,
                  "k_10": 0,
                  "k_9": 0,
                  "k_8": 0,
                  "k_7": 0,
                  "k_6": 0,
                  "k_5": 0,
                  "k_4": 0,
                  "k_3": 0,
                  "k_2": 0,
                  "k_1": 0,
                  "_deepnote_index_column": 136650
                },
                {
                  "MONTH": 8,
                  "YEAR": 2018,
                  "zip": 95391,
                  "GHI_raw": "305.4516129032258",
                  "DHI_raw": "73.85215053763442",
                  "DNI_raw": "349.6317204301075",
                  "Wind Speed": "2.9022849462365605",
                  "Temperature_raw": 22.480241935483885,
                  "Solar_Zenith_Angle_raw": 79.71661290322577,
                  "k_12": 0,
                  "k_11": 0,
                  "k_10": 0,
                  "k_9": 0,
                  "k_8": 0,
                  "k_7": 0,
                  "k_6": 0,
                  "k_5": 0,
                  "k_4": 0,
                  "k_3": 0,
                  "k_2": 0,
                  "k_1": 0,
                  "_deepnote_index_column": 136651
                },
                {
                  "MONTH": 9,
                  "YEAR": 2018,
                  "zip": 95391,
                  "GHI_raw": "257.7375",
                  "DHI_raw": "48.87083333333333",
                  "DNI_raw": "349.71944444444443",
                  "Wind Speed": "2.495277777777778",
                  "Temperature_raw": 21.041944444444464,
                  "Solar_Zenith_Angle_raw": 88.00199999999994,
                  "k_12": 0,
                  "k_11": 0,
                  "k_10": 0,
                  "k_9": 0,
                  "k_8": 0,
                  "k_7": 0,
                  "k_6": 0,
                  "k_5": 0,
                  "k_4": 0,
                  "k_3": 0,
                  "k_2": 0,
                  "k_1": 0,
                  "_deepnote_index_column": 136652
                },
                {
                  "MONTH": 10,
                  "YEAR": 2018,
                  "zip": 95391,
                  "GHI_raw": "187.92741935483872",
                  "DHI_raw": "40.935483870967744",
                  "DNI_raw": "292.80645161290323",
                  "Wind Speed": "1.8658602150537653",
                  "Temperature_raw": 18.553225806451614,
                  "Solar_Zenith_Angle_raw": 96.88702956989236,
                  "k_12": 0,
                  "k_11": 0,
                  "k_10": 0,
                  "k_9": 0,
                  "k_8": 0,
                  "k_7": 0,
                  "k_6": 0,
                  "k_5": 0,
                  "k_4": 0,
                  "k_3": 0,
                  "k_2": 0,
                  "k_1": 0,
                  "_deepnote_index_column": 136656
                },
                {
                  "MONTH": 11,
                  "YEAR": 2018,
                  "zip": 95391,
                  "GHI_raw": "117.70416666666667",
                  "DHI_raw": "40.477777777777774",
                  "DNI_raw": "182.67638888888888",
                  "Wind Speed": "1.642638888888887",
                  "Temperature_raw": 14.28611111111112,
                  "Solar_Zenith_Angle_raw": 104.06037499999998,
                  "k_12": 0,
                  "k_11": 0,
                  "k_10": 0,
                  "k_9": 0,
                  "k_8": 0,
                  "k_7": 0,
                  "k_6": 0,
                  "k_5": 0,
                  "k_4": 0,
                  "k_3": 0,
                  "k_2": 0,
                  "k_1": 0,
                  "_deepnote_index_column": 136657
                },
                {
                  "MONTH": 12,
                  "YEAR": 2018,
                  "zip": 95391,
                  "GHI_raw": "85.90591397849462",
                  "DHI_raw": "29.541666666666668",
                  "DNI_raw": "157.23790322580646",
                  "Wind Speed": "1.640860215053763",
                  "Temperature_raw": 9.677016129032255,
                  "Solar_Zenith_Angle_raw": 107.31055107526872,
                  "k_12": 0,
                  "k_11": 0,
                  "k_10": 0,
                  "k_9": 0,
                  "k_8": 0,
                  "k_7": 0,
                  "k_6": 0,
                  "k_5": 0,
                  "k_4": 0,
                  "k_3": 0,
                  "k_2": 0,
                  "k_1": 0,
                  "_deepnote_index_column": 136658
                },
                {
                  "MONTH": 1,
                  "YEAR": 2019,
                  "zip": 95391,
                  "GHI_raw": "92.96774193548387",
                  "DHI_raw": "37.54838709677419",
                  "DNI_raw": "139.2997311827957",
                  "Wind Speed": "1.9508064516129056",
                  "Temperature_raw": 10.818279569892477,
                  "Solar_Zenith_Angle_raw": 105.56650537634404,
                  "k_12": 0,
                  "k_11": 0,
                  "k_10": 0,
                  "k_9": 0,
                  "k_8": 0,
                  "k_7": 0,
                  "k_6": 0,
                  "k_5": 0,
                  "k_4": 0,
                  "k_3": 0,
                  "k_2": 0,
                  "k_1": 0,
                  "_deepnote_index_column": 136662
                },
                {
                  "MONTH": 2,
                  "YEAR": 2019,
                  "zip": 95391,
                  "GHI_raw": "118.57738095238095",
                  "DHI_raw": "46.892857142857146",
                  "DNI_raw": "149.94196428571428",
                  "Wind Speed": "2.713690476190475",
                  "Temperature_raw": 8.246577380952383,
                  "Solar_Zenith_Angle_raw": 99.63794642857135,
                  "k_12": 0,
                  "k_11": 0,
                  "k_10": 0,
                  "k_9": 0,
                  "k_8": 0,
                  "k_7": 0,
                  "k_6": 0,
                  "k_5": 0,
                  "k_4": 0,
                  "k_3": 0,
                  "k_2": 0,
                  "k_1": 0,
                  "_deepnote_index_column": 136663
                },
                {
                  "MONTH": 3,
                  "YEAR": 2019,
                  "zip": 95391,
                  "GHI_raw": "182.49193548387098",
                  "DHI_raw": "65.125",
                  "DNI_raw": "207.8938172043011",
                  "Wind Speed": "1.8556451612903193",
                  "Temperature_raw": 11.700134408602144,
                  "Solar_Zenith_Angle_raw": 91.22321236559137,
                  "k_12": 0,
                  "k_11": 0,
                  "k_10": 0,
                  "k_9": 0,
                  "k_8": 0,
                  "k_7": 0,
                  "k_6": 0,
                  "k_5": 0,
                  "k_4": 0,
                  "k_3": 0,
                  "k_2": 0,
                  "k_1": 0,
                  "_deepnote_index_column": 136664
                },
                {
                  "MONTH": 4,
                  "YEAR": 2019,
                  "zip": 95391,
                  "GHI_raw": "255.10694444444445",
                  "DHI_raw": "74.85833333333333",
                  "DNI_raw": "276.1458333333333",
                  "Wind Speed": "2.1697222222222172",
                  "Temperature_raw": 15.39291666666666,
                  "Solar_Zenith_Angle_raw": 82.3350694444444,
                  "k_12": 0,
                  "k_11": 0,
                  "k_10": 0,
                  "k_9": 0,
                  "k_8": 0,
                  "k_7": 0,
                  "k_6": 0,
                  "k_5": 0,
                  "k_4": 0,
                  "k_3": 0,
                  "k_2": 0,
                  "k_1": 0,
                  "_deepnote_index_column": 136668
                },
                {
                  "MONTH": 5,
                  "YEAR": 2019,
                  "zip": 95391,
                  "GHI_raw": "294.4287634408602",
                  "DHI_raw": "81.01881720430107",
                  "DNI_raw": "310.5873655913978",
                  "Wind Speed": "2.7075268817204297",
                  "Temperature_raw": 15.561827956989235,
                  "Solar_Zenith_Angle_raw": 75.57739247311832,
                  "k_12": 0,
                  "k_11": 0,
                  "k_10": 0,
                  "k_9": 0,
                  "k_8": 0,
                  "k_7": 0,
                  "k_6": 0,
                  "k_5": 0,
                  "k_4": 0,
                  "k_3": 0,
                  "k_2": 0,
                  "k_1": 0,
                  "_deepnote_index_column": 136669
                },
                {
                  "MONTH": 6,
                  "YEAR": 2019,
                  "zip": 95391,
                  "GHI_raw": "351.4138888888889",
                  "DHI_raw": "66.28333333333333",
                  "DNI_raw": "410.4472222222222",
                  "Wind Speed": "2.948472222222225",
                  "Temperature_raw": 21.398194444444464,
                  "Solar_Zenith_Angle_raw": 72.55747222222216,
                  "k_12": 0,
                  "k_11": 0,
                  "k_10": 0,
                  "k_9": 0,
                  "k_8": 0,
                  "k_7": 0,
                  "k_6": 0,
                  "k_5": 0,
                  "k_4": 0,
                  "k_3": 0,
                  "k_2": 0,
                  "k_1": 0,
                  "_deepnote_index_column": 136670
                },
                {
                  "MONTH": 7,
                  "YEAR": 2019,
                  "zip": 95391,
                  "GHI_raw": "348.127688172043",
                  "DHI_raw": "56.70967741935484",
                  "DNI_raw": "427.5833333333333",
                  "Wind Speed": "3.2940860215053798",
                  "Temperature_raw": 22.80174731182798,
                  "Solar_Zenith_Angle_raw": 74.02392473118273,
                  "k_12": 0,
                  "k_11": 0,
                  "k_10": 0,
                  "k_9": 0,
                  "k_8": 0,
                  "k_7": 0,
                  "k_6": 0,
                  "k_5": 0,
                  "k_4": 0,
                  "k_3": 0,
                  "k_2": 0,
                  "k_1": 0,
                  "_deepnote_index_column": 136674
                },
                {
                  "MONTH": 8,
                  "YEAR": 2019,
                  "zip": 95391,
                  "GHI_raw": "312.28225806451616",
                  "DHI_raw": "54.63172043010753",
                  "DNI_raw": "389.9220430107527",
                  "Wind Speed": "3.0030913978494644",
                  "Temperature_raw": 24.378091397849467,
                  "Solar_Zenith_Angle_raw": 79.6596370967742,
                  "k_12": 0,
                  "k_11": 0,
                  "k_10": 0,
                  "k_9": 0,
                  "k_8": 0,
                  "k_7": 0,
                  "k_6": 0,
                  "k_5": 0,
                  "k_4": 0,
                  "k_3": 0,
                  "k_2": 0,
                  "k_1": 0,
                  "_deepnote_index_column": 136675
                },
                {
                  "MONTH": 9,
                  "YEAR": 2019,
                  "zip": 95391,
                  "GHI_raw": "250.71805555555557",
                  "DHI_raw": "49.37916666666667",
                  "DNI_raw": "342.4819444444444",
                  "Wind Speed": "2.5294444444444415",
                  "Temperature_raw": 22.09833333333334,
                  "Solar_Zenith_Angle_raw": 87.9304861111112,
                  "k_12": 0,
                  "k_11": 0,
                  "k_10": 0,
                  "k_9": 0,
                  "k_8": 0,
                  "k_7": 0,
                  "k_6": 0,
                  "k_5": 0,
                  "k_4": 0,
                  "k_3": 0,
                  "k_2": 0,
                  "k_1": 0,
                  "_deepnote_index_column": 136676
                },
                {
                  "MONTH": 10,
                  "YEAR": 2019,
                  "zip": 95391,
                  "GHI_raw": "199.41397849462365",
                  "DHI_raw": "39.899193548387096",
                  "DNI_raw": "314.4139784946237",
                  "Wind Speed": "1.9706989247311848",
                  "Temperature_raw": 18.00577956989247,
                  "Solar_Zenith_Angle_raw": 96.81885752688176,
                  "k_12": 0,
                  "k_11": 0,
                  "k_10": 0,
                  "k_9": 0,
                  "k_8": 0,
                  "k_7": 0,
                  "k_6": 0,
                  "k_5": 0,
                  "k_4": 0,
                  "k_3": 0,
                  "k_2": 0,
                  "k_1": 0,
                  "_deepnote_index_column": 136680
                },
                {
                  "MONTH": 11,
                  "YEAR": 2019,
                  "zip": 95391,
                  "GHI_raw": "128.82222222222222",
                  "DHI_raw": "34.46666666666667",
                  "DNI_raw": "226.15277777777777",
                  "Wind Speed": "1.5990277777777768",
                  "Temperature_raw": 13.94263888888888,
                  "Solar_Zenith_Angle_raw": 104.0162222222222,
                  "k_12": 0,
                  "k_11": 0,
                  "k_10": 0,
                  "k_9": 0,
                  "k_8": 0,
                  "k_7": 0,
                  "k_6": 0,
                  "k_5": 0,
                  "k_4": 0,
                  "k_3": 0,
                  "k_2": 0,
                  "k_1": 0,
                  "_deepnote_index_column": 136681
                },
                {
                  "MONTH": 12,
                  "YEAR": 2019,
                  "zip": 95391,
                  "GHI_raw": "75.23655913978494",
                  "DHI_raw": "32.969086021505376",
                  "DNI_raw": "116.34005376344086",
                  "Wind Speed": "1.9862903225806463",
                  "Temperature_raw": 10.240860215053766,
                  "Solar_Zenith_Angle_raw": 107.30434139784956,
                  "k_12": 0,
                  "k_11": 0,
                  "k_10": 0,
                  "k_9": 0,
                  "k_8": 0,
                  "k_7": 0,
                  "k_6": 0,
                  "k_5": 0,
                  "k_4": 0,
                  "k_3": 0,
                  "k_2": 0,
                  "k_1": 0,
                  "_deepnote_index_column": 136682
                }
              ]
            },
            "text/plain": "        MONTH  YEAR    zip             GHI_raw             DHI_raw  \\\nindex                                                                \n136577      8  2015  95391  300.76747311827955   62.73521505376344   \n136578      9  2015  95391  235.67361111111111  58.016666666666666   \n136582     10  2015  95391  180.46908602150538   42.29704301075269   \n136583     11  2015  95391  125.43055555555556  32.859722222222224   \n136584     12  2015  95391              92.125   33.54704301075269   \n136588      1  2016  95391   86.52688172043011  42.475806451612904   \n136589      2  2016  95391  164.20089285714286   42.96577380952381   \n136590      3  2016  95391   193.2715053763441   60.93682795698925   \n136594      4  2016  95391  264.99444444444447   73.34305555555555   \n136595      5  2016  95391  304.41129032258067   74.22983870967742   \n136596      6  2016  95391            353.2875  63.918055555555554   \n136600      7  2016  95391   353.1962365591398  51.979838709677416   \n136601      8  2016  95391   311.5860215053763   59.02150537634409   \n136602      9  2016  95391  250.94305555555556   54.38055555555555   \n136606     10  2016  95391  157.68279569892474  46.721774193548384   \n136607     11  2016  95391  123.56111111111112              36.025   \n136608     12  2016  95391   96.52150537634408  30.143817204301076   \n136612      1  2017  95391   91.47311827956989   34.77284946236559   \n136613      2  2017  95391  119.29761904761905  45.705357142857146   \n136614      3  2017  95391   203.7540322580645  62.259408602150536   \n136618      4  2017  95391  244.43194444444444             79.1875   \n136619      5  2017  95391  323.39650537634407   75.68817204301075   \n136620      6  2017  95391   341.8888888888889   71.13055555555556   \n136624      7  2017  95391  348.76478494623655    56.2244623655914   \n136625      8  2017  95391   292.0994623655914   69.59677419354838   \n136626      9  2017  95391  230.23611111111111   72.03888888888889   \n136630      9  2017  95391  230.23611111111111   72.03888888888889   \n136631     10  2017  95391  187.88844086021504  46.016129032258064   \n136632     11  2017  95391  103.18888888888888   38.34027777777778   \n136633     12  2017  95391   109.9489247311828  30.392473118279568   \n136638      1  2018  95391   78.24731182795699   36.60752688172043   \n136639      2  2018  95391  169.82589285714286   39.32142857142857   \n136640      3  2018  95391   179.1034946236559  62.244623655913976   \n136644      4  2018  95391  257.11805555555554   71.71111111111111   \n136645      5  2018  95391  320.66129032258067    72.8991935483871   \n136646      6  2018  95391   361.3041666666667   59.43055555555556   \n136650      7  2018  95391  337.78225806451616   67.21236559139786   \n136651      8  2018  95391   305.4516129032258   73.85215053763442   \n136652      9  2018  95391            257.7375   48.87083333333333   \n136656     10  2018  95391  187.92741935483872  40.935483870967744   \n136657     11  2018  95391  117.70416666666667  40.477777777777774   \n136658     12  2018  95391   85.90591397849462  29.541666666666668   \n136662      1  2019  95391   92.96774193548387   37.54838709677419   \n136663      2  2019  95391  118.57738095238095  46.892857142857146   \n136664      3  2019  95391  182.49193548387098              65.125   \n136668      4  2019  95391  255.10694444444445   74.85833333333333   \n136669      5  2019  95391   294.4287634408602   81.01881720430107   \n136670      6  2019  95391   351.4138888888889   66.28333333333333   \n136674      7  2019  95391    348.127688172043   56.70967741935484   \n136675      8  2019  95391  312.28225806451616   54.63172043010753   \n136676      9  2019  95391  250.71805555555557   49.37916666666667   \n136680     10  2019  95391  199.41397849462365  39.899193548387096   \n136681     11  2019  95391  128.82222222222222   34.46666666666667   \n136682     12  2019  95391   75.23655913978494  32.969086021505376   \n\n                   DNI_raw          Wind Speed  Temperature_raw  \\\nindex                                                             \n136577   359.9516129032258  2.6944892473118287        22.975806   \n136578  294.96944444444443  2.1337500000000014        22.102778   \n136582  270.60483870967744  1.5983870967741944        19.807796   \n136583  230.17916666666667  1.6159722222222233        10.547222   \n136584  159.76478494623655  1.7221774193548374         8.080645   \n136588  113.95833333333333  1.8721774193548388         9.625000   \n136589           259.71875  1.5441964285714314        11.706845   \n136590  227.78091397849462  2.0505376344086006        12.227151   \n136594   297.1694444444444  2.1158333333333337        14.519444   \n136595  336.39381720430106   2.411962365591398        16.958333   \n136596   421.0236111111111   2.848194444444443        21.027778   \n136600   444.3454301075269   3.042607526881721        22.479839   \n136601  383.73924731182797   2.783198924731182        21.626344   \n136602  335.81666666666666   2.278472222222222        20.904167   \n136606  223.92876344086022  1.9084677419354859        16.962366   \n136607   214.2236111111111   1.311944444444444        12.930556   \n136608  183.39112903225808  1.7381720430107523         7.565860   \n136612  142.99193548387098   2.272043010752687         7.454301   \n136613  152.33928571428572  2.3635416666666687        10.333333   \n136614  253.54032258064515  1.8357526881720427        12.122312   \n136618            256.8125   2.086666666666668        13.093056   \n136619  364.77150537634407  2.4538978494623667        16.479839   \n136620   392.3236111111111   2.907916666666664        20.322222   \n136624   432.9005376344086   2.971639784946238        23.439516   \n136625   335.2809139784946   2.758467741935484        23.518817   \n136626   269.1041666666667   2.102916666666666        22.644444   \n136630   269.1041666666667   2.102916666666666        22.644444   \n136631   280.7795698924731  1.7405913978494623        18.061828   \n136632            160.2875  1.3313888888888885        13.188889   \n136633  220.79569892473117  1.2521505376344093         8.715054   \n136638  104.23655913978494   1.421102150537634        11.026882   \n136639  279.13690476190476  1.9380952380952412        10.541369   \n136640   206.1008064516129  1.9114247311827934        11.801882   \n136644   288.2597222222222   2.282499999999999        14.219722   \n136645  360.14516129032256   2.984811827956987        16.944892   \n136646   438.1763888888889   3.284166666666667        21.101944   \n136650   393.7244623655914   3.353629032258063        24.481586   \n136651   349.6317204301075  2.9022849462365605        22.480242   \n136652  349.71944444444443   2.495277777777778        21.041944   \n136656  292.80645161290323  1.8658602150537653        18.553226   \n136657  182.67638888888888   1.642638888888887        14.286111   \n136658  157.23790322580646   1.640860215053763         9.677016   \n136662   139.2997311827957  1.9508064516129056        10.818280   \n136663  149.94196428571428   2.713690476190475         8.246577   \n136664   207.8938172043011  1.8556451612903193        11.700134   \n136668   276.1458333333333  2.1697222222222172        15.392917   \n136669   310.5873655913978  2.7075268817204297        15.561828   \n136670   410.4472222222222   2.948472222222225        21.398194   \n136674   427.5833333333333  3.2940860215053798        22.801747   \n136675   389.9220430107527  3.0030913978494644        24.378091   \n136676   342.4819444444444  2.5294444444444415        22.098333   \n136680   314.4139784946237  1.9706989247311848        18.005780   \n136681  226.15277777777777  1.5990277777777768        13.942639   \n136682  116.34005376344086  1.9862903225806463        10.240860   \n\n        Solar_Zenith_Angle_raw  k_12  ...  k_10   k_9   k_8   k_7   k_6  k_5  \\\nindex                                 ...                                      \n136577               79.677164     0  ...     0     0     0  1424  1068  992   \n136578               87.937139     0  ...     0     0  1424  1068   992    0   \n136582               96.840551     0  ...     0  1424  1068   992     0    0   \n136583              104.031819     0  ...  1424  1068   992     0     0    0   \n136584              107.333750     0  ...  1068   992     0     0     0    0   \n136588              105.630363  1424  ...   992     0     0     0     0    0   \n136589               99.734211  1068  ...     0     0     0     0     0    0   \n136590               91.024059   992  ...     0     0     0     0     0    0   \n136594               82.168375     0  ...     0     0     0     0     0    0   \n136595               75.472527     0  ...     0     0     0     0     0    0   \n136596               72.563556     0  ...     0     0     0     0     0    0   \n136600               74.133884     0  ...     0     0     0     0     0    0   \n136601               79.857258     0  ...     0     0     0     0     0    0   \n136602               88.160292     0  ...     0     0     0     0     0    0   \n136606               97.049610     0  ...     0     0     0     0     0    0   \n136607              104.168292     0  ...     0     0     0     0     0    0   \n136608              107.355659     0  ...     0     0     0     0     0    0   \n136612              105.525524     0  ...     0     0     0     0     0    0   \n136613               99.539970     0  ...     0     0     0     0     0    0   \n136614               91.097258     0  ...     0     0     0     0     0    0   \n136618               82.232778     0  ...     0     0     0     0     0    0   \n136619               75.512500     0  ...     0     0     0     0     0    0   \n136620               72.569222     0  ...     0     0     0     0     0    0   \n136624               74.104301     0  ...     0     0     0     0     0    0   \n136625               79.800081     0  ...     0     0     0     0     0    0   \n136626               88.089028     0  ...     0     0     0     0     0    0   \n136630               88.089028     0  ...     0     0     0     0     0    0   \n136631               96.983091     0  ...     0     0     0     0     0    0   \n136632              104.124861     0  ...     0     0     0     0     0    0   \n136633              107.348011     0  ...     0     0     0     0     0    0   \n136638              105.532460     0  ...     0     0     0     0     0    0   \n136639               99.576830     0  ...     0     0     0     0     0    0   \n136640               91.152030     0  ...     0     0     0     0     0    0   \n136644               82.271097     0  ...     0     0     0     0     0    0   \n136645               75.538401     0  ...     0     0     0     0     0    0   \n136646               72.552208     0  ...     0     0     0     0     0    0   \n136650               74.053938     0  ...     0     0     0     0     0    0   \n136651               79.716613     0  ...     0     0     0     0     0    0   \n136652               88.002000     0  ...     0     0     0     0     0    0   \n136656               96.887030     0  ...     0     0     0     0     0    0   \n136657              104.060375     0  ...     0     0     0     0     0    0   \n136658              107.310551     0  ...     0     0     0     0     0    0   \n136662              105.566505     0  ...     0     0     0     0     0    0   \n136663               99.637946     0  ...     0     0     0     0     0    0   \n136664               91.223212     0  ...     0     0     0     0     0    0   \n136668               82.335069     0  ...     0     0     0     0     0    0   \n136669               75.577392     0  ...     0     0     0     0     0    0   \n136670               72.557472     0  ...     0     0     0     0     0    0   \n136674               74.023925     0  ...     0     0     0     0     0    0   \n136675               79.659637     0  ...     0     0     0     0     0    0   \n136676               87.930486     0  ...     0     0     0     0     0    0   \n136680               96.818858     0  ...     0     0     0     0     0    0   \n136681              104.016222     0  ...     0     0     0     0     0    0   \n136682              107.304341     0  ...     0     0     0     0     0    0   \n\n        k_4  k_3  k_2  k_1  \nindex                       \n136577    0    0    0    0  \n136578    0    0    0    0  \n136582    0    0    0    0  \n136583    0    0    0    0  \n136584    0    0    0    0  \n136588    0    0    0    0  \n136589    0    0    0    0  \n136590    0    0    0    0  \n136594    0    0    0    0  \n136595    0    0    0    0  \n136596    0    0    0    0  \n136600    0    0    0    0  \n136601    0    0    0    0  \n136602    0    0    0    0  \n136606    0    0    0    0  \n136607    0    0    0    0  \n136608    0    0    0    0  \n136612    0    0    0    0  \n136613    0    0    0    0  \n136614    0    0    0    0  \n136618    0    0    0    0  \n136619    0    0    0    0  \n136620    0    0    0    0  \n136624    0    0    0    0  \n136625    0    0    0    0  \n136626    0    0    0    0  \n136630    0    0    0    0  \n136631    0    0    0    0  \n136632    0    0    0    0  \n136633    0    0    0    0  \n136638    0    0    0    0  \n136639    0    0    0    0  \n136640    0    0    0    0  \n136644    0    0    0    0  \n136645    0    0    0    0  \n136646    0    0    0    0  \n136650    0    0    0    0  \n136651    0    0    0    0  \n136652    0    0    0    0  \n136656    0    0    0    0  \n136657    0    0    0    0  \n136658    0    0    0    0  \n136662    0    0    0    0  \n136663    0    0    0    0  \n136664    0    0    0    0  \n136668    0    0    0    0  \n136669    0    0    0    0  \n136670    0    0    0    0  \n136674    0    0    0    0  \n136675    0    0    0    0  \n136676    0    0    0    0  \n136680    0    0    0    0  \n136681    0    0    0    0  \n136682    0    0    0    0  \n\n[54 rows x 21 columns]",
            "text/html": "<div>\n<style scoped>\n    .dataframe tbody tr th:only-of-type {\n        vertical-align: middle;\n    }\n\n    .dataframe tbody tr th {\n        vertical-align: top;\n    }\n\n    .dataframe thead th {\n        text-align: right;\n    }\n</style>\n<table border=\"1\" class=\"dataframe\">\n  <thead>\n    <tr style=\"text-align: right;\">\n      <th></th>\n      <th>MONTH</th>\n      <th>YEAR</th>\n      <th>zip</th>\n      <th>GHI_raw</th>\n      <th>DHI_raw</th>\n      <th>DNI_raw</th>\n      <th>Wind Speed</th>\n      <th>Temperature_raw</th>\n      <th>Solar_Zenith_Angle_raw</th>\n      <th>k_12</th>\n      <th>...</th>\n      <th>k_10</th>\n      <th>k_9</th>\n      <th>k_8</th>\n      <th>k_7</th>\n      <th>k_6</th>\n      <th>k_5</th>\n      <th>k_4</th>\n      <th>k_3</th>\n      <th>k_2</th>\n      <th>k_1</th>\n    </tr>\n    <tr>\n      <th>index</th>\n      <th></th>\n      <th></th>\n      <th></th>\n      <th></th>\n      <th></th>\n      <th></th>\n      <th></th>\n      <th></th>\n      <th></th>\n      <th></th>\n      <th></th>\n      <th></th>\n      <th></th>\n      <th></th>\n      <th></th>\n      <th></th>\n      <th></th>\n      <th></th>\n      <th></th>\n      <th></th>\n      <th></th>\n    </tr>\n  </thead>\n  <tbody>\n    <tr>\n      <th>136577</th>\n      <td>8</td>\n      <td>2015</td>\n      <td>95391</td>\n      <td>300.76747311827955</td>\n      <td>62.73521505376344</td>\n      <td>359.9516129032258</td>\n      <td>2.6944892473118287</td>\n      <td>22.975806</td>\n      <td>79.677164</td>\n      <td>0</td>\n      <td>...</td>\n      <td>0</td>\n      <td>0</td>\n      <td>0</td>\n      <td>1424</td>\n      <td>1068</td>\n      <td>992</td>\n      <td>0</td>\n      <td>0</td>\n      <td>0</td>\n      <td>0</td>\n    </tr>\n    <tr>\n      <th>136578</th>\n      <td>9</td>\n      <td>2015</td>\n      <td>95391</td>\n      <td>235.67361111111111</td>\n      <td>58.016666666666666</td>\n      <td>294.96944444444443</td>\n      <td>2.1337500000000014</td>\n      <td>22.102778</td>\n      <td>87.937139</td>\n      <td>0</td>\n      <td>...</td>\n      <td>0</td>\n      <td>0</td>\n      <td>1424</td>\n      <td>1068</td>\n      <td>992</td>\n      <td>0</td>\n      <td>0</td>\n      <td>0</td>\n      <td>0</td>\n      <td>0</td>\n    </tr>\n    <tr>\n      <th>136582</th>\n      <td>10</td>\n      <td>2015</td>\n      <td>95391</td>\n      <td>180.46908602150538</td>\n      <td>42.29704301075269</td>\n      <td>270.60483870967744</td>\n      <td>1.5983870967741944</td>\n      <td>19.807796</td>\n      <td>96.840551</td>\n      <td>0</td>\n      <td>...</td>\n      <td>0</td>\n      <td>1424</td>\n      <td>1068</td>\n      <td>992</td>\n      <td>0</td>\n      <td>0</td>\n      <td>0</td>\n      <td>0</td>\n      <td>0</td>\n      <td>0</td>\n    </tr>\n    <tr>\n      <th>136583</th>\n      <td>11</td>\n      <td>2015</td>\n      <td>95391</td>\n      <td>125.43055555555556</td>\n      <td>32.859722222222224</td>\n      <td>230.17916666666667</td>\n      <td>1.6159722222222233</td>\n      <td>10.547222</td>\n      <td>104.031819</td>\n      <td>0</td>\n      <td>...</td>\n      <td>1424</td>\n      <td>1068</td>\n      <td>992</td>\n      <td>0</td>\n      <td>0</td>\n      <td>0</td>\n      <td>0</td>\n      <td>0</td>\n      <td>0</td>\n      <td>0</td>\n    </tr>\n    <tr>\n      <th>136584</th>\n      <td>12</td>\n      <td>2015</td>\n      <td>95391</td>\n      <td>92.125</td>\n      <td>33.54704301075269</td>\n      <td>159.76478494623655</td>\n      <td>1.7221774193548374</td>\n      <td>8.080645</td>\n      <td>107.333750</td>\n      <td>0</td>\n      <td>...</td>\n      <td>1068</td>\n      <td>992</td>\n      <td>0</td>\n      <td>0</td>\n      <td>0</td>\n      <td>0</td>\n      <td>0</td>\n      <td>0</td>\n      <td>0</td>\n      <td>0</td>\n    </tr>\n    <tr>\n      <th>136588</th>\n      <td>1</td>\n      <td>2016</td>\n      <td>95391</td>\n      <td>86.52688172043011</td>\n      <td>42.475806451612904</td>\n      <td>113.95833333333333</td>\n      <td>1.8721774193548388</td>\n      <td>9.625000</td>\n      <td>105.630363</td>\n      <td>1424</td>\n      <td>...</td>\n      <td>992</td>\n      <td>0</td>\n      <td>0</td>\n      <td>0</td>\n      <td>0</td>\n      <td>0</td>\n      <td>0</td>\n      <td>0</td>\n      <td>0</td>\n      <td>0</td>\n    </tr>\n    <tr>\n      <th>136589</th>\n      <td>2</td>\n      <td>2016</td>\n      <td>95391</td>\n      <td>164.20089285714286</td>\n      <td>42.96577380952381</td>\n      <td>259.71875</td>\n      <td>1.5441964285714314</td>\n      <td>11.706845</td>\n      <td>99.734211</td>\n      <td>1068</td>\n      <td>...</td>\n      <td>0</td>\n      <td>0</td>\n      <td>0</td>\n      <td>0</td>\n      <td>0</td>\n      <td>0</td>\n      <td>0</td>\n      <td>0</td>\n      <td>0</td>\n      <td>0</td>\n    </tr>\n    <tr>\n      <th>136590</th>\n      <td>3</td>\n      <td>2016</td>\n      <td>95391</td>\n      <td>193.2715053763441</td>\n      <td>60.93682795698925</td>\n      <td>227.78091397849462</td>\n      <td>2.0505376344086006</td>\n      <td>12.227151</td>\n      <td>91.024059</td>\n      <td>992</td>\n      <td>...</td>\n      <td>0</td>\n      <td>0</td>\n      <td>0</td>\n      <td>0</td>\n      <td>0</td>\n      <td>0</td>\n      <td>0</td>\n      <td>0</td>\n      <td>0</td>\n      <td>0</td>\n    </tr>\n    <tr>\n      <th>136594</th>\n      <td>4</td>\n      <td>2016</td>\n      <td>95391</td>\n      <td>264.99444444444447</td>\n      <td>73.34305555555555</td>\n      <td>297.1694444444444</td>\n      <td>2.1158333333333337</td>\n      <td>14.519444</td>\n      <td>82.168375</td>\n      <td>0</td>\n      <td>...</td>\n      <td>0</td>\n      <td>0</td>\n      <td>0</td>\n      <td>0</td>\n      <td>0</td>\n      <td>0</td>\n      <td>0</td>\n      <td>0</td>\n      <td>0</td>\n      <td>0</td>\n    </tr>\n    <tr>\n      <th>136595</th>\n      <td>5</td>\n      <td>2016</td>\n      <td>95391</td>\n      <td>304.41129032258067</td>\n      <td>74.22983870967742</td>\n      <td>336.39381720430106</td>\n      <td>2.411962365591398</td>\n      <td>16.958333</td>\n      <td>75.472527</td>\n      <td>0</td>\n      <td>...</td>\n      <td>0</td>\n      <td>0</td>\n      <td>0</td>\n      <td>0</td>\n      <td>0</td>\n      <td>0</td>\n      <td>0</td>\n      <td>0</td>\n      <td>0</td>\n      <td>0</td>\n    </tr>\n    <tr>\n      <th>136596</th>\n      <td>6</td>\n      <td>2016</td>\n      <td>95391</td>\n      <td>353.2875</td>\n      <td>63.918055555555554</td>\n      <td>421.0236111111111</td>\n      <td>2.848194444444443</td>\n      <td>21.027778</td>\n      <td>72.563556</td>\n      <td>0</td>\n      <td>...</td>\n      <td>0</td>\n      <td>0</td>\n      <td>0</td>\n      <td>0</td>\n      <td>0</td>\n      <td>0</td>\n      <td>0</td>\n      <td>0</td>\n      <td>0</td>\n      <td>0</td>\n    </tr>\n    <tr>\n      <th>136600</th>\n      <td>7</td>\n      <td>2016</td>\n      <td>95391</td>\n      <td>353.1962365591398</td>\n      <td>51.979838709677416</td>\n      <td>444.3454301075269</td>\n      <td>3.042607526881721</td>\n      <td>22.479839</td>\n      <td>74.133884</td>\n      <td>0</td>\n      <td>...</td>\n      <td>0</td>\n      <td>0</td>\n      <td>0</td>\n      <td>0</td>\n      <td>0</td>\n      <td>0</td>\n      <td>0</td>\n      <td>0</td>\n      <td>0</td>\n      <td>0</td>\n    </tr>\n    <tr>\n      <th>136601</th>\n      <td>8</td>\n      <td>2016</td>\n      <td>95391</td>\n      <td>311.5860215053763</td>\n      <td>59.02150537634409</td>\n      <td>383.73924731182797</td>\n      <td>2.783198924731182</td>\n      <td>21.626344</td>\n      <td>79.857258</td>\n      <td>0</td>\n      <td>...</td>\n      <td>0</td>\n      <td>0</td>\n      <td>0</td>\n      <td>0</td>\n      <td>0</td>\n      <td>0</td>\n      <td>0</td>\n      <td>0</td>\n      <td>0</td>\n      <td>0</td>\n    </tr>\n    <tr>\n      <th>136602</th>\n      <td>9</td>\n      <td>2016</td>\n      <td>95391</td>\n      <td>250.94305555555556</td>\n      <td>54.38055555555555</td>\n      <td>335.81666666666666</td>\n      <td>2.278472222222222</td>\n      <td>20.904167</td>\n      <td>88.160292</td>\n      <td>0</td>\n      <td>...</td>\n      <td>0</td>\n      <td>0</td>\n      <td>0</td>\n      <td>0</td>\n      <td>0</td>\n      <td>0</td>\n      <td>0</td>\n      <td>0</td>\n      <td>0</td>\n      <td>0</td>\n    </tr>\n    <tr>\n      <th>136606</th>\n      <td>10</td>\n      <td>2016</td>\n      <td>95391</td>\n      <td>157.68279569892474</td>\n      <td>46.721774193548384</td>\n      <td>223.92876344086022</td>\n      <td>1.9084677419354859</td>\n      <td>16.962366</td>\n      <td>97.049610</td>\n      <td>0</td>\n      <td>...</td>\n      <td>0</td>\n      <td>0</td>\n      <td>0</td>\n      <td>0</td>\n      <td>0</td>\n      <td>0</td>\n      <td>0</td>\n      <td>0</td>\n      <td>0</td>\n      <td>0</td>\n    </tr>\n    <tr>\n      <th>136607</th>\n      <td>11</td>\n      <td>2016</td>\n      <td>95391</td>\n      <td>123.56111111111112</td>\n      <td>36.025</td>\n      <td>214.2236111111111</td>\n      <td>1.311944444444444</td>\n      <td>12.930556</td>\n      <td>104.168292</td>\n      <td>0</td>\n      <td>...</td>\n      <td>0</td>\n      <td>0</td>\n      <td>0</td>\n      <td>0</td>\n      <td>0</td>\n      <td>0</td>\n      <td>0</td>\n      <td>0</td>\n      <td>0</td>\n      <td>0</td>\n    </tr>\n    <tr>\n      <th>136608</th>\n      <td>12</td>\n      <td>2016</td>\n      <td>95391</td>\n      <td>96.52150537634408</td>\n      <td>30.143817204301076</td>\n      <td>183.39112903225808</td>\n      <td>1.7381720430107523</td>\n      <td>7.565860</td>\n      <td>107.355659</td>\n      <td>0</td>\n      <td>...</td>\n      <td>0</td>\n      <td>0</td>\n      <td>0</td>\n      <td>0</td>\n      <td>0</td>\n      <td>0</td>\n      <td>0</td>\n      <td>0</td>\n      <td>0</td>\n      <td>0</td>\n    </tr>\n    <tr>\n      <th>136612</th>\n      <td>1</td>\n      <td>2017</td>\n      <td>95391</td>\n      <td>91.47311827956989</td>\n      <td>34.77284946236559</td>\n      <td>142.99193548387098</td>\n      <td>2.272043010752687</td>\n      <td>7.454301</td>\n      <td>105.525524</td>\n      <td>0</td>\n      <td>...</td>\n      <td>0</td>\n      <td>0</td>\n      <td>0</td>\n      <td>0</td>\n      <td>0</td>\n      <td>0</td>\n      <td>0</td>\n      <td>0</td>\n      <td>0</td>\n      <td>0</td>\n    </tr>\n    <tr>\n      <th>136613</th>\n      <td>2</td>\n      <td>2017</td>\n      <td>95391</td>\n      <td>119.29761904761905</td>\n      <td>45.705357142857146</td>\n      <td>152.33928571428572</td>\n      <td>2.3635416666666687</td>\n      <td>10.333333</td>\n      <td>99.539970</td>\n      <td>0</td>\n      <td>...</td>\n      <td>0</td>\n      <td>0</td>\n      <td>0</td>\n      <td>0</td>\n      <td>0</td>\n      <td>0</td>\n      <td>0</td>\n      <td>0</td>\n      <td>0</td>\n      <td>0</td>\n    </tr>\n    <tr>\n      <th>136614</th>\n      <td>3</td>\n      <td>2017</td>\n      <td>95391</td>\n      <td>203.7540322580645</td>\n      <td>62.259408602150536</td>\n      <td>253.54032258064515</td>\n      <td>1.8357526881720427</td>\n      <td>12.122312</td>\n      <td>91.097258</td>\n      <td>0</td>\n      <td>...</td>\n      <td>0</td>\n      <td>0</td>\n      <td>0</td>\n      <td>0</td>\n      <td>0</td>\n      <td>0</td>\n      <td>0</td>\n      <td>0</td>\n      <td>0</td>\n      <td>0</td>\n    </tr>\n    <tr>\n      <th>136618</th>\n      <td>4</td>\n      <td>2017</td>\n      <td>95391</td>\n      <td>244.43194444444444</td>\n      <td>79.1875</td>\n      <td>256.8125</td>\n      <td>2.086666666666668</td>\n      <td>13.093056</td>\n      <td>82.232778</td>\n      <td>0</td>\n      <td>...</td>\n      <td>0</td>\n      <td>0</td>\n      <td>0</td>\n      <td>0</td>\n      <td>0</td>\n      <td>0</td>\n      <td>0</td>\n      <td>0</td>\n      <td>0</td>\n      <td>0</td>\n    </tr>\n    <tr>\n      <th>136619</th>\n      <td>5</td>\n      <td>2017</td>\n      <td>95391</td>\n      <td>323.39650537634407</td>\n      <td>75.68817204301075</td>\n      <td>364.77150537634407</td>\n      <td>2.4538978494623667</td>\n      <td>16.479839</td>\n      <td>75.512500</td>\n      <td>0</td>\n      <td>...</td>\n      <td>0</td>\n      <td>0</td>\n      <td>0</td>\n      <td>0</td>\n      <td>0</td>\n      <td>0</td>\n      <td>0</td>\n      <td>0</td>\n      <td>0</td>\n      <td>0</td>\n    </tr>\n    <tr>\n      <th>136620</th>\n      <td>6</td>\n      <td>2017</td>\n      <td>95391</td>\n      <td>341.8888888888889</td>\n      <td>71.13055555555556</td>\n      <td>392.3236111111111</td>\n      <td>2.907916666666664</td>\n      <td>20.322222</td>\n      <td>72.569222</td>\n      <td>0</td>\n      <td>...</td>\n      <td>0</td>\n      <td>0</td>\n      <td>0</td>\n      <td>0</td>\n      <td>0</td>\n      <td>0</td>\n      <td>0</td>\n      <td>0</td>\n      <td>0</td>\n      <td>0</td>\n    </tr>\n    <tr>\n      <th>136624</th>\n      <td>7</td>\n      <td>2017</td>\n      <td>95391</td>\n      <td>348.76478494623655</td>\n      <td>56.2244623655914</td>\n      <td>432.9005376344086</td>\n      <td>2.971639784946238</td>\n      <td>23.439516</td>\n      <td>74.104301</td>\n      <td>0</td>\n      <td>...</td>\n      <td>0</td>\n      <td>0</td>\n      <td>0</td>\n      <td>0</td>\n      <td>0</td>\n      <td>0</td>\n      <td>0</td>\n      <td>0</td>\n      <td>0</td>\n      <td>0</td>\n    </tr>\n    <tr>\n      <th>136625</th>\n      <td>8</td>\n      <td>2017</td>\n      <td>95391</td>\n      <td>292.0994623655914</td>\n      <td>69.59677419354838</td>\n      <td>335.2809139784946</td>\n      <td>2.758467741935484</td>\n      <td>23.518817</td>\n      <td>79.800081</td>\n      <td>0</td>\n      <td>...</td>\n      <td>0</td>\n      <td>0</td>\n      <td>0</td>\n      <td>0</td>\n      <td>0</td>\n      <td>0</td>\n      <td>0</td>\n      <td>0</td>\n      <td>0</td>\n      <td>0</td>\n    </tr>\n    <tr>\n      <th>136626</th>\n      <td>9</td>\n      <td>2017</td>\n      <td>95391</td>\n      <td>230.23611111111111</td>\n      <td>72.03888888888889</td>\n      <td>269.1041666666667</td>\n      <td>2.102916666666666</td>\n      <td>22.644444</td>\n      <td>88.089028</td>\n      <td>0</td>\n      <td>...</td>\n      <td>0</td>\n      <td>0</td>\n      <td>0</td>\n      <td>0</td>\n      <td>0</td>\n      <td>0</td>\n      <td>0</td>\n      <td>0</td>\n      <td>0</td>\n      <td>0</td>\n    </tr>\n    <tr>\n      <th>136630</th>\n      <td>9</td>\n      <td>2017</td>\n      <td>95391</td>\n      <td>230.23611111111111</td>\n      <td>72.03888888888889</td>\n      <td>269.1041666666667</td>\n      <td>2.102916666666666</td>\n      <td>22.644444</td>\n      <td>88.089028</td>\n      <td>0</td>\n      <td>...</td>\n      <td>0</td>\n      <td>0</td>\n      <td>0</td>\n      <td>0</td>\n      <td>0</td>\n      <td>0</td>\n      <td>0</td>\n      <td>0</td>\n      <td>0</td>\n      <td>0</td>\n    </tr>\n    <tr>\n      <th>136631</th>\n      <td>10</td>\n      <td>2017</td>\n      <td>95391</td>\n      <td>187.88844086021504</td>\n      <td>46.016129032258064</td>\n      <td>280.7795698924731</td>\n      <td>1.7405913978494623</td>\n      <td>18.061828</td>\n      <td>96.983091</td>\n      <td>0</td>\n      <td>...</td>\n      <td>0</td>\n      <td>0</td>\n      <td>0</td>\n      <td>0</td>\n      <td>0</td>\n      <td>0</td>\n      <td>0</td>\n      <td>0</td>\n      <td>0</td>\n      <td>0</td>\n    </tr>\n    <tr>\n      <th>136632</th>\n      <td>11</td>\n      <td>2017</td>\n      <td>95391</td>\n      <td>103.18888888888888</td>\n      <td>38.34027777777778</td>\n      <td>160.2875</td>\n      <td>1.3313888888888885</td>\n      <td>13.188889</td>\n      <td>104.124861</td>\n      <td>0</td>\n      <td>...</td>\n      <td>0</td>\n      <td>0</td>\n      <td>0</td>\n      <td>0</td>\n      <td>0</td>\n      <td>0</td>\n      <td>0</td>\n      <td>0</td>\n      <td>0</td>\n      <td>0</td>\n    </tr>\n    <tr>\n      <th>136633</th>\n      <td>12</td>\n      <td>2017</td>\n      <td>95391</td>\n      <td>109.9489247311828</td>\n      <td>30.392473118279568</td>\n      <td>220.79569892473117</td>\n      <td>1.2521505376344093</td>\n      <td>8.715054</td>\n      <td>107.348011</td>\n      <td>0</td>\n      <td>...</td>\n      <td>0</td>\n      <td>0</td>\n      <td>0</td>\n      <td>0</td>\n      <td>0</td>\n      <td>0</td>\n      <td>0</td>\n      <td>0</td>\n      <td>0</td>\n      <td>0</td>\n    </tr>\n    <tr>\n      <th>136638</th>\n      <td>1</td>\n      <td>2018</td>\n      <td>95391</td>\n      <td>78.24731182795699</td>\n      <td>36.60752688172043</td>\n      <td>104.23655913978494</td>\n      <td>1.421102150537634</td>\n      <td>11.026882</td>\n      <td>105.532460</td>\n      <td>0</td>\n      <td>...</td>\n      <td>0</td>\n      <td>0</td>\n      <td>0</td>\n      <td>0</td>\n      <td>0</td>\n      <td>0</td>\n      <td>0</td>\n      <td>0</td>\n      <td>0</td>\n      <td>0</td>\n    </tr>\n    <tr>\n      <th>136639</th>\n      <td>2</td>\n      <td>2018</td>\n      <td>95391</td>\n      <td>169.82589285714286</td>\n      <td>39.32142857142857</td>\n      <td>279.13690476190476</td>\n      <td>1.9380952380952412</td>\n      <td>10.541369</td>\n      <td>99.576830</td>\n      <td>0</td>\n      <td>...</td>\n      <td>0</td>\n      <td>0</td>\n      <td>0</td>\n      <td>0</td>\n      <td>0</td>\n      <td>0</td>\n      <td>0</td>\n      <td>0</td>\n      <td>0</td>\n      <td>0</td>\n    </tr>\n    <tr>\n      <th>136640</th>\n      <td>3</td>\n      <td>2018</td>\n      <td>95391</td>\n      <td>179.1034946236559</td>\n      <td>62.244623655913976</td>\n      <td>206.1008064516129</td>\n      <td>1.9114247311827934</td>\n      <td>11.801882</td>\n      <td>91.152030</td>\n      <td>0</td>\n      <td>...</td>\n      <td>0</td>\n      <td>0</td>\n      <td>0</td>\n      <td>0</td>\n      <td>0</td>\n      <td>0</td>\n      <td>0</td>\n      <td>0</td>\n      <td>0</td>\n      <td>0</td>\n    </tr>\n    <tr>\n      <th>136644</th>\n      <td>4</td>\n      <td>2018</td>\n      <td>95391</td>\n      <td>257.11805555555554</td>\n      <td>71.71111111111111</td>\n      <td>288.2597222222222</td>\n      <td>2.282499999999999</td>\n      <td>14.219722</td>\n      <td>82.271097</td>\n      <td>0</td>\n      <td>...</td>\n      <td>0</td>\n      <td>0</td>\n      <td>0</td>\n      <td>0</td>\n      <td>0</td>\n      <td>0</td>\n      <td>0</td>\n      <td>0</td>\n      <td>0</td>\n      <td>0</td>\n    </tr>\n    <tr>\n      <th>136645</th>\n      <td>5</td>\n      <td>2018</td>\n      <td>95391</td>\n      <td>320.66129032258067</td>\n      <td>72.8991935483871</td>\n      <td>360.14516129032256</td>\n      <td>2.984811827956987</td>\n      <td>16.944892</td>\n      <td>75.538401</td>\n      <td>0</td>\n      <td>...</td>\n      <td>0</td>\n      <td>0</td>\n      <td>0</td>\n      <td>0</td>\n      <td>0</td>\n      <td>0</td>\n      <td>0</td>\n      <td>0</td>\n      <td>0</td>\n      <td>0</td>\n    </tr>\n    <tr>\n      <th>136646</th>\n      <td>6</td>\n      <td>2018</td>\n      <td>95391</td>\n      <td>361.3041666666667</td>\n      <td>59.43055555555556</td>\n      <td>438.1763888888889</td>\n      <td>3.284166666666667</td>\n      <td>21.101944</td>\n      <td>72.552208</td>\n      <td>0</td>\n      <td>...</td>\n      <td>0</td>\n      <td>0</td>\n      <td>0</td>\n      <td>0</td>\n      <td>0</td>\n      <td>0</td>\n      <td>0</td>\n      <td>0</td>\n      <td>0</td>\n      <td>0</td>\n    </tr>\n    <tr>\n      <th>136650</th>\n      <td>7</td>\n      <td>2018</td>\n      <td>95391</td>\n      <td>337.78225806451616</td>\n      <td>67.21236559139786</td>\n      <td>393.7244623655914</td>\n      <td>3.353629032258063</td>\n      <td>24.481586</td>\n      <td>74.053938</td>\n      <td>0</td>\n      <td>...</td>\n      <td>0</td>\n      <td>0</td>\n      <td>0</td>\n      <td>0</td>\n      <td>0</td>\n      <td>0</td>\n      <td>0</td>\n      <td>0</td>\n      <td>0</td>\n      <td>0</td>\n    </tr>\n    <tr>\n      <th>136651</th>\n      <td>8</td>\n      <td>2018</td>\n      <td>95391</td>\n      <td>305.4516129032258</td>\n      <td>73.85215053763442</td>\n      <td>349.6317204301075</td>\n      <td>2.9022849462365605</td>\n      <td>22.480242</td>\n      <td>79.716613</td>\n      <td>0</td>\n      <td>...</td>\n      <td>0</td>\n      <td>0</td>\n      <td>0</td>\n      <td>0</td>\n      <td>0</td>\n      <td>0</td>\n      <td>0</td>\n      <td>0</td>\n      <td>0</td>\n      <td>0</td>\n    </tr>\n    <tr>\n      <th>136652</th>\n      <td>9</td>\n      <td>2018</td>\n      <td>95391</td>\n      <td>257.7375</td>\n      <td>48.87083333333333</td>\n      <td>349.71944444444443</td>\n      <td>2.495277777777778</td>\n      <td>21.041944</td>\n      <td>88.002000</td>\n      <td>0</td>\n      <td>...</td>\n      <td>0</td>\n      <td>0</td>\n      <td>0</td>\n      <td>0</td>\n      <td>0</td>\n      <td>0</td>\n      <td>0</td>\n      <td>0</td>\n      <td>0</td>\n      <td>0</td>\n    </tr>\n    <tr>\n      <th>136656</th>\n      <td>10</td>\n      <td>2018</td>\n      <td>95391</td>\n      <td>187.92741935483872</td>\n      <td>40.935483870967744</td>\n      <td>292.80645161290323</td>\n      <td>1.8658602150537653</td>\n      <td>18.553226</td>\n      <td>96.887030</td>\n      <td>0</td>\n      <td>...</td>\n      <td>0</td>\n      <td>0</td>\n      <td>0</td>\n      <td>0</td>\n      <td>0</td>\n      <td>0</td>\n      <td>0</td>\n      <td>0</td>\n      <td>0</td>\n      <td>0</td>\n    </tr>\n    <tr>\n      <th>136657</th>\n      <td>11</td>\n      <td>2018</td>\n      <td>95391</td>\n      <td>117.70416666666667</td>\n      <td>40.477777777777774</td>\n      <td>182.67638888888888</td>\n      <td>1.642638888888887</td>\n      <td>14.286111</td>\n      <td>104.060375</td>\n      <td>0</td>\n      <td>...</td>\n      <td>0</td>\n      <td>0</td>\n      <td>0</td>\n      <td>0</td>\n      <td>0</td>\n      <td>0</td>\n      <td>0</td>\n      <td>0</td>\n      <td>0</td>\n      <td>0</td>\n    </tr>\n    <tr>\n      <th>136658</th>\n      <td>12</td>\n      <td>2018</td>\n      <td>95391</td>\n      <td>85.90591397849462</td>\n      <td>29.541666666666668</td>\n      <td>157.23790322580646</td>\n      <td>1.640860215053763</td>\n      <td>9.677016</td>\n      <td>107.310551</td>\n      <td>0</td>\n      <td>...</td>\n      <td>0</td>\n      <td>0</td>\n      <td>0</td>\n      <td>0</td>\n      <td>0</td>\n      <td>0</td>\n      <td>0</td>\n      <td>0</td>\n      <td>0</td>\n      <td>0</td>\n    </tr>\n    <tr>\n      <th>136662</th>\n      <td>1</td>\n      <td>2019</td>\n      <td>95391</td>\n      <td>92.96774193548387</td>\n      <td>37.54838709677419</td>\n      <td>139.2997311827957</td>\n      <td>1.9508064516129056</td>\n      <td>10.818280</td>\n      <td>105.566505</td>\n      <td>0</td>\n      <td>...</td>\n      <td>0</td>\n      <td>0</td>\n      <td>0</td>\n      <td>0</td>\n      <td>0</td>\n      <td>0</td>\n      <td>0</td>\n      <td>0</td>\n      <td>0</td>\n      <td>0</td>\n    </tr>\n    <tr>\n      <th>136663</th>\n      <td>2</td>\n      <td>2019</td>\n      <td>95391</td>\n      <td>118.57738095238095</td>\n      <td>46.892857142857146</td>\n      <td>149.94196428571428</td>\n      <td>2.713690476190475</td>\n      <td>8.246577</td>\n      <td>99.637946</td>\n      <td>0</td>\n      <td>...</td>\n      <td>0</td>\n      <td>0</td>\n      <td>0</td>\n      <td>0</td>\n      <td>0</td>\n      <td>0</td>\n      <td>0</td>\n      <td>0</td>\n      <td>0</td>\n      <td>0</td>\n    </tr>\n    <tr>\n      <th>136664</th>\n      <td>3</td>\n      <td>2019</td>\n      <td>95391</td>\n      <td>182.49193548387098</td>\n      <td>65.125</td>\n      <td>207.8938172043011</td>\n      <td>1.8556451612903193</td>\n      <td>11.700134</td>\n      <td>91.223212</td>\n      <td>0</td>\n      <td>...</td>\n      <td>0</td>\n      <td>0</td>\n      <td>0</td>\n      <td>0</td>\n      <td>0</td>\n      <td>0</td>\n      <td>0</td>\n      <td>0</td>\n      <td>0</td>\n      <td>0</td>\n    </tr>\n    <tr>\n      <th>136668</th>\n      <td>4</td>\n      <td>2019</td>\n      <td>95391</td>\n      <td>255.10694444444445</td>\n      <td>74.85833333333333</td>\n      <td>276.1458333333333</td>\n      <td>2.1697222222222172</td>\n      <td>15.392917</td>\n      <td>82.335069</td>\n      <td>0</td>\n      <td>...</td>\n      <td>0</td>\n      <td>0</td>\n      <td>0</td>\n      <td>0</td>\n      <td>0</td>\n      <td>0</td>\n      <td>0</td>\n      <td>0</td>\n      <td>0</td>\n      <td>0</td>\n    </tr>\n    <tr>\n      <th>136669</th>\n      <td>5</td>\n      <td>2019</td>\n      <td>95391</td>\n      <td>294.4287634408602</td>\n      <td>81.01881720430107</td>\n      <td>310.5873655913978</td>\n      <td>2.7075268817204297</td>\n      <td>15.561828</td>\n      <td>75.577392</td>\n      <td>0</td>\n      <td>...</td>\n      <td>0</td>\n      <td>0</td>\n      <td>0</td>\n      <td>0</td>\n      <td>0</td>\n      <td>0</td>\n      <td>0</td>\n      <td>0</td>\n      <td>0</td>\n      <td>0</td>\n    </tr>\n    <tr>\n      <th>136670</th>\n      <td>6</td>\n      <td>2019</td>\n      <td>95391</td>\n      <td>351.4138888888889</td>\n      <td>66.28333333333333</td>\n      <td>410.4472222222222</td>\n      <td>2.948472222222225</td>\n      <td>21.398194</td>\n      <td>72.557472</td>\n      <td>0</td>\n      <td>...</td>\n      <td>0</td>\n      <td>0</td>\n      <td>0</td>\n      <td>0</td>\n      <td>0</td>\n      <td>0</td>\n      <td>0</td>\n      <td>0</td>\n      <td>0</td>\n      <td>0</td>\n    </tr>\n    <tr>\n      <th>136674</th>\n      <td>7</td>\n      <td>2019</td>\n      <td>95391</td>\n      <td>348.127688172043</td>\n      <td>56.70967741935484</td>\n      <td>427.5833333333333</td>\n      <td>3.2940860215053798</td>\n      <td>22.801747</td>\n      <td>74.023925</td>\n      <td>0</td>\n      <td>...</td>\n      <td>0</td>\n      <td>0</td>\n      <td>0</td>\n      <td>0</td>\n      <td>0</td>\n      <td>0</td>\n      <td>0</td>\n      <td>0</td>\n      <td>0</td>\n      <td>0</td>\n    </tr>\n    <tr>\n      <th>136675</th>\n      <td>8</td>\n      <td>2019</td>\n      <td>95391</td>\n      <td>312.28225806451616</td>\n      <td>54.63172043010753</td>\n      <td>389.9220430107527</td>\n      <td>3.0030913978494644</td>\n      <td>24.378091</td>\n      <td>79.659637</td>\n      <td>0</td>\n      <td>...</td>\n      <td>0</td>\n      <td>0</td>\n      <td>0</td>\n      <td>0</td>\n      <td>0</td>\n      <td>0</td>\n      <td>0</td>\n      <td>0</td>\n      <td>0</td>\n      <td>0</td>\n    </tr>\n    <tr>\n      <th>136676</th>\n      <td>9</td>\n      <td>2019</td>\n      <td>95391</td>\n      <td>250.71805555555557</td>\n      <td>49.37916666666667</td>\n      <td>342.4819444444444</td>\n      <td>2.5294444444444415</td>\n      <td>22.098333</td>\n      <td>87.930486</td>\n      <td>0</td>\n      <td>...</td>\n      <td>0</td>\n      <td>0</td>\n      <td>0</td>\n      <td>0</td>\n      <td>0</td>\n      <td>0</td>\n      <td>0</td>\n      <td>0</td>\n      <td>0</td>\n      <td>0</td>\n    </tr>\n    <tr>\n      <th>136680</th>\n      <td>10</td>\n      <td>2019</td>\n      <td>95391</td>\n      <td>199.41397849462365</td>\n      <td>39.899193548387096</td>\n      <td>314.4139784946237</td>\n      <td>1.9706989247311848</td>\n      <td>18.005780</td>\n      <td>96.818858</td>\n      <td>0</td>\n      <td>...</td>\n      <td>0</td>\n      <td>0</td>\n      <td>0</td>\n      <td>0</td>\n      <td>0</td>\n      <td>0</td>\n      <td>0</td>\n      <td>0</td>\n      <td>0</td>\n      <td>0</td>\n    </tr>\n    <tr>\n      <th>136681</th>\n      <td>11</td>\n      <td>2019</td>\n      <td>95391</td>\n      <td>128.82222222222222</td>\n      <td>34.46666666666667</td>\n      <td>226.15277777777777</td>\n      <td>1.5990277777777768</td>\n      <td>13.942639</td>\n      <td>104.016222</td>\n      <td>0</td>\n      <td>...</td>\n      <td>0</td>\n      <td>0</td>\n      <td>0</td>\n      <td>0</td>\n      <td>0</td>\n      <td>0</td>\n      <td>0</td>\n      <td>0</td>\n      <td>0</td>\n      <td>0</td>\n    </tr>\n    <tr>\n      <th>136682</th>\n      <td>12</td>\n      <td>2019</td>\n      <td>95391</td>\n      <td>75.23655913978494</td>\n      <td>32.969086021505376</td>\n      <td>116.34005376344086</td>\n      <td>1.9862903225806463</td>\n      <td>10.240860</td>\n      <td>107.304341</td>\n      <td>0</td>\n      <td>...</td>\n      <td>0</td>\n      <td>0</td>\n      <td>0</td>\n      <td>0</td>\n      <td>0</td>\n      <td>0</td>\n      <td>0</td>\n      <td>0</td>\n      <td>0</td>\n      <td>0</td>\n    </tr>\n  </tbody>\n</table>\n<p>54 rows × 21 columns</p>\n</div>"
          },
          "metadata": {}
        }
      ]
    },
    {
      "cell_type": "code",
      "metadata": {
        "tags": [],
        "cell_id": "00034-61f23b82-192b-4c45-a45f-e731a802ab3f",
        "deepnote_to_be_reexecuted": false,
        "source_hash": "6da4b47b",
        "execution_millis": 1,
        "execution_start": 1618697447199,
        "deepnote_cell_type": "code"
      },
      "source": "elec_Y_train_2 = elec_Y_train_2[:30559]\nelec_X_train_2 = elec_X_train_2[:30559]",
      "execution_count": null,
      "outputs": []
    },
    {
      "cell_type": "code",
      "metadata": {
        "tags": [],
        "cell_id": "00035-00cba569-3204-46db-af73-615953708c58",
        "deepnote_to_be_reexecuted": false,
        "source_hash": "62c6e467",
        "execution_millis": 113,
        "execution_start": 1618697449101,
        "deepnote_cell_type": "code"
      },
      "source": "elec_X_train_2[30500:]",
      "execution_count": null,
      "outputs": [
        {
          "output_type": "execute_result",
          "execution_count": 185,
          "data": {
            "application/vnd.deepnote.dataframe.v2+json": {
              "row_count": 59,
              "column_count": 21,
              "columns": [
                {
                  "name": "MONTH",
                  "dtype": "int64",
                  "stats": {
                    "unique_count": 12,
                    "nan_count": 0,
                    "min": "1",
                    "max": "12",
                    "histogram": [
                      {
                        "bin_start": 1,
                        "bin_end": 2.1,
                        "count": 9
                      },
                      {
                        "bin_start": 2.1,
                        "bin_end": 3.2,
                        "count": 5
                      },
                      {
                        "bin_start": 3.2,
                        "bin_end": 4.300000000000001,
                        "count": 5
                      },
                      {
                        "bin_start": 4.300000000000001,
                        "bin_end": 5.4,
                        "count": 5
                      },
                      {
                        "bin_start": 5.4,
                        "bin_end": 6.5,
                        "count": 5
                      },
                      {
                        "bin_start": 6.5,
                        "bin_end": 7.6000000000000005,
                        "count": 5
                      },
                      {
                        "bin_start": 7.6000000000000005,
                        "bin_end": 8.700000000000001,
                        "count": 5
                      },
                      {
                        "bin_start": 8.700000000000001,
                        "bin_end": 9.8,
                        "count": 6
                      },
                      {
                        "bin_start": 9.8,
                        "bin_end": 10.9,
                        "count": 5
                      },
                      {
                        "bin_start": 10.9,
                        "bin_end": 12,
                        "count": 9
                      }
                    ]
                  }
                },
                {
                  "name": "YEAR",
                  "dtype": "int64",
                  "stats": {
                    "unique_count": 5,
                    "nan_count": 0,
                    "min": "2015",
                    "max": "2019",
                    "histogram": [
                      {
                        "bin_start": 2015,
                        "bin_end": 2015.4,
                        "count": 11
                      },
                      {
                        "bin_start": 2015.4,
                        "bin_end": 2015.8,
                        "count": 0
                      },
                      {
                        "bin_start": 2015.8,
                        "bin_end": 2016.2,
                        "count": 12
                      },
                      {
                        "bin_start": 2016.2,
                        "bin_end": 2016.6,
                        "count": 0
                      },
                      {
                        "bin_start": 2016.6,
                        "bin_end": 2017,
                        "count": 0
                      },
                      {
                        "bin_start": 2017,
                        "bin_end": 2017.4,
                        "count": 13
                      },
                      {
                        "bin_start": 2017.4,
                        "bin_end": 2017.8,
                        "count": 0
                      },
                      {
                        "bin_start": 2017.8,
                        "bin_end": 2018.2,
                        "count": 12
                      },
                      {
                        "bin_start": 2018.2,
                        "bin_end": 2018.6,
                        "count": 0
                      },
                      {
                        "bin_start": 2018.6,
                        "bin_end": 2019,
                        "count": 11
                      }
                    ]
                  }
                },
                {
                  "name": "zip",
                  "dtype": "int64",
                  "stats": {
                    "unique_count": 1,
                    "nan_count": 0,
                    "min": "94582",
                    "max": "94582",
                    "histogram": [
                      {
                        "bin_start": 94581.5,
                        "bin_end": 94581.6,
                        "count": 0
                      },
                      {
                        "bin_start": 94581.6,
                        "bin_end": 94581.7,
                        "count": 0
                      },
                      {
                        "bin_start": 94581.7,
                        "bin_end": 94581.8,
                        "count": 0
                      },
                      {
                        "bin_start": 94581.8,
                        "bin_end": 94581.9,
                        "count": 0
                      },
                      {
                        "bin_start": 94581.9,
                        "bin_end": 94582,
                        "count": 0
                      },
                      {
                        "bin_start": 94582,
                        "bin_end": 94582.1,
                        "count": 59
                      },
                      {
                        "bin_start": 94582.1,
                        "bin_end": 94582.2,
                        "count": 0
                      },
                      {
                        "bin_start": 94582.2,
                        "bin_end": 94582.3,
                        "count": 0
                      },
                      {
                        "bin_start": 94582.3,
                        "bin_end": 94582.4,
                        "count": 0
                      },
                      {
                        "bin_start": 94582.4,
                        "bin_end": 94582.5,
                        "count": 0
                      }
                    ]
                  }
                },
                {
                  "name": "GHI_raw",
                  "dtype": "object",
                  "stats": {
                    "unique_count": 58,
                    "nan_count": 0,
                    "categories": [
                      {
                        "name": "226.6888888888889",
                        "count": 2
                      },
                      {
                        "name": "144.15625",
                        "count": 1
                      },
                      {
                        "name": "56 others",
                        "count": 56
                      }
                    ]
                  }
                },
                {
                  "name": "DHI_raw",
                  "dtype": "object",
                  "stats": {
                    "unique_count": 58,
                    "nan_count": 0,
                    "categories": [
                      {
                        "name": "68.21388888888889",
                        "count": 2
                      },
                      {
                        "name": "42.157738095238095",
                        "count": 1
                      },
                      {
                        "name": "56 others",
                        "count": 56
                      }
                    ]
                  }
                },
                {
                  "name": "DNI_raw",
                  "dtype": "object",
                  "stats": {
                    "unique_count": 58,
                    "nan_count": 0,
                    "categories": [
                      {
                        "name": "270.75138888888887",
                        "count": 2
                      },
                      {
                        "name": "216.8125",
                        "count": 1
                      },
                      {
                        "name": "56 others",
                        "count": 56
                      }
                    ]
                  }
                },
                {
                  "name": "Wind Speed",
                  "dtype": "object",
                  "stats": {
                    "unique_count": 58,
                    "nan_count": 0,
                    "categories": [
                      {
                        "name": "2.735694444444444",
                        "count": 2
                      },
                      {
                        "name": "1.8800595238095263",
                        "count": 1
                      },
                      {
                        "name": "56 others",
                        "count": 56
                      }
                    ]
                  }
                },
                {
                  "name": "Temperature_raw",
                  "dtype": "float64",
                  "stats": {
                    "unique_count": 58,
                    "nan_count": 0,
                    "min": "6.810483870967742",
                    "max": "20.67970430107527",
                    "histogram": [
                      {
                        "bin_start": 6.810483870967742,
                        "bin_end": 8.197405913978494,
                        "count": 5
                      },
                      {
                        "bin_start": 8.197405913978494,
                        "bin_end": 9.584327956989247,
                        "count": 4
                      },
                      {
                        "bin_start": 9.584327956989247,
                        "bin_end": 10.971250000000001,
                        "count": 6
                      },
                      {
                        "bin_start": 10.971250000000001,
                        "bin_end": 12.358172043010754,
                        "count": 7
                      },
                      {
                        "bin_start": 12.358172043010754,
                        "bin_end": 13.745094086021506,
                        "count": 8
                      },
                      {
                        "bin_start": 13.745094086021506,
                        "bin_end": 15.132016129032259,
                        "count": 3
                      },
                      {
                        "bin_start": 15.132016129032259,
                        "bin_end": 16.51893817204301,
                        "count": 3
                      },
                      {
                        "bin_start": 16.51893817204301,
                        "bin_end": 17.905860215053764,
                        "count": 7
                      },
                      {
                        "bin_start": 17.905860215053764,
                        "bin_end": 19.292782258064516,
                        "count": 7
                      },
                      {
                        "bin_start": 19.292782258064516,
                        "bin_end": 20.67970430107527,
                        "count": 9
                      }
                    ]
                  }
                },
                {
                  "name": "Solar_Zenith_Angle_raw",
                  "dtype": "float64",
                  "stats": {
                    "unique_count": 58,
                    "nan_count": 0,
                    "min": "72.54979166666668",
                    "max": "107.35567204301071",
                    "histogram": [
                      {
                        "bin_start": 72.54979166666668,
                        "bin_end": 76.03037970430108,
                        "count": 15
                      },
                      {
                        "bin_start": 76.03037970430108,
                        "bin_end": 79.51096774193549,
                        "count": 0
                      },
                      {
                        "bin_start": 79.51096774193549,
                        "bin_end": 82.9915557795699,
                        "count": 10
                      },
                      {
                        "bin_start": 82.9915557795699,
                        "bin_end": 86.4721438172043,
                        "count": 0
                      },
                      {
                        "bin_start": 86.4721438172043,
                        "bin_end": 89.9527318548387,
                        "count": 6
                      },
                      {
                        "bin_start": 89.9527318548387,
                        "bin_end": 93.4333198924731,
                        "count": 5
                      },
                      {
                        "bin_start": 93.4333198924731,
                        "bin_end": 96.9139079301075,
                        "count": 3
                      },
                      {
                        "bin_start": 96.9139079301075,
                        "bin_end": 100.3944959677419,
                        "count": 7
                      },
                      {
                        "bin_start": 100.3944959677419,
                        "bin_end": 103.87508400537631,
                        "count": 0
                      },
                      {
                        "bin_start": 103.87508400537631,
                        "bin_end": 107.35567204301071,
                        "count": 13
                      }
                    ]
                  }
                },
                {
                  "name": "k_12",
                  "dtype": "int64",
                  "stats": {
                    "unique_count": 50,
                    "nan_count": 0,
                    "min": "386",
                    "max": "632",
                    "histogram": [
                      {
                        "bin_start": 386,
                        "bin_end": 410.6,
                        "count": 3
                      },
                      {
                        "bin_start": 410.6,
                        "bin_end": 435.2,
                        "count": 4
                      },
                      {
                        "bin_start": 435.2,
                        "bin_end": 459.8,
                        "count": 9
                      },
                      {
                        "bin_start": 459.8,
                        "bin_end": 484.4,
                        "count": 11
                      },
                      {
                        "bin_start": 484.4,
                        "bin_end": 509,
                        "count": 2
                      },
                      {
                        "bin_start": 509,
                        "bin_end": 533.6,
                        "count": 6
                      },
                      {
                        "bin_start": 533.6,
                        "bin_end": 558.2,
                        "count": 6
                      },
                      {
                        "bin_start": 558.2,
                        "bin_end": 582.8,
                        "count": 7
                      },
                      {
                        "bin_start": 582.8,
                        "bin_end": 607.4,
                        "count": 9
                      },
                      {
                        "bin_start": 607.4,
                        "bin_end": 632,
                        "count": 2
                      }
                    ]
                  }
                },
                {
                  "name": "k_11",
                  "dtype": "int64",
                  "stats": {
                    "unique_count": 50,
                    "nan_count": 0,
                    "min": "386",
                    "max": "632",
                    "histogram": [
                      {
                        "bin_start": 386,
                        "bin_end": 410.6,
                        "count": 3
                      },
                      {
                        "bin_start": 410.6,
                        "bin_end": 435.2,
                        "count": 4
                      },
                      {
                        "bin_start": 435.2,
                        "bin_end": 459.8,
                        "count": 9
                      },
                      {
                        "bin_start": 459.8,
                        "bin_end": 484.4,
                        "count": 10
                      },
                      {
                        "bin_start": 484.4,
                        "bin_end": 509,
                        "count": 2
                      },
                      {
                        "bin_start": 509,
                        "bin_end": 533.6,
                        "count": 6
                      },
                      {
                        "bin_start": 533.6,
                        "bin_end": 558.2,
                        "count": 6
                      },
                      {
                        "bin_start": 558.2,
                        "bin_end": 582.8,
                        "count": 8
                      },
                      {
                        "bin_start": 582.8,
                        "bin_end": 607.4,
                        "count": 9
                      },
                      {
                        "bin_start": 607.4,
                        "bin_end": 632,
                        "count": 2
                      }
                    ]
                  }
                },
                {
                  "name": "k_10",
                  "dtype": "int64",
                  "stats": {
                    "unique_count": 50,
                    "nan_count": 0,
                    "min": "386",
                    "max": "632",
                    "histogram": [
                      {
                        "bin_start": 386,
                        "bin_end": 410.6,
                        "count": 3
                      },
                      {
                        "bin_start": 410.6,
                        "bin_end": 435.2,
                        "count": 4
                      },
                      {
                        "bin_start": 435.2,
                        "bin_end": 459.8,
                        "count": 9
                      },
                      {
                        "bin_start": 459.8,
                        "bin_end": 484.4,
                        "count": 9
                      },
                      {
                        "bin_start": 484.4,
                        "bin_end": 509,
                        "count": 2
                      },
                      {
                        "bin_start": 509,
                        "bin_end": 533.6,
                        "count": 7
                      },
                      {
                        "bin_start": 533.6,
                        "bin_end": 558.2,
                        "count": 6
                      },
                      {
                        "bin_start": 558.2,
                        "bin_end": 582.8,
                        "count": 8
                      },
                      {
                        "bin_start": 582.8,
                        "bin_end": 607.4,
                        "count": 9
                      },
                      {
                        "bin_start": 607.4,
                        "bin_end": 632,
                        "count": 2
                      }
                    ]
                  }
                },
                {
                  "name": "k_9",
                  "dtype": "int64",
                  "stats": {
                    "unique_count": 51,
                    "nan_count": 0,
                    "min": "386",
                    "max": "632",
                    "histogram": [
                      {
                        "bin_start": 386,
                        "bin_end": 410.6,
                        "count": 3
                      },
                      {
                        "bin_start": 410.6,
                        "bin_end": 435.2,
                        "count": 4
                      },
                      {
                        "bin_start": 435.2,
                        "bin_end": 459.8,
                        "count": 8
                      },
                      {
                        "bin_start": 459.8,
                        "bin_end": 484.4,
                        "count": 9
                      },
                      {
                        "bin_start": 484.4,
                        "bin_end": 509,
                        "count": 3
                      },
                      {
                        "bin_start": 509,
                        "bin_end": 533.6,
                        "count": 7
                      },
                      {
                        "bin_start": 533.6,
                        "bin_end": 558.2,
                        "count": 6
                      },
                      {
                        "bin_start": 558.2,
                        "bin_end": 582.8,
                        "count": 8
                      },
                      {
                        "bin_start": 582.8,
                        "bin_end": 607.4,
                        "count": 9
                      },
                      {
                        "bin_start": 607.4,
                        "bin_end": 632,
                        "count": 2
                      }
                    ]
                  }
                },
                {
                  "name": "k_8",
                  "dtype": "int64",
                  "stats": {
                    "unique_count": 51,
                    "nan_count": 0,
                    "min": "386",
                    "max": "632",
                    "histogram": [
                      {
                        "bin_start": 386,
                        "bin_end": 410.6,
                        "count": 3
                      },
                      {
                        "bin_start": 410.6,
                        "bin_end": 435.2,
                        "count": 4
                      },
                      {
                        "bin_start": 435.2,
                        "bin_end": 459.8,
                        "count": 9
                      },
                      {
                        "bin_start": 459.8,
                        "bin_end": 484.4,
                        "count": 9
                      },
                      {
                        "bin_start": 484.4,
                        "bin_end": 509,
                        "count": 2
                      },
                      {
                        "bin_start": 509,
                        "bin_end": 533.6,
                        "count": 7
                      },
                      {
                        "bin_start": 533.6,
                        "bin_end": 558.2,
                        "count": 6
                      },
                      {
                        "bin_start": 558.2,
                        "bin_end": 582.8,
                        "count": 8
                      },
                      {
                        "bin_start": 582.8,
                        "bin_end": 607.4,
                        "count": 9
                      },
                      {
                        "bin_start": 607.4,
                        "bin_end": 632,
                        "count": 2
                      }
                    ]
                  }
                },
                {
                  "name": "k_7",
                  "dtype": "int64",
                  "stats": {
                    "unique_count": 51,
                    "nan_count": 0,
                    "min": "382",
                    "max": "632",
                    "histogram": [
                      {
                        "bin_start": 382,
                        "bin_end": 407,
                        "count": 3
                      },
                      {
                        "bin_start": 407,
                        "bin_end": 432,
                        "count": 4
                      },
                      {
                        "bin_start": 432,
                        "bin_end": 457,
                        "count": 9
                      },
                      {
                        "bin_start": 457,
                        "bin_end": 482,
                        "count": 9
                      },
                      {
                        "bin_start": 482,
                        "bin_end": 507,
                        "count": 3
                      },
                      {
                        "bin_start": 507,
                        "bin_end": 532,
                        "count": 7
                      },
                      {
                        "bin_start": 532,
                        "bin_end": 557,
                        "count": 4
                      },
                      {
                        "bin_start": 557,
                        "bin_end": 582,
                        "count": 9
                      },
                      {
                        "bin_start": 582,
                        "bin_end": 607,
                        "count": 9
                      },
                      {
                        "bin_start": 607,
                        "bin_end": 632,
                        "count": 2
                      }
                    ]
                  }
                },
                {
                  "name": "k_6",
                  "dtype": "int64",
                  "stats": {
                    "unique_count": 51,
                    "nan_count": 0,
                    "min": "380",
                    "max": "632",
                    "histogram": [
                      {
                        "bin_start": 380,
                        "bin_end": 405.2,
                        "count": 4
                      },
                      {
                        "bin_start": 405.2,
                        "bin_end": 430.4,
                        "count": 3
                      },
                      {
                        "bin_start": 430.4,
                        "bin_end": 455.6,
                        "count": 10
                      },
                      {
                        "bin_start": 455.6,
                        "bin_end": 480.8,
                        "count": 9
                      },
                      {
                        "bin_start": 480.8,
                        "bin_end": 506,
                        "count": 3
                      },
                      {
                        "bin_start": 506,
                        "bin_end": 531.2,
                        "count": 7
                      },
                      {
                        "bin_start": 531.2,
                        "bin_end": 556.4,
                        "count": 4
                      },
                      {
                        "bin_start": 556.4,
                        "bin_end": 581.6,
                        "count": 9
                      },
                      {
                        "bin_start": 581.6,
                        "bin_end": 606.8,
                        "count": 9
                      },
                      {
                        "bin_start": 606.8,
                        "bin_end": 632,
                        "count": 1
                      }
                    ]
                  }
                },
                {
                  "name": "k_5",
                  "dtype": "int64",
                  "stats": {
                    "unique_count": 51,
                    "nan_count": 0,
                    "min": "380",
                    "max": "632",
                    "histogram": [
                      {
                        "bin_start": 380,
                        "bin_end": 405.2,
                        "count": 4
                      },
                      {
                        "bin_start": 405.2,
                        "bin_end": 430.4,
                        "count": 3
                      },
                      {
                        "bin_start": 430.4,
                        "bin_end": 455.6,
                        "count": 10
                      },
                      {
                        "bin_start": 455.6,
                        "bin_end": 480.8,
                        "count": 9
                      },
                      {
                        "bin_start": 480.8,
                        "bin_end": 506,
                        "count": 4
                      },
                      {
                        "bin_start": 506,
                        "bin_end": 531.2,
                        "count": 7
                      },
                      {
                        "bin_start": 531.2,
                        "bin_end": 556.4,
                        "count": 4
                      },
                      {
                        "bin_start": 556.4,
                        "bin_end": 581.6,
                        "count": 8
                      },
                      {
                        "bin_start": 581.6,
                        "bin_end": 606.8,
                        "count": 9
                      },
                      {
                        "bin_start": 606.8,
                        "bin_end": 632,
                        "count": 1
                      }
                    ]
                  }
                },
                {
                  "name": "k_4",
                  "dtype": "int64",
                  "stats": {
                    "unique_count": 52,
                    "nan_count": 0,
                    "min": "380",
                    "max": "632",
                    "histogram": [
                      {
                        "bin_start": 380,
                        "bin_end": 405.2,
                        "count": 4
                      },
                      {
                        "bin_start": 405.2,
                        "bin_end": 430.4,
                        "count": 3
                      },
                      {
                        "bin_start": 430.4,
                        "bin_end": 455.6,
                        "count": 10
                      },
                      {
                        "bin_start": 455.6,
                        "bin_end": 480.8,
                        "count": 9
                      },
                      {
                        "bin_start": 480.8,
                        "bin_end": 506,
                        "count": 5
                      },
                      {
                        "bin_start": 506,
                        "bin_end": 531.2,
                        "count": 7
                      },
                      {
                        "bin_start": 531.2,
                        "bin_end": 556.4,
                        "count": 4
                      },
                      {
                        "bin_start": 556.4,
                        "bin_end": 581.6,
                        "count": 7
                      },
                      {
                        "bin_start": 581.6,
                        "bin_end": 606.8,
                        "count": 9
                      },
                      {
                        "bin_start": 606.8,
                        "bin_end": 632,
                        "count": 1
                      }
                    ]
                  }
                },
                {
                  "name": "k_3",
                  "dtype": "int64",
                  "stats": {
                    "unique_count": 52,
                    "nan_count": 0,
                    "min": "380",
                    "max": "632",
                    "histogram": [
                      {
                        "bin_start": 380,
                        "bin_end": 405.2,
                        "count": 4
                      },
                      {
                        "bin_start": 405.2,
                        "bin_end": 430.4,
                        "count": 3
                      },
                      {
                        "bin_start": 430.4,
                        "bin_end": 455.6,
                        "count": 10
                      },
                      {
                        "bin_start": 455.6,
                        "bin_end": 480.8,
                        "count": 9
                      },
                      {
                        "bin_start": 480.8,
                        "bin_end": 506,
                        "count": 5
                      },
                      {
                        "bin_start": 506,
                        "bin_end": 531.2,
                        "count": 6
                      },
                      {
                        "bin_start": 531.2,
                        "bin_end": 556.4,
                        "count": 4
                      },
                      {
                        "bin_start": 556.4,
                        "bin_end": 581.6,
                        "count": 7
                      },
                      {
                        "bin_start": 581.6,
                        "bin_end": 606.8,
                        "count": 9
                      },
                      {
                        "bin_start": 606.8,
                        "bin_end": 632,
                        "count": 2
                      }
                    ]
                  }
                },
                {
                  "name": "k_2",
                  "dtype": "int64",
                  "stats": {
                    "unique_count": 52,
                    "nan_count": 0,
                    "min": "380",
                    "max": "632",
                    "histogram": [
                      {
                        "bin_start": 380,
                        "bin_end": 405.2,
                        "count": 4
                      },
                      {
                        "bin_start": 405.2,
                        "bin_end": 430.4,
                        "count": 3
                      },
                      {
                        "bin_start": 430.4,
                        "bin_end": 455.6,
                        "count": 10
                      },
                      {
                        "bin_start": 455.6,
                        "bin_end": 480.8,
                        "count": 9
                      },
                      {
                        "bin_start": 480.8,
                        "bin_end": 506,
                        "count": 5
                      },
                      {
                        "bin_start": 506,
                        "bin_end": 531.2,
                        "count": 6
                      },
                      {
                        "bin_start": 531.2,
                        "bin_end": 556.4,
                        "count": 4
                      },
                      {
                        "bin_start": 556.4,
                        "bin_end": 581.6,
                        "count": 7
                      },
                      {
                        "bin_start": 581.6,
                        "bin_end": 606.8,
                        "count": 9
                      },
                      {
                        "bin_start": 606.8,
                        "bin_end": 632,
                        "count": 2
                      }
                    ]
                  }
                },
                {
                  "name": "k_1",
                  "dtype": "int64",
                  "stats": {
                    "unique_count": 52,
                    "nan_count": 0,
                    "min": "380",
                    "max": "632",
                    "histogram": [
                      {
                        "bin_start": 380,
                        "bin_end": 405.2,
                        "count": 4
                      },
                      {
                        "bin_start": 405.2,
                        "bin_end": 430.4,
                        "count": 4
                      },
                      {
                        "bin_start": 430.4,
                        "bin_end": 455.6,
                        "count": 10
                      },
                      {
                        "bin_start": 455.6,
                        "bin_end": 480.8,
                        "count": 9
                      },
                      {
                        "bin_start": 480.8,
                        "bin_end": 506,
                        "count": 5
                      },
                      {
                        "bin_start": 506,
                        "bin_end": 531.2,
                        "count": 6
                      },
                      {
                        "bin_start": 531.2,
                        "bin_end": 556.4,
                        "count": 4
                      },
                      {
                        "bin_start": 556.4,
                        "bin_end": 581.6,
                        "count": 6
                      },
                      {
                        "bin_start": 581.6,
                        "bin_end": 606.8,
                        "count": 9
                      },
                      {
                        "bin_start": 606.8,
                        "bin_end": 632,
                        "count": 2
                      }
                    ]
                  }
                },
                {
                  "name": "_deepnote_index_column",
                  "dtype": "int64"
                }
              ],
              "rows_top": [
                {
                  "MONTH": 2,
                  "YEAR": 2015,
                  "zip": 94582,
                  "GHI_raw": "144.15625",
                  "DHI_raw": "42.157738095238095",
                  "DNI_raw": "216.8125",
                  "Wind Speed": "1.8800595238095263",
                  "Temperature_raw": 11.425595238095235,
                  "Solar_Zenith_Angle_raw": 99.67206845238098,
                  "k_12": 481,
                  "k_11": 483,
                  "k_10": 450,
                  "k_9": 493,
                  "k_8": 535,
                  "k_7": 627,
                  "k_6": 572,
                  "k_5": 565,
                  "k_4": 527,
                  "k_3": 494,
                  "k_2": 578,
                  "k_1": 550,
                  "_deepnote_index_column": 136377
                },
                {
                  "MONTH": 3,
                  "YEAR": 2015,
                  "zip": 94582,
                  "GHI_raw": "220.53897849462365",
                  "DHI_raw": "58.70564516129032",
                  "DNI_raw": "280.0416666666667",
                  "Wind Speed": "1.9364247311827982",
                  "Temperature_raw": 12.643817204301076,
                  "Solar_Zenith_Angle_raw": 91.25260752688168,
                  "k_12": 483,
                  "k_11": 450,
                  "k_10": 493,
                  "k_9": 535,
                  "k_8": 627,
                  "k_7": 572,
                  "k_6": 565,
                  "k_5": 527,
                  "k_4": 494,
                  "k_3": 578,
                  "k_2": 550,
                  "k_1": 448,
                  "_deepnote_index_column": 136378
                },
                {
                  "MONTH": 4,
                  "YEAR": 2015,
                  "zip": 94582,
                  "GHI_raw": "285.8986111111111",
                  "DHI_raw": "66.54027777777777",
                  "DNI_raw": "336.65",
                  "Wind Speed": "2.8927777777777774",
                  "Temperature_raw": 12.468055555555557,
                  "Solar_Zenith_Angle_raw": 82.37086111111111,
                  "k_12": 450,
                  "k_11": 493,
                  "k_10": 535,
                  "k_9": 627,
                  "k_8": 572,
                  "k_7": 565,
                  "k_6": 527,
                  "k_5": 494,
                  "k_4": 578,
                  "k_3": 550,
                  "k_2": 448,
                  "k_1": 461,
                  "_deepnote_index_column": 136382
                },
                {
                  "MONTH": 5,
                  "YEAR": 2015,
                  "zip": 94582,
                  "GHI_raw": "285.23521505376345",
                  "DHI_raw": "88.8024193548387",
                  "DNI_raw": "278.7943548387097",
                  "Wind Speed": "3.520967741935483",
                  "Temperature_raw": 12.96236559139785,
                  "Solar_Zenith_Angle_raw": 75.5980376344086,
                  "k_12": 493,
                  "k_11": 535,
                  "k_10": 627,
                  "k_9": 572,
                  "k_8": 565,
                  "k_7": 527,
                  "k_6": 494,
                  "k_5": 578,
                  "k_4": 550,
                  "k_3": 448,
                  "k_2": 461,
                  "k_1": 420,
                  "_deepnote_index_column": 136383
                },
                {
                  "MONTH": 6,
                  "YEAR": 2015,
                  "zip": 94582,
                  "GHI_raw": "337.7236111111111",
                  "DHI_raw": "66.32777777777778",
                  "DNI_raw": "386.72083333333336",
                  "Wind Speed": "3.754861111111112",
                  "Temperature_raw": 17.68611111111111,
                  "Solar_Zenith_Angle_raw": 72.58208333333336,
                  "k_12": 535,
                  "k_11": 627,
                  "k_10": 572,
                  "k_9": 565,
                  "k_8": 527,
                  "k_7": 494,
                  "k_6": 578,
                  "k_5": 550,
                  "k_4": 448,
                  "k_3": 461,
                  "k_2": 420,
                  "k_1": 435,
                  "_deepnote_index_column": 136384
                },
                {
                  "MONTH": 7,
                  "YEAR": 2015,
                  "zip": 94582,
                  "GHI_raw": "318.5443548387097",
                  "DHI_raw": "69.7997311827957",
                  "DNI_raw": "351.86424731182797",
                  "Wind Speed": "3.8655913978494594",
                  "Temperature_raw": 19.571236559139784,
                  "Solar_Zenith_Angle_raw": 74.04212365591403,
                  "k_12": 627,
                  "k_11": 572,
                  "k_10": 565,
                  "k_9": 527,
                  "k_8": 494,
                  "k_7": 578,
                  "k_6": 550,
                  "k_5": 448,
                  "k_4": 461,
                  "k_3": 420,
                  "k_2": 435,
                  "k_1": 540,
                  "_deepnote_index_column": 136388
                },
                {
                  "MONTH": 8,
                  "YEAR": 2015,
                  "zip": 94582,
                  "GHI_raw": "299.994623655914",
                  "DHI_raw": "61.043010752688176",
                  "DNI_raw": "357.0389784946237",
                  "Wind Speed": "3.393413978494625",
                  "Temperature_raw": 19.655913978494624,
                  "Solar_Zenith_Angle_raw": 79.67711021505377,
                  "k_12": 572,
                  "k_11": 565,
                  "k_10": 527,
                  "k_9": 494,
                  "k_8": 578,
                  "k_7": 550,
                  "k_6": 448,
                  "k_5": 461,
                  "k_4": 420,
                  "k_3": 435,
                  "k_2": 540,
                  "k_1": 577,
                  "_deepnote_index_column": 136389
                },
                {
                  "MONTH": 9,
                  "YEAR": 2015,
                  "zip": 94582,
                  "GHI_raw": "236.29444444444445",
                  "DHI_raw": "55.03055555555556",
                  "DNI_raw": "302.4402777777778",
                  "Wind Speed": "2.7661111111111123",
                  "Temperature_raw": 19.379166666666663,
                  "Solar_Zenith_Angle_raw": 87.93731944444441,
                  "k_12": 565,
                  "k_11": 527,
                  "k_10": 494,
                  "k_9": 578,
                  "k_8": 550,
                  "k_7": 448,
                  "k_6": 461,
                  "k_5": 420,
                  "k_4": 435,
                  "k_3": 540,
                  "k_2": 577,
                  "k_1": 591,
                  "_deepnote_index_column": 136390
                },
                {
                  "MONTH": 10,
                  "YEAR": 2015,
                  "zip": 94582,
                  "GHI_raw": "182.71505376344086",
                  "DHI_raw": "41.40456989247312",
                  "DNI_raw": "275.7956989247312",
                  "Wind Speed": "2.103763440860216",
                  "Temperature_raw": 17.951612903225808,
                  "Solar_Zenith_Angle_raw": 96.8405913978494,
                  "k_12": 527,
                  "k_11": 494,
                  "k_10": 578,
                  "k_9": 550,
                  "k_8": 448,
                  "k_7": 461,
                  "k_6": 420,
                  "k_5": 435,
                  "k_4": 540,
                  "k_3": 577,
                  "k_2": 591,
                  "k_1": 591,
                  "_deepnote_index_column": 136394
                },
                {
                  "MONTH": 11,
                  "YEAR": 2015,
                  "zip": 94582,
                  "GHI_raw": "128.25694444444446",
                  "DHI_raw": "32.397222222222226",
                  "DNI_raw": "237.9875",
                  "Wind Speed": "1.8808333333333382",
                  "Temperature_raw": 9.829166666666667,
                  "Solar_Zenith_Angle_raw": 104.03172222222224,
                  "k_12": 494,
                  "k_11": 578,
                  "k_10": 550,
                  "k_9": 448,
                  "k_8": 461,
                  "k_7": 420,
                  "k_6": 435,
                  "k_5": 540,
                  "k_4": 577,
                  "k_3": 591,
                  "k_2": 591,
                  "k_1": 509,
                  "_deepnote_index_column": 136395
                },
                {
                  "MONTH": 12,
                  "YEAR": 2015,
                  "zip": 94582,
                  "GHI_raw": "88.18413978494624",
                  "DHI_raw": "33.60215053763441",
                  "DNI_raw": "151.97177419354838",
                  "Wind Speed": "2.0061827956989258",
                  "Temperature_raw": 7.704301075268817,
                  "Solar_Zenith_Angle_raw": 107.3338575268818,
                  "k_12": 578,
                  "k_11": 550,
                  "k_10": 448,
                  "k_9": 461,
                  "k_8": 420,
                  "k_7": 435,
                  "k_6": 540,
                  "k_5": 577,
                  "k_4": 591,
                  "k_3": 591,
                  "k_2": 509,
                  "k_1": 511,
                  "_deepnote_index_column": 136396
                },
                {
                  "MONTH": 1,
                  "YEAR": 2016,
                  "zip": 94582,
                  "GHI_raw": "89.50940860215054",
                  "DHI_raw": "41.26747311827957",
                  "DNI_raw": "125.08198924731182",
                  "Wind Speed": "1.8619623655913973",
                  "Temperature_raw": 8.950268817204302,
                  "Solar_Zenith_Angle_raw": 105.63044354838718,
                  "k_12": 550,
                  "k_11": 448,
                  "k_10": 461,
                  "k_9": 420,
                  "k_8": 435,
                  "k_7": 540,
                  "k_6": 577,
                  "k_5": 591,
                  "k_4": 591,
                  "k_3": 509,
                  "k_2": 511,
                  "k_1": 599,
                  "_deepnote_index_column": 136400
                },
                {
                  "MONTH": 2,
                  "YEAR": 2016,
                  "zip": 94582,
                  "GHI_raw": "165.2782738095238",
                  "DHI_raw": "41.86309523809524",
                  "DNI_raw": "266.7113095238095",
                  "Wind Speed": "1.7188988095238107",
                  "Temperature_raw": 10.65625,
                  "Solar_Zenith_Angle_raw": 99.73425595238082,
                  "k_12": 448,
                  "k_11": 461,
                  "k_10": 420,
                  "k_9": 435,
                  "k_8": 540,
                  "k_7": 577,
                  "k_6": 591,
                  "k_5": 591,
                  "k_4": 509,
                  "k_3": 511,
                  "k_2": 599,
                  "k_1": 560,
                  "_deepnote_index_column": 136401
                },
                {
                  "MONTH": 3,
                  "YEAR": 2016,
                  "zip": 94582,
                  "GHI_raw": "182.38575268817203",
                  "DHI_raw": "62.03763440860215",
                  "DNI_raw": "212.18279569892474",
                  "Wind Speed": "2.415591397849461",
                  "Temperature_raw": 11.100806451612904,
                  "Solar_Zenith_Angle_raw": 91.02423387096766,
                  "k_12": 461,
                  "k_11": 420,
                  "k_10": 435,
                  "k_9": 540,
                  "k_8": 577,
                  "k_7": 591,
                  "k_6": 591,
                  "k_5": 509,
                  "k_4": 511,
                  "k_3": 599,
                  "k_2": 560,
                  "k_1": 451,
                  "_deepnote_index_column": 136402
                },
                {
                  "MONTH": 4,
                  "YEAR": 2016,
                  "zip": 94582,
                  "GHI_raw": "254.8125",
                  "DHI_raw": "74.73472222222222",
                  "DNI_raw": "279.8875",
                  "Wind Speed": "2.5758333333333314",
                  "Temperature_raw": 12.805555555555555,
                  "Solar_Zenith_Angle_raw": 82.16840277777777,
                  "k_12": 420,
                  "k_11": 435,
                  "k_10": 540,
                  "k_9": 577,
                  "k_8": 591,
                  "k_7": 591,
                  "k_6": 509,
                  "k_5": 511,
                  "k_4": 599,
                  "k_3": 560,
                  "k_2": 451,
                  "k_1": 473,
                  "_deepnote_index_column": 136406
                },
                {
                  "MONTH": 5,
                  "YEAR": 2016,
                  "zip": 94582,
                  "GHI_raw": "291.6962365591398",
                  "DHI_raw": "81.94086021505376",
                  "DNI_raw": "306.2432795698925",
                  "Wind Speed": "2.958333333333334",
                  "Temperature_raw": 14.33736559139785,
                  "Solar_Zenith_Angle_raw": 75.4728494623656,
                  "k_12": 435,
                  "k_11": 540,
                  "k_10": 577,
                  "k_9": 591,
                  "k_8": 591,
                  "k_7": 509,
                  "k_6": 511,
                  "k_5": 599,
                  "k_4": 560,
                  "k_3": 451,
                  "k_2": 473,
                  "k_1": 419,
                  "_deepnote_index_column": 136407
                },
                {
                  "MONTH": 6,
                  "YEAR": 2016,
                  "zip": 94582,
                  "GHI_raw": "355.05",
                  "DHI_raw": "59.81111111111111",
                  "DNI_raw": "427.2611111111111",
                  "Wind Speed": "3.566805555555553",
                  "Temperature_raw": 17.3,
                  "Solar_Zenith_Angle_raw": 72.56352777777774,
                  "k_12": 540,
                  "k_11": 577,
                  "k_10": 591,
                  "k_9": 591,
                  "k_8": 509,
                  "k_7": 511,
                  "k_6": 599,
                  "k_5": 560,
                  "k_4": 451,
                  "k_3": 473,
                  "k_2": 419,
                  "k_1": 462,
                  "_deepnote_index_column": 136408
                },
                {
                  "MONTH": 7,
                  "YEAR": 2016,
                  "zip": 94582,
                  "GHI_raw": "352.11290322580646",
                  "DHI_raw": "51.24327956989247",
                  "DNI_raw": "442.2970430107527",
                  "Wind Speed": "3.984274193548389",
                  "Temperature_raw": 18.094086021505376,
                  "Solar_Zenith_Angle_raw": 74.13374999999999,
                  "k_12": 577,
                  "k_11": 591,
                  "k_10": 591,
                  "k_9": 509,
                  "k_8": 511,
                  "k_7": 599,
                  "k_6": 560,
                  "k_5": 451,
                  "k_4": 473,
                  "k_3": 419,
                  "k_2": 462,
                  "k_1": 565,
                  "_deepnote_index_column": 136412
                },
                {
                  "MONTH": 8,
                  "YEAR": 2016,
                  "zip": 94582,
                  "GHI_raw": "309.14784946236557",
                  "DHI_raw": "58.206989247311824",
                  "DNI_raw": "378.26747311827955",
                  "Wind Speed": "3.6731182795698896",
                  "Temperature_raw": 17.571236559139784,
                  "Solar_Zenith_Angle_raw": 79.85732526881716,
                  "k_12": 591,
                  "k_11": 591,
                  "k_10": 509,
                  "k_9": 511,
                  "k_8": 599,
                  "k_7": 560,
                  "k_6": 451,
                  "k_5": 473,
                  "k_4": 419,
                  "k_3": 462,
                  "k_2": 565,
                  "k_1": 602,
                  "_deepnote_index_column": 136413
                },
                {
                  "MONTH": 9,
                  "YEAR": 2016,
                  "zip": 94582,
                  "GHI_raw": "256.64166666666665",
                  "DHI_raw": "48.452777777777776",
                  "DNI_raw": "354.4875",
                  "Wind Speed": "3.0451388888888884",
                  "Temperature_raw": 18.0875,
                  "Solar_Zenith_Angle_raw": 88.15993055555545,
                  "k_12": 591,
                  "k_11": 509,
                  "k_10": 511,
                  "k_9": 599,
                  "k_8": 560,
                  "k_7": 451,
                  "k_6": 473,
                  "k_5": 419,
                  "k_4": 462,
                  "k_3": 565,
                  "k_2": 602,
                  "k_1": 534,
                  "_deepnote_index_column": 136414
                },
                {
                  "MONTH": 10,
                  "YEAR": 2016,
                  "zip": 94582,
                  "GHI_raw": "156.61559139784947",
                  "DHI_raw": "44.46370967741935",
                  "DNI_raw": "224.9959677419355",
                  "Wind Speed": "2.31680107526882",
                  "Temperature_raw": 15.158602150537634,
                  "Solar_Zenith_Angle_raw": 97.04954301075271,
                  "k_12": 509,
                  "k_11": 511,
                  "k_10": 599,
                  "k_9": 560,
                  "k_8": 451,
                  "k_7": 473,
                  "k_6": 419,
                  "k_5": 462,
                  "k_4": 565,
                  "k_3": 602,
                  "k_2": 534,
                  "k_1": 519,
                  "_deepnote_index_column": 136418
                },
                {
                  "MONTH": 11,
                  "YEAR": 2016,
                  "zip": 94582,
                  "GHI_raw": "121.4",
                  "DHI_raw": "36.46388888888889",
                  "DNI_raw": "208.33055555555555",
                  "Wind Speed": "1.5547222222222243",
                  "Temperature_raw": 11.901388888888889,
                  "Solar_Zenith_Angle_raw": 104.1682777777778,
                  "k_12": 511,
                  "k_11": 599,
                  "k_10": 560,
                  "k_9": 451,
                  "k_8": 473,
                  "k_7": 419,
                  "k_6": 462,
                  "k_5": 565,
                  "k_4": 602,
                  "k_3": 534,
                  "k_2": 519,
                  "k_1": 467,
                  "_deepnote_index_column": 136419
                },
                {
                  "MONTH": 12,
                  "YEAR": 2016,
                  "zip": 94582,
                  "GHI_raw": "97.27688172043011",
                  "DHI_raw": "29.028225806451612",
                  "DNI_raw": "189.24327956989248",
                  "Wind Speed": "1.8745967741935496",
                  "Temperature_raw": 6.90994623655914,
                  "Solar_Zenith_Angle_raw": 107.35567204301071,
                  "k_12": 599,
                  "k_11": 560,
                  "k_10": 451,
                  "k_9": 473,
                  "k_8": 419,
                  "k_7": 462,
                  "k_6": 565,
                  "k_5": 602,
                  "k_4": 534,
                  "k_3": 519,
                  "k_2": 467,
                  "k_1": 483,
                  "_deepnote_index_column": 136420
                }
              ],
              "rows_bottom": [
                {
                  "MONTH": 12,
                  "YEAR": 2017,
                  "zip": 94582,
                  "GHI_raw": "112.81586021505376",
                  "DHI_raw": "28.954301075268816",
                  "DNI_raw": "230.55913978494624",
                  "Wind Speed": "1.696370967741934",
                  "Temperature_raw": 7.834677419354839,
                  "Solar_Zenith_Angle_raw": 107.347997311828,
                  "k_12": 573,
                  "k_11": 467,
                  "k_10": 447,
                  "k_9": 408,
                  "k_8": 458,
                  "k_7": 547,
                  "k_6": 632,
                  "k_5": 606,
                  "k_4": 599,
                  "k_3": 599,
                  "k_2": 452,
                  "k_1": 467,
                  "_deepnote_index_column": 136445
                },
                {
                  "MONTH": 1,
                  "YEAR": 2018,
                  "zip": 94582,
                  "GHI_raw": "87.38844086021506",
                  "DHI_raw": "36.884408602150536",
                  "DNI_raw": "126.74462365591398",
                  "Wind Speed": "1.5092741935483875",
                  "Temperature_raw": 9.936693548387105,
                  "Solar_Zenith_Angle_raw": 105.531129032258,
                  "k_12": 467,
                  "k_11": 447,
                  "k_10": 408,
                  "k_9": 458,
                  "k_8": 547,
                  "k_7": 632,
                  "k_6": 606,
                  "k_5": 599,
                  "k_4": 599,
                  "k_3": 452,
                  "k_2": 467,
                  "k_1": 557,
                  "_deepnote_index_column": 136450
                },
                {
                  "MONTH": 2,
                  "YEAR": 2018,
                  "zip": 94582,
                  "GHI_raw": "171.08630952380952",
                  "DHI_raw": "38.17857142857143",
                  "DNI_raw": "289.7752976190476",
                  "Wind Speed": "2.1513392857142852",
                  "Temperature_raw": 9.521726190476194,
                  "Solar_Zenith_Angle_raw": 99.5767708333334,
                  "k_12": 447,
                  "k_11": 408,
                  "k_10": 458,
                  "k_9": 547,
                  "k_8": 632,
                  "k_7": 606,
                  "k_6": 599,
                  "k_5": 599,
                  "k_4": 452,
                  "k_3": 467,
                  "k_2": 557,
                  "k_1": 529,
                  "_deepnote_index_column": 136451
                },
                {
                  "MONTH": 3,
                  "YEAR": 2018,
                  "zip": 94582,
                  "GHI_raw": "175.9811827956989",
                  "DHI_raw": "63.950268817204304",
                  "DNI_raw": "203.21505376344086",
                  "Wind Speed": "2.05685483870968",
                  "Temperature_raw": 10.513172043010742,
                  "Solar_Zenith_Angle_raw": 91.1527822580646,
                  "k_12": 408,
                  "k_11": 458,
                  "k_10": 547,
                  "k_9": 632,
                  "k_8": 606,
                  "k_7": 599,
                  "k_6": 599,
                  "k_5": 452,
                  "k_4": 467,
                  "k_3": 557,
                  "k_2": 529,
                  "k_1": 436,
                  "_deepnote_index_column": 136452
                },
                {
                  "MONTH": 4,
                  "YEAR": 2018,
                  "zip": 94582,
                  "GHI_raw": "254.04861111111111",
                  "DHI_raw": "73.17083333333333",
                  "DNI_raw": "282.43055555555554",
                  "Wind Speed": "2.40347222222222",
                  "Temperature_raw": 12.240277777777775,
                  "Solar_Zenith_Angle_raw": 82.27176388888884,
                  "k_12": 458,
                  "k_11": 547,
                  "k_10": 632,
                  "k_9": 606,
                  "k_8": 599,
                  "k_7": 599,
                  "k_6": 452,
                  "k_5": 467,
                  "k_4": 557,
                  "k_3": 529,
                  "k_2": 436,
                  "k_1": 468,
                  "_deepnote_index_column": 136456
                },
                {
                  "MONTH": 5,
                  "YEAR": 2018,
                  "zip": 94582,
                  "GHI_raw": "297.38978494623655",
                  "DHI_raw": "79.16935483870968",
                  "DNI_raw": "317.5873655913978",
                  "Wind Speed": "3.286962365591397",
                  "Temperature_raw": 14.344623655913972,
                  "Solar_Zenith_Angle_raw": 75.53879032258058,
                  "k_12": 547,
                  "k_11": 632,
                  "k_10": 606,
                  "k_9": 599,
                  "k_8": 599,
                  "k_7": 452,
                  "k_6": 467,
                  "k_5": 557,
                  "k_4": 529,
                  "k_3": 436,
                  "k_2": 468,
                  "k_1": 386,
                  "_deepnote_index_column": 136457
                },
                {
                  "MONTH": 6,
                  "YEAR": 2018,
                  "zip": 94582,
                  "GHI_raw": "359.04305555555555",
                  "DHI_raw": "58.145833333333336",
                  "DNI_raw": "433.9222222222222",
                  "Wind Speed": "3.554444444444442",
                  "Temperature_raw": 17.562361111111105,
                  "Solar_Zenith_Angle_raw": 72.54979166666668,
                  "k_12": 632,
                  "k_11": 606,
                  "k_10": 599,
                  "k_9": 599,
                  "k_8": 452,
                  "k_7": 467,
                  "k_6": 557,
                  "k_5": 529,
                  "k_4": 436,
                  "k_3": 468,
                  "k_2": 386,
                  "k_1": 394,
                  "_deepnote_index_column": 136458
                },
                {
                  "MONTH": 7,
                  "YEAR": 2018,
                  "zip": 94582,
                  "GHI_raw": "340.75",
                  "DHI_raw": "61.211021505376344",
                  "DNI_raw": "409.55913978494624",
                  "Wind Speed": "3.660349462365592",
                  "Temperature_raw": 19.851209677419337,
                  "Solar_Zenith_Angle_raw": 74.05127688172047,
                  "k_12": 606,
                  "k_11": 599,
                  "k_10": 599,
                  "k_9": 452,
                  "k_8": 467,
                  "k_7": 557,
                  "k_6": 529,
                  "k_5": 436,
                  "k_4": 468,
                  "k_3": 386,
                  "k_2": 394,
                  "k_1": 447,
                  "_deepnote_index_column": 136462
                },
                {
                  "MONTH": 8,
                  "YEAR": 2018,
                  "zip": 94582,
                  "GHI_raw": "298.0860215053763",
                  "DHI_raw": "72.28360215053763",
                  "DNI_raw": "337.8440860215054",
                  "Wind Speed": "3.2047043010752665",
                  "Temperature_raw": 18.5787634408602,
                  "Solar_Zenith_Angle_raw": 79.71815860215055,
                  "k_12": 599,
                  "k_11": 599,
                  "k_10": 452,
                  "k_9": 467,
                  "k_8": 557,
                  "k_7": 529,
                  "k_6": 436,
                  "k_5": 468,
                  "k_4": 386,
                  "k_3": 394,
                  "k_2": 447,
                  "k_1": 583,
                  "_deepnote_index_column": 136463
                },
                {
                  "MONTH": 9,
                  "YEAR": 2018,
                  "zip": 94582,
                  "GHI_raw": "261.1430555555556",
                  "DHI_raw": "45.90416666666667",
                  "DNI_raw": "364.725",
                  "Wind Speed": "2.76041666666667",
                  "Temperature_raw": 18.04652777777778,
                  "Solar_Zenith_Angle_raw": 88.00156944444448,
                  "k_12": 599,
                  "k_11": 452,
                  "k_10": 467,
                  "k_9": 557,
                  "k_8": 529,
                  "k_7": 436,
                  "k_6": 468,
                  "k_5": 386,
                  "k_4": 394,
                  "k_3": 447,
                  "k_2": 583,
                  "k_1": 521,
                  "_deepnote_index_column": 136464
                },
                {
                  "MONTH": 10,
                  "YEAR": 2018,
                  "zip": 94582,
                  "GHI_raw": "191.88575268817203",
                  "DHI_raw": "37.88709677419355",
                  "DNI_raw": "310.59005376344084",
                  "Wind Speed": "2.0340053763440866",
                  "Temperature_raw": 16.75806451612902,
                  "Solar_Zenith_Angle_raw": 96.8879435483871,
                  "k_12": 452,
                  "k_11": 467,
                  "k_10": 557,
                  "k_9": 529,
                  "k_8": 436,
                  "k_7": 468,
                  "k_6": 386,
                  "k_5": 394,
                  "k_4": 447,
                  "k_3": 583,
                  "k_2": 521,
                  "k_1": 450,
                  "_deepnote_index_column": 136468
                },
                {
                  "MONTH": 11,
                  "YEAR": 2018,
                  "zip": 94582,
                  "GHI_raw": "121.12916666666666",
                  "DHI_raw": "36.28194444444444",
                  "DNI_raw": "201.04444444444445",
                  "Wind Speed": "1.8077777777777773",
                  "Temperature_raw": 13.10902777777779,
                  "Solar_Zenith_Angle_raw": 104.06095833333325,
                  "k_12": 467,
                  "k_11": 557,
                  "k_10": 529,
                  "k_9": 436,
                  "k_8": 468,
                  "k_7": 386,
                  "k_6": 394,
                  "k_5": 447,
                  "k_4": 583,
                  "k_3": 521,
                  "k_2": 450,
                  "k_1": 431,
                  "_deepnote_index_column": 136469
                },
                {
                  "MONTH": 12,
                  "YEAR": 2018,
                  "zip": 94582,
                  "GHI_raw": "88.64784946236558",
                  "DHI_raw": "28.736559139784948",
                  "DNI_raw": "165.65725806451613",
                  "Wind Speed": "1.7279569892473132",
                  "Temperature_raw": 8.971236559139774,
                  "Solar_Zenith_Angle_raw": 107.31056451612906,
                  "k_12": 557,
                  "k_11": 529,
                  "k_10": 436,
                  "k_9": 468,
                  "k_8": 386,
                  "k_7": 394,
                  "k_6": 447,
                  "k_5": 583,
                  "k_4": 521,
                  "k_3": 450,
                  "k_2": 431,
                  "k_1": 475,
                  "_deepnote_index_column": 136470
                },
                {
                  "MONTH": 1,
                  "YEAR": 2019,
                  "zip": 94582,
                  "GHI_raw": "94.8225806451613",
                  "DHI_raw": "33.72043010752688",
                  "DNI_raw": "154.0268817204301",
                  "Wind Speed": "1.963575268817204",
                  "Temperature_raw": 9.905645161290334,
                  "Solar_Zenith_Angle_raw": 105.5654166666666,
                  "k_12": 529,
                  "k_11": 436,
                  "k_10": 468,
                  "k_9": 386,
                  "k_8": 394,
                  "k_7": 447,
                  "k_6": 583,
                  "k_5": 521,
                  "k_4": 450,
                  "k_3": 431,
                  "k_2": 475,
                  "k_1": 561,
                  "_deepnote_index_column": 136474
                },
                {
                  "MONTH": 2,
                  "YEAR": 2019,
                  "zip": 94582,
                  "GHI_raw": "113.41071428571429",
                  "DHI_raw": "44.982142857142854",
                  "DNI_raw": "143.48809523809524",
                  "Wind Speed": "2.8196428571428562",
                  "Temperature_raw": 7.625446428571422,
                  "Solar_Zenith_Angle_raw": 99.63822916666676,
                  "k_12": 436,
                  "k_11": 468,
                  "k_10": 386,
                  "k_9": 394,
                  "k_8": 447,
                  "k_7": 583,
                  "k_6": 521,
                  "k_5": 450,
                  "k_4": 431,
                  "k_3": 475,
                  "k_2": 561,
                  "k_1": 529,
                  "_deepnote_index_column": 136475
                },
                {
                  "MONTH": 3,
                  "YEAR": 2019,
                  "zip": 94582,
                  "GHI_raw": "179.18817204301075",
                  "DHI_raw": "60.655913978494624",
                  "DNI_raw": "210.13306451612902",
                  "Wind Speed": "1.9731182795698903",
                  "Temperature_raw": 10.564516129032254,
                  "Solar_Zenith_Angle_raw": 91.22400537634404,
                  "k_12": 468,
                  "k_11": 386,
                  "k_10": 394,
                  "k_9": 447,
                  "k_8": 583,
                  "k_7": 521,
                  "k_6": 450,
                  "k_5": 431,
                  "k_4": 475,
                  "k_3": 561,
                  "k_2": 529,
                  "k_1": 489,
                  "_deepnote_index_column": 136476
                },
                {
                  "MONTH": 4,
                  "YEAR": 2019,
                  "zip": 94582,
                  "GHI_raw": "252.90555555555557",
                  "DHI_raw": "74.62083333333334",
                  "DNI_raw": "270.6972222222222",
                  "Wind Speed": "2.3776388888888897",
                  "Temperature_raw": 13.49958333333334,
                  "Solar_Zenith_Angle_raw": 82.33493055555557,
                  "k_12": 386,
                  "k_11": 394,
                  "k_10": 447,
                  "k_9": 583,
                  "k_8": 521,
                  "k_7": 450,
                  "k_6": 431,
                  "k_5": 475,
                  "k_4": 561,
                  "k_3": 529,
                  "k_2": 489,
                  "k_1": 455,
                  "_deepnote_index_column": 136480
                },
                {
                  "MONTH": 5,
                  "YEAR": 2019,
                  "zip": 94582,
                  "GHI_raw": "270.9744623655914",
                  "DHI_raw": "81.82123655913979",
                  "DNI_raw": "269.9180107526882",
                  "Wind Speed": "2.9498655913978515",
                  "Temperature_raw": 13.198387096774187,
                  "Solar_Zenith_Angle_raw": 75.57759408602155,
                  "k_12": 394,
                  "k_11": 447,
                  "k_10": 583,
                  "k_9": 521,
                  "k_8": 450,
                  "k_7": 431,
                  "k_6": 475,
                  "k_5": 561,
                  "k_4": 529,
                  "k_3": 489,
                  "k_2": 455,
                  "k_1": 382,
                  "_deepnote_index_column": 136481
                },
                {
                  "MONTH": 6,
                  "YEAR": 2019,
                  "zip": 94582,
                  "GHI_raw": "352.6152777777778",
                  "DHI_raw": "64.47083333333333",
                  "DNI_raw": "415.3666666666667",
                  "Wind Speed": "3.1897222222222252",
                  "Temperature_raw": 17.785000000000014,
                  "Solar_Zenith_Angle_raw": 72.55522222222226,
                  "k_12": 447,
                  "k_11": 583,
                  "k_10": 521,
                  "k_9": 450,
                  "k_8": 431,
                  "k_7": 475,
                  "k_6": 561,
                  "k_5": 529,
                  "k_4": 489,
                  "k_3": 455,
                  "k_2": 382,
                  "k_1": 380,
                  "_deepnote_index_column": 136482
                },
                {
                  "MONTH": 7,
                  "YEAR": 2019,
                  "zip": 94582,
                  "GHI_raw": "349.0295698924731",
                  "DHI_raw": "53.965053763440864",
                  "DNI_raw": "432.9959677419355",
                  "Wind Speed": "3.630779569892474",
                  "Temperature_raw": 18.52016129032258,
                  "Solar_Zenith_Angle_raw": 74.02208333333333,
                  "k_12": 583,
                  "k_11": 521,
                  "k_10": 450,
                  "k_9": 431,
                  "k_8": 475,
                  "k_7": 561,
                  "k_6": 529,
                  "k_5": 489,
                  "k_4": 455,
                  "k_3": 382,
                  "k_2": 380,
                  "k_1": 491,
                  "_deepnote_index_column": 136486
                },
                {
                  "MONTH": 8,
                  "YEAR": 2019,
                  "zip": 94582,
                  "GHI_raw": "314.2916666666667",
                  "DHI_raw": "50.134408602150536",
                  "DNI_raw": "397.7123655913978",
                  "Wind Speed": "3.285618279569896",
                  "Temperature_raw": 20.67970430107527,
                  "Solar_Zenith_Angle_raw": 79.66028225806451,
                  "k_12": 521,
                  "k_11": 450,
                  "k_10": 431,
                  "k_9": 475,
                  "k_8": 561,
                  "k_7": 529,
                  "k_6": 489,
                  "k_5": 455,
                  "k_4": 382,
                  "k_3": 380,
                  "k_2": 491,
                  "k_1": 500,
                  "_deepnote_index_column": 136487
                },
                {
                  "MONTH": 9,
                  "YEAR": 2019,
                  "zip": 94582,
                  "GHI_raw": "253.00277777777777",
                  "DHI_raw": "46.03472222222222",
                  "DNI_raw": "352.10277777777776",
                  "Wind Speed": "2.811250000000005",
                  "Temperature_raw": 19.64194444444444,
                  "Solar_Zenith_Angle_raw": 87.9299305555555,
                  "k_12": 450,
                  "k_11": 431,
                  "k_10": 475,
                  "k_9": 561,
                  "k_8": 529,
                  "k_7": 489,
                  "k_6": 455,
                  "k_5": 382,
                  "k_4": 380,
                  "k_3": 491,
                  "k_2": 500,
                  "k_1": 616,
                  "_deepnote_index_column": 136488
                },
                {
                  "MONTH": 10,
                  "YEAR": 2019,
                  "zip": 94582,
                  "GHI_raw": "202.33064516129033",
                  "DHI_raw": "35.56182795698925",
                  "DNI_raw": "332.2755376344086",
                  "Wind Speed": "2.1509408602150555",
                  "Temperature_raw": 16.313844086021522,
                  "Solar_Zenith_Angle_raw": 96.81912634408587,
                  "k_12": 431,
                  "k_11": 475,
                  "k_10": 561,
                  "k_9": 529,
                  "k_8": 489,
                  "k_7": 455,
                  "k_6": 382,
                  "k_5": 380,
                  "k_4": 491,
                  "k_3": 500,
                  "k_2": 616,
                  "k_1": 504,
                  "_deepnote_index_column": 136492
                },
                {
                  "MONTH": 11,
                  "YEAR": 2019,
                  "zip": 94582,
                  "GHI_raw": "130.0888888888889",
                  "DHI_raw": "31.32638888888889",
                  "DNI_raw": "239.51666666666668",
                  "Wind Speed": "1.695555555555554",
                  "Temperature_raw": 12.662361111111109,
                  "Solar_Zenith_Angle_raw": 104.01669444444448,
                  "k_12": 475,
                  "k_11": 561,
                  "k_10": 529,
                  "k_9": 489,
                  "k_8": 455,
                  "k_7": 382,
                  "k_6": 380,
                  "k_5": 491,
                  "k_4": 500,
                  "k_3": 616,
                  "k_2": 504,
                  "k_1": 414,
                  "_deepnote_index_column": 136493
                }
              ]
            },
            "text/plain": "        MONTH  YEAR    zip             GHI_raw             DHI_raw  \\\nindex                                                                \n136377      2  2015  94582           144.15625  42.157738095238095   \n136378      3  2015  94582  220.53897849462365   58.70564516129032   \n136382      4  2015  94582   285.8986111111111   66.54027777777777   \n136383      5  2015  94582  285.23521505376345    88.8024193548387   \n136384      6  2015  94582   337.7236111111111   66.32777777777778   \n136388      7  2015  94582   318.5443548387097    69.7997311827957   \n136389      8  2015  94582    299.994623655914  61.043010752688176   \n136390      9  2015  94582  236.29444444444445   55.03055555555556   \n136394     10  2015  94582  182.71505376344086   41.40456989247312   \n136395     11  2015  94582  128.25694444444446  32.397222222222226   \n136396     12  2015  94582   88.18413978494624   33.60215053763441   \n136400      1  2016  94582   89.50940860215054   41.26747311827957   \n136401      2  2016  94582   165.2782738095238   41.86309523809524   \n136402      3  2016  94582  182.38575268817203   62.03763440860215   \n136406      4  2016  94582            254.8125   74.73472222222222   \n136407      5  2016  94582   291.6962365591398   81.94086021505376   \n136408      6  2016  94582              355.05   59.81111111111111   \n136412      7  2016  94582  352.11290322580646   51.24327956989247   \n136413      8  2016  94582  309.14784946236557  58.206989247311824   \n136414      9  2016  94582  256.64166666666665  48.452777777777776   \n136418     10  2016  94582  156.61559139784947   44.46370967741935   \n136419     11  2016  94582               121.4   36.46388888888889   \n136420     12  2016  94582   97.27688172043011  29.028225806451612   \n136424      1  2017  94582   96.60483870967742  32.208333333333336   \n136425      2  2017  94582  119.48660714285714  44.714285714285715   \n136426      3  2017  94582   198.9516129032258  63.041666666666664   \n136430      4  2017  94582   235.6638888888889   80.03333333333333   \n136431      5  2017  94582   318.9166666666667   77.09946236559139   \n136432      6  2017  94582  341.81388888888887   68.48055555555555   \n136436      7  2017  94582   352.0739247311828   51.63306451612903   \n136437      8  2017  94582   287.8508064516129    67.6760752688172   \n136438      9  2017  94582   226.6888888888889   68.21388888888889   \n136442      9  2017  94582   226.6888888888889   68.21388888888889   \n136443     10  2017  94582  191.26612903225808   44.74596774193548   \n136444     11  2017  94582   111.6138888888889  36.105555555555554   \n136445     12  2017  94582  112.81586021505376  28.954301075268816   \n136450      1  2018  94582   87.38844086021506  36.884408602150536   \n136451      2  2018  94582  171.08630952380952   38.17857142857143   \n136452      3  2018  94582   175.9811827956989  63.950268817204304   \n136456      4  2018  94582  254.04861111111111   73.17083333333333   \n136457      5  2018  94582  297.38978494623655   79.16935483870968   \n136458      6  2018  94582  359.04305555555555  58.145833333333336   \n136462      7  2018  94582              340.75  61.211021505376344   \n136463      8  2018  94582   298.0860215053763   72.28360215053763   \n136464      9  2018  94582   261.1430555555556   45.90416666666667   \n136468     10  2018  94582  191.88575268817203   37.88709677419355   \n136469     11  2018  94582  121.12916666666666   36.28194444444444   \n136470     12  2018  94582   88.64784946236558  28.736559139784948   \n136474      1  2019  94582    94.8225806451613   33.72043010752688   \n136475      2  2019  94582  113.41071428571429  44.982142857142854   \n136476      3  2019  94582  179.18817204301075  60.655913978494624   \n136480      4  2019  94582  252.90555555555557   74.62083333333334   \n136481      5  2019  94582   270.9744623655914   81.82123655913979   \n136482      6  2019  94582   352.6152777777778   64.47083333333333   \n136486      7  2019  94582   349.0295698924731  53.965053763440864   \n136487      8  2019  94582   314.2916666666667  50.134408602150536   \n136488      9  2019  94582  253.00277777777777   46.03472222222222   \n136492     10  2019  94582  202.33064516129033   35.56182795698925   \n136493     11  2019  94582   130.0888888888889   31.32638888888889   \n\n                   DNI_raw          Wind Speed  Temperature_raw  \\\nindex                                                             \n136377            216.8125  1.8800595238095263        11.425595   \n136378   280.0416666666667  1.9364247311827982        12.643817   \n136382              336.65  2.8927777777777774        12.468056   \n136383   278.7943548387097   3.520967741935483        12.962366   \n136384  386.72083333333336   3.754861111111112        17.686111   \n136388  351.86424731182797  3.8655913978494594        19.571237   \n136389   357.0389784946237   3.393413978494625        19.655914   \n136390   302.4402777777778  2.7661111111111123        19.379167   \n136394   275.7956989247312   2.103763440860216        17.951613   \n136395            237.9875  1.8808333333333382         9.829167   \n136396  151.97177419354838  2.0061827956989258         7.704301   \n136400  125.08198924731182  1.8619623655913973         8.950269   \n136401   266.7113095238095  1.7188988095238107        10.656250   \n136402  212.18279569892474   2.415591397849461        11.100806   \n136406            279.8875  2.5758333333333314        12.805556   \n136407   306.2432795698925   2.958333333333334        14.337366   \n136408   427.2611111111111   3.566805555555553        17.300000   \n136412   442.2970430107527   3.984274193548389        18.094086   \n136413  378.26747311827955  3.6731182795698896        17.571237   \n136414            354.4875  3.0451388888888884        18.087500   \n136418   224.9959677419355    2.31680107526882        15.158602   \n136419  208.33055555555555  1.5547222222222243        11.901389   \n136420  189.24327956989248  1.8745967741935496         6.909946   \n136424  163.00537634408602  2.3697580645161294         6.810484   \n136425  157.61011904761904   2.341071428571429         9.455357   \n136426  243.25672043010752  1.9837365591397853        11.119624   \n136430   245.0263888888889  2.3894444444444463        11.750000   \n136431   356.0752688172043  3.0608870967741932        13.891129   \n136432  394.03333333333336  3.5405555555555552        16.555556   \n136436  443.46639784946234   3.777688172043008        18.498656   \n136437  330.65725806451616     3.5885752688172        19.408602   \n136438  270.75138888888887   2.735694444444444        20.072222   \n136442  270.75138888888887   2.735694444444444        20.072222   \n136443   290.0766129032258   2.270967741935482        16.322581   \n136444  188.95555555555555  1.6584722222222223        11.948611   \n136445  230.55913978494624   1.696370967741934         7.834677   \n136450  126.74462365591398  1.5092741935483875         9.936694   \n136451   289.7752976190476  2.1513392857142852         9.521726   \n136452  203.21505376344086    2.05685483870968        10.513172   \n136456  282.43055555555554    2.40347222222222        12.240278   \n136457   317.5873655913978   3.286962365591397        14.344624   \n136458   433.9222222222222   3.554444444444442        17.562361   \n136462  409.55913978494624   3.660349462365592        19.851210   \n136463   337.8440860215054  3.2047043010752665        18.578763   \n136464             364.725    2.76041666666667        18.046528   \n136468  310.59005376344084  2.0340053763440866        16.758065   \n136469  201.04444444444445  1.8077777777777773        13.109028   \n136470  165.65725806451613  1.7279569892473132         8.971237   \n136474   154.0268817204301   1.963575268817204         9.905645   \n136475  143.48809523809524  2.8196428571428562         7.625446   \n136476  210.13306451612902  1.9731182795698903        10.564516   \n136480   270.6972222222222  2.3776388888888897        13.499583   \n136481   269.9180107526882  2.9498655913978515        13.198387   \n136482   415.3666666666667  3.1897222222222252        17.785000   \n136486   432.9959677419355   3.630779569892474        18.520161   \n136487   397.7123655913978   3.285618279569896        20.679704   \n136488  352.10277777777776   2.811250000000005        19.641944   \n136492   332.2755376344086  2.1509408602150555        16.313844   \n136493  239.51666666666668   1.695555555555554        12.662361   \n\n        Solar_Zenith_Angle_raw  k_12  ...  k_10  k_9  k_8  k_7  k_6  k_5  k_4  \\\nindex                                 ...                                       \n136377               99.672068   481  ...   450  493  535  627  572  565  527   \n136378               91.252608   483  ...   493  535  627  572  565  527  494   \n136382               82.370861   450  ...   535  627  572  565  527  494  578   \n136383               75.598038   493  ...   627  572  565  527  494  578  550   \n136384               72.582083   535  ...   572  565  527  494  578  550  448   \n136388               74.042124   627  ...   565  527  494  578  550  448  461   \n136389               79.677110   572  ...   527  494  578  550  448  461  420   \n136390               87.937319   565  ...   494  578  550  448  461  420  435   \n136394               96.840591   527  ...   578  550  448  461  420  435  540   \n136395              104.031722   494  ...   550  448  461  420  435  540  577   \n136396              107.333858   578  ...   448  461  420  435  540  577  591   \n136400              105.630444   550  ...   461  420  435  540  577  591  591   \n136401               99.734256   448  ...   420  435  540  577  591  591  509   \n136402               91.024234   461  ...   435  540  577  591  591  509  511   \n136406               82.168403   420  ...   540  577  591  591  509  511  599   \n136407               75.472849   435  ...   577  591  591  509  511  599  560   \n136408               72.563528   540  ...   591  591  509  511  599  560  451   \n136412               74.133750   577  ...   591  509  511  599  560  451  473   \n136413               79.857325   591  ...   509  511  599  560  451  473  419   \n136414               88.159931   591  ...   511  599  560  451  473  419  462   \n136418               97.049543   509  ...   599  560  451  473  419  462  565   \n136419              104.168278   511  ...   560  451  473  419  462  565  602   \n136420              107.355672   599  ...   451  473  419  462  565  602  534   \n136424              105.525605   560  ...   473  419  462  565  602  534  519   \n136425               99.539970   451  ...   419  462  565  602  534  519  467   \n136426               91.097500   473  ...   462  565  602  534  519  467  483   \n136430               82.233153   419  ...   565  602  534  519  467  483  592   \n136431               75.512325   462  ...   602  534  519  467  483  592  573   \n136432               72.569153   565  ...   534  519  467  483  592  573  467   \n136436               74.104409   602  ...   519  467  483  592  573  467  447   \n136437               79.799664   534  ...   467  483  592  573  467  447  408   \n136438               88.089111   519  ...   483  592  573  467  447  408  458   \n136442               88.089111   467  ...   592  573  467  447  408  458  547   \n136443               96.982863   483  ...   573  467  447  408  458  547  632   \n136444              104.124750   592  ...   467  447  408  458  547  632  606   \n136445              107.347997   573  ...   447  408  458  547  632  606  599   \n136450              105.531129   467  ...   408  458  547  632  606  599  599   \n136451               99.576771   447  ...   458  547  632  606  599  599  452   \n136452               91.152782   408  ...   547  632  606  599  599  452  467   \n136456               82.271764   458  ...   632  606  599  599  452  467  557   \n136457               75.538790   547  ...   606  599  599  452  467  557  529   \n136458               72.549792   632  ...   599  599  452  467  557  529  436   \n136462               74.051277   606  ...   599  452  467  557  529  436  468   \n136463               79.718159   599  ...   452  467  557  529  436  468  386   \n136464               88.001569   599  ...   467  557  529  436  468  386  394   \n136468               96.887944   452  ...   557  529  436  468  386  394  447   \n136469              104.060958   467  ...   529  436  468  386  394  447  583   \n136470              107.310565   557  ...   436  468  386  394  447  583  521   \n136474              105.565417   529  ...   468  386  394  447  583  521  450   \n136475               99.638229   436  ...   386  394  447  583  521  450  431   \n136476               91.224005   468  ...   394  447  583  521  450  431  475   \n136480               82.334931   386  ...   447  583  521  450  431  475  561   \n136481               75.577594   394  ...   583  521  450  431  475  561  529   \n136482               72.555222   447  ...   521  450  431  475  561  529  489   \n136486               74.022083   583  ...   450  431  475  561  529  489  455   \n136487               79.660282   521  ...   431  475  561  529  489  455  382   \n136488               87.929931   450  ...   475  561  529  489  455  382  380   \n136492               96.819126   431  ...   561  529  489  455  382  380  491   \n136493              104.016694   475  ...   529  489  455  382  380  491  500   \n\n        k_3  k_2  k_1  \nindex                  \n136377  494  578  550  \n136378  578  550  448  \n136382  550  448  461  \n136383  448  461  420  \n136384  461  420  435  \n136388  420  435  540  \n136389  435  540  577  \n136390  540  577  591  \n136394  577  591  591  \n136395  591  591  509  \n136396  591  509  511  \n136400  509  511  599  \n136401  511  599  560  \n136402  599  560  451  \n136406  560  451  473  \n136407  451  473  419  \n136408  473  419  462  \n136412  419  462  565  \n136413  462  565  602  \n136414  565  602  534  \n136418  602  534  519  \n136419  534  519  467  \n136420  519  467  483  \n136424  467  483  592  \n136425  483  592  573  \n136426  592  573  467  \n136430  573  467  447  \n136431  467  447  408  \n136432  447  408  458  \n136436  408  458  547  \n136437  458  547  632  \n136438  547  632  606  \n136442  632  606  599  \n136443  606  599  599  \n136444  599  599  452  \n136445  599  452  467  \n136450  452  467  557  \n136451  467  557  529  \n136452  557  529  436  \n136456  529  436  468  \n136457  436  468  386  \n136458  468  386  394  \n136462  386  394  447  \n136463  394  447  583  \n136464  447  583  521  \n136468  583  521  450  \n136469  521  450  431  \n136470  450  431  475  \n136474  431  475  561  \n136475  475  561  529  \n136476  561  529  489  \n136480  529  489  455  \n136481  489  455  382  \n136482  455  382  380  \n136486  382  380  491  \n136487  380  491  500  \n136488  491  500  616  \n136492  500  616  504  \n136493  616  504  414  \n\n[59 rows x 21 columns]",
            "text/html": "<div>\n<style scoped>\n    .dataframe tbody tr th:only-of-type {\n        vertical-align: middle;\n    }\n\n    .dataframe tbody tr th {\n        vertical-align: top;\n    }\n\n    .dataframe thead th {\n        text-align: right;\n    }\n</style>\n<table border=\"1\" class=\"dataframe\">\n  <thead>\n    <tr style=\"text-align: right;\">\n      <th></th>\n      <th>MONTH</th>\n      <th>YEAR</th>\n      <th>zip</th>\n      <th>GHI_raw</th>\n      <th>DHI_raw</th>\n      <th>DNI_raw</th>\n      <th>Wind Speed</th>\n      <th>Temperature_raw</th>\n      <th>Solar_Zenith_Angle_raw</th>\n      <th>k_12</th>\n      <th>...</th>\n      <th>k_10</th>\n      <th>k_9</th>\n      <th>k_8</th>\n      <th>k_7</th>\n      <th>k_6</th>\n      <th>k_5</th>\n      <th>k_4</th>\n      <th>k_3</th>\n      <th>k_2</th>\n      <th>k_1</th>\n    </tr>\n    <tr>\n      <th>index</th>\n      <th></th>\n      <th></th>\n      <th></th>\n      <th></th>\n      <th></th>\n      <th></th>\n      <th></th>\n      <th></th>\n      <th></th>\n      <th></th>\n      <th></th>\n      <th></th>\n      <th></th>\n      <th></th>\n      <th></th>\n      <th></th>\n      <th></th>\n      <th></th>\n      <th></th>\n      <th></th>\n      <th></th>\n    </tr>\n  </thead>\n  <tbody>\n    <tr>\n      <th>136377</th>\n      <td>2</td>\n      <td>2015</td>\n      <td>94582</td>\n      <td>144.15625</td>\n      <td>42.157738095238095</td>\n      <td>216.8125</td>\n      <td>1.8800595238095263</td>\n      <td>11.425595</td>\n      <td>99.672068</td>\n      <td>481</td>\n      <td>...</td>\n      <td>450</td>\n      <td>493</td>\n      <td>535</td>\n      <td>627</td>\n      <td>572</td>\n      <td>565</td>\n      <td>527</td>\n      <td>494</td>\n      <td>578</td>\n      <td>550</td>\n    </tr>\n    <tr>\n      <th>136378</th>\n      <td>3</td>\n      <td>2015</td>\n      <td>94582</td>\n      <td>220.53897849462365</td>\n      <td>58.70564516129032</td>\n      <td>280.0416666666667</td>\n      <td>1.9364247311827982</td>\n      <td>12.643817</td>\n      <td>91.252608</td>\n      <td>483</td>\n      <td>...</td>\n      <td>493</td>\n      <td>535</td>\n      <td>627</td>\n      <td>572</td>\n      <td>565</td>\n      <td>527</td>\n      <td>494</td>\n      <td>578</td>\n      <td>550</td>\n      <td>448</td>\n    </tr>\n    <tr>\n      <th>136382</th>\n      <td>4</td>\n      <td>2015</td>\n      <td>94582</td>\n      <td>285.8986111111111</td>\n      <td>66.54027777777777</td>\n      <td>336.65</td>\n      <td>2.8927777777777774</td>\n      <td>12.468056</td>\n      <td>82.370861</td>\n      <td>450</td>\n      <td>...</td>\n      <td>535</td>\n      <td>627</td>\n      <td>572</td>\n      <td>565</td>\n      <td>527</td>\n      <td>494</td>\n      <td>578</td>\n      <td>550</td>\n      <td>448</td>\n      <td>461</td>\n    </tr>\n    <tr>\n      <th>136383</th>\n      <td>5</td>\n      <td>2015</td>\n      <td>94582</td>\n      <td>285.23521505376345</td>\n      <td>88.8024193548387</td>\n      <td>278.7943548387097</td>\n      <td>3.520967741935483</td>\n      <td>12.962366</td>\n      <td>75.598038</td>\n      <td>493</td>\n      <td>...</td>\n      <td>627</td>\n      <td>572</td>\n      <td>565</td>\n      <td>527</td>\n      <td>494</td>\n      <td>578</td>\n      <td>550</td>\n      <td>448</td>\n      <td>461</td>\n      <td>420</td>\n    </tr>\n    <tr>\n      <th>136384</th>\n      <td>6</td>\n      <td>2015</td>\n      <td>94582</td>\n      <td>337.7236111111111</td>\n      <td>66.32777777777778</td>\n      <td>386.72083333333336</td>\n      <td>3.754861111111112</td>\n      <td>17.686111</td>\n      <td>72.582083</td>\n      <td>535</td>\n      <td>...</td>\n      <td>572</td>\n      <td>565</td>\n      <td>527</td>\n      <td>494</td>\n      <td>578</td>\n      <td>550</td>\n      <td>448</td>\n      <td>461</td>\n      <td>420</td>\n      <td>435</td>\n    </tr>\n    <tr>\n      <th>136388</th>\n      <td>7</td>\n      <td>2015</td>\n      <td>94582</td>\n      <td>318.5443548387097</td>\n      <td>69.7997311827957</td>\n      <td>351.86424731182797</td>\n      <td>3.8655913978494594</td>\n      <td>19.571237</td>\n      <td>74.042124</td>\n      <td>627</td>\n      <td>...</td>\n      <td>565</td>\n      <td>527</td>\n      <td>494</td>\n      <td>578</td>\n      <td>550</td>\n      <td>448</td>\n      <td>461</td>\n      <td>420</td>\n      <td>435</td>\n      <td>540</td>\n    </tr>\n    <tr>\n      <th>136389</th>\n      <td>8</td>\n      <td>2015</td>\n      <td>94582</td>\n      <td>299.994623655914</td>\n      <td>61.043010752688176</td>\n      <td>357.0389784946237</td>\n      <td>3.393413978494625</td>\n      <td>19.655914</td>\n      <td>79.677110</td>\n      <td>572</td>\n      <td>...</td>\n      <td>527</td>\n      <td>494</td>\n      <td>578</td>\n      <td>550</td>\n      <td>448</td>\n      <td>461</td>\n      <td>420</td>\n      <td>435</td>\n      <td>540</td>\n      <td>577</td>\n    </tr>\n    <tr>\n      <th>136390</th>\n      <td>9</td>\n      <td>2015</td>\n      <td>94582</td>\n      <td>236.29444444444445</td>\n      <td>55.03055555555556</td>\n      <td>302.4402777777778</td>\n      <td>2.7661111111111123</td>\n      <td>19.379167</td>\n      <td>87.937319</td>\n      <td>565</td>\n      <td>...</td>\n      <td>494</td>\n      <td>578</td>\n      <td>550</td>\n      <td>448</td>\n      <td>461</td>\n      <td>420</td>\n      <td>435</td>\n      <td>540</td>\n      <td>577</td>\n      <td>591</td>\n    </tr>\n    <tr>\n      <th>136394</th>\n      <td>10</td>\n      <td>2015</td>\n      <td>94582</td>\n      <td>182.71505376344086</td>\n      <td>41.40456989247312</td>\n      <td>275.7956989247312</td>\n      <td>2.103763440860216</td>\n      <td>17.951613</td>\n      <td>96.840591</td>\n      <td>527</td>\n      <td>...</td>\n      <td>578</td>\n      <td>550</td>\n      <td>448</td>\n      <td>461</td>\n      <td>420</td>\n      <td>435</td>\n      <td>540</td>\n      <td>577</td>\n      <td>591</td>\n      <td>591</td>\n    </tr>\n    <tr>\n      <th>136395</th>\n      <td>11</td>\n      <td>2015</td>\n      <td>94582</td>\n      <td>128.25694444444446</td>\n      <td>32.397222222222226</td>\n      <td>237.9875</td>\n      <td>1.8808333333333382</td>\n      <td>9.829167</td>\n      <td>104.031722</td>\n      <td>494</td>\n      <td>...</td>\n      <td>550</td>\n      <td>448</td>\n      <td>461</td>\n      <td>420</td>\n      <td>435</td>\n      <td>540</td>\n      <td>577</td>\n      <td>591</td>\n      <td>591</td>\n      <td>509</td>\n    </tr>\n    <tr>\n      <th>136396</th>\n      <td>12</td>\n      <td>2015</td>\n      <td>94582</td>\n      <td>88.18413978494624</td>\n      <td>33.60215053763441</td>\n      <td>151.97177419354838</td>\n      <td>2.0061827956989258</td>\n      <td>7.704301</td>\n      <td>107.333858</td>\n      <td>578</td>\n      <td>...</td>\n      <td>448</td>\n      <td>461</td>\n      <td>420</td>\n      <td>435</td>\n      <td>540</td>\n      <td>577</td>\n      <td>591</td>\n      <td>591</td>\n      <td>509</td>\n      <td>511</td>\n    </tr>\n    <tr>\n      <th>136400</th>\n      <td>1</td>\n      <td>2016</td>\n      <td>94582</td>\n      <td>89.50940860215054</td>\n      <td>41.26747311827957</td>\n      <td>125.08198924731182</td>\n      <td>1.8619623655913973</td>\n      <td>8.950269</td>\n      <td>105.630444</td>\n      <td>550</td>\n      <td>...</td>\n      <td>461</td>\n      <td>420</td>\n      <td>435</td>\n      <td>540</td>\n      <td>577</td>\n      <td>591</td>\n      <td>591</td>\n      <td>509</td>\n      <td>511</td>\n      <td>599</td>\n    </tr>\n    <tr>\n      <th>136401</th>\n      <td>2</td>\n      <td>2016</td>\n      <td>94582</td>\n      <td>165.2782738095238</td>\n      <td>41.86309523809524</td>\n      <td>266.7113095238095</td>\n      <td>1.7188988095238107</td>\n      <td>10.656250</td>\n      <td>99.734256</td>\n      <td>448</td>\n      <td>...</td>\n      <td>420</td>\n      <td>435</td>\n      <td>540</td>\n      <td>577</td>\n      <td>591</td>\n      <td>591</td>\n      <td>509</td>\n      <td>511</td>\n      <td>599</td>\n      <td>560</td>\n    </tr>\n    <tr>\n      <th>136402</th>\n      <td>3</td>\n      <td>2016</td>\n      <td>94582</td>\n      <td>182.38575268817203</td>\n      <td>62.03763440860215</td>\n      <td>212.18279569892474</td>\n      <td>2.415591397849461</td>\n      <td>11.100806</td>\n      <td>91.024234</td>\n      <td>461</td>\n      <td>...</td>\n      <td>435</td>\n      <td>540</td>\n      <td>577</td>\n      <td>591</td>\n      <td>591</td>\n      <td>509</td>\n      <td>511</td>\n      <td>599</td>\n      <td>560</td>\n      <td>451</td>\n    </tr>\n    <tr>\n      <th>136406</th>\n      <td>4</td>\n      <td>2016</td>\n      <td>94582</td>\n      <td>254.8125</td>\n      <td>74.73472222222222</td>\n      <td>279.8875</td>\n      <td>2.5758333333333314</td>\n      <td>12.805556</td>\n      <td>82.168403</td>\n      <td>420</td>\n      <td>...</td>\n      <td>540</td>\n      <td>577</td>\n      <td>591</td>\n      <td>591</td>\n      <td>509</td>\n      <td>511</td>\n      <td>599</td>\n      <td>560</td>\n      <td>451</td>\n      <td>473</td>\n    </tr>\n    <tr>\n      <th>136407</th>\n      <td>5</td>\n      <td>2016</td>\n      <td>94582</td>\n      <td>291.6962365591398</td>\n      <td>81.94086021505376</td>\n      <td>306.2432795698925</td>\n      <td>2.958333333333334</td>\n      <td>14.337366</td>\n      <td>75.472849</td>\n      <td>435</td>\n      <td>...</td>\n      <td>577</td>\n      <td>591</td>\n      <td>591</td>\n      <td>509</td>\n      <td>511</td>\n      <td>599</td>\n      <td>560</td>\n      <td>451</td>\n      <td>473</td>\n      <td>419</td>\n    </tr>\n    <tr>\n      <th>136408</th>\n      <td>6</td>\n      <td>2016</td>\n      <td>94582</td>\n      <td>355.05</td>\n      <td>59.81111111111111</td>\n      <td>427.2611111111111</td>\n      <td>3.566805555555553</td>\n      <td>17.300000</td>\n      <td>72.563528</td>\n      <td>540</td>\n      <td>...</td>\n      <td>591</td>\n      <td>591</td>\n      <td>509</td>\n      <td>511</td>\n      <td>599</td>\n      <td>560</td>\n      <td>451</td>\n      <td>473</td>\n      <td>419</td>\n      <td>462</td>\n    </tr>\n    <tr>\n      <th>136412</th>\n      <td>7</td>\n      <td>2016</td>\n      <td>94582</td>\n      <td>352.11290322580646</td>\n      <td>51.24327956989247</td>\n      <td>442.2970430107527</td>\n      <td>3.984274193548389</td>\n      <td>18.094086</td>\n      <td>74.133750</td>\n      <td>577</td>\n      <td>...</td>\n      <td>591</td>\n      <td>509</td>\n      <td>511</td>\n      <td>599</td>\n      <td>560</td>\n      <td>451</td>\n      <td>473</td>\n      <td>419</td>\n      <td>462</td>\n      <td>565</td>\n    </tr>\n    <tr>\n      <th>136413</th>\n      <td>8</td>\n      <td>2016</td>\n      <td>94582</td>\n      <td>309.14784946236557</td>\n      <td>58.206989247311824</td>\n      <td>378.26747311827955</td>\n      <td>3.6731182795698896</td>\n      <td>17.571237</td>\n      <td>79.857325</td>\n      <td>591</td>\n      <td>...</td>\n      <td>509</td>\n      <td>511</td>\n      <td>599</td>\n      <td>560</td>\n      <td>451</td>\n      <td>473</td>\n      <td>419</td>\n      <td>462</td>\n      <td>565</td>\n      <td>602</td>\n    </tr>\n    <tr>\n      <th>136414</th>\n      <td>9</td>\n      <td>2016</td>\n      <td>94582</td>\n      <td>256.64166666666665</td>\n      <td>48.452777777777776</td>\n      <td>354.4875</td>\n      <td>3.0451388888888884</td>\n      <td>18.087500</td>\n      <td>88.159931</td>\n      <td>591</td>\n      <td>...</td>\n      <td>511</td>\n      <td>599</td>\n      <td>560</td>\n      <td>451</td>\n      <td>473</td>\n      <td>419</td>\n      <td>462</td>\n      <td>565</td>\n      <td>602</td>\n      <td>534</td>\n    </tr>\n    <tr>\n      <th>136418</th>\n      <td>10</td>\n      <td>2016</td>\n      <td>94582</td>\n      <td>156.61559139784947</td>\n      <td>44.46370967741935</td>\n      <td>224.9959677419355</td>\n      <td>2.31680107526882</td>\n      <td>15.158602</td>\n      <td>97.049543</td>\n      <td>509</td>\n      <td>...</td>\n      <td>599</td>\n      <td>560</td>\n      <td>451</td>\n      <td>473</td>\n      <td>419</td>\n      <td>462</td>\n      <td>565</td>\n      <td>602</td>\n      <td>534</td>\n      <td>519</td>\n    </tr>\n    <tr>\n      <th>136419</th>\n      <td>11</td>\n      <td>2016</td>\n      <td>94582</td>\n      <td>121.4</td>\n      <td>36.46388888888889</td>\n      <td>208.33055555555555</td>\n      <td>1.5547222222222243</td>\n      <td>11.901389</td>\n      <td>104.168278</td>\n      <td>511</td>\n      <td>...</td>\n      <td>560</td>\n      <td>451</td>\n      <td>473</td>\n      <td>419</td>\n      <td>462</td>\n      <td>565</td>\n      <td>602</td>\n      <td>534</td>\n      <td>519</td>\n      <td>467</td>\n    </tr>\n    <tr>\n      <th>136420</th>\n      <td>12</td>\n      <td>2016</td>\n      <td>94582</td>\n      <td>97.27688172043011</td>\n      <td>29.028225806451612</td>\n      <td>189.24327956989248</td>\n      <td>1.8745967741935496</td>\n      <td>6.909946</td>\n      <td>107.355672</td>\n      <td>599</td>\n      <td>...</td>\n      <td>451</td>\n      <td>473</td>\n      <td>419</td>\n      <td>462</td>\n      <td>565</td>\n      <td>602</td>\n      <td>534</td>\n      <td>519</td>\n      <td>467</td>\n      <td>483</td>\n    </tr>\n    <tr>\n      <th>136424</th>\n      <td>1</td>\n      <td>2017</td>\n      <td>94582</td>\n      <td>96.60483870967742</td>\n      <td>32.208333333333336</td>\n      <td>163.00537634408602</td>\n      <td>2.3697580645161294</td>\n      <td>6.810484</td>\n      <td>105.525605</td>\n      <td>560</td>\n      <td>...</td>\n      <td>473</td>\n      <td>419</td>\n      <td>462</td>\n      <td>565</td>\n      <td>602</td>\n      <td>534</td>\n      <td>519</td>\n      <td>467</td>\n      <td>483</td>\n      <td>592</td>\n    </tr>\n    <tr>\n      <th>136425</th>\n      <td>2</td>\n      <td>2017</td>\n      <td>94582</td>\n      <td>119.48660714285714</td>\n      <td>44.714285714285715</td>\n      <td>157.61011904761904</td>\n      <td>2.341071428571429</td>\n      <td>9.455357</td>\n      <td>99.539970</td>\n      <td>451</td>\n      <td>...</td>\n      <td>419</td>\n      <td>462</td>\n      <td>565</td>\n      <td>602</td>\n      <td>534</td>\n      <td>519</td>\n      <td>467</td>\n      <td>483</td>\n      <td>592</td>\n      <td>573</td>\n    </tr>\n    <tr>\n      <th>136426</th>\n      <td>3</td>\n      <td>2017</td>\n      <td>94582</td>\n      <td>198.9516129032258</td>\n      <td>63.041666666666664</td>\n      <td>243.25672043010752</td>\n      <td>1.9837365591397853</td>\n      <td>11.119624</td>\n      <td>91.097500</td>\n      <td>473</td>\n      <td>...</td>\n      <td>462</td>\n      <td>565</td>\n      <td>602</td>\n      <td>534</td>\n      <td>519</td>\n      <td>467</td>\n      <td>483</td>\n      <td>592</td>\n      <td>573</td>\n      <td>467</td>\n    </tr>\n    <tr>\n      <th>136430</th>\n      <td>4</td>\n      <td>2017</td>\n      <td>94582</td>\n      <td>235.6638888888889</td>\n      <td>80.03333333333333</td>\n      <td>245.0263888888889</td>\n      <td>2.3894444444444463</td>\n      <td>11.750000</td>\n      <td>82.233153</td>\n      <td>419</td>\n      <td>...</td>\n      <td>565</td>\n      <td>602</td>\n      <td>534</td>\n      <td>519</td>\n      <td>467</td>\n      <td>483</td>\n      <td>592</td>\n      <td>573</td>\n      <td>467</td>\n      <td>447</td>\n    </tr>\n    <tr>\n      <th>136431</th>\n      <td>5</td>\n      <td>2017</td>\n      <td>94582</td>\n      <td>318.9166666666667</td>\n      <td>77.09946236559139</td>\n      <td>356.0752688172043</td>\n      <td>3.0608870967741932</td>\n      <td>13.891129</td>\n      <td>75.512325</td>\n      <td>462</td>\n      <td>...</td>\n      <td>602</td>\n      <td>534</td>\n      <td>519</td>\n      <td>467</td>\n      <td>483</td>\n      <td>592</td>\n      <td>573</td>\n      <td>467</td>\n      <td>447</td>\n      <td>408</td>\n    </tr>\n    <tr>\n      <th>136432</th>\n      <td>6</td>\n      <td>2017</td>\n      <td>94582</td>\n      <td>341.81388888888887</td>\n      <td>68.48055555555555</td>\n      <td>394.03333333333336</td>\n      <td>3.5405555555555552</td>\n      <td>16.555556</td>\n      <td>72.569153</td>\n      <td>565</td>\n      <td>...</td>\n      <td>534</td>\n      <td>519</td>\n      <td>467</td>\n      <td>483</td>\n      <td>592</td>\n      <td>573</td>\n      <td>467</td>\n      <td>447</td>\n      <td>408</td>\n      <td>458</td>\n    </tr>\n    <tr>\n      <th>136436</th>\n      <td>7</td>\n      <td>2017</td>\n      <td>94582</td>\n      <td>352.0739247311828</td>\n      <td>51.63306451612903</td>\n      <td>443.46639784946234</td>\n      <td>3.777688172043008</td>\n      <td>18.498656</td>\n      <td>74.104409</td>\n      <td>602</td>\n      <td>...</td>\n      <td>519</td>\n      <td>467</td>\n      <td>483</td>\n      <td>592</td>\n      <td>573</td>\n      <td>467</td>\n      <td>447</td>\n      <td>408</td>\n      <td>458</td>\n      <td>547</td>\n    </tr>\n    <tr>\n      <th>136437</th>\n      <td>8</td>\n      <td>2017</td>\n      <td>94582</td>\n      <td>287.8508064516129</td>\n      <td>67.6760752688172</td>\n      <td>330.65725806451616</td>\n      <td>3.5885752688172</td>\n      <td>19.408602</td>\n      <td>79.799664</td>\n      <td>534</td>\n      <td>...</td>\n      <td>467</td>\n      <td>483</td>\n      <td>592</td>\n      <td>573</td>\n      <td>467</td>\n      <td>447</td>\n      <td>408</td>\n      <td>458</td>\n      <td>547</td>\n      <td>632</td>\n    </tr>\n    <tr>\n      <th>136438</th>\n      <td>9</td>\n      <td>2017</td>\n      <td>94582</td>\n      <td>226.6888888888889</td>\n      <td>68.21388888888889</td>\n      <td>270.75138888888887</td>\n      <td>2.735694444444444</td>\n      <td>20.072222</td>\n      <td>88.089111</td>\n      <td>519</td>\n      <td>...</td>\n      <td>483</td>\n      <td>592</td>\n      <td>573</td>\n      <td>467</td>\n      <td>447</td>\n      <td>408</td>\n      <td>458</td>\n      <td>547</td>\n      <td>632</td>\n      <td>606</td>\n    </tr>\n    <tr>\n      <th>136442</th>\n      <td>9</td>\n      <td>2017</td>\n      <td>94582</td>\n      <td>226.6888888888889</td>\n      <td>68.21388888888889</td>\n      <td>270.75138888888887</td>\n      <td>2.735694444444444</td>\n      <td>20.072222</td>\n      <td>88.089111</td>\n      <td>467</td>\n      <td>...</td>\n      <td>592</td>\n      <td>573</td>\n      <td>467</td>\n      <td>447</td>\n      <td>408</td>\n      <td>458</td>\n      <td>547</td>\n      <td>632</td>\n      <td>606</td>\n      <td>599</td>\n    </tr>\n    <tr>\n      <th>136443</th>\n      <td>10</td>\n      <td>2017</td>\n      <td>94582</td>\n      <td>191.26612903225808</td>\n      <td>44.74596774193548</td>\n      <td>290.0766129032258</td>\n      <td>2.270967741935482</td>\n      <td>16.322581</td>\n      <td>96.982863</td>\n      <td>483</td>\n      <td>...</td>\n      <td>573</td>\n      <td>467</td>\n      <td>447</td>\n      <td>408</td>\n      <td>458</td>\n      <td>547</td>\n      <td>632</td>\n      <td>606</td>\n      <td>599</td>\n      <td>599</td>\n    </tr>\n    <tr>\n      <th>136444</th>\n      <td>11</td>\n      <td>2017</td>\n      <td>94582</td>\n      <td>111.6138888888889</td>\n      <td>36.105555555555554</td>\n      <td>188.95555555555555</td>\n      <td>1.6584722222222223</td>\n      <td>11.948611</td>\n      <td>104.124750</td>\n      <td>592</td>\n      <td>...</td>\n      <td>467</td>\n      <td>447</td>\n      <td>408</td>\n      <td>458</td>\n      <td>547</td>\n      <td>632</td>\n      <td>606</td>\n      <td>599</td>\n      <td>599</td>\n      <td>452</td>\n    </tr>\n    <tr>\n      <th>136445</th>\n      <td>12</td>\n      <td>2017</td>\n      <td>94582</td>\n      <td>112.81586021505376</td>\n      <td>28.954301075268816</td>\n      <td>230.55913978494624</td>\n      <td>1.696370967741934</td>\n      <td>7.834677</td>\n      <td>107.347997</td>\n      <td>573</td>\n      <td>...</td>\n      <td>447</td>\n      <td>408</td>\n      <td>458</td>\n      <td>547</td>\n      <td>632</td>\n      <td>606</td>\n      <td>599</td>\n      <td>599</td>\n      <td>452</td>\n      <td>467</td>\n    </tr>\n    <tr>\n      <th>136450</th>\n      <td>1</td>\n      <td>2018</td>\n      <td>94582</td>\n      <td>87.38844086021506</td>\n      <td>36.884408602150536</td>\n      <td>126.74462365591398</td>\n      <td>1.5092741935483875</td>\n      <td>9.936694</td>\n      <td>105.531129</td>\n      <td>467</td>\n      <td>...</td>\n      <td>408</td>\n      <td>458</td>\n      <td>547</td>\n      <td>632</td>\n      <td>606</td>\n      <td>599</td>\n      <td>599</td>\n      <td>452</td>\n      <td>467</td>\n      <td>557</td>\n    </tr>\n    <tr>\n      <th>136451</th>\n      <td>2</td>\n      <td>2018</td>\n      <td>94582</td>\n      <td>171.08630952380952</td>\n      <td>38.17857142857143</td>\n      <td>289.7752976190476</td>\n      <td>2.1513392857142852</td>\n      <td>9.521726</td>\n      <td>99.576771</td>\n      <td>447</td>\n      <td>...</td>\n      <td>458</td>\n      <td>547</td>\n      <td>632</td>\n      <td>606</td>\n      <td>599</td>\n      <td>599</td>\n      <td>452</td>\n      <td>467</td>\n      <td>557</td>\n      <td>529</td>\n    </tr>\n    <tr>\n      <th>136452</th>\n      <td>3</td>\n      <td>2018</td>\n      <td>94582</td>\n      <td>175.9811827956989</td>\n      <td>63.950268817204304</td>\n      <td>203.21505376344086</td>\n      <td>2.05685483870968</td>\n      <td>10.513172</td>\n      <td>91.152782</td>\n      <td>408</td>\n      <td>...</td>\n      <td>547</td>\n      <td>632</td>\n      <td>606</td>\n      <td>599</td>\n      <td>599</td>\n      <td>452</td>\n      <td>467</td>\n      <td>557</td>\n      <td>529</td>\n      <td>436</td>\n    </tr>\n    <tr>\n      <th>136456</th>\n      <td>4</td>\n      <td>2018</td>\n      <td>94582</td>\n      <td>254.04861111111111</td>\n      <td>73.17083333333333</td>\n      <td>282.43055555555554</td>\n      <td>2.40347222222222</td>\n      <td>12.240278</td>\n      <td>82.271764</td>\n      <td>458</td>\n      <td>...</td>\n      <td>632</td>\n      <td>606</td>\n      <td>599</td>\n      <td>599</td>\n      <td>452</td>\n      <td>467</td>\n      <td>557</td>\n      <td>529</td>\n      <td>436</td>\n      <td>468</td>\n    </tr>\n    <tr>\n      <th>136457</th>\n      <td>5</td>\n      <td>2018</td>\n      <td>94582</td>\n      <td>297.38978494623655</td>\n      <td>79.16935483870968</td>\n      <td>317.5873655913978</td>\n      <td>3.286962365591397</td>\n      <td>14.344624</td>\n      <td>75.538790</td>\n      <td>547</td>\n      <td>...</td>\n      <td>606</td>\n      <td>599</td>\n      <td>599</td>\n      <td>452</td>\n      <td>467</td>\n      <td>557</td>\n      <td>529</td>\n      <td>436</td>\n      <td>468</td>\n      <td>386</td>\n    </tr>\n    <tr>\n      <th>136458</th>\n      <td>6</td>\n      <td>2018</td>\n      <td>94582</td>\n      <td>359.04305555555555</td>\n      <td>58.145833333333336</td>\n      <td>433.9222222222222</td>\n      <td>3.554444444444442</td>\n      <td>17.562361</td>\n      <td>72.549792</td>\n      <td>632</td>\n      <td>...</td>\n      <td>599</td>\n      <td>599</td>\n      <td>452</td>\n      <td>467</td>\n      <td>557</td>\n      <td>529</td>\n      <td>436</td>\n      <td>468</td>\n      <td>386</td>\n      <td>394</td>\n    </tr>\n    <tr>\n      <th>136462</th>\n      <td>7</td>\n      <td>2018</td>\n      <td>94582</td>\n      <td>340.75</td>\n      <td>61.211021505376344</td>\n      <td>409.55913978494624</td>\n      <td>3.660349462365592</td>\n      <td>19.851210</td>\n      <td>74.051277</td>\n      <td>606</td>\n      <td>...</td>\n      <td>599</td>\n      <td>452</td>\n      <td>467</td>\n      <td>557</td>\n      <td>529</td>\n      <td>436</td>\n      <td>468</td>\n      <td>386</td>\n      <td>394</td>\n      <td>447</td>\n    </tr>\n    <tr>\n      <th>136463</th>\n      <td>8</td>\n      <td>2018</td>\n      <td>94582</td>\n      <td>298.0860215053763</td>\n      <td>72.28360215053763</td>\n      <td>337.8440860215054</td>\n      <td>3.2047043010752665</td>\n      <td>18.578763</td>\n      <td>79.718159</td>\n      <td>599</td>\n      <td>...</td>\n      <td>452</td>\n      <td>467</td>\n      <td>557</td>\n      <td>529</td>\n      <td>436</td>\n      <td>468</td>\n      <td>386</td>\n      <td>394</td>\n      <td>447</td>\n      <td>583</td>\n    </tr>\n    <tr>\n      <th>136464</th>\n      <td>9</td>\n      <td>2018</td>\n      <td>94582</td>\n      <td>261.1430555555556</td>\n      <td>45.90416666666667</td>\n      <td>364.725</td>\n      <td>2.76041666666667</td>\n      <td>18.046528</td>\n      <td>88.001569</td>\n      <td>599</td>\n      <td>...</td>\n      <td>467</td>\n      <td>557</td>\n      <td>529</td>\n      <td>436</td>\n      <td>468</td>\n      <td>386</td>\n      <td>394</td>\n      <td>447</td>\n      <td>583</td>\n      <td>521</td>\n    </tr>\n    <tr>\n      <th>136468</th>\n      <td>10</td>\n      <td>2018</td>\n      <td>94582</td>\n      <td>191.88575268817203</td>\n      <td>37.88709677419355</td>\n      <td>310.59005376344084</td>\n      <td>2.0340053763440866</td>\n      <td>16.758065</td>\n      <td>96.887944</td>\n      <td>452</td>\n      <td>...</td>\n      <td>557</td>\n      <td>529</td>\n      <td>436</td>\n      <td>468</td>\n      <td>386</td>\n      <td>394</td>\n      <td>447</td>\n      <td>583</td>\n      <td>521</td>\n      <td>450</td>\n    </tr>\n    <tr>\n      <th>136469</th>\n      <td>11</td>\n      <td>2018</td>\n      <td>94582</td>\n      <td>121.12916666666666</td>\n      <td>36.28194444444444</td>\n      <td>201.04444444444445</td>\n      <td>1.8077777777777773</td>\n      <td>13.109028</td>\n      <td>104.060958</td>\n      <td>467</td>\n      <td>...</td>\n      <td>529</td>\n      <td>436</td>\n      <td>468</td>\n      <td>386</td>\n      <td>394</td>\n      <td>447</td>\n      <td>583</td>\n      <td>521</td>\n      <td>450</td>\n      <td>431</td>\n    </tr>\n    <tr>\n      <th>136470</th>\n      <td>12</td>\n      <td>2018</td>\n      <td>94582</td>\n      <td>88.64784946236558</td>\n      <td>28.736559139784948</td>\n      <td>165.65725806451613</td>\n      <td>1.7279569892473132</td>\n      <td>8.971237</td>\n      <td>107.310565</td>\n      <td>557</td>\n      <td>...</td>\n      <td>436</td>\n      <td>468</td>\n      <td>386</td>\n      <td>394</td>\n      <td>447</td>\n      <td>583</td>\n      <td>521</td>\n      <td>450</td>\n      <td>431</td>\n      <td>475</td>\n    </tr>\n    <tr>\n      <th>136474</th>\n      <td>1</td>\n      <td>2019</td>\n      <td>94582</td>\n      <td>94.8225806451613</td>\n      <td>33.72043010752688</td>\n      <td>154.0268817204301</td>\n      <td>1.963575268817204</td>\n      <td>9.905645</td>\n      <td>105.565417</td>\n      <td>529</td>\n      <td>...</td>\n      <td>468</td>\n      <td>386</td>\n      <td>394</td>\n      <td>447</td>\n      <td>583</td>\n      <td>521</td>\n      <td>450</td>\n      <td>431</td>\n      <td>475</td>\n      <td>561</td>\n    </tr>\n    <tr>\n      <th>136475</th>\n      <td>2</td>\n      <td>2019</td>\n      <td>94582</td>\n      <td>113.41071428571429</td>\n      <td>44.982142857142854</td>\n      <td>143.48809523809524</td>\n      <td>2.8196428571428562</td>\n      <td>7.625446</td>\n      <td>99.638229</td>\n      <td>436</td>\n      <td>...</td>\n      <td>386</td>\n      <td>394</td>\n      <td>447</td>\n      <td>583</td>\n      <td>521</td>\n      <td>450</td>\n      <td>431</td>\n      <td>475</td>\n      <td>561</td>\n      <td>529</td>\n    </tr>\n    <tr>\n      <th>136476</th>\n      <td>3</td>\n      <td>2019</td>\n      <td>94582</td>\n      <td>179.18817204301075</td>\n      <td>60.655913978494624</td>\n      <td>210.13306451612902</td>\n      <td>1.9731182795698903</td>\n      <td>10.564516</td>\n      <td>91.224005</td>\n      <td>468</td>\n      <td>...</td>\n      <td>394</td>\n      <td>447</td>\n      <td>583</td>\n      <td>521</td>\n      <td>450</td>\n      <td>431</td>\n      <td>475</td>\n      <td>561</td>\n      <td>529</td>\n      <td>489</td>\n    </tr>\n    <tr>\n      <th>136480</th>\n      <td>4</td>\n      <td>2019</td>\n      <td>94582</td>\n      <td>252.90555555555557</td>\n      <td>74.62083333333334</td>\n      <td>270.6972222222222</td>\n      <td>2.3776388888888897</td>\n      <td>13.499583</td>\n      <td>82.334931</td>\n      <td>386</td>\n      <td>...</td>\n      <td>447</td>\n      <td>583</td>\n      <td>521</td>\n      <td>450</td>\n      <td>431</td>\n      <td>475</td>\n      <td>561</td>\n      <td>529</td>\n      <td>489</td>\n      <td>455</td>\n    </tr>\n    <tr>\n      <th>136481</th>\n      <td>5</td>\n      <td>2019</td>\n      <td>94582</td>\n      <td>270.9744623655914</td>\n      <td>81.82123655913979</td>\n      <td>269.9180107526882</td>\n      <td>2.9498655913978515</td>\n      <td>13.198387</td>\n      <td>75.577594</td>\n      <td>394</td>\n      <td>...</td>\n      <td>583</td>\n      <td>521</td>\n      <td>450</td>\n      <td>431</td>\n      <td>475</td>\n      <td>561</td>\n      <td>529</td>\n      <td>489</td>\n      <td>455</td>\n      <td>382</td>\n    </tr>\n    <tr>\n      <th>136482</th>\n      <td>6</td>\n      <td>2019</td>\n      <td>94582</td>\n      <td>352.6152777777778</td>\n      <td>64.47083333333333</td>\n      <td>415.3666666666667</td>\n      <td>3.1897222222222252</td>\n      <td>17.785000</td>\n      <td>72.555222</td>\n      <td>447</td>\n      <td>...</td>\n      <td>521</td>\n      <td>450</td>\n      <td>431</td>\n      <td>475</td>\n      <td>561</td>\n      <td>529</td>\n      <td>489</td>\n      <td>455</td>\n      <td>382</td>\n      <td>380</td>\n    </tr>\n    <tr>\n      <th>136486</th>\n      <td>7</td>\n      <td>2019</td>\n      <td>94582</td>\n      <td>349.0295698924731</td>\n      <td>53.965053763440864</td>\n      <td>432.9959677419355</td>\n      <td>3.630779569892474</td>\n      <td>18.520161</td>\n      <td>74.022083</td>\n      <td>583</td>\n      <td>...</td>\n      <td>450</td>\n      <td>431</td>\n      <td>475</td>\n      <td>561</td>\n      <td>529</td>\n      <td>489</td>\n      <td>455</td>\n      <td>382</td>\n      <td>380</td>\n      <td>491</td>\n    </tr>\n    <tr>\n      <th>136487</th>\n      <td>8</td>\n      <td>2019</td>\n      <td>94582</td>\n      <td>314.2916666666667</td>\n      <td>50.134408602150536</td>\n      <td>397.7123655913978</td>\n      <td>3.285618279569896</td>\n      <td>20.679704</td>\n      <td>79.660282</td>\n      <td>521</td>\n      <td>...</td>\n      <td>431</td>\n      <td>475</td>\n      <td>561</td>\n      <td>529</td>\n      <td>489</td>\n      <td>455</td>\n      <td>382</td>\n      <td>380</td>\n      <td>491</td>\n      <td>500</td>\n    </tr>\n    <tr>\n      <th>136488</th>\n      <td>9</td>\n      <td>2019</td>\n      <td>94582</td>\n      <td>253.00277777777777</td>\n      <td>46.03472222222222</td>\n      <td>352.10277777777776</td>\n      <td>2.811250000000005</td>\n      <td>19.641944</td>\n      <td>87.929931</td>\n      <td>450</td>\n      <td>...</td>\n      <td>475</td>\n      <td>561</td>\n      <td>529</td>\n      <td>489</td>\n      <td>455</td>\n      <td>382</td>\n      <td>380</td>\n      <td>491</td>\n      <td>500</td>\n      <td>616</td>\n    </tr>\n    <tr>\n      <th>136492</th>\n      <td>10</td>\n      <td>2019</td>\n      <td>94582</td>\n      <td>202.33064516129033</td>\n      <td>35.56182795698925</td>\n      <td>332.2755376344086</td>\n      <td>2.1509408602150555</td>\n      <td>16.313844</td>\n      <td>96.819126</td>\n      <td>431</td>\n      <td>...</td>\n      <td>561</td>\n      <td>529</td>\n      <td>489</td>\n      <td>455</td>\n      <td>382</td>\n      <td>380</td>\n      <td>491</td>\n      <td>500</td>\n      <td>616</td>\n      <td>504</td>\n    </tr>\n    <tr>\n      <th>136493</th>\n      <td>11</td>\n      <td>2019</td>\n      <td>94582</td>\n      <td>130.0888888888889</td>\n      <td>31.32638888888889</td>\n      <td>239.51666666666668</td>\n      <td>1.695555555555554</td>\n      <td>12.662361</td>\n      <td>104.016694</td>\n      <td>475</td>\n      <td>...</td>\n      <td>529</td>\n      <td>489</td>\n      <td>455</td>\n      <td>382</td>\n      <td>380</td>\n      <td>491</td>\n      <td>500</td>\n      <td>616</td>\n      <td>504</td>\n      <td>414</td>\n    </tr>\n  </tbody>\n</table>\n<p>59 rows × 21 columns</p>\n</div>"
          },
          "metadata": {}
        }
      ]
    },
    {
      "cell_type": "code",
      "metadata": {
        "tags": [],
        "deepnote_to_be_reexecuted": false,
        "source_hash": "d028c20f",
        "execution_millis": 22,
        "cell_id": "00020-d7affd02-c756-402e-b4ec-2151042912a6",
        "execution_start": 1618697453239,
        "deepnote_cell_type": "code"
      },
      "source": "elec_Y_train.mean()",
      "execution_count": null,
      "outputs": [
        {
          "output_type": "execute_result",
          "execution_count": 186,
          "data": {
            "text/plain": "457.2335485554034"
          },
          "metadata": {}
        }
      ]
    },
    {
      "cell_type": "code",
      "metadata": {
        "tags": [],
        "deepnote_to_be_reexecuted": false,
        "source_hash": "2255a552",
        "execution_millis": 191,
        "cell_id": "00021-e9ec3874-62dc-4609-9cb7-795bb022f510",
        "execution_start": 1618697454948,
        "deepnote_cell_type": "code"
      },
      "source": "bay_area_monthly_elec_pge_nrel_clean.describe()",
      "execution_count": null,
      "outputs": [
        {
          "output_type": "execute_result",
          "execution_count": 187,
          "data": {
            "application/vnd.deepnote.dataframe.v2+json": {
              "row_count": 8,
              "column_count": 24,
              "columns": [
                {
                  "name": "zip",
                  "dtype": "float64",
                  "stats": {
                    "unique_count": 8,
                    "nan_count": 0,
                    "min": "459.91026067516367",
                    "max": "95823.0",
                    "histogram": [
                      {
                        "bin_start": 459.91026067516367,
                        "bin_end": 9996.219234607646,
                        "count": 1
                      },
                      {
                        "bin_start": 9996.219234607646,
                        "bin_end": 19532.528208540127,
                        "count": 0
                      },
                      {
                        "bin_start": 19532.528208540127,
                        "bin_end": 29068.83718247261,
                        "count": 0
                      },
                      {
                        "bin_start": 29068.83718247261,
                        "bin_end": 38605.14615640509,
                        "count": 1
                      },
                      {
                        "bin_start": 38605.14615640509,
                        "bin_end": 48141.45513033757,
                        "count": 0
                      },
                      {
                        "bin_start": 48141.45513033757,
                        "bin_end": 57677.764104270056,
                        "count": 0
                      },
                      {
                        "bin_start": 57677.764104270056,
                        "bin_end": 67214.07307820255,
                        "count": 0
                      },
                      {
                        "bin_start": 67214.07307820255,
                        "bin_end": 76750.38205213503,
                        "count": 0
                      },
                      {
                        "bin_start": 76750.38205213503,
                        "bin_end": 86286.6910260675,
                        "count": 0
                      },
                      {
                        "bin_start": 86286.6910260675,
                        "bin_end": 95823,
                        "count": 6
                      }
                    ]
                  }
                },
                {
                  "name": "latitude",
                  "dtype": "float64",
                  "stats": {
                    "unique_count": 8,
                    "nan_count": 0,
                    "min": "0.4099732225297213",
                    "max": "30666.0",
                    "histogram": [
                      {
                        "bin_start": 0.4099732225297213,
                        "bin_end": 3066.9689759002767,
                        "count": 7
                      },
                      {
                        "bin_start": 3066.9689759002767,
                        "bin_end": 6133.527978578024,
                        "count": 0
                      },
                      {
                        "bin_start": 6133.527978578024,
                        "bin_end": 9200.086981255772,
                        "count": 0
                      },
                      {
                        "bin_start": 9200.086981255772,
                        "bin_end": 12266.645983933518,
                        "count": 0
                      },
                      {
                        "bin_start": 12266.645983933518,
                        "bin_end": 15333.204986611265,
                        "count": 0
                      },
                      {
                        "bin_start": 15333.204986611265,
                        "bin_end": 18399.763989289015,
                        "count": 0
                      },
                      {
                        "bin_start": 18399.763989289015,
                        "bin_end": 21466.32299196676,
                        "count": 0
                      },
                      {
                        "bin_start": 21466.32299196676,
                        "bin_end": 24532.881994644507,
                        "count": 0
                      },
                      {
                        "bin_start": 24532.881994644507,
                        "bin_end": 27599.440997322254,
                        "count": 0
                      },
                      {
                        "bin_start": 27599.440997322254,
                        "bin_end": 30666,
                        "count": 1
                      }
                    ]
                  }
                },
                {
                  "name": "longitude",
                  "dtype": "float64",
                  "stats": {
                    "unique_count": 8,
                    "nan_count": 0,
                    "min": "-123.22938",
                    "max": "30666.0",
                    "histogram": [
                      {
                        "bin_start": -123.22938,
                        "bin_end": 2955.693558,
                        "count": 7
                      },
                      {
                        "bin_start": 2955.693558,
                        "bin_end": 6034.616496000001,
                        "count": 0
                      },
                      {
                        "bin_start": 6034.616496000001,
                        "bin_end": 9113.539434,
                        "count": 0
                      },
                      {
                        "bin_start": 9113.539434,
                        "bin_end": 12192.462372,
                        "count": 0
                      },
                      {
                        "bin_start": 12192.462372,
                        "bin_end": 15271.38531,
                        "count": 0
                      },
                      {
                        "bin_start": 15271.38531,
                        "bin_end": 18350.308248,
                        "count": 0
                      },
                      {
                        "bin_start": 18350.308248,
                        "bin_end": 21429.231186,
                        "count": 0
                      },
                      {
                        "bin_start": 21429.231186,
                        "bin_end": 24508.154124,
                        "count": 0
                      },
                      {
                        "bin_start": 24508.154124,
                        "bin_end": 27587.077062,
                        "count": 0
                      },
                      {
                        "bin_start": 27587.077062,
                        "bin_end": 30666,
                        "count": 1
                      }
                    ]
                  }
                },
                {
                  "name": "MONTH",
                  "dtype": "float64",
                  "stats": {
                    "unique_count": 8,
                    "nan_count": 0,
                    "min": "1.0",
                    "max": "30666.0",
                    "histogram": [
                      {
                        "bin_start": 1,
                        "bin_end": 3067.5,
                        "count": 7
                      },
                      {
                        "bin_start": 3067.5,
                        "bin_end": 6134,
                        "count": 0
                      },
                      {
                        "bin_start": 6134,
                        "bin_end": 9200.5,
                        "count": 0
                      },
                      {
                        "bin_start": 9200.5,
                        "bin_end": 12267,
                        "count": 0
                      },
                      {
                        "bin_start": 12267,
                        "bin_end": 15333.5,
                        "count": 0
                      },
                      {
                        "bin_start": 15333.5,
                        "bin_end": 18400,
                        "count": 0
                      },
                      {
                        "bin_start": 18400,
                        "bin_end": 21466.5,
                        "count": 0
                      },
                      {
                        "bin_start": 21466.5,
                        "bin_end": 24533,
                        "count": 0
                      },
                      {
                        "bin_start": 24533,
                        "bin_end": 27599.5,
                        "count": 0
                      },
                      {
                        "bin_start": 27599.5,
                        "bin_end": 30666,
                        "count": 1
                      }
                    ]
                  }
                },
                {
                  "name": "YEAR",
                  "dtype": "float64",
                  "stats": {
                    "unique_count": 8,
                    "nan_count": 0,
                    "min": "2.0214531411451664",
                    "max": "30666.0",
                    "histogram": [
                      {
                        "bin_start": 2.0214531411451664,
                        "bin_end": 3068.419307827031,
                        "count": 7
                      },
                      {
                        "bin_start": 3068.419307827031,
                        "bin_end": 6134.817162512916,
                        "count": 0
                      },
                      {
                        "bin_start": 6134.817162512916,
                        "bin_end": 9201.215017198803,
                        "count": 0
                      },
                      {
                        "bin_start": 9201.215017198803,
                        "bin_end": 12267.612871884689,
                        "count": 0
                      },
                      {
                        "bin_start": 12267.612871884689,
                        "bin_end": 15334.010726570574,
                        "count": 0
                      },
                      {
                        "bin_start": 15334.010726570574,
                        "bin_end": 18400.40858125646,
                        "count": 0
                      },
                      {
                        "bin_start": 18400.40858125646,
                        "bin_end": 21466.806435942344,
                        "count": 0
                      },
                      {
                        "bin_start": 21466.806435942344,
                        "bin_end": 24533.20429062823,
                        "count": 0
                      },
                      {
                        "bin_start": 24533.20429062823,
                        "bin_end": 27599.602145314115,
                        "count": 0
                      },
                      {
                        "bin_start": 27599.602145314115,
                        "bin_end": 30666,
                        "count": 1
                      }
                    ]
                  }
                },
                {
                  "name": "DAY",
                  "dtype": "float64",
                  "stats": {
                    "unique_count": 3,
                    "nan_count": 0,
                    "min": "0.0",
                    "max": "30666.0",
                    "histogram": [
                      {
                        "bin_start": 0,
                        "bin_end": 3066.6,
                        "count": 7
                      },
                      {
                        "bin_start": 3066.6,
                        "bin_end": 6133.2,
                        "count": 0
                      },
                      {
                        "bin_start": 6133.2,
                        "bin_end": 9199.8,
                        "count": 0
                      },
                      {
                        "bin_start": 9199.8,
                        "bin_end": 12266.4,
                        "count": 0
                      },
                      {
                        "bin_start": 12266.4,
                        "bin_end": 15333,
                        "count": 0
                      },
                      {
                        "bin_start": 15333,
                        "bin_end": 18399.6,
                        "count": 0
                      },
                      {
                        "bin_start": 18399.6,
                        "bin_end": 21466.2,
                        "count": 0
                      },
                      {
                        "bin_start": 21466.2,
                        "bin_end": 24532.8,
                        "count": 0
                      },
                      {
                        "bin_start": 24532.8,
                        "bin_end": 27599.399999999998,
                        "count": 0
                      },
                      {
                        "bin_start": 27599.399999999998,
                        "bin_end": 30666,
                        "count": 1
                      }
                    ]
                  }
                },
                {
                  "name": "TOTALCUSTO_raw",
                  "dtype": "float64",
                  "stats": {
                    "unique_count": 8,
                    "nan_count": 0,
                    "min": "0.0",
                    "max": "110585.0",
                    "histogram": [
                      {
                        "bin_start": 0,
                        "bin_end": 11058.5,
                        "count": 5
                      },
                      {
                        "bin_start": 11058.5,
                        "bin_end": 22117,
                        "count": 1
                      },
                      {
                        "bin_start": 22117,
                        "bin_end": 33175.5,
                        "count": 1
                      },
                      {
                        "bin_start": 33175.5,
                        "bin_end": 44234,
                        "count": 0
                      },
                      {
                        "bin_start": 44234,
                        "bin_end": 55292.5,
                        "count": 0
                      },
                      {
                        "bin_start": 55292.5,
                        "bin_end": 66351,
                        "count": 0
                      },
                      {
                        "bin_start": 66351,
                        "bin_end": 77409.5,
                        "count": 0
                      },
                      {
                        "bin_start": 77409.5,
                        "bin_end": 88468,
                        "count": 0
                      },
                      {
                        "bin_start": 88468,
                        "bin_end": 99526.5,
                        "count": 0
                      },
                      {
                        "bin_start": 99526.5,
                        "bin_end": 110585,
                        "count": 1
                      }
                    ]
                  }
                },
                {
                  "name": "TOTALKWH_raw",
                  "dtype": "float64",
                  "stats": {
                    "unique_count": 8,
                    "nan_count": 0,
                    "min": "0.0",
                    "max": "24361593.0",
                    "histogram": [
                      {
                        "bin_start": 0,
                        "bin_end": 2436159.3,
                        "count": 3
                      },
                      {
                        "bin_start": 2436159.3,
                        "bin_end": 4872318.6,
                        "count": 3
                      },
                      {
                        "bin_start": 4872318.6,
                        "bin_end": 7308477.899999999,
                        "count": 1
                      },
                      {
                        "bin_start": 7308477.899999999,
                        "bin_end": 9744637.2,
                        "count": 0
                      },
                      {
                        "bin_start": 9744637.2,
                        "bin_end": 12180796.5,
                        "count": 0
                      },
                      {
                        "bin_start": 12180796.5,
                        "bin_end": 14616955.799999999,
                        "count": 0
                      },
                      {
                        "bin_start": 14616955.799999999,
                        "bin_end": 17053115.099999998,
                        "count": 0
                      },
                      {
                        "bin_start": 17053115.099999998,
                        "bin_end": 19489274.4,
                        "count": 0
                      },
                      {
                        "bin_start": 19489274.4,
                        "bin_end": 21925433.7,
                        "count": 0
                      },
                      {
                        "bin_start": 21925433.7,
                        "bin_end": 24361593,
                        "count": 1
                      }
                    ]
                  }
                },
                {
                  "name": "AVERAGEKWH_raw",
                  "dtype": "float64",
                  "stats": {
                    "unique_count": 8,
                    "nan_count": 0,
                    "min": "0.0",
                    "max": "30666.0",
                    "histogram": [
                      {
                        "bin_start": 0,
                        "bin_end": 3066.6,
                        "count": 7
                      },
                      {
                        "bin_start": 3066.6,
                        "bin_end": 6133.2,
                        "count": 0
                      },
                      {
                        "bin_start": 6133.2,
                        "bin_end": 9199.8,
                        "count": 0
                      },
                      {
                        "bin_start": 9199.8,
                        "bin_end": 12266.4,
                        "count": 0
                      },
                      {
                        "bin_start": 12266.4,
                        "bin_end": 15333,
                        "count": 0
                      },
                      {
                        "bin_start": 15333,
                        "bin_end": 18399.6,
                        "count": 0
                      },
                      {
                        "bin_start": 18399.6,
                        "bin_end": 21466.2,
                        "count": 0
                      },
                      {
                        "bin_start": 21466.2,
                        "bin_end": 24532.8,
                        "count": 0
                      },
                      {
                        "bin_start": 24532.8,
                        "bin_end": 27599.399999999998,
                        "count": 0
                      },
                      {
                        "bin_start": 27599.399999999998,
                        "bin_end": 30666,
                        "count": 1
                      }
                    ]
                  }
                },
                {
                  "name": "TOTALTHERM_raw",
                  "dtype": "float64",
                  "stats": {
                    "unique_count": 2,
                    "nan_count": 0,
                    "min": "0.0",
                    "max": "30666.0",
                    "histogram": [
                      {
                        "bin_start": 0,
                        "bin_end": 3066.6,
                        "count": 7
                      },
                      {
                        "bin_start": 3066.6,
                        "bin_end": 6133.2,
                        "count": 0
                      },
                      {
                        "bin_start": 6133.2,
                        "bin_end": 9199.8,
                        "count": 0
                      },
                      {
                        "bin_start": 9199.8,
                        "bin_end": 12266.4,
                        "count": 0
                      },
                      {
                        "bin_start": 12266.4,
                        "bin_end": 15333,
                        "count": 0
                      },
                      {
                        "bin_start": 15333,
                        "bin_end": 18399.6,
                        "count": 0
                      },
                      {
                        "bin_start": 18399.6,
                        "bin_end": 21466.2,
                        "count": 0
                      },
                      {
                        "bin_start": 21466.2,
                        "bin_end": 24532.8,
                        "count": 0
                      },
                      {
                        "bin_start": 24532.8,
                        "bin_end": 27599.399999999998,
                        "count": 0
                      },
                      {
                        "bin_start": 27599.399999999998,
                        "bin_end": 30666,
                        "count": 1
                      }
                    ]
                  }
                },
                {
                  "name": "AVERAGETHERM_raw",
                  "dtype": "float64",
                  "stats": {
                    "unique_count": 2,
                    "nan_count": 0,
                    "min": "0.0",
                    "max": "30666.0",
                    "histogram": [
                      {
                        "bin_start": 0,
                        "bin_end": 3066.6,
                        "count": 7
                      },
                      {
                        "bin_start": 3066.6,
                        "bin_end": 6133.2,
                        "count": 0
                      },
                      {
                        "bin_start": 6133.2,
                        "bin_end": 9199.8,
                        "count": 0
                      },
                      {
                        "bin_start": 9199.8,
                        "bin_end": 12266.4,
                        "count": 0
                      },
                      {
                        "bin_start": 12266.4,
                        "bin_end": 15333,
                        "count": 0
                      },
                      {
                        "bin_start": 15333,
                        "bin_end": 18399.6,
                        "count": 0
                      },
                      {
                        "bin_start": 18399.6,
                        "bin_end": 21466.2,
                        "count": 0
                      },
                      {
                        "bin_start": 21466.2,
                        "bin_end": 24532.8,
                        "count": 0
                      },
                      {
                        "bin_start": 24532.8,
                        "bin_end": 27599.399999999998,
                        "count": 0
                      },
                      {
                        "bin_start": 27599.399999999998,
                        "bin_end": 30666,
                        "count": 1
                      }
                    ]
                  }
                },
                {
                  "name": "Temperature_raw",
                  "dtype": "float64",
                  "stats": {
                    "unique_count": 8,
                    "nan_count": 0,
                    "min": "2.677419354838709",
                    "max": "30666.0",
                    "histogram": [
                      {
                        "bin_start": 2.677419354838709,
                        "bin_end": 3069.009677419355,
                        "count": 7
                      },
                      {
                        "bin_start": 3069.009677419355,
                        "bin_end": 6135.341935483872,
                        "count": 0
                      },
                      {
                        "bin_start": 6135.341935483872,
                        "bin_end": 9201.674193548388,
                        "count": 0
                      },
                      {
                        "bin_start": 9201.674193548388,
                        "bin_end": 12268.006451612904,
                        "count": 0
                      },
                      {
                        "bin_start": 12268.006451612904,
                        "bin_end": 15334.33870967742,
                        "count": 0
                      },
                      {
                        "bin_start": 15334.33870967742,
                        "bin_end": 18400.670967741935,
                        "count": 0
                      },
                      {
                        "bin_start": 18400.670967741935,
                        "bin_end": 21467.00322580645,
                        "count": 0
                      },
                      {
                        "bin_start": 21467.00322580645,
                        "bin_end": 24533.335483870967,
                        "count": 0
                      },
                      {
                        "bin_start": 24533.335483870967,
                        "bin_end": 27599.667741935486,
                        "count": 0
                      },
                      {
                        "bin_start": 27599.667741935486,
                        "bin_end": 30666,
                        "count": 1
                      }
                    ]
                  }
                },
                {
                  "name": "Solar_Zenith_Angle_raw",
                  "dtype": "float64",
                  "stats": {
                    "unique_count": 8,
                    "nan_count": 0,
                    "min": "12.28923627567499",
                    "max": "30666.0",
                    "histogram": [
                      {
                        "bin_start": 12.28923627567499,
                        "bin_end": 3077.6603126481077,
                        "count": 7
                      },
                      {
                        "bin_start": 3077.6603126481077,
                        "bin_end": 6143.03138902054,
                        "count": 0
                      },
                      {
                        "bin_start": 6143.03138902054,
                        "bin_end": 9208.402465392974,
                        "count": 0
                      },
                      {
                        "bin_start": 9208.402465392974,
                        "bin_end": 12273.773541765406,
                        "count": 0
                      },
                      {
                        "bin_start": 12273.773541765406,
                        "bin_end": 15339.144618137838,
                        "count": 0
                      },
                      {
                        "bin_start": 15339.144618137838,
                        "bin_end": 18404.51569451027,
                        "count": 0
                      },
                      {
                        "bin_start": 18404.51569451027,
                        "bin_end": 21469.886770882702,
                        "count": 0
                      },
                      {
                        "bin_start": 21469.886770882702,
                        "bin_end": 24535.257847255136,
                        "count": 0
                      },
                      {
                        "bin_start": 24535.257847255136,
                        "bin_end": 27600.62892362757,
                        "count": 0
                      },
                      {
                        "bin_start": 27600.62892362757,
                        "bin_end": 30666,
                        "count": 1
                      }
                    ]
                  }
                },
                {
                  "name": "TOTALCUS_std",
                  "dtype": "float64",
                  "stats": {
                    "unique_count": 8,
                    "nan_count": 0,
                    "min": "-0.94787464417938",
                    "max": "30666.0",
                    "histogram": [
                      {
                        "bin_start": -0.94787464417938,
                        "bin_end": 3065.7469128202383,
                        "count": 7
                      },
                      {
                        "bin_start": 3065.7469128202383,
                        "bin_end": 6132.441700284657,
                        "count": 0
                      },
                      {
                        "bin_start": 6132.441700284657,
                        "bin_end": 9199.136487749074,
                        "count": 0
                      },
                      {
                        "bin_start": 9199.136487749074,
                        "bin_end": 12265.831275213492,
                        "count": 0
                      },
                      {
                        "bin_start": 12265.831275213492,
                        "bin_end": 15332.526062677909,
                        "count": 0
                      },
                      {
                        "bin_start": 15332.526062677909,
                        "bin_end": 18399.22085014233,
                        "count": 0
                      },
                      {
                        "bin_start": 18399.22085014233,
                        "bin_end": 21465.915637606748,
                        "count": 0
                      },
                      {
                        "bin_start": 21465.915637606748,
                        "bin_end": 24532.610425071165,
                        "count": 0
                      },
                      {
                        "bin_start": 24532.610425071165,
                        "bin_end": 27599.305212535583,
                        "count": 0
                      },
                      {
                        "bin_start": 27599.305212535583,
                        "bin_end": 30666,
                        "count": 1
                      }
                    ]
                  }
                },
                {
                  "name": "TOTALKWH_std",
                  "dtype": "float64",
                  "stats": {
                    "unique_count": 8,
                    "nan_count": 0,
                    "min": "-0.541630116257685",
                    "max": "30666.0",
                    "histogram": [
                      {
                        "bin_start": -0.541630116257685,
                        "bin_end": 3066.112532895368,
                        "count": 7
                      },
                      {
                        "bin_start": 3066.112532895368,
                        "bin_end": 6132.766695906994,
                        "count": 0
                      },
                      {
                        "bin_start": 6132.766695906994,
                        "bin_end": 9199.42085891862,
                        "count": 0
                      },
                      {
                        "bin_start": 9199.42085891862,
                        "bin_end": 12266.075021930246,
                        "count": 0
                      },
                      {
                        "bin_start": 12266.075021930246,
                        "bin_end": 15332.729184941873,
                        "count": 0
                      },
                      {
                        "bin_start": 15332.729184941873,
                        "bin_end": 18399.383347953495,
                        "count": 0
                      },
                      {
                        "bin_start": 18399.383347953495,
                        "bin_end": 21466.03751096512,
                        "count": 0
                      },
                      {
                        "bin_start": 21466.03751096512,
                        "bin_end": 24532.691673976748,
                        "count": 0
                      },
                      {
                        "bin_start": 24532.691673976748,
                        "bin_end": 27599.345836988374,
                        "count": 0
                      },
                      {
                        "bin_start": 27599.345836988374,
                        "bin_end": 30666,
                        "count": 1
                      }
                    ]
                  }
                },
                {
                  "name": "AVERAGEKWH_std",
                  "dtype": "float64",
                  "stats": {
                    "unique_count": 8,
                    "nan_count": 0,
                    "min": "-0.590524786799469",
                    "max": "30666.0",
                    "histogram": [
                      {
                        "bin_start": -0.590524786799469,
                        "bin_end": 3066.0685276918803,
                        "count": 7
                      },
                      {
                        "bin_start": 3066.0685276918803,
                        "bin_end": 6132.72758017056,
                        "count": 0
                      },
                      {
                        "bin_start": 6132.72758017056,
                        "bin_end": 9199.386632649239,
                        "count": 0
                      },
                      {
                        "bin_start": 9199.386632649239,
                        "bin_end": 12266.04568512792,
                        "count": 0
                      },
                      {
                        "bin_start": 12266.04568512792,
                        "bin_end": 15332.7047376066,
                        "count": 0
                      },
                      {
                        "bin_start": 15332.7047376066,
                        "bin_end": 18399.363790085277,
                        "count": 0
                      },
                      {
                        "bin_start": 18399.363790085277,
                        "bin_end": 21466.022842563958,
                        "count": 0
                      },
                      {
                        "bin_start": 21466.022842563958,
                        "bin_end": 24532.68189504264,
                        "count": 0
                      },
                      {
                        "bin_start": 24532.68189504264,
                        "bin_end": 27599.34094752132,
                        "count": 0
                      },
                      {
                        "bin_start": 27599.34094752132,
                        "bin_end": 30666,
                        "count": 1
                      }
                    ]
                  }
                },
                {
                  "name": "TOTALTHERM_std",
                  "dtype": "float64",
                  "stats": {
                    "unique_count": 4,
                    "nan_count": 0,
                    "min": "-0.4615598355549621",
                    "max": "30666.0",
                    "histogram": [
                      {
                        "bin_start": -0.4615598355549621,
                        "bin_end": 3066.1845961480008,
                        "count": 7
                      },
                      {
                        "bin_start": 3066.1845961480008,
                        "bin_end": 6132.830752131556,
                        "count": 0
                      },
                      {
                        "bin_start": 6132.830752131556,
                        "bin_end": 9199.476908115112,
                        "count": 0
                      },
                      {
                        "bin_start": 9199.476908115112,
                        "bin_end": 12266.123064098667,
                        "count": 0
                      },
                      {
                        "bin_start": 12266.123064098667,
                        "bin_end": 15332.769220082222,
                        "count": 0
                      },
                      {
                        "bin_start": 15332.769220082222,
                        "bin_end": 18399.41537606578,
                        "count": 0
                      },
                      {
                        "bin_start": 18399.41537606578,
                        "bin_end": 21466.061532049334,
                        "count": 0
                      },
                      {
                        "bin_start": 21466.061532049334,
                        "bin_end": 24532.70768803289,
                        "count": 0
                      },
                      {
                        "bin_start": 24532.70768803289,
                        "bin_end": 27599.353844016445,
                        "count": 0
                      },
                      {
                        "bin_start": 27599.353844016445,
                        "bin_end": 30666,
                        "count": 1
                      }
                    ]
                  }
                },
                {
                  "name": "AVERAGETHERM_std",
                  "dtype": "float64",
                  "stats": {
                    "unique_count": 4,
                    "nan_count": 0,
                    "min": "-0.348278095632817",
                    "max": "30666.0",
                    "histogram": [
                      {
                        "bin_start": -0.348278095632817,
                        "bin_end": 3066.2865497139305,
                        "count": 7
                      },
                      {
                        "bin_start": 3066.2865497139305,
                        "bin_end": 6132.921377523494,
                        "count": 0
                      },
                      {
                        "bin_start": 6132.921377523494,
                        "bin_end": 9199.556205333058,
                        "count": 0
                      },
                      {
                        "bin_start": 9199.556205333058,
                        "bin_end": 12266.19103314262,
                        "count": 0
                      },
                      {
                        "bin_start": 12266.19103314262,
                        "bin_end": 15332.825860952184,
                        "count": 0
                      },
                      {
                        "bin_start": 15332.825860952184,
                        "bin_end": 18399.46068876175,
                        "count": 0
                      },
                      {
                        "bin_start": 18399.46068876175,
                        "bin_end": 21466.09551657131,
                        "count": 0
                      },
                      {
                        "bin_start": 21466.09551657131,
                        "bin_end": 24532.730344380874,
                        "count": 0
                      },
                      {
                        "bin_start": 24532.730344380874,
                        "bin_end": 27599.36517219044,
                        "count": 0
                      },
                      {
                        "bin_start": 27599.36517219044,
                        "bin_end": 30666,
                        "count": 1
                      }
                    ]
                  }
                },
                {
                  "name": "GHI_std",
                  "dtype": "float64",
                  "stats": {
                    "unique_count": 8,
                    "nan_count": 0,
                    "min": "-1.726466873318754",
                    "max": "30666.0",
                    "histogram": [
                      {
                        "bin_start": -1.726466873318754,
                        "bin_end": 3065.046179814013,
                        "count": 7
                      },
                      {
                        "bin_start": 3065.046179814013,
                        "bin_end": 6131.818826501345,
                        "count": 0
                      },
                      {
                        "bin_start": 6131.818826501345,
                        "bin_end": 9198.591473188677,
                        "count": 0
                      },
                      {
                        "bin_start": 9198.591473188677,
                        "bin_end": 12265.364119876009,
                        "count": 0
                      },
                      {
                        "bin_start": 12265.364119876009,
                        "bin_end": 15332.13676656334,
                        "count": 0
                      },
                      {
                        "bin_start": 15332.13676656334,
                        "bin_end": 18398.909413250673,
                        "count": 0
                      },
                      {
                        "bin_start": 18398.909413250673,
                        "bin_end": 21465.682059938004,
                        "count": 0
                      },
                      {
                        "bin_start": 21465.682059938004,
                        "bin_end": 24532.454706625336,
                        "count": 0
                      },
                      {
                        "bin_start": 24532.454706625336,
                        "bin_end": 27599.227353312668,
                        "count": 0
                      },
                      {
                        "bin_start": 27599.227353312668,
                        "bin_end": 30666,
                        "count": 1
                      }
                    ]
                  }
                },
                {
                  "name": "DHI_std",
                  "dtype": "float64",
                  "stats": {
                    "unique_count": 8,
                    "nan_count": 0,
                    "min": "-1.718965158245286",
                    "max": "30666.0",
                    "histogram": [
                      {
                        "bin_start": -1.718965158245286,
                        "bin_end": 3065.0529313575794,
                        "count": 7
                      },
                      {
                        "bin_start": 3065.0529313575794,
                        "bin_end": 6131.824827873404,
                        "count": 0
                      },
                      {
                        "bin_start": 6131.824827873404,
                        "bin_end": 9198.59672438923,
                        "count": 0
                      },
                      {
                        "bin_start": 9198.59672438923,
                        "bin_end": 12265.368620905054,
                        "count": 0
                      },
                      {
                        "bin_start": 12265.368620905054,
                        "bin_end": 15332.140517420878,
                        "count": 0
                      },
                      {
                        "bin_start": 15332.140517420878,
                        "bin_end": 18398.912413936705,
                        "count": 0
                      },
                      {
                        "bin_start": 18398.912413936705,
                        "bin_end": 21465.68431045253,
                        "count": 0
                      },
                      {
                        "bin_start": 21465.68431045253,
                        "bin_end": 24532.456206968352,
                        "count": 0
                      },
                      {
                        "bin_start": 24532.456206968352,
                        "bin_end": 27599.228103484176,
                        "count": 0
                      },
                      {
                        "bin_start": 27599.228103484176,
                        "bin_end": 30666,
                        "count": 1
                      }
                    ]
                  }
                },
                {
                  "name": "DNI_std",
                  "dtype": "float64",
                  "stats": {
                    "unique_count": 8,
                    "nan_count": 0,
                    "min": "-2.201362395022873",
                    "max": "30666.0",
                    "histogram": [
                      {
                        "bin_start": -2.201362395022873,
                        "bin_end": 3064.618773844479,
                        "count": 7
                      },
                      {
                        "bin_start": 3064.618773844479,
                        "bin_end": 6131.438910083982,
                        "count": 0
                      },
                      {
                        "bin_start": 6131.438910083982,
                        "bin_end": 9198.259046323485,
                        "count": 0
                      },
                      {
                        "bin_start": 9198.259046323485,
                        "bin_end": 12265.079182562986,
                        "count": 0
                      },
                      {
                        "bin_start": 12265.079182562986,
                        "bin_end": 15331.899318802487,
                        "count": 0
                      },
                      {
                        "bin_start": 15331.899318802487,
                        "bin_end": 18398.71945504199,
                        "count": 0
                      },
                      {
                        "bin_start": 18398.71945504199,
                        "bin_end": 21465.539591281493,
                        "count": 0
                      },
                      {
                        "bin_start": 21465.539591281493,
                        "bin_end": 24532.359727520994,
                        "count": 0
                      },
                      {
                        "bin_start": 24532.359727520994,
                        "bin_end": 27599.179863760495,
                        "count": 0
                      },
                      {
                        "bin_start": 27599.179863760495,
                        "bin_end": 30666,
                        "count": 1
                      }
                    ]
                  }
                },
                {
                  "name": "Wind_Speed_std",
                  "dtype": "float64",
                  "stats": {
                    "unique_count": 8,
                    "nan_count": 0,
                    "min": "-1.289943651499707",
                    "max": "30666.0",
                    "histogram": [
                      {
                        "bin_start": -1.289943651499707,
                        "bin_end": 3065.43905071365,
                        "count": 7
                      },
                      {
                        "bin_start": 3065.43905071365,
                        "bin_end": 6132.1680450788,
                        "count": 0
                      },
                      {
                        "bin_start": 6132.1680450788,
                        "bin_end": 9198.89703944395,
                        "count": 0
                      },
                      {
                        "bin_start": 9198.89703944395,
                        "bin_end": 12265.6260338091,
                        "count": 0
                      },
                      {
                        "bin_start": 12265.6260338091,
                        "bin_end": 15332.35502817425,
                        "count": 0
                      },
                      {
                        "bin_start": 15332.35502817425,
                        "bin_end": 18399.0840225394,
                        "count": 0
                      },
                      {
                        "bin_start": 18399.0840225394,
                        "bin_end": 21465.81301690455,
                        "count": 0
                      },
                      {
                        "bin_start": 21465.81301690455,
                        "bin_end": 24532.5420112697,
                        "count": 0
                      },
                      {
                        "bin_start": 24532.5420112697,
                        "bin_end": 27599.271005634848,
                        "count": 0
                      },
                      {
                        "bin_start": 27599.271005634848,
                        "bin_end": 30666,
                        "count": 1
                      }
                    ]
                  }
                },
                {
                  "name": "Temperature_std",
                  "dtype": "float64",
                  "stats": {
                    "unique_count": 8,
                    "nan_count": 0,
                    "min": "-2.198615331545561",
                    "max": "30666.0",
                    "histogram": [
                      {
                        "bin_start": -2.198615331545561,
                        "bin_end": 3064.6212462016088,
                        "count": 7
                      },
                      {
                        "bin_start": 3064.6212462016088,
                        "bin_end": 6131.441107734763,
                        "count": 0
                      },
                      {
                        "bin_start": 6131.441107734763,
                        "bin_end": 9198.260969267918,
                        "count": 0
                      },
                      {
                        "bin_start": 9198.260969267918,
                        "bin_end": 12265.080830801073,
                        "count": 0
                      },
                      {
                        "bin_start": 12265.080830801073,
                        "bin_end": 15331.900692334228,
                        "count": 0
                      },
                      {
                        "bin_start": 15331.900692334228,
                        "bin_end": 18398.72055386738,
                        "count": 0
                      },
                      {
                        "bin_start": 18398.72055386738,
                        "bin_end": 21465.540415400537,
                        "count": 0
                      },
                      {
                        "bin_start": 21465.540415400537,
                        "bin_end": 24532.36027693369,
                        "count": 0
                      },
                      {
                        "bin_start": 24532.36027693369,
                        "bin_end": 27599.180138466843,
                        "count": 0
                      },
                      {
                        "bin_start": 27599.180138466843,
                        "bin_end": 30666,
                        "count": 1
                      }
                    ]
                  }
                },
                {
                  "name": "Solar_Zenith_Angle_std",
                  "dtype": "float64",
                  "stats": {
                    "unique_count": 8,
                    "nan_count": 0,
                    "min": "-1.43557533667467",
                    "max": "30666.0",
                    "histogram": [
                      {
                        "bin_start": -1.43557533667467,
                        "bin_end": 3065.307982196993,
                        "count": 7
                      },
                      {
                        "bin_start": 3065.307982196993,
                        "bin_end": 6132.051539730661,
                        "count": 0
                      },
                      {
                        "bin_start": 6132.051539730661,
                        "bin_end": 9198.795097264328,
                        "count": 0
                      },
                      {
                        "bin_start": 9198.795097264328,
                        "bin_end": 12265.538654797996,
                        "count": 0
                      },
                      {
                        "bin_start": 12265.538654797996,
                        "bin_end": 15332.282212331664,
                        "count": 0
                      },
                      {
                        "bin_start": 15332.282212331664,
                        "bin_end": 18399.02576986533,
                        "count": 0
                      },
                      {
                        "bin_start": 18399.02576986533,
                        "bin_end": 21465.769327398997,
                        "count": 0
                      },
                      {
                        "bin_start": 21465.769327398997,
                        "bin_end": 24532.512884932665,
                        "count": 0
                      },
                      {
                        "bin_start": 24532.512884932665,
                        "bin_end": 27599.256442466332,
                        "count": 0
                      },
                      {
                        "bin_start": 27599.256442466332,
                        "bin_end": 30666,
                        "count": 1
                      }
                    ]
                  }
                },
                {
                  "name": "_deepnote_index_column",
                  "dtype": "object"
                }
              ],
              "rows_top": [
                {
                  "zip": 30666,
                  "latitude": 30666,
                  "longitude": 30666,
                  "MONTH": 30666,
                  "YEAR": 30666,
                  "DAY": 30666,
                  "TOTALCUSTO_raw": 30666,
                  "TOTALKWH_raw": 30666,
                  "AVERAGEKWH_raw": 30666,
                  "TOTALTHERM_raw": 30666,
                  "AVERAGETHERM_raw": 30666,
                  "Temperature_raw": 30666,
                  "Solar_Zenith_Angle_raw": 30666,
                  "TOTALCUS_std": 30666,
                  "TOTALKWH_std": 30666,
                  "AVERAGEKWH_std": 30666,
                  "TOTALTHERM_std": 30666,
                  "AVERAGETHERM_std": 30666,
                  "GHI_std": 30666,
                  "DHI_std": 30666,
                  "DNI_std": 30666,
                  "Wind_Speed_std": 30666,
                  "Temperature_std": 30666,
                  "Solar_Zenith_Angle_std": 30666,
                  "_deepnote_index_column": "count"
                },
                {
                  "zip": 94737.87833431161,
                  "latitude": 37.787115771277634,
                  "longitude": -122.1935704916846,
                  "MONTH": 6.479977825604904,
                  "YEAR": 2015.7861475249463,
                  "DAY": 1,
                  "TOTALCUSTO_raw": 8087.939639992173,
                  "TOTALKWH_raw": 3789958.5480010435,
                  "AVERAGEKWH_raw": 457.2335485554034,
                  "TOTALTHERM_raw": 0,
                  "AVERAGETHERM_raw": 0,
                  "Temperature_raw": 14.559023957704166,
                  "Solar_Zenith_Angle_raw": 90.01597365755572,
                  "TOTALCUS_std": 0.37872833141888596,
                  "TOTALKWH_std": 0.7390821402724725,
                  "AVERAGEKWH_std": 0.2422764784760985,
                  "TOTALTHERM_std": -0.4615598355549621,
                  "AVERAGETHERM_std": -0.3482780956328169,
                  "GHI_std": -0.021727688726537204,
                  "DHI_std": 0.03254274497517324,
                  "DNI_std": -0.05432126415588115,
                  "Wind_Speed_std": 0.4046099901092591,
                  "Temperature_std": -0.1571484326587075,
                  "Solar_Zenith_Angle_std": -0.0006452570899826971,
                  "_deepnote_index_column": "mean"
                },
                {
                  "zip": 459.91026067516367,
                  "latitude": 0.4099732225297213,
                  "longitude": 0.3566539402772227,
                  "MONTH": 3.484611093837447,
                  "YEAR": 2.0214531411451664,
                  "DAY": 0,
                  "TOTALCUSTO_raw": 6908.3159806058475,
                  "TOTALKWH_raw": 3359593.0799521646,
                  "AVERAGEKWH_raw": 253.13585639165777,
                  "TOTALTHERM_raw": 0,
                  "AVERAGETHERM_raw": 0,
                  "Temperature_raw": 3.919081603114266,
                  "Solar_Zenith_Angle_raw": 12.28923627567499,
                  "TOTALCUS_std": 1.1331183149449962,
                  "TOTALKWH_std": 1.1352820828919143,
                  "AVERAGEKWH_std": 0.46105947858732577,
                  "TOTALTHERM_std": 1.1102411269237633e-16,
                  "AVERAGETHERM_std": 5.551205634618817e-17,
                  "GHI_std": 0.9707101455596704,
                  "DHI_std": 1.0166776432612403,
                  "DNI_std": 0.9422417901960927,
                  "Wind_Speed_std": 0.8922654302364088,
                  "Temperature_std": 0.6733665724631752,
                  "Solar_Zenith_Angle_std": 0.9981885691234016,
                  "_deepnote_index_column": "std"
                },
                {
                  "zip": 94002,
                  "latitude": 36.922902,
                  "longitude": -123.22938,
                  "MONTH": 1,
                  "YEAR": 2013,
                  "DAY": 1,
                  "TOTALCUSTO_raw": 0,
                  "TOTALKWH_raw": 0,
                  "AVERAGEKWH_raw": 0,
                  "TOTALTHERM_raw": 0,
                  "AVERAGETHERM_raw": 0,
                  "Temperature_raw": 2.677419354838709,
                  "Solar_Zenith_Angle_raw": 72.34977777777772,
                  "TOTALCUS_std": -0.94787464417938,
                  "TOTALKWH_std": -0.541630116257685,
                  "AVERAGEKWH_std": -0.590524786799469,
                  "TOTALTHERM_std": -0.461559835554962,
                  "AVERAGETHERM_std": -0.348278095632817,
                  "GHI_std": -1.726466873318754,
                  "DHI_std": -1.718965158245286,
                  "DNI_std": -2.201362395022873,
                  "Wind_Speed_std": -1.289943651499707,
                  "Temperature_std": -2.198615331545561,
                  "Solar_Zenith_Angle_std": -1.43557533667467,
                  "_deepnote_index_column": "min"
                },
                {
                  "zip": 94512,
                  "latitude": 37.444879,
                  "longitude": -122.4301,
                  "MONTH": 3,
                  "YEAR": 2014,
                  "DAY": 1,
                  "TOTALCUSTO_raw": 918,
                  "TOTALKWH_raw": 552240.75,
                  "AVERAGEKWH_raw": 350,
                  "TOTALTHERM_raw": 0,
                  "AVERAGETHERM_raw": 0,
                  "Temperature_raw": 11.615591397849462,
                  "Solar_Zenith_Angle_raw": 79.6233837365591,
                  "TOTALCUS_std": -0.79730211448622,
                  "TOTALKWH_std": -0.3550155430050463,
                  "AVERAGEKWH_std": 0.046962212497411,
                  "TOTALTHERM_std": -0.461559835554962,
                  "AVERAGETHERM_std": -0.348278095632817,
                  "GHI_std": -1.019955379681477,
                  "DHI_std": -0.923596686362582,
                  "DNI_std": -0.7008431613636279,
                  "Wind_Speed_std": -0.218190114722588,
                  "Temperature_std": -0.662881483108814,
                  "Solar_Zenith_Angle_std": -0.8447794433013309,
                  "_deepnote_index_column": "25%"
                },
                {
                  "zip": 94613,
                  "latitude": 37.792678,
                  "longitude": -122.18993999999999,
                  "MONTH": 6,
                  "YEAR": 2016,
                  "DAY": 1,
                  "TOTALCUSTO_raw": 7409.5,
                  "TOTALKWH_raw": 3377305.5,
                  "AVERAGEKWH_raw": 457,
                  "TOTALTHERM_raw": 0,
                  "AVERAGETHERM_raw": 0,
                  "Temperature_raw": 14.029569892473118,
                  "Solar_Zenith_Angle_raw": 91.03458333333336,
                  "TOTALCUS_std": 0.267449058175162,
                  "TOTALKWH_std": 0.5996373918468705,
                  "AVERAGEKWH_std": 0.241851095139601,
                  "TOTALTHERM_std": -0.461559835554962,
                  "AVERAGETHERM_std": -0.348278095632817,
                  "GHI_std": -0.117098487998165,
                  "DHI_std": 0.039014675734548504,
                  "DNI_std": -0.066122411778966,
                  "Wind_Speed_std": 0.300821988014231,
                  "Temperature_std": -0.248117875320484,
                  "Solar_Zenith_Angle_std": 0.08209092862176,
                  "_deepnote_index_column": "50%"
                },
                {
                  "zip": 95060,
                  "latitude": 38.031271000000004,
                  "longitude": -121.95071999999999,
                  "MONTH": 10,
                  "YEAR": 2018,
                  "DAY": 1,
                  "TOTALCUSTO_raw": 13354.75,
                  "TOTALKWH_raw": 5984425.5,
                  "AVERAGEKWH_raw": 575,
                  "TOTALTHERM_raw": 0,
                  "AVERAGETHERM_raw": 0,
                  "Temperature_raw": 17.709408602150543,
                  "Solar_Zenith_Angle_raw": 103.9440381944444,
                  "TOTALCUS_std": 1.242603014774574,
                  "TOTALKWH_std": 1.480641892544113,
                  "AVERAGEKWH_std": 0.456775283473978,
                  "TOTALTHERM_std": -0.461559835554962,
                  "AVERAGETHERM_std": -0.348278095632817,
                  "GHI_std": 0.8348726397675205,
                  "DHI_std": 0.8185347685401014,
                  "DNI_std": 0.6814974927922127,
                  "Wind_Speed_std": 0.892618437248036,
                  "Temperature_std": 0.384142595393822,
                  "Solar_Zenith_Angle_std": 1.1306565178017778,
                  "_deepnote_index_column": "75%"
                },
                {
                  "zip": 95823,
                  "latitude": 38.592155,
                  "longitude": -121.40021999999999,
                  "MONTH": 12,
                  "YEAR": 2019,
                  "DAY": 1,
                  "TOTALCUSTO_raw": 110585,
                  "TOTALKWH_raw": 24361593,
                  "AVERAGEKWH_raw": 2401,
                  "TOTALTHERM_raw": 0,
                  "AVERAGETHERM_raw": 0,
                  "Temperature_raw": 27.49529569892475,
                  "Solar_Zenith_Angle_raw": 107.56004032258056,
                  "TOTALCUS_std": 17.19053842348741,
                  "TOTALKWH_std": 7.690700224177138,
                  "AVERAGEKWH_std": 3.782636028377133,
                  "TOTALTHERM_std": -0.461559835554962,
                  "AVERAGETHERM_std": -0.348278095632817,
                  "GHI_std": 1.748295103738271,
                  "DHI_std": 4.262493396653499,
                  "DNI_std": 2.286721546813322,
                  "Wind_Speed_std": 4.351488739457888,
                  "Temperature_std": 2.065528675140203,
                  "Solar_Zenith_Angle_std": 1.424364923211465,
                  "_deepnote_index_column": "max"
                }
              ],
              "rows_bottom": null
            },
            "text/plain": "                zip      latitude     longitude         MONTH          YEAR  \\\ncount  30666.000000  30666.000000  30666.000000  30666.000000  30666.000000   \nmean   94737.878334     37.787116   -122.193570      6.479978   2015.786148   \nstd      459.910261      0.409973      0.356654      3.484611      2.021453   \nmin    94002.000000     36.922902   -123.229380      1.000000   2013.000000   \n25%    94512.000000     37.444879   -122.430100      3.000000   2014.000000   \n50%    94613.000000     37.792678   -122.189940      6.000000   2016.000000   \n75%    95060.000000     38.031271   -121.950720     10.000000   2018.000000   \nmax    95823.000000     38.592155   -121.400220     12.000000   2019.000000   \n\n           DAY  TOTALCUSTO_raw  TOTALKWH_raw  AVERAGEKWH_raw  TOTALTHERM_raw  \\\ncount  30666.0    30666.000000  3.066600e+04    30666.000000         30666.0   \nmean       1.0     8087.939640  3.789959e+06      457.233549             0.0   \nstd        0.0     6908.315981  3.359593e+06      253.135856             0.0   \nmin        1.0        0.000000  0.000000e+00        0.000000             0.0   \n25%        1.0      918.000000  5.522408e+05      350.000000             0.0   \n50%        1.0     7409.500000  3.377306e+06      457.000000             0.0   \n75%        1.0    13354.750000  5.984426e+06      575.000000             0.0   \nmax        1.0   110585.000000  2.436159e+07     2401.000000             0.0   \n\n       ...  TOTALKWH_std  AVERAGEKWH_std  TOTALTHERM_std  AVERAGETHERM_std  \\\ncount  ...  30666.000000    30666.000000    3.066600e+04      3.066600e+04   \nmean   ...      0.739082        0.242276   -4.615598e-01     -3.482781e-01   \nstd    ...      1.135282        0.461059    1.110241e-16      5.551206e-17   \nmin    ...     -0.541630       -0.590525   -4.615598e-01     -3.482781e-01   \n25%    ...     -0.355016        0.046962   -4.615598e-01     -3.482781e-01   \n50%    ...      0.599637        0.241851   -4.615598e-01     -3.482781e-01   \n75%    ...      1.480642        0.456775   -4.615598e-01     -3.482781e-01   \nmax    ...      7.690700        3.782636   -4.615598e-01     -3.482781e-01   \n\n            GHI_std       DHI_std       DNI_std  Wind_Speed_std  \\\ncount  30666.000000  30666.000000  30666.000000    30666.000000   \nmean      -0.021728      0.032543     -0.054321        0.404610   \nstd        0.970710      1.016678      0.942242        0.892265   \nmin       -1.726467     -1.718965     -2.201362       -1.289944   \n25%       -1.019955     -0.923597     -0.700843       -0.218190   \n50%       -0.117098      0.039015     -0.066122        0.300822   \n75%        0.834873      0.818535      0.681497        0.892618   \nmax        1.748295      4.262493      2.286722        4.351489   \n\n       Temperature_std  Solar_Zenith_Angle_std  \ncount     30666.000000            30666.000000  \nmean         -0.157148               -0.000645  \nstd           0.673367                0.998189  \nmin          -2.198615               -1.435575  \n25%          -0.662881               -0.844779  \n50%          -0.248118                0.082091  \n75%           0.384143                1.130657  \nmax           2.065529                1.424365  \n\n[8 rows x 24 columns]",
            "text/html": "<div>\n<style scoped>\n    .dataframe tbody tr th:only-of-type {\n        vertical-align: middle;\n    }\n\n    .dataframe tbody tr th {\n        vertical-align: top;\n    }\n\n    .dataframe thead th {\n        text-align: right;\n    }\n</style>\n<table border=\"1\" class=\"dataframe\">\n  <thead>\n    <tr style=\"text-align: right;\">\n      <th></th>\n      <th>zip</th>\n      <th>latitude</th>\n      <th>longitude</th>\n      <th>MONTH</th>\n      <th>YEAR</th>\n      <th>DAY</th>\n      <th>TOTALCUSTO_raw</th>\n      <th>TOTALKWH_raw</th>\n      <th>AVERAGEKWH_raw</th>\n      <th>TOTALTHERM_raw</th>\n      <th>...</th>\n      <th>TOTALKWH_std</th>\n      <th>AVERAGEKWH_std</th>\n      <th>TOTALTHERM_std</th>\n      <th>AVERAGETHERM_std</th>\n      <th>GHI_std</th>\n      <th>DHI_std</th>\n      <th>DNI_std</th>\n      <th>Wind_Speed_std</th>\n      <th>Temperature_std</th>\n      <th>Solar_Zenith_Angle_std</th>\n    </tr>\n  </thead>\n  <tbody>\n    <tr>\n      <th>count</th>\n      <td>30666.000000</td>\n      <td>30666.000000</td>\n      <td>30666.000000</td>\n      <td>30666.000000</td>\n      <td>30666.000000</td>\n      <td>30666.0</td>\n      <td>30666.000000</td>\n      <td>3.066600e+04</td>\n      <td>30666.000000</td>\n      <td>30666.0</td>\n      <td>...</td>\n      <td>30666.000000</td>\n      <td>30666.000000</td>\n      <td>3.066600e+04</td>\n      <td>3.066600e+04</td>\n      <td>30666.000000</td>\n      <td>30666.000000</td>\n      <td>30666.000000</td>\n      <td>30666.000000</td>\n      <td>30666.000000</td>\n      <td>30666.000000</td>\n    </tr>\n    <tr>\n      <th>mean</th>\n      <td>94737.878334</td>\n      <td>37.787116</td>\n      <td>-122.193570</td>\n      <td>6.479978</td>\n      <td>2015.786148</td>\n      <td>1.0</td>\n      <td>8087.939640</td>\n      <td>3.789959e+06</td>\n      <td>457.233549</td>\n      <td>0.0</td>\n      <td>...</td>\n      <td>0.739082</td>\n      <td>0.242276</td>\n      <td>-4.615598e-01</td>\n      <td>-3.482781e-01</td>\n      <td>-0.021728</td>\n      <td>0.032543</td>\n      <td>-0.054321</td>\n      <td>0.404610</td>\n      <td>-0.157148</td>\n      <td>-0.000645</td>\n    </tr>\n    <tr>\n      <th>std</th>\n      <td>459.910261</td>\n      <td>0.409973</td>\n      <td>0.356654</td>\n      <td>3.484611</td>\n      <td>2.021453</td>\n      <td>0.0</td>\n      <td>6908.315981</td>\n      <td>3.359593e+06</td>\n      <td>253.135856</td>\n      <td>0.0</td>\n      <td>...</td>\n      <td>1.135282</td>\n      <td>0.461059</td>\n      <td>1.110241e-16</td>\n      <td>5.551206e-17</td>\n      <td>0.970710</td>\n      <td>1.016678</td>\n      <td>0.942242</td>\n      <td>0.892265</td>\n      <td>0.673367</td>\n      <td>0.998189</td>\n    </tr>\n    <tr>\n      <th>min</th>\n      <td>94002.000000</td>\n      <td>36.922902</td>\n      <td>-123.229380</td>\n      <td>1.000000</td>\n      <td>2013.000000</td>\n      <td>1.0</td>\n      <td>0.000000</td>\n      <td>0.000000e+00</td>\n      <td>0.000000</td>\n      <td>0.0</td>\n      <td>...</td>\n      <td>-0.541630</td>\n      <td>-0.590525</td>\n      <td>-4.615598e-01</td>\n      <td>-3.482781e-01</td>\n      <td>-1.726467</td>\n      <td>-1.718965</td>\n      <td>-2.201362</td>\n      <td>-1.289944</td>\n      <td>-2.198615</td>\n      <td>-1.435575</td>\n    </tr>\n    <tr>\n      <th>25%</th>\n      <td>94512.000000</td>\n      <td>37.444879</td>\n      <td>-122.430100</td>\n      <td>3.000000</td>\n      <td>2014.000000</td>\n      <td>1.0</td>\n      <td>918.000000</td>\n      <td>5.522408e+05</td>\n      <td>350.000000</td>\n      <td>0.0</td>\n      <td>...</td>\n      <td>-0.355016</td>\n      <td>0.046962</td>\n      <td>-4.615598e-01</td>\n      <td>-3.482781e-01</td>\n      <td>-1.019955</td>\n      <td>-0.923597</td>\n      <td>-0.700843</td>\n      <td>-0.218190</td>\n      <td>-0.662881</td>\n      <td>-0.844779</td>\n    </tr>\n    <tr>\n      <th>50%</th>\n      <td>94613.000000</td>\n      <td>37.792678</td>\n      <td>-122.189940</td>\n      <td>6.000000</td>\n      <td>2016.000000</td>\n      <td>1.0</td>\n      <td>7409.500000</td>\n      <td>3.377306e+06</td>\n      <td>457.000000</td>\n      <td>0.0</td>\n      <td>...</td>\n      <td>0.599637</td>\n      <td>0.241851</td>\n      <td>-4.615598e-01</td>\n      <td>-3.482781e-01</td>\n      <td>-0.117098</td>\n      <td>0.039015</td>\n      <td>-0.066122</td>\n      <td>0.300822</td>\n      <td>-0.248118</td>\n      <td>0.082091</td>\n    </tr>\n    <tr>\n      <th>75%</th>\n      <td>95060.000000</td>\n      <td>38.031271</td>\n      <td>-121.950720</td>\n      <td>10.000000</td>\n      <td>2018.000000</td>\n      <td>1.0</td>\n      <td>13354.750000</td>\n      <td>5.984426e+06</td>\n      <td>575.000000</td>\n      <td>0.0</td>\n      <td>...</td>\n      <td>1.480642</td>\n      <td>0.456775</td>\n      <td>-4.615598e-01</td>\n      <td>-3.482781e-01</td>\n      <td>0.834873</td>\n      <td>0.818535</td>\n      <td>0.681497</td>\n      <td>0.892618</td>\n      <td>0.384143</td>\n      <td>1.130657</td>\n    </tr>\n    <tr>\n      <th>max</th>\n      <td>95823.000000</td>\n      <td>38.592155</td>\n      <td>-121.400220</td>\n      <td>12.000000</td>\n      <td>2019.000000</td>\n      <td>1.0</td>\n      <td>110585.000000</td>\n      <td>2.436159e+07</td>\n      <td>2401.000000</td>\n      <td>0.0</td>\n      <td>...</td>\n      <td>7.690700</td>\n      <td>3.782636</td>\n      <td>-4.615598e-01</td>\n      <td>-3.482781e-01</td>\n      <td>1.748295</td>\n      <td>4.262493</td>\n      <td>2.286722</td>\n      <td>4.351489</td>\n      <td>2.065529</td>\n      <td>1.424365</td>\n    </tr>\n  </tbody>\n</table>\n<p>8 rows × 24 columns</p>\n</div>"
          },
          "metadata": {}
        }
      ]
    },
    {
      "cell_type": "code",
      "metadata": {
        "tags": [],
        "deepnote_to_be_reexecuted": false,
        "source_hash": "81ef2cc9",
        "execution_millis": 150,
        "cell_id": "00022-40f285c8-8ca6-4da0-8282-86d1b011a361",
        "execution_start": 1618697457454,
        "deepnote_cell_type": "code"
      },
      "source": " plt.plot(bay_area_monthly_elec_pge_nrel['TOTALKWH_std'])\n#keep this plot!! shows why we got rid of the data (and make prettier)\n #plt.plot(bay_area_monthly_elec_pge_nrel_clean['TOTALKWH_std']) #add this plot to it side by side to show\n ",
      "execution_count": null,
      "outputs": [
        {
          "output_type": "execute_result",
          "execution_count": 188,
          "data": {
            "text/plain": "[<matplotlib.lines.Line2D at 0x7ff646048210>]"
          },
          "metadata": {}
        },
        {
          "data": {
            "text/plain": "<Figure size 432x288 with 1 Axes>",
            "image/png": "[encoded data removed]"
          },
          "metadata": {
            "needs_background": "light"
          },
          "output_type": "display_data"
        }
      ]
    },
    {
      "cell_type": "code",
      "metadata": {
        "tags": [],
        "deepnote_to_be_reexecuted": false,
        "source_hash": "ffac0c8b",
        "execution_millis": 757,
        "cell_id": "00023-18ca9c21-7353-4d21-9fca-a65d4d3070a9",
        "execution_start": 1618697459122,
        "deepnote_cell_type": "code"
      },
      "source": "sns.distplot(bay_area_monthly_elec_pge_nrel['TOTALKWH_std'])\nsns.distplot(bay_area_monthly_elec_pge_nrel_clean['TOTALKWH_std'])\n",
      "execution_count": null,
      "outputs": [
        {
          "name": "stderr",
          "text": "/shared-libs/python3.7/py/lib/python3.7/site-packages/seaborn/distributions.py:2557: FutureWarning: `distplot` is a deprecated function and will be removed in a future version. Please adapt your code to use either `displot` (a figure-level function with similar flexibility) or `histplot` (an axes-level function for histograms).\n  warnings.warn(msg, FutureWarning)\n/shared-libs/python3.7/py/lib/python3.7/site-packages/seaborn/distributions.py:2557: FutureWarning: `distplot` is a deprecated function and will be removed in a future version. Please adapt your code to use either `displot` (a figure-level function with similar flexibility) or `histplot` (an axes-level function for histograms).\n  warnings.warn(msg, FutureWarning)\n",
          "output_type": "stream"
        },
        {
          "output_type": "execute_result",
          "execution_count": 189,
          "data": {
            "text/plain": "<AxesSubplot:xlabel='TOTALKWH_std', ylabel='Density'>"
          },
          "metadata": {}
        },
        {
          "data": {
            "text/plain": "<Figure size 432x288 with 1 Axes>",
            "image/png": "[encoded data removed]"
          },
          "metadata": {
            "needs_background": "light"
          },
          "output_type": "display_data"
        }
      ]
    },
    {
      "cell_type": "code",
      "metadata": {
        "tags": [],
        "deepnote_to_be_reexecuted": false,
        "source_hash": "45c5d01b",
        "execution_millis": 15,
        "cell_id": "00024-0c676a48-f53f-4dbd-94f5-40431b06ca5c",
        "execution_start": 1618697462881,
        "deepnote_cell_type": "code"
      },
      "source": "## Trainv-validation split \nX_train, X_val, y_train, y_val = train_test_split(elec_X_train_2,elec_Y_train_2,test_size=0.2,\n                                                  random_state=0)\n\n",
      "execution_count": null,
      "outputs": []
    },
    {
      "cell_type": "code",
      "metadata": {
        "tags": [],
        "cell_id": "00025-78798ab9-a6c9-49da-9c7b-f7a6b2df66c2",
        "deepnote_to_be_reexecuted": false,
        "source_hash": "708a4e17",
        "execution_millis": 86,
        "execution_start": 1618697464865,
        "deepnote_cell_type": "code"
      },
      "source": "info(X_train)",
      "execution_count": null,
      "outputs": [
        {
          "name": "stdout",
          "text": "Type:  <class 'pandas.core.frame.DataFrame'>\nShape:  (24447, 21)\nColumns:  Index(['MONTH', 'YEAR', 'zip', 'GHI_raw', 'DHI_raw', 'DNI_raw', 'Wind Speed',\n       'Temperature_raw', 'Solar_Zenith_Angle_raw', 'k_12', 'k_11', 'k_10',\n       'k_9', 'k_8', 'k_7', 'k_6', 'k_5', 'k_4', 'k_3', 'k_2', 'k_1'],\n      dtype='object')\n",
          "output_type": "stream"
        },
        {
          "data": {
            "application/vnd.deepnote.dataframe.v2+json": {
              "row_count": 5,
              "column_count": 21,
              "columns": [
                {
                  "name": "MONTH",
                  "dtype": "int64",
                  "stats": {
                    "unique_count": 4,
                    "nan_count": 0,
                    "min": "1",
                    "max": "10",
                    "histogram": [
                      {
                        "bin_start": 1,
                        "bin_end": 1.9,
                        "count": 1
                      },
                      {
                        "bin_start": 1.9,
                        "bin_end": 2.8,
                        "count": 0
                      },
                      {
                        "bin_start": 2.8,
                        "bin_end": 3.7,
                        "count": 0
                      },
                      {
                        "bin_start": 3.7,
                        "bin_end": 4.6,
                        "count": 0
                      },
                      {
                        "bin_start": 4.6,
                        "bin_end": 5.5,
                        "count": 0
                      },
                      {
                        "bin_start": 5.5,
                        "bin_end": 6.4,
                        "count": 0
                      },
                      {
                        "bin_start": 6.4,
                        "bin_end": 7.3,
                        "count": 2
                      },
                      {
                        "bin_start": 7.3,
                        "bin_end": 8.2,
                        "count": 1
                      },
                      {
                        "bin_start": 8.2,
                        "bin_end": 9.1,
                        "count": 0
                      },
                      {
                        "bin_start": 9.1,
                        "bin_end": 10,
                        "count": 1
                      }
                    ]
                  }
                },
                {
                  "name": "YEAR",
                  "dtype": "int64",
                  "stats": {
                    "unique_count": 5,
                    "nan_count": 0,
                    "min": "2013",
                    "max": "2019",
                    "histogram": [
                      {
                        "bin_start": 2013,
                        "bin_end": 2013.6,
                        "count": 1
                      },
                      {
                        "bin_start": 2013.6,
                        "bin_end": 2014.2,
                        "count": 1
                      },
                      {
                        "bin_start": 2014.2,
                        "bin_end": 2014.8,
                        "count": 0
                      },
                      {
                        "bin_start": 2014.8,
                        "bin_end": 2015.4,
                        "count": 0
                      },
                      {
                        "bin_start": 2015.4,
                        "bin_end": 2016,
                        "count": 0
                      },
                      {
                        "bin_start": 2016,
                        "bin_end": 2016.6,
                        "count": 1
                      },
                      {
                        "bin_start": 2016.6,
                        "bin_end": 2017.2,
                        "count": 1
                      },
                      {
                        "bin_start": 2017.2,
                        "bin_end": 2017.8,
                        "count": 0
                      },
                      {
                        "bin_start": 2017.8,
                        "bin_end": 2018.4,
                        "count": 0
                      },
                      {
                        "bin_start": 2018.4,
                        "bin_end": 2019,
                        "count": 1
                      }
                    ]
                  }
                },
                {
                  "name": "zip",
                  "dtype": "int64",
                  "stats": {
                    "unique_count": 5,
                    "nan_count": 0,
                    "min": "94513",
                    "max": "94585",
                    "histogram": [
                      {
                        "bin_start": 94513,
                        "bin_end": 94520.2,
                        "count": 2
                      },
                      {
                        "bin_start": 94520.2,
                        "bin_end": 94527.4,
                        "count": 0
                      },
                      {
                        "bin_start": 94527.4,
                        "bin_end": 94534.6,
                        "count": 1
                      },
                      {
                        "bin_start": 94534.6,
                        "bin_end": 94541.8,
                        "count": 0
                      },
                      {
                        "bin_start": 94541.8,
                        "bin_end": 94549,
                        "count": 0
                      },
                      {
                        "bin_start": 94549,
                        "bin_end": 94556.2,
                        "count": 0
                      },
                      {
                        "bin_start": 94556.2,
                        "bin_end": 94563.4,
                        "count": 0
                      },
                      {
                        "bin_start": 94563.4,
                        "bin_end": 94570.6,
                        "count": 0
                      },
                      {
                        "bin_start": 94570.6,
                        "bin_end": 94577.8,
                        "count": 0
                      },
                      {
                        "bin_start": 94577.8,
                        "bin_end": 94585,
                        "count": 2
                      }
                    ]
                  }
                },
                {
                  "name": "GHI_raw",
                  "dtype": "object",
                  "stats": {
                    "unique_count": 5,
                    "nan_count": 0,
                    "categories": [
                      {
                        "name": "311.5416666666667",
                        "count": 1
                      },
                      {
                        "name": "119.76747311827957",
                        "count": 1
                      },
                      {
                        "name": "3 others",
                        "count": 3
                      }
                    ]
                  }
                },
                {
                  "name": "DHI_raw",
                  "dtype": "object",
                  "stats": {
                    "unique_count": 5,
                    "nan_count": 0,
                    "categories": [
                      {
                        "name": "56.954301075268816",
                        "count": 1
                      },
                      {
                        "name": "31.557795698924732",
                        "count": 1
                      },
                      {
                        "name": "3 others",
                        "count": 3
                      }
                    ]
                  }
                },
                {
                  "name": "DNI_raw",
                  "dtype": "object",
                  "stats": {
                    "unique_count": 5,
                    "nan_count": 0,
                    "categories": [
                      {
                        "name": "388.14112903225805",
                        "count": 1
                      },
                      {
                        "name": "223.4798387096774",
                        "count": 1
                      },
                      {
                        "name": "3 others",
                        "count": 3
                      }
                    ]
                  }
                },
                {
                  "name": "Wind Speed",
                  "dtype": "object",
                  "stats": {
                    "unique_count": 5,
                    "nan_count": 0,
                    "categories": [
                      {
                        "name": "3.6731182795698896",
                        "count": 1
                      },
                      {
                        "name": "1.5842741935483884",
                        "count": 1
                      },
                      {
                        "name": "3 others",
                        "count": 3
                      }
                    ]
                  }
                },
                {
                  "name": "Temperature_raw",
                  "dtype": "float64",
                  "stats": {
                    "unique_count": 5,
                    "nan_count": 0,
                    "min": "9.915322580645162",
                    "max": "21.367741935483885",
                    "histogram": [
                      {
                        "bin_start": 9.915322580645162,
                        "bin_end": 11.060564516129034,
                        "count": 1
                      },
                      {
                        "bin_start": 11.060564516129034,
                        "bin_end": 12.205806451612906,
                        "count": 0
                      },
                      {
                        "bin_start": 12.205806451612906,
                        "bin_end": 13.351048387096778,
                        "count": 0
                      },
                      {
                        "bin_start": 13.351048387096778,
                        "bin_end": 14.496290322580652,
                        "count": 0
                      },
                      {
                        "bin_start": 14.496290322580652,
                        "bin_end": 15.641532258064522,
                        "count": 1
                      },
                      {
                        "bin_start": 15.641532258064522,
                        "bin_end": 16.786774193548396,
                        "count": 0
                      },
                      {
                        "bin_start": 16.786774193548396,
                        "bin_end": 17.93201612903227,
                        "count": 0
                      },
                      {
                        "bin_start": 17.93201612903227,
                        "bin_end": 19.07725806451614,
                        "count": 1
                      },
                      {
                        "bin_start": 19.07725806451614,
                        "bin_end": 20.22250000000001,
                        "count": 1
                      },
                      {
                        "bin_start": 20.22250000000001,
                        "bin_end": 21.367741935483885,
                        "count": 1
                      }
                    ]
                  }
                },
                {
                  "name": "Solar_Zenith_Angle_raw",
                  "dtype": "float64",
                  "stats": {
                    "unique_count": 5,
                    "nan_count": 0,
                    "min": "73.9143010752688",
                    "max": "105.59819892473114",
                    "histogram": [
                      {
                        "bin_start": 73.9143010752688,
                        "bin_end": 77.08269086021502,
                        "count": 2
                      },
                      {
                        "bin_start": 77.08269086021502,
                        "bin_end": 80.25108064516127,
                        "count": 1
                      },
                      {
                        "bin_start": 80.25108064516127,
                        "bin_end": 83.4194704301075,
                        "count": 0
                      },
                      {
                        "bin_start": 83.4194704301075,
                        "bin_end": 86.58786021505374,
                        "count": 0
                      },
                      {
                        "bin_start": 86.58786021505374,
                        "bin_end": 89.75624999999997,
                        "count": 0
                      },
                      {
                        "bin_start": 89.75624999999997,
                        "bin_end": 92.92463978494621,
                        "count": 0
                      },
                      {
                        "bin_start": 92.92463978494621,
                        "bin_end": 96.09302956989244,
                        "count": 0
                      },
                      {
                        "bin_start": 96.09302956989244,
                        "bin_end": 99.26141935483867,
                        "count": 1
                      },
                      {
                        "bin_start": 99.26141935483867,
                        "bin_end": 102.42980913978491,
                        "count": 0
                      },
                      {
                        "bin_start": 102.42980913978491,
                        "bin_end": 105.59819892473114,
                        "count": 1
                      }
                    ]
                  }
                },
                {
                  "name": "k_12",
                  "dtype": "int64",
                  "stats": {
                    "unique_count": 5,
                    "nan_count": 0,
                    "min": "424",
                    "max": "974",
                    "histogram": [
                      {
                        "bin_start": 424,
                        "bin_end": 479,
                        "count": 1
                      },
                      {
                        "bin_start": 479,
                        "bin_end": 534,
                        "count": 0
                      },
                      {
                        "bin_start": 534,
                        "bin_end": 589,
                        "count": 0
                      },
                      {
                        "bin_start": 589,
                        "bin_end": 644,
                        "count": 1
                      },
                      {
                        "bin_start": 644,
                        "bin_end": 699,
                        "count": 1
                      },
                      {
                        "bin_start": 699,
                        "bin_end": 754,
                        "count": 1
                      },
                      {
                        "bin_start": 754,
                        "bin_end": 809,
                        "count": 0
                      },
                      {
                        "bin_start": 809,
                        "bin_end": 864,
                        "count": 0
                      },
                      {
                        "bin_start": 864,
                        "bin_end": 919,
                        "count": 0
                      },
                      {
                        "bin_start": 919,
                        "bin_end": 974,
                        "count": 1
                      }
                    ]
                  }
                },
                {
                  "name": "k_11",
                  "dtype": "int64",
                  "stats": {
                    "unique_count": 4,
                    "nan_count": 0,
                    "min": "445",
                    "max": "818",
                    "histogram": [
                      {
                        "bin_start": 445,
                        "bin_end": 482.3,
                        "count": 1
                      },
                      {
                        "bin_start": 482.3,
                        "bin_end": 519.6,
                        "count": 0
                      },
                      {
                        "bin_start": 519.6,
                        "bin_end": 556.9,
                        "count": 1
                      },
                      {
                        "bin_start": 556.9,
                        "bin_end": 594.2,
                        "count": 2
                      },
                      {
                        "bin_start": 594.2,
                        "bin_end": 631.5,
                        "count": 0
                      },
                      {
                        "bin_start": 631.5,
                        "bin_end": 668.8,
                        "count": 0
                      },
                      {
                        "bin_start": 668.8,
                        "bin_end": 706.0999999999999,
                        "count": 0
                      },
                      {
                        "bin_start": 706.0999999999999,
                        "bin_end": 743.4,
                        "count": 0
                      },
                      {
                        "bin_start": 743.4,
                        "bin_end": 780.7,
                        "count": 0
                      },
                      {
                        "bin_start": 780.7,
                        "bin_end": 818,
                        "count": 1
                      }
                    ]
                  }
                },
                {
                  "name": "k_10",
                  "dtype": "int64",
                  "stats": {
                    "unique_count": 5,
                    "nan_count": 0,
                    "min": "516",
                    "max": "631",
                    "histogram": [
                      {
                        "bin_start": 516,
                        "bin_end": 527.5,
                        "count": 2
                      },
                      {
                        "bin_start": 527.5,
                        "bin_end": 539,
                        "count": 0
                      },
                      {
                        "bin_start": 539,
                        "bin_end": 550.5,
                        "count": 0
                      },
                      {
                        "bin_start": 550.5,
                        "bin_end": 562,
                        "count": 1
                      },
                      {
                        "bin_start": 562,
                        "bin_end": 573.5,
                        "count": 0
                      },
                      {
                        "bin_start": 573.5,
                        "bin_end": 585,
                        "count": 0
                      },
                      {
                        "bin_start": 585,
                        "bin_end": 596.5,
                        "count": 1
                      },
                      {
                        "bin_start": 596.5,
                        "bin_end": 608,
                        "count": 0
                      },
                      {
                        "bin_start": 608,
                        "bin_end": 619.5,
                        "count": 0
                      },
                      {
                        "bin_start": 619.5,
                        "bin_end": 631,
                        "count": 1
                      }
                    ]
                  }
                },
                {
                  "name": "k_9",
                  "dtype": "int64",
                  "stats": {
                    "unique_count": 5,
                    "nan_count": 0,
                    "min": "467",
                    "max": "635",
                    "histogram": [
                      {
                        "bin_start": 467,
                        "bin_end": 483.8,
                        "count": 2
                      },
                      {
                        "bin_start": 483.8,
                        "bin_end": 500.6,
                        "count": 0
                      },
                      {
                        "bin_start": 500.6,
                        "bin_end": 517.4,
                        "count": 0
                      },
                      {
                        "bin_start": 517.4,
                        "bin_end": 534.2,
                        "count": 0
                      },
                      {
                        "bin_start": 534.2,
                        "bin_end": 551,
                        "count": 0
                      },
                      {
                        "bin_start": 551,
                        "bin_end": 567.8,
                        "count": 1
                      },
                      {
                        "bin_start": 567.8,
                        "bin_end": 584.6,
                        "count": 0
                      },
                      {
                        "bin_start": 584.6,
                        "bin_end": 601.4,
                        "count": 0
                      },
                      {
                        "bin_start": 601.4,
                        "bin_end": 618.2,
                        "count": 1
                      },
                      {
                        "bin_start": 618.2,
                        "bin_end": 635,
                        "count": 1
                      }
                    ]
                  }
                },
                {
                  "name": "k_8",
                  "dtype": "int64",
                  "stats": {
                    "unique_count": 5,
                    "nan_count": 0,
                    "min": "483",
                    "max": "727",
                    "histogram": [
                      {
                        "bin_start": 483,
                        "bin_end": 507.4,
                        "count": 3
                      },
                      {
                        "bin_start": 507.4,
                        "bin_end": 531.8,
                        "count": 0
                      },
                      {
                        "bin_start": 531.8,
                        "bin_end": 556.2,
                        "count": 0
                      },
                      {
                        "bin_start": 556.2,
                        "bin_end": 580.6,
                        "count": 0
                      },
                      {
                        "bin_start": 580.6,
                        "bin_end": 605,
                        "count": 0
                      },
                      {
                        "bin_start": 605,
                        "bin_end": 629.4,
                        "count": 0
                      },
                      {
                        "bin_start": 629.4,
                        "bin_end": 653.8,
                        "count": 0
                      },
                      {
                        "bin_start": 653.8,
                        "bin_end": 678.2,
                        "count": 0
                      },
                      {
                        "bin_start": 678.2,
                        "bin_end": 702.6,
                        "count": 1
                      },
                      {
                        "bin_start": 702.6,
                        "bin_end": 727,
                        "count": 1
                      }
                    ]
                  }
                },
                {
                  "name": "k_7",
                  "dtype": "int64",
                  "stats": {
                    "unique_count": 5,
                    "nan_count": 0,
                    "min": "499",
                    "max": "978",
                    "histogram": [
                      {
                        "bin_start": 499,
                        "bin_end": 546.9,
                        "count": 1
                      },
                      {
                        "bin_start": 546.9,
                        "bin_end": 594.8,
                        "count": 2
                      },
                      {
                        "bin_start": 594.8,
                        "bin_end": 642.7,
                        "count": 1
                      },
                      {
                        "bin_start": 642.7,
                        "bin_end": 690.6,
                        "count": 0
                      },
                      {
                        "bin_start": 690.6,
                        "bin_end": 738.5,
                        "count": 0
                      },
                      {
                        "bin_start": 738.5,
                        "bin_end": 786.4,
                        "count": 0
                      },
                      {
                        "bin_start": 786.4,
                        "bin_end": 834.3,
                        "count": 0
                      },
                      {
                        "bin_start": 834.3,
                        "bin_end": 882.2,
                        "count": 0
                      },
                      {
                        "bin_start": 882.2,
                        "bin_end": 930.0999999999999,
                        "count": 0
                      },
                      {
                        "bin_start": 930.0999999999999,
                        "bin_end": 978,
                        "count": 1
                      }
                    ]
                  }
                },
                {
                  "name": "k_6",
                  "dtype": "int64",
                  "stats": {
                    "unique_count": 5,
                    "nan_count": 0,
                    "min": "479",
                    "max": "1127",
                    "histogram": [
                      {
                        "bin_start": 479,
                        "bin_end": 543.8,
                        "count": 2
                      },
                      {
                        "bin_start": 543.8,
                        "bin_end": 608.6,
                        "count": 2
                      },
                      {
                        "bin_start": 608.6,
                        "bin_end": 673.4,
                        "count": 0
                      },
                      {
                        "bin_start": 673.4,
                        "bin_end": 738.2,
                        "count": 0
                      },
                      {
                        "bin_start": 738.2,
                        "bin_end": 803,
                        "count": 0
                      },
                      {
                        "bin_start": 803,
                        "bin_end": 867.8,
                        "count": 0
                      },
                      {
                        "bin_start": 867.8,
                        "bin_end": 932.5999999999999,
                        "count": 0
                      },
                      {
                        "bin_start": 932.5999999999999,
                        "bin_end": 997.4,
                        "count": 0
                      },
                      {
                        "bin_start": 997.4,
                        "bin_end": 1062.1999999999998,
                        "count": 0
                      },
                      {
                        "bin_start": 1062.1999999999998,
                        "bin_end": 1127,
                        "count": 1
                      }
                    ]
                  }
                },
                {
                  "name": "k_5",
                  "dtype": "int64",
                  "stats": {
                    "unique_count": 5,
                    "nan_count": 0,
                    "min": "467",
                    "max": "967",
                    "histogram": [
                      {
                        "bin_start": 467,
                        "bin_end": 517,
                        "count": 3
                      },
                      {
                        "bin_start": 517,
                        "bin_end": 567,
                        "count": 1
                      },
                      {
                        "bin_start": 567,
                        "bin_end": 617,
                        "count": 0
                      },
                      {
                        "bin_start": 617,
                        "bin_end": 667,
                        "count": 0
                      },
                      {
                        "bin_start": 667,
                        "bin_end": 717,
                        "count": 0
                      },
                      {
                        "bin_start": 717,
                        "bin_end": 767,
                        "count": 0
                      },
                      {
                        "bin_start": 767,
                        "bin_end": 817,
                        "count": 0
                      },
                      {
                        "bin_start": 817,
                        "bin_end": 867,
                        "count": 0
                      },
                      {
                        "bin_start": 867,
                        "bin_end": 917,
                        "count": 0
                      },
                      {
                        "bin_start": 917,
                        "bin_end": 967,
                        "count": 1
                      }
                    ]
                  }
                },
                {
                  "name": "k_4",
                  "dtype": "int64",
                  "stats": {
                    "unique_count": 5,
                    "nan_count": 0,
                    "min": "443",
                    "max": "815",
                    "histogram": [
                      {
                        "bin_start": 443,
                        "bin_end": 480.2,
                        "count": 3
                      },
                      {
                        "bin_start": 480.2,
                        "bin_end": 517.4,
                        "count": 0
                      },
                      {
                        "bin_start": 517.4,
                        "bin_end": 554.6,
                        "count": 0
                      },
                      {
                        "bin_start": 554.6,
                        "bin_end": 591.8,
                        "count": 0
                      },
                      {
                        "bin_start": 591.8,
                        "bin_end": 629,
                        "count": 0
                      },
                      {
                        "bin_start": 629,
                        "bin_end": 666.2,
                        "count": 1
                      },
                      {
                        "bin_start": 666.2,
                        "bin_end": 703.4000000000001,
                        "count": 0
                      },
                      {
                        "bin_start": 703.4000000000001,
                        "bin_end": 740.6,
                        "count": 0
                      },
                      {
                        "bin_start": 740.6,
                        "bin_end": 777.8,
                        "count": 0
                      },
                      {
                        "bin_start": 777.8,
                        "bin_end": 815,
                        "count": 1
                      }
                    ]
                  }
                },
                {
                  "name": "k_3",
                  "dtype": "int64",
                  "stats": {
                    "unique_count": 5,
                    "nan_count": 0,
                    "min": "408",
                    "max": "729",
                    "histogram": [
                      {
                        "bin_start": 408,
                        "bin_end": 440.1,
                        "count": 2
                      },
                      {
                        "bin_start": 440.1,
                        "bin_end": 472.2,
                        "count": 0
                      },
                      {
                        "bin_start": 472.2,
                        "bin_end": 504.3,
                        "count": 0
                      },
                      {
                        "bin_start": 504.3,
                        "bin_end": 536.4,
                        "count": 0
                      },
                      {
                        "bin_start": 536.4,
                        "bin_end": 568.5,
                        "count": 0
                      },
                      {
                        "bin_start": 568.5,
                        "bin_end": 600.6,
                        "count": 2
                      },
                      {
                        "bin_start": 600.6,
                        "bin_end": 632.7,
                        "count": 0
                      },
                      {
                        "bin_start": 632.7,
                        "bin_end": 664.8,
                        "count": 0
                      },
                      {
                        "bin_start": 664.8,
                        "bin_end": 696.9000000000001,
                        "count": 0
                      },
                      {
                        "bin_start": 696.9000000000001,
                        "bin_end": 729,
                        "count": 1
                      }
                    ]
                  }
                },
                {
                  "name": "k_2",
                  "dtype": "int64",
                  "stats": {
                    "unique_count": 5,
                    "nan_count": 0,
                    "min": "416",
                    "max": "902",
                    "histogram": [
                      {
                        "bin_start": 416,
                        "bin_end": 464.6,
                        "count": 2
                      },
                      {
                        "bin_start": 464.6,
                        "bin_end": 513.2,
                        "count": 0
                      },
                      {
                        "bin_start": 513.2,
                        "bin_end": 561.8,
                        "count": 0
                      },
                      {
                        "bin_start": 561.8,
                        "bin_end": 610.4,
                        "count": 1
                      },
                      {
                        "bin_start": 610.4,
                        "bin_end": 659,
                        "count": 1
                      },
                      {
                        "bin_start": 659,
                        "bin_end": 707.6,
                        "count": 0
                      },
                      {
                        "bin_start": 707.6,
                        "bin_end": 756.2,
                        "count": 0
                      },
                      {
                        "bin_start": 756.2,
                        "bin_end": 804.8,
                        "count": 0
                      },
                      {
                        "bin_start": 804.8,
                        "bin_end": 853.4000000000001,
                        "count": 0
                      },
                      {
                        "bin_start": 853.4000000000001,
                        "bin_end": 902,
                        "count": 1
                      }
                    ]
                  }
                },
                {
                  "name": "k_1",
                  "dtype": "int64",
                  "stats": {
                    "unique_count": 5,
                    "nan_count": 0,
                    "min": "547",
                    "max": "1014",
                    "histogram": [
                      {
                        "bin_start": 547,
                        "bin_end": 593.7,
                        "count": 3
                      },
                      {
                        "bin_start": 593.7,
                        "bin_end": 640.4,
                        "count": 0
                      },
                      {
                        "bin_start": 640.4,
                        "bin_end": 687.1,
                        "count": 0
                      },
                      {
                        "bin_start": 687.1,
                        "bin_end": 733.8,
                        "count": 1
                      },
                      {
                        "bin_start": 733.8,
                        "bin_end": 780.5,
                        "count": 0
                      },
                      {
                        "bin_start": 780.5,
                        "bin_end": 827.2,
                        "count": 0
                      },
                      {
                        "bin_start": 827.2,
                        "bin_end": 873.9000000000001,
                        "count": 0
                      },
                      {
                        "bin_start": 873.9000000000001,
                        "bin_end": 920.6,
                        "count": 0
                      },
                      {
                        "bin_start": 920.6,
                        "bin_end": 967.3,
                        "count": 0
                      },
                      {
                        "bin_start": 967.3,
                        "bin_end": 1014,
                        "count": 1
                      }
                    ]
                  }
                },
                {
                  "name": "_deepnote_index_column",
                  "dtype": "int64"
                }
              ],
              "rows_top": [
                {
                  "MONTH": 8,
                  "YEAR": 2016,
                  "zip": 94513,
                  "GHI_raw": "311.5416666666667",
                  "DHI_raw": "56.954301075268816",
                  "DNI_raw": "388.14112903225805",
                  "Wind Speed": "3.6731182795698896",
                  "Temperature_raw": 19.96370967741936,
                  "Solar_Zenith_Angle_raw": 79.83599462365589,
                  "k_12": 974,
                  "k_11": 818,
                  "k_10": 631,
                  "k_9": 563,
                  "k_8": 694,
                  "k_7": 634,
                  "k_6": 479,
                  "k_5": 485,
                  "k_4": 443,
                  "k_3": 571,
                  "k_2": 902,
                  "k_1": 1014,
                  "_deepnote_index_column": 3430
                },
                {
                  "MONTH": 1,
                  "YEAR": 2014,
                  "zip": 94531,
                  "GHI_raw": "119.76747311827957",
                  "DHI_raw": "31.557795698924732",
                  "DNI_raw": "223.4798387096774",
                  "Wind Speed": "1.5842741935483884",
                  "Temperature_raw": 9.915322580645162,
                  "Solar_Zenith_Angle_raw": 105.59819892473114,
                  "k_12": 711,
                  "k_11": 575,
                  "k_10": 588,
                  "k_9": 613,
                  "k_8": 727,
                  "k_7": 978,
                  "k_6": 1127,
                  "k_5": 967,
                  "k_4": 815,
                  "k_3": 597,
                  "k_2": 602,
                  "k_1": 732,
                  "_deepnote_index_column": 124974
                },
                {
                  "MONTH": 10,
                  "YEAR": 2013,
                  "zip": 94518,
                  "GHI_raw": "195.75940860215053",
                  "DHI_raw": "36.64247311827957",
                  "DNI_raw": "315.26881720430106",
                  "Wind Speed": "2.06935483870968",
                  "Temperature_raw": 15.620967741935484,
                  "Solar_Zenith_Angle_raw": 96.99231182795693,
                  "k_12": 424,
                  "k_11": 445,
                  "k_10": 557,
                  "k_9": 635,
                  "k_8": 504,
                  "k_7": 499,
                  "k_6": 491,
                  "k_5": 535,
                  "k_4": 662,
                  "k_3": 729,
                  "k_2": 641,
                  "k_1": 577,
                  "_deepnote_index_column": 114710
                },
                {
                  "MONTH": 7,
                  "YEAR": 2019,
                  "zip": 94585,
                  "GHI_raw": "347.9959677419355",
                  "DHI_raw": "54.361559139784944",
                  "DNI_raw": "434.11155913978496",
                  "Wind Speed": "3.0524193548387135",
                  "Temperature_raw": 21.367741935483885,
                  "Solar_Zenith_Angle_raw": 73.9143010752688,
                  "k_12": 658,
                  "k_11": 575,
                  "k_10": 516,
                  "k_9": 477,
                  "k_8": 502,
                  "k_7": 579,
                  "k_6": 545,
                  "k_5": 498,
                  "k_4": 470,
                  "k_3": 433,
                  "k_2": 416,
                  "k_1": 591,
                  "_deepnote_index_column": 118070
                },
                {
                  "MONTH": 7,
                  "YEAR": 2017,
                  "zip": 94582,
                  "GHI_raw": "352.0739247311828",
                  "DHI_raw": "51.63306451612903",
                  "DNI_raw": "443.46639784946234",
                  "Wind Speed": "3.777688172043008",
                  "Temperature_raw": 18.498655913978496,
                  "Solar_Zenith_Angle_raw": 74.10440860215043,
                  "k_12": 602,
                  "k_11": 534,
                  "k_10": 519,
                  "k_9": 467,
                  "k_8": 483,
                  "k_7": 592,
                  "k_6": 573,
                  "k_5": 467,
                  "k_4": 447,
                  "k_3": 408,
                  "k_2": 458,
                  "k_1": 547,
                  "_deepnote_index_column": 136436
                }
              ],
              "rows_bottom": null
            },
            "text/plain": "        MONTH  YEAR    zip             GHI_raw             DHI_raw  \\\nindex                                                                \n3430        8  2016  94513   311.5416666666667  56.954301075268816   \n124974      1  2014  94531  119.76747311827957  31.557795698924732   \n114710     10  2013  94518  195.75940860215053   36.64247311827957   \n118070      7  2019  94585   347.9959677419355  54.361559139784944   \n136436      7  2017  94582   352.0739247311828   51.63306451612903   \n\n                   DNI_raw          Wind Speed  Temperature_raw  \\\nindex                                                             \n3430    388.14112903225805  3.6731182795698896        19.963710   \n124974   223.4798387096774  1.5842741935483884         9.915323   \n114710  315.26881720430106    2.06935483870968        15.620968   \n118070  434.11155913978496  3.0524193548387135        21.367742   \n136436  443.46639784946234   3.777688172043008        18.498656   \n\n        Solar_Zenith_Angle_raw  k_12  ...  k_10  k_9  k_8  k_7   k_6  k_5  \\\nindex                                 ...                                   \n3430                 79.835995   974  ...   631  563  694  634   479  485   \n124974              105.598199   711  ...   588  613  727  978  1127  967   \n114710               96.992312   424  ...   557  635  504  499   491  535   \n118070               73.914301   658  ...   516  477  502  579   545  498   \n136436               74.104409   602  ...   519  467  483  592   573  467   \n\n        k_4  k_3  k_2   k_1  \nindex                        \n3430    443  571  902  1014  \n124974  815  597  602   732  \n114710  662  729  641   577  \n118070  470  433  416   591  \n136436  447  408  458   547  \n\n[5 rows x 21 columns]",
            "text/html": "<div>\n<style scoped>\n    .dataframe tbody tr th:only-of-type {\n        vertical-align: middle;\n    }\n\n    .dataframe tbody tr th {\n        vertical-align: top;\n    }\n\n    .dataframe thead th {\n        text-align: right;\n    }\n</style>\n<table border=\"1\" class=\"dataframe\">\n  <thead>\n    <tr style=\"text-align: right;\">\n      <th></th>\n      <th>MONTH</th>\n      <th>YEAR</th>\n      <th>zip</th>\n      <th>GHI_raw</th>\n      <th>DHI_raw</th>\n      <th>DNI_raw</th>\n      <th>Wind Speed</th>\n      <th>Temperature_raw</th>\n      <th>Solar_Zenith_Angle_raw</th>\n      <th>k_12</th>\n      <th>...</th>\n      <th>k_10</th>\n      <th>k_9</th>\n      <th>k_8</th>\n      <th>k_7</th>\n      <th>k_6</th>\n      <th>k_5</th>\n      <th>k_4</th>\n      <th>k_3</th>\n      <th>k_2</th>\n      <th>k_1</th>\n    </tr>\n    <tr>\n      <th>index</th>\n      <th></th>\n      <th></th>\n      <th></th>\n      <th></th>\n      <th></th>\n      <th></th>\n      <th></th>\n      <th></th>\n      <th></th>\n      <th></th>\n      <th></th>\n      <th></th>\n      <th></th>\n      <th></th>\n      <th></th>\n      <th></th>\n      <th></th>\n      <th></th>\n      <th></th>\n      <th></th>\n      <th></th>\n    </tr>\n  </thead>\n  <tbody>\n    <tr>\n      <th>3430</th>\n      <td>8</td>\n      <td>2016</td>\n      <td>94513</td>\n      <td>311.5416666666667</td>\n      <td>56.954301075268816</td>\n      <td>388.14112903225805</td>\n      <td>3.6731182795698896</td>\n      <td>19.963710</td>\n      <td>79.835995</td>\n      <td>974</td>\n      <td>...</td>\n      <td>631</td>\n      <td>563</td>\n      <td>694</td>\n      <td>634</td>\n      <td>479</td>\n      <td>485</td>\n      <td>443</td>\n      <td>571</td>\n      <td>902</td>\n      <td>1014</td>\n    </tr>\n    <tr>\n      <th>124974</th>\n      <td>1</td>\n      <td>2014</td>\n      <td>94531</td>\n      <td>119.76747311827957</td>\n      <td>31.557795698924732</td>\n      <td>223.4798387096774</td>\n      <td>1.5842741935483884</td>\n      <td>9.915323</td>\n      <td>105.598199</td>\n      <td>711</td>\n      <td>...</td>\n      <td>588</td>\n      <td>613</td>\n      <td>727</td>\n      <td>978</td>\n      <td>1127</td>\n      <td>967</td>\n      <td>815</td>\n      <td>597</td>\n      <td>602</td>\n      <td>732</td>\n    </tr>\n    <tr>\n      <th>114710</th>\n      <td>10</td>\n      <td>2013</td>\n      <td>94518</td>\n      <td>195.75940860215053</td>\n      <td>36.64247311827957</td>\n      <td>315.26881720430106</td>\n      <td>2.06935483870968</td>\n      <td>15.620968</td>\n      <td>96.992312</td>\n      <td>424</td>\n      <td>...</td>\n      <td>557</td>\n      <td>635</td>\n      <td>504</td>\n      <td>499</td>\n      <td>491</td>\n      <td>535</td>\n      <td>662</td>\n      <td>729</td>\n      <td>641</td>\n      <td>577</td>\n    </tr>\n    <tr>\n      <th>118070</th>\n      <td>7</td>\n      <td>2019</td>\n      <td>94585</td>\n      <td>347.9959677419355</td>\n      <td>54.361559139784944</td>\n      <td>434.11155913978496</td>\n      <td>3.0524193548387135</td>\n      <td>21.367742</td>\n      <td>73.914301</td>\n      <td>658</td>\n      <td>...</td>\n      <td>516</td>\n      <td>477</td>\n      <td>502</td>\n      <td>579</td>\n      <td>545</td>\n      <td>498</td>\n      <td>470</td>\n      <td>433</td>\n      <td>416</td>\n      <td>591</td>\n    </tr>\n    <tr>\n      <th>136436</th>\n      <td>7</td>\n      <td>2017</td>\n      <td>94582</td>\n      <td>352.0739247311828</td>\n      <td>51.63306451612903</td>\n      <td>443.46639784946234</td>\n      <td>3.777688172043008</td>\n      <td>18.498656</td>\n      <td>74.104409</td>\n      <td>602</td>\n      <td>...</td>\n      <td>519</td>\n      <td>467</td>\n      <td>483</td>\n      <td>592</td>\n      <td>573</td>\n      <td>467</td>\n      <td>447</td>\n      <td>408</td>\n      <td>458</td>\n      <td>547</td>\n    </tr>\n  </tbody>\n</table>\n<p>5 rows × 21 columns</p>\n</div>"
          },
          "metadata": {},
          "output_type": "display_data"
        }
      ]
    },
    {
      "cell_type": "code",
      "metadata": {
        "tags": [],
        "cell_id": "00026-a5861e7f-fea0-4b90-b3d0-38ecf7d00725",
        "deepnote_to_be_reexecuted": false,
        "source_hash": "46fa9bf9",
        "execution_millis": 55,
        "execution_start": 1618697476614,
        "deepnote_cell_type": "code"
      },
      "source": "X_train[20:30]",
      "execution_count": null,
      "outputs": [
        {
          "output_type": "execute_result",
          "execution_count": 192,
          "data": {
            "application/vnd.deepnote.dataframe.v2+json": {
              "row_count": 10,
              "column_count": 21,
              "columns": [
                {
                  "name": "MONTH",
                  "dtype": "int64",
                  "stats": {
                    "unique_count": 6,
                    "nan_count": 0,
                    "min": "2",
                    "max": "12",
                    "histogram": [
                      {
                        "bin_start": 2,
                        "bin_end": 3,
                        "count": 3
                      },
                      {
                        "bin_start": 3,
                        "bin_end": 4,
                        "count": 0
                      },
                      {
                        "bin_start": 4,
                        "bin_end": 5,
                        "count": 2
                      },
                      {
                        "bin_start": 5,
                        "bin_end": 6,
                        "count": 0
                      },
                      {
                        "bin_start": 6,
                        "bin_end": 7,
                        "count": 0
                      },
                      {
                        "bin_start": 7,
                        "bin_end": 8,
                        "count": 2
                      },
                      {
                        "bin_start": 8,
                        "bin_end": 9,
                        "count": 0
                      },
                      {
                        "bin_start": 9,
                        "bin_end": 10,
                        "count": 1
                      },
                      {
                        "bin_start": 10,
                        "bin_end": 11,
                        "count": 1
                      },
                      {
                        "bin_start": 11,
                        "bin_end": 12,
                        "count": 1
                      }
                    ]
                  }
                },
                {
                  "name": "YEAR",
                  "dtype": "int64",
                  "stats": {
                    "unique_count": 6,
                    "nan_count": 0,
                    "min": "2013",
                    "max": "2019",
                    "histogram": [
                      {
                        "bin_start": 2013,
                        "bin_end": 2013.6,
                        "count": 1
                      },
                      {
                        "bin_start": 2013.6,
                        "bin_end": 2014.2,
                        "count": 1
                      },
                      {
                        "bin_start": 2014.2,
                        "bin_end": 2014.8,
                        "count": 0
                      },
                      {
                        "bin_start": 2014.8,
                        "bin_end": 2015.4,
                        "count": 0
                      },
                      {
                        "bin_start": 2015.4,
                        "bin_end": 2016,
                        "count": 0
                      },
                      {
                        "bin_start": 2016,
                        "bin_end": 2016.6,
                        "count": 4
                      },
                      {
                        "bin_start": 2016.6,
                        "bin_end": 2017.2,
                        "count": 2
                      },
                      {
                        "bin_start": 2017.2,
                        "bin_end": 2017.8,
                        "count": 0
                      },
                      {
                        "bin_start": 2017.8,
                        "bin_end": 2018.4,
                        "count": 1
                      },
                      {
                        "bin_start": 2018.4,
                        "bin_end": 2019,
                        "count": 1
                      }
                    ]
                  }
                },
                {
                  "name": "zip",
                  "dtype": "int64",
                  "stats": {
                    "unique_count": 10,
                    "nan_count": 0,
                    "min": "94002",
                    "max": "95065",
                    "histogram": [
                      {
                        "bin_start": 94002,
                        "bin_end": 94108.3,
                        "count": 3
                      },
                      {
                        "bin_start": 94108.3,
                        "bin_end": 94214.6,
                        "count": 0
                      },
                      {
                        "bin_start": 94214.6,
                        "bin_end": 94320.9,
                        "count": 0
                      },
                      {
                        "bin_start": 94320.9,
                        "bin_end": 94427.2,
                        "count": 0
                      },
                      {
                        "bin_start": 94427.2,
                        "bin_end": 94533.5,
                        "count": 0
                      },
                      {
                        "bin_start": 94533.5,
                        "bin_end": 94639.8,
                        "count": 6
                      },
                      {
                        "bin_start": 94639.8,
                        "bin_end": 94746.1,
                        "count": 0
                      },
                      {
                        "bin_start": 94746.1,
                        "bin_end": 94852.4,
                        "count": 0
                      },
                      {
                        "bin_start": 94852.4,
                        "bin_end": 94958.7,
                        "count": 0
                      },
                      {
                        "bin_start": 94958.7,
                        "bin_end": 95065,
                        "count": 1
                      }
                    ]
                  }
                },
                {
                  "name": "GHI_raw",
                  "dtype": "object",
                  "stats": {
                    "unique_count": 10,
                    "nan_count": 0,
                    "categories": [
                      {
                        "name": "267.1625",
                        "count": 1
                      },
                      {
                        "name": "349.78629032258067",
                        "count": 1
                      },
                      {
                        "name": "8 others",
                        "count": 8
                      }
                    ]
                  }
                },
                {
                  "name": "DHI_raw",
                  "dtype": "object",
                  "stats": {
                    "unique_count": 10,
                    "nan_count": 0,
                    "categories": [
                      {
                        "name": "71.84166666666667",
                        "count": 1
                      },
                      {
                        "name": "52.84139784946237",
                        "count": 1
                      },
                      {
                        "name": "8 others",
                        "count": 8
                      }
                    ]
                  }
                },
                {
                  "name": "DNI_raw",
                  "dtype": "object",
                  "stats": {
                    "unique_count": 10,
                    "nan_count": 0,
                    "categories": [
                      {
                        "name": "297.24861111111113",
                        "count": 1
                      },
                      {
                        "name": "439.2943548387097",
                        "count": 1
                      },
                      {
                        "name": "8 others",
                        "count": 8
                      }
                    ]
                  }
                },
                {
                  "name": "Wind Speed",
                  "dtype": "object",
                  "stats": {
                    "unique_count": 10,
                    "nan_count": 0,
                    "categories": [
                      {
                        "name": "2.219722222222223",
                        "count": 1
                      },
                      {
                        "name": "3.777688172043008",
                        "count": 1
                      },
                      {
                        "name": "8 others",
                        "count": 8
                      }
                    ]
                  }
                },
                {
                  "name": "Temperature_raw",
                  "dtype": "float64",
                  "stats": {
                    "unique_count": 10,
                    "nan_count": 0,
                    "min": "7.650297619047619",
                    "max": "21.51344086021505",
                    "histogram": [
                      {
                        "bin_start": 7.650297619047619,
                        "bin_end": 9.036611943164361,
                        "count": 1
                      },
                      {
                        "bin_start": 9.036611943164361,
                        "bin_end": 10.422926267281104,
                        "count": 0
                      },
                      {
                        "bin_start": 10.422926267281104,
                        "bin_end": 11.809240591397849,
                        "count": 1
                      },
                      {
                        "bin_start": 11.809240591397849,
                        "bin_end": 13.195554915514592,
                        "count": 3
                      },
                      {
                        "bin_start": 13.195554915514592,
                        "bin_end": 14.581869239631335,
                        "count": 1
                      },
                      {
                        "bin_start": 14.581869239631335,
                        "bin_end": 15.968183563748077,
                        "count": 1
                      },
                      {
                        "bin_start": 15.968183563748077,
                        "bin_end": 17.35449788786482,
                        "count": 0
                      },
                      {
                        "bin_start": 17.35449788786482,
                        "bin_end": 18.740812211981563,
                        "count": 1
                      },
                      {
                        "bin_start": 18.740812211981563,
                        "bin_end": 20.127126536098306,
                        "count": 0
                      },
                      {
                        "bin_start": 20.127126536098306,
                        "bin_end": 21.51344086021505,
                        "count": 2
                      }
                    ]
                  }
                },
                {
                  "name": "Solar_Zenith_Angle_raw",
                  "dtype": "float64",
                  "stats": {
                    "unique_count": 10,
                    "nan_count": 0,
                    "min": "74.06052419354836",
                    "max": "107.31313172043006",
                    "histogram": [
                      {
                        "bin_start": 74.06052419354836,
                        "bin_end": 77.38578494623653,
                        "count": 2
                      },
                      {
                        "bin_start": 77.38578494623653,
                        "bin_end": 80.7110456989247,
                        "count": 0
                      },
                      {
                        "bin_start": 80.7110456989247,
                        "bin_end": 84.03630645161287,
                        "count": 2
                      },
                      {
                        "bin_start": 84.03630645161287,
                        "bin_end": 87.36156720430104,
                        "count": 0
                      },
                      {
                        "bin_start": 87.36156720430104,
                        "bin_end": 90.68682795698922,
                        "count": 1
                      },
                      {
                        "bin_start": 90.68682795698922,
                        "bin_end": 94.01208870967739,
                        "count": 0
                      },
                      {
                        "bin_start": 94.01208870967739,
                        "bin_end": 97.33734946236555,
                        "count": 1
                      },
                      {
                        "bin_start": 97.33734946236555,
                        "bin_end": 100.66261021505372,
                        "count": 3
                      },
                      {
                        "bin_start": 100.66261021505372,
                        "bin_end": 103.9878709677419,
                        "count": 0
                      },
                      {
                        "bin_start": 103.9878709677419,
                        "bin_end": 107.31313172043006,
                        "count": 1
                      }
                    ]
                  }
                },
                {
                  "name": "k_12",
                  "dtype": "int64",
                  "stats": {
                    "unique_count": 9,
                    "nan_count": 0,
                    "min": "0",
                    "max": "699",
                    "histogram": [
                      {
                        "bin_start": 0,
                        "bin_end": 69.9,
                        "count": 1
                      },
                      {
                        "bin_start": 69.9,
                        "bin_end": 139.8,
                        "count": 0
                      },
                      {
                        "bin_start": 139.8,
                        "bin_end": 209.70000000000002,
                        "count": 0
                      },
                      {
                        "bin_start": 209.70000000000002,
                        "bin_end": 279.6,
                        "count": 0
                      },
                      {
                        "bin_start": 279.6,
                        "bin_end": 349.5,
                        "count": 1
                      },
                      {
                        "bin_start": 349.5,
                        "bin_end": 419.40000000000003,
                        "count": 2
                      },
                      {
                        "bin_start": 419.40000000000003,
                        "bin_end": 489.30000000000007,
                        "count": 2
                      },
                      {
                        "bin_start": 489.30000000000007,
                        "bin_end": 559.2,
                        "count": 3
                      },
                      {
                        "bin_start": 559.2,
                        "bin_end": 629.1,
                        "count": 0
                      },
                      {
                        "bin_start": 629.1,
                        "bin_end": 699,
                        "count": 1
                      }
                    ]
                  }
                },
                {
                  "name": "k_11",
                  "dtype": "int64",
                  "stats": {
                    "unique_count": 10,
                    "nan_count": 0,
                    "min": "0",
                    "max": "624",
                    "histogram": [
                      {
                        "bin_start": 0,
                        "bin_end": 62.4,
                        "count": 1
                      },
                      {
                        "bin_start": 62.4,
                        "bin_end": 124.8,
                        "count": 0
                      },
                      {
                        "bin_start": 124.8,
                        "bin_end": 187.2,
                        "count": 0
                      },
                      {
                        "bin_start": 187.2,
                        "bin_end": 249.6,
                        "count": 0
                      },
                      {
                        "bin_start": 249.6,
                        "bin_end": 312,
                        "count": 0
                      },
                      {
                        "bin_start": 312,
                        "bin_end": 374.4,
                        "count": 2
                      },
                      {
                        "bin_start": 374.4,
                        "bin_end": 436.8,
                        "count": 1
                      },
                      {
                        "bin_start": 436.8,
                        "bin_end": 499.2,
                        "count": 2
                      },
                      {
                        "bin_start": 499.2,
                        "bin_end": 561.6,
                        "count": 3
                      },
                      {
                        "bin_start": 561.6,
                        "bin_end": 624,
                        "count": 1
                      }
                    ]
                  }
                },
                {
                  "name": "k_10",
                  "dtype": "int64",
                  "stats": {
                    "unique_count": 10,
                    "nan_count": 0,
                    "min": "0",
                    "max": "590",
                    "histogram": [
                      {
                        "bin_start": 0,
                        "bin_end": 59,
                        "count": 1
                      },
                      {
                        "bin_start": 59,
                        "bin_end": 118,
                        "count": 0
                      },
                      {
                        "bin_start": 118,
                        "bin_end": 177,
                        "count": 0
                      },
                      {
                        "bin_start": 177,
                        "bin_end": 236,
                        "count": 0
                      },
                      {
                        "bin_start": 236,
                        "bin_end": 295,
                        "count": 0
                      },
                      {
                        "bin_start": 295,
                        "bin_end": 354,
                        "count": 0
                      },
                      {
                        "bin_start": 354,
                        "bin_end": 413,
                        "count": 2
                      },
                      {
                        "bin_start": 413,
                        "bin_end": 472,
                        "count": 1
                      },
                      {
                        "bin_start": 472,
                        "bin_end": 531,
                        "count": 4
                      },
                      {
                        "bin_start": 531,
                        "bin_end": 590,
                        "count": 2
                      }
                    ]
                  }
                },
                {
                  "name": "k_9",
                  "dtype": "int64",
                  "stats": {
                    "unique_count": 10,
                    "nan_count": 0,
                    "min": "338",
                    "max": "678",
                    "histogram": [
                      {
                        "bin_start": 338,
                        "bin_end": 372,
                        "count": 1
                      },
                      {
                        "bin_start": 372,
                        "bin_end": 406,
                        "count": 1
                      },
                      {
                        "bin_start": 406,
                        "bin_end": 440,
                        "count": 1
                      },
                      {
                        "bin_start": 440,
                        "bin_end": 474,
                        "count": 0
                      },
                      {
                        "bin_start": 474,
                        "bin_end": 508,
                        "count": 3
                      },
                      {
                        "bin_start": 508,
                        "bin_end": 542,
                        "count": 2
                      },
                      {
                        "bin_start": 542,
                        "bin_end": 576,
                        "count": 0
                      },
                      {
                        "bin_start": 576,
                        "bin_end": 610,
                        "count": 1
                      },
                      {
                        "bin_start": 610,
                        "bin_end": 644,
                        "count": 0
                      },
                      {
                        "bin_start": 644,
                        "bin_end": 678,
                        "count": 1
                      }
                    ]
                  }
                },
                {
                  "name": "k_8",
                  "dtype": "int64",
                  "stats": {
                    "unique_count": 9,
                    "nan_count": 0,
                    "min": "309",
                    "max": "2401",
                    "histogram": [
                      {
                        "bin_start": 309,
                        "bin_end": 518.2,
                        "count": 7
                      },
                      {
                        "bin_start": 518.2,
                        "bin_end": 727.4,
                        "count": 0
                      },
                      {
                        "bin_start": 727.4,
                        "bin_end": 936.5999999999999,
                        "count": 2
                      },
                      {
                        "bin_start": 936.5999999999999,
                        "bin_end": 1145.8,
                        "count": 0
                      },
                      {
                        "bin_start": 1145.8,
                        "bin_end": 1355,
                        "count": 0
                      },
                      {
                        "bin_start": 1355,
                        "bin_end": 1564.1999999999998,
                        "count": 0
                      },
                      {
                        "bin_start": 1564.1999999999998,
                        "bin_end": 1773.3999999999999,
                        "count": 0
                      },
                      {
                        "bin_start": 1773.3999999999999,
                        "bin_end": 1982.6,
                        "count": 0
                      },
                      {
                        "bin_start": 1982.6,
                        "bin_end": 2191.8,
                        "count": 0
                      },
                      {
                        "bin_start": 2191.8,
                        "bin_end": 2401,
                        "count": 1
                      }
                    ]
                  }
                },
                {
                  "name": "k_7",
                  "dtype": "int64",
                  "stats": {
                    "unique_count": 10,
                    "nan_count": 0,
                    "min": "321",
                    "max": "1568",
                    "histogram": [
                      {
                        "bin_start": 321,
                        "bin_end": 445.7,
                        "count": 2
                      },
                      {
                        "bin_start": 445.7,
                        "bin_end": 570.4,
                        "count": 5
                      },
                      {
                        "bin_start": 570.4,
                        "bin_end": 695.1,
                        "count": 0
                      },
                      {
                        "bin_start": 695.1,
                        "bin_end": 819.8,
                        "count": 0
                      },
                      {
                        "bin_start": 819.8,
                        "bin_end": 944.5,
                        "count": 1
                      },
                      {
                        "bin_start": 944.5,
                        "bin_end": 1069.2,
                        "count": 1
                      },
                      {
                        "bin_start": 1069.2,
                        "bin_end": 1193.9,
                        "count": 0
                      },
                      {
                        "bin_start": 1193.9,
                        "bin_end": 1318.6,
                        "count": 0
                      },
                      {
                        "bin_start": 1318.6,
                        "bin_end": 1443.3,
                        "count": 0
                      },
                      {
                        "bin_start": 1443.3,
                        "bin_end": 1568,
                        "count": 1
                      }
                    ]
                  }
                },
                {
                  "name": "k_6",
                  "dtype": "int64",
                  "stats": {
                    "unique_count": 10,
                    "nan_count": 0,
                    "min": "0",
                    "max": "867",
                    "histogram": [
                      {
                        "bin_start": 0,
                        "bin_end": 86.7,
                        "count": 1
                      },
                      {
                        "bin_start": 86.7,
                        "bin_end": 173.4,
                        "count": 0
                      },
                      {
                        "bin_start": 173.4,
                        "bin_end": 260.1,
                        "count": 1
                      },
                      {
                        "bin_start": 260.1,
                        "bin_end": 346.8,
                        "count": 1
                      },
                      {
                        "bin_start": 346.8,
                        "bin_end": 433.5,
                        "count": 2
                      },
                      {
                        "bin_start": 433.5,
                        "bin_end": 520.2,
                        "count": 4
                      },
                      {
                        "bin_start": 520.2,
                        "bin_end": 606.9,
                        "count": 0
                      },
                      {
                        "bin_start": 606.9,
                        "bin_end": 693.6,
                        "count": 0
                      },
                      {
                        "bin_start": 693.6,
                        "bin_end": 780.3000000000001,
                        "count": 0
                      },
                      {
                        "bin_start": 780.3000000000001,
                        "bin_end": 867,
                        "count": 1
                      }
                    ]
                  }
                },
                {
                  "name": "k_5",
                  "dtype": "int64",
                  "stats": {
                    "unique_count": 10,
                    "nan_count": 0,
                    "min": "0",
                    "max": "658",
                    "histogram": [
                      {
                        "bin_start": 0,
                        "bin_end": 65.8,
                        "count": 1
                      },
                      {
                        "bin_start": 65.8,
                        "bin_end": 131.6,
                        "count": 0
                      },
                      {
                        "bin_start": 131.6,
                        "bin_end": 197.39999999999998,
                        "count": 0
                      },
                      {
                        "bin_start": 197.39999999999998,
                        "bin_end": 263.2,
                        "count": 1
                      },
                      {
                        "bin_start": 263.2,
                        "bin_end": 329,
                        "count": 1
                      },
                      {
                        "bin_start": 329,
                        "bin_end": 394.79999999999995,
                        "count": 0
                      },
                      {
                        "bin_start": 394.79999999999995,
                        "bin_end": 460.59999999999997,
                        "count": 5
                      },
                      {
                        "bin_start": 460.59999999999997,
                        "bin_end": 526.4,
                        "count": 1
                      },
                      {
                        "bin_start": 526.4,
                        "bin_end": 592.1999999999999,
                        "count": 0
                      },
                      {
                        "bin_start": 592.1999999999999,
                        "bin_end": 658,
                        "count": 1
                      }
                    ]
                  }
                },
                {
                  "name": "k_4",
                  "dtype": "int64",
                  "stats": {
                    "unique_count": 10,
                    "nan_count": 0,
                    "min": "0",
                    "max": "576",
                    "histogram": [
                      {
                        "bin_start": 0,
                        "bin_end": 57.6,
                        "count": 1
                      },
                      {
                        "bin_start": 57.6,
                        "bin_end": 115.2,
                        "count": 0
                      },
                      {
                        "bin_start": 115.2,
                        "bin_end": 172.8,
                        "count": 0
                      },
                      {
                        "bin_start": 172.8,
                        "bin_end": 230.4,
                        "count": 0
                      },
                      {
                        "bin_start": 230.4,
                        "bin_end": 288,
                        "count": 2
                      },
                      {
                        "bin_start": 288,
                        "bin_end": 345.6,
                        "count": 0
                      },
                      {
                        "bin_start": 345.6,
                        "bin_end": 403.2,
                        "count": 0
                      },
                      {
                        "bin_start": 403.2,
                        "bin_end": 460.8,
                        "count": 2
                      },
                      {
                        "bin_start": 460.8,
                        "bin_end": 518.4,
                        "count": 3
                      },
                      {
                        "bin_start": 518.4,
                        "bin_end": 576,
                        "count": 2
                      }
                    ]
                  }
                },
                {
                  "name": "k_3",
                  "dtype": "int64",
                  "stats": {
                    "unique_count": 10,
                    "nan_count": 0,
                    "min": "260",
                    "max": "1273",
                    "histogram": [
                      {
                        "bin_start": 260,
                        "bin_end": 361.3,
                        "count": 2
                      },
                      {
                        "bin_start": 361.3,
                        "bin_end": 462.6,
                        "count": 2
                      },
                      {
                        "bin_start": 462.6,
                        "bin_end": 563.9,
                        "count": 2
                      },
                      {
                        "bin_start": 563.9,
                        "bin_end": 665.2,
                        "count": 3
                      },
                      {
                        "bin_start": 665.2,
                        "bin_end": 766.5,
                        "count": 0
                      },
                      {
                        "bin_start": 766.5,
                        "bin_end": 867.8,
                        "count": 0
                      },
                      {
                        "bin_start": 867.8,
                        "bin_end": 969.1,
                        "count": 0
                      },
                      {
                        "bin_start": 969.1,
                        "bin_end": 1070.4,
                        "count": 0
                      },
                      {
                        "bin_start": 1070.4,
                        "bin_end": 1171.6999999999998,
                        "count": 0
                      },
                      {
                        "bin_start": 1171.6999999999998,
                        "bin_end": 1273,
                        "count": 1
                      }
                    ]
                  }
                },
                {
                  "name": "k_2",
                  "dtype": "int64",
                  "stats": {
                    "unique_count": 10,
                    "nan_count": 0,
                    "min": "261",
                    "max": "1207",
                    "histogram": [
                      {
                        "bin_start": 261,
                        "bin_end": 355.6,
                        "count": 2
                      },
                      {
                        "bin_start": 355.6,
                        "bin_end": 450.2,
                        "count": 4
                      },
                      {
                        "bin_start": 450.2,
                        "bin_end": 544.8,
                        "count": 0
                      },
                      {
                        "bin_start": 544.8,
                        "bin_end": 639.4,
                        "count": 0
                      },
                      {
                        "bin_start": 639.4,
                        "bin_end": 734,
                        "count": 2
                      },
                      {
                        "bin_start": 734,
                        "bin_end": 828.5999999999999,
                        "count": 1
                      },
                      {
                        "bin_start": 828.5999999999999,
                        "bin_end": 923.1999999999999,
                        "count": 0
                      },
                      {
                        "bin_start": 923.1999999999999,
                        "bin_end": 1017.8,
                        "count": 0
                      },
                      {
                        "bin_start": 1017.8,
                        "bin_end": 1112.4,
                        "count": 0
                      },
                      {
                        "bin_start": 1112.4,
                        "bin_end": 1207,
                        "count": 1
                      }
                    ]
                  }
                },
                {
                  "name": "k_1",
                  "dtype": "int64",
                  "stats": {
                    "unique_count": 10,
                    "nan_count": 0,
                    "min": "273",
                    "max": "981",
                    "histogram": [
                      {
                        "bin_start": 273,
                        "bin_end": 343.8,
                        "count": 2
                      },
                      {
                        "bin_start": 343.8,
                        "bin_end": 414.6,
                        "count": 0
                      },
                      {
                        "bin_start": 414.6,
                        "bin_end": 485.4,
                        "count": 3
                      },
                      {
                        "bin_start": 485.4,
                        "bin_end": 556.2,
                        "count": 1
                      },
                      {
                        "bin_start": 556.2,
                        "bin_end": 627,
                        "count": 0
                      },
                      {
                        "bin_start": 627,
                        "bin_end": 697.8,
                        "count": 2
                      },
                      {
                        "bin_start": 697.8,
                        "bin_end": 768.5999999999999,
                        "count": 1
                      },
                      {
                        "bin_start": 768.5999999999999,
                        "bin_end": 839.4,
                        "count": 0
                      },
                      {
                        "bin_start": 839.4,
                        "bin_end": 910.1999999999999,
                        "count": 0
                      },
                      {
                        "bin_start": 910.1999999999999,
                        "bin_end": 981,
                        "count": 1
                      }
                    ]
                  }
                },
                {
                  "name": "_deepnote_index_column",
                  "dtype": "int64"
                }
              ],
              "rows_top": [
                {
                  "MONTH": 4,
                  "YEAR": 2014,
                  "zip": 94547,
                  "GHI_raw": "267.1625",
                  "DHI_raw": "71.84166666666667",
                  "DNI_raw": "297.24861111111113",
                  "Wind Speed": "2.219722222222223",
                  "Temperature_raw": 13.443055555555556,
                  "Solar_Zenith_Angle_raw": 82.28230555555548,
                  "k_12": 447,
                  "k_11": 461,
                  "k_10": 491,
                  "k_9": 486,
                  "k_8": 494,
                  "k_7": 478,
                  "k_6": 462,
                  "k_5": 486,
                  "k_4": 576,
                  "k_3": 508,
                  "k_2": 448,
                  "k_1": 457,
                  "_deepnote_index_column": 19691
                },
                {
                  "MONTH": 7,
                  "YEAR": 2017,
                  "zip": 94548,
                  "GHI_raw": "349.78629032258067",
                  "DHI_raw": "52.84139784946237",
                  "DNI_raw": "439.2943548387097",
                  "Wind Speed": "3.777688172043008",
                  "Temperature_raw": 21.51344086021505,
                  "Solar_Zenith_Angle_raw": 74.06052419354836,
                  "k_12": 0,
                  "k_11": 0,
                  "k_10": 0,
                  "k_9": 678,
                  "k_8": 790,
                  "k_7": 1068,
                  "k_6": 0,
                  "k_5": 0,
                  "k_4": 0,
                  "k_3": 1273,
                  "k_2": 1207,
                  "k_1": 981,
                  "_deepnote_index_column": 52160
                },
                {
                  "MONTH": 9,
                  "YEAR": 2017,
                  "zip": 94545,
                  "GHI_raw": "219.35555555555555",
                  "DHI_raw": "68.72361111111111",
                  "DNI_raw": "255.56805555555556",
                  "Wind Speed": "2.1577777777777767",
                  "Temperature_raw": 20.93611111111111,
                  "Solar_Zenith_Angle_raw": 88.09190277777779,
                  "k_12": 447,
                  "k_11": 473,
                  "k_10": 590,
                  "k_9": 581,
                  "k_8": 464,
                  "k_7": 455,
                  "k_6": 417,
                  "k_5": 420,
                  "k_4": 423,
                  "k_3": 436,
                  "k_2": 446,
                  "k_1": 466,
                  "_deepnote_index_column": 40799
                },
                {
                  "MONTH": 2,
                  "YEAR": 2016,
                  "zip": 95065,
                  "GHI_raw": "166.38839285714286",
                  "DHI_raw": "42.919642857142854",
                  "DNI_raw": "261.88988095238096",
                  "Wind Speed": "0.9751488095238084",
                  "Temperature_raw": 12.376488095238097,
                  "Solar_Zenith_Angle_raw": 99.6361904761906,
                  "k_12": 530,
                  "k_11": 532,
                  "k_10": 506,
                  "k_9": 506,
                  "k_8": 446,
                  "k_7": 454,
                  "k_6": 463,
                  "k_5": 457,
                  "k_4": 488,
                  "k_3": 612,
                  "k_2": 731,
                  "k_1": 678,
                  "_deepnote_index_column": 45662
                },
                {
                  "MONTH": 12,
                  "YEAR": 2019,
                  "zip": 94612,
                  "GHI_raw": "74.18010752688173",
                  "DHI_raw": "32.513440860215056",
                  "DNI_raw": "116.68682795698925",
                  "Wind Speed": "2.409005376344085",
                  "Temperature_raw": 11.286962365591398,
                  "Solar_Zenith_Angle_raw": 107.31313172043006,
                  "k_12": 372,
                  "k_11": 378,
                  "k_10": 382,
                  "k_9": 338,
                  "k_8": 2401,
                  "k_7": 1568,
                  "k_6": 260,
                  "k_5": 263,
                  "k_4": 268,
                  "k_3": 260,
                  "k_2": 261,
                  "k_1": 297,
                  "_deepnote_index_column": 86773
                },
                {
                  "MONTH": 10,
                  "YEAR": 2016,
                  "zip": 94107,
                  "GHI_raw": "148.0483870967742",
                  "DHI_raw": "47.51209677419355",
                  "DNI_raw": "200.73387096774192",
                  "Wind Speed": "2.0556451612903226",
                  "Temperature_raw": 15.922043010752688,
                  "Solar_Zenith_Angle_raw": 97.04956989247304,
                  "k_12": 292,
                  "k_11": 334,
                  "k_10": 417,
                  "k_9": 418,
                  "k_8": 309,
                  "k_7": 321,
                  "k_6": 282,
                  "k_5": 284,
                  "k_4": 266,
                  "k_3": 273,
                  "k_2": 276,
                  "k_1": 273,
                  "_deepnote_index_column": 7969
                },
                {
                  "MONTH": 4,
                  "YEAR": 2018,
                  "zip": 94002,
                  "GHI_raw": "255.01527777777778",
                  "DHI_raw": "75.4125",
                  "DNI_raw": "275.0652777777778",
                  "Wind Speed": "3.7051388888888885",
                  "Temperature_raw": 13.07305555555554,
                  "Solar_Zenith_Angle_raw": 82.29919444444438,
                  "k_12": 367,
                  "k_11": 360,
                  "k_10": 365,
                  "k_9": 375,
                  "k_8": 399,
                  "k_7": 399,
                  "k_6": 389,
                  "k_5": 419,
                  "k_4": 502,
                  "k_3": 477,
                  "k_2": 401,
                  "k_1": 435,
                  "_deepnote_index_column": 101236
                },
                {
                  "MONTH": 2,
                  "YEAR": 2013,
                  "zip": 94550,
                  "GHI_raw": "162.67113095238096",
                  "DHI_raw": "39.302083333333336",
                  "DNI_raw": "261.0684523809524",
                  "Wind Speed": "1.562351190476193",
                  "Temperature_raw": 7.650297619047619,
                  "Solar_Zenith_Angle_raw": 99.53282738095244,
                  "k_12": 699,
                  "k_11": 624,
                  "k_10": 520,
                  "k_9": 530,
                  "k_8": 729,
                  "k_7": 838,
                  "k_6": 867,
                  "k_5": 658,
                  "k_4": 538,
                  "k_3": 609,
                  "k_2": 755,
                  "k_1": 700,
                  "_deepnote_index_column": 128722
                },
                {
                  "MONTH": 7,
                  "YEAR": 2016,
                  "zip": 94568,
                  "GHI_raw": "348.2123655913978",
                  "DHI_raw": "52.060483870967744",
                  "DNI_raw": "432.9045698924731",
                  "Wind Speed": "2.9663978494623624",
                  "Temperature_raw": 18.37768817204301,
                  "Solar_Zenith_Angle_raw": 74.1425672043011,
                  "k_12": 539,
                  "k_11": 550,
                  "k_10": 547,
                  "k_9": 478,
                  "k_8": 480,
                  "k_7": 562,
                  "k_6": 517,
                  "k_5": 421,
                  "k_4": 434,
                  "k_3": 395,
                  "k_2": 429,
                  "k_1": 510,
                  "_deepnote_index_column": 82900
                },
                {
                  "MONTH": 2,
                  "YEAR": 2016,
                  "zip": 94038,
                  "GHI_raw": "161.7529761904762",
                  "DHI_raw": "43.92261904761905",
                  "DNI_raw": "253.03720238095238",
                  "Wind Speed": "2.9386904761904766",
                  "Temperature_raw": 12.886904761904765,
                  "Solar_Zenith_Angle_raw": 99.70375000000004,
                  "k_12": 516,
                  "k_11": 528,
                  "k_10": 499,
                  "k_9": 521,
                  "k_8": 464,
                  "k_7": 452,
                  "k_6": 451,
                  "k_5": 448,
                  "k_4": 480,
                  "k_3": 578,
                  "k_2": 712,
                  "k_1": 653,
                  "_deepnote_index_column": 50054
                }
              ],
              "rows_bottom": null
            },
            "text/plain": "        MONTH  YEAR    zip             GHI_raw             DHI_raw  \\\nindex                                                                \n19691       4  2014  94547            267.1625   71.84166666666667   \n52160       7  2017  94548  349.78629032258067   52.84139784946237   \n40799       9  2017  94545  219.35555555555555   68.72361111111111   \n45662       2  2016  95065  166.38839285714286  42.919642857142854   \n86773      12  2019  94612   74.18010752688173  32.513440860215056   \n7969       10  2016  94107   148.0483870967742   47.51209677419355   \n101236      4  2018  94002  255.01527777777778             75.4125   \n128722      2  2013  94550  162.67113095238096  39.302083333333336   \n82900       7  2016  94568   348.2123655913978  52.060483870967744   \n50054       2  2016  94038   161.7529761904762   43.92261904761905   \n\n                   DNI_raw          Wind Speed  Temperature_raw  \\\nindex                                                             \n19691   297.24861111111113   2.219722222222223        13.443056   \n52160    439.2943548387097   3.777688172043008        21.513441   \n40799   255.56805555555556  2.1577777777777767        20.936111   \n45662   261.88988095238096  0.9751488095238084        12.376488   \n86773   116.68682795698925   2.409005376344085        11.286962   \n7969    200.73387096774192  2.0556451612903226        15.922043   \n101236   275.0652777777778  3.7051388888888885        13.073056   \n128722   261.0684523809524   1.562351190476193         7.650298   \n82900    432.9045698924731  2.9663978494623624        18.377688   \n50054   253.03720238095238  2.9386904761904766        12.886905   \n\n        Solar_Zenith_Angle_raw  k_12  ...  k_10  k_9   k_8   k_7  k_6  k_5  \\\nindex                                 ...                                    \n19691                82.282306   447  ...   491  486   494   478  462  486   \n52160                74.060524     0  ...     0  678   790  1068    0    0   \n40799                88.091903   447  ...   590  581   464   455  417  420   \n45662                99.636190   530  ...   506  506   446   454  463  457   \n86773               107.313132   372  ...   382  338  2401  1568  260  263   \n7969                 97.049570   292  ...   417  418   309   321  282  284   \n101236               82.299194   367  ...   365  375   399   399  389  419   \n128722               99.532827   699  ...   520  530   729   838  867  658   \n82900                74.142567   539  ...   547  478   480   562  517  421   \n50054                99.703750   516  ...   499  521   464   452  451  448   \n\n        k_4   k_3   k_2  k_1  \nindex                         \n19691   576   508   448  457  \n52160     0  1273  1207  981  \n40799   423   436   446  466  \n45662   488   612   731  678  \n86773   268   260   261  297  \n7969    266   273   276  273  \n101236  502   477   401  435  \n128722  538   609   755  700  \n82900   434   395   429  510  \n50054   480   578   712  653  \n\n[10 rows x 21 columns]",
            "text/html": "<div>\n<style scoped>\n    .dataframe tbody tr th:only-of-type {\n        vertical-align: middle;\n    }\n\n    .dataframe tbody tr th {\n        vertical-align: top;\n    }\n\n    .dataframe thead th {\n        text-align: right;\n    }\n</style>\n<table border=\"1\" class=\"dataframe\">\n  <thead>\n    <tr style=\"text-align: right;\">\n      <th></th>\n      <th>MONTH</th>\n      <th>YEAR</th>\n      <th>zip</th>\n      <th>GHI_raw</th>\n      <th>DHI_raw</th>\n      <th>DNI_raw</th>\n      <th>Wind Speed</th>\n      <th>Temperature_raw</th>\n      <th>Solar_Zenith_Angle_raw</th>\n      <th>k_12</th>\n      <th>...</th>\n      <th>k_10</th>\n      <th>k_9</th>\n      <th>k_8</th>\n      <th>k_7</th>\n      <th>k_6</th>\n      <th>k_5</th>\n      <th>k_4</th>\n      <th>k_3</th>\n      <th>k_2</th>\n      <th>k_1</th>\n    </tr>\n    <tr>\n      <th>index</th>\n      <th></th>\n      <th></th>\n      <th></th>\n      <th></th>\n      <th></th>\n      <th></th>\n      <th></th>\n      <th></th>\n      <th></th>\n      <th></th>\n      <th></th>\n      <th></th>\n      <th></th>\n      <th></th>\n      <th></th>\n      <th></th>\n      <th></th>\n      <th></th>\n      <th></th>\n      <th></th>\n      <th></th>\n    </tr>\n  </thead>\n  <tbody>\n    <tr>\n      <th>19691</th>\n      <td>4</td>\n      <td>2014</td>\n      <td>94547</td>\n      <td>267.1625</td>\n      <td>71.84166666666667</td>\n      <td>297.24861111111113</td>\n      <td>2.219722222222223</td>\n      <td>13.443056</td>\n      <td>82.282306</td>\n      <td>447</td>\n      <td>...</td>\n      <td>491</td>\n      <td>486</td>\n      <td>494</td>\n      <td>478</td>\n      <td>462</td>\n      <td>486</td>\n      <td>576</td>\n      <td>508</td>\n      <td>448</td>\n      <td>457</td>\n    </tr>\n    <tr>\n      <th>52160</th>\n      <td>7</td>\n      <td>2017</td>\n      <td>94548</td>\n      <td>349.78629032258067</td>\n      <td>52.84139784946237</td>\n      <td>439.2943548387097</td>\n      <td>3.777688172043008</td>\n      <td>21.513441</td>\n      <td>74.060524</td>\n      <td>0</td>\n      <td>...</td>\n      <td>0</td>\n      <td>678</td>\n      <td>790</td>\n      <td>1068</td>\n      <td>0</td>\n      <td>0</td>\n      <td>0</td>\n      <td>1273</td>\n      <td>1207</td>\n      <td>981</td>\n    </tr>\n    <tr>\n      <th>40799</th>\n      <td>9</td>\n      <td>2017</td>\n      <td>94545</td>\n      <td>219.35555555555555</td>\n      <td>68.72361111111111</td>\n      <td>255.56805555555556</td>\n      <td>2.1577777777777767</td>\n      <td>20.936111</td>\n      <td>88.091903</td>\n      <td>447</td>\n      <td>...</td>\n      <td>590</td>\n      <td>581</td>\n      <td>464</td>\n      <td>455</td>\n      <td>417</td>\n      <td>420</td>\n      <td>423</td>\n      <td>436</td>\n      <td>446</td>\n      <td>466</td>\n    </tr>\n    <tr>\n      <th>45662</th>\n      <td>2</td>\n      <td>2016</td>\n      <td>95065</td>\n      <td>166.38839285714286</td>\n      <td>42.919642857142854</td>\n      <td>261.88988095238096</td>\n      <td>0.9751488095238084</td>\n      <td>12.376488</td>\n      <td>99.636190</td>\n      <td>530</td>\n      <td>...</td>\n      <td>506</td>\n      <td>506</td>\n      <td>446</td>\n      <td>454</td>\n      <td>463</td>\n      <td>457</td>\n      <td>488</td>\n      <td>612</td>\n      <td>731</td>\n      <td>678</td>\n    </tr>\n    <tr>\n      <th>86773</th>\n      <td>12</td>\n      <td>2019</td>\n      <td>94612</td>\n      <td>74.18010752688173</td>\n      <td>32.513440860215056</td>\n      <td>116.68682795698925</td>\n      <td>2.409005376344085</td>\n      <td>11.286962</td>\n      <td>107.313132</td>\n      <td>372</td>\n      <td>...</td>\n      <td>382</td>\n      <td>338</td>\n      <td>2401</td>\n      <td>1568</td>\n      <td>260</td>\n      <td>263</td>\n      <td>268</td>\n      <td>260</td>\n      <td>261</td>\n      <td>297</td>\n    </tr>\n    <tr>\n      <th>7969</th>\n      <td>10</td>\n      <td>2016</td>\n      <td>94107</td>\n      <td>148.0483870967742</td>\n      <td>47.51209677419355</td>\n      <td>200.73387096774192</td>\n      <td>2.0556451612903226</td>\n      <td>15.922043</td>\n      <td>97.049570</td>\n      <td>292</td>\n      <td>...</td>\n      <td>417</td>\n      <td>418</td>\n      <td>309</td>\n      <td>321</td>\n      <td>282</td>\n      <td>284</td>\n      <td>266</td>\n      <td>273</td>\n      <td>276</td>\n      <td>273</td>\n    </tr>\n    <tr>\n      <th>101236</th>\n      <td>4</td>\n      <td>2018</td>\n      <td>94002</td>\n      <td>255.01527777777778</td>\n      <td>75.4125</td>\n      <td>275.0652777777778</td>\n      <td>3.7051388888888885</td>\n      <td>13.073056</td>\n      <td>82.299194</td>\n      <td>367</td>\n      <td>...</td>\n      <td>365</td>\n      <td>375</td>\n      <td>399</td>\n      <td>399</td>\n      <td>389</td>\n      <td>419</td>\n      <td>502</td>\n      <td>477</td>\n      <td>401</td>\n      <td>435</td>\n    </tr>\n    <tr>\n      <th>128722</th>\n      <td>2</td>\n      <td>2013</td>\n      <td>94550</td>\n      <td>162.67113095238096</td>\n      <td>39.302083333333336</td>\n      <td>261.0684523809524</td>\n      <td>1.562351190476193</td>\n      <td>7.650298</td>\n      <td>99.532827</td>\n      <td>699</td>\n      <td>...</td>\n      <td>520</td>\n      <td>530</td>\n      <td>729</td>\n      <td>838</td>\n      <td>867</td>\n      <td>658</td>\n      <td>538</td>\n      <td>609</td>\n      <td>755</td>\n      <td>700</td>\n    </tr>\n    <tr>\n      <th>82900</th>\n      <td>7</td>\n      <td>2016</td>\n      <td>94568</td>\n      <td>348.2123655913978</td>\n      <td>52.060483870967744</td>\n      <td>432.9045698924731</td>\n      <td>2.9663978494623624</td>\n      <td>18.377688</td>\n      <td>74.142567</td>\n      <td>539</td>\n      <td>...</td>\n      <td>547</td>\n      <td>478</td>\n      <td>480</td>\n      <td>562</td>\n      <td>517</td>\n      <td>421</td>\n      <td>434</td>\n      <td>395</td>\n      <td>429</td>\n      <td>510</td>\n    </tr>\n    <tr>\n      <th>50054</th>\n      <td>2</td>\n      <td>2016</td>\n      <td>94038</td>\n      <td>161.7529761904762</td>\n      <td>43.92261904761905</td>\n      <td>253.03720238095238</td>\n      <td>2.9386904761904766</td>\n      <td>12.886905</td>\n      <td>99.703750</td>\n      <td>516</td>\n      <td>...</td>\n      <td>499</td>\n      <td>521</td>\n      <td>464</td>\n      <td>452</td>\n      <td>451</td>\n      <td>448</td>\n      <td>480</td>\n      <td>578</td>\n      <td>712</td>\n      <td>653</td>\n    </tr>\n  </tbody>\n</table>\n<p>10 rows × 21 columns</p>\n</div>"
          },
          "metadata": {}
        }
      ]
    },
    {
      "cell_type": "markdown",
      "source": "### Simple Linear Regression\n\n$$ \\hat{\\vec{y}} = \\hat{\\vec\\beta}*\\vec{x}$$\n\nCoefficients in $ \\hat{\\vec\\beta}$  are simply scalars that are fit to the best-fit line. That is, simply solving least squares\n\n$$ \\hat{\\vec\\beta} = (X^TX)^{-1}X^TY$$\n",
      "metadata": {
        "tags": [],
        "cell_id": "00025-eb8153ba-daff-47b1-8d95-0cd367bc85f3",
        "deepnote_cell_type": "markdown"
      }
    },
    {
      "cell_type": "markdown",
      "source": "",
      "metadata": {
        "tags": [],
        "cell_id": "00026-1f0ba404-a7ae-4948-abdf-4306179d54a7",
        "deepnote_cell_type": "markdown"
      }
    },
    {
      "cell_type": "code",
      "metadata": {
        "tags": [],
        "deepnote_to_be_reexecuted": false,
        "source_hash": "870a2a95",
        "execution_millis": 290,
        "cell_id": "00027-ddc6600c-d7a9-40cd-a279-2f583b8dc2e3",
        "execution_start": 1618697498667,
        "deepnote_cell_type": "code"
      },
      "source": "lm = LinearRegression() #linear regression\nlm.fit(X_train, y_train)\n\n## apply model to training data\nlm_train_pred = lm.predict(X_train)\nlm_train_mse = mean_squared_error(y_true=y_train, y_pred=lm_train_pred)\n\n## apply model to test data\nlm_test_pred = lm.predict(X_val)\nlm_test_mse = mean_squared_error(y_true=y_val, y_pred=lm_test_pred)\nprint(\"Training MSE\", lm_train_mse)\nprint(\"Testing MSE\", lm_test_mse)",
      "execution_count": null,
      "outputs": [
        {
          "name": "stdout",
          "text": "Training MSE 7115.622835917434\nTesting MSE 7186.677035610138\n",
          "output_type": "stream"
        }
      ]
    },
    {
      "cell_type": "code",
      "metadata": {
        "tags": [],
        "deepnote_to_be_reexecuted": false,
        "source_hash": "31180f39",
        "execution_millis": 166,
        "cell_id": "00028-a52309cb-5581-458e-adee-327345b1ba1a",
        "execution_start": 1618697505529,
        "deepnote_cell_type": "code"
      },
      "source": "plt.scatter(y_train, lm_train_pred)",
      "execution_count": null,
      "outputs": [
        {
          "output_type": "execute_result",
          "execution_count": 194,
          "data": {
            "text/plain": "<matplotlib.collections.PathCollection at 0x7ff6460a8710>"
          },
          "metadata": {}
        },
        {
          "data": {
            "text/plain": "<Figure size 432x288 with 1 Axes>",
            "image/png": "[encoded data removed]"
          },
          "metadata": {
            "needs_background": "light"
          },
          "output_type": "display_data"
        }
      ]
    },
    {
      "cell_type": "code",
      "metadata": {
        "tags": [],
        "deepnote_to_be_reexecuted": false,
        "source_hash": "1966dfcd",
        "execution_millis": 485,
        "cell_id": "00029-d78d437e-ad67-4efd-a250-599870a6a373",
        "execution_start": 1618697512184,
        "deepnote_cell_type": "code"
      },
      "source": "plt.scatter(y_val, lm_test_pred-y_val)",
      "execution_count": null,
      "outputs": [
        {
          "output_type": "execute_result",
          "execution_count": 195,
          "data": {
            "text/plain": "<matplotlib.collections.PathCollection at 0x7ff646071690>"
          },
          "metadata": {}
        },
        {
          "data": {
            "text/plain": "<Figure size 432x288 with 1 Axes>",
            "image/png": "[encoded data removed]"
          },
          "metadata": {
            "needs_background": "light"
          },
          "output_type": "display_data"
        }
      ]
    },
    {
      "cell_type": "code",
      "metadata": {
        "tags": [],
        "deepnote_to_be_reexecuted": false,
        "source_hash": "732975c1",
        "execution_millis": 154,
        "cell_id": "00030-67345b08-3038-4cc4-a870-2fcd5dff498c",
        "execution_start": 1618697517747,
        "deepnote_cell_type": "code"
      },
      "source": "plt.scatter(y_train, lm_train_pred-y_train)",
      "execution_count": null,
      "outputs": [
        {
          "output_type": "execute_result",
          "execution_count": 196,
          "data": {
            "text/plain": "<matplotlib.collections.PathCollection at 0x7ff645fcb710>"
          },
          "metadata": {}
        },
        {
          "data": {
            "text/plain": "<Figure size 432x288 with 1 Axes>",
            "image/png": "[encoded data removed]"
          },
          "metadata": {
            "needs_background": "light"
          },
          "output_type": "display_data"
        }
      ]
    },
    {
      "cell_type": "code",
      "metadata": {
        "tags": [],
        "deepnote_to_be_reexecuted": true,
        "source_hash": "b623e53d",
        "execution_millis": 4,
        "cell_id": "00031-e9db54d7-68b3-4d51-9da1-17d4c6924080",
        "deepnote_cell_type": "code"
      },
      "source": "",
      "execution_count": null,
      "outputs": []
    },
    {
      "cell_type": "code",
      "metadata": {
        "tags": [],
        "deepnote_to_be_reexecuted": false,
        "source_hash": "82cf6b81",
        "execution_millis": 35084,
        "cell_id": "00032-ffc1331e-612d-4c55-bd93-b8c4952eab9c",
        "execution_start": 1618697907427,
        "deepnote_cell_type": "code"
      },
      "source": "svr_regr = svm.SVR() #vector regression\nsvr_regr.fit(X_train, y_train)",
      "execution_count": null,
      "outputs": [
        {
          "output_type": "execute_result",
          "execution_count": 197,
          "data": {
            "text/plain": "SVR()"
          },
          "metadata": {}
        }
      ]
    },
    {
      "cell_type": "code",
      "metadata": {
        "tags": [],
        "deepnote_to_be_reexecuted": false,
        "source_hash": "6081c2c5",
        "execution_millis": 41832,
        "cell_id": "00033-7aa1d274-dc22-4e74-82ff-d032b303ff5b",
        "execution_start": 1618697947350,
        "deepnote_cell_type": "code"
      },
      "source": "## apply model to training data\nsvr_train_pred = svr_regr.predict(X_train)\nsvr_train_mse = mean_squared_error(y_true=y_train, y_pred=svr_train_pred)\n\n## apply model to test data\nsvr_test_pred = svr_regr.predict(X_val)\nsvr_test_mse = mean_squared_error(y_true=y_val, y_pred=svr_test_pred)\nprint(\"Training MSE\", svr_train_mse)\nprint(\"Testing MSE\", svr_test_mse)",
      "execution_count": null,
      "outputs": [
        {
          "name": "stdout",
          "text": "Training MSE 62567.08645346371\nTesting MSE 63195.15875780805\n",
          "output_type": "stream"
        }
      ]
    },
    {
      "cell_type": "code",
      "metadata": {
        "tags": [],
        "deepnote_to_be_reexecuted": false,
        "source_hash": "329706ed",
        "execution_millis": 184,
        "cell_id": "00034-03804be7-c6a0-4715-b301-c59563789d6a",
        "execution_start": 1618698005398,
        "deepnote_cell_type": "code"
      },
      "source": "plt.scatter(y_train, svr_train_pred)",
      "execution_count": null,
      "outputs": [
        {
          "output_type": "execute_result",
          "execution_count": 199,
          "data": {
            "text/plain": "<matplotlib.collections.PathCollection at 0x7ff645f448d0>"
          },
          "metadata": {}
        },
        {
          "data": {
            "text/plain": "<Figure size 432x288 with 1 Axes>",
            "image/png": "[encoded data removed]"
          },
          "metadata": {
            "needs_background": "light"
          },
          "output_type": "display_data"
        }
      ]
    },
    {
      "cell_type": "code",
      "metadata": {
        "tags": [],
        "deepnote_to_be_reexecuted": true,
        "source_hash": "b623e53d",
        "cell_id": "00035-f4c63460-e9bd-4f8a-9263-347c219af8c2",
        "execution_millis": 5,
        "deepnote_cell_type": "code"
      },
      "source": "",
      "execution_count": null,
      "outputs": []
    },
    {
      "cell_type": "markdown",
      "source": "### Decision Tree Regression Model",
      "metadata": {
        "tags": [],
        "cell_id": "00036-e949432c-7b84-4e9d-8ed6-71d469aedc8e",
        "deepnote_cell_type": "markdown"
      }
    },
    {
      "cell_type": "code",
      "metadata": {
        "tags": [],
        "deepnote_to_be_reexecuted": true,
        "source_hash": "7c234d23",
        "execution_millis": 69,
        "cell_id": "00037-c7764f84-1408-49e4-a5a6-3f8c56ba938b",
        "deepnote_cell_type": "code"
      },
      "source": "X_train.head()",
      "execution_count": null,
      "outputs": [
        {
          "output_type": "execute_result",
          "execution_count": 34,
          "data": {
            "application/vnd.deepnote.dataframe.v2+json": {
              "row_count": 5,
              "column_count": 9,
              "columns": [
                {
                  "name": "MONTH",
                  "dtype": "int64",
                  "stats": {
                    "unique_count": 4,
                    "nan_count": 0,
                    "min": "2",
                    "max": "8",
                    "histogram": [
                      {
                        "bin_start": 2,
                        "bin_end": 2.6,
                        "count": 1
                      },
                      {
                        "bin_start": 2.6,
                        "bin_end": 3.2,
                        "count": 2
                      },
                      {
                        "bin_start": 3.2,
                        "bin_end": 3.8,
                        "count": 0
                      },
                      {
                        "bin_start": 3.8,
                        "bin_end": 4.4,
                        "count": 0
                      },
                      {
                        "bin_start": 4.4,
                        "bin_end": 5,
                        "count": 0
                      },
                      {
                        "bin_start": 5,
                        "bin_end": 5.6,
                        "count": 1
                      },
                      {
                        "bin_start": 5.6,
                        "bin_end": 6.2,
                        "count": 0
                      },
                      {
                        "bin_start": 6.2,
                        "bin_end": 6.8,
                        "count": 0
                      },
                      {
                        "bin_start": 6.8,
                        "bin_end": 7.3999999999999995,
                        "count": 0
                      },
                      {
                        "bin_start": 7.3999999999999995,
                        "bin_end": 8,
                        "count": 1
                      }
                    ]
                  }
                },
                {
                  "name": "YEAR",
                  "dtype": "int64",
                  "stats": {
                    "unique_count": 5,
                    "nan_count": 0,
                    "min": "2013",
                    "max": "2019",
                    "histogram": [
                      {
                        "bin_start": 2013,
                        "bin_end": 2013.6,
                        "count": 1
                      },
                      {
                        "bin_start": 2013.6,
                        "bin_end": 2014.2,
                        "count": 0
                      },
                      {
                        "bin_start": 2014.2,
                        "bin_end": 2014.8,
                        "count": 0
                      },
                      {
                        "bin_start": 2014.8,
                        "bin_end": 2015.4,
                        "count": 1
                      },
                      {
                        "bin_start": 2015.4,
                        "bin_end": 2016,
                        "count": 0
                      },
                      {
                        "bin_start": 2016,
                        "bin_end": 2016.6,
                        "count": 1
                      },
                      {
                        "bin_start": 2016.6,
                        "bin_end": 2017.2,
                        "count": 0
                      },
                      {
                        "bin_start": 2017.2,
                        "bin_end": 2017.8,
                        "count": 0
                      },
                      {
                        "bin_start": 2017.8,
                        "bin_end": 2018.4,
                        "count": 1
                      },
                      {
                        "bin_start": 2018.4,
                        "bin_end": 2019,
                        "count": 1
                      }
                    ]
                  }
                },
                {
                  "name": "zip",
                  "dtype": "int64",
                  "stats": {
                    "unique_count": 5,
                    "nan_count": 0,
                    "min": "94038",
                    "max": "95041",
                    "histogram": [
                      {
                        "bin_start": 94038,
                        "bin_end": 94138.3,
                        "count": 1
                      },
                      {
                        "bin_start": 94138.3,
                        "bin_end": 94238.6,
                        "count": 0
                      },
                      {
                        "bin_start": 94238.6,
                        "bin_end": 94338.9,
                        "count": 0
                      },
                      {
                        "bin_start": 94338.9,
                        "bin_end": 94439.2,
                        "count": 0
                      },
                      {
                        "bin_start": 94439.2,
                        "bin_end": 94539.5,
                        "count": 0
                      },
                      {
                        "bin_start": 94539.5,
                        "bin_end": 94639.8,
                        "count": 1
                      },
                      {
                        "bin_start": 94639.8,
                        "bin_end": 94740.1,
                        "count": 0
                      },
                      {
                        "bin_start": 94740.1,
                        "bin_end": 94840.4,
                        "count": 0
                      },
                      {
                        "bin_start": 94840.4,
                        "bin_end": 94940.7,
                        "count": 1
                      },
                      {
                        "bin_start": 94940.7,
                        "bin_end": 95041,
                        "count": 2
                      }
                    ]
                  }
                },
                {
                  "name": "GHI_raw",
                  "dtype": "object",
                  "stats": {
                    "unique_count": 5,
                    "nan_count": 0,
                    "categories": [
                      {
                        "name": "310.8225806451613",
                        "count": 1
                      },
                      {
                        "name": "169.7701612903226",
                        "count": 1
                      },
                      {
                        "name": "3 others",
                        "count": 3
                      }
                    ]
                  }
                },
                {
                  "name": "DHI_raw",
                  "dtype": "object",
                  "stats": {
                    "unique_count": 5,
                    "nan_count": 0,
                    "categories": [
                      {
                        "name": "52.57258064516129",
                        "count": 1
                      },
                      {
                        "name": "59.166666666666664",
                        "count": 1
                      },
                      {
                        "name": "3 others",
                        "count": 3
                      }
                    ]
                  }
                },
                {
                  "name": "DNI_raw",
                  "dtype": "object",
                  "stats": {
                    "unique_count": 5,
                    "nan_count": 0,
                    "categories": [
                      {
                        "name": "390.7110215053763",
                        "count": 1
                      },
                      {
                        "name": "192.32930107526883",
                        "count": 1
                      },
                      {
                        "name": "3 others",
                        "count": 3
                      }
                    ]
                  }
                },
                {
                  "name": "Wind Speed",
                  "dtype": "object",
                  "stats": {
                    "unique_count": 5,
                    "nan_count": 0,
                    "categories": [
                      {
                        "name": "3.478360215053763",
                        "count": 1
                      },
                      {
                        "name": "4.809543010752688",
                        "count": 1
                      },
                      {
                        "name": "3 others",
                        "count": 3
                      }
                    ]
                  }
                },
                {
                  "name": "Temperature_raw",
                  "dtype": "float64",
                  "stats": {
                    "unique_count": 5,
                    "nan_count": 0,
                    "min": "11.216666666666676",
                    "max": "21.969758064516128",
                    "histogram": [
                      {
                        "bin_start": 11.216666666666676,
                        "bin_end": 12.291975806451621,
                        "count": 2
                      },
                      {
                        "bin_start": 12.291975806451621,
                        "bin_end": 13.367284946236566,
                        "count": 0
                      },
                      {
                        "bin_start": 13.367284946236566,
                        "bin_end": 14.442594086021511,
                        "count": 2
                      },
                      {
                        "bin_start": 14.442594086021511,
                        "bin_end": 15.517903225806457,
                        "count": 0
                      },
                      {
                        "bin_start": 15.517903225806457,
                        "bin_end": 16.593212365591402,
                        "count": 0
                      },
                      {
                        "bin_start": 16.593212365591402,
                        "bin_end": 17.668521505376347,
                        "count": 0
                      },
                      {
                        "bin_start": 17.668521505376347,
                        "bin_end": 18.743830645161292,
                        "count": 0
                      },
                      {
                        "bin_start": 18.743830645161292,
                        "bin_end": 19.819139784946238,
                        "count": 0
                      },
                      {
                        "bin_start": 19.819139784946238,
                        "bin_end": 20.894448924731183,
                        "count": 0
                      },
                      {
                        "bin_start": 20.894448924731183,
                        "bin_end": 21.969758064516128,
                        "count": 1
                      }
                    ]
                  }
                },
                {
                  "name": "Solar_Zenith_Angle_raw",
                  "dtype": "float64",
                  "stats": {
                    "unique_count": 5,
                    "nan_count": 0,
                    "min": "75.66157258064513",
                    "max": "99.64183035714277",
                    "histogram": [
                      {
                        "bin_start": 75.66157258064513,
                        "bin_end": 78.05959835829489,
                        "count": 1
                      },
                      {
                        "bin_start": 78.05959835829489,
                        "bin_end": 80.45762413594466,
                        "count": 1
                      },
                      {
                        "bin_start": 80.45762413594466,
                        "bin_end": 82.85564991359442,
                        "count": 0
                      },
                      {
                        "bin_start": 82.85564991359442,
                        "bin_end": 85.25367569124418,
                        "count": 0
                      },
                      {
                        "bin_start": 85.25367569124418,
                        "bin_end": 87.65170146889395,
                        "count": 0
                      },
                      {
                        "bin_start": 87.65170146889395,
                        "bin_end": 90.04972724654371,
                        "count": 0
                      },
                      {
                        "bin_start": 90.04972724654371,
                        "bin_end": 92.44775302419347,
                        "count": 2
                      },
                      {
                        "bin_start": 92.44775302419347,
                        "bin_end": 94.84577880184324,
                        "count": 0
                      },
                      {
                        "bin_start": 94.84577880184324,
                        "bin_end": 97.243804579493,
                        "count": 0
                      },
                      {
                        "bin_start": 97.243804579493,
                        "bin_end": 99.64183035714277,
                        "count": 1
                      }
                    ]
                  }
                },
                {
                  "name": "_deepnote_index_column",
                  "dtype": "int64"
                }
              ],
              "rows_top": [
                {
                  "MONTH": 8,
                  "YEAR": 2019,
                  "zip": 94553,
                  "GHI_raw": "310.8225806451613",
                  "DHI_raw": "52.57258064516129",
                  "DNI_raw": "390.7110215053763",
                  "Wind Speed": "3.478360215053763",
                  "Temperature_raw": 21.969758064516128,
                  "Solar_Zenith_Angle_raw": 79.63051075268824,
                  "_deepnote_index_column": 73651
                },
                {
                  "MONTH": 3,
                  "YEAR": 2016,
                  "zip": 94940,
                  "GHI_raw": "169.7701612903226",
                  "DHI_raw": "59.166666666666664",
                  "DNI_raw": "192.32930107526883",
                  "Wind Speed": "4.809543010752688",
                  "Temperature_raw": 12.182795698924732,
                  "Solar_Zenith_Angle_raw": 91.02952956989245,
                  "_deepnote_index_column": 105904
                },
                {
                  "MONTH": 5,
                  "YEAR": 2013,
                  "zip": 95041,
                  "GHI_raw": "319.7204301075269",
                  "DHI_raw": "70.51344086021506",
                  "DNI_raw": "356.9623655913978",
                  "Wind Speed": "1.1791666666666678",
                  "Temperature_raw": 14.376344086021506,
                  "Solar_Zenith_Angle_raw": 75.66157258064513,
                  "_deepnote_index_column": 12682
                },
                {
                  "MONTH": 2,
                  "YEAR": 2015,
                  "zip": 94038,
                  "GHI_raw": "142.48958333333334",
                  "DHI_raw": "42.811011904761905",
                  "DNI_raw": "209.26934523809524",
                  "Wind Speed": "3.3116071428571443",
                  "Temperature_raw": 13.616071428571429,
                  "Solar_Zenith_Angle_raw": 99.64183035714277,
                  "_deepnote_index_column": 50030
                },
                {
                  "MONTH": 3,
                  "YEAR": 2018,
                  "zip": 95017,
                  "GHI_raw": "176.4959677419355",
                  "DHI_raw": "59.86021505376344",
                  "DNI_raw": "205.48924731182797",
                  "Wind Speed": "3.0182795698924756",
                  "Temperature_raw": 11.216666666666676,
                  "Solar_Zenith_Angle_raw": 91.14185483870966,
                  "_deepnote_index_column": 14991
                }
              ],
              "rows_bottom": null
            },
            "text/plain": "        MONTH  YEAR    zip             GHI_raw             DHI_raw  \\\n73651       8  2019  94553   310.8225806451613   52.57258064516129   \n105904      3  2016  94940   169.7701612903226  59.166666666666664   \n12682       5  2013  95041   319.7204301075269   70.51344086021506   \n50030       2  2015  94038  142.48958333333334  42.811011904761905   \n14991       3  2018  95017   176.4959677419355   59.86021505376344   \n\n                   DNI_raw          Wind Speed  Temperature_raw  \\\n73651    390.7110215053763   3.478360215053763        21.969758   \n105904  192.32930107526883   4.809543010752688        12.182796   \n12682    356.9623655913978  1.1791666666666678        14.376344   \n50030   209.26934523809524  3.3116071428571443        13.616071   \n14991   205.48924731182797  3.0182795698924756        11.216667   \n\n        Solar_Zenith_Angle_raw  \n73651                79.630511  \n105904               91.029530  \n12682                75.661573  \n50030                99.641830  \n14991                91.141855  ",
            "text/html": "<div>\n<style scoped>\n    .dataframe tbody tr th:only-of-type {\n        vertical-align: middle;\n    }\n\n    .dataframe tbody tr th {\n        vertical-align: top;\n    }\n\n    .dataframe thead th {\n        text-align: right;\n    }\n</style>\n<table border=\"1\" class=\"dataframe\">\n  <thead>\n    <tr style=\"text-align: right;\">\n      <th></th>\n      <th>MONTH</th>\n      <th>YEAR</th>\n      <th>zip</th>\n      <th>GHI_raw</th>\n      <th>DHI_raw</th>\n      <th>DNI_raw</th>\n      <th>Wind Speed</th>\n      <th>Temperature_raw</th>\n      <th>Solar_Zenith_Angle_raw</th>\n    </tr>\n  </thead>\n  <tbody>\n    <tr>\n      <th>73651</th>\n      <td>8</td>\n      <td>2019</td>\n      <td>94553</td>\n      <td>310.8225806451613</td>\n      <td>52.57258064516129</td>\n      <td>390.7110215053763</td>\n      <td>3.478360215053763</td>\n      <td>21.969758</td>\n      <td>79.630511</td>\n    </tr>\n    <tr>\n      <th>105904</th>\n      <td>3</td>\n      <td>2016</td>\n      <td>94940</td>\n      <td>169.7701612903226</td>\n      <td>59.166666666666664</td>\n      <td>192.32930107526883</td>\n      <td>4.809543010752688</td>\n      <td>12.182796</td>\n      <td>91.029530</td>\n    </tr>\n    <tr>\n      <th>12682</th>\n      <td>5</td>\n      <td>2013</td>\n      <td>95041</td>\n      <td>319.7204301075269</td>\n      <td>70.51344086021506</td>\n      <td>356.9623655913978</td>\n      <td>1.1791666666666678</td>\n      <td>14.376344</td>\n      <td>75.661573</td>\n    </tr>\n    <tr>\n      <th>50030</th>\n      <td>2</td>\n      <td>2015</td>\n      <td>94038</td>\n      <td>142.48958333333334</td>\n      <td>42.811011904761905</td>\n      <td>209.26934523809524</td>\n      <td>3.3116071428571443</td>\n      <td>13.616071</td>\n      <td>99.641830</td>\n    </tr>\n    <tr>\n      <th>14991</th>\n      <td>3</td>\n      <td>2018</td>\n      <td>95017</td>\n      <td>176.4959677419355</td>\n      <td>59.86021505376344</td>\n      <td>205.48924731182797</td>\n      <td>3.0182795698924756</td>\n      <td>11.216667</td>\n      <td>91.141855</td>\n    </tr>\n  </tbody>\n</table>\n</div>"
          },
          "metadata": {}
        }
      ]
    },
    {
      "cell_type": "code",
      "metadata": {
        "tags": [],
        "deepnote_to_be_reexecuted": true,
        "source_hash": "e3dd1a07",
        "execution_millis": 204,
        "cell_id": "00038-6c27ded9-a10d-4f3f-8c02-898f3738cee8",
        "deepnote_cell_type": "code"
      },
      "source": "dtree = DecisionTreeRegressor(max_depth=8, min_samples_leaf=0.13, random_state=3)\n\ndtree.fit(X_train, y_train)",
      "execution_count": null,
      "outputs": [
        {
          "output_type": "execute_result",
          "execution_count": 35,
          "data": {
            "text/plain": "DecisionTreeRegressor(max_depth=8, min_samples_leaf=0.13, random_state=3)"
          },
          "metadata": {}
        }
      ]
    },
    {
      "cell_type": "code",
      "metadata": {
        "tags": [],
        "deepnote_to_be_reexecuted": true,
        "source_hash": "f14c59e5",
        "execution_millis": 175,
        "cell_id": "00039-f3a44642-cb72-4237-8057-65695fdf8e8a",
        "deepnote_cell_type": "code"
      },
      "source": "## apply model to training data\ndtree_train_pred = dtree.predict(X_train)\ndtree_train_mse = mean_squared_error(y_true=y_train, y_pred=dtree_train_pred)\n\n## apply model to test data\ndtree_test_pred = dtree.predict(X_val)\ndtree_test_mse = mean_squared_error(y_true=y_val, y_pred=dtree_test_pred)\nprint(\"Training MSE\", dtree_train_mse)\nprint(\"Testing MSE\", dtree_test_mse)",
      "execution_count": null,
      "outputs": [
        {
          "name": "stdout",
          "text": "Training MSE 57941.3605849463\nTesting MSE 60557.37234921501\n",
          "output_type": "stream"
        }
      ]
    },
    {
      "cell_type": "code",
      "metadata": {
        "tags": [],
        "deepnote_to_be_reexecuted": true,
        "source_hash": "6e226696",
        "execution_millis": 273,
        "cell_id": "00040-4a32c214-e3b6-4fc0-9ec1-c3e73fa5e3e4",
        "deepnote_cell_type": "code"
      },
      "source": "plt.scatter(y_train, dtree_train_pred)",
      "execution_count": null,
      "outputs": [
        {
          "output_type": "execute_result",
          "execution_count": 37,
          "data": {
            "text/plain": "<matplotlib.collections.PathCollection at 0x7fa6d6a59490>"
          },
          "metadata": {}
        },
        {
          "data": {
            "text/plain": "<Figure size 432x288 with 1 Axes>",
            "image/png": "[encoded data removed]"
          },
          "metadata": {
            "needs_background": "light"
          },
          "output_type": "display_data"
        }
      ]
    },
    {
      "cell_type": "code",
      "metadata": {
        "tags": [],
        "deepnote_to_be_reexecuted": true,
        "source_hash": "c924cc91",
        "execution_millis": 6,
        "cell_id": "00041-6ee77c07-0790-4d07-9302-7f8057f21503",
        "deepnote_cell_type": "code"
      },
      "source": "### Standardized SVR",
      "execution_count": null,
      "outputs": []
    },
    {
      "cell_type": "code",
      "metadata": {
        "tags": [],
        "deepnote_to_be_reexecuted": true,
        "source_hash": "eff316e",
        "execution_millis": 59464,
        "cell_id": "00042-7e0eb0c0-7a84-4475-a6af-5f0e9dbc7f75",
        "deepnote_cell_type": "code"
      },
      "source": "pipe = Pipeline([('scaler', StandardScaler()), ('svr', svm.SVR())])\n\npipe.fit(X_train, y_train)",
      "execution_count": null,
      "outputs": [
        {
          "output_type": "execute_result",
          "execution_count": 39,
          "data": {
            "text/plain": "Pipeline(steps=[('scaler', StandardScaler()), ('svr', SVR())])"
          },
          "metadata": {}
        }
      ]
    },
    {
      "cell_type": "code",
      "metadata": {
        "tags": [],
        "deepnote_to_be_reexecuted": true,
        "source_hash": "4de560e7",
        "execution_millis": 15909,
        "cell_id": "00043-daedcea8-4e64-43ed-af95-abd2aa17c4fe",
        "deepnote_cell_type": "code"
      },
      "source": "pipe.score(X_val, y_val)",
      "execution_count": null,
      "outputs": [
        {
          "output_type": "execute_result",
          "execution_count": 40,
          "data": {
            "text/plain": "0.0691449342717636"
          },
          "metadata": {}
        }
      ]
    },
    {
      "cell_type": "code",
      "metadata": {
        "tags": [],
        "deepnote_to_be_reexecuted": true,
        "source_hash": "9ea735ef",
        "execution_millis": 62540,
        "cell_id": "00044-0ae8b282-77d3-484b-b2bc-c866d8bad43d",
        "deepnote_cell_type": "code"
      },
      "source": "pipe.score(X_train, y_train)",
      "execution_count": null,
      "outputs": [
        {
          "output_type": "execute_result",
          "execution_count": 41,
          "data": {
            "text/plain": "0.08866927190156293"
          },
          "metadata": {}
        }
      ]
    },
    {
      "cell_type": "code",
      "metadata": {
        "tags": [],
        "cell_id": "00045-54fa6afc-cdfc-43ce-8a87-46ccfc24b125",
        "deepnote_to_be_reexecuted": true,
        "source_hash": "b623e53d",
        "execution_millis": 0,
        "deepnote_cell_type": "code"
      },
      "source": "",
      "execution_count": null,
      "outputs": []
    },
    {
      "cell_type": "code",
      "metadata": {
        "tags": [],
        "cell_id": "00046-c90a2b36-7d84-4b53-8647-957b4c7723dc",
        "deepnote_to_be_reexecuted": true,
        "source_hash": "b623e53d",
        "execution_millis": 1,
        "deepnote_cell_type": "code"
      },
      "source": "",
      "execution_count": null,
      "outputs": []
    },
    {
      "cell_type": "markdown",
      "source": "<a style='text-decoration:none;line-height:16px;display:flex;color:#5B5B62;padding:10px;justify-content:end;' href='https://deepnote.com?utm_source=created-in-deepnote-cell&projectId=c2f0e727-e6a4-4b2a-b180-a91c3a609ecf' target=\"_blank\">\n<img alt='Created in deepnote.com' style='display:inline;max-height:16px;margin:0px;margin-right:7.5px;' src='data:image/svg+xml;base64,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' > </img>\nCreated in <span style='font-weight:600;margin-left:4px;'>Deepnote</span></a>",
      "metadata": {
        "tags": [],
        "created_in_deepnote_cell": true,
        "deepnote_cell_type": "markdown"
      }
    }
  ],
  "nbformat": 4,
  "nbformat_minor": 2,
  "metadata": {
    "kernelspec": {
      "display_name": "Python 3",
      "language": "python",
      "name": "python3"
    },
    "language_info": {
      "codemirror_mode": {
        "name": "ipython",
        "version": 3
      },
      "file_extension": ".py",
      "mimetype": "text/x-python",
      "name": "python",
      "nbconvert_exporter": "python",
      "pygments_lexer": "ipython3",
      "version": "3.7.3"
    },
    "deepnote_notebook_id": "564e45d4-beaa-4afb-a533-d112ec0eb4ca",
    "deepnote": {},
    "deepnote_execution_queue": []
  }
}