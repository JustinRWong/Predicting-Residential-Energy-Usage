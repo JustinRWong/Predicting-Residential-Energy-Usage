{
  "cells": [
    {
      "cell_type": "code",
      "metadata": {
        "deepnote_to_be_reexecuted": false,
        "source_hash": "6953864a",
        "execution_millis": 1526,
        "cell_id": "00000-214f9beb-dfb0-4459-8920-949f16f08042",
        "execution_start": 1619132261910,
        "deepnote_cell_type": "code"
      },
      "source": "import geopandas as gpd\nimport pandas as pd\nimport numpy as np\nimport matplotlib.pyplot as plt\nimport matplotlib.gridspec as gridspec\nfrom ipywidgets import interact, interactive, fixed, interact_manual\nimport ipywidgets as widgets\nimport seaborn as sns\nfrom sklearn.model_selection import train_test_split\n\nfrom scipy.optimize import leastsq\n\nfrom sklearn.linear_model import LinearRegression, Ridge, Lasso\n\nfrom sklearn.metrics import mean_squared_error\nfrom sklearn import svm\nfrom sklearn.tree import DecisionTreeRegressor\n\nfrom sklearn.preprocessing import StandardScaler\nfrom sklearn.pipeline import Pipeline",
      "outputs": [],
      "execution_count": null
    },
    {
      "cell_type": "code",
      "metadata": {
        "deepnote_to_be_reexecuted": false,
        "source_hash": "6ec522b",
        "execution_millis": 2,
        "cell_id": "00001-2108e552-02ff-452a-b669-7b8fba82087f",
        "execution_start": 1619132263969,
        "deepnote_cell_type": "code"
      },
      "source": "def info(df, head=True):\n    print(\"Type: \", type(df))\n    print(\"Shape: \", df.shape)\n    print(\"Columns: \", df.columns)\n    if head:\n        display(df.head())\n    else:\n        display(df)\n\ndef corr_vis(df, features, meas='AVERAGEKWH_raw'):\n    '''\n    Displays a corrrelation chart for the  specified features in the edf\n    '''\n    ## Create a blank dataframe that calculates all the correlations to TOG\n    vis = pd.DataFrame()\n    vis['feature'] = features\n    vis['spearman'] = [df[f].corr(df[meas], 'spearman') for f in features]\n    #[print(str(features[f]) + \": \" + str(spr['spearman'][f])) for f in range(len(features))]\n    \n    vis = vis.sort_values('spearman')\n    plt.figure(figsize=(6, 0.25*len(features)))\n    ax = sns.barplot(data=vis, y='feature', x='spearman', orient='h')\n    \n    ## Chart design\n    ax.set(xlabel='correlation')\n    ax.set(title='Correlation of all features to {meas}'.format(meas=meas)) \n    return vis",
      "outputs": [],
      "execution_count": null
    },
    {
      "cell_type": "markdown",
      "source": "# Importing GeoDataFrames\n\nCalifornia Counties and Boundarise sourced from https://data.ca.gov/dataset/ca-geographic-boundaries",
      "metadata": {
        "cell_id": "00002-0284bb3a-0097-4829-b31a-b5c75901adf2",
        "deepnote_cell_type": "markdown"
      }
    },
    {
      "cell_type": "code",
      "metadata": {
        "tags": [],
        "deepnote_to_be_reexecuted": false,
        "source_hash": "8fd16d92",
        "execution_millis": 0,
        "cell_id": "00003-712fd86c-19a1-4efa-8a69-a960434e342b",
        "execution_start": 1619132265455,
        "deepnote_cell_type": "code"
      },
      "source": "base = \"/datasets/team-red-residential-energy-consumption/datasets/team-red-residential-energy-consumption/Data/\"",
      "outputs": [],
      "execution_count": null
    },
    {
      "cell_type": "code",
      "metadata": {
        "deepnote_to_be_reexecuted": false,
        "source_hash": "358e5bfc",
        "execution_millis": 12748,
        "cell_id": "00004-961c079e-4cf8-4c37-8482-4a0873fbb224",
        "execution_start": 1619132266145,
        "deepnote_cell_type": "code"
      },
      "source": "cleaned_monthly_with_zip_and_citis_fn = base + \"cleaned_data/all-pge-with-nrel/transformed_pge-energy-consumption-with-nrel-solar_2013-2019_136968x35.shp\"\nzip_cities_monthly_pge_gdf = gpd.read_file(cleaned_monthly_with_zip_and_citis_fn)\n",
      "outputs": [],
      "execution_count": null
    },
    {
      "cell_type": "code",
      "metadata": {
        "deepnote_to_be_reexecuted": false,
        "source_hash": "f56db3a0",
        "execution_millis": 367,
        "cell_id": "00005-50c729ae-5d7b-44eb-8a69-778e7df1e7e8",
        "execution_start": 1619132278903,
        "deepnote_cell_type": "code"
      },
      "source": "rename_mapper ={\n    'TOTALCUSTO': 'TOTALCUSTO_raw',\n    'TOTALKWH_r': 'TOTALKWH_raw',\n    'AVERAGEKWH': 'AVERAGEKWH_raw',\n    'TOTALTHERM': 'TOTALTHERM_raw',\n    'AVERAGETHE': 'AVERAGETHERM_raw',\n    'Temperatur': 'Temperature_raw', \n    'Solar Zeni': 'Solar_Zenith_Angle_raw',\n    'TOTALCUS_1': 'TOTALCUS_std', \n    'TOTALKWH_s': 'TOTALKWH_std', \n    'AVERAGEK_1': 'AVERAGEKWH_std', \n    'TOTALTHE_1': 'TOTALTHERM_std', \n    'AVERAGET_1': 'AVERAGETHERM_std',\n    'Wind Spe_1': 'Wind_Speed_std', \n    'Temperat_1': 'Temperature_std',\n    'Solar Ze_1': 'Solar_Zenith_Angle_std', \n}\nzip_cities_monthly_pge_gdf = zip_cities_monthly_pge_gdf.rename(rename_mapper, axis=1)\nzip_cities_monthly_pge_gdf['Solar_Zenith_Angle_raw'] = pd.to_numeric(zip_cities_monthly_pge_gdf['Solar_Zenith_Angle_raw'])\nzip_cities_monthly_pge_gdf['Temperature_raw'] = pd.to_numeric(zip_cities_monthly_pge_gdf['Temperature_raw'])",
      "outputs": [],
      "execution_count": null
    },
    {
      "cell_type": "code",
      "metadata": {
        "deepnote_to_be_reexecuted": false,
        "source_hash": "81e5bf19",
        "execution_millis": 247,
        "cell_id": "00006-fea1c426-fdb1-41a8-a284-6263aa564b99",
        "execution_start": 1619132279273,
        "deepnote_cell_type": "code"
      },
      "source": "info(zip_cities_monthly_pge_gdf)",
      "outputs": [
        {
          "name": "stdout",
          "text": "Type:  <class 'geopandas.geodataframe.GeoDataFrame'>\nShape:  (136968, 36)\nColumns:  Index(['zip', 'city', 'state', 'latitude', 'longitude', 'timezone', 'dst',\n       'DATE', 'MONTH', 'YEAR', 'DAY', 'CUSTOMERCL', 'COMBINED',\n       'TOTALCUSTO_raw', 'TOTALKWH_raw', 'AVERAGEKWH_raw', 'TOTALTHERM_raw',\n       'AVERAGETHERM_raw', 'GHI_raw', 'DHI_raw', 'DNI_raw', 'Wind Speed',\n       'Temperature_raw', 'Solar_Zenith_Angle_raw', 'TOTALCUS_std',\n       'TOTALKWH_std', 'AVERAGEKWH_std', 'TOTALTHERM_std', 'AVERAGETHERM_std',\n       'GHI_std', 'DHI_std', 'DNI_std', 'Wind_Speed_std', 'Temperature_std',\n       'Solar_Zenith_Angle_std', 'geometry'],\n      dtype='object')\n",
          "output_type": "stream"
        },
        {
          "data": {
            "application/vnd.deepnote.dataframe.v2+json": {
              "error": "Traceback (most recent call last):\n  File \"/shared-libs/code/variable_explorer.py\", line 143, in dataframe_formatter\n    return { MIME_TYPE: describe_pd_dataframe(df) }\n  File \"/shared-libs/code/variable_explorer_helpers.py\", line 154, in describe_pd_dataframe\n    if (is_type_numeric(column.dtype)):\n  File \"/shared-libs/code/variable_explorer_helpers.py\", line 13, in is_type_numeric\n    return np.issubdtype(dtype, np.number)\n  File \"/shared-libs/python3.7/py/lib/python3.7/site-packages/numpy/core/numerictypes.py\", line 388, in issubdtype\n    arg1 = dtype(arg1).type\nTypeError: Cannot interpret '<geopandas.array.GeometryDtype object at 0x7f8cdef90e50>' as a data type\n"
            },
            "text/plain": "     zip      city state   latitude  longitude timezone dst        DATE  \\\n0  95717  Gold Run    CA  39.177026  -120.8451       -8   1  2013-01-01   \n1  95717  Gold Run    CA  39.177026  -120.8451       -8   1  2013-02-01   \n2  95717  Gold Run    CA  39.177026  -120.8451       -8   1  2013-03-01   \n3  95717  Gold Run    CA  39.177026  -120.8451       -8   1  2013-04-01   \n4  95717  Gold Run    CA  39.177026  -120.8451       -8   1  2013-05-01   \n\n   MONTH  YEAR  ...  AVERAGEKWH_std TOTALTHERM_std AVERAGETHERM_std   GHI_std  \\\n0      1  2013  ...       -0.590525       -0.46156        -0.348278 -1.198043   \n1      2  2013  ...       -0.590525       -0.46156        -0.348278 -0.621567   \n2      3  2013  ...       -0.590525       -0.46156        -0.348278 -0.341841   \n3      4  2013  ...       -0.590525       -0.46156        -0.348278  0.639561   \n4      5  2013  ...        0.278279       -0.46156        -0.348278  0.985208   \n\n    DHI_std   DNI_std  Wind_Speed_std  Temperature_std Solar_Zenith_Angle_std  \\\n0 -1.373894 -0.709183       -1.894812        -2.255195               1.283431   \n1 -0.990437 -0.041747       -1.837832        -1.881118               0.787489   \n2  0.775179 -0.762886       -1.841878        -1.193114               0.089457   \n3  0.659686  0.529226       -1.828112        -0.713287              -0.643372   \n4  0.972799  0.807632       -1.802339        -0.107015              -1.200288   \n\n                      geometry  \n0  POINT (-120.84510 39.17703)  \n1  POINT (-120.84510 39.17703)  \n2  POINT (-120.84510 39.17703)  \n3  POINT (-120.84510 39.17703)  \n4  POINT (-120.84510 39.17703)  \n\n[5 rows x 36 columns]",
            "text/html": "<div>\n<style scoped>\n    .dataframe tbody tr th:only-of-type {\n        vertical-align: middle;\n    }\n\n    .dataframe tbody tr th {\n        vertical-align: top;\n    }\n\n    .dataframe thead th {\n        text-align: right;\n    }\n</style>\n<table border=\"1\" class=\"dataframe\">\n  <thead>\n    <tr style=\"text-align: right;\">\n      <th></th>\n      <th>zip</th>\n      <th>city</th>\n      <th>state</th>\n      <th>latitude</th>\n      <th>longitude</th>\n      <th>timezone</th>\n      <th>dst</th>\n      <th>DATE</th>\n      <th>MONTH</th>\n      <th>YEAR</th>\n      <th>...</th>\n      <th>AVERAGEKWH_std</th>\n      <th>TOTALTHERM_std</th>\n      <th>AVERAGETHERM_std</th>\n      <th>GHI_std</th>\n      <th>DHI_std</th>\n      <th>DNI_std</th>\n      <th>Wind_Speed_std</th>\n      <th>Temperature_std</th>\n      <th>Solar_Zenith_Angle_std</th>\n      <th>geometry</th>\n    </tr>\n  </thead>\n  <tbody>\n    <tr>\n      <th>0</th>\n      <td>95717</td>\n      <td>Gold Run</td>\n      <td>CA</td>\n      <td>39.177026</td>\n      <td>-120.8451</td>\n      <td>-8</td>\n      <td>1</td>\n      <td>2013-01-01</td>\n      <td>1</td>\n      <td>2013</td>\n      <td>...</td>\n      <td>-0.590525</td>\n      <td>-0.46156</td>\n      <td>-0.348278</td>\n      <td>-1.198043</td>\n      <td>-1.373894</td>\n      <td>-0.709183</td>\n      <td>-1.894812</td>\n      <td>-2.255195</td>\n      <td>1.283431</td>\n      <td>POINT (-120.84510 39.17703)</td>\n    </tr>\n    <tr>\n      <th>1</th>\n      <td>95717</td>\n      <td>Gold Run</td>\n      <td>CA</td>\n      <td>39.177026</td>\n      <td>-120.8451</td>\n      <td>-8</td>\n      <td>1</td>\n      <td>2013-02-01</td>\n      <td>2</td>\n      <td>2013</td>\n      <td>...</td>\n      <td>-0.590525</td>\n      <td>-0.46156</td>\n      <td>-0.348278</td>\n      <td>-0.621567</td>\n      <td>-0.990437</td>\n      <td>-0.041747</td>\n      <td>-1.837832</td>\n      <td>-1.881118</td>\n      <td>0.787489</td>\n      <td>POINT (-120.84510 39.17703)</td>\n    </tr>\n    <tr>\n      <th>2</th>\n      <td>95717</td>\n      <td>Gold Run</td>\n      <td>CA</td>\n      <td>39.177026</td>\n      <td>-120.8451</td>\n      <td>-8</td>\n      <td>1</td>\n      <td>2013-03-01</td>\n      <td>3</td>\n      <td>2013</td>\n      <td>...</td>\n      <td>-0.590525</td>\n      <td>-0.46156</td>\n      <td>-0.348278</td>\n      <td>-0.341841</td>\n      <td>0.775179</td>\n      <td>-0.762886</td>\n      <td>-1.841878</td>\n      <td>-1.193114</td>\n      <td>0.089457</td>\n      <td>POINT (-120.84510 39.17703)</td>\n    </tr>\n    <tr>\n      <th>3</th>\n      <td>95717</td>\n      <td>Gold Run</td>\n      <td>CA</td>\n      <td>39.177026</td>\n      <td>-120.8451</td>\n      <td>-8</td>\n      <td>1</td>\n      <td>2013-04-01</td>\n      <td>4</td>\n      <td>2013</td>\n      <td>...</td>\n      <td>-0.590525</td>\n      <td>-0.46156</td>\n      <td>-0.348278</td>\n      <td>0.639561</td>\n      <td>0.659686</td>\n      <td>0.529226</td>\n      <td>-1.828112</td>\n      <td>-0.713287</td>\n      <td>-0.643372</td>\n      <td>POINT (-120.84510 39.17703)</td>\n    </tr>\n    <tr>\n      <th>4</th>\n      <td>95717</td>\n      <td>Gold Run</td>\n      <td>CA</td>\n      <td>39.177026</td>\n      <td>-120.8451</td>\n      <td>-8</td>\n      <td>1</td>\n      <td>2013-05-01</td>\n      <td>5</td>\n      <td>2013</td>\n      <td>...</td>\n      <td>0.278279</td>\n      <td>-0.46156</td>\n      <td>-0.348278</td>\n      <td>0.985208</td>\n      <td>0.972799</td>\n      <td>0.807632</td>\n      <td>-1.802339</td>\n      <td>-0.107015</td>\n      <td>-1.200288</td>\n      <td>POINT (-120.84510 39.17703)</td>\n    </tr>\n  </tbody>\n</table>\n<p>5 rows × 36 columns</p>\n</div>"
          },
          "metadata": {},
          "output_type": "display_data"
        }
      ],
      "execution_count": null
    },
    {
      "cell_type": "markdown",
      "source": "### Sanity check geographic plots\n\n#### California should look like California\n\n#### PG&E dataset matches pg&e customers\nPG&E service area reference: https://www.pge.com/mybusiness/customerservice/otherrequests/treetrimming/territory/",
      "metadata": {
        "cell_id": "00007-5db9dbed-a528-4a2f-8ac6-b1a90f166943",
        "deepnote_cell_type": "markdown"
      }
    },
    {
      "cell_type": "markdown",
      "source": "## Overlaying PG&E/NREL in Bay Area Only\n\nBay Area traditionally consists of [9 counties](https://wikitravel.org/en/Bay_Area_(California)).\n\n<img src='https://wikitravel.org/upload/shared//thumb/b/bc/Bayarea_map.png/900px-Bayarea_map.png' style=\"width: 300px;\">\n\n\nWe will define \"Bay Area\" as a box that encloses the following coordinates `(lat, long)`:\n\n- South West corner: `(36.897966, -123.433313)`\n\n- North East corner: `(38.593263, -121.381268)`\n\nWith these coordinates, we'll need to only consider data in the PG&E/NREL dataset that falls within this region.",
      "metadata": {
        "cell_id": "00008-35fe42f1-bb57-45a3-bd73-2995f2afc7b5",
        "deepnote_cell_type": "markdown"
      }
    },
    {
      "cell_type": "code",
      "metadata": {
        "deepnote_to_be_reexecuted": false,
        "source_hash": "38424f68",
        "execution_millis": 1,
        "cell_id": "00009-f24e1604-3336-4380-8765-a070ede0dcc7",
        "execution_start": 1619132279502,
        "deepnote_cell_type": "code"
      },
      "source": "approximate_bay_area_center_lat = 39.5769252\napproximate_bay_area_center_long = -122.2833322\n\n## for subsetting the ca counties\nbay_area_south_west_lat  = 36.897966    ## vertical\nbay_area_south_west_long = -123.433313 ## horizontal\nbay_area_north_east_lat  = 38.593263    ## vertical --> closer to north pole => higher values\nbay_area_north_east_long = -121.381268 ## horizontal --> west long < east long. west is more negative\n\n## for plotting boundaries\nbay_area_limit_south_west_lat  = 36.897966    ## vertical\nbay_area_limit_south_west_long = -123.75 ## horizontal\nbay_area_limit_north_east_lat  = 38.9    ## vertical --> closer to north pole => higher values\nbay_area_limit_north_east_long = -121.2 ## horizontal --> west long < east long. west is more negative\n",
      "outputs": [],
      "execution_count": null
    },
    {
      "cell_type": "markdown",
      "source": "### Filtering Bay Area Only Data\n",
      "metadata": {
        "tags": [],
        "cell_id": "00010-17fdd7b3-0f9f-4743-9741-364698984f09",
        "deepnote_cell_type": "markdown"
      }
    },
    {
      "cell_type": "markdown",
      "source": "#### Boxing the CA Counties Data",
      "metadata": {
        "cell_id": "00011-fef43a32-62ce-474a-bf1e-17ea7e2d26e1",
        "deepnote_cell_type": "markdown"
      }
    },
    {
      "cell_type": "markdown",
      "source": "#### Boxing the PG&E/NREL Data",
      "metadata": {
        "cell_id": "00012-997ed6e0-0c86-47c0-844f-523481484db7",
        "deepnote_cell_type": "markdown"
      }
    },
    {
      "cell_type": "code",
      "metadata": {
        "deepnote_to_be_reexecuted": false,
        "source_hash": "70addfcd",
        "execution_millis": 18,
        "cell_id": "00013-179bf726-942a-48be-94b3-8c94ad5d6d11",
        "execution_start": 1619132279503,
        "deepnote_cell_type": "code"
      },
      "source": "zip_cities_monthly_pge_gdf.columns",
      "outputs": [
        {
          "output_type": "execute_result",
          "execution_count": 12,
          "data": {
            "text/plain": "Index(['zip', 'city', 'state', 'latitude', 'longitude', 'timezone', 'dst',\n       'DATE', 'MONTH', 'YEAR', 'DAY', 'CUSTOMERCL', 'COMBINED',\n       'TOTALCUSTO_raw', 'TOTALKWH_raw', 'AVERAGEKWH_raw', 'TOTALTHERM_raw',\n       'AVERAGETHERM_raw', 'GHI_raw', 'DHI_raw', 'DNI_raw', 'Wind Speed',\n       'Temperature_raw', 'Solar_Zenith_Angle_raw', 'TOTALCUS_std',\n       'TOTALKWH_std', 'AVERAGEKWH_std', 'TOTALTHERM_std', 'AVERAGETHERM_std',\n       'GHI_std', 'DHI_std', 'DNI_std', 'Wind_Speed_std', 'Temperature_std',\n       'Solar_Zenith_Angle_std', 'geometry'],\n      dtype='object')"
          },
          "metadata": {}
        }
      ],
      "execution_count": null
    },
    {
      "cell_type": "code",
      "metadata": {
        "deepnote_to_be_reexecuted": false,
        "source_hash": "5707170a",
        "execution_millis": 174,
        "cell_id": "00014-05128f25-9a36-43f7-81ca-627a5ede1d16",
        "execution_start": 1619132279504,
        "deepnote_cell_type": "code"
      },
      "source": "## subset south west\nbay_area_monthly_pge_nrel = zip_cities_monthly_pge_gdf[ (bay_area_south_west_long <= zip_cities_monthly_pge_gdf['longitude']) & (bay_area_south_west_lat <= zip_cities_monthly_pge_gdf['latitude']) ]\n\n## subst north east\nbay_area_monthly_pge_nrel = bay_area_monthly_pge_nrel[ (bay_area_monthly_pge_nrel['longitude'] <= bay_area_north_east_long) & (bay_area_monthly_pge_nrel['latitude'] <= bay_area_north_east_lat) ]\n",
      "outputs": [],
      "execution_count": null
    },
    {
      "cell_type": "code",
      "metadata": {
        "deepnote_to_be_reexecuted": false,
        "source_hash": "99ac43bd",
        "execution_millis": 6,
        "cell_id": "00015-92c82b3c-23db-4152-8232-2ace693d1420",
        "execution_start": 1619132279725,
        "deepnote_cell_type": "code"
      },
      "source": "## Viewing how many measurements are the box\nbay_area_monthly_pge_nrel.shape",
      "outputs": [
        {
          "output_type": "execute_result",
          "execution_count": 14,
          "data": {
            "text/plain": "(56683, 36)"
          },
          "metadata": {}
        }
      ],
      "execution_count": null
    },
    {
      "cell_type": "code",
      "metadata": {
        "deepnote_to_be_reexecuted": false,
        "source_hash": "37ce86d0",
        "execution_millis": 47,
        "cell_id": "00016-350c27ee-9375-4ba0-819a-bb5391ff3a5a",
        "execution_start": 1619132279965,
        "deepnote_cell_type": "code"
      },
      "source": "bay_area_monthly_pge_nrel.columns\nraw_cols = [\"MONTH\", 'YEAR', 'zip', 'TOTALCUSTO_raw', 'TOTALKWH_raw', 'AVERAGEKWH_raw', 'TOTALTHERM_raw',\n       'AVERAGETHERM_raw', 'GHI_raw', 'DHI_raw', 'DNI_raw', 'Wind Speed',\n       'Temperature_raw', 'Solar_Zenith_Angle_raw']\nbay_area_monthly_pge_nrel_raw = bay_area_monthly_pge_nrel[raw_cols]\nbay_area_monthly_pge_nrel_raw.head()",
      "outputs": [
        {
          "output_type": "execute_result",
          "execution_count": 15,
          "data": {
            "application/vnd.deepnote.dataframe.v2+json": {
              "row_count": 5,
              "column_count": 14,
              "columns": [
                {
                  "name": "MONTH",
                  "dtype": "int64",
                  "stats": {
                    "unique_count": 3,
                    "nan_count": 0,
                    "min": "1",
                    "max": "3",
                    "histogram": [
                      {
                        "bin_start": 1,
                        "bin_end": 1.2,
                        "count": 2
                      },
                      {
                        "bin_start": 1.2,
                        "bin_end": 1.4,
                        "count": 0
                      },
                      {
                        "bin_start": 1.4,
                        "bin_end": 1.6,
                        "count": 0
                      },
                      {
                        "bin_start": 1.6,
                        "bin_end": 1.8,
                        "count": 0
                      },
                      {
                        "bin_start": 1.8,
                        "bin_end": 2,
                        "count": 0
                      },
                      {
                        "bin_start": 2,
                        "bin_end": 2.2,
                        "count": 2
                      },
                      {
                        "bin_start": 2.2,
                        "bin_end": 2.4000000000000004,
                        "count": 0
                      },
                      {
                        "bin_start": 2.4000000000000004,
                        "bin_end": 2.6,
                        "count": 0
                      },
                      {
                        "bin_start": 2.6,
                        "bin_end": 2.8,
                        "count": 0
                      },
                      {
                        "bin_start": 2.8,
                        "bin_end": 3,
                        "count": 1
                      }
                    ]
                  }
                },
                {
                  "name": "YEAR",
                  "dtype": "int64",
                  "stats": {
                    "unique_count": 1,
                    "nan_count": 0,
                    "min": "2013",
                    "max": "2013",
                    "histogram": [
                      {
                        "bin_start": 2012.5,
                        "bin_end": 2012.6,
                        "count": 0
                      },
                      {
                        "bin_start": 2012.6,
                        "bin_end": 2012.7,
                        "count": 0
                      },
                      {
                        "bin_start": 2012.7,
                        "bin_end": 2012.8,
                        "count": 0
                      },
                      {
                        "bin_start": 2012.8,
                        "bin_end": 2012.9,
                        "count": 0
                      },
                      {
                        "bin_start": 2012.9,
                        "bin_end": 2013,
                        "count": 0
                      },
                      {
                        "bin_start": 2013,
                        "bin_end": 2013.1,
                        "count": 5
                      },
                      {
                        "bin_start": 2013.1,
                        "bin_end": 2013.2,
                        "count": 0
                      },
                      {
                        "bin_start": 2013.2,
                        "bin_end": 2013.3,
                        "count": 0
                      },
                      {
                        "bin_start": 2013.3,
                        "bin_end": 2013.4,
                        "count": 0
                      },
                      {
                        "bin_start": 2013.4,
                        "bin_end": 2013.5,
                        "count": 0
                      }
                    ]
                  }
                },
                {
                  "name": "zip",
                  "dtype": "int64",
                  "stats": {
                    "unique_count": 1,
                    "nan_count": 0,
                    "min": "94564",
                    "max": "94564",
                    "histogram": [
                      {
                        "bin_start": 94563.5,
                        "bin_end": 94563.6,
                        "count": 0
                      },
                      {
                        "bin_start": 94563.6,
                        "bin_end": 94563.7,
                        "count": 0
                      },
                      {
                        "bin_start": 94563.7,
                        "bin_end": 94563.8,
                        "count": 0
                      },
                      {
                        "bin_start": 94563.8,
                        "bin_end": 94563.9,
                        "count": 0
                      },
                      {
                        "bin_start": 94563.9,
                        "bin_end": 94564,
                        "count": 0
                      },
                      {
                        "bin_start": 94564,
                        "bin_end": 94564.1,
                        "count": 5
                      },
                      {
                        "bin_start": 94564.1,
                        "bin_end": 94564.2,
                        "count": 0
                      },
                      {
                        "bin_start": 94564.2,
                        "bin_end": 94564.3,
                        "count": 0
                      },
                      {
                        "bin_start": 94564.3,
                        "bin_end": 94564.4,
                        "count": 0
                      },
                      {
                        "bin_start": 94564.4,
                        "bin_end": 94564.5,
                        "count": 0
                      }
                    ]
                  }
                },
                {
                  "name": "TOTALCUSTO_raw",
                  "dtype": "int64",
                  "stats": {
                    "unique_count": 5,
                    "nan_count": 0,
                    "min": "6166",
                    "max": "6727",
                    "histogram": [
                      {
                        "bin_start": 6166,
                        "bin_end": 6222.1,
                        "count": 2
                      },
                      {
                        "bin_start": 6222.1,
                        "bin_end": 6278.2,
                        "count": 0
                      },
                      {
                        "bin_start": 6278.2,
                        "bin_end": 6334.3,
                        "count": 0
                      },
                      {
                        "bin_start": 6334.3,
                        "bin_end": 6390.4,
                        "count": 0
                      },
                      {
                        "bin_start": 6390.4,
                        "bin_end": 6446.5,
                        "count": 0
                      },
                      {
                        "bin_start": 6446.5,
                        "bin_end": 6502.6,
                        "count": 0
                      },
                      {
                        "bin_start": 6502.6,
                        "bin_end": 6558.7,
                        "count": 0
                      },
                      {
                        "bin_start": 6558.7,
                        "bin_end": 6614.8,
                        "count": 0
                      },
                      {
                        "bin_start": 6614.8,
                        "bin_end": 6670.9,
                        "count": 0
                      },
                      {
                        "bin_start": 6670.9,
                        "bin_end": 6727,
                        "count": 3
                      }
                    ]
                  }
                },
                {
                  "name": "TOTALKWH_raw",
                  "dtype": "int64",
                  "stats": {
                    "unique_count": 4,
                    "nan_count": 0,
                    "min": "0",
                    "max": "3787580",
                    "histogram": [
                      {
                        "bin_start": 0,
                        "bin_end": 378758,
                        "count": 2
                      },
                      {
                        "bin_start": 378758,
                        "bin_end": 757516,
                        "count": 0
                      },
                      {
                        "bin_start": 757516,
                        "bin_end": 1136274,
                        "count": 0
                      },
                      {
                        "bin_start": 1136274,
                        "bin_end": 1515032,
                        "count": 0
                      },
                      {
                        "bin_start": 1515032,
                        "bin_end": 1893790,
                        "count": 0
                      },
                      {
                        "bin_start": 1893790,
                        "bin_end": 2272548,
                        "count": 0
                      },
                      {
                        "bin_start": 2272548,
                        "bin_end": 2651306,
                        "count": 0
                      },
                      {
                        "bin_start": 2651306,
                        "bin_end": 3030064,
                        "count": 0
                      },
                      {
                        "bin_start": 3030064,
                        "bin_end": 3408822,
                        "count": 2
                      },
                      {
                        "bin_start": 3408822,
                        "bin_end": 3787580,
                        "count": 1
                      }
                    ]
                  }
                },
                {
                  "name": "AVERAGEKWH_raw",
                  "dtype": "int64",
                  "stats": {
                    "unique_count": 4,
                    "nan_count": 0,
                    "min": "0",
                    "max": "563",
                    "histogram": [
                      {
                        "bin_start": 0,
                        "bin_end": 56.3,
                        "count": 2
                      },
                      {
                        "bin_start": 56.3,
                        "bin_end": 112.6,
                        "count": 0
                      },
                      {
                        "bin_start": 112.6,
                        "bin_end": 168.89999999999998,
                        "count": 0
                      },
                      {
                        "bin_start": 168.89999999999998,
                        "bin_end": 225.2,
                        "count": 0
                      },
                      {
                        "bin_start": 225.2,
                        "bin_end": 281.5,
                        "count": 0
                      },
                      {
                        "bin_start": 281.5,
                        "bin_end": 337.79999999999995,
                        "count": 0
                      },
                      {
                        "bin_start": 337.79999999999995,
                        "bin_end": 394.09999999999997,
                        "count": 0
                      },
                      {
                        "bin_start": 394.09999999999997,
                        "bin_end": 450.4,
                        "count": 0
                      },
                      {
                        "bin_start": 450.4,
                        "bin_end": 506.7,
                        "count": 2
                      },
                      {
                        "bin_start": 506.7,
                        "bin_end": 563,
                        "count": 1
                      }
                    ]
                  }
                },
                {
                  "name": "TOTALTHERM_raw",
                  "dtype": "int64",
                  "stats": {
                    "unique_count": 3,
                    "nan_count": 0,
                    "min": "0",
                    "max": "562494",
                    "histogram": [
                      {
                        "bin_start": 0,
                        "bin_end": 56249.4,
                        "count": 3
                      },
                      {
                        "bin_start": 56249.4,
                        "bin_end": 112498.8,
                        "count": 0
                      },
                      {
                        "bin_start": 112498.8,
                        "bin_end": 168748.2,
                        "count": 0
                      },
                      {
                        "bin_start": 168748.2,
                        "bin_end": 224997.6,
                        "count": 0
                      },
                      {
                        "bin_start": 224997.6,
                        "bin_end": 281247,
                        "count": 0
                      },
                      {
                        "bin_start": 281247,
                        "bin_end": 337496.4,
                        "count": 0
                      },
                      {
                        "bin_start": 337496.4,
                        "bin_end": 393745.8,
                        "count": 1
                      },
                      {
                        "bin_start": 393745.8,
                        "bin_end": 449995.2,
                        "count": 0
                      },
                      {
                        "bin_start": 449995.2,
                        "bin_end": 506244.60000000003,
                        "count": 0
                      },
                      {
                        "bin_start": 506244.60000000003,
                        "bin_end": 562494,
                        "count": 1
                      }
                    ]
                  }
                },
                {
                  "name": "AVERAGETHERM_raw",
                  "dtype": "int64",
                  "stats": {
                    "unique_count": 3,
                    "nan_count": 0,
                    "min": "0",
                    "max": "91",
                    "histogram": [
                      {
                        "bin_start": 0,
                        "bin_end": 9.1,
                        "count": 3
                      },
                      {
                        "bin_start": 9.1,
                        "bin_end": 18.2,
                        "count": 0
                      },
                      {
                        "bin_start": 18.2,
                        "bin_end": 27.299999999999997,
                        "count": 0
                      },
                      {
                        "bin_start": 27.299999999999997,
                        "bin_end": 36.4,
                        "count": 0
                      },
                      {
                        "bin_start": 36.4,
                        "bin_end": 45.5,
                        "count": 0
                      },
                      {
                        "bin_start": 45.5,
                        "bin_end": 54.599999999999994,
                        "count": 0
                      },
                      {
                        "bin_start": 54.599999999999994,
                        "bin_end": 63.699999999999996,
                        "count": 1
                      },
                      {
                        "bin_start": 63.699999999999996,
                        "bin_end": 72.8,
                        "count": 0
                      },
                      {
                        "bin_start": 72.8,
                        "bin_end": 81.89999999999999,
                        "count": 0
                      },
                      {
                        "bin_start": 81.89999999999999,
                        "bin_end": 91,
                        "count": 1
                      }
                    ]
                  }
                },
                {
                  "name": "GHI_raw",
                  "dtype": "object",
                  "stats": {
                    "unique_count": 3,
                    "nan_count": 0,
                    "categories": [
                      {
                        "name": "116.13037634408602",
                        "count": 2
                      },
                      {
                        "name": "162.37946428571428",
                        "count": 2
                      },
                      {
                        "name": "190.54569892473117",
                        "count": 1
                      }
                    ]
                  }
                },
                {
                  "name": "DHI_raw",
                  "dtype": "object",
                  "stats": {
                    "unique_count": 3,
                    "nan_count": 0,
                    "categories": [
                      {
                        "name": "29.18010752688172",
                        "count": 2
                      },
                      {
                        "name": "38.666666666666664",
                        "count": 2
                      },
                      {
                        "name": "70.01209677419355",
                        "count": 1
                      }
                    ]
                  }
                },
                {
                  "name": "DNI_raw",
                  "dtype": "object",
                  "stats": {
                    "unique_count": 3,
                    "nan_count": 0,
                    "categories": [
                      {
                        "name": "222.91935483870967",
                        "count": 2
                      },
                      {
                        "name": "262.79017857142856",
                        "count": 2
                      },
                      {
                        "name": "211.2741935483871",
                        "count": 1
                      }
                    ]
                  }
                },
                {
                  "name": "Wind Speed",
                  "dtype": "object",
                  "stats": {
                    "unique_count": 3,
                    "nan_count": 0,
                    "categories": [
                      {
                        "name": "2.123252688172044",
                        "count": 2
                      },
                      {
                        "name": "2.1078869047619047",
                        "count": 2
                      },
                      {
                        "name": "2.017607526881722",
                        "count": 1
                      }
                    ]
                  }
                },
                {
                  "name": "Temperature_raw",
                  "dtype": "float64",
                  "stats": {
                    "unique_count": 3,
                    "nan_count": 0,
                    "min": "7.276881720430108",
                    "max": "11.189516129032258",
                    "histogram": [
                      {
                        "bin_start": 7.276881720430108,
                        "bin_end": 7.668145161290323,
                        "count": 2
                      },
                      {
                        "bin_start": 7.668145161290323,
                        "bin_end": 8.059408602150539,
                        "count": 0
                      },
                      {
                        "bin_start": 8.059408602150539,
                        "bin_end": 8.450672043010753,
                        "count": 0
                      },
                      {
                        "bin_start": 8.450672043010753,
                        "bin_end": 8.841935483870968,
                        "count": 0
                      },
                      {
                        "bin_start": 8.841935483870968,
                        "bin_end": 9.233198924731184,
                        "count": 2
                      },
                      {
                        "bin_start": 9.233198924731184,
                        "bin_end": 9.624462365591398,
                        "count": 0
                      },
                      {
                        "bin_start": 9.624462365591398,
                        "bin_end": 10.015725806451613,
                        "count": 0
                      },
                      {
                        "bin_start": 10.015725806451613,
                        "bin_end": 10.406989247311827,
                        "count": 0
                      },
                      {
                        "bin_start": 10.406989247311827,
                        "bin_end": 10.798252688172044,
                        "count": 0
                      },
                      {
                        "bin_start": 10.798252688172044,
                        "bin_end": 11.189516129032258,
                        "count": 1
                      }
                    ]
                  }
                },
                {
                  "name": "Solar_Zenith_Angle_raw",
                  "dtype": "float64",
                  "stats": {
                    "unique_count": 3,
                    "nan_count": 0,
                    "min": "91.10997311827974",
                    "max": "105.58174731182795",
                    "histogram": [
                      {
                        "bin_start": 91.10997311827974,
                        "bin_end": 92.55715053763456,
                        "count": 1
                      },
                      {
                        "bin_start": 92.55715053763456,
                        "bin_end": 94.00432795698939,
                        "count": 0
                      },
                      {
                        "bin_start": 94.00432795698939,
                        "bin_end": 95.4515053763442,
                        "count": 0
                      },
                      {
                        "bin_start": 95.4515053763442,
                        "bin_end": 96.89868279569903,
                        "count": 0
                      },
                      {
                        "bin_start": 96.89868279569903,
                        "bin_end": 98.34586021505385,
                        "count": 0
                      },
                      {
                        "bin_start": 98.34586021505385,
                        "bin_end": 99.79303763440868,
                        "count": 2
                      },
                      {
                        "bin_start": 99.79303763440868,
                        "bin_end": 101.24021505376349,
                        "count": 0
                      },
                      {
                        "bin_start": 101.24021505376349,
                        "bin_end": 102.68739247311831,
                        "count": 0
                      },
                      {
                        "bin_start": 102.68739247311831,
                        "bin_end": 104.13456989247314,
                        "count": 0
                      },
                      {
                        "bin_start": 104.13456989247314,
                        "bin_end": 105.58174731182795,
                        "count": 2
                      }
                    ]
                  }
                },
                {
                  "name": "_deepnote_index_column",
                  "dtype": "int64"
                }
              ],
              "rows_top": [
                {
                  "MONTH": 1,
                  "YEAR": 2013,
                  "zip": 94564,
                  "TOTALCUSTO_raw": 6727,
                  "TOTALKWH_raw": 3787580,
                  "AVERAGEKWH_raw": 563,
                  "TOTALTHERM_raw": 0,
                  "AVERAGETHERM_raw": 0,
                  "GHI_raw": "116.13037634408602",
                  "DHI_raw": "29.18010752688172",
                  "DNI_raw": "222.91935483870967",
                  "Wind Speed": "2.123252688172044",
                  "Temperature_raw": 7.276881720430108,
                  "Solar_Zenith_Angle_raw": 105.58174731182795,
                  "_deepnote_index_column": 94
                },
                {
                  "MONTH": 2,
                  "YEAR": 2013,
                  "zip": 94564,
                  "TOTALCUSTO_raw": 6725,
                  "TOTALKWH_raw": 3086143,
                  "AVERAGEKWH_raw": 459,
                  "TOTALTHERM_raw": 0,
                  "AVERAGETHERM_raw": 0,
                  "GHI_raw": "162.37946428571428",
                  "DHI_raw": "38.666666666666664",
                  "DNI_raw": "262.79017857142856",
                  "Wind Speed": "2.1078869047619047",
                  "Temperature_raw": 9.022321428571429,
                  "Solar_Zenith_Angle_raw": 99.57782738095231,
                  "_deepnote_index_column": 95
                },
                {
                  "MONTH": 3,
                  "YEAR": 2013,
                  "zip": 94564,
                  "TOTALCUSTO_raw": 6715,
                  "TOTALKWH_raw": 3091798,
                  "AVERAGEKWH_raw": 460,
                  "TOTALTHERM_raw": 0,
                  "AVERAGETHERM_raw": 0,
                  "GHI_raw": "190.54569892473117",
                  "DHI_raw": "70.01209677419355",
                  "DNI_raw": "211.2741935483871",
                  "Wind Speed": "2.017607526881722",
                  "Temperature_raw": 11.189516129032258,
                  "Solar_Zenith_Angle_raw": 91.10997311827974,
                  "_deepnote_index_column": 96
                },
                {
                  "MONTH": 1,
                  "YEAR": 2013,
                  "zip": 94564,
                  "TOTALCUSTO_raw": 6166,
                  "TOTALKWH_raw": 0,
                  "AVERAGEKWH_raw": 0,
                  "TOTALTHERM_raw": 562494,
                  "AVERAGETHERM_raw": 91,
                  "GHI_raw": "116.13037634408602",
                  "DHI_raw": "29.18010752688172",
                  "DNI_raw": "222.91935483870967",
                  "Wind Speed": "2.123252688172044",
                  "Temperature_raw": 7.276881720430108,
                  "Solar_Zenith_Angle_raw": 105.58174731182795,
                  "_deepnote_index_column": 97
                },
                {
                  "MONTH": 2,
                  "YEAR": 2013,
                  "zip": 94564,
                  "TOTALCUSTO_raw": 6172,
                  "TOTALKWH_raw": 0,
                  "AVERAGEKWH_raw": 0,
                  "TOTALTHERM_raw": 388246,
                  "AVERAGETHERM_raw": 63,
                  "GHI_raw": "162.37946428571428",
                  "DHI_raw": "38.666666666666664",
                  "DNI_raw": "262.79017857142856",
                  "Wind Speed": "2.1078869047619047",
                  "Temperature_raw": 9.022321428571429,
                  "Solar_Zenith_Angle_raw": 99.57782738095231,
                  "_deepnote_index_column": 98
                }
              ],
              "rows_bottom": null
            },
            "text/plain": "    MONTH  YEAR    zip  TOTALCUSTO_raw  TOTALKWH_raw  AVERAGEKWH_raw  \\\n94      1  2013  94564            6727       3787580             563   \n95      2  2013  94564            6725       3086143             459   \n96      3  2013  94564            6715       3091798             460   \n97      1  2013  94564            6166             0               0   \n98      2  2013  94564            6172             0               0   \n\n    TOTALTHERM_raw  AVERAGETHERM_raw             GHI_raw             DHI_raw  \\\n94               0                 0  116.13037634408602   29.18010752688172   \n95               0                 0  162.37946428571428  38.666666666666664   \n96               0                 0  190.54569892473117   70.01209677419355   \n97          562494                91  116.13037634408602   29.18010752688172   \n98          388246                63  162.37946428571428  38.666666666666664   \n\n               DNI_raw          Wind Speed  Temperature_raw  \\\n94  222.91935483870967   2.123252688172044         7.276882   \n95  262.79017857142856  2.1078869047619047         9.022321   \n96   211.2741935483871   2.017607526881722        11.189516   \n97  222.91935483870967   2.123252688172044         7.276882   \n98  262.79017857142856  2.1078869047619047         9.022321   \n\n    Solar_Zenith_Angle_raw  \n94              105.581747  \n95               99.577827  \n96               91.109973  \n97              105.581747  \n98               99.577827  ",
            "text/html": "<div>\n<style scoped>\n    .dataframe tbody tr th:only-of-type {\n        vertical-align: middle;\n    }\n\n    .dataframe tbody tr th {\n        vertical-align: top;\n    }\n\n    .dataframe thead th {\n        text-align: right;\n    }\n</style>\n<table border=\"1\" class=\"dataframe\">\n  <thead>\n    <tr style=\"text-align: right;\">\n      <th></th>\n      <th>MONTH</th>\n      <th>YEAR</th>\n      <th>zip</th>\n      <th>TOTALCUSTO_raw</th>\n      <th>TOTALKWH_raw</th>\n      <th>AVERAGEKWH_raw</th>\n      <th>TOTALTHERM_raw</th>\n      <th>AVERAGETHERM_raw</th>\n      <th>GHI_raw</th>\n      <th>DHI_raw</th>\n      <th>DNI_raw</th>\n      <th>Wind Speed</th>\n      <th>Temperature_raw</th>\n      <th>Solar_Zenith_Angle_raw</th>\n    </tr>\n  </thead>\n  <tbody>\n    <tr>\n      <th>94</th>\n      <td>1</td>\n      <td>2013</td>\n      <td>94564</td>\n      <td>6727</td>\n      <td>3787580</td>\n      <td>563</td>\n      <td>0</td>\n      <td>0</td>\n      <td>116.13037634408602</td>\n      <td>29.18010752688172</td>\n      <td>222.91935483870967</td>\n      <td>2.123252688172044</td>\n      <td>7.276882</td>\n      <td>105.581747</td>\n    </tr>\n    <tr>\n      <th>95</th>\n      <td>2</td>\n      <td>2013</td>\n      <td>94564</td>\n      <td>6725</td>\n      <td>3086143</td>\n      <td>459</td>\n      <td>0</td>\n      <td>0</td>\n      <td>162.37946428571428</td>\n      <td>38.666666666666664</td>\n      <td>262.79017857142856</td>\n      <td>2.1078869047619047</td>\n      <td>9.022321</td>\n      <td>99.577827</td>\n    </tr>\n    <tr>\n      <th>96</th>\n      <td>3</td>\n      <td>2013</td>\n      <td>94564</td>\n      <td>6715</td>\n      <td>3091798</td>\n      <td>460</td>\n      <td>0</td>\n      <td>0</td>\n      <td>190.54569892473117</td>\n      <td>70.01209677419355</td>\n      <td>211.2741935483871</td>\n      <td>2.017607526881722</td>\n      <td>11.189516</td>\n      <td>91.109973</td>\n    </tr>\n    <tr>\n      <th>97</th>\n      <td>1</td>\n      <td>2013</td>\n      <td>94564</td>\n      <td>6166</td>\n      <td>0</td>\n      <td>0</td>\n      <td>562494</td>\n      <td>91</td>\n      <td>116.13037634408602</td>\n      <td>29.18010752688172</td>\n      <td>222.91935483870967</td>\n      <td>2.123252688172044</td>\n      <td>7.276882</td>\n      <td>105.581747</td>\n    </tr>\n    <tr>\n      <th>98</th>\n      <td>2</td>\n      <td>2013</td>\n      <td>94564</td>\n      <td>6172</td>\n      <td>0</td>\n      <td>0</td>\n      <td>388246</td>\n      <td>63</td>\n      <td>162.37946428571428</td>\n      <td>38.666666666666664</td>\n      <td>262.79017857142856</td>\n      <td>2.1078869047619047</td>\n      <td>9.022321</td>\n      <td>99.577827</td>\n    </tr>\n  </tbody>\n</table>\n</div>"
          },
          "metadata": {}
        }
      ],
      "execution_count": null
    },
    {
      "cell_type": "code",
      "metadata": {
        "tags": [],
        "deepnote_to_be_reexecuted": false,
        "source_hash": "bd158485",
        "execution_millis": 2,
        "cell_id": "00017-e2df01ef-4cb2-4b67-9991-52a6d82225a2",
        "execution_start": 1619132282399,
        "deepnote_cell_type": "code"
      },
      "source": "measurment_cols = [\"MONTH\",'TOTALCUSTO_raw', 'TOTALKWH_raw', 'AVERAGEKWH_raw', 'TOTALTHERM_raw',\n       'AVERAGETHERM_raw', 'GHI_raw', 'DHI_raw', 'DNI_raw', 'Wind Speed',\n       'Temperature_raw', 'Solar_Zenith_Angle_raw', 'TOTALCUS_std',\n       'TOTALKWH_std', 'AVERAGEKWH_std', 'TOTALTHERM_std', 'AVERAGETHERM_std',\n       'GHI_std', 'DHI_std', 'DNI_std', 'Wind_Speed_std', 'Temperature_std',\n       'Solar_Zenith_Angle_std']",
      "outputs": [],
      "execution_count": null
    },
    {
      "cell_type": "code",
      "metadata": {
        "deepnote_to_be_reexecuted": false,
        "source_hash": "46a8c5e",
        "execution_millis": 1232,
        "cell_id": "00018-8ef79bb7-ff90-4439-97b1-81a5d84d5a62",
        "execution_start": 1619132283102,
        "deepnote_cell_type": "code"
      },
      "source": "corr_vis(bay_area_monthly_pge_nrel, measurment_cols, meas='AVERAGETHERM_std')",
      "outputs": [
        {
          "output_type": "execute_result",
          "execution_count": 17,
          "data": {
            "application/vnd.deepnote.dataframe.v2+json": {
              "row_count": 23,
              "column_count": 2,
              "columns": [
                {
                  "name": "feature",
                  "dtype": "object",
                  "stats": {
                    "unique_count": 23,
                    "nan_count": 0,
                    "categories": [
                      {
                        "name": "AVERAGEKWH_std",
                        "count": 1
                      },
                      {
                        "name": "AVERAGEKWH_raw",
                        "count": 1
                      },
                      {
                        "name": "21 others",
                        "count": 21
                      }
                    ]
                  }
                },
                {
                  "name": "spearman",
                  "dtype": "float64",
                  "stats": {
                    "unique_count": 18,
                    "nan_count": 0,
                    "min": "-0.7738148146040801",
                    "max": "1.0",
                    "histogram": [
                      {
                        "bin_start": -0.7738148146040801,
                        "bin_end": -0.5964333331436721,
                        "count": 4
                      },
                      {
                        "bin_start": -0.5964333331436721,
                        "bin_end": -0.4190518516832641,
                        "count": 0
                      },
                      {
                        "bin_start": -0.4190518516832641,
                        "bin_end": -0.2416703702228561,
                        "count": 0
                      },
                      {
                        "bin_start": -0.2416703702228561,
                        "bin_end": -0.0642888887624481,
                        "count": 10
                      },
                      {
                        "bin_start": -0.0642888887624481,
                        "bin_end": 0.1130925926979599,
                        "count": 3
                      },
                      {
                        "bin_start": 0.1130925926979599,
                        "bin_end": 0.2904740741583679,
                        "count": 2
                      },
                      {
                        "bin_start": 0.2904740741583679,
                        "bin_end": 0.4678555556187759,
                        "count": 0
                      },
                      {
                        "bin_start": 0.4678555556187759,
                        "bin_end": 0.6452370370791839,
                        "count": 0
                      },
                      {
                        "bin_start": 0.6452370370791839,
                        "bin_end": 0.8226185185395919,
                        "count": 0
                      },
                      {
                        "bin_start": 0.8226185185395919,
                        "bin_end": 1,
                        "count": 4
                      }
                    ]
                  }
                },
                {
                  "name": "_deepnote_index_column",
                  "dtype": "int64"
                }
              ],
              "rows_top": [
                {
                  "feature": "AVERAGEKWH_std",
                  "spearman": -0.7738148146040801,
                  "_deepnote_index_column": 14
                },
                {
                  "feature": "AVERAGEKWH_raw",
                  "spearman": -0.7738148146040801,
                  "_deepnote_index_column": 3
                },
                {
                  "feature": "TOTALKWH_raw",
                  "spearman": -0.7738145932849931,
                  "_deepnote_index_column": 2
                },
                {
                  "feature": "TOTALKWH_std",
                  "spearman": -0.7738145932849931,
                  "_deepnote_index_column": 13
                },
                {
                  "feature": "Temperature_raw",
                  "spearman": -0.18640983062038385,
                  "_deepnote_index_column": 10
                },
                {
                  "feature": "Temperature_std",
                  "spearman": -0.18640981795104547,
                  "_deepnote_index_column": 21
                },
                {
                  "feature": "GHI_std",
                  "spearman": -0.1714515181197754,
                  "_deepnote_index_column": 17
                },
                {
                  "feature": "DNI_std",
                  "spearman": -0.16495781421215802,
                  "_deepnote_index_column": 19
                },
                {
                  "feature": "DNI_raw",
                  "spearman": -0.16234508199214773,
                  "_deepnote_index_column": 8
                },
                {
                  "feature": "DHI_std",
                  "spearman": -0.12862461941749462,
                  "_deepnote_index_column": 18
                },
                {
                  "feature": "DHI_raw",
                  "spearman": -0.12649394017840945,
                  "_deepnote_index_column": 7
                },
                {
                  "feature": "Wind Speed",
                  "spearman": -0.09314959514790608,
                  "_deepnote_index_column": 9
                },
                {
                  "feature": "Wind_Speed_std",
                  "spearman": -0.09314951569687603,
                  "_deepnote_index_column": 20
                },
                {
                  "feature": "GHI_raw",
                  "spearman": -0.07411725145169921,
                  "_deepnote_index_column": 6
                },
                {
                  "feature": "MONTH",
                  "spearman": -0.04200501529433235,
                  "_deepnote_index_column": 0
                },
                {
                  "feature": "TOTALCUS_std",
                  "spearman": 0.059369127401168925,
                  "_deepnote_index_column": 12
                },
                {
                  "feature": "TOTALCUSTO_raw",
                  "spearman": 0.059369127401168925,
                  "_deepnote_index_column": 1
                },
                {
                  "feature": "Solar_Zenith_Angle_std",
                  "spearman": 0.17017962686342772,
                  "_deepnote_index_column": 22
                },
                {
                  "feature": "Solar_Zenith_Angle_raw",
                  "spearman": 0.1701796477008221,
                  "_deepnote_index_column": 11
                },
                {
                  "feature": "TOTALTHERM_std",
                  "spearman": 0.9384897317321567,
                  "_deepnote_index_column": 15
                },
                {
                  "feature": "TOTALTHERM_raw",
                  "spearman": 0.9384897317321567,
                  "_deepnote_index_column": 4
                },
                {
                  "feature": "AVERAGETHERM_raw",
                  "spearman": 1,
                  "_deepnote_index_column": 5
                },
                {
                  "feature": "AVERAGETHERM_std",
                  "spearman": 1,
                  "_deepnote_index_column": 16
                }
              ],
              "rows_bottom": null
            },
            "text/plain": "                   feature  spearman\n14          AVERAGEKWH_std -0.773815\n3           AVERAGEKWH_raw -0.773815\n2             TOTALKWH_raw -0.773815\n13            TOTALKWH_std -0.773815\n10         Temperature_raw -0.186410\n21         Temperature_std -0.186410\n17                 GHI_std -0.171452\n19                 DNI_std -0.164958\n8                  DNI_raw -0.162345\n18                 DHI_std -0.128625\n7                  DHI_raw -0.126494\n9               Wind Speed -0.093150\n20          Wind_Speed_std -0.093150\n6                  GHI_raw -0.074117\n0                    MONTH -0.042005\n12            TOTALCUS_std  0.059369\n1           TOTALCUSTO_raw  0.059369\n22  Solar_Zenith_Angle_std  0.170180\n11  Solar_Zenith_Angle_raw  0.170180\n15          TOTALTHERM_std  0.938490\n4           TOTALTHERM_raw  0.938490\n5         AVERAGETHERM_raw  1.000000\n16        AVERAGETHERM_std  1.000000",
            "text/html": "<div>\n<style scoped>\n    .dataframe tbody tr th:only-of-type {\n        vertical-align: middle;\n    }\n\n    .dataframe tbody tr th {\n        vertical-align: top;\n    }\n\n    .dataframe thead th {\n        text-align: right;\n    }\n</style>\n<table border=\"1\" class=\"dataframe\">\n  <thead>\n    <tr style=\"text-align: right;\">\n      <th></th>\n      <th>feature</th>\n      <th>spearman</th>\n    </tr>\n  </thead>\n  <tbody>\n    <tr>\n      <th>14</th>\n      <td>AVERAGEKWH_std</td>\n      <td>-0.773815</td>\n    </tr>\n    <tr>\n      <th>3</th>\n      <td>AVERAGEKWH_raw</td>\n      <td>-0.773815</td>\n    </tr>\n    <tr>\n      <th>2</th>\n      <td>TOTALKWH_raw</td>\n      <td>-0.773815</td>\n    </tr>\n    <tr>\n      <th>13</th>\n      <td>TOTALKWH_std</td>\n      <td>-0.773815</td>\n    </tr>\n    <tr>\n      <th>10</th>\n      <td>Temperature_raw</td>\n      <td>-0.186410</td>\n    </tr>\n    <tr>\n      <th>21</th>\n      <td>Temperature_std</td>\n      <td>-0.186410</td>\n    </tr>\n    <tr>\n      <th>17</th>\n      <td>GHI_std</td>\n      <td>-0.171452</td>\n    </tr>\n    <tr>\n      <th>19</th>\n      <td>DNI_std</td>\n      <td>-0.164958</td>\n    </tr>\n    <tr>\n      <th>8</th>\n      <td>DNI_raw</td>\n      <td>-0.162345</td>\n    </tr>\n    <tr>\n      <th>18</th>\n      <td>DHI_std</td>\n      <td>-0.128625</td>\n    </tr>\n    <tr>\n      <th>7</th>\n      <td>DHI_raw</td>\n      <td>-0.126494</td>\n    </tr>\n    <tr>\n      <th>9</th>\n      <td>Wind Speed</td>\n      <td>-0.093150</td>\n    </tr>\n    <tr>\n      <th>20</th>\n      <td>Wind_Speed_std</td>\n      <td>-0.093150</td>\n    </tr>\n    <tr>\n      <th>6</th>\n      <td>GHI_raw</td>\n      <td>-0.074117</td>\n    </tr>\n    <tr>\n      <th>0</th>\n      <td>MONTH</td>\n      <td>-0.042005</td>\n    </tr>\n    <tr>\n      <th>12</th>\n      <td>TOTALCUS_std</td>\n      <td>0.059369</td>\n    </tr>\n    <tr>\n      <th>1</th>\n      <td>TOTALCUSTO_raw</td>\n      <td>0.059369</td>\n    </tr>\n    <tr>\n      <th>22</th>\n      <td>Solar_Zenith_Angle_std</td>\n      <td>0.170180</td>\n    </tr>\n    <tr>\n      <th>11</th>\n      <td>Solar_Zenith_Angle_raw</td>\n      <td>0.170180</td>\n    </tr>\n    <tr>\n      <th>15</th>\n      <td>TOTALTHERM_std</td>\n      <td>0.938490</td>\n    </tr>\n    <tr>\n      <th>4</th>\n      <td>TOTALTHERM_raw</td>\n      <td>0.938490</td>\n    </tr>\n    <tr>\n      <th>5</th>\n      <td>AVERAGETHERM_raw</td>\n      <td>1.000000</td>\n    </tr>\n    <tr>\n      <th>16</th>\n      <td>AVERAGETHERM_std</td>\n      <td>1.000000</td>\n    </tr>\n  </tbody>\n</table>\n</div>"
          },
          "metadata": {}
        },
        {
          "data": {
            "text/plain": "<Figure size 432x414 with 1 Axes>",
            "image/png": "[encoded data removed]"
          },
          "metadata": {
            "needs_background": "light"
          },
          "output_type": "display_data"
        }
      ],
      "execution_count": null
    },
    {
      "cell_type": "code",
      "metadata": {
        "tags": [],
        "deepnote_to_be_reexecuted": false,
        "source_hash": "83de2a6a",
        "execution_millis": 687,
        "cell_id": "00019-64974a3c-a697-4c84-95f9-67b719fc93e4",
        "execution_start": 1619133978733,
        "deepnote_cell_type": "code"
      },
      "source": "X_cols = ['MONTH','YEAR', 'GHI_raw', 'DHI_raw', 'DNI_raw', 'Wind Speed', 'Temperature_raw', 'Solar_Zenith_Angle_raw' ]\nbay_area_monthly_elec_pge_nrel = bay_area_monthly_pge_nrel[bay_area_monthly_pge_nrel['TOTALTHERM_raw']==0].drop_duplicates()\n\n## Cutting out using our engineering judgement\nbay_area_monthly_elec_pge_nrel = bay_area_monthly_elec_pge_nrel[bay_area_monthly_elec_pge_nrel['zip'] != 94301] ## Cut out Palo Alto, which only has 16 measurements\nbay_area_monthly_elec_pge_nrel = bay_area_monthly_elec_pge_nrel[bay_area_monthly_elec_pge_nrel['zip'] != 94035] ## Cut out Mountain View which only has 16 measurements\n\nbay_area_monthly_elec_pge_nrel_clean = bay_area_monthly_elec_pge_nrel[bay_area_monthly_elec_pge_nrel['TOTALKWH_std'] < 10]\n\n## lag for the columns we want\nfor zipcode in bay_area_monthly_elec_pge_nrel_clean['zip'].values:\n    bay_area_monthly_elec_pge_nrel_clean = lag_by_zipcode(bay_area_monthly_elec_pge_nrel_clean, 3, zipcode, zip_col='zip', time_col='DATE')\n\n\n## Last step before passing data to our model\nelec_X_train = bay_area_monthly_elec_pge_nrel_clean[X_cols]\n\n## targetted_y can be changed to predict other values,\ntargetted_y = 'AVERAGEKWH_raw'\nelec_Y_train = bay_area_monthly_elec_pge_nrel_clean[targetted_y]\n",
      "outputs": [
        {
          "output_type": "error",
          "ename": "KernelInterrupted",
          "evalue": "Execution interrupted by the Jupyter kernel.",
          "traceback": [
            "\u001b[0;31m---------------------------------------------------------------------------\u001b[0m",
            "\u001b[0;31mKernelInterrupted\u001b[0m: Execution interrupted by the Jupyter kernel."
          ]
        }
      ],
      "execution_count": null
    },
    {
      "cell_type": "code",
      "source": "bay_area_monthly_elec_pge_nrel_clean.head()",
      "metadata": {
        "tags": [],
        "cell_id": "00020-a59be090-fa13-4564-8c07-53a4ae80c327",
        "deepnote_to_be_reexecuted": false,
        "source_hash": "a65ead9b",
        "execution_start": 1619133250412,
        "execution_millis": 191,
        "deepnote_cell_type": "code"
      },
      "outputs": [
        {
          "output_type": "execute_result",
          "execution_count": 36,
          "data": {
            "application/vnd.deepnote.dataframe.v2+json": {
              "error": "Traceback (most recent call last):\n  File \"/shared-libs/code/variable_explorer.py\", line 143, in dataframe_formatter\n    return { MIME_TYPE: describe_pd_dataframe(df) }\n  File \"/shared-libs/code/variable_explorer_helpers.py\", line 154, in describe_pd_dataframe\n    if (is_type_numeric(column.dtype)):\n  File \"/shared-libs/code/variable_explorer_helpers.py\", line 13, in is_type_numeric\n    return np.issubdtype(dtype, np.number)\n  File \"/shared-libs/python3.7/py/lib/python3.7/site-packages/numpy/core/numerictypes.py\", line 388, in issubdtype\n    arg1 = dtype(arg1).type\nTypeError: Cannot interpret '<geopandas.array.GeometryDtype object at 0x7f8cdef90e50>' as a data type\n"
            },
            "text/plain": "       zip    city state   latitude  longitude timezone dst        DATE  \\\n94   94564  Pinole    CA  37.997509 -122.29208       -8   1  2013-01-01   \n95   94564  Pinole    CA  37.997509 -122.29208       -8   1  2013-02-01   \n96   94564  Pinole    CA  37.997509 -122.29208       -8   1  2013-03-01   \n100  94564  Pinole    CA  37.997509 -122.29208       -8   1  2013-04-01   \n101  94564  Pinole    CA  37.997509 -122.29208       -8   1  2013-05-01   \n\n     MONTH  YEAR  ...  AVERAGEKWH_std TOTALTHERM_std AVERAGETHERM_std  \\\n94       1  2013  ...        0.434919       -0.46156        -0.348278   \n95       2  2013  ...        0.245494       -0.46156        -0.348278   \n96       3  2013  ...        0.247315       -0.46156        -0.348278   \n100      4  2013  ...        0.176281       -0.46156        -0.348278   \n101      5  2013  ...        0.185388       -0.46156        -0.348278   \n\n      GHI_std   DHI_std   DNI_std  Wind_Speed_std  Temperature_std  \\\n94  -1.104314 -1.395587 -0.577344        0.229490        -1.408347   \n95  -0.578528 -0.869444 -0.114522        0.211040        -1.108450   \n96  -0.258319  0.869032 -0.712522        0.102642        -0.736089   \n100  0.704267  0.491066  0.607951        0.538100        -0.322403   \n101  1.130906  0.761388  0.955463        0.888261        -0.024109   \n\n    Solar_Zenith_Angle_std                     geometry  \n94                1.263679  POINT (-122.29208 37.99751)  \n95                0.776013  POINT (-122.29208 37.99751)  \n96                0.088214  POINT (-122.29208 37.99751)  \n100              -0.634085  POINT (-122.29208 37.99751)  \n101              -1.182103  POINT (-122.29208 37.99751)  \n\n[5 rows x 36 columns]",
            "text/html": "<div>\n<style scoped>\n    .dataframe tbody tr th:only-of-type {\n        vertical-align: middle;\n    }\n\n    .dataframe tbody tr th {\n        vertical-align: top;\n    }\n\n    .dataframe thead th {\n        text-align: right;\n    }\n</style>\n<table border=\"1\" class=\"dataframe\">\n  <thead>\n    <tr style=\"text-align: right;\">\n      <th></th>\n      <th>zip</th>\n      <th>city</th>\n      <th>state</th>\n      <th>latitude</th>\n      <th>longitude</th>\n      <th>timezone</th>\n      <th>dst</th>\n      <th>DATE</th>\n      <th>MONTH</th>\n      <th>YEAR</th>\n      <th>...</th>\n      <th>AVERAGEKWH_std</th>\n      <th>TOTALTHERM_std</th>\n      <th>AVERAGETHERM_std</th>\n      <th>GHI_std</th>\n      <th>DHI_std</th>\n      <th>DNI_std</th>\n      <th>Wind_Speed_std</th>\n      <th>Temperature_std</th>\n      <th>Solar_Zenith_Angle_std</th>\n      <th>geometry</th>\n    </tr>\n  </thead>\n  <tbody>\n    <tr>\n      <th>94</th>\n      <td>94564</td>\n      <td>Pinole</td>\n      <td>CA</td>\n      <td>37.997509</td>\n      <td>-122.29208</td>\n      <td>-8</td>\n      <td>1</td>\n      <td>2013-01-01</td>\n      <td>1</td>\n      <td>2013</td>\n      <td>...</td>\n      <td>0.434919</td>\n      <td>-0.46156</td>\n      <td>-0.348278</td>\n      <td>-1.104314</td>\n      <td>-1.395587</td>\n      <td>-0.577344</td>\n      <td>0.229490</td>\n      <td>-1.408347</td>\n      <td>1.263679</td>\n      <td>POINT (-122.29208 37.99751)</td>\n    </tr>\n    <tr>\n      <th>95</th>\n      <td>94564</td>\n      <td>Pinole</td>\n      <td>CA</td>\n      <td>37.997509</td>\n      <td>-122.29208</td>\n      <td>-8</td>\n      <td>1</td>\n      <td>2013-02-01</td>\n      <td>2</td>\n      <td>2013</td>\n      <td>...</td>\n      <td>0.245494</td>\n      <td>-0.46156</td>\n      <td>-0.348278</td>\n      <td>-0.578528</td>\n      <td>-0.869444</td>\n      <td>-0.114522</td>\n      <td>0.211040</td>\n      <td>-1.108450</td>\n      <td>0.776013</td>\n      <td>POINT (-122.29208 37.99751)</td>\n    </tr>\n    <tr>\n      <th>96</th>\n      <td>94564</td>\n      <td>Pinole</td>\n      <td>CA</td>\n      <td>37.997509</td>\n      <td>-122.29208</td>\n      <td>-8</td>\n      <td>1</td>\n      <td>2013-03-01</td>\n      <td>3</td>\n      <td>2013</td>\n      <td>...</td>\n      <td>0.247315</td>\n      <td>-0.46156</td>\n      <td>-0.348278</td>\n      <td>-0.258319</td>\n      <td>0.869032</td>\n      <td>-0.712522</td>\n      <td>0.102642</td>\n      <td>-0.736089</td>\n      <td>0.088214</td>\n      <td>POINT (-122.29208 37.99751)</td>\n    </tr>\n    <tr>\n      <th>100</th>\n      <td>94564</td>\n      <td>Pinole</td>\n      <td>CA</td>\n      <td>37.997509</td>\n      <td>-122.29208</td>\n      <td>-8</td>\n      <td>1</td>\n      <td>2013-04-01</td>\n      <td>4</td>\n      <td>2013</td>\n      <td>...</td>\n      <td>0.176281</td>\n      <td>-0.46156</td>\n      <td>-0.348278</td>\n      <td>0.704267</td>\n      <td>0.491066</td>\n      <td>0.607951</td>\n      <td>0.538100</td>\n      <td>-0.322403</td>\n      <td>-0.634085</td>\n      <td>POINT (-122.29208 37.99751)</td>\n    </tr>\n    <tr>\n      <th>101</th>\n      <td>94564</td>\n      <td>Pinole</td>\n      <td>CA</td>\n      <td>37.997509</td>\n      <td>-122.29208</td>\n      <td>-8</td>\n      <td>1</td>\n      <td>2013-05-01</td>\n      <td>5</td>\n      <td>2013</td>\n      <td>...</td>\n      <td>0.185388</td>\n      <td>-0.46156</td>\n      <td>-0.348278</td>\n      <td>1.130906</td>\n      <td>0.761388</td>\n      <td>0.955463</td>\n      <td>0.888261</td>\n      <td>-0.024109</td>\n      <td>-1.182103</td>\n      <td>POINT (-122.29208 37.99751)</td>\n    </tr>\n  </tbody>\n</table>\n<p>5 rows × 36 columns</p>\n</div>"
          },
          "metadata": {}
        }
      ],
      "execution_count": null
    },
    {
      "cell_type": "code",
      "source": "def lag_by_zipcode(full_df, L, zipcode, zip_col='zip', time_col='DATE'):\n    desired_cols = ['Temperature_raw', 'Wind Speed', 'GHI_raw', 'DNI_raw']\n    subsetted_cols = [zip_col] + desired_cols\n    subsetted_zip = full_df[full_df[zip_col] == zipcode].sort_values(by=time_col)[subsetted_cols]\n\n    ## Lag for the columns we want\n    for lag in range(1,L+1):\n        for c in desired_cols:\n            new_col_name = c + \" lag l=%i\"%(lag)\n            subsetted_zip[new_col_name] = subsetted_zip[c].shift(lag).tolist()\n\n    merged = pd.merge(left=full_df, right=subsetted_zip, left_on=subsetted_cols, right_on=subsetted_cols, how='left')\n    return merged\n\n    ",
      "metadata": {
        "tags": [],
        "cell_id": "00020-770ac0be-0780-4c93-833c-86c9859ca0eb",
        "deepnote_to_be_reexecuted": false,
        "source_hash": "4ec330e3",
        "execution_millis": 1,
        "execution_start": 1619133832669,
        "deepnote_cell_type": "code"
      },
      "outputs": [],
      "execution_count": null
    },
    {
      "cell_type": "code",
      "source": "bay_area_monthly_elec_pge_nrel_clean.head(50)",
      "metadata": {
        "tags": [],
        "cell_id": "00022-4852dc9e-cda7-4af8-9953-3b05505a6651",
        "deepnote_to_be_reexecuted": false,
        "source_hash": "a1113aab",
        "execution_millis": 284,
        "execution_start": 1619133697739,
        "deepnote_cell_type": "code"
      },
      "outputs": [
        {
          "output_type": "execute_result",
          "execution_count": 49,
          "data": {
            "application/vnd.deepnote.dataframe.v2+json": {
              "error": "Traceback (most recent call last):\n  File \"/shared-libs/code/variable_explorer.py\", line 143, in dataframe_formatter\n    return { MIME_TYPE: describe_pd_dataframe(df) }\n  File \"/shared-libs/code/variable_explorer_helpers.py\", line 154, in describe_pd_dataframe\n    if (is_type_numeric(column.dtype)):\n  File \"/shared-libs/code/variable_explorer_helpers.py\", line 13, in is_type_numeric\n    return np.issubdtype(dtype, np.number)\n  File \"/shared-libs/python3.7/py/lib/python3.7/site-packages/numpy/core/numerictypes.py\", line 388, in issubdtype\n    arg1 = dtype(arg1).type\nTypeError: Cannot interpret '<geopandas.array.GeometryDtype object at 0x7f8cdef90e50>' as a data type\n"
            },
            "text/plain": "       zip    city state   latitude  longitude timezone dst        DATE  \\\n94   94564  Pinole    CA  37.997509 -122.29208       -8   1  2013-01-01   \n95   94564  Pinole    CA  37.997509 -122.29208       -8   1  2013-02-01   \n96   94564  Pinole    CA  37.997509 -122.29208       -8   1  2013-03-01   \n100  94564  Pinole    CA  37.997509 -122.29208       -8   1  2013-04-01   \n101  94564  Pinole    CA  37.997509 -122.29208       -8   1  2013-05-01   \n102  94564  Pinole    CA  37.997509 -122.29208       -8   1  2013-06-01   \n106  94564  Pinole    CA  37.997509 -122.29208       -8   1  2013-07-01   \n107  94564  Pinole    CA  37.997509 -122.29208       -8   1  2013-08-01   \n108  94564  Pinole    CA  37.997509 -122.29208       -8   1  2013-09-01   \n112  94564  Pinole    CA  37.997509 -122.29208       -8   1  2013-10-01   \n113  94564  Pinole    CA  37.997509 -122.29208       -8   1  2013-11-01   \n114  94564  Pinole    CA  37.997509 -122.29208       -8   1  2013-12-01   \n118  94564  Pinole    CA  37.997509 -122.29208       -8   1  2014-01-01   \n119  94564  Pinole    CA  37.997509 -122.29208       -8   1  2014-02-01   \n120  94564  Pinole    CA  37.997509 -122.29208       -8   1  2014-03-01   \n124  94564  Pinole    CA  37.997509 -122.29208       -8   1  2014-04-01   \n125  94564  Pinole    CA  37.997509 -122.29208       -8   1  2014-05-01   \n126  94564  Pinole    CA  37.997509 -122.29208       -8   1  2014-06-01   \n134  94564  Pinole    CA  37.997509 -122.29208       -8   1  2014-02-01   \n139  94564  Pinole    CA  37.997509 -122.29208       -8   1  2014-07-01   \n140  94564  Pinole    CA  37.997509 -122.29208       -8   1  2014-08-01   \n141  94564  Pinole    CA  37.997509 -122.29208       -8   1  2014-09-01   \n154  94564  Pinole    CA  37.997509 -122.29208       -8   1  2014-10-01   \n155  94564  Pinole    CA  37.997509 -122.29208       -8   1  2014-11-01   \n156  94564  Pinole    CA  37.997509 -122.29208       -8   1  2014-12-01   \n160  94564  Pinole    CA  37.997509 -122.29208       -8   1  2015-01-01   \n161  94564  Pinole    CA  37.997509 -122.29208       -8   1  2015-02-01   \n162  94564  Pinole    CA  37.997509 -122.29208       -8   1  2015-03-01   \n166  94564  Pinole    CA  37.997509 -122.29208       -8   1  2015-04-01   \n167  94564  Pinole    CA  37.997509 -122.29208       -8   1  2015-05-01   \n168  94564  Pinole    CA  37.997509 -122.29208       -8   1  2015-06-01   \n172  94564  Pinole    CA  37.997509 -122.29208       -8   1  2015-07-01   \n173  94564  Pinole    CA  37.997509 -122.29208       -8   1  2015-08-01   \n174  94564  Pinole    CA  37.997509 -122.29208       -8   1  2015-09-01   \n178  94564  Pinole    CA  37.997509 -122.29208       -8   1  2015-10-01   \n179  94564  Pinole    CA  37.997509 -122.29208       -8   1  2015-11-01   \n180  94564  Pinole    CA  37.997509 -122.29208       -8   1  2015-12-01   \n184  94564  Pinole    CA  37.997509 -122.29208       -8   1  2016-01-01   \n185  94564  Pinole    CA  37.997509 -122.29208       -8   1  2016-02-01   \n186  94564  Pinole    CA  37.997509 -122.29208       -8   1  2016-03-01   \n190  94564  Pinole    CA  37.997509 -122.29208       -8   1  2016-04-01   \n191  94564  Pinole    CA  37.997509 -122.29208       -8   1  2016-05-01   \n192  94564  Pinole    CA  37.997509 -122.29208       -8   1  2016-06-01   \n196  94564  Pinole    CA  37.997509 -122.29208       -8   1  2016-07-01   \n197  94564  Pinole    CA  37.997509 -122.29208       -8   1  2016-08-01   \n198  94564  Pinole    CA  37.997509 -122.29208       -8   1  2016-09-01   \n202  94564  Pinole    CA  37.997509 -122.29208       -8   1  2016-10-01   \n203  94564  Pinole    CA  37.997509 -122.29208       -8   1  2016-11-01   \n204  94564  Pinole    CA  37.997509 -122.29208       -8   1  2016-12-01   \n208  94564  Pinole    CA  37.997509 -122.29208       -8   1  2017-01-01   \n\n     MONTH  YEAR  ...  AVERAGEKWH_std TOTALTHERM_std AVERAGETHERM_std  \\\n94       1  2013  ...        0.434919       -0.46156        -0.348278   \n95       2  2013  ...        0.245494       -0.46156        -0.348278   \n96       3  2013  ...        0.247315       -0.46156        -0.348278   \n100      4  2013  ...        0.176281       -0.46156        -0.348278   \n101      5  2013  ...        0.185388       -0.46156        -0.348278   \n102      6  2013  ...        0.203602       -0.46156        -0.348278   \n106      7  2013  ...        0.205423       -0.46156        -0.348278   \n107      8  2013  ...        0.209066       -0.46156        -0.348278   \n108      9  2013  ...        0.189031       -0.46156        -0.348278   \n112     10  2013  ...        0.196316       -0.46156        -0.348278   \n113     11  2013  ...        0.250958       -0.46156        -0.348278   \n114     12  2013  ...        0.451311       -0.46156        -0.348278   \n118      1  2014  ...        0.305600       -0.46156        -0.348278   \n119      2  2014  ...        0.194495       -0.46156        -0.348278   \n120      3  2014  ...        0.199959       -0.46156        -0.348278   \n124      4  2014  ...        0.150782       -0.46156        -0.348278   \n125      5  2014  ...        0.156246       -0.46156        -0.348278   \n126      6  2014  ...        0.143496       -0.46156        -0.348278   \n134      2  2014  ...        0.194495       -0.46156        -0.348278   \n139      7  2014  ...        0.167174       -0.46156        -0.348278   \n140      8  2014  ...        0.156246       -0.46156        -0.348278   \n141      9  2014  ...        0.154424       -0.46156        -0.348278   \n154     10  2014  ...        0.176281       -0.46156        -0.348278   \n155     11  2014  ...        0.221816       -0.46156        -0.348278   \n156     12  2014  ...        0.365706       -0.46156        -0.348278   \n160      1  2015  ...        0.331099       -0.46156        -0.348278   \n161      2  2015  ...        0.148960       -0.46156        -0.348278   \n162      3  2015  ...        0.170817       -0.46156        -0.348278   \n166      4  2015  ...        0.123461       -0.46156        -0.348278   \n167      5  2015  ...        0.138032       -0.46156        -0.348278   \n168      6  2015  ...        0.125282       -0.46156        -0.348278   \n172      7  2015  ...        0.176281       -0.46156        -0.348278   \n173      8  2015  ...        0.201780       -0.46156        -0.348278   \n174      9  2015  ...        0.178102       -0.46156        -0.348278   \n178     10  2015  ...        0.168995       -0.46156        -0.348278   \n179     11  2015  ...        0.278279       -0.46156        -0.348278   \n180     12  2015  ...        0.438561       -0.46156        -0.348278   \n184      1  2016  ...        0.367527       -0.46156        -0.348278   \n185      2  2016  ...        0.181745       -0.46156        -0.348278   \n186      3  2016  ...        0.207245       -0.46156        -0.348278   \n190      4  2016  ...        0.119818       -0.46156        -0.348278   \n191      5  2016  ...        0.139853       -0.46156        -0.348278   \n192      6  2016  ...        0.143496       -0.46156        -0.348278   \n196      7  2016  ...        0.156246       -0.46156        -0.348278   \n197      8  2016  ...        0.139853       -0.46156        -0.348278   \n198      9  2016  ...        0.148960       -0.46156        -0.348278   \n202     10  2016  ...        0.190852       -0.46156        -0.348278   \n203     11  2016  ...        0.250958       -0.46156        -0.348278   \n204     12  2016  ...        0.458597       -0.46156        -0.348278   \n208      1  2017  ...        0.431276       -0.46156        -0.348278   \n\n      GHI_std   DHI_std   DNI_std  Wind_Speed_std  Temperature_std  \\\n94  -1.104314 -1.395587 -0.577344        0.229490        -1.408347   \n95  -0.578528 -0.869444 -0.114522        0.211040        -1.108450   \n96  -0.258319  0.869032 -0.712522        0.102642        -0.736089   \n100  0.704267  0.491066  0.607951        0.538100        -0.322403   \n101  1.130906  0.761388  0.955463        0.888261        -0.024109   \n102  1.205794  0.528041  1.106355        0.707365         0.298288   \n106  1.114159  0.797766  0.906800        0.432350         0.335923   \n107  0.885443  0.123502  0.986730        0.428154         0.420215   \n108  0.344658 -0.547457  0.748892        0.395684         0.443855   \n112 -0.290836 -0.901723  0.245906       -0.218190        -0.092928   \n113 -1.029011 -1.131733 -0.622502       -0.238352        -0.486345   \n114 -1.159552 -1.621609 -0.365888        0.046964        -1.255005   \n118 -1.104512 -1.293161 -0.632046       -0.256761        -0.800751   \n119 -1.001313 -0.265719 -1.326802        0.154936        -0.781435   \n120 -0.269122  0.292050 -0.525171        0.217064        -0.452959   \n124  0.591087  0.951554  0.255501        0.345321        -0.327175   \n125  1.275228  1.106310  1.055411        0.713643         0.095979   \n126  1.537487  0.641815  1.506494        0.645162         0.320242   \n134 -1.001313 -0.265719 -1.326802        0.154936        -0.781435   \n139  1.157096  0.826019  0.922496        0.238366         0.590878   \n140  0.677906  0.991287  0.318659        0.321156         0.550002   \n141  0.296105 -0.154448  0.438441        0.074663         0.566991   \n154 -0.424431 -0.787519 -0.034232       -0.262248         0.455087   \n155 -1.151412 -1.006096 -1.033910       -0.287548        -0.293767   \n156 -1.573328 -1.179181 -1.810277        0.427670        -0.657570   \n160 -1.188126 -1.110599 -0.943903       -0.417661        -0.882041   \n161 -0.817911 -0.703967 -0.698137        0.162619        -0.473084   \n162  0.005939  0.309866 -0.073362       -0.158801        -0.324558   \n166  0.684483  0.675862  0.512926        0.586462        -0.419050   \n167  0.771773  1.970368 -0.009206        0.716709        -0.372824   \n168  1.360691  0.920973  1.130667        0.451216         0.289697   \n172  1.105006  0.967581  0.862880        0.583729         0.597575   \n173  0.837967  0.572117  0.703800        0.476408         0.649536   \n174  0.210477 -0.040829  0.271350        0.137867         0.638582   \n178 -0.380012 -0.745028  0.005117       -0.288070         0.489727   \n179 -0.975705 -1.205143 -0.428277        0.238759        -0.715197   \n180 -1.483433 -1.228008 -1.539688        0.528858        -1.019680   \n184 -1.519419 -0.740182 -1.999423        0.370863        -0.890355   \n185 -0.624832 -0.650816 -0.285240       -0.065371        -0.578169   \n186 -0.415110  0.212509 -0.759750        0.842267        -0.533095   \n190  0.512991  0.905798  0.180871        0.540935        -0.265369   \n191  0.880568  1.535394  0.348085        0.302274        -0.081843   \n192  1.422602  0.794489  1.358507        0.806423         0.309504   \n196  1.484477 -0.051605  1.767137        0.675879         0.321836   \n197  0.835568  0.543566  0.677588        0.575175         0.270106   \n198  0.423953 -0.432836  0.817685        0.308299         0.416890   \n202 -0.702334 -0.545022 -0.701039        0.148314         0.044480   \n203 -1.060416 -1.006327 -0.761621       -0.125120        -0.373471   \n204 -1.370940 -1.526041 -1.019417        0.398298        -1.179719   \n208 -1.361787 -1.137957 -1.430707        0.823546        -1.235144   \n\n    Solar_Zenith_Angle_std                     geometry  \n94                1.263679  POINT (-122.29208 37.99751)  \n95                0.776013  POINT (-122.29208 37.99751)  \n96                0.088214  POINT (-122.29208 37.99751)  \n100              -0.634085  POINT (-122.29208 37.99751)  \n101              -1.182103  POINT (-122.29208 37.99751)  \n102              -1.422509  POINT (-122.29208 37.99751)  \n106              -1.297698  POINT (-122.29208 37.99751)  \n107              -0.833733  POINT (-122.29208 37.99751)  \n108              -0.158411  POINT (-122.29208 37.99751)  \n112               0.566284  POINT (-122.29208 37.99751)  \n113               1.148657  POINT (-122.29208 37.99751)  \n114               1.411883  POINT (-122.29208 37.99751)  \n118               1.266433  POINT (-122.29208 37.99751)  \n119               0.781077  POINT (-122.29208 37.99751)  \n120               0.094164  POINT (-122.29208 37.99751)  \n124              -0.628796  POINT (-122.29208 37.99751)  \n125              -1.178831  POINT (-122.29208 37.99751)  \n126              -1.422000  POINT (-122.29208 37.99751)  \n134               0.781077  POINT (-122.29208 37.99751)  \n139              -1.300063  POINT (-122.29208 37.99751)  \n140              -0.838390  POINT (-122.29208 37.99751)  \n141              -0.164239  POINT (-122.29208 37.99751)  \n154               0.560839  POINT (-122.29208 37.99751)  \n155               1.145063  POINT (-122.29208 37.99751)  \n156               1.411330  POINT (-122.29208 37.99751)  \n160               1.269148  POINT (-122.29208 37.99751)  \n161               0.786149  POINT (-122.29208 37.99751)  \n162               0.100089  POINT (-122.29208 37.99751)  \n166              -0.623522  POINT (-122.29208 37.99751)  \n167              -1.175541  POINT (-122.29208 37.99751)  \n168              -1.421523  POINT (-122.29208 37.99751)  \n172              -1.302409  POINT (-122.29208 37.99751)  \n173              -0.843061  POINT (-122.29208 37.99751)  \n174              -0.170020  POINT (-122.29208 37.99751)  \n178               0.555379  POINT (-122.29208 37.99751)  \n179               1.141501  POINT (-122.29208 37.99751)  \n180               1.410745  POINT (-122.29208 37.99751)  \n184               1.271868  POINT (-122.29208 37.99751)  \n185               0.791204  POINT (-122.29208 37.99751)  \n186               0.081522  POINT (-122.29208 37.99751)  \n190              -0.640021  POINT (-122.29208 37.99751)  \n191              -1.185769  POINT (-122.29208 37.99751)  \n192              -1.423022  POINT (-122.29208 37.99751)  \n196              -1.294947  POINT (-122.29208 37.99751)  \n197              -0.828374  POINT (-122.29208 37.99751)  \n198              -0.151844  POINT (-122.29208 37.99751)  \n202               0.572409  POINT (-122.29208 37.99751)  \n203               1.152615  POINT (-122.29208 37.99751)  \n204               1.412558  POINT (-122.29208 37.99751)  \n208               1.263304  POINT (-122.29208 37.99751)  \n\n[50 rows x 36 columns]",
            "text/html": "<div>\n<style scoped>\n    .dataframe tbody tr th:only-of-type {\n        vertical-align: middle;\n    }\n\n    .dataframe tbody tr th {\n        vertical-align: top;\n    }\n\n    .dataframe thead th {\n        text-align: right;\n    }\n</style>\n<table border=\"1\" class=\"dataframe\">\n  <thead>\n    <tr style=\"text-align: right;\">\n      <th></th>\n      <th>zip</th>\n      <th>city</th>\n      <th>state</th>\n      <th>latitude</th>\n      <th>longitude</th>\n      <th>timezone</th>\n      <th>dst</th>\n      <th>DATE</th>\n      <th>MONTH</th>\n      <th>YEAR</th>\n      <th>...</th>\n      <th>AVERAGEKWH_std</th>\n      <th>TOTALTHERM_std</th>\n      <th>AVERAGETHERM_std</th>\n      <th>GHI_std</th>\n      <th>DHI_std</th>\n      <th>DNI_std</th>\n      <th>Wind_Speed_std</th>\n      <th>Temperature_std</th>\n      <th>Solar_Zenith_Angle_std</th>\n      <th>geometry</th>\n    </tr>\n  </thead>\n  <tbody>\n    <tr>\n      <th>94</th>\n      <td>94564</td>\n      <td>Pinole</td>\n      <td>CA</td>\n      <td>37.997509</td>\n      <td>-122.29208</td>\n      <td>-8</td>\n      <td>1</td>\n      <td>2013-01-01</td>\n      <td>1</td>\n      <td>2013</td>\n      <td>...</td>\n      <td>0.434919</td>\n      <td>-0.46156</td>\n      <td>-0.348278</td>\n      <td>-1.104314</td>\n      <td>-1.395587</td>\n      <td>-0.577344</td>\n      <td>0.229490</td>\n      <td>-1.408347</td>\n      <td>1.263679</td>\n      <td>POINT (-122.29208 37.99751)</td>\n    </tr>\n    <tr>\n      <th>95</th>\n      <td>94564</td>\n      <td>Pinole</td>\n      <td>CA</td>\n      <td>37.997509</td>\n      <td>-122.29208</td>\n      <td>-8</td>\n      <td>1</td>\n      <td>2013-02-01</td>\n      <td>2</td>\n      <td>2013</td>\n      <td>...</td>\n      <td>0.245494</td>\n      <td>-0.46156</td>\n      <td>-0.348278</td>\n      <td>-0.578528</td>\n      <td>-0.869444</td>\n      <td>-0.114522</td>\n      <td>0.211040</td>\n      <td>-1.108450</td>\n      <td>0.776013</td>\n      <td>POINT (-122.29208 37.99751)</td>\n    </tr>\n    <tr>\n      <th>96</th>\n      <td>94564</td>\n      <td>Pinole</td>\n      <td>CA</td>\n      <td>37.997509</td>\n      <td>-122.29208</td>\n      <td>-8</td>\n      <td>1</td>\n      <td>2013-03-01</td>\n      <td>3</td>\n      <td>2013</td>\n      <td>...</td>\n      <td>0.247315</td>\n      <td>-0.46156</td>\n      <td>-0.348278</td>\n      <td>-0.258319</td>\n      <td>0.869032</td>\n      <td>-0.712522</td>\n      <td>0.102642</td>\n      <td>-0.736089</td>\n      <td>0.088214</td>\n      <td>POINT (-122.29208 37.99751)</td>\n    </tr>\n    <tr>\n      <th>100</th>\n      <td>94564</td>\n      <td>Pinole</td>\n      <td>CA</td>\n      <td>37.997509</td>\n      <td>-122.29208</td>\n      <td>-8</td>\n      <td>1</td>\n      <td>2013-04-01</td>\n      <td>4</td>\n      <td>2013</td>\n      <td>...</td>\n      <td>0.176281</td>\n      <td>-0.46156</td>\n      <td>-0.348278</td>\n      <td>0.704267</td>\n      <td>0.491066</td>\n      <td>0.607951</td>\n      <td>0.538100</td>\n      <td>-0.322403</td>\n      <td>-0.634085</td>\n      <td>POINT (-122.29208 37.99751)</td>\n    </tr>\n    <tr>\n      <th>101</th>\n      <td>94564</td>\n      <td>Pinole</td>\n      <td>CA</td>\n      <td>37.997509</td>\n      <td>-122.29208</td>\n      <td>-8</td>\n      <td>1</td>\n      <td>2013-05-01</td>\n      <td>5</td>\n      <td>2013</td>\n      <td>...</td>\n      <td>0.185388</td>\n      <td>-0.46156</td>\n      <td>-0.348278</td>\n      <td>1.130906</td>\n      <td>0.761388</td>\n      <td>0.955463</td>\n      <td>0.888261</td>\n      <td>-0.024109</td>\n      <td>-1.182103</td>\n      <td>POINT (-122.29208 37.99751)</td>\n    </tr>\n    <tr>\n      <th>102</th>\n      <td>94564</td>\n      <td>Pinole</td>\n      <td>CA</td>\n      <td>37.997509</td>\n      <td>-122.29208</td>\n      <td>-8</td>\n      <td>1</td>\n      <td>2013-06-01</td>\n      <td>6</td>\n      <td>2013</td>\n      <td>...</td>\n      <td>0.203602</td>\n      <td>-0.46156</td>\n      <td>-0.348278</td>\n      <td>1.205794</td>\n      <td>0.528041</td>\n      <td>1.106355</td>\n      <td>0.707365</td>\n      <td>0.298288</td>\n      <td>-1.422509</td>\n      <td>POINT (-122.29208 37.99751)</td>\n    </tr>\n    <tr>\n      <th>106</th>\n      <td>94564</td>\n      <td>Pinole</td>\n      <td>CA</td>\n      <td>37.997509</td>\n      <td>-122.29208</td>\n      <td>-8</td>\n      <td>1</td>\n      <td>2013-07-01</td>\n      <td>7</td>\n      <td>2013</td>\n      <td>...</td>\n      <td>0.205423</td>\n      <td>-0.46156</td>\n      <td>-0.348278</td>\n      <td>1.114159</td>\n      <td>0.797766</td>\n      <td>0.906800</td>\n      <td>0.432350</td>\n      <td>0.335923</td>\n      <td>-1.297698</td>\n      <td>POINT (-122.29208 37.99751)</td>\n    </tr>\n    <tr>\n      <th>107</th>\n      <td>94564</td>\n      <td>Pinole</td>\n      <td>CA</td>\n      <td>37.997509</td>\n      <td>-122.29208</td>\n      <td>-8</td>\n      <td>1</td>\n      <td>2013-08-01</td>\n      <td>8</td>\n      <td>2013</td>\n      <td>...</td>\n      <td>0.209066</td>\n      <td>-0.46156</td>\n      <td>-0.348278</td>\n      <td>0.885443</td>\n      <td>0.123502</td>\n      <td>0.986730</td>\n      <td>0.428154</td>\n      <td>0.420215</td>\n      <td>-0.833733</td>\n      <td>POINT (-122.29208 37.99751)</td>\n    </tr>\n    <tr>\n      <th>108</th>\n      <td>94564</td>\n      <td>Pinole</td>\n      <td>CA</td>\n      <td>37.997509</td>\n      <td>-122.29208</td>\n      <td>-8</td>\n      <td>1</td>\n      <td>2013-09-01</td>\n      <td>9</td>\n      <td>2013</td>\n      <td>...</td>\n      <td>0.189031</td>\n      <td>-0.46156</td>\n      <td>-0.348278</td>\n      <td>0.344658</td>\n      <td>-0.547457</td>\n      <td>0.748892</td>\n      <td>0.395684</td>\n      <td>0.443855</td>\n      <td>-0.158411</td>\n      <td>POINT (-122.29208 37.99751)</td>\n    </tr>\n    <tr>\n      <th>112</th>\n      <td>94564</td>\n      <td>Pinole</td>\n      <td>CA</td>\n      <td>37.997509</td>\n      <td>-122.29208</td>\n      <td>-8</td>\n      <td>1</td>\n      <td>2013-10-01</td>\n      <td>10</td>\n      <td>2013</td>\n      <td>...</td>\n      <td>0.196316</td>\n      <td>-0.46156</td>\n      <td>-0.348278</td>\n      <td>-0.290836</td>\n      <td>-0.901723</td>\n      <td>0.245906</td>\n      <td>-0.218190</td>\n      <td>-0.092928</td>\n      <td>0.566284</td>\n      <td>POINT (-122.29208 37.99751)</td>\n    </tr>\n    <tr>\n      <th>113</th>\n      <td>94564</td>\n      <td>Pinole</td>\n      <td>CA</td>\n      <td>37.997509</td>\n      <td>-122.29208</td>\n      <td>-8</td>\n      <td>1</td>\n      <td>2013-11-01</td>\n      <td>11</td>\n      <td>2013</td>\n      <td>...</td>\n      <td>0.250958</td>\n      <td>-0.46156</td>\n      <td>-0.348278</td>\n      <td>-1.029011</td>\n      <td>-1.131733</td>\n      <td>-0.622502</td>\n      <td>-0.238352</td>\n      <td>-0.486345</td>\n      <td>1.148657</td>\n      <td>POINT (-122.29208 37.99751)</td>\n    </tr>\n    <tr>\n      <th>114</th>\n      <td>94564</td>\n      <td>Pinole</td>\n      <td>CA</td>\n      <td>37.997509</td>\n      <td>-122.29208</td>\n      <td>-8</td>\n      <td>1</td>\n      <td>2013-12-01</td>\n      <td>12</td>\n      <td>2013</td>\n      <td>...</td>\n      <td>0.451311</td>\n      <td>-0.46156</td>\n      <td>-0.348278</td>\n      <td>-1.159552</td>\n      <td>-1.621609</td>\n      <td>-0.365888</td>\n      <td>0.046964</td>\n      <td>-1.255005</td>\n      <td>1.411883</td>\n      <td>POINT (-122.29208 37.99751)</td>\n    </tr>\n    <tr>\n      <th>118</th>\n      <td>94564</td>\n      <td>Pinole</td>\n      <td>CA</td>\n      <td>37.997509</td>\n      <td>-122.29208</td>\n      <td>-8</td>\n      <td>1</td>\n      <td>2014-01-01</td>\n      <td>1</td>\n      <td>2014</td>\n      <td>...</td>\n      <td>0.305600</td>\n      <td>-0.46156</td>\n      <td>-0.348278</td>\n      <td>-1.104512</td>\n      <td>-1.293161</td>\n      <td>-0.632046</td>\n      <td>-0.256761</td>\n      <td>-0.800751</td>\n      <td>1.266433</td>\n      <td>POINT (-122.29208 37.99751)</td>\n    </tr>\n    <tr>\n      <th>119</th>\n      <td>94564</td>\n      <td>Pinole</td>\n      <td>CA</td>\n      <td>37.997509</td>\n      <td>-122.29208</td>\n      <td>-8</td>\n      <td>1</td>\n      <td>2014-02-01</td>\n      <td>2</td>\n      <td>2014</td>\n      <td>...</td>\n      <td>0.194495</td>\n      <td>-0.46156</td>\n      <td>-0.348278</td>\n      <td>-1.001313</td>\n      <td>-0.265719</td>\n      <td>-1.326802</td>\n      <td>0.154936</td>\n      <td>-0.781435</td>\n      <td>0.781077</td>\n      <td>POINT (-122.29208 37.99751)</td>\n    </tr>\n    <tr>\n      <th>120</th>\n      <td>94564</td>\n      <td>Pinole</td>\n      <td>CA</td>\n      <td>37.997509</td>\n      <td>-122.29208</td>\n      <td>-8</td>\n      <td>1</td>\n      <td>2014-03-01</td>\n      <td>3</td>\n      <td>2014</td>\n      <td>...</td>\n      <td>0.199959</td>\n      <td>-0.46156</td>\n      <td>-0.348278</td>\n      <td>-0.269122</td>\n      <td>0.292050</td>\n      <td>-0.525171</td>\n      <td>0.217064</td>\n      <td>-0.452959</td>\n      <td>0.094164</td>\n      <td>POINT (-122.29208 37.99751)</td>\n    </tr>\n    <tr>\n      <th>124</th>\n      <td>94564</td>\n      <td>Pinole</td>\n      <td>CA</td>\n      <td>37.997509</td>\n      <td>-122.29208</td>\n      <td>-8</td>\n      <td>1</td>\n      <td>2014-04-01</td>\n      <td>4</td>\n      <td>2014</td>\n      <td>...</td>\n      <td>0.150782</td>\n      <td>-0.46156</td>\n      <td>-0.348278</td>\n      <td>0.591087</td>\n      <td>0.951554</td>\n      <td>0.255501</td>\n      <td>0.345321</td>\n      <td>-0.327175</td>\n      <td>-0.628796</td>\n      <td>POINT (-122.29208 37.99751)</td>\n    </tr>\n    <tr>\n      <th>125</th>\n      <td>94564</td>\n      <td>Pinole</td>\n      <td>CA</td>\n      <td>37.997509</td>\n      <td>-122.29208</td>\n      <td>-8</td>\n      <td>1</td>\n      <td>2014-05-01</td>\n      <td>5</td>\n      <td>2014</td>\n      <td>...</td>\n      <td>0.156246</td>\n      <td>-0.46156</td>\n      <td>-0.348278</td>\n      <td>1.275228</td>\n      <td>1.106310</td>\n      <td>1.055411</td>\n      <td>0.713643</td>\n      <td>0.095979</td>\n      <td>-1.178831</td>\n      <td>POINT (-122.29208 37.99751)</td>\n    </tr>\n    <tr>\n      <th>126</th>\n      <td>94564</td>\n      <td>Pinole</td>\n      <td>CA</td>\n      <td>37.997509</td>\n      <td>-122.29208</td>\n      <td>-8</td>\n      <td>1</td>\n      <td>2014-06-01</td>\n      <td>6</td>\n      <td>2014</td>\n      <td>...</td>\n      <td>0.143496</td>\n      <td>-0.46156</td>\n      <td>-0.348278</td>\n      <td>1.537487</td>\n      <td>0.641815</td>\n      <td>1.506494</td>\n      <td>0.645162</td>\n      <td>0.320242</td>\n      <td>-1.422000</td>\n      <td>POINT (-122.29208 37.99751)</td>\n    </tr>\n    <tr>\n      <th>134</th>\n      <td>94564</td>\n      <td>Pinole</td>\n      <td>CA</td>\n      <td>37.997509</td>\n      <td>-122.29208</td>\n      <td>-8</td>\n      <td>1</td>\n      <td>2014-02-01</td>\n      <td>2</td>\n      <td>2014</td>\n      <td>...</td>\n      <td>0.194495</td>\n      <td>-0.46156</td>\n      <td>-0.348278</td>\n      <td>-1.001313</td>\n      <td>-0.265719</td>\n      <td>-1.326802</td>\n      <td>0.154936</td>\n      <td>-0.781435</td>\n      <td>0.781077</td>\n      <td>POINT (-122.29208 37.99751)</td>\n    </tr>\n    <tr>\n      <th>139</th>\n      <td>94564</td>\n      <td>Pinole</td>\n      <td>CA</td>\n      <td>37.997509</td>\n      <td>-122.29208</td>\n      <td>-8</td>\n      <td>1</td>\n      <td>2014-07-01</td>\n      <td>7</td>\n      <td>2014</td>\n      <td>...</td>\n      <td>0.167174</td>\n      <td>-0.46156</td>\n      <td>-0.348278</td>\n      <td>1.157096</td>\n      <td>0.826019</td>\n      <td>0.922496</td>\n      <td>0.238366</td>\n      <td>0.590878</td>\n      <td>-1.300063</td>\n      <td>POINT (-122.29208 37.99751)</td>\n    </tr>\n    <tr>\n      <th>140</th>\n      <td>94564</td>\n      <td>Pinole</td>\n      <td>CA</td>\n      <td>37.997509</td>\n      <td>-122.29208</td>\n      <td>-8</td>\n      <td>1</td>\n      <td>2014-08-01</td>\n      <td>8</td>\n      <td>2014</td>\n      <td>...</td>\n      <td>0.156246</td>\n      <td>-0.46156</td>\n      <td>-0.348278</td>\n      <td>0.677906</td>\n      <td>0.991287</td>\n      <td>0.318659</td>\n      <td>0.321156</td>\n      <td>0.550002</td>\n      <td>-0.838390</td>\n      <td>POINT (-122.29208 37.99751)</td>\n    </tr>\n    <tr>\n      <th>141</th>\n      <td>94564</td>\n      <td>Pinole</td>\n      <td>CA</td>\n      <td>37.997509</td>\n      <td>-122.29208</td>\n      <td>-8</td>\n      <td>1</td>\n      <td>2014-09-01</td>\n      <td>9</td>\n      <td>2014</td>\n      <td>...</td>\n      <td>0.154424</td>\n      <td>-0.46156</td>\n      <td>-0.348278</td>\n      <td>0.296105</td>\n      <td>-0.154448</td>\n      <td>0.438441</td>\n      <td>0.074663</td>\n      <td>0.566991</td>\n      <td>-0.164239</td>\n      <td>POINT (-122.29208 37.99751)</td>\n    </tr>\n    <tr>\n      <th>154</th>\n      <td>94564</td>\n      <td>Pinole</td>\n      <td>CA</td>\n      <td>37.997509</td>\n      <td>-122.29208</td>\n      <td>-8</td>\n      <td>1</td>\n      <td>2014-10-01</td>\n      <td>10</td>\n      <td>2014</td>\n      <td>...</td>\n      <td>0.176281</td>\n      <td>-0.46156</td>\n      <td>-0.348278</td>\n      <td>-0.424431</td>\n      <td>-0.787519</td>\n      <td>-0.034232</td>\n      <td>-0.262248</td>\n      <td>0.455087</td>\n      <td>0.560839</td>\n      <td>POINT (-122.29208 37.99751)</td>\n    </tr>\n    <tr>\n      <th>155</th>\n      <td>94564</td>\n      <td>Pinole</td>\n      <td>CA</td>\n      <td>37.997509</td>\n      <td>-122.29208</td>\n      <td>-8</td>\n      <td>1</td>\n      <td>2014-11-01</td>\n      <td>11</td>\n      <td>2014</td>\n      <td>...</td>\n      <td>0.221816</td>\n      <td>-0.46156</td>\n      <td>-0.348278</td>\n      <td>-1.151412</td>\n      <td>-1.006096</td>\n      <td>-1.033910</td>\n      <td>-0.287548</td>\n      <td>-0.293767</td>\n      <td>1.145063</td>\n      <td>POINT (-122.29208 37.99751)</td>\n    </tr>\n    <tr>\n      <th>156</th>\n      <td>94564</td>\n      <td>Pinole</td>\n      <td>CA</td>\n      <td>37.997509</td>\n      <td>-122.29208</td>\n      <td>-8</td>\n      <td>1</td>\n      <td>2014-12-01</td>\n      <td>12</td>\n      <td>2014</td>\n      <td>...</td>\n      <td>0.365706</td>\n      <td>-0.46156</td>\n      <td>-0.348278</td>\n      <td>-1.573328</td>\n      <td>-1.179181</td>\n      <td>-1.810277</td>\n      <td>0.427670</td>\n      <td>-0.657570</td>\n      <td>1.411330</td>\n      <td>POINT (-122.29208 37.99751)</td>\n    </tr>\n    <tr>\n      <th>160</th>\n      <td>94564</td>\n      <td>Pinole</td>\n      <td>CA</td>\n      <td>37.997509</td>\n      <td>-122.29208</td>\n      <td>-8</td>\n      <td>1</td>\n      <td>2015-01-01</td>\n      <td>1</td>\n      <td>2015</td>\n      <td>...</td>\n      <td>0.331099</td>\n      <td>-0.46156</td>\n      <td>-0.348278</td>\n      <td>-1.188126</td>\n      <td>-1.110599</td>\n      <td>-0.943903</td>\n      <td>-0.417661</td>\n      <td>-0.882041</td>\n      <td>1.269148</td>\n      <td>POINT (-122.29208 37.99751)</td>\n    </tr>\n    <tr>\n      <th>161</th>\n      <td>94564</td>\n      <td>Pinole</td>\n      <td>CA</td>\n      <td>37.997509</td>\n      <td>-122.29208</td>\n      <td>-8</td>\n      <td>1</td>\n      <td>2015-02-01</td>\n      <td>2</td>\n      <td>2015</td>\n      <td>...</td>\n      <td>0.148960</td>\n      <td>-0.46156</td>\n      <td>-0.348278</td>\n      <td>-0.817911</td>\n      <td>-0.703967</td>\n      <td>-0.698137</td>\n      <td>0.162619</td>\n      <td>-0.473084</td>\n      <td>0.786149</td>\n      <td>POINT (-122.29208 37.99751)</td>\n    </tr>\n    <tr>\n      <th>162</th>\n      <td>94564</td>\n      <td>Pinole</td>\n      <td>CA</td>\n      <td>37.997509</td>\n      <td>-122.29208</td>\n      <td>-8</td>\n      <td>1</td>\n      <td>2015-03-01</td>\n      <td>3</td>\n      <td>2015</td>\n      <td>...</td>\n      <td>0.170817</td>\n      <td>-0.46156</td>\n      <td>-0.348278</td>\n      <td>0.005939</td>\n      <td>0.309866</td>\n      <td>-0.073362</td>\n      <td>-0.158801</td>\n      <td>-0.324558</td>\n      <td>0.100089</td>\n      <td>POINT (-122.29208 37.99751)</td>\n    </tr>\n    <tr>\n      <th>166</th>\n      <td>94564</td>\n      <td>Pinole</td>\n      <td>CA</td>\n      <td>37.997509</td>\n      <td>-122.29208</td>\n      <td>-8</td>\n      <td>1</td>\n      <td>2015-04-01</td>\n      <td>4</td>\n      <td>2015</td>\n      <td>...</td>\n      <td>0.123461</td>\n      <td>-0.46156</td>\n      <td>-0.348278</td>\n      <td>0.684483</td>\n      <td>0.675862</td>\n      <td>0.512926</td>\n      <td>0.586462</td>\n      <td>-0.419050</td>\n      <td>-0.623522</td>\n      <td>POINT (-122.29208 37.99751)</td>\n    </tr>\n    <tr>\n      <th>167</th>\n      <td>94564</td>\n      <td>Pinole</td>\n      <td>CA</td>\n      <td>37.997509</td>\n      <td>-122.29208</td>\n      <td>-8</td>\n      <td>1</td>\n      <td>2015-05-01</td>\n      <td>5</td>\n      <td>2015</td>\n      <td>...</td>\n      <td>0.138032</td>\n      <td>-0.46156</td>\n      <td>-0.348278</td>\n      <td>0.771773</td>\n      <td>1.970368</td>\n      <td>-0.009206</td>\n      <td>0.716709</td>\n      <td>-0.372824</td>\n      <td>-1.175541</td>\n      <td>POINT (-122.29208 37.99751)</td>\n    </tr>\n    <tr>\n      <th>168</th>\n      <td>94564</td>\n      <td>Pinole</td>\n      <td>CA</td>\n      <td>37.997509</td>\n      <td>-122.29208</td>\n      <td>-8</td>\n      <td>1</td>\n      <td>2015-06-01</td>\n      <td>6</td>\n      <td>2015</td>\n      <td>...</td>\n      <td>0.125282</td>\n      <td>-0.46156</td>\n      <td>-0.348278</td>\n      <td>1.360691</td>\n      <td>0.920973</td>\n      <td>1.130667</td>\n      <td>0.451216</td>\n      <td>0.289697</td>\n      <td>-1.421523</td>\n      <td>POINT (-122.29208 37.99751)</td>\n    </tr>\n    <tr>\n      <th>172</th>\n      <td>94564</td>\n      <td>Pinole</td>\n      <td>CA</td>\n      <td>37.997509</td>\n      <td>-122.29208</td>\n      <td>-8</td>\n      <td>1</td>\n      <td>2015-07-01</td>\n      <td>7</td>\n      <td>2015</td>\n      <td>...</td>\n      <td>0.176281</td>\n      <td>-0.46156</td>\n      <td>-0.348278</td>\n      <td>1.105006</td>\n      <td>0.967581</td>\n      <td>0.862880</td>\n      <td>0.583729</td>\n      <td>0.597575</td>\n      <td>-1.302409</td>\n      <td>POINT (-122.29208 37.99751)</td>\n    </tr>\n    <tr>\n      <th>173</th>\n      <td>94564</td>\n      <td>Pinole</td>\n      <td>CA</td>\n      <td>37.997509</td>\n      <td>-122.29208</td>\n      <td>-8</td>\n      <td>1</td>\n      <td>2015-08-01</td>\n      <td>8</td>\n      <td>2015</td>\n      <td>...</td>\n      <td>0.201780</td>\n      <td>-0.46156</td>\n      <td>-0.348278</td>\n      <td>0.837967</td>\n      <td>0.572117</td>\n      <td>0.703800</td>\n      <td>0.476408</td>\n      <td>0.649536</td>\n      <td>-0.843061</td>\n      <td>POINT (-122.29208 37.99751)</td>\n    </tr>\n    <tr>\n      <th>174</th>\n      <td>94564</td>\n      <td>Pinole</td>\n      <td>CA</td>\n      <td>37.997509</td>\n      <td>-122.29208</td>\n      <td>-8</td>\n      <td>1</td>\n      <td>2015-09-01</td>\n      <td>9</td>\n      <td>2015</td>\n      <td>...</td>\n      <td>0.178102</td>\n      <td>-0.46156</td>\n      <td>-0.348278</td>\n      <td>0.210477</td>\n      <td>-0.040829</td>\n      <td>0.271350</td>\n      <td>0.137867</td>\n      <td>0.638582</td>\n      <td>-0.170020</td>\n      <td>POINT (-122.29208 37.99751)</td>\n    </tr>\n    <tr>\n      <th>178</th>\n      <td>94564</td>\n      <td>Pinole</td>\n      <td>CA</td>\n      <td>37.997509</td>\n      <td>-122.29208</td>\n      <td>-8</td>\n      <td>1</td>\n      <td>2015-10-01</td>\n      <td>10</td>\n      <td>2015</td>\n      <td>...</td>\n      <td>0.168995</td>\n      <td>-0.46156</td>\n      <td>-0.348278</td>\n      <td>-0.380012</td>\n      <td>-0.745028</td>\n      <td>0.005117</td>\n      <td>-0.288070</td>\n      <td>0.489727</td>\n      <td>0.555379</td>\n      <td>POINT (-122.29208 37.99751)</td>\n    </tr>\n    <tr>\n      <th>179</th>\n      <td>94564</td>\n      <td>Pinole</td>\n      <td>CA</td>\n      <td>37.997509</td>\n      <td>-122.29208</td>\n      <td>-8</td>\n      <td>1</td>\n      <td>2015-11-01</td>\n      <td>11</td>\n      <td>2015</td>\n      <td>...</td>\n      <td>0.278279</td>\n      <td>-0.46156</td>\n      <td>-0.348278</td>\n      <td>-0.975705</td>\n      <td>-1.205143</td>\n      <td>-0.428277</td>\n      <td>0.238759</td>\n      <td>-0.715197</td>\n      <td>1.141501</td>\n      <td>POINT (-122.29208 37.99751)</td>\n    </tr>\n    <tr>\n      <th>180</th>\n      <td>94564</td>\n      <td>Pinole</td>\n      <td>CA</td>\n      <td>37.997509</td>\n      <td>-122.29208</td>\n      <td>-8</td>\n      <td>1</td>\n      <td>2015-12-01</td>\n      <td>12</td>\n      <td>2015</td>\n      <td>...</td>\n      <td>0.438561</td>\n      <td>-0.46156</td>\n      <td>-0.348278</td>\n      <td>-1.483433</td>\n      <td>-1.228008</td>\n      <td>-1.539688</td>\n      <td>0.528858</td>\n      <td>-1.019680</td>\n      <td>1.410745</td>\n      <td>POINT (-122.29208 37.99751)</td>\n    </tr>\n    <tr>\n      <th>184</th>\n      <td>94564</td>\n      <td>Pinole</td>\n      <td>CA</td>\n      <td>37.997509</td>\n      <td>-122.29208</td>\n      <td>-8</td>\n      <td>1</td>\n      <td>2016-01-01</td>\n      <td>1</td>\n      <td>2016</td>\n      <td>...</td>\n      <td>0.367527</td>\n      <td>-0.46156</td>\n      <td>-0.348278</td>\n      <td>-1.519419</td>\n      <td>-0.740182</td>\n      <td>-1.999423</td>\n      <td>0.370863</td>\n      <td>-0.890355</td>\n      <td>1.271868</td>\n      <td>POINT (-122.29208 37.99751)</td>\n    </tr>\n    <tr>\n      <th>185</th>\n      <td>94564</td>\n      <td>Pinole</td>\n      <td>CA</td>\n      <td>37.997509</td>\n      <td>-122.29208</td>\n      <td>-8</td>\n      <td>1</td>\n      <td>2016-02-01</td>\n      <td>2</td>\n      <td>2016</td>\n      <td>...</td>\n      <td>0.181745</td>\n      <td>-0.46156</td>\n      <td>-0.348278</td>\n      <td>-0.624832</td>\n      <td>-0.650816</td>\n      <td>-0.285240</td>\n      <td>-0.065371</td>\n      <td>-0.578169</td>\n      <td>0.791204</td>\n      <td>POINT (-122.29208 37.99751)</td>\n    </tr>\n    <tr>\n      <th>186</th>\n      <td>94564</td>\n      <td>Pinole</td>\n      <td>CA</td>\n      <td>37.997509</td>\n      <td>-122.29208</td>\n      <td>-8</td>\n      <td>1</td>\n      <td>2016-03-01</td>\n      <td>3</td>\n      <td>2016</td>\n      <td>...</td>\n      <td>0.207245</td>\n      <td>-0.46156</td>\n      <td>-0.348278</td>\n      <td>-0.415110</td>\n      <td>0.212509</td>\n      <td>-0.759750</td>\n      <td>0.842267</td>\n      <td>-0.533095</td>\n      <td>0.081522</td>\n      <td>POINT (-122.29208 37.99751)</td>\n    </tr>\n    <tr>\n      <th>190</th>\n      <td>94564</td>\n      <td>Pinole</td>\n      <td>CA</td>\n      <td>37.997509</td>\n      <td>-122.29208</td>\n      <td>-8</td>\n      <td>1</td>\n      <td>2016-04-01</td>\n      <td>4</td>\n      <td>2016</td>\n      <td>...</td>\n      <td>0.119818</td>\n      <td>-0.46156</td>\n      <td>-0.348278</td>\n      <td>0.512991</td>\n      <td>0.905798</td>\n      <td>0.180871</td>\n      <td>0.540935</td>\n      <td>-0.265369</td>\n      <td>-0.640021</td>\n      <td>POINT (-122.29208 37.99751)</td>\n    </tr>\n    <tr>\n      <th>191</th>\n      <td>94564</td>\n      <td>Pinole</td>\n      <td>CA</td>\n      <td>37.997509</td>\n      <td>-122.29208</td>\n      <td>-8</td>\n      <td>1</td>\n      <td>2016-05-01</td>\n      <td>5</td>\n      <td>2016</td>\n      <td>...</td>\n      <td>0.139853</td>\n      <td>-0.46156</td>\n      <td>-0.348278</td>\n      <td>0.880568</td>\n      <td>1.535394</td>\n      <td>0.348085</td>\n      <td>0.302274</td>\n      <td>-0.081843</td>\n      <td>-1.185769</td>\n      <td>POINT (-122.29208 37.99751)</td>\n    </tr>\n    <tr>\n      <th>192</th>\n      <td>94564</td>\n      <td>Pinole</td>\n      <td>CA</td>\n      <td>37.997509</td>\n      <td>-122.29208</td>\n      <td>-8</td>\n      <td>1</td>\n      <td>2016-06-01</td>\n      <td>6</td>\n      <td>2016</td>\n      <td>...</td>\n      <td>0.143496</td>\n      <td>-0.46156</td>\n      <td>-0.348278</td>\n      <td>1.422602</td>\n      <td>0.794489</td>\n      <td>1.358507</td>\n      <td>0.806423</td>\n      <td>0.309504</td>\n      <td>-1.423022</td>\n      <td>POINT (-122.29208 37.99751)</td>\n    </tr>\n    <tr>\n      <th>196</th>\n      <td>94564</td>\n      <td>Pinole</td>\n      <td>CA</td>\n      <td>37.997509</td>\n      <td>-122.29208</td>\n      <td>-8</td>\n      <td>1</td>\n      <td>2016-07-01</td>\n      <td>7</td>\n      <td>2016</td>\n      <td>...</td>\n      <td>0.156246</td>\n      <td>-0.46156</td>\n      <td>-0.348278</td>\n      <td>1.484477</td>\n      <td>-0.051605</td>\n      <td>1.767137</td>\n      <td>0.675879</td>\n      <td>0.321836</td>\n      <td>-1.294947</td>\n      <td>POINT (-122.29208 37.99751)</td>\n    </tr>\n    <tr>\n      <th>197</th>\n      <td>94564</td>\n      <td>Pinole</td>\n      <td>CA</td>\n      <td>37.997509</td>\n      <td>-122.29208</td>\n      <td>-8</td>\n      <td>1</td>\n      <td>2016-08-01</td>\n      <td>8</td>\n      <td>2016</td>\n      <td>...</td>\n      <td>0.139853</td>\n      <td>-0.46156</td>\n      <td>-0.348278</td>\n      <td>0.835568</td>\n      <td>0.543566</td>\n      <td>0.677588</td>\n      <td>0.575175</td>\n      <td>0.270106</td>\n      <td>-0.828374</td>\n      <td>POINT (-122.29208 37.99751)</td>\n    </tr>\n    <tr>\n      <th>198</th>\n      <td>94564</td>\n      <td>Pinole</td>\n      <td>CA</td>\n      <td>37.997509</td>\n      <td>-122.29208</td>\n      <td>-8</td>\n      <td>1</td>\n      <td>2016-09-01</td>\n      <td>9</td>\n      <td>2016</td>\n      <td>...</td>\n      <td>0.148960</td>\n      <td>-0.46156</td>\n      <td>-0.348278</td>\n      <td>0.423953</td>\n      <td>-0.432836</td>\n      <td>0.817685</td>\n      <td>0.308299</td>\n      <td>0.416890</td>\n      <td>-0.151844</td>\n      <td>POINT (-122.29208 37.99751)</td>\n    </tr>\n    <tr>\n      <th>202</th>\n      <td>94564</td>\n      <td>Pinole</td>\n      <td>CA</td>\n      <td>37.997509</td>\n      <td>-122.29208</td>\n      <td>-8</td>\n      <td>1</td>\n      <td>2016-10-01</td>\n      <td>10</td>\n      <td>2016</td>\n      <td>...</td>\n      <td>0.190852</td>\n      <td>-0.46156</td>\n      <td>-0.348278</td>\n      <td>-0.702334</td>\n      <td>-0.545022</td>\n      <td>-0.701039</td>\n      <td>0.148314</td>\n      <td>0.044480</td>\n      <td>0.572409</td>\n      <td>POINT (-122.29208 37.99751)</td>\n    </tr>\n    <tr>\n      <th>203</th>\n      <td>94564</td>\n      <td>Pinole</td>\n      <td>CA</td>\n      <td>37.997509</td>\n      <td>-122.29208</td>\n      <td>-8</td>\n      <td>1</td>\n      <td>2016-11-01</td>\n      <td>11</td>\n      <td>2016</td>\n      <td>...</td>\n      <td>0.250958</td>\n      <td>-0.46156</td>\n      <td>-0.348278</td>\n      <td>-1.060416</td>\n      <td>-1.006327</td>\n      <td>-0.761621</td>\n      <td>-0.125120</td>\n      <td>-0.373471</td>\n      <td>1.152615</td>\n      <td>POINT (-122.29208 37.99751)</td>\n    </tr>\n    <tr>\n      <th>204</th>\n      <td>94564</td>\n      <td>Pinole</td>\n      <td>CA</td>\n      <td>37.997509</td>\n      <td>-122.29208</td>\n      <td>-8</td>\n      <td>1</td>\n      <td>2016-12-01</td>\n      <td>12</td>\n      <td>2016</td>\n      <td>...</td>\n      <td>0.458597</td>\n      <td>-0.46156</td>\n      <td>-0.348278</td>\n      <td>-1.370940</td>\n      <td>-1.526041</td>\n      <td>-1.019417</td>\n      <td>0.398298</td>\n      <td>-1.179719</td>\n      <td>1.412558</td>\n      <td>POINT (-122.29208 37.99751)</td>\n    </tr>\n    <tr>\n      <th>208</th>\n      <td>94564</td>\n      <td>Pinole</td>\n      <td>CA</td>\n      <td>37.997509</td>\n      <td>-122.29208</td>\n      <td>-8</td>\n      <td>1</td>\n      <td>2017-01-01</td>\n      <td>1</td>\n      <td>2017</td>\n      <td>...</td>\n      <td>0.431276</td>\n      <td>-0.46156</td>\n      <td>-0.348278</td>\n      <td>-1.361787</td>\n      <td>-1.137957</td>\n      <td>-1.430707</td>\n      <td>0.823546</td>\n      <td>-1.235144</td>\n      <td>1.263304</td>\n      <td>POINT (-122.29208 37.99751)</td>\n    </tr>\n  </tbody>\n</table>\n<p>50 rows × 36 columns</p>\n</div>"
          },
          "metadata": {}
        }
      ],
      "execution_count": null
    },
    {
      "cell_type": "code",
      "metadata": {
        "tags": [],
        "deepnote_to_be_reexecuted": false,
        "source_hash": "f599aca2",
        "execution_millis": 191,
        "cell_id": "00023-9f8538c5-d103-4fad-b854-1b94fc378ce9",
        "execution_start": 1619133837181,
        "deepnote_cell_type": "code"
      },
      "source": "pinole= lag_by_zipcode(bay_area_monthly_elec_pge_nrel_clean, 3, 94564, zip_col='zip', time_col='DATE')\npinole.columns",
      "outputs": [
        {
          "output_type": "execute_result",
          "execution_count": 55,
          "data": {
            "text/plain": "Index(['zip', 'city', 'state', 'latitude', 'longitude', 'timezone', 'dst',\n       'DATE', 'MONTH', 'YEAR', 'DAY', 'CUSTOMERCL', 'COMBINED',\n       'TOTALCUSTO_raw', 'TOTALKWH_raw', 'AVERAGEKWH_raw', 'TOTALTHERM_raw',\n       'AVERAGETHERM_raw', 'GHI_raw', 'DHI_raw', 'DNI_raw', 'Wind Speed',\n       'Temperature_raw', 'Solar_Zenith_Angle_raw', 'TOTALCUS_std',\n       'TOTALKWH_std', 'AVERAGEKWH_std', 'TOTALTHERM_std', 'AVERAGETHERM_std',\n       'GHI_std', 'DHI_std', 'DNI_std', 'Wind_Speed_std', 'Temperature_std',\n       'Solar_Zenith_Angle_std', 'geometry', 'Temperature_raw lag l=1',\n       'Wind Speed lag l=1', 'GHI_raw lag l=1', 'DNI_raw lag l=1',\n       'Temperature_raw lag l=2', 'Wind Speed lag l=2', 'GHI_raw lag l=2',\n       'DNI_raw lag l=2', 'Temperature_raw lag l=3', 'Wind Speed lag l=3',\n       'GHI_raw lag l=3', 'DNI_raw lag l=3'],\n      dtype='object')"
          },
          "metadata": {}
        }
      ],
      "execution_count": null
    },
    {
      "cell_type": "code",
      "source": "pinole[['Temperature_raw', 'Wind Speed', 'GHI_raw', 'DNI_raw', 'Temperature_raw lag l=1',\n       'Wind Speed lag l=1', 'GHI_raw lag l=1', 'DNI_raw lag l=1',\n       'Temperature_raw lag l=2', 'Wind Speed lag l=2', 'GHI_raw lag l=2',\n       'DNI_raw lag l=2', 'Temperature_raw lag l=3', 'Wind Speed lag l=3',\n       'GHI_raw lag l=3', 'DNI_raw lag l=3']]",
      "metadata": {
        "tags": [],
        "cell_id": "00024-5b4428f6-21f3-4c50-9dd7-714d6dd39d4a",
        "deepnote_to_be_reexecuted": false,
        "source_hash": "3fa7090f",
        "execution_millis": 146,
        "execution_start": 1619133892934,
        "deepnote_cell_type": "code"
      },
      "outputs": [
        {
          "output_type": "execute_result",
          "execution_count": 56,
          "data": {
            "application/vnd.deepnote.dataframe.v2+json": {
              "row_count": 29858,
              "column_count": 16,
              "columns": [
                {
                  "name": "Temperature_raw",
                  "dtype": "float64",
                  "stats": {
                    "unique_count": 16409,
                    "nan_count": 0,
                    "min": "2.677419354838709",
                    "max": "27.49529569892475",
                    "histogram": [
                      {
                        "bin_start": 2.677419354838709,
                        "bin_end": 5.159206989247313,
                        "count": 34
                      },
                      {
                        "bin_start": 5.159206989247313,
                        "bin_end": 7.640994623655917,
                        "count": 675
                      },
                      {
                        "bin_start": 7.640994623655917,
                        "bin_end": 10.122782258064522,
                        "count": 3008
                      },
                      {
                        "bin_start": 10.122782258064522,
                        "bin_end": 12.604569892473126,
                        "count": 6817
                      },
                      {
                        "bin_start": 12.604569892473126,
                        "bin_end": 15.08635752688173,
                        "count": 6566
                      },
                      {
                        "bin_start": 15.08635752688173,
                        "bin_end": 17.56814516129033,
                        "count": 4876
                      },
                      {
                        "bin_start": 17.56814516129033,
                        "bin_end": 20.049932795698936,
                        "count": 5151
                      },
                      {
                        "bin_start": 20.049932795698936,
                        "bin_end": 22.53172043010754,
                        "count": 2242
                      },
                      {
                        "bin_start": 22.53172043010754,
                        "bin_end": 25.013508064516145,
                        "count": 437
                      },
                      {
                        "bin_start": 25.013508064516145,
                        "bin_end": 27.49529569892475,
                        "count": 52
                      }
                    ]
                  }
                },
                {
                  "name": "Wind Speed",
                  "dtype": "object",
                  "stats": {
                    "unique_count": 6512,
                    "nan_count": 0,
                    "categories": [
                      {
                        "name": "2.017361111111112",
                        "count": 148
                      },
                      {
                        "name": "2.0611607142857156",
                        "count": 144
                      },
                      {
                        "name": "6510 others",
                        "count": 29566
                      }
                    ]
                  }
                },
                {
                  "name": "GHI_raw",
                  "dtype": "object",
                  "stats": {
                    "unique_count": 19669,
                    "nan_count": 0,
                    "categories": [
                      {
                        "name": "209.2263888888889",
                        "count": 14
                      },
                      {
                        "name": "118.6989247311828",
                        "count": 13
                      },
                      {
                        "name": "19667 others",
                        "count": 29831
                      }
                    ]
                  }
                },
                {
                  "name": "DNI_raw",
                  "dtype": "object"
                },
                {
                  "name": "Temperature_raw lag l=1",
                  "dtype": "float64"
                },
                {
                  "name": "Wind Speed lag l=1",
                  "dtype": "object"
                },
                {
                  "name": "GHI_raw lag l=1",
                  "dtype": "object"
                },
                {
                  "name": "DNI_raw lag l=1",
                  "dtype": "object"
                },
                {
                  "name": "Temperature_raw lag l=2",
                  "dtype": "float64"
                },
                {
                  "name": "Wind Speed lag l=2",
                  "dtype": "object"
                },
                {
                  "name": "GHI_raw lag l=2",
                  "dtype": "object"
                },
                {
                  "name": "DNI_raw lag l=2",
                  "dtype": "object"
                },
                {
                  "name": "Temperature_raw lag l=3",
                  "dtype": "float64"
                },
                {
                  "name": "Wind Speed lag l=3",
                  "dtype": "object"
                },
                {
                  "name": "GHI_raw lag l=3",
                  "dtype": "object"
                },
                {
                  "name": "DNI_raw lag l=3",
                  "dtype": "object"
                },
                {
                  "name": "_deepnote_index_column",
                  "dtype": "int64"
                }
              ],
              "rows_top": [
                {
                  "Temperature_raw": 7.276881720430108,
                  "Wind Speed": "2.123252688172044",
                  "GHI_raw": "116.13037634408602",
                  "DNI_raw": "222.91935483870967",
                  "Temperature_raw lag l=1": "nan",
                  "Wind Speed lag l=1": "nan",
                  "GHI_raw lag l=1": "nan",
                  "DNI_raw lag l=1": "nan",
                  "Temperature_raw lag l=2": "nan",
                  "Wind Speed lag l=2": "nan",
                  "GHI_raw lag l=2": "nan",
                  "DNI_raw lag l=2": "nan",
                  "Temperature_raw lag l=3": "nan",
                  "Wind Speed lag l=3": "nan",
                  "GHI_raw lag l=3": "nan",
                  "DNI_raw lag l=3": "nan",
                  "_deepnote_index_column": 0
                },
                {
                  "Temperature_raw": 9.022321428571429,
                  "Wind Speed": "2.1078869047619047",
                  "GHI_raw": "162.37946428571428",
                  "DNI_raw": "262.79017857142856",
                  "Temperature_raw lag l=1": "7.276881720430108",
                  "Wind Speed lag l=1": "2.123252688172044",
                  "GHI_raw lag l=1": "116.13037634408602",
                  "DNI_raw lag l=1": "222.91935483870967",
                  "Temperature_raw lag l=2": "nan",
                  "Wind Speed lag l=2": "nan",
                  "GHI_raw lag l=2": "nan",
                  "DNI_raw lag l=2": "nan",
                  "Temperature_raw lag l=3": "nan",
                  "Wind Speed lag l=3": "nan",
                  "GHI_raw lag l=3": "nan",
                  "DNI_raw lag l=3": "nan",
                  "_deepnote_index_column": 1
                },
                {
                  "Temperature_raw": 11.189516129032258,
                  "Wind Speed": "2.017607526881722",
                  "GHI_raw": "190.54569892473117",
                  "DNI_raw": "211.2741935483871",
                  "Temperature_raw lag l=1": "9.022321428571429",
                  "Wind Speed lag l=1": "2.1078869047619047",
                  "GHI_raw lag l=1": "162.37946428571428",
                  "DNI_raw lag l=1": "262.79017857142856",
                  "Temperature_raw lag l=2": "7.276881720430108",
                  "Wind Speed lag l=2": "2.123252688172044",
                  "GHI_raw lag l=2": "116.13037634408602",
                  "DNI_raw lag l=2": "222.91935483870967",
                  "Temperature_raw lag l=3": "nan",
                  "Wind Speed lag l=3": "nan",
                  "GHI_raw lag l=3": "nan",
                  "DNI_raw lag l=3": "nan",
                  "_deepnote_index_column": 2
                },
                {
                  "Temperature_raw": 13.59722222222222,
                  "Wind Speed": "2.380277777777777",
                  "GHI_raw": "275.21666666666664",
                  "DNI_raw": "325.02916666666664",
                  "Temperature_raw lag l=1": "11.189516129032258",
                  "Wind Speed lag l=1": "2.017607526881722",
                  "GHI_raw lag l=1": "190.54569892473117",
                  "DNI_raw lag l=1": "211.2741935483871",
                  "Temperature_raw lag l=2": "9.022321428571429",
                  "Wind Speed lag l=2": "2.1078869047619047",
                  "GHI_raw lag l=2": "162.37946428571428",
                  "DNI_raw lag l=2": "262.79017857142856",
                  "Temperature_raw lag l=3": "7.276881720430108",
                  "Wind Speed lag l=3": "2.123252688172044",
                  "GHI_raw lag l=3": "116.13037634408602",
                  "DNI_raw lag l=3": "222.91935483870967",
                  "_deepnote_index_column": 3
                },
                {
                  "Temperature_raw": 15.333333333333334,
                  "Wind Speed": "2.6719086021505336",
                  "GHI_raw": "312.744623655914",
                  "DNI_raw": "354.96639784946234",
                  "Temperature_raw lag l=1": "13.59722222222222",
                  "Wind Speed lag l=1": "2.380277777777777",
                  "GHI_raw lag l=1": "275.21666666666664",
                  "DNI_raw lag l=1": "325.02916666666664",
                  "Temperature_raw lag l=2": "11.189516129032258",
                  "Wind Speed lag l=2": "2.017607526881722",
                  "GHI_raw lag l=2": "190.54569892473117",
                  "DNI_raw lag l=2": "211.2741935483871",
                  "Temperature_raw lag l=3": "9.022321428571429",
                  "Wind Speed lag l=3": "2.1078869047619047",
                  "GHI_raw lag l=3": "162.37946428571428",
                  "DNI_raw lag l=3": "262.79017857142856",
                  "_deepnote_index_column": 4
                },
                {
                  "Temperature_raw": 17.209722222222222,
                  "Wind Speed": "2.521250000000002",
                  "GHI_raw": "319.33194444444445",
                  "DNI_raw": "367.96527777777777",
                  "Temperature_raw lag l=1": "15.333333333333334",
                  "Wind Speed lag l=1": "2.6719086021505336",
                  "GHI_raw lag l=1": "312.744623655914",
                  "DNI_raw lag l=1": "354.96639784946234",
                  "Temperature_raw lag l=2": "13.59722222222222",
                  "Wind Speed lag l=2": "2.380277777777777",
                  "GHI_raw lag l=2": "275.21666666666664",
                  "DNI_raw lag l=2": "325.02916666666664",
                  "Temperature_raw lag l=3": "11.189516129032258",
                  "Wind Speed lag l=3": "2.017607526881722",
                  "GHI_raw lag l=3": "190.54569892473117",
                  "DNI_raw lag l=3": "211.2741935483871",
                  "_deepnote_index_column": 5
                },
                {
                  "Temperature_raw": 17.428763440860216,
                  "Wind Speed": "2.292204301075269",
                  "GHI_raw": "311.27150537634407",
                  "DNI_raw": "350.7741935483871",
                  "Temperature_raw lag l=1": "17.209722222222222",
                  "Wind Speed lag l=1": "2.521250000000002",
                  "GHI_raw lag l=1": "319.33194444444445",
                  "DNI_raw lag l=1": "367.96527777777777",
                  "Temperature_raw lag l=2": "15.333333333333334",
                  "Wind Speed lag l=2": "2.6719086021505336",
                  "GHI_raw lag l=2": "312.744623655914",
                  "DNI_raw lag l=2": "354.96639784946234",
                  "Temperature_raw lag l=3": "13.59722222222222",
                  "Wind Speed lag l=3": "2.380277777777777",
                  "GHI_raw lag l=3": "275.21666666666664",
                  "DNI_raw lag l=3": "325.02916666666664",
                  "_deepnote_index_column": 6
                },
                {
                  "Temperature_raw": 17.919354838709676,
                  "Wind Speed": "2.2887096774193565",
                  "GHI_raw": "291.1532258064516",
                  "DNI_raw": "357.65994623655916",
                  "Temperature_raw lag l=1": "17.428763440860216",
                  "Wind Speed lag l=1": "2.292204301075269",
                  "GHI_raw lag l=1": "311.27150537634407",
                  "DNI_raw lag l=1": "350.7741935483871",
                  "Temperature_raw lag l=2": "17.209722222222222",
                  "Wind Speed lag l=2": "2.521250000000002",
                  "GHI_raw lag l=2": "319.33194444444445",
                  "DNI_raw lag l=2": "367.96527777777777",
                  "Temperature_raw lag l=3": "15.333333333333334",
                  "Wind Speed lag l=3": "2.6719086021505336",
                  "GHI_raw lag l=3": "312.744623655914",
                  "DNI_raw lag l=3": "354.96639784946234",
                  "_deepnote_index_column": 7
                },
                {
                  "Temperature_raw": 18.056944444444444,
                  "Wind Speed": "2.261666666666668",
                  "GHI_raw": "243.5847222222222",
                  "DNI_raw": "337.17083333333335",
                  "Temperature_raw lag l=1": "17.919354838709676",
                  "Wind Speed lag l=1": "2.2887096774193565",
                  "GHI_raw lag l=1": "291.1532258064516",
                  "DNI_raw lag l=1": "357.65994623655916",
                  "Temperature_raw lag l=2": "17.428763440860216",
                  "Wind Speed lag l=2": "2.292204301075269",
                  "GHI_raw lag l=2": "311.27150537634407",
                  "DNI_raw lag l=2": "350.7741935483871",
                  "Temperature_raw lag l=3": "17.209722222222222",
                  "Wind Speed lag l=3": "2.521250000000002",
                  "GHI_raw lag l=3": "319.33194444444445",
                  "DNI_raw lag l=3": "367.96527777777777",
                  "_deepnote_index_column": 8
                },
                {
                  "Temperature_raw": 14.932795698924732,
                  "Wind Speed": "1.750403225806451",
                  "GHI_raw": "187.68548387096774",
                  "DNI_raw": "293.84005376344084",
                  "Temperature_raw lag l=1": "18.056944444444444",
                  "Wind Speed lag l=1": "2.261666666666668",
                  "GHI_raw lag l=1": "243.5847222222222",
                  "DNI_raw lag l=1": "337.17083333333335",
                  "Temperature_raw lag l=2": "17.919354838709676",
                  "Wind Speed lag l=2": "2.2887096774193565",
                  "GHI_raw lag l=2": "291.1532258064516",
                  "DNI_raw lag l=2": "357.65994623655916",
                  "Temperature_raw lag l=3": "17.428763440860216",
                  "Wind Speed lag l=3": "2.292204301075269",
                  "GHI_raw lag l=3": "311.27150537634407",
                  "DNI_raw lag l=3": "350.7741935483871",
                  "_deepnote_index_column": 9
                },
                {
                  "Temperature_raw": 12.643055555555556,
                  "Wind Speed": "1.733611111111114",
                  "GHI_raw": "122.75416666666666",
                  "DNI_raw": "219.02916666666667",
                  "Temperature_raw lag l=1": "14.932795698924732",
                  "Wind Speed lag l=1": "1.750403225806451",
                  "GHI_raw lag l=1": "187.68548387096774",
                  "DNI_raw lag l=1": "293.84005376344084",
                  "Temperature_raw lag l=2": "18.056944444444444",
                  "Wind Speed lag l=2": "2.261666666666668",
                  "GHI_raw lag l=2": "243.5847222222222",
                  "DNI_raw lag l=2": "337.17083333333335",
                  "Temperature_raw lag l=3": "17.919354838709676",
                  "Wind Speed lag l=3": "2.2887096774193565",
                  "GHI_raw lag l=3": "291.1532258064516",
                  "DNI_raw lag l=3": "357.65994623655916",
                  "_deepnote_index_column": 10
                },
                {
                  "Temperature_raw": 8.169354838709678,
                  "Wind Speed": "1.9712365591397853",
                  "GHI_raw": "111.27150537634408",
                  "DNI_raw": "241.13575268817203",
                  "Temperature_raw lag l=1": "12.643055555555556",
                  "Wind Speed lag l=1": "1.733611111111114",
                  "GHI_raw lag l=1": "122.75416666666666",
                  "DNI_raw lag l=1": "219.02916666666667",
                  "Temperature_raw lag l=2": "14.932795698924732",
                  "Wind Speed lag l=2": "1.750403225806451",
                  "GHI_raw lag l=2": "187.68548387096774",
                  "DNI_raw lag l=2": "293.84005376344084",
                  "Temperature_raw lag l=3": "18.056944444444444",
                  "Wind Speed lag l=3": "2.261666666666668",
                  "GHI_raw lag l=3": "243.5847222222222",
                  "DNI_raw lag l=3": "337.17083333333335",
                  "_deepnote_index_column": 11
                },
                {
                  "Temperature_raw": 10.813172043010752,
                  "Wind Speed": "1.7182795698924735",
                  "GHI_raw": "116.11290322580645",
                  "DNI_raw": "218.20698924731184",
                  "Temperature_raw lag l=1": "8.169354838709678",
                  "Wind Speed lag l=1": "1.9712365591397853",
                  "GHI_raw lag l=1": "111.27150537634408",
                  "DNI_raw lag l=1": "241.13575268817203",
                  "Temperature_raw lag l=2": "12.643055555555556",
                  "Wind Speed lag l=2": "1.733611111111114",
                  "GHI_raw lag l=2": "122.75416666666666",
                  "DNI_raw lag l=2": "219.02916666666667",
                  "Temperature_raw lag l=3": "14.932795698924732",
                  "Wind Speed lag l=3": "1.750403225806451",
                  "GHI_raw lag l=3": "187.68548387096774",
                  "DNI_raw lag l=3": "293.84005376344084",
                  "_deepnote_index_column": 12
                },
                {
                  "Temperature_raw": 10.925595238095235,
                  "Wind Speed": "2.0611607142857156",
                  "GHI_raw": "125.19047619047619",
                  "DNI_raw": "158.35565476190476",
                  "Temperature_raw lag l=1": "10.813172043010752",
                  "Wind Speed lag l=1": "1.7182795698924735",
                  "GHI_raw lag l=1": "116.11290322580645",
                  "DNI_raw lag l=1": "218.20698924731184",
                  "Temperature_raw lag l=2": "8.169354838709678",
                  "Wind Speed lag l=2": "1.9712365591397853",
                  "GHI_raw lag l=2": "111.27150537634408",
                  "DNI_raw lag l=2": "241.13575268817203",
                  "Temperature_raw lag l=3": "12.643055555555556",
                  "Wind Speed lag l=3": "1.733611111111114",
                  "GHI_raw lag l=3": "122.75416666666666",
                  "DNI_raw lag l=3": "219.02916666666667",
                  "_deepnote_index_column": 13
                },
                {
                  "Temperature_raw": 10.925595238095235,
                  "Wind Speed": "2.0611607142857156",
                  "GHI_raw": "125.19047619047619",
                  "DNI_raw": "158.35565476190476",
                  "Temperature_raw lag l=1": "10.925595238095235",
                  "Wind Speed lag l=1": "2.0611607142857156",
                  "GHI_raw lag l=1": "125.19047619047619",
                  "DNI_raw lag l=1": "158.35565476190476",
                  "Temperature_raw lag l=2": "10.813172043010752",
                  "Wind Speed lag l=2": "1.7182795698924735",
                  "GHI_raw lag l=2": "116.11290322580645",
                  "DNI_raw lag l=2": "218.20698924731184",
                  "Temperature_raw lag l=3": "8.169354838709678",
                  "Wind Speed lag l=3": "1.9712365591397853",
                  "GHI_raw lag l=3": "111.27150537634408",
                  "DNI_raw lag l=3": "241.13575268817203",
                  "_deepnote_index_column": 14
                },
                {
                  "Temperature_raw": 12.83736559139785,
                  "Wind Speed": "2.112903225806453",
                  "GHI_raw": "189.59543010752688",
                  "DNI_raw": "227.41397849462365",
                  "Temperature_raw lag l=1": "10.925595238095235",
                  "Wind Speed lag l=1": "2.0611607142857156",
                  "GHI_raw lag l=1": "125.19047619047619",
                  "DNI_raw lag l=1": "158.35565476190476",
                  "Temperature_raw lag l=2": "10.925595238095235",
                  "Wind Speed lag l=2": "2.0611607142857156",
                  "GHI_raw lag l=2": "125.19047619047619",
                  "DNI_raw lag l=2": "158.35565476190476",
                  "Temperature_raw lag l=3": "10.813172043010752",
                  "Wind Speed lag l=3": "1.7182795698924735",
                  "GHI_raw lag l=3": "116.11290322580645",
                  "DNI_raw lag l=3": "218.20698924731184",
                  "_deepnote_index_column": 15
                },
                {
                  "Temperature_raw": 13.569444444444445,
                  "Wind Speed": "2.219722222222223",
                  "GHI_raw": "265.2611111111111",
                  "DNI_raw": "294.6666666666667",
                  "Temperature_raw lag l=1": "12.83736559139785",
                  "Wind Speed lag l=1": "2.112903225806453",
                  "GHI_raw lag l=1": "189.59543010752688",
                  "DNI_raw lag l=1": "227.41397849462365",
                  "Temperature_raw lag l=2": "10.925595238095235",
                  "Wind Speed lag l=2": "2.0611607142857156",
                  "GHI_raw lag l=2": "125.19047619047619",
                  "DNI_raw lag l=2": "158.35565476190476",
                  "Temperature_raw lag l=3": "10.925595238095235",
                  "Wind Speed lag l=3": "2.0611607142857156",
                  "GHI_raw lag l=3": "125.19047619047619",
                  "DNI_raw lag l=3": "158.35565476190476",
                  "_deepnote_index_column": 16
                },
                {
                  "Temperature_raw": 16.032258064516128,
                  "Wind Speed": "2.526478494623656",
                  "GHI_raw": "325.43951612903226",
                  "DNI_raw": "363.5766129032258",
                  "Temperature_raw lag l=1": "13.569444444444445",
                  "Wind Speed lag l=1": "2.219722222222223",
                  "GHI_raw lag l=1": "265.2611111111111",
                  "DNI_raw lag l=1": "294.6666666666667",
                  "Temperature_raw lag l=2": "12.83736559139785",
                  "Wind Speed lag l=2": "2.112903225806453",
                  "GHI_raw lag l=2": "189.59543010752688",
                  "DNI_raw lag l=2": "227.41397849462365",
                  "Temperature_raw lag l=3": "10.925595238095235",
                  "Wind Speed lag l=3": "2.0611607142857156",
                  "GHI_raw lag l=3": "125.19047619047619",
                  "DNI_raw lag l=3": "158.35565476190476",
                  "_deepnote_index_column": 17
                },
                {
                  "Temperature_raw": 17.3375,
                  "Wind Speed": "2.469444444444445",
                  "GHI_raw": "348.5083333333333",
                  "DNI_raw": "402.43611111111113",
                  "Temperature_raw lag l=1": "16.032258064516128",
                  "Wind Speed lag l=1": "2.526478494623656",
                  "GHI_raw lag l=1": "325.43951612903226",
                  "DNI_raw lag l=1": "363.5766129032258",
                  "Temperature_raw lag l=2": "13.569444444444445",
                  "Wind Speed lag l=2": "2.219722222222223",
                  "GHI_raw lag l=2": "265.2611111111111",
                  "DNI_raw lag l=2": "294.6666666666667",
                  "Temperature_raw lag l=3": "12.83736559139785",
                  "Wind Speed lag l=3": "2.112903225806453",
                  "GHI_raw lag l=3": "189.59543010752688",
                  "DNI_raw lag l=3": "227.41397849462365",
                  "_deepnote_index_column": 18
                },
                {
                  "Temperature_raw": 10.925595238095235,
                  "Wind Speed": "2.0611607142857156",
                  "GHI_raw": "125.19047619047619",
                  "DNI_raw": "158.35565476190476",
                  "Temperature_raw lag l=1": "10.813172043010752",
                  "Wind Speed lag l=1": "1.7182795698924735",
                  "GHI_raw lag l=1": "116.11290322580645",
                  "DNI_raw lag l=1": "218.20698924731184",
                  "Temperature_raw lag l=2": "8.169354838709678",
                  "Wind Speed lag l=2": "1.9712365591397853",
                  "GHI_raw lag l=2": "111.27150537634408",
                  "DNI_raw lag l=2": "241.13575268817203",
                  "Temperature_raw lag l=3": "12.643055555555556",
                  "Wind Speed lag l=3": "1.733611111111114",
                  "GHI_raw lag l=3": "122.75416666666666",
                  "DNI_raw lag l=3": "219.02916666666667",
                  "_deepnote_index_column": 19
                },
                {
                  "Temperature_raw": 10.925595238095235,
                  "Wind Speed": "2.0611607142857156",
                  "GHI_raw": "125.19047619047619",
                  "DNI_raw": "158.35565476190476",
                  "Temperature_raw lag l=1": "10.925595238095235",
                  "Wind Speed lag l=1": "2.0611607142857156",
                  "GHI_raw lag l=1": "125.19047619047619",
                  "DNI_raw lag l=1": "158.35565476190476",
                  "Temperature_raw lag l=2": "10.813172043010752",
                  "Wind Speed lag l=2": "1.7182795698924735",
                  "GHI_raw lag l=2": "116.11290322580645",
                  "DNI_raw lag l=2": "218.20698924731184",
                  "Temperature_raw lag l=3": "8.169354838709678",
                  "Wind Speed lag l=3": "1.9712365591397853",
                  "GHI_raw lag l=3": "111.27150537634408",
                  "DNI_raw lag l=3": "241.13575268817203",
                  "_deepnote_index_column": 20
                },
                {
                  "Temperature_raw": 18.912634408602152,
                  "Wind Speed": "2.130645161290323",
                  "GHI_raw": "315.0483870967742",
                  "DNI_raw": "352.1263440860215",
                  "Temperature_raw lag l=1": "17.3375",
                  "Wind Speed lag l=1": "2.469444444444445",
                  "GHI_raw lag l=1": "348.5083333333333",
                  "DNI_raw lag l=1": "402.43611111111113",
                  "Temperature_raw lag l=2": "16.032258064516128",
                  "Wind Speed lag l=2": "2.526478494623656",
                  "GHI_raw lag l=2": "325.43951612903226",
                  "DNI_raw lag l=2": "363.5766129032258",
                  "Temperature_raw lag l=3": "13.569444444444445",
                  "Wind Speed lag l=3": "2.219722222222223",
                  "GHI_raw lag l=3": "265.2611111111111",
                  "DNI_raw lag l=3": "294.6666666666667",
                  "_deepnote_index_column": 21
                },
                {
                  "Temperature_raw": 18.6747311827957,
                  "Wind Speed": "2.199596774193552",
                  "GHI_raw": "272.89784946236557",
                  "DNI_raw": "300.10752688172045",
                  "Temperature_raw lag l=1": "18.912634408602152",
                  "Wind Speed lag l=1": "2.130645161290323",
                  "GHI_raw lag l=1": "315.0483870967742",
                  "DNI_raw lag l=1": "352.1263440860215",
                  "Temperature_raw lag l=2": "17.3375",
                  "Wind Speed lag l=2": "2.469444444444445",
                  "GHI_raw lag l=2": "348.5083333333333",
                  "DNI_raw lag l=2": "402.43611111111113",
                  "Temperature_raw lag l=3": "16.032258064516128",
                  "Wind Speed lag l=3": "2.526478494623656",
                  "GHI_raw lag l=3": "325.43951612903226",
                  "DNI_raw lag l=3": "363.5766129032258",
                  "_deepnote_index_column": 22
                },
                {
                  "Temperature_raw": 18.773611111111112,
                  "Wind Speed": "1.9943055555555567",
                  "GHI_raw": "239.3138888888889",
                  "DNI_raw": "310.4263888888889",
                  "Temperature_raw lag l=1": "18.6747311827957",
                  "Wind Speed lag l=1": "2.199596774193552",
                  "GHI_raw lag l=1": "272.89784946236557",
                  "DNI_raw lag l=1": "300.10752688172045",
                  "Temperature_raw lag l=2": "18.912634408602152",
                  "Wind Speed lag l=2": "2.130645161290323",
                  "GHI_raw lag l=2": "315.0483870967742",
                  "DNI_raw lag l=2": "352.1263440860215",
                  "Temperature_raw lag l=3": "17.3375",
                  "Wind Speed lag l=3": "2.469444444444445",
                  "GHI_raw lag l=3": "348.5083333333333",
                  "DNI_raw lag l=3": "402.43611111111113",
                  "_deepnote_index_column": 23
                },
                {
                  "Temperature_raw": 18.122311827956988,
                  "Wind Speed": "1.7137096774193539",
                  "GHI_raw": "175.93413978494624",
                  "DNI_raw": "269.7069892473118",
                  "Temperature_raw lag l=1": "18.773611111111112",
                  "Wind Speed lag l=1": "1.9943055555555567",
                  "GHI_raw lag l=1": "239.3138888888889",
                  "DNI_raw lag l=1": "310.4263888888889",
                  "Temperature_raw lag l=2": "18.6747311827957",
                  "Wind Speed lag l=2": "2.199596774193552",
                  "GHI_raw lag l=2": "272.89784946236557",
                  "DNI_raw lag l=2": "300.10752688172045",
                  "Temperature_raw lag l=3": "18.912634408602152",
                  "Wind Speed lag l=3": "2.130645161290323",
                  "GHI_raw lag l=3": "315.0483870967742",
                  "DNI_raw lag l=3": "352.1263440860215",
                  "_deepnote_index_column": 24
                },
                {
                  "Temperature_raw": 13.76388888888889,
                  "Wind Speed": "1.6926388888888884",
                  "GHI_raw": "111.9875",
                  "DNI_raw": "183.5875",
                  "Temperature_raw lag l=1": "18.122311827956988",
                  "Wind Speed lag l=1": "1.7137096774193539",
                  "GHI_raw lag l=1": "175.93413978494624",
                  "DNI_raw lag l=1": "269.7069892473118",
                  "Temperature_raw lag l=2": "18.773611111111112",
                  "Wind Speed lag l=2": "1.9943055555555567",
                  "GHI_raw lag l=2": "239.3138888888889",
                  "DNI_raw lag l=2": "310.4263888888889",
                  "Temperature_raw lag l=3": "18.6747311827957",
                  "Wind Speed lag l=3": "2.199596774193552",
                  "GHI_raw lag l=3": "272.89784946236557",
                  "DNI_raw lag l=3": "300.10752688172045",
                  "_deepnote_index_column": 25
                },
                {
                  "Temperature_raw": 11.646505376344086,
                  "Wind Speed": "2.2883064516129012",
                  "GHI_raw": "74.875",
                  "DNI_raw": "116.70564516129032",
                  "Temperature_raw lag l=1": "13.76388888888889",
                  "Wind Speed lag l=1": "1.6926388888888884",
                  "GHI_raw lag l=1": "111.9875",
                  "DNI_raw lag l=1": "183.5875",
                  "Temperature_raw lag l=2": "18.122311827956988",
                  "Wind Speed lag l=2": "1.7137096774193539",
                  "GHI_raw lag l=2": "175.93413978494624",
                  "DNI_raw lag l=2": "269.7069892473118",
                  "Temperature_raw lag l=3": "18.773611111111112",
                  "Wind Speed lag l=3": "1.9943055555555567",
                  "GHI_raw lag l=3": "239.3138888888889",
                  "DNI_raw lag l=3": "310.4263888888889",
                  "_deepnote_index_column": 26
                },
                {
                  "Temperature_raw": 10.34005376344086,
                  "Wind Speed": "1.5842741935483882",
                  "GHI_raw": "108.75806451612904",
                  "DNI_raw": "191.34139784946237",
                  "Temperature_raw lag l=1": "11.646505376344086",
                  "Wind Speed lag l=1": "2.2883064516129012",
                  "GHI_raw lag l=1": "74.875",
                  "DNI_raw lag l=1": "116.70564516129032",
                  "Temperature_raw lag l=2": "13.76388888888889",
                  "Wind Speed lag l=2": "1.6926388888888884",
                  "GHI_raw lag l=2": "111.9875",
                  "DNI_raw lag l=2": "183.5875",
                  "Temperature_raw lag l=3": "18.122311827956988",
                  "Wind Speed lag l=3": "1.7137096774193539",
                  "GHI_raw lag l=3": "175.93413978494624",
                  "DNI_raw lag l=3": "269.7069892473118",
                  "_deepnote_index_column": 27
                },
                {
                  "Temperature_raw": 12.720238095238097,
                  "Wind Speed": "2.067559523809525",
                  "GHI_raw": "141.32291666666666",
                  "DNI_raw": "212.51339285714286",
                  "Temperature_raw lag l=1": "10.34005376344086",
                  "Wind Speed lag l=1": "1.5842741935483882",
                  "GHI_raw lag l=1": "108.75806451612904",
                  "DNI_raw lag l=1": "191.34139784946237",
                  "Temperature_raw lag l=2": "11.646505376344086",
                  "Wind Speed lag l=2": "2.2883064516129012",
                  "GHI_raw lag l=2": "74.875",
                  "DNI_raw lag l=2": "116.70564516129032",
                  "Temperature_raw lag l=3": "13.76388888888889",
                  "Wind Speed lag l=3": "1.6926388888888884",
                  "GHI_raw lag l=3": "111.9875",
                  "DNI_raw lag l=3": "183.5875",
                  "_deepnote_index_column": 28
                },
                {
                  "Temperature_raw": 13.584677419354838,
                  "Wind Speed": "1.7998655913978494",
                  "GHI_raw": "213.79032258064515",
                  "DNI_raw": "266.3360215053763",
                  "Temperature_raw lag l=1": "12.720238095238097",
                  "Wind Speed lag l=1": "2.067559523809525",
                  "GHI_raw lag l=1": "141.32291666666666",
                  "DNI_raw lag l=1": "212.51339285714286",
                  "Temperature_raw lag l=2": "10.34005376344086",
                  "Wind Speed lag l=2": "1.5842741935483882",
                  "GHI_raw lag l=2": "108.75806451612904",
                  "DNI_raw lag l=2": "191.34139784946237",
                  "Temperature_raw lag l=3": "11.646505376344086",
                  "Wind Speed lag l=3": "2.2883064516129012",
                  "GHI_raw lag l=3": "74.875",
                  "DNI_raw lag l=3": "116.70564516129032",
                  "_deepnote_index_column": 29
                },
                {
                  "Temperature_raw": 13.03472222222222,
                  "Wind Speed": "2.4205555555555587",
                  "GHI_raw": "273.4763888888889",
                  "DNI_raw": "316.84305555555557",
                  "Temperature_raw lag l=1": "13.584677419354838",
                  "Wind Speed lag l=1": "1.7998655913978494",
                  "GHI_raw lag l=1": "213.79032258064515",
                  "DNI_raw lag l=1": "266.3360215053763",
                  "Temperature_raw lag l=2": "12.720238095238097",
                  "Wind Speed lag l=2": "2.067559523809525",
                  "GHI_raw lag l=2": "141.32291666666666",
                  "DNI_raw lag l=2": "212.51339285714286",
                  "Temperature_raw lag l=3": "10.34005376344086",
                  "Wind Speed lag l=3": "1.5842741935483882",
                  "GHI_raw lag l=3": "108.75806451612904",
                  "DNI_raw lag l=3": "191.34139784946237",
                  "_deepnote_index_column": 30
                }
              ],
              "rows_bottom": [
                {
                  "Temperature_raw": 20.322222222222223,
                  "Wind Speed": "2.907916666666664",
                  "GHI_raw": "341.8888888888889",
                  "DNI_raw": "392.3236111111111",
                  "Temperature_raw lag l=1": "nan",
                  "Wind Speed lag l=1": "nan",
                  "GHI_raw lag l=1": "nan",
                  "DNI_raw lag l=1": "nan",
                  "Temperature_raw lag l=2": "nan",
                  "Wind Speed lag l=2": "nan",
                  "GHI_raw lag l=2": "nan",
                  "DNI_raw lag l=2": "nan",
                  "Temperature_raw lag l=3": "nan",
                  "Wind Speed lag l=3": "nan",
                  "GHI_raw lag l=3": "nan",
                  "DNI_raw lag l=3": "nan",
                  "_deepnote_index_column": 29827
                },
                {
                  "Temperature_raw": 23.43951612903226,
                  "Wind Speed": "2.971639784946238",
                  "GHI_raw": "348.76478494623655",
                  "DNI_raw": "432.9005376344086",
                  "Temperature_raw lag l=1": "nan",
                  "Wind Speed lag l=1": "nan",
                  "GHI_raw lag l=1": "nan",
                  "DNI_raw lag l=1": "nan",
                  "Temperature_raw lag l=2": "nan",
                  "Wind Speed lag l=2": "nan",
                  "GHI_raw lag l=2": "nan",
                  "DNI_raw lag l=2": "nan",
                  "Temperature_raw lag l=3": "nan",
                  "Wind Speed lag l=3": "nan",
                  "GHI_raw lag l=3": "nan",
                  "DNI_raw lag l=3": "nan",
                  "_deepnote_index_column": 29828
                },
                {
                  "Temperature_raw": 23.51881720430108,
                  "Wind Speed": "2.758467741935484",
                  "GHI_raw": "292.0994623655914",
                  "DNI_raw": "335.2809139784946",
                  "Temperature_raw lag l=1": "nan",
                  "Wind Speed lag l=1": "nan",
                  "GHI_raw lag l=1": "nan",
                  "DNI_raw lag l=1": "nan",
                  "Temperature_raw lag l=2": "nan",
                  "Wind Speed lag l=2": "nan",
                  "GHI_raw lag l=2": "nan",
                  "DNI_raw lag l=2": "nan",
                  "Temperature_raw lag l=3": "nan",
                  "Wind Speed lag l=3": "nan",
                  "GHI_raw lag l=3": "nan",
                  "DNI_raw lag l=3": "nan",
                  "_deepnote_index_column": 29829
                },
                {
                  "Temperature_raw": 22.64444444444445,
                  "Wind Speed": "2.102916666666666",
                  "GHI_raw": "230.23611111111111",
                  "DNI_raw": "269.1041666666667",
                  "Temperature_raw lag l=1": "nan",
                  "Wind Speed lag l=1": "nan",
                  "GHI_raw lag l=1": "nan",
                  "DNI_raw lag l=1": "nan",
                  "Temperature_raw lag l=2": "nan",
                  "Wind Speed lag l=2": "nan",
                  "GHI_raw lag l=2": "nan",
                  "DNI_raw lag l=2": "nan",
                  "Temperature_raw lag l=3": "nan",
                  "Wind Speed lag l=3": "nan",
                  "GHI_raw lag l=3": "nan",
                  "DNI_raw lag l=3": "nan",
                  "_deepnote_index_column": 29830
                },
                {
                  "Temperature_raw": 18.061827956989248,
                  "Wind Speed": "1.7405913978494623",
                  "GHI_raw": "187.88844086021504",
                  "DNI_raw": "280.7795698924731",
                  "Temperature_raw lag l=1": "nan",
                  "Wind Speed lag l=1": "nan",
                  "GHI_raw lag l=1": "nan",
                  "DNI_raw lag l=1": "nan",
                  "Temperature_raw lag l=2": "nan",
                  "Wind Speed lag l=2": "nan",
                  "GHI_raw lag l=2": "nan",
                  "DNI_raw lag l=2": "nan",
                  "Temperature_raw lag l=3": "nan",
                  "Wind Speed lag l=3": "nan",
                  "GHI_raw lag l=3": "nan",
                  "DNI_raw lag l=3": "nan",
                  "_deepnote_index_column": 29831
                },
                {
                  "Temperature_raw": 13.188888888888888,
                  "Wind Speed": "1.3313888888888885",
                  "GHI_raw": "103.18888888888888",
                  "DNI_raw": "160.2875",
                  "Temperature_raw lag l=1": "nan",
                  "Wind Speed lag l=1": "nan",
                  "GHI_raw lag l=1": "nan",
                  "DNI_raw lag l=1": "nan",
                  "Temperature_raw lag l=2": "nan",
                  "Wind Speed lag l=2": "nan",
                  "GHI_raw lag l=2": "nan",
                  "DNI_raw lag l=2": "nan",
                  "Temperature_raw lag l=3": "nan",
                  "Wind Speed lag l=3": "nan",
                  "GHI_raw lag l=3": "nan",
                  "DNI_raw lag l=3": "nan",
                  "_deepnote_index_column": 29832
                },
                {
                  "Temperature_raw": 8.71505376344086,
                  "Wind Speed": "1.2521505376344093",
                  "GHI_raw": "109.9489247311828",
                  "DNI_raw": "220.79569892473117",
                  "Temperature_raw lag l=1": "nan",
                  "Wind Speed lag l=1": "nan",
                  "GHI_raw lag l=1": "nan",
                  "DNI_raw lag l=1": "nan",
                  "Temperature_raw lag l=2": "nan",
                  "Wind Speed lag l=2": "nan",
                  "GHI_raw lag l=2": "nan",
                  "DNI_raw lag l=2": "nan",
                  "Temperature_raw lag l=3": "nan",
                  "Wind Speed lag l=3": "nan",
                  "GHI_raw lag l=3": "nan",
                  "DNI_raw lag l=3": "nan",
                  "_deepnote_index_column": 29833
                },
                {
                  "Temperature_raw": 11.026881720430111,
                  "Wind Speed": "1.421102150537634",
                  "GHI_raw": "78.24731182795699",
                  "DNI_raw": "104.23655913978494",
                  "Temperature_raw lag l=1": "nan",
                  "Wind Speed lag l=1": "nan",
                  "GHI_raw lag l=1": "nan",
                  "DNI_raw lag l=1": "nan",
                  "Temperature_raw lag l=2": "nan",
                  "Wind Speed lag l=2": "nan",
                  "GHI_raw lag l=2": "nan",
                  "DNI_raw lag l=2": "nan",
                  "Temperature_raw lag l=3": "nan",
                  "Wind Speed lag l=3": "nan",
                  "GHI_raw lag l=3": "nan",
                  "DNI_raw lag l=3": "nan",
                  "_deepnote_index_column": 29834
                },
                {
                  "Temperature_raw": 10.541369047619044,
                  "Wind Speed": "1.9380952380952412",
                  "GHI_raw": "169.82589285714286",
                  "DNI_raw": "279.13690476190476",
                  "Temperature_raw lag l=1": "nan",
                  "Wind Speed lag l=1": "nan",
                  "GHI_raw lag l=1": "nan",
                  "DNI_raw lag l=1": "nan",
                  "Temperature_raw lag l=2": "nan",
                  "Wind Speed lag l=2": "nan",
                  "GHI_raw lag l=2": "nan",
                  "DNI_raw lag l=2": "nan",
                  "Temperature_raw lag l=3": "nan",
                  "Wind Speed lag l=3": "nan",
                  "GHI_raw lag l=3": "nan",
                  "DNI_raw lag l=3": "nan",
                  "_deepnote_index_column": 29835
                },
                {
                  "Temperature_raw": 11.8018817204301,
                  "Wind Speed": "1.9114247311827934",
                  "GHI_raw": "179.1034946236559",
                  "DNI_raw": "206.1008064516129",
                  "Temperature_raw lag l=1": "nan",
                  "Wind Speed lag l=1": "nan",
                  "GHI_raw lag l=1": "nan",
                  "DNI_raw lag l=1": "nan",
                  "Temperature_raw lag l=2": "nan",
                  "Wind Speed lag l=2": "nan",
                  "GHI_raw lag l=2": "nan",
                  "DNI_raw lag l=2": "nan",
                  "Temperature_raw lag l=3": "nan",
                  "Wind Speed lag l=3": "nan",
                  "GHI_raw lag l=3": "nan",
                  "DNI_raw lag l=3": "nan",
                  "_deepnote_index_column": 29836
                },
                {
                  "Temperature_raw": 14.219722222222224,
                  "Wind Speed": "2.282499999999999",
                  "GHI_raw": "257.11805555555554",
                  "DNI_raw": "288.2597222222222",
                  "Temperature_raw lag l=1": "nan",
                  "Wind Speed lag l=1": "nan",
                  "GHI_raw lag l=1": "nan",
                  "DNI_raw lag l=1": "nan",
                  "Temperature_raw lag l=2": "nan",
                  "Wind Speed lag l=2": "nan",
                  "GHI_raw lag l=2": "nan",
                  "DNI_raw lag l=2": "nan",
                  "Temperature_raw lag l=3": "nan",
                  "Wind Speed lag l=3": "nan",
                  "GHI_raw lag l=3": "nan",
                  "DNI_raw lag l=3": "nan",
                  "_deepnote_index_column": 29837
                },
                {
                  "Temperature_raw": 16.944892473118284,
                  "Wind Speed": "2.984811827956987",
                  "GHI_raw": "320.66129032258067",
                  "DNI_raw": "360.14516129032256",
                  "Temperature_raw lag l=1": "nan",
                  "Wind Speed lag l=1": "nan",
                  "GHI_raw lag l=1": "nan",
                  "DNI_raw lag l=1": "nan",
                  "Temperature_raw lag l=2": "nan",
                  "Wind Speed lag l=2": "nan",
                  "GHI_raw lag l=2": "nan",
                  "DNI_raw lag l=2": "nan",
                  "Temperature_raw lag l=3": "nan",
                  "Wind Speed lag l=3": "nan",
                  "GHI_raw lag l=3": "nan",
                  "DNI_raw lag l=3": "nan",
                  "_deepnote_index_column": 29838
                },
                {
                  "Temperature_raw": 21.101944444444456,
                  "Wind Speed": "3.284166666666667",
                  "GHI_raw": "361.3041666666667",
                  "DNI_raw": "438.1763888888889",
                  "Temperature_raw lag l=1": "nan",
                  "Wind Speed lag l=1": "nan",
                  "GHI_raw lag l=1": "nan",
                  "DNI_raw lag l=1": "nan",
                  "Temperature_raw lag l=2": "nan",
                  "Wind Speed lag l=2": "nan",
                  "GHI_raw lag l=2": "nan",
                  "DNI_raw lag l=2": "nan",
                  "Temperature_raw lag l=3": "nan",
                  "Wind Speed lag l=3": "nan",
                  "GHI_raw lag l=3": "nan",
                  "DNI_raw lag l=3": "nan",
                  "_deepnote_index_column": 29839
                },
                {
                  "Temperature_raw": 24.48158602150537,
                  "Wind Speed": "3.353629032258063",
                  "GHI_raw": "337.78225806451616",
                  "DNI_raw": "393.7244623655914",
                  "Temperature_raw lag l=1": "nan",
                  "Wind Speed lag l=1": "nan",
                  "GHI_raw lag l=1": "nan",
                  "DNI_raw lag l=1": "nan",
                  "Temperature_raw lag l=2": "nan",
                  "Wind Speed lag l=2": "nan",
                  "GHI_raw lag l=2": "nan",
                  "DNI_raw lag l=2": "nan",
                  "Temperature_raw lag l=3": "nan",
                  "Wind Speed lag l=3": "nan",
                  "GHI_raw lag l=3": "nan",
                  "DNI_raw lag l=3": "nan",
                  "_deepnote_index_column": 29840
                },
                {
                  "Temperature_raw": 22.480241935483885,
                  "Wind Speed": "2.9022849462365605",
                  "GHI_raw": "305.4516129032258",
                  "DNI_raw": "349.6317204301075",
                  "Temperature_raw lag l=1": "nan",
                  "Wind Speed lag l=1": "nan",
                  "GHI_raw lag l=1": "nan",
                  "DNI_raw lag l=1": "nan",
                  "Temperature_raw lag l=2": "nan",
                  "Wind Speed lag l=2": "nan",
                  "GHI_raw lag l=2": "nan",
                  "DNI_raw lag l=2": "nan",
                  "Temperature_raw lag l=3": "nan",
                  "Wind Speed lag l=3": "nan",
                  "GHI_raw lag l=3": "nan",
                  "DNI_raw lag l=3": "nan",
                  "_deepnote_index_column": 29841
                },
                {
                  "Temperature_raw": 21.041944444444464,
                  "Wind Speed": "2.495277777777778",
                  "GHI_raw": "257.7375",
                  "DNI_raw": "349.71944444444443",
                  "Temperature_raw lag l=1": "nan",
                  "Wind Speed lag l=1": "nan",
                  "GHI_raw lag l=1": "nan",
                  "DNI_raw lag l=1": "nan",
                  "Temperature_raw lag l=2": "nan",
                  "Wind Speed lag l=2": "nan",
                  "GHI_raw lag l=2": "nan",
                  "DNI_raw lag l=2": "nan",
                  "Temperature_raw lag l=3": "nan",
                  "Wind Speed lag l=3": "nan",
                  "GHI_raw lag l=3": "nan",
                  "DNI_raw lag l=3": "nan",
                  "_deepnote_index_column": 29842
                },
                {
                  "Temperature_raw": 18.553225806451614,
                  "Wind Speed": "1.8658602150537653",
                  "GHI_raw": "187.92741935483872",
                  "DNI_raw": "292.80645161290323",
                  "Temperature_raw lag l=1": "nan",
                  "Wind Speed lag l=1": "nan",
                  "GHI_raw lag l=1": "nan",
                  "DNI_raw lag l=1": "nan",
                  "Temperature_raw lag l=2": "nan",
                  "Wind Speed lag l=2": "nan",
                  "GHI_raw lag l=2": "nan",
                  "DNI_raw lag l=2": "nan",
                  "Temperature_raw lag l=3": "nan",
                  "Wind Speed lag l=3": "nan",
                  "GHI_raw lag l=3": "nan",
                  "DNI_raw lag l=3": "nan",
                  "_deepnote_index_column": 29843
                },
                {
                  "Temperature_raw": 14.28611111111112,
                  "Wind Speed": "1.642638888888887",
                  "GHI_raw": "117.70416666666667",
                  "DNI_raw": "182.67638888888888",
                  "Temperature_raw lag l=1": "nan",
                  "Wind Speed lag l=1": "nan",
                  "GHI_raw lag l=1": "nan",
                  "DNI_raw lag l=1": "nan",
                  "Temperature_raw lag l=2": "nan",
                  "Wind Speed lag l=2": "nan",
                  "GHI_raw lag l=2": "nan",
                  "DNI_raw lag l=2": "nan",
                  "Temperature_raw lag l=3": "nan",
                  "Wind Speed lag l=3": "nan",
                  "GHI_raw lag l=3": "nan",
                  "DNI_raw lag l=3": "nan",
                  "_deepnote_index_column": 29844
                },
                {
                  "Temperature_raw": 9.677016129032255,
                  "Wind Speed": "1.640860215053763",
                  "GHI_raw": "85.90591397849462",
                  "DNI_raw": "157.23790322580646",
                  "Temperature_raw lag l=1": "nan",
                  "Wind Speed lag l=1": "nan",
                  "GHI_raw lag l=1": "nan",
                  "DNI_raw lag l=1": "nan",
                  "Temperature_raw lag l=2": "nan",
                  "Wind Speed lag l=2": "nan",
                  "GHI_raw lag l=2": "nan",
                  "DNI_raw lag l=2": "nan",
                  "Temperature_raw lag l=3": "nan",
                  "Wind Speed lag l=3": "nan",
                  "GHI_raw lag l=3": "nan",
                  "DNI_raw lag l=3": "nan",
                  "_deepnote_index_column": 29845
                },
                {
                  "Temperature_raw": 10.818279569892477,
                  "Wind Speed": "1.9508064516129056",
                  "GHI_raw": "92.96774193548387",
                  "DNI_raw": "139.2997311827957",
                  "Temperature_raw lag l=1": "nan",
                  "Wind Speed lag l=1": "nan",
                  "GHI_raw lag l=1": "nan",
                  "DNI_raw lag l=1": "nan",
                  "Temperature_raw lag l=2": "nan",
                  "Wind Speed lag l=2": "nan",
                  "GHI_raw lag l=2": "nan",
                  "DNI_raw lag l=2": "nan",
                  "Temperature_raw lag l=3": "nan",
                  "Wind Speed lag l=3": "nan",
                  "GHI_raw lag l=3": "nan",
                  "DNI_raw lag l=3": "nan",
                  "_deepnote_index_column": 29846
                },
                {
                  "Temperature_raw": 8.246577380952383,
                  "Wind Speed": "2.713690476190475",
                  "GHI_raw": "118.57738095238095",
                  "DNI_raw": "149.94196428571428",
                  "Temperature_raw lag l=1": "nan",
                  "Wind Speed lag l=1": "nan",
                  "GHI_raw lag l=1": "nan",
                  "DNI_raw lag l=1": "nan",
                  "Temperature_raw lag l=2": "nan",
                  "Wind Speed lag l=2": "nan",
                  "GHI_raw lag l=2": "nan",
                  "DNI_raw lag l=2": "nan",
                  "Temperature_raw lag l=3": "nan",
                  "Wind Speed lag l=3": "nan",
                  "GHI_raw lag l=3": "nan",
                  "DNI_raw lag l=3": "nan",
                  "_deepnote_index_column": 29847
                },
                {
                  "Temperature_raw": 11.700134408602144,
                  "Wind Speed": "1.8556451612903193",
                  "GHI_raw": "182.49193548387098",
                  "DNI_raw": "207.8938172043011",
                  "Temperature_raw lag l=1": "nan",
                  "Wind Speed lag l=1": "nan",
                  "GHI_raw lag l=1": "nan",
                  "DNI_raw lag l=1": "nan",
                  "Temperature_raw lag l=2": "nan",
                  "Wind Speed lag l=2": "nan",
                  "GHI_raw lag l=2": "nan",
                  "DNI_raw lag l=2": "nan",
                  "Temperature_raw lag l=3": "nan",
                  "Wind Speed lag l=3": "nan",
                  "GHI_raw lag l=3": "nan",
                  "DNI_raw lag l=3": "nan",
                  "_deepnote_index_column": 29848
                },
                {
                  "Temperature_raw": 15.39291666666666,
                  "Wind Speed": "2.1697222222222172",
                  "GHI_raw": "255.10694444444445",
                  "DNI_raw": "276.1458333333333",
                  "Temperature_raw lag l=1": "nan",
                  "Wind Speed lag l=1": "nan",
                  "GHI_raw lag l=1": "nan",
                  "DNI_raw lag l=1": "nan",
                  "Temperature_raw lag l=2": "nan",
                  "Wind Speed lag l=2": "nan",
                  "GHI_raw lag l=2": "nan",
                  "DNI_raw lag l=2": "nan",
                  "Temperature_raw lag l=3": "nan",
                  "Wind Speed lag l=3": "nan",
                  "GHI_raw lag l=3": "nan",
                  "DNI_raw lag l=3": "nan",
                  "_deepnote_index_column": 29849
                },
                {
                  "Temperature_raw": 15.561827956989235,
                  "Wind Speed": "2.7075268817204297",
                  "GHI_raw": "294.4287634408602",
                  "DNI_raw": "310.5873655913978",
                  "Temperature_raw lag l=1": "nan",
                  "Wind Speed lag l=1": "nan",
                  "GHI_raw lag l=1": "nan",
                  "DNI_raw lag l=1": "nan",
                  "Temperature_raw lag l=2": "nan",
                  "Wind Speed lag l=2": "nan",
                  "GHI_raw lag l=2": "nan",
                  "DNI_raw lag l=2": "nan",
                  "Temperature_raw lag l=3": "nan",
                  "Wind Speed lag l=3": "nan",
                  "GHI_raw lag l=3": "nan",
                  "DNI_raw lag l=3": "nan",
                  "_deepnote_index_column": 29850
                },
                {
                  "Temperature_raw": 21.398194444444464,
                  "Wind Speed": "2.948472222222225",
                  "GHI_raw": "351.4138888888889",
                  "DNI_raw": "410.4472222222222",
                  "Temperature_raw lag l=1": "nan",
                  "Wind Speed lag l=1": "nan",
                  "GHI_raw lag l=1": "nan",
                  "DNI_raw lag l=1": "nan",
                  "Temperature_raw lag l=2": "nan",
                  "Wind Speed lag l=2": "nan",
                  "GHI_raw lag l=2": "nan",
                  "DNI_raw lag l=2": "nan",
                  "Temperature_raw lag l=3": "nan",
                  "Wind Speed lag l=3": "nan",
                  "GHI_raw lag l=3": "nan",
                  "DNI_raw lag l=3": "nan",
                  "_deepnote_index_column": 29851
                },
                {
                  "Temperature_raw": 22.80174731182798,
                  "Wind Speed": "3.2940860215053798",
                  "GHI_raw": "348.127688172043",
                  "DNI_raw": "427.5833333333333",
                  "Temperature_raw lag l=1": "nan",
                  "Wind Speed lag l=1": "nan",
                  "GHI_raw lag l=1": "nan",
                  "DNI_raw lag l=1": "nan",
                  "Temperature_raw lag l=2": "nan",
                  "Wind Speed lag l=2": "nan",
                  "GHI_raw lag l=2": "nan",
                  "DNI_raw lag l=2": "nan",
                  "Temperature_raw lag l=3": "nan",
                  "Wind Speed lag l=3": "nan",
                  "GHI_raw lag l=3": "nan",
                  "DNI_raw lag l=3": "nan",
                  "_deepnote_index_column": 29852
                },
                {
                  "Temperature_raw": 24.378091397849467,
                  "Wind Speed": "3.0030913978494644",
                  "GHI_raw": "312.28225806451616",
                  "DNI_raw": "389.9220430107527",
                  "Temperature_raw lag l=1": "nan",
                  "Wind Speed lag l=1": "nan",
                  "GHI_raw lag l=1": "nan",
                  "DNI_raw lag l=1": "nan",
                  "Temperature_raw lag l=2": "nan",
                  "Wind Speed lag l=2": "nan",
                  "GHI_raw lag l=2": "nan",
                  "DNI_raw lag l=2": "nan",
                  "Temperature_raw lag l=3": "nan",
                  "Wind Speed lag l=3": "nan",
                  "GHI_raw lag l=3": "nan",
                  "DNI_raw lag l=3": "nan",
                  "_deepnote_index_column": 29853
                },
                {
                  "Temperature_raw": 22.09833333333334,
                  "Wind Speed": "2.5294444444444415",
                  "GHI_raw": "250.71805555555557",
                  "DNI_raw": "342.4819444444444",
                  "Temperature_raw lag l=1": "nan",
                  "Wind Speed lag l=1": "nan",
                  "GHI_raw lag l=1": "nan",
                  "DNI_raw lag l=1": "nan",
                  "Temperature_raw lag l=2": "nan",
                  "Wind Speed lag l=2": "nan",
                  "GHI_raw lag l=2": "nan",
                  "DNI_raw lag l=2": "nan",
                  "Temperature_raw lag l=3": "nan",
                  "Wind Speed lag l=3": "nan",
                  "GHI_raw lag l=3": "nan",
                  "DNI_raw lag l=3": "nan",
                  "_deepnote_index_column": 29854
                },
                {
                  "Temperature_raw": 18.00577956989247,
                  "Wind Speed": "1.9706989247311848",
                  "GHI_raw": "199.41397849462365",
                  "DNI_raw": "314.4139784946237",
                  "Temperature_raw lag l=1": "nan",
                  "Wind Speed lag l=1": "nan",
                  "GHI_raw lag l=1": "nan",
                  "DNI_raw lag l=1": "nan",
                  "Temperature_raw lag l=2": "nan",
                  "Wind Speed lag l=2": "nan",
                  "GHI_raw lag l=2": "nan",
                  "DNI_raw lag l=2": "nan",
                  "Temperature_raw lag l=3": "nan",
                  "Wind Speed lag l=3": "nan",
                  "GHI_raw lag l=3": "nan",
                  "DNI_raw lag l=3": "nan",
                  "_deepnote_index_column": 29855
                },
                {
                  "Temperature_raw": 13.94263888888888,
                  "Wind Speed": "1.5990277777777768",
                  "GHI_raw": "128.82222222222222",
                  "DNI_raw": "226.15277777777777",
                  "Temperature_raw lag l=1": "nan",
                  "Wind Speed lag l=1": "nan",
                  "GHI_raw lag l=1": "nan",
                  "DNI_raw lag l=1": "nan",
                  "Temperature_raw lag l=2": "nan",
                  "Wind Speed lag l=2": "nan",
                  "GHI_raw lag l=2": "nan",
                  "DNI_raw lag l=2": "nan",
                  "Temperature_raw lag l=3": "nan",
                  "Wind Speed lag l=3": "nan",
                  "GHI_raw lag l=3": "nan",
                  "DNI_raw lag l=3": "nan",
                  "_deepnote_index_column": 29856
                },
                {
                  "Temperature_raw": 10.240860215053766,
                  "Wind Speed": "1.9862903225806463",
                  "GHI_raw": "75.23655913978494",
                  "DNI_raw": "116.34005376344086",
                  "Temperature_raw lag l=1": "nan",
                  "Wind Speed lag l=1": "nan",
                  "GHI_raw lag l=1": "nan",
                  "DNI_raw lag l=1": "nan",
                  "Temperature_raw lag l=2": "nan",
                  "Wind Speed lag l=2": "nan",
                  "GHI_raw lag l=2": "nan",
                  "DNI_raw lag l=2": "nan",
                  "Temperature_raw lag l=3": "nan",
                  "Wind Speed lag l=3": "nan",
                  "GHI_raw lag l=3": "nan",
                  "DNI_raw lag l=3": "nan",
                  "_deepnote_index_column": 29857
                }
              ]
            },
            "text/plain": "       Temperature_raw          Wind Speed             GHI_raw  \\\n0             7.276882   2.123252688172044  116.13037634408602   \n1             9.022321  2.1078869047619047  162.37946428571428   \n2            11.189516   2.017607526881722  190.54569892473117   \n3            13.597222   2.380277777777777  275.21666666666664   \n4            15.333333  2.6719086021505336    312.744623655914   \n...                ...                 ...                 ...   \n29853        24.378091  3.0030913978494644  312.28225806451616   \n29854        22.098333  2.5294444444444415  250.71805555555557   \n29855        18.005780  1.9706989247311848  199.41397849462365   \n29856        13.942639  1.5990277777777768  128.82222222222222   \n29857        10.240860  1.9862903225806463   75.23655913978494   \n\n                  DNI_raw  Temperature_raw lag l=1  Wind Speed lag l=1  \\\n0      222.91935483870967                      NaN                 NaN   \n1      262.79017857142856                 7.276882   2.123252688172044   \n2       211.2741935483871                 9.022321  2.1078869047619047   \n3      325.02916666666664                11.189516   2.017607526881722   \n4      354.96639784946234                13.597222   2.380277777777777   \n...                   ...                      ...                 ...   \n29853   389.9220430107527                      NaN                 NaN   \n29854   342.4819444444444                      NaN                 NaN   \n29855   314.4139784946237                      NaN                 NaN   \n29856  226.15277777777777                      NaN                 NaN   \n29857  116.34005376344086                      NaN                 NaN   \n\n          GHI_raw lag l=1     DNI_raw lag l=1  Temperature_raw lag l=2  \\\n0                     NaN                 NaN                      NaN   \n1      116.13037634408602  222.91935483870967                      NaN   \n2      162.37946428571428  262.79017857142856                 7.276882   \n3      190.54569892473117   211.2741935483871                 9.022321   \n4      275.21666666666664  325.02916666666664                11.189516   \n...                   ...                 ...                      ...   \n29853                 NaN                 NaN                      NaN   \n29854                 NaN                 NaN                      NaN   \n29855                 NaN                 NaN                      NaN   \n29856                 NaN                 NaN                      NaN   \n29857                 NaN                 NaN                      NaN   \n\n       Wind Speed lag l=2     GHI_raw lag l=2     DNI_raw lag l=2  \\\n0                     NaN                 NaN                 NaN   \n1                     NaN                 NaN                 NaN   \n2       2.123252688172044  116.13037634408602  222.91935483870967   \n3      2.1078869047619047  162.37946428571428  262.79017857142856   \n4       2.017607526881722  190.54569892473117   211.2741935483871   \n...                   ...                 ...                 ...   \n29853                 NaN                 NaN                 NaN   \n29854                 NaN                 NaN                 NaN   \n29855                 NaN                 NaN                 NaN   \n29856                 NaN                 NaN                 NaN   \n29857                 NaN                 NaN                 NaN   \n\n       Temperature_raw lag l=3  Wind Speed lag l=3     GHI_raw lag l=3  \\\n0                          NaN                 NaN                 NaN   \n1                          NaN                 NaN                 NaN   \n2                          NaN                 NaN                 NaN   \n3                     7.276882   2.123252688172044  116.13037634408602   \n4                     9.022321  2.1078869047619047  162.37946428571428   \n...                        ...                 ...                 ...   \n29853                      NaN                 NaN                 NaN   \n29854                      NaN                 NaN                 NaN   \n29855                      NaN                 NaN                 NaN   \n29856                      NaN                 NaN                 NaN   \n29857                      NaN                 NaN                 NaN   \n\n          DNI_raw lag l=3  \n0                     NaN  \n1                     NaN  \n2                     NaN  \n3      222.91935483870967  \n4      262.79017857142856  \n...                   ...  \n29853                 NaN  \n29854                 NaN  \n29855                 NaN  \n29856                 NaN  \n29857                 NaN  \n\n[29858 rows x 16 columns]",
            "text/html": "<div>\n<style scoped>\n    .dataframe tbody tr th:only-of-type {\n        vertical-align: middle;\n    }\n\n    .dataframe tbody tr th {\n        vertical-align: top;\n    }\n\n    .dataframe thead th {\n        text-align: right;\n    }\n</style>\n<table border=\"1\" class=\"dataframe\">\n  <thead>\n    <tr style=\"text-align: right;\">\n      <th></th>\n      <th>Temperature_raw</th>\n      <th>Wind Speed</th>\n      <th>GHI_raw</th>\n      <th>DNI_raw</th>\n      <th>Temperature_raw lag l=1</th>\n      <th>Wind Speed lag l=1</th>\n      <th>GHI_raw lag l=1</th>\n      <th>DNI_raw lag l=1</th>\n      <th>Temperature_raw lag l=2</th>\n      <th>Wind Speed lag l=2</th>\n      <th>GHI_raw lag l=2</th>\n      <th>DNI_raw lag l=2</th>\n      <th>Temperature_raw lag l=3</th>\n      <th>Wind Speed lag l=3</th>\n      <th>GHI_raw lag l=3</th>\n      <th>DNI_raw lag l=3</th>\n    </tr>\n  </thead>\n  <tbody>\n    <tr>\n      <th>0</th>\n      <td>7.276882</td>\n      <td>2.123252688172044</td>\n      <td>116.13037634408602</td>\n      <td>222.91935483870967</td>\n      <td>NaN</td>\n      <td>NaN</td>\n      <td>NaN</td>\n      <td>NaN</td>\n      <td>NaN</td>\n      <td>NaN</td>\n      <td>NaN</td>\n      <td>NaN</td>\n      <td>NaN</td>\n      <td>NaN</td>\n      <td>NaN</td>\n      <td>NaN</td>\n    </tr>\n    <tr>\n      <th>1</th>\n      <td>9.022321</td>\n      <td>2.1078869047619047</td>\n      <td>162.37946428571428</td>\n      <td>262.79017857142856</td>\n      <td>7.276882</td>\n      <td>2.123252688172044</td>\n      <td>116.13037634408602</td>\n      <td>222.91935483870967</td>\n      <td>NaN</td>\n      <td>NaN</td>\n      <td>NaN</td>\n      <td>NaN</td>\n      <td>NaN</td>\n      <td>NaN</td>\n      <td>NaN</td>\n      <td>NaN</td>\n    </tr>\n    <tr>\n      <th>2</th>\n      <td>11.189516</td>\n      <td>2.017607526881722</td>\n      <td>190.54569892473117</td>\n      <td>211.2741935483871</td>\n      <td>9.022321</td>\n      <td>2.1078869047619047</td>\n      <td>162.37946428571428</td>\n      <td>262.79017857142856</td>\n      <td>7.276882</td>\n      <td>2.123252688172044</td>\n      <td>116.13037634408602</td>\n      <td>222.91935483870967</td>\n      <td>NaN</td>\n      <td>NaN</td>\n      <td>NaN</td>\n      <td>NaN</td>\n    </tr>\n    <tr>\n      <th>3</th>\n      <td>13.597222</td>\n      <td>2.380277777777777</td>\n      <td>275.21666666666664</td>\n      <td>325.02916666666664</td>\n      <td>11.189516</td>\n      <td>2.017607526881722</td>\n      <td>190.54569892473117</td>\n      <td>211.2741935483871</td>\n      <td>9.022321</td>\n      <td>2.1078869047619047</td>\n      <td>162.37946428571428</td>\n      <td>262.79017857142856</td>\n      <td>7.276882</td>\n      <td>2.123252688172044</td>\n      <td>116.13037634408602</td>\n      <td>222.91935483870967</td>\n    </tr>\n    <tr>\n      <th>4</th>\n      <td>15.333333</td>\n      <td>2.6719086021505336</td>\n      <td>312.744623655914</td>\n      <td>354.96639784946234</td>\n      <td>13.597222</td>\n      <td>2.380277777777777</td>\n      <td>275.21666666666664</td>\n      <td>325.02916666666664</td>\n      <td>11.189516</td>\n      <td>2.017607526881722</td>\n      <td>190.54569892473117</td>\n      <td>211.2741935483871</td>\n      <td>9.022321</td>\n      <td>2.1078869047619047</td>\n      <td>162.37946428571428</td>\n      <td>262.79017857142856</td>\n    </tr>\n    <tr>\n      <th>...</th>\n      <td>...</td>\n      <td>...</td>\n      <td>...</td>\n      <td>...</td>\n      <td>...</td>\n      <td>...</td>\n      <td>...</td>\n      <td>...</td>\n      <td>...</td>\n      <td>...</td>\n      <td>...</td>\n      <td>...</td>\n      <td>...</td>\n      <td>...</td>\n      <td>...</td>\n      <td>...</td>\n    </tr>\n    <tr>\n      <th>29853</th>\n      <td>24.378091</td>\n      <td>3.0030913978494644</td>\n      <td>312.28225806451616</td>\n      <td>389.9220430107527</td>\n      <td>NaN</td>\n      <td>NaN</td>\n      <td>NaN</td>\n      <td>NaN</td>\n      <td>NaN</td>\n      <td>NaN</td>\n      <td>NaN</td>\n      <td>NaN</td>\n      <td>NaN</td>\n      <td>NaN</td>\n      <td>NaN</td>\n      <td>NaN</td>\n    </tr>\n    <tr>\n      <th>29854</th>\n      <td>22.098333</td>\n      <td>2.5294444444444415</td>\n      <td>250.71805555555557</td>\n      <td>342.4819444444444</td>\n      <td>NaN</td>\n      <td>NaN</td>\n      <td>NaN</td>\n      <td>NaN</td>\n      <td>NaN</td>\n      <td>NaN</td>\n      <td>NaN</td>\n      <td>NaN</td>\n      <td>NaN</td>\n      <td>NaN</td>\n      <td>NaN</td>\n      <td>NaN</td>\n    </tr>\n    <tr>\n      <th>29855</th>\n      <td>18.005780</td>\n      <td>1.9706989247311848</td>\n      <td>199.41397849462365</td>\n      <td>314.4139784946237</td>\n      <td>NaN</td>\n      <td>NaN</td>\n      <td>NaN</td>\n      <td>NaN</td>\n      <td>NaN</td>\n      <td>NaN</td>\n      <td>NaN</td>\n      <td>NaN</td>\n      <td>NaN</td>\n      <td>NaN</td>\n      <td>NaN</td>\n      <td>NaN</td>\n    </tr>\n    <tr>\n      <th>29856</th>\n      <td>13.942639</td>\n      <td>1.5990277777777768</td>\n      <td>128.82222222222222</td>\n      <td>226.15277777777777</td>\n      <td>NaN</td>\n      <td>NaN</td>\n      <td>NaN</td>\n      <td>NaN</td>\n      <td>NaN</td>\n      <td>NaN</td>\n      <td>NaN</td>\n      <td>NaN</td>\n      <td>NaN</td>\n      <td>NaN</td>\n      <td>NaN</td>\n      <td>NaN</td>\n    </tr>\n    <tr>\n      <th>29857</th>\n      <td>10.240860</td>\n      <td>1.9862903225806463</td>\n      <td>75.23655913978494</td>\n      <td>116.34005376344086</td>\n      <td>NaN</td>\n      <td>NaN</td>\n      <td>NaN</td>\n      <td>NaN</td>\n      <td>NaN</td>\n      <td>NaN</td>\n      <td>NaN</td>\n      <td>NaN</td>\n      <td>NaN</td>\n      <td>NaN</td>\n      <td>NaN</td>\n      <td>NaN</td>\n    </tr>\n  </tbody>\n</table>\n<p>29858 rows × 16 columns</p>\n</div>"
          },
          "metadata": {}
        }
      ],
      "execution_count": null
    },
    {
      "cell_type": "code",
      "source": "pinole[[]]",
      "metadata": {
        "tags": [],
        "cell_id": "00024-179b2a8b-4032-4db6-b06a-d13552fb7a49",
        "deepnote_cell_type": "code"
      },
      "outputs": [],
      "execution_count": null
    },
    {
      "cell_type": "code",
      "metadata": {
        "tags": [],
        "deepnote_to_be_reexecuted": false,
        "source_hash": "a65ead9b",
        "execution_millis": 264,
        "cell_id": "00026-8650e738-cb14-42cc-9f5f-d14370488b5d",
        "execution_start": 1619133771782,
        "deepnote_cell_type": "code"
      },
      "source": "bay_area_monthly_elec_pge_nrel_clean.head()",
      "outputs": [
        {
          "output_type": "execute_result",
          "execution_count": 51,
          "data": {
            "application/vnd.deepnote.dataframe.v2+json": {
              "error": "Traceback (most recent call last):\n  File \"/shared-libs/code/variable_explorer.py\", line 143, in dataframe_formatter\n    return { MIME_TYPE: describe_pd_dataframe(df) }\n  File \"/shared-libs/code/variable_explorer_helpers.py\", line 154, in describe_pd_dataframe\n    if (is_type_numeric(column.dtype)):\n  File \"/shared-libs/code/variable_explorer_helpers.py\", line 13, in is_type_numeric\n    return np.issubdtype(dtype, np.number)\n  File \"/shared-libs/python3.7/py/lib/python3.7/site-packages/numpy/core/numerictypes.py\", line 388, in issubdtype\n    arg1 = dtype(arg1).type\nTypeError: Cannot interpret '<geopandas.array.GeometryDtype object at 0x7f8cdef90e50>' as a data type\n"
            },
            "text/plain": "       zip    city state   latitude  longitude timezone dst        DATE  \\\n94   94564  Pinole    CA  37.997509 -122.29208       -8   1  2013-01-01   \n95   94564  Pinole    CA  37.997509 -122.29208       -8   1  2013-02-01   \n96   94564  Pinole    CA  37.997509 -122.29208       -8   1  2013-03-01   \n100  94564  Pinole    CA  37.997509 -122.29208       -8   1  2013-04-01   \n101  94564  Pinole    CA  37.997509 -122.29208       -8   1  2013-05-01   \n\n     MONTH  YEAR  ...  AVERAGEKWH_std TOTALTHERM_std AVERAGETHERM_std  \\\n94       1  2013  ...        0.434919       -0.46156        -0.348278   \n95       2  2013  ...        0.245494       -0.46156        -0.348278   \n96       3  2013  ...        0.247315       -0.46156        -0.348278   \n100      4  2013  ...        0.176281       -0.46156        -0.348278   \n101      5  2013  ...        0.185388       -0.46156        -0.348278   \n\n      GHI_std   DHI_std   DNI_std  Wind_Speed_std  Temperature_std  \\\n94  -1.104314 -1.395587 -0.577344        0.229490        -1.408347   \n95  -0.578528 -0.869444 -0.114522        0.211040        -1.108450   \n96  -0.258319  0.869032 -0.712522        0.102642        -0.736089   \n100  0.704267  0.491066  0.607951        0.538100        -0.322403   \n101  1.130906  0.761388  0.955463        0.888261        -0.024109   \n\n    Solar_Zenith_Angle_std                     geometry  \n94                1.263679  POINT (-122.29208 37.99751)  \n95                0.776013  POINT (-122.29208 37.99751)  \n96                0.088214  POINT (-122.29208 37.99751)  \n100              -0.634085  POINT (-122.29208 37.99751)  \n101              -1.182103  POINT (-122.29208 37.99751)  \n\n[5 rows x 36 columns]",
            "text/html": "<div>\n<style scoped>\n    .dataframe tbody tr th:only-of-type {\n        vertical-align: middle;\n    }\n\n    .dataframe tbody tr th {\n        vertical-align: top;\n    }\n\n    .dataframe thead th {\n        text-align: right;\n    }\n</style>\n<table border=\"1\" class=\"dataframe\">\n  <thead>\n    <tr style=\"text-align: right;\">\n      <th></th>\n      <th>zip</th>\n      <th>city</th>\n      <th>state</th>\n      <th>latitude</th>\n      <th>longitude</th>\n      <th>timezone</th>\n      <th>dst</th>\n      <th>DATE</th>\n      <th>MONTH</th>\n      <th>YEAR</th>\n      <th>...</th>\n      <th>AVERAGEKWH_std</th>\n      <th>TOTALTHERM_std</th>\n      <th>AVERAGETHERM_std</th>\n      <th>GHI_std</th>\n      <th>DHI_std</th>\n      <th>DNI_std</th>\n      <th>Wind_Speed_std</th>\n      <th>Temperature_std</th>\n      <th>Solar_Zenith_Angle_std</th>\n      <th>geometry</th>\n    </tr>\n  </thead>\n  <tbody>\n    <tr>\n      <th>94</th>\n      <td>94564</td>\n      <td>Pinole</td>\n      <td>CA</td>\n      <td>37.997509</td>\n      <td>-122.29208</td>\n      <td>-8</td>\n      <td>1</td>\n      <td>2013-01-01</td>\n      <td>1</td>\n      <td>2013</td>\n      <td>...</td>\n      <td>0.434919</td>\n      <td>-0.46156</td>\n      <td>-0.348278</td>\n      <td>-1.104314</td>\n      <td>-1.395587</td>\n      <td>-0.577344</td>\n      <td>0.229490</td>\n      <td>-1.408347</td>\n      <td>1.263679</td>\n      <td>POINT (-122.29208 37.99751)</td>\n    </tr>\n    <tr>\n      <th>95</th>\n      <td>94564</td>\n      <td>Pinole</td>\n      <td>CA</td>\n      <td>37.997509</td>\n      <td>-122.29208</td>\n      <td>-8</td>\n      <td>1</td>\n      <td>2013-02-01</td>\n      <td>2</td>\n      <td>2013</td>\n      <td>...</td>\n      <td>0.245494</td>\n      <td>-0.46156</td>\n      <td>-0.348278</td>\n      <td>-0.578528</td>\n      <td>-0.869444</td>\n      <td>-0.114522</td>\n      <td>0.211040</td>\n      <td>-1.108450</td>\n      <td>0.776013</td>\n      <td>POINT (-122.29208 37.99751)</td>\n    </tr>\n    <tr>\n      <th>96</th>\n      <td>94564</td>\n      <td>Pinole</td>\n      <td>CA</td>\n      <td>37.997509</td>\n      <td>-122.29208</td>\n      <td>-8</td>\n      <td>1</td>\n      <td>2013-03-01</td>\n      <td>3</td>\n      <td>2013</td>\n      <td>...</td>\n      <td>0.247315</td>\n      <td>-0.46156</td>\n      <td>-0.348278</td>\n      <td>-0.258319</td>\n      <td>0.869032</td>\n      <td>-0.712522</td>\n      <td>0.102642</td>\n      <td>-0.736089</td>\n      <td>0.088214</td>\n      <td>POINT (-122.29208 37.99751)</td>\n    </tr>\n    <tr>\n      <th>100</th>\n      <td>94564</td>\n      <td>Pinole</td>\n      <td>CA</td>\n      <td>37.997509</td>\n      <td>-122.29208</td>\n      <td>-8</td>\n      <td>1</td>\n      <td>2013-04-01</td>\n      <td>4</td>\n      <td>2013</td>\n      <td>...</td>\n      <td>0.176281</td>\n      <td>-0.46156</td>\n      <td>-0.348278</td>\n      <td>0.704267</td>\n      <td>0.491066</td>\n      <td>0.607951</td>\n      <td>0.538100</td>\n      <td>-0.322403</td>\n      <td>-0.634085</td>\n      <td>POINT (-122.29208 37.99751)</td>\n    </tr>\n    <tr>\n      <th>101</th>\n      <td>94564</td>\n      <td>Pinole</td>\n      <td>CA</td>\n      <td>37.997509</td>\n      <td>-122.29208</td>\n      <td>-8</td>\n      <td>1</td>\n      <td>2013-05-01</td>\n      <td>5</td>\n      <td>2013</td>\n      <td>...</td>\n      <td>0.185388</td>\n      <td>-0.46156</td>\n      <td>-0.348278</td>\n      <td>1.130906</td>\n      <td>0.761388</td>\n      <td>0.955463</td>\n      <td>0.888261</td>\n      <td>-0.024109</td>\n      <td>-1.182103</td>\n      <td>POINT (-122.29208 37.99751)</td>\n    </tr>\n  </tbody>\n</table>\n<p>5 rows × 36 columns</p>\n</div>"
          },
          "metadata": {}
        }
      ],
      "execution_count": null
    },
    {
      "cell_type": "code",
      "metadata": {
        "tags": [],
        "deepnote_to_be_reexecuted": false,
        "source_hash": "d82bf5b8",
        "execution_millis": 10,
        "cell_id": "00029-8bc0b43c-6de5-4c15-ae5c-66f05d2f2097",
        "execution_start": 1619132251247,
        "deepnote_cell_type": "code"
      },
      "source": "#elec_X_train_2=elec_X_train[4:]",
      "outputs": [
        {
          "output_type": "error",
          "ename": "NameError",
          "evalue": "name 'elec_X_train' is not defined",
          "traceback": [
            "\u001b[0;31m---------------------------------------------------------------------------\u001b[0m",
            "\u001b[0;31mNameError\u001b[0m                                 Traceback (most recent call last)",
            "\u001b[0;32m<ipython-input-2-be986cd3e06a>\u001b[0m in \u001b[0;36m<module>\u001b[0;34m\u001b[0m\n\u001b[0;32m----> 1\u001b[0;31m \u001b[0melec_X_train_2\u001b[0m\u001b[0;34m=\u001b[0m\u001b[0melec_X_train\u001b[0m\u001b[0;34m[\u001b[0m\u001b[0;36m12\u001b[0m\u001b[0;34m:\u001b[0m\u001b[0;34m]\u001b[0m\u001b[0;34m\u001b[0m\u001b[0;34m\u001b[0m\u001b[0m\n\u001b[0m",
            "\u001b[0;31mNameError\u001b[0m: name 'elec_X_train' is not defined"
          ]
        }
      ],
      "execution_count": null
    },
    {
      "cell_type": "code",
      "metadata": {
        "tags": [],
        "deepnote_to_be_reexecuted": false,
        "source_hash": "aed27c50",
        "execution_millis": 10,
        "execution_start": 1618697375178,
        "cell_id": "00032-2a161c27-fd76-4749-bc52-c7a9da1cbad0",
        "deepnote_cell_type": "code"
      },
      "source": "elec_X_train_2 = elec_X_train_2.reset_index()",
      "execution_count": null,
      "outputs": []
    },
    {
      "cell_type": "code",
      "metadata": {
        "tags": [],
        "deepnote_to_be_reexecuted": false,
        "source_hash": "f1dc5fa2",
        "execution_millis": 54,
        "execution_start": 1618697381172,
        "cell_id": "00035-308ab14c-389c-4c36-8a3c-03bf60837157",
        "deepnote_cell_type": "code"
      },
      "source": "elec_X_train_2.head()",
      "execution_count": null,
      "outputs": [
        {
          "output_type": "execute_result",
          "execution_count": 175,
          "data": {
            "application/vnd.deepnote.dataframe.v2+json": {
              "row_count": 5,
              "column_count": 22,
              "columns": [
                {
                  "name": "index",
                  "dtype": "int64",
                  "stats": {
                    "unique_count": 5,
                    "nan_count": 0,
                    "min": "118",
                    "max": "125",
                    "histogram": [
                      {
                        "bin_start": 118,
                        "bin_end": 118.7,
                        "count": 1
                      },
                      {
                        "bin_start": 118.7,
                        "bin_end": 119.4,
                        "count": 1
                      },
                      {
                        "bin_start": 119.4,
                        "bin_end": 120.1,
                        "count": 1
                      },
                      {
                        "bin_start": 120.1,
                        "bin_end": 120.8,
                        "count": 0
                      },
                      {
                        "bin_start": 120.8,
                        "bin_end": 121.5,
                        "count": 0
                      },
                      {
                        "bin_start": 121.5,
                        "bin_end": 122.2,
                        "count": 0
                      },
                      {
                        "bin_start": 122.2,
                        "bin_end": 122.9,
                        "count": 0
                      },
                      {
                        "bin_start": 122.9,
                        "bin_end": 123.6,
                        "count": 0
                      },
                      {
                        "bin_start": 123.6,
                        "bin_end": 124.3,
                        "count": 1
                      },
                      {
                        "bin_start": 124.3,
                        "bin_end": 125,
                        "count": 1
                      }
                    ]
                  }
                },
                {
                  "name": "MONTH",
                  "dtype": "int64",
                  "stats": {
                    "unique_count": 5,
                    "nan_count": 0,
                    "min": "1",
                    "max": "5",
                    "histogram": [
                      {
                        "bin_start": 1,
                        "bin_end": 1.4,
                        "count": 1
                      },
                      {
                        "bin_start": 1.4,
                        "bin_end": 1.8,
                        "count": 0
                      },
                      {
                        "bin_start": 1.8,
                        "bin_end": 2.2,
                        "count": 1
                      },
                      {
                        "bin_start": 2.2,
                        "bin_end": 2.6,
                        "count": 0
                      },
                      {
                        "bin_start": 2.6,
                        "bin_end": 3,
                        "count": 0
                      },
                      {
                        "bin_start": 3,
                        "bin_end": 3.4000000000000004,
                        "count": 1
                      },
                      {
                        "bin_start": 3.4000000000000004,
                        "bin_end": 3.8000000000000003,
                        "count": 0
                      },
                      {
                        "bin_start": 3.8000000000000003,
                        "bin_end": 4.2,
                        "count": 1
                      },
                      {
                        "bin_start": 4.2,
                        "bin_end": 4.6,
                        "count": 0
                      },
                      {
                        "bin_start": 4.6,
                        "bin_end": 5,
                        "count": 1
                      }
                    ]
                  }
                },
                {
                  "name": "YEAR",
                  "dtype": "int64",
                  "stats": {
                    "unique_count": 1,
                    "nan_count": 0,
                    "min": "2014",
                    "max": "2014",
                    "histogram": [
                      {
                        "bin_start": 2013.5,
                        "bin_end": 2013.6,
                        "count": 0
                      },
                      {
                        "bin_start": 2013.6,
                        "bin_end": 2013.7,
                        "count": 0
                      },
                      {
                        "bin_start": 2013.7,
                        "bin_end": 2013.8,
                        "count": 0
                      },
                      {
                        "bin_start": 2013.8,
                        "bin_end": 2013.9,
                        "count": 0
                      },
                      {
                        "bin_start": 2013.9,
                        "bin_end": 2014,
                        "count": 0
                      },
                      {
                        "bin_start": 2014,
                        "bin_end": 2014.1,
                        "count": 5
                      },
                      {
                        "bin_start": 2014.1,
                        "bin_end": 2014.2,
                        "count": 0
                      },
                      {
                        "bin_start": 2014.2,
                        "bin_end": 2014.3,
                        "count": 0
                      },
                      {
                        "bin_start": 2014.3,
                        "bin_end": 2014.4,
                        "count": 0
                      },
                      {
                        "bin_start": 2014.4,
                        "bin_end": 2014.5,
                        "count": 0
                      }
                    ]
                  }
                },
                {
                  "name": "zip",
                  "dtype": "int64",
                  "stats": {
                    "unique_count": 1,
                    "nan_count": 0,
                    "min": "94564",
                    "max": "94564",
                    "histogram": [
                      {
                        "bin_start": 94563.5,
                        "bin_end": 94563.6,
                        "count": 0
                      },
                      {
                        "bin_start": 94563.6,
                        "bin_end": 94563.7,
                        "count": 0
                      },
                      {
                        "bin_start": 94563.7,
                        "bin_end": 94563.8,
                        "count": 0
                      },
                      {
                        "bin_start": 94563.8,
                        "bin_end": 94563.9,
                        "count": 0
                      },
                      {
                        "bin_start": 94563.9,
                        "bin_end": 94564,
                        "count": 0
                      },
                      {
                        "bin_start": 94564,
                        "bin_end": 94564.1,
                        "count": 5
                      },
                      {
                        "bin_start": 94564.1,
                        "bin_end": 94564.2,
                        "count": 0
                      },
                      {
                        "bin_start": 94564.2,
                        "bin_end": 94564.3,
                        "count": 0
                      },
                      {
                        "bin_start": 94564.3,
                        "bin_end": 94564.4,
                        "count": 0
                      },
                      {
                        "bin_start": 94564.4,
                        "bin_end": 94564.5,
                        "count": 0
                      }
                    ]
                  }
                },
                {
                  "name": "GHI_raw",
                  "dtype": "object",
                  "stats": {
                    "unique_count": 5,
                    "nan_count": 0,
                    "categories": [
                      {
                        "name": "116.11290322580645",
                        "count": 1
                      },
                      {
                        "name": "125.19047619047619",
                        "count": 1
                      },
                      {
                        "name": "3 others",
                        "count": 3
                      }
                    ]
                  }
                },
                {
                  "name": "DHI_raw",
                  "dtype": "object",
                  "stats": {
                    "unique_count": 5,
                    "nan_count": 0,
                    "categories": [
                      {
                        "name": "31.026881720430108",
                        "count": 1
                      },
                      {
                        "name": "49.552083333333336",
                        "count": 1
                      },
                      {
                        "name": "3 others",
                        "count": 3
                      }
                    ]
                  }
                },
                {
                  "name": "DNI_raw",
                  "dtype": "object",
                  "stats": {
                    "unique_count": 5,
                    "nan_count": 0,
                    "categories": [
                      {
                        "name": "218.20698924731184",
                        "count": 1
                      },
                      {
                        "name": "158.35565476190476",
                        "count": 1
                      },
                      {
                        "name": "3 others",
                        "count": 3
                      }
                    ]
                  }
                },
                {
                  "name": "Wind Speed",
                  "dtype": "object",
                  "stats": {
                    "unique_count": 5,
                    "nan_count": 0,
                    "categories": [
                      {
                        "name": "1.7182795698924735",
                        "count": 1
                      },
                      {
                        "name": "2.0611607142857156",
                        "count": 1
                      },
                      {
                        "name": "3 others",
                        "count": 3
                      }
                    ]
                  }
                },
                {
                  "name": "Temperature_raw",
                  "dtype": "float64",
                  "stats": {
                    "unique_count": 5,
                    "nan_count": 0,
                    "min": "10.813172043010752",
                    "max": "16.032258064516128",
                    "histogram": [
                      {
                        "bin_start": 10.813172043010752,
                        "bin_end": 11.33508064516129,
                        "count": 2
                      },
                      {
                        "bin_start": 11.33508064516129,
                        "bin_end": 11.856989247311827,
                        "count": 0
                      },
                      {
                        "bin_start": 11.856989247311827,
                        "bin_end": 12.378897849462366,
                        "count": 0
                      },
                      {
                        "bin_start": 12.378897849462366,
                        "bin_end": 12.900806451612903,
                        "count": 1
                      },
                      {
                        "bin_start": 12.900806451612903,
                        "bin_end": 13.42271505376344,
                        "count": 0
                      },
                      {
                        "bin_start": 13.42271505376344,
                        "bin_end": 13.944623655913977,
                        "count": 1
                      },
                      {
                        "bin_start": 13.944623655913977,
                        "bin_end": 14.466532258064515,
                        "count": 0
                      },
                      {
                        "bin_start": 14.466532258064515,
                        "bin_end": 14.988440860215054,
                        "count": 0
                      },
                      {
                        "bin_start": 14.988440860215054,
                        "bin_end": 15.510349462365589,
                        "count": 0
                      },
                      {
                        "bin_start": 15.510349462365589,
                        "bin_end": 16.032258064516128,
                        "count": 1
                      }
                    ]
                  }
                },
                {
                  "name": "Solar_Zenith_Angle_raw",
                  "dtype": "float64",
                  "stats": {
                    "unique_count": 5,
                    "nan_count": 0,
                    "min": "75.51069892473109",
                    "max": "105.61565860215028",
                    "histogram": [
                      {
                        "bin_start": 75.51069892473109,
                        "bin_end": 78.521194892473,
                        "count": 1
                      },
                      {
                        "bin_start": 78.521194892473,
                        "bin_end": 81.53169086021492,
                        "count": 0
                      },
                      {
                        "bin_start": 81.53169086021492,
                        "bin_end": 84.54218682795684,
                        "count": 1
                      },
                      {
                        "bin_start": 84.54218682795684,
                        "bin_end": 87.55268279569876,
                        "count": 0
                      },
                      {
                        "bin_start": 87.55268279569876,
                        "bin_end": 90.56317876344067,
                        "count": 0
                      },
                      {
                        "bin_start": 90.56317876344067,
                        "bin_end": 93.57367473118259,
                        "count": 1
                      },
                      {
                        "bin_start": 93.57367473118259,
                        "bin_end": 96.58417069892452,
                        "count": 0
                      },
                      {
                        "bin_start": 96.58417069892452,
                        "bin_end": 99.59466666666644,
                        "count": 0
                      },
                      {
                        "bin_start": 99.59466666666644,
                        "bin_end": 102.60516263440836,
                        "count": 1
                      },
                      {
                        "bin_start": 102.60516263440836,
                        "bin_end": 105.61565860215028,
                        "count": 1
                      }
                    ]
                  }
                },
                {
                  "name": "k_12",
                  "dtype": "int64",
                  "stats": {
                    "unique_count": 5,
                    "nan_count": 0,
                    "min": "421",
                    "max": "563",
                    "histogram": [
                      {
                        "bin_start": 421,
                        "bin_end": 435.2,
                        "count": 2
                      },
                      {
                        "bin_start": 435.2,
                        "bin_end": 449.4,
                        "count": 0
                      },
                      {
                        "bin_start": 449.4,
                        "bin_end": 463.6,
                        "count": 2
                      },
                      {
                        "bin_start": 463.6,
                        "bin_end": 477.8,
                        "count": 0
                      },
                      {
                        "bin_start": 477.8,
                        "bin_end": 492,
                        "count": 0
                      },
                      {
                        "bin_start": 492,
                        "bin_end": 506.2,
                        "count": 0
                      },
                      {
                        "bin_start": 506.2,
                        "bin_end": 520.4,
                        "count": 0
                      },
                      {
                        "bin_start": 520.4,
                        "bin_end": 534.6,
                        "count": 0
                      },
                      {
                        "bin_start": 534.6,
                        "bin_end": 548.8,
                        "count": 0
                      },
                      {
                        "bin_start": 548.8,
                        "bin_end": 563,
                        "count": 1
                      }
                    ]
                  }
                },
                {
                  "name": "k_11",
                  "dtype": "int64",
                  "stats": {
                    "unique_count": 5,
                    "nan_count": 0,
                    "min": "421",
                    "max": "460",
                    "histogram": [
                      {
                        "bin_start": 421,
                        "bin_end": 424.9,
                        "count": 1
                      },
                      {
                        "bin_start": 424.9,
                        "bin_end": 428.8,
                        "count": 1
                      },
                      {
                        "bin_start": 428.8,
                        "bin_end": 432.7,
                        "count": 0
                      },
                      {
                        "bin_start": 432.7,
                        "bin_end": 436.6,
                        "count": 1
                      },
                      {
                        "bin_start": 436.6,
                        "bin_end": 440.5,
                        "count": 0
                      },
                      {
                        "bin_start": 440.5,
                        "bin_end": 444.4,
                        "count": 0
                      },
                      {
                        "bin_start": 444.4,
                        "bin_end": 448.3,
                        "count": 0
                      },
                      {
                        "bin_start": 448.3,
                        "bin_end": 452.2,
                        "count": 0
                      },
                      {
                        "bin_start": 452.2,
                        "bin_end": 456.1,
                        "count": 0
                      },
                      {
                        "bin_start": 456.1,
                        "bin_end": 460,
                        "count": 2
                      }
                    ]
                  }
                },
                {
                  "name": "k_10",
                  "dtype": "int64",
                  "stats": {
                    "unique_count": 5,
                    "nan_count": 0,
                    "min": "421",
                    "max": "460",
                    "histogram": [
                      {
                        "bin_start": 421,
                        "bin_end": 424.9,
                        "count": 1
                      },
                      {
                        "bin_start": 424.9,
                        "bin_end": 428.8,
                        "count": 1
                      },
                      {
                        "bin_start": 428.8,
                        "bin_end": 432.7,
                        "count": 0
                      },
                      {
                        "bin_start": 432.7,
                        "bin_end": 436.6,
                        "count": 1
                      },
                      {
                        "bin_start": 436.6,
                        "bin_end": 440.5,
                        "count": 1
                      },
                      {
                        "bin_start": 440.5,
                        "bin_end": 444.4,
                        "count": 0
                      },
                      {
                        "bin_start": 444.4,
                        "bin_end": 448.3,
                        "count": 0
                      },
                      {
                        "bin_start": 448.3,
                        "bin_end": 452.2,
                        "count": 0
                      },
                      {
                        "bin_start": 452.2,
                        "bin_end": 456.1,
                        "count": 0
                      },
                      {
                        "bin_start": 456.1,
                        "bin_end": 460,
                        "count": 1
                      }
                    ]
                  }
                },
                {
                  "name": "k_9",
                  "dtype": "int64",
                  "stats": {
                    "unique_count": 5,
                    "nan_count": 0,
                    "min": "421",
                    "max": "439",
                    "histogram": [
                      {
                        "bin_start": 421,
                        "bin_end": 422.8,
                        "count": 1
                      },
                      {
                        "bin_start": 422.8,
                        "bin_end": 424.6,
                        "count": 0
                      },
                      {
                        "bin_start": 424.6,
                        "bin_end": 426.4,
                        "count": 1
                      },
                      {
                        "bin_start": 426.4,
                        "bin_end": 428.2,
                        "count": 0
                      },
                      {
                        "bin_start": 428.2,
                        "bin_end": 430,
                        "count": 0
                      },
                      {
                        "bin_start": 430,
                        "bin_end": 431.8,
                        "count": 0
                      },
                      {
                        "bin_start": 431.8,
                        "bin_end": 433.6,
                        "count": 0
                      },
                      {
                        "bin_start": 433.6,
                        "bin_end": 435.4,
                        "count": 0
                      },
                      {
                        "bin_start": 435.4,
                        "bin_end": 437.2,
                        "count": 2
                      },
                      {
                        "bin_start": 437.2,
                        "bin_end": 439,
                        "count": 1
                      }
                    ]
                  }
                },
                {
                  "name": "k_8",
                  "dtype": "int64",
                  "stats": {
                    "unique_count": 5,
                    "nan_count": 0,
                    "min": "426",
                    "max": "439",
                    "histogram": [
                      {
                        "bin_start": 426,
                        "bin_end": 427.3,
                        "count": 1
                      },
                      {
                        "bin_start": 427.3,
                        "bin_end": 428.6,
                        "count": 1
                      },
                      {
                        "bin_start": 428.6,
                        "bin_end": 429.9,
                        "count": 0
                      },
                      {
                        "bin_start": 429.9,
                        "bin_end": 431.2,
                        "count": 0
                      },
                      {
                        "bin_start": 431.2,
                        "bin_end": 432.5,
                        "count": 0
                      },
                      {
                        "bin_start": 432.5,
                        "bin_end": 433.8,
                        "count": 0
                      },
                      {
                        "bin_start": 433.8,
                        "bin_end": 435.1,
                        "count": 0
                      },
                      {
                        "bin_start": 435.1,
                        "bin_end": 436.4,
                        "count": 1
                      },
                      {
                        "bin_start": 436.4,
                        "bin_end": 437.7,
                        "count": 1
                      },
                      {
                        "bin_start": 437.7,
                        "bin_end": 439,
                        "count": 1
                      }
                    ]
                  }
                },
                {
                  "name": "k_7",
                  "dtype": "int64",
                  "stats": {
                    "unique_count": 5,
                    "nan_count": 0,
                    "min": "428",
                    "max": "439",
                    "histogram": [
                      {
                        "bin_start": 428,
                        "bin_end": 429.1,
                        "count": 1
                      },
                      {
                        "bin_start": 429.1,
                        "bin_end": 430.2,
                        "count": 0
                      },
                      {
                        "bin_start": 430.2,
                        "bin_end": 431.3,
                        "count": 0
                      },
                      {
                        "bin_start": 431.3,
                        "bin_end": 432.4,
                        "count": 1
                      },
                      {
                        "bin_start": 432.4,
                        "bin_end": 433.5,
                        "count": 0
                      },
                      {
                        "bin_start": 433.5,
                        "bin_end": 434.6,
                        "count": 0
                      },
                      {
                        "bin_start": 434.6,
                        "bin_end": 435.7,
                        "count": 0
                      },
                      {
                        "bin_start": 435.7,
                        "bin_end": 436.8,
                        "count": 1
                      },
                      {
                        "bin_start": 436.8,
                        "bin_end": 437.9,
                        "count": 1
                      },
                      {
                        "bin_start": 437.9,
                        "bin_end": 439,
                        "count": 1
                      }
                    ]
                  }
                },
                {
                  "name": "k_6",
                  "dtype": "int64",
                  "stats": {
                    "unique_count": 5,
                    "nan_count": 0,
                    "min": "428",
                    "max": "462",
                    "histogram": [
                      {
                        "bin_start": 428,
                        "bin_end": 431.4,
                        "count": 1
                      },
                      {
                        "bin_start": 431.4,
                        "bin_end": 434.8,
                        "count": 1
                      },
                      {
                        "bin_start": 434.8,
                        "bin_end": 438.2,
                        "count": 1
                      },
                      {
                        "bin_start": 438.2,
                        "bin_end": 441.6,
                        "count": 1
                      },
                      {
                        "bin_start": 441.6,
                        "bin_end": 445,
                        "count": 0
                      },
                      {
                        "bin_start": 445,
                        "bin_end": 448.4,
                        "count": 0
                      },
                      {
                        "bin_start": 448.4,
                        "bin_end": 451.8,
                        "count": 0
                      },
                      {
                        "bin_start": 451.8,
                        "bin_end": 455.2,
                        "count": 0
                      },
                      {
                        "bin_start": 455.2,
                        "bin_end": 458.6,
                        "count": 0
                      },
                      {
                        "bin_start": 458.6,
                        "bin_end": 462,
                        "count": 1
                      }
                    ]
                  }
                },
                {
                  "name": "k_5",
                  "dtype": "int64",
                  "stats": {
                    "unique_count": 5,
                    "nan_count": 0,
                    "min": "428",
                    "max": "572",
                    "histogram": [
                      {
                        "bin_start": 428,
                        "bin_end": 442.4,
                        "count": 3
                      },
                      {
                        "bin_start": 442.4,
                        "bin_end": 456.8,
                        "count": 0
                      },
                      {
                        "bin_start": 456.8,
                        "bin_end": 471.2,
                        "count": 1
                      },
                      {
                        "bin_start": 471.2,
                        "bin_end": 485.6,
                        "count": 0
                      },
                      {
                        "bin_start": 485.6,
                        "bin_end": 500,
                        "count": 0
                      },
                      {
                        "bin_start": 500,
                        "bin_end": 514.4,
                        "count": 0
                      },
                      {
                        "bin_start": 514.4,
                        "bin_end": 528.8,
                        "count": 0
                      },
                      {
                        "bin_start": 528.8,
                        "bin_end": 543.2,
                        "count": 0
                      },
                      {
                        "bin_start": 543.2,
                        "bin_end": 557.6,
                        "count": 0
                      },
                      {
                        "bin_start": 557.6,
                        "bin_end": 572,
                        "count": 1
                      }
                    ]
                  }
                },
                {
                  "name": "k_4",
                  "dtype": "int64",
                  "stats": {
                    "unique_count": 5,
                    "nan_count": 0,
                    "min": "428",
                    "max": "572",
                    "histogram": [
                      {
                        "bin_start": 428,
                        "bin_end": 442.4,
                        "count": 2
                      },
                      {
                        "bin_start": 442.4,
                        "bin_end": 456.8,
                        "count": 0
                      },
                      {
                        "bin_start": 456.8,
                        "bin_end": 471.2,
                        "count": 1
                      },
                      {
                        "bin_start": 471.2,
                        "bin_end": 485.6,
                        "count": 0
                      },
                      {
                        "bin_start": 485.6,
                        "bin_end": 500,
                        "count": 1
                      },
                      {
                        "bin_start": 500,
                        "bin_end": 514.4,
                        "count": 0
                      },
                      {
                        "bin_start": 514.4,
                        "bin_end": 528.8,
                        "count": 0
                      },
                      {
                        "bin_start": 528.8,
                        "bin_end": 543.2,
                        "count": 0
                      },
                      {
                        "bin_start": 543.2,
                        "bin_end": 557.6,
                        "count": 0
                      },
                      {
                        "bin_start": 557.6,
                        "bin_end": 572,
                        "count": 1
                      }
                    ]
                  }
                },
                {
                  "name": "k_3",
                  "dtype": "int64",
                  "stats": {
                    "unique_count": 5,
                    "nan_count": 0,
                    "min": "431",
                    "max": "572",
                    "histogram": [
                      {
                        "bin_start": 431,
                        "bin_end": 445.1,
                        "count": 2
                      },
                      {
                        "bin_start": 445.1,
                        "bin_end": 459.2,
                        "count": 0
                      },
                      {
                        "bin_start": 459.2,
                        "bin_end": 473.3,
                        "count": 1
                      },
                      {
                        "bin_start": 473.3,
                        "bin_end": 487.4,
                        "count": 0
                      },
                      {
                        "bin_start": 487.4,
                        "bin_end": 501.5,
                        "count": 1
                      },
                      {
                        "bin_start": 501.5,
                        "bin_end": 515.6,
                        "count": 0
                      },
                      {
                        "bin_start": 515.6,
                        "bin_end": 529.7,
                        "count": 0
                      },
                      {
                        "bin_start": 529.7,
                        "bin_end": 543.8,
                        "count": 0
                      },
                      {
                        "bin_start": 543.8,
                        "bin_end": 557.9,
                        "count": 0
                      },
                      {
                        "bin_start": 557.9,
                        "bin_end": 572,
                        "count": 1
                      }
                    ]
                  }
                },
                {
                  "name": "k_2",
                  "dtype": "int64",
                  "stats": {
                    "unique_count": 5,
                    "nan_count": 0,
                    "min": "431",
                    "max": "572",
                    "histogram": [
                      {
                        "bin_start": 431,
                        "bin_end": 445.1,
                        "count": 2
                      },
                      {
                        "bin_start": 445.1,
                        "bin_end": 459.2,
                        "count": 0
                      },
                      {
                        "bin_start": 459.2,
                        "bin_end": 473.3,
                        "count": 1
                      },
                      {
                        "bin_start": 473.3,
                        "bin_end": 487.4,
                        "count": 0
                      },
                      {
                        "bin_start": 487.4,
                        "bin_end": 501.5,
                        "count": 1
                      },
                      {
                        "bin_start": 501.5,
                        "bin_end": 515.6,
                        "count": 0
                      },
                      {
                        "bin_start": 515.6,
                        "bin_end": 529.7,
                        "count": 0
                      },
                      {
                        "bin_start": 529.7,
                        "bin_end": 543.8,
                        "count": 0
                      },
                      {
                        "bin_start": 543.8,
                        "bin_end": 557.9,
                        "count": 0
                      },
                      {
                        "bin_start": 557.9,
                        "bin_end": 572,
                        "count": 1
                      }
                    ]
                  }
                },
                {
                  "name": "k_1",
                  "dtype": "int64",
                  "stats": {
                    "unique_count": 5,
                    "nan_count": 0,
                    "min": "407",
                    "max": "572",
                    "histogram": [
                      {
                        "bin_start": 407,
                        "bin_end": 423.5,
                        "count": 1
                      },
                      {
                        "bin_start": 423.5,
                        "bin_end": 440,
                        "count": 2
                      },
                      {
                        "bin_start": 440,
                        "bin_end": 456.5,
                        "count": 0
                      },
                      {
                        "bin_start": 456.5,
                        "bin_end": 473,
                        "count": 0
                      },
                      {
                        "bin_start": 473,
                        "bin_end": 489.5,
                        "count": 0
                      },
                      {
                        "bin_start": 489.5,
                        "bin_end": 506,
                        "count": 1
                      },
                      {
                        "bin_start": 506,
                        "bin_end": 522.5,
                        "count": 0
                      },
                      {
                        "bin_start": 522.5,
                        "bin_end": 539,
                        "count": 0
                      },
                      {
                        "bin_start": 539,
                        "bin_end": 555.5,
                        "count": 0
                      },
                      {
                        "bin_start": 555.5,
                        "bin_end": 572,
                        "count": 1
                      }
                    ]
                  }
                },
                {
                  "name": "_deepnote_index_column",
                  "dtype": "int64"
                }
              ],
              "rows_top": [
                {
                  "index": 118,
                  "MONTH": 1,
                  "YEAR": 2014,
                  "zip": 94564,
                  "GHI_raw": "116.11290322580645",
                  "DHI_raw": "31.026881720430108",
                  "DNI_raw": "218.20698924731184",
                  "Wind Speed": "1.7182795698924735",
                  "Temperature_raw": 10.813172043010752,
                  "Solar_Zenith_Angle_raw": 105.61565860215028,
                  "k_12": 563,
                  "k_11": 459,
                  "k_10": 460,
                  "k_9": 421,
                  "k_8": 426,
                  "k_7": 436,
                  "k_6": 437,
                  "k_5": 439,
                  "k_4": 428,
                  "k_3": 432,
                  "k_2": 462,
                  "k_1": 572,
                  "_deepnote_index_column": 0
                },
                {
                  "index": 119,
                  "MONTH": 2,
                  "YEAR": 2014,
                  "zip": 94564,
                  "GHI_raw": "125.19047619047619",
                  "DHI_raw": "49.552083333333336",
                  "DNI_raw": "158.35565476190476",
                  "Wind Speed": "2.0611607142857156",
                  "Temperature_raw": 10.925595238095235,
                  "Solar_Zenith_Angle_raw": 99.64017857142856,
                  "k_12": 459,
                  "k_11": 460,
                  "k_10": 421,
                  "k_9": 426,
                  "k_8": 436,
                  "k_7": 437,
                  "k_6": 439,
                  "k_5": 428,
                  "k_4": 432,
                  "k_3": 462,
                  "k_2": 572,
                  "k_1": 492,
                  "_deepnote_index_column": 1
                },
                {
                  "index": 120,
                  "MONTH": 3,
                  "YEAR": 2014,
                  "zip": 94564,
                  "GHI_raw": "189.59543010752688",
                  "DHI_raw": "59.608870967741936",
                  "DNI_raw": "227.41397849462365",
                  "Wind Speed": "2.112903225806453",
                  "Temperature_raw": 12.83736559139785,
                  "Solar_Zenith_Angle_raw": 91.18322580645167,
                  "k_12": 460,
                  "k_11": 421,
                  "k_10": 426,
                  "k_9": 436,
                  "k_8": 437,
                  "k_7": 439,
                  "k_6": 428,
                  "k_5": 432,
                  "k_4": 462,
                  "k_3": 572,
                  "k_2": 492,
                  "k_1": 431,
                  "_deepnote_index_column": 2
                },
                {
                  "index": 124,
                  "MONTH": 4,
                  "YEAR": 2014,
                  "zip": 94564,
                  "GHI_raw": "265.2611111111111",
                  "DHI_raw": "71.5",
                  "DNI_raw": "294.6666666666667",
                  "Wind Speed": "2.219722222222223",
                  "Temperature_raw": 13.569444444444445,
                  "Solar_Zenith_Angle_raw": 82.28247222222221,
                  "k_12": 421,
                  "k_11": 426,
                  "k_10": 436,
                  "k_9": 437,
                  "k_8": 439,
                  "k_7": 428,
                  "k_6": 432,
                  "k_5": 462,
                  "k_4": 572,
                  "k_3": 492,
                  "k_2": 431,
                  "k_1": 434,
                  "_deepnote_index_column": 3
                },
                {
                  "index": 125,
                  "MONTH": 5,
                  "YEAR": 2014,
                  "zip": 94564,
                  "GHI_raw": "325.43951612903226",
                  "DHI_raw": "74.29032258064517",
                  "DNI_raw": "363.5766129032258",
                  "Wind Speed": "2.526478494623656",
                  "Temperature_raw": 16.032258064516128,
                  "Solar_Zenith_Angle_raw": 75.51069892473109,
                  "k_12": 426,
                  "k_11": 436,
                  "k_10": 437,
                  "k_9": 439,
                  "k_8": 428,
                  "k_7": 432,
                  "k_6": 462,
                  "k_5": 572,
                  "k_4": 492,
                  "k_3": 431,
                  "k_2": 434,
                  "k_1": 407,
                  "_deepnote_index_column": 4
                }
              ],
              "rows_bottom": null
            },
            "text/plain": "   index  MONTH  YEAR    zip             GHI_raw             DHI_raw  \\\n0    118      1  2014  94564  116.11290322580645  31.026881720430108   \n1    119      2  2014  94564  125.19047619047619  49.552083333333336   \n2    120      3  2014  94564  189.59543010752688  59.608870967741936   \n3    124      4  2014  94564   265.2611111111111                71.5   \n4    125      5  2014  94564  325.43951612903226   74.29032258064517   \n\n              DNI_raw          Wind Speed  Temperature_raw  \\\n0  218.20698924731184  1.7182795698924735        10.813172   \n1  158.35565476190476  2.0611607142857156        10.925595   \n2  227.41397849462365   2.112903225806453        12.837366   \n3   294.6666666666667   2.219722222222223        13.569444   \n4   363.5766129032258   2.526478494623656        16.032258   \n\n   Solar_Zenith_Angle_raw  ...  k_10  k_9  k_8  k_7  k_6  k_5  k_4  k_3  k_2  \\\n0              105.615659  ...   460  421  426  436  437  439  428  432  462   \n1               99.640179  ...   421  426  436  437  439  428  432  462  572   \n2               91.183226  ...   426  436  437  439  428  432  462  572  492   \n3               82.282472  ...   436  437  439  428  432  462  572  492  431   \n4               75.510699  ...   437  439  428  432  462  572  492  431  434   \n\n   k_1  \n0  572  \n1  492  \n2  431  \n3  434  \n4  407  \n\n[5 rows x 22 columns]",
            "text/html": "<div>\n<style scoped>\n    .dataframe tbody tr th:only-of-type {\n        vertical-align: middle;\n    }\n\n    .dataframe tbody tr th {\n        vertical-align: top;\n    }\n\n    .dataframe thead th {\n        text-align: right;\n    }\n</style>\n<table border=\"1\" class=\"dataframe\">\n  <thead>\n    <tr style=\"text-align: right;\">\n      <th></th>\n      <th>index</th>\n      <th>MONTH</th>\n      <th>YEAR</th>\n      <th>zip</th>\n      <th>GHI_raw</th>\n      <th>DHI_raw</th>\n      <th>DNI_raw</th>\n      <th>Wind Speed</th>\n      <th>Temperature_raw</th>\n      <th>Solar_Zenith_Angle_raw</th>\n      <th>...</th>\n      <th>k_10</th>\n      <th>k_9</th>\n      <th>k_8</th>\n      <th>k_7</th>\n      <th>k_6</th>\n      <th>k_5</th>\n      <th>k_4</th>\n      <th>k_3</th>\n      <th>k_2</th>\n      <th>k_1</th>\n    </tr>\n  </thead>\n  <tbody>\n    <tr>\n      <th>0</th>\n      <td>118</td>\n      <td>1</td>\n      <td>2014</td>\n      <td>94564</td>\n      <td>116.11290322580645</td>\n      <td>31.026881720430108</td>\n      <td>218.20698924731184</td>\n      <td>1.7182795698924735</td>\n      <td>10.813172</td>\n      <td>105.615659</td>\n      <td>...</td>\n      <td>460</td>\n      <td>421</td>\n      <td>426</td>\n      <td>436</td>\n      <td>437</td>\n      <td>439</td>\n      <td>428</td>\n      <td>432</td>\n      <td>462</td>\n      <td>572</td>\n    </tr>\n    <tr>\n      <th>1</th>\n      <td>119</td>\n      <td>2</td>\n      <td>2014</td>\n      <td>94564</td>\n      <td>125.19047619047619</td>\n      <td>49.552083333333336</td>\n      <td>158.35565476190476</td>\n      <td>2.0611607142857156</td>\n      <td>10.925595</td>\n      <td>99.640179</td>\n      <td>...</td>\n      <td>421</td>\n      <td>426</td>\n      <td>436</td>\n      <td>437</td>\n      <td>439</td>\n      <td>428</td>\n      <td>432</td>\n      <td>462</td>\n      <td>572</td>\n      <td>492</td>\n    </tr>\n    <tr>\n      <th>2</th>\n      <td>120</td>\n      <td>3</td>\n      <td>2014</td>\n      <td>94564</td>\n      <td>189.59543010752688</td>\n      <td>59.608870967741936</td>\n      <td>227.41397849462365</td>\n      <td>2.112903225806453</td>\n      <td>12.837366</td>\n      <td>91.183226</td>\n      <td>...</td>\n      <td>426</td>\n      <td>436</td>\n      <td>437</td>\n      <td>439</td>\n      <td>428</td>\n      <td>432</td>\n      <td>462</td>\n      <td>572</td>\n      <td>492</td>\n      <td>431</td>\n    </tr>\n    <tr>\n      <th>3</th>\n      <td>124</td>\n      <td>4</td>\n      <td>2014</td>\n      <td>94564</td>\n      <td>265.2611111111111</td>\n      <td>71.5</td>\n      <td>294.6666666666667</td>\n      <td>2.219722222222223</td>\n      <td>13.569444</td>\n      <td>82.282472</td>\n      <td>...</td>\n      <td>436</td>\n      <td>437</td>\n      <td>439</td>\n      <td>428</td>\n      <td>432</td>\n      <td>462</td>\n      <td>572</td>\n      <td>492</td>\n      <td>431</td>\n      <td>434</td>\n    </tr>\n    <tr>\n      <th>4</th>\n      <td>125</td>\n      <td>5</td>\n      <td>2014</td>\n      <td>94564</td>\n      <td>325.43951612903226</td>\n      <td>74.29032258064517</td>\n      <td>363.5766129032258</td>\n      <td>2.526478494623656</td>\n      <td>16.032258</td>\n      <td>75.510699</td>\n      <td>...</td>\n      <td>437</td>\n      <td>439</td>\n      <td>428</td>\n      <td>432</td>\n      <td>462</td>\n      <td>572</td>\n      <td>492</td>\n      <td>431</td>\n      <td>434</td>\n      <td>407</td>\n    </tr>\n  </tbody>\n</table>\n<p>5 rows × 22 columns</p>\n</div>"
          },
          "metadata": {}
        }
      ]
    },
    {
      "cell_type": "code",
      "metadata": {
        "tags": [],
        "deepnote_to_be_reexecuted": false,
        "source_hash": "f0e3b5e0",
        "execution_millis": 1,
        "execution_start": 1618697439743,
        "cell_id": "00036-fa4c6ff2-5013-4bd3-9783-5ac3ebfc3fae",
        "deepnote_cell_type": "code"
      },
      "source": "elec_X_train_2 = elec_X_train_2.set_index('index')",
      "execution_count": null,
      "outputs": []
    },
    {
      "cell_type": "code",
      "metadata": {
        "tags": [],
        "deepnote_to_be_reexecuted": false,
        "source_hash": "d028c20f",
        "execution_millis": 22,
        "execution_start": 1618697453239,
        "cell_id": "00040-54865f7f-2303-4aa2-985e-f40d5d97ecbd",
        "deepnote_cell_type": "code"
      },
      "source": "elec_Y_train.mean()",
      "execution_count": null,
      "outputs": [
        {
          "output_type": "execute_result",
          "execution_count": 186,
          "data": {
            "text/plain": "457.2335485554034"
          },
          "metadata": {}
        }
      ]
    },
    {
      "cell_type": "code",
      "metadata": {
        "tags": [],
        "deepnote_to_be_reexecuted": false,
        "source_hash": "2255a552",
        "execution_millis": 191,
        "execution_start": 1618697454948,
        "cell_id": "00041-39f4d3bb-30f8-425e-b2c9-8a8c9146d756",
        "deepnote_cell_type": "code"
      },
      "source": "bay_area_monthly_elec_pge_nrel_clean.describe()",
      "execution_count": null,
      "outputs": [
        {
          "output_type": "execute_result",
          "execution_count": 187,
          "data": {
            "application/vnd.deepnote.dataframe.v2+json": {
              "row_count": 8,
              "column_count": 24,
              "columns": [
                {
                  "name": "zip",
                  "dtype": "float64",
                  "stats": {
                    "unique_count": 8,
                    "nan_count": 0,
                    "min": "459.91026067516367",
                    "max": "95823.0",
                    "histogram": [
                      {
                        "bin_start": 459.91026067516367,
                        "bin_end": 9996.219234607646,
                        "count": 1
                      },
                      {
                        "bin_start": 9996.219234607646,
                        "bin_end": 19532.528208540127,
                        "count": 0
                      },
                      {
                        "bin_start": 19532.528208540127,
                        "bin_end": 29068.83718247261,
                        "count": 0
                      },
                      {
                        "bin_start": 29068.83718247261,
                        "bin_end": 38605.14615640509,
                        "count": 1
                      },
                      {
                        "bin_start": 38605.14615640509,
                        "bin_end": 48141.45513033757,
                        "count": 0
                      },
                      {
                        "bin_start": 48141.45513033757,
                        "bin_end": 57677.764104270056,
                        "count": 0
                      },
                      {
                        "bin_start": 57677.764104270056,
                        "bin_end": 67214.07307820255,
                        "count": 0
                      },
                      {
                        "bin_start": 67214.07307820255,
                        "bin_end": 76750.38205213503,
                        "count": 0
                      },
                      {
                        "bin_start": 76750.38205213503,
                        "bin_end": 86286.6910260675,
                        "count": 0
                      },
                      {
                        "bin_start": 86286.6910260675,
                        "bin_end": 95823,
                        "count": 6
                      }
                    ]
                  }
                },
                {
                  "name": "latitude",
                  "dtype": "float64",
                  "stats": {
                    "unique_count": 8,
                    "nan_count": 0,
                    "min": "0.4099732225297213",
                    "max": "30666.0",
                    "histogram": [
                      {
                        "bin_start": 0.4099732225297213,
                        "bin_end": 3066.9689759002767,
                        "count": 7
                      },
                      {
                        "bin_start": 3066.9689759002767,
                        "bin_end": 6133.527978578024,
                        "count": 0
                      },
                      {
                        "bin_start": 6133.527978578024,
                        "bin_end": 9200.086981255772,
                        "count": 0
                      },
                      {
                        "bin_start": 9200.086981255772,
                        "bin_end": 12266.645983933518,
                        "count": 0
                      },
                      {
                        "bin_start": 12266.645983933518,
                        "bin_end": 15333.204986611265,
                        "count": 0
                      },
                      {
                        "bin_start": 15333.204986611265,
                        "bin_end": 18399.763989289015,
                        "count": 0
                      },
                      {
                        "bin_start": 18399.763989289015,
                        "bin_end": 21466.32299196676,
                        "count": 0
                      },
                      {
                        "bin_start": 21466.32299196676,
                        "bin_end": 24532.881994644507,
                        "count": 0
                      },
                      {
                        "bin_start": 24532.881994644507,
                        "bin_end": 27599.440997322254,
                        "count": 0
                      },
                      {
                        "bin_start": 27599.440997322254,
                        "bin_end": 30666,
                        "count": 1
                      }
                    ]
                  }
                },
                {
                  "name": "longitude",
                  "dtype": "float64",
                  "stats": {
                    "unique_count": 8,
                    "nan_count": 0,
                    "min": "-123.22938",
                    "max": "30666.0",
                    "histogram": [
                      {
                        "bin_start": -123.22938,
                        "bin_end": 2955.693558,
                        "count": 7
                      },
                      {
                        "bin_start": 2955.693558,
                        "bin_end": 6034.616496000001,
                        "count": 0
                      },
                      {
                        "bin_start": 6034.616496000001,
                        "bin_end": 9113.539434,
                        "count": 0
                      },
                      {
                        "bin_start": 9113.539434,
                        "bin_end": 12192.462372,
                        "count": 0
                      },
                      {
                        "bin_start": 12192.462372,
                        "bin_end": 15271.38531,
                        "count": 0
                      },
                      {
                        "bin_start": 15271.38531,
                        "bin_end": 18350.308248,
                        "count": 0
                      },
                      {
                        "bin_start": 18350.308248,
                        "bin_end": 21429.231186,
                        "count": 0
                      },
                      {
                        "bin_start": 21429.231186,
                        "bin_end": 24508.154124,
                        "count": 0
                      },
                      {
                        "bin_start": 24508.154124,
                        "bin_end": 27587.077062,
                        "count": 0
                      },
                      {
                        "bin_start": 27587.077062,
                        "bin_end": 30666,
                        "count": 1
                      }
                    ]
                  }
                },
                {
                  "name": "MONTH",
                  "dtype": "float64",
                  "stats": {
                    "unique_count": 8,
                    "nan_count": 0,
                    "min": "1.0",
                    "max": "30666.0",
                    "histogram": [
                      {
                        "bin_start": 1,
                        "bin_end": 3067.5,
                        "count": 7
                      },
                      {
                        "bin_start": 3067.5,
                        "bin_end": 6134,
                        "count": 0
                      },
                      {
                        "bin_start": 6134,
                        "bin_end": 9200.5,
                        "count": 0
                      },
                      {
                        "bin_start": 9200.5,
                        "bin_end": 12267,
                        "count": 0
                      },
                      {
                        "bin_start": 12267,
                        "bin_end": 15333.5,
                        "count": 0
                      },
                      {
                        "bin_start": 15333.5,
                        "bin_end": 18400,
                        "count": 0
                      },
                      {
                        "bin_start": 18400,
                        "bin_end": 21466.5,
                        "count": 0
                      },
                      {
                        "bin_start": 21466.5,
                        "bin_end": 24533,
                        "count": 0
                      },
                      {
                        "bin_start": 24533,
                        "bin_end": 27599.5,
                        "count": 0
                      },
                      {
                        "bin_start": 27599.5,
                        "bin_end": 30666,
                        "count": 1
                      }
                    ]
                  }
                },
                {
                  "name": "YEAR",
                  "dtype": "float64",
                  "stats": {
                    "unique_count": 8,
                    "nan_count": 0,
                    "min": "2.0214531411451664",
                    "max": "30666.0",
                    "histogram": [
                      {
                        "bin_start": 2.0214531411451664,
                        "bin_end": 3068.419307827031,
                        "count": 7
                      },
                      {
                        "bin_start": 3068.419307827031,
                        "bin_end": 6134.817162512916,
                        "count": 0
                      },
                      {
                        "bin_start": 6134.817162512916,
                        "bin_end": 9201.215017198803,
                        "count": 0
                      },
                      {
                        "bin_start": 9201.215017198803,
                        "bin_end": 12267.612871884689,
                        "count": 0
                      },
                      {
                        "bin_start": 12267.612871884689,
                        "bin_end": 15334.010726570574,
                        "count": 0
                      },
                      {
                        "bin_start": 15334.010726570574,
                        "bin_end": 18400.40858125646,
                        "count": 0
                      },
                      {
                        "bin_start": 18400.40858125646,
                        "bin_end": 21466.806435942344,
                        "count": 0
                      },
                      {
                        "bin_start": 21466.806435942344,
                        "bin_end": 24533.20429062823,
                        "count": 0
                      },
                      {
                        "bin_start": 24533.20429062823,
                        "bin_end": 27599.602145314115,
                        "count": 0
                      },
                      {
                        "bin_start": 27599.602145314115,
                        "bin_end": 30666,
                        "count": 1
                      }
                    ]
                  }
                },
                {
                  "name": "DAY",
                  "dtype": "float64",
                  "stats": {
                    "unique_count": 3,
                    "nan_count": 0,
                    "min": "0.0",
                    "max": "30666.0",
                    "histogram": [
                      {
                        "bin_start": 0,
                        "bin_end": 3066.6,
                        "count": 7
                      },
                      {
                        "bin_start": 3066.6,
                        "bin_end": 6133.2,
                        "count": 0
                      },
                      {
                        "bin_start": 6133.2,
                        "bin_end": 9199.8,
                        "count": 0
                      },
                      {
                        "bin_start": 9199.8,
                        "bin_end": 12266.4,
                        "count": 0
                      },
                      {
                        "bin_start": 12266.4,
                        "bin_end": 15333,
                        "count": 0
                      },
                      {
                        "bin_start": 15333,
                        "bin_end": 18399.6,
                        "count": 0
                      },
                      {
                        "bin_start": 18399.6,
                        "bin_end": 21466.2,
                        "count": 0
                      },
                      {
                        "bin_start": 21466.2,
                        "bin_end": 24532.8,
                        "count": 0
                      },
                      {
                        "bin_start": 24532.8,
                        "bin_end": 27599.399999999998,
                        "count": 0
                      },
                      {
                        "bin_start": 27599.399999999998,
                        "bin_end": 30666,
                        "count": 1
                      }
                    ]
                  }
                },
                {
                  "name": "TOTALCUSTO_raw",
                  "dtype": "float64",
                  "stats": {
                    "unique_count": 8,
                    "nan_count": 0,
                    "min": "0.0",
                    "max": "110585.0",
                    "histogram": [
                      {
                        "bin_start": 0,
                        "bin_end": 11058.5,
                        "count": 5
                      },
                      {
                        "bin_start": 11058.5,
                        "bin_end": 22117,
                        "count": 1
                      },
                      {
                        "bin_start": 22117,
                        "bin_end": 33175.5,
                        "count": 1
                      },
                      {
                        "bin_start": 33175.5,
                        "bin_end": 44234,
                        "count": 0
                      },
                      {
                        "bin_start": 44234,
                        "bin_end": 55292.5,
                        "count": 0
                      },
                      {
                        "bin_start": 55292.5,
                        "bin_end": 66351,
                        "count": 0
                      },
                      {
                        "bin_start": 66351,
                        "bin_end": 77409.5,
                        "count": 0
                      },
                      {
                        "bin_start": 77409.5,
                        "bin_end": 88468,
                        "count": 0
                      },
                      {
                        "bin_start": 88468,
                        "bin_end": 99526.5,
                        "count": 0
                      },
                      {
                        "bin_start": 99526.5,
                        "bin_end": 110585,
                        "count": 1
                      }
                    ]
                  }
                },
                {
                  "name": "TOTALKWH_raw",
                  "dtype": "float64",
                  "stats": {
                    "unique_count": 8,
                    "nan_count": 0,
                    "min": "0.0",
                    "max": "24361593.0",
                    "histogram": [
                      {
                        "bin_start": 0,
                        "bin_end": 2436159.3,
                        "count": 3
                      },
                      {
                        "bin_start": 2436159.3,
                        "bin_end": 4872318.6,
                        "count": 3
                      },
                      {
                        "bin_start": 4872318.6,
                        "bin_end": 7308477.899999999,
                        "count": 1
                      },
                      {
                        "bin_start": 7308477.899999999,
                        "bin_end": 9744637.2,
                        "count": 0
                      },
                      {
                        "bin_start": 9744637.2,
                        "bin_end": 12180796.5,
                        "count": 0
                      },
                      {
                        "bin_start": 12180796.5,
                        "bin_end": 14616955.799999999,
                        "count": 0
                      },
                      {
                        "bin_start": 14616955.799999999,
                        "bin_end": 17053115.099999998,
                        "count": 0
                      },
                      {
                        "bin_start": 17053115.099999998,
                        "bin_end": 19489274.4,
                        "count": 0
                      },
                      {
                        "bin_start": 19489274.4,
                        "bin_end": 21925433.7,
                        "count": 0
                      },
                      {
                        "bin_start": 21925433.7,
                        "bin_end": 24361593,
                        "count": 1
                      }
                    ]
                  }
                },
                {
                  "name": "AVERAGEKWH_raw",
                  "dtype": "float64",
                  "stats": {
                    "unique_count": 8,
                    "nan_count": 0,
                    "min": "0.0",
                    "max": "30666.0",
                    "histogram": [
                      {
                        "bin_start": 0,
                        "bin_end": 3066.6,
                        "count": 7
                      },
                      {
                        "bin_start": 3066.6,
                        "bin_end": 6133.2,
                        "count": 0
                      },
                      {
                        "bin_start": 6133.2,
                        "bin_end": 9199.8,
                        "count": 0
                      },
                      {
                        "bin_start": 9199.8,
                        "bin_end": 12266.4,
                        "count": 0
                      },
                      {
                        "bin_start": 12266.4,
                        "bin_end": 15333,
                        "count": 0
                      },
                      {
                        "bin_start": 15333,
                        "bin_end": 18399.6,
                        "count": 0
                      },
                      {
                        "bin_start": 18399.6,
                        "bin_end": 21466.2,
                        "count": 0
                      },
                      {
                        "bin_start": 21466.2,
                        "bin_end": 24532.8,
                        "count": 0
                      },
                      {
                        "bin_start": 24532.8,
                        "bin_end": 27599.399999999998,
                        "count": 0
                      },
                      {
                        "bin_start": 27599.399999999998,
                        "bin_end": 30666,
                        "count": 1
                      }
                    ]
                  }
                },
                {
                  "name": "TOTALTHERM_raw",
                  "dtype": "float64",
                  "stats": {
                    "unique_count": 2,
                    "nan_count": 0,
                    "min": "0.0",
                    "max": "30666.0",
                    "histogram": [
                      {
                        "bin_start": 0,
                        "bin_end": 3066.6,
                        "count": 7
                      },
                      {
                        "bin_start": 3066.6,
                        "bin_end": 6133.2,
                        "count": 0
                      },
                      {
                        "bin_start": 6133.2,
                        "bin_end": 9199.8,
                        "count": 0
                      },
                      {
                        "bin_start": 9199.8,
                        "bin_end": 12266.4,
                        "count": 0
                      },
                      {
                        "bin_start": 12266.4,
                        "bin_end": 15333,
                        "count": 0
                      },
                      {
                        "bin_start": 15333,
                        "bin_end": 18399.6,
                        "count": 0
                      },
                      {
                        "bin_start": 18399.6,
                        "bin_end": 21466.2,
                        "count": 0
                      },
                      {
                        "bin_start": 21466.2,
                        "bin_end": 24532.8,
                        "count": 0
                      },
                      {
                        "bin_start": 24532.8,
                        "bin_end": 27599.399999999998,
                        "count": 0
                      },
                      {
                        "bin_start": 27599.399999999998,
                        "bin_end": 30666,
                        "count": 1
                      }
                    ]
                  }
                },
                {
                  "name": "AVERAGETHERM_raw",
                  "dtype": "float64",
                  "stats": {
                    "unique_count": 2,
                    "nan_count": 0,
                    "min": "0.0",
                    "max": "30666.0",
                    "histogram": [
                      {
                        "bin_start": 0,
                        "bin_end": 3066.6,
                        "count": 7
                      },
                      {
                        "bin_start": 3066.6,
                        "bin_end": 6133.2,
                        "count": 0
                      },
                      {
                        "bin_start": 6133.2,
                        "bin_end": 9199.8,
                        "count": 0
                      },
                      {
                        "bin_start": 9199.8,
                        "bin_end": 12266.4,
                        "count": 0
                      },
                      {
                        "bin_start": 12266.4,
                        "bin_end": 15333,
                        "count": 0
                      },
                      {
                        "bin_start": 15333,
                        "bin_end": 18399.6,
                        "count": 0
                      },
                      {
                        "bin_start": 18399.6,
                        "bin_end": 21466.2,
                        "count": 0
                      },
                      {
                        "bin_start": 21466.2,
                        "bin_end": 24532.8,
                        "count": 0
                      },
                      {
                        "bin_start": 24532.8,
                        "bin_end": 27599.399999999998,
                        "count": 0
                      },
                      {
                        "bin_start": 27599.399999999998,
                        "bin_end": 30666,
                        "count": 1
                      }
                    ]
                  }
                },
                {
                  "name": "Temperature_raw",
                  "dtype": "float64",
                  "stats": {
                    "unique_count": 8,
                    "nan_count": 0,
                    "min": "2.677419354838709",
                    "max": "30666.0",
                    "histogram": [
                      {
                        "bin_start": 2.677419354838709,
                        "bin_end": 3069.009677419355,
                        "count": 7
                      },
                      {
                        "bin_start": 3069.009677419355,
                        "bin_end": 6135.341935483872,
                        "count": 0
                      },
                      {
                        "bin_start": 6135.341935483872,
                        "bin_end": 9201.674193548388,
                        "count": 0
                      },
                      {
                        "bin_start": 9201.674193548388,
                        "bin_end": 12268.006451612904,
                        "count": 0
                      },
                      {
                        "bin_start": 12268.006451612904,
                        "bin_end": 15334.33870967742,
                        "count": 0
                      },
                      {
                        "bin_start": 15334.33870967742,
                        "bin_end": 18400.670967741935,
                        "count": 0
                      },
                      {
                        "bin_start": 18400.670967741935,
                        "bin_end": 21467.00322580645,
                        "count": 0
                      },
                      {
                        "bin_start": 21467.00322580645,
                        "bin_end": 24533.335483870967,
                        "count": 0
                      },
                      {
                        "bin_start": 24533.335483870967,
                        "bin_end": 27599.667741935486,
                        "count": 0
                      },
                      {
                        "bin_start": 27599.667741935486,
                        "bin_end": 30666,
                        "count": 1
                      }
                    ]
                  }
                },
                {
                  "name": "Solar_Zenith_Angle_raw",
                  "dtype": "float64",
                  "stats": {
                    "unique_count": 8,
                    "nan_count": 0,
                    "min": "12.28923627567499",
                    "max": "30666.0",
                    "histogram": [
                      {
                        "bin_start": 12.28923627567499,
                        "bin_end": 3077.6603126481077,
                        "count": 7
                      },
                      {
                        "bin_start": 3077.6603126481077,
                        "bin_end": 6143.03138902054,
                        "count": 0
                      },
                      {
                        "bin_start": 6143.03138902054,
                        "bin_end": 9208.402465392974,
                        "count": 0
                      },
                      {
                        "bin_start": 9208.402465392974,
                        "bin_end": 12273.773541765406,
                        "count": 0
                      },
                      {
                        "bin_start": 12273.773541765406,
                        "bin_end": 15339.144618137838,
                        "count": 0
                      },
                      {
                        "bin_start": 15339.144618137838,
                        "bin_end": 18404.51569451027,
                        "count": 0
                      },
                      {
                        "bin_start": 18404.51569451027,
                        "bin_end": 21469.886770882702,
                        "count": 0
                      },
                      {
                        "bin_start": 21469.886770882702,
                        "bin_end": 24535.257847255136,
                        "count": 0
                      },
                      {
                        "bin_start": 24535.257847255136,
                        "bin_end": 27600.62892362757,
                        "count": 0
                      },
                      {
                        "bin_start": 27600.62892362757,
                        "bin_end": 30666,
                        "count": 1
                      }
                    ]
                  }
                },
                {
                  "name": "TOTALCUS_std",
                  "dtype": "float64",
                  "stats": {
                    "unique_count": 8,
                    "nan_count": 0,
                    "min": "-0.94787464417938",
                    "max": "30666.0",
                    "histogram": [
                      {
                        "bin_start": -0.94787464417938,
                        "bin_end": 3065.7469128202383,
                        "count": 7
                      },
                      {
                        "bin_start": 3065.7469128202383,
                        "bin_end": 6132.441700284657,
                        "count": 0
                      },
                      {
                        "bin_start": 6132.441700284657,
                        "bin_end": 9199.136487749074,
                        "count": 0
                      },
                      {
                        "bin_start": 9199.136487749074,
                        "bin_end": 12265.831275213492,
                        "count": 0
                      },
                      {
                        "bin_start": 12265.831275213492,
                        "bin_end": 15332.526062677909,
                        "count": 0
                      },
                      {
                        "bin_start": 15332.526062677909,
                        "bin_end": 18399.22085014233,
                        "count": 0
                      },
                      {
                        "bin_start": 18399.22085014233,
                        "bin_end": 21465.915637606748,
                        "count": 0
                      },
                      {
                        "bin_start": 21465.915637606748,
                        "bin_end": 24532.610425071165,
                        "count": 0
                      },
                      {
                        "bin_start": 24532.610425071165,
                        "bin_end": 27599.305212535583,
                        "count": 0
                      },
                      {
                        "bin_start": 27599.305212535583,
                        "bin_end": 30666,
                        "count": 1
                      }
                    ]
                  }
                },
                {
                  "name": "TOTALKWH_std",
                  "dtype": "float64",
                  "stats": {
                    "unique_count": 8,
                    "nan_count": 0,
                    "min": "-0.541630116257685",
                    "max": "30666.0",
                    "histogram": [
                      {
                        "bin_start": -0.541630116257685,
                        "bin_end": 3066.112532895368,
                        "count": 7
                      },
                      {
                        "bin_start": 3066.112532895368,
                        "bin_end": 6132.766695906994,
                        "count": 0
                      },
                      {
                        "bin_start": 6132.766695906994,
                        "bin_end": 9199.42085891862,
                        "count": 0
                      },
                      {
                        "bin_start": 9199.42085891862,
                        "bin_end": 12266.075021930246,
                        "count": 0
                      },
                      {
                        "bin_start": 12266.075021930246,
                        "bin_end": 15332.729184941873,
                        "count": 0
                      },
                      {
                        "bin_start": 15332.729184941873,
                        "bin_end": 18399.383347953495,
                        "count": 0
                      },
                      {
                        "bin_start": 18399.383347953495,
                        "bin_end": 21466.03751096512,
                        "count": 0
                      },
                      {
                        "bin_start": 21466.03751096512,
                        "bin_end": 24532.691673976748,
                        "count": 0
                      },
                      {
                        "bin_start": 24532.691673976748,
                        "bin_end": 27599.345836988374,
                        "count": 0
                      },
                      {
                        "bin_start": 27599.345836988374,
                        "bin_end": 30666,
                        "count": 1
                      }
                    ]
                  }
                },
                {
                  "name": "AVERAGEKWH_std",
                  "dtype": "float64",
                  "stats": {
                    "unique_count": 8,
                    "nan_count": 0,
                    "min": "-0.590524786799469",
                    "max": "30666.0",
                    "histogram": [
                      {
                        "bin_start": -0.590524786799469,
                        "bin_end": 3066.0685276918803,
                        "count": 7
                      },
                      {
                        "bin_start": 3066.0685276918803,
                        "bin_end": 6132.72758017056,
                        "count": 0
                      },
                      {
                        "bin_start": 6132.72758017056,
                        "bin_end": 9199.386632649239,
                        "count": 0
                      },
                      {
                        "bin_start": 9199.386632649239,
                        "bin_end": 12266.04568512792,
                        "count": 0
                      },
                      {
                        "bin_start": 12266.04568512792,
                        "bin_end": 15332.7047376066,
                        "count": 0
                      },
                      {
                        "bin_start": 15332.7047376066,
                        "bin_end": 18399.363790085277,
                        "count": 0
                      },
                      {
                        "bin_start": 18399.363790085277,
                        "bin_end": 21466.022842563958,
                        "count": 0
                      },
                      {
                        "bin_start": 21466.022842563958,
                        "bin_end": 24532.68189504264,
                        "count": 0
                      },
                      {
                        "bin_start": 24532.68189504264,
                        "bin_end": 27599.34094752132,
                        "count": 0
                      },
                      {
                        "bin_start": 27599.34094752132,
                        "bin_end": 30666,
                        "count": 1
                      }
                    ]
                  }
                },
                {
                  "name": "TOTALTHERM_std",
                  "dtype": "float64",
                  "stats": {
                    "unique_count": 4,
                    "nan_count": 0,
                    "min": "-0.4615598355549621",
                    "max": "30666.0",
                    "histogram": [
                      {
                        "bin_start": -0.4615598355549621,
                        "bin_end": 3066.1845961480008,
                        "count": 7
                      },
                      {
                        "bin_start": 3066.1845961480008,
                        "bin_end": 6132.830752131556,
                        "count": 0
                      },
                      {
                        "bin_start": 6132.830752131556,
                        "bin_end": 9199.476908115112,
                        "count": 0
                      },
                      {
                        "bin_start": 9199.476908115112,
                        "bin_end": 12266.123064098667,
                        "count": 0
                      },
                      {
                        "bin_start": 12266.123064098667,
                        "bin_end": 15332.769220082222,
                        "count": 0
                      },
                      {
                        "bin_start": 15332.769220082222,
                        "bin_end": 18399.41537606578,
                        "count": 0
                      },
                      {
                        "bin_start": 18399.41537606578,
                        "bin_end": 21466.061532049334,
                        "count": 0
                      },
                      {
                        "bin_start": 21466.061532049334,
                        "bin_end": 24532.70768803289,
                        "count": 0
                      },
                      {
                        "bin_start": 24532.70768803289,
                        "bin_end": 27599.353844016445,
                        "count": 0
                      },
                      {
                        "bin_start": 27599.353844016445,
                        "bin_end": 30666,
                        "count": 1
                      }
                    ]
                  }
                },
                {
                  "name": "AVERAGETHERM_std",
                  "dtype": "float64",
                  "stats": {
                    "unique_count": 4,
                    "nan_count": 0,
                    "min": "-0.348278095632817",
                    "max": "30666.0",
                    "histogram": [
                      {
                        "bin_start": -0.348278095632817,
                        "bin_end": 3066.2865497139305,
                        "count": 7
                      },
                      {
                        "bin_start": 3066.2865497139305,
                        "bin_end": 6132.921377523494,
                        "count": 0
                      },
                      {
                        "bin_start": 6132.921377523494,
                        "bin_end": 9199.556205333058,
                        "count": 0
                      },
                      {
                        "bin_start": 9199.556205333058,
                        "bin_end": 12266.19103314262,
                        "count": 0
                      },
                      {
                        "bin_start": 12266.19103314262,
                        "bin_end": 15332.825860952184,
                        "count": 0
                      },
                      {
                        "bin_start": 15332.825860952184,
                        "bin_end": 18399.46068876175,
                        "count": 0
                      },
                      {
                        "bin_start": 18399.46068876175,
                        "bin_end": 21466.09551657131,
                        "count": 0
                      },
                      {
                        "bin_start": 21466.09551657131,
                        "bin_end": 24532.730344380874,
                        "count": 0
                      },
                      {
                        "bin_start": 24532.730344380874,
                        "bin_end": 27599.36517219044,
                        "count": 0
                      },
                      {
                        "bin_start": 27599.36517219044,
                        "bin_end": 30666,
                        "count": 1
                      }
                    ]
                  }
                },
                {
                  "name": "GHI_std",
                  "dtype": "float64",
                  "stats": {
                    "unique_count": 8,
                    "nan_count": 0,
                    "min": "-1.726466873318754",
                    "max": "30666.0",
                    "histogram": [
                      {
                        "bin_start": -1.726466873318754,
                        "bin_end": 3065.046179814013,
                        "count": 7
                      },
                      {
                        "bin_start": 3065.046179814013,
                        "bin_end": 6131.818826501345,
                        "count": 0
                      },
                      {
                        "bin_start": 6131.818826501345,
                        "bin_end": 9198.591473188677,
                        "count": 0
                      },
                      {
                        "bin_start": 9198.591473188677,
                        "bin_end": 12265.364119876009,
                        "count": 0
                      },
                      {
                        "bin_start": 12265.364119876009,
                        "bin_end": 15332.13676656334,
                        "count": 0
                      },
                      {
                        "bin_start": 15332.13676656334,
                        "bin_end": 18398.909413250673,
                        "count": 0
                      },
                      {
                        "bin_start": 18398.909413250673,
                        "bin_end": 21465.682059938004,
                        "count": 0
                      },
                      {
                        "bin_start": 21465.682059938004,
                        "bin_end": 24532.454706625336,
                        "count": 0
                      },
                      {
                        "bin_start": 24532.454706625336,
                        "bin_end": 27599.227353312668,
                        "count": 0
                      },
                      {
                        "bin_start": 27599.227353312668,
                        "bin_end": 30666,
                        "count": 1
                      }
                    ]
                  }
                },
                {
                  "name": "DHI_std",
                  "dtype": "float64",
                  "stats": {
                    "unique_count": 8,
                    "nan_count": 0,
                    "min": "-1.718965158245286",
                    "max": "30666.0",
                    "histogram": [
                      {
                        "bin_start": -1.718965158245286,
                        "bin_end": 3065.0529313575794,
                        "count": 7
                      },
                      {
                        "bin_start": 3065.0529313575794,
                        "bin_end": 6131.824827873404,
                        "count": 0
                      },
                      {
                        "bin_start": 6131.824827873404,
                        "bin_end": 9198.59672438923,
                        "count": 0
                      },
                      {
                        "bin_start": 9198.59672438923,
                        "bin_end": 12265.368620905054,
                        "count": 0
                      },
                      {
                        "bin_start": 12265.368620905054,
                        "bin_end": 15332.140517420878,
                        "count": 0
                      },
                      {
                        "bin_start": 15332.140517420878,
                        "bin_end": 18398.912413936705,
                        "count": 0
                      },
                      {
                        "bin_start": 18398.912413936705,
                        "bin_end": 21465.68431045253,
                        "count": 0
                      },
                      {
                        "bin_start": 21465.68431045253,
                        "bin_end": 24532.456206968352,
                        "count": 0
                      },
                      {
                        "bin_start": 24532.456206968352,
                        "bin_end": 27599.228103484176,
                        "count": 0
                      },
                      {
                        "bin_start": 27599.228103484176,
                        "bin_end": 30666,
                        "count": 1
                      }
                    ]
                  }
                },
                {
                  "name": "DNI_std",
                  "dtype": "float64",
                  "stats": {
                    "unique_count": 8,
                    "nan_count": 0,
                    "min": "-2.201362395022873",
                    "max": "30666.0",
                    "histogram": [
                      {
                        "bin_start": -2.201362395022873,
                        "bin_end": 3064.618773844479,
                        "count": 7
                      },
                      {
                        "bin_start": 3064.618773844479,
                        "bin_end": 6131.438910083982,
                        "count": 0
                      },
                      {
                        "bin_start": 6131.438910083982,
                        "bin_end": 9198.259046323485,
                        "count": 0
                      },
                      {
                        "bin_start": 9198.259046323485,
                        "bin_end": 12265.079182562986,
                        "count": 0
                      },
                      {
                        "bin_start": 12265.079182562986,
                        "bin_end": 15331.899318802487,
                        "count": 0
                      },
                      {
                        "bin_start": 15331.899318802487,
                        "bin_end": 18398.71945504199,
                        "count": 0
                      },
                      {
                        "bin_start": 18398.71945504199,
                        "bin_end": 21465.539591281493,
                        "count": 0
                      },
                      {
                        "bin_start": 21465.539591281493,
                        "bin_end": 24532.359727520994,
                        "count": 0
                      },
                      {
                        "bin_start": 24532.359727520994,
                        "bin_end": 27599.179863760495,
                        "count": 0
                      },
                      {
                        "bin_start": 27599.179863760495,
                        "bin_end": 30666,
                        "count": 1
                      }
                    ]
                  }
                },
                {
                  "name": "Wind_Speed_std",
                  "dtype": "float64",
                  "stats": {
                    "unique_count": 8,
                    "nan_count": 0,
                    "min": "-1.289943651499707",
                    "max": "30666.0",
                    "histogram": [
                      {
                        "bin_start": -1.289943651499707,
                        "bin_end": 3065.43905071365,
                        "count": 7
                      },
                      {
                        "bin_start": 3065.43905071365,
                        "bin_end": 6132.1680450788,
                        "count": 0
                      },
                      {
                        "bin_start": 6132.1680450788,
                        "bin_end": 9198.89703944395,
                        "count": 0
                      },
                      {
                        "bin_start": 9198.89703944395,
                        "bin_end": 12265.6260338091,
                        "count": 0
                      },
                      {
                        "bin_start": 12265.6260338091,
                        "bin_end": 15332.35502817425,
                        "count": 0
                      },
                      {
                        "bin_start": 15332.35502817425,
                        "bin_end": 18399.0840225394,
                        "count": 0
                      },
                      {
                        "bin_start": 18399.0840225394,
                        "bin_end": 21465.81301690455,
                        "count": 0
                      },
                      {
                        "bin_start": 21465.81301690455,
                        "bin_end": 24532.5420112697,
                        "count": 0
                      },
                      {
                        "bin_start": 24532.5420112697,
                        "bin_end": 27599.271005634848,
                        "count": 0
                      },
                      {
                        "bin_start": 27599.271005634848,
                        "bin_end": 30666,
                        "count": 1
                      }
                    ]
                  }
                },
                {
                  "name": "Temperature_std",
                  "dtype": "float64",
                  "stats": {
                    "unique_count": 8,
                    "nan_count": 0,
                    "min": "-2.198615331545561",
                    "max": "30666.0",
                    "histogram": [
                      {
                        "bin_start": -2.198615331545561,
                        "bin_end": 3064.6212462016088,
                        "count": 7
                      },
                      {
                        "bin_start": 3064.6212462016088,
                        "bin_end": 6131.441107734763,
                        "count": 0
                      },
                      {
                        "bin_start": 6131.441107734763,
                        "bin_end": 9198.260969267918,
                        "count": 0
                      },
                      {
                        "bin_start": 9198.260969267918,
                        "bin_end": 12265.080830801073,
                        "count": 0
                      },
                      {
                        "bin_start": 12265.080830801073,
                        "bin_end": 15331.900692334228,
                        "count": 0
                      },
                      {
                        "bin_start": 15331.900692334228,
                        "bin_end": 18398.72055386738,
                        "count": 0
                      },
                      {
                        "bin_start": 18398.72055386738,
                        "bin_end": 21465.540415400537,
                        "count": 0
                      },
                      {
                        "bin_start": 21465.540415400537,
                        "bin_end": 24532.36027693369,
                        "count": 0
                      },
                      {
                        "bin_start": 24532.36027693369,
                        "bin_end": 27599.180138466843,
                        "count": 0
                      },
                      {
                        "bin_start": 27599.180138466843,
                        "bin_end": 30666,
                        "count": 1
                      }
                    ]
                  }
                },
                {
                  "name": "Solar_Zenith_Angle_std",
                  "dtype": "float64",
                  "stats": {
                    "unique_count": 8,
                    "nan_count": 0,
                    "min": "-1.43557533667467",
                    "max": "30666.0",
                    "histogram": [
                      {
                        "bin_start": -1.43557533667467,
                        "bin_end": 3065.307982196993,
                        "count": 7
                      },
                      {
                        "bin_start": 3065.307982196993,
                        "bin_end": 6132.051539730661,
                        "count": 0
                      },
                      {
                        "bin_start": 6132.051539730661,
                        "bin_end": 9198.795097264328,
                        "count": 0
                      },
                      {
                        "bin_start": 9198.795097264328,
                        "bin_end": 12265.538654797996,
                        "count": 0
                      },
                      {
                        "bin_start": 12265.538654797996,
                        "bin_end": 15332.282212331664,
                        "count": 0
                      },
                      {
                        "bin_start": 15332.282212331664,
                        "bin_end": 18399.02576986533,
                        "count": 0
                      },
                      {
                        "bin_start": 18399.02576986533,
                        "bin_end": 21465.769327398997,
                        "count": 0
                      },
                      {
                        "bin_start": 21465.769327398997,
                        "bin_end": 24532.512884932665,
                        "count": 0
                      },
                      {
                        "bin_start": 24532.512884932665,
                        "bin_end": 27599.256442466332,
                        "count": 0
                      },
                      {
                        "bin_start": 27599.256442466332,
                        "bin_end": 30666,
                        "count": 1
                      }
                    ]
                  }
                },
                {
                  "name": "_deepnote_index_column",
                  "dtype": "object"
                }
              ],
              "rows_top": [
                {
                  "zip": 30666,
                  "latitude": 30666,
                  "longitude": 30666,
                  "MONTH": 30666,
                  "YEAR": 30666,
                  "DAY": 30666,
                  "TOTALCUSTO_raw": 30666,
                  "TOTALKWH_raw": 30666,
                  "AVERAGEKWH_raw": 30666,
                  "TOTALTHERM_raw": 30666,
                  "AVERAGETHERM_raw": 30666,
                  "Temperature_raw": 30666,
                  "Solar_Zenith_Angle_raw": 30666,
                  "TOTALCUS_std": 30666,
                  "TOTALKWH_std": 30666,
                  "AVERAGEKWH_std": 30666,
                  "TOTALTHERM_std": 30666,
                  "AVERAGETHERM_std": 30666,
                  "GHI_std": 30666,
                  "DHI_std": 30666,
                  "DNI_std": 30666,
                  "Wind_Speed_std": 30666,
                  "Temperature_std": 30666,
                  "Solar_Zenith_Angle_std": 30666,
                  "_deepnote_index_column": "count"
                },
                {
                  "zip": 94737.87833431161,
                  "latitude": 37.787115771277634,
                  "longitude": -122.1935704916846,
                  "MONTH": 6.479977825604904,
                  "YEAR": 2015.7861475249463,
                  "DAY": 1,
                  "TOTALCUSTO_raw": 8087.939639992173,
                  "TOTALKWH_raw": 3789958.5480010435,
                  "AVERAGEKWH_raw": 457.2335485554034,
                  "TOTALTHERM_raw": 0,
                  "AVERAGETHERM_raw": 0,
                  "Temperature_raw": 14.559023957704166,
                  "Solar_Zenith_Angle_raw": 90.01597365755572,
                  "TOTALCUS_std": 0.37872833141888596,
                  "TOTALKWH_std": 0.7390821402724725,
                  "AVERAGEKWH_std": 0.2422764784760985,
                  "TOTALTHERM_std": -0.4615598355549621,
                  "AVERAGETHERM_std": -0.3482780956328169,
                  "GHI_std": -0.021727688726537204,
                  "DHI_std": 0.03254274497517324,
                  "DNI_std": -0.05432126415588115,
                  "Wind_Speed_std": 0.4046099901092591,
                  "Temperature_std": -0.1571484326587075,
                  "Solar_Zenith_Angle_std": -0.0006452570899826971,
                  "_deepnote_index_column": "mean"
                },
                {
                  "zip": 459.91026067516367,
                  "latitude": 0.4099732225297213,
                  "longitude": 0.3566539402772227,
                  "MONTH": 3.484611093837447,
                  "YEAR": 2.0214531411451664,
                  "DAY": 0,
                  "TOTALCUSTO_raw": 6908.3159806058475,
                  "TOTALKWH_raw": 3359593.0799521646,
                  "AVERAGEKWH_raw": 253.13585639165777,
                  "TOTALTHERM_raw": 0,
                  "AVERAGETHERM_raw": 0,
                  "Temperature_raw": 3.919081603114266,
                  "Solar_Zenith_Angle_raw": 12.28923627567499,
                  "TOTALCUS_std": 1.1331183149449962,
                  "TOTALKWH_std": 1.1352820828919143,
                  "AVERAGEKWH_std": 0.46105947858732577,
                  "TOTALTHERM_std": 1.1102411269237633e-16,
                  "AVERAGETHERM_std": 5.551205634618817e-17,
                  "GHI_std": 0.9707101455596704,
                  "DHI_std": 1.0166776432612403,
                  "DNI_std": 0.9422417901960927,
                  "Wind_Speed_std": 0.8922654302364088,
                  "Temperature_std": 0.6733665724631752,
                  "Solar_Zenith_Angle_std": 0.9981885691234016,
                  "_deepnote_index_column": "std"
                },
                {
                  "zip": 94002,
                  "latitude": 36.922902,
                  "longitude": -123.22938,
                  "MONTH": 1,
                  "YEAR": 2013,
                  "DAY": 1,
                  "TOTALCUSTO_raw": 0,
                  "TOTALKWH_raw": 0,
                  "AVERAGEKWH_raw": 0,
                  "TOTALTHERM_raw": 0,
                  "AVERAGETHERM_raw": 0,
                  "Temperature_raw": 2.677419354838709,
                  "Solar_Zenith_Angle_raw": 72.34977777777772,
                  "TOTALCUS_std": -0.94787464417938,
                  "TOTALKWH_std": -0.541630116257685,
                  "AVERAGEKWH_std": -0.590524786799469,
                  "TOTALTHERM_std": -0.461559835554962,
                  "AVERAGETHERM_std": -0.348278095632817,
                  "GHI_std": -1.726466873318754,
                  "DHI_std": -1.718965158245286,
                  "DNI_std": -2.201362395022873,
                  "Wind_Speed_std": -1.289943651499707,
                  "Temperature_std": -2.198615331545561,
                  "Solar_Zenith_Angle_std": -1.43557533667467,
                  "_deepnote_index_column": "min"
                },
                {
                  "zip": 94512,
                  "latitude": 37.444879,
                  "longitude": -122.4301,
                  "MONTH": 3,
                  "YEAR": 2014,
                  "DAY": 1,
                  "TOTALCUSTO_raw": 918,
                  "TOTALKWH_raw": 552240.75,
                  "AVERAGEKWH_raw": 350,
                  "TOTALTHERM_raw": 0,
                  "AVERAGETHERM_raw": 0,
                  "Temperature_raw": 11.615591397849462,
                  "Solar_Zenith_Angle_raw": 79.6233837365591,
                  "TOTALCUS_std": -0.79730211448622,
                  "TOTALKWH_std": -0.3550155430050463,
                  "AVERAGEKWH_std": 0.046962212497411,
                  "TOTALTHERM_std": -0.461559835554962,
                  "AVERAGETHERM_std": -0.348278095632817,
                  "GHI_std": -1.019955379681477,
                  "DHI_std": -0.923596686362582,
                  "DNI_std": -0.7008431613636279,
                  "Wind_Speed_std": -0.218190114722588,
                  "Temperature_std": -0.662881483108814,
                  "Solar_Zenith_Angle_std": -0.8447794433013309,
                  "_deepnote_index_column": "25%"
                },
                {
                  "zip": 94613,
                  "latitude": 37.792678,
                  "longitude": -122.18993999999999,
                  "MONTH": 6,
                  "YEAR": 2016,
                  "DAY": 1,
                  "TOTALCUSTO_raw": 7409.5,
                  "TOTALKWH_raw": 3377305.5,
                  "AVERAGEKWH_raw": 457,
                  "TOTALTHERM_raw": 0,
                  "AVERAGETHERM_raw": 0,
                  "Temperature_raw": 14.029569892473118,
                  "Solar_Zenith_Angle_raw": 91.03458333333336,
                  "TOTALCUS_std": 0.267449058175162,
                  "TOTALKWH_std": 0.5996373918468705,
                  "AVERAGEKWH_std": 0.241851095139601,
                  "TOTALTHERM_std": -0.461559835554962,
                  "AVERAGETHERM_std": -0.348278095632817,
                  "GHI_std": -0.117098487998165,
                  "DHI_std": 0.039014675734548504,
                  "DNI_std": -0.066122411778966,
                  "Wind_Speed_std": 0.300821988014231,
                  "Temperature_std": -0.248117875320484,
                  "Solar_Zenith_Angle_std": 0.08209092862176,
                  "_deepnote_index_column": "50%"
                },
                {
                  "zip": 95060,
                  "latitude": 38.031271000000004,
                  "longitude": -121.95071999999999,
                  "MONTH": 10,
                  "YEAR": 2018,
                  "DAY": 1,
                  "TOTALCUSTO_raw": 13354.75,
                  "TOTALKWH_raw": 5984425.5,
                  "AVERAGEKWH_raw": 575,
                  "TOTALTHERM_raw": 0,
                  "AVERAGETHERM_raw": 0,
                  "Temperature_raw": 17.709408602150543,
                  "Solar_Zenith_Angle_raw": 103.9440381944444,
                  "TOTALCUS_std": 1.242603014774574,
                  "TOTALKWH_std": 1.480641892544113,
                  "AVERAGEKWH_std": 0.456775283473978,
                  "TOTALTHERM_std": -0.461559835554962,
                  "AVERAGETHERM_std": -0.348278095632817,
                  "GHI_std": 0.8348726397675205,
                  "DHI_std": 0.8185347685401014,
                  "DNI_std": 0.6814974927922127,
                  "Wind_Speed_std": 0.892618437248036,
                  "Temperature_std": 0.384142595393822,
                  "Solar_Zenith_Angle_std": 1.1306565178017778,
                  "_deepnote_index_column": "75%"
                },
                {
                  "zip": 95823,
                  "latitude": 38.592155,
                  "longitude": -121.40021999999999,
                  "MONTH": 12,
                  "YEAR": 2019,
                  "DAY": 1,
                  "TOTALCUSTO_raw": 110585,
                  "TOTALKWH_raw": 24361593,
                  "AVERAGEKWH_raw": 2401,
                  "TOTALTHERM_raw": 0,
                  "AVERAGETHERM_raw": 0,
                  "Temperature_raw": 27.49529569892475,
                  "Solar_Zenith_Angle_raw": 107.56004032258056,
                  "TOTALCUS_std": 17.19053842348741,
                  "TOTALKWH_std": 7.690700224177138,
                  "AVERAGEKWH_std": 3.782636028377133,
                  "TOTALTHERM_std": -0.461559835554962,
                  "AVERAGETHERM_std": -0.348278095632817,
                  "GHI_std": 1.748295103738271,
                  "DHI_std": 4.262493396653499,
                  "DNI_std": 2.286721546813322,
                  "Wind_Speed_std": 4.351488739457888,
                  "Temperature_std": 2.065528675140203,
                  "Solar_Zenith_Angle_std": 1.424364923211465,
                  "_deepnote_index_column": "max"
                }
              ],
              "rows_bottom": null
            },
            "text/plain": "                zip      latitude     longitude         MONTH          YEAR  \\\ncount  30666.000000  30666.000000  30666.000000  30666.000000  30666.000000   \nmean   94737.878334     37.787116   -122.193570      6.479978   2015.786148   \nstd      459.910261      0.409973      0.356654      3.484611      2.021453   \nmin    94002.000000     36.922902   -123.229380      1.000000   2013.000000   \n25%    94512.000000     37.444879   -122.430100      3.000000   2014.000000   \n50%    94613.000000     37.792678   -122.189940      6.000000   2016.000000   \n75%    95060.000000     38.031271   -121.950720     10.000000   2018.000000   \nmax    95823.000000     38.592155   -121.400220     12.000000   2019.000000   \n\n           DAY  TOTALCUSTO_raw  TOTALKWH_raw  AVERAGEKWH_raw  TOTALTHERM_raw  \\\ncount  30666.0    30666.000000  3.066600e+04    30666.000000         30666.0   \nmean       1.0     8087.939640  3.789959e+06      457.233549             0.0   \nstd        0.0     6908.315981  3.359593e+06      253.135856             0.0   \nmin        1.0        0.000000  0.000000e+00        0.000000             0.0   \n25%        1.0      918.000000  5.522408e+05      350.000000             0.0   \n50%        1.0     7409.500000  3.377306e+06      457.000000             0.0   \n75%        1.0    13354.750000  5.984426e+06      575.000000             0.0   \nmax        1.0   110585.000000  2.436159e+07     2401.000000             0.0   \n\n       ...  TOTALKWH_std  AVERAGEKWH_std  TOTALTHERM_std  AVERAGETHERM_std  \\\ncount  ...  30666.000000    30666.000000    3.066600e+04      3.066600e+04   \nmean   ...      0.739082        0.242276   -4.615598e-01     -3.482781e-01   \nstd    ...      1.135282        0.461059    1.110241e-16      5.551206e-17   \nmin    ...     -0.541630       -0.590525   -4.615598e-01     -3.482781e-01   \n25%    ...     -0.355016        0.046962   -4.615598e-01     -3.482781e-01   \n50%    ...      0.599637        0.241851   -4.615598e-01     -3.482781e-01   \n75%    ...      1.480642        0.456775   -4.615598e-01     -3.482781e-01   \nmax    ...      7.690700        3.782636   -4.615598e-01     -3.482781e-01   \n\n            GHI_std       DHI_std       DNI_std  Wind_Speed_std  \\\ncount  30666.000000  30666.000000  30666.000000    30666.000000   \nmean      -0.021728      0.032543     -0.054321        0.404610   \nstd        0.970710      1.016678      0.942242        0.892265   \nmin       -1.726467     -1.718965     -2.201362       -1.289944   \n25%       -1.019955     -0.923597     -0.700843       -0.218190   \n50%       -0.117098      0.039015     -0.066122        0.300822   \n75%        0.834873      0.818535      0.681497        0.892618   \nmax        1.748295      4.262493      2.286722        4.351489   \n\n       Temperature_std  Solar_Zenith_Angle_std  \ncount     30666.000000            30666.000000  \nmean         -0.157148               -0.000645  \nstd           0.673367                0.998189  \nmin          -2.198615               -1.435575  \n25%          -0.662881               -0.844779  \n50%          -0.248118                0.082091  \n75%           0.384143                1.130657  \nmax           2.065529                1.424365  \n\n[8 rows x 24 columns]",
            "text/html": "<div>\n<style scoped>\n    .dataframe tbody tr th:only-of-type {\n        vertical-align: middle;\n    }\n\n    .dataframe tbody tr th {\n        vertical-align: top;\n    }\n\n    .dataframe thead th {\n        text-align: right;\n    }\n</style>\n<table border=\"1\" class=\"dataframe\">\n  <thead>\n    <tr style=\"text-align: right;\">\n      <th></th>\n      <th>zip</th>\n      <th>latitude</th>\n      <th>longitude</th>\n      <th>MONTH</th>\n      <th>YEAR</th>\n      <th>DAY</th>\n      <th>TOTALCUSTO_raw</th>\n      <th>TOTALKWH_raw</th>\n      <th>AVERAGEKWH_raw</th>\n      <th>TOTALTHERM_raw</th>\n      <th>...</th>\n      <th>TOTALKWH_std</th>\n      <th>AVERAGEKWH_std</th>\n      <th>TOTALTHERM_std</th>\n      <th>AVERAGETHERM_std</th>\n      <th>GHI_std</th>\n      <th>DHI_std</th>\n      <th>DNI_std</th>\n      <th>Wind_Speed_std</th>\n      <th>Temperature_std</th>\n      <th>Solar_Zenith_Angle_std</th>\n    </tr>\n  </thead>\n  <tbody>\n    <tr>\n      <th>count</th>\n      <td>30666.000000</td>\n      <td>30666.000000</td>\n      <td>30666.000000</td>\n      <td>30666.000000</td>\n      <td>30666.000000</td>\n      <td>30666.0</td>\n      <td>30666.000000</td>\n      <td>3.066600e+04</td>\n      <td>30666.000000</td>\n      <td>30666.0</td>\n      <td>...</td>\n      <td>30666.000000</td>\n      <td>30666.000000</td>\n      <td>3.066600e+04</td>\n      <td>3.066600e+04</td>\n      <td>30666.000000</td>\n      <td>30666.000000</td>\n      <td>30666.000000</td>\n      <td>30666.000000</td>\n      <td>30666.000000</td>\n      <td>30666.000000</td>\n    </tr>\n    <tr>\n      <th>mean</th>\n      <td>94737.878334</td>\n      <td>37.787116</td>\n      <td>-122.193570</td>\n      <td>6.479978</td>\n      <td>2015.786148</td>\n      <td>1.0</td>\n      <td>8087.939640</td>\n      <td>3.789959e+06</td>\n      <td>457.233549</td>\n      <td>0.0</td>\n      <td>...</td>\n      <td>0.739082</td>\n      <td>0.242276</td>\n      <td>-4.615598e-01</td>\n      <td>-3.482781e-01</td>\n      <td>-0.021728</td>\n      <td>0.032543</td>\n      <td>-0.054321</td>\n      <td>0.404610</td>\n      <td>-0.157148</td>\n      <td>-0.000645</td>\n    </tr>\n    <tr>\n      <th>std</th>\n      <td>459.910261</td>\n      <td>0.409973</td>\n      <td>0.356654</td>\n      <td>3.484611</td>\n      <td>2.021453</td>\n      <td>0.0</td>\n      <td>6908.315981</td>\n      <td>3.359593e+06</td>\n      <td>253.135856</td>\n      <td>0.0</td>\n      <td>...</td>\n      <td>1.135282</td>\n      <td>0.461059</td>\n      <td>1.110241e-16</td>\n      <td>5.551206e-17</td>\n      <td>0.970710</td>\n      <td>1.016678</td>\n      <td>0.942242</td>\n      <td>0.892265</td>\n      <td>0.673367</td>\n      <td>0.998189</td>\n    </tr>\n    <tr>\n      <th>min</th>\n      <td>94002.000000</td>\n      <td>36.922902</td>\n      <td>-123.229380</td>\n      <td>1.000000</td>\n      <td>2013.000000</td>\n      <td>1.0</td>\n      <td>0.000000</td>\n      <td>0.000000e+00</td>\n      <td>0.000000</td>\n      <td>0.0</td>\n      <td>...</td>\n      <td>-0.541630</td>\n      <td>-0.590525</td>\n      <td>-4.615598e-01</td>\n      <td>-3.482781e-01</td>\n      <td>-1.726467</td>\n      <td>-1.718965</td>\n      <td>-2.201362</td>\n      <td>-1.289944</td>\n      <td>-2.198615</td>\n      <td>-1.435575</td>\n    </tr>\n    <tr>\n      <th>25%</th>\n      <td>94512.000000</td>\n      <td>37.444879</td>\n      <td>-122.430100</td>\n      <td>3.000000</td>\n      <td>2014.000000</td>\n      <td>1.0</td>\n      <td>918.000000</td>\n      <td>5.522408e+05</td>\n      <td>350.000000</td>\n      <td>0.0</td>\n      <td>...</td>\n      <td>-0.355016</td>\n      <td>0.046962</td>\n      <td>-4.615598e-01</td>\n      <td>-3.482781e-01</td>\n      <td>-1.019955</td>\n      <td>-0.923597</td>\n      <td>-0.700843</td>\n      <td>-0.218190</td>\n      <td>-0.662881</td>\n      <td>-0.844779</td>\n    </tr>\n    <tr>\n      <th>50%</th>\n      <td>94613.000000</td>\n      <td>37.792678</td>\n      <td>-122.189940</td>\n      <td>6.000000</td>\n      <td>2016.000000</td>\n      <td>1.0</td>\n      <td>7409.500000</td>\n      <td>3.377306e+06</td>\n      <td>457.000000</td>\n      <td>0.0</td>\n      <td>...</td>\n      <td>0.599637</td>\n      <td>0.241851</td>\n      <td>-4.615598e-01</td>\n      <td>-3.482781e-01</td>\n      <td>-0.117098</td>\n      <td>0.039015</td>\n      <td>-0.066122</td>\n      <td>0.300822</td>\n      <td>-0.248118</td>\n      <td>0.082091</td>\n    </tr>\n    <tr>\n      <th>75%</th>\n      <td>95060.000000</td>\n      <td>38.031271</td>\n      <td>-121.950720</td>\n      <td>10.000000</td>\n      <td>2018.000000</td>\n      <td>1.0</td>\n      <td>13354.750000</td>\n      <td>5.984426e+06</td>\n      <td>575.000000</td>\n      <td>0.0</td>\n      <td>...</td>\n      <td>1.480642</td>\n      <td>0.456775</td>\n      <td>-4.615598e-01</td>\n      <td>-3.482781e-01</td>\n      <td>0.834873</td>\n      <td>0.818535</td>\n      <td>0.681497</td>\n      <td>0.892618</td>\n      <td>0.384143</td>\n      <td>1.130657</td>\n    </tr>\n    <tr>\n      <th>max</th>\n      <td>95823.000000</td>\n      <td>38.592155</td>\n      <td>-121.400220</td>\n      <td>12.000000</td>\n      <td>2019.000000</td>\n      <td>1.0</td>\n      <td>110585.000000</td>\n      <td>2.436159e+07</td>\n      <td>2401.000000</td>\n      <td>0.0</td>\n      <td>...</td>\n      <td>7.690700</td>\n      <td>3.782636</td>\n      <td>-4.615598e-01</td>\n      <td>-3.482781e-01</td>\n      <td>1.748295</td>\n      <td>4.262493</td>\n      <td>2.286722</td>\n      <td>4.351489</td>\n      <td>2.065529</td>\n      <td>1.424365</td>\n    </tr>\n  </tbody>\n</table>\n<p>8 rows × 24 columns</p>\n</div>"
          },
          "metadata": {}
        }
      ]
    },
    {
      "cell_type": "code",
      "metadata": {
        "tags": [],
        "deepnote_to_be_reexecuted": false,
        "source_hash": "81ef2cc9",
        "execution_millis": 150,
        "execution_start": 1618697457454,
        "cell_id": "00042-5649bfee-e5c8-411b-a98e-bf809a59edbd",
        "deepnote_cell_type": "code"
      },
      "source": " plt.plot(bay_area_monthly_elec_pge_nrel['TOTALKWH_std'])\n#keep this plot!! shows why we got rid of the data (and make prettier)\n #plt.plot(bay_area_monthly_elec_pge_nrel_clean['TOTALKWH_std']) #add this plot to it side by side to show\n ",
      "execution_count": null,
      "outputs": [
        {
          "output_type": "execute_result",
          "execution_count": 188,
          "data": {
            "text/plain": "[<matplotlib.lines.Line2D at 0x7ff646048210>]"
          },
          "metadata": {}
        },
        {
          "data": {
            "text/plain": "<Figure size 432x288 with 1 Axes>",
            "image/png": "[encoded data removed]"
          },
          "metadata": {
            "needs_background": "light"
          },
          "output_type": "display_data"
        }
      ]
    },
    {
      "cell_type": "code",
      "metadata": {
        "tags": [],
        "deepnote_to_be_reexecuted": false,
        "source_hash": "ffac0c8b",
        "execution_millis": 757,
        "execution_start": 1618697459122,
        "cell_id": "00043-51b75ae6-9e1c-40de-aba3-da691e6a6d31",
        "deepnote_cell_type": "code"
      },
      "source": "sns.distplot(bay_area_monthly_elec_pge_nrel['TOTALKWH_std'])\nsns.distplot(bay_area_monthly_elec_pge_nrel_clean['TOTALKWH_std'])\n",
      "execution_count": null,
      "outputs": [
        {
          "name": "stderr",
          "text": "/shared-libs/python3.7/py/lib/python3.7/site-packages/seaborn/distributions.py:2557: FutureWarning: `distplot` is a deprecated function and will be removed in a future version. Please adapt your code to use either `displot` (a figure-level function with similar flexibility) or `histplot` (an axes-level function for histograms).\n  warnings.warn(msg, FutureWarning)\n/shared-libs/python3.7/py/lib/python3.7/site-packages/seaborn/distributions.py:2557: FutureWarning: `distplot` is a deprecated function and will be removed in a future version. Please adapt your code to use either `displot` (a figure-level function with similar flexibility) or `histplot` (an axes-level function for histograms).\n  warnings.warn(msg, FutureWarning)\n",
          "output_type": "stream"
        },
        {
          "output_type": "execute_result",
          "execution_count": 189,
          "data": {
            "text/plain": "<AxesSubplot:xlabel='TOTALKWH_std', ylabel='Density'>"
          },
          "metadata": {}
        },
        {
          "data": {
            "text/plain": "<Figure size 432x288 with 1 Axes>",
            "image/png": "[encoded data removed]"
          },
          "metadata": {
            "needs_background": "light"
          },
          "output_type": "display_data"
        }
      ]
    },
    {
      "cell_type": "code",
      "metadata": {
        "tags": [],
        "deepnote_to_be_reexecuted": false,
        "source_hash": "45c5d01b",
        "execution_millis": 15,
        "execution_start": 1618697462881,
        "cell_id": "00044-957dbd01-84d5-45df-acff-e3e493b337cc",
        "deepnote_cell_type": "code"
      },
      "source": "## Trainv-validation split \nX_train, X_val, y_train, y_val = train_test_split(elec_X_train_2,elec_Y_train_2,test_size=0.2,\n                                                  random_state=0)\n\n",
      "execution_count": null,
      "outputs": []
    },
    {
      "cell_type": "code",
      "metadata": {
        "tags": [],
        "deepnote_to_be_reexecuted": false,
        "source_hash": "708a4e17",
        "execution_millis": 86,
        "execution_start": 1618697464865,
        "cell_id": "00045-70e004c3-9b4b-44a5-81a5-4439fccbadbf",
        "deepnote_cell_type": "code"
      },
      "source": "info(X_train)",
      "execution_count": null,
      "outputs": [
        {
          "name": "stdout",
          "text": "Type:  <class 'pandas.core.frame.DataFrame'>\nShape:  (24447, 21)\nColumns:  Index(['MONTH', 'YEAR', 'zip', 'GHI_raw', 'DHI_raw', 'DNI_raw', 'Wind Speed',\n       'Temperature_raw', 'Solar_Zenith_Angle_raw', 'k_12', 'k_11', 'k_10',\n       'k_9', 'k_8', 'k_7', 'k_6', 'k_5', 'k_4', 'k_3', 'k_2', 'k_1'],\n      dtype='object')\n",
          "output_type": "stream"
        },
        {
          "data": {
            "application/vnd.deepnote.dataframe.v2+json": {
              "row_count": 5,
              "column_count": 21,
              "columns": [
                {
                  "name": "MONTH",
                  "dtype": "int64",
                  "stats": {
                    "unique_count": 4,
                    "nan_count": 0,
                    "min": "1",
                    "max": "10",
                    "histogram": [
                      {
                        "bin_start": 1,
                        "bin_end": 1.9,
                        "count": 1
                      },
                      {
                        "bin_start": 1.9,
                        "bin_end": 2.8,
                        "count": 0
                      },
                      {
                        "bin_start": 2.8,
                        "bin_end": 3.7,
                        "count": 0
                      },
                      {
                        "bin_start": 3.7,
                        "bin_end": 4.6,
                        "count": 0
                      },
                      {
                        "bin_start": 4.6,
                        "bin_end": 5.5,
                        "count": 0
                      },
                      {
                        "bin_start": 5.5,
                        "bin_end": 6.4,
                        "count": 0
                      },
                      {
                        "bin_start": 6.4,
                        "bin_end": 7.3,
                        "count": 2
                      },
                      {
                        "bin_start": 7.3,
                        "bin_end": 8.2,
                        "count": 1
                      },
                      {
                        "bin_start": 8.2,
                        "bin_end": 9.1,
                        "count": 0
                      },
                      {
                        "bin_start": 9.1,
                        "bin_end": 10,
                        "count": 1
                      }
                    ]
                  }
                },
                {
                  "name": "YEAR",
                  "dtype": "int64",
                  "stats": {
                    "unique_count": 5,
                    "nan_count": 0,
                    "min": "2013",
                    "max": "2019",
                    "histogram": [
                      {
                        "bin_start": 2013,
                        "bin_end": 2013.6,
                        "count": 1
                      },
                      {
                        "bin_start": 2013.6,
                        "bin_end": 2014.2,
                        "count": 1
                      },
                      {
                        "bin_start": 2014.2,
                        "bin_end": 2014.8,
                        "count": 0
                      },
                      {
                        "bin_start": 2014.8,
                        "bin_end": 2015.4,
                        "count": 0
                      },
                      {
                        "bin_start": 2015.4,
                        "bin_end": 2016,
                        "count": 0
                      },
                      {
                        "bin_start": 2016,
                        "bin_end": 2016.6,
                        "count": 1
                      },
                      {
                        "bin_start": 2016.6,
                        "bin_end": 2017.2,
                        "count": 1
                      },
                      {
                        "bin_start": 2017.2,
                        "bin_end": 2017.8,
                        "count": 0
                      },
                      {
                        "bin_start": 2017.8,
                        "bin_end": 2018.4,
                        "count": 0
                      },
                      {
                        "bin_start": 2018.4,
                        "bin_end": 2019,
                        "count": 1
                      }
                    ]
                  }
                },
                {
                  "name": "zip",
                  "dtype": "int64",
                  "stats": {
                    "unique_count": 5,
                    "nan_count": 0,
                    "min": "94513",
                    "max": "94585",
                    "histogram": [
                      {
                        "bin_start": 94513,
                        "bin_end": 94520.2,
                        "count": 2
                      },
                      {
                        "bin_start": 94520.2,
                        "bin_end": 94527.4,
                        "count": 0
                      },
                      {
                        "bin_start": 94527.4,
                        "bin_end": 94534.6,
                        "count": 1
                      },
                      {
                        "bin_start": 94534.6,
                        "bin_end": 94541.8,
                        "count": 0
                      },
                      {
                        "bin_start": 94541.8,
                        "bin_end": 94549,
                        "count": 0
                      },
                      {
                        "bin_start": 94549,
                        "bin_end": 94556.2,
                        "count": 0
                      },
                      {
                        "bin_start": 94556.2,
                        "bin_end": 94563.4,
                        "count": 0
                      },
                      {
                        "bin_start": 94563.4,
                        "bin_end": 94570.6,
                        "count": 0
                      },
                      {
                        "bin_start": 94570.6,
                        "bin_end": 94577.8,
                        "count": 0
                      },
                      {
                        "bin_start": 94577.8,
                        "bin_end": 94585,
                        "count": 2
                      }
                    ]
                  }
                },
                {
                  "name": "GHI_raw",
                  "dtype": "object",
                  "stats": {
                    "unique_count": 5,
                    "nan_count": 0,
                    "categories": [
                      {
                        "name": "311.5416666666667",
                        "count": 1
                      },
                      {
                        "name": "119.76747311827957",
                        "count": 1
                      },
                      {
                        "name": "3 others",
                        "count": 3
                      }
                    ]
                  }
                },
                {
                  "name": "DHI_raw",
                  "dtype": "object",
                  "stats": {
                    "unique_count": 5,
                    "nan_count": 0,
                    "categories": [
                      {
                        "name": "56.954301075268816",
                        "count": 1
                      },
                      {
                        "name": "31.557795698924732",
                        "count": 1
                      },
                      {
                        "name": "3 others",
                        "count": 3
                      }
                    ]
                  }
                },
                {
                  "name": "DNI_raw",
                  "dtype": "object",
                  "stats": {
                    "unique_count": 5,
                    "nan_count": 0,
                    "categories": [
                      {
                        "name": "388.14112903225805",
                        "count": 1
                      },
                      {
                        "name": "223.4798387096774",
                        "count": 1
                      },
                      {
                        "name": "3 others",
                        "count": 3
                      }
                    ]
                  }
                },
                {
                  "name": "Wind Speed",
                  "dtype": "object",
                  "stats": {
                    "unique_count": 5,
                    "nan_count": 0,
                    "categories": [
                      {
                        "name": "3.6731182795698896",
                        "count": 1
                      },
                      {
                        "name": "1.5842741935483884",
                        "count": 1
                      },
                      {
                        "name": "3 others",
                        "count": 3
                      }
                    ]
                  }
                },
                {
                  "name": "Temperature_raw",
                  "dtype": "float64",
                  "stats": {
                    "unique_count": 5,
                    "nan_count": 0,
                    "min": "9.915322580645162",
                    "max": "21.367741935483885",
                    "histogram": [
                      {
                        "bin_start": 9.915322580645162,
                        "bin_end": 11.060564516129034,
                        "count": 1
                      },
                      {
                        "bin_start": 11.060564516129034,
                        "bin_end": 12.205806451612906,
                        "count": 0
                      },
                      {
                        "bin_start": 12.205806451612906,
                        "bin_end": 13.351048387096778,
                        "count": 0
                      },
                      {
                        "bin_start": 13.351048387096778,
                        "bin_end": 14.496290322580652,
                        "count": 0
                      },
                      {
                        "bin_start": 14.496290322580652,
                        "bin_end": 15.641532258064522,
                        "count": 1
                      },
                      {
                        "bin_start": 15.641532258064522,
                        "bin_end": 16.786774193548396,
                        "count": 0
                      },
                      {
                        "bin_start": 16.786774193548396,
                        "bin_end": 17.93201612903227,
                        "count": 0
                      },
                      {
                        "bin_start": 17.93201612903227,
                        "bin_end": 19.07725806451614,
                        "count": 1
                      },
                      {
                        "bin_start": 19.07725806451614,
                        "bin_end": 20.22250000000001,
                        "count": 1
                      },
                      {
                        "bin_start": 20.22250000000001,
                        "bin_end": 21.367741935483885,
                        "count": 1
                      }
                    ]
                  }
                },
                {
                  "name": "Solar_Zenith_Angle_raw",
                  "dtype": "float64",
                  "stats": {
                    "unique_count": 5,
                    "nan_count": 0,
                    "min": "73.9143010752688",
                    "max": "105.59819892473114",
                    "histogram": [
                      {
                        "bin_start": 73.9143010752688,
                        "bin_end": 77.08269086021502,
                        "count": 2
                      },
                      {
                        "bin_start": 77.08269086021502,
                        "bin_end": 80.25108064516127,
                        "count": 1
                      },
                      {
                        "bin_start": 80.25108064516127,
                        "bin_end": 83.4194704301075,
                        "count": 0
                      },
                      {
                        "bin_start": 83.4194704301075,
                        "bin_end": 86.58786021505374,
                        "count": 0
                      },
                      {
                        "bin_start": 86.58786021505374,
                        "bin_end": 89.75624999999997,
                        "count": 0
                      },
                      {
                        "bin_start": 89.75624999999997,
                        "bin_end": 92.92463978494621,
                        "count": 0
                      },
                      {
                        "bin_start": 92.92463978494621,
                        "bin_end": 96.09302956989244,
                        "count": 0
                      },
                      {
                        "bin_start": 96.09302956989244,
                        "bin_end": 99.26141935483867,
                        "count": 1
                      },
                      {
                        "bin_start": 99.26141935483867,
                        "bin_end": 102.42980913978491,
                        "count": 0
                      },
                      {
                        "bin_start": 102.42980913978491,
                        "bin_end": 105.59819892473114,
                        "count": 1
                      }
                    ]
                  }
                },
                {
                  "name": "k_12",
                  "dtype": "int64",
                  "stats": {
                    "unique_count": 5,
                    "nan_count": 0,
                    "min": "424",
                    "max": "974",
                    "histogram": [
                      {
                        "bin_start": 424,
                        "bin_end": 479,
                        "count": 1
                      },
                      {
                        "bin_start": 479,
                        "bin_end": 534,
                        "count": 0
                      },
                      {
                        "bin_start": 534,
                        "bin_end": 589,
                        "count": 0
                      },
                      {
                        "bin_start": 589,
                        "bin_end": 644,
                        "count": 1
                      },
                      {
                        "bin_start": 644,
                        "bin_end": 699,
                        "count": 1
                      },
                      {
                        "bin_start": 699,
                        "bin_end": 754,
                        "count": 1
                      },
                      {
                        "bin_start": 754,
                        "bin_end": 809,
                        "count": 0
                      },
                      {
                        "bin_start": 809,
                        "bin_end": 864,
                        "count": 0
                      },
                      {
                        "bin_start": 864,
                        "bin_end": 919,
                        "count": 0
                      },
                      {
                        "bin_start": 919,
                        "bin_end": 974,
                        "count": 1
                      }
                    ]
                  }
                },
                {
                  "name": "k_11",
                  "dtype": "int64",
                  "stats": {
                    "unique_count": 4,
                    "nan_count": 0,
                    "min": "445",
                    "max": "818",
                    "histogram": [
                      {
                        "bin_start": 445,
                        "bin_end": 482.3,
                        "count": 1
                      },
                      {
                        "bin_start": 482.3,
                        "bin_end": 519.6,
                        "count": 0
                      },
                      {
                        "bin_start": 519.6,
                        "bin_end": 556.9,
                        "count": 1
                      },
                      {
                        "bin_start": 556.9,
                        "bin_end": 594.2,
                        "count": 2
                      },
                      {
                        "bin_start": 594.2,
                        "bin_end": 631.5,
                        "count": 0
                      },
                      {
                        "bin_start": 631.5,
                        "bin_end": 668.8,
                        "count": 0
                      },
                      {
                        "bin_start": 668.8,
                        "bin_end": 706.0999999999999,
                        "count": 0
                      },
                      {
                        "bin_start": 706.0999999999999,
                        "bin_end": 743.4,
                        "count": 0
                      },
                      {
                        "bin_start": 743.4,
                        "bin_end": 780.7,
                        "count": 0
                      },
                      {
                        "bin_start": 780.7,
                        "bin_end": 818,
                        "count": 1
                      }
                    ]
                  }
                },
                {
                  "name": "k_10",
                  "dtype": "int64",
                  "stats": {
                    "unique_count": 5,
                    "nan_count": 0,
                    "min": "516",
                    "max": "631",
                    "histogram": [
                      {
                        "bin_start": 516,
                        "bin_end": 527.5,
                        "count": 2
                      },
                      {
                        "bin_start": 527.5,
                        "bin_end": 539,
                        "count": 0
                      },
                      {
                        "bin_start": 539,
                        "bin_end": 550.5,
                        "count": 0
                      },
                      {
                        "bin_start": 550.5,
                        "bin_end": 562,
                        "count": 1
                      },
                      {
                        "bin_start": 562,
                        "bin_end": 573.5,
                        "count": 0
                      },
                      {
                        "bin_start": 573.5,
                        "bin_end": 585,
                        "count": 0
                      },
                      {
                        "bin_start": 585,
                        "bin_end": 596.5,
                        "count": 1
                      },
                      {
                        "bin_start": 596.5,
                        "bin_end": 608,
                        "count": 0
                      },
                      {
                        "bin_start": 608,
                        "bin_end": 619.5,
                        "count": 0
                      },
                      {
                        "bin_start": 619.5,
                        "bin_end": 631,
                        "count": 1
                      }
                    ]
                  }
                },
                {
                  "name": "k_9",
                  "dtype": "int64",
                  "stats": {
                    "unique_count": 5,
                    "nan_count": 0,
                    "min": "467",
                    "max": "635",
                    "histogram": [
                      {
                        "bin_start": 467,
                        "bin_end": 483.8,
                        "count": 2
                      },
                      {
                        "bin_start": 483.8,
                        "bin_end": 500.6,
                        "count": 0
                      },
                      {
                        "bin_start": 500.6,
                        "bin_end": 517.4,
                        "count": 0
                      },
                      {
                        "bin_start": 517.4,
                        "bin_end": 534.2,
                        "count": 0
                      },
                      {
                        "bin_start": 534.2,
                        "bin_end": 551,
                        "count": 0
                      },
                      {
                        "bin_start": 551,
                        "bin_end": 567.8,
                        "count": 1
                      },
                      {
                        "bin_start": 567.8,
                        "bin_end": 584.6,
                        "count": 0
                      },
                      {
                        "bin_start": 584.6,
                        "bin_end": 601.4,
                        "count": 0
                      },
                      {
                        "bin_start": 601.4,
                        "bin_end": 618.2,
                        "count": 1
                      },
                      {
                        "bin_start": 618.2,
                        "bin_end": 635,
                        "count": 1
                      }
                    ]
                  }
                },
                {
                  "name": "k_8",
                  "dtype": "int64",
                  "stats": {
                    "unique_count": 5,
                    "nan_count": 0,
                    "min": "483",
                    "max": "727",
                    "histogram": [
                      {
                        "bin_start": 483,
                        "bin_end": 507.4,
                        "count": 3
                      },
                      {
                        "bin_start": 507.4,
                        "bin_end": 531.8,
                        "count": 0
                      },
                      {
                        "bin_start": 531.8,
                        "bin_end": 556.2,
                        "count": 0
                      },
                      {
                        "bin_start": 556.2,
                        "bin_end": 580.6,
                        "count": 0
                      },
                      {
                        "bin_start": 580.6,
                        "bin_end": 605,
                        "count": 0
                      },
                      {
                        "bin_start": 605,
                        "bin_end": 629.4,
                        "count": 0
                      },
                      {
                        "bin_start": 629.4,
                        "bin_end": 653.8,
                        "count": 0
                      },
                      {
                        "bin_start": 653.8,
                        "bin_end": 678.2,
                        "count": 0
                      },
                      {
                        "bin_start": 678.2,
                        "bin_end": 702.6,
                        "count": 1
                      },
                      {
                        "bin_start": 702.6,
                        "bin_end": 727,
                        "count": 1
                      }
                    ]
                  }
                },
                {
                  "name": "k_7",
                  "dtype": "int64",
                  "stats": {
                    "unique_count": 5,
                    "nan_count": 0,
                    "min": "499",
                    "max": "978",
                    "histogram": [
                      {
                        "bin_start": 499,
                        "bin_end": 546.9,
                        "count": 1
                      },
                      {
                        "bin_start": 546.9,
                        "bin_end": 594.8,
                        "count": 2
                      },
                      {
                        "bin_start": 594.8,
                        "bin_end": 642.7,
                        "count": 1
                      },
                      {
                        "bin_start": 642.7,
                        "bin_end": 690.6,
                        "count": 0
                      },
                      {
                        "bin_start": 690.6,
                        "bin_end": 738.5,
                        "count": 0
                      },
                      {
                        "bin_start": 738.5,
                        "bin_end": 786.4,
                        "count": 0
                      },
                      {
                        "bin_start": 786.4,
                        "bin_end": 834.3,
                        "count": 0
                      },
                      {
                        "bin_start": 834.3,
                        "bin_end": 882.2,
                        "count": 0
                      },
                      {
                        "bin_start": 882.2,
                        "bin_end": 930.0999999999999,
                        "count": 0
                      },
                      {
                        "bin_start": 930.0999999999999,
                        "bin_end": 978,
                        "count": 1
                      }
                    ]
                  }
                },
                {
                  "name": "k_6",
                  "dtype": "int64",
                  "stats": {
                    "unique_count": 5,
                    "nan_count": 0,
                    "min": "479",
                    "max": "1127",
                    "histogram": [
                      {
                        "bin_start": 479,
                        "bin_end": 543.8,
                        "count": 2
                      },
                      {
                        "bin_start": 543.8,
                        "bin_end": 608.6,
                        "count": 2
                      },
                      {
                        "bin_start": 608.6,
                        "bin_end": 673.4,
                        "count": 0
                      },
                      {
                        "bin_start": 673.4,
                        "bin_end": 738.2,
                        "count": 0
                      },
                      {
                        "bin_start": 738.2,
                        "bin_end": 803,
                        "count": 0
                      },
                      {
                        "bin_start": 803,
                        "bin_end": 867.8,
                        "count": 0
                      },
                      {
                        "bin_start": 867.8,
                        "bin_end": 932.5999999999999,
                        "count": 0
                      },
                      {
                        "bin_start": 932.5999999999999,
                        "bin_end": 997.4,
                        "count": 0
                      },
                      {
                        "bin_start": 997.4,
                        "bin_end": 1062.1999999999998,
                        "count": 0
                      },
                      {
                        "bin_start": 1062.1999999999998,
                        "bin_end": 1127,
                        "count": 1
                      }
                    ]
                  }
                },
                {
                  "name": "k_5",
                  "dtype": "int64",
                  "stats": {
                    "unique_count": 5,
                    "nan_count": 0,
                    "min": "467",
                    "max": "967",
                    "histogram": [
                      {
                        "bin_start": 467,
                        "bin_end": 517,
                        "count": 3
                      },
                      {
                        "bin_start": 517,
                        "bin_end": 567,
                        "count": 1
                      },
                      {
                        "bin_start": 567,
                        "bin_end": 617,
                        "count": 0
                      },
                      {
                        "bin_start": 617,
                        "bin_end": 667,
                        "count": 0
                      },
                      {
                        "bin_start": 667,
                        "bin_end": 717,
                        "count": 0
                      },
                      {
                        "bin_start": 717,
                        "bin_end": 767,
                        "count": 0
                      },
                      {
                        "bin_start": 767,
                        "bin_end": 817,
                        "count": 0
                      },
                      {
                        "bin_start": 817,
                        "bin_end": 867,
                        "count": 0
                      },
                      {
                        "bin_start": 867,
                        "bin_end": 917,
                        "count": 0
                      },
                      {
                        "bin_start": 917,
                        "bin_end": 967,
                        "count": 1
                      }
                    ]
                  }
                },
                {
                  "name": "k_4",
                  "dtype": "int64",
                  "stats": {
                    "unique_count": 5,
                    "nan_count": 0,
                    "min": "443",
                    "max": "815",
                    "histogram": [
                      {
                        "bin_start": 443,
                        "bin_end": 480.2,
                        "count": 3
                      },
                      {
                        "bin_start": 480.2,
                        "bin_end": 517.4,
                        "count": 0
                      },
                      {
                        "bin_start": 517.4,
                        "bin_end": 554.6,
                        "count": 0
                      },
                      {
                        "bin_start": 554.6,
                        "bin_end": 591.8,
                        "count": 0
                      },
                      {
                        "bin_start": 591.8,
                        "bin_end": 629,
                        "count": 0
                      },
                      {
                        "bin_start": 629,
                        "bin_end": 666.2,
                        "count": 1
                      },
                      {
                        "bin_start": 666.2,
                        "bin_end": 703.4000000000001,
                        "count": 0
                      },
                      {
                        "bin_start": 703.4000000000001,
                        "bin_end": 740.6,
                        "count": 0
                      },
                      {
                        "bin_start": 740.6,
                        "bin_end": 777.8,
                        "count": 0
                      },
                      {
                        "bin_start": 777.8,
                        "bin_end": 815,
                        "count": 1
                      }
                    ]
                  }
                },
                {
                  "name": "k_3",
                  "dtype": "int64",
                  "stats": {
                    "unique_count": 5,
                    "nan_count": 0,
                    "min": "408",
                    "max": "729",
                    "histogram": [
                      {
                        "bin_start": 408,
                        "bin_end": 440.1,
                        "count": 2
                      },
                      {
                        "bin_start": 440.1,
                        "bin_end": 472.2,
                        "count": 0
                      },
                      {
                        "bin_start": 472.2,
                        "bin_end": 504.3,
                        "count": 0
                      },
                      {
                        "bin_start": 504.3,
                        "bin_end": 536.4,
                        "count": 0
                      },
                      {
                        "bin_start": 536.4,
                        "bin_end": 568.5,
                        "count": 0
                      },
                      {
                        "bin_start": 568.5,
                        "bin_end": 600.6,
                        "count": 2
                      },
                      {
                        "bin_start": 600.6,
                        "bin_end": 632.7,
                        "count": 0
                      },
                      {
                        "bin_start": 632.7,
                        "bin_end": 664.8,
                        "count": 0
                      },
                      {
                        "bin_start": 664.8,
                        "bin_end": 696.9000000000001,
                        "count": 0
                      },
                      {
                        "bin_start": 696.9000000000001,
                        "bin_end": 729,
                        "count": 1
                      }
                    ]
                  }
                },
                {
                  "name": "k_2",
                  "dtype": "int64",
                  "stats": {
                    "unique_count": 5,
                    "nan_count": 0,
                    "min": "416",
                    "max": "902",
                    "histogram": [
                      {
                        "bin_start": 416,
                        "bin_end": 464.6,
                        "count": 2
                      },
                      {
                        "bin_start": 464.6,
                        "bin_end": 513.2,
                        "count": 0
                      },
                      {
                        "bin_start": 513.2,
                        "bin_end": 561.8,
                        "count": 0
                      },
                      {
                        "bin_start": 561.8,
                        "bin_end": 610.4,
                        "count": 1
                      },
                      {
                        "bin_start": 610.4,
                        "bin_end": 659,
                        "count": 1
                      },
                      {
                        "bin_start": 659,
                        "bin_end": 707.6,
                        "count": 0
                      },
                      {
                        "bin_start": 707.6,
                        "bin_end": 756.2,
                        "count": 0
                      },
                      {
                        "bin_start": 756.2,
                        "bin_end": 804.8,
                        "count": 0
                      },
                      {
                        "bin_start": 804.8,
                        "bin_end": 853.4000000000001,
                        "count": 0
                      },
                      {
                        "bin_start": 853.4000000000001,
                        "bin_end": 902,
                        "count": 1
                      }
                    ]
                  }
                },
                {
                  "name": "k_1",
                  "dtype": "int64",
                  "stats": {
                    "unique_count": 5,
                    "nan_count": 0,
                    "min": "547",
                    "max": "1014",
                    "histogram": [
                      {
                        "bin_start": 547,
                        "bin_end": 593.7,
                        "count": 3
                      },
                      {
                        "bin_start": 593.7,
                        "bin_end": 640.4,
                        "count": 0
                      },
                      {
                        "bin_start": 640.4,
                        "bin_end": 687.1,
                        "count": 0
                      },
                      {
                        "bin_start": 687.1,
                        "bin_end": 733.8,
                        "count": 1
                      },
                      {
                        "bin_start": 733.8,
                        "bin_end": 780.5,
                        "count": 0
                      },
                      {
                        "bin_start": 780.5,
                        "bin_end": 827.2,
                        "count": 0
                      },
                      {
                        "bin_start": 827.2,
                        "bin_end": 873.9000000000001,
                        "count": 0
                      },
                      {
                        "bin_start": 873.9000000000001,
                        "bin_end": 920.6,
                        "count": 0
                      },
                      {
                        "bin_start": 920.6,
                        "bin_end": 967.3,
                        "count": 0
                      },
                      {
                        "bin_start": 967.3,
                        "bin_end": 1014,
                        "count": 1
                      }
                    ]
                  }
                },
                {
                  "name": "_deepnote_index_column",
                  "dtype": "int64"
                }
              ],
              "rows_top": [
                {
                  "MONTH": 8,
                  "YEAR": 2016,
                  "zip": 94513,
                  "GHI_raw": "311.5416666666667",
                  "DHI_raw": "56.954301075268816",
                  "DNI_raw": "388.14112903225805",
                  "Wind Speed": "3.6731182795698896",
                  "Temperature_raw": 19.96370967741936,
                  "Solar_Zenith_Angle_raw": 79.83599462365589,
                  "k_12": 974,
                  "k_11": 818,
                  "k_10": 631,
                  "k_9": 563,
                  "k_8": 694,
                  "k_7": 634,
                  "k_6": 479,
                  "k_5": 485,
                  "k_4": 443,
                  "k_3": 571,
                  "k_2": 902,
                  "k_1": 1014,
                  "_deepnote_index_column": 3430
                },
                {
                  "MONTH": 1,
                  "YEAR": 2014,
                  "zip": 94531,
                  "GHI_raw": "119.76747311827957",
                  "DHI_raw": "31.557795698924732",
                  "DNI_raw": "223.4798387096774",
                  "Wind Speed": "1.5842741935483884",
                  "Temperature_raw": 9.915322580645162,
                  "Solar_Zenith_Angle_raw": 105.59819892473114,
                  "k_12": 711,
                  "k_11": 575,
                  "k_10": 588,
                  "k_9": 613,
                  "k_8": 727,
                  "k_7": 978,
                  "k_6": 1127,
                  "k_5": 967,
                  "k_4": 815,
                  "k_3": 597,
                  "k_2": 602,
                  "k_1": 732,
                  "_deepnote_index_column": 124974
                },
                {
                  "MONTH": 10,
                  "YEAR": 2013,
                  "zip": 94518,
                  "GHI_raw": "195.75940860215053",
                  "DHI_raw": "36.64247311827957",
                  "DNI_raw": "315.26881720430106",
                  "Wind Speed": "2.06935483870968",
                  "Temperature_raw": 15.620967741935484,
                  "Solar_Zenith_Angle_raw": 96.99231182795693,
                  "k_12": 424,
                  "k_11": 445,
                  "k_10": 557,
                  "k_9": 635,
                  "k_8": 504,
                  "k_7": 499,
                  "k_6": 491,
                  "k_5": 535,
                  "k_4": 662,
                  "k_3": 729,
                  "k_2": 641,
                  "k_1": 577,
                  "_deepnote_index_column": 114710
                },
                {
                  "MONTH": 7,
                  "YEAR": 2019,
                  "zip": 94585,
                  "GHI_raw": "347.9959677419355",
                  "DHI_raw": "54.361559139784944",
                  "DNI_raw": "434.11155913978496",
                  "Wind Speed": "3.0524193548387135",
                  "Temperature_raw": 21.367741935483885,
                  "Solar_Zenith_Angle_raw": 73.9143010752688,
                  "k_12": 658,
                  "k_11": 575,
                  "k_10": 516,
                  "k_9": 477,
                  "k_8": 502,
                  "k_7": 579,
                  "k_6": 545,
                  "k_5": 498,
                  "k_4": 470,
                  "k_3": 433,
                  "k_2": 416,
                  "k_1": 591,
                  "_deepnote_index_column": 118070
                },
                {
                  "MONTH": 7,
                  "YEAR": 2017,
                  "zip": 94582,
                  "GHI_raw": "352.0739247311828",
                  "DHI_raw": "51.63306451612903",
                  "DNI_raw": "443.46639784946234",
                  "Wind Speed": "3.777688172043008",
                  "Temperature_raw": 18.498655913978496,
                  "Solar_Zenith_Angle_raw": 74.10440860215043,
                  "k_12": 602,
                  "k_11": 534,
                  "k_10": 519,
                  "k_9": 467,
                  "k_8": 483,
                  "k_7": 592,
                  "k_6": 573,
                  "k_5": 467,
                  "k_4": 447,
                  "k_3": 408,
                  "k_2": 458,
                  "k_1": 547,
                  "_deepnote_index_column": 136436
                }
              ],
              "rows_bottom": null
            },
            "text/plain": "        MONTH  YEAR    zip             GHI_raw             DHI_raw  \\\nindex                                                                \n3430        8  2016  94513   311.5416666666667  56.954301075268816   \n124974      1  2014  94531  119.76747311827957  31.557795698924732   \n114710     10  2013  94518  195.75940860215053   36.64247311827957   \n118070      7  2019  94585   347.9959677419355  54.361559139784944   \n136436      7  2017  94582   352.0739247311828   51.63306451612903   \n\n                   DNI_raw          Wind Speed  Temperature_raw  \\\nindex                                                             \n3430    388.14112903225805  3.6731182795698896        19.963710   \n124974   223.4798387096774  1.5842741935483884         9.915323   \n114710  315.26881720430106    2.06935483870968        15.620968   \n118070  434.11155913978496  3.0524193548387135        21.367742   \n136436  443.46639784946234   3.777688172043008        18.498656   \n\n        Solar_Zenith_Angle_raw  k_12  ...  k_10  k_9  k_8  k_7   k_6  k_5  \\\nindex                                 ...                                   \n3430                 79.835995   974  ...   631  563  694  634   479  485   \n124974              105.598199   711  ...   588  613  727  978  1127  967   \n114710               96.992312   424  ...   557  635  504  499   491  535   \n118070               73.914301   658  ...   516  477  502  579   545  498   \n136436               74.104409   602  ...   519  467  483  592   573  467   \n\n        k_4  k_3  k_2   k_1  \nindex                        \n3430    443  571  902  1014  \n124974  815  597  602   732  \n114710  662  729  641   577  \n118070  470  433  416   591  \n136436  447  408  458   547  \n\n[5 rows x 21 columns]",
            "text/html": "<div>\n<style scoped>\n    .dataframe tbody tr th:only-of-type {\n        vertical-align: middle;\n    }\n\n    .dataframe tbody tr th {\n        vertical-align: top;\n    }\n\n    .dataframe thead th {\n        text-align: right;\n    }\n</style>\n<table border=\"1\" class=\"dataframe\">\n  <thead>\n    <tr style=\"text-align: right;\">\n      <th></th>\n      <th>MONTH</th>\n      <th>YEAR</th>\n      <th>zip</th>\n      <th>GHI_raw</th>\n      <th>DHI_raw</th>\n      <th>DNI_raw</th>\n      <th>Wind Speed</th>\n      <th>Temperature_raw</th>\n      <th>Solar_Zenith_Angle_raw</th>\n      <th>k_12</th>\n      <th>...</th>\n      <th>k_10</th>\n      <th>k_9</th>\n      <th>k_8</th>\n      <th>k_7</th>\n      <th>k_6</th>\n      <th>k_5</th>\n      <th>k_4</th>\n      <th>k_3</th>\n      <th>k_2</th>\n      <th>k_1</th>\n    </tr>\n    <tr>\n      <th>index</th>\n      <th></th>\n      <th></th>\n      <th></th>\n      <th></th>\n      <th></th>\n      <th></th>\n      <th></th>\n      <th></th>\n      <th></th>\n      <th></th>\n      <th></th>\n      <th></th>\n      <th></th>\n      <th></th>\n      <th></th>\n      <th></th>\n      <th></th>\n      <th></th>\n      <th></th>\n      <th></th>\n      <th></th>\n    </tr>\n  </thead>\n  <tbody>\n    <tr>\n      <th>3430</th>\n      <td>8</td>\n      <td>2016</td>\n      <td>94513</td>\n      <td>311.5416666666667</td>\n      <td>56.954301075268816</td>\n      <td>388.14112903225805</td>\n      <td>3.6731182795698896</td>\n      <td>19.963710</td>\n      <td>79.835995</td>\n      <td>974</td>\n      <td>...</td>\n      <td>631</td>\n      <td>563</td>\n      <td>694</td>\n      <td>634</td>\n      <td>479</td>\n      <td>485</td>\n      <td>443</td>\n      <td>571</td>\n      <td>902</td>\n      <td>1014</td>\n    </tr>\n    <tr>\n      <th>124974</th>\n      <td>1</td>\n      <td>2014</td>\n      <td>94531</td>\n      <td>119.76747311827957</td>\n      <td>31.557795698924732</td>\n      <td>223.4798387096774</td>\n      <td>1.5842741935483884</td>\n      <td>9.915323</td>\n      <td>105.598199</td>\n      <td>711</td>\n      <td>...</td>\n      <td>588</td>\n      <td>613</td>\n      <td>727</td>\n      <td>978</td>\n      <td>1127</td>\n      <td>967</td>\n      <td>815</td>\n      <td>597</td>\n      <td>602</td>\n      <td>732</td>\n    </tr>\n    <tr>\n      <th>114710</th>\n      <td>10</td>\n      <td>2013</td>\n      <td>94518</td>\n      <td>195.75940860215053</td>\n      <td>36.64247311827957</td>\n      <td>315.26881720430106</td>\n      <td>2.06935483870968</td>\n      <td>15.620968</td>\n      <td>96.992312</td>\n      <td>424</td>\n      <td>...</td>\n      <td>557</td>\n      <td>635</td>\n      <td>504</td>\n      <td>499</td>\n      <td>491</td>\n      <td>535</td>\n      <td>662</td>\n      <td>729</td>\n      <td>641</td>\n      <td>577</td>\n    </tr>\n    <tr>\n      <th>118070</th>\n      <td>7</td>\n      <td>2019</td>\n      <td>94585</td>\n      <td>347.9959677419355</td>\n      <td>54.361559139784944</td>\n      <td>434.11155913978496</td>\n      <td>3.0524193548387135</td>\n      <td>21.367742</td>\n      <td>73.914301</td>\n      <td>658</td>\n      <td>...</td>\n      <td>516</td>\n      <td>477</td>\n      <td>502</td>\n      <td>579</td>\n      <td>545</td>\n      <td>498</td>\n      <td>470</td>\n      <td>433</td>\n      <td>416</td>\n      <td>591</td>\n    </tr>\n    <tr>\n      <th>136436</th>\n      <td>7</td>\n      <td>2017</td>\n      <td>94582</td>\n      <td>352.0739247311828</td>\n      <td>51.63306451612903</td>\n      <td>443.46639784946234</td>\n      <td>3.777688172043008</td>\n      <td>18.498656</td>\n      <td>74.104409</td>\n      <td>602</td>\n      <td>...</td>\n      <td>519</td>\n      <td>467</td>\n      <td>483</td>\n      <td>592</td>\n      <td>573</td>\n      <td>467</td>\n      <td>447</td>\n      <td>408</td>\n      <td>458</td>\n      <td>547</td>\n    </tr>\n  </tbody>\n</table>\n<p>5 rows × 21 columns</p>\n</div>"
          },
          "metadata": {},
          "output_type": "display_data"
        }
      ]
    },
    {
      "cell_type": "code",
      "metadata": {
        "tags": [],
        "deepnote_to_be_reexecuted": false,
        "source_hash": "46fa9bf9",
        "execution_millis": 55,
        "execution_start": 1618697476614,
        "cell_id": "00046-9a7478ec-5a83-40cf-b80d-c26357c669ec",
        "deepnote_cell_type": "code"
      },
      "source": "X_train[20:30]",
      "execution_count": null,
      "outputs": [
        {
          "output_type": "execute_result",
          "execution_count": 192,
          "data": {
            "application/vnd.deepnote.dataframe.v2+json": {
              "row_count": 10,
              "column_count": 21,
              "columns": [
                {
                  "name": "MONTH",
                  "dtype": "int64",
                  "stats": {
                    "unique_count": 6,
                    "nan_count": 0,
                    "min": "2",
                    "max": "12",
                    "histogram": [
                      {
                        "bin_start": 2,
                        "bin_end": 3,
                        "count": 3
                      },
                      {
                        "bin_start": 3,
                        "bin_end": 4,
                        "count": 0
                      },
                      {
                        "bin_start": 4,
                        "bin_end": 5,
                        "count": 2
                      },
                      {
                        "bin_start": 5,
                        "bin_end": 6,
                        "count": 0
                      },
                      {
                        "bin_start": 6,
                        "bin_end": 7,
                        "count": 0
                      },
                      {
                        "bin_start": 7,
                        "bin_end": 8,
                        "count": 2
                      },
                      {
                        "bin_start": 8,
                        "bin_end": 9,
                        "count": 0
                      },
                      {
                        "bin_start": 9,
                        "bin_end": 10,
                        "count": 1
                      },
                      {
                        "bin_start": 10,
                        "bin_end": 11,
                        "count": 1
                      },
                      {
                        "bin_start": 11,
                        "bin_end": 12,
                        "count": 1
                      }
                    ]
                  }
                },
                {
                  "name": "YEAR",
                  "dtype": "int64",
                  "stats": {
                    "unique_count": 6,
                    "nan_count": 0,
                    "min": "2013",
                    "max": "2019",
                    "histogram": [
                      {
                        "bin_start": 2013,
                        "bin_end": 2013.6,
                        "count": 1
                      },
                      {
                        "bin_start": 2013.6,
                        "bin_end": 2014.2,
                        "count": 1
                      },
                      {
                        "bin_start": 2014.2,
                        "bin_end": 2014.8,
                        "count": 0
                      },
                      {
                        "bin_start": 2014.8,
                        "bin_end": 2015.4,
                        "count": 0
                      },
                      {
                        "bin_start": 2015.4,
                        "bin_end": 2016,
                        "count": 0
                      },
                      {
                        "bin_start": 2016,
                        "bin_end": 2016.6,
                        "count": 4
                      },
                      {
                        "bin_start": 2016.6,
                        "bin_end": 2017.2,
                        "count": 2
                      },
                      {
                        "bin_start": 2017.2,
                        "bin_end": 2017.8,
                        "count": 0
                      },
                      {
                        "bin_start": 2017.8,
                        "bin_end": 2018.4,
                        "count": 1
                      },
                      {
                        "bin_start": 2018.4,
                        "bin_end": 2019,
                        "count": 1
                      }
                    ]
                  }
                },
                {
                  "name": "zip",
                  "dtype": "int64",
                  "stats": {
                    "unique_count": 10,
                    "nan_count": 0,
                    "min": "94002",
                    "max": "95065",
                    "histogram": [
                      {
                        "bin_start": 94002,
                        "bin_end": 94108.3,
                        "count": 3
                      },
                      {
                        "bin_start": 94108.3,
                        "bin_end": 94214.6,
                        "count": 0
                      },
                      {
                        "bin_start": 94214.6,
                        "bin_end": 94320.9,
                        "count": 0
                      },
                      {
                        "bin_start": 94320.9,
                        "bin_end": 94427.2,
                        "count": 0
                      },
                      {
                        "bin_start": 94427.2,
                        "bin_end": 94533.5,
                        "count": 0
                      },
                      {
                        "bin_start": 94533.5,
                        "bin_end": 94639.8,
                        "count": 6
                      },
                      {
                        "bin_start": 94639.8,
                        "bin_end": 94746.1,
                        "count": 0
                      },
                      {
                        "bin_start": 94746.1,
                        "bin_end": 94852.4,
                        "count": 0
                      },
                      {
                        "bin_start": 94852.4,
                        "bin_end": 94958.7,
                        "count": 0
                      },
                      {
                        "bin_start": 94958.7,
                        "bin_end": 95065,
                        "count": 1
                      }
                    ]
                  }
                },
                {
                  "name": "GHI_raw",
                  "dtype": "object",
                  "stats": {
                    "unique_count": 10,
                    "nan_count": 0,
                    "categories": [
                      {
                        "name": "267.1625",
                        "count": 1
                      },
                      {
                        "name": "349.78629032258067",
                        "count": 1
                      },
                      {
                        "name": "8 others",
                        "count": 8
                      }
                    ]
                  }
                },
                {
                  "name": "DHI_raw",
                  "dtype": "object",
                  "stats": {
                    "unique_count": 10,
                    "nan_count": 0,
                    "categories": [
                      {
                        "name": "71.84166666666667",
                        "count": 1
                      },
                      {
                        "name": "52.84139784946237",
                        "count": 1
                      },
                      {
                        "name": "8 others",
                        "count": 8
                      }
                    ]
                  }
                },
                {
                  "name": "DNI_raw",
                  "dtype": "object",
                  "stats": {
                    "unique_count": 10,
                    "nan_count": 0,
                    "categories": [
                      {
                        "name": "297.24861111111113",
                        "count": 1
                      },
                      {
                        "name": "439.2943548387097",
                        "count": 1
                      },
                      {
                        "name": "8 others",
                        "count": 8
                      }
                    ]
                  }
                },
                {
                  "name": "Wind Speed",
                  "dtype": "object",
                  "stats": {
                    "unique_count": 10,
                    "nan_count": 0,
                    "categories": [
                      {
                        "name": "2.219722222222223",
                        "count": 1
                      },
                      {
                        "name": "3.777688172043008",
                        "count": 1
                      },
                      {
                        "name": "8 others",
                        "count": 8
                      }
                    ]
                  }
                },
                {
                  "name": "Temperature_raw",
                  "dtype": "float64",
                  "stats": {
                    "unique_count": 10,
                    "nan_count": 0,
                    "min": "7.650297619047619",
                    "max": "21.51344086021505",
                    "histogram": [
                      {
                        "bin_start": 7.650297619047619,
                        "bin_end": 9.036611943164361,
                        "count": 1
                      },
                      {
                        "bin_start": 9.036611943164361,
                        "bin_end": 10.422926267281104,
                        "count": 0
                      },
                      {
                        "bin_start": 10.422926267281104,
                        "bin_end": 11.809240591397849,
                        "count": 1
                      },
                      {
                        "bin_start": 11.809240591397849,
                        "bin_end": 13.195554915514592,
                        "count": 3
                      },
                      {
                        "bin_start": 13.195554915514592,
                        "bin_end": 14.581869239631335,
                        "count": 1
                      },
                      {
                        "bin_start": 14.581869239631335,
                        "bin_end": 15.968183563748077,
                        "count": 1
                      },
                      {
                        "bin_start": 15.968183563748077,
                        "bin_end": 17.35449788786482,
                        "count": 0
                      },
                      {
                        "bin_start": 17.35449788786482,
                        "bin_end": 18.740812211981563,
                        "count": 1
                      },
                      {
                        "bin_start": 18.740812211981563,
                        "bin_end": 20.127126536098306,
                        "count": 0
                      },
                      {
                        "bin_start": 20.127126536098306,
                        "bin_end": 21.51344086021505,
                        "count": 2
                      }
                    ]
                  }
                },
                {
                  "name": "Solar_Zenith_Angle_raw",
                  "dtype": "float64",
                  "stats": {
                    "unique_count": 10,
                    "nan_count": 0,
                    "min": "74.06052419354836",
                    "max": "107.31313172043006",
                    "histogram": [
                      {
                        "bin_start": 74.06052419354836,
                        "bin_end": 77.38578494623653,
                        "count": 2
                      },
                      {
                        "bin_start": 77.38578494623653,
                        "bin_end": 80.7110456989247,
                        "count": 0
                      },
                      {
                        "bin_start": 80.7110456989247,
                        "bin_end": 84.03630645161287,
                        "count": 2
                      },
                      {
                        "bin_start": 84.03630645161287,
                        "bin_end": 87.36156720430104,
                        "count": 0
                      },
                      {
                        "bin_start": 87.36156720430104,
                        "bin_end": 90.68682795698922,
                        "count": 1
                      },
                      {
                        "bin_start": 90.68682795698922,
                        "bin_end": 94.01208870967739,
                        "count": 0
                      },
                      {
                        "bin_start": 94.01208870967739,
                        "bin_end": 97.33734946236555,
                        "count": 1
                      },
                      {
                        "bin_start": 97.33734946236555,
                        "bin_end": 100.66261021505372,
                        "count": 3
                      },
                      {
                        "bin_start": 100.66261021505372,
                        "bin_end": 103.9878709677419,
                        "count": 0
                      },
                      {
                        "bin_start": 103.9878709677419,
                        "bin_end": 107.31313172043006,
                        "count": 1
                      }
                    ]
                  }
                },
                {
                  "name": "k_12",
                  "dtype": "int64",
                  "stats": {
                    "unique_count": 9,
                    "nan_count": 0,
                    "min": "0",
                    "max": "699",
                    "histogram": [
                      {
                        "bin_start": 0,
                        "bin_end": 69.9,
                        "count": 1
                      },
                      {
                        "bin_start": 69.9,
                        "bin_end": 139.8,
                        "count": 0
                      },
                      {
                        "bin_start": 139.8,
                        "bin_end": 209.70000000000002,
                        "count": 0
                      },
                      {
                        "bin_start": 209.70000000000002,
                        "bin_end": 279.6,
                        "count": 0
                      },
                      {
                        "bin_start": 279.6,
                        "bin_end": 349.5,
                        "count": 1
                      },
                      {
                        "bin_start": 349.5,
                        "bin_end": 419.40000000000003,
                        "count": 2
                      },
                      {
                        "bin_start": 419.40000000000003,
                        "bin_end": 489.30000000000007,
                        "count": 2
                      },
                      {
                        "bin_start": 489.30000000000007,
                        "bin_end": 559.2,
                        "count": 3
                      },
                      {
                        "bin_start": 559.2,
                        "bin_end": 629.1,
                        "count": 0
                      },
                      {
                        "bin_start": 629.1,
                        "bin_end": 699,
                        "count": 1
                      }
                    ]
                  }
                },
                {
                  "name": "k_11",
                  "dtype": "int64",
                  "stats": {
                    "unique_count": 10,
                    "nan_count": 0,
                    "min": "0",
                    "max": "624",
                    "histogram": [
                      {
                        "bin_start": 0,
                        "bin_end": 62.4,
                        "count": 1
                      },
                      {
                        "bin_start": 62.4,
                        "bin_end": 124.8,
                        "count": 0
                      },
                      {
                        "bin_start": 124.8,
                        "bin_end": 187.2,
                        "count": 0
                      },
                      {
                        "bin_start": 187.2,
                        "bin_end": 249.6,
                        "count": 0
                      },
                      {
                        "bin_start": 249.6,
                        "bin_end": 312,
                        "count": 0
                      },
                      {
                        "bin_start": 312,
                        "bin_end": 374.4,
                        "count": 2
                      },
                      {
                        "bin_start": 374.4,
                        "bin_end": 436.8,
                        "count": 1
                      },
                      {
                        "bin_start": 436.8,
                        "bin_end": 499.2,
                        "count": 2
                      },
                      {
                        "bin_start": 499.2,
                        "bin_end": 561.6,
                        "count": 3
                      },
                      {
                        "bin_start": 561.6,
                        "bin_end": 624,
                        "count": 1
                      }
                    ]
                  }
                },
                {
                  "name": "k_10",
                  "dtype": "int64",
                  "stats": {
                    "unique_count": 10,
                    "nan_count": 0,
                    "min": "0",
                    "max": "590",
                    "histogram": [
                      {
                        "bin_start": 0,
                        "bin_end": 59,
                        "count": 1
                      },
                      {
                        "bin_start": 59,
                        "bin_end": 118,
                        "count": 0
                      },
                      {
                        "bin_start": 118,
                        "bin_end": 177,
                        "count": 0
                      },
                      {
                        "bin_start": 177,
                        "bin_end": 236,
                        "count": 0
                      },
                      {
                        "bin_start": 236,
                        "bin_end": 295,
                        "count": 0
                      },
                      {
                        "bin_start": 295,
                        "bin_end": 354,
                        "count": 0
                      },
                      {
                        "bin_start": 354,
                        "bin_end": 413,
                        "count": 2
                      },
                      {
                        "bin_start": 413,
                        "bin_end": 472,
                        "count": 1
                      },
                      {
                        "bin_start": 472,
                        "bin_end": 531,
                        "count": 4
                      },
                      {
                        "bin_start": 531,
                        "bin_end": 590,
                        "count": 2
                      }
                    ]
                  }
                },
                {
                  "name": "k_9",
                  "dtype": "int64",
                  "stats": {
                    "unique_count": 10,
                    "nan_count": 0,
                    "min": "338",
                    "max": "678",
                    "histogram": [
                      {
                        "bin_start": 338,
                        "bin_end": 372,
                        "count": 1
                      },
                      {
                        "bin_start": 372,
                        "bin_end": 406,
                        "count": 1
                      },
                      {
                        "bin_start": 406,
                        "bin_end": 440,
                        "count": 1
                      },
                      {
                        "bin_start": 440,
                        "bin_end": 474,
                        "count": 0
                      },
                      {
                        "bin_start": 474,
                        "bin_end": 508,
                        "count": 3
                      },
                      {
                        "bin_start": 508,
                        "bin_end": 542,
                        "count": 2
                      },
                      {
                        "bin_start": 542,
                        "bin_end": 576,
                        "count": 0
                      },
                      {
                        "bin_start": 576,
                        "bin_end": 610,
                        "count": 1
                      },
                      {
                        "bin_start": 610,
                        "bin_end": 644,
                        "count": 0
                      },
                      {
                        "bin_start": 644,
                        "bin_end": 678,
                        "count": 1
                      }
                    ]
                  }
                },
                {
                  "name": "k_8",
                  "dtype": "int64",
                  "stats": {
                    "unique_count": 9,
                    "nan_count": 0,
                    "min": "309",
                    "max": "2401",
                    "histogram": [
                      {
                        "bin_start": 309,
                        "bin_end": 518.2,
                        "count": 7
                      },
                      {
                        "bin_start": 518.2,
                        "bin_end": 727.4,
                        "count": 0
                      },
                      {
                        "bin_start": 727.4,
                        "bin_end": 936.5999999999999,
                        "count": 2
                      },
                      {
                        "bin_start": 936.5999999999999,
                        "bin_end": 1145.8,
                        "count": 0
                      },
                      {
                        "bin_start": 1145.8,
                        "bin_end": 1355,
                        "count": 0
                      },
                      {
                        "bin_start": 1355,
                        "bin_end": 1564.1999999999998,
                        "count": 0
                      },
                      {
                        "bin_start": 1564.1999999999998,
                        "bin_end": 1773.3999999999999,
                        "count": 0
                      },
                      {
                        "bin_start": 1773.3999999999999,
                        "bin_end": 1982.6,
                        "count": 0
                      },
                      {
                        "bin_start": 1982.6,
                        "bin_end": 2191.8,
                        "count": 0
                      },
                      {
                        "bin_start": 2191.8,
                        "bin_end": 2401,
                        "count": 1
                      }
                    ]
                  }
                },
                {
                  "name": "k_7",
                  "dtype": "int64",
                  "stats": {
                    "unique_count": 10,
                    "nan_count": 0,
                    "min": "321",
                    "max": "1568",
                    "histogram": [
                      {
                        "bin_start": 321,
                        "bin_end": 445.7,
                        "count": 2
                      },
                      {
                        "bin_start": 445.7,
                        "bin_end": 570.4,
                        "count": 5
                      },
                      {
                        "bin_start": 570.4,
                        "bin_end": 695.1,
                        "count": 0
                      },
                      {
                        "bin_start": 695.1,
                        "bin_end": 819.8,
                        "count": 0
                      },
                      {
                        "bin_start": 819.8,
                        "bin_end": 944.5,
                        "count": 1
                      },
                      {
                        "bin_start": 944.5,
                        "bin_end": 1069.2,
                        "count": 1
                      },
                      {
                        "bin_start": 1069.2,
                        "bin_end": 1193.9,
                        "count": 0
                      },
                      {
                        "bin_start": 1193.9,
                        "bin_end": 1318.6,
                        "count": 0
                      },
                      {
                        "bin_start": 1318.6,
                        "bin_end": 1443.3,
                        "count": 0
                      },
                      {
                        "bin_start": 1443.3,
                        "bin_end": 1568,
                        "count": 1
                      }
                    ]
                  }
                },
                {
                  "name": "k_6",
                  "dtype": "int64",
                  "stats": {
                    "unique_count": 10,
                    "nan_count": 0,
                    "min": "0",
                    "max": "867",
                    "histogram": [
                      {
                        "bin_start": 0,
                        "bin_end": 86.7,
                        "count": 1
                      },
                      {
                        "bin_start": 86.7,
                        "bin_end": 173.4,
                        "count": 0
                      },
                      {
                        "bin_start": 173.4,
                        "bin_end": 260.1,
                        "count": 1
                      },
                      {
                        "bin_start": 260.1,
                        "bin_end": 346.8,
                        "count": 1
                      },
                      {
                        "bin_start": 346.8,
                        "bin_end": 433.5,
                        "count": 2
                      },
                      {
                        "bin_start": 433.5,
                        "bin_end": 520.2,
                        "count": 4
                      },
                      {
                        "bin_start": 520.2,
                        "bin_end": 606.9,
                        "count": 0
                      },
                      {
                        "bin_start": 606.9,
                        "bin_end": 693.6,
                        "count": 0
                      },
                      {
                        "bin_start": 693.6,
                        "bin_end": 780.3000000000001,
                        "count": 0
                      },
                      {
                        "bin_start": 780.3000000000001,
                        "bin_end": 867,
                        "count": 1
                      }
                    ]
                  }
                },
                {
                  "name": "k_5",
                  "dtype": "int64",
                  "stats": {
                    "unique_count": 10,
                    "nan_count": 0,
                    "min": "0",
                    "max": "658",
                    "histogram": [
                      {
                        "bin_start": 0,
                        "bin_end": 65.8,
                        "count": 1
                      },
                      {
                        "bin_start": 65.8,
                        "bin_end": 131.6,
                        "count": 0
                      },
                      {
                        "bin_start": 131.6,
                        "bin_end": 197.39999999999998,
                        "count": 0
                      },
                      {
                        "bin_start": 197.39999999999998,
                        "bin_end": 263.2,
                        "count": 1
                      },
                      {
                        "bin_start": 263.2,
                        "bin_end": 329,
                        "count": 1
                      },
                      {
                        "bin_start": 329,
                        "bin_end": 394.79999999999995,
                        "count": 0
                      },
                      {
                        "bin_start": 394.79999999999995,
                        "bin_end": 460.59999999999997,
                        "count": 5
                      },
                      {
                        "bin_start": 460.59999999999997,
                        "bin_end": 526.4,
                        "count": 1
                      },
                      {
                        "bin_start": 526.4,
                        "bin_end": 592.1999999999999,
                        "count": 0
                      },
                      {
                        "bin_start": 592.1999999999999,
                        "bin_end": 658,
                        "count": 1
                      }
                    ]
                  }
                },
                {
                  "name": "k_4",
                  "dtype": "int64",
                  "stats": {
                    "unique_count": 10,
                    "nan_count": 0,
                    "min": "0",
                    "max": "576",
                    "histogram": [
                      {
                        "bin_start": 0,
                        "bin_end": 57.6,
                        "count": 1
                      },
                      {
                        "bin_start": 57.6,
                        "bin_end": 115.2,
                        "count": 0
                      },
                      {
                        "bin_start": 115.2,
                        "bin_end": 172.8,
                        "count": 0
                      },
                      {
                        "bin_start": 172.8,
                        "bin_end": 230.4,
                        "count": 0
                      },
                      {
                        "bin_start": 230.4,
                        "bin_end": 288,
                        "count": 2
                      },
                      {
                        "bin_start": 288,
                        "bin_end": 345.6,
                        "count": 0
                      },
                      {
                        "bin_start": 345.6,
                        "bin_end": 403.2,
                        "count": 0
                      },
                      {
                        "bin_start": 403.2,
                        "bin_end": 460.8,
                        "count": 2
                      },
                      {
                        "bin_start": 460.8,
                        "bin_end": 518.4,
                        "count": 3
                      },
                      {
                        "bin_start": 518.4,
                        "bin_end": 576,
                        "count": 2
                      }
                    ]
                  }
                },
                {
                  "name": "k_3",
                  "dtype": "int64",
                  "stats": {
                    "unique_count": 10,
                    "nan_count": 0,
                    "min": "260",
                    "max": "1273",
                    "histogram": [
                      {
                        "bin_start": 260,
                        "bin_end": 361.3,
                        "count": 2
                      },
                      {
                        "bin_start": 361.3,
                        "bin_end": 462.6,
                        "count": 2
                      },
                      {
                        "bin_start": 462.6,
                        "bin_end": 563.9,
                        "count": 2
                      },
                      {
                        "bin_start": 563.9,
                        "bin_end": 665.2,
                        "count": 3
                      },
                      {
                        "bin_start": 665.2,
                        "bin_end": 766.5,
                        "count": 0
                      },
                      {
                        "bin_start": 766.5,
                        "bin_end": 867.8,
                        "count": 0
                      },
                      {
                        "bin_start": 867.8,
                        "bin_end": 969.1,
                        "count": 0
                      },
                      {
                        "bin_start": 969.1,
                        "bin_end": 1070.4,
                        "count": 0
                      },
                      {
                        "bin_start": 1070.4,
                        "bin_end": 1171.6999999999998,
                        "count": 0
                      },
                      {
                        "bin_start": 1171.6999999999998,
                        "bin_end": 1273,
                        "count": 1
                      }
                    ]
                  }
                },
                {
                  "name": "k_2",
                  "dtype": "int64",
                  "stats": {
                    "unique_count": 10,
                    "nan_count": 0,
                    "min": "261",
                    "max": "1207",
                    "histogram": [
                      {
                        "bin_start": 261,
                        "bin_end": 355.6,
                        "count": 2
                      },
                      {
                        "bin_start": 355.6,
                        "bin_end": 450.2,
                        "count": 4
                      },
                      {
                        "bin_start": 450.2,
                        "bin_end": 544.8,
                        "count": 0
                      },
                      {
                        "bin_start": 544.8,
                        "bin_end": 639.4,
                        "count": 0
                      },
                      {
                        "bin_start": 639.4,
                        "bin_end": 734,
                        "count": 2
                      },
                      {
                        "bin_start": 734,
                        "bin_end": 828.5999999999999,
                        "count": 1
                      },
                      {
                        "bin_start": 828.5999999999999,
                        "bin_end": 923.1999999999999,
                        "count": 0
                      },
                      {
                        "bin_start": 923.1999999999999,
                        "bin_end": 1017.8,
                        "count": 0
                      },
                      {
                        "bin_start": 1017.8,
                        "bin_end": 1112.4,
                        "count": 0
                      },
                      {
                        "bin_start": 1112.4,
                        "bin_end": 1207,
                        "count": 1
                      }
                    ]
                  }
                },
                {
                  "name": "k_1",
                  "dtype": "int64",
                  "stats": {
                    "unique_count": 10,
                    "nan_count": 0,
                    "min": "273",
                    "max": "981",
                    "histogram": [
                      {
                        "bin_start": 273,
                        "bin_end": 343.8,
                        "count": 2
                      },
                      {
                        "bin_start": 343.8,
                        "bin_end": 414.6,
                        "count": 0
                      },
                      {
                        "bin_start": 414.6,
                        "bin_end": 485.4,
                        "count": 3
                      },
                      {
                        "bin_start": 485.4,
                        "bin_end": 556.2,
                        "count": 1
                      },
                      {
                        "bin_start": 556.2,
                        "bin_end": 627,
                        "count": 0
                      },
                      {
                        "bin_start": 627,
                        "bin_end": 697.8,
                        "count": 2
                      },
                      {
                        "bin_start": 697.8,
                        "bin_end": 768.5999999999999,
                        "count": 1
                      },
                      {
                        "bin_start": 768.5999999999999,
                        "bin_end": 839.4,
                        "count": 0
                      },
                      {
                        "bin_start": 839.4,
                        "bin_end": 910.1999999999999,
                        "count": 0
                      },
                      {
                        "bin_start": 910.1999999999999,
                        "bin_end": 981,
                        "count": 1
                      }
                    ]
                  }
                },
                {
                  "name": "_deepnote_index_column",
                  "dtype": "int64"
                }
              ],
              "rows_top": [
                {
                  "MONTH": 4,
                  "YEAR": 2014,
                  "zip": 94547,
                  "GHI_raw": "267.1625",
                  "DHI_raw": "71.84166666666667",
                  "DNI_raw": "297.24861111111113",
                  "Wind Speed": "2.219722222222223",
                  "Temperature_raw": 13.443055555555556,
                  "Solar_Zenith_Angle_raw": 82.28230555555548,
                  "k_12": 447,
                  "k_11": 461,
                  "k_10": 491,
                  "k_9": 486,
                  "k_8": 494,
                  "k_7": 478,
                  "k_6": 462,
                  "k_5": 486,
                  "k_4": 576,
                  "k_3": 508,
                  "k_2": 448,
                  "k_1": 457,
                  "_deepnote_index_column": 19691
                },
                {
                  "MONTH": 7,
                  "YEAR": 2017,
                  "zip": 94548,
                  "GHI_raw": "349.78629032258067",
                  "DHI_raw": "52.84139784946237",
                  "DNI_raw": "439.2943548387097",
                  "Wind Speed": "3.777688172043008",
                  "Temperature_raw": 21.51344086021505,
                  "Solar_Zenith_Angle_raw": 74.06052419354836,
                  "k_12": 0,
                  "k_11": 0,
                  "k_10": 0,
                  "k_9": 678,
                  "k_8": 790,
                  "k_7": 1068,
                  "k_6": 0,
                  "k_5": 0,
                  "k_4": 0,
                  "k_3": 1273,
                  "k_2": 1207,
                  "k_1": 981,
                  "_deepnote_index_column": 52160
                },
                {
                  "MONTH": 9,
                  "YEAR": 2017,
                  "zip": 94545,
                  "GHI_raw": "219.35555555555555",
                  "DHI_raw": "68.72361111111111",
                  "DNI_raw": "255.56805555555556",
                  "Wind Speed": "2.1577777777777767",
                  "Temperature_raw": 20.93611111111111,
                  "Solar_Zenith_Angle_raw": 88.09190277777779,
                  "k_12": 447,
                  "k_11": 473,
                  "k_10": 590,
                  "k_9": 581,
                  "k_8": 464,
                  "k_7": 455,
                  "k_6": 417,
                  "k_5": 420,
                  "k_4": 423,
                  "k_3": 436,
                  "k_2": 446,
                  "k_1": 466,
                  "_deepnote_index_column": 40799
                },
                {
                  "MONTH": 2,
                  "YEAR": 2016,
                  "zip": 95065,
                  "GHI_raw": "166.38839285714286",
                  "DHI_raw": "42.919642857142854",
                  "DNI_raw": "261.88988095238096",
                  "Wind Speed": "0.9751488095238084",
                  "Temperature_raw": 12.376488095238097,
                  "Solar_Zenith_Angle_raw": 99.6361904761906,
                  "k_12": 530,
                  "k_11": 532,
                  "k_10": 506,
                  "k_9": 506,
                  "k_8": 446,
                  "k_7": 454,
                  "k_6": 463,
                  "k_5": 457,
                  "k_4": 488,
                  "k_3": 612,
                  "k_2": 731,
                  "k_1": 678,
                  "_deepnote_index_column": 45662
                },
                {
                  "MONTH": 12,
                  "YEAR": 2019,
                  "zip": 94612,
                  "GHI_raw": "74.18010752688173",
                  "DHI_raw": "32.513440860215056",
                  "DNI_raw": "116.68682795698925",
                  "Wind Speed": "2.409005376344085",
                  "Temperature_raw": 11.286962365591398,
                  "Solar_Zenith_Angle_raw": 107.31313172043006,
                  "k_12": 372,
                  "k_11": 378,
                  "k_10": 382,
                  "k_9": 338,
                  "k_8": 2401,
                  "k_7": 1568,
                  "k_6": 260,
                  "k_5": 263,
                  "k_4": 268,
                  "k_3": 260,
                  "k_2": 261,
                  "k_1": 297,
                  "_deepnote_index_column": 86773
                },
                {
                  "MONTH": 10,
                  "YEAR": 2016,
                  "zip": 94107,
                  "GHI_raw": "148.0483870967742",
                  "DHI_raw": "47.51209677419355",
                  "DNI_raw": "200.73387096774192",
                  "Wind Speed": "2.0556451612903226",
                  "Temperature_raw": 15.922043010752688,
                  "Solar_Zenith_Angle_raw": 97.04956989247304,
                  "k_12": 292,
                  "k_11": 334,
                  "k_10": 417,
                  "k_9": 418,
                  "k_8": 309,
                  "k_7": 321,
                  "k_6": 282,
                  "k_5": 284,
                  "k_4": 266,
                  "k_3": 273,
                  "k_2": 276,
                  "k_1": 273,
                  "_deepnote_index_column": 7969
                },
                {
                  "MONTH": 4,
                  "YEAR": 2018,
                  "zip": 94002,
                  "GHI_raw": "255.01527777777778",
                  "DHI_raw": "75.4125",
                  "DNI_raw": "275.0652777777778",
                  "Wind Speed": "3.7051388888888885",
                  "Temperature_raw": 13.07305555555554,
                  "Solar_Zenith_Angle_raw": 82.29919444444438,
                  "k_12": 367,
                  "k_11": 360,
                  "k_10": 365,
                  "k_9": 375,
                  "k_8": 399,
                  "k_7": 399,
                  "k_6": 389,
                  "k_5": 419,
                  "k_4": 502,
                  "k_3": 477,
                  "k_2": 401,
                  "k_1": 435,
                  "_deepnote_index_column": 101236
                },
                {
                  "MONTH": 2,
                  "YEAR": 2013,
                  "zip": 94550,
                  "GHI_raw": "162.67113095238096",
                  "DHI_raw": "39.302083333333336",
                  "DNI_raw": "261.0684523809524",
                  "Wind Speed": "1.562351190476193",
                  "Temperature_raw": 7.650297619047619,
                  "Solar_Zenith_Angle_raw": 99.53282738095244,
                  "k_12": 699,
                  "k_11": 624,
                  "k_10": 520,
                  "k_9": 530,
                  "k_8": 729,
                  "k_7": 838,
                  "k_6": 867,
                  "k_5": 658,
                  "k_4": 538,
                  "k_3": 609,
                  "k_2": 755,
                  "k_1": 700,
                  "_deepnote_index_column": 128722
                },
                {
                  "MONTH": 7,
                  "YEAR": 2016,
                  "zip": 94568,
                  "GHI_raw": "348.2123655913978",
                  "DHI_raw": "52.060483870967744",
                  "DNI_raw": "432.9045698924731",
                  "Wind Speed": "2.9663978494623624",
                  "Temperature_raw": 18.37768817204301,
                  "Solar_Zenith_Angle_raw": 74.1425672043011,
                  "k_12": 539,
                  "k_11": 550,
                  "k_10": 547,
                  "k_9": 478,
                  "k_8": 480,
                  "k_7": 562,
                  "k_6": 517,
                  "k_5": 421,
                  "k_4": 434,
                  "k_3": 395,
                  "k_2": 429,
                  "k_1": 510,
                  "_deepnote_index_column": 82900
                },
                {
                  "MONTH": 2,
                  "YEAR": 2016,
                  "zip": 94038,
                  "GHI_raw": "161.7529761904762",
                  "DHI_raw": "43.92261904761905",
                  "DNI_raw": "253.03720238095238",
                  "Wind Speed": "2.9386904761904766",
                  "Temperature_raw": 12.886904761904765,
                  "Solar_Zenith_Angle_raw": 99.70375000000004,
                  "k_12": 516,
                  "k_11": 528,
                  "k_10": 499,
                  "k_9": 521,
                  "k_8": 464,
                  "k_7": 452,
                  "k_6": 451,
                  "k_5": 448,
                  "k_4": 480,
                  "k_3": 578,
                  "k_2": 712,
                  "k_1": 653,
                  "_deepnote_index_column": 50054
                }
              ],
              "rows_bottom": null
            },
            "text/plain": "        MONTH  YEAR    zip             GHI_raw             DHI_raw  \\\nindex                                                                \n19691       4  2014  94547            267.1625   71.84166666666667   \n52160       7  2017  94548  349.78629032258067   52.84139784946237   \n40799       9  2017  94545  219.35555555555555   68.72361111111111   \n45662       2  2016  95065  166.38839285714286  42.919642857142854   \n86773      12  2019  94612   74.18010752688173  32.513440860215056   \n7969       10  2016  94107   148.0483870967742   47.51209677419355   \n101236      4  2018  94002  255.01527777777778             75.4125   \n128722      2  2013  94550  162.67113095238096  39.302083333333336   \n82900       7  2016  94568   348.2123655913978  52.060483870967744   \n50054       2  2016  94038   161.7529761904762   43.92261904761905   \n\n                   DNI_raw          Wind Speed  Temperature_raw  \\\nindex                                                             \n19691   297.24861111111113   2.219722222222223        13.443056   \n52160    439.2943548387097   3.777688172043008        21.513441   \n40799   255.56805555555556  2.1577777777777767        20.936111   \n45662   261.88988095238096  0.9751488095238084        12.376488   \n86773   116.68682795698925   2.409005376344085        11.286962   \n7969    200.73387096774192  2.0556451612903226        15.922043   \n101236   275.0652777777778  3.7051388888888885        13.073056   \n128722   261.0684523809524   1.562351190476193         7.650298   \n82900    432.9045698924731  2.9663978494623624        18.377688   \n50054   253.03720238095238  2.9386904761904766        12.886905   \n\n        Solar_Zenith_Angle_raw  k_12  ...  k_10  k_9   k_8   k_7  k_6  k_5  \\\nindex                                 ...                                    \n19691                82.282306   447  ...   491  486   494   478  462  486   \n52160                74.060524     0  ...     0  678   790  1068    0    0   \n40799                88.091903   447  ...   590  581   464   455  417  420   \n45662                99.636190   530  ...   506  506   446   454  463  457   \n86773               107.313132   372  ...   382  338  2401  1568  260  263   \n7969                 97.049570   292  ...   417  418   309   321  282  284   \n101236               82.299194   367  ...   365  375   399   399  389  419   \n128722               99.532827   699  ...   520  530   729   838  867  658   \n82900                74.142567   539  ...   547  478   480   562  517  421   \n50054                99.703750   516  ...   499  521   464   452  451  448   \n\n        k_4   k_3   k_2  k_1  \nindex                         \n19691   576   508   448  457  \n52160     0  1273  1207  981  \n40799   423   436   446  466  \n45662   488   612   731  678  \n86773   268   260   261  297  \n7969    266   273   276  273  \n101236  502   477   401  435  \n128722  538   609   755  700  \n82900   434   395   429  510  \n50054   480   578   712  653  \n\n[10 rows x 21 columns]",
            "text/html": "<div>\n<style scoped>\n    .dataframe tbody tr th:only-of-type {\n        vertical-align: middle;\n    }\n\n    .dataframe tbody tr th {\n        vertical-align: top;\n    }\n\n    .dataframe thead th {\n        text-align: right;\n    }\n</style>\n<table border=\"1\" class=\"dataframe\">\n  <thead>\n    <tr style=\"text-align: right;\">\n      <th></th>\n      <th>MONTH</th>\n      <th>YEAR</th>\n      <th>zip</th>\n      <th>GHI_raw</th>\n      <th>DHI_raw</th>\n      <th>DNI_raw</th>\n      <th>Wind Speed</th>\n      <th>Temperature_raw</th>\n      <th>Solar_Zenith_Angle_raw</th>\n      <th>k_12</th>\n      <th>...</th>\n      <th>k_10</th>\n      <th>k_9</th>\n      <th>k_8</th>\n      <th>k_7</th>\n      <th>k_6</th>\n      <th>k_5</th>\n      <th>k_4</th>\n      <th>k_3</th>\n      <th>k_2</th>\n      <th>k_1</th>\n    </tr>\n    <tr>\n      <th>index</th>\n      <th></th>\n      <th></th>\n      <th></th>\n      <th></th>\n      <th></th>\n      <th></th>\n      <th></th>\n      <th></th>\n      <th></th>\n      <th></th>\n      <th></th>\n      <th></th>\n      <th></th>\n      <th></th>\n      <th></th>\n      <th></th>\n      <th></th>\n      <th></th>\n      <th></th>\n      <th></th>\n      <th></th>\n    </tr>\n  </thead>\n  <tbody>\n    <tr>\n      <th>19691</th>\n      <td>4</td>\n      <td>2014</td>\n      <td>94547</td>\n      <td>267.1625</td>\n      <td>71.84166666666667</td>\n      <td>297.24861111111113</td>\n      <td>2.219722222222223</td>\n      <td>13.443056</td>\n      <td>82.282306</td>\n      <td>447</td>\n      <td>...</td>\n      <td>491</td>\n      <td>486</td>\n      <td>494</td>\n      <td>478</td>\n      <td>462</td>\n      <td>486</td>\n      <td>576</td>\n      <td>508</td>\n      <td>448</td>\n      <td>457</td>\n    </tr>\n    <tr>\n      <th>52160</th>\n      <td>7</td>\n      <td>2017</td>\n      <td>94548</td>\n      <td>349.78629032258067</td>\n      <td>52.84139784946237</td>\n      <td>439.2943548387097</td>\n      <td>3.777688172043008</td>\n      <td>21.513441</td>\n      <td>74.060524</td>\n      <td>0</td>\n      <td>...</td>\n      <td>0</td>\n      <td>678</td>\n      <td>790</td>\n      <td>1068</td>\n      <td>0</td>\n      <td>0</td>\n      <td>0</td>\n      <td>1273</td>\n      <td>1207</td>\n      <td>981</td>\n    </tr>\n    <tr>\n      <th>40799</th>\n      <td>9</td>\n      <td>2017</td>\n      <td>94545</td>\n      <td>219.35555555555555</td>\n      <td>68.72361111111111</td>\n      <td>255.56805555555556</td>\n      <td>2.1577777777777767</td>\n      <td>20.936111</td>\n      <td>88.091903</td>\n      <td>447</td>\n      <td>...</td>\n      <td>590</td>\n      <td>581</td>\n      <td>464</td>\n      <td>455</td>\n      <td>417</td>\n      <td>420</td>\n      <td>423</td>\n      <td>436</td>\n      <td>446</td>\n      <td>466</td>\n    </tr>\n    <tr>\n      <th>45662</th>\n      <td>2</td>\n      <td>2016</td>\n      <td>95065</td>\n      <td>166.38839285714286</td>\n      <td>42.919642857142854</td>\n      <td>261.88988095238096</td>\n      <td>0.9751488095238084</td>\n      <td>12.376488</td>\n      <td>99.636190</td>\n      <td>530</td>\n      <td>...</td>\n      <td>506</td>\n      <td>506</td>\n      <td>446</td>\n      <td>454</td>\n      <td>463</td>\n      <td>457</td>\n      <td>488</td>\n      <td>612</td>\n      <td>731</td>\n      <td>678</td>\n    </tr>\n    <tr>\n      <th>86773</th>\n      <td>12</td>\n      <td>2019</td>\n      <td>94612</td>\n      <td>74.18010752688173</td>\n      <td>32.513440860215056</td>\n      <td>116.68682795698925</td>\n      <td>2.409005376344085</td>\n      <td>11.286962</td>\n      <td>107.313132</td>\n      <td>372</td>\n      <td>...</td>\n      <td>382</td>\n      <td>338</td>\n      <td>2401</td>\n      <td>1568</td>\n      <td>260</td>\n      <td>263</td>\n      <td>268</td>\n      <td>260</td>\n      <td>261</td>\n      <td>297</td>\n    </tr>\n    <tr>\n      <th>7969</th>\n      <td>10</td>\n      <td>2016</td>\n      <td>94107</td>\n      <td>148.0483870967742</td>\n      <td>47.51209677419355</td>\n      <td>200.73387096774192</td>\n      <td>2.0556451612903226</td>\n      <td>15.922043</td>\n      <td>97.049570</td>\n      <td>292</td>\n      <td>...</td>\n      <td>417</td>\n      <td>418</td>\n      <td>309</td>\n      <td>321</td>\n      <td>282</td>\n      <td>284</td>\n      <td>266</td>\n      <td>273</td>\n      <td>276</td>\n      <td>273</td>\n    </tr>\n    <tr>\n      <th>101236</th>\n      <td>4</td>\n      <td>2018</td>\n      <td>94002</td>\n      <td>255.01527777777778</td>\n      <td>75.4125</td>\n      <td>275.0652777777778</td>\n      <td>3.7051388888888885</td>\n      <td>13.073056</td>\n      <td>82.299194</td>\n      <td>367</td>\n      <td>...</td>\n      <td>365</td>\n      <td>375</td>\n      <td>399</td>\n      <td>399</td>\n      <td>389</td>\n      <td>419</td>\n      <td>502</td>\n      <td>477</td>\n      <td>401</td>\n      <td>435</td>\n    </tr>\n    <tr>\n      <th>128722</th>\n      <td>2</td>\n      <td>2013</td>\n      <td>94550</td>\n      <td>162.67113095238096</td>\n      <td>39.302083333333336</td>\n      <td>261.0684523809524</td>\n      <td>1.562351190476193</td>\n      <td>7.650298</td>\n      <td>99.532827</td>\n      <td>699</td>\n      <td>...</td>\n      <td>520</td>\n      <td>530</td>\n      <td>729</td>\n      <td>838</td>\n      <td>867</td>\n      <td>658</td>\n      <td>538</td>\n      <td>609</td>\n      <td>755</td>\n      <td>700</td>\n    </tr>\n    <tr>\n      <th>82900</th>\n      <td>7</td>\n      <td>2016</td>\n      <td>94568</td>\n      <td>348.2123655913978</td>\n      <td>52.060483870967744</td>\n      <td>432.9045698924731</td>\n      <td>2.9663978494623624</td>\n      <td>18.377688</td>\n      <td>74.142567</td>\n      <td>539</td>\n      <td>...</td>\n      <td>547</td>\n      <td>478</td>\n      <td>480</td>\n      <td>562</td>\n      <td>517</td>\n      <td>421</td>\n      <td>434</td>\n      <td>395</td>\n      <td>429</td>\n      <td>510</td>\n    </tr>\n    <tr>\n      <th>50054</th>\n      <td>2</td>\n      <td>2016</td>\n      <td>94038</td>\n      <td>161.7529761904762</td>\n      <td>43.92261904761905</td>\n      <td>253.03720238095238</td>\n      <td>2.9386904761904766</td>\n      <td>12.886905</td>\n      <td>99.703750</td>\n      <td>516</td>\n      <td>...</td>\n      <td>499</td>\n      <td>521</td>\n      <td>464</td>\n      <td>452</td>\n      <td>451</td>\n      <td>448</td>\n      <td>480</td>\n      <td>578</td>\n      <td>712</td>\n      <td>653</td>\n    </tr>\n  </tbody>\n</table>\n<p>10 rows × 21 columns</p>\n</div>"
          },
          "metadata": {}
        }
      ]
    },
    {
      "cell_type": "markdown",
      "source": "### Simple Linear Regression\n\n$$ \\hat{\\vec{y}} = \\hat{\\vec\\beta}*\\vec{x}$$\n\nCoefficients in $ \\hat{\\vec\\beta}$  are simply scalars that are fit to the best-fit line. That is, simply solving least squares\n\n$$ \\hat{\\vec\\beta} = (X^TX)^{-1}X^TY$$\n",
      "metadata": {
        "tags": [],
        "cell_id": "00047-dc20c931-c587-4533-b82b-d4d19c0aa789",
        "deepnote_cell_type": "markdown"
      }
    },
    {
      "cell_type": "markdown",
      "source": "",
      "metadata": {
        "tags": [],
        "cell_id": "00048-89ba0f3b-59be-446d-9e55-c134fcceaebf",
        "deepnote_cell_type": "markdown"
      }
    },
    {
      "cell_type": "code",
      "metadata": {
        "tags": [],
        "deepnote_to_be_reexecuted": false,
        "source_hash": "870a2a95",
        "execution_millis": 290,
        "execution_start": 1618697498667,
        "cell_id": "00049-52bcb9d3-d6e5-4a78-83c6-884dc22a8ca7",
        "deepnote_cell_type": "code"
      },
      "source": "lm = LinearRegression() #linear regression\nlm.fit(X_train, y_train)\n\n## apply model to training data\nlm_train_pred = lm.predict(X_train)\nlm_train_mse = mean_squared_error(y_true=y_train, y_pred=lm_train_pred)\n\n## apply model to test data\nlm_test_pred = lm.predict(X_val)\nlm_test_mse = mean_squared_error(y_true=y_val, y_pred=lm_test_pred)\nprint(\"Training MSE\", lm_train_mse)\nprint(\"Testing MSE\", lm_test_mse)",
      "execution_count": null,
      "outputs": [
        {
          "name": "stdout",
          "text": "Training MSE 7115.622835917434\nTesting MSE 7186.677035610138\n",
          "output_type": "stream"
        }
      ]
    },
    {
      "cell_type": "code",
      "metadata": {
        "tags": [],
        "deepnote_to_be_reexecuted": false,
        "source_hash": "31180f39",
        "execution_millis": 166,
        "execution_start": 1618697505529,
        "cell_id": "00050-281bfeb2-9069-4061-8369-202a98aef39e",
        "deepnote_cell_type": "code"
      },
      "source": "plt.scatter(y_train, lm_train_pred)",
      "execution_count": null,
      "outputs": [
        {
          "output_type": "execute_result",
          "execution_count": 194,
          "data": {
            "text/plain": "<matplotlib.collections.PathCollection at 0x7ff6460a8710>"
          },
          "metadata": {}
        },
        {
          "data": {
            "text/plain": "<Figure size 432x288 with 1 Axes>",
            "image/png": "[encoded data removed]"
          },
          "metadata": {
            "needs_background": "light"
          },
          "output_type": "display_data"
        }
      ]
    },
    {
      "cell_type": "code",
      "metadata": {
        "tags": [],
        "deepnote_to_be_reexecuted": false,
        "source_hash": "1966dfcd",
        "execution_millis": 485,
        "execution_start": 1618697512184,
        "cell_id": "00051-9e56a56c-bec7-4a49-b673-7c1dfc141e2b",
        "deepnote_cell_type": "code"
      },
      "source": "plt.scatter(y_val, lm_test_pred-y_val)",
      "execution_count": null,
      "outputs": [
        {
          "output_type": "execute_result",
          "execution_count": 195,
          "data": {
            "text/plain": "<matplotlib.collections.PathCollection at 0x7ff646071690>"
          },
          "metadata": {}
        },
        {
          "data": {
            "text/plain": "<Figure size 432x288 with 1 Axes>",
            "image/png": "[encoded data removed]"
          },
          "metadata": {
            "needs_background": "light"
          },
          "output_type": "display_data"
        }
      ]
    },
    {
      "cell_type": "code",
      "metadata": {
        "tags": [],
        "deepnote_to_be_reexecuted": false,
        "source_hash": "732975c1",
        "execution_millis": 154,
        "execution_start": 1618697517747,
        "cell_id": "00052-249177d7-4975-4bba-afba-6d8d9ff97665",
        "deepnote_cell_type": "code"
      },
      "source": "plt.scatter(y_train, lm_train_pred-y_train)",
      "execution_count": null,
      "outputs": [
        {
          "output_type": "execute_result",
          "execution_count": 196,
          "data": {
            "text/plain": "<matplotlib.collections.PathCollection at 0x7ff645fcb710>"
          },
          "metadata": {}
        },
        {
          "data": {
            "text/plain": "<Figure size 432x288 with 1 Axes>",
            "image/png": "[encoded data removed]"
          },
          "metadata": {
            "needs_background": "light"
          },
          "output_type": "display_data"
        }
      ]
    },
    {
      "cell_type": "code",
      "metadata": {
        "tags": [],
        "deepnote_to_be_reexecuted": true,
        "source_hash": "b623e53d",
        "execution_millis": 4,
        "cell_id": "00053-e3fffeb1-018b-4934-a80a-f105dd070761",
        "deepnote_cell_type": "code"
      },
      "source": "",
      "execution_count": null,
      "outputs": []
    },
    {
      "cell_type": "code",
      "metadata": {
        "tags": [],
        "deepnote_to_be_reexecuted": false,
        "source_hash": "82cf6b81",
        "execution_millis": 35084,
        "execution_start": 1618697907427,
        "cell_id": "00054-b5a2b065-d1ab-446d-8351-b3885ce2c1f0",
        "deepnote_cell_type": "code"
      },
      "source": "svr_regr = svm.SVR() #vector regression\nsvr_regr.fit(X_train, y_train)",
      "execution_count": null,
      "outputs": [
        {
          "output_type": "execute_result",
          "execution_count": 197,
          "data": {
            "text/plain": "SVR()"
          },
          "metadata": {}
        }
      ]
    },
    {
      "cell_type": "code",
      "metadata": {
        "tags": [],
        "deepnote_to_be_reexecuted": false,
        "source_hash": "6081c2c5",
        "execution_millis": 41832,
        "execution_start": 1618697947350,
        "cell_id": "00055-6c85b9f8-ca04-48ba-bded-b3a5ad249636",
        "deepnote_cell_type": "code"
      },
      "source": "## apply model to training data\nsvr_train_pred = svr_regr.predict(X_train)\nsvr_train_mse = mean_squared_error(y_true=y_train, y_pred=svr_train_pred)\n\n## apply model to test data\nsvr_test_pred = svr_regr.predict(X_val)\nsvr_test_mse = mean_squared_error(y_true=y_val, y_pred=svr_test_pred)\nprint(\"Training MSE\", svr_train_mse)\nprint(\"Testing MSE\", svr_test_mse)",
      "execution_count": null,
      "outputs": [
        {
          "name": "stdout",
          "text": "Training MSE 62567.08645346371\nTesting MSE 63195.15875780805\n",
          "output_type": "stream"
        }
      ]
    },
    {
      "cell_type": "code",
      "metadata": {
        "tags": [],
        "deepnote_to_be_reexecuted": false,
        "source_hash": "329706ed",
        "execution_millis": 184,
        "execution_start": 1618698005398,
        "cell_id": "00056-30842f54-4fcd-43d6-8ca8-f6d4be41cf37",
        "deepnote_cell_type": "code"
      },
      "source": "plt.scatter(y_train, svr_train_pred)",
      "execution_count": null,
      "outputs": [
        {
          "output_type": "execute_result",
          "execution_count": 199,
          "data": {
            "text/plain": "<matplotlib.collections.PathCollection at 0x7ff645f448d0>"
          },
          "metadata": {}
        },
        {
          "data": {
            "text/plain": "<Figure size 432x288 with 1 Axes>",
            "image/png": "[encoded data removed]"
          },
          "metadata": {
            "needs_background": "light"
          },
          "output_type": "display_data"
        }
      ]
    },
    {
      "cell_type": "code",
      "metadata": {
        "tags": [],
        "deepnote_to_be_reexecuted": true,
        "source_hash": "b623e53d",
        "execution_millis": 5,
        "cell_id": "00057-f6d9458c-a36b-4891-b5b2-b8e785ba1763",
        "deepnote_cell_type": "code"
      },
      "source": "",
      "execution_count": null,
      "outputs": []
    },
    {
      "cell_type": "markdown",
      "source": "### Decision Tree Regression Model",
      "metadata": {
        "tags": [],
        "cell_id": "00058-ebee1dcf-d8f3-48fb-820c-a0890a63a7c5",
        "deepnote_cell_type": "markdown"
      }
    },
    {
      "cell_type": "code",
      "metadata": {
        "tags": [],
        "deepnote_to_be_reexecuted": true,
        "source_hash": "7c234d23",
        "execution_millis": 69,
        "cell_id": "00059-6e7991fd-746e-49ab-b403-295627630dbd",
        "deepnote_cell_type": "code"
      },
      "source": "X_train.head()",
      "execution_count": null,
      "outputs": [
        {
          "output_type": "execute_result",
          "execution_count": 34,
          "data": {
            "application/vnd.deepnote.dataframe.v2+json": {
              "row_count": 5,
              "column_count": 9,
              "columns": [
                {
                  "name": "MONTH",
                  "dtype": "int64",
                  "stats": {
                    "unique_count": 4,
                    "nan_count": 0,
                    "min": "2",
                    "max": "8",
                    "histogram": [
                      {
                        "bin_start": 2,
                        "bin_end": 2.6,
                        "count": 1
                      },
                      {
                        "bin_start": 2.6,
                        "bin_end": 3.2,
                        "count": 2
                      },
                      {
                        "bin_start": 3.2,
                        "bin_end": 3.8,
                        "count": 0
                      },
                      {
                        "bin_start": 3.8,
                        "bin_end": 4.4,
                        "count": 0
                      },
                      {
                        "bin_start": 4.4,
                        "bin_end": 5,
                        "count": 0
                      },
                      {
                        "bin_start": 5,
                        "bin_end": 5.6,
                        "count": 1
                      },
                      {
                        "bin_start": 5.6,
                        "bin_end": 6.2,
                        "count": 0
                      },
                      {
                        "bin_start": 6.2,
                        "bin_end": 6.8,
                        "count": 0
                      },
                      {
                        "bin_start": 6.8,
                        "bin_end": 7.3999999999999995,
                        "count": 0
                      },
                      {
                        "bin_start": 7.3999999999999995,
                        "bin_end": 8,
                        "count": 1
                      }
                    ]
                  }
                },
                {
                  "name": "YEAR",
                  "dtype": "int64",
                  "stats": {
                    "unique_count": 5,
                    "nan_count": 0,
                    "min": "2013",
                    "max": "2019",
                    "histogram": [
                      {
                        "bin_start": 2013,
                        "bin_end": 2013.6,
                        "count": 1
                      },
                      {
                        "bin_start": 2013.6,
                        "bin_end": 2014.2,
                        "count": 0
                      },
                      {
                        "bin_start": 2014.2,
                        "bin_end": 2014.8,
                        "count": 0
                      },
                      {
                        "bin_start": 2014.8,
                        "bin_end": 2015.4,
                        "count": 1
                      },
                      {
                        "bin_start": 2015.4,
                        "bin_end": 2016,
                        "count": 0
                      },
                      {
                        "bin_start": 2016,
                        "bin_end": 2016.6,
                        "count": 1
                      },
                      {
                        "bin_start": 2016.6,
                        "bin_end": 2017.2,
                        "count": 0
                      },
                      {
                        "bin_start": 2017.2,
                        "bin_end": 2017.8,
                        "count": 0
                      },
                      {
                        "bin_start": 2017.8,
                        "bin_end": 2018.4,
                        "count": 1
                      },
                      {
                        "bin_start": 2018.4,
                        "bin_end": 2019,
                        "count": 1
                      }
                    ]
                  }
                },
                {
                  "name": "zip",
                  "dtype": "int64",
                  "stats": {
                    "unique_count": 5,
                    "nan_count": 0,
                    "min": "94038",
                    "max": "95041",
                    "histogram": [
                      {
                        "bin_start": 94038,
                        "bin_end": 94138.3,
                        "count": 1
                      },
                      {
                        "bin_start": 94138.3,
                        "bin_end": 94238.6,
                        "count": 0
                      },
                      {
                        "bin_start": 94238.6,
                        "bin_end": 94338.9,
                        "count": 0
                      },
                      {
                        "bin_start": 94338.9,
                        "bin_end": 94439.2,
                        "count": 0
                      },
                      {
                        "bin_start": 94439.2,
                        "bin_end": 94539.5,
                        "count": 0
                      },
                      {
                        "bin_start": 94539.5,
                        "bin_end": 94639.8,
                        "count": 1
                      },
                      {
                        "bin_start": 94639.8,
                        "bin_end": 94740.1,
                        "count": 0
                      },
                      {
                        "bin_start": 94740.1,
                        "bin_end": 94840.4,
                        "count": 0
                      },
                      {
                        "bin_start": 94840.4,
                        "bin_end": 94940.7,
                        "count": 1
                      },
                      {
                        "bin_start": 94940.7,
                        "bin_end": 95041,
                        "count": 2
                      }
                    ]
                  }
                },
                {
                  "name": "GHI_raw",
                  "dtype": "object",
                  "stats": {
                    "unique_count": 5,
                    "nan_count": 0,
                    "categories": [
                      {
                        "name": "310.8225806451613",
                        "count": 1
                      },
                      {
                        "name": "169.7701612903226",
                        "count": 1
                      },
                      {
                        "name": "3 others",
                        "count": 3
                      }
                    ]
                  }
                },
                {
                  "name": "DHI_raw",
                  "dtype": "object",
                  "stats": {
                    "unique_count": 5,
                    "nan_count": 0,
                    "categories": [
                      {
                        "name": "52.57258064516129",
                        "count": 1
                      },
                      {
                        "name": "59.166666666666664",
                        "count": 1
                      },
                      {
                        "name": "3 others",
                        "count": 3
                      }
                    ]
                  }
                },
                {
                  "name": "DNI_raw",
                  "dtype": "object",
                  "stats": {
                    "unique_count": 5,
                    "nan_count": 0,
                    "categories": [
                      {
                        "name": "390.7110215053763",
                        "count": 1
                      },
                      {
                        "name": "192.32930107526883",
                        "count": 1
                      },
                      {
                        "name": "3 others",
                        "count": 3
                      }
                    ]
                  }
                },
                {
                  "name": "Wind Speed",
                  "dtype": "object",
                  "stats": {
                    "unique_count": 5,
                    "nan_count": 0,
                    "categories": [
                      {
                        "name": "3.478360215053763",
                        "count": 1
                      },
                      {
                        "name": "4.809543010752688",
                        "count": 1
                      },
                      {
                        "name": "3 others",
                        "count": 3
                      }
                    ]
                  }
                },
                {
                  "name": "Temperature_raw",
                  "dtype": "float64",
                  "stats": {
                    "unique_count": 5,
                    "nan_count": 0,
                    "min": "11.216666666666676",
                    "max": "21.969758064516128",
                    "histogram": [
                      {
                        "bin_start": 11.216666666666676,
                        "bin_end": 12.291975806451621,
                        "count": 2
                      },
                      {
                        "bin_start": 12.291975806451621,
                        "bin_end": 13.367284946236566,
                        "count": 0
                      },
                      {
                        "bin_start": 13.367284946236566,
                        "bin_end": 14.442594086021511,
                        "count": 2
                      },
                      {
                        "bin_start": 14.442594086021511,
                        "bin_end": 15.517903225806457,
                        "count": 0
                      },
                      {
                        "bin_start": 15.517903225806457,
                        "bin_end": 16.593212365591402,
                        "count": 0
                      },
                      {
                        "bin_start": 16.593212365591402,
                        "bin_end": 17.668521505376347,
                        "count": 0
                      },
                      {
                        "bin_start": 17.668521505376347,
                        "bin_end": 18.743830645161292,
                        "count": 0
                      },
                      {
                        "bin_start": 18.743830645161292,
                        "bin_end": 19.819139784946238,
                        "count": 0
                      },
                      {
                        "bin_start": 19.819139784946238,
                        "bin_end": 20.894448924731183,
                        "count": 0
                      },
                      {
                        "bin_start": 20.894448924731183,
                        "bin_end": 21.969758064516128,
                        "count": 1
                      }
                    ]
                  }
                },
                {
                  "name": "Solar_Zenith_Angle_raw",
                  "dtype": "float64",
                  "stats": {
                    "unique_count": 5,
                    "nan_count": 0,
                    "min": "75.66157258064513",
                    "max": "99.64183035714277",
                    "histogram": [
                      {
                        "bin_start": 75.66157258064513,
                        "bin_end": 78.05959835829489,
                        "count": 1
                      },
                      {
                        "bin_start": 78.05959835829489,
                        "bin_end": 80.45762413594466,
                        "count": 1
                      },
                      {
                        "bin_start": 80.45762413594466,
                        "bin_end": 82.85564991359442,
                        "count": 0
                      },
                      {
                        "bin_start": 82.85564991359442,
                        "bin_end": 85.25367569124418,
                        "count": 0
                      },
                      {
                        "bin_start": 85.25367569124418,
                        "bin_end": 87.65170146889395,
                        "count": 0
                      },
                      {
                        "bin_start": 87.65170146889395,
                        "bin_end": 90.04972724654371,
                        "count": 0
                      },
                      {
                        "bin_start": 90.04972724654371,
                        "bin_end": 92.44775302419347,
                        "count": 2
                      },
                      {
                        "bin_start": 92.44775302419347,
                        "bin_end": 94.84577880184324,
                        "count": 0
                      },
                      {
                        "bin_start": 94.84577880184324,
                        "bin_end": 97.243804579493,
                        "count": 0
                      },
                      {
                        "bin_start": 97.243804579493,
                        "bin_end": 99.64183035714277,
                        "count": 1
                      }
                    ]
                  }
                },
                {
                  "name": "_deepnote_index_column",
                  "dtype": "int64"
                }
              ],
              "rows_top": [
                {
                  "MONTH": 8,
                  "YEAR": 2019,
                  "zip": 94553,
                  "GHI_raw": "310.8225806451613",
                  "DHI_raw": "52.57258064516129",
                  "DNI_raw": "390.7110215053763",
                  "Wind Speed": "3.478360215053763",
                  "Temperature_raw": 21.969758064516128,
                  "Solar_Zenith_Angle_raw": 79.63051075268824,
                  "_deepnote_index_column": 73651
                },
                {
                  "MONTH": 3,
                  "YEAR": 2016,
                  "zip": 94940,
                  "GHI_raw": "169.7701612903226",
                  "DHI_raw": "59.166666666666664",
                  "DNI_raw": "192.32930107526883",
                  "Wind Speed": "4.809543010752688",
                  "Temperature_raw": 12.182795698924732,
                  "Solar_Zenith_Angle_raw": 91.02952956989245,
                  "_deepnote_index_column": 105904
                },
                {
                  "MONTH": 5,
                  "YEAR": 2013,
                  "zip": 95041,
                  "GHI_raw": "319.7204301075269",
                  "DHI_raw": "70.51344086021506",
                  "DNI_raw": "356.9623655913978",
                  "Wind Speed": "1.1791666666666678",
                  "Temperature_raw": 14.376344086021506,
                  "Solar_Zenith_Angle_raw": 75.66157258064513,
                  "_deepnote_index_column": 12682
                },
                {
                  "MONTH": 2,
                  "YEAR": 2015,
                  "zip": 94038,
                  "GHI_raw": "142.48958333333334",
                  "DHI_raw": "42.811011904761905",
                  "DNI_raw": "209.26934523809524",
                  "Wind Speed": "3.3116071428571443",
                  "Temperature_raw": 13.616071428571429,
                  "Solar_Zenith_Angle_raw": 99.64183035714277,
                  "_deepnote_index_column": 50030
                },
                {
                  "MONTH": 3,
                  "YEAR": 2018,
                  "zip": 95017,
                  "GHI_raw": "176.4959677419355",
                  "DHI_raw": "59.86021505376344",
                  "DNI_raw": "205.48924731182797",
                  "Wind Speed": "3.0182795698924756",
                  "Temperature_raw": 11.216666666666676,
                  "Solar_Zenith_Angle_raw": 91.14185483870966,
                  "_deepnote_index_column": 14991
                }
              ],
              "rows_bottom": null
            },
            "text/plain": "        MONTH  YEAR    zip             GHI_raw             DHI_raw  \\\n73651       8  2019  94553   310.8225806451613   52.57258064516129   \n105904      3  2016  94940   169.7701612903226  59.166666666666664   \n12682       5  2013  95041   319.7204301075269   70.51344086021506   \n50030       2  2015  94038  142.48958333333334  42.811011904761905   \n14991       3  2018  95017   176.4959677419355   59.86021505376344   \n\n                   DNI_raw          Wind Speed  Temperature_raw  \\\n73651    390.7110215053763   3.478360215053763        21.969758   \n105904  192.32930107526883   4.809543010752688        12.182796   \n12682    356.9623655913978  1.1791666666666678        14.376344   \n50030   209.26934523809524  3.3116071428571443        13.616071   \n14991   205.48924731182797  3.0182795698924756        11.216667   \n\n        Solar_Zenith_Angle_raw  \n73651                79.630511  \n105904               91.029530  \n12682                75.661573  \n50030                99.641830  \n14991                91.141855  ",
            "text/html": "<div>\n<style scoped>\n    .dataframe tbody tr th:only-of-type {\n        vertical-align: middle;\n    }\n\n    .dataframe tbody tr th {\n        vertical-align: top;\n    }\n\n    .dataframe thead th {\n        text-align: right;\n    }\n</style>\n<table border=\"1\" class=\"dataframe\">\n  <thead>\n    <tr style=\"text-align: right;\">\n      <th></th>\n      <th>MONTH</th>\n      <th>YEAR</th>\n      <th>zip</th>\n      <th>GHI_raw</th>\n      <th>DHI_raw</th>\n      <th>DNI_raw</th>\n      <th>Wind Speed</th>\n      <th>Temperature_raw</th>\n      <th>Solar_Zenith_Angle_raw</th>\n    </tr>\n  </thead>\n  <tbody>\n    <tr>\n      <th>73651</th>\n      <td>8</td>\n      <td>2019</td>\n      <td>94553</td>\n      <td>310.8225806451613</td>\n      <td>52.57258064516129</td>\n      <td>390.7110215053763</td>\n      <td>3.478360215053763</td>\n      <td>21.969758</td>\n      <td>79.630511</td>\n    </tr>\n    <tr>\n      <th>105904</th>\n      <td>3</td>\n      <td>2016</td>\n      <td>94940</td>\n      <td>169.7701612903226</td>\n      <td>59.166666666666664</td>\n      <td>192.32930107526883</td>\n      <td>4.809543010752688</td>\n      <td>12.182796</td>\n      <td>91.029530</td>\n    </tr>\n    <tr>\n      <th>12682</th>\n      <td>5</td>\n      <td>2013</td>\n      <td>95041</td>\n      <td>319.7204301075269</td>\n      <td>70.51344086021506</td>\n      <td>356.9623655913978</td>\n      <td>1.1791666666666678</td>\n      <td>14.376344</td>\n      <td>75.661573</td>\n    </tr>\n    <tr>\n      <th>50030</th>\n      <td>2</td>\n      <td>2015</td>\n      <td>94038</td>\n      <td>142.48958333333334</td>\n      <td>42.811011904761905</td>\n      <td>209.26934523809524</td>\n      <td>3.3116071428571443</td>\n      <td>13.616071</td>\n      <td>99.641830</td>\n    </tr>\n    <tr>\n      <th>14991</th>\n      <td>3</td>\n      <td>2018</td>\n      <td>95017</td>\n      <td>176.4959677419355</td>\n      <td>59.86021505376344</td>\n      <td>205.48924731182797</td>\n      <td>3.0182795698924756</td>\n      <td>11.216667</td>\n      <td>91.141855</td>\n    </tr>\n  </tbody>\n</table>\n</div>"
          },
          "metadata": {}
        }
      ]
    },
    {
      "cell_type": "code",
      "metadata": {
        "tags": [],
        "deepnote_to_be_reexecuted": true,
        "source_hash": "e3dd1a07",
        "execution_millis": 204,
        "cell_id": "00060-254d1199-001b-4752-986c-1ce49805d13a",
        "deepnote_cell_type": "code"
      },
      "source": "dtree = DecisionTreeRegressor(max_depth=8, min_samples_leaf=0.13, random_state=3)\n\ndtree.fit(X_train, y_train)",
      "execution_count": null,
      "outputs": [
        {
          "output_type": "execute_result",
          "execution_count": 35,
          "data": {
            "text/plain": "DecisionTreeRegressor(max_depth=8, min_samples_leaf=0.13, random_state=3)"
          },
          "metadata": {}
        }
      ]
    },
    {
      "cell_type": "code",
      "metadata": {
        "tags": [],
        "deepnote_to_be_reexecuted": true,
        "source_hash": "f14c59e5",
        "execution_millis": 175,
        "cell_id": "00061-7d5aaa40-8044-4350-9e00-b85a1910431e",
        "deepnote_cell_type": "code"
      },
      "source": "## apply model to training data\ndtree_train_pred = dtree.predict(X_train)\ndtree_train_mse = mean_squared_error(y_true=y_train, y_pred=dtree_train_pred)\n\n## apply model to test data\ndtree_test_pred = dtree.predict(X_val)\ndtree_test_mse = mean_squared_error(y_true=y_val, y_pred=dtree_test_pred)\nprint(\"Training MSE\", dtree_train_mse)\nprint(\"Testing MSE\", dtree_test_mse)",
      "execution_count": null,
      "outputs": [
        {
          "name": "stdout",
          "text": "Training MSE 57941.3605849463\nTesting MSE 60557.37234921501\n",
          "output_type": "stream"
        }
      ]
    },
    {
      "cell_type": "code",
      "metadata": {
        "tags": [],
        "deepnote_to_be_reexecuted": true,
        "source_hash": "6e226696",
        "execution_millis": 273,
        "cell_id": "00062-bd2f2b5c-a507-490e-85a2-d4f8f7950acb",
        "deepnote_cell_type": "code"
      },
      "source": "plt.scatter(y_train, dtree_train_pred)",
      "execution_count": null,
      "outputs": [
        {
          "output_type": "execute_result",
          "execution_count": 37,
          "data": {
            "text/plain": "<matplotlib.collections.PathCollection at 0x7fa6d6a59490>"
          },
          "metadata": {}
        },
        {
          "data": {
            "text/plain": "<Figure size 432x288 with 1 Axes>",
            "image/png": "[encoded data removed]"
          },
          "metadata": {
            "needs_background": "light"
          },
          "output_type": "display_data"
        }
      ]
    },
    {
      "cell_type": "code",
      "metadata": {
        "tags": [],
        "deepnote_to_be_reexecuted": true,
        "source_hash": "c924cc91",
        "execution_millis": 6,
        "cell_id": "00063-abf1a15b-3c33-46b1-a735-34b145a8b7d7",
        "deepnote_cell_type": "code"
      },
      "source": "### Standardized SVR",
      "execution_count": null,
      "outputs": []
    },
    {
      "cell_type": "code",
      "metadata": {
        "tags": [],
        "deepnote_to_be_reexecuted": true,
        "source_hash": "eff316e",
        "execution_millis": 59464,
        "cell_id": "00064-31e2a536-7c93-46a6-8bdd-b9d500246456",
        "deepnote_cell_type": "code"
      },
      "source": "pipe = Pipeline([('scaler', StandardScaler()), ('svr', svm.SVR())])\n\npipe.fit(X_train, y_train)",
      "execution_count": null,
      "outputs": [
        {
          "output_type": "execute_result",
          "execution_count": 39,
          "data": {
            "text/plain": "Pipeline(steps=[('scaler', StandardScaler()), ('svr', SVR())])"
          },
          "metadata": {}
        }
      ]
    },
    {
      "cell_type": "code",
      "metadata": {
        "tags": [],
        "deepnote_to_be_reexecuted": true,
        "source_hash": "4de560e7",
        "execution_millis": 15909,
        "cell_id": "00065-3f4b8e40-06bf-418c-be6c-e4cefbdcbcfd",
        "deepnote_cell_type": "code"
      },
      "source": "pipe.score(X_val, y_val)",
      "execution_count": null,
      "outputs": [
        {
          "output_type": "execute_result",
          "execution_count": 40,
          "data": {
            "text/plain": "0.0691449342717636"
          },
          "metadata": {}
        }
      ]
    },
    {
      "cell_type": "code",
      "metadata": {
        "tags": [],
        "deepnote_to_be_reexecuted": true,
        "source_hash": "9ea735ef",
        "execution_millis": 62540,
        "cell_id": "00066-961ba9fe-ca92-49e9-9378-a0097d33d2e9",
        "deepnote_cell_type": "code"
      },
      "source": "pipe.score(X_train, y_train)",
      "execution_count": null,
      "outputs": [
        {
          "output_type": "execute_result",
          "execution_count": 41,
          "data": {
            "text/plain": "0.08866927190156293"
          },
          "metadata": {}
        }
      ]
    },
    {
      "cell_type": "code",
      "metadata": {
        "tags": [],
        "deepnote_to_be_reexecuted": true,
        "source_hash": "b623e53d",
        "execution_millis": 0,
        "cell_id": "00067-451d4c2e-274a-46b1-9ba8-3eba13fc295e",
        "deepnote_cell_type": "code"
      },
      "source": "",
      "execution_count": null,
      "outputs": []
    },
    {
      "cell_type": "code",
      "metadata": {
        "tags": [],
        "deepnote_to_be_reexecuted": true,
        "source_hash": "b623e53d",
        "execution_millis": 1,
        "cell_id": "00068-8886a99f-fbc6-44bc-ab31-609a2a4473c3",
        "deepnote_cell_type": "code"
      },
      "source": "",
      "execution_count": null,
      "outputs": []
    },
    {
      "cell_type": "markdown",
      "source": "<a style='text-decoration:none;line-height:16px;display:flex;color:#5B5B62;padding:10px;justify-content:end;' href='https://deepnote.com?utm_source=created-in-deepnote-cell&projectId=c2f0e727-e6a4-4b2a-b180-a91c3a609ecf' target=\"_blank\">\n<img alt='Created in deepnote.com' style='display:inline;max-height:16px;margin:0px;margin-right:7.5px;' src='data:image/svg+xml;base64,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' > </img>\nCreated in <span style='font-weight:600;margin-left:4px;'>Deepnote</span></a>",
      "metadata": {
        "tags": [],
        "created_in_deepnote_cell": true,
        "deepnote_cell_type": "markdown"
      }
    }
  ],
  "nbformat": 4,
  "nbformat_minor": 2,
  "metadata": {
    "kernelspec": {
      "display_name": "Python 3",
      "language": "python",
      "name": "python3"
    },
    "language_info": {
      "codemirror_mode": {
        "name": "ipython",
        "version": 3
      },
      "file_extension": ".py",
      "mimetype": "text/x-python",
      "name": "python",
      "nbconvert_exporter": "python",
      "pygments_lexer": "ipython3",
      "version": "3.7.3"
    },
    "deepnote_notebook_id": "880037b6-806a-46d4-8e99-7409d0c1c124",
    "deepnote": {},
    "deepnote_execution_queue": []
  }
}