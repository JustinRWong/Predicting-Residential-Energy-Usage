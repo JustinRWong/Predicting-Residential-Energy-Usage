{
  "cells": [
    {
      "cell_type": "code",
      "metadata": {
        "deepnote_to_be_reexecuted": false,
        "source_hash": "16ed7d41",
        "execution_millis": 2367,
        "cell_id": "00000-214f9beb-dfb0-4459-8920-949f16f08042",
        "execution_start": 1619166063900,
        "deepnote_cell_type": "code"
      },
      "source": "import geopandas as gpd\nimport pandas as pd\nimport numpy as np\nimport matplotlib.pyplot as plt\nimport matplotlib.gridspec as gridspec\nfrom ipywidgets import interact, interactive, fixed, interact_manual\nimport ipywidgets as widgets\nimport seaborn as sns\nfrom sklearn.model_selection import train_test_split\n\nfrom scipy.optimize import leastsq\n\nfrom sklearn.linear_model import LinearRegression, Ridge, Lasso\n\nfrom sklearn.metrics import mean_squared_error\nfrom sklearn import svm\nfrom sklearn.tree import DecisionTreeRegressor\nfrom sklearn.neighbors import KNeighborsRegressor\n\nfrom sklearn.preprocessing import StandardScaler\nfrom sklearn.pipeline import Pipeline",
      "outputs": [],
      "execution_count": null
    },
    {
      "cell_type": "code",
      "metadata": {
        "deepnote_to_be_reexecuted": false,
        "source_hash": "6ec522b",
        "execution_millis": 1,
        "cell_id": "00001-2108e552-02ff-452a-b669-7b8fba82087f",
        "execution_start": 1619166136145,
        "deepnote_cell_type": "code"
      },
      "source": "def info(df, head=True):\n    print(\"Type: \", type(df))\n    print(\"Shape: \", df.shape)\n    print(\"Columns: \", df.columns)\n    if head:\n        display(df.head())\n    else:\n        display(df)\n\ndef corr_vis(df, features, meas='AVERAGEKWH_raw'):\n    '''\n    Displays a corrrelation chart for the  specified features in the edf\n    '''\n    ## Create a blank dataframe that calculates all the correlations to TOG\n    vis = pd.DataFrame()\n    vis['feature'] = features\n    vis['spearman'] = [df[f].corr(df[meas], 'spearman') for f in features]\n    #[print(str(features[f]) + \": \" + str(spr['spearman'][f])) for f in range(len(features))]\n    \n    vis = vis.sort_values('spearman')\n    plt.figure(figsize=(6, 0.25*len(features)))\n    ax = sns.barplot(data=vis, y='feature', x='spearman', orient='h')\n    \n    ## Chart design\n    ax.set(xlabel='correlation')\n    ax.set(title='Correlation of all features to {meas}'.format(meas=meas)) \n    return vis",
      "outputs": [],
      "execution_count": null
    },
    {
      "cell_type": "markdown",
      "source": "# Importing GeoDataFrames\n\nCalifornia Counties and Boundarise sourced from https://data.ca.gov/dataset/ca-geographic-boundaries",
      "metadata": {
        "cell_id": "00002-0284bb3a-0097-4829-b31a-b5c75901adf2",
        "deepnote_cell_type": "markdown"
      }
    },
    {
      "cell_type": "code",
      "metadata": {
        "tags": [],
        "deepnote_to_be_reexecuted": false,
        "source_hash": "8fd16d92",
        "execution_millis": 0,
        "cell_id": "00003-712fd86c-19a1-4efa-8a69-a960434e342b",
        "execution_start": 1619166083660,
        "deepnote_cell_type": "code"
      },
      "source": "base = \"/datasets/team-red-residential-energy-consumption/datasets/team-red-residential-energy-consumption/Data/\"",
      "outputs": [],
      "execution_count": null
    },
    {
      "cell_type": "code",
      "metadata": {
        "deepnote_to_be_reexecuted": false,
        "source_hash": "358e5bfc",
        "execution_millis": 12710,
        "cell_id": "00004-961c079e-4cf8-4c37-8482-4a0873fbb224",
        "execution_start": 1619159988232,
        "deepnote_cell_type": "code"
      },
      "source": "cleaned_monthly_with_zip_and_citis_fn = base + \"cleaned_data/all-pge-with-nrel/transformed_pge-energy-consumption-with-nrel-solar_2013-2019_136968x35.shp\"\nzip_cities_monthly_pge_gdf = gpd.read_file(cleaned_monthly_with_zip_and_citis_fn)\n",
      "outputs": [],
      "execution_count": null
    },
    {
      "cell_type": "code",
      "metadata": {
        "deepnote_to_be_reexecuted": false,
        "source_hash": "f56db3a0",
        "execution_millis": 384,
        "cell_id": "00005-50c729ae-5d7b-44eb-8a69-778e7df1e7e8",
        "execution_start": 1619160000952,
        "deepnote_cell_type": "code"
      },
      "source": "rename_mapper ={\n    'TOTALCUSTO': 'TOTALCUSTO_raw',\n    'TOTALKWH_r': 'TOTALKWH_raw',\n    'AVERAGEKWH': 'AVERAGEKWH_raw',\n    'TOTALTHERM': 'TOTALTHERM_raw',\n    'AVERAGETHE': 'AVERAGETHERM_raw',\n    'Temperatur': 'Temperature_raw', \n    'Solar Zeni': 'Solar_Zenith_Angle_raw',\n    'TOTALCUS_1': 'TOTALCUS_std', \n    'TOTALKWH_s': 'TOTALKWH_std', \n    'AVERAGEK_1': 'AVERAGEKWH_std', \n    'TOTALTHE_1': 'TOTALTHERM_std', \n    'AVERAGET_1': 'AVERAGETHERM_std',\n    'Wind Spe_1': 'Wind_Speed_std', \n    'Temperat_1': 'Temperature_std',\n    'Solar Ze_1': 'Solar_Zenith_Angle_std', \n}\nzip_cities_monthly_pge_gdf = zip_cities_monthly_pge_gdf.rename(rename_mapper, axis=1)\nzip_cities_monthly_pge_gdf['Solar_Zenith_Angle_raw'] = pd.to_numeric(zip_cities_monthly_pge_gdf['Solar_Zenith_Angle_raw'])\nzip_cities_monthly_pge_gdf['Temperature_raw'] = pd.to_numeric(zip_cities_monthly_pge_gdf['Temperature_raw'])",
      "outputs": [],
      "execution_count": null
    },
    {
      "cell_type": "code",
      "metadata": {
        "deepnote_to_be_reexecuted": false,
        "source_hash": "81e5bf19",
        "execution_millis": 238,
        "cell_id": "00006-fea1c426-fdb1-41a8-a284-6263aa564b99",
        "execution_start": 1619160001342,
        "deepnote_cell_type": "code"
      },
      "source": "info(zip_cities_monthly_pge_gdf)",
      "outputs": [
        {
          "name": "stdout",
          "text": "Type:  <class 'geopandas.geodataframe.GeoDataFrame'>\nShape:  (136968, 36)\nColumns:  Index(['zip', 'city', 'state', 'latitude', 'longitude', 'timezone', 'dst',\n       'DATE', 'MONTH', 'YEAR', 'DAY', 'CUSTOMERCL', 'COMBINED',\n       'TOTALCUSTO_raw', 'TOTALKWH_raw', 'AVERAGEKWH_raw', 'TOTALTHERM_raw',\n       'AVERAGETHERM_raw', 'GHI_raw', 'DHI_raw', 'DNI_raw', 'Wind Speed',\n       'Temperature_raw', 'Solar_Zenith_Angle_raw', 'TOTALCUS_std',\n       'TOTALKWH_std', 'AVERAGEKWH_std', 'TOTALTHERM_std', 'AVERAGETHERM_std',\n       'GHI_std', 'DHI_std', 'DNI_std', 'Wind_Speed_std', 'Temperature_std',\n       'Solar_Zenith_Angle_std', 'geometry'],\n      dtype='object')\n",
          "output_type": "stream"
        },
        {
          "data": {
            "application/vnd.deepnote.dataframe.v2+json": {
              "error": "Traceback (most recent call last):\n  File \"/shared-libs/code/variable_explorer.py\", line 143, in dataframe_formatter\n    return { MIME_TYPE: describe_pd_dataframe(df) }\n  File \"/shared-libs/code/variable_explorer_helpers.py\", line 154, in describe_pd_dataframe\n    if (is_type_numeric(column.dtype)):\n  File \"/shared-libs/code/variable_explorer_helpers.py\", line 13, in is_type_numeric\n    return np.issubdtype(dtype, np.number)\n  File \"/shared-libs/python3.7/py/lib/python3.7/site-packages/numpy/core/numerictypes.py\", line 388, in issubdtype\n    arg1 = dtype(arg1).type\nTypeError: Cannot interpret '<geopandas.array.GeometryDtype object at 0x7fb2b7e85290>' as a data type\n"
            },
            "text/plain": "     zip      city state   latitude  longitude timezone dst        DATE  \\\n0  95717  Gold Run    CA  39.177026  -120.8451       -8   1  2013-01-01   \n1  95717  Gold Run    CA  39.177026  -120.8451       -8   1  2013-02-01   \n2  95717  Gold Run    CA  39.177026  -120.8451       -8   1  2013-03-01   \n3  95717  Gold Run    CA  39.177026  -120.8451       -8   1  2013-04-01   \n4  95717  Gold Run    CA  39.177026  -120.8451       -8   1  2013-05-01   \n\n   MONTH  YEAR  ...  AVERAGEKWH_std TOTALTHERM_std AVERAGETHERM_std   GHI_std  \\\n0      1  2013  ...       -0.590525       -0.46156        -0.348278 -1.198043   \n1      2  2013  ...       -0.590525       -0.46156        -0.348278 -0.621567   \n2      3  2013  ...       -0.590525       -0.46156        -0.348278 -0.341841   \n3      4  2013  ...       -0.590525       -0.46156        -0.348278  0.639561   \n4      5  2013  ...        0.278279       -0.46156        -0.348278  0.985208   \n\n    DHI_std   DNI_std  Wind_Speed_std  Temperature_std Solar_Zenith_Angle_std  \\\n0 -1.373894 -0.709183       -1.894812        -2.255195               1.283431   \n1 -0.990437 -0.041747       -1.837832        -1.881118               0.787489   \n2  0.775179 -0.762886       -1.841878        -1.193114               0.089457   \n3  0.659686  0.529226       -1.828112        -0.713287              -0.643372   \n4  0.972799  0.807632       -1.802339        -0.107015              -1.200288   \n\n                      geometry  \n0  POINT (-120.84510 39.17703)  \n1  POINT (-120.84510 39.17703)  \n2  POINT (-120.84510 39.17703)  \n3  POINT (-120.84510 39.17703)  \n4  POINT (-120.84510 39.17703)  \n\n[5 rows x 36 columns]",
            "text/html": "<div>\n<style scoped>\n    .dataframe tbody tr th:only-of-type {\n        vertical-align: middle;\n    }\n\n    .dataframe tbody tr th {\n        vertical-align: top;\n    }\n\n    .dataframe thead th {\n        text-align: right;\n    }\n</style>\n<table border=\"1\" class=\"dataframe\">\n  <thead>\n    <tr style=\"text-align: right;\">\n      <th></th>\n      <th>zip</th>\n      <th>city</th>\n      <th>state</th>\n      <th>latitude</th>\n      <th>longitude</th>\n      <th>timezone</th>\n      <th>dst</th>\n      <th>DATE</th>\n      <th>MONTH</th>\n      <th>YEAR</th>\n      <th>...</th>\n      <th>AVERAGEKWH_std</th>\n      <th>TOTALTHERM_std</th>\n      <th>AVERAGETHERM_std</th>\n      <th>GHI_std</th>\n      <th>DHI_std</th>\n      <th>DNI_std</th>\n      <th>Wind_Speed_std</th>\n      <th>Temperature_std</th>\n      <th>Solar_Zenith_Angle_std</th>\n      <th>geometry</th>\n    </tr>\n  </thead>\n  <tbody>\n    <tr>\n      <th>0</th>\n      <td>95717</td>\n      <td>Gold Run</td>\n      <td>CA</td>\n      <td>39.177026</td>\n      <td>-120.8451</td>\n      <td>-8</td>\n      <td>1</td>\n      <td>2013-01-01</td>\n      <td>1</td>\n      <td>2013</td>\n      <td>...</td>\n      <td>-0.590525</td>\n      <td>-0.46156</td>\n      <td>-0.348278</td>\n      <td>-1.198043</td>\n      <td>-1.373894</td>\n      <td>-0.709183</td>\n      <td>-1.894812</td>\n      <td>-2.255195</td>\n      <td>1.283431</td>\n      <td>POINT (-120.84510 39.17703)</td>\n    </tr>\n    <tr>\n      <th>1</th>\n      <td>95717</td>\n      <td>Gold Run</td>\n      <td>CA</td>\n      <td>39.177026</td>\n      <td>-120.8451</td>\n      <td>-8</td>\n      <td>1</td>\n      <td>2013-02-01</td>\n      <td>2</td>\n      <td>2013</td>\n      <td>...</td>\n      <td>-0.590525</td>\n      <td>-0.46156</td>\n      <td>-0.348278</td>\n      <td>-0.621567</td>\n      <td>-0.990437</td>\n      <td>-0.041747</td>\n      <td>-1.837832</td>\n      <td>-1.881118</td>\n      <td>0.787489</td>\n      <td>POINT (-120.84510 39.17703)</td>\n    </tr>\n    <tr>\n      <th>2</th>\n      <td>95717</td>\n      <td>Gold Run</td>\n      <td>CA</td>\n      <td>39.177026</td>\n      <td>-120.8451</td>\n      <td>-8</td>\n      <td>1</td>\n      <td>2013-03-01</td>\n      <td>3</td>\n      <td>2013</td>\n      <td>...</td>\n      <td>-0.590525</td>\n      <td>-0.46156</td>\n      <td>-0.348278</td>\n      <td>-0.341841</td>\n      <td>0.775179</td>\n      <td>-0.762886</td>\n      <td>-1.841878</td>\n      <td>-1.193114</td>\n      <td>0.089457</td>\n      <td>POINT (-120.84510 39.17703)</td>\n    </tr>\n    <tr>\n      <th>3</th>\n      <td>95717</td>\n      <td>Gold Run</td>\n      <td>CA</td>\n      <td>39.177026</td>\n      <td>-120.8451</td>\n      <td>-8</td>\n      <td>1</td>\n      <td>2013-04-01</td>\n      <td>4</td>\n      <td>2013</td>\n      <td>...</td>\n      <td>-0.590525</td>\n      <td>-0.46156</td>\n      <td>-0.348278</td>\n      <td>0.639561</td>\n      <td>0.659686</td>\n      <td>0.529226</td>\n      <td>-1.828112</td>\n      <td>-0.713287</td>\n      <td>-0.643372</td>\n      <td>POINT (-120.84510 39.17703)</td>\n    </tr>\n    <tr>\n      <th>4</th>\n      <td>95717</td>\n      <td>Gold Run</td>\n      <td>CA</td>\n      <td>39.177026</td>\n      <td>-120.8451</td>\n      <td>-8</td>\n      <td>1</td>\n      <td>2013-05-01</td>\n      <td>5</td>\n      <td>2013</td>\n      <td>...</td>\n      <td>0.278279</td>\n      <td>-0.46156</td>\n      <td>-0.348278</td>\n      <td>0.985208</td>\n      <td>0.972799</td>\n      <td>0.807632</td>\n      <td>-1.802339</td>\n      <td>-0.107015</td>\n      <td>-1.200288</td>\n      <td>POINT (-120.84510 39.17703)</td>\n    </tr>\n  </tbody>\n</table>\n<p>5 rows × 36 columns</p>\n</div>"
          },
          "metadata": {},
          "output_type": "display_data"
        }
      ],
      "execution_count": null
    },
    {
      "cell_type": "markdown",
      "source": "### Sanity check geographic plots\n\n#### California should look like California\n\n#### PG&E dataset matches pg&e customers\nPG&E service area reference: https://www.pge.com/mybusiness/customerservice/otherrequests/treetrimming/territory/",
      "metadata": {
        "cell_id": "00007-5db9dbed-a528-4a2f-8ac6-b1a90f166943",
        "deepnote_cell_type": "markdown"
      }
    },
    {
      "cell_type": "markdown",
      "source": "## Overlaying PG&E/NREL in Bay Area Only\n\nBay Area traditionally consists of [9 counties](https://wikitravel.org/en/Bay_Area_(California)).\n\n<img src='https://wikitravel.org/upload/shared//thumb/b/bc/Bayarea_map.png/900px-Bayarea_map.png' style=\"width: 300px;\">\n\n\nWe will define \"Bay Area\" as a box that encloses the following coordinates `(lat, long)`:\n\n- South West corner: `(36.897966, -123.433313)`\n\n- North East corner: `(38.593263, -121.381268)`\n\nWith these coordinates, we'll need to only consider data in the PG&E/NREL dataset that falls within this region.",
      "metadata": {
        "cell_id": "00008-35fe42f1-bb57-45a3-bd73-2995f2afc7b5",
        "deepnote_cell_type": "markdown"
      }
    },
    {
      "cell_type": "code",
      "metadata": {
        "deepnote_to_be_reexecuted": false,
        "source_hash": "38424f68",
        "execution_millis": 5,
        "cell_id": "00009-f24e1604-3336-4380-8765-a070ede0dcc7",
        "execution_start": 1619160007326,
        "deepnote_cell_type": "code"
      },
      "source": "approximate_bay_area_center_lat = 39.5769252\napproximate_bay_area_center_long = -122.2833322\n\n## for subsetting the ca counties\nbay_area_south_west_lat  = 36.897966    ## vertical\nbay_area_south_west_long = -123.433313 ## horizontal\nbay_area_north_east_lat  = 38.593263    ## vertical --> closer to north pole => higher values\nbay_area_north_east_long = -121.381268 ## horizontal --> west long < east long. west is more negative\n\n## for plotting boundaries\nbay_area_limit_south_west_lat  = 36.897966    ## vertical\nbay_area_limit_south_west_long = -123.75 ## horizontal\nbay_area_limit_north_east_lat  = 38.9    ## vertical --> closer to north pole => higher values\nbay_area_limit_north_east_long = -121.2 ## horizontal --> west long < east long. west is more negative\n",
      "outputs": [],
      "execution_count": null
    },
    {
      "cell_type": "markdown",
      "source": "### Filtering Bay Area Only Data\n",
      "metadata": {
        "tags": [],
        "cell_id": "00010-17fdd7b3-0f9f-4743-9741-364698984f09",
        "deepnote_cell_type": "markdown"
      }
    },
    {
      "cell_type": "markdown",
      "source": "#### Boxing the CA Counties Data",
      "metadata": {
        "cell_id": "00011-fef43a32-62ce-474a-bf1e-17ea7e2d26e1",
        "deepnote_cell_type": "markdown"
      }
    },
    {
      "cell_type": "markdown",
      "source": "#### Boxing the PG&E/NREL Data",
      "metadata": {
        "cell_id": "00012-997ed6e0-0c86-47c0-844f-523481484db7",
        "deepnote_cell_type": "markdown"
      }
    },
    {
      "cell_type": "code",
      "metadata": {
        "deepnote_to_be_reexecuted": false,
        "source_hash": "70addfcd",
        "execution_millis": 9,
        "cell_id": "00013-179bf726-942a-48be-94b3-8c94ad5d6d11",
        "execution_start": 1619159153937,
        "deepnote_cell_type": "code"
      },
      "source": "zip_cities_monthly_pge_gdf.columns",
      "outputs": [
        {
          "output_type": "execute_result",
          "execution_count": 8,
          "data": {
            "text/plain": "Index(['zip', 'city', 'state', 'latitude', 'longitude', 'timezone', 'dst',\n       'DATE', 'MONTH', 'YEAR', 'DAY', 'CUSTOMERCL', 'COMBINED',\n       'TOTALCUSTO_raw', 'TOTALKWH_raw', 'AVERAGEKWH_raw', 'TOTALTHERM_raw',\n       'AVERAGETHERM_raw', 'GHI_raw', 'DHI_raw', 'DNI_raw', 'Wind Speed',\n       'Temperature_raw', 'Solar_Zenith_Angle_raw', 'TOTALCUS_std',\n       'TOTALKWH_std', 'AVERAGEKWH_std', 'TOTALTHERM_std', 'AVERAGETHERM_std',\n       'GHI_std', 'DHI_std', 'DNI_std', 'Wind_Speed_std', 'Temperature_std',\n       'Solar_Zenith_Angle_std', 'geometry'],\n      dtype='object')"
          },
          "metadata": {}
        }
      ],
      "execution_count": null
    },
    {
      "cell_type": "code",
      "metadata": {
        "deepnote_to_be_reexecuted": false,
        "source_hash": "5707170a",
        "execution_millis": 179,
        "cell_id": "00014-05128f25-9a36-43f7-81ca-627a5ede1d16",
        "execution_start": 1619160011014,
        "deepnote_cell_type": "code"
      },
      "source": "## subset south west\nbay_area_monthly_pge_nrel = zip_cities_monthly_pge_gdf[ (bay_area_south_west_long <= zip_cities_monthly_pge_gdf['longitude']) & (bay_area_south_west_lat <= zip_cities_monthly_pge_gdf['latitude']) ]\n\n## subst north east\nbay_area_monthly_pge_nrel = bay_area_monthly_pge_nrel[ (bay_area_monthly_pge_nrel['longitude'] <= bay_area_north_east_long) & (bay_area_monthly_pge_nrel['latitude'] <= bay_area_north_east_lat) ]\n",
      "outputs": [],
      "execution_count": null
    },
    {
      "cell_type": "code",
      "metadata": {
        "deepnote_to_be_reexecuted": false,
        "source_hash": "99ac43bd",
        "execution_millis": 1,
        "cell_id": "00015-92c82b3c-23db-4152-8232-2ace693d1420",
        "execution_start": 1619159154181,
        "deepnote_cell_type": "code"
      },
      "source": "## Viewing how many measurements are the box\nbay_area_monthly_pge_nrel.shape",
      "outputs": [
        {
          "output_type": "execute_result",
          "execution_count": 10,
          "data": {
            "text/plain": "(56683, 36)"
          },
          "metadata": {}
        }
      ],
      "execution_count": null
    },
    {
      "cell_type": "code",
      "metadata": {
        "deepnote_to_be_reexecuted": false,
        "source_hash": "37ce86d0",
        "execution_millis": 34,
        "cell_id": "00016-350c27ee-9375-4ba0-819a-bb5391ff3a5a",
        "execution_start": 1619160014384,
        "deepnote_cell_type": "code"
      },
      "source": "bay_area_monthly_pge_nrel.columns\nraw_cols = [\"MONTH\", 'YEAR', 'zip', 'TOTALCUSTO_raw', 'TOTALKWH_raw', 'AVERAGEKWH_raw', 'TOTALTHERM_raw',\n       'AVERAGETHERM_raw', 'GHI_raw', 'DHI_raw', 'DNI_raw', 'Wind Speed',\n       'Temperature_raw', 'Solar_Zenith_Angle_raw']\nbay_area_monthly_pge_nrel_raw = bay_area_monthly_pge_nrel[raw_cols]\nbay_area_monthly_pge_nrel_raw.head()",
      "outputs": [
        {
          "output_type": "execute_result",
          "execution_count": 14,
          "data": {
            "application/vnd.deepnote.dataframe.v2+json": {
              "row_count": 5,
              "column_count": 14,
              "columns": [
                {
                  "name": "MONTH",
                  "dtype": "int64",
                  "stats": {
                    "unique_count": 3,
                    "nan_count": 0,
                    "min": "1",
                    "max": "3",
                    "histogram": [
                      {
                        "bin_start": 1,
                        "bin_end": 1.2,
                        "count": 2
                      },
                      {
                        "bin_start": 1.2,
                        "bin_end": 1.4,
                        "count": 0
                      },
                      {
                        "bin_start": 1.4,
                        "bin_end": 1.6,
                        "count": 0
                      },
                      {
                        "bin_start": 1.6,
                        "bin_end": 1.8,
                        "count": 0
                      },
                      {
                        "bin_start": 1.8,
                        "bin_end": 2,
                        "count": 0
                      },
                      {
                        "bin_start": 2,
                        "bin_end": 2.2,
                        "count": 2
                      },
                      {
                        "bin_start": 2.2,
                        "bin_end": 2.4000000000000004,
                        "count": 0
                      },
                      {
                        "bin_start": 2.4000000000000004,
                        "bin_end": 2.6,
                        "count": 0
                      },
                      {
                        "bin_start": 2.6,
                        "bin_end": 2.8,
                        "count": 0
                      },
                      {
                        "bin_start": 2.8,
                        "bin_end": 3,
                        "count": 1
                      }
                    ]
                  }
                },
                {
                  "name": "YEAR",
                  "dtype": "int64",
                  "stats": {
                    "unique_count": 1,
                    "nan_count": 0,
                    "min": "2013",
                    "max": "2013",
                    "histogram": [
                      {
                        "bin_start": 2012.5,
                        "bin_end": 2012.6,
                        "count": 0
                      },
                      {
                        "bin_start": 2012.6,
                        "bin_end": 2012.7,
                        "count": 0
                      },
                      {
                        "bin_start": 2012.7,
                        "bin_end": 2012.8,
                        "count": 0
                      },
                      {
                        "bin_start": 2012.8,
                        "bin_end": 2012.9,
                        "count": 0
                      },
                      {
                        "bin_start": 2012.9,
                        "bin_end": 2013,
                        "count": 0
                      },
                      {
                        "bin_start": 2013,
                        "bin_end": 2013.1,
                        "count": 5
                      },
                      {
                        "bin_start": 2013.1,
                        "bin_end": 2013.2,
                        "count": 0
                      },
                      {
                        "bin_start": 2013.2,
                        "bin_end": 2013.3,
                        "count": 0
                      },
                      {
                        "bin_start": 2013.3,
                        "bin_end": 2013.4,
                        "count": 0
                      },
                      {
                        "bin_start": 2013.4,
                        "bin_end": 2013.5,
                        "count": 0
                      }
                    ]
                  }
                },
                {
                  "name": "zip",
                  "dtype": "int64",
                  "stats": {
                    "unique_count": 1,
                    "nan_count": 0,
                    "min": "94564",
                    "max": "94564",
                    "histogram": [
                      {
                        "bin_start": 94563.5,
                        "bin_end": 94563.6,
                        "count": 0
                      },
                      {
                        "bin_start": 94563.6,
                        "bin_end": 94563.7,
                        "count": 0
                      },
                      {
                        "bin_start": 94563.7,
                        "bin_end": 94563.8,
                        "count": 0
                      },
                      {
                        "bin_start": 94563.8,
                        "bin_end": 94563.9,
                        "count": 0
                      },
                      {
                        "bin_start": 94563.9,
                        "bin_end": 94564,
                        "count": 0
                      },
                      {
                        "bin_start": 94564,
                        "bin_end": 94564.1,
                        "count": 5
                      },
                      {
                        "bin_start": 94564.1,
                        "bin_end": 94564.2,
                        "count": 0
                      },
                      {
                        "bin_start": 94564.2,
                        "bin_end": 94564.3,
                        "count": 0
                      },
                      {
                        "bin_start": 94564.3,
                        "bin_end": 94564.4,
                        "count": 0
                      },
                      {
                        "bin_start": 94564.4,
                        "bin_end": 94564.5,
                        "count": 0
                      }
                    ]
                  }
                },
                {
                  "name": "TOTALCUSTO_raw",
                  "dtype": "int64",
                  "stats": {
                    "unique_count": 5,
                    "nan_count": 0,
                    "min": "6166",
                    "max": "6727",
                    "histogram": [
                      {
                        "bin_start": 6166,
                        "bin_end": 6222.1,
                        "count": 2
                      },
                      {
                        "bin_start": 6222.1,
                        "bin_end": 6278.2,
                        "count": 0
                      },
                      {
                        "bin_start": 6278.2,
                        "bin_end": 6334.3,
                        "count": 0
                      },
                      {
                        "bin_start": 6334.3,
                        "bin_end": 6390.4,
                        "count": 0
                      },
                      {
                        "bin_start": 6390.4,
                        "bin_end": 6446.5,
                        "count": 0
                      },
                      {
                        "bin_start": 6446.5,
                        "bin_end": 6502.6,
                        "count": 0
                      },
                      {
                        "bin_start": 6502.6,
                        "bin_end": 6558.7,
                        "count": 0
                      },
                      {
                        "bin_start": 6558.7,
                        "bin_end": 6614.8,
                        "count": 0
                      },
                      {
                        "bin_start": 6614.8,
                        "bin_end": 6670.9,
                        "count": 0
                      },
                      {
                        "bin_start": 6670.9,
                        "bin_end": 6727,
                        "count": 3
                      }
                    ]
                  }
                },
                {
                  "name": "TOTALKWH_raw",
                  "dtype": "int64",
                  "stats": {
                    "unique_count": 4,
                    "nan_count": 0,
                    "min": "0",
                    "max": "3787580",
                    "histogram": [
                      {
                        "bin_start": 0,
                        "bin_end": 378758,
                        "count": 2
                      },
                      {
                        "bin_start": 378758,
                        "bin_end": 757516,
                        "count": 0
                      },
                      {
                        "bin_start": 757516,
                        "bin_end": 1136274,
                        "count": 0
                      },
                      {
                        "bin_start": 1136274,
                        "bin_end": 1515032,
                        "count": 0
                      },
                      {
                        "bin_start": 1515032,
                        "bin_end": 1893790,
                        "count": 0
                      },
                      {
                        "bin_start": 1893790,
                        "bin_end": 2272548,
                        "count": 0
                      },
                      {
                        "bin_start": 2272548,
                        "bin_end": 2651306,
                        "count": 0
                      },
                      {
                        "bin_start": 2651306,
                        "bin_end": 3030064,
                        "count": 0
                      },
                      {
                        "bin_start": 3030064,
                        "bin_end": 3408822,
                        "count": 2
                      },
                      {
                        "bin_start": 3408822,
                        "bin_end": 3787580,
                        "count": 1
                      }
                    ]
                  }
                },
                {
                  "name": "AVERAGEKWH_raw",
                  "dtype": "int64",
                  "stats": {
                    "unique_count": 4,
                    "nan_count": 0,
                    "min": "0",
                    "max": "563",
                    "histogram": [
                      {
                        "bin_start": 0,
                        "bin_end": 56.3,
                        "count": 2
                      },
                      {
                        "bin_start": 56.3,
                        "bin_end": 112.6,
                        "count": 0
                      },
                      {
                        "bin_start": 112.6,
                        "bin_end": 168.89999999999998,
                        "count": 0
                      },
                      {
                        "bin_start": 168.89999999999998,
                        "bin_end": 225.2,
                        "count": 0
                      },
                      {
                        "bin_start": 225.2,
                        "bin_end": 281.5,
                        "count": 0
                      },
                      {
                        "bin_start": 281.5,
                        "bin_end": 337.79999999999995,
                        "count": 0
                      },
                      {
                        "bin_start": 337.79999999999995,
                        "bin_end": 394.09999999999997,
                        "count": 0
                      },
                      {
                        "bin_start": 394.09999999999997,
                        "bin_end": 450.4,
                        "count": 0
                      },
                      {
                        "bin_start": 450.4,
                        "bin_end": 506.7,
                        "count": 2
                      },
                      {
                        "bin_start": 506.7,
                        "bin_end": 563,
                        "count": 1
                      }
                    ]
                  }
                },
                {
                  "name": "TOTALTHERM_raw",
                  "dtype": "int64",
                  "stats": {
                    "unique_count": 3,
                    "nan_count": 0,
                    "min": "0",
                    "max": "562494",
                    "histogram": [
                      {
                        "bin_start": 0,
                        "bin_end": 56249.4,
                        "count": 3
                      },
                      {
                        "bin_start": 56249.4,
                        "bin_end": 112498.8,
                        "count": 0
                      },
                      {
                        "bin_start": 112498.8,
                        "bin_end": 168748.2,
                        "count": 0
                      },
                      {
                        "bin_start": 168748.2,
                        "bin_end": 224997.6,
                        "count": 0
                      },
                      {
                        "bin_start": 224997.6,
                        "bin_end": 281247,
                        "count": 0
                      },
                      {
                        "bin_start": 281247,
                        "bin_end": 337496.4,
                        "count": 0
                      },
                      {
                        "bin_start": 337496.4,
                        "bin_end": 393745.8,
                        "count": 1
                      },
                      {
                        "bin_start": 393745.8,
                        "bin_end": 449995.2,
                        "count": 0
                      },
                      {
                        "bin_start": 449995.2,
                        "bin_end": 506244.60000000003,
                        "count": 0
                      },
                      {
                        "bin_start": 506244.60000000003,
                        "bin_end": 562494,
                        "count": 1
                      }
                    ]
                  }
                },
                {
                  "name": "AVERAGETHERM_raw",
                  "dtype": "int64",
                  "stats": {
                    "unique_count": 3,
                    "nan_count": 0,
                    "min": "0",
                    "max": "91",
                    "histogram": [
                      {
                        "bin_start": 0,
                        "bin_end": 9.1,
                        "count": 3
                      },
                      {
                        "bin_start": 9.1,
                        "bin_end": 18.2,
                        "count": 0
                      },
                      {
                        "bin_start": 18.2,
                        "bin_end": 27.299999999999997,
                        "count": 0
                      },
                      {
                        "bin_start": 27.299999999999997,
                        "bin_end": 36.4,
                        "count": 0
                      },
                      {
                        "bin_start": 36.4,
                        "bin_end": 45.5,
                        "count": 0
                      },
                      {
                        "bin_start": 45.5,
                        "bin_end": 54.599999999999994,
                        "count": 0
                      },
                      {
                        "bin_start": 54.599999999999994,
                        "bin_end": 63.699999999999996,
                        "count": 1
                      },
                      {
                        "bin_start": 63.699999999999996,
                        "bin_end": 72.8,
                        "count": 0
                      },
                      {
                        "bin_start": 72.8,
                        "bin_end": 81.89999999999999,
                        "count": 0
                      },
                      {
                        "bin_start": 81.89999999999999,
                        "bin_end": 91,
                        "count": 1
                      }
                    ]
                  }
                },
                {
                  "name": "GHI_raw",
                  "dtype": "object",
                  "stats": {
                    "unique_count": 3,
                    "nan_count": 0,
                    "categories": [
                      {
                        "name": "116.13037634408602",
                        "count": 2
                      },
                      {
                        "name": "162.37946428571428",
                        "count": 2
                      },
                      {
                        "name": "190.54569892473117",
                        "count": 1
                      }
                    ]
                  }
                },
                {
                  "name": "DHI_raw",
                  "dtype": "object",
                  "stats": {
                    "unique_count": 3,
                    "nan_count": 0,
                    "categories": [
                      {
                        "name": "29.18010752688172",
                        "count": 2
                      },
                      {
                        "name": "38.666666666666664",
                        "count": 2
                      },
                      {
                        "name": "70.01209677419355",
                        "count": 1
                      }
                    ]
                  }
                },
                {
                  "name": "DNI_raw",
                  "dtype": "object",
                  "stats": {
                    "unique_count": 3,
                    "nan_count": 0,
                    "categories": [
                      {
                        "name": "222.91935483870967",
                        "count": 2
                      },
                      {
                        "name": "262.79017857142856",
                        "count": 2
                      },
                      {
                        "name": "211.2741935483871",
                        "count": 1
                      }
                    ]
                  }
                },
                {
                  "name": "Wind Speed",
                  "dtype": "object",
                  "stats": {
                    "unique_count": 3,
                    "nan_count": 0,
                    "categories": [
                      {
                        "name": "2.123252688172044",
                        "count": 2
                      },
                      {
                        "name": "2.1078869047619047",
                        "count": 2
                      },
                      {
                        "name": "2.017607526881722",
                        "count": 1
                      }
                    ]
                  }
                },
                {
                  "name": "Temperature_raw",
                  "dtype": "float64",
                  "stats": {
                    "unique_count": 3,
                    "nan_count": 0,
                    "min": "7.276881720430108",
                    "max": "11.189516129032258",
                    "histogram": [
                      {
                        "bin_start": 7.276881720430108,
                        "bin_end": 7.668145161290323,
                        "count": 2
                      },
                      {
                        "bin_start": 7.668145161290323,
                        "bin_end": 8.059408602150539,
                        "count": 0
                      },
                      {
                        "bin_start": 8.059408602150539,
                        "bin_end": 8.450672043010753,
                        "count": 0
                      },
                      {
                        "bin_start": 8.450672043010753,
                        "bin_end": 8.841935483870968,
                        "count": 0
                      },
                      {
                        "bin_start": 8.841935483870968,
                        "bin_end": 9.233198924731184,
                        "count": 2
                      },
                      {
                        "bin_start": 9.233198924731184,
                        "bin_end": 9.624462365591398,
                        "count": 0
                      },
                      {
                        "bin_start": 9.624462365591398,
                        "bin_end": 10.015725806451613,
                        "count": 0
                      },
                      {
                        "bin_start": 10.015725806451613,
                        "bin_end": 10.406989247311827,
                        "count": 0
                      },
                      {
                        "bin_start": 10.406989247311827,
                        "bin_end": 10.798252688172044,
                        "count": 0
                      },
                      {
                        "bin_start": 10.798252688172044,
                        "bin_end": 11.189516129032258,
                        "count": 1
                      }
                    ]
                  }
                },
                {
                  "name": "Solar_Zenith_Angle_raw",
                  "dtype": "float64",
                  "stats": {
                    "unique_count": 3,
                    "nan_count": 0,
                    "min": "91.10997311827974",
                    "max": "105.58174731182795",
                    "histogram": [
                      {
                        "bin_start": 91.10997311827974,
                        "bin_end": 92.55715053763456,
                        "count": 1
                      },
                      {
                        "bin_start": 92.55715053763456,
                        "bin_end": 94.00432795698939,
                        "count": 0
                      },
                      {
                        "bin_start": 94.00432795698939,
                        "bin_end": 95.4515053763442,
                        "count": 0
                      },
                      {
                        "bin_start": 95.4515053763442,
                        "bin_end": 96.89868279569903,
                        "count": 0
                      },
                      {
                        "bin_start": 96.89868279569903,
                        "bin_end": 98.34586021505385,
                        "count": 0
                      },
                      {
                        "bin_start": 98.34586021505385,
                        "bin_end": 99.79303763440868,
                        "count": 2
                      },
                      {
                        "bin_start": 99.79303763440868,
                        "bin_end": 101.24021505376349,
                        "count": 0
                      },
                      {
                        "bin_start": 101.24021505376349,
                        "bin_end": 102.68739247311831,
                        "count": 0
                      },
                      {
                        "bin_start": 102.68739247311831,
                        "bin_end": 104.13456989247314,
                        "count": 0
                      },
                      {
                        "bin_start": 104.13456989247314,
                        "bin_end": 105.58174731182795,
                        "count": 2
                      }
                    ]
                  }
                },
                {
                  "name": "_deepnote_index_column",
                  "dtype": "int64"
                }
              ],
              "rows_top": [
                {
                  "MONTH": 1,
                  "YEAR": 2013,
                  "zip": 94564,
                  "TOTALCUSTO_raw": 6727,
                  "TOTALKWH_raw": 3787580,
                  "AVERAGEKWH_raw": 563,
                  "TOTALTHERM_raw": 0,
                  "AVERAGETHERM_raw": 0,
                  "GHI_raw": "116.13037634408602",
                  "DHI_raw": "29.18010752688172",
                  "DNI_raw": "222.91935483870967",
                  "Wind Speed": "2.123252688172044",
                  "Temperature_raw": 7.276881720430108,
                  "Solar_Zenith_Angle_raw": 105.58174731182795,
                  "_deepnote_index_column": 94
                },
                {
                  "MONTH": 2,
                  "YEAR": 2013,
                  "zip": 94564,
                  "TOTALCUSTO_raw": 6725,
                  "TOTALKWH_raw": 3086143,
                  "AVERAGEKWH_raw": 459,
                  "TOTALTHERM_raw": 0,
                  "AVERAGETHERM_raw": 0,
                  "GHI_raw": "162.37946428571428",
                  "DHI_raw": "38.666666666666664",
                  "DNI_raw": "262.79017857142856",
                  "Wind Speed": "2.1078869047619047",
                  "Temperature_raw": 9.022321428571429,
                  "Solar_Zenith_Angle_raw": 99.57782738095231,
                  "_deepnote_index_column": 95
                },
                {
                  "MONTH": 3,
                  "YEAR": 2013,
                  "zip": 94564,
                  "TOTALCUSTO_raw": 6715,
                  "TOTALKWH_raw": 3091798,
                  "AVERAGEKWH_raw": 460,
                  "TOTALTHERM_raw": 0,
                  "AVERAGETHERM_raw": 0,
                  "GHI_raw": "190.54569892473117",
                  "DHI_raw": "70.01209677419355",
                  "DNI_raw": "211.2741935483871",
                  "Wind Speed": "2.017607526881722",
                  "Temperature_raw": 11.189516129032258,
                  "Solar_Zenith_Angle_raw": 91.10997311827974,
                  "_deepnote_index_column": 96
                },
                {
                  "MONTH": 1,
                  "YEAR": 2013,
                  "zip": 94564,
                  "TOTALCUSTO_raw": 6166,
                  "TOTALKWH_raw": 0,
                  "AVERAGEKWH_raw": 0,
                  "TOTALTHERM_raw": 562494,
                  "AVERAGETHERM_raw": 91,
                  "GHI_raw": "116.13037634408602",
                  "DHI_raw": "29.18010752688172",
                  "DNI_raw": "222.91935483870967",
                  "Wind Speed": "2.123252688172044",
                  "Temperature_raw": 7.276881720430108,
                  "Solar_Zenith_Angle_raw": 105.58174731182795,
                  "_deepnote_index_column": 97
                },
                {
                  "MONTH": 2,
                  "YEAR": 2013,
                  "zip": 94564,
                  "TOTALCUSTO_raw": 6172,
                  "TOTALKWH_raw": 0,
                  "AVERAGEKWH_raw": 0,
                  "TOTALTHERM_raw": 388246,
                  "AVERAGETHERM_raw": 63,
                  "GHI_raw": "162.37946428571428",
                  "DHI_raw": "38.666666666666664",
                  "DNI_raw": "262.79017857142856",
                  "Wind Speed": "2.1078869047619047",
                  "Temperature_raw": 9.022321428571429,
                  "Solar_Zenith_Angle_raw": 99.57782738095231,
                  "_deepnote_index_column": 98
                }
              ],
              "rows_bottom": null
            },
            "text/plain": "    MONTH  YEAR    zip  TOTALCUSTO_raw  TOTALKWH_raw  AVERAGEKWH_raw  \\\n94      1  2013  94564            6727       3787580             563   \n95      2  2013  94564            6725       3086143             459   \n96      3  2013  94564            6715       3091798             460   \n97      1  2013  94564            6166             0               0   \n98      2  2013  94564            6172             0               0   \n\n    TOTALTHERM_raw  AVERAGETHERM_raw             GHI_raw             DHI_raw  \\\n94               0                 0  116.13037634408602   29.18010752688172   \n95               0                 0  162.37946428571428  38.666666666666664   \n96               0                 0  190.54569892473117   70.01209677419355   \n97          562494                91  116.13037634408602   29.18010752688172   \n98          388246                63  162.37946428571428  38.666666666666664   \n\n               DNI_raw          Wind Speed  Temperature_raw  \\\n94  222.91935483870967   2.123252688172044         7.276882   \n95  262.79017857142856  2.1078869047619047         9.022321   \n96   211.2741935483871   2.017607526881722        11.189516   \n97  222.91935483870967   2.123252688172044         7.276882   \n98  262.79017857142856  2.1078869047619047         9.022321   \n\n    Solar_Zenith_Angle_raw  \n94              105.581747  \n95               99.577827  \n96               91.109973  \n97              105.581747  \n98               99.577827  ",
            "text/html": "<div>\n<style scoped>\n    .dataframe tbody tr th:only-of-type {\n        vertical-align: middle;\n    }\n\n    .dataframe tbody tr th {\n        vertical-align: top;\n    }\n\n    .dataframe thead th {\n        text-align: right;\n    }\n</style>\n<table border=\"1\" class=\"dataframe\">\n  <thead>\n    <tr style=\"text-align: right;\">\n      <th></th>\n      <th>MONTH</th>\n      <th>YEAR</th>\n      <th>zip</th>\n      <th>TOTALCUSTO_raw</th>\n      <th>TOTALKWH_raw</th>\n      <th>AVERAGEKWH_raw</th>\n      <th>TOTALTHERM_raw</th>\n      <th>AVERAGETHERM_raw</th>\n      <th>GHI_raw</th>\n      <th>DHI_raw</th>\n      <th>DNI_raw</th>\n      <th>Wind Speed</th>\n      <th>Temperature_raw</th>\n      <th>Solar_Zenith_Angle_raw</th>\n    </tr>\n  </thead>\n  <tbody>\n    <tr>\n      <th>94</th>\n      <td>1</td>\n      <td>2013</td>\n      <td>94564</td>\n      <td>6727</td>\n      <td>3787580</td>\n      <td>563</td>\n      <td>0</td>\n      <td>0</td>\n      <td>116.13037634408602</td>\n      <td>29.18010752688172</td>\n      <td>222.91935483870967</td>\n      <td>2.123252688172044</td>\n      <td>7.276882</td>\n      <td>105.581747</td>\n    </tr>\n    <tr>\n      <th>95</th>\n      <td>2</td>\n      <td>2013</td>\n      <td>94564</td>\n      <td>6725</td>\n      <td>3086143</td>\n      <td>459</td>\n      <td>0</td>\n      <td>0</td>\n      <td>162.37946428571428</td>\n      <td>38.666666666666664</td>\n      <td>262.79017857142856</td>\n      <td>2.1078869047619047</td>\n      <td>9.022321</td>\n      <td>99.577827</td>\n    </tr>\n    <tr>\n      <th>96</th>\n      <td>3</td>\n      <td>2013</td>\n      <td>94564</td>\n      <td>6715</td>\n      <td>3091798</td>\n      <td>460</td>\n      <td>0</td>\n      <td>0</td>\n      <td>190.54569892473117</td>\n      <td>70.01209677419355</td>\n      <td>211.2741935483871</td>\n      <td>2.017607526881722</td>\n      <td>11.189516</td>\n      <td>91.109973</td>\n    </tr>\n    <tr>\n      <th>97</th>\n      <td>1</td>\n      <td>2013</td>\n      <td>94564</td>\n      <td>6166</td>\n      <td>0</td>\n      <td>0</td>\n      <td>562494</td>\n      <td>91</td>\n      <td>116.13037634408602</td>\n      <td>29.18010752688172</td>\n      <td>222.91935483870967</td>\n      <td>2.123252688172044</td>\n      <td>7.276882</td>\n      <td>105.581747</td>\n    </tr>\n    <tr>\n      <th>98</th>\n      <td>2</td>\n      <td>2013</td>\n      <td>94564</td>\n      <td>6172</td>\n      <td>0</td>\n      <td>0</td>\n      <td>388246</td>\n      <td>63</td>\n      <td>162.37946428571428</td>\n      <td>38.666666666666664</td>\n      <td>262.79017857142856</td>\n      <td>2.1078869047619047</td>\n      <td>9.022321</td>\n      <td>99.577827</td>\n    </tr>\n  </tbody>\n</table>\n</div>"
          },
          "metadata": {}
        }
      ],
      "execution_count": null
    },
    {
      "cell_type": "code",
      "metadata": {
        "tags": [],
        "deepnote_to_be_reexecuted": false,
        "source_hash": "bd158485",
        "execution_millis": 2,
        "cell_id": "00017-e2df01ef-4cb2-4b67-9991-52a6d82225a2",
        "execution_start": 1619159154197,
        "deepnote_cell_type": "code"
      },
      "source": "measurment_cols = [\"MONTH\",'TOTALCUSTO_raw', 'TOTALKWH_raw', 'AVERAGEKWH_raw', 'TOTALTHERM_raw',\n       'AVERAGETHERM_raw', 'GHI_raw', 'DHI_raw', 'DNI_raw', 'Wind Speed',\n       'Temperature_raw', 'Solar_Zenith_Angle_raw', 'TOTALCUS_std',\n       'TOTALKWH_std', 'AVERAGEKWH_std', 'TOTALTHERM_std', 'AVERAGETHERM_std',\n       'GHI_std', 'DHI_std', 'DNI_std', 'Wind_Speed_std', 'Temperature_std',\n       'Solar_Zenith_Angle_std']",
      "outputs": [],
      "execution_count": null
    },
    {
      "cell_type": "code",
      "metadata": {
        "deepnote_to_be_reexecuted": false,
        "source_hash": "46a8c5e",
        "execution_millis": 1237,
        "cell_id": "00018-8ef79bb7-ff90-4439-97b1-81a5d84d5a62",
        "execution_start": 1619159154203,
        "deepnote_cell_type": "code"
      },
      "source": "corr_vis(bay_area_monthly_pge_nrel, measurment_cols, meas='AVERAGETHERM_std')",
      "outputs": [
        {
          "output_type": "execute_result",
          "execution_count": 13,
          "data": {
            "application/vnd.deepnote.dataframe.v2+json": {
              "row_count": 23,
              "column_count": 2,
              "columns": [
                {
                  "name": "feature",
                  "dtype": "object",
                  "stats": {
                    "unique_count": 23,
                    "nan_count": 0,
                    "categories": [
                      {
                        "name": "AVERAGEKWH_std",
                        "count": 1
                      },
                      {
                        "name": "AVERAGEKWH_raw",
                        "count": 1
                      },
                      {
                        "name": "21 others",
                        "count": 21
                      }
                    ]
                  }
                },
                {
                  "name": "spearman",
                  "dtype": "float64",
                  "stats": {
                    "unique_count": 18,
                    "nan_count": 0,
                    "min": "-0.7738148146040801",
                    "max": "1.0",
                    "histogram": [
                      {
                        "bin_start": -0.7738148146040801,
                        "bin_end": -0.5964333331436721,
                        "count": 4
                      },
                      {
                        "bin_start": -0.5964333331436721,
                        "bin_end": -0.4190518516832641,
                        "count": 0
                      },
                      {
                        "bin_start": -0.4190518516832641,
                        "bin_end": -0.2416703702228561,
                        "count": 0
                      },
                      {
                        "bin_start": -0.2416703702228561,
                        "bin_end": -0.0642888887624481,
                        "count": 10
                      },
                      {
                        "bin_start": -0.0642888887624481,
                        "bin_end": 0.1130925926979599,
                        "count": 3
                      },
                      {
                        "bin_start": 0.1130925926979599,
                        "bin_end": 0.2904740741583679,
                        "count": 2
                      },
                      {
                        "bin_start": 0.2904740741583679,
                        "bin_end": 0.4678555556187759,
                        "count": 0
                      },
                      {
                        "bin_start": 0.4678555556187759,
                        "bin_end": 0.6452370370791839,
                        "count": 0
                      },
                      {
                        "bin_start": 0.6452370370791839,
                        "bin_end": 0.8226185185395919,
                        "count": 0
                      },
                      {
                        "bin_start": 0.8226185185395919,
                        "bin_end": 1,
                        "count": 4
                      }
                    ]
                  }
                },
                {
                  "name": "_deepnote_index_column",
                  "dtype": "int64"
                }
              ],
              "rows_top": [
                {
                  "feature": "AVERAGEKWH_std",
                  "spearman": -0.7738148146040801,
                  "_deepnote_index_column": 14
                },
                {
                  "feature": "AVERAGEKWH_raw",
                  "spearman": -0.7738148146040801,
                  "_deepnote_index_column": 3
                },
                {
                  "feature": "TOTALKWH_raw",
                  "spearman": -0.7738145932849931,
                  "_deepnote_index_column": 2
                },
                {
                  "feature": "TOTALKWH_std",
                  "spearman": -0.7738145932849931,
                  "_deepnote_index_column": 13
                },
                {
                  "feature": "Temperature_raw",
                  "spearman": -0.18640983062038385,
                  "_deepnote_index_column": 10
                },
                {
                  "feature": "Temperature_std",
                  "spearman": -0.18640981795104547,
                  "_deepnote_index_column": 21
                },
                {
                  "feature": "GHI_std",
                  "spearman": -0.1714515181197754,
                  "_deepnote_index_column": 17
                },
                {
                  "feature": "DNI_std",
                  "spearman": -0.16495781421215802,
                  "_deepnote_index_column": 19
                },
                {
                  "feature": "DNI_raw",
                  "spearman": -0.16234508199214773,
                  "_deepnote_index_column": 8
                },
                {
                  "feature": "DHI_std",
                  "spearman": -0.12862461941749462,
                  "_deepnote_index_column": 18
                },
                {
                  "feature": "DHI_raw",
                  "spearman": -0.12649394017840945,
                  "_deepnote_index_column": 7
                },
                {
                  "feature": "Wind Speed",
                  "spearman": -0.09314959514790608,
                  "_deepnote_index_column": 9
                },
                {
                  "feature": "Wind_Speed_std",
                  "spearman": -0.09314951569687603,
                  "_deepnote_index_column": 20
                },
                {
                  "feature": "GHI_raw",
                  "spearman": -0.07411725145169921,
                  "_deepnote_index_column": 6
                },
                {
                  "feature": "MONTH",
                  "spearman": -0.04200501529433235,
                  "_deepnote_index_column": 0
                },
                {
                  "feature": "TOTALCUS_std",
                  "spearman": 0.059369127401168925,
                  "_deepnote_index_column": 12
                },
                {
                  "feature": "TOTALCUSTO_raw",
                  "spearman": 0.059369127401168925,
                  "_deepnote_index_column": 1
                },
                {
                  "feature": "Solar_Zenith_Angle_std",
                  "spearman": 0.17017962686342772,
                  "_deepnote_index_column": 22
                },
                {
                  "feature": "Solar_Zenith_Angle_raw",
                  "spearman": 0.1701796477008221,
                  "_deepnote_index_column": 11
                },
                {
                  "feature": "TOTALTHERM_std",
                  "spearman": 0.9384897317321567,
                  "_deepnote_index_column": 15
                },
                {
                  "feature": "TOTALTHERM_raw",
                  "spearman": 0.9384897317321567,
                  "_deepnote_index_column": 4
                },
                {
                  "feature": "AVERAGETHERM_raw",
                  "spearman": 1,
                  "_deepnote_index_column": 5
                },
                {
                  "feature": "AVERAGETHERM_std",
                  "spearman": 1,
                  "_deepnote_index_column": 16
                }
              ],
              "rows_bottom": null
            },
            "text/plain": "                   feature  spearman\n14          AVERAGEKWH_std -0.773815\n3           AVERAGEKWH_raw -0.773815\n2             TOTALKWH_raw -0.773815\n13            TOTALKWH_std -0.773815\n10         Temperature_raw -0.186410\n21         Temperature_std -0.186410\n17                 GHI_std -0.171452\n19                 DNI_std -0.164958\n8                  DNI_raw -0.162345\n18                 DHI_std -0.128625\n7                  DHI_raw -0.126494\n9               Wind Speed -0.093150\n20          Wind_Speed_std -0.093150\n6                  GHI_raw -0.074117\n0                    MONTH -0.042005\n12            TOTALCUS_std  0.059369\n1           TOTALCUSTO_raw  0.059369\n22  Solar_Zenith_Angle_std  0.170180\n11  Solar_Zenith_Angle_raw  0.170180\n15          TOTALTHERM_std  0.938490\n4           TOTALTHERM_raw  0.938490\n5         AVERAGETHERM_raw  1.000000\n16        AVERAGETHERM_std  1.000000",
            "text/html": "<div>\n<style scoped>\n    .dataframe tbody tr th:only-of-type {\n        vertical-align: middle;\n    }\n\n    .dataframe tbody tr th {\n        vertical-align: top;\n    }\n\n    .dataframe thead th {\n        text-align: right;\n    }\n</style>\n<table border=\"1\" class=\"dataframe\">\n  <thead>\n    <tr style=\"text-align: right;\">\n      <th></th>\n      <th>feature</th>\n      <th>spearman</th>\n    </tr>\n  </thead>\n  <tbody>\n    <tr>\n      <th>14</th>\n      <td>AVERAGEKWH_std</td>\n      <td>-0.773815</td>\n    </tr>\n    <tr>\n      <th>3</th>\n      <td>AVERAGEKWH_raw</td>\n      <td>-0.773815</td>\n    </tr>\n    <tr>\n      <th>2</th>\n      <td>TOTALKWH_raw</td>\n      <td>-0.773815</td>\n    </tr>\n    <tr>\n      <th>13</th>\n      <td>TOTALKWH_std</td>\n      <td>-0.773815</td>\n    </tr>\n    <tr>\n      <th>10</th>\n      <td>Temperature_raw</td>\n      <td>-0.186410</td>\n    </tr>\n    <tr>\n      <th>21</th>\n      <td>Temperature_std</td>\n      <td>-0.186410</td>\n    </tr>\n    <tr>\n      <th>17</th>\n      <td>GHI_std</td>\n      <td>-0.171452</td>\n    </tr>\n    <tr>\n      <th>19</th>\n      <td>DNI_std</td>\n      <td>-0.164958</td>\n    </tr>\n    <tr>\n      <th>8</th>\n      <td>DNI_raw</td>\n      <td>-0.162345</td>\n    </tr>\n    <tr>\n      <th>18</th>\n      <td>DHI_std</td>\n      <td>-0.128625</td>\n    </tr>\n    <tr>\n      <th>7</th>\n      <td>DHI_raw</td>\n      <td>-0.126494</td>\n    </tr>\n    <tr>\n      <th>9</th>\n      <td>Wind Speed</td>\n      <td>-0.093150</td>\n    </tr>\n    <tr>\n      <th>20</th>\n      <td>Wind_Speed_std</td>\n      <td>-0.093150</td>\n    </tr>\n    <tr>\n      <th>6</th>\n      <td>GHI_raw</td>\n      <td>-0.074117</td>\n    </tr>\n    <tr>\n      <th>0</th>\n      <td>MONTH</td>\n      <td>-0.042005</td>\n    </tr>\n    <tr>\n      <th>12</th>\n      <td>TOTALCUS_std</td>\n      <td>0.059369</td>\n    </tr>\n    <tr>\n      <th>1</th>\n      <td>TOTALCUSTO_raw</td>\n      <td>0.059369</td>\n    </tr>\n    <tr>\n      <th>22</th>\n      <td>Solar_Zenith_Angle_std</td>\n      <td>0.170180</td>\n    </tr>\n    <tr>\n      <th>11</th>\n      <td>Solar_Zenith_Angle_raw</td>\n      <td>0.170180</td>\n    </tr>\n    <tr>\n      <th>15</th>\n      <td>TOTALTHERM_std</td>\n      <td>0.938490</td>\n    </tr>\n    <tr>\n      <th>4</th>\n      <td>TOTALTHERM_raw</td>\n      <td>0.938490</td>\n    </tr>\n    <tr>\n      <th>5</th>\n      <td>AVERAGETHERM_raw</td>\n      <td>1.000000</td>\n    </tr>\n    <tr>\n      <th>16</th>\n      <td>AVERAGETHERM_std</td>\n      <td>1.000000</td>\n    </tr>\n  </tbody>\n</table>\n</div>"
          },
          "metadata": {}
        },
        {
          "data": {
            "text/plain": "<Figure size 432x414 with 1 Axes>",
            "image/png": "[encoded data removed]"
          },
          "metadata": {
            "needs_background": "light"
          },
          "output_type": "display_data"
        }
      ],
      "execution_count": null
    },
    {
      "cell_type": "code",
      "source": "def lag_by_zipcode(full_df, L, zipcode, desired_cols=['TOTALKWH_raw', 'AVERAGEKWH_raw', 'GHI_raw', 'DHI_raw', 'DNI_raw', 'Wind Speed', 'Temperature_raw', 'Solar_Zenith_Angle_raw'],\n                                       zip_col='zip',\n                                       time_col='DATE'):\n    subsetted_zip = full_df[full_df[zip_col] == zipcode].sort_values(by=time_col)\n\n    ## Lag for the columns we want\n    additional_columns = []\n    for lag in range(1,L+1):\n        for c in desired_cols:\n            new_col_name = c + \" lag l=%i\"%(lag)\n            additional_columns.append(new_col_name)\n            subsetted_zip[new_col_name] = subsetted_zip[c].shift(lag).tolist()\n    \n#     print(merged.columns)\n    return subsetted_zip\n\n    ",
      "metadata": {
        "tags": [],
        "cell_id": "00019-9114c1c7-3ffa-4fe4-9b7d-1fa25a20fe9e",
        "deepnote_to_be_reexecuted": false,
        "source_hash": "f84944df",
        "execution_millis": 0,
        "execution_start": 1619163884085,
        "deepnote_cell_type": "code"
      },
      "outputs": [],
      "execution_count": null
    },
    {
      "cell_type": "code",
      "metadata": {
        "tags": [],
        "deepnote_to_be_reexecuted": false,
        "source_hash": "369faa48",
        "execution_millis": 758,
        "cell_id": "00019-64974a3c-a697-4c84-95f9-67b719fc93e4",
        "execution_start": 1619163888007,
        "deepnote_cell_type": "code"
      },
      "source": "X_cols = ['MONTH','YEAR', 'GHI_raw', 'DHI_raw', 'DNI_raw', 'Wind Speed', 'Temperature_raw', 'Solar_Zenith_Angle_raw' ]\nbay_area_monthly_elec_pge_nrel = bay_area_monthly_pge_nrel[bay_area_monthly_pge_nrel['TOTALTHERM_raw']==0].drop_duplicates()\n\n## Cutting out using our engineering judgement\nbay_area_monthly_elec_pge_nrel = bay_area_monthly_elec_pge_nrel[bay_area_monthly_elec_pge_nrel['zip'] != 94301] ## Cut out Palo Alto, which only has 16 measurements\nbay_area_monthly_elec_pge_nrel = bay_area_monthly_elec_pge_nrel[bay_area_monthly_elec_pge_nrel['zip'] != 94035] ## Cut out Mountain View which only has 16 measurements\n\nbay_area_monthly_elec_pge_nrel_clean = bay_area_monthly_elec_pge_nrel[bay_area_monthly_elec_pge_nrel['TOTALKWH_std'] < 10]\n\n",
      "outputs": [],
      "execution_count": null
    },
    {
      "cell_type": "code",
      "source": "bay_area_monthly_elec_pge_nrel_clean.columns",
      "metadata": {
        "tags": [],
        "cell_id": "00021-62bb5ad9-cb96-40ce-bc36-f2cd0c983e61",
        "deepnote_to_be_reexecuted": false,
        "source_hash": "350d5ca6",
        "execution_millis": 9,
        "execution_start": 1619163839120,
        "deepnote_cell_type": "code"
      },
      "outputs": [
        {
          "output_type": "execute_result",
          "execution_count": 57,
          "data": {
            "text/plain": "Index(['zip', 'city', 'state', 'latitude', 'longitude', 'timezone', 'dst',\n       'DATE', 'MONTH', 'YEAR', 'DAY', 'CUSTOMERCL', 'COMBINED',\n       'TOTALCUSTO_raw', 'TOTALKWH_raw', 'AVERAGEKWH_raw', 'TOTALTHERM_raw',\n       'AVERAGETHERM_raw', 'GHI_raw', 'DHI_raw', 'DNI_raw', 'Wind Speed',\n       'Temperature_raw', 'Solar_Zenith_Angle_raw', 'TOTALCUS_std',\n       'TOTALKWH_std', 'AVERAGEKWH_std', 'TOTALTHERM_std', 'AVERAGETHERM_std',\n       'GHI_std', 'DHI_std', 'DNI_std', 'Wind_Speed_std', 'Temperature_std',\n       'Solar_Zenith_Angle_std', 'geometry'],\n      dtype='object')"
          },
          "metadata": {}
        }
      ],
      "execution_count": null
    },
    {
      "cell_type": "code",
      "source": "## lag for the columns we want\nconcatted = pd.DataFrame()\ni = 1\nL = 3\nPROGRESS_CHECKPOINT = 5\nfor zipcode in sorted(bay_area_monthly_elec_pge_nrel_clean['zip'].unique()):\n    if i % PROGRESS_CHECKPOINT == 0:\n        print(\"PROGRSS: #{i} - {zipcode}\".format(i=i, zipcode=zipcode))\n    to_concat = lag_by_zipcode(bay_area_monthly_elec_pge_nrel_clean, L, zipcode, zip_col='zip', time_col='DATE')\n    concatted = pd.concat([concatted, to_concat])\n    concatted.to_csv(base + 'cleaned_data/DEEPNOTE_CREATED_lagged_{L}_BA-monthly-elec-pge-nrel-clean.csv'.format(L=L))\n    i+=1",
      "metadata": {
        "tags": [],
        "cell_id": "00021-c9a22b1a-e70e-4323-b2c2-310b5b7f1d46",
        "deepnote_to_be_reexecuted": false,
        "source_hash": "5f63a27f",
        "execution_millis": 1572656,
        "execution_start": 1619163911532,
        "deepnote_cell_type": "code"
      },
      "outputs": [
        {
          "name": "stdout",
          "text": "PROGRSS: #5 - 94015\nPROGRSS: #10 - 94022\nPROGRSS: #15 - 94030\nPROGRSS: #20 - 94043\nPROGRSS: #25 - 94063\nPROGRSS: #30 - 94080\nPROGRSS: #35 - 94102\nPROGRSS: #40 - 94108\nPROGRSS: #45 - 94114\nPROGRSS: #50 - 94121\nPROGRSS: #55 - 94129\nPROGRSS: #60 - 94134\nPROGRSS: #65 - 94401\nPROGRSS: #70 - 94505\nPROGRSS: #75 - 94510\nPROGRSS: #80 - 94517\nPROGRSS: #85 - 94523\nPROGRSS: #90 - 94531\nPROGRSS: #95 - 94538\nPROGRSS: #100 - 94545\nPROGRSS: #105 - 94550\nPROGRSS: #110 - 94556\nPROGRSS: #115 - 94562\nPROGRSS: #120 - 94568\nPROGRSS: #125 - 94574\nPROGRSS: #130 - 94580\nPROGRSS: #135 - 94587\nPROGRSS: #140 - 94595\nPROGRSS: #145 - 94601\nPROGRSS: #150 - 94607\nPROGRSS: #155 - 94612\nPROGRSS: #160 - 94702\nPROGRSS: #165 - 94707\nPROGRSS: #170 - 94801\nPROGRSS: #175 - 94901\nPROGRSS: #180 - 94923\nPROGRSS: #185 - 94930\nPROGRSS: #190 - 94939\nPROGRSS: #195 - 94947\nPROGRSS: #200 - 94956\nPROGRSS: #205 - 94965\nPROGRSS: #210 - 95002\nPROGRSS: #215 - 95008\nPROGRSS: #220 - 95018\nPROGRSS: #225 - 95033\nPROGRSS: #230 - 95046\nPROGRSS: #235 - 95065\nPROGRSS: #240 - 95110\nPROGRSS: #245 - 95117\nPROGRSS: #250 - 95122\nPROGRSS: #255 - 95127\nPROGRSS: #260 - 95132\nPROGRSS: #265 - 95138\nPROGRSS: #270 - 95219\nPROGRSS: #275 - 95403\nPROGRSS: #280 - 95419\nPROGRSS: #285 - 95444\nPROGRSS: #290 - 95465\nPROGRSS: #295 - 95492\nPROGRSS: #300 - 95618\nPROGRSS: #305 - 95687\nPROGRSS: #310 - 95817\n",
          "output_type": "stream"
        }
      ],
      "execution_count": null
    },
    {
      "cell_type": "code",
      "source": "L=3\nlagged_bame_pnc = pd.read_csv(base + 'cleaned_data/DEEPNOTE_CREATED_lagged_{L}_BA-monthly-elec-pge-nrel-clean.csv'.format(L=L))\n",
      "metadata": {
        "tags": [],
        "cell_id": "00021-c929096d-18d8-489a-9761-4e0190dee93d",
        "deepnote_to_be_reexecuted": false,
        "source_hash": "d37b2c43",
        "execution_millis": 360,
        "execution_start": 1619166106901,
        "deepnote_cell_type": "code"
      },
      "outputs": [],
      "execution_count": null
    },
    {
      "cell_type": "code",
      "source": "lagged_bame_pnc_dropna = lagged_bame_pnc.dropna()\nlagged_bame_pnc_dropna.columns",
      "metadata": {
        "tags": [],
        "cell_id": "00023-c2760abc-11ed-4a5c-8fd6-fbca212d06f2",
        "deepnote_to_be_reexecuted": false,
        "source_hash": "126bd4a5",
        "execution_millis": 48,
        "execution_start": 1619166109190,
        "deepnote_cell_type": "code"
      },
      "outputs": [
        {
          "output_type": "execute_result",
          "execution_count": 7,
          "data": {
            "text/plain": "Index(['Unnamed: 0', 'zip', 'city', 'state', 'latitude', 'longitude',\n       'timezone', 'dst', 'DATE', 'MONTH', 'YEAR', 'DAY', 'CUSTOMERCL',\n       'COMBINED', 'TOTALCUSTO_raw', 'TOTALKWH_raw', 'AVERAGEKWH_raw',\n       'TOTALTHERM_raw', 'AVERAGETHERM_raw', 'GHI_raw', 'DHI_raw', 'DNI_raw',\n       'Wind Speed', 'Temperature_raw', 'Solar_Zenith_Angle_raw',\n       'TOTALCUS_std', 'TOTALKWH_std', 'AVERAGEKWH_std', 'TOTALTHERM_std',\n       'AVERAGETHERM_std', 'GHI_std', 'DHI_std', 'DNI_std', 'Wind_Speed_std',\n       'Temperature_std', 'Solar_Zenith_Angle_std', 'geometry',\n       'TOTALKWH_raw lag l=1', 'AVERAGEKWH_raw lag l=1', 'GHI_raw lag l=1',\n       'DHI_raw lag l=1', 'DNI_raw lag l=1', 'Wind Speed lag l=1',\n       'Temperature_raw lag l=1', 'Solar_Zenith_Angle_raw lag l=1',\n       'TOTALKWH_raw lag l=2', 'AVERAGEKWH_raw lag l=2', 'GHI_raw lag l=2',\n       'DHI_raw lag l=2', 'DNI_raw lag l=2', 'Wind Speed lag l=2',\n       'Temperature_raw lag l=2', 'Solar_Zenith_Angle_raw lag l=2',\n       'TOTALKWH_raw lag l=3', 'AVERAGEKWH_raw lag l=3', 'GHI_raw lag l=3',\n       'DHI_raw lag l=3', 'DNI_raw lag l=3', 'Wind Speed lag l=3',\n       'Temperature_raw lag l=3', 'Solar_Zenith_Angle_raw lag l=3'],\n      dtype='object')"
          },
          "metadata": {}
        }
      ],
      "execution_count": null
    },
    {
      "cell_type": "code",
      "source": "## targetted_y can be changed to predict other values,\ntargetted_y = 'AVERAGEKWH_raw'\nelec_Y_train = lagged_bame_pnc_dropna[targetted_y]\n\n## Last step before passing data to our model (what to include)\nX_cols = ['MONTH','YEAR', 'AVERAGEKWH_raw lag l=1', 'GHI_raw lag l=1',\n       'DHI_raw lag l=1', 'DNI_raw lag l=1', 'Wind Speed lag l=1',\n       'Temperature_raw lag l=1', 'Solar_Zenith_Angle_raw lag l=1',\n        'AVERAGEKWH_raw lag l=2', 'GHI_raw lag l=2',\n       'DHI_raw lag l=2', 'DNI_raw lag l=2', 'Wind Speed lag l=2',\n       'Temperature_raw lag l=2', 'Solar_Zenith_Angle_raw lag l=2',\n        'AVERAGEKWH_raw lag l=3', 'GHI_raw lag l=3',\n       'DHI_raw lag l=3', 'DNI_raw lag l=3', 'Wind Speed lag l=3',\n       'Temperature_raw lag l=3', 'Solar_Zenith_Angle_raw lag l=3' ]\nelec_X_train = lagged_bame_pnc_dropna[X_cols]",
      "metadata": {
        "tags": [],
        "cell_id": "00023-93be038f-7eba-4bbf-99a3-ccaa69ac399e",
        "deepnote_to_be_reexecuted": false,
        "source_hash": "50badef7",
        "execution_millis": 1,
        "execution_start": 1619166110952,
        "deepnote_cell_type": "code"
      },
      "outputs": [],
      "execution_count": null
    },
    {
      "cell_type": "code",
      "source": "elec_X_train.head()",
      "metadata": {
        "tags": [],
        "cell_id": "00020-a59be090-fa13-4564-8c07-53a4ae80c327",
        "deepnote_to_be_reexecuted": false,
        "source_hash": "2c874e9b",
        "execution_millis": 48,
        "execution_start": 1619166113927,
        "deepnote_cell_type": "code"
      },
      "outputs": [
        {
          "output_type": "execute_result",
          "execution_count": 9,
          "data": {
            "application/vnd.deepnote.dataframe.v2+json": {
              "row_count": 5,
              "column_count": 23,
              "columns": [
                {
                  "name": "MONTH",
                  "dtype": "int64",
                  "stats": {
                    "unique_count": 5,
                    "nan_count": 0,
                    "min": "4",
                    "max": "8",
                    "histogram": [
                      {
                        "bin_start": 4,
                        "bin_end": 4.4,
                        "count": 1
                      },
                      {
                        "bin_start": 4.4,
                        "bin_end": 4.8,
                        "count": 0
                      },
                      {
                        "bin_start": 4.8,
                        "bin_end": 5.2,
                        "count": 1
                      },
                      {
                        "bin_start": 5.2,
                        "bin_end": 5.6,
                        "count": 0
                      },
                      {
                        "bin_start": 5.6,
                        "bin_end": 6,
                        "count": 0
                      },
                      {
                        "bin_start": 6,
                        "bin_end": 6.4,
                        "count": 1
                      },
                      {
                        "bin_start": 6.4,
                        "bin_end": 6.800000000000001,
                        "count": 0
                      },
                      {
                        "bin_start": 6.800000000000001,
                        "bin_end": 7.2,
                        "count": 1
                      },
                      {
                        "bin_start": 7.2,
                        "bin_end": 7.6,
                        "count": 0
                      },
                      {
                        "bin_start": 7.6,
                        "bin_end": 8,
                        "count": 1
                      }
                    ]
                  }
                },
                {
                  "name": "YEAR",
                  "dtype": "int64",
                  "stats": {
                    "unique_count": 1,
                    "nan_count": 0,
                    "min": "2013",
                    "max": "2013",
                    "histogram": [
                      {
                        "bin_start": 2012.5,
                        "bin_end": 2012.6,
                        "count": 0
                      },
                      {
                        "bin_start": 2012.6,
                        "bin_end": 2012.7,
                        "count": 0
                      },
                      {
                        "bin_start": 2012.7,
                        "bin_end": 2012.8,
                        "count": 0
                      },
                      {
                        "bin_start": 2012.8,
                        "bin_end": 2012.9,
                        "count": 0
                      },
                      {
                        "bin_start": 2012.9,
                        "bin_end": 2013,
                        "count": 0
                      },
                      {
                        "bin_start": 2013,
                        "bin_end": 2013.1,
                        "count": 5
                      },
                      {
                        "bin_start": 2013.1,
                        "bin_end": 2013.2,
                        "count": 0
                      },
                      {
                        "bin_start": 2013.2,
                        "bin_end": 2013.3,
                        "count": 0
                      },
                      {
                        "bin_start": 2013.3,
                        "bin_end": 2013.4,
                        "count": 0
                      },
                      {
                        "bin_start": 2013.4,
                        "bin_end": 2013.5,
                        "count": 0
                      }
                    ]
                  }
                },
                {
                  "name": "AVERAGEKWH_raw lag l=1",
                  "dtype": "float64",
                  "stats": {
                    "unique_count": 4,
                    "nan_count": 0,
                    "min": "400.0",
                    "max": "455.0",
                    "histogram": [
                      {
                        "bin_start": 400,
                        "bin_end": 405.5,
                        "count": 2
                      },
                      {
                        "bin_start": 405.5,
                        "bin_end": 411,
                        "count": 2
                      },
                      {
                        "bin_start": 411,
                        "bin_end": 416.5,
                        "count": 0
                      },
                      {
                        "bin_start": 416.5,
                        "bin_end": 422,
                        "count": 0
                      },
                      {
                        "bin_start": 422,
                        "bin_end": 427.5,
                        "count": 0
                      },
                      {
                        "bin_start": 427.5,
                        "bin_end": 433,
                        "count": 0
                      },
                      {
                        "bin_start": 433,
                        "bin_end": 438.5,
                        "count": 0
                      },
                      {
                        "bin_start": 438.5,
                        "bin_end": 444,
                        "count": 0
                      },
                      {
                        "bin_start": 444,
                        "bin_end": 449.5,
                        "count": 0
                      },
                      {
                        "bin_start": 449.5,
                        "bin_end": 455,
                        "count": 1
                      }
                    ]
                  }
                },
                {
                  "name": "GHI_raw lag l=1",
                  "dtype": "float64",
                  "stats": {
                    "unique_count": 5,
                    "nan_count": 0,
                    "min": "195.7150537634409",
                    "max": "326.3481182795699",
                    "histogram": [
                      {
                        "bin_start": 195.7150537634409,
                        "bin_end": 208.7783602150538,
                        "count": 1
                      },
                      {
                        "bin_start": 208.7783602150538,
                        "bin_end": 221.8416666666667,
                        "count": 0
                      },
                      {
                        "bin_start": 221.8416666666667,
                        "bin_end": 234.9049731182796,
                        "count": 0
                      },
                      {
                        "bin_start": 234.9049731182796,
                        "bin_end": 247.9682795698925,
                        "count": 0
                      },
                      {
                        "bin_start": 247.9682795698925,
                        "bin_end": 261.0315860215054,
                        "count": 0
                      },
                      {
                        "bin_start": 261.0315860215054,
                        "bin_end": 274.0948924731183,
                        "count": 0
                      },
                      {
                        "bin_start": 274.0948924731183,
                        "bin_end": 287.1581989247312,
                        "count": 1
                      },
                      {
                        "bin_start": 287.1581989247312,
                        "bin_end": 300.2215053763441,
                        "count": 0
                      },
                      {
                        "bin_start": 300.2215053763441,
                        "bin_end": 313.284811827957,
                        "count": 1
                      },
                      {
                        "bin_start": 313.284811827957,
                        "bin_end": 326.3481182795699,
                        "count": 2
                      }
                    ]
                  }
                },
                {
                  "name": "DHI_raw lag l=1",
                  "dtype": "float64",
                  "stats": {
                    "unique_count": 5,
                    "nan_count": 0,
                    "min": "64.43194444444444",
                    "max": "71.83736559139786",
                    "histogram": [
                      {
                        "bin_start": 64.43194444444444,
                        "bin_end": 65.17248655913978,
                        "count": 2
                      },
                      {
                        "bin_start": 65.17248655913978,
                        "bin_end": 65.91302867383513,
                        "count": 0
                      },
                      {
                        "bin_start": 65.91302867383513,
                        "bin_end": 66.65357078853046,
                        "count": 0
                      },
                      {
                        "bin_start": 66.65357078853046,
                        "bin_end": 67.3941129032258,
                        "count": 0
                      },
                      {
                        "bin_start": 67.3941129032258,
                        "bin_end": 68.13465501792115,
                        "count": 0
                      },
                      {
                        "bin_start": 68.13465501792115,
                        "bin_end": 68.87519713261649,
                        "count": 1
                      },
                      {
                        "bin_start": 68.87519713261649,
                        "bin_end": 69.61573924731184,
                        "count": 0
                      },
                      {
                        "bin_start": 69.61573924731184,
                        "bin_end": 70.35628136200717,
                        "count": 0
                      },
                      {
                        "bin_start": 70.35628136200717,
                        "bin_end": 71.09682347670251,
                        "count": 0
                      },
                      {
                        "bin_start": 71.09682347670251,
                        "bin_end": 71.83736559139786,
                        "count": 2
                      }
                    ]
                  }
                },
                {
                  "name": "DNI_raw lag l=1",
                  "dtype": "float64",
                  "stats": {
                    "unique_count": 5,
                    "nan_count": 0,
                    "min": "216.32930107526883",
                    "max": "376.4611111111111",
                    "histogram": [
                      {
                        "bin_start": 216.32930107526883,
                        "bin_end": 232.34248207885307,
                        "count": 1
                      },
                      {
                        "bin_start": 232.34248207885307,
                        "bin_end": 248.35566308243727,
                        "count": 0
                      },
                      {
                        "bin_start": 248.35566308243727,
                        "bin_end": 264.3688440860215,
                        "count": 0
                      },
                      {
                        "bin_start": 264.3688440860215,
                        "bin_end": 280.38202508960575,
                        "count": 0
                      },
                      {
                        "bin_start": 280.38202508960575,
                        "bin_end": 296.39520609319,
                        "count": 0
                      },
                      {
                        "bin_start": 296.39520609319,
                        "bin_end": 312.4083870967742,
                        "count": 0
                      },
                      {
                        "bin_start": 312.4083870967742,
                        "bin_end": 328.4215681003584,
                        "count": 0
                      },
                      {
                        "bin_start": 328.4215681003584,
                        "bin_end": 344.43474910394264,
                        "count": 1
                      },
                      {
                        "bin_start": 344.43474910394264,
                        "bin_end": 360.4479301075269,
                        "count": 1
                      },
                      {
                        "bin_start": 360.4479301075269,
                        "bin_end": 376.4611111111111,
                        "count": 2
                      }
                    ]
                  }
                },
                {
                  "name": "Wind Speed lag l=1",
                  "dtype": "float64",
                  "stats": {
                    "unique_count": 5,
                    "nan_count": 0,
                    "min": "3.2099462365591425",
                    "max": "4.352150537634408",
                    "histogram": [
                      {
                        "bin_start": 3.2099462365591425,
                        "bin_end": 3.324166666666669,
                        "count": 1
                      },
                      {
                        "bin_start": 3.324166666666669,
                        "bin_end": 3.4383870967741954,
                        "count": 1
                      },
                      {
                        "bin_start": 3.4383870967741954,
                        "bin_end": 3.5526075268817223,
                        "count": 0
                      },
                      {
                        "bin_start": 3.5526075268817223,
                        "bin_end": 3.666827956989249,
                        "count": 0
                      },
                      {
                        "bin_start": 3.666827956989249,
                        "bin_end": 3.7810483870967753,
                        "count": 0
                      },
                      {
                        "bin_start": 3.7810483870967753,
                        "bin_end": 3.8952688172043017,
                        "count": 1
                      },
                      {
                        "bin_start": 3.8952688172043017,
                        "bin_end": 4.009489247311828,
                        "count": 1
                      },
                      {
                        "bin_start": 4.009489247311828,
                        "bin_end": 4.123709677419355,
                        "count": 0
                      },
                      {
                        "bin_start": 4.123709677419355,
                        "bin_end": 4.237930107526881,
                        "count": 0
                      },
                      {
                        "bin_start": 4.237930107526881,
                        "bin_end": 4.352150537634408,
                        "count": 1
                      }
                    ]
                  }
                },
                {
                  "name": "Temperature_raw lag l=1",
                  "dtype": "float64",
                  "stats": {
                    "unique_count": 5,
                    "nan_count": 0,
                    "min": "11.181451612903226",
                    "max": "16.071236559139784",
                    "histogram": [
                      {
                        "bin_start": 11.181451612903226,
                        "bin_end": 11.670430107526881,
                        "count": 1
                      },
                      {
                        "bin_start": 11.670430107526881,
                        "bin_end": 12.159408602150538,
                        "count": 0
                      },
                      {
                        "bin_start": 12.159408602150538,
                        "bin_end": 12.648387096774194,
                        "count": 0
                      },
                      {
                        "bin_start": 12.648387096774194,
                        "bin_end": 13.137365591397849,
                        "count": 1
                      },
                      {
                        "bin_start": 13.137365591397849,
                        "bin_end": 13.626344086021504,
                        "count": 0
                      },
                      {
                        "bin_start": 13.626344086021504,
                        "bin_end": 14.115322580645161,
                        "count": 1
                      },
                      {
                        "bin_start": 14.115322580645161,
                        "bin_end": 14.604301075268816,
                        "count": 0
                      },
                      {
                        "bin_start": 14.604301075268816,
                        "bin_end": 15.093279569892474,
                        "count": 0
                      },
                      {
                        "bin_start": 15.093279569892474,
                        "bin_end": 15.582258064516129,
                        "count": 1
                      },
                      {
                        "bin_start": 15.582258064516129,
                        "bin_end": 16.071236559139784,
                        "count": 1
                      }
                    ]
                  }
                },
                {
                  "name": "Solar_Zenith_Angle_raw lag l=1",
                  "dtype": "float64",
                  "stats": {
                    "unique_count": 5,
                    "nan_count": 0,
                    "min": "72.62913888888878",
                    "max": "91.10326612903224",
                    "histogram": [
                      {
                        "bin_start": 72.62913888888878,
                        "bin_end": 74.47655161290312,
                        "count": 2
                      },
                      {
                        "bin_start": 74.47655161290312,
                        "bin_end": 76.32396433691747,
                        "count": 1
                      },
                      {
                        "bin_start": 76.32396433691747,
                        "bin_end": 78.17137706093182,
                        "count": 0
                      },
                      {
                        "bin_start": 78.17137706093182,
                        "bin_end": 80.01878978494616,
                        "count": 0
                      },
                      {
                        "bin_start": 80.01878978494616,
                        "bin_end": 81.8662025089605,
                        "count": 0
                      },
                      {
                        "bin_start": 81.8662025089605,
                        "bin_end": 83.71361523297486,
                        "count": 1
                      },
                      {
                        "bin_start": 83.71361523297486,
                        "bin_end": 85.5610279569892,
                        "count": 0
                      },
                      {
                        "bin_start": 85.5610279569892,
                        "bin_end": 87.40844068100354,
                        "count": 0
                      },
                      {
                        "bin_start": 87.40844068100354,
                        "bin_end": 89.25585340501789,
                        "count": 0
                      },
                      {
                        "bin_start": 89.25585340501789,
                        "bin_end": 91.10326612903224,
                        "count": 1
                      }
                    ]
                  }
                },
                {
                  "name": "AVERAGEKWH_raw lag l=2",
                  "dtype": "float64",
                  "stats": {
                    "unique_count": 4,
                    "nan_count": 0,
                    "min": "400.0",
                    "max": "456.0",
                    "histogram": [
                      {
                        "bin_start": 400,
                        "bin_end": 405.6,
                        "count": 1
                      },
                      {
                        "bin_start": 405.6,
                        "bin_end": 411.2,
                        "count": 2
                      },
                      {
                        "bin_start": 411.2,
                        "bin_end": 416.8,
                        "count": 0
                      },
                      {
                        "bin_start": 416.8,
                        "bin_end": 422.4,
                        "count": 0
                      },
                      {
                        "bin_start": 422.4,
                        "bin_end": 428,
                        "count": 0
                      },
                      {
                        "bin_start": 428,
                        "bin_end": 433.6,
                        "count": 0
                      },
                      {
                        "bin_start": 433.6,
                        "bin_end": 439.2,
                        "count": 0
                      },
                      {
                        "bin_start": 439.2,
                        "bin_end": 444.8,
                        "count": 0
                      },
                      {
                        "bin_start": 444.8,
                        "bin_end": 450.4,
                        "count": 0
                      },
                      {
                        "bin_start": 450.4,
                        "bin_end": 456,
                        "count": 2
                      }
                    ]
                  }
                },
                {
                  "name": "GHI_raw lag l=2",
                  "dtype": "float64",
                  "stats": {
                    "unique_count": 5,
                    "nan_count": 0,
                    "min": "166.96130952380952",
                    "max": "325.86805555555554",
                    "histogram": [
                      {
                        "bin_start": 166.96130952380952,
                        "bin_end": 182.85198412698412,
                        "count": 1
                      },
                      {
                        "bin_start": 182.85198412698412,
                        "bin_end": 198.74265873015872,
                        "count": 1
                      },
                      {
                        "bin_start": 198.74265873015872,
                        "bin_end": 214.63333333333333,
                        "count": 0
                      },
                      {
                        "bin_start": 214.63333333333333,
                        "bin_end": 230.52400793650793,
                        "count": 0
                      },
                      {
                        "bin_start": 230.52400793650793,
                        "bin_end": 246.41468253968253,
                        "count": 0
                      },
                      {
                        "bin_start": 246.41468253968253,
                        "bin_end": 262.30535714285713,
                        "count": 0
                      },
                      {
                        "bin_start": 262.30535714285713,
                        "bin_end": 278.19603174603174,
                        "count": 0
                      },
                      {
                        "bin_start": 278.19603174603174,
                        "bin_end": 294.08670634920634,
                        "count": 1
                      },
                      {
                        "bin_start": 294.08670634920634,
                        "bin_end": 309.97738095238094,
                        "count": 0
                      },
                      {
                        "bin_start": 309.97738095238094,
                        "bin_end": 325.86805555555554,
                        "count": 2
                      }
                    ]
                  }
                },
                {
                  "name": "DHI_raw lag l=2",
                  "dtype": "float64",
                  "stats": {
                    "unique_count": 5,
                    "nan_count": 0,
                    "min": "39.18154761904762",
                    "max": "71.83736559139786",
                    "histogram": [
                      {
                        "bin_start": 39.18154761904762,
                        "bin_end": 42.44712941628264,
                        "count": 1
                      },
                      {
                        "bin_start": 42.44712941628264,
                        "bin_end": 45.712711213517665,
                        "count": 0
                      },
                      {
                        "bin_start": 45.712711213517665,
                        "bin_end": 48.978293010752694,
                        "count": 0
                      },
                      {
                        "bin_start": 48.978293010752694,
                        "bin_end": 52.243874807987716,
                        "count": 0
                      },
                      {
                        "bin_start": 52.243874807987716,
                        "bin_end": 55.50945660522274,
                        "count": 0
                      },
                      {
                        "bin_start": 55.50945660522274,
                        "bin_end": 58.77503840245776,
                        "count": 0
                      },
                      {
                        "bin_start": 58.77503840245776,
                        "bin_end": 62.04062019969278,
                        "count": 0
                      },
                      {
                        "bin_start": 62.04062019969278,
                        "bin_end": 65.30620199692781,
                        "count": 2
                      },
                      {
                        "bin_start": 65.30620199692781,
                        "bin_end": 68.57178379416283,
                        "count": 0
                      },
                      {
                        "bin_start": 68.57178379416283,
                        "bin_end": 71.83736559139786,
                        "count": 2
                      }
                    ]
                  }
                },
                {
                  "name": "DNI_raw lag l=2",
                  "dtype": "float64",
                  "stats": {
                    "unique_count": 5,
                    "nan_count": 0,
                    "min": "216.32930107526883",
                    "max": "376.4611111111111",
                    "histogram": [
                      {
                        "bin_start": 216.32930107526883,
                        "bin_end": 232.34248207885307,
                        "count": 1
                      },
                      {
                        "bin_start": 232.34248207885307,
                        "bin_end": 248.35566308243727,
                        "count": 0
                      },
                      {
                        "bin_start": 248.35566308243727,
                        "bin_end": 264.3688440860215,
                        "count": 0
                      },
                      {
                        "bin_start": 264.3688440860215,
                        "bin_end": 280.38202508960575,
                        "count": 1
                      },
                      {
                        "bin_start": 280.38202508960575,
                        "bin_end": 296.39520609319,
                        "count": 0
                      },
                      {
                        "bin_start": 296.39520609319,
                        "bin_end": 312.4083870967742,
                        "count": 0
                      },
                      {
                        "bin_start": 312.4083870967742,
                        "bin_end": 328.4215681003584,
                        "count": 0
                      },
                      {
                        "bin_start": 328.4215681003584,
                        "bin_end": 344.43474910394264,
                        "count": 1
                      },
                      {
                        "bin_start": 344.43474910394264,
                        "bin_end": 360.4479301075269,
                        "count": 1
                      },
                      {
                        "bin_start": 360.4479301075269,
                        "bin_end": 376.4611111111111,
                        "count": 1
                      }
                    ]
                  }
                },
                {
                  "name": "Wind Speed lag l=2",
                  "dtype": "float64",
                  "stats": {
                    "unique_count": 5,
                    "nan_count": 0,
                    "min": "3.340322580645159",
                    "max": "4.352150537634408",
                    "histogram": [
                      {
                        "bin_start": 3.340322580645159,
                        "bin_end": 3.441505376344084,
                        "count": 2
                      },
                      {
                        "bin_start": 3.441505376344084,
                        "bin_end": 3.542688172043009,
                        "count": 0
                      },
                      {
                        "bin_start": 3.542688172043009,
                        "bin_end": 3.643870967741934,
                        "count": 0
                      },
                      {
                        "bin_start": 3.643870967741934,
                        "bin_end": 3.7450537634408585,
                        "count": 0
                      },
                      {
                        "bin_start": 3.7450537634408585,
                        "bin_end": 3.8462365591397836,
                        "count": 0
                      },
                      {
                        "bin_start": 3.8462365591397836,
                        "bin_end": 3.9474193548387086,
                        "count": 2
                      },
                      {
                        "bin_start": 3.9474193548387086,
                        "bin_end": 4.048602150537634,
                        "count": 0
                      },
                      {
                        "bin_start": 4.048602150537634,
                        "bin_end": 4.149784946236558,
                        "count": 0
                      },
                      {
                        "bin_start": 4.149784946236558,
                        "bin_end": 4.250967741935483,
                        "count": 0
                      },
                      {
                        "bin_start": 4.250967741935483,
                        "bin_end": 4.352150537634408,
                        "count": 1
                      }
                    ]
                  }
                },
                {
                  "name": "Temperature_raw lag l=2",
                  "dtype": "float64",
                  "stats": {
                    "unique_count": 5,
                    "nan_count": 0,
                    "min": "9.81547619047619",
                    "max": "15.365277777777775",
                    "histogram": [
                      {
                        "bin_start": 9.81547619047619,
                        "bin_end": 10.370456349206348,
                        "count": 1
                      },
                      {
                        "bin_start": 10.370456349206348,
                        "bin_end": 10.925436507936507,
                        "count": 0
                      },
                      {
                        "bin_start": 10.925436507936507,
                        "bin_end": 11.480416666666665,
                        "count": 1
                      },
                      {
                        "bin_start": 11.480416666666665,
                        "bin_end": 12.035396825396823,
                        "count": 0
                      },
                      {
                        "bin_start": 12.035396825396823,
                        "bin_end": 12.590376984126983,
                        "count": 0
                      },
                      {
                        "bin_start": 12.590376984126983,
                        "bin_end": 13.145357142857142,
                        "count": 1
                      },
                      {
                        "bin_start": 13.145357142857142,
                        "bin_end": 13.7003373015873,
                        "count": 0
                      },
                      {
                        "bin_start": 13.7003373015873,
                        "bin_end": 14.255317460317459,
                        "count": 1
                      },
                      {
                        "bin_start": 14.255317460317459,
                        "bin_end": 14.810297619047617,
                        "count": 0
                      },
                      {
                        "bin_start": 14.810297619047617,
                        "bin_end": 15.365277777777775,
                        "count": 1
                      }
                    ]
                  }
                },
                {
                  "name": "Solar_Zenith_Angle_raw lag l=2",
                  "dtype": "float64",
                  "stats": {
                    "unique_count": 5,
                    "nan_count": 0,
                    "min": "72.62913888888878",
                    "max": "99.51779761904764",
                    "histogram": [
                      {
                        "bin_start": 72.62913888888878,
                        "bin_end": 75.31800476190466,
                        "count": 1
                      },
                      {
                        "bin_start": 75.31800476190466,
                        "bin_end": 78.00687063492055,
                        "count": 1
                      },
                      {
                        "bin_start": 78.00687063492055,
                        "bin_end": 80.69573650793643,
                        "count": 0
                      },
                      {
                        "bin_start": 80.69573650793643,
                        "bin_end": 83.38460238095232,
                        "count": 1
                      },
                      {
                        "bin_start": 83.38460238095232,
                        "bin_end": 86.0734682539682,
                        "count": 0
                      },
                      {
                        "bin_start": 86.0734682539682,
                        "bin_end": 88.76233412698409,
                        "count": 0
                      },
                      {
                        "bin_start": 88.76233412698409,
                        "bin_end": 91.45119999999999,
                        "count": 1
                      },
                      {
                        "bin_start": 91.45119999999999,
                        "bin_end": 94.14006587301587,
                        "count": 0
                      },
                      {
                        "bin_start": 94.14006587301587,
                        "bin_end": 96.82893174603176,
                        "count": 0
                      },
                      {
                        "bin_start": 96.82893174603176,
                        "bin_end": 99.51779761904764,
                        "count": 1
                      }
                    ]
                  }
                },
                {
                  "name": "AVERAGEKWH_raw lag l=3",
                  "dtype": "float64",
                  "stats": {
                    "unique_count": 4,
                    "nan_count": 0,
                    "min": "407.0",
                    "max": "555.0",
                    "histogram": [
                      {
                        "bin_start": 407,
                        "bin_end": 421.8,
                        "count": 2
                      },
                      {
                        "bin_start": 421.8,
                        "bin_end": 436.6,
                        "count": 0
                      },
                      {
                        "bin_start": 436.6,
                        "bin_end": 451.4,
                        "count": 0
                      },
                      {
                        "bin_start": 451.4,
                        "bin_end": 466.2,
                        "count": 2
                      },
                      {
                        "bin_start": 466.2,
                        "bin_end": 481,
                        "count": 0
                      },
                      {
                        "bin_start": 481,
                        "bin_end": 495.8,
                        "count": 0
                      },
                      {
                        "bin_start": 495.8,
                        "bin_end": 510.6,
                        "count": 0
                      },
                      {
                        "bin_start": 510.6,
                        "bin_end": 525.4,
                        "count": 0
                      },
                      {
                        "bin_start": 525.4,
                        "bin_end": 540.2,
                        "count": 0
                      },
                      {
                        "bin_start": 540.2,
                        "bin_end": 555,
                        "count": 1
                      }
                    ]
                  }
                },
                {
                  "name": "GHI_raw lag l=3",
                  "dtype": "float64",
                  "stats": {
                    "unique_count": 5,
                    "nan_count": 0,
                    "min": "118.5510752688172",
                    "max": "311.5712365591398",
                    "histogram": [
                      {
                        "bin_start": 118.5510752688172,
                        "bin_end": 137.85309139784945,
                        "count": 1
                      },
                      {
                        "bin_start": 137.85309139784945,
                        "bin_end": 157.15510752688172,
                        "count": 0
                      },
                      {
                        "bin_start": 157.15510752688172,
                        "bin_end": 176.45712365591396,
                        "count": 1
                      },
                      {
                        "bin_start": 176.45712365591396,
                        "bin_end": 195.75913978494623,
                        "count": 1
                      },
                      {
                        "bin_start": 195.75913978494623,
                        "bin_end": 215.0611559139785,
                        "count": 0
                      },
                      {
                        "bin_start": 215.0611559139785,
                        "bin_end": 234.36317204301076,
                        "count": 0
                      },
                      {
                        "bin_start": 234.36317204301076,
                        "bin_end": 253.66518817204297,
                        "count": 0
                      },
                      {
                        "bin_start": 253.66518817204297,
                        "bin_end": 272.96720430107524,
                        "count": 0
                      },
                      {
                        "bin_start": 272.96720430107524,
                        "bin_end": 292.2692204301075,
                        "count": 1
                      },
                      {
                        "bin_start": 292.2692204301075,
                        "bin_end": 311.5712365591398,
                        "count": 1
                      }
                    ]
                  }
                },
                {
                  "name": "DHI_raw lag l=3",
                  "dtype": "float64",
                  "stats": {
                    "unique_count": 5,
                    "nan_count": 0,
                    "min": "30.461021505376344",
                    "max": "71.83736559139786",
                    "histogram": [
                      {
                        "bin_start": 30.461021505376344,
                        "bin_end": 34.5986559139785,
                        "count": 1
                      },
                      {
                        "bin_start": 34.5986559139785,
                        "bin_end": 38.73629032258064,
                        "count": 0
                      },
                      {
                        "bin_start": 38.73629032258064,
                        "bin_end": 42.8739247311828,
                        "count": 1
                      },
                      {
                        "bin_start": 42.8739247311828,
                        "bin_end": 47.01155913978495,
                        "count": 0
                      },
                      {
                        "bin_start": 47.01155913978495,
                        "bin_end": 51.1491935483871,
                        "count": 0
                      },
                      {
                        "bin_start": 51.1491935483871,
                        "bin_end": 55.28682795698926,
                        "count": 0
                      },
                      {
                        "bin_start": 55.28682795698926,
                        "bin_end": 59.4244623655914,
                        "count": 0
                      },
                      {
                        "bin_start": 59.4244623655914,
                        "bin_end": 63.562096774193556,
                        "count": 0
                      },
                      {
                        "bin_start": 63.562096774193556,
                        "bin_end": 67.69973118279572,
                        "count": 1
                      },
                      {
                        "bin_start": 67.69973118279572,
                        "bin_end": 71.83736559139786,
                        "count": 2
                      }
                    ]
                  }
                },
                {
                  "name": "DNI_raw lag l=3",
                  "dtype": "float64",
                  "stats": {
                    "unique_count": 5,
                    "nan_count": 0,
                    "min": "216.32930107526883",
                    "max": "346.98655913978496",
                    "histogram": [
                      {
                        "bin_start": 216.32930107526883,
                        "bin_end": 229.39502688172044,
                        "count": 2
                      },
                      {
                        "bin_start": 229.39502688172044,
                        "bin_end": 242.46075268817205,
                        "count": 0
                      },
                      {
                        "bin_start": 242.46075268817205,
                        "bin_end": 255.5264784946237,
                        "count": 0
                      },
                      {
                        "bin_start": 255.5264784946237,
                        "bin_end": 268.5922043010753,
                        "count": 0
                      },
                      {
                        "bin_start": 268.5922043010753,
                        "bin_end": 281.6579301075269,
                        "count": 1
                      },
                      {
                        "bin_start": 281.6579301075269,
                        "bin_end": 294.7236559139785,
                        "count": 0
                      },
                      {
                        "bin_start": 294.7236559139785,
                        "bin_end": 307.78938172043013,
                        "count": 0
                      },
                      {
                        "bin_start": 307.78938172043013,
                        "bin_end": 320.85510752688174,
                        "count": 0
                      },
                      {
                        "bin_start": 320.85510752688174,
                        "bin_end": 333.92083333333335,
                        "count": 0
                      },
                      {
                        "bin_start": 333.92083333333335,
                        "bin_end": 346.98655913978496,
                        "count": 2
                      }
                    ]
                  }
                },
                {
                  "name": "Wind Speed lag l=3",
                  "dtype": "float64",
                  "stats": {
                    "unique_count": 5,
                    "nan_count": 0,
                    "min": "3.340322580645159",
                    "max": "4.352150537634408",
                    "histogram": [
                      {
                        "bin_start": 3.340322580645159,
                        "bin_end": 3.441505376344084,
                        "count": 2
                      },
                      {
                        "bin_start": 3.441505376344084,
                        "bin_end": 3.542688172043009,
                        "count": 0
                      },
                      {
                        "bin_start": 3.542688172043009,
                        "bin_end": 3.643870967741934,
                        "count": 1
                      },
                      {
                        "bin_start": 3.643870967741934,
                        "bin_end": 3.7450537634408585,
                        "count": 0
                      },
                      {
                        "bin_start": 3.7450537634408585,
                        "bin_end": 3.8462365591397836,
                        "count": 0
                      },
                      {
                        "bin_start": 3.8462365591397836,
                        "bin_end": 3.9474193548387086,
                        "count": 1
                      },
                      {
                        "bin_start": 3.9474193548387086,
                        "bin_end": 4.048602150537634,
                        "count": 0
                      },
                      {
                        "bin_start": 4.048602150537634,
                        "bin_end": 4.149784946236558,
                        "count": 0
                      },
                      {
                        "bin_start": 4.149784946236558,
                        "bin_end": 4.250967741935483,
                        "count": 0
                      },
                      {
                        "bin_start": 4.250967741935483,
                        "bin_end": 4.352150537634408,
                        "count": 1
                      }
                    ]
                  }
                },
                {
                  "name": "Temperature_raw lag l=3",
                  "dtype": "float64",
                  "stats": {
                    "unique_count": 5,
                    "nan_count": 0,
                    "min": "9.044354838709678",
                    "max": "13.991935483870968",
                    "histogram": [
                      {
                        "bin_start": 9.044354838709678,
                        "bin_end": 9.539112903225806,
                        "count": 1
                      },
                      {
                        "bin_start": 9.539112903225806,
                        "bin_end": 10.033870967741937,
                        "count": 1
                      },
                      {
                        "bin_start": 10.033870967741937,
                        "bin_end": 10.528629032258065,
                        "count": 0
                      },
                      {
                        "bin_start": 10.528629032258065,
                        "bin_end": 11.023387096774194,
                        "count": 0
                      },
                      {
                        "bin_start": 11.023387096774194,
                        "bin_end": 11.518145161290324,
                        "count": 1
                      },
                      {
                        "bin_start": 11.518145161290324,
                        "bin_end": 12.012903225806452,
                        "count": 0
                      },
                      {
                        "bin_start": 12.012903225806452,
                        "bin_end": 12.50766129032258,
                        "count": 0
                      },
                      {
                        "bin_start": 12.50766129032258,
                        "bin_end": 13.002419354838711,
                        "count": 1
                      },
                      {
                        "bin_start": 13.002419354838711,
                        "bin_end": 13.49717741935484,
                        "count": 0
                      },
                      {
                        "bin_start": 13.49717741935484,
                        "bin_end": 13.991935483870968,
                        "count": 1
                      }
                    ]
                  }
                },
                {
                  "name": "Solar_Zenith_Angle_raw lag l=3",
                  "dtype": "float64",
                  "stats": {
                    "unique_count": 5,
                    "nan_count": 0,
                    "min": "75.56540322580652",
                    "max": "105.47831989247314",
                    "histogram": [
                      {
                        "bin_start": 75.56540322580652,
                        "bin_end": 78.55669489247319,
                        "count": 1
                      },
                      {
                        "bin_start": 78.55669489247319,
                        "bin_end": 81.54798655913984,
                        "count": 0
                      },
                      {
                        "bin_start": 81.54798655913984,
                        "bin_end": 84.5392782258065,
                        "count": 1
                      },
                      {
                        "bin_start": 84.5392782258065,
                        "bin_end": 87.53056989247317,
                        "count": 0
                      },
                      {
                        "bin_start": 87.53056989247317,
                        "bin_end": 90.52186155913984,
                        "count": 0
                      },
                      {
                        "bin_start": 90.52186155913984,
                        "bin_end": 93.51315322580649,
                        "count": 1
                      },
                      {
                        "bin_start": 93.51315322580649,
                        "bin_end": 96.50444489247315,
                        "count": 0
                      },
                      {
                        "bin_start": 96.50444489247315,
                        "bin_end": 99.49573655913981,
                        "count": 0
                      },
                      {
                        "bin_start": 99.49573655913981,
                        "bin_end": 102.48702822580648,
                        "count": 1
                      },
                      {
                        "bin_start": 102.48702822580648,
                        "bin_end": 105.47831989247314,
                        "count": 1
                      }
                    ]
                  }
                },
                {
                  "name": "_deepnote_index_column",
                  "dtype": "int64"
                }
              ],
              "rows_top": [
                {
                  "MONTH": 4,
                  "YEAR": 2013,
                  "AVERAGEKWH_raw lag l=1": 455,
                  "GHI_raw lag l=1": 195.7150537634409,
                  "DHI_raw lag l=1": 71.25537634408602,
                  "DNI_raw lag l=1": 216.32930107526883,
                  "Wind Speed lag l=1": 3.340322580645159,
                  "Temperature_raw lag l=1": 11.181451612903226,
                  "Solar_Zenith_Angle_raw lag l=1": 91.10326612903224,
                  "AVERAGEKWH_raw lag l=2": 456,
                  "GHI_raw lag l=2": 166.96130952380952,
                  "DHI_raw lag l=2": 39.18154761904762,
                  "DNI_raw lag l=2": 269.0059523809524,
                  "Wind Speed lag l=2": 3.429166666666664,
                  "Temperature_raw lag l=2": 9.81547619047619,
                  "Solar_Zenith_Angle_raw lag l=2": 99.51779761904764,
                  "AVERAGEKWH_raw lag l=3": 555,
                  "GHI_raw lag l=3": 118.5510752688172,
                  "DHI_raw lag l=3": 30.461021505376344,
                  "DNI_raw lag l=3": 220.58467741935485,
                  "Wind Speed lag l=3": 3.5642473118279567,
                  "Temperature_raw lag l=3": 9.044354838709678,
                  "Solar_Zenith_Angle_raw lag l=3": 105.47831989247314,
                  "_deepnote_index_column": 3
                },
                {
                  "MONTH": 5,
                  "YEAR": 2013,
                  "AVERAGEKWH_raw lag l=1": 407,
                  "GHI_raw lag l=1": 284.41805555555555,
                  "DHI_raw lag l=1": 64.43194444444444,
                  "DNI_raw lag l=1": 334.99583333333334,
                  "Wind Speed lag l=1": 3.858194444444441,
                  "Temperature_raw lag l=1": 12.713888888888889,
                  "Solar_Zenith_Angle_raw lag l=1": 82.26554166666673,
                  "AVERAGEKWH_raw lag l=2": 455,
                  "GHI_raw lag l=2": 195.7150537634409,
                  "DHI_raw lag l=2": 71.25537634408602,
                  "DNI_raw lag l=2": 216.32930107526883,
                  "Wind Speed lag l=2": 3.340322580645159,
                  "Temperature_raw lag l=2": 11.181451612903226,
                  "Solar_Zenith_Angle_raw lag l=2": 91.10326612903224,
                  "AVERAGEKWH_raw lag l=3": 456,
                  "GHI_raw lag l=3": 166.96130952380952,
                  "DHI_raw lag l=3": 39.18154761904762,
                  "DNI_raw lag l=3": 269.0059523809524,
                  "Wind Speed lag l=3": 3.429166666666664,
                  "Temperature_raw lag l=3": 9.81547619047619,
                  "Solar_Zenith_Angle_raw lag l=3": 99.51779761904764,
                  "_deepnote_index_column": 4
                },
                {
                  "MONTH": 6,
                  "YEAR": 2013,
                  "AVERAGEKWH_raw lag l=1": 407,
                  "GHI_raw lag l=1": 311.5712365591398,
                  "DHI_raw lag l=1": 71.83736559139786,
                  "DNI_raw lag l=1": 346.98655913978496,
                  "Wind Speed lag l=1": 4.352150537634408,
                  "Temperature_raw lag l=1": 13.991935483870968,
                  "Solar_Zenith_Angle_raw lag l=1": 75.56540322580652,
                  "AVERAGEKWH_raw lag l=2": 407,
                  "GHI_raw lag l=2": 284.41805555555555,
                  "DHI_raw lag l=2": 64.43194444444444,
                  "DNI_raw lag l=2": 334.99583333333334,
                  "Wind Speed lag l=2": 3.858194444444441,
                  "Temperature_raw lag l=2": 12.713888888888889,
                  "Solar_Zenith_Angle_raw lag l=2": 82.26554166666673,
                  "AVERAGEKWH_raw lag l=3": 455,
                  "GHI_raw lag l=3": 195.7150537634409,
                  "DHI_raw lag l=3": 71.25537634408602,
                  "DNI_raw lag l=3": 216.32930107526883,
                  "Wind Speed lag l=3": 3.340322580645159,
                  "Temperature_raw lag l=3": 11.181451612903226,
                  "Solar_Zenith_Angle_raw lag l=3": 91.10326612903224,
                  "_deepnote_index_column": 5
                },
                {
                  "MONTH": 7,
                  "YEAR": 2013,
                  "AVERAGEKWH_raw lag l=1": 400,
                  "GHI_raw lag l=1": 325.86805555555554,
                  "DHI_raw lag l=1": 65.13472222222222,
                  "DNI_raw lag l=1": 376.4611111111111,
                  "Wind Speed lag l=1": 3.938611111111112,
                  "Temperature_raw lag l=1": 15.365277777777775,
                  "Solar_Zenith_Angle_raw lag l=1": 72.62913888888878,
                  "AVERAGEKWH_raw lag l=2": 407,
                  "GHI_raw lag l=2": 311.5712365591398,
                  "DHI_raw lag l=2": 71.83736559139786,
                  "DNI_raw lag l=2": 346.98655913978496,
                  "Wind Speed lag l=2": 4.352150537634408,
                  "Temperature_raw lag l=2": 13.991935483870968,
                  "Solar_Zenith_Angle_raw lag l=2": 75.56540322580652,
                  "AVERAGEKWH_raw lag l=3": 407,
                  "GHI_raw lag l=3": 284.41805555555555,
                  "DHI_raw lag l=3": 64.43194444444444,
                  "DNI_raw lag l=3": 334.99583333333334,
                  "Wind Speed lag l=3": 3.858194444444441,
                  "Temperature_raw lag l=3": 12.713888888888889,
                  "Solar_Zenith_Angle_raw lag l=3": 82.26554166666673,
                  "_deepnote_index_column": 6
                },
                {
                  "MONTH": 8,
                  "YEAR": 2013,
                  "AVERAGEKWH_raw lag l=1": 405,
                  "GHI_raw lag l=1": 326.3481182795699,
                  "DHI_raw lag l=1": 68.26881720430107,
                  "DNI_raw lag l=1": 372.7244623655914,
                  "Wind Speed lag l=1": 3.2099462365591425,
                  "Temperature_raw lag l=1": 16.071236559139784,
                  "Solar_Zenith_Angle_raw lag l=1": 74.15298387096776,
                  "AVERAGEKWH_raw lag l=2": 400,
                  "GHI_raw lag l=2": 325.86805555555554,
                  "DHI_raw lag l=2": 65.13472222222222,
                  "DNI_raw lag l=2": 376.4611111111111,
                  "Wind Speed lag l=2": 3.938611111111112,
                  "Temperature_raw lag l=2": 15.365277777777775,
                  "Solar_Zenith_Angle_raw lag l=2": 72.62913888888878,
                  "AVERAGEKWH_raw lag l=3": 407,
                  "GHI_raw lag l=3": 311.5712365591398,
                  "DHI_raw lag l=3": 71.83736559139786,
                  "DNI_raw lag l=3": 346.98655913978496,
                  "Wind Speed lag l=3": 4.352150537634408,
                  "Temperature_raw lag l=3": 13.991935483870968,
                  "Solar_Zenith_Angle_raw lag l=3": 75.56540322580652,
                  "_deepnote_index_column": 7
                }
              ],
              "rows_bottom": null
            },
            "text/plain": "   MONTH  YEAR  AVERAGEKWH_raw lag l=1  GHI_raw lag l=1  DHI_raw lag l=1  \\\n3      4  2013                   455.0       195.715054        71.255376   \n4      5  2013                   407.0       284.418056        64.431944   \n5      6  2013                   407.0       311.571237        71.837366   \n6      7  2013                   400.0       325.868056        65.134722   \n7      8  2013                   405.0       326.348118        68.268817   \n\n   DNI_raw lag l=1  Wind Speed lag l=1  Temperature_raw lag l=1  \\\n3       216.329301            3.340323                11.181452   \n4       334.995833            3.858194                12.713889   \n5       346.986559            4.352151                13.991935   \n6       376.461111            3.938611                15.365278   \n7       372.724462            3.209946                16.071237   \n\n   Solar_Zenith_Angle_raw lag l=1  AVERAGEKWH_raw lag l=2  ...  \\\n3                       91.103266                   456.0  ...   \n4                       82.265542                   455.0  ...   \n5                       75.565403                   407.0  ...   \n6                       72.629139                   407.0  ...   \n7                       74.152984                   400.0  ...   \n\n   Wind Speed lag l=2  Temperature_raw lag l=2  \\\n3            3.429167                 9.815476   \n4            3.340323                11.181452   \n5            3.858194                12.713889   \n6            4.352151                13.991935   \n7            3.938611                15.365278   \n\n   Solar_Zenith_Angle_raw lag l=2  AVERAGEKWH_raw lag l=3  GHI_raw lag l=3  \\\n3                       99.517798                   555.0       118.551075   \n4                       91.103266                   456.0       166.961310   \n5                       82.265542                   455.0       195.715054   \n6                       75.565403                   407.0       284.418056   \n7                       72.629139                   407.0       311.571237   \n\n   DHI_raw lag l=3  DNI_raw lag l=3  Wind Speed lag l=3  \\\n3        30.461022       220.584677            3.564247   \n4        39.181548       269.005952            3.429167   \n5        71.255376       216.329301            3.340323   \n6        64.431944       334.995833            3.858194   \n7        71.837366       346.986559            4.352151   \n\n   Temperature_raw lag l=3  Solar_Zenith_Angle_raw lag l=3  \n3                 9.044355                      105.478320  \n4                 9.815476                       99.517798  \n5                11.181452                       91.103266  \n6                12.713889                       82.265542  \n7                13.991935                       75.565403  \n\n[5 rows x 23 columns]",
            "text/html": "<div>\n<style scoped>\n    .dataframe tbody tr th:only-of-type {\n        vertical-align: middle;\n    }\n\n    .dataframe tbody tr th {\n        vertical-align: top;\n    }\n\n    .dataframe thead th {\n        text-align: right;\n    }\n</style>\n<table border=\"1\" class=\"dataframe\">\n  <thead>\n    <tr style=\"text-align: right;\">\n      <th></th>\n      <th>MONTH</th>\n      <th>YEAR</th>\n      <th>AVERAGEKWH_raw lag l=1</th>\n      <th>GHI_raw lag l=1</th>\n      <th>DHI_raw lag l=1</th>\n      <th>DNI_raw lag l=1</th>\n      <th>Wind Speed lag l=1</th>\n      <th>Temperature_raw lag l=1</th>\n      <th>Solar_Zenith_Angle_raw lag l=1</th>\n      <th>AVERAGEKWH_raw lag l=2</th>\n      <th>...</th>\n      <th>Wind Speed lag l=2</th>\n      <th>Temperature_raw lag l=2</th>\n      <th>Solar_Zenith_Angle_raw lag l=2</th>\n      <th>AVERAGEKWH_raw lag l=3</th>\n      <th>GHI_raw lag l=3</th>\n      <th>DHI_raw lag l=3</th>\n      <th>DNI_raw lag l=3</th>\n      <th>Wind Speed lag l=3</th>\n      <th>Temperature_raw lag l=3</th>\n      <th>Solar_Zenith_Angle_raw lag l=3</th>\n    </tr>\n  </thead>\n  <tbody>\n    <tr>\n      <th>3</th>\n      <td>4</td>\n      <td>2013</td>\n      <td>455.0</td>\n      <td>195.715054</td>\n      <td>71.255376</td>\n      <td>216.329301</td>\n      <td>3.340323</td>\n      <td>11.181452</td>\n      <td>91.103266</td>\n      <td>456.0</td>\n      <td>...</td>\n      <td>3.429167</td>\n      <td>9.815476</td>\n      <td>99.517798</td>\n      <td>555.0</td>\n      <td>118.551075</td>\n      <td>30.461022</td>\n      <td>220.584677</td>\n      <td>3.564247</td>\n      <td>9.044355</td>\n      <td>105.478320</td>\n    </tr>\n    <tr>\n      <th>4</th>\n      <td>5</td>\n      <td>2013</td>\n      <td>407.0</td>\n      <td>284.418056</td>\n      <td>64.431944</td>\n      <td>334.995833</td>\n      <td>3.858194</td>\n      <td>12.713889</td>\n      <td>82.265542</td>\n      <td>455.0</td>\n      <td>...</td>\n      <td>3.340323</td>\n      <td>11.181452</td>\n      <td>91.103266</td>\n      <td>456.0</td>\n      <td>166.961310</td>\n      <td>39.181548</td>\n      <td>269.005952</td>\n      <td>3.429167</td>\n      <td>9.815476</td>\n      <td>99.517798</td>\n    </tr>\n    <tr>\n      <th>5</th>\n      <td>6</td>\n      <td>2013</td>\n      <td>407.0</td>\n      <td>311.571237</td>\n      <td>71.837366</td>\n      <td>346.986559</td>\n      <td>4.352151</td>\n      <td>13.991935</td>\n      <td>75.565403</td>\n      <td>407.0</td>\n      <td>...</td>\n      <td>3.858194</td>\n      <td>12.713889</td>\n      <td>82.265542</td>\n      <td>455.0</td>\n      <td>195.715054</td>\n      <td>71.255376</td>\n      <td>216.329301</td>\n      <td>3.340323</td>\n      <td>11.181452</td>\n      <td>91.103266</td>\n    </tr>\n    <tr>\n      <th>6</th>\n      <td>7</td>\n      <td>2013</td>\n      <td>400.0</td>\n      <td>325.868056</td>\n      <td>65.134722</td>\n      <td>376.461111</td>\n      <td>3.938611</td>\n      <td>15.365278</td>\n      <td>72.629139</td>\n      <td>407.0</td>\n      <td>...</td>\n      <td>4.352151</td>\n      <td>13.991935</td>\n      <td>75.565403</td>\n      <td>407.0</td>\n      <td>284.418056</td>\n      <td>64.431944</td>\n      <td>334.995833</td>\n      <td>3.858194</td>\n      <td>12.713889</td>\n      <td>82.265542</td>\n    </tr>\n    <tr>\n      <th>7</th>\n      <td>8</td>\n      <td>2013</td>\n      <td>405.0</td>\n      <td>326.348118</td>\n      <td>68.268817</td>\n      <td>372.724462</td>\n      <td>3.209946</td>\n      <td>16.071237</td>\n      <td>74.152984</td>\n      <td>400.0</td>\n      <td>...</td>\n      <td>3.938611</td>\n      <td>15.365278</td>\n      <td>72.629139</td>\n      <td>407.0</td>\n      <td>311.571237</td>\n      <td>71.837366</td>\n      <td>346.986559</td>\n      <td>4.352151</td>\n      <td>13.991935</td>\n      <td>75.565403</td>\n    </tr>\n  </tbody>\n</table>\n<p>5 rows × 23 columns</p>\n</div>"
          },
          "metadata": {}
        }
      ],
      "execution_count": null
    },
    {
      "cell_type": "code",
      "source": "len(lagged_bame_pnc_dropna)",
      "metadata": {
        "tags": [],
        "cell_id": "00025-2916a9f4-91d0-428a-a572-e41b4aafd2e3",
        "deepnote_to_be_reexecuted": false,
        "source_hash": "51adf5a5",
        "execution_millis": 9,
        "execution_start": 1619166115632,
        "deepnote_cell_type": "code"
      },
      "outputs": [
        {
          "output_type": "execute_result",
          "execution_count": 10,
          "data": {
            "text/plain": "28921"
          },
          "metadata": {}
        }
      ],
      "execution_count": null
    },
    {
      "cell_type": "code",
      "metadata": {
        "tags": [],
        "deepnote_to_be_reexecuted": false,
        "source_hash": "a65ead9b",
        "execution_millis": 264,
        "cell_id": "00026-8650e738-cb14-42cc-9f5f-d14370488b5d",
        "execution_start": 1619133771782,
        "is_code_hidden": true,
        "output_cleared": true,
        "deepnote_cell_type": "code"
      },
      "source": "bay_area_monthly_elec_pge_nrel_clean.head()",
      "execution_count": null,
      "outputs": []
    },
    {
      "cell_type": "code",
      "metadata": {
        "tags": [],
        "deepnote_to_be_reexecuted": false,
        "source_hash": "d028c20f",
        "execution_millis": 7,
        "cell_id": "00040-54865f7f-2303-4aa2-985e-f40d5d97ecbd",
        "execution_start": 1619162106837,
        "is_code_hidden": true,
        "output_cleared": true,
        "deepnote_cell_type": "code"
      },
      "source": "elec_Y_train.mean()",
      "execution_count": null,
      "outputs": []
    },
    {
      "cell_type": "code",
      "metadata": {
        "tags": [],
        "deepnote_to_be_reexecuted": false,
        "source_hash": "2255a552",
        "execution_millis": 160,
        "cell_id": "00041-39f4d3bb-30f8-425e-b2c9-8a8c9146d756",
        "execution_start": 1619162106841,
        "is_code_hidden": true,
        "output_cleared": true,
        "deepnote_cell_type": "code"
      },
      "source": "bay_area_monthly_elec_pge_nrel_clean.describe()",
      "execution_count": null,
      "outputs": []
    },
    {
      "cell_type": "code",
      "metadata": {
        "tags": [],
        "deepnote_to_be_reexecuted": false,
        "source_hash": "81ef2cc9",
        "execution_millis": 177,
        "cell_id": "00042-5649bfee-e5c8-411b-a98e-bf809a59edbd",
        "execution_start": 1619162117496,
        "deepnote_cell_type": "code"
      },
      "source": " plt.plot(bay_area_monthly_elec_pge_nrel['TOTALKWH_std'])\n#keep this plot!! shows why we got rid of the data (and make prettier)\n #plt.plot(bay_area_monthly_elec_pge_nrel_clean['TOTALKWH_std']) #add this plot to it side by side to show\n ",
      "outputs": [
        {
          "output_type": "execute_result",
          "execution_count": 28,
          "data": {
            "text/plain": "[<matplotlib.lines.Line2D at 0x7fb29e79a490>]"
          },
          "metadata": {}
        },
        {
          "data": {
            "text/plain": "<Figure size 432x288 with 1 Axes>",
            "image/png": "[encoded data removed]"
          },
          "metadata": {
            "needs_background": "light"
          },
          "output_type": "display_data"
        }
      ],
      "execution_count": null
    },
    {
      "cell_type": "code",
      "metadata": {
        "tags": [],
        "deepnote_to_be_reexecuted": false,
        "source_hash": "ffac0c8b",
        "execution_millis": 682,
        "cell_id": "00043-51b75ae6-9e1c-40de-aba3-da691e6a6d31",
        "execution_start": 1619162135041,
        "deepnote_cell_type": "code"
      },
      "source": "sns.distplot(bay_area_monthly_elec_pge_nrel['TOTALKWH_std'])\nsns.distplot(bay_area_monthly_elec_pge_nrel_clean['TOTALKWH_std'])\n",
      "outputs": [
        {
          "name": "stderr",
          "text": "/shared-libs/python3.7/py/lib/python3.7/site-packages/seaborn/distributions.py:2557: FutureWarning: `distplot` is a deprecated function and will be removed in a future version. Please adapt your code to use either `displot` (a figure-level function with similar flexibility) or `histplot` (an axes-level function for histograms).\n  warnings.warn(msg, FutureWarning)\n/shared-libs/python3.7/py/lib/python3.7/site-packages/seaborn/distributions.py:2557: FutureWarning: `distplot` is a deprecated function and will be removed in a future version. Please adapt your code to use either `displot` (a figure-level function with similar flexibility) or `histplot` (an axes-level function for histograms).\n  warnings.warn(msg, FutureWarning)\n",
          "output_type": "stream"
        },
        {
          "output_type": "execute_result",
          "execution_count": 29,
          "data": {
            "text/plain": "<AxesSubplot:xlabel='TOTALKWH_std', ylabel='Density'>"
          },
          "metadata": {}
        },
        {
          "data": {
            "text/plain": "<Figure size 432x288 with 1 Axes>",
            "image/png": "[encoded data removed]"
          },
          "metadata": {
            "needs_background": "light"
          },
          "output_type": "display_data"
        }
      ],
      "execution_count": null
    },
    {
      "cell_type": "code",
      "metadata": {
        "tags": [],
        "deepnote_to_be_reexecuted": false,
        "source_hash": "52919b6c",
        "execution_millis": 13,
        "cell_id": "00044-957dbd01-84d5-45df-acff-e3e493b337cc",
        "execution_start": 1619166130001,
        "deepnote_cell_type": "code"
      },
      "source": "## Trainv-validation split \nX_train, X_val, y_train, y_val = train_test_split(elec_X_train,elec_Y_train,test_size=0.2,\n                                                  random_state=0)\n\n",
      "outputs": [],
      "execution_count": null
    },
    {
      "cell_type": "code",
      "metadata": {
        "tags": [],
        "deepnote_to_be_reexecuted": false,
        "source_hash": "708a4e17",
        "execution_millis": 79,
        "cell_id": "00045-70e004c3-9b4b-44a5-81a5-4439fccbadbf",
        "execution_start": 1619166138925,
        "deepnote_cell_type": "code"
      },
      "source": "info(X_train)",
      "outputs": [
        {
          "name": "stdout",
          "text": "Type:  <class 'pandas.core.frame.DataFrame'>\nShape:  (23136, 23)\nColumns:  Index(['MONTH', 'YEAR', 'AVERAGEKWH_raw lag l=1', 'GHI_raw lag l=1',\n       'DHI_raw lag l=1', 'DNI_raw lag l=1', 'Wind Speed lag l=1',\n       'Temperature_raw lag l=1', 'Solar_Zenith_Angle_raw lag l=1',\n       'AVERAGEKWH_raw lag l=2', 'GHI_raw lag l=2', 'DHI_raw lag l=2',\n       'DNI_raw lag l=2', 'Wind Speed lag l=2', 'Temperature_raw lag l=2',\n       'Solar_Zenith_Angle_raw lag l=2', 'AVERAGEKWH_raw lag l=3',\n       'GHI_raw lag l=3', 'DHI_raw lag l=3', 'DNI_raw lag l=3',\n       'Wind Speed lag l=3', 'Temperature_raw lag l=3',\n       'Solar_Zenith_Angle_raw lag l=3'],\n      dtype='object')\n",
          "output_type": "stream"
        },
        {
          "data": {
            "application/vnd.deepnote.dataframe.v2+json": {
              "row_count": 5,
              "column_count": 23,
              "columns": [
                {
                  "name": "MONTH",
                  "dtype": "int64",
                  "stats": {
                    "unique_count": 4,
                    "nan_count": 0,
                    "min": "2",
                    "max": "12",
                    "histogram": [
                      {
                        "bin_start": 2,
                        "bin_end": 3,
                        "count": 2
                      },
                      {
                        "bin_start": 3,
                        "bin_end": 4,
                        "count": 0
                      },
                      {
                        "bin_start": 4,
                        "bin_end": 5,
                        "count": 0
                      },
                      {
                        "bin_start": 5,
                        "bin_end": 6,
                        "count": 0
                      },
                      {
                        "bin_start": 6,
                        "bin_end": 7,
                        "count": 1
                      },
                      {
                        "bin_start": 7,
                        "bin_end": 8,
                        "count": 0
                      },
                      {
                        "bin_start": 8,
                        "bin_end": 9,
                        "count": 0
                      },
                      {
                        "bin_start": 9,
                        "bin_end": 10,
                        "count": 0
                      },
                      {
                        "bin_start": 10,
                        "bin_end": 11,
                        "count": 1
                      },
                      {
                        "bin_start": 11,
                        "bin_end": 12,
                        "count": 1
                      }
                    ]
                  }
                },
                {
                  "name": "YEAR",
                  "dtype": "int64",
                  "stats": {
                    "unique_count": 5,
                    "nan_count": 0,
                    "min": "2013",
                    "max": "2019",
                    "histogram": [
                      {
                        "bin_start": 2013,
                        "bin_end": 2013.6,
                        "count": 1
                      },
                      {
                        "bin_start": 2013.6,
                        "bin_end": 2014.2,
                        "count": 1
                      },
                      {
                        "bin_start": 2014.2,
                        "bin_end": 2014.8,
                        "count": 0
                      },
                      {
                        "bin_start": 2014.8,
                        "bin_end": 2015.4,
                        "count": 1
                      },
                      {
                        "bin_start": 2015.4,
                        "bin_end": 2016,
                        "count": 0
                      },
                      {
                        "bin_start": 2016,
                        "bin_end": 2016.6,
                        "count": 1
                      },
                      {
                        "bin_start": 2016.6,
                        "bin_end": 2017.2,
                        "count": 0
                      },
                      {
                        "bin_start": 2017.2,
                        "bin_end": 2017.8,
                        "count": 0
                      },
                      {
                        "bin_start": 2017.8,
                        "bin_end": 2018.4,
                        "count": 0
                      },
                      {
                        "bin_start": 2018.4,
                        "bin_end": 2019,
                        "count": 1
                      }
                    ]
                  }
                },
                {
                  "name": "AVERAGEKWH_raw lag l=1",
                  "dtype": "float64",
                  "stats": {
                    "unique_count": 4,
                    "nan_count": 0,
                    "min": "0.0",
                    "max": "1167.0",
                    "histogram": [
                      {
                        "bin_start": 0,
                        "bin_end": 116.7,
                        "count": 2
                      },
                      {
                        "bin_start": 116.7,
                        "bin_end": 233.4,
                        "count": 0
                      },
                      {
                        "bin_start": 233.4,
                        "bin_end": 350.1,
                        "count": 0
                      },
                      {
                        "bin_start": 350.1,
                        "bin_end": 466.8,
                        "count": 1
                      },
                      {
                        "bin_start": 466.8,
                        "bin_end": 583.5,
                        "count": 0
                      },
                      {
                        "bin_start": 583.5,
                        "bin_end": 700.2,
                        "count": 0
                      },
                      {
                        "bin_start": 700.2,
                        "bin_end": 816.9,
                        "count": 0
                      },
                      {
                        "bin_start": 816.9,
                        "bin_end": 933.6,
                        "count": 0
                      },
                      {
                        "bin_start": 933.6,
                        "bin_end": 1050.3,
                        "count": 1
                      },
                      {
                        "bin_start": 1050.3,
                        "bin_end": 1167,
                        "count": 1
                      }
                    ]
                  }
                },
                {
                  "name": "GHI_raw lag l=1",
                  "dtype": "float64",
                  "stats": {
                    "unique_count": 5,
                    "nan_count": 0,
                    "min": "94.18817204301077",
                    "max": "314.28360215053766",
                    "histogram": [
                      {
                        "bin_start": 94.18817204301077,
                        "bin_end": 116.19771505376346,
                        "count": 3
                      },
                      {
                        "bin_start": 116.19771505376346,
                        "bin_end": 138.20725806451614,
                        "count": 0
                      },
                      {
                        "bin_start": 138.20725806451614,
                        "bin_end": 160.21680107526885,
                        "count": 1
                      },
                      {
                        "bin_start": 160.21680107526885,
                        "bin_end": 182.22634408602153,
                        "count": 0
                      },
                      {
                        "bin_start": 182.22634408602153,
                        "bin_end": 204.2358870967742,
                        "count": 0
                      },
                      {
                        "bin_start": 204.2358870967742,
                        "bin_end": 226.2454301075269,
                        "count": 0
                      },
                      {
                        "bin_start": 226.2454301075269,
                        "bin_end": 248.25497311827962,
                        "count": 0
                      },
                      {
                        "bin_start": 248.25497311827962,
                        "bin_end": 270.2645161290323,
                        "count": 0
                      },
                      {
                        "bin_start": 270.2645161290323,
                        "bin_end": 292.274059139785,
                        "count": 0
                      },
                      {
                        "bin_start": 292.274059139785,
                        "bin_end": 314.28360215053766,
                        "count": 1
                      }
                    ]
                  }
                },
                {
                  "name": "DHI_raw lag l=1",
                  "dtype": "float64",
                  "stats": {
                    "unique_count": 5,
                    "nan_count": 0,
                    "min": "34.40694444444444",
                    "max": "70.40591397849462",
                    "histogram": [
                      {
                        "bin_start": 34.40694444444444,
                        "bin_end": 38.006841397849456,
                        "count": 3
                      },
                      {
                        "bin_start": 38.006841397849456,
                        "bin_end": 41.60673835125448,
                        "count": 0
                      },
                      {
                        "bin_start": 41.60673835125448,
                        "bin_end": 45.2066353046595,
                        "count": 1
                      },
                      {
                        "bin_start": 45.2066353046595,
                        "bin_end": 48.806532258064514,
                        "count": 0
                      },
                      {
                        "bin_start": 48.806532258064514,
                        "bin_end": 52.40642921146953,
                        "count": 0
                      },
                      {
                        "bin_start": 52.40642921146953,
                        "bin_end": 56.00632616487455,
                        "count": 0
                      },
                      {
                        "bin_start": 56.00632616487455,
                        "bin_end": 59.60622311827957,
                        "count": 0
                      },
                      {
                        "bin_start": 59.60622311827957,
                        "bin_end": 63.20612007168459,
                        "count": 0
                      },
                      {
                        "bin_start": 63.20612007168459,
                        "bin_end": 66.8060170250896,
                        "count": 0
                      },
                      {
                        "bin_start": 66.8060170250896,
                        "bin_end": 70.40591397849462,
                        "count": 1
                      }
                    ]
                  }
                },
                {
                  "name": "DNI_raw lag l=1",
                  "dtype": "float64",
                  "stats": {
                    "unique_count": 5,
                    "nan_count": 0,
                    "min": "144.48252688172042",
                    "max": "359.4758064516129",
                    "histogram": [
                      {
                        "bin_start": 144.48252688172042,
                        "bin_end": 165.98185483870967,
                        "count": 1
                      },
                      {
                        "bin_start": 165.98185483870967,
                        "bin_end": 187.4811827956989,
                        "count": 1
                      },
                      {
                        "bin_start": 187.4811827956989,
                        "bin_end": 208.9805107526882,
                        "count": 2
                      },
                      {
                        "bin_start": 208.9805107526882,
                        "bin_end": 230.47983870967744,
                        "count": 0
                      },
                      {
                        "bin_start": 230.47983870967744,
                        "bin_end": 251.97916666666669,
                        "count": 0
                      },
                      {
                        "bin_start": 251.97916666666669,
                        "bin_end": 273.47849462365593,
                        "count": 0
                      },
                      {
                        "bin_start": 273.47849462365593,
                        "bin_end": 294.9778225806452,
                        "count": 0
                      },
                      {
                        "bin_start": 294.9778225806452,
                        "bin_end": 316.47715053763443,
                        "count": 0
                      },
                      {
                        "bin_start": 316.47715053763443,
                        "bin_end": 337.9764784946237,
                        "count": 0
                      },
                      {
                        "bin_start": 337.9764784946237,
                        "bin_end": 359.4758064516129,
                        "count": 1
                      }
                    ]
                  }
                },
                {
                  "name": "Wind Speed lag l=1",
                  "dtype": "float64",
                  "stats": {
                    "unique_count": 5,
                    "nan_count": 0,
                    "min": "1.8525",
                    "max": "3.5262096774193457",
                    "histogram": [
                      {
                        "bin_start": 1.8525,
                        "bin_end": 2.0198709677419346,
                        "count": 2
                      },
                      {
                        "bin_start": 2.0198709677419346,
                        "bin_end": 2.1872419354838692,
                        "count": 0
                      },
                      {
                        "bin_start": 2.1872419354838692,
                        "bin_end": 2.354612903225804,
                        "count": 1
                      },
                      {
                        "bin_start": 2.354612903225804,
                        "bin_end": 2.5219838709677385,
                        "count": 1
                      },
                      {
                        "bin_start": 2.5219838709677385,
                        "bin_end": 2.689354838709673,
                        "count": 0
                      },
                      {
                        "bin_start": 2.689354838709673,
                        "bin_end": 2.8567258064516072,
                        "count": 0
                      },
                      {
                        "bin_start": 2.8567258064516072,
                        "bin_end": 3.024096774193542,
                        "count": 0
                      },
                      {
                        "bin_start": 3.024096774193542,
                        "bin_end": 3.1914677419354764,
                        "count": 0
                      },
                      {
                        "bin_start": 3.1914677419354764,
                        "bin_end": 3.358838709677411,
                        "count": 0
                      },
                      {
                        "bin_start": 3.358838709677411,
                        "bin_end": 3.5262096774193457,
                        "count": 1
                      }
                    ]
                  }
                },
                {
                  "name": "Temperature_raw lag l=1",
                  "dtype": "float64",
                  "stats": {
                    "unique_count": 5,
                    "nan_count": 0,
                    "min": "10.159408602150538",
                    "max": "16.02016129032258",
                    "histogram": [
                      {
                        "bin_start": 10.159408602150538,
                        "bin_end": 10.745483870967742,
                        "count": 1
                      },
                      {
                        "bin_start": 10.745483870967742,
                        "bin_end": 11.331559139784947,
                        "count": 0
                      },
                      {
                        "bin_start": 11.331559139784947,
                        "bin_end": 11.91763440860215,
                        "count": 0
                      },
                      {
                        "bin_start": 11.91763440860215,
                        "bin_end": 12.503709677419355,
                        "count": 1
                      },
                      {
                        "bin_start": 12.503709677419355,
                        "bin_end": 13.08978494623656,
                        "count": 0
                      },
                      {
                        "bin_start": 13.08978494623656,
                        "bin_end": 13.675860215053763,
                        "count": 0
                      },
                      {
                        "bin_start": 13.675860215053763,
                        "bin_end": 14.261935483870968,
                        "count": 1
                      },
                      {
                        "bin_start": 14.261935483870968,
                        "bin_end": 14.848010752688172,
                        "count": 0
                      },
                      {
                        "bin_start": 14.848010752688172,
                        "bin_end": 15.434086021505376,
                        "count": 0
                      },
                      {
                        "bin_start": 15.434086021505376,
                        "bin_end": 16.02016129032258,
                        "count": 2
                      }
                    ]
                  }
                },
                {
                  "name": "Solar_Zenith_Angle_raw lag l=1",
                  "dtype": "float64",
                  "stats": {
                    "unique_count": 5,
                    "nan_count": 0,
                    "min": "75.50186827956992",
                    "max": "105.58177419354828",
                    "histogram": [
                      {
                        "bin_start": 75.50186827956992,
                        "bin_end": 78.50985887096776,
                        "count": 1
                      },
                      {
                        "bin_start": 78.50985887096776,
                        "bin_end": 81.51784946236559,
                        "count": 0
                      },
                      {
                        "bin_start": 81.51784946236559,
                        "bin_end": 84.52584005376343,
                        "count": 0
                      },
                      {
                        "bin_start": 84.52584005376343,
                        "bin_end": 87.53383064516126,
                        "count": 0
                      },
                      {
                        "bin_start": 87.53383064516126,
                        "bin_end": 90.5418212365591,
                        "count": 0
                      },
                      {
                        "bin_start": 90.5418212365591,
                        "bin_end": 93.54981182795694,
                        "count": 0
                      },
                      {
                        "bin_start": 93.54981182795694,
                        "bin_end": 96.55780241935477,
                        "count": 0
                      },
                      {
                        "bin_start": 96.55780241935477,
                        "bin_end": 99.56579301075261,
                        "count": 1
                      },
                      {
                        "bin_start": 99.56579301075261,
                        "bin_end": 102.57378360215044,
                        "count": 0
                      },
                      {
                        "bin_start": 102.57378360215044,
                        "bin_end": 105.58177419354828,
                        "count": 3
                      }
                    ]
                  }
                },
                {
                  "name": "AVERAGEKWH_raw lag l=2",
                  "dtype": "float64",
                  "stats": {
                    "unique_count": 4,
                    "nan_count": 0,
                    "min": "0.0",
                    "max": "1120.0",
                    "histogram": [
                      {
                        "bin_start": 0,
                        "bin_end": 112,
                        "count": 2
                      },
                      {
                        "bin_start": 112,
                        "bin_end": 224,
                        "count": 0
                      },
                      {
                        "bin_start": 224,
                        "bin_end": 336,
                        "count": 0
                      },
                      {
                        "bin_start": 336,
                        "bin_end": 448,
                        "count": 1
                      },
                      {
                        "bin_start": 448,
                        "bin_end": 560,
                        "count": 0
                      },
                      {
                        "bin_start": 560,
                        "bin_end": 672,
                        "count": 0
                      },
                      {
                        "bin_start": 672,
                        "bin_end": 784,
                        "count": 0
                      },
                      {
                        "bin_start": 784,
                        "bin_end": 896,
                        "count": 0
                      },
                      {
                        "bin_start": 896,
                        "bin_end": 1008,
                        "count": 0
                      },
                      {
                        "bin_start": 1008,
                        "bin_end": 1120,
                        "count": 2
                      }
                    ]
                  }
                },
                {
                  "name": "GHI_raw lag l=2",
                  "dtype": "float64",
                  "stats": {
                    "unique_count": 5,
                    "nan_count": 0,
                    "min": "71.25268817204301",
                    "max": "281.97083333333336",
                    "histogram": [
                      {
                        "bin_start": 71.25268817204301,
                        "bin_end": 92.32450268817205,
                        "count": 2
                      },
                      {
                        "bin_start": 92.32450268817205,
                        "bin_end": 113.39631720430108,
                        "count": 0
                      },
                      {
                        "bin_start": 113.39631720430108,
                        "bin_end": 134.4681317204301,
                        "count": 0
                      },
                      {
                        "bin_start": 134.4681317204301,
                        "bin_end": 155.53994623655916,
                        "count": 0
                      },
                      {
                        "bin_start": 155.53994623655916,
                        "bin_end": 176.61176075268818,
                        "count": 1
                      },
                      {
                        "bin_start": 176.61176075268818,
                        "bin_end": 197.6835752688172,
                        "count": 0
                      },
                      {
                        "bin_start": 197.6835752688172,
                        "bin_end": 218.75538978494626,
                        "count": 0
                      },
                      {
                        "bin_start": 218.75538978494626,
                        "bin_end": 239.82720430107528,
                        "count": 0
                      },
                      {
                        "bin_start": 239.82720430107528,
                        "bin_end": 260.8990188172043,
                        "count": 1
                      },
                      {
                        "bin_start": 260.8990188172043,
                        "bin_end": 281.97083333333336,
                        "count": 1
                      }
                    ]
                  }
                },
                {
                  "name": "DHI_raw lag l=2",
                  "dtype": "float64",
                  "stats": {
                    "unique_count": 5,
                    "nan_count": 0,
                    "min": "27.899193548387096",
                    "max": "64.34166666666667",
                    "histogram": [
                      {
                        "bin_start": 27.899193548387096,
                        "bin_end": 31.543440860215053,
                        "count": 1
                      },
                      {
                        "bin_start": 31.543440860215053,
                        "bin_end": 35.18768817204301,
                        "count": 1
                      },
                      {
                        "bin_start": 35.18768817204301,
                        "bin_end": 38.831935483870964,
                        "count": 0
                      },
                      {
                        "bin_start": 38.831935483870964,
                        "bin_end": 42.476182795698925,
                        "count": 1
                      },
                      {
                        "bin_start": 42.476182795698925,
                        "bin_end": 46.120430107526886,
                        "count": 0
                      },
                      {
                        "bin_start": 46.120430107526886,
                        "bin_end": 49.76467741935484,
                        "count": 0
                      },
                      {
                        "bin_start": 49.76467741935484,
                        "bin_end": 53.40892473118279,
                        "count": 0
                      },
                      {
                        "bin_start": 53.40892473118279,
                        "bin_end": 57.053172043010754,
                        "count": 0
                      },
                      {
                        "bin_start": 57.053172043010754,
                        "bin_end": 60.69741935483871,
                        "count": 1
                      },
                      {
                        "bin_start": 60.69741935483871,
                        "bin_end": 64.34166666666667,
                        "count": 1
                      }
                    ]
                  }
                },
                {
                  "name": "DNI_raw lag l=2",
                  "dtype": "float64",
                  "stats": {
                    "unique_count": 5,
                    "nan_count": 0,
                    "min": "105.6733870967742",
                    "max": "336.0708333333333",
                    "histogram": [
                      {
                        "bin_start": 105.6733870967742,
                        "bin_end": 128.7131317204301,
                        "count": 1
                      },
                      {
                        "bin_start": 128.7131317204301,
                        "bin_end": 151.75287634408602,
                        "count": 0
                      },
                      {
                        "bin_start": 151.75287634408602,
                        "bin_end": 174.79262096774195,
                        "count": 1
                      },
                      {
                        "bin_start": 174.79262096774195,
                        "bin_end": 197.83236559139786,
                        "count": 0
                      },
                      {
                        "bin_start": 197.83236559139786,
                        "bin_end": 220.87211021505377,
                        "count": 0
                      },
                      {
                        "bin_start": 220.87211021505377,
                        "bin_end": 243.9118548387097,
                        "count": 0
                      },
                      {
                        "bin_start": 243.9118548387097,
                        "bin_end": 266.9515994623656,
                        "count": 1
                      },
                      {
                        "bin_start": 266.9515994623656,
                        "bin_end": 289.9913440860215,
                        "count": 0
                      },
                      {
                        "bin_start": 289.9913440860215,
                        "bin_end": 313.0310887096774,
                        "count": 0
                      },
                      {
                        "bin_start": 313.0310887096774,
                        "bin_end": 336.0708333333333,
                        "count": 2
                      }
                    ]
                  }
                },
                {
                  "name": "Wind Speed lag l=2",
                  "dtype": "float64",
                  "stats": {
                    "unique_count": 5,
                    "nan_count": 0,
                    "min": "1.7430107526881722",
                    "max": "3.9450268817204295",
                    "histogram": [
                      {
                        "bin_start": 1.7430107526881722,
                        "bin_end": 1.963212365591398,
                        "count": 2
                      },
                      {
                        "bin_start": 1.963212365591398,
                        "bin_end": 2.183413978494624,
                        "count": 0
                      },
                      {
                        "bin_start": 2.183413978494624,
                        "bin_end": 2.403615591397849,
                        "count": 0
                      },
                      {
                        "bin_start": 2.403615591397849,
                        "bin_end": 2.623817204301075,
                        "count": 0
                      },
                      {
                        "bin_start": 2.623817204301075,
                        "bin_end": 2.844018817204301,
                        "count": 0
                      },
                      {
                        "bin_start": 2.844018817204301,
                        "bin_end": 3.0642204301075266,
                        "count": 1
                      },
                      {
                        "bin_start": 3.0642204301075266,
                        "bin_end": 3.2844220430107525,
                        "count": 1
                      },
                      {
                        "bin_start": 3.2844220430107525,
                        "bin_end": 3.504623655913978,
                        "count": 0
                      },
                      {
                        "bin_start": 3.504623655913978,
                        "bin_end": 3.724825268817204,
                        "count": 0
                      },
                      {
                        "bin_start": 3.724825268817204,
                        "bin_end": 3.9450268817204295,
                        "count": 1
                      }
                    ]
                  }
                },
                {
                  "name": "Temperature_raw lag l=2",
                  "dtype": "float64",
                  "stats": {
                    "unique_count": 5,
                    "nan_count": 0,
                    "min": "9.150940860215062",
                    "max": "19.13611111111112",
                    "histogram": [
                      {
                        "bin_start": 9.150940860215062,
                        "bin_end": 10.149457885304669,
                        "count": 1
                      },
                      {
                        "bin_start": 10.149457885304669,
                        "bin_end": 11.147974910394273,
                        "count": 0
                      },
                      {
                        "bin_start": 11.147974910394273,
                        "bin_end": 12.14649193548388,
                        "count": 0
                      },
                      {
                        "bin_start": 12.14649193548388,
                        "bin_end": 13.145008960573485,
                        "count": 1
                      },
                      {
                        "bin_start": 13.145008960573485,
                        "bin_end": 14.143525985663091,
                        "count": 1
                      },
                      {
                        "bin_start": 14.143525985663091,
                        "bin_end": 15.142043010752698,
                        "count": 0
                      },
                      {
                        "bin_start": 15.142043010752698,
                        "bin_end": 16.140560035842302,
                        "count": 0
                      },
                      {
                        "bin_start": 16.140560035842302,
                        "bin_end": 17.13907706093191,
                        "count": 0
                      },
                      {
                        "bin_start": 17.13907706093191,
                        "bin_end": 18.137594086021515,
                        "count": 1
                      },
                      {
                        "bin_start": 18.137594086021515,
                        "bin_end": 19.13611111111112,
                        "count": 1
                      }
                    ]
                  }
                },
                {
                  "name": "Solar_Zenith_Angle_raw lag l=2",
                  "dtype": "float64",
                  "stats": {
                    "unique_count": 5,
                    "nan_count": 0,
                    "min": "82.23344444444447",
                    "max": "107.3300940860216",
                    "histogram": [
                      {
                        "bin_start": 82.23344444444447,
                        "bin_end": 84.74310940860218,
                        "count": 1
                      },
                      {
                        "bin_start": 84.74310940860218,
                        "bin_end": 87.2527743727599,
                        "count": 0
                      },
                      {
                        "bin_start": 87.2527743727599,
                        "bin_end": 89.76243933691761,
                        "count": 1
                      },
                      {
                        "bin_start": 89.76243933691761,
                        "bin_end": 92.27210430107533,
                        "count": 0
                      },
                      {
                        "bin_start": 92.27210430107533,
                        "bin_end": 94.78176926523304,
                        "count": 0
                      },
                      {
                        "bin_start": 94.78176926523304,
                        "bin_end": 97.29143422939075,
                        "count": 1
                      },
                      {
                        "bin_start": 97.29143422939075,
                        "bin_end": 99.80109919354847,
                        "count": 0
                      },
                      {
                        "bin_start": 99.80109919354847,
                        "bin_end": 102.31076415770617,
                        "count": 0
                      },
                      {
                        "bin_start": 102.31076415770617,
                        "bin_end": 104.8204291218639,
                        "count": 0
                      },
                      {
                        "bin_start": 104.8204291218639,
                        "bin_end": 107.3300940860216,
                        "count": 2
                      }
                    ]
                  }
                },
                {
                  "name": "AVERAGEKWH_raw lag l=3",
                  "dtype": "float64",
                  "stats": {
                    "unique_count": 4,
                    "nan_count": 0,
                    "min": "0.0",
                    "max": "1133.0",
                    "histogram": [
                      {
                        "bin_start": 0,
                        "bin_end": 113.3,
                        "count": 2
                      },
                      {
                        "bin_start": 113.3,
                        "bin_end": 226.6,
                        "count": 0
                      },
                      {
                        "bin_start": 226.6,
                        "bin_end": 339.9,
                        "count": 0
                      },
                      {
                        "bin_start": 339.9,
                        "bin_end": 453.2,
                        "count": 1
                      },
                      {
                        "bin_start": 453.2,
                        "bin_end": 566.5,
                        "count": 0
                      },
                      {
                        "bin_start": 566.5,
                        "bin_end": 679.8,
                        "count": 0
                      },
                      {
                        "bin_start": 679.8,
                        "bin_end": 793.1,
                        "count": 0
                      },
                      {
                        "bin_start": 793.1,
                        "bin_end": 906.4,
                        "count": 0
                      },
                      {
                        "bin_start": 906.4,
                        "bin_end": 1019.6999999999999,
                        "count": 1
                      },
                      {
                        "bin_start": 1019.6999999999999,
                        "bin_end": 1133,
                        "count": 1
                      }
                    ]
                  }
                },
                {
                  "name": "GHI_raw lag l=3",
                  "dtype": "float64",
                  "stats": {
                    "unique_count": 5,
                    "nan_count": 0,
                    "min": "113.69305555555556",
                    "max": "242.23611111111111",
                    "histogram": [
                      {
                        "bin_start": 113.69305555555556,
                        "bin_end": 126.54736111111112,
                        "count": 2
                      },
                      {
                        "bin_start": 126.54736111111112,
                        "bin_end": 139.40166666666667,
                        "count": 0
                      },
                      {
                        "bin_start": 139.40166666666667,
                        "bin_end": 152.25597222222223,
                        "count": 0
                      },
                      {
                        "bin_start": 152.25597222222223,
                        "bin_end": 165.11027777777778,
                        "count": 0
                      },
                      {
                        "bin_start": 165.11027777777778,
                        "bin_end": 177.96458333333334,
                        "count": 0
                      },
                      {
                        "bin_start": 177.96458333333334,
                        "bin_end": 190.8188888888889,
                        "count": 0
                      },
                      {
                        "bin_start": 190.8188888888889,
                        "bin_end": 203.67319444444445,
                        "count": 1
                      },
                      {
                        "bin_start": 203.67319444444445,
                        "bin_end": 216.5275,
                        "count": 0
                      },
                      {
                        "bin_start": 216.5275,
                        "bin_end": 229.38180555555556,
                        "count": 1
                      },
                      {
                        "bin_start": 229.38180555555556,
                        "bin_end": 242.23611111111111,
                        "count": 1
                      }
                    ]
                  }
                },
                {
                  "name": "DHI_raw lag l=3",
                  "dtype": "float64",
                  "stats": {
                    "unique_count": 5,
                    "nan_count": 0,
                    "min": "36.16388888888889",
                    "max": "68.47446236559139",
                    "histogram": [
                      {
                        "bin_start": 36.16388888888889,
                        "bin_end": 39.39494623655914,
                        "count": 2
                      },
                      {
                        "bin_start": 39.39494623655914,
                        "bin_end": 42.626003584229395,
                        "count": 0
                      },
                      {
                        "bin_start": 42.626003584229395,
                        "bin_end": 45.85706093189964,
                        "count": 0
                      },
                      {
                        "bin_start": 45.85706093189964,
                        "bin_end": 49.08811827956989,
                        "count": 0
                      },
                      {
                        "bin_start": 49.08811827956989,
                        "bin_end": 52.31917562724014,
                        "count": 0
                      },
                      {
                        "bin_start": 52.31917562724014,
                        "bin_end": 55.550232974910394,
                        "count": 0
                      },
                      {
                        "bin_start": 55.550232974910394,
                        "bin_end": 58.781290322580645,
                        "count": 1
                      },
                      {
                        "bin_start": 58.781290322580645,
                        "bin_end": 62.01234767025089,
                        "count": 0
                      },
                      {
                        "bin_start": 62.01234767025089,
                        "bin_end": 65.24340501792115,
                        "count": 1
                      },
                      {
                        "bin_start": 65.24340501792115,
                        "bin_end": 68.47446236559139,
                        "count": 1
                      }
                    ]
                  }
                },
                {
                  "name": "DNI_raw lag l=3",
                  "dtype": "float64",
                  "stats": {
                    "unique_count": 5,
                    "nan_count": 0,
                    "min": "181.0263888888889",
                    "max": "318.9972222222222",
                    "histogram": [
                      {
                        "bin_start": 181.0263888888889,
                        "bin_end": 194.82347222222222,
                        "count": 1
                      },
                      {
                        "bin_start": 194.82347222222222,
                        "bin_end": 208.62055555555557,
                        "count": 1
                      },
                      {
                        "bin_start": 208.62055555555557,
                        "bin_end": 222.4176388888889,
                        "count": 0
                      },
                      {
                        "bin_start": 222.4176388888889,
                        "bin_end": 236.21472222222224,
                        "count": 1
                      },
                      {
                        "bin_start": 236.21472222222224,
                        "bin_end": 250.01180555555555,
                        "count": 0
                      },
                      {
                        "bin_start": 250.01180555555555,
                        "bin_end": 263.8088888888889,
                        "count": 1
                      },
                      {
                        "bin_start": 263.8088888888889,
                        "bin_end": 277.6059722222222,
                        "count": 0
                      },
                      {
                        "bin_start": 277.6059722222222,
                        "bin_end": 291.4030555555555,
                        "count": 0
                      },
                      {
                        "bin_start": 291.4030555555555,
                        "bin_end": 305.2001388888889,
                        "count": 0
                      },
                      {
                        "bin_start": 305.2001388888889,
                        "bin_end": 318.9972222222222,
                        "count": 1
                      }
                    ]
                  }
                },
                {
                  "name": "Wind Speed lag l=3",
                  "dtype": "float64",
                  "stats": {
                    "unique_count": 5,
                    "nan_count": 0,
                    "min": "1.7444444444444458",
                    "max": "3.0451388888888884",
                    "histogram": [
                      {
                        "bin_start": 1.7444444444444458,
                        "bin_end": 1.8745138888888901,
                        "count": 2
                      },
                      {
                        "bin_start": 1.8745138888888901,
                        "bin_end": 2.0045833333333345,
                        "count": 0
                      },
                      {
                        "bin_start": 2.0045833333333345,
                        "bin_end": 2.1346527777777786,
                        "count": 0
                      },
                      {
                        "bin_start": 2.1346527777777786,
                        "bin_end": 2.2647222222222227,
                        "count": 1
                      },
                      {
                        "bin_start": 2.2647222222222227,
                        "bin_end": 2.3947916666666673,
                        "count": 0
                      },
                      {
                        "bin_start": 2.3947916666666673,
                        "bin_end": 2.5248611111111114,
                        "count": 0
                      },
                      {
                        "bin_start": 2.5248611111111114,
                        "bin_end": 2.6549305555555556,
                        "count": 1
                      },
                      {
                        "bin_start": 2.6549305555555556,
                        "bin_end": 2.785,
                        "count": 0
                      },
                      {
                        "bin_start": 2.785,
                        "bin_end": 2.9150694444444443,
                        "count": 0
                      },
                      {
                        "bin_start": 2.9150694444444443,
                        "bin_end": 3.0451388888888884,
                        "count": 1
                      }
                    ]
                  }
                },
                {
                  "name": "Temperature_raw lag l=3",
                  "dtype": "float64",
                  "stats": {
                    "unique_count": 5,
                    "nan_count": 0,
                    "min": "10.440860215053764",
                    "max": "19.13611111111112",
                    "histogram": [
                      {
                        "bin_start": 10.440860215053764,
                        "bin_end": 11.3103853046595,
                        "count": 1
                      },
                      {
                        "bin_start": 11.3103853046595,
                        "bin_end": 12.179910394265235,
                        "count": 0
                      },
                      {
                        "bin_start": 12.179910394265235,
                        "bin_end": 13.04943548387097,
                        "count": 0
                      },
                      {
                        "bin_start": 13.04943548387097,
                        "bin_end": 13.918960573476706,
                        "count": 1
                      },
                      {
                        "bin_start": 13.918960573476706,
                        "bin_end": 14.788485663082442,
                        "count": 1
                      },
                      {
                        "bin_start": 14.788485663082442,
                        "bin_end": 15.658010752688178,
                        "count": 0
                      },
                      {
                        "bin_start": 15.658010752688178,
                        "bin_end": 16.527535842293915,
                        "count": 0
                      },
                      {
                        "bin_start": 16.527535842293915,
                        "bin_end": 17.39706093189965,
                        "count": 0
                      },
                      {
                        "bin_start": 17.39706093189965,
                        "bin_end": 18.266586021505383,
                        "count": 0
                      },
                      {
                        "bin_start": 18.266586021505383,
                        "bin_end": 19.13611111111112,
                        "count": 2
                      }
                    ]
                  }
                },
                {
                  "name": "Solar_Zenith_Angle_raw lag l=3",
                  "dtype": "float64",
                  "stats": {
                    "unique_count": 5,
                    "nan_count": 0,
                    "min": "87.9939027777778",
                    "max": "104.07595833333332",
                    "histogram": [
                      {
                        "bin_start": 87.9939027777778,
                        "bin_end": 89.60210833333336,
                        "count": 2
                      },
                      {
                        "bin_start": 89.60210833333336,
                        "bin_end": 91.2103138888889,
                        "count": 1
                      },
                      {
                        "bin_start": 91.2103138888889,
                        "bin_end": 92.81851944444446,
                        "count": 0
                      },
                      {
                        "bin_start": 92.81851944444446,
                        "bin_end": 94.426725,
                        "count": 0
                      },
                      {
                        "bin_start": 94.426725,
                        "bin_end": 96.03493055555556,
                        "count": 0
                      },
                      {
                        "bin_start": 96.03493055555556,
                        "bin_end": 97.64313611111112,
                        "count": 0
                      },
                      {
                        "bin_start": 97.64313611111112,
                        "bin_end": 99.25134166666666,
                        "count": 0
                      },
                      {
                        "bin_start": 99.25134166666666,
                        "bin_end": 100.85954722222222,
                        "count": 0
                      },
                      {
                        "bin_start": 100.85954722222222,
                        "bin_end": 102.46775277777776,
                        "count": 0
                      },
                      {
                        "bin_start": 102.46775277777776,
                        "bin_end": 104.07595833333332,
                        "count": 2
                      }
                    ]
                  }
                },
                {
                  "name": "_deepnote_index_column",
                  "dtype": "int64"
                }
              ],
              "rows_top": [
                {
                  "MONTH": 12,
                  "YEAR": 2014,
                  "AVERAGEKWH_raw lag l=1": 0,
                  "GHI_raw lag l=1": 110.69722222222222,
                  "DHI_raw lag l=1": 34.40694444444444,
                  "DNI_raw lag l=1": 183.04305555555555,
                  "Wind Speed lag l=1": 1.8525,
                  "Temperature_raw lag l=1": 13.70138888888889,
                  "Solar_Zenith_Angle_raw lag l=1": 104.18209722222208,
                  "AVERAGEKWH_raw lag l=2": 0,
                  "GHI_raw lag l=2": 173.03629032258064,
                  "DHI_raw lag l=2": 41.288978494623656,
                  "DNI_raw lag l=2": 258.36290322580646,
                  "Wind Speed lag l=2": 1.835483870967742,
                  "Temperature_raw lag l=2": 17.622311827956988,
                  "Solar_Zenith_Angle_raw lag l=2": 96.95655913978489,
                  "AVERAGEKWH_raw lag l=3": 0,
                  "GHI_raw lag l=3": 216.6013888888889,
                  "DHI_raw lag l=3": 63.55972222222222,
                  "DNI_raw lag l=3": 253.14444444444445,
                  "Wind Speed lag l=3": 1.7444444444444458,
                  "Temperature_raw lag l=3": 18.40833333333333,
                  "Solar_Zenith_Angle_raw lag l=3": 87.9939027777778,
                  "_deepnote_index_column": 20008
                },
                {
                  "MONTH": 6,
                  "YEAR": 2013,
                  "AVERAGEKWH_raw lag l=1": 1167,
                  "GHI_raw lag l=1": 314.28360215053766,
                  "DHI_raw lag l=1": 70.40591397849462,
                  "DNI_raw lag l=1": 359.4758064516129,
                  "Wind Speed lag l=1": 3.5262096774193457,
                  "Temperature_raw lag l=1": 15.475806451612904,
                  "Solar_Zenith_Angle_raw lag l=1": 75.50186827956992,
                  "AVERAGEKWH_raw lag l=2": 1090,
                  "GHI_raw lag l=2": 281.97083333333336,
                  "DHI_raw lag l=2": 64.34166666666667,
                  "DNI_raw lag l=2": 336.0708333333333,
                  "Wind Speed lag l=2": 3.1169444444444423,
                  "Temperature_raw lag l=2": 13.383333333333333,
                  "Solar_Zenith_Angle_raw lag l=2": 82.23344444444447,
                  "AVERAGEKWH_raw lag l=3": 1133,
                  "GHI_raw lag l=3": 202.31182795698925,
                  "DHI_raw lag l=3": 68.47446236559139,
                  "DNI_raw lag l=3": 234.23655913978496,
                  "Wind Speed lag l=3": 2.175403225806457,
                  "Temperature_raw lag l=3": 10.440860215053764,
                  "Solar_Zenith_Angle_raw lag l=3": 91.10767473118266,
                  "_deepnote_index_column": 8451
                },
                {
                  "MONTH": 2,
                  "YEAR": 2019,
                  "AVERAGEKWH_raw lag l=1": 1017,
                  "GHI_raw lag l=1": 94.18817204301077,
                  "DHI_raw lag l=1": 36.36021505376344,
                  "DNI_raw lag l=1": 144.48252688172042,
                  "Wind Speed lag l=1": 1.9693548387096769,
                  "Temperature_raw lag l=1": 10.159408602150538,
                  "Solar_Zenith_Angle_raw lag l=1": 105.58177419354828,
                  "AVERAGEKWH_raw lag l=2": 1120,
                  "GHI_raw lag l=2": 86.06048387096774,
                  "DHI_raw lag l=2": 27.899193548387096,
                  "DNI_raw lag l=2": 161.81317204301075,
                  "Wind Speed lag l=2": 1.7430107526881722,
                  "Temperature_raw lag l=2": 9.150940860215062,
                  "Solar_Zenith_Angle_raw lag l=2": 107.3300940860216,
                  "AVERAGEKWH_raw lag l=3": 947,
                  "GHI_raw lag l=3": 120.83888888888887,
                  "DHI_raw lag l=3": 36.16388888888889,
                  "DNI_raw lag l=3": 202.1027777777778,
                  "Wind Speed lag l=3": 1.8500000000000003,
                  "Temperature_raw lag l=3": 13.312083333333325,
                  "Solar_Zenith_Angle_raw lag l=3": 104.07595833333332,
                  "_deepnote_index_column": 6987
                },
                {
                  "MONTH": 10,
                  "YEAR": 2016,
                  "AVERAGEKWH_raw lag l=1": 0,
                  "GHI_raw lag l=1": 149.53897849462365,
                  "DHI_raw lag l=1": 44.81989247311828,
                  "DNI_raw lag l=1": 208.76478494623652,
                  "Wind Speed lag l=1": 2.31680107526882,
                  "Temperature_raw lag l=1": 16.02016129032258,
                  "Solar_Zenith_Angle_raw lag l=1": 97.0749596774193,
                  "AVERAGEKWH_raw lag l=2": 0,
                  "GHI_raw lag l=2": 242.23611111111111,
                  "DHI_raw lag l=2": 58.04583333333333,
                  "DNI_raw lag l=2": 318.9972222222222,
                  "Wind Speed lag l=2": 3.0451388888888884,
                  "Temperature_raw lag l=2": 19.13611111111112,
                  "Solar_Zenith_Angle_raw lag l=2": 88.1534444444444,
                  "AVERAGEKWH_raw lag l=3": 0,
                  "GHI_raw lag l=3": 242.23611111111111,
                  "DHI_raw lag l=3": 58.04583333333333,
                  "DNI_raw lag l=3": 318.9972222222222,
                  "Wind Speed lag l=3": 3.0451388888888884,
                  "Temperature_raw lag l=3": 19.13611111111112,
                  "Solar_Zenith_Angle_raw lag l=3": 88.1534444444444,
                  "_deepnote_index_column": 11767
                },
                {
                  "MONTH": 2,
                  "YEAR": 2015,
                  "AVERAGEKWH_raw lag l=1": 448,
                  "GHI_raw lag l=1": 112.36827956989248,
                  "DHI_raw lag l=1": 36.229838709677416,
                  "DNI_raw lag l=1": 193.4220430107527,
                  "Wind Speed lag l=1": 2.377822580645161,
                  "Temperature_raw lag l=1": 11.928763440860216,
                  "Solar_Zenith_Angle_raw lag l=1": 105.55403225806435,
                  "AVERAGEKWH_raw lag l=2": 442,
                  "GHI_raw lag l=2": 71.25268817204301,
                  "DHI_raw lag l=2": 33.19086021505376,
                  "DNI_raw lag l=2": 105.6733870967742,
                  "Wind Speed lag l=2": 3.9450268817204295,
                  "Temperature_raw lag l=2": 13.077956989247312,
                  "Solar_Zenith_Angle_raw lag l=2": 107.29145161290334,
                  "AVERAGEKWH_raw lag l=3": 371,
                  "GHI_raw lag l=3": 113.69305555555556,
                  "DHI_raw lag l=3": 38.62083333333333,
                  "DNI_raw lag l=3": 181.0263888888889,
                  "Wind Speed lag l=3": 2.6440277777777768,
                  "Temperature_raw lag l=3": 14.772222222222222,
                  "Solar_Zenith_Angle_raw lag l=3": 104.03729166666665,
                  "_deepnote_index_column": 6281
                }
              ],
              "rows_bottom": null
            },
            "text/plain": "       MONTH  YEAR  AVERAGEKWH_raw lag l=1  GHI_raw lag l=1  DHI_raw lag l=1  \\\n20008     12  2014                     0.0       110.697222        34.406944   \n8451       6  2013                  1167.0       314.283602        70.405914   \n6987       2  2019                  1017.0        94.188172        36.360215   \n11767     10  2016                     0.0       149.538978        44.819892   \n6281       2  2015                   448.0       112.368280        36.229839   \n\n       DNI_raw lag l=1  Wind Speed lag l=1  Temperature_raw lag l=1  \\\n20008       183.043056            1.852500                13.701389   \n8451        359.475806            3.526210                15.475806   \n6987        144.482527            1.969355                10.159409   \n11767       208.764785            2.316801                16.020161   \n6281        193.422043            2.377823                11.928763   \n\n       Solar_Zenith_Angle_raw lag l=1  AVERAGEKWH_raw lag l=2  ...  \\\n20008                      104.182097                     0.0  ...   \n8451                        75.501868                  1090.0  ...   \n6987                       105.581774                  1120.0  ...   \n11767                       97.074960                     0.0  ...   \n6281                       105.554032                   442.0  ...   \n\n       Wind Speed lag l=2  Temperature_raw lag l=2  \\\n20008            1.835484                17.622312   \n8451             3.116944                13.383333   \n6987             1.743011                 9.150941   \n11767            3.045139                19.136111   \n6281             3.945027                13.077957   \n\n       Solar_Zenith_Angle_raw lag l=2  AVERAGEKWH_raw lag l=3  \\\n20008                       96.956559                     0.0   \n8451                        82.233444                  1133.0   \n6987                       107.330094                   947.0   \n11767                       88.153444                     0.0   \n6281                       107.291452                   371.0   \n\n       GHI_raw lag l=3  DHI_raw lag l=3  DNI_raw lag l=3  Wind Speed lag l=3  \\\n20008       216.601389        63.559722       253.144444            1.744444   \n8451        202.311828        68.474462       234.236559            2.175403   \n6987        120.838889        36.163889       202.102778            1.850000   \n11767       242.236111        58.045833       318.997222            3.045139   \n6281        113.693056        38.620833       181.026389            2.644028   \n\n       Temperature_raw lag l=3  Solar_Zenith_Angle_raw lag l=3  \n20008                18.408333                       87.993903  \n8451                 10.440860                       91.107675  \n6987                 13.312083                      104.075958  \n11767                19.136111                       88.153444  \n6281                 14.772222                      104.037292  \n\n[5 rows x 23 columns]",
            "text/html": "<div>\n<style scoped>\n    .dataframe tbody tr th:only-of-type {\n        vertical-align: middle;\n    }\n\n    .dataframe tbody tr th {\n        vertical-align: top;\n    }\n\n    .dataframe thead th {\n        text-align: right;\n    }\n</style>\n<table border=\"1\" class=\"dataframe\">\n  <thead>\n    <tr style=\"text-align: right;\">\n      <th></th>\n      <th>MONTH</th>\n      <th>YEAR</th>\n      <th>AVERAGEKWH_raw lag l=1</th>\n      <th>GHI_raw lag l=1</th>\n      <th>DHI_raw lag l=1</th>\n      <th>DNI_raw lag l=1</th>\n      <th>Wind Speed lag l=1</th>\n      <th>Temperature_raw lag l=1</th>\n      <th>Solar_Zenith_Angle_raw lag l=1</th>\n      <th>AVERAGEKWH_raw lag l=2</th>\n      <th>...</th>\n      <th>Wind Speed lag l=2</th>\n      <th>Temperature_raw lag l=2</th>\n      <th>Solar_Zenith_Angle_raw lag l=2</th>\n      <th>AVERAGEKWH_raw lag l=3</th>\n      <th>GHI_raw lag l=3</th>\n      <th>DHI_raw lag l=3</th>\n      <th>DNI_raw lag l=3</th>\n      <th>Wind Speed lag l=3</th>\n      <th>Temperature_raw lag l=3</th>\n      <th>Solar_Zenith_Angle_raw lag l=3</th>\n    </tr>\n  </thead>\n  <tbody>\n    <tr>\n      <th>20008</th>\n      <td>12</td>\n      <td>2014</td>\n      <td>0.0</td>\n      <td>110.697222</td>\n      <td>34.406944</td>\n      <td>183.043056</td>\n      <td>1.852500</td>\n      <td>13.701389</td>\n      <td>104.182097</td>\n      <td>0.0</td>\n      <td>...</td>\n      <td>1.835484</td>\n      <td>17.622312</td>\n      <td>96.956559</td>\n      <td>0.0</td>\n      <td>216.601389</td>\n      <td>63.559722</td>\n      <td>253.144444</td>\n      <td>1.744444</td>\n      <td>18.408333</td>\n      <td>87.993903</td>\n    </tr>\n    <tr>\n      <th>8451</th>\n      <td>6</td>\n      <td>2013</td>\n      <td>1167.0</td>\n      <td>314.283602</td>\n      <td>70.405914</td>\n      <td>359.475806</td>\n      <td>3.526210</td>\n      <td>15.475806</td>\n      <td>75.501868</td>\n      <td>1090.0</td>\n      <td>...</td>\n      <td>3.116944</td>\n      <td>13.383333</td>\n      <td>82.233444</td>\n      <td>1133.0</td>\n      <td>202.311828</td>\n      <td>68.474462</td>\n      <td>234.236559</td>\n      <td>2.175403</td>\n      <td>10.440860</td>\n      <td>91.107675</td>\n    </tr>\n    <tr>\n      <th>6987</th>\n      <td>2</td>\n      <td>2019</td>\n      <td>1017.0</td>\n      <td>94.188172</td>\n      <td>36.360215</td>\n      <td>144.482527</td>\n      <td>1.969355</td>\n      <td>10.159409</td>\n      <td>105.581774</td>\n      <td>1120.0</td>\n      <td>...</td>\n      <td>1.743011</td>\n      <td>9.150941</td>\n      <td>107.330094</td>\n      <td>947.0</td>\n      <td>120.838889</td>\n      <td>36.163889</td>\n      <td>202.102778</td>\n      <td>1.850000</td>\n      <td>13.312083</td>\n      <td>104.075958</td>\n    </tr>\n    <tr>\n      <th>11767</th>\n      <td>10</td>\n      <td>2016</td>\n      <td>0.0</td>\n      <td>149.538978</td>\n      <td>44.819892</td>\n      <td>208.764785</td>\n      <td>2.316801</td>\n      <td>16.020161</td>\n      <td>97.074960</td>\n      <td>0.0</td>\n      <td>...</td>\n      <td>3.045139</td>\n      <td>19.136111</td>\n      <td>88.153444</td>\n      <td>0.0</td>\n      <td>242.236111</td>\n      <td>58.045833</td>\n      <td>318.997222</td>\n      <td>3.045139</td>\n      <td>19.136111</td>\n      <td>88.153444</td>\n    </tr>\n    <tr>\n      <th>6281</th>\n      <td>2</td>\n      <td>2015</td>\n      <td>448.0</td>\n      <td>112.368280</td>\n      <td>36.229839</td>\n      <td>193.422043</td>\n      <td>2.377823</td>\n      <td>11.928763</td>\n      <td>105.554032</td>\n      <td>442.0</td>\n      <td>...</td>\n      <td>3.945027</td>\n      <td>13.077957</td>\n      <td>107.291452</td>\n      <td>371.0</td>\n      <td>113.693056</td>\n      <td>38.620833</td>\n      <td>181.026389</td>\n      <td>2.644028</td>\n      <td>14.772222</td>\n      <td>104.037292</td>\n    </tr>\n  </tbody>\n</table>\n<p>5 rows × 23 columns</p>\n</div>"
          },
          "metadata": {},
          "output_type": "display_data"
        }
      ],
      "execution_count": null
    },
    {
      "cell_type": "markdown",
      "source": "### Simple Linear Regression\n\n$$ \\hat{\\vec{y}} = \\hat{\\vec\\beta}*\\vec{x}$$\n\nCoefficients in $ \\hat{\\vec\\beta}$  are simply scalars that are fit to the best-fit line. That is, simply solving least squares\n\n$$ \\hat{\\vec\\beta} = (X^TX)^{-1}X^TY$$\n",
      "metadata": {
        "tags": [],
        "cell_id": "00047-dc20c931-c587-4533-b82b-d4d19c0aa789",
        "deepnote_cell_type": "markdown"
      }
    },
    {
      "cell_type": "markdown",
      "source": "",
      "metadata": {
        "tags": [],
        "cell_id": "00048-89ba0f3b-59be-446d-9e55-c134fcceaebf",
        "deepnote_cell_type": "markdown"
      }
    },
    {
      "cell_type": "code",
      "metadata": {
        "tags": [],
        "deepnote_to_be_reexecuted": false,
        "source_hash": "870a2a95",
        "execution_millis": 48,
        "cell_id": "00049-52bcb9d3-d6e5-4a78-83c6-884dc22a8ca7",
        "execution_start": 1619166041891,
        "deepnote_cell_type": "code"
      },
      "source": "lm = LinearRegression() #linear regression\nlm.fit(X_train, y_train)\n\n## apply model to training data\nlm_train_pred = lm.predict(X_train)\nlm_train_mse = mean_squared_error(y_true=y_train, y_pred=lm_train_pred)\n\n## apply model to test data\nlm_test_pred = lm.predict(X_val)\nlm_test_mse = mean_squared_error(y_true=y_val, y_pred=lm_test_pred)\nprint(\"Training MSE\", lm_train_mse)\nprint(\"Testing MSE\", lm_test_mse)",
      "outputs": [
        {
          "name": "stdout",
          "text": "Training MSE 11512.800185165353\nTesting MSE 12299.512755658488\n",
          "output_type": "stream"
        }
      ],
      "execution_count": null
    },
    {
      "cell_type": "code",
      "metadata": {
        "tags": [],
        "deepnote_to_be_reexecuted": false,
        "source_hash": "31180f39",
        "execution_millis": 185,
        "cell_id": "00050-281bfeb2-9069-4061-8369-202a98aef39e",
        "execution_start": 1619166044055,
        "deepnote_cell_type": "code"
      },
      "source": "plt.scatter(y_train, lm_train_pred)",
      "outputs": [
        {
          "output_type": "execute_result",
          "execution_count": 15,
          "data": {
            "text/plain": "<matplotlib.collections.PathCollection at 0x7f5f468f12d0>"
          },
          "metadata": {}
        },
        {
          "data": {
            "text/plain": "<Figure size 432x288 with 1 Axes>",
            "image/png": "[encoded data removed]"
          },
          "metadata": {
            "needs_background": "light"
          },
          "output_type": "display_data"
        }
      ],
      "execution_count": null
    },
    {
      "cell_type": "code",
      "metadata": {
        "tags": [],
        "deepnote_to_be_reexecuted": false,
        "source_hash": "1966dfcd",
        "execution_millis": 151,
        "cell_id": "00051-9e56a56c-bec7-4a49-b673-7c1dfc141e2b",
        "execution_start": 1619165569195,
        "deepnote_cell_type": "code"
      },
      "source": "plt.scatter(y_val, lm_test_pred-y_val)",
      "outputs": [
        {
          "output_type": "execute_result",
          "execution_count": 72,
          "data": {
            "text/plain": "<matplotlib.collections.PathCollection at 0x7fb299a56410>"
          },
          "metadata": {}
        },
        {
          "data": {
            "text/plain": "<Figure size 432x288 with 1 Axes>",
            "image/png": "[encoded data removed]"
          },
          "metadata": {
            "needs_background": "light"
          },
          "output_type": "display_data"
        }
      ],
      "execution_count": null
    },
    {
      "cell_type": "code",
      "metadata": {
        "tags": [],
        "deepnote_to_be_reexecuted": false,
        "source_hash": "732975c1",
        "execution_millis": 216,
        "cell_id": "00052-249177d7-4975-4bba-afba-6d8d9ff97665",
        "execution_start": 1619165572021,
        "deepnote_cell_type": "code"
      },
      "source": "plt.scatter(y_train, lm_train_pred-y_train)",
      "outputs": [
        {
          "output_type": "execute_result",
          "execution_count": 73,
          "data": {
            "text/plain": "<matplotlib.collections.PathCollection at 0x7fb299ac8e50>"
          },
          "metadata": {}
        },
        {
          "data": {
            "text/plain": "<Figure size 432x288 with 1 Axes>",
            "image/png": "[encoded data removed]"
          },
          "metadata": {
            "needs_background": "light"
          },
          "output_type": "display_data"
        }
      ],
      "execution_count": null
    },
    {
      "cell_type": "code",
      "source": "# sns.lineplot()\n",
      "metadata": {
        "tags": [],
        "cell_id": "00041-78c4216c-bb49-4a96-927a-f771c8b3854c",
        "deepnote_to_be_reexecuted": false,
        "source_hash": "108a8ddd",
        "execution_start": 1619165731862,
        "execution_millis": 25,
        "deepnote_cell_type": "code"
      },
      "outputs": [
        {
          "output_type": "execute_result",
          "execution_count": 78,
          "data": {
            "text/plain": "20008       0\n8451     1325\n6987      912\n11767       0\n6281      344\nName: AVERAGEKWH_raw, dtype: int64"
          },
          "metadata": {}
        }
      ],
      "execution_count": null
    },
    {
      "cell_type": "code",
      "metadata": {
        "tags": [],
        "deepnote_to_be_reexecuted": true,
        "source_hash": "b623e53d",
        "execution_millis": 4,
        "cell_id": "00053-e3fffeb1-018b-4934-a80a-f105dd070761",
        "deepnote_cell_type": "code"
      },
      "source": "",
      "execution_count": null,
      "outputs": []
    },
    {
      "cell_type": "code",
      "metadata": {
        "tags": [],
        "deepnote_to_be_reexecuted": false,
        "source_hash": "82cf6b81",
        "execution_millis": 43901,
        "cell_id": "00054-b5a2b065-d1ab-446d-8351-b3885ce2c1f0",
        "execution_start": 1619165641449,
        "deepnote_cell_type": "code"
      },
      "source": "svr_regr = svm.SVR() #vector regression\nsvr_regr.fit(X_train, y_train)",
      "outputs": [
        {
          "output_type": "execute_result",
          "execution_count": 74,
          "data": {
            "text/plain": "SVR()"
          },
          "metadata": {}
        }
      ],
      "execution_count": null
    },
    {
      "cell_type": "code",
      "metadata": {
        "tags": [],
        "deepnote_to_be_reexecuted": false,
        "source_hash": "6081c2c5",
        "execution_millis": 46391,
        "cell_id": "00055-6c85b9f8-ca04-48ba-bded-b3a5ad249636",
        "execution_start": 1619165685346,
        "deepnote_cell_type": "code"
      },
      "source": "## apply model to training data\nsvr_train_pred = svr_regr.predict(X_train)\nsvr_train_mse = mean_squared_error(y_true=y_train, y_pred=svr_train_pred)\n\n## apply model to test data\nsvr_test_pred = svr_regr.predict(X_val)\nsvr_test_mse = mean_squared_error(y_true=y_val, y_pred=svr_test_pred)\nprint(\"Training MSE\", svr_train_mse)\nprint(\"Testing MSE\", svr_test_mse)",
      "outputs": [
        {
          "name": "stdout",
          "text": "Training MSE 17615.813527959097\nTesting MSE 19431.65061838336\n",
          "output_type": "stream"
        }
      ],
      "execution_count": null
    },
    {
      "cell_type": "code",
      "metadata": {
        "tags": [],
        "deepnote_to_be_reexecuted": false,
        "source_hash": "329706ed",
        "execution_millis": 155,
        "cell_id": "00056-30842f54-4fcd-43d6-8ca8-f6d4be41cf37",
        "execution_start": 1619165731731,
        "deepnote_cell_type": "code"
      },
      "source": "plt.scatter(y_train, svr_train_pred)",
      "outputs": [
        {
          "output_type": "execute_result",
          "execution_count": 76,
          "data": {
            "text/plain": "<matplotlib.collections.PathCollection at 0x7fb299ab4550>"
          },
          "metadata": {}
        },
        {
          "data": {
            "text/plain": "<Figure size 432x288 with 1 Axes>",
            "image/png": "[encoded data removed]"
          },
          "metadata": {
            "needs_background": "light"
          },
          "output_type": "display_data"
        }
      ],
      "execution_count": null
    },
    {
      "cell_type": "code",
      "metadata": {
        "tags": [],
        "deepnote_to_be_reexecuted": true,
        "source_hash": "b623e53d",
        "execution_millis": 5,
        "cell_id": "00057-f6d9458c-a36b-4891-b5b2-b8e785ba1763",
        "deepnote_cell_type": "code"
      },
      "source": "",
      "execution_count": null,
      "outputs": []
    },
    {
      "cell_type": "markdown",
      "source": "### Decision Tree Regression Model",
      "metadata": {
        "tags": [],
        "cell_id": "00058-ebee1dcf-d8f3-48fb-820c-a0890a63a7c5",
        "deepnote_cell_type": "markdown"
      }
    },
    {
      "cell_type": "code",
      "metadata": {
        "tags": [],
        "deepnote_to_be_reexecuted": true,
        "source_hash": "7c234d23",
        "execution_millis": 69,
        "cell_id": "00059-6e7991fd-746e-49ab-b403-295627630dbd",
        "deepnote_cell_type": "code"
      },
      "source": "X_train.head()",
      "execution_count": null,
      "outputs": [
        {
          "output_type": "execute_result",
          "execution_count": 34,
          "data": {
            "application/vnd.deepnote.dataframe.v2+json": {
              "row_count": 5,
              "column_count": 9,
              "columns": [
                {
                  "name": "MONTH",
                  "dtype": "int64",
                  "stats": {
                    "unique_count": 4,
                    "nan_count": 0,
                    "min": "2",
                    "max": "8",
                    "histogram": [
                      {
                        "bin_start": 2,
                        "bin_end": 2.6,
                        "count": 1
                      },
                      {
                        "bin_start": 2.6,
                        "bin_end": 3.2,
                        "count": 2
                      },
                      {
                        "bin_start": 3.2,
                        "bin_end": 3.8,
                        "count": 0
                      },
                      {
                        "bin_start": 3.8,
                        "bin_end": 4.4,
                        "count": 0
                      },
                      {
                        "bin_start": 4.4,
                        "bin_end": 5,
                        "count": 0
                      },
                      {
                        "bin_start": 5,
                        "bin_end": 5.6,
                        "count": 1
                      },
                      {
                        "bin_start": 5.6,
                        "bin_end": 6.2,
                        "count": 0
                      },
                      {
                        "bin_start": 6.2,
                        "bin_end": 6.8,
                        "count": 0
                      },
                      {
                        "bin_start": 6.8,
                        "bin_end": 7.3999999999999995,
                        "count": 0
                      },
                      {
                        "bin_start": 7.3999999999999995,
                        "bin_end": 8,
                        "count": 1
                      }
                    ]
                  }
                },
                {
                  "name": "YEAR",
                  "dtype": "int64",
                  "stats": {
                    "unique_count": 5,
                    "nan_count": 0,
                    "min": "2013",
                    "max": "2019",
                    "histogram": [
                      {
                        "bin_start": 2013,
                        "bin_end": 2013.6,
                        "count": 1
                      },
                      {
                        "bin_start": 2013.6,
                        "bin_end": 2014.2,
                        "count": 0
                      },
                      {
                        "bin_start": 2014.2,
                        "bin_end": 2014.8,
                        "count": 0
                      },
                      {
                        "bin_start": 2014.8,
                        "bin_end": 2015.4,
                        "count": 1
                      },
                      {
                        "bin_start": 2015.4,
                        "bin_end": 2016,
                        "count": 0
                      },
                      {
                        "bin_start": 2016,
                        "bin_end": 2016.6,
                        "count": 1
                      },
                      {
                        "bin_start": 2016.6,
                        "bin_end": 2017.2,
                        "count": 0
                      },
                      {
                        "bin_start": 2017.2,
                        "bin_end": 2017.8,
                        "count": 0
                      },
                      {
                        "bin_start": 2017.8,
                        "bin_end": 2018.4,
                        "count": 1
                      },
                      {
                        "bin_start": 2018.4,
                        "bin_end": 2019,
                        "count": 1
                      }
                    ]
                  }
                },
                {
                  "name": "zip",
                  "dtype": "int64",
                  "stats": {
                    "unique_count": 5,
                    "nan_count": 0,
                    "min": "94038",
                    "max": "95041",
                    "histogram": [
                      {
                        "bin_start": 94038,
                        "bin_end": 94138.3,
                        "count": 1
                      },
                      {
                        "bin_start": 94138.3,
                        "bin_end": 94238.6,
                        "count": 0
                      },
                      {
                        "bin_start": 94238.6,
                        "bin_end": 94338.9,
                        "count": 0
                      },
                      {
                        "bin_start": 94338.9,
                        "bin_end": 94439.2,
                        "count": 0
                      },
                      {
                        "bin_start": 94439.2,
                        "bin_end": 94539.5,
                        "count": 0
                      },
                      {
                        "bin_start": 94539.5,
                        "bin_end": 94639.8,
                        "count": 1
                      },
                      {
                        "bin_start": 94639.8,
                        "bin_end": 94740.1,
                        "count": 0
                      },
                      {
                        "bin_start": 94740.1,
                        "bin_end": 94840.4,
                        "count": 0
                      },
                      {
                        "bin_start": 94840.4,
                        "bin_end": 94940.7,
                        "count": 1
                      },
                      {
                        "bin_start": 94940.7,
                        "bin_end": 95041,
                        "count": 2
                      }
                    ]
                  }
                },
                {
                  "name": "GHI_raw",
                  "dtype": "object",
                  "stats": {
                    "unique_count": 5,
                    "nan_count": 0,
                    "categories": [
                      {
                        "name": "310.8225806451613",
                        "count": 1
                      },
                      {
                        "name": "169.7701612903226",
                        "count": 1
                      },
                      {
                        "name": "3 others",
                        "count": 3
                      }
                    ]
                  }
                },
                {
                  "name": "DHI_raw",
                  "dtype": "object",
                  "stats": {
                    "unique_count": 5,
                    "nan_count": 0,
                    "categories": [
                      {
                        "name": "52.57258064516129",
                        "count": 1
                      },
                      {
                        "name": "59.166666666666664",
                        "count": 1
                      },
                      {
                        "name": "3 others",
                        "count": 3
                      }
                    ]
                  }
                },
                {
                  "name": "DNI_raw",
                  "dtype": "object",
                  "stats": {
                    "unique_count": 5,
                    "nan_count": 0,
                    "categories": [
                      {
                        "name": "390.7110215053763",
                        "count": 1
                      },
                      {
                        "name": "192.32930107526883",
                        "count": 1
                      },
                      {
                        "name": "3 others",
                        "count": 3
                      }
                    ]
                  }
                },
                {
                  "name": "Wind Speed",
                  "dtype": "object",
                  "stats": {
                    "unique_count": 5,
                    "nan_count": 0,
                    "categories": [
                      {
                        "name": "3.478360215053763",
                        "count": 1
                      },
                      {
                        "name": "4.809543010752688",
                        "count": 1
                      },
                      {
                        "name": "3 others",
                        "count": 3
                      }
                    ]
                  }
                },
                {
                  "name": "Temperature_raw",
                  "dtype": "float64",
                  "stats": {
                    "unique_count": 5,
                    "nan_count": 0,
                    "min": "11.216666666666676",
                    "max": "21.969758064516128",
                    "histogram": [
                      {
                        "bin_start": 11.216666666666676,
                        "bin_end": 12.291975806451621,
                        "count": 2
                      },
                      {
                        "bin_start": 12.291975806451621,
                        "bin_end": 13.367284946236566,
                        "count": 0
                      },
                      {
                        "bin_start": 13.367284946236566,
                        "bin_end": 14.442594086021511,
                        "count": 2
                      },
                      {
                        "bin_start": 14.442594086021511,
                        "bin_end": 15.517903225806457,
                        "count": 0
                      },
                      {
                        "bin_start": 15.517903225806457,
                        "bin_end": 16.593212365591402,
                        "count": 0
                      },
                      {
                        "bin_start": 16.593212365591402,
                        "bin_end": 17.668521505376347,
                        "count": 0
                      },
                      {
                        "bin_start": 17.668521505376347,
                        "bin_end": 18.743830645161292,
                        "count": 0
                      },
                      {
                        "bin_start": 18.743830645161292,
                        "bin_end": 19.819139784946238,
                        "count": 0
                      },
                      {
                        "bin_start": 19.819139784946238,
                        "bin_end": 20.894448924731183,
                        "count": 0
                      },
                      {
                        "bin_start": 20.894448924731183,
                        "bin_end": 21.969758064516128,
                        "count": 1
                      }
                    ]
                  }
                },
                {
                  "name": "Solar_Zenith_Angle_raw",
                  "dtype": "float64",
                  "stats": {
                    "unique_count": 5,
                    "nan_count": 0,
                    "min": "75.66157258064513",
                    "max": "99.64183035714277",
                    "histogram": [
                      {
                        "bin_start": 75.66157258064513,
                        "bin_end": 78.05959835829489,
                        "count": 1
                      },
                      {
                        "bin_start": 78.05959835829489,
                        "bin_end": 80.45762413594466,
                        "count": 1
                      },
                      {
                        "bin_start": 80.45762413594466,
                        "bin_end": 82.85564991359442,
                        "count": 0
                      },
                      {
                        "bin_start": 82.85564991359442,
                        "bin_end": 85.25367569124418,
                        "count": 0
                      },
                      {
                        "bin_start": 85.25367569124418,
                        "bin_end": 87.65170146889395,
                        "count": 0
                      },
                      {
                        "bin_start": 87.65170146889395,
                        "bin_end": 90.04972724654371,
                        "count": 0
                      },
                      {
                        "bin_start": 90.04972724654371,
                        "bin_end": 92.44775302419347,
                        "count": 2
                      },
                      {
                        "bin_start": 92.44775302419347,
                        "bin_end": 94.84577880184324,
                        "count": 0
                      },
                      {
                        "bin_start": 94.84577880184324,
                        "bin_end": 97.243804579493,
                        "count": 0
                      },
                      {
                        "bin_start": 97.243804579493,
                        "bin_end": 99.64183035714277,
                        "count": 1
                      }
                    ]
                  }
                },
                {
                  "name": "_deepnote_index_column",
                  "dtype": "int64"
                }
              ],
              "rows_top": [
                {
                  "MONTH": 8,
                  "YEAR": 2019,
                  "zip": 94553,
                  "GHI_raw": "310.8225806451613",
                  "DHI_raw": "52.57258064516129",
                  "DNI_raw": "390.7110215053763",
                  "Wind Speed": "3.478360215053763",
                  "Temperature_raw": 21.969758064516128,
                  "Solar_Zenith_Angle_raw": 79.63051075268824,
                  "_deepnote_index_column": 73651
                },
                {
                  "MONTH": 3,
                  "YEAR": 2016,
                  "zip": 94940,
                  "GHI_raw": "169.7701612903226",
                  "DHI_raw": "59.166666666666664",
                  "DNI_raw": "192.32930107526883",
                  "Wind Speed": "4.809543010752688",
                  "Temperature_raw": 12.182795698924732,
                  "Solar_Zenith_Angle_raw": 91.02952956989245,
                  "_deepnote_index_column": 105904
                },
                {
                  "MONTH": 5,
                  "YEAR": 2013,
                  "zip": 95041,
                  "GHI_raw": "319.7204301075269",
                  "DHI_raw": "70.51344086021506",
                  "DNI_raw": "356.9623655913978",
                  "Wind Speed": "1.1791666666666678",
                  "Temperature_raw": 14.376344086021506,
                  "Solar_Zenith_Angle_raw": 75.66157258064513,
                  "_deepnote_index_column": 12682
                },
                {
                  "MONTH": 2,
                  "YEAR": 2015,
                  "zip": 94038,
                  "GHI_raw": "142.48958333333334",
                  "DHI_raw": "42.811011904761905",
                  "DNI_raw": "209.26934523809524",
                  "Wind Speed": "3.3116071428571443",
                  "Temperature_raw": 13.616071428571429,
                  "Solar_Zenith_Angle_raw": 99.64183035714277,
                  "_deepnote_index_column": 50030
                },
                {
                  "MONTH": 3,
                  "YEAR": 2018,
                  "zip": 95017,
                  "GHI_raw": "176.4959677419355",
                  "DHI_raw": "59.86021505376344",
                  "DNI_raw": "205.48924731182797",
                  "Wind Speed": "3.0182795698924756",
                  "Temperature_raw": 11.216666666666676,
                  "Solar_Zenith_Angle_raw": 91.14185483870966,
                  "_deepnote_index_column": 14991
                }
              ],
              "rows_bottom": null
            },
            "text/plain": "        MONTH  YEAR    zip             GHI_raw             DHI_raw  \\\n73651       8  2019  94553   310.8225806451613   52.57258064516129   \n105904      3  2016  94940   169.7701612903226  59.166666666666664   \n12682       5  2013  95041   319.7204301075269   70.51344086021506   \n50030       2  2015  94038  142.48958333333334  42.811011904761905   \n14991       3  2018  95017   176.4959677419355   59.86021505376344   \n\n                   DNI_raw          Wind Speed  Temperature_raw  \\\n73651    390.7110215053763   3.478360215053763        21.969758   \n105904  192.32930107526883   4.809543010752688        12.182796   \n12682    356.9623655913978  1.1791666666666678        14.376344   \n50030   209.26934523809524  3.3116071428571443        13.616071   \n14991   205.48924731182797  3.0182795698924756        11.216667   \n\n        Solar_Zenith_Angle_raw  \n73651                79.630511  \n105904               91.029530  \n12682                75.661573  \n50030                99.641830  \n14991                91.141855  ",
            "text/html": "<div>\n<style scoped>\n    .dataframe tbody tr th:only-of-type {\n        vertical-align: middle;\n    }\n\n    .dataframe tbody tr th {\n        vertical-align: top;\n    }\n\n    .dataframe thead th {\n        text-align: right;\n    }\n</style>\n<table border=\"1\" class=\"dataframe\">\n  <thead>\n    <tr style=\"text-align: right;\">\n      <th></th>\n      <th>MONTH</th>\n      <th>YEAR</th>\n      <th>zip</th>\n      <th>GHI_raw</th>\n      <th>DHI_raw</th>\n      <th>DNI_raw</th>\n      <th>Wind Speed</th>\n      <th>Temperature_raw</th>\n      <th>Solar_Zenith_Angle_raw</th>\n    </tr>\n  </thead>\n  <tbody>\n    <tr>\n      <th>73651</th>\n      <td>8</td>\n      <td>2019</td>\n      <td>94553</td>\n      <td>310.8225806451613</td>\n      <td>52.57258064516129</td>\n      <td>390.7110215053763</td>\n      <td>3.478360215053763</td>\n      <td>21.969758</td>\n      <td>79.630511</td>\n    </tr>\n    <tr>\n      <th>105904</th>\n      <td>3</td>\n      <td>2016</td>\n      <td>94940</td>\n      <td>169.7701612903226</td>\n      <td>59.166666666666664</td>\n      <td>192.32930107526883</td>\n      <td>4.809543010752688</td>\n      <td>12.182796</td>\n      <td>91.029530</td>\n    </tr>\n    <tr>\n      <th>12682</th>\n      <td>5</td>\n      <td>2013</td>\n      <td>95041</td>\n      <td>319.7204301075269</td>\n      <td>70.51344086021506</td>\n      <td>356.9623655913978</td>\n      <td>1.1791666666666678</td>\n      <td>14.376344</td>\n      <td>75.661573</td>\n    </tr>\n    <tr>\n      <th>50030</th>\n      <td>2</td>\n      <td>2015</td>\n      <td>94038</td>\n      <td>142.48958333333334</td>\n      <td>42.811011904761905</td>\n      <td>209.26934523809524</td>\n      <td>3.3116071428571443</td>\n      <td>13.616071</td>\n      <td>99.641830</td>\n    </tr>\n    <tr>\n      <th>14991</th>\n      <td>3</td>\n      <td>2018</td>\n      <td>95017</td>\n      <td>176.4959677419355</td>\n      <td>59.86021505376344</td>\n      <td>205.48924731182797</td>\n      <td>3.0182795698924756</td>\n      <td>11.216667</td>\n      <td>91.141855</td>\n    </tr>\n  </tbody>\n</table>\n</div>"
          },
          "metadata": {}
        }
      ]
    },
    {
      "cell_type": "code",
      "metadata": {
        "tags": [],
        "deepnote_to_be_reexecuted": false,
        "source_hash": "e3dd1a07",
        "execution_millis": 95,
        "cell_id": "00060-254d1199-001b-4752-986c-1ce49805d13a",
        "execution_start": 1619165803294,
        "deepnote_cell_type": "code"
      },
      "source": "dtree = DecisionTreeRegressor(max_depth=8, min_samples_leaf=0.13, random_state=3)\n\ndtree.fit(X_train, y_train)",
      "outputs": [
        {
          "output_type": "execute_result",
          "execution_count": 79,
          "data": {
            "text/plain": "DecisionTreeRegressor(max_depth=8, min_samples_leaf=0.13, random_state=3)"
          },
          "metadata": {}
        }
      ],
      "execution_count": null
    },
    {
      "cell_type": "code",
      "metadata": {
        "tags": [],
        "deepnote_to_be_reexecuted": false,
        "source_hash": "f14c59e5",
        "execution_millis": 13,
        "cell_id": "00061-7d5aaa40-8044-4350-9e00-b85a1910431e",
        "execution_start": 1619165805244,
        "deepnote_cell_type": "code"
      },
      "source": "## apply model to training data\ndtree_train_pred = dtree.predict(X_train)\ndtree_train_mse = mean_squared_error(y_true=y_train, y_pred=dtree_train_pred)\n\n## apply model to test data\ndtree_test_pred = dtree.predict(X_val)\ndtree_test_mse = mean_squared_error(y_true=y_val, y_pred=dtree_test_pred)\nprint(\"Training MSE\", dtree_train_mse)\nprint(\"Testing MSE\", dtree_test_mse)",
      "outputs": [
        {
          "name": "stdout",
          "text": "Training MSE 22361.924219788987\nTesting MSE 24123.35503044352\n",
          "output_type": "stream"
        }
      ],
      "execution_count": null
    },
    {
      "cell_type": "code",
      "metadata": {
        "tags": [],
        "deepnote_to_be_reexecuted": false,
        "source_hash": "6e226696",
        "execution_millis": 192,
        "cell_id": "00062-bd2f2b5c-a507-490e-85a2-d4f8f7950acb",
        "execution_start": 1619165810550,
        "deepnote_cell_type": "code"
      },
      "source": "plt.scatter(y_train, dtree_train_pred)",
      "outputs": [
        {
          "output_type": "execute_result",
          "execution_count": 81,
          "data": {
            "text/plain": "<matplotlib.collections.PathCollection at 0x7fb299aa4c90>"
          },
          "metadata": {}
        },
        {
          "data": {
            "text/plain": "<Figure size 432x288 with 1 Axes>",
            "image/png": "[encoded data removed]"
          },
          "metadata": {
            "needs_background": "light"
          },
          "output_type": "display_data"
        }
      ],
      "execution_count": null
    },
    {
      "cell_type": "code",
      "metadata": {
        "tags": [],
        "deepnote_to_be_reexecuted": true,
        "source_hash": "c924cc91",
        "execution_millis": 6,
        "cell_id": "00063-abf1a15b-3c33-46b1-a735-34b145a8b7d7",
        "deepnote_cell_type": "code"
      },
      "source": "### Standardized SVR",
      "execution_count": null,
      "outputs": []
    },
    {
      "cell_type": "code",
      "metadata": {
        "tags": [],
        "deepnote_to_be_reexecuted": true,
        "source_hash": "eff316e",
        "execution_millis": 59464,
        "cell_id": "00064-31e2a536-7c93-46a6-8bdd-b9d500246456",
        "deepnote_cell_type": "code"
      },
      "source": "pipe = Pipeline([('scaler', StandardScaler()), ('svr', svm.SVR())])\n\npipe.fit(X_train, y_train)",
      "execution_count": null,
      "outputs": [
        {
          "output_type": "execute_result",
          "execution_count": 39,
          "data": {
            "text/plain": "Pipeline(steps=[('scaler', StandardScaler()), ('svr', SVR())])"
          },
          "metadata": {}
        }
      ]
    },
    {
      "cell_type": "code",
      "metadata": {
        "tags": [],
        "deepnote_to_be_reexecuted": true,
        "source_hash": "4de560e7",
        "execution_millis": 15909,
        "cell_id": "00065-3f4b8e40-06bf-418c-be6c-e4cefbdcbcfd",
        "deepnote_cell_type": "code"
      },
      "source": "pipe.score(X_val, y_val)",
      "execution_count": null,
      "outputs": [
        {
          "output_type": "execute_result",
          "execution_count": 40,
          "data": {
            "text/plain": "0.0691449342717636"
          },
          "metadata": {}
        }
      ]
    },
    {
      "cell_type": "code",
      "metadata": {
        "tags": [],
        "deepnote_to_be_reexecuted": true,
        "source_hash": "9ea735ef",
        "execution_millis": 62540,
        "cell_id": "00066-961ba9fe-ca92-49e9-9378-a0097d33d2e9",
        "deepnote_cell_type": "code"
      },
      "source": "pipe.score(X_train, y_train)",
      "execution_count": null,
      "outputs": [
        {
          "output_type": "execute_result",
          "execution_count": 41,
          "data": {
            "text/plain": "0.08866927190156293"
          },
          "metadata": {}
        }
      ]
    },
    {
      "cell_type": "code",
      "metadata": {
        "tags": [],
        "deepnote_to_be_reexecuted": true,
        "source_hash": "b623e53d",
        "execution_millis": 0,
        "cell_id": "00067-451d4c2e-274a-46b1-9ba8-3eba13fc295e",
        "deepnote_cell_type": "code"
      },
      "source": "",
      "execution_count": null,
      "outputs": []
    },
    {
      "cell_type": "code",
      "metadata": {
        "tags": [],
        "deepnote_to_be_reexecuted": true,
        "source_hash": "b623e53d",
        "execution_millis": 1,
        "cell_id": "00068-8886a99f-fbc6-44bc-ab31-609a2a4473c3",
        "deepnote_cell_type": "code"
      },
      "source": "",
      "execution_count": null,
      "outputs": []
    },
    {
      "cell_type": "markdown",
      "source": "## KNN (K Nearest Neighbors)",
      "metadata": {
        "tags": [],
        "cell_id": "00059-b459543d-a9b3-492c-b1c7-b597f8d374a2",
        "deepnote_cell_type": "markdown"
      }
    },
    {
      "cell_type": "markdown",
      "source": "",
      "metadata": {
        "tags": [],
        "cell_id": "00060-08497943-0ab3-4908-a611-7a0dd6cf5f60",
        "deepnote_cell_type": "markdown"
      }
    },
    {
      "cell_type": "code",
      "source": "neigh = KNeighborsRegressor(n_neighbors=2)\nneigh.fit(X_train, y_train)\n",
      "metadata": {
        "tags": [],
        "cell_id": "00060-7a05a611-f343-4ac5-ab83-42b290cb8405",
        "deepnote_to_be_reexecuted": false,
        "source_hash": "322e6f4a",
        "execution_millis": 8,
        "execution_start": 1619166143109,
        "deepnote_cell_type": "code"
      },
      "outputs": [
        {
          "output_type": "execute_result",
          "execution_count": 16,
          "data": {
            "text/plain": "KNeighborsRegressor(n_neighbors=2)"
          },
          "metadata": {}
        }
      ],
      "execution_count": null
    },
    {
      "cell_type": "code",
      "source": "neigh_train_pred = neigh.predict(X_train)\nneigh_test_pred = neigh.predict(X_val)\n",
      "metadata": {
        "tags": [],
        "cell_id": "00061-7d729d64-fef2-4db9-93b4-d1b805f814dd",
        "deepnote_to_be_reexecuted": false,
        "source_hash": "d229bb3d",
        "execution_millis": 267,
        "execution_start": 1619166145054,
        "deepnote_cell_type": "code"
      },
      "outputs": [
        {
          "output_type": "error",
          "ename": "NameError",
          "evalue": "name 'neigh' is not defined",
          "traceback": [
            "\u001b[0;31m---------------------------------------------------------------------------\u001b[0m",
            "\u001b[0;31mNameError\u001b[0m                                 Traceback (most recent call last)",
            "\u001b[0;32m<ipython-input-1-fff5d9418b3a>\u001b[0m in \u001b[0;36m<module>\u001b[0;34m\u001b[0m\n\u001b[0;32m----> 1\u001b[0;31m \u001b[0mneigh_train_pred\u001b[0m \u001b[0;34m=\u001b[0m \u001b[0mneigh\u001b[0m\u001b[0;34m.\u001b[0m\u001b[0mpredict\u001b[0m\u001b[0;34m(\u001b[0m\u001b[0mX_train\u001b[0m\u001b[0;34m)\u001b[0m\u001b[0;34m\u001b[0m\u001b[0;34m\u001b[0m\u001b[0m\n\u001b[0m\u001b[1;32m      2\u001b[0m \u001b[0mneigh_test_pred\u001b[0m \u001b[0;34m=\u001b[0m \u001b[0mneigh\u001b[0m\u001b[0;34m.\u001b[0m\u001b[0mpredict\u001b[0m\u001b[0;34m(\u001b[0m\u001b[0mX_val\u001b[0m\u001b[0;34m)\u001b[0m\u001b[0;34m\u001b[0m\u001b[0;34m\u001b[0m\u001b[0m\n",
            "\u001b[0;31mNameError\u001b[0m: name 'neigh' is not defined"
          ]
        },
        {
          "output_type": "error",
          "ename": "KernelInterrupted",
          "evalue": "Execution interrupted by the Jupyter kernel.",
          "traceback": [
            "\u001b[0;31m---------------------------------------------------------------------------\u001b[0m",
            "\u001b[0;31mKernelInterrupted\u001b[0m: Execution interrupted by the Jupyter kernel."
          ]
        },
        {
          "output_type": "error",
          "ename": "KernelInterrupted",
          "evalue": "Execution interrupted by the Jupyter kernel.",
          "traceback": [
            "\u001b[0;31m---------------------------------------------------------------------------\u001b[0m",
            "\u001b[0;31mKernelInterrupted\u001b[0m: Execution interrupted by the Jupyter kernel."
          ]
        }
      ],
      "execution_count": null
    },
    {
      "cell_type": "code",
      "source": "print('Training MSE: ', mean_squared_error(neigh_train_pred, y_train))\nprint('Testing MSE: ', mean_squared_error(neigh_test_pred, y_test))\n",
      "metadata": {
        "tags": [],
        "cell_id": "00062-a6e386ec-133a-449b-8135-7bd18ea5d253",
        "deepnote_cell_type": "code"
      },
      "outputs": [],
      "execution_count": null
    },
    {
      "cell_type": "markdown",
      "source": "<a style='text-decoration:none;line-height:16px;display:flex;color:#5B5B62;padding:10px;justify-content:end;' href='https://deepnote.com?utm_source=created-in-deepnote-cell&projectId=c2f0e727-e6a4-4b2a-b180-a91c3a609ecf' target=\"_blank\">\n<img alt='Created in deepnote.com' style='display:inline;max-height:16px;margin:0px;margin-right:7.5px;' src='data:image/svg+xml;base64,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' > </img>\nCreated in <span style='font-weight:600;margin-left:4px;'>Deepnote</span></a>",
      "metadata": {
        "tags": [],
        "created_in_deepnote_cell": true,
        "deepnote_cell_type": "markdown"
      }
    }
  ],
  "nbformat": 4,
  "nbformat_minor": 2,
  "metadata": {
    "kernelspec": {
      "display_name": "Python 3",
      "language": "python",
      "name": "python3"
    },
    "language_info": {
      "codemirror_mode": {
        "name": "ipython",
        "version": 3
      },
      "file_extension": ".py",
      "mimetype": "text/x-python",
      "name": "python",
      "nbconvert_exporter": "python",
      "pygments_lexer": "ipython3",
      "version": "3.7.3"
    },
    "deepnote_notebook_id": "880037b6-806a-46d4-8e99-7409d0c1c124",
    "deepnote": {},
    "deepnote_execution_queue": []
  }
}