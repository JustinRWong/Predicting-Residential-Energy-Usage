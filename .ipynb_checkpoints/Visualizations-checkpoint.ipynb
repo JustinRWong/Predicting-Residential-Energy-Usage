{
 "cells": [
  {
   "cell_type": "code",
   "execution_count": 112,
   "metadata": {},
   "outputs": [],
   "source": [
    "import geopandas as gpd\n",
    "import pandas as pd\n",
    "import numpy as np\n",
    "import matplotlib.pyplot as plt\n",
    "import matplotlib.gridspec as gridspec\n",
    "import folium\n",
    "from folium.plugins import HeatMap"
   ]
  },
  {
   "cell_type": "code",
   "execution_count": 40,
   "metadata": {},
   "outputs": [],
   "source": [
    "def info(df, head=True):\n",
    "    print(\"Type: \", type(df))\n",
    "    print(\"Shape: \", df.shape)\n",
    "    print(\"Columns: \", df.columns)\n",
    "    if head:\n",
    "        display(df.head())\n",
    "    else:\n",
    "        display(df)"
   ]
  },
  {
   "cell_type": "markdown",
   "metadata": {},
   "source": [
    "# Importing GeoDataFrames\n",
    "\n",
    "California Counties and Boundarise sourced from https://data.ca.gov/dataset/ca-geographic-boundaries"
   ]
  },
  {
   "cell_type": "code",
   "execution_count": 3,
   "metadata": {},
   "outputs": [],
   "source": [
    "cleaned_monthly_with_zip_and_citis_fn = \"cleaned_data/all-pge-with-nrel/pge-energy-consumption-with-nrel-solar_2013-2019_136968x35.shp\"\n",
    "zip_cities_monthly_pge_gdf = gpd.read_file(cleaned_monthly_with_zip_and_citis_fn)\n"
   ]
  },
  {
   "cell_type": "code",
   "execution_count": 4,
   "metadata": {},
   "outputs": [
    {
     "name": "stdout",
     "output_type": "stream",
     "text": [
      "Type:  <class 'geopandas.geodataframe.GeoDataFrame'>\n",
      "Shape:  (136968, 35)\n",
      "Columns:  Index(['zip', 'city', 'state', 'latitude_x', 'longitude_', 'timezone', 'dst',\n",
      "       'ZIPCODE', 'DATE', 'MONTH', 'YEAR', 'DAY', 'CUSTOMERCL', 'COMBINED',\n",
      "       'TOTALCUSTO', 'TOTALKWH', 'AVERAGEKWH', 'TOTALTHERM', 'AVERAGETHE',\n",
      "       'Calculated', 'Calculat_1', 'AVGKWH Dif', 'AVGTHERMS', 'Month_1',\n",
      "       'Year_1', 'GHI', 'DHI', 'DNI', 'Wind Speed', 'Temperatur', 'Solar Zeni',\n",
      "       'zipcode_1', 'latitude_y', 'longitud_1', 'geometry'],\n",
      "      dtype='object')\n"
     ]
    },
    {
     "data": {
      "text/html": [
       "<div>\n",
       "<style scoped>\n",
       "    .dataframe tbody tr th:only-of-type {\n",
       "        vertical-align: middle;\n",
       "    }\n",
       "\n",
       "    .dataframe tbody tr th {\n",
       "        vertical-align: top;\n",
       "    }\n",
       "\n",
       "    .dataframe thead th {\n",
       "        text-align: right;\n",
       "    }\n",
       "</style>\n",
       "<table border=\"1\" class=\"dataframe\">\n",
       "  <thead>\n",
       "    <tr style=\"text-align: right;\">\n",
       "      <th></th>\n",
       "      <th>zip</th>\n",
       "      <th>city</th>\n",
       "      <th>state</th>\n",
       "      <th>latitude_x</th>\n",
       "      <th>longitude_</th>\n",
       "      <th>timezone</th>\n",
       "      <th>dst</th>\n",
       "      <th>ZIPCODE</th>\n",
       "      <th>DATE</th>\n",
       "      <th>MONTH</th>\n",
       "      <th>...</th>\n",
       "      <th>GHI</th>\n",
       "      <th>DHI</th>\n",
       "      <th>DNI</th>\n",
       "      <th>Wind Speed</th>\n",
       "      <th>Temperatur</th>\n",
       "      <th>Solar Zeni</th>\n",
       "      <th>zipcode_1</th>\n",
       "      <th>latitude_y</th>\n",
       "      <th>longitud_1</th>\n",
       "      <th>geometry</th>\n",
       "    </tr>\n",
       "  </thead>\n",
       "  <tbody>\n",
       "    <tr>\n",
       "      <th>0</th>\n",
       "      <td>95717</td>\n",
       "      <td>Gold Run</td>\n",
       "      <td>CA</td>\n",
       "      <td>39.177026</td>\n",
       "      <td>-120.8451</td>\n",
       "      <td>-8</td>\n",
       "      <td>1</td>\n",
       "      <td>95717</td>\n",
       "      <td>2013-01-01</td>\n",
       "      <td>1</td>\n",
       "      <td>...</td>\n",
       "      <td>107.88575268817205</td>\n",
       "      <td>29.571236559139784</td>\n",
       "      <td>211.56182795698925</td>\n",
       "      <td>0.3540322580645159</td>\n",
       "      <td>2.3481182795698925</td>\n",
       "      <td>105.82493279569903</td>\n",
       "      <td>95717.0</td>\n",
       "      <td>39.177026</td>\n",
       "      <td>-120.8451</td>\n",
       "      <td>POINT (-120.84510 39.17703)</td>\n",
       "    </tr>\n",
       "    <tr>\n",
       "      <th>1</th>\n",
       "      <td>95717</td>\n",
       "      <td>Gold Run</td>\n",
       "      <td>CA</td>\n",
       "      <td>39.177026</td>\n",
       "      <td>-120.8451</td>\n",
       "      <td>-8</td>\n",
       "      <td>1</td>\n",
       "      <td>95717</td>\n",
       "      <td>2013-02-01</td>\n",
       "      <td>2</td>\n",
       "      <td>...</td>\n",
       "      <td>158.59375</td>\n",
       "      <td>36.48511904761905</td>\n",
       "      <td>269.0595238095238</td>\n",
       "      <td>0.40148809523809587</td>\n",
       "      <td>4.525297619047619</td>\n",
       "      <td>99.71912202380952</td>\n",
       "      <td>95717.0</td>\n",
       "      <td>39.177026</td>\n",
       "      <td>-120.8451</td>\n",
       "      <td>POINT (-120.84510 39.17703)</td>\n",
       "    </tr>\n",
       "    <tr>\n",
       "      <th>2</th>\n",
       "      <td>95717</td>\n",
       "      <td>Gold Run</td>\n",
       "      <td>CA</td>\n",
       "      <td>39.177026</td>\n",
       "      <td>-120.8451</td>\n",
       "      <td>-8</td>\n",
       "      <td>1</td>\n",
       "      <td>95717</td>\n",
       "      <td>2013-03-01</td>\n",
       "      <td>3</td>\n",
       "      <td>...</td>\n",
       "      <td>183.19892473118279</td>\n",
       "      <td>68.31989247311827</td>\n",
       "      <td>206.93548387096774</td>\n",
       "      <td>0.3981182795698933</td>\n",
       "      <td>8.529569892473118</td>\n",
       "      <td>91.12526881720433</td>\n",
       "      <td>95717.0</td>\n",
       "      <td>39.177026</td>\n",
       "      <td>-120.8451</td>\n",
       "      <td>POINT (-120.84510 39.17703)</td>\n",
       "    </tr>\n",
       "    <tr>\n",
       "      <th>3</th>\n",
       "      <td>95717</td>\n",
       "      <td>Gold Run</td>\n",
       "      <td>CA</td>\n",
       "      <td>39.177026</td>\n",
       "      <td>-120.8451</td>\n",
       "      <td>-8</td>\n",
       "      <td>1</td>\n",
       "      <td>95717</td>\n",
       "      <td>2013-04-01</td>\n",
       "      <td>4</td>\n",
       "      <td>...</td>\n",
       "      <td>269.525</td>\n",
       "      <td>66.2375</td>\n",
       "      <td>318.2472222222222</td>\n",
       "      <td>0.40958333333333385</td>\n",
       "      <td>11.322222222222223</td>\n",
       "      <td>82.1030138888889</td>\n",
       "      <td>95717.0</td>\n",
       "      <td>39.177026</td>\n",
       "      <td>-120.8451</td>\n",
       "      <td>POINT (-120.84510 39.17703)</td>\n",
       "    </tr>\n",
       "    <tr>\n",
       "      <th>4</th>\n",
       "      <td>95717</td>\n",
       "      <td>Gold Run</td>\n",
       "      <td>CA</td>\n",
       "      <td>39.177026</td>\n",
       "      <td>-120.8451</td>\n",
       "      <td>-8</td>\n",
       "      <td>1</td>\n",
       "      <td>95717</td>\n",
       "      <td>2013-05-01</td>\n",
       "      <td>5</td>\n",
       "      <td>...</td>\n",
       "      <td>299.9287634408602</td>\n",
       "      <td>71.88306451612904</td>\n",
       "      <td>342.23118279569894</td>\n",
       "      <td>0.4310483870967741</td>\n",
       "      <td>14.850806451612904</td>\n",
       "      <td>75.24653225806456</td>\n",
       "      <td>95717.0</td>\n",
       "      <td>39.177026</td>\n",
       "      <td>-120.8451</td>\n",
       "      <td>POINT (-120.84510 39.17703)</td>\n",
       "    </tr>\n",
       "  </tbody>\n",
       "</table>\n",
       "<p>5 rows × 35 columns</p>\n",
       "</div>"
      ],
      "text/plain": [
       "     zip      city state  latitude_x  longitude_ timezone dst  ZIPCODE  \\\n",
       "0  95717  Gold Run    CA   39.177026   -120.8451       -8   1    95717   \n",
       "1  95717  Gold Run    CA   39.177026   -120.8451       -8   1    95717   \n",
       "2  95717  Gold Run    CA   39.177026   -120.8451       -8   1    95717   \n",
       "3  95717  Gold Run    CA   39.177026   -120.8451       -8   1    95717   \n",
       "4  95717  Gold Run    CA   39.177026   -120.8451       -8   1    95717   \n",
       "\n",
       "         DATE  MONTH  ...                 GHI                 DHI  \\\n",
       "0  2013-01-01      1  ...  107.88575268817205  29.571236559139784   \n",
       "1  2013-02-01      2  ...           158.59375   36.48511904761905   \n",
       "2  2013-03-01      3  ...  183.19892473118279   68.31989247311827   \n",
       "3  2013-04-01      4  ...             269.525             66.2375   \n",
       "4  2013-05-01      5  ...   299.9287634408602   71.88306451612904   \n",
       "\n",
       "                  DNI           Wind Speed          Temperatur  \\\n",
       "0  211.56182795698925   0.3540322580645159  2.3481182795698925   \n",
       "1   269.0595238095238  0.40148809523809587   4.525297619047619   \n",
       "2  206.93548387096774   0.3981182795698933   8.529569892473118   \n",
       "3   318.2472222222222  0.40958333333333385  11.322222222222223   \n",
       "4  342.23118279569894   0.4310483870967741  14.850806451612904   \n",
       "\n",
       "           Solar Zeni  zipcode_1  latitude_y  longitud_1  \\\n",
       "0  105.82493279569903    95717.0   39.177026   -120.8451   \n",
       "1   99.71912202380952    95717.0   39.177026   -120.8451   \n",
       "2   91.12526881720433    95717.0   39.177026   -120.8451   \n",
       "3    82.1030138888889    95717.0   39.177026   -120.8451   \n",
       "4   75.24653225806456    95717.0   39.177026   -120.8451   \n",
       "\n",
       "                      geometry  \n",
       "0  POINT (-120.84510 39.17703)  \n",
       "1  POINT (-120.84510 39.17703)  \n",
       "2  POINT (-120.84510 39.17703)  \n",
       "3  POINT (-120.84510 39.17703)  \n",
       "4  POINT (-120.84510 39.17703)  \n",
       "\n",
       "[5 rows x 35 columns]"
      ]
     },
     "metadata": {},
     "output_type": "display_data"
    }
   ],
   "source": [
    "info(zip_cities_monthly_pge_gdf)"
   ]
  },
  {
   "cell_type": "code",
   "execution_count": 5,
   "metadata": {
    "scrolled": true
   },
   "outputs": [
    {
     "name": "stdout",
     "output_type": "stream",
     "text": [
      "CA_Counties_TIGER2016.cpg     CA_Counties_TIGER2016.sbx\r\n",
      "CA_Counties_TIGER2016.dbf     CA_Counties_TIGER2016.shp\r\n",
      "CA_Counties_TIGER2016.prj     CA_Counties_TIGER2016.shp.xml\r\n",
      "CA_Counties_TIGER2016.sbn     CA_Counties_TIGER2016.shx\r\n"
     ]
    }
   ],
   "source": [
    "!ls data/CA_Counties\n",
    "ca_countise_fn = \"data/CA_Counties/CA_Counties_TIGER2016.shp\"\n",
    "ca_counties = gpd.read_file(ca_countise_fn)"
   ]
  },
  {
   "cell_type": "markdown",
   "metadata": {},
   "source": [
    "#### Creating numerical latitude and longitud columns, since the CA_Counties_TIGER2016.shp consists of strings"
   ]
  },
  {
   "cell_type": "code",
   "execution_count": 6,
   "metadata": {},
   "outputs": [],
   "source": [
    "ca_counties['latitude'] = pd.to_numeric(ca_counties['INTPTLAT'].apply(lambda s: s[1:]))\n",
    "ca_counties['longitude'] = pd.to_numeric(ca_counties['INTPTLON'])"
   ]
  },
  {
   "cell_type": "code",
   "execution_count": 32,
   "metadata": {},
   "outputs": [
    {
     "name": "stdout",
     "output_type": "stream",
     "text": [
      "Type:  <class 'geopandas.geodataframe.GeoDataFrame'>\n",
      "Shape:  (58, 20)\n",
      "Columns:  Index(['STATEFP', 'COUNTYFP', 'COUNTYNS', 'GEOID', 'NAME', 'NAMELSAD', 'LSAD',\n",
      "       'CLASSFP', 'MTFCC', 'CSAFP', 'CBSAFP', 'METDIVFP', 'FUNCSTAT', 'ALAND',\n",
      "       'AWATER', 'INTPTLAT', 'INTPTLON', 'geometry', 'latitude', 'longitude'],\n",
      "      dtype='object')\n"
     ]
    },
    {
     "data": {
      "text/html": [
       "<div>\n",
       "<style scoped>\n",
       "    .dataframe tbody tr th:only-of-type {\n",
       "        vertical-align: middle;\n",
       "    }\n",
       "\n",
       "    .dataframe tbody tr th {\n",
       "        vertical-align: top;\n",
       "    }\n",
       "\n",
       "    .dataframe thead th {\n",
       "        text-align: right;\n",
       "    }\n",
       "</style>\n",
       "<table border=\"1\" class=\"dataframe\">\n",
       "  <thead>\n",
       "    <tr style=\"text-align: right;\">\n",
       "      <th></th>\n",
       "      <th>STATEFP</th>\n",
       "      <th>COUNTYFP</th>\n",
       "      <th>COUNTYNS</th>\n",
       "      <th>GEOID</th>\n",
       "      <th>NAME</th>\n",
       "      <th>NAMELSAD</th>\n",
       "      <th>LSAD</th>\n",
       "      <th>CLASSFP</th>\n",
       "      <th>MTFCC</th>\n",
       "      <th>CSAFP</th>\n",
       "      <th>CBSAFP</th>\n",
       "      <th>METDIVFP</th>\n",
       "      <th>FUNCSTAT</th>\n",
       "      <th>ALAND</th>\n",
       "      <th>AWATER</th>\n",
       "      <th>INTPTLAT</th>\n",
       "      <th>INTPTLON</th>\n",
       "      <th>geometry</th>\n",
       "      <th>latitude</th>\n",
       "      <th>longitude</th>\n",
       "    </tr>\n",
       "  </thead>\n",
       "  <tbody>\n",
       "    <tr>\n",
       "      <th>0</th>\n",
       "      <td>06</td>\n",
       "      <td>091</td>\n",
       "      <td>00277310</td>\n",
       "      <td>06091</td>\n",
       "      <td>Sierra</td>\n",
       "      <td>Sierra County</td>\n",
       "      <td>06</td>\n",
       "      <td>H1</td>\n",
       "      <td>G4020</td>\n",
       "      <td>None</td>\n",
       "      <td>None</td>\n",
       "      <td>None</td>\n",
       "      <td>A</td>\n",
       "      <td>2468694587</td>\n",
       "      <td>23299110</td>\n",
       "      <td>+39.5769252</td>\n",
       "      <td>-120.5219926</td>\n",
       "      <td>POLYGON ((-13431319.751 4821511.426, -13431312...</td>\n",
       "      <td>39.576925</td>\n",
       "      <td>-120.521993</td>\n",
       "    </tr>\n",
       "    <tr>\n",
       "      <th>1</th>\n",
       "      <td>06</td>\n",
       "      <td>067</td>\n",
       "      <td>00277298</td>\n",
       "      <td>06067</td>\n",
       "      <td>Sacramento</td>\n",
       "      <td>Sacramento County</td>\n",
       "      <td>06</td>\n",
       "      <td>H1</td>\n",
       "      <td>G4020</td>\n",
       "      <td>472</td>\n",
       "      <td>40900</td>\n",
       "      <td>None</td>\n",
       "      <td>A</td>\n",
       "      <td>2499183617</td>\n",
       "      <td>76073827</td>\n",
       "      <td>+38.4500114</td>\n",
       "      <td>-121.3404409</td>\n",
       "      <td>POLYGON ((-13490651.476 4680831.603, -13490511...</td>\n",
       "      <td>38.450011</td>\n",
       "      <td>-121.340441</td>\n",
       "    </tr>\n",
       "    <tr>\n",
       "      <th>2</th>\n",
       "      <td>06</td>\n",
       "      <td>083</td>\n",
       "      <td>00277306</td>\n",
       "      <td>06083</td>\n",
       "      <td>Santa Barbara</td>\n",
       "      <td>Santa Barbara County</td>\n",
       "      <td>06</td>\n",
       "      <td>H1</td>\n",
       "      <td>G4020</td>\n",
       "      <td>None</td>\n",
       "      <td>42200</td>\n",
       "      <td>None</td>\n",
       "      <td>A</td>\n",
       "      <td>7084000598</td>\n",
       "      <td>2729814515</td>\n",
       "      <td>+34.5370572</td>\n",
       "      <td>-120.0399729</td>\n",
       "      <td>MULTIPOLYGON (((-13423116.772 4042044.149, -13...</td>\n",
       "      <td>34.537057</td>\n",
       "      <td>-120.039973</td>\n",
       "    </tr>\n",
       "    <tr>\n",
       "      <th>3</th>\n",
       "      <td>06</td>\n",
       "      <td>009</td>\n",
       "      <td>01675885</td>\n",
       "      <td>06009</td>\n",
       "      <td>Calaveras</td>\n",
       "      <td>Calaveras County</td>\n",
       "      <td>06</td>\n",
       "      <td>H1</td>\n",
       "      <td>G4020</td>\n",
       "      <td>None</td>\n",
       "      <td>None</td>\n",
       "      <td>None</td>\n",
       "      <td>A</td>\n",
       "      <td>2641820834</td>\n",
       "      <td>43806026</td>\n",
       "      <td>+38.1838996</td>\n",
       "      <td>-120.5614415</td>\n",
       "      <td>POLYGON ((-13428575.483 4627725.228, -13428534...</td>\n",
       "      <td>38.183900</td>\n",
       "      <td>-120.561442</td>\n",
       "    </tr>\n",
       "    <tr>\n",
       "      <th>4</th>\n",
       "      <td>06</td>\n",
       "      <td>111</td>\n",
       "      <td>00277320</td>\n",
       "      <td>06111</td>\n",
       "      <td>Ventura</td>\n",
       "      <td>Ventura County</td>\n",
       "      <td>06</td>\n",
       "      <td>H1</td>\n",
       "      <td>G4020</td>\n",
       "      <td>348</td>\n",
       "      <td>37100</td>\n",
       "      <td>None</td>\n",
       "      <td>A</td>\n",
       "      <td>4773390489</td>\n",
       "      <td>945942791</td>\n",
       "      <td>+34.3587415</td>\n",
       "      <td>-119.1331432</td>\n",
       "      <td>MULTIPOLYGON (((-13317853.594 3931602.414, -13...</td>\n",
       "      <td>34.358742</td>\n",
       "      <td>-119.133143</td>\n",
       "    </tr>\n",
       "  </tbody>\n",
       "</table>\n",
       "</div>"
      ],
      "text/plain": [
       "  STATEFP COUNTYFP  COUNTYNS  GEOID           NAME              NAMELSAD LSAD  \\\n",
       "0      06      091  00277310  06091         Sierra         Sierra County   06   \n",
       "1      06      067  00277298  06067     Sacramento     Sacramento County   06   \n",
       "2      06      083  00277306  06083  Santa Barbara  Santa Barbara County   06   \n",
       "3      06      009  01675885  06009      Calaveras      Calaveras County   06   \n",
       "4      06      111  00277320  06111        Ventura        Ventura County   06   \n",
       "\n",
       "  CLASSFP  MTFCC CSAFP CBSAFP METDIVFP FUNCSTAT       ALAND      AWATER  \\\n",
       "0      H1  G4020  None   None     None        A  2468694587    23299110   \n",
       "1      H1  G4020   472  40900     None        A  2499183617    76073827   \n",
       "2      H1  G4020  None  42200     None        A  7084000598  2729814515   \n",
       "3      H1  G4020  None   None     None        A  2641820834    43806026   \n",
       "4      H1  G4020   348  37100     None        A  4773390489   945942791   \n",
       "\n",
       "      INTPTLAT      INTPTLON  \\\n",
       "0  +39.5769252  -120.5219926   \n",
       "1  +38.4500114  -121.3404409   \n",
       "2  +34.5370572  -120.0399729   \n",
       "3  +38.1838996  -120.5614415   \n",
       "4  +34.3587415  -119.1331432   \n",
       "\n",
       "                                            geometry   latitude   longitude  \n",
       "0  POLYGON ((-13431319.751 4821511.426, -13431312...  39.576925 -120.521993  \n",
       "1  POLYGON ((-13490651.476 4680831.603, -13490511...  38.450011 -121.340441  \n",
       "2  MULTIPOLYGON (((-13423116.772 4042044.149, -13...  34.537057 -120.039973  \n",
       "3  POLYGON ((-13428575.483 4627725.228, -13428534...  38.183900 -120.561442  \n",
       "4  MULTIPOLYGON (((-13317853.594 3931602.414, -13...  34.358742 -119.133143  "
      ]
     },
     "metadata": {},
     "output_type": "display_data"
    }
   ],
   "source": [
    "info(ca_counties)"
   ]
  },
  {
   "cell_type": "code",
   "execution_count": 27,
   "metadata": {},
   "outputs": [],
   "source": [
    "ca_boundaries = gpd.read_file('data/ca-state-boundary/CA_State_TIGER2016.shp')\n"
   ]
  },
  {
   "cell_type": "code",
   "execution_count": 33,
   "metadata": {},
   "outputs": [
    {
     "name": "stdout",
     "output_type": "stream",
     "text": [
      "Type:  <class 'geopandas.geodataframe.GeoDataFrame'>\n",
      "Shape:  (1, 15)\n",
      "Columns:  Index(['REGION', 'DIVISION', 'STATEFP', 'STATENS', 'GEOID', 'STUSPS', 'NAME',\n",
      "       'LSAD', 'MTFCC', 'FUNCSTAT', 'ALAND', 'AWATER', 'INTPTLAT', 'INTPTLON',\n",
      "       'geometry'],\n",
      "      dtype='object')\n"
     ]
    },
    {
     "data": {
      "text/html": [
       "<div>\n",
       "<style scoped>\n",
       "    .dataframe tbody tr th:only-of-type {\n",
       "        vertical-align: middle;\n",
       "    }\n",
       "\n",
       "    .dataframe tbody tr th {\n",
       "        vertical-align: top;\n",
       "    }\n",
       "\n",
       "    .dataframe thead th {\n",
       "        text-align: right;\n",
       "    }\n",
       "</style>\n",
       "<table border=\"1\" class=\"dataframe\">\n",
       "  <thead>\n",
       "    <tr style=\"text-align: right;\">\n",
       "      <th></th>\n",
       "      <th>REGION</th>\n",
       "      <th>DIVISION</th>\n",
       "      <th>STATEFP</th>\n",
       "      <th>STATENS</th>\n",
       "      <th>GEOID</th>\n",
       "      <th>STUSPS</th>\n",
       "      <th>NAME</th>\n",
       "      <th>LSAD</th>\n",
       "      <th>MTFCC</th>\n",
       "      <th>FUNCSTAT</th>\n",
       "      <th>ALAND</th>\n",
       "      <th>AWATER</th>\n",
       "      <th>INTPTLAT</th>\n",
       "      <th>INTPTLON</th>\n",
       "      <th>geometry</th>\n",
       "    </tr>\n",
       "  </thead>\n",
       "  <tbody>\n",
       "    <tr>\n",
       "      <th>0</th>\n",
       "      <td>4</td>\n",
       "      <td>9</td>\n",
       "      <td>06</td>\n",
       "      <td>01779778</td>\n",
       "      <td>06</td>\n",
       "      <td>CA</td>\n",
       "      <td>California</td>\n",
       "      <td>00</td>\n",
       "      <td>G4000</td>\n",
       "      <td>A</td>\n",
       "      <td>403501101370</td>\n",
       "      <td>20466718403</td>\n",
       "      <td>+37.1551773</td>\n",
       "      <td>-119.5434183</td>\n",
       "      <td>MULTIPOLYGON (((-13317677.375 3930590.808, -13...</td>\n",
       "    </tr>\n",
       "  </tbody>\n",
       "</table>\n",
       "</div>"
      ],
      "text/plain": [
       "  REGION DIVISION STATEFP   STATENS GEOID STUSPS        NAME LSAD  MTFCC  \\\n",
       "0      4        9      06  01779778    06     CA  California   00  G4000   \n",
       "\n",
       "  FUNCSTAT         ALAND       AWATER     INTPTLAT      INTPTLON  \\\n",
       "0        A  403501101370  20466718403  +37.1551773  -119.5434183   \n",
       "\n",
       "                                            geometry  \n",
       "0  MULTIPOLYGON (((-13317677.375 3930590.808, -13...  "
      ]
     },
     "metadata": {},
     "output_type": "display_data"
    }
   ],
   "source": [
    "info(ca_boundaries)"
   ]
  },
  {
   "cell_type": "markdown",
   "metadata": {},
   "source": [
    "## Coordinate Reference System(CRS) of pg&e/nrel dataset is different from california counties\n",
    "\n",
    "These two dataframes needs to be in the same CRS"
   ]
  },
  {
   "cell_type": "code",
   "execution_count": 34,
   "metadata": {},
   "outputs": [
    {
     "name": "stdout",
     "output_type": "stream",
     "text": [
      "epsg:4326\n",
      "epsg:3857\n",
      "epsg:3857\n"
     ]
    }
   ],
   "source": [
    "print(zip_cities_monthly_pge_gdf.crs)\n",
    "print(ca_counties.crs)\n",
    "print(ca_boundaries.crs)"
   ]
  },
  {
   "cell_type": "markdown",
   "metadata": {},
   "source": [
    "What does **epsg:4326** mean? This is an [EPSG](http://www.epsg.org/) code for the geographic CRS known as the [World Geodectic System of 1984](https://en.wikipedia.org/wiki/World_Geodetic_System#WGS84), or `WGS84`. This is the most commonly used CRS for latitude and longitude coordinate data and is the default CRS for most mapping software when the data does not have a defined CRS.\n",
    "\n",
    "The `counties` crs, epsg:3857, is known as \"Pseudo-Mercator.\" "
   ]
  },
  {
   "cell_type": "code",
   "execution_count": 35,
   "metadata": {},
   "outputs": [],
   "source": [
    "counties_wgs84 = ca_counties.to_crs(epsg=4326, inplace=False)\n",
    "boundaries_wgs84 = ca_boundaries.to_crs(epsg=4326, inplace=False)"
   ]
  },
  {
   "cell_type": "code",
   "execution_count": 37,
   "metadata": {},
   "outputs": [
    {
     "name": "stdout",
     "output_type": "stream",
     "text": [
      "epsg:4326\n",
      "epsg:4326\n",
      "epsg:4326\n"
     ]
    }
   ],
   "source": [
    "print(zip_cities_monthly_pge_gdf.crs)\n",
    "print(counties_wgs84.crs)\n",
    "print(boundaries_wgs84.crs)"
   ]
  },
  {
   "cell_type": "markdown",
   "metadata": {},
   "source": [
    "### Sanity check geographic plots\n",
    "\n",
    "#### California should look like California\n",
    "\n",
    "#### PG&E dataset matches pg&e customers\n",
    "PG&E service area reference: https://www.pge.com/mybusiness/customerservice/otherrequests/treetrimming/territory/"
   ]
  },
  {
   "cell_type": "code",
   "execution_count": 57,
   "metadata": {},
   "outputs": [
    {
     "data": {
      "image/png": "[encoded data removed]",
      "text/plain": [
       "<Figure size 1152x360 with 3 Axes>"
      ]
     },
     "metadata": {
      "needs_background": "light"
     },
     "output_type": "display_data"
    }
   ],
   "source": [
    "plt.figure(figsize=(16, 5))\n",
    "gs = gridspec.GridSpec(1, 3)\n",
    "gs.update(wspace=0.5)\n",
    "ax1 = plt.subplot(gs[0, 0], )\n",
    "ax2 = plt.subplot(gs[0, 1])\n",
    "ax3 = plt.subplot(gs[0, 2])\n",
    "\n",
    "counties_wgs84.plot(ax=ax1);\n",
    "zip_cities_monthly_pge_gdf.plot(ax=ax2);\n",
    "boundaries_wgs84.plot(ax=ax3);\n",
    "\n",
    "plt.show()"
   ]
  },
  {
   "cell_type": "markdown",
   "metadata": {},
   "source": [
    "## Overlaying entire PG&E/NREL with CA Counties"
   ]
  },
  {
   "cell_type": "code",
   "execution_count": 58,
   "metadata": {},
   "outputs": [
    {
     "data": {
      "image/png": "[encoded data removed]",
      "text/plain": [
       "<Figure size 576x864 with 1 Axes>"
      ]
     },
     "metadata": {
      "needs_background": "light"
     },
     "output_type": "display_data"
    }
   ],
   "source": [
    "fig, ax = plt.subplots(figsize=(8,12))\n",
    "\n",
    "zip_cities_monthly_pge_gdf.plot(ax=ax, color = 'blue', alpha = 0.5, markersize = 5)\n",
    "\n",
    "counties_wgs84.plot(ax=ax, color = 'white', edgecolor='red', alpha = .3)\n",
    "\n",
    "boundaries_wgs84.plot(ax=ax, color='#964B00', alpha=.8)\n",
    "\n",
    "ax.axis('on') # You can optionally omit the axes\n",
    "\n",
    "# Show a title\n",
    "ax.set_title('PG&E Measurements in California')\n",
    "\n",
    "plt.show()"
   ]
  },
  {
   "cell_type": "markdown",
   "metadata": {},
   "source": [
    "## Overlaying PG&E/NREL in Bay Area Only\n",
    "\n",
    "Bay Area traditionally consists of [9 counties](https://wikitravel.org/en/Bay_Area_(California)).\n",
    "\n",
    "<img src='https://wikitravel.org/upload/shared//thumb/b/bc/Bayarea_map.png/900px-Bayarea_map.png' style=\"width: 300px;\">\n",
    "\n",
    "\n",
    "We will define \"Bay Area\" as a box that encloses the following coordinates `(lat, long)`:\n",
    "\n",
    "- South West corner: `(36.897966, -123.433313)`\n",
    "\n",
    "- North East corner: `(38.593263, -121.381268)`\n",
    "\n",
    "With these coordinates, we'll need to only consider data in the PG&E/NREL dataset that falls within this region."
   ]
  },
  {
   "cell_type": "code",
   "execution_count": 98,
   "metadata": {},
   "outputs": [],
   "source": [
    "approximate_bay_area_center_lat = 39.5769252\n",
    "approximate_bay_area_center_long = -122.2833322\n",
    "\n",
    "## for subsetting the ca counties\n",
    "bay_area_south_west_lat  = 36.897966    ## vertical\n",
    "bay_area_south_west_long = -123.433313 ## horizontal\n",
    "bay_area_north_east_lat  = 38.593263    ## vertical --> closer to north pole => higher values\n",
    "bay_area_north_east_long = -121.381268 ## horizontal --> west long < east long. west is more negative\n",
    "\n",
    "## for plotting boundaries\n",
    "bay_area_limit_south_west_lat  = 36.897966    ## vertical\n",
    "bay_area_limit_south_west_long = -123.75 ## horizontal\n",
    "bay_area_limit_north_east_lat  = 38.9    ## vertical --> closer to north pole => higher values\n",
    "bay_area_limit_north_east_long = -121.2 ## horizontal --> west long < east long. west is more negative\n"
   ]
  },
  {
   "cell_type": "code",
   "execution_count": 101,
   "metadata": {},
   "outputs": [
    {
     "data": {
      "image/png": "[encoded data removed]",
      "text/plain": [
       "<Figure size 576x864 with 1 Axes>"
      ]
     },
     "metadata": {
      "needs_background": "light"
     },
     "output_type": "display_data"
    }
   ],
   "source": [
    "fig, ax = plt.subplots(figsize=(8,12))\n",
    "\n",
    "boundaries_wgs84.plot(ax=ax, color='#964B00', alpha=.8)\n",
    "\n",
    "zip_cities_monthly_pge_gdf.plot(ax=ax, color = 'blue', alpha = 0.5, markersize = 5)\n",
    "\n",
    "counties_wgs84.plot(ax=ax, color = 'white', edgecolor='red', alpha = .3)\n",
    "\n",
    "\n",
    "\n",
    "ax.axis('on') # You can optionally omit the axes\n",
    "\n",
    "# Show a title\n",
    "ax.set_title('PG&E Measurements in California')\n",
    "\n",
    "plt.xlim(bay_area_limit_south_west_long, bay_area_limit_north_east_long)\n",
    "plt.ylim(bay_area_limit_south_west_lat, bay_area_limit_north_east_lat)\n",
    "plt.show()"
   ]
  },
  {
   "cell_type": "markdown",
   "metadata": {},
   "source": [
    "#### Boxing the CA Counties Data"
   ]
  },
  {
   "cell_type": "code",
   "execution_count": 102,
   "metadata": {},
   "outputs": [
    {
     "data": {
      "text/plain": [
       "Index(['STATEFP', 'COUNTYFP', 'COUNTYNS', 'GEOID', 'NAME', 'NAMELSAD', 'LSAD',\n",
       "       'CLASSFP', 'MTFCC', 'CSAFP', 'CBSAFP', 'METDIVFP', 'FUNCSTAT', 'ALAND',\n",
       "       'AWATER', 'INTPTLAT', 'INTPTLON', 'geometry', 'latitude', 'longitude'],\n",
       "      dtype='object')"
      ]
     },
     "execution_count": 102,
     "metadata": {},
     "output_type": "execute_result"
    }
   ],
   "source": [
    "ca_counties.columns"
   ]
  },
  {
   "cell_type": "code",
   "execution_count": 103,
   "metadata": {},
   "outputs": [],
   "source": [
    "## subset south west\n",
    "bay_area_counties = counties_wgs84[ (bay_area_south_west_long <= counties_wgs84['longitude']) & (bay_area_south_west_lat <= counties_wgs84['latitude']) ]\n",
    "\n",
    "## subset north east\n",
    "bay_area_counties = bay_area_counties[ (bay_area_counties['longitude'] <= bay_area_north_east_long) & (bay_area_counties['latitude'] <= bay_area_north_east_lat) ]\n"
   ]
  },
  {
   "cell_type": "code",
   "execution_count": 104,
   "metadata": {},
   "outputs": [
    {
     "name": "stdout",
     "output_type": "stream",
     "text": [
      "10\n"
     ]
    },
    {
     "data": {
      "text/plain": [
       "6            Sonoma\n",
       "10    San Francisco\n",
       "11            Marin\n",
       "14             Napa\n",
       "22           Solano\n",
       "24     Contra Costa\n",
       "38      Santa Clara\n",
       "41          Alameda\n",
       "53        San Mateo\n",
       "55       Santa Cruz\n",
       "Name: NAME, dtype: object"
      ]
     },
     "execution_count": 104,
     "metadata": {},
     "output_type": "execute_result"
    }
   ],
   "source": [
    "## Viewing which counties were enclosed in our box\n",
    "print(len(bay_area_counties['NAME']))\n",
    "bay_area_counties['NAME']"
   ]
  },
  {
   "cell_type": "markdown",
   "metadata": {},
   "source": [
    "#### Boxing the PG&E/NREL Data"
   ]
  },
  {
   "cell_type": "code",
   "execution_count": 105,
   "metadata": {},
   "outputs": [
    {
     "data": {
      "text/plain": [
       "Index(['zip', 'city', 'state', 'latitude_x', 'longitude_', 'timezone', 'dst',\n",
       "       'ZIPCODE', 'DATE', 'MONTH', 'YEAR', 'DAY', 'CUSTOMERCL', 'COMBINED',\n",
       "       'TOTALCUSTO', 'TOTALKWH', 'AVERAGEKWH', 'TOTALTHERM', 'AVERAGETHE',\n",
       "       'Calculated', 'Calculat_1', 'AVGKWH Dif', 'AVGTHERMS', 'Month_1',\n",
       "       'Year_1', 'GHI', 'DHI', 'DNI', 'Wind Speed', 'Temperatur', 'Solar Zeni',\n",
       "       'zipcode_1', 'latitude_y', 'longitud_1', 'geometry'],\n",
       "      dtype='object')"
      ]
     },
     "execution_count": 105,
     "metadata": {},
     "output_type": "execute_result"
    }
   ],
   "source": [
    "zip_cities_monthly_pge_gdf.columns"
   ]
  },
  {
   "cell_type": "code",
   "execution_count": 106,
   "metadata": {},
   "outputs": [],
   "source": [
    "## subset south west\n",
    "bay_area_monthly_pge_nrel = zip_cities_monthly_pge_gdf[ (bay_area_south_west_long <= zip_cities_monthly_pge_gdf['longitude_']) & (bay_area_south_west_lat <= zip_cities_monthly_pge_gdf['latitude_x']) ]\n",
    "\n",
    "## subst north east\n",
    "bay_area_monthly_pge_nrel = bay_area_monthly_pge_nrel[ (bay_area_monthly_pge_nrel['longitude_'] <= bay_area_north_east_long) & (bay_area_monthly_pge_nrel['latitude_x'] <= bay_area_north_east_lat) ]\n"
   ]
  },
  {
   "cell_type": "code",
   "execution_count": 107,
   "metadata": {},
   "outputs": [
    {
     "data": {
      "text/plain": [
       "(56683, 35)"
      ]
     },
     "execution_count": 107,
     "metadata": {},
     "output_type": "execute_result"
    }
   ],
   "source": [
    "## Viewing how many measurements are the box\n",
    "bay_area_monthly_pge_nrel.shape"
   ]
  },
  {
   "cell_type": "code",
   "execution_count": 108,
   "metadata": {},
   "outputs": [
    {
     "data": {
      "image/png": "[encoded data removed]",
      "text/plain": [
       "<Figure size 576x864 with 1 Axes>"
      ]
     },
     "metadata": {
      "needs_background": "light"
     },
     "output_type": "display_data"
    }
   ],
   "source": [
    "fig, ax = plt.subplots(figsize=(8,12))\n",
    "\n",
    "bay_area_monthly_pge_nrel.plot(ax=ax, color = 'blue', alpha = 0.7, markersize = 5)\n",
    "\n",
    "bay_area_counties.plot(ax=ax, color = 'white', edgecolor='red', alpha = .3)\n",
    "\n",
    "ax.axis('on') # You can optionally omit the axes\n",
    "\n",
    "# Show a title\n",
    "ax.set_title('PG&E Measurements in Bay Area, California')\n",
    "\n",
    "plt.show()"
   ]
  },
  {
   "cell_type": "code",
   "execution_count": 110,
   "metadata": {},
   "outputs": [
    {
     "data": {
      "text/plain": [
       "Index(['zip', 'city', 'state', 'latitude_x', 'longitude_', 'timezone', 'dst',\n",
       "       'ZIPCODE', 'DATE', 'MONTH', 'YEAR', 'DAY', 'CUSTOMERCL', 'COMBINED',\n",
       "       'TOTALCUSTO', 'TOTALKWH', 'AVERAGEKWH', 'TOTALTHERM', 'AVERAGETHE',\n",
       "       'Calculated', 'Calculat_1', 'AVGKWH Dif', 'AVGTHERMS', 'Month_1',\n",
       "       'Year_1', 'GHI', 'DHI', 'DNI', 'Wind Speed', 'Temperatur', 'Solar Zeni',\n",
       "       'zipcode_1', 'latitude_y', 'longitud_1', 'geometry'],\n",
       "      dtype='object')"
      ]
     },
     "execution_count": 110,
     "metadata": {},
     "output_type": "execute_result"
    }
   ],
   "source": [
    "bay_area_monthly_pge_nrel.columns"
   ]
  },
  {
   "cell_type": "markdown",
   "metadata": {},
   "source": [
    "## Heatmaps"
   ]
  },
  {
   "cell_type": "code",
   "execution_count": 114,
   "metadata": {},
   "outputs": [
    {
     "data": {
      "text/plain": [
       "Index(['zip', 'city', 'state', 'latitude_x', 'longitude_', 'timezone', 'dst',\n",
       "       'ZIPCODE', 'DATE', 'MONTH', 'YEAR', 'DAY', 'CUSTOMERCL', 'COMBINED',\n",
       "       'TOTALCUSTO', 'TOTALKWH', 'AVERAGEKWH', 'TOTALTHERM', 'AVERAGETHE',\n",
       "       'Calculated', 'Calculat_1', 'AVGKWH Dif', 'AVGTHERMS', 'Month_1',\n",
       "       'Year_1', 'GHI', 'DHI', 'DNI', 'Wind Speed', 'Temperatur', 'Solar Zeni',\n",
       "       'zipcode_1', 'latitude_y', 'longitud_1', 'geometry'],\n",
       "      dtype='object')"
      ]
     },
     "execution_count": 114,
     "metadata": {},
     "output_type": "execute_result"
    }
   ],
   "source": [
    "bay_area_monthly_pge_nrel.columns"
   ]
  },
  {
   "cell_type": "code",
   "execution_count": 150,
   "metadata": {
    "scrolled": true
   },
   "outputs": [
    {
     "data": {
      "text/html": [
       "<div>\n",
       "<style scoped>\n",
       "    .dataframe tbody tr th:only-of-type {\n",
       "        vertical-align: middle;\n",
       "    }\n",
       "\n",
       "    .dataframe tbody tr th {\n",
       "        vertical-align: top;\n",
       "    }\n",
       "\n",
       "    .dataframe thead th {\n",
       "        text-align: right;\n",
       "    }\n",
       "</style>\n",
       "<table border=\"1\" class=\"dataframe\">\n",
       "  <thead>\n",
       "    <tr style=\"text-align: right;\">\n",
       "      <th></th>\n",
       "      <th>zip</th>\n",
       "      <th>city</th>\n",
       "      <th>state</th>\n",
       "      <th>latitude_x</th>\n",
       "      <th>longitude_</th>\n",
       "      <th>timezone</th>\n",
       "      <th>dst</th>\n",
       "      <th>ZIPCODE</th>\n",
       "      <th>DATE</th>\n",
       "      <th>MONTH</th>\n",
       "      <th>...</th>\n",
       "      <th>GHI</th>\n",
       "      <th>DHI</th>\n",
       "      <th>DNI</th>\n",
       "      <th>Wind Speed</th>\n",
       "      <th>Temperatur</th>\n",
       "      <th>Solar Zeni</th>\n",
       "      <th>zipcode_1</th>\n",
       "      <th>latitude_y</th>\n",
       "      <th>longitud_1</th>\n",
       "      <th>geometry</th>\n",
       "    </tr>\n",
       "  </thead>\n",
       "  <tbody>\n",
       "    <tr>\n",
       "      <th>94</th>\n",
       "      <td>94564</td>\n",
       "      <td>Pinole</td>\n",
       "      <td>CA</td>\n",
       "      <td>37.997509</td>\n",
       "      <td>-122.29208</td>\n",
       "      <td>-8</td>\n",
       "      <td>1</td>\n",
       "      <td>94564</td>\n",
       "      <td>2013-01-01</td>\n",
       "      <td>1</td>\n",
       "      <td>...</td>\n",
       "      <td>116.13037634408602</td>\n",
       "      <td>29.18010752688172</td>\n",
       "      <td>222.91935483870967</td>\n",
       "      <td>2.123252688172044</td>\n",
       "      <td>7.276881720430108</td>\n",
       "      <td>105.58174731182797</td>\n",
       "      <td>94564.0</td>\n",
       "      <td>37.997509000000015</td>\n",
       "      <td>-122.29208000000004</td>\n",
       "      <td>POINT (-13613492.074 4579073.924)</td>\n",
       "    </tr>\n",
       "    <tr>\n",
       "      <th>95</th>\n",
       "      <td>94564</td>\n",
       "      <td>Pinole</td>\n",
       "      <td>CA</td>\n",
       "      <td>37.997509</td>\n",
       "      <td>-122.29208</td>\n",
       "      <td>-8</td>\n",
       "      <td>1</td>\n",
       "      <td>94564</td>\n",
       "      <td>2013-02-01</td>\n",
       "      <td>2</td>\n",
       "      <td>...</td>\n",
       "      <td>162.37946428571428</td>\n",
       "      <td>38.666666666666664</td>\n",
       "      <td>262.79017857142856</td>\n",
       "      <td>2.1078869047619047</td>\n",
       "      <td>9.022321428571429</td>\n",
       "      <td>99.57782738095231</td>\n",
       "      <td>94564.0</td>\n",
       "      <td>37.997509000000015</td>\n",
       "      <td>-122.29208000000004</td>\n",
       "      <td>POINT (-13613492.074 4579073.924)</td>\n",
       "    </tr>\n",
       "    <tr>\n",
       "      <th>96</th>\n",
       "      <td>94564</td>\n",
       "      <td>Pinole</td>\n",
       "      <td>CA</td>\n",
       "      <td>37.997509</td>\n",
       "      <td>-122.29208</td>\n",
       "      <td>-8</td>\n",
       "      <td>1</td>\n",
       "      <td>94564</td>\n",
       "      <td>2013-03-01</td>\n",
       "      <td>3</td>\n",
       "      <td>...</td>\n",
       "      <td>190.54569892473117</td>\n",
       "      <td>70.01209677419355</td>\n",
       "      <td>211.2741935483871</td>\n",
       "      <td>2.017607526881722</td>\n",
       "      <td>11.189516129032258</td>\n",
       "      <td>91.10997311827974</td>\n",
       "      <td>94564.0</td>\n",
       "      <td>37.997509000000015</td>\n",
       "      <td>-122.29208000000004</td>\n",
       "      <td>POINT (-13613492.074 4579073.924)</td>\n",
       "    </tr>\n",
       "    <tr>\n",
       "      <th>97</th>\n",
       "      <td>94564</td>\n",
       "      <td>Pinole</td>\n",
       "      <td>CA</td>\n",
       "      <td>37.997509</td>\n",
       "      <td>-122.29208</td>\n",
       "      <td>-8</td>\n",
       "      <td>1</td>\n",
       "      <td>94564</td>\n",
       "      <td>2013-01-01</td>\n",
       "      <td>1</td>\n",
       "      <td>...</td>\n",
       "      <td>116.13037634408602</td>\n",
       "      <td>29.18010752688172</td>\n",
       "      <td>222.91935483870967</td>\n",
       "      <td>2.123252688172044</td>\n",
       "      <td>7.276881720430108</td>\n",
       "      <td>105.58174731182797</td>\n",
       "      <td>94564.0</td>\n",
       "      <td>37.997509000000015</td>\n",
       "      <td>-122.29208000000004</td>\n",
       "      <td>POINT (-13613492.074 4579073.924)</td>\n",
       "    </tr>\n",
       "    <tr>\n",
       "      <th>98</th>\n",
       "      <td>94564</td>\n",
       "      <td>Pinole</td>\n",
       "      <td>CA</td>\n",
       "      <td>37.997509</td>\n",
       "      <td>-122.29208</td>\n",
       "      <td>-8</td>\n",
       "      <td>1</td>\n",
       "      <td>94564</td>\n",
       "      <td>2013-02-01</td>\n",
       "      <td>2</td>\n",
       "      <td>...</td>\n",
       "      <td>162.37946428571428</td>\n",
       "      <td>38.666666666666664</td>\n",
       "      <td>262.79017857142856</td>\n",
       "      <td>2.1078869047619047</td>\n",
       "      <td>9.022321428571429</td>\n",
       "      <td>99.57782738095231</td>\n",
       "      <td>94564.0</td>\n",
       "      <td>37.997509000000015</td>\n",
       "      <td>-122.29208000000004</td>\n",
       "      <td>POINT (-13613492.074 4579073.924)</td>\n",
       "    </tr>\n",
       "    <tr>\n",
       "      <th>...</th>\n",
       "      <td>...</td>\n",
       "      <td>...</td>\n",
       "      <td>...</td>\n",
       "      <td>...</td>\n",
       "      <td>...</td>\n",
       "      <td>...</td>\n",
       "      <td>...</td>\n",
       "      <td>...</td>\n",
       "      <td>...</td>\n",
       "      <td>...</td>\n",
       "      <td>...</td>\n",
       "      <td>...</td>\n",
       "      <td>...</td>\n",
       "      <td>...</td>\n",
       "      <td>...</td>\n",
       "      <td>...</td>\n",
       "      <td>...</td>\n",
       "      <td>...</td>\n",
       "      <td>...</td>\n",
       "      <td>...</td>\n",
       "      <td>...</td>\n",
       "    </tr>\n",
       "    <tr>\n",
       "      <th>136869</th>\n",
       "      <td>95757</td>\n",
       "      <td>Elk Grove</td>\n",
       "      <td>CA</td>\n",
       "      <td>38.359200</td>\n",
       "      <td>-121.42280</td>\n",
       "      <td>-8</td>\n",
       "      <td>1</td>\n",
       "      <td>95757</td>\n",
       "      <td>2019-08-01</td>\n",
       "      <td>8</td>\n",
       "      <td>...</td>\n",
       "      <td>311.93951612903226</td>\n",
       "      <td>52.22043010752688</td>\n",
       "      <td>394.7231182795699</td>\n",
       "      <td>2.3065860215053773</td>\n",
       "      <td>25.551747311827963</td>\n",
       "      <td>79.58116935483868</td>\n",
       "      <td>95757.0</td>\n",
       "      <td>38.359199999999994</td>\n",
       "      <td>-121.42280000000004</td>\n",
       "      <td>POINT (-13516724.267 4630293.738)</td>\n",
       "    </tr>\n",
       "    <tr>\n",
       "      <th>136870</th>\n",
       "      <td>95757</td>\n",
       "      <td>Elk Grove</td>\n",
       "      <td>CA</td>\n",
       "      <td>38.359200</td>\n",
       "      <td>-121.42280</td>\n",
       "      <td>-8</td>\n",
       "      <td>1</td>\n",
       "      <td>95757</td>\n",
       "      <td>2019-09-01</td>\n",
       "      <td>9</td>\n",
       "      <td>...</td>\n",
       "      <td>248.49444444444444</td>\n",
       "      <td>49.36388888888889</td>\n",
       "      <td>340.10555555555555</td>\n",
       "      <td>2.0209722222222233</td>\n",
       "      <td>22.75263888888891</td>\n",
       "      <td>87.91523611111111</td>\n",
       "      <td>95757.0</td>\n",
       "      <td>38.359199999999994</td>\n",
       "      <td>-121.42280000000004</td>\n",
       "      <td>POINT (-13516724.267 4630293.738)</td>\n",
       "    </tr>\n",
       "    <tr>\n",
       "      <th>136871</th>\n",
       "      <td>95757</td>\n",
       "      <td>Elk Grove</td>\n",
       "      <td>CA</td>\n",
       "      <td>38.359200</td>\n",
       "      <td>-121.42280</td>\n",
       "      <td>-8</td>\n",
       "      <td>1</td>\n",
       "      <td>95757</td>\n",
       "      <td>2019-10-01</td>\n",
       "      <td>10</td>\n",
       "      <td>...</td>\n",
       "      <td>194.69354838709677</td>\n",
       "      <td>40.456989247311824</td>\n",
       "      <td>303.0067204301075</td>\n",
       "      <td>1.7486559139784952</td>\n",
       "      <td>18.452284946236567</td>\n",
       "      <td>96.86995967741942</td>\n",
       "      <td>95757.0</td>\n",
       "      <td>38.359199999999994</td>\n",
       "      <td>-121.42280000000004</td>\n",
       "      <td>POINT (-13516724.267 4630293.738)</td>\n",
       "    </tr>\n",
       "    <tr>\n",
       "      <th>136872</th>\n",
       "      <td>95757</td>\n",
       "      <td>Elk Grove</td>\n",
       "      <td>CA</td>\n",
       "      <td>38.359200</td>\n",
       "      <td>-121.42280</td>\n",
       "      <td>-8</td>\n",
       "      <td>1</td>\n",
       "      <td>95757</td>\n",
       "      <td>2019-11-01</td>\n",
       "      <td>11</td>\n",
       "      <td>...</td>\n",
       "      <td>128.2</td>\n",
       "      <td>34.706944444444446</td>\n",
       "      <td>223.09444444444443</td>\n",
       "      <td>1.5293055555555573</td>\n",
       "      <td>14.244722222222197</td>\n",
       "      <td>104.12527777777781</td>\n",
       "      <td>95757.0</td>\n",
       "      <td>38.359199999999994</td>\n",
       "      <td>-121.42280000000004</td>\n",
       "      <td>POINT (-13516724.267 4630293.738)</td>\n",
       "    </tr>\n",
       "    <tr>\n",
       "      <th>136873</th>\n",
       "      <td>95757</td>\n",
       "      <td>Elk Grove</td>\n",
       "      <td>CA</td>\n",
       "      <td>38.359200</td>\n",
       "      <td>-121.42280</td>\n",
       "      <td>-8</td>\n",
       "      <td>1</td>\n",
       "      <td>95757</td>\n",
       "      <td>2019-12-01</td>\n",
       "      <td>12</td>\n",
       "      <td>...</td>\n",
       "      <td>76.31451612903226</td>\n",
       "      <td>32.916666666666664</td>\n",
       "      <td>119.72983870967742</td>\n",
       "      <td>2.144489247311831</td>\n",
       "      <td>9.911962365591377</td>\n",
       "      <td>107.44383064516128</td>\n",
       "      <td>95757.0</td>\n",
       "      <td>38.359199999999994</td>\n",
       "      <td>-121.42280000000004</td>\n",
       "      <td>POINT (-13516724.267 4630293.738)</td>\n",
       "    </tr>\n",
       "  </tbody>\n",
       "</table>\n",
       "<p>56683 rows × 35 columns</p>\n",
       "</div>"
      ],
      "text/plain": [
       "          zip       city state  latitude_x  longitude_ timezone dst  ZIPCODE  \\\n",
       "94      94564     Pinole    CA   37.997509  -122.29208       -8   1    94564   \n",
       "95      94564     Pinole    CA   37.997509  -122.29208       -8   1    94564   \n",
       "96      94564     Pinole    CA   37.997509  -122.29208       -8   1    94564   \n",
       "97      94564     Pinole    CA   37.997509  -122.29208       -8   1    94564   \n",
       "98      94564     Pinole    CA   37.997509  -122.29208       -8   1    94564   \n",
       "...       ...        ...   ...         ...         ...      ...  ..      ...   \n",
       "136869  95757  Elk Grove    CA   38.359200  -121.42280       -8   1    95757   \n",
       "136870  95757  Elk Grove    CA   38.359200  -121.42280       -8   1    95757   \n",
       "136871  95757  Elk Grove    CA   38.359200  -121.42280       -8   1    95757   \n",
       "136872  95757  Elk Grove    CA   38.359200  -121.42280       -8   1    95757   \n",
       "136873  95757  Elk Grove    CA   38.359200  -121.42280       -8   1    95757   \n",
       "\n",
       "              DATE  MONTH  ...                 GHI                 DHI  \\\n",
       "94      2013-01-01      1  ...  116.13037634408602   29.18010752688172   \n",
       "95      2013-02-01      2  ...  162.37946428571428  38.666666666666664   \n",
       "96      2013-03-01      3  ...  190.54569892473117   70.01209677419355   \n",
       "97      2013-01-01      1  ...  116.13037634408602   29.18010752688172   \n",
       "98      2013-02-01      2  ...  162.37946428571428  38.666666666666664   \n",
       "...            ...    ...  ...                 ...                 ...   \n",
       "136869  2019-08-01      8  ...  311.93951612903226   52.22043010752688   \n",
       "136870  2019-09-01      9  ...  248.49444444444444   49.36388888888889   \n",
       "136871  2019-10-01     10  ...  194.69354838709677  40.456989247311824   \n",
       "136872  2019-11-01     11  ...               128.2  34.706944444444446   \n",
       "136873  2019-12-01     12  ...   76.31451612903226  32.916666666666664   \n",
       "\n",
       "                       DNI          Wind Speed          Temperatur  \\\n",
       "94      222.91935483870967   2.123252688172044   7.276881720430108   \n",
       "95      262.79017857142856  2.1078869047619047   9.022321428571429   \n",
       "96       211.2741935483871   2.017607526881722  11.189516129032258   \n",
       "97      222.91935483870967   2.123252688172044   7.276881720430108   \n",
       "98      262.79017857142856  2.1078869047619047   9.022321428571429   \n",
       "...                    ...                 ...                 ...   \n",
       "136869   394.7231182795699  2.3065860215053773  25.551747311827963   \n",
       "136870  340.10555555555555  2.0209722222222233   22.75263888888891   \n",
       "136871   303.0067204301075  1.7486559139784952  18.452284946236567   \n",
       "136872  223.09444444444443  1.5293055555555573  14.244722222222197   \n",
       "136873  119.72983870967742   2.144489247311831   9.911962365591377   \n",
       "\n",
       "                Solar Zeni  zipcode_1          latitude_y  \\\n",
       "94      105.58174731182797    94564.0  37.997509000000015   \n",
       "95       99.57782738095231    94564.0  37.997509000000015   \n",
       "96       91.10997311827974    94564.0  37.997509000000015   \n",
       "97      105.58174731182797    94564.0  37.997509000000015   \n",
       "98       99.57782738095231    94564.0  37.997509000000015   \n",
       "...                    ...        ...                 ...   \n",
       "136869   79.58116935483868    95757.0  38.359199999999994   \n",
       "136870   87.91523611111111    95757.0  38.359199999999994   \n",
       "136871   96.86995967741942    95757.0  38.359199999999994   \n",
       "136872  104.12527777777781    95757.0  38.359199999999994   \n",
       "136873  107.44383064516128    95757.0  38.359199999999994   \n",
       "\n",
       "                 longitud_1                           geometry  \n",
       "94      -122.29208000000004  POINT (-13613492.074 4579073.924)  \n",
       "95      -122.29208000000004  POINT (-13613492.074 4579073.924)  \n",
       "96      -122.29208000000004  POINT (-13613492.074 4579073.924)  \n",
       "97      -122.29208000000004  POINT (-13613492.074 4579073.924)  \n",
       "98      -122.29208000000004  POINT (-13613492.074 4579073.924)  \n",
       "...                     ...                                ...  \n",
       "136869  -121.42280000000004  POINT (-13516724.267 4630293.738)  \n",
       "136870  -121.42280000000004  POINT (-13516724.267 4630293.738)  \n",
       "136871  -121.42280000000004  POINT (-13516724.267 4630293.738)  \n",
       "136872  -121.42280000000004  POINT (-13516724.267 4630293.738)  \n",
       "136873  -121.42280000000004  POINT (-13516724.267 4630293.738)  \n",
       "\n",
       "[56683 rows x 35 columns]"
      ]
     },
     "execution_count": 150,
     "metadata": {},
     "output_type": "execute_result"
    }
   ],
   "source": [
    "folium_BAMPN = bay_area_monthly_pge_nrel.to_crs(epsg=3857, inplace=False)\n",
    "folium_BAMPN\n"
   ]
  },
  {
   "cell_type": "code",
   "execution_count": 146,
   "metadata": {},
   "outputs": [
    {
     "data": {
      "text/plain": [
       "numpy.float64"
      ]
     },
     "execution_count": 146,
     "metadata": {},
     "output_type": "execute_result"
    }
   ],
   "source": [
    "type(folium_BAMPN['latitude_x'].iloc[0])"
   ]
  },
  {
   "cell_type": "code",
   "execution_count": 153,
   "metadata": {},
   "outputs": [],
   "source": [
    "folium_BAMPN['latitude_x'] = folium_BAMPN['latitude_x'].astype(str) # pd.to_numeric( folium_BAMPN['latitude_x'], downcast='float')\n",
    "folium_BAMPN['longitude_'] = folium_BAMPN['longitude_'].astype(str) #pd.to_numeric( folium_BAMPN['longitude_'], downcast='float')\n",
    "folium_BAMPN['AVERAGEKWH'] = folium_BAMPN['AVERAGEKWH'].astype(float) # pd.to_numeric( folium_BAMPN['AVERAGEKWH'], downcast='float')"
   ]
  },
  {
   "cell_type": "code",
   "execution_count": 148,
   "metadata": {},
   "outputs": [
    {
     "data": {
      "text/plain": [
       "str"
      ]
     },
     "execution_count": 148,
     "metadata": {},
     "output_type": "execute_result"
    }
   ],
   "source": [
    "type(folium_BAMPN['latitude_x'].iloc[0])"
   ]
  },
  {
   "cell_type": "code",
   "execution_count": 154,
   "metadata": {},
   "outputs": [
    {
     "data": {
      "text/plain": [
       "94        563.0\n",
       "95        459.0\n",
       "96        460.0\n",
       "97          0.0\n",
       "98          0.0\n",
       "          ...  \n",
       "136869      0.0\n",
       "136870      0.0\n",
       "136871      0.0\n",
       "136872      0.0\n",
       "136873      0.0\n",
       "Name: AVERAGEKWH, Length: 56683, dtype: float64"
      ]
     },
     "execution_count": 154,
     "metadata": {},
     "output_type": "execute_result"
    }
   ],
   "source": [
    "folium_BAMPN['AVERAGEKWH']"
   ]
  },
  {
   "cell_type": "code",
   "execution_count": 155,
   "metadata": {
    "scrolled": true
   },
   "outputs": [
    {
     "data": {
      "text/plain": [
       "str"
      ]
     },
     "execution_count": 148,
     "metadata": {},
     "output_type": "execute_result"
    }
   ],
   "source": [
    "\n",
    "max_AVERAGEKWH = float(folium_BAMPN['AVERAGEKWH'].max())\n",
    "\n",
    "hmap = folium.Map(location=[approximate_bay_area_center_lat, approximate_bay_area_center_long], zoom_start=7, )\n",
    "\n",
    "hm_wide = HeatMap( list(zip(folium_BAMPN.latitude_x.values, folium_BAMPN.longitude_.values, folium_BAMPN.AVERAGEKWH.values)),\n",
    "                   min_opacity=0.2,\n",
    "                   max_val=max_AVERAGEKWH,\n",
    "                   radius=17, blur=15, \n",
    "                   max_zoom=1, \n",
    "                 )\n",
    "\n",
    "folium.GeoJson(folium_BAMPN).add_to(hmap)\n",
    "hmap.add_child(hm_wide)"
   ]
  },
  {
   "cell_type": "code",
   "execution_count": null,
   "metadata": {},
   "outputs": [],
   "source": [
    "bay_area_monthly_pge_nrel['AVERAGEKWH'].max()"
   ]
  },
  {
   "cell_type": "code",
   "execution_count": null,
   "metadata": {},
   "outputs": [],
   "source": []
  }
 ],
 "metadata": {
  "kernelspec": {
   "display_name": "Python 3",
   "language": "python",
   "name": "python3"
  },
  "language_info": {
   "codemirror_mode": {
    "name": "ipython",
    "version": 3
   },
   "file_extension": ".py",
   "mimetype": "text/x-python",
   "name": "python",
   "nbconvert_exporter": "python",
   "pygments_lexer": "ipython3",
   "version": "3.7.3"
  }
 },
 "nbformat": 4,
 "nbformat_minor": 2
}
