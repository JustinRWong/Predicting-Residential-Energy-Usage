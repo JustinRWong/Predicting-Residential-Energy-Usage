{
  "cells": [
    {
      "cell_type": "code",
      "metadata": {
        "cell_id": "00000-578e3682-4608-4eb0-9154-df6461b4d1f4",
        "deepnote_to_be_reexecuted": false,
        "source_hash": "6953864a",
        "execution_millis": 2578,
        "execution_start": 1619129735379,
        "deepnote_cell_type": "code"
      },
      "source": "import geopandas as gpd\nimport pandas as pd\nimport numpy as np\nimport matplotlib.pyplot as plt\nimport matplotlib.gridspec as gridspec\nfrom ipywidgets import interact, interactive, fixed, interact_manual\nimport ipywidgets as widgets\nimport seaborn as sns\nfrom sklearn.model_selection import train_test_split\n\nfrom scipy.optimize import leastsq\n\nfrom sklearn.linear_model import LinearRegression, Ridge, Lasso\n\nfrom sklearn.metrics import mean_squared_error\nfrom sklearn import svm\nfrom sklearn.tree import DecisionTreeRegressor\n\nfrom sklearn.preprocessing import StandardScaler\nfrom sklearn.pipeline import Pipeline",
      "execution_count": 1,
      "outputs": []
    },
    {
      "cell_type": "code",
      "metadata": {
        "cell_id": "00001-1dde101c-fbec-424a-bd28-1e8062b4e710",
        "deepnote_to_be_reexecuted": false,
        "source_hash": "6ec522b",
        "execution_millis": 1,
        "execution_start": 1619129737958,
        "deepnote_cell_type": "code"
      },
      "source": "def info(df, head=True):\n    print(\"Type: \", type(df))\n    print(\"Shape: \", df.shape)\n    print(\"Columns: \", df.columns)\n    if head:\n        display(df.head())\n    else:\n        display(df)\n\ndef corr_vis(df, features, meas='AVERAGEKWH_raw'):\n    '''\n    Displays a corrrelation chart for the  specified features in the edf\n    '''\n    ## Create a blank dataframe that calculates all the correlations to TOG\n    vis = pd.DataFrame()\n    vis['feature'] = features\n    vis['spearman'] = [df[f].corr(df[meas], 'spearman') for f in features]\n    #[print(str(features[f]) + \": \" + str(spr['spearman'][f])) for f in range(len(features))]\n    \n    vis = vis.sort_values('spearman')\n    plt.figure(figsize=(6, 0.25*len(features)))\n    ax = sns.barplot(data=vis, y='feature', x='spearman', orient='h')\n    \n    ## Chart design\n    ax.set(xlabel='correlation')\n    ax.set(title='Correlation of all features to {meas}'.format(meas=meas)) \n    return vis",
      "execution_count": 2,
      "outputs": []
    },
    {
      "cell_type": "markdown",
      "source": "# Importing GeoDataFrames\n\nCalifornia Counties and Boundarise sourced from https://data.ca.gov/dataset/ca-geographic-boundaries",
      "metadata": {
        "cell_id": "00002-316afb2d-047a-4222-af4f-5f60865cab11",
        "deepnote_cell_type": "markdown"
      }
    },
    {
      "cell_type": "code",
      "metadata": {
        "tags": [],
        "cell_id": "00003-60d1602e-02d9-4fb0-b0ce-8e8891038fd9",
        "deepnote_to_be_reexecuted": false,
        "source_hash": "8fd16d92",
        "execution_millis": 0,
        "execution_start": 1619129737995,
        "deepnote_cell_type": "code"
      },
      "source": "base = \"/datasets/team-red-residential-energy-consumption/datasets/team-red-residential-energy-consumption/Data/\"",
      "execution_count": 3,
      "outputs": []
    },
    {
      "cell_type": "code",
      "metadata": {
        "cell_id": "00003-d1c2b33b-841e-4c2c-a5f2-3388e59a37e1",
        "deepnote_to_be_reexecuted": false,
        "source_hash": "358e5bfc",
        "execution_millis": 26314,
        "execution_start": 1619129737995,
        "deepnote_cell_type": "code"
      },
      "source": "cleaned_monthly_with_zip_and_citis_fn = base + \"cleaned_data/all-pge-with-nrel/transformed_pge-energy-consumption-with-nrel-solar_2013-2019_136968x35.shp\"\nzip_cities_monthly_pge_gdf = gpd.read_file(cleaned_monthly_with_zip_and_citis_fn)\n",
      "execution_count": 4,
      "outputs": []
    },
    {
      "cell_type": "code",
      "metadata": {
        "cell_id": "00004-997ae165-11bc-4377-b9ef-d779ac032018",
        "deepnote_to_be_reexecuted": false,
        "source_hash": "f56db3a0",
        "execution_millis": 332,
        "execution_start": 1619129764350,
        "deepnote_cell_type": "code"
      },
      "source": "rename_mapper ={\n    'TOTALCUSTO': 'TOTALCUSTO_raw',\n    'TOTALKWH_r': 'TOTALKWH_raw',\n    'AVERAGEKWH': 'AVERAGEKWH_raw',\n    'TOTALTHERM': 'TOTALTHERM_raw',\n    'AVERAGETHE': 'AVERAGETHERM_raw',\n    'Temperatur': 'Temperature_raw', \n    'Solar Zeni': 'Solar_Zenith_Angle_raw',\n    'TOTALCUS_1': 'TOTALCUS_std', \n    'TOTALKWH_s': 'TOTALKWH_std', \n    'AVERAGEK_1': 'AVERAGEKWH_std', \n    'TOTALTHE_1': 'TOTALTHERM_std', \n    'AVERAGET_1': 'AVERAGETHERM_std',\n    'Wind Spe_1': 'Wind_Speed_std', \n    'Temperat_1': 'Temperature_std',\n    'Solar Ze_1': 'Solar_Zenith_Angle_std', \n}\nzip_cities_monthly_pge_gdf = zip_cities_monthly_pge_gdf.rename(rename_mapper, axis=1)\nzip_cities_monthly_pge_gdf['Solar_Zenith_Angle_raw'] = pd.to_numeric(zip_cities_monthly_pge_gdf['Solar_Zenith_Angle_raw'])\nzip_cities_monthly_pge_gdf['Temperature_raw'] = pd.to_numeric(zip_cities_monthly_pge_gdf['Temperature_raw'])",
      "execution_count": 5,
      "outputs": []
    },
    {
      "cell_type": "code",
      "metadata": {
        "cell_id": "00005-267b8d79-1cc0-408b-b472-403be669a0f4",
        "deepnote_to_be_reexecuted": false,
        "source_hash": "81e5bf19",
        "execution_millis": 157,
        "execution_start": 1619129764760,
        "deepnote_cell_type": "code"
      },
      "source": "info(zip_cities_monthly_pge_gdf)",
      "execution_count": 6,
      "outputs": [
        {
          "name": "stdout",
          "text": "Type:  <class 'geopandas.geodataframe.GeoDataFrame'>\nShape:  (136968, 36)\nColumns:  Index(['zip', 'city', 'state', 'latitude', 'longitude', 'timezone', 'dst',\n       'DATE', 'MONTH', 'YEAR', 'DAY', 'CUSTOMERCL', 'COMBINED',\n       'TOTALCUSTO_raw', 'TOTALKWH_raw', 'AVERAGEKWH_raw', 'TOTALTHERM_raw',\n       'AVERAGETHERM_raw', 'GHI_raw', 'DHI_raw', 'DNI_raw', 'Wind Speed',\n       'Temperature_raw', 'Solar_Zenith_Angle_raw', 'TOTALCUS_std',\n       'TOTALKWH_std', 'AVERAGEKWH_std', 'TOTALTHERM_std', 'AVERAGETHERM_std',\n       'GHI_std', 'DHI_std', 'DNI_std', 'Wind_Speed_std', 'Temperature_std',\n       'Solar_Zenith_Angle_std', 'geometry'],\n      dtype='object')\n",
          "output_type": "stream"
        },
        {
          "data": {
            "application/vnd.deepnote.dataframe.v2+json": {
              "error": "Traceback (most recent call last):\n  File \"/shared-libs/code/variable_explorer.py\", line 143, in dataframe_formatter\n    return { MIME_TYPE: describe_pd_dataframe(df) }\n  File \"/shared-libs/code/variable_explorer_helpers.py\", line 154, in describe_pd_dataframe\n    if (is_type_numeric(column.dtype)):\n  File \"/shared-libs/code/variable_explorer_helpers.py\", line 13, in is_type_numeric\n    return np.issubdtype(dtype, np.number)\n  File \"/shared-libs/python3.7/py/lib/python3.7/site-packages/numpy/core/numerictypes.py\", line 388, in issubdtype\n    arg1 = dtype(arg1).type\nTypeError: Cannot interpret '<geopandas.array.GeometryDtype object at 0x7fab55ccef10>' as a data type\n"
            },
            "text/plain": "     zip      city state   latitude  longitude timezone dst        DATE  \\\n0  95717  Gold Run    CA  39.177026  -120.8451       -8   1  2013-01-01   \n1  95717  Gold Run    CA  39.177026  -120.8451       -8   1  2013-02-01   \n2  95717  Gold Run    CA  39.177026  -120.8451       -8   1  2013-03-01   \n3  95717  Gold Run    CA  39.177026  -120.8451       -8   1  2013-04-01   \n4  95717  Gold Run    CA  39.177026  -120.8451       -8   1  2013-05-01   \n\n   MONTH  YEAR  ...  AVERAGEKWH_std TOTALTHERM_std AVERAGETHERM_std   GHI_std  \\\n0      1  2013  ...       -0.590525       -0.46156        -0.348278 -1.198043   \n1      2  2013  ...       -0.590525       -0.46156        -0.348278 -0.621567   \n2      3  2013  ...       -0.590525       -0.46156        -0.348278 -0.341841   \n3      4  2013  ...       -0.590525       -0.46156        -0.348278  0.639561   \n4      5  2013  ...        0.278279       -0.46156        -0.348278  0.985208   \n\n    DHI_std   DNI_std  Wind_Speed_std  Temperature_std Solar_Zenith_Angle_std  \\\n0 -1.373894 -0.709183       -1.894812        -2.255195               1.283431   \n1 -0.990437 -0.041747       -1.837832        -1.881118               0.787489   \n2  0.775179 -0.762886       -1.841878        -1.193114               0.089457   \n3  0.659686  0.529226       -1.828112        -0.713287              -0.643372   \n4  0.972799  0.807632       -1.802339        -0.107015              -1.200288   \n\n                      geometry  \n0  POINT (-120.84510 39.17703)  \n1  POINT (-120.84510 39.17703)  \n2  POINT (-120.84510 39.17703)  \n3  POINT (-120.84510 39.17703)  \n4  POINT (-120.84510 39.17703)  \n\n[5 rows x 36 columns]",
            "text/html": "<div>\n<style scoped>\n    .dataframe tbody tr th:only-of-type {\n        vertical-align: middle;\n    }\n\n    .dataframe tbody tr th {\n        vertical-align: top;\n    }\n\n    .dataframe thead th {\n        text-align: right;\n    }\n</style>\n<table border=\"1\" class=\"dataframe\">\n  <thead>\n    <tr style=\"text-align: right;\">\n      <th></th>\n      <th>zip</th>\n      <th>city</th>\n      <th>state</th>\n      <th>latitude</th>\n      <th>longitude</th>\n      <th>timezone</th>\n      <th>dst</th>\n      <th>DATE</th>\n      <th>MONTH</th>\n      <th>YEAR</th>\n      <th>...</th>\n      <th>AVERAGEKWH_std</th>\n      <th>TOTALTHERM_std</th>\n      <th>AVERAGETHERM_std</th>\n      <th>GHI_std</th>\n      <th>DHI_std</th>\n      <th>DNI_std</th>\n      <th>Wind_Speed_std</th>\n      <th>Temperature_std</th>\n      <th>Solar_Zenith_Angle_std</th>\n      <th>geometry</th>\n    </tr>\n  </thead>\n  <tbody>\n    <tr>\n      <th>0</th>\n      <td>95717</td>\n      <td>Gold Run</td>\n      <td>CA</td>\n      <td>39.177026</td>\n      <td>-120.8451</td>\n      <td>-8</td>\n      <td>1</td>\n      <td>2013-01-01</td>\n      <td>1</td>\n      <td>2013</td>\n      <td>...</td>\n      <td>-0.590525</td>\n      <td>-0.46156</td>\n      <td>-0.348278</td>\n      <td>-1.198043</td>\n      <td>-1.373894</td>\n      <td>-0.709183</td>\n      <td>-1.894812</td>\n      <td>-2.255195</td>\n      <td>1.283431</td>\n      <td>POINT (-120.84510 39.17703)</td>\n    </tr>\n    <tr>\n      <th>1</th>\n      <td>95717</td>\n      <td>Gold Run</td>\n      <td>CA</td>\n      <td>39.177026</td>\n      <td>-120.8451</td>\n      <td>-8</td>\n      <td>1</td>\n      <td>2013-02-01</td>\n      <td>2</td>\n      <td>2013</td>\n      <td>...</td>\n      <td>-0.590525</td>\n      <td>-0.46156</td>\n      <td>-0.348278</td>\n      <td>-0.621567</td>\n      <td>-0.990437</td>\n      <td>-0.041747</td>\n      <td>-1.837832</td>\n      <td>-1.881118</td>\n      <td>0.787489</td>\n      <td>POINT (-120.84510 39.17703)</td>\n    </tr>\n    <tr>\n      <th>2</th>\n      <td>95717</td>\n      <td>Gold Run</td>\n      <td>CA</td>\n      <td>39.177026</td>\n      <td>-120.8451</td>\n      <td>-8</td>\n      <td>1</td>\n      <td>2013-03-01</td>\n      <td>3</td>\n      <td>2013</td>\n      <td>...</td>\n      <td>-0.590525</td>\n      <td>-0.46156</td>\n      <td>-0.348278</td>\n      <td>-0.341841</td>\n      <td>0.775179</td>\n      <td>-0.762886</td>\n      <td>-1.841878</td>\n      <td>-1.193114</td>\n      <td>0.089457</td>\n      <td>POINT (-120.84510 39.17703)</td>\n    </tr>\n    <tr>\n      <th>3</th>\n      <td>95717</td>\n      <td>Gold Run</td>\n      <td>CA</td>\n      <td>39.177026</td>\n      <td>-120.8451</td>\n      <td>-8</td>\n      <td>1</td>\n      <td>2013-04-01</td>\n      <td>4</td>\n      <td>2013</td>\n      <td>...</td>\n      <td>-0.590525</td>\n      <td>-0.46156</td>\n      <td>-0.348278</td>\n      <td>0.639561</td>\n      <td>0.659686</td>\n      <td>0.529226</td>\n      <td>-1.828112</td>\n      <td>-0.713287</td>\n      <td>-0.643372</td>\n      <td>POINT (-120.84510 39.17703)</td>\n    </tr>\n    <tr>\n      <th>4</th>\n      <td>95717</td>\n      <td>Gold Run</td>\n      <td>CA</td>\n      <td>39.177026</td>\n      <td>-120.8451</td>\n      <td>-8</td>\n      <td>1</td>\n      <td>2013-05-01</td>\n      <td>5</td>\n      <td>2013</td>\n      <td>...</td>\n      <td>0.278279</td>\n      <td>-0.46156</td>\n      <td>-0.348278</td>\n      <td>0.985208</td>\n      <td>0.972799</td>\n      <td>0.807632</td>\n      <td>-1.802339</td>\n      <td>-0.107015</td>\n      <td>-1.200288</td>\n      <td>POINT (-120.84510 39.17703)</td>\n    </tr>\n  </tbody>\n</table>\n<p>5 rows × 36 columns</p>\n</div>"
          },
          "metadata": {},
          "output_type": "display_data"
        }
      ]
    },
    {
      "cell_type": "markdown",
      "source": "### Sanity check geographic plots\n\n#### California should look like California\n\n#### PG&E dataset matches pg&e customers\nPG&E service area reference: https://www.pge.com/mybusiness/customerservice/otherrequests/treetrimming/territory/",
      "metadata": {
        "cell_id": "00017-2569a361-db0e-4285-8780-9e35c85d6475",
        "deepnote_cell_type": "markdown"
      }
    },
    {
      "cell_type": "markdown",
      "source": "## Overlaying PG&E/NREL in Bay Area Only\n\nBay Area traditionally consists of [9 counties](https://wikitravel.org/en/Bay_Area_(California)).\n\n<img src='https://wikitravel.org/upload/shared//thumb/b/bc/Bayarea_map.png/900px-Bayarea_map.png' style=\"width: 300px;\">\n\n\nWe will define \"Bay Area\" as a box that encloses the following coordinates `(lat, long)`:\n\n- South West corner: `(36.897966, -123.433313)`\n\n- North East corner: `(38.593263, -121.381268)`\n\nWith these coordinates, we'll need to only consider data in the PG&E/NREL dataset that falls within this region.",
      "metadata": {
        "cell_id": "00021-6e2e279e-1293-4fad-b9b5-d2bf226c3c21",
        "deepnote_cell_type": "markdown"
      }
    },
    {
      "cell_type": "code",
      "metadata": {
        "cell_id": "00022-bbad03df-b957-403f-950d-91bda3de0efb",
        "deepnote_to_be_reexecuted": false,
        "source_hash": "38424f68",
        "execution_millis": 1,
        "execution_start": 1619129764907,
        "deepnote_cell_type": "code"
      },
      "source": "approximate_bay_area_center_lat = 39.5769252\napproximate_bay_area_center_long = -122.2833322\n\n## for subsetting the ca counties\nbay_area_south_west_lat  = 36.897966    ## vertical\nbay_area_south_west_long = -123.433313 ## horizontal\nbay_area_north_east_lat  = 38.593263    ## vertical --> closer to north pole => higher values\nbay_area_north_east_long = -121.381268 ## horizontal --> west long < east long. west is more negative\n\n## for plotting boundaries\nbay_area_limit_south_west_lat  = 36.897966    ## vertical\nbay_area_limit_south_west_long = -123.75 ## horizontal\nbay_area_limit_north_east_lat  = 38.9    ## vertical --> closer to north pole => higher values\nbay_area_limit_north_east_long = -121.2 ## horizontal --> west long < east long. west is more negative\n",
      "execution_count": 7,
      "outputs": []
    },
    {
      "cell_type": "markdown",
      "source": "### Filtering Bay Area Only Data\n",
      "metadata": {
        "tags": [],
        "cell_id": "00010-ea9d1d80-ef94-44c7-a8b8-d0c7985e7d25",
        "deepnote_cell_type": "markdown"
      }
    },
    {
      "cell_type": "markdown",
      "source": "#### Boxing the CA Counties Data",
      "metadata": {
        "cell_id": "00024-c06e7a24-9da4-45aa-92ce-57dcb0b7730a",
        "deepnote_cell_type": "markdown"
      }
    },
    {
      "cell_type": "markdown",
      "source": "#### Boxing the PG&E/NREL Data",
      "metadata": {
        "cell_id": "00028-90b71128-ec5e-43b4-9123-b4ff2f18228a",
        "deepnote_cell_type": "markdown"
      }
    },
    {
      "cell_type": "code",
      "metadata": {
        "cell_id": "00029-3e65d2e3-3e4a-48e6-a846-d8babe4f4a93",
        "deepnote_to_be_reexecuted": false,
        "source_hash": "70addfcd",
        "execution_millis": 52,
        "execution_start": 1619129764914,
        "deepnote_cell_type": "code"
      },
      "source": "zip_cities_monthly_pge_gdf.columns",
      "execution_count": 8,
      "outputs": [
        {
          "output_type": "execute_result",
          "execution_count": 8,
          "data": {
            "text/plain": "Index(['zip', 'city', 'state', 'latitude', 'longitude', 'timezone', 'dst',\n       'DATE', 'MONTH', 'YEAR', 'DAY', 'CUSTOMERCL', 'COMBINED',\n       'TOTALCUSTO_raw', 'TOTALKWH_raw', 'AVERAGEKWH_raw', 'TOTALTHERM_raw',\n       'AVERAGETHERM_raw', 'GHI_raw', 'DHI_raw', 'DNI_raw', 'Wind Speed',\n       'Temperature_raw', 'Solar_Zenith_Angle_raw', 'TOTALCUS_std',\n       'TOTALKWH_std', 'AVERAGEKWH_std', 'TOTALTHERM_std', 'AVERAGETHERM_std',\n       'GHI_std', 'DHI_std', 'DNI_std', 'Wind_Speed_std', 'Temperature_std',\n       'Solar_Zenith_Angle_std', 'geometry'],\n      dtype='object')"
          },
          "metadata": {}
        }
      ]
    },
    {
      "cell_type": "code",
      "metadata": {
        "cell_id": "00030-d318e2b3-7d31-4569-a741-30f3fd1facc8",
        "deepnote_to_be_reexecuted": false,
        "source_hash": "5707170a",
        "execution_millis": 155,
        "execution_start": 1619129764959,
        "deepnote_cell_type": "code"
      },
      "source": "## subset south west\nbay_area_monthly_pge_nrel = zip_cities_monthly_pge_gdf[ (bay_area_south_west_long <= zip_cities_monthly_pge_gdf['longitude']) & (bay_area_south_west_lat <= zip_cities_monthly_pge_gdf['latitude']) ]\n\n## subst north east\nbay_area_monthly_pge_nrel = bay_area_monthly_pge_nrel[ (bay_area_monthly_pge_nrel['longitude'] <= bay_area_north_east_long) & (bay_area_monthly_pge_nrel['latitude'] <= bay_area_north_east_lat) ]\n",
      "execution_count": 9,
      "outputs": []
    },
    {
      "cell_type": "code",
      "metadata": {
        "cell_id": "00031-6511affa-42f6-4b36-9e92-7b03ad607bbd",
        "deepnote_to_be_reexecuted": false,
        "source_hash": "99ac43bd",
        "execution_millis": 10,
        "execution_start": 1619129765120,
        "deepnote_cell_type": "code"
      },
      "source": "## Viewing how many measurements are the box\nbay_area_monthly_pge_nrel.shape",
      "execution_count": 10,
      "outputs": [
        {
          "output_type": "execute_result",
          "execution_count": 10,
          "data": {
            "text/plain": "(56683, 36)"
          },
          "metadata": {}
        }
      ]
    },
    {
      "cell_type": "code",
      "metadata": {
        "cell_id": "00033-77f73cab-2c1e-4328-b161-15d381f5d01c",
        "deepnote_to_be_reexecuted": false,
        "source_hash": "fcfc3ea5",
        "execution_millis": 56,
        "execution_start": 1619129765126,
        "deepnote_cell_type": "code"
      },
      "source": "bay_area_monthly_pge_nrel.columns\nraw_cols = [\"MONTH\",'TOTALCUSTO_raw', 'TOTALKWH_raw', 'AVERAGEKWH_raw', 'TOTALTHERM_raw',\n       'AVERAGETHERM_raw', 'GHI_raw', 'DHI_raw', 'DNI_raw', 'Wind Speed',\n       'Temperature_raw', 'Solar_Zenith_Angle_raw']\nbay_area_monthly_pge_nrel_raw = bay_area_monthly_pge_nrel[raw_cols]\nbay_area_monthly_pge_nrel_raw.head()",
      "execution_count": 11,
      "outputs": [
        {
          "output_type": "execute_result",
          "execution_count": 11,
          "data": {
            "application/vnd.deepnote.dataframe.v2+json": {
              "row_count": 5,
              "column_count": 12,
              "columns": [
                {
                  "name": "MONTH",
                  "dtype": "int64",
                  "stats": {
                    "unique_count": 3,
                    "nan_count": 0,
                    "min": "1",
                    "max": "3",
                    "histogram": [
                      {
                        "bin_start": 1,
                        "bin_end": 1.2,
                        "count": 2
                      },
                      {
                        "bin_start": 1.2,
                        "bin_end": 1.4,
                        "count": 0
                      },
                      {
                        "bin_start": 1.4,
                        "bin_end": 1.6,
                        "count": 0
                      },
                      {
                        "bin_start": 1.6,
                        "bin_end": 1.8,
                        "count": 0
                      },
                      {
                        "bin_start": 1.8,
                        "bin_end": 2,
                        "count": 0
                      },
                      {
                        "bin_start": 2,
                        "bin_end": 2.2,
                        "count": 2
                      },
                      {
                        "bin_start": 2.2,
                        "bin_end": 2.4000000000000004,
                        "count": 0
                      },
                      {
                        "bin_start": 2.4000000000000004,
                        "bin_end": 2.6,
                        "count": 0
                      },
                      {
                        "bin_start": 2.6,
                        "bin_end": 2.8,
                        "count": 0
                      },
                      {
                        "bin_start": 2.8,
                        "bin_end": 3,
                        "count": 1
                      }
                    ]
                  }
                },
                {
                  "name": "TOTALCUSTO_raw",
                  "dtype": "int64",
                  "stats": {
                    "unique_count": 5,
                    "nan_count": 0,
                    "min": "6166",
                    "max": "6727",
                    "histogram": [
                      {
                        "bin_start": 6166,
                        "bin_end": 6222.1,
                        "count": 2
                      },
                      {
                        "bin_start": 6222.1,
                        "bin_end": 6278.2,
                        "count": 0
                      },
                      {
                        "bin_start": 6278.2,
                        "bin_end": 6334.3,
                        "count": 0
                      },
                      {
                        "bin_start": 6334.3,
                        "bin_end": 6390.4,
                        "count": 0
                      },
                      {
                        "bin_start": 6390.4,
                        "bin_end": 6446.5,
                        "count": 0
                      },
                      {
                        "bin_start": 6446.5,
                        "bin_end": 6502.6,
                        "count": 0
                      },
                      {
                        "bin_start": 6502.6,
                        "bin_end": 6558.7,
                        "count": 0
                      },
                      {
                        "bin_start": 6558.7,
                        "bin_end": 6614.8,
                        "count": 0
                      },
                      {
                        "bin_start": 6614.8,
                        "bin_end": 6670.9,
                        "count": 0
                      },
                      {
                        "bin_start": 6670.9,
                        "bin_end": 6727,
                        "count": 3
                      }
                    ]
                  }
                },
                {
                  "name": "TOTALKWH_raw",
                  "dtype": "int64",
                  "stats": {
                    "unique_count": 4,
                    "nan_count": 0,
                    "min": "0",
                    "max": "3787580",
                    "histogram": [
                      {
                        "bin_start": 0,
                        "bin_end": 378758,
                        "count": 2
                      },
                      {
                        "bin_start": 378758,
                        "bin_end": 757516,
                        "count": 0
                      },
                      {
                        "bin_start": 757516,
                        "bin_end": 1136274,
                        "count": 0
                      },
                      {
                        "bin_start": 1136274,
                        "bin_end": 1515032,
                        "count": 0
                      },
                      {
                        "bin_start": 1515032,
                        "bin_end": 1893790,
                        "count": 0
                      },
                      {
                        "bin_start": 1893790,
                        "bin_end": 2272548,
                        "count": 0
                      },
                      {
                        "bin_start": 2272548,
                        "bin_end": 2651306,
                        "count": 0
                      },
                      {
                        "bin_start": 2651306,
                        "bin_end": 3030064,
                        "count": 0
                      },
                      {
                        "bin_start": 3030064,
                        "bin_end": 3408822,
                        "count": 2
                      },
                      {
                        "bin_start": 3408822,
                        "bin_end": 3787580,
                        "count": 1
                      }
                    ]
                  }
                },
                {
                  "name": "AVERAGEKWH_raw",
                  "dtype": "int64",
                  "stats": {
                    "unique_count": 4,
                    "nan_count": 0,
                    "min": "0",
                    "max": "563",
                    "histogram": [
                      {
                        "bin_start": 0,
                        "bin_end": 56.3,
                        "count": 2
                      },
                      {
                        "bin_start": 56.3,
                        "bin_end": 112.6,
                        "count": 0
                      },
                      {
                        "bin_start": 112.6,
                        "bin_end": 168.89999999999998,
                        "count": 0
                      },
                      {
                        "bin_start": 168.89999999999998,
                        "bin_end": 225.2,
                        "count": 0
                      },
                      {
                        "bin_start": 225.2,
                        "bin_end": 281.5,
                        "count": 0
                      },
                      {
                        "bin_start": 281.5,
                        "bin_end": 337.79999999999995,
                        "count": 0
                      },
                      {
                        "bin_start": 337.79999999999995,
                        "bin_end": 394.09999999999997,
                        "count": 0
                      },
                      {
                        "bin_start": 394.09999999999997,
                        "bin_end": 450.4,
                        "count": 0
                      },
                      {
                        "bin_start": 450.4,
                        "bin_end": 506.7,
                        "count": 2
                      },
                      {
                        "bin_start": 506.7,
                        "bin_end": 563,
                        "count": 1
                      }
                    ]
                  }
                },
                {
                  "name": "TOTALTHERM_raw",
                  "dtype": "int64",
                  "stats": {
                    "unique_count": 3,
                    "nan_count": 0,
                    "min": "0",
                    "max": "562494",
                    "histogram": [
                      {
                        "bin_start": 0,
                        "bin_end": 56249.4,
                        "count": 3
                      },
                      {
                        "bin_start": 56249.4,
                        "bin_end": 112498.8,
                        "count": 0
                      },
                      {
                        "bin_start": 112498.8,
                        "bin_end": 168748.2,
                        "count": 0
                      },
                      {
                        "bin_start": 168748.2,
                        "bin_end": 224997.6,
                        "count": 0
                      },
                      {
                        "bin_start": 224997.6,
                        "bin_end": 281247,
                        "count": 0
                      },
                      {
                        "bin_start": 281247,
                        "bin_end": 337496.4,
                        "count": 0
                      },
                      {
                        "bin_start": 337496.4,
                        "bin_end": 393745.8,
                        "count": 1
                      },
                      {
                        "bin_start": 393745.8,
                        "bin_end": 449995.2,
                        "count": 0
                      },
                      {
                        "bin_start": 449995.2,
                        "bin_end": 506244.60000000003,
                        "count": 0
                      },
                      {
                        "bin_start": 506244.60000000003,
                        "bin_end": 562494,
                        "count": 1
                      }
                    ]
                  }
                },
                {
                  "name": "AVERAGETHERM_raw",
                  "dtype": "int64",
                  "stats": {
                    "unique_count": 3,
                    "nan_count": 0,
                    "min": "0",
                    "max": "91",
                    "histogram": [
                      {
                        "bin_start": 0,
                        "bin_end": 9.1,
                        "count": 3
                      },
                      {
                        "bin_start": 9.1,
                        "bin_end": 18.2,
                        "count": 0
                      },
                      {
                        "bin_start": 18.2,
                        "bin_end": 27.299999999999997,
                        "count": 0
                      },
                      {
                        "bin_start": 27.299999999999997,
                        "bin_end": 36.4,
                        "count": 0
                      },
                      {
                        "bin_start": 36.4,
                        "bin_end": 45.5,
                        "count": 0
                      },
                      {
                        "bin_start": 45.5,
                        "bin_end": 54.599999999999994,
                        "count": 0
                      },
                      {
                        "bin_start": 54.599999999999994,
                        "bin_end": 63.699999999999996,
                        "count": 1
                      },
                      {
                        "bin_start": 63.699999999999996,
                        "bin_end": 72.8,
                        "count": 0
                      },
                      {
                        "bin_start": 72.8,
                        "bin_end": 81.89999999999999,
                        "count": 0
                      },
                      {
                        "bin_start": 81.89999999999999,
                        "bin_end": 91,
                        "count": 1
                      }
                    ]
                  }
                },
                {
                  "name": "GHI_raw",
                  "dtype": "object",
                  "stats": {
                    "unique_count": 3,
                    "nan_count": 0,
                    "categories": [
                      {
                        "name": "116.13037634408602",
                        "count": 2
                      },
                      {
                        "name": "162.37946428571428",
                        "count": 2
                      },
                      {
                        "name": "190.54569892473117",
                        "count": 1
                      }
                    ]
                  }
                },
                {
                  "name": "DHI_raw",
                  "dtype": "object",
                  "stats": {
                    "unique_count": 3,
                    "nan_count": 0,
                    "categories": [
                      {
                        "name": "29.18010752688172",
                        "count": 2
                      },
                      {
                        "name": "38.666666666666664",
                        "count": 2
                      },
                      {
                        "name": "70.01209677419355",
                        "count": 1
                      }
                    ]
                  }
                },
                {
                  "name": "DNI_raw",
                  "dtype": "object",
                  "stats": {
                    "unique_count": 3,
                    "nan_count": 0,
                    "categories": [
                      {
                        "name": "222.91935483870967",
                        "count": 2
                      },
                      {
                        "name": "262.79017857142856",
                        "count": 2
                      },
                      {
                        "name": "211.2741935483871",
                        "count": 1
                      }
                    ]
                  }
                },
                {
                  "name": "Wind Speed",
                  "dtype": "object",
                  "stats": {
                    "unique_count": 3,
                    "nan_count": 0,
                    "categories": [
                      {
                        "name": "2.123252688172044",
                        "count": 2
                      },
                      {
                        "name": "2.1078869047619047",
                        "count": 2
                      },
                      {
                        "name": "2.017607526881722",
                        "count": 1
                      }
                    ]
                  }
                },
                {
                  "name": "Temperature_raw",
                  "dtype": "float64",
                  "stats": {
                    "unique_count": 3,
                    "nan_count": 0,
                    "min": "7.276881720430108",
                    "max": "11.189516129032258",
                    "histogram": [
                      {
                        "bin_start": 7.276881720430108,
                        "bin_end": 7.668145161290323,
                        "count": 2
                      },
                      {
                        "bin_start": 7.668145161290323,
                        "bin_end": 8.059408602150539,
                        "count": 0
                      },
                      {
                        "bin_start": 8.059408602150539,
                        "bin_end": 8.450672043010753,
                        "count": 0
                      },
                      {
                        "bin_start": 8.450672043010753,
                        "bin_end": 8.841935483870968,
                        "count": 0
                      },
                      {
                        "bin_start": 8.841935483870968,
                        "bin_end": 9.233198924731184,
                        "count": 2
                      },
                      {
                        "bin_start": 9.233198924731184,
                        "bin_end": 9.624462365591398,
                        "count": 0
                      },
                      {
                        "bin_start": 9.624462365591398,
                        "bin_end": 10.015725806451613,
                        "count": 0
                      },
                      {
                        "bin_start": 10.015725806451613,
                        "bin_end": 10.406989247311827,
                        "count": 0
                      },
                      {
                        "bin_start": 10.406989247311827,
                        "bin_end": 10.798252688172044,
                        "count": 0
                      },
                      {
                        "bin_start": 10.798252688172044,
                        "bin_end": 11.189516129032258,
                        "count": 1
                      }
                    ]
                  }
                },
                {
                  "name": "Solar_Zenith_Angle_raw",
                  "dtype": "float64",
                  "stats": {
                    "unique_count": 3,
                    "nan_count": 0,
                    "min": "91.10997311827974",
                    "max": "105.58174731182795",
                    "histogram": [
                      {
                        "bin_start": 91.10997311827974,
                        "bin_end": 92.55715053763456,
                        "count": 1
                      },
                      {
                        "bin_start": 92.55715053763456,
                        "bin_end": 94.00432795698939,
                        "count": 0
                      },
                      {
                        "bin_start": 94.00432795698939,
                        "bin_end": 95.4515053763442,
                        "count": 0
                      },
                      {
                        "bin_start": 95.4515053763442,
                        "bin_end": 96.89868279569903,
                        "count": 0
                      },
                      {
                        "bin_start": 96.89868279569903,
                        "bin_end": 98.34586021505385,
                        "count": 0
                      },
                      {
                        "bin_start": 98.34586021505385,
                        "bin_end": 99.79303763440868,
                        "count": 2
                      },
                      {
                        "bin_start": 99.79303763440868,
                        "bin_end": 101.24021505376349,
                        "count": 0
                      },
                      {
                        "bin_start": 101.24021505376349,
                        "bin_end": 102.68739247311831,
                        "count": 0
                      },
                      {
                        "bin_start": 102.68739247311831,
                        "bin_end": 104.13456989247314,
                        "count": 0
                      },
                      {
                        "bin_start": 104.13456989247314,
                        "bin_end": 105.58174731182795,
                        "count": 2
                      }
                    ]
                  }
                },
                {
                  "name": "_deepnote_index_column",
                  "dtype": "int64"
                }
              ],
              "rows_top": [
                {
                  "MONTH": 1,
                  "TOTALCUSTO_raw": 6727,
                  "TOTALKWH_raw": 3787580,
                  "AVERAGEKWH_raw": 563,
                  "TOTALTHERM_raw": 0,
                  "AVERAGETHERM_raw": 0,
                  "GHI_raw": "116.13037634408602",
                  "DHI_raw": "29.18010752688172",
                  "DNI_raw": "222.91935483870967",
                  "Wind Speed": "2.123252688172044",
                  "Temperature_raw": 7.276881720430108,
                  "Solar_Zenith_Angle_raw": 105.58174731182795,
                  "_deepnote_index_column": 94
                },
                {
                  "MONTH": 2,
                  "TOTALCUSTO_raw": 6725,
                  "TOTALKWH_raw": 3086143,
                  "AVERAGEKWH_raw": 459,
                  "TOTALTHERM_raw": 0,
                  "AVERAGETHERM_raw": 0,
                  "GHI_raw": "162.37946428571428",
                  "DHI_raw": "38.666666666666664",
                  "DNI_raw": "262.79017857142856",
                  "Wind Speed": "2.1078869047619047",
                  "Temperature_raw": 9.022321428571429,
                  "Solar_Zenith_Angle_raw": 99.57782738095231,
                  "_deepnote_index_column": 95
                },
                {
                  "MONTH": 3,
                  "TOTALCUSTO_raw": 6715,
                  "TOTALKWH_raw": 3091798,
                  "AVERAGEKWH_raw": 460,
                  "TOTALTHERM_raw": 0,
                  "AVERAGETHERM_raw": 0,
                  "GHI_raw": "190.54569892473117",
                  "DHI_raw": "70.01209677419355",
                  "DNI_raw": "211.2741935483871",
                  "Wind Speed": "2.017607526881722",
                  "Temperature_raw": 11.189516129032258,
                  "Solar_Zenith_Angle_raw": 91.10997311827974,
                  "_deepnote_index_column": 96
                },
                {
                  "MONTH": 1,
                  "TOTALCUSTO_raw": 6166,
                  "TOTALKWH_raw": 0,
                  "AVERAGEKWH_raw": 0,
                  "TOTALTHERM_raw": 562494,
                  "AVERAGETHERM_raw": 91,
                  "GHI_raw": "116.13037634408602",
                  "DHI_raw": "29.18010752688172",
                  "DNI_raw": "222.91935483870967",
                  "Wind Speed": "2.123252688172044",
                  "Temperature_raw": 7.276881720430108,
                  "Solar_Zenith_Angle_raw": 105.58174731182795,
                  "_deepnote_index_column": 97
                },
                {
                  "MONTH": 2,
                  "TOTALCUSTO_raw": 6172,
                  "TOTALKWH_raw": 0,
                  "AVERAGEKWH_raw": 0,
                  "TOTALTHERM_raw": 388246,
                  "AVERAGETHERM_raw": 63,
                  "GHI_raw": "162.37946428571428",
                  "DHI_raw": "38.666666666666664",
                  "DNI_raw": "262.79017857142856",
                  "Wind Speed": "2.1078869047619047",
                  "Temperature_raw": 9.022321428571429,
                  "Solar_Zenith_Angle_raw": 99.57782738095231,
                  "_deepnote_index_column": 98
                }
              ],
              "rows_bottom": null
            },
            "text/plain": "    MONTH  TOTALCUSTO_raw  TOTALKWH_raw  AVERAGEKWH_raw  TOTALTHERM_raw  \\\n94      1            6727       3787580             563               0   \n95      2            6725       3086143             459               0   \n96      3            6715       3091798             460               0   \n97      1            6166             0               0          562494   \n98      2            6172             0               0          388246   \n\n    AVERAGETHERM_raw             GHI_raw             DHI_raw  \\\n94                 0  116.13037634408602   29.18010752688172   \n95                 0  162.37946428571428  38.666666666666664   \n96                 0  190.54569892473117   70.01209677419355   \n97                91  116.13037634408602   29.18010752688172   \n98                63  162.37946428571428  38.666666666666664   \n\n               DNI_raw          Wind Speed  Temperature_raw  \\\n94  222.91935483870967   2.123252688172044         7.276882   \n95  262.79017857142856  2.1078869047619047         9.022321   \n96   211.2741935483871   2.017607526881722        11.189516   \n97  222.91935483870967   2.123252688172044         7.276882   \n98  262.79017857142856  2.1078869047619047         9.022321   \n\n    Solar_Zenith_Angle_raw  \n94              105.581747  \n95               99.577827  \n96               91.109973  \n97              105.581747  \n98               99.577827  ",
            "text/html": "<div>\n<style scoped>\n    .dataframe tbody tr th:only-of-type {\n        vertical-align: middle;\n    }\n\n    .dataframe tbody tr th {\n        vertical-align: top;\n    }\n\n    .dataframe thead th {\n        text-align: right;\n    }\n</style>\n<table border=\"1\" class=\"dataframe\">\n  <thead>\n    <tr style=\"text-align: right;\">\n      <th></th>\n      <th>MONTH</th>\n      <th>TOTALCUSTO_raw</th>\n      <th>TOTALKWH_raw</th>\n      <th>AVERAGEKWH_raw</th>\n      <th>TOTALTHERM_raw</th>\n      <th>AVERAGETHERM_raw</th>\n      <th>GHI_raw</th>\n      <th>DHI_raw</th>\n      <th>DNI_raw</th>\n      <th>Wind Speed</th>\n      <th>Temperature_raw</th>\n      <th>Solar_Zenith_Angle_raw</th>\n    </tr>\n  </thead>\n  <tbody>\n    <tr>\n      <th>94</th>\n      <td>1</td>\n      <td>6727</td>\n      <td>3787580</td>\n      <td>563</td>\n      <td>0</td>\n      <td>0</td>\n      <td>116.13037634408602</td>\n      <td>29.18010752688172</td>\n      <td>222.91935483870967</td>\n      <td>2.123252688172044</td>\n      <td>7.276882</td>\n      <td>105.581747</td>\n    </tr>\n    <tr>\n      <th>95</th>\n      <td>2</td>\n      <td>6725</td>\n      <td>3086143</td>\n      <td>459</td>\n      <td>0</td>\n      <td>0</td>\n      <td>162.37946428571428</td>\n      <td>38.666666666666664</td>\n      <td>262.79017857142856</td>\n      <td>2.1078869047619047</td>\n      <td>9.022321</td>\n      <td>99.577827</td>\n    </tr>\n    <tr>\n      <th>96</th>\n      <td>3</td>\n      <td>6715</td>\n      <td>3091798</td>\n      <td>460</td>\n      <td>0</td>\n      <td>0</td>\n      <td>190.54569892473117</td>\n      <td>70.01209677419355</td>\n      <td>211.2741935483871</td>\n      <td>2.017607526881722</td>\n      <td>11.189516</td>\n      <td>91.109973</td>\n    </tr>\n    <tr>\n      <th>97</th>\n      <td>1</td>\n      <td>6166</td>\n      <td>0</td>\n      <td>0</td>\n      <td>562494</td>\n      <td>91</td>\n      <td>116.13037634408602</td>\n      <td>29.18010752688172</td>\n      <td>222.91935483870967</td>\n      <td>2.123252688172044</td>\n      <td>7.276882</td>\n      <td>105.581747</td>\n    </tr>\n    <tr>\n      <th>98</th>\n      <td>2</td>\n      <td>6172</td>\n      <td>0</td>\n      <td>0</td>\n      <td>388246</td>\n      <td>63</td>\n      <td>162.37946428571428</td>\n      <td>38.666666666666664</td>\n      <td>262.79017857142856</td>\n      <td>2.1078869047619047</td>\n      <td>9.022321</td>\n      <td>99.577827</td>\n    </tr>\n  </tbody>\n</table>\n</div>"
          },
          "metadata": {}
        }
      ]
    },
    {
      "cell_type": "code",
      "metadata": {
        "tags": [],
        "cell_id": "00017-0a36a502-580d-4f51-bc72-c5f9f22a68cd",
        "deepnote_to_be_reexecuted": false,
        "source_hash": "bd158485",
        "execution_millis": 1,
        "execution_start": 1619129765221,
        "deepnote_cell_type": "code"
      },
      "source": "measurment_cols = [\"MONTH\",'TOTALCUSTO_raw', 'TOTALKWH_raw', 'AVERAGEKWH_raw', 'TOTALTHERM_raw',\n       'AVERAGETHERM_raw', 'GHI_raw', 'DHI_raw', 'DNI_raw', 'Wind Speed',\n       'Temperature_raw', 'Solar_Zenith_Angle_raw', 'TOTALCUS_std',\n       'TOTALKWH_std', 'AVERAGEKWH_std', 'TOTALTHERM_std', 'AVERAGETHERM_std',\n       'GHI_std', 'DHI_std', 'DNI_std', 'Wind_Speed_std', 'Temperature_std',\n       'Solar_Zenith_Angle_std']",
      "execution_count": 12,
      "outputs": []
    },
    {
      "cell_type": "code",
      "metadata": {
        "cell_id": "00040-1843ecbf-3656-4ff9-a7e0-188471d37e78",
        "deepnote_to_be_reexecuted": false,
        "source_hash": "46a8c5e",
        "execution_millis": 1234,
        "execution_start": 1619129765222,
        "deepnote_cell_type": "code"
      },
      "source": "corr_vis(bay_area_monthly_pge_nrel, measurment_cols, meas='AVERAGETHERM_std')",
      "execution_count": 13,
      "outputs": [
        {
          "output_type": "execute_result",
          "execution_count": 13,
          "data": {
            "application/vnd.deepnote.dataframe.v2+json": {
              "row_count": 23,
              "column_count": 2,
              "columns": [
                {
                  "name": "feature",
                  "dtype": "object",
                  "stats": {
                    "unique_count": 23,
                    "nan_count": 0,
                    "categories": [
                      {
                        "name": "AVERAGEKWH_std",
                        "count": 1
                      },
                      {
                        "name": "AVERAGEKWH_raw",
                        "count": 1
                      },
                      {
                        "name": "21 others",
                        "count": 21
                      }
                    ]
                  }
                },
                {
                  "name": "spearman",
                  "dtype": "float64",
                  "stats": {
                    "unique_count": 18,
                    "nan_count": 0,
                    "min": "-0.7738148146040801",
                    "max": "1.0",
                    "histogram": [
                      {
                        "bin_start": -0.7738148146040801,
                        "bin_end": -0.5964333331436721,
                        "count": 4
                      },
                      {
                        "bin_start": -0.5964333331436721,
                        "bin_end": -0.4190518516832641,
                        "count": 0
                      },
                      {
                        "bin_start": -0.4190518516832641,
                        "bin_end": -0.2416703702228561,
                        "count": 0
                      },
                      {
                        "bin_start": -0.2416703702228561,
                        "bin_end": -0.0642888887624481,
                        "count": 10
                      },
                      {
                        "bin_start": -0.0642888887624481,
                        "bin_end": 0.1130925926979599,
                        "count": 3
                      },
                      {
                        "bin_start": 0.1130925926979599,
                        "bin_end": 0.2904740741583679,
                        "count": 2
                      },
                      {
                        "bin_start": 0.2904740741583679,
                        "bin_end": 0.4678555556187759,
                        "count": 0
                      },
                      {
                        "bin_start": 0.4678555556187759,
                        "bin_end": 0.6452370370791839,
                        "count": 0
                      },
                      {
                        "bin_start": 0.6452370370791839,
                        "bin_end": 0.8226185185395919,
                        "count": 0
                      },
                      {
                        "bin_start": 0.8226185185395919,
                        "bin_end": 1,
                        "count": 4
                      }
                    ]
                  }
                },
                {
                  "name": "_deepnote_index_column",
                  "dtype": "int64"
                }
              ],
              "rows_top": [
                {
                  "feature": "AVERAGEKWH_std",
                  "spearman": -0.7738148146040801,
                  "_deepnote_index_column": 14
                },
                {
                  "feature": "AVERAGEKWH_raw",
                  "spearman": -0.7738148146040801,
                  "_deepnote_index_column": 3
                },
                {
                  "feature": "TOTALKWH_raw",
                  "spearman": -0.7738145932849931,
                  "_deepnote_index_column": 2
                },
                {
                  "feature": "TOTALKWH_std",
                  "spearman": -0.7738145932849931,
                  "_deepnote_index_column": 13
                },
                {
                  "feature": "Temperature_raw",
                  "spearman": -0.18640983062038385,
                  "_deepnote_index_column": 10
                },
                {
                  "feature": "Temperature_std",
                  "spearman": -0.18640981795104547,
                  "_deepnote_index_column": 21
                },
                {
                  "feature": "GHI_std",
                  "spearman": -0.1714515181197754,
                  "_deepnote_index_column": 17
                },
                {
                  "feature": "DNI_std",
                  "spearman": -0.16495781421215802,
                  "_deepnote_index_column": 19
                },
                {
                  "feature": "DNI_raw",
                  "spearman": -0.16234508199214773,
                  "_deepnote_index_column": 8
                },
                {
                  "feature": "DHI_std",
                  "spearman": -0.12862461941749462,
                  "_deepnote_index_column": 18
                },
                {
                  "feature": "DHI_raw",
                  "spearman": -0.12649394017840945,
                  "_deepnote_index_column": 7
                },
                {
                  "feature": "Wind Speed",
                  "spearman": -0.09314959514790608,
                  "_deepnote_index_column": 9
                },
                {
                  "feature": "Wind_Speed_std",
                  "spearman": -0.09314951569687603,
                  "_deepnote_index_column": 20
                },
                {
                  "feature": "GHI_raw",
                  "spearman": -0.07411725145169921,
                  "_deepnote_index_column": 6
                },
                {
                  "feature": "MONTH",
                  "spearman": -0.04200501529433235,
                  "_deepnote_index_column": 0
                },
                {
                  "feature": "TOTALCUS_std",
                  "spearman": 0.059369127401168925,
                  "_deepnote_index_column": 12
                },
                {
                  "feature": "TOTALCUSTO_raw",
                  "spearman": 0.059369127401168925,
                  "_deepnote_index_column": 1
                },
                {
                  "feature": "Solar_Zenith_Angle_std",
                  "spearman": 0.17017962686342772,
                  "_deepnote_index_column": 22
                },
                {
                  "feature": "Solar_Zenith_Angle_raw",
                  "spearman": 0.1701796477008221,
                  "_deepnote_index_column": 11
                },
                {
                  "feature": "TOTALTHERM_std",
                  "spearman": 0.9384897317321567,
                  "_deepnote_index_column": 15
                },
                {
                  "feature": "TOTALTHERM_raw",
                  "spearman": 0.9384897317321567,
                  "_deepnote_index_column": 4
                },
                {
                  "feature": "AVERAGETHERM_raw",
                  "spearman": 1,
                  "_deepnote_index_column": 5
                },
                {
                  "feature": "AVERAGETHERM_std",
                  "spearman": 1,
                  "_deepnote_index_column": 16
                }
              ],
              "rows_bottom": null
            },
            "text/plain": "                   feature  spearman\n14          AVERAGEKWH_std -0.773815\n3           AVERAGEKWH_raw -0.773815\n2             TOTALKWH_raw -0.773815\n13            TOTALKWH_std -0.773815\n10         Temperature_raw -0.186410\n21         Temperature_std -0.186410\n17                 GHI_std -0.171452\n19                 DNI_std -0.164958\n8                  DNI_raw -0.162345\n18                 DHI_std -0.128625\n7                  DHI_raw -0.126494\n9               Wind Speed -0.093150\n20          Wind_Speed_std -0.093150\n6                  GHI_raw -0.074117\n0                    MONTH -0.042005\n12            TOTALCUS_std  0.059369\n1           TOTALCUSTO_raw  0.059369\n22  Solar_Zenith_Angle_std  0.170180\n11  Solar_Zenith_Angle_raw  0.170180\n15          TOTALTHERM_std  0.938490\n4           TOTALTHERM_raw  0.938490\n5         AVERAGETHERM_raw  1.000000\n16        AVERAGETHERM_std  1.000000",
            "text/html": "<div>\n<style scoped>\n    .dataframe tbody tr th:only-of-type {\n        vertical-align: middle;\n    }\n\n    .dataframe tbody tr th {\n        vertical-align: top;\n    }\n\n    .dataframe thead th {\n        text-align: right;\n    }\n</style>\n<table border=\"1\" class=\"dataframe\">\n  <thead>\n    <tr style=\"text-align: right;\">\n      <th></th>\n      <th>feature</th>\n      <th>spearman</th>\n    </tr>\n  </thead>\n  <tbody>\n    <tr>\n      <th>14</th>\n      <td>AVERAGEKWH_std</td>\n      <td>-0.773815</td>\n    </tr>\n    <tr>\n      <th>3</th>\n      <td>AVERAGEKWH_raw</td>\n      <td>-0.773815</td>\n    </tr>\n    <tr>\n      <th>2</th>\n      <td>TOTALKWH_raw</td>\n      <td>-0.773815</td>\n    </tr>\n    <tr>\n      <th>13</th>\n      <td>TOTALKWH_std</td>\n      <td>-0.773815</td>\n    </tr>\n    <tr>\n      <th>10</th>\n      <td>Temperature_raw</td>\n      <td>-0.186410</td>\n    </tr>\n    <tr>\n      <th>21</th>\n      <td>Temperature_std</td>\n      <td>-0.186410</td>\n    </tr>\n    <tr>\n      <th>17</th>\n      <td>GHI_std</td>\n      <td>-0.171452</td>\n    </tr>\n    <tr>\n      <th>19</th>\n      <td>DNI_std</td>\n      <td>-0.164958</td>\n    </tr>\n    <tr>\n      <th>8</th>\n      <td>DNI_raw</td>\n      <td>-0.162345</td>\n    </tr>\n    <tr>\n      <th>18</th>\n      <td>DHI_std</td>\n      <td>-0.128625</td>\n    </tr>\n    <tr>\n      <th>7</th>\n      <td>DHI_raw</td>\n      <td>-0.126494</td>\n    </tr>\n    <tr>\n      <th>9</th>\n      <td>Wind Speed</td>\n      <td>-0.093150</td>\n    </tr>\n    <tr>\n      <th>20</th>\n      <td>Wind_Speed_std</td>\n      <td>-0.093150</td>\n    </tr>\n    <tr>\n      <th>6</th>\n      <td>GHI_raw</td>\n      <td>-0.074117</td>\n    </tr>\n    <tr>\n      <th>0</th>\n      <td>MONTH</td>\n      <td>-0.042005</td>\n    </tr>\n    <tr>\n      <th>12</th>\n      <td>TOTALCUS_std</td>\n      <td>0.059369</td>\n    </tr>\n    <tr>\n      <th>1</th>\n      <td>TOTALCUSTO_raw</td>\n      <td>0.059369</td>\n    </tr>\n    <tr>\n      <th>22</th>\n      <td>Solar_Zenith_Angle_std</td>\n      <td>0.170180</td>\n    </tr>\n    <tr>\n      <th>11</th>\n      <td>Solar_Zenith_Angle_raw</td>\n      <td>0.170180</td>\n    </tr>\n    <tr>\n      <th>15</th>\n      <td>TOTALTHERM_std</td>\n      <td>0.938490</td>\n    </tr>\n    <tr>\n      <th>4</th>\n      <td>TOTALTHERM_raw</td>\n      <td>0.938490</td>\n    </tr>\n    <tr>\n      <th>5</th>\n      <td>AVERAGETHERM_raw</td>\n      <td>1.000000</td>\n    </tr>\n    <tr>\n      <th>16</th>\n      <td>AVERAGETHERM_std</td>\n      <td>1.000000</td>\n    </tr>\n  </tbody>\n</table>\n</div>"
          },
          "metadata": {}
        },
        {
          "data": {
            "text/plain": "<Figure size 432x414 with 1 Axes>",
            "image/png": "[encoded data removed]"
          },
          "metadata": {
            "needs_background": "light"
          },
          "output_type": "display_data"
        }
      ]
    },
    {
      "cell_type": "code",
      "metadata": {
        "tags": [],
        "cell_id": "00019-d26ebe04-bf78-4aeb-8729-65c871ef0d3d",
        "deepnote_to_be_reexecuted": false,
        "source_hash": "4a37b8fe",
        "execution_millis": 67,
        "execution_start": 1619129766459,
        "deepnote_cell_type": "code"
      },
      "source": "X_cols = ['MONTH',\n        # 'GHI_raw', 'DHI_raw', 'DNI_raw', 'Wind Speed'    , 'Temperature_raw', 'Solar_Zenith_Angle_raw'\n        ]\nbay_area_monthly_elec_pge_nrel = bay_area_monthly_pge_nrel[bay_area_monthly_pge_nrel['TOTALTHERM_raw']==0]\nbay_area_monthly_elec_pge_nrel_clean = bay_area_monthly_elec_pge_nrel[bay_area_monthly_elec_pge_nrel['TOTALKWH_std'] < 10]\nelec_X_train = bay_area_monthly_elec_pge_nrel_clean[X_cols]\n\n## targetted_y can be changed to predict other values,\ntargetted_y = 'AVERAGEKWH_raw'\nelec_Y_train = bay_area_monthly_elec_pge_nrel_clean[targetted_y]\n",
      "execution_count": 14,
      "outputs": []
    },
    {
      "cell_type": "code",
      "metadata": {
        "tags": [],
        "cell_id": "00020-43e42a36-2851-4618-9f57-c140d0f79890",
        "deepnote_to_be_reexecuted": false,
        "source_hash": "d028c20f",
        "execution_millis": 10,
        "execution_start": 1619129766531,
        "deepnote_cell_type": "code"
      },
      "source": "elec_Y_train.mean()",
      "execution_count": 15,
      "outputs": [
        {
          "output_type": "execute_result",
          "execution_count": 15,
          "data": {
            "text/plain": "457.2335485554034"
          },
          "metadata": {}
        }
      ]
    },
    {
      "cell_type": "code",
      "metadata": {
        "tags": [],
        "cell_id": "00020-5dbf44e6-2698-405b-b737-e3c7c086cfc8",
        "deepnote_to_be_reexecuted": false,
        "source_hash": "2255a552",
        "execution_millis": 94,
        "execution_start": 1619129766581,
        "deepnote_cell_type": "code"
      },
      "source": "bay_area_monthly_elec_pge_nrel_clean.describe()",
      "execution_count": 16,
      "outputs": [
        {
          "output_type": "execute_result",
          "execution_count": 16,
          "data": {
            "application/vnd.deepnote.dataframe.v2+json": {
              "row_count": 8,
              "column_count": 24,
              "columns": [
                {
                  "name": "zip",
                  "dtype": "float64",
                  "stats": {
                    "unique_count": 8,
                    "nan_count": 0,
                    "min": "459.91026067516367",
                    "max": "95823.0",
                    "histogram": [
                      {
                        "bin_start": 459.91026067516367,
                        "bin_end": 9996.219234607646,
                        "count": 1
                      },
                      {
                        "bin_start": 9996.219234607646,
                        "bin_end": 19532.528208540127,
                        "count": 0
                      },
                      {
                        "bin_start": 19532.528208540127,
                        "bin_end": 29068.83718247261,
                        "count": 0
                      },
                      {
                        "bin_start": 29068.83718247261,
                        "bin_end": 38605.14615640509,
                        "count": 1
                      },
                      {
                        "bin_start": 38605.14615640509,
                        "bin_end": 48141.45513033757,
                        "count": 0
                      },
                      {
                        "bin_start": 48141.45513033757,
                        "bin_end": 57677.764104270056,
                        "count": 0
                      },
                      {
                        "bin_start": 57677.764104270056,
                        "bin_end": 67214.07307820255,
                        "count": 0
                      },
                      {
                        "bin_start": 67214.07307820255,
                        "bin_end": 76750.38205213503,
                        "count": 0
                      },
                      {
                        "bin_start": 76750.38205213503,
                        "bin_end": 86286.6910260675,
                        "count": 0
                      },
                      {
                        "bin_start": 86286.6910260675,
                        "bin_end": 95823,
                        "count": 6
                      }
                    ]
                  }
                },
                {
                  "name": "latitude",
                  "dtype": "float64",
                  "stats": {
                    "unique_count": 8,
                    "nan_count": 0,
                    "min": "0.4099732225297213",
                    "max": "30666.0",
                    "histogram": [
                      {
                        "bin_start": 0.4099732225297213,
                        "bin_end": 3066.9689759002767,
                        "count": 7
                      },
                      {
                        "bin_start": 3066.9689759002767,
                        "bin_end": 6133.527978578024,
                        "count": 0
                      },
                      {
                        "bin_start": 6133.527978578024,
                        "bin_end": 9200.086981255772,
                        "count": 0
                      },
                      {
                        "bin_start": 9200.086981255772,
                        "bin_end": 12266.645983933518,
                        "count": 0
                      },
                      {
                        "bin_start": 12266.645983933518,
                        "bin_end": 15333.204986611265,
                        "count": 0
                      },
                      {
                        "bin_start": 15333.204986611265,
                        "bin_end": 18399.763989289015,
                        "count": 0
                      },
                      {
                        "bin_start": 18399.763989289015,
                        "bin_end": 21466.32299196676,
                        "count": 0
                      },
                      {
                        "bin_start": 21466.32299196676,
                        "bin_end": 24532.881994644507,
                        "count": 0
                      },
                      {
                        "bin_start": 24532.881994644507,
                        "bin_end": 27599.440997322254,
                        "count": 0
                      },
                      {
                        "bin_start": 27599.440997322254,
                        "bin_end": 30666,
                        "count": 1
                      }
                    ]
                  }
                },
                {
                  "name": "longitude",
                  "dtype": "float64",
                  "stats": {
                    "unique_count": 8,
                    "nan_count": 0,
                    "min": "-123.22938",
                    "max": "30666.0",
                    "histogram": [
                      {
                        "bin_start": -123.22938,
                        "bin_end": 2955.693558,
                        "count": 7
                      },
                      {
                        "bin_start": 2955.693558,
                        "bin_end": 6034.616496000001,
                        "count": 0
                      },
                      {
                        "bin_start": 6034.616496000001,
                        "bin_end": 9113.539434,
                        "count": 0
                      },
                      {
                        "bin_start": 9113.539434,
                        "bin_end": 12192.462372,
                        "count": 0
                      },
                      {
                        "bin_start": 12192.462372,
                        "bin_end": 15271.38531,
                        "count": 0
                      },
                      {
                        "bin_start": 15271.38531,
                        "bin_end": 18350.308248,
                        "count": 0
                      },
                      {
                        "bin_start": 18350.308248,
                        "bin_end": 21429.231186,
                        "count": 0
                      },
                      {
                        "bin_start": 21429.231186,
                        "bin_end": 24508.154124,
                        "count": 0
                      },
                      {
                        "bin_start": 24508.154124,
                        "bin_end": 27587.077062,
                        "count": 0
                      },
                      {
                        "bin_start": 27587.077062,
                        "bin_end": 30666,
                        "count": 1
                      }
                    ]
                  }
                },
                {
                  "name": "MONTH",
                  "dtype": "float64",
                  "stats": {
                    "unique_count": 8,
                    "nan_count": 0,
                    "min": "1.0",
                    "max": "30666.0",
                    "histogram": [
                      {
                        "bin_start": 1,
                        "bin_end": 3067.5,
                        "count": 7
                      },
                      {
                        "bin_start": 3067.5,
                        "bin_end": 6134,
                        "count": 0
                      },
                      {
                        "bin_start": 6134,
                        "bin_end": 9200.5,
                        "count": 0
                      },
                      {
                        "bin_start": 9200.5,
                        "bin_end": 12267,
                        "count": 0
                      },
                      {
                        "bin_start": 12267,
                        "bin_end": 15333.5,
                        "count": 0
                      },
                      {
                        "bin_start": 15333.5,
                        "bin_end": 18400,
                        "count": 0
                      },
                      {
                        "bin_start": 18400,
                        "bin_end": 21466.5,
                        "count": 0
                      },
                      {
                        "bin_start": 21466.5,
                        "bin_end": 24533,
                        "count": 0
                      },
                      {
                        "bin_start": 24533,
                        "bin_end": 27599.5,
                        "count": 0
                      },
                      {
                        "bin_start": 27599.5,
                        "bin_end": 30666,
                        "count": 1
                      }
                    ]
                  }
                },
                {
                  "name": "YEAR",
                  "dtype": "float64",
                  "stats": {
                    "unique_count": 8,
                    "nan_count": 0,
                    "min": "2.0214531411451664",
                    "max": "30666.0",
                    "histogram": [
                      {
                        "bin_start": 2.0214531411451664,
                        "bin_end": 3068.419307827031,
                        "count": 7
                      },
                      {
                        "bin_start": 3068.419307827031,
                        "bin_end": 6134.817162512916,
                        "count": 0
                      },
                      {
                        "bin_start": 6134.817162512916,
                        "bin_end": 9201.215017198803,
                        "count": 0
                      },
                      {
                        "bin_start": 9201.215017198803,
                        "bin_end": 12267.612871884689,
                        "count": 0
                      },
                      {
                        "bin_start": 12267.612871884689,
                        "bin_end": 15334.010726570574,
                        "count": 0
                      },
                      {
                        "bin_start": 15334.010726570574,
                        "bin_end": 18400.40858125646,
                        "count": 0
                      },
                      {
                        "bin_start": 18400.40858125646,
                        "bin_end": 21466.806435942344,
                        "count": 0
                      },
                      {
                        "bin_start": 21466.806435942344,
                        "bin_end": 24533.20429062823,
                        "count": 0
                      },
                      {
                        "bin_start": 24533.20429062823,
                        "bin_end": 27599.602145314115,
                        "count": 0
                      },
                      {
                        "bin_start": 27599.602145314115,
                        "bin_end": 30666,
                        "count": 1
                      }
                    ]
                  }
                },
                {
                  "name": "DAY",
                  "dtype": "float64",
                  "stats": {
                    "unique_count": 3,
                    "nan_count": 0,
                    "min": "0.0",
                    "max": "30666.0",
                    "histogram": [
                      {
                        "bin_start": 0,
                        "bin_end": 3066.6,
                        "count": 7
                      },
                      {
                        "bin_start": 3066.6,
                        "bin_end": 6133.2,
                        "count": 0
                      },
                      {
                        "bin_start": 6133.2,
                        "bin_end": 9199.8,
                        "count": 0
                      },
                      {
                        "bin_start": 9199.8,
                        "bin_end": 12266.4,
                        "count": 0
                      },
                      {
                        "bin_start": 12266.4,
                        "bin_end": 15333,
                        "count": 0
                      },
                      {
                        "bin_start": 15333,
                        "bin_end": 18399.6,
                        "count": 0
                      },
                      {
                        "bin_start": 18399.6,
                        "bin_end": 21466.2,
                        "count": 0
                      },
                      {
                        "bin_start": 21466.2,
                        "bin_end": 24532.8,
                        "count": 0
                      },
                      {
                        "bin_start": 24532.8,
                        "bin_end": 27599.399999999998,
                        "count": 0
                      },
                      {
                        "bin_start": 27599.399999999998,
                        "bin_end": 30666,
                        "count": 1
                      }
                    ]
                  }
                },
                {
                  "name": "TOTALCUSTO_raw",
                  "dtype": "float64",
                  "stats": {
                    "unique_count": 8,
                    "nan_count": 0,
                    "min": "0.0",
                    "max": "110585.0",
                    "histogram": [
                      {
                        "bin_start": 0,
                        "bin_end": 11058.5,
                        "count": 5
                      },
                      {
                        "bin_start": 11058.5,
                        "bin_end": 22117,
                        "count": 1
                      },
                      {
                        "bin_start": 22117,
                        "bin_end": 33175.5,
                        "count": 1
                      },
                      {
                        "bin_start": 33175.5,
                        "bin_end": 44234,
                        "count": 0
                      },
                      {
                        "bin_start": 44234,
                        "bin_end": 55292.5,
                        "count": 0
                      },
                      {
                        "bin_start": 55292.5,
                        "bin_end": 66351,
                        "count": 0
                      },
                      {
                        "bin_start": 66351,
                        "bin_end": 77409.5,
                        "count": 0
                      },
                      {
                        "bin_start": 77409.5,
                        "bin_end": 88468,
                        "count": 0
                      },
                      {
                        "bin_start": 88468,
                        "bin_end": 99526.5,
                        "count": 0
                      },
                      {
                        "bin_start": 99526.5,
                        "bin_end": 110585,
                        "count": 1
                      }
                    ]
                  }
                },
                {
                  "name": "TOTALKWH_raw",
                  "dtype": "float64",
                  "stats": {
                    "unique_count": 8,
                    "nan_count": 0,
                    "min": "0.0",
                    "max": "24361593.0",
                    "histogram": [
                      {
                        "bin_start": 0,
                        "bin_end": 2436159.3,
                        "count": 3
                      },
                      {
                        "bin_start": 2436159.3,
                        "bin_end": 4872318.6,
                        "count": 3
                      },
                      {
                        "bin_start": 4872318.6,
                        "bin_end": 7308477.899999999,
                        "count": 1
                      },
                      {
                        "bin_start": 7308477.899999999,
                        "bin_end": 9744637.2,
                        "count": 0
                      },
                      {
                        "bin_start": 9744637.2,
                        "bin_end": 12180796.5,
                        "count": 0
                      },
                      {
                        "bin_start": 12180796.5,
                        "bin_end": 14616955.799999999,
                        "count": 0
                      },
                      {
                        "bin_start": 14616955.799999999,
                        "bin_end": 17053115.099999998,
                        "count": 0
                      },
                      {
                        "bin_start": 17053115.099999998,
                        "bin_end": 19489274.4,
                        "count": 0
                      },
                      {
                        "bin_start": 19489274.4,
                        "bin_end": 21925433.7,
                        "count": 0
                      },
                      {
                        "bin_start": 21925433.7,
                        "bin_end": 24361593,
                        "count": 1
                      }
                    ]
                  }
                },
                {
                  "name": "AVERAGEKWH_raw",
                  "dtype": "float64",
                  "stats": {
                    "unique_count": 8,
                    "nan_count": 0,
                    "min": "0.0",
                    "max": "30666.0",
                    "histogram": [
                      {
                        "bin_start": 0,
                        "bin_end": 3066.6,
                        "count": 7
                      },
                      {
                        "bin_start": 3066.6,
                        "bin_end": 6133.2,
                        "count": 0
                      },
                      {
                        "bin_start": 6133.2,
                        "bin_end": 9199.8,
                        "count": 0
                      },
                      {
                        "bin_start": 9199.8,
                        "bin_end": 12266.4,
                        "count": 0
                      },
                      {
                        "bin_start": 12266.4,
                        "bin_end": 15333,
                        "count": 0
                      },
                      {
                        "bin_start": 15333,
                        "bin_end": 18399.6,
                        "count": 0
                      },
                      {
                        "bin_start": 18399.6,
                        "bin_end": 21466.2,
                        "count": 0
                      },
                      {
                        "bin_start": 21466.2,
                        "bin_end": 24532.8,
                        "count": 0
                      },
                      {
                        "bin_start": 24532.8,
                        "bin_end": 27599.399999999998,
                        "count": 0
                      },
                      {
                        "bin_start": 27599.399999999998,
                        "bin_end": 30666,
                        "count": 1
                      }
                    ]
                  }
                },
                {
                  "name": "TOTALTHERM_raw",
                  "dtype": "float64",
                  "stats": {
                    "unique_count": 2,
                    "nan_count": 0,
                    "min": "0.0",
                    "max": "30666.0",
                    "histogram": [
                      {
                        "bin_start": 0,
                        "bin_end": 3066.6,
                        "count": 7
                      },
                      {
                        "bin_start": 3066.6,
                        "bin_end": 6133.2,
                        "count": 0
                      },
                      {
                        "bin_start": 6133.2,
                        "bin_end": 9199.8,
                        "count": 0
                      },
                      {
                        "bin_start": 9199.8,
                        "bin_end": 12266.4,
                        "count": 0
                      },
                      {
                        "bin_start": 12266.4,
                        "bin_end": 15333,
                        "count": 0
                      },
                      {
                        "bin_start": 15333,
                        "bin_end": 18399.6,
                        "count": 0
                      },
                      {
                        "bin_start": 18399.6,
                        "bin_end": 21466.2,
                        "count": 0
                      },
                      {
                        "bin_start": 21466.2,
                        "bin_end": 24532.8,
                        "count": 0
                      },
                      {
                        "bin_start": 24532.8,
                        "bin_end": 27599.399999999998,
                        "count": 0
                      },
                      {
                        "bin_start": 27599.399999999998,
                        "bin_end": 30666,
                        "count": 1
                      }
                    ]
                  }
                },
                {
                  "name": "AVERAGETHERM_raw",
                  "dtype": "float64",
                  "stats": {
                    "unique_count": 2,
                    "nan_count": 0,
                    "min": "0.0",
                    "max": "30666.0",
                    "histogram": [
                      {
                        "bin_start": 0,
                        "bin_end": 3066.6,
                        "count": 7
                      },
                      {
                        "bin_start": 3066.6,
                        "bin_end": 6133.2,
                        "count": 0
                      },
                      {
                        "bin_start": 6133.2,
                        "bin_end": 9199.8,
                        "count": 0
                      },
                      {
                        "bin_start": 9199.8,
                        "bin_end": 12266.4,
                        "count": 0
                      },
                      {
                        "bin_start": 12266.4,
                        "bin_end": 15333,
                        "count": 0
                      },
                      {
                        "bin_start": 15333,
                        "bin_end": 18399.6,
                        "count": 0
                      },
                      {
                        "bin_start": 18399.6,
                        "bin_end": 21466.2,
                        "count": 0
                      },
                      {
                        "bin_start": 21466.2,
                        "bin_end": 24532.8,
                        "count": 0
                      },
                      {
                        "bin_start": 24532.8,
                        "bin_end": 27599.399999999998,
                        "count": 0
                      },
                      {
                        "bin_start": 27599.399999999998,
                        "bin_end": 30666,
                        "count": 1
                      }
                    ]
                  }
                },
                {
                  "name": "Temperature_raw",
                  "dtype": "float64",
                  "stats": {
                    "unique_count": 8,
                    "nan_count": 0,
                    "min": "2.677419354838709",
                    "max": "30666.0",
                    "histogram": [
                      {
                        "bin_start": 2.677419354838709,
                        "bin_end": 3069.009677419355,
                        "count": 7
                      },
                      {
                        "bin_start": 3069.009677419355,
                        "bin_end": 6135.341935483872,
                        "count": 0
                      },
                      {
                        "bin_start": 6135.341935483872,
                        "bin_end": 9201.674193548388,
                        "count": 0
                      },
                      {
                        "bin_start": 9201.674193548388,
                        "bin_end": 12268.006451612904,
                        "count": 0
                      },
                      {
                        "bin_start": 12268.006451612904,
                        "bin_end": 15334.33870967742,
                        "count": 0
                      },
                      {
                        "bin_start": 15334.33870967742,
                        "bin_end": 18400.670967741935,
                        "count": 0
                      },
                      {
                        "bin_start": 18400.670967741935,
                        "bin_end": 21467.00322580645,
                        "count": 0
                      },
                      {
                        "bin_start": 21467.00322580645,
                        "bin_end": 24533.335483870967,
                        "count": 0
                      },
                      {
                        "bin_start": 24533.335483870967,
                        "bin_end": 27599.667741935486,
                        "count": 0
                      },
                      {
                        "bin_start": 27599.667741935486,
                        "bin_end": 30666,
                        "count": 1
                      }
                    ]
                  }
                },
                {
                  "name": "Solar_Zenith_Angle_raw",
                  "dtype": "float64",
                  "stats": {
                    "unique_count": 8,
                    "nan_count": 0,
                    "min": "12.28923627567499",
                    "max": "30666.0",
                    "histogram": [
                      {
                        "bin_start": 12.28923627567499,
                        "bin_end": 3077.6603126481077,
                        "count": 7
                      },
                      {
                        "bin_start": 3077.6603126481077,
                        "bin_end": 6143.03138902054,
                        "count": 0
                      },
                      {
                        "bin_start": 6143.03138902054,
                        "bin_end": 9208.402465392974,
                        "count": 0
                      },
                      {
                        "bin_start": 9208.402465392974,
                        "bin_end": 12273.773541765406,
                        "count": 0
                      },
                      {
                        "bin_start": 12273.773541765406,
                        "bin_end": 15339.144618137838,
                        "count": 0
                      },
                      {
                        "bin_start": 15339.144618137838,
                        "bin_end": 18404.51569451027,
                        "count": 0
                      },
                      {
                        "bin_start": 18404.51569451027,
                        "bin_end": 21469.886770882702,
                        "count": 0
                      },
                      {
                        "bin_start": 21469.886770882702,
                        "bin_end": 24535.257847255136,
                        "count": 0
                      },
                      {
                        "bin_start": 24535.257847255136,
                        "bin_end": 27600.62892362757,
                        "count": 0
                      },
                      {
                        "bin_start": 27600.62892362757,
                        "bin_end": 30666,
                        "count": 1
                      }
                    ]
                  }
                },
                {
                  "name": "TOTALCUS_std",
                  "dtype": "float64",
                  "stats": {
                    "unique_count": 8,
                    "nan_count": 0,
                    "min": "-0.94787464417938",
                    "max": "30666.0",
                    "histogram": [
                      {
                        "bin_start": -0.94787464417938,
                        "bin_end": 3065.7469128202383,
                        "count": 7
                      },
                      {
                        "bin_start": 3065.7469128202383,
                        "bin_end": 6132.441700284657,
                        "count": 0
                      },
                      {
                        "bin_start": 6132.441700284657,
                        "bin_end": 9199.136487749074,
                        "count": 0
                      },
                      {
                        "bin_start": 9199.136487749074,
                        "bin_end": 12265.831275213492,
                        "count": 0
                      },
                      {
                        "bin_start": 12265.831275213492,
                        "bin_end": 15332.526062677909,
                        "count": 0
                      },
                      {
                        "bin_start": 15332.526062677909,
                        "bin_end": 18399.22085014233,
                        "count": 0
                      },
                      {
                        "bin_start": 18399.22085014233,
                        "bin_end": 21465.915637606748,
                        "count": 0
                      },
                      {
                        "bin_start": 21465.915637606748,
                        "bin_end": 24532.610425071165,
                        "count": 0
                      },
                      {
                        "bin_start": 24532.610425071165,
                        "bin_end": 27599.305212535583,
                        "count": 0
                      },
                      {
                        "bin_start": 27599.305212535583,
                        "bin_end": 30666,
                        "count": 1
                      }
                    ]
                  }
                },
                {
                  "name": "TOTALKWH_std",
                  "dtype": "float64",
                  "stats": {
                    "unique_count": 8,
                    "nan_count": 0,
                    "min": "-0.541630116257685",
                    "max": "30666.0",
                    "histogram": [
                      {
                        "bin_start": -0.541630116257685,
                        "bin_end": 3066.112532895368,
                        "count": 7
                      },
                      {
                        "bin_start": 3066.112532895368,
                        "bin_end": 6132.766695906994,
                        "count": 0
                      },
                      {
                        "bin_start": 6132.766695906994,
                        "bin_end": 9199.42085891862,
                        "count": 0
                      },
                      {
                        "bin_start": 9199.42085891862,
                        "bin_end": 12266.075021930246,
                        "count": 0
                      },
                      {
                        "bin_start": 12266.075021930246,
                        "bin_end": 15332.729184941873,
                        "count": 0
                      },
                      {
                        "bin_start": 15332.729184941873,
                        "bin_end": 18399.383347953495,
                        "count": 0
                      },
                      {
                        "bin_start": 18399.383347953495,
                        "bin_end": 21466.03751096512,
                        "count": 0
                      },
                      {
                        "bin_start": 21466.03751096512,
                        "bin_end": 24532.691673976748,
                        "count": 0
                      },
                      {
                        "bin_start": 24532.691673976748,
                        "bin_end": 27599.345836988374,
                        "count": 0
                      },
                      {
                        "bin_start": 27599.345836988374,
                        "bin_end": 30666,
                        "count": 1
                      }
                    ]
                  }
                },
                {
                  "name": "AVERAGEKWH_std",
                  "dtype": "float64",
                  "stats": {
                    "unique_count": 8,
                    "nan_count": 0,
                    "min": "-0.590524786799469",
                    "max": "30666.0",
                    "histogram": [
                      {
                        "bin_start": -0.590524786799469,
                        "bin_end": 3066.0685276918803,
                        "count": 7
                      },
                      {
                        "bin_start": 3066.0685276918803,
                        "bin_end": 6132.72758017056,
                        "count": 0
                      },
                      {
                        "bin_start": 6132.72758017056,
                        "bin_end": 9199.386632649239,
                        "count": 0
                      },
                      {
                        "bin_start": 9199.386632649239,
                        "bin_end": 12266.04568512792,
                        "count": 0
                      },
                      {
                        "bin_start": 12266.04568512792,
                        "bin_end": 15332.7047376066,
                        "count": 0
                      },
                      {
                        "bin_start": 15332.7047376066,
                        "bin_end": 18399.363790085277,
                        "count": 0
                      },
                      {
                        "bin_start": 18399.363790085277,
                        "bin_end": 21466.022842563958,
                        "count": 0
                      },
                      {
                        "bin_start": 21466.022842563958,
                        "bin_end": 24532.68189504264,
                        "count": 0
                      },
                      {
                        "bin_start": 24532.68189504264,
                        "bin_end": 27599.34094752132,
                        "count": 0
                      },
                      {
                        "bin_start": 27599.34094752132,
                        "bin_end": 30666,
                        "count": 1
                      }
                    ]
                  }
                },
                {
                  "name": "TOTALTHERM_std",
                  "dtype": "float64",
                  "stats": {
                    "unique_count": 4,
                    "nan_count": 0,
                    "min": "-0.4615598355549621",
                    "max": "30666.0",
                    "histogram": [
                      {
                        "bin_start": -0.4615598355549621,
                        "bin_end": 3066.1845961480008,
                        "count": 7
                      },
                      {
                        "bin_start": 3066.1845961480008,
                        "bin_end": 6132.830752131556,
                        "count": 0
                      },
                      {
                        "bin_start": 6132.830752131556,
                        "bin_end": 9199.476908115112,
                        "count": 0
                      },
                      {
                        "bin_start": 9199.476908115112,
                        "bin_end": 12266.123064098667,
                        "count": 0
                      },
                      {
                        "bin_start": 12266.123064098667,
                        "bin_end": 15332.769220082222,
                        "count": 0
                      },
                      {
                        "bin_start": 15332.769220082222,
                        "bin_end": 18399.41537606578,
                        "count": 0
                      },
                      {
                        "bin_start": 18399.41537606578,
                        "bin_end": 21466.061532049334,
                        "count": 0
                      },
                      {
                        "bin_start": 21466.061532049334,
                        "bin_end": 24532.70768803289,
                        "count": 0
                      },
                      {
                        "bin_start": 24532.70768803289,
                        "bin_end": 27599.353844016445,
                        "count": 0
                      },
                      {
                        "bin_start": 27599.353844016445,
                        "bin_end": 30666,
                        "count": 1
                      }
                    ]
                  }
                },
                {
                  "name": "AVERAGETHERM_std",
                  "dtype": "float64",
                  "stats": {
                    "unique_count": 4,
                    "nan_count": 0,
                    "min": "-0.348278095632817",
                    "max": "30666.0",
                    "histogram": [
                      {
                        "bin_start": -0.348278095632817,
                        "bin_end": 3066.2865497139305,
                        "count": 7
                      },
                      {
                        "bin_start": 3066.2865497139305,
                        "bin_end": 6132.921377523494,
                        "count": 0
                      },
                      {
                        "bin_start": 6132.921377523494,
                        "bin_end": 9199.556205333058,
                        "count": 0
                      },
                      {
                        "bin_start": 9199.556205333058,
                        "bin_end": 12266.19103314262,
                        "count": 0
                      },
                      {
                        "bin_start": 12266.19103314262,
                        "bin_end": 15332.825860952184,
                        "count": 0
                      },
                      {
                        "bin_start": 15332.825860952184,
                        "bin_end": 18399.46068876175,
                        "count": 0
                      },
                      {
                        "bin_start": 18399.46068876175,
                        "bin_end": 21466.09551657131,
                        "count": 0
                      },
                      {
                        "bin_start": 21466.09551657131,
                        "bin_end": 24532.730344380874,
                        "count": 0
                      },
                      {
                        "bin_start": 24532.730344380874,
                        "bin_end": 27599.36517219044,
                        "count": 0
                      },
                      {
                        "bin_start": 27599.36517219044,
                        "bin_end": 30666,
                        "count": 1
                      }
                    ]
                  }
                },
                {
                  "name": "GHI_std",
                  "dtype": "float64",
                  "stats": {
                    "unique_count": 8,
                    "nan_count": 0,
                    "min": "-1.726466873318754",
                    "max": "30666.0",
                    "histogram": [
                      {
                        "bin_start": -1.726466873318754,
                        "bin_end": 3065.046179814013,
                        "count": 7
                      },
                      {
                        "bin_start": 3065.046179814013,
                        "bin_end": 6131.818826501345,
                        "count": 0
                      },
                      {
                        "bin_start": 6131.818826501345,
                        "bin_end": 9198.591473188677,
                        "count": 0
                      },
                      {
                        "bin_start": 9198.591473188677,
                        "bin_end": 12265.364119876009,
                        "count": 0
                      },
                      {
                        "bin_start": 12265.364119876009,
                        "bin_end": 15332.13676656334,
                        "count": 0
                      },
                      {
                        "bin_start": 15332.13676656334,
                        "bin_end": 18398.909413250673,
                        "count": 0
                      },
                      {
                        "bin_start": 18398.909413250673,
                        "bin_end": 21465.682059938004,
                        "count": 0
                      },
                      {
                        "bin_start": 21465.682059938004,
                        "bin_end": 24532.454706625336,
                        "count": 0
                      },
                      {
                        "bin_start": 24532.454706625336,
                        "bin_end": 27599.227353312668,
                        "count": 0
                      },
                      {
                        "bin_start": 27599.227353312668,
                        "bin_end": 30666,
                        "count": 1
                      }
                    ]
                  }
                },
                {
                  "name": "DHI_std",
                  "dtype": "float64",
                  "stats": {
                    "unique_count": 8,
                    "nan_count": 0,
                    "min": "-1.718965158245286",
                    "max": "30666.0",
                    "histogram": [
                      {
                        "bin_start": -1.718965158245286,
                        "bin_end": 3065.0529313575794,
                        "count": 7
                      },
                      {
                        "bin_start": 3065.0529313575794,
                        "bin_end": 6131.824827873404,
                        "count": 0
                      },
                      {
                        "bin_start": 6131.824827873404,
                        "bin_end": 9198.59672438923,
                        "count": 0
                      },
                      {
                        "bin_start": 9198.59672438923,
                        "bin_end": 12265.368620905054,
                        "count": 0
                      },
                      {
                        "bin_start": 12265.368620905054,
                        "bin_end": 15332.140517420878,
                        "count": 0
                      },
                      {
                        "bin_start": 15332.140517420878,
                        "bin_end": 18398.912413936705,
                        "count": 0
                      },
                      {
                        "bin_start": 18398.912413936705,
                        "bin_end": 21465.68431045253,
                        "count": 0
                      },
                      {
                        "bin_start": 21465.68431045253,
                        "bin_end": 24532.456206968352,
                        "count": 0
                      },
                      {
                        "bin_start": 24532.456206968352,
                        "bin_end": 27599.228103484176,
                        "count": 0
                      },
                      {
                        "bin_start": 27599.228103484176,
                        "bin_end": 30666,
                        "count": 1
                      }
                    ]
                  }
                },
                {
                  "name": "DNI_std",
                  "dtype": "float64",
                  "stats": {
                    "unique_count": 8,
                    "nan_count": 0,
                    "min": "-2.201362395022873",
                    "max": "30666.0",
                    "histogram": [
                      {
                        "bin_start": -2.201362395022873,
                        "bin_end": 3064.618773844479,
                        "count": 7
                      },
                      {
                        "bin_start": 3064.618773844479,
                        "bin_end": 6131.438910083982,
                        "count": 0
                      },
                      {
                        "bin_start": 6131.438910083982,
                        "bin_end": 9198.259046323485,
                        "count": 0
                      },
                      {
                        "bin_start": 9198.259046323485,
                        "bin_end": 12265.079182562986,
                        "count": 0
                      },
                      {
                        "bin_start": 12265.079182562986,
                        "bin_end": 15331.899318802487,
                        "count": 0
                      },
                      {
                        "bin_start": 15331.899318802487,
                        "bin_end": 18398.71945504199,
                        "count": 0
                      },
                      {
                        "bin_start": 18398.71945504199,
                        "bin_end": 21465.539591281493,
                        "count": 0
                      },
                      {
                        "bin_start": 21465.539591281493,
                        "bin_end": 24532.359727520994,
                        "count": 0
                      },
                      {
                        "bin_start": 24532.359727520994,
                        "bin_end": 27599.179863760495,
                        "count": 0
                      },
                      {
                        "bin_start": 27599.179863760495,
                        "bin_end": 30666,
                        "count": 1
                      }
                    ]
                  }
                },
                {
                  "name": "Wind_Speed_std",
                  "dtype": "float64",
                  "stats": {
                    "unique_count": 8,
                    "nan_count": 0,
                    "min": "-1.289943651499707",
                    "max": "30666.0",
                    "histogram": [
                      {
                        "bin_start": -1.289943651499707,
                        "bin_end": 3065.43905071365,
                        "count": 7
                      },
                      {
                        "bin_start": 3065.43905071365,
                        "bin_end": 6132.1680450788,
                        "count": 0
                      },
                      {
                        "bin_start": 6132.1680450788,
                        "bin_end": 9198.89703944395,
                        "count": 0
                      },
                      {
                        "bin_start": 9198.89703944395,
                        "bin_end": 12265.6260338091,
                        "count": 0
                      },
                      {
                        "bin_start": 12265.6260338091,
                        "bin_end": 15332.35502817425,
                        "count": 0
                      },
                      {
                        "bin_start": 15332.35502817425,
                        "bin_end": 18399.0840225394,
                        "count": 0
                      },
                      {
                        "bin_start": 18399.0840225394,
                        "bin_end": 21465.81301690455,
                        "count": 0
                      },
                      {
                        "bin_start": 21465.81301690455,
                        "bin_end": 24532.5420112697,
                        "count": 0
                      },
                      {
                        "bin_start": 24532.5420112697,
                        "bin_end": 27599.271005634848,
                        "count": 0
                      },
                      {
                        "bin_start": 27599.271005634848,
                        "bin_end": 30666,
                        "count": 1
                      }
                    ]
                  }
                },
                {
                  "name": "Temperature_std",
                  "dtype": "float64",
                  "stats": {
                    "unique_count": 8,
                    "nan_count": 0,
                    "min": "-2.198615331545561",
                    "max": "30666.0",
                    "histogram": [
                      {
                        "bin_start": -2.198615331545561,
                        "bin_end": 3064.6212462016088,
                        "count": 7
                      },
                      {
                        "bin_start": 3064.6212462016088,
                        "bin_end": 6131.441107734763,
                        "count": 0
                      },
                      {
                        "bin_start": 6131.441107734763,
                        "bin_end": 9198.260969267918,
                        "count": 0
                      },
                      {
                        "bin_start": 9198.260969267918,
                        "bin_end": 12265.080830801073,
                        "count": 0
                      },
                      {
                        "bin_start": 12265.080830801073,
                        "bin_end": 15331.900692334228,
                        "count": 0
                      },
                      {
                        "bin_start": 15331.900692334228,
                        "bin_end": 18398.72055386738,
                        "count": 0
                      },
                      {
                        "bin_start": 18398.72055386738,
                        "bin_end": 21465.540415400537,
                        "count": 0
                      },
                      {
                        "bin_start": 21465.540415400537,
                        "bin_end": 24532.36027693369,
                        "count": 0
                      },
                      {
                        "bin_start": 24532.36027693369,
                        "bin_end": 27599.180138466843,
                        "count": 0
                      },
                      {
                        "bin_start": 27599.180138466843,
                        "bin_end": 30666,
                        "count": 1
                      }
                    ]
                  }
                },
                {
                  "name": "Solar_Zenith_Angle_std",
                  "dtype": "float64",
                  "stats": {
                    "unique_count": 8,
                    "nan_count": 0,
                    "min": "-1.43557533667467",
                    "max": "30666.0",
                    "histogram": [
                      {
                        "bin_start": -1.43557533667467,
                        "bin_end": 3065.307982196993,
                        "count": 7
                      },
                      {
                        "bin_start": 3065.307982196993,
                        "bin_end": 6132.051539730661,
                        "count": 0
                      },
                      {
                        "bin_start": 6132.051539730661,
                        "bin_end": 9198.795097264328,
                        "count": 0
                      },
                      {
                        "bin_start": 9198.795097264328,
                        "bin_end": 12265.538654797996,
                        "count": 0
                      },
                      {
                        "bin_start": 12265.538654797996,
                        "bin_end": 15332.282212331664,
                        "count": 0
                      },
                      {
                        "bin_start": 15332.282212331664,
                        "bin_end": 18399.02576986533,
                        "count": 0
                      },
                      {
                        "bin_start": 18399.02576986533,
                        "bin_end": 21465.769327398997,
                        "count": 0
                      },
                      {
                        "bin_start": 21465.769327398997,
                        "bin_end": 24532.512884932665,
                        "count": 0
                      },
                      {
                        "bin_start": 24532.512884932665,
                        "bin_end": 27599.256442466332,
                        "count": 0
                      },
                      {
                        "bin_start": 27599.256442466332,
                        "bin_end": 30666,
                        "count": 1
                      }
                    ]
                  }
                },
                {
                  "name": "_deepnote_index_column",
                  "dtype": "object"
                }
              ],
              "rows_top": [
                {
                  "zip": 30666,
                  "latitude": 30666,
                  "longitude": 30666,
                  "MONTH": 30666,
                  "YEAR": 30666,
                  "DAY": 30666,
                  "TOTALCUSTO_raw": 30666,
                  "TOTALKWH_raw": 30666,
                  "AVERAGEKWH_raw": 30666,
                  "TOTALTHERM_raw": 30666,
                  "AVERAGETHERM_raw": 30666,
                  "Temperature_raw": 30666,
                  "Solar_Zenith_Angle_raw": 30666,
                  "TOTALCUS_std": 30666,
                  "TOTALKWH_std": 30666,
                  "AVERAGEKWH_std": 30666,
                  "TOTALTHERM_std": 30666,
                  "AVERAGETHERM_std": 30666,
                  "GHI_std": 30666,
                  "DHI_std": 30666,
                  "DNI_std": 30666,
                  "Wind_Speed_std": 30666,
                  "Temperature_std": 30666,
                  "Solar_Zenith_Angle_std": 30666,
                  "_deepnote_index_column": "count"
                },
                {
                  "zip": 94737.87833431161,
                  "latitude": 37.787115771277634,
                  "longitude": -122.1935704916846,
                  "MONTH": 6.479977825604904,
                  "YEAR": 2015.7861475249463,
                  "DAY": 1,
                  "TOTALCUSTO_raw": 8087.939639992173,
                  "TOTALKWH_raw": 3789958.5480010435,
                  "AVERAGEKWH_raw": 457.2335485554034,
                  "TOTALTHERM_raw": 0,
                  "AVERAGETHERM_raw": 0,
                  "Temperature_raw": 14.559023957704166,
                  "Solar_Zenith_Angle_raw": 90.01597365755572,
                  "TOTALCUS_std": 0.37872833141888596,
                  "TOTALKWH_std": 0.7390821402724725,
                  "AVERAGEKWH_std": 0.2422764784760985,
                  "TOTALTHERM_std": -0.4615598355549621,
                  "AVERAGETHERM_std": -0.3482780956328169,
                  "GHI_std": -0.021727688726537204,
                  "DHI_std": 0.03254274497517324,
                  "DNI_std": -0.05432126415588115,
                  "Wind_Speed_std": 0.4046099901092591,
                  "Temperature_std": -0.1571484326587075,
                  "Solar_Zenith_Angle_std": -0.0006452570899826971,
                  "_deepnote_index_column": "mean"
                },
                {
                  "zip": 459.91026067516367,
                  "latitude": 0.4099732225297213,
                  "longitude": 0.3566539402772227,
                  "MONTH": 3.484611093837447,
                  "YEAR": 2.0214531411451664,
                  "DAY": 0,
                  "TOTALCUSTO_raw": 6908.3159806058475,
                  "TOTALKWH_raw": 3359593.0799521646,
                  "AVERAGEKWH_raw": 253.13585639165777,
                  "TOTALTHERM_raw": 0,
                  "AVERAGETHERM_raw": 0,
                  "Temperature_raw": 3.919081603114266,
                  "Solar_Zenith_Angle_raw": 12.28923627567499,
                  "TOTALCUS_std": 1.1331183149449962,
                  "TOTALKWH_std": 1.1352820828919143,
                  "AVERAGEKWH_std": 0.46105947858732577,
                  "TOTALTHERM_std": 1.1102411269237633e-16,
                  "AVERAGETHERM_std": 5.551205634618817e-17,
                  "GHI_std": 0.9707101455596704,
                  "DHI_std": 1.0166776432612403,
                  "DNI_std": 0.9422417901960927,
                  "Wind_Speed_std": 0.8922654302364088,
                  "Temperature_std": 0.6733665724631752,
                  "Solar_Zenith_Angle_std": 0.9981885691234016,
                  "_deepnote_index_column": "std"
                },
                {
                  "zip": 94002,
                  "latitude": 36.922902,
                  "longitude": -123.22938,
                  "MONTH": 1,
                  "YEAR": 2013,
                  "DAY": 1,
                  "TOTALCUSTO_raw": 0,
                  "TOTALKWH_raw": 0,
                  "AVERAGEKWH_raw": 0,
                  "TOTALTHERM_raw": 0,
                  "AVERAGETHERM_raw": 0,
                  "Temperature_raw": 2.677419354838709,
                  "Solar_Zenith_Angle_raw": 72.34977777777772,
                  "TOTALCUS_std": -0.94787464417938,
                  "TOTALKWH_std": -0.541630116257685,
                  "AVERAGEKWH_std": -0.590524786799469,
                  "TOTALTHERM_std": -0.461559835554962,
                  "AVERAGETHERM_std": -0.348278095632817,
                  "GHI_std": -1.726466873318754,
                  "DHI_std": -1.718965158245286,
                  "DNI_std": -2.201362395022873,
                  "Wind_Speed_std": -1.289943651499707,
                  "Temperature_std": -2.198615331545561,
                  "Solar_Zenith_Angle_std": -1.43557533667467,
                  "_deepnote_index_column": "min"
                },
                {
                  "zip": 94512,
                  "latitude": 37.444879,
                  "longitude": -122.4301,
                  "MONTH": 3,
                  "YEAR": 2014,
                  "DAY": 1,
                  "TOTALCUSTO_raw": 918,
                  "TOTALKWH_raw": 552240.75,
                  "AVERAGEKWH_raw": 350,
                  "TOTALTHERM_raw": 0,
                  "AVERAGETHERM_raw": 0,
                  "Temperature_raw": 11.615591397849462,
                  "Solar_Zenith_Angle_raw": 79.6233837365591,
                  "TOTALCUS_std": -0.79730211448622,
                  "TOTALKWH_std": -0.3550155430050463,
                  "AVERAGEKWH_std": 0.046962212497411,
                  "TOTALTHERM_std": -0.461559835554962,
                  "AVERAGETHERM_std": -0.348278095632817,
                  "GHI_std": -1.019955379681477,
                  "DHI_std": -0.923596686362582,
                  "DNI_std": -0.7008431613636279,
                  "Wind_Speed_std": -0.218190114722588,
                  "Temperature_std": -0.662881483108814,
                  "Solar_Zenith_Angle_std": -0.8447794433013309,
                  "_deepnote_index_column": "25%"
                },
                {
                  "zip": 94613,
                  "latitude": 37.792678,
                  "longitude": -122.18993999999999,
                  "MONTH": 6,
                  "YEAR": 2016,
                  "DAY": 1,
                  "TOTALCUSTO_raw": 7409.5,
                  "TOTALKWH_raw": 3377305.5,
                  "AVERAGEKWH_raw": 457,
                  "TOTALTHERM_raw": 0,
                  "AVERAGETHERM_raw": 0,
                  "Temperature_raw": 14.029569892473118,
                  "Solar_Zenith_Angle_raw": 91.03458333333336,
                  "TOTALCUS_std": 0.267449058175162,
                  "TOTALKWH_std": 0.5996373918468705,
                  "AVERAGEKWH_std": 0.241851095139601,
                  "TOTALTHERM_std": -0.461559835554962,
                  "AVERAGETHERM_std": -0.348278095632817,
                  "GHI_std": -0.117098487998165,
                  "DHI_std": 0.039014675734548504,
                  "DNI_std": -0.066122411778966,
                  "Wind_Speed_std": 0.300821988014231,
                  "Temperature_std": -0.248117875320484,
                  "Solar_Zenith_Angle_std": 0.08209092862176,
                  "_deepnote_index_column": "50%"
                },
                {
                  "zip": 95060,
                  "latitude": 38.031271000000004,
                  "longitude": -121.95071999999999,
                  "MONTH": 10,
                  "YEAR": 2018,
                  "DAY": 1,
                  "TOTALCUSTO_raw": 13354.75,
                  "TOTALKWH_raw": 5984425.5,
                  "AVERAGEKWH_raw": 575,
                  "TOTALTHERM_raw": 0,
                  "AVERAGETHERM_raw": 0,
                  "Temperature_raw": 17.709408602150543,
                  "Solar_Zenith_Angle_raw": 103.9440381944444,
                  "TOTALCUS_std": 1.242603014774574,
                  "TOTALKWH_std": 1.480641892544113,
                  "AVERAGEKWH_std": 0.456775283473978,
                  "TOTALTHERM_std": -0.461559835554962,
                  "AVERAGETHERM_std": -0.348278095632817,
                  "GHI_std": 0.8348726397675205,
                  "DHI_std": 0.8185347685401014,
                  "DNI_std": 0.6814974927922127,
                  "Wind_Speed_std": 0.892618437248036,
                  "Temperature_std": 0.384142595393822,
                  "Solar_Zenith_Angle_std": 1.1306565178017778,
                  "_deepnote_index_column": "75%"
                },
                {
                  "zip": 95823,
                  "latitude": 38.592155,
                  "longitude": -121.40021999999999,
                  "MONTH": 12,
                  "YEAR": 2019,
                  "DAY": 1,
                  "TOTALCUSTO_raw": 110585,
                  "TOTALKWH_raw": 24361593,
                  "AVERAGEKWH_raw": 2401,
                  "TOTALTHERM_raw": 0,
                  "AVERAGETHERM_raw": 0,
                  "Temperature_raw": 27.49529569892475,
                  "Solar_Zenith_Angle_raw": 107.56004032258056,
                  "TOTALCUS_std": 17.19053842348741,
                  "TOTALKWH_std": 7.690700224177138,
                  "AVERAGEKWH_std": 3.782636028377133,
                  "TOTALTHERM_std": -0.461559835554962,
                  "AVERAGETHERM_std": -0.348278095632817,
                  "GHI_std": 1.748295103738271,
                  "DHI_std": 4.262493396653499,
                  "DNI_std": 2.286721546813322,
                  "Wind_Speed_std": 4.351488739457888,
                  "Temperature_std": 2.065528675140203,
                  "Solar_Zenith_Angle_std": 1.424364923211465,
                  "_deepnote_index_column": "max"
                }
              ],
              "rows_bottom": null
            },
            "text/plain": "                zip      latitude     longitude         MONTH          YEAR  \\\ncount  30666.000000  30666.000000  30666.000000  30666.000000  30666.000000   \nmean   94737.878334     37.787116   -122.193570      6.479978   2015.786148   \nstd      459.910261      0.409973      0.356654      3.484611      2.021453   \nmin    94002.000000     36.922902   -123.229380      1.000000   2013.000000   \n25%    94512.000000     37.444879   -122.430100      3.000000   2014.000000   \n50%    94613.000000     37.792678   -122.189940      6.000000   2016.000000   \n75%    95060.000000     38.031271   -121.950720     10.000000   2018.000000   \nmax    95823.000000     38.592155   -121.400220     12.000000   2019.000000   \n\n           DAY  TOTALCUSTO_raw  TOTALKWH_raw  AVERAGEKWH_raw  TOTALTHERM_raw  \\\ncount  30666.0    30666.000000  3.066600e+04    30666.000000         30666.0   \nmean       1.0     8087.939640  3.789959e+06      457.233549             0.0   \nstd        0.0     6908.315981  3.359593e+06      253.135856             0.0   \nmin        1.0        0.000000  0.000000e+00        0.000000             0.0   \n25%        1.0      918.000000  5.522408e+05      350.000000             0.0   \n50%        1.0     7409.500000  3.377306e+06      457.000000             0.0   \n75%        1.0    13354.750000  5.984426e+06      575.000000             0.0   \nmax        1.0   110585.000000  2.436159e+07     2401.000000             0.0   \n\n       ...  TOTALKWH_std  AVERAGEKWH_std  TOTALTHERM_std  AVERAGETHERM_std  \\\ncount  ...  30666.000000    30666.000000    3.066600e+04      3.066600e+04   \nmean   ...      0.739082        0.242276   -4.615598e-01     -3.482781e-01   \nstd    ...      1.135282        0.461059    1.110241e-16      5.551206e-17   \nmin    ...     -0.541630       -0.590525   -4.615598e-01     -3.482781e-01   \n25%    ...     -0.355016        0.046962   -4.615598e-01     -3.482781e-01   \n50%    ...      0.599637        0.241851   -4.615598e-01     -3.482781e-01   \n75%    ...      1.480642        0.456775   -4.615598e-01     -3.482781e-01   \nmax    ...      7.690700        3.782636   -4.615598e-01     -3.482781e-01   \n\n            GHI_std       DHI_std       DNI_std  Wind_Speed_std  \\\ncount  30666.000000  30666.000000  30666.000000    30666.000000   \nmean      -0.021728      0.032543     -0.054321        0.404610   \nstd        0.970710      1.016678      0.942242        0.892265   \nmin       -1.726467     -1.718965     -2.201362       -1.289944   \n25%       -1.019955     -0.923597     -0.700843       -0.218190   \n50%       -0.117098      0.039015     -0.066122        0.300822   \n75%        0.834873      0.818535      0.681497        0.892618   \nmax        1.748295      4.262493      2.286722        4.351489   \n\n       Temperature_std  Solar_Zenith_Angle_std  \ncount     30666.000000            30666.000000  \nmean         -0.157148               -0.000645  \nstd           0.673367                0.998189  \nmin          -2.198615               -1.435575  \n25%          -0.662881               -0.844779  \n50%          -0.248118                0.082091  \n75%           0.384143                1.130657  \nmax           2.065529                1.424365  \n\n[8 rows x 24 columns]",
            "text/html": "<div>\n<style scoped>\n    .dataframe tbody tr th:only-of-type {\n        vertical-align: middle;\n    }\n\n    .dataframe tbody tr th {\n        vertical-align: top;\n    }\n\n    .dataframe thead th {\n        text-align: right;\n    }\n</style>\n<table border=\"1\" class=\"dataframe\">\n  <thead>\n    <tr style=\"text-align: right;\">\n      <th></th>\n      <th>zip</th>\n      <th>latitude</th>\n      <th>longitude</th>\n      <th>MONTH</th>\n      <th>YEAR</th>\n      <th>DAY</th>\n      <th>TOTALCUSTO_raw</th>\n      <th>TOTALKWH_raw</th>\n      <th>AVERAGEKWH_raw</th>\n      <th>TOTALTHERM_raw</th>\n      <th>...</th>\n      <th>TOTALKWH_std</th>\n      <th>AVERAGEKWH_std</th>\n      <th>TOTALTHERM_std</th>\n      <th>AVERAGETHERM_std</th>\n      <th>GHI_std</th>\n      <th>DHI_std</th>\n      <th>DNI_std</th>\n      <th>Wind_Speed_std</th>\n      <th>Temperature_std</th>\n      <th>Solar_Zenith_Angle_std</th>\n    </tr>\n  </thead>\n  <tbody>\n    <tr>\n      <th>count</th>\n      <td>30666.000000</td>\n      <td>30666.000000</td>\n      <td>30666.000000</td>\n      <td>30666.000000</td>\n      <td>30666.000000</td>\n      <td>30666.0</td>\n      <td>30666.000000</td>\n      <td>3.066600e+04</td>\n      <td>30666.000000</td>\n      <td>30666.0</td>\n      <td>...</td>\n      <td>30666.000000</td>\n      <td>30666.000000</td>\n      <td>3.066600e+04</td>\n      <td>3.066600e+04</td>\n      <td>30666.000000</td>\n      <td>30666.000000</td>\n      <td>30666.000000</td>\n      <td>30666.000000</td>\n      <td>30666.000000</td>\n      <td>30666.000000</td>\n    </tr>\n    <tr>\n      <th>mean</th>\n      <td>94737.878334</td>\n      <td>37.787116</td>\n      <td>-122.193570</td>\n      <td>6.479978</td>\n      <td>2015.786148</td>\n      <td>1.0</td>\n      <td>8087.939640</td>\n      <td>3.789959e+06</td>\n      <td>457.233549</td>\n      <td>0.0</td>\n      <td>...</td>\n      <td>0.739082</td>\n      <td>0.242276</td>\n      <td>-4.615598e-01</td>\n      <td>-3.482781e-01</td>\n      <td>-0.021728</td>\n      <td>0.032543</td>\n      <td>-0.054321</td>\n      <td>0.404610</td>\n      <td>-0.157148</td>\n      <td>-0.000645</td>\n    </tr>\n    <tr>\n      <th>std</th>\n      <td>459.910261</td>\n      <td>0.409973</td>\n      <td>0.356654</td>\n      <td>3.484611</td>\n      <td>2.021453</td>\n      <td>0.0</td>\n      <td>6908.315981</td>\n      <td>3.359593e+06</td>\n      <td>253.135856</td>\n      <td>0.0</td>\n      <td>...</td>\n      <td>1.135282</td>\n      <td>0.461059</td>\n      <td>1.110241e-16</td>\n      <td>5.551206e-17</td>\n      <td>0.970710</td>\n      <td>1.016678</td>\n      <td>0.942242</td>\n      <td>0.892265</td>\n      <td>0.673367</td>\n      <td>0.998189</td>\n    </tr>\n    <tr>\n      <th>min</th>\n      <td>94002.000000</td>\n      <td>36.922902</td>\n      <td>-123.229380</td>\n      <td>1.000000</td>\n      <td>2013.000000</td>\n      <td>1.0</td>\n      <td>0.000000</td>\n      <td>0.000000e+00</td>\n      <td>0.000000</td>\n      <td>0.0</td>\n      <td>...</td>\n      <td>-0.541630</td>\n      <td>-0.590525</td>\n      <td>-4.615598e-01</td>\n      <td>-3.482781e-01</td>\n      <td>-1.726467</td>\n      <td>-1.718965</td>\n      <td>-2.201362</td>\n      <td>-1.289944</td>\n      <td>-2.198615</td>\n      <td>-1.435575</td>\n    </tr>\n    <tr>\n      <th>25%</th>\n      <td>94512.000000</td>\n      <td>37.444879</td>\n      <td>-122.430100</td>\n      <td>3.000000</td>\n      <td>2014.000000</td>\n      <td>1.0</td>\n      <td>918.000000</td>\n      <td>5.522408e+05</td>\n      <td>350.000000</td>\n      <td>0.0</td>\n      <td>...</td>\n      <td>-0.355016</td>\n      <td>0.046962</td>\n      <td>-4.615598e-01</td>\n      <td>-3.482781e-01</td>\n      <td>-1.019955</td>\n      <td>-0.923597</td>\n      <td>-0.700843</td>\n      <td>-0.218190</td>\n      <td>-0.662881</td>\n      <td>-0.844779</td>\n    </tr>\n    <tr>\n      <th>50%</th>\n      <td>94613.000000</td>\n      <td>37.792678</td>\n      <td>-122.189940</td>\n      <td>6.000000</td>\n      <td>2016.000000</td>\n      <td>1.0</td>\n      <td>7409.500000</td>\n      <td>3.377306e+06</td>\n      <td>457.000000</td>\n      <td>0.0</td>\n      <td>...</td>\n      <td>0.599637</td>\n      <td>0.241851</td>\n      <td>-4.615598e-01</td>\n      <td>-3.482781e-01</td>\n      <td>-0.117098</td>\n      <td>0.039015</td>\n      <td>-0.066122</td>\n      <td>0.300822</td>\n      <td>-0.248118</td>\n      <td>0.082091</td>\n    </tr>\n    <tr>\n      <th>75%</th>\n      <td>95060.000000</td>\n      <td>38.031271</td>\n      <td>-121.950720</td>\n      <td>10.000000</td>\n      <td>2018.000000</td>\n      <td>1.0</td>\n      <td>13354.750000</td>\n      <td>5.984426e+06</td>\n      <td>575.000000</td>\n      <td>0.0</td>\n      <td>...</td>\n      <td>1.480642</td>\n      <td>0.456775</td>\n      <td>-4.615598e-01</td>\n      <td>-3.482781e-01</td>\n      <td>0.834873</td>\n      <td>0.818535</td>\n      <td>0.681497</td>\n      <td>0.892618</td>\n      <td>0.384143</td>\n      <td>1.130657</td>\n    </tr>\n    <tr>\n      <th>max</th>\n      <td>95823.000000</td>\n      <td>38.592155</td>\n      <td>-121.400220</td>\n      <td>12.000000</td>\n      <td>2019.000000</td>\n      <td>1.0</td>\n      <td>110585.000000</td>\n      <td>2.436159e+07</td>\n      <td>2401.000000</td>\n      <td>0.0</td>\n      <td>...</td>\n      <td>7.690700</td>\n      <td>3.782636</td>\n      <td>-4.615598e-01</td>\n      <td>-3.482781e-01</td>\n      <td>1.748295</td>\n      <td>4.262493</td>\n      <td>2.286722</td>\n      <td>4.351489</td>\n      <td>2.065529</td>\n      <td>1.424365</td>\n    </tr>\n  </tbody>\n</table>\n<p>8 rows × 24 columns</p>\n</div>"
          },
          "metadata": {}
        }
      ]
    },
    {
      "cell_type": "code",
      "metadata": {
        "tags": [],
        "cell_id": "00020-7e9e0bfc-862e-44a9-b9ce-c6a2ff015670",
        "deepnote_to_be_reexecuted": false,
        "source_hash": "81ef2cc9",
        "execution_millis": 153,
        "execution_start": 1619129766673,
        "deepnote_cell_type": "code"
      },
      "source": " plt.plot(bay_area_monthly_elec_pge_nrel['TOTALKWH_std'])\n#keep this plot!! shows why we got rid of the data (and make prettier)\n #plt.plot(bay_area_monthly_elec_pge_nrel_clean['TOTALKWH_std']) #add this plot to it side by side to show\n ",
      "execution_count": 17,
      "outputs": [
        {
          "output_type": "execute_result",
          "execution_count": 17,
          "data": {
            "text/plain": "[<matplotlib.lines.Line2D at 0x7fab3603fe10>]"
          },
          "metadata": {}
        },
        {
          "data": {
            "text/plain": "<Figure size 432x288 with 1 Axes>",
            "image/png": "[encoded data removed]"
          },
          "metadata": {
            "needs_background": "light"
          },
          "output_type": "display_data"
        }
      ]
    },
    {
      "cell_type": "code",
      "metadata": {
        "tags": [],
        "cell_id": "00022-1282ea86-dea1-44f3-8df8-a4ac09400300",
        "deepnote_to_be_reexecuted": false,
        "source_hash": "ffac0c8b",
        "execution_millis": 698,
        "execution_start": 1619129766836,
        "deepnote_cell_type": "code"
      },
      "source": "sns.distplot(bay_area_monthly_elec_pge_nrel['TOTALKWH_std'])\nsns.distplot(bay_area_monthly_elec_pge_nrel_clean['TOTALKWH_std'])\n",
      "execution_count": 18,
      "outputs": [
        {
          "name": "stderr",
          "text": "/shared-libs/python3.7/py/lib/python3.7/site-packages/seaborn/distributions.py:2557: FutureWarning: `distplot` is a deprecated function and will be removed in a future version. Please adapt your code to use either `displot` (a figure-level function with similar flexibility) or `histplot` (an axes-level function for histograms).\n  warnings.warn(msg, FutureWarning)\n/shared-libs/python3.7/py/lib/python3.7/site-packages/seaborn/distributions.py:2557: FutureWarning: `distplot` is a deprecated function and will be removed in a future version. Please adapt your code to use either `displot` (a figure-level function with similar flexibility) or `histplot` (an axes-level function for histograms).\n  warnings.warn(msg, FutureWarning)\n",
          "output_type": "stream"
        },
        {
          "output_type": "execute_result",
          "execution_count": 18,
          "data": {
            "text/plain": "<AxesSubplot:xlabel='TOTALKWH_std', ylabel='Density'>"
          },
          "metadata": {}
        },
        {
          "data": {
            "text/plain": "<Figure size 432x288 with 1 Axes>",
            "image/png": "[encoded data removed]"
          },
          "metadata": {
            "needs_background": "light"
          },
          "output_type": "display_data"
        }
      ]
    },
    {
      "cell_type": "code",
      "metadata": {
        "tags": [],
        "cell_id": "00020-e4839305-df17-4503-9feb-b0d457dfed99",
        "deepnote_to_be_reexecuted": false,
        "source_hash": "52919b6c",
        "execution_millis": 1,
        "execution_start": 1619129767534,
        "deepnote_cell_type": "code"
      },
      "source": "## Trainv-validation split \nX_train, X_val, y_train, y_val = train_test_split(elec_X_train,elec_Y_train,test_size=0.2,\n                                                  random_state=0)\n\n",
      "execution_count": 19,
      "outputs": []
    },
    {
      "cell_type": "markdown",
      "source": "### Simple Linear Regression\n\n$$ \\hat{\\vec{y}} = \\hat{\\vec\\beta}*\\vec{x}$$\n\nCoefficients in $ \\hat{\\vec\\beta}$  are simply scalars that are fit to the best-fit line. That is, simply solving least squares\n\n$$ \\hat{\\vec\\beta} = (X^TX)^{-1}X^TY$$\n",
      "metadata": {
        "tags": [],
        "cell_id": "00021-e84ceda4-ea18-4b7e-b790-fc24f796cd91",
        "deepnote_cell_type": "markdown"
      }
    },
    {
      "cell_type": "markdown",
      "source": "",
      "metadata": {
        "tags": [],
        "cell_id": "00022-50a7ba9d-95ca-4d9d-83e6-8f410e655824",
        "deepnote_cell_type": "markdown"
      }
    },
    {
      "cell_type": "code",
      "metadata": {
        "tags": [],
        "cell_id": "00023-9fe85350-198a-4575-b7fa-1e70668d4bcb",
        "deepnote_to_be_reexecuted": false,
        "source_hash": "870a2a95",
        "execution_millis": 17,
        "execution_start": 1619129767542,
        "deepnote_cell_type": "code"
      },
      "source": "lm = LinearRegression() #linear regression\nlm.fit(X_train, y_train)\n\n## apply model to training data\nlm_train_pred = lm.predict(X_train)\nlm_train_mse = mean_squared_error(y_true=y_train, y_pred=lm_train_pred)\n\n## apply model to test data\nlm_test_pred = lm.predict(X_val)\nlm_test_mse = mean_squared_error(y_true=y_val, y_pred=lm_test_pred)\nprint(\"Training MSE\", lm_train_mse)\nprint(\"Testing MSE\", lm_test_mse)",
      "execution_count": 20,
      "outputs": [
        {
          "name": "stdout",
          "text": "Training MSE 63727.888697826565\nTesting MSE 65174.33659987724\n",
          "output_type": "stream"
        }
      ]
    },
    {
      "cell_type": "code",
      "metadata": {
        "tags": [],
        "cell_id": "00024-4604c353-97da-4179-b101-153c2dba6420",
        "deepnote_to_be_reexecuted": false,
        "source_hash": "31180f39",
        "execution_millis": 161,
        "execution_start": 1619129767560,
        "deepnote_cell_type": "code"
      },
      "source": "plt.scatter(y_train, lm_train_pred)",
      "execution_count": 21,
      "outputs": [
        {
          "output_type": "execute_result",
          "execution_count": 21,
          "data": {
            "text/plain": "<matplotlib.collections.PathCollection at 0x7fab3600fcd0>"
          },
          "metadata": {}
        },
        {
          "data": {
            "text/plain": "<Figure size 432x288 with 1 Axes>",
            "image/png": "[encoded data removed]"
          },
          "metadata": {
            "needs_background": "light"
          },
          "output_type": "display_data"
        }
      ]
    },
    {
      "cell_type": "code",
      "metadata": {
        "tags": [],
        "cell_id": "00025-7c6b7b41-05f4-4bcd-9ba6-de28276704cd",
        "deepnote_to_be_reexecuted": false,
        "source_hash": "1966dfcd",
        "execution_millis": 106,
        "execution_start": 1619129767765,
        "deepnote_cell_type": "code"
      },
      "source": "plt.scatter(y_val, lm_test_pred-y_val)",
      "execution_count": 22,
      "outputs": [
        {
          "output_type": "execute_result",
          "execution_count": 22,
          "data": {
            "text/plain": "<matplotlib.collections.PathCollection at 0x7fab35fa2110>"
          },
          "metadata": {}
        },
        {
          "data": {
            "text/plain": "<Figure size 432x288 with 1 Axes>",
            "image/png": "[encoded data removed]"
          },
          "metadata": {
            "needs_background": "light"
          },
          "output_type": "display_data"
        }
      ]
    },
    {
      "cell_type": "code",
      "metadata": {
        "tags": [],
        "cell_id": "00026-2a052f54-11c2-4a60-b27b-2b7ed35a5015",
        "deepnote_to_be_reexecuted": false,
        "source_hash": "732975c1",
        "execution_millis": 130,
        "execution_start": 1619129767913,
        "deepnote_cell_type": "code"
      },
      "source": "plt.scatter(y_train, lm_train_pred-y_train)",
      "execution_count": 23,
      "outputs": [
        {
          "output_type": "execute_result",
          "execution_count": 23,
          "data": {
            "text/plain": "<matplotlib.collections.PathCollection at 0x7fab35fb1850>"
          },
          "metadata": {}
        },
        {
          "data": {
            "text/plain": "<Figure size 432x288 with 1 Axes>",
            "image/png": "[encoded data removed]"
          },
          "metadata": {
            "needs_background": "light"
          },
          "output_type": "display_data"
        }
      ]
    },
    {
      "cell_type": "code",
      "metadata": {
        "tags": [],
        "cell_id": "00027-d0714964-fc7b-4800-91ac-44a368e84a14",
        "deepnote_to_be_reexecuted": false,
        "source_hash": "b623e53d",
        "execution_millis": 3,
        "execution_start": 1619129768045,
        "deepnote_cell_type": "code"
      },
      "source": "",
      "execution_count": 23,
      "outputs": []
    },
    {
      "cell_type": "code",
      "metadata": {
        "tags": [],
        "cell_id": "00028-3d1db3a7-a781-45e1-bf59-39c71f0e0ea6",
        "deepnote_to_be_reexecuted": false,
        "source_hash": "82cf6b81",
        "execution_millis": 28877,
        "execution_start": 1619129768056,
        "deepnote_cell_type": "code"
      },
      "source": "svr_regr = svm.SVR() #vector regression\nsvr_regr.fit(X_train, y_train)",
      "execution_count": 24,
      "outputs": [
        {
          "output_type": "execute_result",
          "execution_count": 24,
          "data": {
            "text/plain": "SVR()"
          },
          "metadata": {}
        }
      ]
    },
    {
      "cell_type": "code",
      "metadata": {
        "tags": [],
        "cell_id": "00029-40825d34-a6e8-47be-bdba-f99ef1d993c9",
        "deepnote_to_be_reexecuted": false,
        "source_hash": "6081c2c5",
        "execution_millis": 36731,
        "execution_start": 1619129796957,
        "deepnote_cell_type": "code"
      },
      "source": "## apply model to training data\nsvr_train_pred = svr_regr.predict(X_train)\nsvr_train_mse = mean_squared_error(y_true=y_train, y_pred=svr_train_pred)\n\n## apply model to test data\nsvr_test_pred = svr_regr.predict(X_val)\nsvr_test_mse = mean_squared_error(y_true=y_val, y_pred=svr_test_pred)\nprint(\"Training MSE\", svr_train_mse)\nprint(\"Testing MSE\", svr_test_mse)",
      "execution_count": 25,
      "outputs": [
        {
          "name": "stdout",
          "text": "Training MSE 62155.81959561899\nTesting MSE 63700.430481977615\n",
          "output_type": "stream"
        }
      ]
    },
    {
      "cell_type": "code",
      "metadata": {
        "tags": [],
        "cell_id": "00030-5c3828aa-d37d-4464-af51-fbff8dcc9a7f",
        "deepnote_to_be_reexecuted": false,
        "source_hash": "329706ed",
        "execution_millis": 191,
        "execution_start": 1619129833685,
        "deepnote_cell_type": "code"
      },
      "source": "plt.scatter(y_train, svr_train_pred)",
      "execution_count": 26,
      "outputs": [
        {
          "output_type": "execute_result",
          "execution_count": 26,
          "data": {
            "text/plain": "<matplotlib.collections.PathCollection at 0x7fab35fcb1d0>"
          },
          "metadata": {}
        },
        {
          "data": {
            "text/plain": "<Figure size 432x288 with 1 Axes>",
            "image/png": "[encoded data removed]"
          },
          "metadata": {
            "needs_background": "light"
          },
          "output_type": "display_data"
        }
      ]
    },
    {
      "cell_type": "code",
      "metadata": {
        "tags": [],
        "cell_id": "00031-b0649edf-7b0e-49bf-9443-40ee07fa6c22",
        "deepnote_to_be_reexecuted": false,
        "source_hash": "b623e53d",
        "execution_start": 1619129833868,
        "execution_millis": 1,
        "deepnote_cell_type": "code"
      },
      "source": "",
      "execution_count": 26,
      "outputs": []
    },
    {
      "cell_type": "markdown",
      "source": "### Decision Tree Regression Model",
      "metadata": {
        "tags": [],
        "cell_id": "00032-46e5c9fb-7908-4a3a-8652-73dadf0fee2e",
        "deepnote_cell_type": "markdown"
      }
    },
    {
      "cell_type": "code",
      "metadata": {
        "tags": [],
        "cell_id": "00033-0bacc98d-8a0d-4453-ad48-9aeb7375b560",
        "deepnote_to_be_reexecuted": false,
        "source_hash": "7c234d23",
        "execution_millis": 12,
        "execution_start": 1619129833873,
        "deepnote_cell_type": "code"
      },
      "source": "X_train.head()",
      "execution_count": 27,
      "outputs": [
        {
          "output_type": "execute_result",
          "execution_count": 27,
          "data": {
            "application/vnd.deepnote.dataframe.v2+json": {
              "row_count": 5,
              "column_count": 1,
              "columns": [
                {
                  "name": "MONTH",
                  "dtype": "int64",
                  "stats": {
                    "unique_count": 4,
                    "nan_count": 0,
                    "min": "2",
                    "max": "8",
                    "histogram": [
                      {
                        "bin_start": 2,
                        "bin_end": 2.6,
                        "count": 1
                      },
                      {
                        "bin_start": 2.6,
                        "bin_end": 3.2,
                        "count": 2
                      },
                      {
                        "bin_start": 3.2,
                        "bin_end": 3.8,
                        "count": 0
                      },
                      {
                        "bin_start": 3.8,
                        "bin_end": 4.4,
                        "count": 0
                      },
                      {
                        "bin_start": 4.4,
                        "bin_end": 5,
                        "count": 0
                      },
                      {
                        "bin_start": 5,
                        "bin_end": 5.6,
                        "count": 1
                      },
                      {
                        "bin_start": 5.6,
                        "bin_end": 6.2,
                        "count": 0
                      },
                      {
                        "bin_start": 6.2,
                        "bin_end": 6.8,
                        "count": 0
                      },
                      {
                        "bin_start": 6.8,
                        "bin_end": 7.3999999999999995,
                        "count": 0
                      },
                      {
                        "bin_start": 7.3999999999999995,
                        "bin_end": 8,
                        "count": 1
                      }
                    ]
                  }
                },
                {
                  "name": "_deepnote_index_column",
                  "dtype": "int64"
                }
              ],
              "rows_top": [
                {
                  "MONTH": 8,
                  "_deepnote_index_column": 73651
                },
                {
                  "MONTH": 3,
                  "_deepnote_index_column": 105904
                },
                {
                  "MONTH": 5,
                  "_deepnote_index_column": 12682
                },
                {
                  "MONTH": 2,
                  "_deepnote_index_column": 50030
                },
                {
                  "MONTH": 3,
                  "_deepnote_index_column": 14991
                }
              ],
              "rows_bottom": null
            },
            "text/plain": "        MONTH\n73651       8\n105904      3\n12682       5\n50030       2\n14991       3",
            "text/html": "<div>\n<style scoped>\n    .dataframe tbody tr th:only-of-type {\n        vertical-align: middle;\n    }\n\n    .dataframe tbody tr th {\n        vertical-align: top;\n    }\n\n    .dataframe thead th {\n        text-align: right;\n    }\n</style>\n<table border=\"1\" class=\"dataframe\">\n  <thead>\n    <tr style=\"text-align: right;\">\n      <th></th>\n      <th>MONTH</th>\n    </tr>\n  </thead>\n  <tbody>\n    <tr>\n      <th>73651</th>\n      <td>8</td>\n    </tr>\n    <tr>\n      <th>105904</th>\n      <td>3</td>\n    </tr>\n    <tr>\n      <th>12682</th>\n      <td>5</td>\n    </tr>\n    <tr>\n      <th>50030</th>\n      <td>2</td>\n    </tr>\n    <tr>\n      <th>14991</th>\n      <td>3</td>\n    </tr>\n  </tbody>\n</table>\n</div>"
          },
          "metadata": {}
        }
      ]
    },
    {
      "cell_type": "code",
      "metadata": {
        "tags": [],
        "cell_id": "00033-141fa70a-a659-4158-b992-07f2750ddd56",
        "deepnote_to_be_reexecuted": false,
        "source_hash": "e3dd1a07",
        "execution_millis": 10,
        "execution_start": 1619129833887,
        "deepnote_cell_type": "code"
      },
      "source": "dtree = DecisionTreeRegressor(max_depth=8, min_samples_leaf=0.13, random_state=3)\n\ndtree.fit(X_train, y_train)",
      "execution_count": 28,
      "outputs": [
        {
          "output_type": "execute_result",
          "execution_count": 28,
          "data": {
            "text/plain": "DecisionTreeRegressor(max_depth=8, min_samples_leaf=0.13, random_state=3)"
          },
          "metadata": {}
        }
      ]
    },
    {
      "cell_type": "code",
      "metadata": {
        "tags": [],
        "cell_id": "00035-62e173ba-de2b-45cf-bd27-3166f79b0d82",
        "deepnote_to_be_reexecuted": false,
        "source_hash": "f14c59e5",
        "execution_millis": 11,
        "execution_start": 1619129833899,
        "deepnote_cell_type": "code"
      },
      "source": "## apply model to training data\ndtree_train_pred = dtree.predict(X_train)\ndtree_train_mse = mean_squared_error(y_true=y_train, y_pred=dtree_train_pred)\n\n## apply model to test data\ndtree_test_pred = dtree.predict(X_val)\ndtree_test_mse = mean_squared_error(y_true=y_val, y_pred=dtree_test_pred)\nprint(\"Training MSE\", dtree_train_mse)\nprint(\"Testing MSE\", dtree_test_mse)",
      "execution_count": 29,
      "outputs": [
        {
          "name": "stdout",
          "text": "Training MSE 62635.12201918334\nTesting MSE 64235.58537766066\n",
          "output_type": "stream"
        }
      ]
    },
    {
      "cell_type": "code",
      "metadata": {
        "tags": [],
        "cell_id": "00039-859dc5d0-1a48-452b-afc1-a81516706459",
        "deepnote_to_be_reexecuted": false,
        "source_hash": "6e226696",
        "execution_millis": 119,
        "execution_start": 1619129833953,
        "deepnote_cell_type": "code"
      },
      "source": "plt.scatter(y_train, dtree_train_pred)",
      "execution_count": 30,
      "outputs": [
        {
          "output_type": "execute_result",
          "execution_count": 30,
          "data": {
            "text/plain": "<matplotlib.collections.PathCollection at 0x7fab35f609d0>"
          },
          "metadata": {}
        },
        {
          "data": {
            "text/plain": "<Figure size 432x288 with 1 Axes>",
            "image/png": "[encoded data removed]"
          },
          "metadata": {
            "needs_background": "light"
          },
          "output_type": "display_data"
        }
      ]
    },
    {
      "cell_type": "code",
      "metadata": {
        "tags": [],
        "cell_id": "00040-c3c93dd7-10f2-4291-8726-cfa10222c7cb",
        "deepnote_to_be_reexecuted": false,
        "source_hash": "c924cc91",
        "execution_millis": 4,
        "execution_start": 1619129834075,
        "deepnote_cell_type": "code"
      },
      "source": "### Standardized SVR",
      "execution_count": 31,
      "outputs": []
    },
    {
      "cell_type": "code",
      "metadata": {
        "tags": [],
        "cell_id": "00042-8f20f247-7a4d-498c-9ad1-918c5bd937c1",
        "deepnote_to_be_reexecuted": false,
        "source_hash": "eff316e",
        "execution_millis": 30538,
        "execution_start": 1619129834080,
        "deepnote_cell_type": "code"
      },
      "source": "pipe = Pipeline([('scaler', StandardScaler()), ('svr', svm.SVR())])\n\npipe.fit(X_train, y_train)",
      "execution_count": 32,
      "outputs": [
        {
          "output_type": "execute_result",
          "execution_count": 32,
          "data": {
            "text/plain": "Pipeline(steps=[('scaler', StandardScaler()), ('svr', SVR())])"
          },
          "metadata": {}
        }
      ]
    },
    {
      "cell_type": "code",
      "metadata": {
        "tags": [],
        "cell_id": "00043-056b41a3-3074-486e-9a07-1c473f4d7228",
        "deepnote_to_be_reexecuted": false,
        "source_hash": "4de560e7",
        "execution_millis": 7348,
        "execution_start": 1619129864611,
        "deepnote_cell_type": "code"
      },
      "source": "pipe.score(X_val, y_val)",
      "execution_count": 33,
      "outputs": [
        {
          "output_type": "execute_result",
          "execution_count": 33,
          "data": {
            "text/plain": "0.02345187481684763"
          },
          "metadata": {}
        }
      ]
    },
    {
      "cell_type": "code",
      "metadata": {
        "tags": [],
        "cell_id": "00044-b49ae41b-9db8-4ac6-8632-fd6f018a8ed2",
        "deepnote_to_be_reexecuted": false,
        "source_hash": "9ea735ef",
        "execution_millis": 29312,
        "execution_start": 1619129871961,
        "deepnote_cell_type": "code"
      },
      "source": "pipe.score(X_train, y_train)",
      "execution_count": 34,
      "outputs": [
        {
          "output_type": "execute_result",
          "execution_count": 34,
          "data": {
            "text/plain": "0.025568943863417348"
          },
          "metadata": {}
        }
      ]
    },
    {
      "cell_type": "code",
      "metadata": {
        "tags": [],
        "cell_id": "00045-7daf2206-d0a0-4810-8a67-926fd6de512e",
        "deepnote_to_be_reexecuted": false,
        "source_hash": "b623e53d",
        "execution_start": 1619129901263,
        "execution_millis": 1,
        "deepnote_cell_type": "code"
      },
      "source": "",
      "execution_count": 34,
      "outputs": []
    },
    {
      "cell_type": "code",
      "metadata": {
        "tags": [],
        "cell_id": "00047-c74b3ad9-273a-44c4-9202-16155a6d80d4",
        "deepnote_to_be_reexecuted": false,
        "source_hash": "b623e53d",
        "execution_start": 1619129901309,
        "execution_millis": 1,
        "deepnote_cell_type": "code"
      },
      "source": "",
      "execution_count": 34,
      "outputs": []
    },
    {
      "cell_type": "markdown",
      "source": "<a style='text-decoration:none;line-height:16px;display:flex;color:#5B5B62;padding:10px;justify-content:end;' href='https://deepnote.com?utm_source=created-in-deepnote-cell&projectId=c2f0e727-e6a4-4b2a-b180-a91c3a609ecf' target=\"_blank\">\n<img alt='Created in deepnote.com' style='display:inline;max-height:16px;margin:0px;margin-right:7.5px;' src='data:image/svg+xml;base64,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' > </img>\nCreated in <span style='font-weight:600;margin-left:4px;'>Deepnote</span></a>",
      "metadata": {
        "tags": [],
        "created_in_deepnote_cell": true,
        "deepnote_cell_type": "markdown"
      }
    }
  ],
  "nbformat": 4,
  "nbformat_minor": 2,
  "metadata": {
    "kernelspec": {
      "display_name": "Python 3",
      "language": "python",
      "name": "python3"
    },
    "language_info": {
      "codemirror_mode": {
        "name": "ipython",
        "version": 3
      },
      "file_extension": ".py",
      "mimetype": "text/x-python",
      "name": "python",
      "nbconvert_exporter": "python",
      "pygments_lexer": "ipython3",
      "version": "3.7.3"
    },
    "deepnote_notebook_id": "540f74d8-bc42-4b70-8b8a-4e278d572e45",
    "deepnote": {},
    "deepnote_execution_queue": []
  }
}