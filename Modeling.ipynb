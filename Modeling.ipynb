{
  "cells": [
    {
      "cell_type": "code",
      "metadata": {
        "cell_id": "00000-578e3682-4608-4eb0-9154-df6461b4d1f4",
        "deepnote_to_be_reexecuted": false,
        "source_hash": "f59ed12f",
        "execution_millis": 1,
        "execution_start": 1617925961965,
        "deepnote_cell_type": "code"
      },
      "source": "import geopandas as gpd\nimport pandas as pd\nimport numpy as np\nimport matplotlib.pyplot as plt\nimport matplotlib.gridspec as gridspec\nfrom ipywidgets import interact, interactive, fixed, interact_manual\nimport ipywidgets as widgets\nimport seaborn as sns\nfrom sklearn.model_selection import train_test_split\n\nfrom scipy.optimize import leastsq\n\nfrom sklearn.linear_model import LinearRegression, Ridge, Lasso\n\nfrom sklearn.metrics import mean_squared_error\nfrom sklearn import svm",
      "execution_count": null,
      "outputs": []
    },
    {
      "cell_type": "code",
      "metadata": {
        "cell_id": "00001-1dde101c-fbec-424a-bd28-1e8062b4e710",
        "deepnote_to_be_reexecuted": false,
        "source_hash": "6ec522b",
        "execution_start": 1617923580888,
        "execution_millis": 1,
        "deepnote_cell_type": "code"
      },
      "source": "def info(df, head=True):\n    print(\"Type: \", type(df))\n    print(\"Shape: \", df.shape)\n    print(\"Columns: \", df.columns)\n    if head:\n        display(df.head())\n    else:\n        display(df)\n\ndef corr_vis(df, features, meas='AVERAGEKWH_raw'):\n    '''\n    Displays a corrrelation chart for the  specified features in the edf\n    '''\n    ## Create a blank dataframe that calculates all the correlations to TOG\n    vis = pd.DataFrame()\n    vis['feature'] = features\n    vis['spearman'] = [df[f].corr(df[meas], 'spearman') for f in features]\n    #[print(str(features[f]) + \": \" + str(spr['spearman'][f])) for f in range(len(features))]\n    \n    vis = vis.sort_values('spearman')\n    plt.figure(figsize=(6, 0.25*len(features)))\n    ax = sns.barplot(data=vis, y='feature', x='spearman', orient='h')\n    \n    ## Chart design\n    ax.set(xlabel='correlation')\n    ax.set(title='Correlation of all features to {meas}'.format(meas=meas)) \n    return vis",
      "execution_count": null,
      "outputs": []
    },
    {
      "cell_type": "markdown",
      "source": "# Importing GeoDataFrames\n\nCalifornia Counties and Boundarise sourced from https://data.ca.gov/dataset/ca-geographic-boundaries",
      "metadata": {
        "cell_id": "00002-316afb2d-047a-4222-af4f-5f60865cab11",
        "deepnote_cell_type": "markdown"
      }
    },
    {
      "cell_type": "code",
      "metadata": {
        "tags": [],
        "cell_id": "00003-60d1602e-02d9-4fb0-b0ce-8e8891038fd9",
        "deepnote_to_be_reexecuted": false,
        "source_hash": "8fd16d92",
        "execution_start": 1617923616904,
        "execution_millis": 6,
        "deepnote_cell_type": "code"
      },
      "source": "base = \"/datasets/team-red-residential-energy-consumption/datasets/team-red-residential-energy-consumption/Data/\"",
      "execution_count": null,
      "outputs": []
    },
    {
      "cell_type": "code",
      "metadata": {
        "cell_id": "00003-d1c2b33b-841e-4c2c-a5f2-3388e59a37e1",
        "deepnote_to_be_reexecuted": false,
        "source_hash": "358e5bfc",
        "execution_start": 1617923629961,
        "execution_millis": 13310,
        "deepnote_cell_type": "code"
      },
      "source": "cleaned_monthly_with_zip_and_citis_fn = base + \"cleaned_data/all-pge-with-nrel/transformed_pge-energy-consumption-with-nrel-solar_2013-2019_136968x35.shp\"\nzip_cities_monthly_pge_gdf = gpd.read_file(cleaned_monthly_with_zip_and_citis_fn)\n",
      "execution_count": null,
      "outputs": []
    },
    {
      "cell_type": "code",
      "metadata": {
        "cell_id": "00004-997ae165-11bc-4377-b9ef-d779ac032018",
        "deepnote_to_be_reexecuted": false,
        "source_hash": "f56db3a0",
        "execution_millis": 103,
        "execution_start": 1617923649966,
        "deepnote_cell_type": "code"
      },
      "source": "rename_mapper ={\n    'TOTALCUSTO': 'TOTALCUSTO_raw',\n    'TOTALKWH_r': 'TOTALKWH_raw',\n    'AVERAGEKWH': 'AVERAGEKWH_raw',\n    'TOTALTHERM': 'TOTALTHERM_raw',\n    'AVERAGETHE': 'AVERAGETHERM_raw',\n    'Temperatur': 'Temperature_raw', \n    'Solar Zeni': 'Solar_Zenith_Angle_raw',\n    'TOTALCUS_1': 'TOTALCUS_std', \n    'TOTALKWH_s': 'TOTALKWH_std', \n    'AVERAGEK_1': 'AVERAGEKWH_std', \n    'TOTALTHE_1': 'TOTALTHERM_std', \n    'AVERAGET_1': 'AVERAGETHERM_std',\n    'Wind Spe_1': 'Wind_Speed_std', \n    'Temperat_1': 'Temperature_std',\n    'Solar Ze_1': 'Solar_Zenith_Angle_std', \n}\nzip_cities_monthly_pge_gdf = zip_cities_monthly_pge_gdf.rename(rename_mapper, axis=1)\nzip_cities_monthly_pge_gdf['Solar_Zenith_Angle_raw'] = pd.to_numeric(zip_cities_monthly_pge_gdf['Solar_Zenith_Angle_raw'])\nzip_cities_monthly_pge_gdf['Temperature_raw'] = pd.to_numeric(zip_cities_monthly_pge_gdf['Temperature_raw'])",
      "execution_count": null,
      "outputs": []
    },
    {
      "cell_type": "code",
      "metadata": {
        "cell_id": "00005-267b8d79-1cc0-408b-b472-403be669a0f4",
        "deepnote_to_be_reexecuted": false,
        "source_hash": "81e5bf19",
        "execution_start": 1617923655304,
        "execution_millis": 247,
        "deepnote_cell_type": "code"
      },
      "source": "info(zip_cities_monthly_pge_gdf)",
      "execution_count": null,
      "outputs": [
        {
          "name": "stdout",
          "text": "Type:  <class 'geopandas.geodataframe.GeoDataFrame'>\nShape:  (136968, 36)\nColumns:  Index(['zip', 'city', 'state', 'latitude', 'longitude', 'timezone', 'dst',\n       'DATE', 'MONTH', 'YEAR', 'DAY', 'CUSTOMERCL', 'COMBINED',\n       'TOTALCUSTO_raw', 'TOTALKWH_raw', 'AVERAGEKWH_raw', 'TOTALTHERM_raw',\n       'AVERAGETHERM_raw', 'GHI_raw', 'DHI_raw', 'DNI_raw', 'Wind Speed',\n       'Temperature_raw', 'Solar_Zenith_Angle_raw', 'TOTALCUS_std',\n       'TOTALKWH_std', 'AVERAGEKWH_std', 'TOTALTHERM_std', 'AVERAGETHERM_std',\n       'GHI_std', 'DHI_std', 'DNI_std', 'Wind_Speed_std', 'Temperature_std',\n       'Solar_Zenith_Angle_std', 'geometry'],\n      dtype='object')\n",
          "output_type": "stream"
        },
        {
          "data": {
            "application/vnd.deepnote.dataframe.v2+json": {
              "error": "Traceback (most recent call last):\n  File \"/shared-libs/code/variable_explorer.py\", line 123, in dataframe_formatter\n    return { MIME_TYPE: describe_pd_dataframe(df) }\n  File \"/shared-libs/code/variable_explorer_helpers.py\", line 148, in describe_pd_dataframe\n    if (is_type_numeric(column.dtype)):\n  File \"/shared-libs/code/variable_explorer_helpers.py\", line 11, in is_type_numeric\n    return np.issubdtype(dtype, np.number)\n  File \"/shared-libs/python3.7/py/lib/python3.7/site-packages/numpy/core/numerictypes.py\", line 388, in issubdtype\n    arg1 = dtype(arg1).type\nTypeError: Cannot interpret '<geopandas.array.GeometryDtype object at 0x7f9cbb937450>' as a data type\n"
            },
            "text/plain": "     zip      city state   latitude  longitude timezone dst        DATE  \\\n0  95717  Gold Run    CA  39.177026  -120.8451       -8   1  2013-01-01   \n1  95717  Gold Run    CA  39.177026  -120.8451       -8   1  2013-02-01   \n2  95717  Gold Run    CA  39.177026  -120.8451       -8   1  2013-03-01   \n3  95717  Gold Run    CA  39.177026  -120.8451       -8   1  2013-04-01   \n4  95717  Gold Run    CA  39.177026  -120.8451       -8   1  2013-05-01   \n\n   MONTH  YEAR  ...  AVERAGEKWH_std TOTALTHERM_std AVERAGETHERM_std   GHI_std  \\\n0      1  2013  ...       -0.590525       -0.46156        -0.348278 -1.198043   \n1      2  2013  ...       -0.590525       -0.46156        -0.348278 -0.621567   \n2      3  2013  ...       -0.590525       -0.46156        -0.348278 -0.341841   \n3      4  2013  ...       -0.590525       -0.46156        -0.348278  0.639561   \n4      5  2013  ...        0.278279       -0.46156        -0.348278  0.985208   \n\n    DHI_std   DNI_std  Wind_Speed_std  Temperature_std Solar_Zenith_Angle_std  \\\n0 -1.373894 -0.709183       -1.894812        -2.255195               1.283431   \n1 -0.990437 -0.041747       -1.837832        -1.881118               0.787489   \n2  0.775179 -0.762886       -1.841878        -1.193114               0.089457   \n3  0.659686  0.529226       -1.828112        -0.713287              -0.643372   \n4  0.972799  0.807632       -1.802339        -0.107015              -1.200288   \n\n                      geometry  \n0  POINT (-120.84510 39.17703)  \n1  POINT (-120.84510 39.17703)  \n2  POINT (-120.84510 39.17703)  \n3  POINT (-120.84510 39.17703)  \n4  POINT (-120.84510 39.17703)  \n\n[5 rows x 36 columns]",
            "text/html": "<div>\n<style scoped>\n    .dataframe tbody tr th:only-of-type {\n        vertical-align: middle;\n    }\n\n    .dataframe tbody tr th {\n        vertical-align: top;\n    }\n\n    .dataframe thead th {\n        text-align: right;\n    }\n</style>\n<table border=\"1\" class=\"dataframe\">\n  <thead>\n    <tr style=\"text-align: right;\">\n      <th></th>\n      <th>zip</th>\n      <th>city</th>\n      <th>state</th>\n      <th>latitude</th>\n      <th>longitude</th>\n      <th>timezone</th>\n      <th>dst</th>\n      <th>DATE</th>\n      <th>MONTH</th>\n      <th>YEAR</th>\n      <th>...</th>\n      <th>AVERAGEKWH_std</th>\n      <th>TOTALTHERM_std</th>\n      <th>AVERAGETHERM_std</th>\n      <th>GHI_std</th>\n      <th>DHI_std</th>\n      <th>DNI_std</th>\n      <th>Wind_Speed_std</th>\n      <th>Temperature_std</th>\n      <th>Solar_Zenith_Angle_std</th>\n      <th>geometry</th>\n    </tr>\n  </thead>\n  <tbody>\n    <tr>\n      <th>0</th>\n      <td>95717</td>\n      <td>Gold Run</td>\n      <td>CA</td>\n      <td>39.177026</td>\n      <td>-120.8451</td>\n      <td>-8</td>\n      <td>1</td>\n      <td>2013-01-01</td>\n      <td>1</td>\n      <td>2013</td>\n      <td>...</td>\n      <td>-0.590525</td>\n      <td>-0.46156</td>\n      <td>-0.348278</td>\n      <td>-1.198043</td>\n      <td>-1.373894</td>\n      <td>-0.709183</td>\n      <td>-1.894812</td>\n      <td>-2.255195</td>\n      <td>1.283431</td>\n      <td>POINT (-120.84510 39.17703)</td>\n    </tr>\n    <tr>\n      <th>1</th>\n      <td>95717</td>\n      <td>Gold Run</td>\n      <td>CA</td>\n      <td>39.177026</td>\n      <td>-120.8451</td>\n      <td>-8</td>\n      <td>1</td>\n      <td>2013-02-01</td>\n      <td>2</td>\n      <td>2013</td>\n      <td>...</td>\n      <td>-0.590525</td>\n      <td>-0.46156</td>\n      <td>-0.348278</td>\n      <td>-0.621567</td>\n      <td>-0.990437</td>\n      <td>-0.041747</td>\n      <td>-1.837832</td>\n      <td>-1.881118</td>\n      <td>0.787489</td>\n      <td>POINT (-120.84510 39.17703)</td>\n    </tr>\n    <tr>\n      <th>2</th>\n      <td>95717</td>\n      <td>Gold Run</td>\n      <td>CA</td>\n      <td>39.177026</td>\n      <td>-120.8451</td>\n      <td>-8</td>\n      <td>1</td>\n      <td>2013-03-01</td>\n      <td>3</td>\n      <td>2013</td>\n      <td>...</td>\n      <td>-0.590525</td>\n      <td>-0.46156</td>\n      <td>-0.348278</td>\n      <td>-0.341841</td>\n      <td>0.775179</td>\n      <td>-0.762886</td>\n      <td>-1.841878</td>\n      <td>-1.193114</td>\n      <td>0.089457</td>\n      <td>POINT (-120.84510 39.17703)</td>\n    </tr>\n    <tr>\n      <th>3</th>\n      <td>95717</td>\n      <td>Gold Run</td>\n      <td>CA</td>\n      <td>39.177026</td>\n      <td>-120.8451</td>\n      <td>-8</td>\n      <td>1</td>\n      <td>2013-04-01</td>\n      <td>4</td>\n      <td>2013</td>\n      <td>...</td>\n      <td>-0.590525</td>\n      <td>-0.46156</td>\n      <td>-0.348278</td>\n      <td>0.639561</td>\n      <td>0.659686</td>\n      <td>0.529226</td>\n      <td>-1.828112</td>\n      <td>-0.713287</td>\n      <td>-0.643372</td>\n      <td>POINT (-120.84510 39.17703)</td>\n    </tr>\n    <tr>\n      <th>4</th>\n      <td>95717</td>\n      <td>Gold Run</td>\n      <td>CA</td>\n      <td>39.177026</td>\n      <td>-120.8451</td>\n      <td>-8</td>\n      <td>1</td>\n      <td>2013-05-01</td>\n      <td>5</td>\n      <td>2013</td>\n      <td>...</td>\n      <td>0.278279</td>\n      <td>-0.46156</td>\n      <td>-0.348278</td>\n      <td>0.985208</td>\n      <td>0.972799</td>\n      <td>0.807632</td>\n      <td>-1.802339</td>\n      <td>-0.107015</td>\n      <td>-1.200288</td>\n      <td>POINT (-120.84510 39.17703)</td>\n    </tr>\n  </tbody>\n</table>\n<p>5 rows × 36 columns</p>\n</div>"
          },
          "metadata": {},
          "output_type": "display_data"
        }
      ]
    },
    {
      "cell_type": "markdown",
      "source": "### Sanity check geographic plots\n\n#### California should look like California\n\n#### PG&E dataset matches pg&e customers\nPG&E service area reference: https://www.pge.com/mybusiness/customerservice/otherrequests/treetrimming/territory/",
      "metadata": {
        "cell_id": "00017-2569a361-db0e-4285-8780-9e35c85d6475",
        "deepnote_cell_type": "markdown"
      }
    },
    {
      "cell_type": "markdown",
      "source": "## Overlaying PG&E/NREL in Bay Area Only\n\nBay Area traditionally consists of [9 counties](https://wikitravel.org/en/Bay_Area_(California)).\n\n<img src='https://wikitravel.org/upload/shared//thumb/b/bc/Bayarea_map.png/900px-Bayarea_map.png' style=\"width: 300px;\">\n\n\nWe will define \"Bay Area\" as a box that encloses the following coordinates `(lat, long)`:\n\n- South West corner: `(36.897966, -123.433313)`\n\n- North East corner: `(38.593263, -121.381268)`\n\nWith these coordinates, we'll need to only consider data in the PG&E/NREL dataset that falls within this region.",
      "metadata": {
        "cell_id": "00021-6e2e279e-1293-4fad-b9b5-d2bf226c3c21",
        "deepnote_cell_type": "markdown"
      }
    },
    {
      "cell_type": "code",
      "metadata": {
        "cell_id": "00022-bbad03df-b957-403f-950d-91bda3de0efb",
        "deepnote_to_be_reexecuted": false,
        "source_hash": "38424f68",
        "execution_start": 1617923738182,
        "execution_millis": 2,
        "deepnote_cell_type": "code"
      },
      "source": "approximate_bay_area_center_lat = 39.5769252\napproximate_bay_area_center_long = -122.2833322\n\n## for subsetting the ca counties\nbay_area_south_west_lat  = 36.897966    ## vertical\nbay_area_south_west_long = -123.433313 ## horizontal\nbay_area_north_east_lat  = 38.593263    ## vertical --> closer to north pole => higher values\nbay_area_north_east_long = -121.381268 ## horizontal --> west long < east long. west is more negative\n\n## for plotting boundaries\nbay_area_limit_south_west_lat  = 36.897966    ## vertical\nbay_area_limit_south_west_long = -123.75 ## horizontal\nbay_area_limit_north_east_lat  = 38.9    ## vertical --> closer to north pole => higher values\nbay_area_limit_north_east_long = -121.2 ## horizontal --> west long < east long. west is more negative\n",
      "execution_count": null,
      "outputs": []
    },
    {
      "cell_type": "markdown",
      "source": "### Filtering Bay Area Only Data\n",
      "metadata": {
        "tags": [],
        "cell_id": "00010-ea9d1d80-ef94-44c7-a8b8-d0c7985e7d25",
        "deepnote_cell_type": "markdown"
      }
    },
    {
      "cell_type": "markdown",
      "source": "#### Boxing the CA Counties Data",
      "metadata": {
        "cell_id": "00024-c06e7a24-9da4-45aa-92ce-57dcb0b7730a",
        "deepnote_cell_type": "markdown"
      }
    },
    {
      "cell_type": "markdown",
      "source": "#### Boxing the PG&E/NREL Data",
      "metadata": {
        "cell_id": "00028-90b71128-ec5e-43b4-9123-b4ff2f18228a",
        "deepnote_cell_type": "markdown"
      }
    },
    {
      "cell_type": "code",
      "metadata": {
        "cell_id": "00029-3e65d2e3-3e4a-48e6-a846-d8babe4f4a93",
        "deepnote_to_be_reexecuted": false,
        "source_hash": "70addfcd",
        "execution_start": 1617923925458,
        "execution_millis": 52,
        "deepnote_cell_type": "code"
      },
      "source": "zip_cities_monthly_pge_gdf.columns",
      "execution_count": null,
      "outputs": [
        {
          "output_type": "execute_result",
          "execution_count": 14,
          "data": {
            "text/plain": "Index(['zip', 'city', 'state', 'latitude', 'longitude', 'timezone', 'dst',\n       'DATE', 'MONTH', 'YEAR', 'DAY', 'CUSTOMERCL', 'COMBINED',\n       'TOTALCUSTO_raw', 'TOTALKWH_raw', 'AVERAGEKWH_raw', 'TOTALTHERM_raw',\n       'AVERAGETHERM_raw', 'GHI_raw', 'DHI_raw', 'DNI_raw', 'Wind Speed',\n       'Temperature_raw', 'Solar_Zenith_Angle_raw', 'TOTALCUS_std',\n       'TOTALKWH_std', 'AVERAGEKWH_std', 'TOTALTHERM_std', 'AVERAGETHERM_std',\n       'GHI_std', 'DHI_std', 'DNI_std', 'Wind_Speed_std', 'Temperature_std',\n       'Solar_Zenith_Angle_std', 'geometry'],\n      dtype='object')"
          },
          "metadata": {}
        }
      ]
    },
    {
      "cell_type": "code",
      "metadata": {
        "cell_id": "00030-d318e2b3-7d31-4569-a741-30f3fd1facc8",
        "deepnote_to_be_reexecuted": false,
        "source_hash": "5707170a",
        "execution_start": 1617923925508,
        "execution_millis": 152,
        "deepnote_cell_type": "code"
      },
      "source": "## subset south west\nbay_area_monthly_pge_nrel = zip_cities_monthly_pge_gdf[ (bay_area_south_west_long <= zip_cities_monthly_pge_gdf['longitude']) & (bay_area_south_west_lat <= zip_cities_monthly_pge_gdf['latitude']) ]\n\n## subst north east\nbay_area_monthly_pge_nrel = bay_area_monthly_pge_nrel[ (bay_area_monthly_pge_nrel['longitude'] <= bay_area_north_east_long) & (bay_area_monthly_pge_nrel['latitude'] <= bay_area_north_east_lat) ]\n",
      "execution_count": null,
      "outputs": []
    },
    {
      "cell_type": "code",
      "metadata": {
        "cell_id": "00031-6511affa-42f6-4b36-9e92-7b03ad607bbd",
        "deepnote_to_be_reexecuted": false,
        "source_hash": "99ac43bd",
        "execution_start": 1617923939547,
        "execution_millis": 6,
        "deepnote_cell_type": "code"
      },
      "source": "## Viewing how many measurements are the box\nbay_area_monthly_pge_nrel.shape",
      "execution_count": null,
      "outputs": [
        {
          "output_type": "execute_result",
          "execution_count": 16,
          "data": {
            "text/plain": "(56683, 36)"
          },
          "metadata": {}
        }
      ]
    },
    {
      "cell_type": "code",
      "metadata": {
        "cell_id": "00033-77f73cab-2c1e-4328-b161-15d381f5d01c",
        "deepnote_to_be_reexecuted": false,
        "source_hash": "7323ff7d",
        "execution_start": 1617923948078,
        "execution_millis": 5,
        "deepnote_cell_type": "code"
      },
      "source": "bay_area_monthly_pge_nrel.columns",
      "execution_count": null,
      "outputs": [
        {
          "output_type": "execute_result",
          "execution_count": 17,
          "data": {
            "text/plain": "Index(['zip', 'city', 'state', 'latitude', 'longitude', 'timezone', 'dst',\n       'DATE', 'MONTH', 'YEAR', 'DAY', 'CUSTOMERCL', 'COMBINED',\n       'TOTALCUSTO_raw', 'TOTALKWH_raw', 'AVERAGEKWH_raw', 'TOTALTHERM_raw',\n       'AVERAGETHERM_raw', 'GHI_raw', 'DHI_raw', 'DNI_raw', 'Wind Speed',\n       'Temperature_raw', 'Solar_Zenith_Angle_raw', 'TOTALCUS_std',\n       'TOTALKWH_std', 'AVERAGEKWH_std', 'TOTALTHERM_std', 'AVERAGETHERM_std',\n       'GHI_std', 'DHI_std', 'DNI_std', 'Wind_Speed_std', 'Temperature_std',\n       'Solar_Zenith_Angle_std', 'geometry'],\n      dtype='object')"
          },
          "metadata": {}
        }
      ]
    },
    {
      "cell_type": "code",
      "metadata": {
        "tags": [],
        "cell_id": "00017-0a36a502-580d-4f51-bc72-c5f9f22a68cd",
        "deepnote_to_be_reexecuted": false,
        "source_hash": "ea1a69aa",
        "execution_start": 1617924040853,
        "execution_millis": 1,
        "deepnote_cell_type": "code"
      },
      "source": "measurment_cols = [\"MONTH\",'TOTALCUSTO_raw', 'TOTALKWH_raw', 'AVERAGEKWH_raw', 'TOTALTHERM_raw',\n       'AVERAGETHERM_raw', 'GHI_raw', 'DHI_raw', 'DNI_raw', 'Wind Speed',\n       'Temperature_raw', 'Solar_Zenith_Angle_raw', 'TOTALCUS_std',\n       'TOTALKWH_std', 'AVERAGEKWH_std', 'TOTALTHERM_std', 'AVERAGETHERM_std',\n       'GHI_std', 'DHI_std', 'DNI_std', 'Wind_Speed_std', 'Temperature_std',\n       'Solar_Zenith_Angle_std']",
      "execution_count": null,
      "outputs": []
    },
    {
      "cell_type": "code",
      "metadata": {
        "cell_id": "00040-1843ecbf-3656-4ff9-a7e0-188471d37e78",
        "deepnote_to_be_reexecuted": false,
        "source_hash": "46a8c5e",
        "execution_start": 1617924040854,
        "execution_millis": 1044,
        "deepnote_cell_type": "code"
      },
      "source": "corr_vis(bay_area_monthly_pge_nrel, measurment_cols, meas='AVERAGETHERM_std')",
      "execution_count": null,
      "outputs": [
        {
          "output_type": "execute_result",
          "execution_count": 19,
          "data": {
            "application/vnd.deepnote.dataframe.v2+json": {
              "row_count": 22,
              "column_count": 2,
              "columns": [
                {
                  "name": "feature",
                  "dtype": "object",
                  "stats": {
                    "unique_count": 22,
                    "nan_count": 0,
                    "categories": [
                      {
                        "name": "AVERAGEKWH_raw",
                        "count": 1
                      },
                      {
                        "name": "AVERAGEKWH_std",
                        "count": 1
                      },
                      {
                        "name": "20 others",
                        "count": 20
                      }
                    ]
                  }
                },
                {
                  "name": "spearman",
                  "dtype": "float64",
                  "stats": {
                    "unique_count": 17,
                    "nan_count": 0,
                    "min": -0.7738148146040801,
                    "max": 1,
                    "histogram": [
                      {
                        "bin_start": -0.7738148146040801,
                        "bin_end": -0.5964333331436721,
                        "count": 4
                      },
                      {
                        "bin_start": -0.5964333331436721,
                        "bin_end": -0.4190518516832641,
                        "count": 0
                      },
                      {
                        "bin_start": -0.4190518516832641,
                        "bin_end": -0.2416703702228561,
                        "count": 0
                      },
                      {
                        "bin_start": -0.2416703702228561,
                        "bin_end": -0.0642888887624481,
                        "count": 10
                      },
                      {
                        "bin_start": -0.0642888887624481,
                        "bin_end": 0.1130925926979599,
                        "count": 2
                      },
                      {
                        "bin_start": 0.1130925926979599,
                        "bin_end": 0.2904740741583679,
                        "count": 2
                      },
                      {
                        "bin_start": 0.2904740741583679,
                        "bin_end": 0.4678555556187759,
                        "count": 0
                      },
                      {
                        "bin_start": 0.4678555556187759,
                        "bin_end": 0.6452370370791839,
                        "count": 0
                      },
                      {
                        "bin_start": 0.6452370370791839,
                        "bin_end": 0.8226185185395919,
                        "count": 0
                      },
                      {
                        "bin_start": 0.8226185185395919,
                        "bin_end": 1,
                        "count": 4
                      }
                    ]
                  }
                },
                {
                  "name": "_deepnote_index_column",
                  "dtype": "int64"
                }
              ],
              "rows_top": [
                {
                  "feature": "AVERAGEKWH_raw",
                  "spearman": -0.7738148146040801,
                  "_deepnote_index_column": 2
                },
                {
                  "feature": "AVERAGEKWH_std",
                  "spearman": -0.7738148146040801,
                  "_deepnote_index_column": 13
                },
                {
                  "feature": "TOTALKWH_raw",
                  "spearman": -0.7738145932849931,
                  "_deepnote_index_column": 1
                },
                {
                  "feature": "TOTALKWH_std",
                  "spearman": -0.7738145932849931,
                  "_deepnote_index_column": 12
                },
                {
                  "feature": "Temperature_raw",
                  "spearman": -0.18640983062038385,
                  "_deepnote_index_column": 9
                },
                {
                  "feature": "Temperature_std",
                  "spearman": -0.18640981795104547,
                  "_deepnote_index_column": 20
                },
                {
                  "feature": "GHI_std",
                  "spearman": -0.1714515181197754,
                  "_deepnote_index_column": 16
                },
                {
                  "feature": "DNI_std",
                  "spearman": -0.16495781421215802,
                  "_deepnote_index_column": 18
                },
                {
                  "feature": "DNI_raw",
                  "spearman": -0.16234508199214773,
                  "_deepnote_index_column": 7
                },
                {
                  "feature": "DHI_std",
                  "spearman": -0.12862461941749462,
                  "_deepnote_index_column": 17
                },
                {
                  "feature": "DHI_raw",
                  "spearman": -0.12649394017840945,
                  "_deepnote_index_column": 6
                },
                {
                  "feature": "Wind Speed",
                  "spearman": -0.09314959514790608,
                  "_deepnote_index_column": 8
                },
                {
                  "feature": "Wind_Speed_std",
                  "spearman": -0.09314951569687603,
                  "_deepnote_index_column": 19
                },
                {
                  "feature": "GHI_raw",
                  "spearman": -0.07411725145169921,
                  "_deepnote_index_column": 5
                },
                {
                  "feature": "TOTALCUSTO_raw",
                  "spearman": 0.059369127401168925,
                  "_deepnote_index_column": 0
                },
                {
                  "feature": "TOTALCUS_std",
                  "spearman": 0.059369127401168925,
                  "_deepnote_index_column": 11
                },
                {
                  "feature": "Solar_Zenith_Angle_std",
                  "spearman": 0.17017962686342772,
                  "_deepnote_index_column": 21
                },
                {
                  "feature": "Solar_Zenith_Angle_raw",
                  "spearman": 0.1701796477008221,
                  "_deepnote_index_column": 10
                },
                {
                  "feature": "TOTALTHERM_std",
                  "spearman": 0.9384897317321567,
                  "_deepnote_index_column": 14
                },
                {
                  "feature": "TOTALTHERM_raw",
                  "spearman": 0.9384897317321567,
                  "_deepnote_index_column": 3
                },
                {
                  "feature": "AVERAGETHERM_raw",
                  "spearman": 1,
                  "_deepnote_index_column": 4
                },
                {
                  "feature": "AVERAGETHERM_std",
                  "spearman": 1,
                  "_deepnote_index_column": 15
                }
              ],
              "rows_bottom": null
            },
            "text/plain": "                   feature  spearman\n2           AVERAGEKWH_raw -0.773815\n13          AVERAGEKWH_std -0.773815\n1             TOTALKWH_raw -0.773815\n12            TOTALKWH_std -0.773815\n9          Temperature_raw -0.186410\n20         Temperature_std -0.186410\n16                 GHI_std -0.171452\n18                 DNI_std -0.164958\n7                  DNI_raw -0.162345\n17                 DHI_std -0.128625\n6                  DHI_raw -0.126494\n8               Wind Speed -0.093150\n19          Wind_Speed_std -0.093150\n5                  GHI_raw -0.074117\n0           TOTALCUSTO_raw  0.059369\n11            TOTALCUS_std  0.059369\n21  Solar_Zenith_Angle_std  0.170180\n10  Solar_Zenith_Angle_raw  0.170180\n14          TOTALTHERM_std  0.938490\n3           TOTALTHERM_raw  0.938490\n4         AVERAGETHERM_raw  1.000000\n15        AVERAGETHERM_std  1.000000",
            "text/html": "<div>\n<style scoped>\n    .dataframe tbody tr th:only-of-type {\n        vertical-align: middle;\n    }\n\n    .dataframe tbody tr th {\n        vertical-align: top;\n    }\n\n    .dataframe thead th {\n        text-align: right;\n    }\n</style>\n<table border=\"1\" class=\"dataframe\">\n  <thead>\n    <tr style=\"text-align: right;\">\n      <th></th>\n      <th>feature</th>\n      <th>spearman</th>\n    </tr>\n  </thead>\n  <tbody>\n    <tr>\n      <th>2</th>\n      <td>AVERAGEKWH_raw</td>\n      <td>-0.773815</td>\n    </tr>\n    <tr>\n      <th>13</th>\n      <td>AVERAGEKWH_std</td>\n      <td>-0.773815</td>\n    </tr>\n    <tr>\n      <th>1</th>\n      <td>TOTALKWH_raw</td>\n      <td>-0.773815</td>\n    </tr>\n    <tr>\n      <th>12</th>\n      <td>TOTALKWH_std</td>\n      <td>-0.773815</td>\n    </tr>\n    <tr>\n      <th>9</th>\n      <td>Temperature_raw</td>\n      <td>-0.186410</td>\n    </tr>\n    <tr>\n      <th>20</th>\n      <td>Temperature_std</td>\n      <td>-0.186410</td>\n    </tr>\n    <tr>\n      <th>16</th>\n      <td>GHI_std</td>\n      <td>-0.171452</td>\n    </tr>\n    <tr>\n      <th>18</th>\n      <td>DNI_std</td>\n      <td>-0.164958</td>\n    </tr>\n    <tr>\n      <th>7</th>\n      <td>DNI_raw</td>\n      <td>-0.162345</td>\n    </tr>\n    <tr>\n      <th>17</th>\n      <td>DHI_std</td>\n      <td>-0.128625</td>\n    </tr>\n    <tr>\n      <th>6</th>\n      <td>DHI_raw</td>\n      <td>-0.126494</td>\n    </tr>\n    <tr>\n      <th>8</th>\n      <td>Wind Speed</td>\n      <td>-0.093150</td>\n    </tr>\n    <tr>\n      <th>19</th>\n      <td>Wind_Speed_std</td>\n      <td>-0.093150</td>\n    </tr>\n    <tr>\n      <th>5</th>\n      <td>GHI_raw</td>\n      <td>-0.074117</td>\n    </tr>\n    <tr>\n      <th>0</th>\n      <td>TOTALCUSTO_raw</td>\n      <td>0.059369</td>\n    </tr>\n    <tr>\n      <th>11</th>\n      <td>TOTALCUS_std</td>\n      <td>0.059369</td>\n    </tr>\n    <tr>\n      <th>21</th>\n      <td>Solar_Zenith_Angle_std</td>\n      <td>0.170180</td>\n    </tr>\n    <tr>\n      <th>10</th>\n      <td>Solar_Zenith_Angle_raw</td>\n      <td>0.170180</td>\n    </tr>\n    <tr>\n      <th>14</th>\n      <td>TOTALTHERM_std</td>\n      <td>0.938490</td>\n    </tr>\n    <tr>\n      <th>3</th>\n      <td>TOTALTHERM_raw</td>\n      <td>0.938490</td>\n    </tr>\n    <tr>\n      <th>4</th>\n      <td>AVERAGETHERM_raw</td>\n      <td>1.000000</td>\n    </tr>\n    <tr>\n      <th>15</th>\n      <td>AVERAGETHERM_std</td>\n      <td>1.000000</td>\n    </tr>\n  </tbody>\n</table>\n</div>"
          },
          "metadata": {}
        },
        {
          "data": {
            "text/plain": "<Figure size 432x396 with 1 Axes>",
            "image/png": "[encoded data removed]"
          },
          "metadata": {
            "needs_background": "light"
          },
          "output_type": "display_data"
        }
      ]
    },
    {
      "cell_type": "code",
      "metadata": {
        "tags": [],
        "cell_id": "00019-d26ebe04-bf78-4aeb-8729-65c871ef0d3d",
        "deepnote_to_be_reexecuted": false,
        "source_hash": "636f38d1",
        "execution_millis": 36,
        "execution_start": 1617924653285,
        "deepnote_cell_type": "code"
      },
      "source": "X_cols = ['MONTH',\n        'GHI_raw', 'DHI_raw', 'DNI_raw', 'Wind Speed'    , 'Temperature_raw', 'Solar_Zenith_Angle_raw', \n        'GHI_std', 'DHI_std', 'DNI_std', 'Wind_Speed_std', 'Temperature_std', 'Solar_Zenith_Angle_std']\nbay_area_monthly_elec_pge_nrel = bay_area_monthly_pge_nrel[bay_area_monthly_pge_nrel['TOTALTHERM_raw']==0]\nelec_X_train = bay_area_monthly_elec_pge_nrel[X_cols]\n\n## targetted_y can be changed to predict other values,\ntargetted_y = 'AVERAGEKWH_raw'\nelec_Y_train = bay_area_monthly_elec_pge_nrel[targetted_y]\n",
      "execution_count": null,
      "outputs": []
    },
    {
      "cell_type": "code",
      "metadata": {
        "tags": [],
        "cell_id": "00020-e4839305-df17-4503-9feb-b0d457dfed99",
        "deepnote_to_be_reexecuted": false,
        "source_hash": "52919b6c",
        "execution_millis": 12,
        "execution_start": 1617924694807,
        "deepnote_cell_type": "code"
      },
      "source": "## Trainv-validation split \nX_train, X_val, y_train, y_val = train_test_split(elec_X_train,elec_Y_train,test_size=0.2,\n                                                  random_state=0)\n\n",
      "execution_count": null,
      "outputs": []
    },
    {
      "cell_type": "markdown",
      "source": "### Simple Linear Regression\n\n$$ \\hat{\\vec{y}} = \\hat{\\vec\\beta}*\\vec{x}$$\n\nCoefficients in $ \\hat{\\vec\\beta}$  are simply scalars that are fit to the best-fit line. That is, simply solving least squares\n\n$$ \\hat{\\vec\\beta} = (X^TX)^{-1}X^TY$$\n",
      "metadata": {
        "tags": [],
        "cell_id": "00021-e84ceda4-ea18-4b7e-b790-fc24f796cd91",
        "deepnote_cell_type": "markdown"
      }
    },
    {
      "cell_type": "markdown",
      "source": "",
      "metadata": {
        "tags": [],
        "cell_id": "00022-50a7ba9d-95ca-4d9d-83e6-8f410e655824",
        "deepnote_cell_type": "markdown"
      }
    },
    {
      "cell_type": "code",
      "metadata": {
        "tags": [],
        "cell_id": "00023-9fe85350-198a-4575-b7fa-1e70668d4bcb",
        "deepnote_to_be_reexecuted": false,
        "source_hash": "e9c7cf19",
        "execution_millis": 365,
        "execution_start": 1617925076263,
        "deepnote_cell_type": "code"
      },
      "source": "lm = LinearRegression()\nlm.fit(X_train, y_train)\n\n## apply model to training data\nlm_train_pred = lm.predict(X_train)\nlm_train_mse = mean_squared_error(y_true=y_train, y_pred=lm_train_pred)\n\n## apply model to test data\nlm_test_pred = lm.predict(X_val)\nlm_test_mse = mean_squared_error(y_true=y_val, y_pred=lm_test_pred)\nprint(\"Training MSE\", lm_train_mse)\nprint(\"Testing MSE\", lm_test_mse)",
      "execution_count": null,
      "outputs": [
        {
          "name": "stdout",
          "text": "Training MSE 62108.54563960087\nTesting MSE 64468.0082181623\n",
          "output_type": "stream"
        }
      ]
    },
    {
      "cell_type": "code",
      "metadata": {
        "tags": [],
        "cell_id": "00024-4604c353-97da-4179-b101-153c2dba6420",
        "deepnote_to_be_reexecuted": false,
        "source_hash": "31180f39",
        "execution_millis": 195,
        "execution_start": 1617925131452,
        "deepnote_cell_type": "code"
      },
      "source": "plt.scatter(y_train, lm_train_pred)",
      "execution_count": null,
      "outputs": [
        {
          "output_type": "execute_result",
          "execution_count": 38,
          "data": {
            "text/plain": "<matplotlib.collections.PathCollection at 0x7f9c97c1d0d0>"
          },
          "metadata": {}
        },
        {
          "data": {
            "text/plain": "<Figure size 432x288 with 1 Axes>",
            "image/png": "[encoded data removed]"
          },
          "metadata": {
            "needs_background": "light"
          },
          "output_type": "display_data"
        }
      ]
    },
    {
      "cell_type": "code",
      "metadata": {
        "tags": [],
        "cell_id": "00025-7c6b7b41-05f4-4bcd-9ba6-de28276704cd",
        "deepnote_to_be_reexecuted": false,
        "source_hash": "1966dfcd",
        "execution_millis": 132,
        "execution_start": 1617925406277,
        "deepnote_cell_type": "code"
      },
      "source": "plt.scatter(y_val, lm_test_pred-y_val)",
      "execution_count": null,
      "outputs": [
        {
          "output_type": "execute_result",
          "execution_count": 40,
          "data": {
            "text/plain": "<matplotlib.collections.PathCollection at 0x7f9c97a66e90>"
          },
          "metadata": {}
        },
        {
          "data": {
            "text/plain": "<Figure size 432x288 with 1 Axes>",
            "image/png": "[encoded data removed]"
          },
          "metadata": {
            "needs_background": "light"
          },
          "output_type": "display_data"
        }
      ]
    },
    {
      "cell_type": "code",
      "metadata": {
        "tags": [],
        "cell_id": "00026-2a052f54-11c2-4a60-b27b-2b7ed35a5015",
        "deepnote_to_be_reexecuted": false,
        "source_hash": "732975c1",
        "execution_millis": 123,
        "execution_start": 1617925464601,
        "deepnote_cell_type": "code"
      },
      "source": "plt.scatter(y_train, lm_train_pred-y_train)",
      "execution_count": null,
      "outputs": [
        {
          "output_type": "execute_result",
          "execution_count": 41,
          "data": {
            "text/plain": "<matplotlib.collections.PathCollection at 0x7f9c97a822d0>"
          },
          "metadata": {}
        },
        {
          "data": {
            "text/plain": "<Figure size 432x288 with 1 Axes>",
            "image/png": "[encoded data removed]"
          },
          "metadata": {
            "needs_background": "light"
          },
          "output_type": "display_data"
        }
      ]
    },
    {
      "cell_type": "code",
      "metadata": {
        "tags": [],
        "cell_id": "00027-d0714964-fc7b-4800-91ac-44a368e84a14",
        "deepnote_to_be_reexecuted": false,
        "source_hash": "b623e53d",
        "execution_start": 1617925380077,
        "execution_millis": 3,
        "deepnote_cell_type": "code"
      },
      "source": "",
      "execution_count": null,
      "outputs": []
    },
    {
      "cell_type": "code",
      "metadata": {
        "tags": [],
        "cell_id": "00028-3d1db3a7-a781-45e1-bf59-39c71f0e0ea6",
        "deepnote_to_be_reexecuted": false,
        "source_hash": "c3a19257",
        "execution_start": 1617925989634,
        "execution_millis": 35768,
        "deepnote_cell_type": "code"
      },
      "source": "svr_regr = svm.SVR()\nsvr_regr.fit(X_train, y_train)",
      "execution_count": null,
      "outputs": [
        {
          "output_type": "execute_result",
          "execution_count": 43,
          "data": {
            "text/plain": "SVR()"
          },
          "metadata": {}
        }
      ]
    },
    {
      "cell_type": "code",
      "metadata": {
        "tags": [],
        "cell_id": "00029-40825d34-a6e8-47be-bdba-f99ef1d993c9",
        "deepnote_to_be_reexecuted": false,
        "source_hash": "6081c2c5",
        "execution_millis": 40346,
        "execution_start": 1617926105189,
        "deepnote_cell_type": "code"
      },
      "source": "## apply model to training data\nsvr_train_pred = svr_regr.predict(X_train)\nsvr_train_mse = mean_squared_error(y_true=y_train, y_pred=svr_train_pred)\n\n## apply model to test data\nsvr_test_pred = svr_regr.predict(X_val)\nsvr_test_mse = mean_squared_error(y_true=y_val, y_pred=svr_test_pred)\nprint(\"Training MSE\", svr_train_mse)\nprint(\"Testing MSE\", svr_test_mse)",
      "execution_count": null,
      "outputs": [
        {
          "name": "stdout",
          "text": "Training MSE 61778.092673429004\nTesting MSE 64263.70166864641\n",
          "output_type": "stream"
        }
      ]
    },
    {
      "cell_type": "code",
      "metadata": {
        "tags": [],
        "cell_id": "00030-5c3828aa-d37d-4464-af51-fbff8dcc9a7f",
        "deepnote_cell_type": "code"
      },
      "source": "sns.scatterplot(x=y_val)",
      "execution_count": null,
      "outputs": []
    },
    {
      "cell_type": "markdown",
      "source": "<a style='text-decoration:none;line-height:16px;display:flex;color:#5B5B62;padding:10px;justify-content:end;' href='https://deepnote.com?utm_source=created-in-deepnote-cell&projectId=c2f0e727-e6a4-4b2a-b180-a91c3a609ecf' target=\"_blank\">\n<img alt='Created in deepnote.com' style='display:inline;max-height:16px;margin:0px;margin-right:7.5px;' src='data:image/svg+xml;base64,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' > </img>\nCreated in <span style='font-weight:600;margin-left:4px;'>Deepnote</span></a>",
      "metadata": {
        "tags": [],
        "created_in_deepnote_cell": true,
        "deepnote_cell_type": "markdown"
      }
    }
  ],
  "nbformat": 4,
  "nbformat_minor": 2,
  "metadata": {
    "kernelspec": {
      "display_name": "Python 3",
      "language": "python",
      "name": "python3"
    },
    "language_info": {
      "codemirror_mode": {
        "name": "ipython",
        "version": 3
      },
      "file_extension": ".py",
      "mimetype": "text/x-python",
      "name": "python",
      "nbconvert_exporter": "python",
      "pygments_lexer": "ipython3",
      "version": "3.7.3"
    },
    "deepnote_notebook_id": "540f74d8-bc42-4b70-8b8a-4e278d572e45",
    "deepnote": {},
    "deepnote_execution_queue": []
  }
}