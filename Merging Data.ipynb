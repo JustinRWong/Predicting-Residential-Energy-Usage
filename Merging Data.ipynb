{
  "cells": [
    {
      "cell_type": "markdown",
      "source": "## Merging the pg&e data set with geographic data(city and lat/long coords)",
      "metadata": {
        "cell_id": "00000-e145ce9b-1347-4626-82f1-10bafb3bff89",
        "deepnote_cell_type": "markdown"
      }
    },
    {
      "cell_type": "code",
      "metadata": {
        "cell_id": "00001-13e355bc-994a-44e3-a822-adbdfdcb85d5",
        "deepnote_cell_type": "code"
      },
      "source": "import pandas as pd\nimport numpy as np\nimport os\nimport pprint as pp\nimport geopandas as gpd\n\n\n# !pip install geopandas",
      "outputs": [],
      "execution_count": null
    },
    {
      "cell_type": "code",
      "metadata": {
        "cell_id": "00002-27f751a8-94c8-4ea9-bb29-81ad27a207a5",
        "deepnote_cell_type": "code"
      },
      "source": "!ls data",
      "outputs": [
        {
          "name": "stdout",
          "output_type": "stream",
          "text": "7882666-5bdc46db47d9515269ab12ed6fb2850377fd869e.zip\r\nBay Area Zip Codes + City Name - Sheet1.csv\r\n\u001b[34mCA_Counties\u001b[m\u001b[m\r\n\u001b[34mPGE\u001b[m\u001b[m\r\nUS-Zip-Codes-from-2013-Government-Data.csv\r\n\u001b[34mus-zip-code-latitude-and-longitude\u001b[m\u001b[m\r\nus-zip-code-latitude-and-longitude.csv\r\nus-zip-code-latitude-and-longitude.zip\r\n"
        }
      ],
      "execution_count": null
    },
    {
      "cell_type": "code",
      "metadata": {
        "cell_id": "00003-30794ae8-6abd-43ea-bb34-3a9eba20c997",
        "deepnote_cell_type": "code"
      },
      "source": "def info(df):\n    print(df.shape)\n    print(df.columns)\n    display(df.head())",
      "outputs": [],
      "execution_count": null
    },
    {
      "cell_type": "code",
      "metadata": {
        "cell_id": "00004-14b19139-a35d-4884-866a-f59a71647c93",
        "deepnote_cell_type": "code"
      },
      "source": "full_cleaned_fn = \"cleaned_data/pge-monthly-full-cleaned-by-zip_2013-2020.csv\"\nfull_cleaned_df = pd.read_csv(full_cleaned_fn) ## ZIPCODE neds tot be string ttype to merge with latlong mapping dataframe\n\ninfo(full_cleaned_df)\ntype(full_cleaned_df['ZIPCODE'][0])",
      "outputs": [
        {
          "name": "stdout",
          "output_type": "stream",
          "text": "(154283, 17)\nIndex(['Unnamed: 0', 'ZIPCODE', 'DATE', 'MONTH', 'YEAR', 'DAY',\n       'CUSTOMERCLASS', 'COMBINED', 'TOTALCUSTOMERS', 'TOTALKWH', 'AVERAGEKWH',\n       'TOTALTHERMS', 'AVERAGETHERMS', 'Calculated AVGKWH',\n       'Calculated AVGTHERMS', 'AVGKWH Diff', 'AVGTHERMS Diff'],\n      dtype='object')\n"
        },
        {
          "data": {
            "text/html": "<div>\n<style scoped>\n    .dataframe tbody tr th:only-of-type {\n        vertical-align: middle;\n    }\n\n    .dataframe tbody tr th {\n        vertical-align: top;\n    }\n\n    .dataframe thead th {\n        text-align: right;\n    }\n</style>\n<table border=\"1\" class=\"dataframe\">\n  <thead>\n    <tr style=\"text-align: right;\">\n      <th></th>\n      <th>Unnamed: 0</th>\n      <th>ZIPCODE</th>\n      <th>DATE</th>\n      <th>MONTH</th>\n      <th>YEAR</th>\n      <th>DAY</th>\n      <th>CUSTOMERCLASS</th>\n      <th>COMBINED</th>\n      <th>TOTALCUSTOMERS</th>\n      <th>TOTALKWH</th>\n      <th>AVERAGEKWH</th>\n      <th>TOTALTHERMS</th>\n      <th>AVERAGETHERMS</th>\n      <th>Calculated AVGKWH</th>\n      <th>Calculated AVGTHERMS</th>\n      <th>AVGKWH Diff</th>\n      <th>AVGTHERMS Diff</th>\n    </tr>\n  </thead>\n  <tbody>\n    <tr>\n      <th>0</th>\n      <td>0</td>\n      <td>93101</td>\n      <td>2013-01-01</td>\n      <td>1</td>\n      <td>2013</td>\n      <td>1</td>\n      <td>Elec- Residential</td>\n      <td>Y</td>\n      <td>0</td>\n      <td>0</td>\n      <td>0</td>\n      <td>0</td>\n      <td>0</td>\n      <td>0.0</td>\n      <td>0.0</td>\n      <td>0.0</td>\n      <td>0.0</td>\n    </tr>\n    <tr>\n      <th>1</th>\n      <td>1</td>\n      <td>93101</td>\n      <td>2013-02-01</td>\n      <td>2</td>\n      <td>2013</td>\n      <td>1</td>\n      <td>Elec- Residential</td>\n      <td>Y</td>\n      <td>0</td>\n      <td>0</td>\n      <td>0</td>\n      <td>0</td>\n      <td>0</td>\n      <td>0.0</td>\n      <td>0.0</td>\n      <td>0.0</td>\n      <td>0.0</td>\n    </tr>\n    <tr>\n      <th>2</th>\n      <td>2</td>\n      <td>93101</td>\n      <td>2013-03-01</td>\n      <td>3</td>\n      <td>2013</td>\n      <td>1</td>\n      <td>Elec- Residential</td>\n      <td>Y</td>\n      <td>0</td>\n      <td>0</td>\n      <td>0</td>\n      <td>0</td>\n      <td>0</td>\n      <td>0.0</td>\n      <td>0.0</td>\n      <td>0.0</td>\n      <td>0.0</td>\n    </tr>\n    <tr>\n      <th>3</th>\n      <td>3</td>\n      <td>93105</td>\n      <td>2013-01-01</td>\n      <td>1</td>\n      <td>2013</td>\n      <td>1</td>\n      <td>Elec- Residential</td>\n      <td>Y</td>\n      <td>0</td>\n      <td>0</td>\n      <td>0</td>\n      <td>0</td>\n      <td>0</td>\n      <td>0.0</td>\n      <td>0.0</td>\n      <td>0.0</td>\n      <td>0.0</td>\n    </tr>\n    <tr>\n      <th>4</th>\n      <td>4</td>\n      <td>93105</td>\n      <td>2013-02-01</td>\n      <td>2</td>\n      <td>2013</td>\n      <td>1</td>\n      <td>Elec- Residential</td>\n      <td>Y</td>\n      <td>0</td>\n      <td>0</td>\n      <td>0</td>\n      <td>0</td>\n      <td>0</td>\n      <td>0.0</td>\n      <td>0.0</td>\n      <td>0.0</td>\n      <td>0.0</td>\n    </tr>\n  </tbody>\n</table>\n</div>",
            "text/plain": "   Unnamed: 0  ZIPCODE        DATE  MONTH  YEAR  DAY      CUSTOMERCLASS  \\\n0           0    93101  2013-01-01      1  2013    1  Elec- Residential   \n1           1    93101  2013-02-01      2  2013    1  Elec- Residential   \n2           2    93101  2013-03-01      3  2013    1  Elec- Residential   \n3           3    93105  2013-01-01      1  2013    1  Elec- Residential   \n4           4    93105  2013-02-01      2  2013    1  Elec- Residential   \n\n  COMBINED  TOTALCUSTOMERS  TOTALKWH  AVERAGEKWH  TOTALTHERMS  AVERAGETHERMS  \\\n0        Y               0         0           0            0              0   \n1        Y               0         0           0            0              0   \n2        Y               0         0           0            0              0   \n3        Y               0         0           0            0              0   \n4        Y               0         0           0            0              0   \n\n   Calculated AVGKWH  Calculated AVGTHERMS  AVGKWH Diff  AVGTHERMS Diff  \n0                0.0                   0.0          0.0             0.0  \n1                0.0                   0.0          0.0             0.0  \n2                0.0                   0.0          0.0             0.0  \n3                0.0                   0.0          0.0             0.0  \n4                0.0                   0.0          0.0             0.0  "
          },
          "metadata": {},
          "output_type": "display_data"
        },
        {
          "data": {
            "text/plain": "numpy.int64"
          },
          "execution_count": 51,
          "metadata": {},
          "output_type": "execute_result"
        }
      ],
      "execution_count": null
    },
    {
      "cell_type": "code",
      "metadata": {
        "cell_id": "00005-9dc1bb9b-723b-4118-9efd-3b4c3afe86e8",
        "deepnote_cell_type": "code"
      },
      "source": "## this is the geographic data in a shapefile\nzipcodes_to_latlong_fn = \"data/US-Zip-Codes-from-2013-Government-Data.csv\"\nzipcodes_to_latlong_df = pd.read_csv(zipcodes_to_latlong_fn)\n\ninfo(zipcodes_to_latlong_df)\ntype(zipcodes_to_latlong_df['ZIP'][0])",
      "outputs": [
        {
          "name": "stdout",
          "output_type": "stream",
          "text": "(33144, 3)\nIndex(['ZIP', 'LAT', 'LNG'], dtype='object')\n"
        },
        {
          "data": {
            "text/html": "<div>\n<style scoped>\n    .dataframe tbody tr th:only-of-type {\n        vertical-align: middle;\n    }\n\n    .dataframe tbody tr th {\n        vertical-align: top;\n    }\n\n    .dataframe thead th {\n        text-align: right;\n    }\n</style>\n<table border=\"1\" class=\"dataframe\">\n  <thead>\n    <tr style=\"text-align: right;\">\n      <th></th>\n      <th>ZIP</th>\n      <th>LAT</th>\n      <th>LNG</th>\n    </tr>\n  </thead>\n  <tbody>\n    <tr>\n      <th>0</th>\n      <td>601</td>\n      <td>18.180555</td>\n      <td>-66.749961</td>\n    </tr>\n    <tr>\n      <th>1</th>\n      <td>602</td>\n      <td>18.361945</td>\n      <td>-67.175597</td>\n    </tr>\n    <tr>\n      <th>2</th>\n      <td>603</td>\n      <td>18.455183</td>\n      <td>-67.119887</td>\n    </tr>\n    <tr>\n      <th>3</th>\n      <td>606</td>\n      <td>18.158345</td>\n      <td>-66.932911</td>\n    </tr>\n    <tr>\n      <th>4</th>\n      <td>610</td>\n      <td>18.295366</td>\n      <td>-67.125135</td>\n    </tr>\n  </tbody>\n</table>\n</div>",
            "text/plain": "   ZIP        LAT        LNG\n0  601  18.180555 -66.749961\n1  602  18.361945 -67.175597\n2  603  18.455183 -67.119887\n3  606  18.158345 -66.932911\n4  610  18.295366 -67.125135"
          },
          "metadata": {},
          "output_type": "display_data"
        },
        {
          "data": {
            "text/plain": "numpy.int64"
          },
          "execution_count": 5,
          "metadata": {},
          "output_type": "execute_result"
        }
      ],
      "execution_count": null
    },
    {
      "cell_type": "code",
      "metadata": {
        "cell_id": "00006-1edb62da-b58e-4274-a2d4-0b7b8435408d",
        "deepnote_cell_type": "code"
      },
      "source": "zipcodes_to_latlong_df[zipcodes_to_latlong_df['ZIP']== 94080]",
      "outputs": [
        {
          "data": {
            "text/html": "<div>\n<style scoped>\n    .dataframe tbody tr th:only-of-type {\n        vertical-align: middle;\n    }\n\n    .dataframe tbody tr th {\n        vertical-align: top;\n    }\n\n    .dataframe thead th {\n        text-align: right;\n    }\n</style>\n<table border=\"1\" class=\"dataframe\">\n  <thead>\n    <tr style=\"text-align: right;\">\n      <th></th>\n      <th>ZIP</th>\n      <th>LAT</th>\n      <th>LNG</th>\n    </tr>\n  </thead>\n  <tbody>\n    <tr>\n      <th>30982</th>\n      <td>94080</td>\n      <td>37.65549</td>\n      <td>-122.422075</td>\n    </tr>\n  </tbody>\n</table>\n</div>",
            "text/plain": "         ZIP       LAT         LNG\n30982  94080  37.65549 -122.422075"
          },
          "execution_count": 24,
          "metadata": {},
          "output_type": "execute_result"
        }
      ],
      "execution_count": null
    },
    {
      "cell_type": "code",
      "metadata": {
        "cell_id": "00007-8f55c7ab-3ca9-43a0-8d8f-f5a4a8e1d63c",
        "deepnote_cell_type": "code"
      },
      "source": "pge_with_zip_coords = pd.merge(left=full_cleaned_df, right=zipcodes_to_latlong_df, left_on=\"ZIPCODE\", right_on='ZIP', how='left')",
      "outputs": [],
      "execution_count": null
    },
    {
      "cell_type": "markdown",
      "source": "There are some zip codes in the pg&e dataset that is not in the zip codes to longitude latitude mapping. We need to fill these out.\n\nThe process to do this is:\n1. find the missing zipcodes\n2. add rows to the zipcodes dataframe that includes these zip codes and their corresponding coordinates\n3. remerge with the pg&e data",
      "metadata": {
        "cell_id": "00008-3c982017-ce59-407b-b1f3-420b6fd9406c",
        "deepnote_cell_type": "markdown"
      }
    },
    {
      "cell_type": "code",
      "metadata": {
        "cell_id": "00009-704f4c35-a5f9-4546-b57a-17a28756afd5",
        "deepnote_cell_type": "code"
      },
      "source": "pge_with_zip_coords[pge_with_zip_coords['ZIP'].isna()]['ZIPCODE'].unique()\n",
      "outputs": [
        {
          "data": {
            "text/plain": "array([93435, 93737, 93741, 94018, 94562, 95044, 95141, 95229, 95309,\n       95419, 95480, 95518, 95613, 95656, 95676, 95913, 95972, 94035,\n       96162, 95836, 93944])"
          },
          "execution_count": 16,
          "metadata": {},
          "output_type": "execute_result"
        }
      ],
      "execution_count": null
    },
    {
      "cell_type": "code",
      "metadata": {
        "cell_id": "00010-b27af590-a5bd-47d1-a553-7b722bc98a71",
        "deepnote_cell_type": "code"
      },
      "source": "missing_zips_coords = {\n    93435: {'LAT': 35.5034, 'LNG': -121.0392},\n    93737: {'LAT': 36.7513, 'LNG': -119.6441},\n    93741: {'LAT': 36.7668, 'LNG': -119.7994},\n    94018: {'LAT': 37.5017, 'LNG': -122.4688},\n    94562: {'LAT': 38.4373, 'LNG': -122.4030},\n    95044: {'LAT': 37.1583, 'LNG': -121.9865},\n    95141: {'LAT': 37.1677, 'LNG': -121.7708},\n    95229: {'LAT': 38.0900, 'LNG': -120.4700},\n    95309: {'LAT': 37.8697, 'LNG': -120.4170},\n    95419: {'LAT': 38.4249, 'LNG': -122.9582},\n    95480: {'LAT': 38.7445, 'LNG': -123.4776},\n    95518: {'LAT': 40.8700, 'LNG': -124.0800},\n    95613: {'LAT': 38.7973, 'LNG': -120.8883},\n    95656: {'LAT': 38.5516, 'LNG': -120.7307},\n    95676: {'LAT': 38.8773, 'LNG': -121.6853},\n    95913: {'LAT': 39.6330, 'LNG': -122.2100},\n    95972: {'LAT': 39.4539, 'LNG': -121.3141},\n    94035: {'LAT': 37.4175, 'LNG': -122.0525},\n    96162: {'LAT': 39.3200, 'LNG': -120.3000},\n    95836: {'LAT': 38.7143, 'LNG': -121.5405},\n    93944: {'LAT': 36.6032, 'LNG': -121.9146}\n}\nmissing_zips_df=pd.DataFrame(missing_zips_coords).T.reset_index().rename({'index':'ZIP'}, axis=1)\nmissing_zips_df.head()",
      "outputs": [
        {
          "data": {
            "text/html": "<div>\n<style scoped>\n    .dataframe tbody tr th:only-of-type {\n        vertical-align: middle;\n    }\n\n    .dataframe tbody tr th {\n        vertical-align: top;\n    }\n\n    .dataframe thead th {\n        text-align: right;\n    }\n</style>\n<table border=\"1\" class=\"dataframe\">\n  <thead>\n    <tr style=\"text-align: right;\">\n      <th></th>\n      <th>ZIP</th>\n      <th>LAT</th>\n      <th>LNG</th>\n    </tr>\n  </thead>\n  <tbody>\n    <tr>\n      <th>0</th>\n      <td>93435</td>\n      <td>35.5034</td>\n      <td>-121.0392</td>\n    </tr>\n    <tr>\n      <th>1</th>\n      <td>93737</td>\n      <td>36.7513</td>\n      <td>-119.6441</td>\n    </tr>\n    <tr>\n      <th>2</th>\n      <td>93741</td>\n      <td>36.7668</td>\n      <td>-119.7994</td>\n    </tr>\n    <tr>\n      <th>3</th>\n      <td>94018</td>\n      <td>37.5017</td>\n      <td>-122.4688</td>\n    </tr>\n    <tr>\n      <th>4</th>\n      <td>94562</td>\n      <td>38.4373</td>\n      <td>-122.4030</td>\n    </tr>\n  </tbody>\n</table>\n</div>",
            "text/plain": "     ZIP      LAT       LNG\n0  93435  35.5034 -121.0392\n1  93737  36.7513 -119.6441\n2  93741  36.7668 -119.7994\n3  94018  37.5017 -122.4688\n4  94562  38.4373 -122.4030"
          },
          "execution_count": 34,
          "metadata": {},
          "output_type": "execute_result"
        }
      ],
      "execution_count": null
    },
    {
      "cell_type": "code",
      "metadata": {
        "cell_id": "00011-e8755884-4e2c-4805-b3a0-12d6b7914417",
        "deepnote_cell_type": "code"
      },
      "source": "zipcodes_to_latlong_all_df = pd.concat([missing_zips_df, zipcodes_to_latlong_df])\ninfo(zipcodes_to_latlong_all_df)",
      "outputs": [
        {
          "name": "stdout",
          "output_type": "stream",
          "text": "(33165, 3)\nIndex(['ZIP', 'LAT', 'LNG'], dtype='object')\n"
        },
        {
          "data": {
            "text/html": "<div>\n<style scoped>\n    .dataframe tbody tr th:only-of-type {\n        vertical-align: middle;\n    }\n\n    .dataframe tbody tr th {\n        vertical-align: top;\n    }\n\n    .dataframe thead th {\n        text-align: right;\n    }\n</style>\n<table border=\"1\" class=\"dataframe\">\n  <thead>\n    <tr style=\"text-align: right;\">\n      <th></th>\n      <th>ZIP</th>\n      <th>LAT</th>\n      <th>LNG</th>\n    </tr>\n  </thead>\n  <tbody>\n    <tr>\n      <th>0</th>\n      <td>93435</td>\n      <td>35.5034</td>\n      <td>-121.0392</td>\n    </tr>\n    <tr>\n      <th>1</th>\n      <td>93737</td>\n      <td>36.7513</td>\n      <td>-119.6441</td>\n    </tr>\n    <tr>\n      <th>2</th>\n      <td>93741</td>\n      <td>36.7668</td>\n      <td>-119.7994</td>\n    </tr>\n    <tr>\n      <th>3</th>\n      <td>94018</td>\n      <td>37.5017</td>\n      <td>-122.4688</td>\n    </tr>\n    <tr>\n      <th>4</th>\n      <td>94562</td>\n      <td>38.4373</td>\n      <td>-122.4030</td>\n    </tr>\n  </tbody>\n</table>\n</div>",
            "text/plain": "     ZIP      LAT       LNG\n0  93435  35.5034 -121.0392\n1  93737  36.7513 -119.6441\n2  93741  36.7668 -119.7994\n3  94018  37.5017 -122.4688\n4  94562  38.4373 -122.4030"
          },
          "metadata": {},
          "output_type": "display_data"
        }
      ],
      "execution_count": null
    },
    {
      "cell_type": "code",
      "metadata": {
        "cell_id": "00012-0a054d29-698c-45f1-8620-c93b1e6b5aac",
        "deepnote_cell_type": "code"
      },
      "source": "pge_with_all_zip_coords = pd.merge(left=full_cleaned_df, right=zipcodes_to_latlong_all_df, left_on=\"ZIPCODE\", right_on='ZIP', how='inner')\ninfo(pge_with_all_zip_coords)\n",
      "outputs": [
        {
          "name": "stdout",
          "output_type": "stream",
          "text": "(154283, 20)\nIndex(['Unnamed: 0', 'ZIPCODE', 'DATE', 'MONTH', 'YEAR', 'DAY',\n       'CUSTOMERCLASS', 'COMBINED', 'TOTALCUSTOMERS', 'TOTALKWH', 'AVERAGEKWH',\n       'TOTALTHERMS', 'AVERAGETHERMS', 'Calculated AVGKWH',\n       'Calculated AVGTHERMS', 'AVGKWH Diff', 'AVGTHERMS Diff', 'ZIP', 'LAT',\n       'LNG'],\n      dtype='object')\n"
        },
        {
          "data": {
            "text/html": "<div>\n<style scoped>\n    .dataframe tbody tr th:only-of-type {\n        vertical-align: middle;\n    }\n\n    .dataframe tbody tr th {\n        vertical-align: top;\n    }\n\n    .dataframe thead th {\n        text-align: right;\n    }\n</style>\n<table border=\"1\" class=\"dataframe\">\n  <thead>\n    <tr style=\"text-align: right;\">\n      <th></th>\n      <th>Unnamed: 0</th>\n      <th>ZIPCODE</th>\n      <th>DATE</th>\n      <th>MONTH</th>\n      <th>YEAR</th>\n      <th>DAY</th>\n      <th>CUSTOMERCLASS</th>\n      <th>COMBINED</th>\n      <th>TOTALCUSTOMERS</th>\n      <th>TOTALKWH</th>\n      <th>AVERAGEKWH</th>\n      <th>TOTALTHERMS</th>\n      <th>AVERAGETHERMS</th>\n      <th>Calculated AVGKWH</th>\n      <th>Calculated AVGTHERMS</th>\n      <th>AVGKWH Diff</th>\n      <th>AVGTHERMS Diff</th>\n      <th>ZIP</th>\n      <th>LAT</th>\n      <th>LNG</th>\n    </tr>\n  </thead>\n  <tbody>\n    <tr>\n      <th>0</th>\n      <td>0</td>\n      <td>93101</td>\n      <td>2013-01-01</td>\n      <td>1</td>\n      <td>2013</td>\n      <td>1</td>\n      <td>Elec- Residential</td>\n      <td>Y</td>\n      <td>0</td>\n      <td>0</td>\n      <td>0</td>\n      <td>0</td>\n      <td>0</td>\n      <td>0.0</td>\n      <td>0.0</td>\n      <td>0.0</td>\n      <td>0.0</td>\n      <td>93101</td>\n      <td>34.418979</td>\n      <td>-119.709166</td>\n    </tr>\n    <tr>\n      <th>1</th>\n      <td>1</td>\n      <td>93101</td>\n      <td>2013-02-01</td>\n      <td>2</td>\n      <td>2013</td>\n      <td>1</td>\n      <td>Elec- Residential</td>\n      <td>Y</td>\n      <td>0</td>\n      <td>0</td>\n      <td>0</td>\n      <td>0</td>\n      <td>0</td>\n      <td>0.0</td>\n      <td>0.0</td>\n      <td>0.0</td>\n      <td>0.0</td>\n      <td>93101</td>\n      <td>34.418979</td>\n      <td>-119.709166</td>\n    </tr>\n    <tr>\n      <th>2</th>\n      <td>2</td>\n      <td>93101</td>\n      <td>2013-03-01</td>\n      <td>3</td>\n      <td>2013</td>\n      <td>1</td>\n      <td>Elec- Residential</td>\n      <td>Y</td>\n      <td>0</td>\n      <td>0</td>\n      <td>0</td>\n      <td>0</td>\n      <td>0</td>\n      <td>0.0</td>\n      <td>0.0</td>\n      <td>0.0</td>\n      <td>0.0</td>\n      <td>93101</td>\n      <td>34.418979</td>\n      <td>-119.709166</td>\n    </tr>\n    <tr>\n      <th>3</th>\n      <td>4341</td>\n      <td>93101</td>\n      <td>2013-04-01</td>\n      <td>4</td>\n      <td>2013</td>\n      <td>1</td>\n      <td>Elec- Residential</td>\n      <td>Y</td>\n      <td>0</td>\n      <td>0</td>\n      <td>0</td>\n      <td>0</td>\n      <td>0</td>\n      <td>0.0</td>\n      <td>0.0</td>\n      <td>0.0</td>\n      <td>0.0</td>\n      <td>93101</td>\n      <td>34.418979</td>\n      <td>-119.709166</td>\n    </tr>\n    <tr>\n      <th>4</th>\n      <td>4342</td>\n      <td>93101</td>\n      <td>2013-05-01</td>\n      <td>5</td>\n      <td>2013</td>\n      <td>1</td>\n      <td>Elec- Residential</td>\n      <td>Y</td>\n      <td>0</td>\n      <td>0</td>\n      <td>0</td>\n      <td>0</td>\n      <td>0</td>\n      <td>0.0</td>\n      <td>0.0</td>\n      <td>0.0</td>\n      <td>0.0</td>\n      <td>93101</td>\n      <td>34.418979</td>\n      <td>-119.709166</td>\n    </tr>\n  </tbody>\n</table>\n</div>",
            "text/plain": "   Unnamed: 0  ZIPCODE        DATE  MONTH  YEAR  DAY      CUSTOMERCLASS  \\\n0           0    93101  2013-01-01      1  2013    1  Elec- Residential   \n1           1    93101  2013-02-01      2  2013    1  Elec- Residential   \n2           2    93101  2013-03-01      3  2013    1  Elec- Residential   \n3        4341    93101  2013-04-01      4  2013    1  Elec- Residential   \n4        4342    93101  2013-05-01      5  2013    1  Elec- Residential   \n\n  COMBINED  TOTALCUSTOMERS  TOTALKWH  AVERAGEKWH  TOTALTHERMS  AVERAGETHERMS  \\\n0        Y               0         0           0            0              0   \n1        Y               0         0           0            0              0   \n2        Y               0         0           0            0              0   \n3        Y               0         0           0            0              0   \n4        Y               0         0           0            0              0   \n\n   Calculated AVGKWH  Calculated AVGTHERMS  AVGKWH Diff  AVGTHERMS Diff  \\\n0                0.0                   0.0          0.0             0.0   \n1                0.0                   0.0          0.0             0.0   \n2                0.0                   0.0          0.0             0.0   \n3                0.0                   0.0          0.0             0.0   \n4                0.0                   0.0          0.0             0.0   \n\n     ZIP        LAT         LNG  \n0  93101  34.418979 -119.709166  \n1  93101  34.418979 -119.709166  \n2  93101  34.418979 -119.709166  \n3  93101  34.418979 -119.709166  \n4  93101  34.418979 -119.709166  "
          },
          "metadata": {},
          "output_type": "display_data"
        }
      ],
      "execution_count": null
    },
    {
      "cell_type": "code",
      "metadata": {
        "cell_id": "00013-13e65711-1774-4b13-bea8-038405f6d1d0",
        "deepnote_cell_type": "code"
      },
      "source": "## there should be no more zipcodes with missing coordinates in the pg&e dataset\npge_with_all_zip_coords[pge_with_all_zip_coords['ZIP'].isna()]['ZIPCODE'].unique()\n",
      "outputs": [
        {
          "data": {
            "text/plain": "array([], dtype=int64)"
          },
          "execution_count": 42,
          "metadata": {},
          "output_type": "execute_result"
        }
      ],
      "execution_count": null
    },
    {
      "cell_type": "code",
      "metadata": {
        "cell_id": "00014-798b80b9-8ddb-4792-9948-730d743a1b35",
        "deepnote_cell_type": "code"
      },
      "source": "zipcodes_to_latlong_gdf[zipcodes_to_latlong_gdf['zip']=='93314']",
      "outputs": [
        {
          "data": {
            "text/html": "<div>\n<style scoped>\n    .dataframe tbody tr th:only-of-type {\n        vertical-align: middle;\n    }\n\n    .dataframe tbody tr th {\n        vertical-align: top;\n    }\n\n    .dataframe thead th {\n        text-align: right;\n    }\n</style>\n<table border=\"1\" class=\"dataframe\">\n  <thead>\n    <tr style=\"text-align: right;\">\n      <th></th>\n      <th>Unnamed: 0</th>\n      <th>ZIPCODE</th>\n      <th>DATE</th>\n      <th>MONTH</th>\n      <th>YEAR</th>\n      <th>DAY</th>\n      <th>CUSTOMERCLASS</th>\n      <th>COMBINED</th>\n      <th>TOTALCUSTOMERS</th>\n      <th>TOTALKWH</th>\n      <th>AVERAGEKWH</th>\n      <th>TOTALTHERMS</th>\n      <th>AVERAGETHERMS</th>\n      <th>Calculated AVGKWH</th>\n      <th>Calculated AVGTHERMS</th>\n      <th>AVGKWH Diff</th>\n      <th>AVGTHERMS Diff</th>\n    </tr>\n  </thead>\n  <tbody>\n    <tr>\n      <th>144</th>\n      <td>144</td>\n      <td>93314</td>\n      <td>2013-01-01</td>\n      <td>1</td>\n      <td>2013</td>\n      <td>1</td>\n      <td>Elec- Residential</td>\n      <td>N</td>\n      <td>6719</td>\n      <td>5619273</td>\n      <td>836</td>\n      <td>0</td>\n      <td>0</td>\n      <td>836.325793</td>\n      <td>0.000000</td>\n      <td>0.325793</td>\n      <td>0.000000</td>\n    </tr>\n    <tr>\n      <th>145</th>\n      <td>145</td>\n      <td>93314</td>\n      <td>2013-02-01</td>\n      <td>2</td>\n      <td>2013</td>\n      <td>1</td>\n      <td>Elec- Residential</td>\n      <td>N</td>\n      <td>6870</td>\n      <td>4612359</td>\n      <td>671</td>\n      <td>0</td>\n      <td>0</td>\n      <td>671.376856</td>\n      <td>0.000000</td>\n      <td>0.376856</td>\n      <td>0.000000</td>\n    </tr>\n    <tr>\n      <th>146</th>\n      <td>146</td>\n      <td>93314</td>\n      <td>2013-03-01</td>\n      <td>3</td>\n      <td>2013</td>\n      <td>1</td>\n      <td>Elec- Residential</td>\n      <td>N</td>\n      <td>7150</td>\n      <td>4751023</td>\n      <td>664</td>\n      <td>0</td>\n      <td>0</td>\n      <td>664.478741</td>\n      <td>0.000000</td>\n      <td>0.478741</td>\n      <td>0.000000</td>\n    </tr>\n    <tr>\n      <th>2628</th>\n      <td>2628</td>\n      <td>93314</td>\n      <td>2013-01-01</td>\n      <td>1</td>\n      <td>2013</td>\n      <td>1</td>\n      <td>Gas- Residential</td>\n      <td>Y</td>\n      <td>897</td>\n      <td>0</td>\n      <td>0</td>\n      <td>92317</td>\n      <td>103</td>\n      <td>0.000000</td>\n      <td>102.917503</td>\n      <td>0.000000</td>\n      <td>-0.082497</td>\n    </tr>\n    <tr>\n      <th>2629</th>\n      <td>2629</td>\n      <td>93314</td>\n      <td>2013-02-01</td>\n      <td>2</td>\n      <td>2013</td>\n      <td>1</td>\n      <td>Gas- Residential</td>\n      <td>Y</td>\n      <td>907</td>\n      <td>0</td>\n      <td>0</td>\n      <td>59476</td>\n      <td>66</td>\n      <td>0.000000</td>\n      <td>65.574421</td>\n      <td>0.000000</td>\n      <td>-0.425579</td>\n    </tr>\n    <tr>\n      <th>...</th>\n      <td>...</td>\n      <td>...</td>\n      <td>...</td>\n      <td>...</td>\n      <td>...</td>\n      <td>...</td>\n      <td>...</td>\n      <td>...</td>\n      <td>...</td>\n      <td>...</td>\n      <td>...</td>\n      <td>...</td>\n      <td>...</td>\n      <td>...</td>\n      <td>...</td>\n      <td>...</td>\n      <td>...</td>\n    </tr>\n    <tr>\n      <th>150105</th>\n      <td>150105</td>\n      <td>93314</td>\n      <td>2020-11-01</td>\n      <td>11</td>\n      <td>2020</td>\n      <td>1</td>\n      <td>Elec- Residential</td>\n      <td>N</td>\n      <td>9945</td>\n      <td>4695586</td>\n      <td>472</td>\n      <td>0</td>\n      <td>0</td>\n      <td>472.155455</td>\n      <td>0.000000</td>\n      <td>0.155455</td>\n      <td>0.000000</td>\n    </tr>\n    <tr>\n      <th>150106</th>\n      <td>150106</td>\n      <td>93314</td>\n      <td>2020-12-01</td>\n      <td>12</td>\n      <td>2020</td>\n      <td>1</td>\n      <td>Elec- Residential</td>\n      <td>N</td>\n      <td>9962</td>\n      <td>6407995</td>\n      <td>643</td>\n      <td>0</td>\n      <td>0</td>\n      <td>643.243827</td>\n      <td>0.000000</td>\n      <td>0.243827</td>\n      <td>0.000000</td>\n    </tr>\n    <tr>\n      <th>152594</th>\n      <td>152594</td>\n      <td>93314</td>\n      <td>2020-10-01</td>\n      <td>10</td>\n      <td>2020</td>\n      <td>1</td>\n      <td>Gas- Residential</td>\n      <td>Y</td>\n      <td>1490</td>\n      <td>0</td>\n      <td>0</td>\n      <td>38468</td>\n      <td>26</td>\n      <td>0.000000</td>\n      <td>25.817450</td>\n      <td>0.000000</td>\n      <td>-0.182550</td>\n    </tr>\n    <tr>\n      <th>152595</th>\n      <td>152595</td>\n      <td>93314</td>\n      <td>2020-11-01</td>\n      <td>11</td>\n      <td>2020</td>\n      <td>1</td>\n      <td>Gas- Residential</td>\n      <td>Y</td>\n      <td>1502</td>\n      <td>0</td>\n      <td>0</td>\n      <td>68339</td>\n      <td>45</td>\n      <td>0.000000</td>\n      <td>45.498668</td>\n      <td>0.000000</td>\n      <td>0.498668</td>\n    </tr>\n    <tr>\n      <th>152596</th>\n      <td>152596</td>\n      <td>93314</td>\n      <td>2020-12-01</td>\n      <td>12</td>\n      <td>2020</td>\n      <td>1</td>\n      <td>Gas- Residential</td>\n      <td>Y</td>\n      <td>1516</td>\n      <td>0</td>\n      <td>0</td>\n      <td>115788</td>\n      <td>76</td>\n      <td>0.000000</td>\n      <td>76.377309</td>\n      <td>0.000000</td>\n      <td>0.377309</td>\n    </tr>\n  </tbody>\n</table>\n<p>212 rows × 17 columns</p>\n</div>",
            "text/plain": "        Unnamed: 0 ZIPCODE        DATE  MONTH  YEAR  DAY      CUSTOMERCLASS  \\\n144            144   93314  2013-01-01      1  2013    1  Elec- Residential   \n145            145   93314  2013-02-01      2  2013    1  Elec- Residential   \n146            146   93314  2013-03-01      3  2013    1  Elec- Residential   \n2628          2628   93314  2013-01-01      1  2013    1   Gas- Residential   \n2629          2629   93314  2013-02-01      2  2013    1   Gas- Residential   \n...            ...     ...         ...    ...   ...  ...                ...   \n150105      150105   93314  2020-11-01     11  2020    1  Elec- Residential   \n150106      150106   93314  2020-12-01     12  2020    1  Elec- Residential   \n152594      152594   93314  2020-10-01     10  2020    1   Gas- Residential   \n152595      152595   93314  2020-11-01     11  2020    1   Gas- Residential   \n152596      152596   93314  2020-12-01     12  2020    1   Gas- Residential   \n\n       COMBINED  TOTALCUSTOMERS  TOTALKWH  AVERAGEKWH  TOTALTHERMS  \\\n144           N            6719   5619273         836            0   \n145           N            6870   4612359         671            0   \n146           N            7150   4751023         664            0   \n2628          Y             897         0           0        92317   \n2629          Y             907         0           0        59476   \n...         ...             ...       ...         ...          ...   \n150105        N            9945   4695586         472            0   \n150106        N            9962   6407995         643            0   \n152594        Y            1490         0           0        38468   \n152595        Y            1502         0           0        68339   \n152596        Y            1516         0           0       115788   \n\n        AVERAGETHERMS  Calculated AVGKWH  Calculated AVGTHERMS  AVGKWH Diff  \\\n144                 0         836.325793              0.000000     0.325793   \n145                 0         671.376856              0.000000     0.376856   \n146                 0         664.478741              0.000000     0.478741   \n2628              103           0.000000            102.917503     0.000000   \n2629               66           0.000000             65.574421     0.000000   \n...               ...                ...                   ...          ...   \n150105              0         472.155455              0.000000     0.155455   \n150106              0         643.243827              0.000000     0.243827   \n152594             26           0.000000             25.817450     0.000000   \n152595             45           0.000000             45.498668     0.000000   \n152596             76           0.000000             76.377309     0.000000   \n\n        AVGTHERMS Diff  \n144           0.000000  \n145           0.000000  \n146           0.000000  \n2628         -0.082497  \n2629         -0.425579  \n...                ...  \n150105        0.000000  \n150106        0.000000  \n152594       -0.182550  \n152595        0.498668  \n152596        0.377309  \n\n[212 rows x 17 columns]"
          },
          "execution_count": 22,
          "metadata": {},
          "output_type": "execute_result"
        }
      ],
      "execution_count": null
    },
    {
      "cell_type": "code",
      "metadata": {
        "cell_id": "00015-05b3c46e-0e35-46c7-8d1a-997d49eb6ddd",
        "deepnote_cell_type": "code"
      },
      "source": "type(pge_with_all_zip_coords)",
      "outputs": [
        {
          "data": {
            "text/plain": "pandas.core.frame.DataFrame"
          },
          "execution_count": 44,
          "metadata": {},
          "output_type": "execute_result"
        }
      ],
      "execution_count": null
    },
    {
      "cell_type": "markdown",
      "source": "## Using gpd zips\nGPD is geopandas which will allow us to make nice geographical maps",
      "metadata": {
        "cell_id": "00016-28687b28-7449-4ff4-84d5-59260eeff16d",
        "deepnote_cell_type": "markdown"
      }
    },
    {
      "cell_type": "code",
      "metadata": {
        "cell_id": "00017-b307f766-d228-4897-8e1e-40880153094d",
        "deepnote_cell_type": "code"
      },
      "source": "zips_gpd = gpd.read_file('data/us-zip-code-latitude-and-longitude/us-zip-code-latitude-and-longitude.shp')",
      "outputs": [],
      "execution_count": null
    },
    {
      "cell_type": "code",
      "metadata": {
        "cell_id": "00018-bc931df1-b365-4837-982e-06ef436351d7",
        "deepnote_cell_type": "code"
      },
      "source": "f = gpd.read_file('cleaned_data/pge-monthly-consumption_2013-2020_with-zipcodes-and-cities.shp')\ninfo(f)",
      "outputs": [
        {
          "name": "stdout",
          "output_type": "stream",
          "text": "(33611, 21)\nIndex(['zip', 'city', 'state', 'latitude', 'longitude', 'timezone', 'dst',\n       'ZIPCODE', 'MONTH', 'YEAR', 'CUSTOMERCL', 'COMBINED', 'TOTALCUSTO',\n       'TOTALKWH', 'AVERAGEKWH', 'TOTALTHM', 'AVERAGETHM', 'TOTALTHERM',\n       'AVERAGETHE', 'City_1', 'geometry'],\n      dtype='object')\n"
        },
        {
          "data": {
            "text/html": "<div>\n<style scoped>\n    .dataframe tbody tr th:only-of-type {\n        vertical-align: middle;\n    }\n\n    .dataframe tbody tr th {\n        vertical-align: top;\n    }\n\n    .dataframe thead th {\n        text-align: right;\n    }\n</style>\n<table border=\"1\" class=\"dataframe\">\n  <thead>\n    <tr style=\"text-align: right;\">\n      <th></th>\n      <th>zip</th>\n      <th>city</th>\n      <th>state</th>\n      <th>latitude</th>\n      <th>longitude</th>\n      <th>timezone</th>\n      <th>dst</th>\n      <th>ZIPCODE</th>\n      <th>MONTH</th>\n      <th>YEAR</th>\n      <th>...</th>\n      <th>COMBINED</th>\n      <th>TOTALCUSTO</th>\n      <th>TOTALKWH</th>\n      <th>AVERAGEKWH</th>\n      <th>TOTALTHM</th>\n      <th>AVERAGETHM</th>\n      <th>TOTALTHERM</th>\n      <th>AVERAGETHE</th>\n      <th>City_1</th>\n      <th>geometry</th>\n    </tr>\n  </thead>\n  <tbody>\n    <tr>\n      <th>0</th>\n      <td>94564</td>\n      <td>Pinole</td>\n      <td>CA</td>\n      <td>37.997509</td>\n      <td>-122.29208</td>\n      <td>-8.0</td>\n      <td>1.0</td>\n      <td>94564</td>\n      <td>1</td>\n      <td>2013</td>\n      <td>...</td>\n      <td>N</td>\n      <td>6727</td>\n      <td>3787580</td>\n      <td>563</td>\n      <td>0</td>\n      <td>0</td>\n      <td>0</td>\n      <td>0</td>\n      <td>Pinole</td>\n      <td>POINT (-122.29208 37.99751)</td>\n    </tr>\n    <tr>\n      <th>1</th>\n      <td>94564</td>\n      <td>Pinole</td>\n      <td>CA</td>\n      <td>37.997509</td>\n      <td>-122.29208</td>\n      <td>-8.0</td>\n      <td>1.0</td>\n      <td>94564</td>\n      <td>2</td>\n      <td>2013</td>\n      <td>...</td>\n      <td>N</td>\n      <td>6725</td>\n      <td>3086143</td>\n      <td>459</td>\n      <td>0</td>\n      <td>0</td>\n      <td>0</td>\n      <td>0</td>\n      <td>Pinole</td>\n      <td>POINT (-122.29208 37.99751)</td>\n    </tr>\n    <tr>\n      <th>2</th>\n      <td>94564</td>\n      <td>Pinole</td>\n      <td>CA</td>\n      <td>37.997509</td>\n      <td>-122.29208</td>\n      <td>-8.0</td>\n      <td>1.0</td>\n      <td>94564</td>\n      <td>3</td>\n      <td>2013</td>\n      <td>...</td>\n      <td>N</td>\n      <td>6715</td>\n      <td>3091798</td>\n      <td>460</td>\n      <td>0</td>\n      <td>0</td>\n      <td>0</td>\n      <td>0</td>\n      <td>Pinole</td>\n      <td>POINT (-122.29208 37.99751)</td>\n    </tr>\n    <tr>\n      <th>3</th>\n      <td>94564</td>\n      <td>Pinole</td>\n      <td>CA</td>\n      <td>37.997509</td>\n      <td>-122.29208</td>\n      <td>-8.0</td>\n      <td>1.0</td>\n      <td>94564</td>\n      <td>1</td>\n      <td>2013</td>\n      <td>...</td>\n      <td>N</td>\n      <td>6166</td>\n      <td>0</td>\n      <td>0</td>\n      <td>562494</td>\n      <td>91</td>\n      <td>0</td>\n      <td>0</td>\n      <td>Pinole</td>\n      <td>POINT (-122.29208 37.99751)</td>\n    </tr>\n    <tr>\n      <th>4</th>\n      <td>94564</td>\n      <td>Pinole</td>\n      <td>CA</td>\n      <td>37.997509</td>\n      <td>-122.29208</td>\n      <td>-8.0</td>\n      <td>1.0</td>\n      <td>94564</td>\n      <td>2</td>\n      <td>2013</td>\n      <td>...</td>\n      <td>N</td>\n      <td>6172</td>\n      <td>0</td>\n      <td>0</td>\n      <td>388246</td>\n      <td>63</td>\n      <td>0</td>\n      <td>0</td>\n      <td>Pinole</td>\n      <td>POINT (-122.29208 37.99751)</td>\n    </tr>\n  </tbody>\n</table>\n<p>5 rows × 21 columns</p>\n</div>",
            "text/plain": "     zip    city state   latitude  longitude  timezone  dst ZIPCODE  MONTH  \\\n0  94564  Pinole    CA  37.997509 -122.29208      -8.0  1.0   94564      1   \n1  94564  Pinole    CA  37.997509 -122.29208      -8.0  1.0   94564      2   \n2  94564  Pinole    CA  37.997509 -122.29208      -8.0  1.0   94564      3   \n3  94564  Pinole    CA  37.997509 -122.29208      -8.0  1.0   94564      1   \n4  94564  Pinole    CA  37.997509 -122.29208      -8.0  1.0   94564      2   \n\n   YEAR  ... COMBINED TOTALCUSTO  TOTALKWH  AVERAGEKWH  TOTALTHM  AVERAGETHM  \\\n0  2013  ...        N       6727   3787580         563         0           0   \n1  2013  ...        N       6725   3086143         459         0           0   \n2  2013  ...        N       6715   3091798         460         0           0   \n3  2013  ...        N       6166         0           0    562494          91   \n4  2013  ...        N       6172         0           0    388246          63   \n\n   TOTALTHERM  AVERAGETHE  City_1                     geometry  \n0           0           0  Pinole  POINT (-122.29208 37.99751)  \n1           0           0  Pinole  POINT (-122.29208 37.99751)  \n2           0           0  Pinole  POINT (-122.29208 37.99751)  \n3           0           0  Pinole  POINT (-122.29208 37.99751)  \n4           0           0  Pinole  POINT (-122.29208 37.99751)  \n\n[5 rows x 21 columns]"
          },
          "metadata": {},
          "output_type": "display_data"
        }
      ],
      "execution_count": null
    },
    {
      "cell_type": "code",
      "metadata": {
        "cell_id": "00019-12c8ae72-d500-4c60-af3a-d1a759275289",
        "deepnote_cell_type": "code"
      },
      "source": "zips_gpd['zip'] = zips_gpd['zip'].astype('int')",
      "outputs": [],
      "execution_count": null
    },
    {
      "cell_type": "code",
      "metadata": {
        "cell_id": "00020-9e77834d-06cf-4d57-9447-6a651fb6898a",
        "deepnote_cell_type": "code"
      },
      "source": "pge_with_all_zip_coords_gpd = pd.merge(left=zips_gpd, right=full_cleaned_df, left_on=\"zip\", right_on='ZIPCODE', how='right')\ninfo(pge_with_all_zip_coords_gpd)\n",
      "outputs": [
        {
          "name": "stdout",
          "output_type": "stream",
          "text": "(154283, 25)\nIndex(['zip', 'city', 'state', 'latitude', 'longitude', 'timezone', 'dst',\n       'geometry', 'Unnamed: 0', 'ZIPCODE', 'DATE', 'MONTH', 'YEAR', 'DAY',\n       'CUSTOMERCLASS', 'COMBINED', 'TOTALCUSTOMERS', 'TOTALKWH', 'AVERAGEKWH',\n       'TOTALTHERMS', 'AVERAGETHERMS', 'Calculated AVGKWH',\n       'Calculated AVGTHERMS', 'AVGKWH Diff', 'AVGTHERMS Diff'],\n      dtype='object')\n"
        },
        {
          "data": {
            "text/html": "<div>\n<style scoped>\n    .dataframe tbody tr th:only-of-type {\n        vertical-align: middle;\n    }\n\n    .dataframe tbody tr th {\n        vertical-align: top;\n    }\n\n    .dataframe thead th {\n        text-align: right;\n    }\n</style>\n<table border=\"1\" class=\"dataframe\">\n  <thead>\n    <tr style=\"text-align: right;\">\n      <th></th>\n      <th>zip</th>\n      <th>city</th>\n      <th>state</th>\n      <th>latitude</th>\n      <th>longitude</th>\n      <th>timezone</th>\n      <th>dst</th>\n      <th>geometry</th>\n      <th>Unnamed: 0</th>\n      <th>ZIPCODE</th>\n      <th>...</th>\n      <th>COMBINED</th>\n      <th>TOTALCUSTOMERS</th>\n      <th>TOTALKWH</th>\n      <th>AVERAGEKWH</th>\n      <th>TOTALTHERMS</th>\n      <th>AVERAGETHERMS</th>\n      <th>Calculated AVGKWH</th>\n      <th>Calculated AVGTHERMS</th>\n      <th>AVGKWH Diff</th>\n      <th>AVGTHERMS Diff</th>\n    </tr>\n  </thead>\n  <tbody>\n    <tr>\n      <th>0</th>\n      <td>93101.0</td>\n      <td>Santa Barbara</td>\n      <td>CA</td>\n      <td>34.420163</td>\n      <td>-119.7065</td>\n      <td>-8.0</td>\n      <td>1.0</td>\n      <td>POINT (-119.70650 34.42016)</td>\n      <td>0</td>\n      <td>93101</td>\n      <td>...</td>\n      <td>Y</td>\n      <td>0</td>\n      <td>0</td>\n      <td>0</td>\n      <td>0</td>\n      <td>0</td>\n      <td>0.0</td>\n      <td>0.0</td>\n      <td>0.0</td>\n      <td>0.0</td>\n    </tr>\n    <tr>\n      <th>1</th>\n      <td>93101.0</td>\n      <td>Santa Barbara</td>\n      <td>CA</td>\n      <td>34.420163</td>\n      <td>-119.7065</td>\n      <td>-8.0</td>\n      <td>1.0</td>\n      <td>POINT (-119.70650 34.42016)</td>\n      <td>1</td>\n      <td>93101</td>\n      <td>...</td>\n      <td>Y</td>\n      <td>0</td>\n      <td>0</td>\n      <td>0</td>\n      <td>0</td>\n      <td>0</td>\n      <td>0.0</td>\n      <td>0.0</td>\n      <td>0.0</td>\n      <td>0.0</td>\n    </tr>\n    <tr>\n      <th>2</th>\n      <td>93101.0</td>\n      <td>Santa Barbara</td>\n      <td>CA</td>\n      <td>34.420163</td>\n      <td>-119.7065</td>\n      <td>-8.0</td>\n      <td>1.0</td>\n      <td>POINT (-119.70650 34.42016)</td>\n      <td>2</td>\n      <td>93101</td>\n      <td>...</td>\n      <td>Y</td>\n      <td>0</td>\n      <td>0</td>\n      <td>0</td>\n      <td>0</td>\n      <td>0</td>\n      <td>0.0</td>\n      <td>0.0</td>\n      <td>0.0</td>\n      <td>0.0</td>\n    </tr>\n    <tr>\n      <th>3</th>\n      <td>93101.0</td>\n      <td>Santa Barbara</td>\n      <td>CA</td>\n      <td>34.420163</td>\n      <td>-119.7065</td>\n      <td>-8.0</td>\n      <td>1.0</td>\n      <td>POINT (-119.70650 34.42016)</td>\n      <td>4341</td>\n      <td>93101</td>\n      <td>...</td>\n      <td>Y</td>\n      <td>0</td>\n      <td>0</td>\n      <td>0</td>\n      <td>0</td>\n      <td>0</td>\n      <td>0.0</td>\n      <td>0.0</td>\n      <td>0.0</td>\n      <td>0.0</td>\n    </tr>\n    <tr>\n      <th>4</th>\n      <td>93101.0</td>\n      <td>Santa Barbara</td>\n      <td>CA</td>\n      <td>34.420163</td>\n      <td>-119.7065</td>\n      <td>-8.0</td>\n      <td>1.0</td>\n      <td>POINT (-119.70650 34.42016)</td>\n      <td>4342</td>\n      <td>93101</td>\n      <td>...</td>\n      <td>Y</td>\n      <td>0</td>\n      <td>0</td>\n      <td>0</td>\n      <td>0</td>\n      <td>0</td>\n      <td>0.0</td>\n      <td>0.0</td>\n      <td>0.0</td>\n      <td>0.0</td>\n    </tr>\n  </tbody>\n</table>\n<p>5 rows × 25 columns</p>\n</div>",
            "text/plain": "       zip           city state   latitude  longitude  timezone  dst  \\\n0  93101.0  Santa Barbara    CA  34.420163  -119.7065      -8.0  1.0   \n1  93101.0  Santa Barbara    CA  34.420163  -119.7065      -8.0  1.0   \n2  93101.0  Santa Barbara    CA  34.420163  -119.7065      -8.0  1.0   \n3  93101.0  Santa Barbara    CA  34.420163  -119.7065      -8.0  1.0   \n4  93101.0  Santa Barbara    CA  34.420163  -119.7065      -8.0  1.0   \n\n                      geometry  Unnamed: 0  ZIPCODE  ... COMBINED  \\\n0  POINT (-119.70650 34.42016)           0    93101  ...        Y   \n1  POINT (-119.70650 34.42016)           1    93101  ...        Y   \n2  POINT (-119.70650 34.42016)           2    93101  ...        Y   \n3  POINT (-119.70650 34.42016)        4341    93101  ...        Y   \n4  POINT (-119.70650 34.42016)        4342    93101  ...        Y   \n\n   TOTALCUSTOMERS  TOTALKWH  AVERAGEKWH TOTALTHERMS AVERAGETHERMS  \\\n0               0         0           0           0             0   \n1               0         0           0           0             0   \n2               0         0           0           0             0   \n3               0         0           0           0             0   \n4               0         0           0           0             0   \n\n   Calculated AVGKWH  Calculated AVGTHERMS  AVGKWH Diff  AVGTHERMS Diff  \n0                0.0                   0.0          0.0             0.0  \n1                0.0                   0.0          0.0             0.0  \n2                0.0                   0.0          0.0             0.0  \n3                0.0                   0.0          0.0             0.0  \n4                0.0                   0.0          0.0             0.0  \n\n[5 rows x 25 columns]"
          },
          "metadata": {},
          "output_type": "display_data"
        }
      ],
      "execution_count": null
    },
    {
      "cell_type": "code",
      "metadata": {
        "cell_id": "00021-b462a535-4a1c-4f32-a1e0-22b090b99276",
        "deepnote_cell_type": "code"
      },
      "source": "pge_with_all_zip_coords_gpd[pge_with_all_zip_coords_gpd['zip'].isna()]['ZIPCODE'].unique()\n",
      "outputs": [
        {
          "data": {
            "text/plain": "array([93314, 93619, 93636, 93723, 93730, 93737, 94158, 94505, 94582,\n       95391, 95467, 95757, 95811])"
          },
          "execution_count": 54,
          "metadata": {},
          "output_type": "execute_result"
        }
      ],
      "execution_count": null
    },
    {
      "cell_type": "code",
      "metadata": {
        "cell_id": "00022-db7046fc-5e08-4323-96dd-5e3f19c51399",
        "deepnote_cell_type": "code"
      },
      "source": "missing_zips_in_gpdf = {\n    93314: {'city': 'Bakersfield',        'state': 'CA', 'latitude': 35.3821, 'longitude': -119.2088, 'timezone': -8.0, 'dst': 1.0 },\n    93619: {'city': 'Clovis',             'state': 'CA', 'latitude': 36.9113, 'longitude': -119.5804, 'timezone': -8.0, 'dst': 1.0 },\n    93636: {'city': 'Madera',             'state': 'CA', 'latitude': 36.9920, 'longitude': -119.8584, 'timezone': -8.0, 'dst': 1.0 },\n    93723: {'city': 'Fresno',             'state': 'CA', 'latitude': 36.7703, 'longitude': -119.9509, 'timezone': -8.0, 'dst': 1.0 },\n    93730: {'city': 'Fresno',             'state': 'CA', 'latitude': 36.9063, 'longitude': -119.7600, 'timezone': -8.0, 'dst': 1.0 },\n    93737: {'city': 'Fresno',             'state': 'CA', 'latitude': 36.7513, 'longitude': -119.6441, 'timezone': -8.0, 'dst': 1.0 },\n    94158: {'city': 'San Francisco',      'state': 'CA', 'latitude': 37.7748, 'longitude': -122.3873, 'timezone': -8.0, 'dst': 1.0 },\n    94505: {'city': 'Discovery Bay',      'state': 'CA', 'latitude': 37.9012, 'longitude': -121.6022, 'timezone': -8.0, 'dst': 1.0 },\n    94582: {'city': 'San Ramon',          'state': 'CA', 'latitude': 37.7639, 'longitude': -121.9132, 'timezone': -8.0, 'dst': 1.0 },\n    95391: {'city': 'Tracy',              'state': 'CA', 'latitude': 37.7582, 'longitude': -121.5484, 'timezone': -8.0, 'dst': 1.0 },\n    95467: {'city': 'Hidden Valley Lake', 'state': 'CA', 'latitude': 38.7977, 'longitude': -122.5429, 'timezone': -8.0, 'dst': 1.0 },\n    95757: {'city': 'Elk Grove',          'state': 'CA', 'latitude': 38.3592, 'longitude': -121.4228, 'timezone': -8.0, 'dst': 1.0 },\n    95811: {'city': 'Sacramnto',          'state': 'CA', 'latitude': 38.5967, 'longitude': -121.4942, 'timezone': -8.0, 'dst': 1.0 }\n}\n\nmissing_zips_df=pd.DataFrame(missing_zips_in_gpdf).T.reset_index().rename({'index':'zip'}, axis=1)\nmissing_zips_gdf = gpd.GeoDataFrame(\n    missing_zips_df, geometry=gpd.points_from_xy(missing_zips_df.longitude, missing_zips_df.latitude))\nmissing_zips_gdf.head()",
      "outputs": [
        {
          "data": {
            "text/html": "<div>\n<style scoped>\n    .dataframe tbody tr th:only-of-type {\n        vertical-align: middle;\n    }\n\n    .dataframe tbody tr th {\n        vertical-align: top;\n    }\n\n    .dataframe thead th {\n        text-align: right;\n    }\n</style>\n<table border=\"1\" class=\"dataframe\">\n  <thead>\n    <tr style=\"text-align: right;\">\n      <th></th>\n      <th>zip</th>\n      <th>city</th>\n      <th>state</th>\n      <th>latitude</th>\n      <th>longitude</th>\n      <th>timezone</th>\n      <th>dst</th>\n      <th>geometry</th>\n    </tr>\n  </thead>\n  <tbody>\n    <tr>\n      <th>0</th>\n      <td>93314</td>\n      <td>Bakersfield</td>\n      <td>CA</td>\n      <td>35.3821</td>\n      <td>-119.209</td>\n      <td>-8</td>\n      <td>1</td>\n      <td>POINT (-119.20880 35.38210)</td>\n    </tr>\n    <tr>\n      <th>1</th>\n      <td>93619</td>\n      <td>Clovis</td>\n      <td>CA</td>\n      <td>36.9113</td>\n      <td>-119.58</td>\n      <td>-8</td>\n      <td>1</td>\n      <td>POINT (-119.58040 36.91130)</td>\n    </tr>\n    <tr>\n      <th>2</th>\n      <td>93636</td>\n      <td>Madera</td>\n      <td>CA</td>\n      <td>36.992</td>\n      <td>-119.858</td>\n      <td>-8</td>\n      <td>1</td>\n      <td>POINT (-119.85840 36.99200)</td>\n    </tr>\n    <tr>\n      <th>3</th>\n      <td>93723</td>\n      <td>Fresno</td>\n      <td>CA</td>\n      <td>36.7703</td>\n      <td>-119.951</td>\n      <td>-8</td>\n      <td>1</td>\n      <td>POINT (-119.95090 36.77030)</td>\n    </tr>\n    <tr>\n      <th>4</th>\n      <td>93730</td>\n      <td>Fresno</td>\n      <td>CA</td>\n      <td>36.9063</td>\n      <td>-119.76</td>\n      <td>-8</td>\n      <td>1</td>\n      <td>POINT (-119.76000 36.90630)</td>\n    </tr>\n  </tbody>\n</table>\n</div>",
            "text/plain": "     zip         city state latitude longitude timezone dst  \\\n0  93314  Bakersfield    CA  35.3821  -119.209       -8   1   \n1  93619       Clovis    CA  36.9113   -119.58       -8   1   \n2  93636       Madera    CA   36.992  -119.858       -8   1   \n3  93723       Fresno    CA  36.7703  -119.951       -8   1   \n4  93730       Fresno    CA  36.9063   -119.76       -8   1   \n\n                      geometry  \n0  POINT (-119.20880 35.38210)  \n1  POINT (-119.58040 36.91130)  \n2  POINT (-119.85840 36.99200)  \n3  POINT (-119.95090 36.77030)  \n4  POINT (-119.76000 36.90630)  "
          },
          "execution_count": 69,
          "metadata": {},
          "output_type": "execute_result"
        }
      ],
      "execution_count": null
    },
    {
      "cell_type": "code",
      "metadata": {
        "cell_id": "00023-ff94fc57-4a17-4dec-b1b3-da144de324ce",
        "deepnote_cell_type": "code"
      },
      "source": "full_zips_gpdf = pd.concat([zips_gpd,missing_zips_gdf])\ninfo(full_zips_gpdf)",
      "outputs": [
        {
          "name": "stdout",
          "output_type": "stream",
          "text": "(2729, 8)\nIndex(['zip', 'city', 'state', 'latitude', 'longitude', 'timezone', 'dst',\n       'geometry'],\n      dtype='object')\n"
        },
        {
          "data": {
            "text/html": "<div>\n<style scoped>\n    .dataframe tbody tr th:only-of-type {\n        vertical-align: middle;\n    }\n\n    .dataframe tbody tr th {\n        vertical-align: top;\n    }\n\n    .dataframe thead th {\n        text-align: right;\n    }\n</style>\n<table border=\"1\" class=\"dataframe\">\n  <thead>\n    <tr style=\"text-align: right;\">\n      <th></th>\n      <th>zip</th>\n      <th>city</th>\n      <th>state</th>\n      <th>latitude</th>\n      <th>longitude</th>\n      <th>timezone</th>\n      <th>dst</th>\n      <th>geometry</th>\n    </tr>\n  </thead>\n  <tbody>\n    <tr>\n      <th>0</th>\n      <td>95717</td>\n      <td>Gold Run</td>\n      <td>CA</td>\n      <td>39.177</td>\n      <td>-120.845</td>\n      <td>-8</td>\n      <td>1</td>\n      <td>POINT (-120.84510 39.17703)</td>\n    </tr>\n    <tr>\n      <th>1</th>\n      <td>94564</td>\n      <td>Pinole</td>\n      <td>CA</td>\n      <td>37.9975</td>\n      <td>-122.292</td>\n      <td>-8</td>\n      <td>1</td>\n      <td>POINT (-122.29208 37.99751)</td>\n    </tr>\n    <tr>\n      <th>2</th>\n      <td>91605</td>\n      <td>North Hollywood</td>\n      <td>CA</td>\n      <td>34.2081</td>\n      <td>-118.401</td>\n      <td>-8</td>\n      <td>1</td>\n      <td>POINT (-118.40110 34.20814)</td>\n    </tr>\n    <tr>\n      <th>3</th>\n      <td>91102</td>\n      <td>Pasadena</td>\n      <td>CA</td>\n      <td>33.7866</td>\n      <td>-118.299</td>\n      <td>-8</td>\n      <td>1</td>\n      <td>POINT (-118.29866 33.78659)</td>\n    </tr>\n    <tr>\n      <th>4</th>\n      <td>95019</td>\n      <td>Freedom</td>\n      <td>CA</td>\n      <td>36.9356</td>\n      <td>-121.78</td>\n      <td>-8</td>\n      <td>1</td>\n      <td>POINT (-121.77972 36.93555)</td>\n    </tr>\n  </tbody>\n</table>\n</div>",
            "text/plain": "     zip             city state latitude longitude timezone dst  \\\n0  95717         Gold Run    CA   39.177  -120.845       -8   1   \n1  94564           Pinole    CA  37.9975  -122.292       -8   1   \n2  91605  North Hollywood    CA  34.2081  -118.401       -8   1   \n3  91102         Pasadena    CA  33.7866  -118.299       -8   1   \n4  95019          Freedom    CA  36.9356   -121.78       -8   1   \n\n                      geometry  \n0  POINT (-120.84510 39.17703)  \n1  POINT (-122.29208 37.99751)  \n2  POINT (-118.40110 34.20814)  \n3  POINT (-118.29866 33.78659)  \n4  POINT (-121.77972 36.93555)  "
          },
          "metadata": {},
          "output_type": "display_data"
        }
      ],
      "execution_count": null
    },
    {
      "cell_type": "code",
      "metadata": {
        "cell_id": "00024-3d2ea7bb-171e-4d3e-8458-1434f3488602",
        "deepnote_cell_type": "code"
      },
      "source": "pge_with_all_zip_coords_gpd = pd.merge(left=full_zips_gpdf, right=full_cleaned_df, left_on=\"zip\", right_on='ZIPCODE', how='inner').drop('Unnamed: 0',axis=1)\ninfo(pge_with_all_zip_coords_gpd)\n",
      "outputs": [
        {
          "name": "stdout",
          "output_type": "stream",
          "text": "(154283, 24)\nIndex(['zip', 'city', 'state', 'latitude', 'longitude', 'timezone', 'dst',\n       'geometry', 'ZIPCODE', 'DATE', 'MONTH', 'YEAR', 'DAY', 'CUSTOMERCLASS',\n       'COMBINED', 'TOTALCUSTOMERS', 'TOTALKWH', 'AVERAGEKWH', 'TOTALTHERMS',\n       'AVERAGETHERMS', 'Calculated AVGKWH', 'Calculated AVGTHERMS',\n       'AVGKWH Diff', 'AVGTHERMS Diff'],\n      dtype='object')\n"
        },
        {
          "data": {
            "text/html": "<div>\n<style scoped>\n    .dataframe tbody tr th:only-of-type {\n        vertical-align: middle;\n    }\n\n    .dataframe tbody tr th {\n        vertical-align: top;\n    }\n\n    .dataframe thead th {\n        text-align: right;\n    }\n</style>\n<table border=\"1\" class=\"dataframe\">\n  <thead>\n    <tr style=\"text-align: right;\">\n      <th></th>\n      <th>zip</th>\n      <th>city</th>\n      <th>state</th>\n      <th>latitude</th>\n      <th>longitude</th>\n      <th>timezone</th>\n      <th>dst</th>\n      <th>geometry</th>\n      <th>ZIPCODE</th>\n      <th>DATE</th>\n      <th>...</th>\n      <th>COMBINED</th>\n      <th>TOTALCUSTOMERS</th>\n      <th>TOTALKWH</th>\n      <th>AVERAGEKWH</th>\n      <th>TOTALTHERMS</th>\n      <th>AVERAGETHERMS</th>\n      <th>Calculated AVGKWH</th>\n      <th>Calculated AVGTHERMS</th>\n      <th>AVGKWH Diff</th>\n      <th>AVGTHERMS Diff</th>\n    </tr>\n  </thead>\n  <tbody>\n    <tr>\n      <th>0</th>\n      <td>95717</td>\n      <td>Gold Run</td>\n      <td>CA</td>\n      <td>39.177</td>\n      <td>-120.845</td>\n      <td>-8</td>\n      <td>1</td>\n      <td>POINT (-120.84510 39.17703)</td>\n      <td>95717</td>\n      <td>2013-01-01</td>\n      <td>...</td>\n      <td>Y</td>\n      <td>0</td>\n      <td>0</td>\n      <td>0</td>\n      <td>0</td>\n      <td>0</td>\n      <td>0.00</td>\n      <td>0.0</td>\n      <td>0.00</td>\n      <td>0.0</td>\n    </tr>\n    <tr>\n      <th>1</th>\n      <td>95717</td>\n      <td>Gold Run</td>\n      <td>CA</td>\n      <td>39.177</td>\n      <td>-120.845</td>\n      <td>-8</td>\n      <td>1</td>\n      <td>POINT (-120.84510 39.17703)</td>\n      <td>95717</td>\n      <td>2013-02-01</td>\n      <td>...</td>\n      <td>Y</td>\n      <td>0</td>\n      <td>0</td>\n      <td>0</td>\n      <td>0</td>\n      <td>0</td>\n      <td>0.00</td>\n      <td>0.0</td>\n      <td>0.00</td>\n      <td>0.0</td>\n    </tr>\n    <tr>\n      <th>2</th>\n      <td>95717</td>\n      <td>Gold Run</td>\n      <td>CA</td>\n      <td>39.177</td>\n      <td>-120.845</td>\n      <td>-8</td>\n      <td>1</td>\n      <td>POINT (-120.84510 39.17703)</td>\n      <td>95717</td>\n      <td>2013-03-01</td>\n      <td>...</td>\n      <td>Y</td>\n      <td>0</td>\n      <td>0</td>\n      <td>0</td>\n      <td>0</td>\n      <td>0</td>\n      <td>0.00</td>\n      <td>0.0</td>\n      <td>0.00</td>\n      <td>0.0</td>\n    </tr>\n    <tr>\n      <th>3</th>\n      <td>95717</td>\n      <td>Gold Run</td>\n      <td>CA</td>\n      <td>39.177</td>\n      <td>-120.845</td>\n      <td>-8</td>\n      <td>1</td>\n      <td>POINT (-120.84510 39.17703)</td>\n      <td>95717</td>\n      <td>2013-04-01</td>\n      <td>...</td>\n      <td>Y</td>\n      <td>0</td>\n      <td>0</td>\n      <td>0</td>\n      <td>0</td>\n      <td>0</td>\n      <td>0.00</td>\n      <td>0.0</td>\n      <td>0.00</td>\n      <td>0.0</td>\n    </tr>\n    <tr>\n      <th>4</th>\n      <td>95717</td>\n      <td>Gold Run</td>\n      <td>CA</td>\n      <td>39.177</td>\n      <td>-120.845</td>\n      <td>-8</td>\n      <td>1</td>\n      <td>POINT (-120.84510 39.17703)</td>\n      <td>95717</td>\n      <td>2013-05-01</td>\n      <td>...</td>\n      <td>N</td>\n      <td>100</td>\n      <td>47657</td>\n      <td>477</td>\n      <td>0</td>\n      <td>0</td>\n      <td>476.57</td>\n      <td>0.0</td>\n      <td>-0.43</td>\n      <td>0.0</td>\n    </tr>\n  </tbody>\n</table>\n<p>5 rows × 24 columns</p>\n</div>",
            "text/plain": "     zip      city state latitude longitude timezone dst  \\\n0  95717  Gold Run    CA   39.177  -120.845       -8   1   \n1  95717  Gold Run    CA   39.177  -120.845       -8   1   \n2  95717  Gold Run    CA   39.177  -120.845       -8   1   \n3  95717  Gold Run    CA   39.177  -120.845       -8   1   \n4  95717  Gold Run    CA   39.177  -120.845       -8   1   \n\n                      geometry  ZIPCODE        DATE  ...  COMBINED  \\\n0  POINT (-120.84510 39.17703)    95717  2013-01-01  ...         Y   \n1  POINT (-120.84510 39.17703)    95717  2013-02-01  ...         Y   \n2  POINT (-120.84510 39.17703)    95717  2013-03-01  ...         Y   \n3  POINT (-120.84510 39.17703)    95717  2013-04-01  ...         Y   \n4  POINT (-120.84510 39.17703)    95717  2013-05-01  ...         N   \n\n   TOTALCUSTOMERS  TOTALKWH AVERAGEKWH TOTALTHERMS  AVERAGETHERMS  \\\n0               0         0          0           0              0   \n1               0         0          0           0              0   \n2               0         0          0           0              0   \n3               0         0          0           0              0   \n4             100     47657        477           0              0   \n\n   Calculated AVGKWH  Calculated AVGTHERMS  AVGKWH Diff  AVGTHERMS Diff  \n0               0.00                   0.0         0.00             0.0  \n1               0.00                   0.0         0.00             0.0  \n2               0.00                   0.0         0.00             0.0  \n3               0.00                   0.0         0.00             0.0  \n4             476.57                   0.0        -0.43             0.0  \n\n[5 rows x 24 columns]"
          },
          "metadata": {},
          "output_type": "display_data"
        }
      ],
      "execution_count": null
    },
    {
      "cell_type": "code",
      "metadata": {
        "cell_id": "00025-7cca12b6-0c67-4d8d-92db-b5b1c9b0689a",
        "deepnote_cell_type": "code"
      },
      "source": "dest_fn = 'cleaned_data/full-pge-monthly-consumption_2013-2020_with-zipcodes-and-cities.shp'\npge_with_all_zip_coords_gpd.to_file(dest_fn)",
      "outputs": [],
      "execution_count": null
    },
    {
      "cell_type": "markdown",
      "source": "# Comining with NREL Solar Radiation DB\n\nreference: https://nsrdb.nrel.gov/data-sets/api-instructions.html  ",
      "metadata": {
        "cell_id": "00026-ae4b54a5-96d5-436e-96a2-66601b537393",
        "deepnote_cell_type": "markdown"
      }
    },
    {
      "cell_type": "code",
      "metadata": {
        "cell_id": "00027-5ddd489c-96ac-48b9-9cf4-b530eebaa6d1",
        "deepnote_cell_type": "code"
      },
      "source": "full_nrel_csv_fn = 'cleaned_data/nrel_full.csv'\nfull_nrel_df = pd.read_csv(full_nrel_csv_fn)",
      "outputs": [],
      "execution_count": null
    },
    {
      "cell_type": "code",
      "metadata": {
        "cell_id": "00028-dca7d894-37f3-45c8-a11a-8f47c80c9e6a",
        "deepnote_cell_type": "code"
      },
      "source": "info(full_nrel_df)",
      "outputs": [
        {
          "name": "stdout",
          "output_type": "stream",
          "text": "(14112, 12)\nIndex(['Unnamed: 0', 'Month', 'Year', 'GHI', 'DHI', 'DNI', 'Wind Speed',\n       'Temperature', 'Solar Zenith Angle', 'zipcode', 'latitude',\n       'longitude'],\n      dtype='object')\n"
        },
        {
          "data": {
            "text/html": "<div>\n<style scoped>\n    .dataframe tbody tr th:only-of-type {\n        vertical-align: middle;\n    }\n\n    .dataframe tbody tr th {\n        vertical-align: top;\n    }\n\n    .dataframe thead th {\n        text-align: right;\n    }\n</style>\n<table border=\"1\" class=\"dataframe\">\n  <thead>\n    <tr style=\"text-align: right;\">\n      <th></th>\n      <th>Unnamed: 0</th>\n      <th>Month</th>\n      <th>Year</th>\n      <th>GHI</th>\n      <th>DHI</th>\n      <th>DNI</th>\n      <th>Wind Speed</th>\n      <th>Temperature</th>\n      <th>Solar Zenith Angle</th>\n      <th>zipcode</th>\n      <th>latitude</th>\n      <th>longitude</th>\n    </tr>\n  </thead>\n  <tbody>\n    <tr>\n      <th>0</th>\n      <td>0</td>\n      <td>1</td>\n      <td>2013.0</td>\n      <td>118.551075</td>\n      <td>30.461022</td>\n      <td>220.584677</td>\n      <td>3.564247</td>\n      <td>9.044355</td>\n      <td>105.478320</td>\n      <td>94002</td>\n      <td>37.516687</td>\n      <td>-122.29026</td>\n    </tr>\n    <tr>\n      <th>1</th>\n      <td>1</td>\n      <td>2</td>\n      <td>2013.0</td>\n      <td>166.961310</td>\n      <td>39.181548</td>\n      <td>269.005952</td>\n      <td>3.429167</td>\n      <td>9.815476</td>\n      <td>99.517798</td>\n      <td>94002</td>\n      <td>37.516687</td>\n      <td>-122.29026</td>\n    </tr>\n    <tr>\n      <th>2</th>\n      <td>2</td>\n      <td>3</td>\n      <td>2013.0</td>\n      <td>195.715054</td>\n      <td>71.255376</td>\n      <td>216.329301</td>\n      <td>3.340323</td>\n      <td>11.181452</td>\n      <td>91.103266</td>\n      <td>94002</td>\n      <td>37.516687</td>\n      <td>-122.29026</td>\n    </tr>\n    <tr>\n      <th>3</th>\n      <td>3</td>\n      <td>4</td>\n      <td>2013.0</td>\n      <td>284.418056</td>\n      <td>64.431944</td>\n      <td>334.995833</td>\n      <td>3.858194</td>\n      <td>12.713889</td>\n      <td>82.265542</td>\n      <td>94002</td>\n      <td>37.516687</td>\n      <td>-122.29026</td>\n    </tr>\n    <tr>\n      <th>4</th>\n      <td>4</td>\n      <td>5</td>\n      <td>2013.0</td>\n      <td>311.571237</td>\n      <td>71.837366</td>\n      <td>346.986559</td>\n      <td>4.352151</td>\n      <td>13.991935</td>\n      <td>75.565403</td>\n      <td>94002</td>\n      <td>37.516687</td>\n      <td>-122.29026</td>\n    </tr>\n  </tbody>\n</table>\n</div>",
            "text/plain": "   Unnamed: 0  Month    Year         GHI        DHI         DNI  Wind Speed  \\\n0           0      1  2013.0  118.551075  30.461022  220.584677    3.564247   \n1           1      2  2013.0  166.961310  39.181548  269.005952    3.429167   \n2           2      3  2013.0  195.715054  71.255376  216.329301    3.340323   \n3           3      4  2013.0  284.418056  64.431944  334.995833    3.858194   \n4           4      5  2013.0  311.571237  71.837366  346.986559    4.352151   \n\n   Temperature  Solar Zenith Angle  zipcode   latitude  longitude  \n0     9.044355          105.478320    94002  37.516687 -122.29026  \n1     9.815476           99.517798    94002  37.516687 -122.29026  \n2    11.181452           91.103266    94002  37.516687 -122.29026  \n3    12.713889           82.265542    94002  37.516687 -122.29026  \n4    13.991935           75.565403    94002  37.516687 -122.29026  "
          },
          "metadata": {},
          "output_type": "display_data"
        }
      ],
      "execution_count": null
    },
    {
      "cell_type": "code",
      "metadata": {
        "cell_id": "00029-f439193e-972b-4fbc-9c8f-a6d1a79eb079",
        "deepnote_cell_type": "code"
      },
      "source": "",
      "execution_count": null,
      "outputs": []
    },
    {
      "cell_type": "markdown",
      "source": "<a style='text-decoration:none;line-height:16px;display:flex;color:#5B5B62;padding:10px;justify-content:end;' href='https://deepnote.com?utm_source=created-in-deepnote-cell&projectId=c2f0e727-e6a4-4b2a-b180-a91c3a609ecf' target=\"_blank\">\n<img alt='Created in deepnote.com' style='display:inline;max-height:16px;margin:0px;margin-right:7.5px;' src='data:image/svg+xml;base64,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' > </img>\nCreated in <span style='font-weight:600;margin-left:4px;'>Deepnote</span></a>",
      "metadata": {
        "tags": [],
        "created_in_deepnote_cell": true,
        "deepnote_cell_type": "markdown"
      }
    }
  ],
  "nbformat": 4,
  "nbformat_minor": 2,
  "metadata": {
    "kernelspec": {
      "display_name": "Python 3",
      "language": "python",
      "name": "python3"
    },
    "language_info": {
      "codemirror_mode": {
        "name": "ipython",
        "version": 3
      },
      "file_extension": ".py",
      "mimetype": "text/x-python",
      "name": "python",
      "nbconvert_exporter": "python",
      "pygments_lexer": "ipython3",
      "version": "3.7.3"
    },
    "deepnote_notebook_id": "95647fc1-0430-4702-a90c-578883838442",
    "deepnote": {},
    "deepnote_execution_queue": []
  }
}