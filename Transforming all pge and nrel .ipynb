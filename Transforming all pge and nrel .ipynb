{
  "cells": [
    {
      "cell_type": "code",
      "metadata": {
        "cell_id": "00000-b0172393-6cd8-43f6-a5c3-09f44740610b",
        "deepnote_cell_type": "code"
      },
      "source": "import geopandas as gpd\nimport pandas as pd\nimport numpy as np\nfrom sklearn.preprocessing import StandardScaler",
      "outputs": [],
      "execution_count": null
    },
    {
      "cell_type": "markdown",
      "source": "## Cleaning certain rows",
      "metadata": {
        "cell_id": "00001-d137b2ce-a086-4256-93d3-439c58a73e94",
        "deepnote_cell_type": "markdown"
      }
    },
    {
      "cell_type": "code",
      "metadata": {
        "cell_id": "00002-1f653bec-0047-4303-b217-0265803b13bf",
        "deepnote_cell_type": "code"
      },
      "source": "all_pge_with_nrel = gpd.read_file('cleaned_data/all-pge-with-nrel/pge-energy-consumption-with-nrel-solar_2013-2019_136968x35.shp')",
      "outputs": [],
      "execution_count": null
    },
    {
      "cell_type": "code",
      "metadata": {
        "cell_id": "00003-603a9b3e-f527-402c-ba40-885d88ec28ed",
        "deepnote_cell_type": "code"
      },
      "source": "all_pge_with_nrel.head()",
      "outputs": [
        {
          "data": {
            "text/html": "<div>\n<style scoped>\n    .dataframe tbody tr th:only-of-type {\n        vertical-align: middle;\n    }\n\n    .dataframe tbody tr th {\n        vertical-align: top;\n    }\n\n    .dataframe thead th {\n        text-align: right;\n    }\n</style>\n<table border=\"1\" class=\"dataframe\">\n  <thead>\n    <tr style=\"text-align: right;\">\n      <th></th>\n      <th>zip</th>\n      <th>city</th>\n      <th>state</th>\n      <th>latitude_x</th>\n      <th>longitude_</th>\n      <th>timezone</th>\n      <th>dst</th>\n      <th>ZIPCODE</th>\n      <th>DATE</th>\n      <th>MONTH</th>\n      <th>...</th>\n      <th>GHI</th>\n      <th>DHI</th>\n      <th>DNI</th>\n      <th>Wind Speed</th>\n      <th>Temperatur</th>\n      <th>Solar Zeni</th>\n      <th>zipcode_1</th>\n      <th>latitude_y</th>\n      <th>longitud_1</th>\n      <th>geometry</th>\n    </tr>\n  </thead>\n  <tbody>\n    <tr>\n      <th>0</th>\n      <td>95717</td>\n      <td>Gold Run</td>\n      <td>CA</td>\n      <td>39.177026</td>\n      <td>-120.8451</td>\n      <td>-8</td>\n      <td>1</td>\n      <td>95717</td>\n      <td>2013-01-01</td>\n      <td>1</td>\n      <td>...</td>\n      <td>107.88575268817205</td>\n      <td>29.571236559139784</td>\n      <td>211.56182795698925</td>\n      <td>0.3540322580645159</td>\n      <td>2.3481182795698925</td>\n      <td>105.82493279569903</td>\n      <td>95717.0</td>\n      <td>39.177026</td>\n      <td>-120.8451</td>\n      <td>POINT (-120.84510 39.17703)</td>\n    </tr>\n    <tr>\n      <th>1</th>\n      <td>95717</td>\n      <td>Gold Run</td>\n      <td>CA</td>\n      <td>39.177026</td>\n      <td>-120.8451</td>\n      <td>-8</td>\n      <td>1</td>\n      <td>95717</td>\n      <td>2013-02-01</td>\n      <td>2</td>\n      <td>...</td>\n      <td>158.59375</td>\n      <td>36.48511904761905</td>\n      <td>269.0595238095238</td>\n      <td>0.40148809523809587</td>\n      <td>4.525297619047619</td>\n      <td>99.71912202380952</td>\n      <td>95717.0</td>\n      <td>39.177026</td>\n      <td>-120.8451</td>\n      <td>POINT (-120.84510 39.17703)</td>\n    </tr>\n    <tr>\n      <th>2</th>\n      <td>95717</td>\n      <td>Gold Run</td>\n      <td>CA</td>\n      <td>39.177026</td>\n      <td>-120.8451</td>\n      <td>-8</td>\n      <td>1</td>\n      <td>95717</td>\n      <td>2013-03-01</td>\n      <td>3</td>\n      <td>...</td>\n      <td>183.19892473118279</td>\n      <td>68.31989247311827</td>\n      <td>206.93548387096774</td>\n      <td>0.3981182795698933</td>\n      <td>8.529569892473118</td>\n      <td>91.12526881720433</td>\n      <td>95717.0</td>\n      <td>39.177026</td>\n      <td>-120.8451</td>\n      <td>POINT (-120.84510 39.17703)</td>\n    </tr>\n    <tr>\n      <th>3</th>\n      <td>95717</td>\n      <td>Gold Run</td>\n      <td>CA</td>\n      <td>39.177026</td>\n      <td>-120.8451</td>\n      <td>-8</td>\n      <td>1</td>\n      <td>95717</td>\n      <td>2013-04-01</td>\n      <td>4</td>\n      <td>...</td>\n      <td>269.525</td>\n      <td>66.2375</td>\n      <td>318.2472222222222</td>\n      <td>0.40958333333333385</td>\n      <td>11.322222222222223</td>\n      <td>82.1030138888889</td>\n      <td>95717.0</td>\n      <td>39.177026</td>\n      <td>-120.8451</td>\n      <td>POINT (-120.84510 39.17703)</td>\n    </tr>\n    <tr>\n      <th>4</th>\n      <td>95717</td>\n      <td>Gold Run</td>\n      <td>CA</td>\n      <td>39.177026</td>\n      <td>-120.8451</td>\n      <td>-8</td>\n      <td>1</td>\n      <td>95717</td>\n      <td>2013-05-01</td>\n      <td>5</td>\n      <td>...</td>\n      <td>299.9287634408602</td>\n      <td>71.88306451612904</td>\n      <td>342.23118279569894</td>\n      <td>0.4310483870967741</td>\n      <td>14.850806451612904</td>\n      <td>75.24653225806456</td>\n      <td>95717.0</td>\n      <td>39.177026</td>\n      <td>-120.8451</td>\n      <td>POINT (-120.84510 39.17703)</td>\n    </tr>\n  </tbody>\n</table>\n<p>5 rows × 35 columns</p>\n</div>",
            "text/plain": "     zip      city state  latitude_x  longitude_ timezone dst  ZIPCODE  \\\n0  95717  Gold Run    CA   39.177026   -120.8451       -8   1    95717   \n1  95717  Gold Run    CA   39.177026   -120.8451       -8   1    95717   \n2  95717  Gold Run    CA   39.177026   -120.8451       -8   1    95717   \n3  95717  Gold Run    CA   39.177026   -120.8451       -8   1    95717   \n4  95717  Gold Run    CA   39.177026   -120.8451       -8   1    95717   \n\n         DATE  MONTH  ...                 GHI                 DHI  \\\n0  2013-01-01      1  ...  107.88575268817205  29.571236559139784   \n1  2013-02-01      2  ...           158.59375   36.48511904761905   \n2  2013-03-01      3  ...  183.19892473118279   68.31989247311827   \n3  2013-04-01      4  ...             269.525             66.2375   \n4  2013-05-01      5  ...   299.9287634408602   71.88306451612904   \n\n                  DNI           Wind Speed          Temperatur  \\\n0  211.56182795698925   0.3540322580645159  2.3481182795698925   \n1   269.0595238095238  0.40148809523809587   4.525297619047619   \n2  206.93548387096774   0.3981182795698933   8.529569892473118   \n3   318.2472222222222  0.40958333333333385  11.322222222222223   \n4  342.23118279569894   0.4310483870967741  14.850806451612904   \n\n           Solar Zeni  zipcode_1  latitude_y  longitud_1  \\\n0  105.82493279569903    95717.0   39.177026   -120.8451   \n1   99.71912202380952    95717.0   39.177026   -120.8451   \n2   91.12526881720433    95717.0   39.177026   -120.8451   \n3    82.1030138888889    95717.0   39.177026   -120.8451   \n4   75.24653225806456    95717.0   39.177026   -120.8451   \n\n                      geometry  \n0  POINT (-120.84510 39.17703)  \n1  POINT (-120.84510 39.17703)  \n2  POINT (-120.84510 39.17703)  \n3  POINT (-120.84510 39.17703)  \n4  POINT (-120.84510 39.17703)  \n\n[5 rows x 35 columns]"
          },
          "execution_count": 3,
          "metadata": {},
          "output_type": "execute_result"
        }
      ],
      "execution_count": null
    },
    {
      "cell_type": "code",
      "metadata": {
        "cell_id": "00004-241e8641-fd99-40ce-a2c1-fd9b73a03dfe",
        "deepnote_cell_type": "code"
      },
      "source": "k = np.where(all_pge_with_nrel['zip'] == all_pge_with_nrel['ZIPCODE'], 'yes', 'no')",
      "outputs": [],
      "execution_count": null
    },
    {
      "cell_type": "code",
      "metadata": {
        "cell_id": "00005-304b9042-0cd3-40a2-bdbb-b3b30b821c44",
        "deepnote_cell_type": "code"
      },
      "source": "for i in range(len(k)):\n    if k[i]=='no':\n        print(i)\n# all_pge_with_nrel[['zip', 'ZIPCODE']]\n# type(all_pge_with_nrel['zip'][0]), type(all_pge_with_nrel['ZIPCODE'][0]),\n# k",
      "outputs": [],
      "execution_count": null
    },
    {
      "cell_type": "code",
      "metadata": {
        "cell_id": "00006-f7813c08-b3d3-4baa-a2ac-71c5a792feda",
        "deepnote_cell_type": "code"
      },
      "source": "all_pge_with_nrel.columns",
      "outputs": [
        {
          "data": {
            "text/plain": "Index(['zip', 'city', 'state', 'latitude_x', 'longitude_', 'timezone', 'dst',\n       'ZIPCODE', 'DATE', 'MONTH', 'YEAR', 'DAY', 'CUSTOMERCL', 'COMBINED',\n       'TOTALCUSTO', 'TOTALKWH', 'AVERAGEKWH', 'TOTALTHERM', 'AVERAGETHE',\n       'Calculated', 'Calculat_1', 'AVGKWH Dif', 'AVGTHERMS', 'Month_1',\n       'Year_1', 'GHI', 'DHI', 'DNI', 'Wind Speed', 'Temperatur', 'Solar Zeni',\n       'zipcode_1', 'latitude_y', 'longitud_1', 'geometry'],\n      dtype='object')"
          },
          "execution_count": 4,
          "metadata": {},
          "output_type": "execute_result"
        }
      ],
      "execution_count": null
    },
    {
      "cell_type": "code",
      "metadata": {
        "cell_id": "00007-580029e8-b66b-48ad-8412-e075207ac713",
        "deepnote_cell_type": "code"
      },
      "source": "all_pge_with_nrel[['TOTALCUSTO','TOTALKWH', 'AVERAGEKWH','TOTALTHERM','AVERAGETHE',\n       'Calculated', 'Calculat_1', 'AVGKWH Dif', 'AVGTHERMS']]",
      "outputs": [
        {
          "data": {
            "text/html": "<div>\n<style scoped>\n    .dataframe tbody tr th:only-of-type {\n        vertical-align: middle;\n    }\n\n    .dataframe tbody tr th {\n        vertical-align: top;\n    }\n\n    .dataframe thead th {\n        text-align: right;\n    }\n</style>\n<table border=\"1\" class=\"dataframe\">\n  <thead>\n    <tr style=\"text-align: right;\">\n      <th></th>\n      <th>TOTALCUSTO</th>\n      <th>TOTALKWH</th>\n      <th>AVERAGEKWH</th>\n      <th>TOTALTHERM</th>\n      <th>AVERAGETHE</th>\n      <th>Calculated</th>\n      <th>Calculat_1</th>\n      <th>AVGKWH Dif</th>\n      <th>AVGTHERMS</th>\n    </tr>\n  </thead>\n  <tbody>\n    <tr>\n      <th>0</th>\n      <td>0</td>\n      <td>0</td>\n      <td>0</td>\n      <td>0</td>\n      <td>0</td>\n      <td>0.00</td>\n      <td>0.000000</td>\n      <td>0.00</td>\n      <td>0.000000</td>\n    </tr>\n    <tr>\n      <th>1</th>\n      <td>0</td>\n      <td>0</td>\n      <td>0</td>\n      <td>0</td>\n      <td>0</td>\n      <td>0.00</td>\n      <td>0.000000</td>\n      <td>0.00</td>\n      <td>0.000000</td>\n    </tr>\n    <tr>\n      <th>2</th>\n      <td>0</td>\n      <td>0</td>\n      <td>0</td>\n      <td>0</td>\n      <td>0</td>\n      <td>0.00</td>\n      <td>0.000000</td>\n      <td>0.00</td>\n      <td>0.000000</td>\n    </tr>\n    <tr>\n      <th>3</th>\n      <td>0</td>\n      <td>0</td>\n      <td>0</td>\n      <td>0</td>\n      <td>0</td>\n      <td>0.00</td>\n      <td>0.000000</td>\n      <td>0.00</td>\n      <td>0.000000</td>\n    </tr>\n    <tr>\n      <th>4</th>\n      <td>100</td>\n      <td>47657</td>\n      <td>477</td>\n      <td>0</td>\n      <td>0</td>\n      <td>476.57</td>\n      <td>0.000000</td>\n      <td>-0.43</td>\n      <td>0.000000</td>\n    </tr>\n    <tr>\n      <th>...</th>\n      <td>...</td>\n      <td>...</td>\n      <td>...</td>\n      <td>...</td>\n      <td>...</td>\n      <td>...</td>\n      <td>...</td>\n      <td>...</td>\n      <td>...</td>\n    </tr>\n    <tr>\n      <th>136963</th>\n      <td>2459</td>\n      <td>0</td>\n      <td>0</td>\n      <td>22624</td>\n      <td>9</td>\n      <td>0.00</td>\n      <td>9.200488</td>\n      <td>0.00</td>\n      <td>0.200488</td>\n    </tr>\n    <tr>\n      <th>136964</th>\n      <td>2446</td>\n      <td>0</td>\n      <td>0</td>\n      <td>23862</td>\n      <td>10</td>\n      <td>0.00</td>\n      <td>9.755519</td>\n      <td>0.00</td>\n      <td>-0.244481</td>\n    </tr>\n    <tr>\n      <th>136965</th>\n      <td>2447</td>\n      <td>0</td>\n      <td>0</td>\n      <td>35480</td>\n      <td>14</td>\n      <td>0.00</td>\n      <td>14.499387</td>\n      <td>0.00</td>\n      <td>0.499387</td>\n    </tr>\n    <tr>\n      <th>136966</th>\n      <td>2441</td>\n      <td>0</td>\n      <td>0</td>\n      <td>67102</td>\n      <td>27</td>\n      <td>0.00</td>\n      <td>27.489553</td>\n      <td>0.00</td>\n      <td>0.489553</td>\n    </tr>\n    <tr>\n      <th>136967</th>\n      <td>2428</td>\n      <td>0</td>\n      <td>0</td>\n      <td>92436</td>\n      <td>38</td>\n      <td>0.00</td>\n      <td>38.070840</td>\n      <td>0.00</td>\n      <td>0.070840</td>\n    </tr>\n  </tbody>\n</table>\n<p>136968 rows × 9 columns</p>\n</div>",
            "text/plain": "        TOTALCUSTO  TOTALKWH  AVERAGEKWH  TOTALTHERM  AVERAGETHE  Calculated  \\\n0                0         0           0           0           0        0.00   \n1                0         0           0           0           0        0.00   \n2                0         0           0           0           0        0.00   \n3                0         0           0           0           0        0.00   \n4              100     47657         477           0           0      476.57   \n...            ...       ...         ...         ...         ...         ...   \n136963        2459         0           0       22624           9        0.00   \n136964        2446         0           0       23862          10        0.00   \n136965        2447         0           0       35480          14        0.00   \n136966        2441         0           0       67102          27        0.00   \n136967        2428         0           0       92436          38        0.00   \n\n        Calculat_1  AVGKWH Dif  AVGTHERMS  \n0         0.000000        0.00   0.000000  \n1         0.000000        0.00   0.000000  \n2         0.000000        0.00   0.000000  \n3         0.000000        0.00   0.000000  \n4         0.000000       -0.43   0.000000  \n...            ...         ...        ...  \n136963    9.200488        0.00   0.200488  \n136964    9.755519        0.00  -0.244481  \n136965   14.499387        0.00   0.499387  \n136966   27.489553        0.00   0.489553  \n136967   38.070840        0.00   0.070840  \n\n[136968 rows x 9 columns]"
          },
          "execution_count": 32,
          "metadata": {},
          "output_type": "execute_result"
        }
      ],
      "execution_count": null
    },
    {
      "cell_type": "code",
      "metadata": {
        "cell_id": "00008-fba32749-a164-45ed-97ca-5a9845761c32",
        "deepnote_cell_type": "code"
      },
      "source": "cols_to_drop = ['latitude_y', 'longitud_1','ZIPCODE', 'Calculated', 'Calculat_1', 'AVGKWH Dif', 'AVGTHERMS', 'Month_1', 'Year_1', 'zipcode_1']\nrename_mapper = {\n    'latitude_x': 'latitude', \n    'longitude_': 'longitude', \n    'AVERAGETHE': 'AVERAGETHERM',\n    'Temperatur': 'Temperature', \n    'Solar Zeni': 'Solar Zenith Angle'\n    }\nall_pge_with_nrel = all_pge_with_nrel.drop(cols_to_drop, axis=1).rename(rename_mapper,axis=1)\n\n",
      "outputs": [],
      "execution_count": null
    },
    {
      "cell_type": "code",
      "metadata": {
        "cell_id": "00009-cf5405ee-fbf9-456a-8202-12be0967f6a9",
        "deepnote_cell_type": "code"
      },
      "source": "all_pge_with_nrel.columns",
      "outputs": [
        {
          "data": {
            "text/plain": "Index(['zip', 'city', 'state', 'latitude', 'longitude', 'timezone', 'dst',\n       'DATE', 'MONTH', 'YEAR', 'DAY', 'CUSTOMERCL', 'COMBINED', 'TOTALCUSTO',\n       'TOTALKWH', 'AVERAGEKWH', 'TOTALTHERM', 'AVERAGETHERM', 'GHI', 'DHI',\n       'DNI', 'Wind Speed', 'Temperature', 'Solar Zenith Angle', 'geometry'],\n      dtype='object')"
          },
          "execution_count": 34,
          "metadata": {},
          "output_type": "execute_result"
        }
      ],
      "execution_count": null
    },
    {
      "cell_type": "code",
      "metadata": {
        "cell_id": "00010-f1a74b7a-baa6-4617-ac66-a760c8da92a5",
        "deepnote_cell_type": "code"
      },
      "source": "all_pge_with_nrel.to_file('cleaned_data/all-pge-with-nrel/cleand_pge-energy-consumption-with-nrel-solar_2013-2019_136968x35.shp')",
      "outputs": [],
      "execution_count": null
    },
    {
      "cell_type": "markdown",
      "source": "## Adding standardizations",
      "metadata": {
        "cell_id": "00011-23e01f74-c8df-4fdf-b3ad-d434d3180172",
        "deepnote_cell_type": "markdown"
      }
    },
    {
      "cell_type": "code",
      "metadata": {
        "cell_id": "00012-96ebb68e-846a-4506-935b-2900769282d5",
        "deepnote_cell_type": "code"
      },
      "source": "scaler = StandardScaler()",
      "outputs": [],
      "execution_count": null
    },
    {
      "cell_type": "code",
      "metadata": {
        "cell_id": "00013-8237eb73-82bc-4ef1-b4db-6f3da3f2ee11",
        "deepnote_cell_type": "code"
      },
      "source": "cols_to_standarize = ['TOTALCUSTO',\n       'TOTALKWH', 'AVERAGEKWH', 'TOTALTHERM', 'AVERAGETHERM', 'GHI', 'DHI',\n       'DNI', 'Wind Speed', 'Temperature', 'Solar Zenith Angle', ]\nall_pge_with_nrel[cols_to_standarize]",
      "outputs": [
        {
          "data": {
            "text/html": "<div>\n<style scoped>\n    .dataframe tbody tr th:only-of-type {\n        vertical-align: middle;\n    }\n\n    .dataframe tbody tr th {\n        vertical-align: top;\n    }\n\n    .dataframe thead th {\n        text-align: right;\n    }\n</style>\n<table border=\"1\" class=\"dataframe\">\n  <thead>\n    <tr style=\"text-align: right;\">\n      <th></th>\n      <th>TOTALCUSTO</th>\n      <th>TOTALKWH</th>\n      <th>AVERAGEKWH</th>\n      <th>TOTALTHERM</th>\n      <th>AVERAGETHERM</th>\n      <th>GHI</th>\n      <th>DHI</th>\n      <th>DNI</th>\n      <th>Wind Speed</th>\n      <th>Temperature</th>\n      <th>Solar Zenith Angle</th>\n    </tr>\n  </thead>\n  <tbody>\n    <tr>\n      <th>0</th>\n      <td>0</td>\n      <td>0</td>\n      <td>0</td>\n      <td>0</td>\n      <td>0</td>\n      <td>107.88575268817205</td>\n      <td>29.571236559139784</td>\n      <td>211.56182795698925</td>\n      <td>0.3540322580645159</td>\n      <td>2.3481182795698925</td>\n      <td>105.82493279569903</td>\n    </tr>\n    <tr>\n      <th>1</th>\n      <td>0</td>\n      <td>0</td>\n      <td>0</td>\n      <td>0</td>\n      <td>0</td>\n      <td>158.59375</td>\n      <td>36.48511904761905</td>\n      <td>269.0595238095238</td>\n      <td>0.40148809523809587</td>\n      <td>4.525297619047619</td>\n      <td>99.71912202380952</td>\n    </tr>\n    <tr>\n      <th>2</th>\n      <td>0</td>\n      <td>0</td>\n      <td>0</td>\n      <td>0</td>\n      <td>0</td>\n      <td>183.19892473118279</td>\n      <td>68.31989247311827</td>\n      <td>206.93548387096774</td>\n      <td>0.3981182795698933</td>\n      <td>8.529569892473118</td>\n      <td>91.12526881720433</td>\n    </tr>\n    <tr>\n      <th>3</th>\n      <td>0</td>\n      <td>0</td>\n      <td>0</td>\n      <td>0</td>\n      <td>0</td>\n      <td>269.525</td>\n      <td>66.2375</td>\n      <td>318.2472222222222</td>\n      <td>0.40958333333333385</td>\n      <td>11.322222222222223</td>\n      <td>82.1030138888889</td>\n    </tr>\n    <tr>\n      <th>4</th>\n      <td>100</td>\n      <td>47657</td>\n      <td>477</td>\n      <td>0</td>\n      <td>0</td>\n      <td>299.9287634408602</td>\n      <td>71.88306451612904</td>\n      <td>342.23118279569894</td>\n      <td>0.4310483870967741</td>\n      <td>14.850806451612904</td>\n      <td>75.24653225806456</td>\n    </tr>\n    <tr>\n      <th>...</th>\n      <td>...</td>\n      <td>...</td>\n      <td>...</td>\n      <td>...</td>\n      <td>...</td>\n      <td>...</td>\n      <td>...</td>\n      <td>...</td>\n      <td>...</td>\n      <td>...</td>\n      <td>...</td>\n    </tr>\n    <tr>\n      <th>136963</th>\n      <td>2459</td>\n      <td>0</td>\n      <td>0</td>\n      <td>22624</td>\n      <td>9</td>\n      <td>311.26344086021504</td>\n      <td>51.60349462365591</td>\n      <td>395.27284946236557</td>\n      <td>2.2737903225806466</td>\n      <td>26.286290322580637</td>\n      <td>79.54961021505376</td>\n    </tr>\n    <tr>\n      <th>136964</th>\n      <td>2446</td>\n      <td>0</td>\n      <td>0</td>\n      <td>23862</td>\n      <td>10</td>\n      <td>244.57083333333333</td>\n      <td>48.915277777777774</td>\n      <td>335.4347222222222</td>\n      <td>2.023055555555555</td>\n      <td>23.207916666666673</td>\n      <td>87.9082916666665</td>\n    </tr>\n    <tr>\n      <th>136965</th>\n      <td>2447</td>\n      <td>0</td>\n      <td>0</td>\n      <td>35480</td>\n      <td>14</td>\n      <td>193.0188172043011</td>\n      <td>39.31989247311828</td>\n      <td>304.5766129032258</td>\n      <td>1.8063172043010742</td>\n      <td>18.629838709677415</td>\n      <td>96.89096774193553</td>\n    </tr>\n    <tr>\n      <th>136966</th>\n      <td>2441</td>\n      <td>0</td>\n      <td>0</td>\n      <td>67102</td>\n      <td>27</td>\n      <td>125.96388888888889</td>\n      <td>34.84583333333333</td>\n      <td>219.58333333333334</td>\n      <td>1.545833333333334</td>\n      <td>14.595000000000027</td>\n      <td>104.16968055555537</td>\n    </tr>\n    <tr>\n      <th>136967</th>\n      <td>2428</td>\n      <td>0</td>\n      <td>0</td>\n      <td>92436</td>\n      <td>38</td>\n      <td>73.79032258064517</td>\n      <td>32.318548387096776</td>\n      <td>113.91532258064517</td>\n      <td>2.115053763440863</td>\n      <td>9.82096774193547</td>\n      <td>107.50063172043019</td>\n    </tr>\n  </tbody>\n</table>\n<p>136968 rows × 11 columns</p>\n</div>",
            "text/plain": "        TOTALCUSTO  TOTALKWH  AVERAGEKWH  TOTALTHERM  AVERAGETHERM  \\\n0                0         0           0           0             0   \n1                0         0           0           0             0   \n2                0         0           0           0             0   \n3                0         0           0           0             0   \n4              100     47657         477           0             0   \n...            ...       ...         ...         ...           ...   \n136963        2459         0           0       22624             9   \n136964        2446         0           0       23862            10   \n136965        2447         0           0       35480            14   \n136966        2441         0           0       67102            27   \n136967        2428         0           0       92436            38   \n\n                       GHI                 DHI                 DNI  \\\n0       107.88575268817205  29.571236559139784  211.56182795698925   \n1                158.59375   36.48511904761905   269.0595238095238   \n2       183.19892473118279   68.31989247311827  206.93548387096774   \n3                  269.525             66.2375   318.2472222222222   \n4        299.9287634408602   71.88306451612904  342.23118279569894   \n...                    ...                 ...                 ...   \n136963  311.26344086021504   51.60349462365591  395.27284946236557   \n136964  244.57083333333333  48.915277777777774   335.4347222222222   \n136965   193.0188172043011   39.31989247311828   304.5766129032258   \n136966  125.96388888888889   34.84583333333333  219.58333333333334   \n136967   73.79032258064517  32.318548387096776  113.91532258064517   \n\n                 Wind Speed         Temperature  Solar Zenith Angle  \n0        0.3540322580645159  2.3481182795698925  105.82493279569903  \n1       0.40148809523809587   4.525297619047619   99.71912202380952  \n2        0.3981182795698933   8.529569892473118   91.12526881720433  \n3       0.40958333333333385  11.322222222222223    82.1030138888889  \n4        0.4310483870967741  14.850806451612904   75.24653225806456  \n...                     ...                 ...                 ...  \n136963   2.2737903225806466  26.286290322580637   79.54961021505376  \n136964    2.023055555555555  23.207916666666673    87.9082916666665  \n136965   1.8063172043010742  18.629838709677415   96.89096774193553  \n136966    1.545833333333334  14.595000000000027  104.16968055555537  \n136967    2.115053763440863    9.82096774193547  107.50063172043019  \n\n[136968 rows x 11 columns]"
          },
          "execution_count": 40,
          "metadata": {},
          "output_type": "execute_result"
        }
      ],
      "execution_count": null
    },
    {
      "cell_type": "code",
      "metadata": {
        "cell_id": "00014-d1412b5a-6d88-41c1-a5bb-f5ccd9b4ca10",
        "deepnote_cell_type": "code"
      },
      "source": "scaler.fit(all_pge_with_nrel[cols_to_standarize])",
      "outputs": [
        {
          "name": "stderr",
          "output_type": "stream",
          "text": "/Library/Python/anaconda3/lib/python3.7/site-packages/sklearn/preprocessing/data.py:645: DataConversionWarning: Data with input dtype int64, object were all converted to float64 by StandardScaler.\n  return self.partial_fit(X, y)\n"
        },
        {
          "data": {
            "text/plain": "StandardScaler(copy=True, with_mean=True, with_std=True)"
          },
          "execution_count": 43,
          "metadata": {},
          "output_type": "execute_result"
        }
      ],
      "execution_count": null
    },
    {
      "cell_type": "code",
      "metadata": {
        "cell_id": "00015-e959fd08-b5ef-437a-9d52-f3b0b0864aeb",
        "deepnote_cell_type": "code"
      },
      "source": "transformed = scaler.transform(all_pge_with_nrel[cols_to_standarize])",
      "outputs": [
        {
          "name": "stderr",
          "output_type": "stream",
          "text": "/Library/Python/anaconda3/lib/python3.7/site-packages/ipykernel_launcher.py:1: DataConversionWarning: Data with input dtype int64, object were all converted to float64 by StandardScaler.\n  \"\"\"Entry point for launching an IPython kernel.\n"
        }
      ],
      "execution_count": null
    },
    {
      "cell_type": "code",
      "metadata": {
        "cell_id": "00016-e9b9d80c-f586-4218-a1a1-a16ba9318bc0",
        "deepnote_cell_type": "code"
      },
      "source": "transformd_df = pd.DataFrame(transformed, columns=cols_to_standarize)",
      "outputs": [],
      "execution_count": null
    },
    {
      "cell_type": "code",
      "metadata": {
        "cell_id": "00017-80e45c0f-0f96-4fe4-b527-866101e69220",
        "deepnote_cell_type": "code"
      },
      "source": "transformd_df.head()",
      "outputs": [
        {
          "data": {
            "text/html": "<div>\n<style scoped>\n    .dataframe tbody tr th:only-of-type {\n        vertical-align: middle;\n    }\n\n    .dataframe tbody tr th {\n        vertical-align: top;\n    }\n\n    .dataframe thead th {\n        text-align: right;\n    }\n</style>\n<table border=\"1\" class=\"dataframe\">\n  <thead>\n    <tr style=\"text-align: right;\">\n      <th></th>\n      <th>TOTALCUSTO</th>\n      <th>TOTALKWH</th>\n      <th>AVERAGEKWH</th>\n      <th>TOTALTHERM</th>\n      <th>AVERAGETHERM</th>\n      <th>GHI</th>\n      <th>DHI</th>\n      <th>DNI</th>\n      <th>Wind Speed</th>\n      <th>Temperature</th>\n      <th>Solar Zenith Angle</th>\n    </tr>\n  </thead>\n  <tbody>\n    <tr>\n      <th>0</th>\n      <td>-0.947875</td>\n      <td>-0.541630</td>\n      <td>-0.590525</td>\n      <td>-0.46156</td>\n      <td>-0.348278</td>\n      <td>-1.198043</td>\n      <td>-1.373894</td>\n      <td>-0.709183</td>\n      <td>-1.894812</td>\n      <td>-2.255195</td>\n      <td>1.283431</td>\n    </tr>\n    <tr>\n      <th>1</th>\n      <td>-0.947875</td>\n      <td>-0.541630</td>\n      <td>-0.590525</td>\n      <td>-0.46156</td>\n      <td>-0.348278</td>\n      <td>-0.621567</td>\n      <td>-0.990437</td>\n      <td>-0.041747</td>\n      <td>-1.837832</td>\n      <td>-1.881118</td>\n      <td>0.787489</td>\n    </tr>\n    <tr>\n      <th>2</th>\n      <td>-0.947875</td>\n      <td>-0.541630</td>\n      <td>-0.590525</td>\n      <td>-0.46156</td>\n      <td>-0.348278</td>\n      <td>-0.341841</td>\n      <td>0.775179</td>\n      <td>-0.762886</td>\n      <td>-1.841878</td>\n      <td>-1.193114</td>\n      <td>0.089457</td>\n    </tr>\n    <tr>\n      <th>3</th>\n      <td>-0.947875</td>\n      <td>-0.541630</td>\n      <td>-0.590525</td>\n      <td>-0.46156</td>\n      <td>-0.348278</td>\n      <td>0.639561</td>\n      <td>0.659686</td>\n      <td>0.529226</td>\n      <td>-1.828112</td>\n      <td>-0.713287</td>\n      <td>-0.643372</td>\n    </tr>\n    <tr>\n      <th>4</th>\n      <td>-0.931472</td>\n      <td>-0.525526</td>\n      <td>0.278279</td>\n      <td>-0.46156</td>\n      <td>-0.348278</td>\n      <td>0.985208</td>\n      <td>0.972799</td>\n      <td>0.807632</td>\n      <td>-1.802339</td>\n      <td>-0.107015</td>\n      <td>-1.200288</td>\n    </tr>\n  </tbody>\n</table>\n</div>",
            "text/plain": "   TOTALCUSTO  TOTALKWH  AVERAGEKWH  TOTALTHERM  AVERAGETHERM       GHI  \\\n0   -0.947875 -0.541630   -0.590525    -0.46156     -0.348278 -1.198043   \n1   -0.947875 -0.541630   -0.590525    -0.46156     -0.348278 -0.621567   \n2   -0.947875 -0.541630   -0.590525    -0.46156     -0.348278 -0.341841   \n3   -0.947875 -0.541630   -0.590525    -0.46156     -0.348278  0.639561   \n4   -0.931472 -0.525526    0.278279    -0.46156     -0.348278  0.985208   \n\n        DHI       DNI  Wind Speed  Temperature  Solar Zenith Angle  \n0 -1.373894 -0.709183   -1.894812    -2.255195            1.283431  \n1 -0.990437 -0.041747   -1.837832    -1.881118            0.787489  \n2  0.775179 -0.762886   -1.841878    -1.193114            0.089457  \n3  0.659686  0.529226   -1.828112    -0.713287           -0.643372  \n4  0.972799  0.807632   -1.802339    -0.107015           -1.200288  "
          },
          "execution_count": 48,
          "metadata": {},
          "output_type": "execute_result"
        }
      ],
      "execution_count": null
    },
    {
      "cell_type": "code",
      "metadata": {
        "cell_id": "00018-73a805bb-ab85-402b-8a39-dbe96adcf38d",
        "deepnote_cell_type": "code"
      },
      "source": "full_with_std = pd.merge(left=all_pge_with_nrel, right=transformd_df, left_index=True, right_index=True, how='inner', suffixes=('_raw', '_std'))",
      "outputs": [],
      "execution_count": null
    },
    {
      "cell_type": "code",
      "metadata": {
        "cell_id": "00019-f839c9ce-a473-49a0-b510-5ab652a96fdb",
        "deepnote_cell_type": "code"
      },
      "source": "full_with_std.columns",
      "outputs": [
        {
          "data": {
            "text/plain": "Index(['zip', 'city', 'state', 'latitude', 'longitude', 'timezone', 'dst',\n       'DATE', 'MONTH', 'YEAR', 'DAY', 'CUSTOMERCL', 'COMBINED',\n       'TOTALCUSTO_raw', 'TOTALKWH_raw', 'AVERAGEKWH_raw', 'TOTALTHERM_raw',\n       'AVERAGETHERM_raw', 'GHI_raw', 'DHI_raw', 'DNI_raw', 'Wind Speed_raw',\n       'Temperature_raw', 'Solar Zenith Angle_raw', 'geometry',\n       'TOTALCUSTO_std', 'TOTALKWH_std', 'AVERAGEKWH_std', 'TOTALTHERM_std',\n       'AVERAGETHERM_std', 'GHI_std', 'DHI_std', 'DNI_std', 'Wind Speed_std',\n       'Temperature_std', 'Solar Zenith Angle_std'],\n      dtype='object')"
          },
          "execution_count": 59,
          "metadata": {},
          "output_type": "execute_result"
        }
      ],
      "execution_count": null
    },
    {
      "cell_type": "code",
      "metadata": {
        "cell_id": "00020-122d660e-da98-4570-9a50-e2eee0efb770",
        "deepnote_cell_type": "code"
      },
      "source": "full_with_std.shape",
      "outputs": [
        {
          "data": {
            "text/plain": "(136968, 36)"
          },
          "execution_count": 60,
          "metadata": {},
          "output_type": "execute_result"
        }
      ],
      "execution_count": null
    },
    {
      "cell_type": "code",
      "metadata": {
        "cell_id": "00021-a0603c70-a78c-4a5c-a9b4-7ae43e768622",
        "deepnote_cell_type": "code"
      },
      "source": "full_with_std.to_file('cleaned_data/all-pge-with-nrel/transformed_pge-energy-consumption-with-nrel-solar_2013-2019_136968x35.shp')",
      "outputs": [],
      "execution_count": null
    },
    {
      "cell_type": "markdown",
      "source": "## Finding closest county centroid",
      "metadata": {
        "cell_id": "00022-61447fb6-5c75-4a36-841a-2a262ac1ebd5",
        "deepnote_cell_type": "markdown"
      }
    },
    {
      "cell_type": "code",
      "metadata": {
        "cell_id": "00023-5403af1d-089e-42ed-adbf-c9bd42c5310a",
        "deepnote_cell_type": "code"
      },
      "source": "ca_countise_fn = \"data/CA_Counties/CA_Counties_TIGER2016.shp\"\nca_counties = gpd.read_file(ca_countise_fn)",
      "outputs": [],
      "execution_count": null
    },
    {
      "cell_type": "code",
      "metadata": {
        "cell_id": "00024-10bab85d-12c9-4996-927c-251f2947b825",
        "deepnote_cell_type": "code"
      },
      "source": "ca_counties['Centroid_Latitude'] = pd.to_numeric(ca_counties['INTPTLAT'].apply(lambda s: s[1:]))\nca_counties['Centroid_Longitude'] = pd.to_numeric(ca_counties['INTPTLON'])\n",
      "outputs": [],
      "execution_count": null
    },
    {
      "cell_type": "code",
      "metadata": {
        "cell_id": "00025-0e6bc34f-a920-49ea-adf1-db4dedcd6c60",
        "deepnote_cell_type": "code"
      },
      "source": "ca_counties.head()",
      "outputs": [
        {
          "data": {
            "text/html": "<div>\n<style scoped>\n    .dataframe tbody tr th:only-of-type {\n        vertical-align: middle;\n    }\n\n    .dataframe tbody tr th {\n        vertical-align: top;\n    }\n\n    .dataframe thead th {\n        text-align: right;\n    }\n</style>\n<table border=\"1\" class=\"dataframe\">\n  <thead>\n    <tr style=\"text-align: right;\">\n      <th></th>\n      <th>STATEFP</th>\n      <th>COUNTYFP</th>\n      <th>COUNTYNS</th>\n      <th>GEOID</th>\n      <th>NAME</th>\n      <th>NAMELSAD</th>\n      <th>LSAD</th>\n      <th>CLASSFP</th>\n      <th>MTFCC</th>\n      <th>CSAFP</th>\n      <th>CBSAFP</th>\n      <th>METDIVFP</th>\n      <th>FUNCSTAT</th>\n      <th>ALAND</th>\n      <th>AWATER</th>\n      <th>INTPTLAT</th>\n      <th>INTPTLON</th>\n      <th>geometry</th>\n      <th>Centroid_Latitude</th>\n      <th>Centroid_Longitude</th>\n    </tr>\n  </thead>\n  <tbody>\n    <tr>\n      <th>0</th>\n      <td>06</td>\n      <td>091</td>\n      <td>00277310</td>\n      <td>06091</td>\n      <td>Sierra</td>\n      <td>Sierra County</td>\n      <td>06</td>\n      <td>H1</td>\n      <td>G4020</td>\n      <td>None</td>\n      <td>None</td>\n      <td>None</td>\n      <td>A</td>\n      <td>2468694587</td>\n      <td>23299110</td>\n      <td>+39.5769252</td>\n      <td>-120.5219926</td>\n      <td>POLYGON ((-13431319.751 4821511.426, -13431312...</td>\n      <td>39.576925</td>\n      <td>-120.521993</td>\n    </tr>\n    <tr>\n      <th>1</th>\n      <td>06</td>\n      <td>067</td>\n      <td>00277298</td>\n      <td>06067</td>\n      <td>Sacramento</td>\n      <td>Sacramento County</td>\n      <td>06</td>\n      <td>H1</td>\n      <td>G4020</td>\n      <td>472</td>\n      <td>40900</td>\n      <td>None</td>\n      <td>A</td>\n      <td>2499183617</td>\n      <td>76073827</td>\n      <td>+38.4500114</td>\n      <td>-121.3404409</td>\n      <td>POLYGON ((-13490651.476 4680831.603, -13490511...</td>\n      <td>38.450011</td>\n      <td>-121.340441</td>\n    </tr>\n    <tr>\n      <th>2</th>\n      <td>06</td>\n      <td>083</td>\n      <td>00277306</td>\n      <td>06083</td>\n      <td>Santa Barbara</td>\n      <td>Santa Barbara County</td>\n      <td>06</td>\n      <td>H1</td>\n      <td>G4020</td>\n      <td>None</td>\n      <td>42200</td>\n      <td>None</td>\n      <td>A</td>\n      <td>7084000598</td>\n      <td>2729814515</td>\n      <td>+34.5370572</td>\n      <td>-120.0399729</td>\n      <td>MULTIPOLYGON (((-13423116.772 4042044.149, -13...</td>\n      <td>34.537057</td>\n      <td>-120.039973</td>\n    </tr>\n    <tr>\n      <th>3</th>\n      <td>06</td>\n      <td>009</td>\n      <td>01675885</td>\n      <td>06009</td>\n      <td>Calaveras</td>\n      <td>Calaveras County</td>\n      <td>06</td>\n      <td>H1</td>\n      <td>G4020</td>\n      <td>None</td>\n      <td>None</td>\n      <td>None</td>\n      <td>A</td>\n      <td>2641820834</td>\n      <td>43806026</td>\n      <td>+38.1838996</td>\n      <td>-120.5614415</td>\n      <td>POLYGON ((-13428575.483 4627725.228, -13428534...</td>\n      <td>38.183900</td>\n      <td>-120.561442</td>\n    </tr>\n    <tr>\n      <th>4</th>\n      <td>06</td>\n      <td>111</td>\n      <td>00277320</td>\n      <td>06111</td>\n      <td>Ventura</td>\n      <td>Ventura County</td>\n      <td>06</td>\n      <td>H1</td>\n      <td>G4020</td>\n      <td>348</td>\n      <td>37100</td>\n      <td>None</td>\n      <td>A</td>\n      <td>4773390489</td>\n      <td>945942791</td>\n      <td>+34.3587415</td>\n      <td>-119.1331432</td>\n      <td>MULTIPOLYGON (((-13317853.594 3931602.414, -13...</td>\n      <td>34.358742</td>\n      <td>-119.133143</td>\n    </tr>\n  </tbody>\n</table>\n</div>",
            "text/plain": "  STATEFP COUNTYFP  COUNTYNS  GEOID           NAME              NAMELSAD LSAD  \\\n0      06      091  00277310  06091         Sierra         Sierra County   06   \n1      06      067  00277298  06067     Sacramento     Sacramento County   06   \n2      06      083  00277306  06083  Santa Barbara  Santa Barbara County   06   \n3      06      009  01675885  06009      Calaveras      Calaveras County   06   \n4      06      111  00277320  06111        Ventura        Ventura County   06   \n\n  CLASSFP  MTFCC CSAFP CBSAFP METDIVFP FUNCSTAT       ALAND      AWATER  \\\n0      H1  G4020  None   None     None        A  2468694587    23299110   \n1      H1  G4020   472  40900     None        A  2499183617    76073827   \n2      H1  G4020  None  42200     None        A  7084000598  2729814515   \n3      H1  G4020  None   None     None        A  2641820834    43806026   \n4      H1  G4020   348  37100     None        A  4773390489   945942791   \n\n      INTPTLAT      INTPTLON  \\\n0  +39.5769252  -120.5219926   \n1  +38.4500114  -121.3404409   \n2  +34.5370572  -120.0399729   \n3  +38.1838996  -120.5614415   \n4  +34.3587415  -119.1331432   \n\n                                            geometry  Centroid_Latitude  \\\n0  POLYGON ((-13431319.751 4821511.426, -13431312...          39.576925   \n1  POLYGON ((-13490651.476 4680831.603, -13490511...          38.450011   \n2  MULTIPOLYGON (((-13423116.772 4042044.149, -13...          34.537057   \n3  POLYGON ((-13428575.483 4627725.228, -13428534...          38.183900   \n4  MULTIPOLYGON (((-13317853.594 3931602.414, -13...          34.358742   \n\n   Centroid_Longitude  \n0         -120.521993  \n1         -121.340441  \n2         -120.039973  \n3         -120.561442  \n4         -119.133143  "
          },
          "execution_count": 105,
          "metadata": {},
          "output_type": "execute_result"
        }
      ],
      "execution_count": null
    },
    {
      "cell_type": "code",
      "metadata": {
        "cell_id": "00026-cceedb3a-9eac-4194-9b3f-e30b810bdf7d",
        "deepnote_cell_type": "code"
      },
      "source": "ca_counties[ca_counties['NAME']=='San Francisco']",
      "outputs": [
        {
          "data": {
            "text/html": "<div>\n<style scoped>\n    .dataframe tbody tr th:only-of-type {\n        vertical-align: middle;\n    }\n\n    .dataframe tbody tr th {\n        vertical-align: top;\n    }\n\n    .dataframe thead th {\n        text-align: right;\n    }\n</style>\n<table border=\"1\" class=\"dataframe\">\n  <thead>\n    <tr style=\"text-align: right;\">\n      <th></th>\n      <th>STATEFP</th>\n      <th>COUNTYFP</th>\n      <th>COUNTYNS</th>\n      <th>GEOID</th>\n      <th>NAME</th>\n      <th>NAMELSAD</th>\n      <th>LSAD</th>\n      <th>CLASSFP</th>\n      <th>MTFCC</th>\n      <th>CSAFP</th>\n      <th>CBSAFP</th>\n      <th>METDIVFP</th>\n      <th>FUNCSTAT</th>\n      <th>ALAND</th>\n      <th>AWATER</th>\n      <th>INTPTLAT</th>\n      <th>INTPTLON</th>\n      <th>geometry</th>\n      <th>Centroid_Latitude</th>\n      <th>Centroid_Longitude</th>\n    </tr>\n  </thead>\n  <tbody>\n    <tr>\n      <th>10</th>\n      <td>06</td>\n      <td>075</td>\n      <td>00277302</td>\n      <td>06075</td>\n      <td>San Francisco</td>\n      <td>San Francisco County</td>\n      <td>06</td>\n      <td>H6</td>\n      <td>G4020</td>\n      <td>488</td>\n      <td>41860</td>\n      <td>41884</td>\n      <td>C</td>\n      <td>121455687</td>\n      <td>479136515</td>\n      <td>+37.7272391</td>\n      <td>-123.0322294</td>\n      <td>MULTIPOLYGON (((-13647797.317 4551561.433, -13...</td>\n      <td>37.727239</td>\n      <td>-123.032229</td>\n    </tr>\n  </tbody>\n</table>\n</div>",
            "text/plain": "   STATEFP COUNTYFP  COUNTYNS  GEOID           NAME              NAMELSAD  \\\n10      06      075  00277302  06075  San Francisco  San Francisco County   \n\n   LSAD CLASSFP  MTFCC CSAFP CBSAFP METDIVFP FUNCSTAT      ALAND     AWATER  \\\n10   06      H6  G4020   488  41860    41884        C  121455687  479136515   \n\n       INTPTLAT      INTPTLON  \\\n10  +37.7272391  -123.0322294   \n\n                                             geometry  Centroid_Latitude  \\\n10  MULTIPOLYGON (((-13647797.317 4551561.433, -13...          37.727239   \n\n    Centroid_Longitude  \n10         -123.032229  "
          },
          "execution_count": 106,
          "metadata": {},
          "output_type": "execute_result"
        }
      ],
      "execution_count": null
    },
    {
      "cell_type": "code",
      "metadata": {
        "cell_id": "00027-65c354ed-2c31-49ff-b3f2-d5311041524e",
        "deepnote_cell_type": "code"
      },
      "source": "sf_lat = 37.756051\nsf_long=-122.442409\nca_counties[\"Centroid_Latitude\"] = ca_counties[\"Centroid_Latitude\"].replace({37.727239: sf_lat})\nca_counties[\"Centroid_Longitude\"] = ca_counties[\"Centroid_Longitude\"].replace({-123.032229: sf_long})",
      "outputs": [],
      "execution_count": null
    },
    {
      "cell_type": "code",
      "metadata": {
        "cell_id": "00028-979ff1b0-1111-41f5-b4eb-2f6fa251da5c",
        "deepnote_cell_type": "code"
      },
      "source": "ca_counties[ca_counties['NAME']=='San Francisco']",
      "outputs": [
        {
          "data": {
            "text/html": "<div>\n<style scoped>\n    .dataframe tbody tr th:only-of-type {\n        vertical-align: middle;\n    }\n\n    .dataframe tbody tr th {\n        vertical-align: top;\n    }\n\n    .dataframe thead th {\n        text-align: right;\n    }\n</style>\n<table border=\"1\" class=\"dataframe\">\n  <thead>\n    <tr style=\"text-align: right;\">\n      <th></th>\n      <th>STATEFP</th>\n      <th>COUNTYFP</th>\n      <th>COUNTYNS</th>\n      <th>GEOID</th>\n      <th>NAME</th>\n      <th>NAMELSAD</th>\n      <th>LSAD</th>\n      <th>CLASSFP</th>\n      <th>MTFCC</th>\n      <th>CSAFP</th>\n      <th>CBSAFP</th>\n      <th>METDIVFP</th>\n      <th>FUNCSTAT</th>\n      <th>ALAND</th>\n      <th>AWATER</th>\n      <th>INTPTLAT</th>\n      <th>INTPTLON</th>\n      <th>geometry</th>\n      <th>Centroid_Latitude</th>\n      <th>Centroid_Longitude</th>\n    </tr>\n  </thead>\n  <tbody>\n    <tr>\n      <th>10</th>\n      <td>06</td>\n      <td>075</td>\n      <td>00277302</td>\n      <td>06075</td>\n      <td>San Francisco</td>\n      <td>San Francisco County</td>\n      <td>06</td>\n      <td>H6</td>\n      <td>G4020</td>\n      <td>488</td>\n      <td>41860</td>\n      <td>41884</td>\n      <td>C</td>\n      <td>121455687</td>\n      <td>479136515</td>\n      <td>+37.7272391</td>\n      <td>-123.0322294</td>\n      <td>MULTIPOLYGON (((-13647797.317 4551561.433, -13...</td>\n      <td>37.727239</td>\n      <td>-123.032229</td>\n    </tr>\n  </tbody>\n</table>\n</div>",
            "text/plain": "   STATEFP COUNTYFP  COUNTYNS  GEOID           NAME              NAMELSAD  \\\n10      06      075  00277302  06075  San Francisco  San Francisco County   \n\n   LSAD CLASSFP  MTFCC CSAFP CBSAFP METDIVFP FUNCSTAT      ALAND     AWATER  \\\n10   06      H6  G4020   488  41860    41884        C  121455687  479136515   \n\n       INTPTLAT      INTPTLON  \\\n10  +37.7272391  -123.0322294   \n\n                                             geometry  Centroid_Latitude  \\\n10  MULTIPOLYGON (((-13647797.317 4551561.433, -13...          37.727239   \n\n    Centroid_Longitude  \n10         -123.032229  "
          },
          "execution_count": 109,
          "metadata": {},
          "output_type": "execute_result"
        }
      ],
      "execution_count": null
    },
    {
      "cell_type": "code",
      "metadata": {
        "cell_id": "00029-1439e388-1862-42d3-a6d3-bd5d98315429",
        "deepnote_cell_type": "code"
      },
      "source": "from haversine import haversine, Unit\n\ndef find_distance(x, y, lat, long, unit=Unit.MILES):  \n    '''Returns a one-dimensional array containing the distances between the point (a,b) and a series of \n    points whose x-coordinates are represented as the one-dimensional array x, and whose y-coordinates \n    are represented by the one-dimensional array y'''\n    ## From ER 131 Fa 2020 hw5\n    \n#     return [np.sqrt((lat-a2)**2 +  (long-b2)**2) for a2, b2 in zip(x,y)]\n    return [haversine((lat,long), (lat2, long2), unit=unit) for lat2, long2 in zip(x,y)]\n\n## Longitude is horizontal; latitude in vertical\ndef find_closest_county(latitude, longitude):\n    distances = find_distance(counties_wgs84['Centroid_Latitude'], counties_wgs84['Centroid_Longitude'], latitude, longitude)\n    min_iloc = np.argmin(distances)\n    return ca_counties.iloc[min_iloc]['NAMELSAD']",
      "outputs": [],
      "execution_count": null
    },
    {
      "cell_type": "code",
      "metadata": {
        "cell_id": "00030-f68c743b-ce61-4265-82da-e16368c3ed32",
        "deepnote_cell_type": "code"
      },
      "source": "find_closest_county(37.765817, -122.422290)",
      "outputs": [
        {
          "data": {
            "text/plain": "'San Mateo County'"
          },
          "execution_count": 79,
          "metadata": {},
          "output_type": "execute_result"
        }
      ],
      "execution_count": null
    },
    {
      "cell_type": "code",
      "metadata": {
        "cell_id": "00031-d2363fd7-ab71-4b56-b1a0-8b4a12dbfee8",
        "deepnote_cell_type": "code"
      },
      "source": "",
      "execution_count": null,
      "outputs": []
    },
    {
      "cell_type": "markdown",
      "source": "<a style='text-decoration:none;line-height:16px;display:flex;color:#5B5B62;padding:10px;justify-content:end;' href='https://deepnote.com?utm_source=created-in-deepnote-cell&projectId=c2f0e727-e6a4-4b2a-b180-a91c3a609ecf' target=\"_blank\">\n<img alt='Created in deepnote.com' style='display:inline;max-height:16px;margin:0px;margin-right:7.5px;' src='data:image/svg+xml;base64,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' > </img>\nCreated in <span style='font-weight:600;margin-left:4px;'>Deepnote</span></a>",
      "metadata": {
        "tags": [],
        "created_in_deepnote_cell": true,
        "deepnote_cell_type": "markdown"
      }
    }
  ],
  "nbformat": 4,
  "nbformat_minor": 2,
  "metadata": {
    "kernelspec": {
      "display_name": "Python 3",
      "language": "python",
      "name": "python3"
    },
    "language_info": {
      "codemirror_mode": {
        "name": "ipython",
        "version": 3
      },
      "file_extension": ".py",
      "mimetype": "text/x-python",
      "name": "python",
      "nbconvert_exporter": "python",
      "pygments_lexer": "ipython3",
      "version": "3.7.3"
    },
    "deepnote_notebook_id": "615eb4f3-46e5-4ac4-90e9-10d8c20a9d89",
    "deepnote": {},
    "deepnote_execution_queue": []
  }
}