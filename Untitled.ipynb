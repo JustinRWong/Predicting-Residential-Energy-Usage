{
  "cells": [
    {
      "cell_type": "code",
      "metadata": {
        "cell_id": "00000-cc91133a-e02a-49d6-b4a7-b75e8604cdec",
        "deepnote_to_be_reexecuted": false,
        "source_hash": "4617645",
        "execution_millis": 0,
        "execution_start": 1617921263062,
        "deepnote_cell_type": "code"
      },
      "source": "import geopandas as gpd\nimport pandas as pd\nfrom ipywidgets import interact, interactive, fixed, interact_manual\nimport ipywidgets as widgets",
      "execution_count": null,
      "outputs": []
    },
    {
      "cell_type": "code",
      "metadata": {
        "tags": [],
        "cell_id": "00001-5231a41e-43fd-488f-b2f7-8d15c9706648",
        "deepnote_to_be_reexecuted": false,
        "source_hash": "746a4dbc",
        "execution_start": 1617922379365,
        "execution_millis": 1194,
        "deepnote_cell_type": "code"
      },
      "source": "from sklearn.model_selection import train_test_split",
      "execution_count": null,
      "outputs": []
    },
    {
      "cell_type": "code",
      "metadata": {
        "tags": [],
        "cell_id": "00001-b6c7e0f9-e079-468a-a893-a2ad1b330d6b",
        "deepnote_to_be_reexecuted": false,
        "source_hash": "8fd16d92",
        "execution_millis": 2,
        "execution_start": 1617921254029,
        "deepnote_cell_type": "code"
      },
      "source": "base = \"/datasets/team-red-residential-energy-consumption/datasets/team-red-residential-energy-consumption/Data/\"",
      "execution_count": null,
      "outputs": []
    },
    {
      "cell_type": "code",
      "metadata": {
        "tags": [],
        "cell_id": "00002-04978c4e-785f-4788-a2b8-3aa2d1acadb8",
        "deepnote_to_be_reexecuted": false,
        "source_hash": "cd2d1d98",
        "execution_start": 1617921357220,
        "execution_millis": 960,
        "deepnote_cell_type": "code"
      },
      "source": "!ls /datasets/team-red-residential-energy-consumption/datasets/team-red-residential-energy-consumption/Data/",
      "execution_count": null,
      "outputs": [
        {
          "name": "stdout",
          "text": "'Bay Area Zip Codes + City Name.desktop'\r\n cleaned_data\r\n data\r\n full-pge-with-nrel\r\n NOAA\r\n NREL\r\n'PGE Data Dump'\r\n'Potential Climate Data Links.desktop'\r\n'Ryan Rabbit Hole'\r\n",
          "output_type": "stream"
        }
      ]
    },
    {
      "cell_type": "code",
      "metadata": {
        "cell_id": "00001-b24a99b6-0537-4d67-a0fb-f9de48487ea9",
        "deepnote_to_be_reexecuted": false,
        "source_hash": "3e49a21",
        "execution_millis": 2913,
        "execution_start": 1617921260149,
        "deepnote_cell_type": "code"
      },
      "source": "k = gpd.read_file(base + 'cleaned_data/all-pge-with-nrel/pge-energy-consumption-with-nrel-solar_2013-2019_136968x35.shp')",
      "execution_count": null,
      "outputs": []
    },
    {
      "cell_type": "code",
      "metadata": {
        "cell_id": "00002-39748233-001e-40f1-8785-d8115106dc27",
        "deepnote_to_be_reexecuted": false,
        "source_hash": "3e5020e",
        "execution_start": 1617921484420,
        "execution_millis": 5623,
        "deepnote_cell_type": "code"
      },
      "source": "k.to_csv(base + 'test.csv')",
      "execution_count": null,
      "outputs": []
    },
    {
      "cell_type": "code",
      "metadata": {
        "cell_id": "00004-20670dac-0961-46db-8009-bbce42f0018c",
        "deepnote_to_be_reexecuted": false,
        "source_hash": "b9ca2612",
        "execution_start": 1617921283753,
        "execution_millis": 10461,
        "deepnote_cell_type": "code"
      },
      "source": "k.plot();",
      "execution_count": null,
      "outputs": [
        {
          "data": {
            "text/plain": "<Figure size 432x288 with 1 Axes>",
            "image/png": "[encoded data removed]"
          },
          "metadata": {
            "needs_background": "light"
          },
          "output_type": "display_data"
        }
      ]
    },
    {
      "cell_type": "code",
      "metadata": {
        "cell_id": "00005-55571aa1-78b8-4b46-9147-60068e65e93d",
        "deepnote_cell_type": "code"
      },
      "source": "k[(k['YEAR']== 2014) & (k['MONTH']==1)].plot();",
      "execution_count": null,
      "outputs": [
        {
          "data": {
            "image/png": "[encoded data removed]",
            "text/plain": "<Figure size 432x288 with 1 Axes>"
          },
          "metadata": {
            "needs_background": "light"
          },
          "output_type": "display_data"
        }
      ]
    },
    {
      "cell_type": "code",
      "metadata": {
        "cell_id": "00006-d90b510c-8c57-42d2-9667-f4c7344971e0",
        "deepnote_cell_type": "code"
      },
      "source": "25 %12 +1",
      "execution_count": null,
      "outputs": [
        {
          "data": {
            "text/plain": "2"
          },
          "execution_count": 27,
          "metadata": {},
          "output_type": "execute_result"
        }
      ]
    },
    {
      "cell_type": "code",
      "metadata": {
        "cell_id": "00007-42f5f0b1-eb57-418d-9ee6-b58ee8b50d5a",
        "deepnote_cell_type": "code"
      },
      "source": "",
      "execution_count": null,
      "outputs": []
    },
    {
      "cell_type": "code",
      "metadata": {
        "cell_id": "00008-367febd0-757e-4691-a9e9-52ee7710ea8c",
        "deepnote_to_be_reexecuted": false,
        "source_hash": "78cf1b98",
        "execution_millis": 27525,
        "execution_start": 1617921656273,
        "deepnote_cell_type": "code"
      },
      "source": "fn  = base + \"cleaned_data/all-pge-with-nrel/transformed_pge-energy-consumption-with-nrel-solar_2013-2019_136968x35.shp\"\nall_data = gpd.read_file(fn)",
      "execution_count": null,
      "outputs": []
    },
    {
      "cell_type": "code",
      "metadata": {
        "tags": [],
        "cell_id": "00010-e6a85fbf-729c-4e1b-a0f4-13e6835b5902",
        "deepnote_to_be_reexecuted": false,
        "source_hash": "4e56fd34",
        "execution_start": 1617921686339,
        "execution_millis": 367,
        "deepnote_cell_type": "code"
      },
      "source": "all_data.head()",
      "execution_count": null,
      "outputs": [
        {
          "output_type": "execute_result",
          "execution_count": 25,
          "data": {
            "application/vnd.deepnote.dataframe.v2+json": {
              "error": "Traceback (most recent call last):\n  File \"/shared-libs/code/variable_explorer.py\", line 123, in dataframe_formatter\n    return { MIME_TYPE: describe_pd_dataframe(df) }\n  File \"/shared-libs/code/variable_explorer_helpers.py\", line 148, in describe_pd_dataframe\n    if (is_type_numeric(column.dtype)):\n  File \"/shared-libs/code/variable_explorer_helpers.py\", line 11, in is_type_numeric\n    return np.issubdtype(dtype, np.number)\n  File \"/shared-libs/python3.7/py/lib/python3.7/site-packages/numpy/core/numerictypes.py\", line 388, in issubdtype\n    arg1 = dtype(arg1).type\nTypeError: Cannot interpret '<geopandas.array.GeometryDtype object at 0x7f16f37fe450>' as a data type\n"
            },
            "text/plain": "     zip      city state   latitude  longitude timezone dst        DATE  \\\n0  95717  Gold Run    CA  39.177026  -120.8451       -8   1  2013-01-01   \n1  95717  Gold Run    CA  39.177026  -120.8451       -8   1  2013-02-01   \n2  95717  Gold Run    CA  39.177026  -120.8451       -8   1  2013-03-01   \n3  95717  Gold Run    CA  39.177026  -120.8451       -8   1  2013-04-01   \n4  95717  Gold Run    CA  39.177026  -120.8451       -8   1  2013-05-01   \n\n   MONTH  YEAR  ...  AVERAGEK_1 TOTALTHE_1 AVERAGET_1   GHI_std   DHI_std  \\\n0      1  2013  ...   -0.590525   -0.46156  -0.348278 -1.198043 -1.373894   \n1      2  2013  ...   -0.590525   -0.46156  -0.348278 -0.621567 -0.990437   \n2      3  2013  ...   -0.590525   -0.46156  -0.348278 -0.341841  0.775179   \n3      4  2013  ...   -0.590525   -0.46156  -0.348278  0.639561  0.659686   \n4      5  2013  ...    0.278279   -0.46156  -0.348278  0.985208  0.972799   \n\n    DNI_std  Wind Spe_1  Temperat_1 Solar Ze_1                     geometry  \n0 -0.709183   -1.894812   -2.255195   1.283431  POINT (-120.84510 39.17703)  \n1 -0.041747   -1.837832   -1.881118   0.787489  POINT (-120.84510 39.17703)  \n2 -0.762886   -1.841878   -1.193114   0.089457  POINT (-120.84510 39.17703)  \n3  0.529226   -1.828112   -0.713287  -0.643372  POINT (-120.84510 39.17703)  \n4  0.807632   -1.802339   -0.107015  -1.200288  POINT (-120.84510 39.17703)  \n\n[5 rows x 36 columns]",
            "text/html": "<div>\n<style scoped>\n    .dataframe tbody tr th:only-of-type {\n        vertical-align: middle;\n    }\n\n    .dataframe tbody tr th {\n        vertical-align: top;\n    }\n\n    .dataframe thead th {\n        text-align: right;\n    }\n</style>\n<table border=\"1\" class=\"dataframe\">\n  <thead>\n    <tr style=\"text-align: right;\">\n      <th></th>\n      <th>zip</th>\n      <th>city</th>\n      <th>state</th>\n      <th>latitude</th>\n      <th>longitude</th>\n      <th>timezone</th>\n      <th>dst</th>\n      <th>DATE</th>\n      <th>MONTH</th>\n      <th>YEAR</th>\n      <th>...</th>\n      <th>AVERAGEK_1</th>\n      <th>TOTALTHE_1</th>\n      <th>AVERAGET_1</th>\n      <th>GHI_std</th>\n      <th>DHI_std</th>\n      <th>DNI_std</th>\n      <th>Wind Spe_1</th>\n      <th>Temperat_1</th>\n      <th>Solar Ze_1</th>\n      <th>geometry</th>\n    </tr>\n  </thead>\n  <tbody>\n    <tr>\n      <th>0</th>\n      <td>95717</td>\n      <td>Gold Run</td>\n      <td>CA</td>\n      <td>39.177026</td>\n      <td>-120.8451</td>\n      <td>-8</td>\n      <td>1</td>\n      <td>2013-01-01</td>\n      <td>1</td>\n      <td>2013</td>\n      <td>...</td>\n      <td>-0.590525</td>\n      <td>-0.46156</td>\n      <td>-0.348278</td>\n      <td>-1.198043</td>\n      <td>-1.373894</td>\n      <td>-0.709183</td>\n      <td>-1.894812</td>\n      <td>-2.255195</td>\n      <td>1.283431</td>\n      <td>POINT (-120.84510 39.17703)</td>\n    </tr>\n    <tr>\n      <th>1</th>\n      <td>95717</td>\n      <td>Gold Run</td>\n      <td>CA</td>\n      <td>39.177026</td>\n      <td>-120.8451</td>\n      <td>-8</td>\n      <td>1</td>\n      <td>2013-02-01</td>\n      <td>2</td>\n      <td>2013</td>\n      <td>...</td>\n      <td>-0.590525</td>\n      <td>-0.46156</td>\n      <td>-0.348278</td>\n      <td>-0.621567</td>\n      <td>-0.990437</td>\n      <td>-0.041747</td>\n      <td>-1.837832</td>\n      <td>-1.881118</td>\n      <td>0.787489</td>\n      <td>POINT (-120.84510 39.17703)</td>\n    </tr>\n    <tr>\n      <th>2</th>\n      <td>95717</td>\n      <td>Gold Run</td>\n      <td>CA</td>\n      <td>39.177026</td>\n      <td>-120.8451</td>\n      <td>-8</td>\n      <td>1</td>\n      <td>2013-03-01</td>\n      <td>3</td>\n      <td>2013</td>\n      <td>...</td>\n      <td>-0.590525</td>\n      <td>-0.46156</td>\n      <td>-0.348278</td>\n      <td>-0.341841</td>\n      <td>0.775179</td>\n      <td>-0.762886</td>\n      <td>-1.841878</td>\n      <td>-1.193114</td>\n      <td>0.089457</td>\n      <td>POINT (-120.84510 39.17703)</td>\n    </tr>\n    <tr>\n      <th>3</th>\n      <td>95717</td>\n      <td>Gold Run</td>\n      <td>CA</td>\n      <td>39.177026</td>\n      <td>-120.8451</td>\n      <td>-8</td>\n      <td>1</td>\n      <td>2013-04-01</td>\n      <td>4</td>\n      <td>2013</td>\n      <td>...</td>\n      <td>-0.590525</td>\n      <td>-0.46156</td>\n      <td>-0.348278</td>\n      <td>0.639561</td>\n      <td>0.659686</td>\n      <td>0.529226</td>\n      <td>-1.828112</td>\n      <td>-0.713287</td>\n      <td>-0.643372</td>\n      <td>POINT (-120.84510 39.17703)</td>\n    </tr>\n    <tr>\n      <th>4</th>\n      <td>95717</td>\n      <td>Gold Run</td>\n      <td>CA</td>\n      <td>39.177026</td>\n      <td>-120.8451</td>\n      <td>-8</td>\n      <td>1</td>\n      <td>2013-05-01</td>\n      <td>5</td>\n      <td>2013</td>\n      <td>...</td>\n      <td>0.278279</td>\n      <td>-0.46156</td>\n      <td>-0.348278</td>\n      <td>0.985208</td>\n      <td>0.972799</td>\n      <td>0.807632</td>\n      <td>-1.802339</td>\n      <td>-0.107015</td>\n      <td>-1.200288</td>\n      <td>POINT (-120.84510 39.17703)</td>\n    </tr>\n  </tbody>\n</table>\n<p>5 rows × 36 columns</p>\n</div>"
          },
          "metadata": {}
        }
      ]
    },
    {
      "cell_type": "code",
      "metadata": {
        "tags": [],
        "cell_id": "00011-e06d6245-61ba-4c7d-aff6-3e542277cbbb",
        "deepnote_to_be_reexecuted": false,
        "source_hash": "1fa25e28",
        "execution_millis": 13,
        "execution_start": 1617923226674,
        "deepnote_cell_type": "code"
      },
      "source": "all_data.columns",
      "execution_count": null,
      "outputs": [
        {
          "output_type": "execute_result",
          "execution_count": 34,
          "data": {
            "text/plain": "Index(['zip', 'city', 'state', 'latitude', 'longitude', 'timezone', 'dst',\n       'DATE', 'MONTH', 'YEAR', 'DAY', 'CUSTOMERCL', 'COMBINED', 'TOTALCUSTO',\n       'TOTALKWH_r', 'AVERAGEKWH', 'TOTALTHERM', 'AVERAGETHE', 'GHI_raw',\n       'DHI_raw', 'DNI_raw', 'Wind Speed', 'Temperatur', 'Solar Zeni',\n       'TOTALCUS_1', 'TOTALKWH_s', 'AVERAGEK_1', 'TOTALTHE_1', 'AVERAGET_1',\n       'GHI_std', 'DHI_std', 'DNI_std', 'Wind Spe_1', 'Temperat_1',\n       'Solar Ze_1', 'geometry'],\n      dtype='object')"
          },
          "metadata": {}
        }
      ]
    },
    {
      "cell_type": "code",
      "metadata": {
        "tags": [],
        "cell_id": "00012-57c9c529-68b3-4fb7-ae0e-f04b93207989",
        "deepnote_to_be_reexecuted": false,
        "source_hash": "64c4f038",
        "execution_millis": 140,
        "execution_start": 1617923254262,
        "deepnote_cell_type": "code"
      },
      "source": "# X_cols = ['']\n# X_train_full = all_data[]\nrenaming_map = {\n    'TOTALCUSTO': 'Total_customers',\n    'TOTALKWH_r': 'TOTALKWH_raw',\n    'TOTALKWH_s': 'TOTALKWH_std',\n    'AVERAGEKWH': 'AVERAGEKWH_raw',\n    'TOTALTHERM': 'TOTALTHERM_raw',\n    'AVERAGETHE': 'AVERAGETHERM_raw',\n    'TOTALCUS_1': 'TOTALCUS_std',\n    'AVERAGEK_1': 'AVERAGEKWH_std',\n    'TOTALTHE_1': 'TOTALTHERM_std',\n    'AVERAGET_1': 'AVERAGETHERM_std',\n    'Wind Spe_1': 'Wind_Speed_std',\n    'Temperat_1': 'Temperate_std',\n    'Solar Ze_1': 'Solar_Zenith_Angle_std'\n}\n\nall_data = all_data.rename(renaming_map, axis=1)",
      "execution_count": null,
      "outputs": []
    },
    {
      "cell_type": "code",
      "metadata": {
        "tags": [],
        "cell_id": "00014-f16f0830-797e-4067-a53c-ddd3f1dbd61e",
        "deepnote_to_be_reexecuted": false,
        "source_hash": "1fa25e28",
        "execution_millis": 9,
        "execution_start": 1617923276736,
        "deepnote_cell_type": "code"
      },
      "source": "all_data.columns",
      "execution_count": null,
      "outputs": [
        {
          "output_type": "execute_result",
          "execution_count": 37,
          "data": {
            "text/plain": "Index(['zip', 'city', 'state', 'latitude', 'longitude', 'timezone', 'dst',\n       'DATE', 'MONTH', 'YEAR', 'DAY', 'CUSTOMERCL', 'COMBINED',\n       'Total_customers', 'TOTALKWH_raw', 'AVERAGEKWH_raw', 'TOTALTHERM_raw',\n       'AVERAGETHERM_raw', 'GHI_raw', 'DHI_raw', 'DNI_raw', 'Wind Speed',\n       'Temperatur', 'Solar Zeni', 'TOTALCUS_std', 'TOTALKWH_std',\n       'AVERAGEKWH_std', 'TOTALTHERM_std', 'AVERAGETHERM_std', 'GHI_std',\n       'DHI_std', 'DNI_std', 'Wind_Speed_std', 'Temperate_std',\n       'Solar_Zenith_Angle_std', 'geometry'],\n      dtype='object')"
          },
          "metadata": {}
        }
      ]
    },
    {
      "cell_type": "code",
      "metadata": {
        "tags": [],
        "cell_id": "00013-b115b171-3f3e-448f-919b-44f2800f1da0",
        "deepnote_cell_type": "code"
      },
      "source": "## Trainv-validation split \nX_train, X_val, y_train, y_val = train_test_split(X_train_full,y_train_sample,test_size=0.4,\n                                                  stratify=y_train_sample,random_state=0)",
      "execution_count": null,
      "outputs": []
    },
    {
      "cell_type": "markdown",
      "source": "<a style='text-decoration:none;line-height:16px;display:flex;color:#5B5B62;padding:10px;justify-content:end;' href='https://deepnote.com?utm_source=created-in-deepnote-cell&projectId=c2f0e727-e6a4-4b2a-b180-a91c3a609ecf' target=\"_blank\">\n<img alt='Created in deepnote.com' style='display:inline;max-height:16px;margin:0px;margin-right:7.5px;' src='data:image/svg+xml;base64,PD94bWwgdmVyc2lvbj0iMS4wIiBlbmNvZGluZz0iVVRGLTgiPz4KPHN2ZyB3aWR0aD0iODBweCIgaGVpZ2h0PSI4MHB4IiB2aWV3Qm94PSIwIDAgODAgODAiIHZlcnNpb249IjEuMSIgeG1sbnM9Imh0dHA6Ly93d3cudzMub3JnLzIwMDAvc3ZnIiB4bWxuczp4bGluaz0iaHR0cDovL3d3dy53My5vcmcvMTk5OS94bGluayI+CiAgICA8IS0tIEdlbmVyYXRvcjogU2tldGNoIDU0LjEgKDc2NDkwKSAtIGh0dHBzOi8vc2tldGNoYXBwLmNvbSAtLT4KICAgIDx0aXRsZT5Hcm91cCAzPC90aXRsZT4KICAgIDxkZXNjPkNyZWF0ZWQgd2l0aCBTa2V0Y2guPC9kZXNjPgogICAgPGcgaWQ9IkxhbmRpbmciIHN0cm9rZT0ibm9uZSIgc3Ryb2tlLXdpZHRoPSIxIiBmaWxsPSJub25lIiBmaWxsLXJ1bGU9ImV2ZW5vZGQiPgogICAgICAgIDxnIGlkPSJBcnRib2FyZCIgdHJhbnNmb3JtPSJ0cmFuc2xhdGUoLTEyMzUuMDAwMDAwLCAtNzkuMDAwMDAwKSI+CiAgICAgICAgICAgIDxnIGlkPSJHcm91cC0zIiB0cmFuc2Zvcm09InRyYW5zbGF0ZSgxMjM1LjAwMDAwMCwgNzkuMDAwMDAwKSI+CiAgICAgICAgICAgICAgICA8cG9seWdvbiBpZD0iUGF0aC0yMCIgZmlsbD0iIzAyNjVCNCIgcG9pbnRzPSIyLjM3NjIzNzYyIDgwIDM4LjA0NzY2NjcgODAgNTcuODIxNzgyMiA3My44MDU3NTkyIDU3LjgyMTc4MjIgMzIuNzU5MjczOSAzOS4xNDAyMjc4IDMxLjY4MzE2ODMiPjwvcG9seWdvbj4KICAgICAgICAgICAgICAgIDxwYXRoIGQ9Ik0zNS4wMDc3MTgsODAgQzQyLjkwNjIwMDcsNzYuNDU0OTM1OCA0Ny41NjQ5MTY3LDcxLjU0MjI2NzEgNDguOTgzODY2LDY1LjI2MTk5MzkgQzUxLjExMjI4OTksNTUuODQxNTg0MiA0MS42NzcxNzk1LDQ5LjIxMjIyODQgMjUuNjIzOTg0Niw0OS4yMTIyMjg0IEMyNS40ODQ5Mjg5LDQ5LjEyNjg0NDggMjkuODI2MTI5Niw0My4yODM4MjQ4IDM4LjY0NzU4NjksMzEuNjgzMTY4MyBMNzIuODcxMjg3MSwzMi41NTQ0MjUgTDY1LjI4MDk3Myw2Ny42NzYzNDIxIEw1MS4xMTIyODk5LDc3LjM3NjE0NCBMMzUuMDA3NzE4LDgwIFoiIGlkPSJQYXRoLTIyIiBmaWxsPSIjMDAyODY4Ij48L3BhdGg+CiAgICAgICAgICAgICAgICA8cGF0aCBkPSJNMCwzNy43MzA0NDA1IEwyNy4xMTQ1MzcsMC4yNTcxMTE0MzYgQzYyLjM3MTUxMjMsLTEuOTkwNzE3MDEgODAsMTAuNTAwMzkyNyA4MCwzNy43MzA0NDA1IEM4MCw2NC45NjA0ODgyIDY0Ljc3NjUwMzgsNzkuMDUwMzQxNCAzNC4zMjk1MTEzLDgwIEM0Ny4wNTUzNDg5LDc3LjU2NzA4MDggNTMuNDE4MjY3Nyw3MC4zMTM2MTAzIDUzLjQxODI2NzcsNTguMjM5NTg4NSBDNTMuNDE4MjY3Nyw0MC4xMjg1NTU3IDM2LjMwMzk1NDQsMzcuNzMwNDQwNSAyNS4yMjc0MTcsMzcuNzMwNDQwNSBDMTcuODQzMDU4NiwzNy43MzA0NDA1IDkuNDMzOTE5NjYsMzcuNzMwNDQwNSAwLDM3LjczMDQ0MDUgWiIgaWQ9IlBhdGgtMTkiIGZpbGw9IiMzNzkzRUYiPjwvcGF0aD4KICAgICAgICAgICAgPC9nPgogICAgICAgIDwvZz4KICAgIDwvZz4KPC9zdmc+' > </img>\nCreated in <span style='font-weight:600;margin-left:4px;'>Deepnote</span></a>",
      "metadata": {
        "tags": [],
        "created_in_deepnote_cell": true,
        "deepnote_cell_type": "markdown"
      }
    }
  ],
  "nbformat": 4,
  "nbformat_minor": 2,
  "metadata": {
    "kernelspec": {
      "display_name": "Python 3",
      "language": "python",
      "name": "python3"
    },
    "language_info": {
      "codemirror_mode": {
        "name": "ipython",
        "version": 3
      },
      "file_extension": ".py",
      "mimetype": "text/x-python",
      "name": "python",
      "nbconvert_exporter": "python",
      "pygments_lexer": "ipython3",
      "version": "3.7.3"
    },
    "deepnote_notebook_id": "4d357214-d7f5-46cf-9bf8-f0e00c1c3e4e",
    "deepnote": {},
    "deepnote_execution_queue": []
  }
}